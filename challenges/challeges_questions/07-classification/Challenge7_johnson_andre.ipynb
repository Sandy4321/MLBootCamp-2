{
 "cells": [
  {
   "cell_type": "markdown",
   "metadata": {},
   "source": [
    "# Challenge Set 7 - Classification challenges"
   ]
  },
  {
   "cell_type": "code",
   "execution_count": 28,
   "metadata": {},
   "outputs": [
    {
     "name": "stderr",
     "output_type": "stream",
     "text": [
      "C:\\Users\\aj282_000\\Anaconda3\\lib\\site-packages\\statsmodels\\compat\\pandas.py:56: FutureWarning: The pandas.core.datetools module is deprecated and will be removed in a future version. Please use the pandas.tseries module instead.\n",
      "  from pandas.core import datetools\n"
     ]
    }
   ],
   "source": [
    "import pandas as pd\n",
    "import html5lib\n",
    "import numpy as np\n",
    "import matplotlib.pyplot as plt\n",
    "# import seaborn as sns\n",
    "import dateutil\n",
    "\n",
    "from sklearn.model_selection import train_test_split\n",
    "#from sklearn.cross_validation import train_test_split\n",
    "\n",
    "from sklearn.linear_model import LinearRegression\n",
    "\n",
    "%matplotlib inline\n",
    "\n",
    "from sklearn.metrics import r2_score\n",
    "\n",
    "import statsmodels.api as sm\n",
    "\n",
    "import seaborn as sns"
   ]
  },
  {
   "cell_type": "markdown",
   "metadata": {},
   "source": [
    "#### Challenge 1"
   ]
  },
  {
   "cell_type": "code",
   "execution_count": null,
   "metadata": {
    "collapsed": true
   },
   "outputs": [],
   "source": [
    "df = pd.read_csv(\"C:/Users/aj282/OneDrive/thisismetis/sf17_ds8_workingdirectory/challenges/challeges_questions/07-classification/house-votes-84.data\", header=None)"
   ]
  },
  {
   "cell_type": "code",
   "execution_count": 3,
   "metadata": {
    "collapsed": true
   },
   "outputs": [],
   "source": [
    "df = pd.read_csv(\"C:/Users/aj282_000/OneDrive/thisismetis/sf17_ds8_workingdirectory/challenges/challeges_questions/07-classification/house-votes-84.data\", header=None)"
   ]
  },
  {
   "cell_type": "code",
   "execution_count": 4,
   "metadata": {
    "collapsed": true
   },
   "outputs": [],
   "source": [
    "df.columns = ['Party', 'Vote1', 'Vote2', 'Vote3', 'Vote4','Vote5','Vote6','Vote7','Vote8','Vote9','Vote10','Vote11','Vote12','Vote13','Vote14','Vote15', 'Vote16']"
   ]
  },
  {
   "cell_type": "code",
   "execution_count": 5,
   "metadata": {},
   "outputs": [
    {
     "data": {
      "text/html": [
       "<div>\n",
       "<style>\n",
       "    .dataframe thead tr:only-child th {\n",
       "        text-align: right;\n",
       "    }\n",
       "\n",
       "    .dataframe thead th {\n",
       "        text-align: left;\n",
       "    }\n",
       "\n",
       "    .dataframe tbody tr th {\n",
       "        vertical-align: top;\n",
       "    }\n",
       "</style>\n",
       "<table border=\"1\" class=\"dataframe\">\n",
       "  <thead>\n",
       "    <tr style=\"text-align: right;\">\n",
       "      <th></th>\n",
       "      <th>Party</th>\n",
       "      <th>Vote1</th>\n",
       "      <th>Vote2</th>\n",
       "      <th>Vote3</th>\n",
       "      <th>Vote4</th>\n",
       "      <th>Vote5</th>\n",
       "      <th>Vote6</th>\n",
       "      <th>Vote7</th>\n",
       "      <th>Vote8</th>\n",
       "      <th>Vote9</th>\n",
       "      <th>Vote10</th>\n",
       "      <th>Vote11</th>\n",
       "      <th>Vote12</th>\n",
       "      <th>Vote13</th>\n",
       "      <th>Vote14</th>\n",
       "      <th>Vote15</th>\n",
       "      <th>Vote16</th>\n",
       "    </tr>\n",
       "  </thead>\n",
       "  <tbody>\n",
       "    <tr>\n",
       "      <th>0</th>\n",
       "      <td>republican</td>\n",
       "      <td>n</td>\n",
       "      <td>y</td>\n",
       "      <td>n</td>\n",
       "      <td>y</td>\n",
       "      <td>y</td>\n",
       "      <td>y</td>\n",
       "      <td>n</td>\n",
       "      <td>n</td>\n",
       "      <td>n</td>\n",
       "      <td>y</td>\n",
       "      <td>?</td>\n",
       "      <td>y</td>\n",
       "      <td>y</td>\n",
       "      <td>y</td>\n",
       "      <td>n</td>\n",
       "      <td>y</td>\n",
       "    </tr>\n",
       "    <tr>\n",
       "      <th>1</th>\n",
       "      <td>republican</td>\n",
       "      <td>n</td>\n",
       "      <td>y</td>\n",
       "      <td>n</td>\n",
       "      <td>y</td>\n",
       "      <td>y</td>\n",
       "      <td>y</td>\n",
       "      <td>n</td>\n",
       "      <td>n</td>\n",
       "      <td>n</td>\n",
       "      <td>n</td>\n",
       "      <td>n</td>\n",
       "      <td>y</td>\n",
       "      <td>y</td>\n",
       "      <td>y</td>\n",
       "      <td>n</td>\n",
       "      <td>?</td>\n",
       "    </tr>\n",
       "    <tr>\n",
       "      <th>2</th>\n",
       "      <td>democrat</td>\n",
       "      <td>?</td>\n",
       "      <td>y</td>\n",
       "      <td>y</td>\n",
       "      <td>?</td>\n",
       "      <td>y</td>\n",
       "      <td>y</td>\n",
       "      <td>n</td>\n",
       "      <td>n</td>\n",
       "      <td>n</td>\n",
       "      <td>n</td>\n",
       "      <td>y</td>\n",
       "      <td>n</td>\n",
       "      <td>y</td>\n",
       "      <td>y</td>\n",
       "      <td>n</td>\n",
       "      <td>n</td>\n",
       "    </tr>\n",
       "    <tr>\n",
       "      <th>3</th>\n",
       "      <td>democrat</td>\n",
       "      <td>n</td>\n",
       "      <td>y</td>\n",
       "      <td>y</td>\n",
       "      <td>n</td>\n",
       "      <td>?</td>\n",
       "      <td>y</td>\n",
       "      <td>n</td>\n",
       "      <td>n</td>\n",
       "      <td>n</td>\n",
       "      <td>n</td>\n",
       "      <td>y</td>\n",
       "      <td>n</td>\n",
       "      <td>y</td>\n",
       "      <td>n</td>\n",
       "      <td>n</td>\n",
       "      <td>y</td>\n",
       "    </tr>\n",
       "    <tr>\n",
       "      <th>4</th>\n",
       "      <td>democrat</td>\n",
       "      <td>y</td>\n",
       "      <td>y</td>\n",
       "      <td>y</td>\n",
       "      <td>n</td>\n",
       "      <td>y</td>\n",
       "      <td>y</td>\n",
       "      <td>n</td>\n",
       "      <td>n</td>\n",
       "      <td>n</td>\n",
       "      <td>n</td>\n",
       "      <td>y</td>\n",
       "      <td>?</td>\n",
       "      <td>y</td>\n",
       "      <td>y</td>\n",
       "      <td>y</td>\n",
       "      <td>y</td>\n",
       "    </tr>\n",
       "  </tbody>\n",
       "</table>\n",
       "</div>"
      ],
      "text/plain": [
       "        Party Vote1 Vote2 Vote3 Vote4 Vote5 Vote6 Vote7 Vote8 Vote9 Vote10  \\\n",
       "0  republican     n     y     n     y     y     y     n     n     n      y   \n",
       "1  republican     n     y     n     y     y     y     n     n     n      n   \n",
       "2    democrat     ?     y     y     ?     y     y     n     n     n      n   \n",
       "3    democrat     n     y     y     n     ?     y     n     n     n      n   \n",
       "4    democrat     y     y     y     n     y     y     n     n     n      n   \n",
       "\n",
       "  Vote11 Vote12 Vote13 Vote14 Vote15 Vote16  \n",
       "0      ?      y      y      y      n      y  \n",
       "1      n      y      y      y      n      ?  \n",
       "2      y      n      y      y      n      n  \n",
       "3      y      n      y      n      n      y  \n",
       "4      y      ?      y      y      y      y  "
      ]
     },
     "execution_count": 5,
     "metadata": {},
     "output_type": "execute_result"
    }
   ],
   "source": [
    "df.head()"
   ]
  },
  {
   "cell_type": "code",
   "execution_count": 6,
   "metadata": {
    "collapsed": true
   },
   "outputs": [],
   "source": [
    "# from pandas import *\n",
    "# import re\n",
    "\n",
    "# at = re.compile(r\"y\", re.I)\n",
    "# def count_emails(string):\n",
    "#     count = 0\n",
    "#     for i in at.finditer(string):\n",
    "#         count += 1\n",
    "#     return count\n",
    "\n",
    "# df[\"count\"] = df.loc[1:].apply(count_emails)\n"
   ]
  },
  {
   "cell_type": "code",
   "execution_count": 7,
   "metadata": {
    "collapsed": true
   },
   "outputs": [],
   "source": [
    "for i in range(1,len(df.columns)):\n",
    "    df.iloc[:,i] = df.iloc[:,i].map({'n': 0, 'y': 1})"
   ]
  },
  {
   "cell_type": "code",
   "execution_count": 8,
   "metadata": {},
   "outputs": [
    {
     "data": {
      "text/html": [
       "<div>\n",
       "<style>\n",
       "    .dataframe thead tr:only-child th {\n",
       "        text-align: right;\n",
       "    }\n",
       "\n",
       "    .dataframe thead th {\n",
       "        text-align: left;\n",
       "    }\n",
       "\n",
       "    .dataframe tbody tr th {\n",
       "        vertical-align: top;\n",
       "    }\n",
       "</style>\n",
       "<table border=\"1\" class=\"dataframe\">\n",
       "  <thead>\n",
       "    <tr style=\"text-align: right;\">\n",
       "      <th></th>\n",
       "      <th>Party</th>\n",
       "      <th>Vote1</th>\n",
       "      <th>Vote2</th>\n",
       "      <th>Vote3</th>\n",
       "      <th>Vote4</th>\n",
       "      <th>Vote5</th>\n",
       "      <th>Vote6</th>\n",
       "      <th>Vote7</th>\n",
       "      <th>Vote8</th>\n",
       "      <th>Vote9</th>\n",
       "      <th>Vote10</th>\n",
       "      <th>Vote11</th>\n",
       "      <th>Vote12</th>\n",
       "      <th>Vote13</th>\n",
       "      <th>Vote14</th>\n",
       "      <th>Vote15</th>\n",
       "      <th>Vote16</th>\n",
       "    </tr>\n",
       "  </thead>\n",
       "  <tbody>\n",
       "    <tr>\n",
       "      <th>0</th>\n",
       "      <td>republican</td>\n",
       "      <td>0.0</td>\n",
       "      <td>1.0</td>\n",
       "      <td>0.0</td>\n",
       "      <td>1.0</td>\n",
       "      <td>1.0</td>\n",
       "      <td>1.0</td>\n",
       "      <td>0.0</td>\n",
       "      <td>0.0</td>\n",
       "      <td>0.0</td>\n",
       "      <td>1.0</td>\n",
       "      <td>NaN</td>\n",
       "      <td>1.0</td>\n",
       "      <td>1.0</td>\n",
       "      <td>1.0</td>\n",
       "      <td>0.0</td>\n",
       "      <td>1.0</td>\n",
       "    </tr>\n",
       "    <tr>\n",
       "      <th>1</th>\n",
       "      <td>republican</td>\n",
       "      <td>0.0</td>\n",
       "      <td>1.0</td>\n",
       "      <td>0.0</td>\n",
       "      <td>1.0</td>\n",
       "      <td>1.0</td>\n",
       "      <td>1.0</td>\n",
       "      <td>0.0</td>\n",
       "      <td>0.0</td>\n",
       "      <td>0.0</td>\n",
       "      <td>0.0</td>\n",
       "      <td>0.0</td>\n",
       "      <td>1.0</td>\n",
       "      <td>1.0</td>\n",
       "      <td>1.0</td>\n",
       "      <td>0.0</td>\n",
       "      <td>NaN</td>\n",
       "    </tr>\n",
       "    <tr>\n",
       "      <th>2</th>\n",
       "      <td>democrat</td>\n",
       "      <td>NaN</td>\n",
       "      <td>1.0</td>\n",
       "      <td>1.0</td>\n",
       "      <td>NaN</td>\n",
       "      <td>1.0</td>\n",
       "      <td>1.0</td>\n",
       "      <td>0.0</td>\n",
       "      <td>0.0</td>\n",
       "      <td>0.0</td>\n",
       "      <td>0.0</td>\n",
       "      <td>1.0</td>\n",
       "      <td>0.0</td>\n",
       "      <td>1.0</td>\n",
       "      <td>1.0</td>\n",
       "      <td>0.0</td>\n",
       "      <td>0.0</td>\n",
       "    </tr>\n",
       "    <tr>\n",
       "      <th>3</th>\n",
       "      <td>democrat</td>\n",
       "      <td>0.0</td>\n",
       "      <td>1.0</td>\n",
       "      <td>1.0</td>\n",
       "      <td>0.0</td>\n",
       "      <td>NaN</td>\n",
       "      <td>1.0</td>\n",
       "      <td>0.0</td>\n",
       "      <td>0.0</td>\n",
       "      <td>0.0</td>\n",
       "      <td>0.0</td>\n",
       "      <td>1.0</td>\n",
       "      <td>0.0</td>\n",
       "      <td>1.0</td>\n",
       "      <td>0.0</td>\n",
       "      <td>0.0</td>\n",
       "      <td>1.0</td>\n",
       "    </tr>\n",
       "    <tr>\n",
       "      <th>4</th>\n",
       "      <td>democrat</td>\n",
       "      <td>1.0</td>\n",
       "      <td>1.0</td>\n",
       "      <td>1.0</td>\n",
       "      <td>0.0</td>\n",
       "      <td>1.0</td>\n",
       "      <td>1.0</td>\n",
       "      <td>0.0</td>\n",
       "      <td>0.0</td>\n",
       "      <td>0.0</td>\n",
       "      <td>0.0</td>\n",
       "      <td>1.0</td>\n",
       "      <td>NaN</td>\n",
       "      <td>1.0</td>\n",
       "      <td>1.0</td>\n",
       "      <td>1.0</td>\n",
       "      <td>1.0</td>\n",
       "    </tr>\n",
       "    <tr>\n",
       "      <th>5</th>\n",
       "      <td>democrat</td>\n",
       "      <td>0.0</td>\n",
       "      <td>1.0</td>\n",
       "      <td>1.0</td>\n",
       "      <td>0.0</td>\n",
       "      <td>1.0</td>\n",
       "      <td>1.0</td>\n",
       "      <td>0.0</td>\n",
       "      <td>0.0</td>\n",
       "      <td>0.0</td>\n",
       "      <td>0.0</td>\n",
       "      <td>0.0</td>\n",
       "      <td>0.0</td>\n",
       "      <td>1.0</td>\n",
       "      <td>1.0</td>\n",
       "      <td>1.0</td>\n",
       "      <td>1.0</td>\n",
       "    </tr>\n",
       "    <tr>\n",
       "      <th>6</th>\n",
       "      <td>democrat</td>\n",
       "      <td>0.0</td>\n",
       "      <td>1.0</td>\n",
       "      <td>0.0</td>\n",
       "      <td>1.0</td>\n",
       "      <td>1.0</td>\n",
       "      <td>1.0</td>\n",
       "      <td>0.0</td>\n",
       "      <td>0.0</td>\n",
       "      <td>0.0</td>\n",
       "      <td>0.0</td>\n",
       "      <td>0.0</td>\n",
       "      <td>0.0</td>\n",
       "      <td>NaN</td>\n",
       "      <td>1.0</td>\n",
       "      <td>1.0</td>\n",
       "      <td>1.0</td>\n",
       "    </tr>\n",
       "    <tr>\n",
       "      <th>7</th>\n",
       "      <td>republican</td>\n",
       "      <td>0.0</td>\n",
       "      <td>1.0</td>\n",
       "      <td>0.0</td>\n",
       "      <td>1.0</td>\n",
       "      <td>1.0</td>\n",
       "      <td>1.0</td>\n",
       "      <td>0.0</td>\n",
       "      <td>0.0</td>\n",
       "      <td>0.0</td>\n",
       "      <td>0.0</td>\n",
       "      <td>0.0</td>\n",
       "      <td>0.0</td>\n",
       "      <td>1.0</td>\n",
       "      <td>1.0</td>\n",
       "      <td>NaN</td>\n",
       "      <td>1.0</td>\n",
       "    </tr>\n",
       "    <tr>\n",
       "      <th>8</th>\n",
       "      <td>republican</td>\n",
       "      <td>0.0</td>\n",
       "      <td>1.0</td>\n",
       "      <td>0.0</td>\n",
       "      <td>1.0</td>\n",
       "      <td>1.0</td>\n",
       "      <td>1.0</td>\n",
       "      <td>0.0</td>\n",
       "      <td>0.0</td>\n",
       "      <td>0.0</td>\n",
       "      <td>0.0</td>\n",
       "      <td>0.0</td>\n",
       "      <td>1.0</td>\n",
       "      <td>1.0</td>\n",
       "      <td>1.0</td>\n",
       "      <td>0.0</td>\n",
       "      <td>1.0</td>\n",
       "    </tr>\n",
       "    <tr>\n",
       "      <th>9</th>\n",
       "      <td>democrat</td>\n",
       "      <td>1.0</td>\n",
       "      <td>1.0</td>\n",
       "      <td>1.0</td>\n",
       "      <td>0.0</td>\n",
       "      <td>0.0</td>\n",
       "      <td>0.0</td>\n",
       "      <td>1.0</td>\n",
       "      <td>1.0</td>\n",
       "      <td>1.0</td>\n",
       "      <td>0.0</td>\n",
       "      <td>0.0</td>\n",
       "      <td>0.0</td>\n",
       "      <td>0.0</td>\n",
       "      <td>0.0</td>\n",
       "      <td>NaN</td>\n",
       "      <td>NaN</td>\n",
       "    </tr>\n",
       "  </tbody>\n",
       "</table>\n",
       "</div>"
      ],
      "text/plain": [
       "        Party  Vote1  Vote2  Vote3  Vote4  Vote5  Vote6  Vote7  Vote8  Vote9  \\\n",
       "0  republican    0.0    1.0    0.0    1.0    1.0    1.0    0.0    0.0    0.0   \n",
       "1  republican    0.0    1.0    0.0    1.0    1.0    1.0    0.0    0.0    0.0   \n",
       "2    democrat    NaN    1.0    1.0    NaN    1.0    1.0    0.0    0.0    0.0   \n",
       "3    democrat    0.0    1.0    1.0    0.0    NaN    1.0    0.0    0.0    0.0   \n",
       "4    democrat    1.0    1.0    1.0    0.0    1.0    1.0    0.0    0.0    0.0   \n",
       "5    democrat    0.0    1.0    1.0    0.0    1.0    1.0    0.0    0.0    0.0   \n",
       "6    democrat    0.0    1.0    0.0    1.0    1.0    1.0    0.0    0.0    0.0   \n",
       "7  republican    0.0    1.0    0.0    1.0    1.0    1.0    0.0    0.0    0.0   \n",
       "8  republican    0.0    1.0    0.0    1.0    1.0    1.0    0.0    0.0    0.0   \n",
       "9    democrat    1.0    1.0    1.0    0.0    0.0    0.0    1.0    1.0    1.0   \n",
       "\n",
       "   Vote10  Vote11  Vote12  Vote13  Vote14  Vote15  Vote16  \n",
       "0     1.0     NaN     1.0     1.0     1.0     0.0     1.0  \n",
       "1     0.0     0.0     1.0     1.0     1.0     0.0     NaN  \n",
       "2     0.0     1.0     0.0     1.0     1.0     0.0     0.0  \n",
       "3     0.0     1.0     0.0     1.0     0.0     0.0     1.0  \n",
       "4     0.0     1.0     NaN     1.0     1.0     1.0     1.0  \n",
       "5     0.0     0.0     0.0     1.0     1.0     1.0     1.0  \n",
       "6     0.0     0.0     0.0     NaN     1.0     1.0     1.0  \n",
       "7     0.0     0.0     0.0     1.0     1.0     NaN     1.0  \n",
       "8     0.0     0.0     1.0     1.0     1.0     0.0     1.0  \n",
       "9     0.0     0.0     0.0     0.0     0.0     NaN     NaN  "
      ]
     },
     "execution_count": 8,
     "metadata": {},
     "output_type": "execute_result"
    }
   ],
   "source": [
    "df.head(10)"
   ]
  },
  {
   "cell_type": "code",
   "execution_count": 9,
   "metadata": {
    "collapsed": true
   },
   "outputs": [],
   "source": [
    "# df['mean'] = df.mean(axis=1)"
   ]
  },
  {
   "cell_type": "code",
   "execution_count": 10,
   "metadata": {
    "collapsed": true
   },
   "outputs": [],
   "source": [
    "for i in range(1,len(df.columns)):\n",
    "    mean = df.iloc[:,i].mean()\n",
    "    std = df.iloc[:,i].std()\n",
    "    normaldist = np.random.normal(mean, std, 1000)\n",
    "    s = int(np.random.choice(normaldist, 1))\n",
    "    df.iloc[:,i].fillna(s, inplace=True)"
   ]
  },
  {
   "cell_type": "code",
   "execution_count": 11,
   "metadata": {},
   "outputs": [
    {
     "data": {
      "text/html": [
       "<div>\n",
       "<style>\n",
       "    .dataframe thead tr:only-child th {\n",
       "        text-align: right;\n",
       "    }\n",
       "\n",
       "    .dataframe thead th {\n",
       "        text-align: left;\n",
       "    }\n",
       "\n",
       "    .dataframe tbody tr th {\n",
       "        vertical-align: top;\n",
       "    }\n",
       "</style>\n",
       "<table border=\"1\" class=\"dataframe\">\n",
       "  <thead>\n",
       "    <tr style=\"text-align: right;\">\n",
       "      <th></th>\n",
       "      <th>Party</th>\n",
       "      <th>Vote1</th>\n",
       "      <th>Vote2</th>\n",
       "      <th>Vote3</th>\n",
       "      <th>Vote4</th>\n",
       "      <th>Vote5</th>\n",
       "      <th>Vote6</th>\n",
       "      <th>Vote7</th>\n",
       "      <th>Vote8</th>\n",
       "      <th>Vote9</th>\n",
       "      <th>Vote10</th>\n",
       "      <th>Vote11</th>\n",
       "      <th>Vote12</th>\n",
       "      <th>Vote13</th>\n",
       "      <th>Vote14</th>\n",
       "      <th>Vote15</th>\n",
       "      <th>Vote16</th>\n",
       "    </tr>\n",
       "  </thead>\n",
       "  <tbody>\n",
       "    <tr>\n",
       "      <th>0</th>\n",
       "      <td>republican</td>\n",
       "      <td>0.0</td>\n",
       "      <td>1.0</td>\n",
       "      <td>0.0</td>\n",
       "      <td>1.0</td>\n",
       "      <td>1.0</td>\n",
       "      <td>1.0</td>\n",
       "      <td>0.0</td>\n",
       "      <td>0.0</td>\n",
       "      <td>0.0</td>\n",
       "      <td>1.0</td>\n",
       "      <td>0.0</td>\n",
       "      <td>1.0</td>\n",
       "      <td>1.0</td>\n",
       "      <td>1.0</td>\n",
       "      <td>0.0</td>\n",
       "      <td>1.0</td>\n",
       "    </tr>\n",
       "    <tr>\n",
       "      <th>1</th>\n",
       "      <td>republican</td>\n",
       "      <td>0.0</td>\n",
       "      <td>1.0</td>\n",
       "      <td>0.0</td>\n",
       "      <td>1.0</td>\n",
       "      <td>1.0</td>\n",
       "      <td>1.0</td>\n",
       "      <td>0.0</td>\n",
       "      <td>0.0</td>\n",
       "      <td>0.0</td>\n",
       "      <td>0.0</td>\n",
       "      <td>0.0</td>\n",
       "      <td>1.0</td>\n",
       "      <td>1.0</td>\n",
       "      <td>1.0</td>\n",
       "      <td>0.0</td>\n",
       "      <td>0.0</td>\n",
       "    </tr>\n",
       "    <tr>\n",
       "      <th>2</th>\n",
       "      <td>democrat</td>\n",
       "      <td>0.0</td>\n",
       "      <td>1.0</td>\n",
       "      <td>1.0</td>\n",
       "      <td>0.0</td>\n",
       "      <td>1.0</td>\n",
       "      <td>1.0</td>\n",
       "      <td>0.0</td>\n",
       "      <td>0.0</td>\n",
       "      <td>0.0</td>\n",
       "      <td>0.0</td>\n",
       "      <td>1.0</td>\n",
       "      <td>0.0</td>\n",
       "      <td>1.0</td>\n",
       "      <td>1.0</td>\n",
       "      <td>0.0</td>\n",
       "      <td>0.0</td>\n",
       "    </tr>\n",
       "    <tr>\n",
       "      <th>3</th>\n",
       "      <td>democrat</td>\n",
       "      <td>0.0</td>\n",
       "      <td>1.0</td>\n",
       "      <td>1.0</td>\n",
       "      <td>0.0</td>\n",
       "      <td>0.0</td>\n",
       "      <td>1.0</td>\n",
       "      <td>0.0</td>\n",
       "      <td>0.0</td>\n",
       "      <td>0.0</td>\n",
       "      <td>0.0</td>\n",
       "      <td>1.0</td>\n",
       "      <td>0.0</td>\n",
       "      <td>1.0</td>\n",
       "      <td>0.0</td>\n",
       "      <td>0.0</td>\n",
       "      <td>1.0</td>\n",
       "    </tr>\n",
       "    <tr>\n",
       "      <th>4</th>\n",
       "      <td>democrat</td>\n",
       "      <td>1.0</td>\n",
       "      <td>1.0</td>\n",
       "      <td>1.0</td>\n",
       "      <td>0.0</td>\n",
       "      <td>1.0</td>\n",
       "      <td>1.0</td>\n",
       "      <td>0.0</td>\n",
       "      <td>0.0</td>\n",
       "      <td>0.0</td>\n",
       "      <td>0.0</td>\n",
       "      <td>1.0</td>\n",
       "      <td>0.0</td>\n",
       "      <td>1.0</td>\n",
       "      <td>1.0</td>\n",
       "      <td>1.0</td>\n",
       "      <td>1.0</td>\n",
       "    </tr>\n",
       "  </tbody>\n",
       "</table>\n",
       "</div>"
      ],
      "text/plain": [
       "        Party  Vote1  Vote2  Vote3  Vote4  Vote5  Vote6  Vote7  Vote8  Vote9  \\\n",
       "0  republican    0.0    1.0    0.0    1.0    1.0    1.0    0.0    0.0    0.0   \n",
       "1  republican    0.0    1.0    0.0    1.0    1.0    1.0    0.0    0.0    0.0   \n",
       "2    democrat    0.0    1.0    1.0    0.0    1.0    1.0    0.0    0.0    0.0   \n",
       "3    democrat    0.0    1.0    1.0    0.0    0.0    1.0    0.0    0.0    0.0   \n",
       "4    democrat    1.0    1.0    1.0    0.0    1.0    1.0    0.0    0.0    0.0   \n",
       "\n",
       "   Vote10  Vote11  Vote12  Vote13  Vote14  Vote15  Vote16  \n",
       "0     1.0     0.0     1.0     1.0     1.0     0.0     1.0  \n",
       "1     0.0     0.0     1.0     1.0     1.0     0.0     0.0  \n",
       "2     0.0     1.0     0.0     1.0     1.0     0.0     0.0  \n",
       "3     0.0     1.0     0.0     1.0     0.0     0.0     1.0  \n",
       "4     0.0     1.0     0.0     1.0     1.0     1.0     1.0  "
      ]
     },
     "execution_count": 11,
     "metadata": {},
     "output_type": "execute_result"
    }
   ],
   "source": [
    "df.head()"
   ]
  },
  {
   "cell_type": "code",
   "execution_count": 12,
   "metadata": {
    "collapsed": true
   },
   "outputs": [],
   "source": [
    "# nulldata = df['n'].isnull()\n",
    "# mean = df['n'].mean()\n",
    "# df.loc[nulldata] = df.dropna().sample(mean).values"
   ]
  },
  {
   "cell_type": "code",
   "execution_count": 13,
   "metadata": {
    "collapsed": true
   },
   "outputs": [],
   "source": [
    "# df['mean'] = df.loc[1:].apply(lambda x: x.sum if x != NaN )"
   ]
  },
  {
   "cell_type": "code",
   "execution_count": 14,
   "metadata": {
    "collapsed": true
   },
   "outputs": [],
   "source": [
    "# df['mean'] = df[['n', 'y', 'n.1', 'y.1', 'y.2', 'y.3', 'n.2', 'n.3', 'n.4', 'y.4', '?', 'y.5', 'y.6', 'y.7', 'n.5', 'y.8']].applymap(lambda x: str.count(x, 'y')).apply(lambda x: sum(x))\n",
    "# #d2', 'n.3', 'n.4', 'y.4', '?', 'y.5', 'y.6', 'y.7', 'n.5', 'y.8']"
   ]
  },
  {
   "cell_type": "code",
   "execution_count": 15,
   "metadata": {
    "collapsed": true
   },
   "outputs": [],
   "source": [
    "#df['.iloc'][:,1:] = df.iloc[:,1:].T.fillna(df.iloc[:,1:].mean(axis=1), axis=1).T"
   ]
  },
  {
   "cell_type": "code",
   "execution_count": 16,
   "metadata": {
    "collapsed": true
   },
   "outputs": [],
   "source": [
    "X =  df.iloc[:,1:]\n",
    "y = df['Party']"
   ]
  },
  {
   "cell_type": "markdown",
   "metadata": {},
   "source": [
    "#### Challenge 2"
   ]
  },
  {
   "cell_type": "code",
   "execution_count": 17,
   "metadata": {
    "collapsed": true
   },
   "outputs": [],
   "source": [
    "X_train, X_test, y_train, y_test = train_test_split(X, y, test_size=0.3,random_state=4444)"
   ]
  },
  {
   "cell_type": "code",
   "execution_count": 18,
   "metadata": {
    "collapsed": true
   },
   "outputs": [],
   "source": [
    "X2 = np.linspace(0,20, 20)\n",
    "\n",
    "results = pd.DataFrame()  #columns=['Iteration', 'TrainingError', 'TestingError']\n",
    "\n",
    "results['K'] = X2\n",
    "results['Accuracy'] = X2\n"
   ]
  },
  {
   "cell_type": "markdown",
   "metadata": {},
   "source": [
    "#### Challenge 3"
   ]
  },
  {
   "cell_type": "code",
   "execution_count": 19,
   "metadata": {
    "collapsed": true
   },
   "outputs": [],
   "source": [
    "from sklearn.neighbors import KNeighborsClassifier\n",
    "from sklearn.metrics import accuracy_score\n",
    "\n",
    "for k in range(1,20):\n",
    "    \n",
    "    knc_model = KNeighborsClassifier(n_neighbors=k)\n",
    "    knc_model.fit(X_train,y_train)\n",
    "    test_set_pred = knc_model.predict(X_test)\n",
    "    acc_score = accuracy_score(y_test, test_set_pred)\n",
    "\n",
    "    results['K'][k] = k\n",
    "    results['Accuracy'][k] = acc_score\n",
    "    "
   ]
  },
  {
   "cell_type": "code",
   "execution_count": 20,
   "metadata": {},
   "outputs": [
    {
     "data": {
      "text/html": [
       "<div>\n",
       "<style>\n",
       "    .dataframe thead tr:only-child th {\n",
       "        text-align: right;\n",
       "    }\n",
       "\n",
       "    .dataframe thead th {\n",
       "        text-align: left;\n",
       "    }\n",
       "\n",
       "    .dataframe tbody tr th {\n",
       "        vertical-align: top;\n",
       "    }\n",
       "</style>\n",
       "<table border=\"1\" class=\"dataframe\">\n",
       "  <thead>\n",
       "    <tr style=\"text-align: right;\">\n",
       "      <th></th>\n",
       "      <th>K</th>\n",
       "      <th>Accuracy</th>\n",
       "    </tr>\n",
       "  </thead>\n",
       "  <tbody>\n",
       "    <tr>\n",
       "      <th>3</th>\n",
       "      <td>3.0</td>\n",
       "      <td>0.923664</td>\n",
       "    </tr>\n",
       "    <tr>\n",
       "      <th>4</th>\n",
       "      <td>4.0</td>\n",
       "      <td>0.923664</td>\n",
       "    </tr>\n",
       "    <tr>\n",
       "      <th>6</th>\n",
       "      <td>6.0</td>\n",
       "      <td>0.923664</td>\n",
       "    </tr>\n",
       "    <tr>\n",
       "      <th>7</th>\n",
       "      <td>7.0</td>\n",
       "      <td>0.923664</td>\n",
       "    </tr>\n",
       "    <tr>\n",
       "      <th>8</th>\n",
       "      <td>8.0</td>\n",
       "      <td>0.923664</td>\n",
       "    </tr>\n",
       "  </tbody>\n",
       "</table>\n",
       "</div>"
      ],
      "text/plain": [
       "     K  Accuracy\n",
       "3  3.0  0.923664\n",
       "4  4.0  0.923664\n",
       "6  6.0  0.923664\n",
       "7  7.0  0.923664\n",
       "8  8.0  0.923664"
      ]
     },
     "execution_count": 20,
     "metadata": {},
     "output_type": "execute_result"
    }
   ],
   "source": [
    "results[results['Accuracy'] == results['Accuracy'].max()]"
   ]
  },
  {
   "cell_type": "markdown",
   "metadata": {},
   "source": [
    "#### Challenge 4"
   ]
  },
  {
   "cell_type": "code",
   "execution_count": 21,
   "metadata": {
    "collapsed": true
   },
   "outputs": [],
   "source": [
    "X2 = np.linspace(0,20, 20)\n",
    "l2 = np.linspace(.1,2.0, 20)\n",
    "\n",
    "results2 = pd.DataFrame()  #columns=['Iteration', 'TrainingError', 'TestingError']\n",
    "\n",
    "results2['l2'] = X2\n",
    "results2['Accuracy'] = X2"
   ]
  },
  {
   "cell_type": "code",
   "execution_count": 22,
   "metadata": {},
   "outputs": [
    {
     "data": {
      "text/plain": [
       "0.93129770992366412"
      ]
     },
     "execution_count": 22,
     "metadata": {},
     "output_type": "execute_result"
    }
   ],
   "source": [
    "from sklearn import linear_model\n",
    "from sklearn.linear_model import LogisticRegression\n",
    "from sklearn.metrics import accuracy_score\n",
    "\n",
    "# for i, l in enumerate(results2['l2']):\n",
    "    \n",
    "lr_model = LogisticRegression()\n",
    "lr_model.fit(X_train,y_train)\n",
    "test_set_pred = lr_model.predict(X_test)\n",
    "acc_score = accuracy_score(y_test, test_set_pred)\n",
    "\n",
    "\n",
    "acc_score"
   ]
  },
  {
   "cell_type": "markdown",
   "metadata": {},
   "source": [
    "#### Challenge 5"
   ]
  },
  {
   "cell_type": "code",
   "execution_count": 23,
   "metadata": {},
   "outputs": [
    {
     "data": {
      "text/html": [
       "<div>\n",
       "<style>\n",
       "    .dataframe thead tr:only-child th {\n",
       "        text-align: right;\n",
       "    }\n",
       "\n",
       "    .dataframe thead th {\n",
       "        text-align: left;\n",
       "    }\n",
       "\n",
       "    .dataframe tbody tr th {\n",
       "        vertical-align: top;\n",
       "    }\n",
       "</style>\n",
       "<table border=\"1\" class=\"dataframe\">\n",
       "  <thead>\n",
       "    <tr style=\"text-align: right;\">\n",
       "      <th></th>\n",
       "      <th>Vote1</th>\n",
       "      <th>Vote2</th>\n",
       "      <th>Vote3</th>\n",
       "      <th>Vote4</th>\n",
       "      <th>Vote5</th>\n",
       "      <th>Vote6</th>\n",
       "      <th>Vote7</th>\n",
       "      <th>Vote8</th>\n",
       "      <th>Vote9</th>\n",
       "      <th>Vote10</th>\n",
       "      <th>Vote11</th>\n",
       "      <th>Vote12</th>\n",
       "      <th>Vote13</th>\n",
       "      <th>Vote14</th>\n",
       "      <th>Vote15</th>\n",
       "      <th>Vote16</th>\n",
       "    </tr>\n",
       "    <tr>\n",
       "      <th>Party</th>\n",
       "      <th></th>\n",
       "      <th></th>\n",
       "      <th></th>\n",
       "      <th></th>\n",
       "      <th></th>\n",
       "      <th></th>\n",
       "      <th></th>\n",
       "      <th></th>\n",
       "      <th></th>\n",
       "      <th></th>\n",
       "      <th></th>\n",
       "      <th></th>\n",
       "      <th></th>\n",
       "      <th></th>\n",
       "      <th></th>\n",
       "      <th></th>\n",
       "    </tr>\n",
       "  </thead>\n",
       "  <tbody>\n",
       "    <tr>\n",
       "      <th>democrat</th>\n",
       "      <td>267</td>\n",
       "      <td>267</td>\n",
       "      <td>267</td>\n",
       "      <td>267</td>\n",
       "      <td>267</td>\n",
       "      <td>267</td>\n",
       "      <td>267</td>\n",
       "      <td>267</td>\n",
       "      <td>267</td>\n",
       "      <td>267</td>\n",
       "      <td>267</td>\n",
       "      <td>267</td>\n",
       "      <td>267</td>\n",
       "      <td>267</td>\n",
       "      <td>267</td>\n",
       "      <td>267</td>\n",
       "    </tr>\n",
       "    <tr>\n",
       "      <th>republican</th>\n",
       "      <td>168</td>\n",
       "      <td>168</td>\n",
       "      <td>168</td>\n",
       "      <td>168</td>\n",
       "      <td>168</td>\n",
       "      <td>168</td>\n",
       "      <td>168</td>\n",
       "      <td>168</td>\n",
       "      <td>168</td>\n",
       "      <td>168</td>\n",
       "      <td>168</td>\n",
       "      <td>168</td>\n",
       "      <td>168</td>\n",
       "      <td>168</td>\n",
       "      <td>168</td>\n",
       "      <td>168</td>\n",
       "    </tr>\n",
       "  </tbody>\n",
       "</table>\n",
       "</div>"
      ],
      "text/plain": [
       "            Vote1  Vote2  Vote3  Vote4  Vote5  Vote6  Vote7  Vote8  Vote9  \\\n",
       "Party                                                                       \n",
       "democrat      267    267    267    267    267    267    267    267    267   \n",
       "republican    168    168    168    168    168    168    168    168    168   \n",
       "\n",
       "            Vote10  Vote11  Vote12  Vote13  Vote14  Vote15  Vote16  \n",
       "Party                                                               \n",
       "democrat       267     267     267     267     267     267     267  \n",
       "republican     168     168     168     168     168     168     168  "
      ]
     },
     "execution_count": 23,
     "metadata": {},
     "output_type": "execute_result"
    }
   ],
   "source": [
    "df_gb = df.groupby('Party').count()\n",
    "df_gb.head()"
   ]
  },
  {
   "cell_type": "code",
   "execution_count": 24,
   "metadata": {},
   "outputs": [
    {
     "data": {
      "text/plain": [
       "[267, 168]"
      ]
     },
     "execution_count": 24,
     "metadata": {},
     "output_type": "execute_result"
    }
   ],
   "source": [
    "vc =  list(df['Party'].value_counts())#bins=['republican', 'democrat']\n",
    "vc"
   ]
  },
  {
   "cell_type": "code",
   "execution_count": 31,
   "metadata": {},
   "outputs": [
    {
     "data": {
      "text/plain": [
       "<matplotlib.axes._subplots.AxesSubplot at 0x1ca95150358>"
      ]
     },
     "execution_count": 31,
     "metadata": {},
     "output_type": "execute_result"
    },
    {
     "data": {
      "image/png": "[encoded data removed]",
      "text/plain": [
       "<matplotlib.figure.Figure at 0x1ca9515fba8>"
      ]
     },
     "metadata": {},
     "output_type": "display_data"
    }
   ],
   "source": [
    "sns.barplot(x=['democrat','republican'], y=vc)"
   ]
  },
  {
   "cell_type": "code",
   "execution_count": 32,
   "metadata": {
    "collapsed": true
   },
   "outputs": [],
   "source": [
    "def democrat(X):\n",
    "    democrat_list = []\n",
    "    diff = 0\n",
    "    for i in range(len(X)):\n",
    "        democrat_list.append('democrat')\n",
    "    for j in range(len(X)):\n",
    "        if X[j] != democrat_list[j]:\n",
    "            diff += 1\n",
    "    return ((float(len(X)) - diff)/float(len(X)), democrat_list)"
   ]
  },
  {
   "cell_type": "code",
   "execution_count": 33,
   "metadata": {},
   "outputs": [
    {
     "name": "stdout",
     "output_type": "stream",
     "text": [
      "0.6666666666666666 ['democrat', 'democrat', 'democrat']\n"
     ]
    }
   ],
   "source": [
    "acc, democrat_list = democrat(['democrat','republican','democrat'])\n",
    "print(acc, democrat_list)"
   ]
  },
  {
   "cell_type": "code",
   "execution_count": 34,
   "metadata": {
    "collapsed": true
   },
   "outputs": [],
   "source": [
    "def republican(X):\n",
    "    republican_list = []\n",
    "    diff = 0\n",
    "    for i in range(len(X)):\n",
    "        republican_list.append('republican')\n",
    "    for j in range(len(X)):\n",
    "        if X[j] != republican_list[j]:\n",
    "            diff += 1\n",
    "    return ((float(len(X)) - diff)/float(len(X)), republican_list)"
   ]
  },
  {
   "cell_type": "code",
   "execution_count": 35,
   "metadata": {},
   "outputs": [
    {
     "name": "stdout",
     "output_type": "stream",
     "text": [
      "0.3333333333333333 ['republican', 'republican', 'republican']\n"
     ]
    }
   ],
   "source": [
    "acc, republican_list = republican(['democrat','republican','democrat'])\n",
    "print(acc, republican_list)"
   ]
  },
  {
   "cell_type": "code",
   "execution_count": 36,
   "metadata": {
    "collapsed": true
   },
   "outputs": [],
   "source": [
    "X2 = np.linspace(0,20, 20)\n",
    "\n",
    "results3 = pd.DataFrame()  #columns=['Iteration', 'TrainingError', 'TestingError']\n",
    "\n",
    "results3['K'] = X2\n",
    "results3['Accuracy'] = X2"
   ]
  },
  {
   "cell_type": "code",
   "execution_count": 37,
   "metadata": {
    "collapsed": true
   },
   "outputs": [],
   "source": [
    "X_list = list(df['Party'])"
   ]
  },
  {
   "cell_type": "code",
   "execution_count": 38,
   "metadata": {
    "collapsed": true
   },
   "outputs": [],
   "source": [
    "acc, democrat_list = democrat(list(y_test))"
   ]
  },
  {
   "cell_type": "code",
   "execution_count": 39,
   "metadata": {},
   "outputs": [
    {
     "data": {
      "text/plain": [
       "131"
      ]
     },
     "execution_count": 39,
     "metadata": {},
     "output_type": "execute_result"
    }
   ],
   "source": [
    "len(democrat_list)"
   ]
  },
  {
   "cell_type": "markdown",
   "metadata": {},
   "source": [
    "#### Challenge 6"
   ]
  },
  {
   "cell_type": "code",
   "execution_count": 40,
   "metadata": {
    "collapsed": true
   },
   "outputs": [],
   "source": [
    "\n",
    "for k in range(1,20):\n",
    "    \n",
    "    knc_model = KNeighborsClassifier(n_neighbors=k)\n",
    "    knc_model.fit(X_train,y_train)\n",
    "    test_set_pred = knc_model.predict(X_test)\n",
    "    acc_score = accuracy_score(y_test, democrat_list)\n",
    "\n",
    "    results3['K'][k] = k\n",
    "    results3['Accuracy'][k] = acc_score"
   ]
  },
  {
   "cell_type": "code",
   "execution_count": 41,
   "metadata": {},
   "outputs": [
    {
     "data": {
      "text/plain": [
       "<matplotlib.axes._subplots.AxesSubplot at 0x1ca94c78278>"
      ]
     },
     "execution_count": 41,
     "metadata": {},
     "output_type": "execute_result"
    },
    {
     "data": {
      "image/png": "[encoded data removed]",
      "text/plain": [
       "<matplotlib.figure.Figure at 0x1ca94c8db38>"
      ]
     },
     "metadata": {},
     "output_type": "display_data"
    }
   ],
   "source": [
    "sns.pointplot(results3['K'],results3['Accuracy'])"
   ]
  },
  {
   "cell_type": "markdown",
   "metadata": {},
   "source": [
    "#### Challenge 7"
   ]
  },
  {
   "cell_type": "code",
   "execution_count": 42,
   "metadata": {},
   "outputs": [
    {
     "name": "stderr",
     "output_type": "stream",
     "text": [
      "C:\\Users\\aj282_000\\Anaconda3\\lib\\site-packages\\sklearn\\cross_validation.py:44: DeprecationWarning: This module was deprecated in version 0.18 in favor of the model_selection module into which all the refactored classes and functions are moved. Also note that the interface of the new CV iterators are different from that of this module. This module will be removed in 0.20.\n",
      "  \"This module will be removed in 0.20.\", DeprecationWarning)\n",
      "C:\\Users\\aj282_000\\Anaconda3\\lib\\site-packages\\sklearn\\learning_curve.py:23: DeprecationWarning: This module was deprecated in version 0.18 in favor of the model_selection module into which all the functions are moved. This module will be removed in 0.20\n",
      "  DeprecationWarning)\n"
     ]
    }
   ],
   "source": [
    "from sklearn.learning_curve import learning_curve\n",
    "\n",
    "train_sizes, train_scores, valid_scores = learning_curve(LogisticRegression(), X, y)"
   ]
  },
  {
   "cell_type": "code",
   "execution_count": 43,
   "metadata": {},
   "outputs": [
    {
     "data": {
      "text/plain": [
       "array([[ 0.97241379,  0.89655172,  0.88965517],\n",
       "       [ 0.97241379,  0.92413793,  0.88965517],\n",
       "       [ 0.96551724,  0.93793103,  0.91034483],\n",
       "       [ 0.97241379,  0.95172414,  0.92413793],\n",
       "       [ 0.97931034,  0.95862069,  0.94482759]])"
      ]
     },
     "execution_count": 43,
     "metadata": {},
     "output_type": "execute_result"
    }
   ],
   "source": [
    "valid_scores"
   ]
  },
  {
   "cell_type": "code",
   "execution_count": 44,
   "metadata": {},
   "outputs": [
    {
     "name": "stdout",
     "output_type": "stream",
     "text": [
      "[ 1.          0.9787234   0.9769392   0.97470238  0.96666667] [ 0.91954023  0.92873563  0.93793103  0.94942529  0.96091954]\n"
     ]
    }
   ],
   "source": [
    "train_cv_err = np.mean(train_scores, axis=1)\n",
    "test_cv_err = np.mean(valid_scores, axis=1)\n",
    "print(train_cv_err, test_cv_err)"
   ]
  },
  {
   "cell_type": "code",
   "execution_count": 45,
   "metadata": {},
   "outputs": [
    {
     "name": "stderr",
     "output_type": "stream",
     "text": [
      "C:\\Users\\aj282_000\\Anaconda3\\lib\\site-packages\\matplotlib\\axes\\_axes.py:545: UserWarning: No labelled objects found. Use label='...' kwarg on individual plots.\n",
      "  warnings.warn(\"No labelled objects found. \"\n"
     ]
    },
    {
     "data": {
      "image/png": "[encoded data removed]",
      "text/plain": [
       "<matplotlib.figure.Figure at 0x1ca951aa7f0>"
      ]
     },
     "metadata": {},
     "output_type": "display_data"
    }
   ],
   "source": [
    "fig, ax = plt.subplots()\n",
    "for Y in [train_scores, valid_scores]:\n",
    "    ax.plot(train_sizes, Y)\n",
    "ax.set_xlabel('Train Sizes')\n",
    "ax.set_ylabel('Accuracy')\n",
    "plt.legend(loc=\"upper left\", bbox_to_anchor=[0, 1],\n",
    "           ncol=2, shadow=True, title=\"Legend\", fancybox=True)\n",
    "# ax.get_legend()\n",
    "plt.show()"
   ]
  },
  {
   "cell_type": "markdown",
   "metadata": {},
   "source": [
    "#### Challenge 8"
   ]
  },
  {
   "cell_type": "code",
   "execution_count": 46,
   "metadata": {},
   "outputs": [
    {
     "name": "stdout",
     "output_type": "stream",
     "text": [
      "0.93893129771\n"
     ]
    }
   ],
   "source": [
    "from sklearn.naive_bayes import GaussianNB\n",
    "\n",
    "gnb_model = GaussianNB()\n",
    "gnb_model.fit(X_train,y_train)\n",
    "test_set_pred = gnb_model.predict(X_test)\n",
    "acc_score = accuracy_score(y_test, test_set_pred)\n",
    "\n",
    "print(acc_score)"
   ]
  },
  {
   "cell_type": "code",
   "execution_count": 47,
   "metadata": {},
   "outputs": [
    {
     "name": "stdout",
     "output_type": "stream",
     "text": [
      "0.954198473282\n"
     ]
    }
   ],
   "source": [
    "from sklearn.svm import SVC\n",
    "\n",
    "svc_model = SVC()\n",
    "svc_model.fit(X_train,y_train)\n",
    "test_set_pred = svc_model.predict(X_test)\n",
    "acc_score = accuracy_score(y_test, test_set_pred)\n",
    "\n",
    "print(acc_score)"
   ]
  },
  {
   "cell_type": "code",
   "execution_count": 48,
   "metadata": {},
   "outputs": [
    {
     "name": "stdout",
     "output_type": "stream",
     "text": [
      "0.923664122137\n"
     ]
    }
   ],
   "source": [
    "from sklearn.tree import DecisionTreeClassifier\n",
    "\n",
    "dtc_model = DecisionTreeClassifier()\n",
    "dtc_model.fit(X_train,y_train)\n",
    "test_set_pred = dtc_model.predict(X_test)\n",
    "acc_score = accuracy_score(y_test, test_set_pred)\n",
    "\n",
    "print(acc_score)"
   ]
  },
  {
   "cell_type": "code",
   "execution_count": 49,
   "metadata": {},
   "outputs": [
    {
     "name": "stdout",
     "output_type": "stream",
     "text": [
      "0.954198473282\n"
     ]
    }
   ],
   "source": [
    "from sklearn.ensemble import RandomForestClassifier\n",
    "\n",
    "rfc_model = RandomForestClassifier()\n",
    "rfc_model.fit(X_train,y_train)\n",
    "test_set_pred = rfc_model.predict(X_test)\n",
    "acc_score = accuracy_score(y_test, test_set_pred)\n",
    "\n",
    "print(acc_score)"
   ]
  },
  {
   "cell_type": "markdown",
   "metadata": {},
   "source": [
    "#### Challenge 9"
   ]
  },
  {
   "cell_type": "code",
   "execution_count": 50,
   "metadata": {},
   "outputs": [
    {
     "name": "stdout",
     "output_type": "stream",
     "text": [
      "[ 0.95172414  0.93793103  0.92413793]\n",
      "0.937931034483\n"
     ]
    }
   ],
   "source": [
    "from sklearn.cross_validation import cross_val_score\n",
    "from sklearn.naive_bayes import GaussianNB\n",
    "\n",
    "cvc = cross_val_score(GaussianNB(), X, y)\n",
    "print(cvc)\n",
    "print(np.mean(cvc))"
   ]
  },
  {
   "cell_type": "code",
   "execution_count": 51,
   "metadata": {},
   "outputs": [
    {
     "name": "stdout",
     "output_type": "stream",
     "text": [
      "[ 0.97241379  0.95862069  0.94482759]\n",
      "0.958620689655\n"
     ]
    }
   ],
   "source": [
    "\n",
    "cvc = cross_val_score(SVC(), X, y)\n",
    "print(cvc)\n",
    "print(np.mean(cvc))"
   ]
  },
  {
   "cell_type": "code",
   "execution_count": 52,
   "metadata": {},
   "outputs": [
    {
     "name": "stdout",
     "output_type": "stream",
     "text": [
      "[ 0.95172414  0.95862069  0.93103448]\n",
      "0.947126436782\n"
     ]
    }
   ],
   "source": [
    "\n",
    "cvc = cross_val_score(DecisionTreeClassifier(), X, y)\n",
    "print(cvc)\n",
    "print(np.mean(cvc))"
   ]
  },
  {
   "cell_type": "code",
   "execution_count": 53,
   "metadata": {},
   "outputs": [
    {
     "name": "stdout",
     "output_type": "stream",
     "text": [
      "[ 0.97931034  0.96551724  0.92413793]\n",
      "0.95632183908\n"
     ]
    }
   ],
   "source": [
    "cvc = cross_val_score(RandomForestClassifier(), X, y)\n",
    "print(cvc)\n",
    "print(np.mean(cvc))"
   ]
  },
  {
   "cell_type": "code",
   "execution_count": 54,
   "metadata": {
    "collapsed": true
   },
   "outputs": [],
   "source": [
    "# df = pd.read_csv(\"C:/Users/aj282/OneDrive/thisismetis/sf17_ds8_workingdirectory/challenges/challeges_questions/07-classification/house-votes-84.data\", header=None)"
   ]
  },
  {
   "cell_type": "markdown",
   "metadata": {},
   "source": [
    "#### Challenge 10"
   ]
  },
  {
   "cell_type": "code",
   "execution_count": 55,
   "metadata": {
    "collapsed": true
   },
   "outputs": [],
   "source": [
    "df = pd.read_csv(\"C:/Users/aj282_000/OneDrive/thisismetis/sf17_ds8_workingdirectory/challenges/challeges_questions/07-classification/house-votes-84.data\", header=None)"
   ]
  },
  {
   "cell_type": "code",
   "execution_count": 56,
   "metadata": {
    "collapsed": true
   },
   "outputs": [],
   "source": [
    "df.columns = ['Party', 'Vote1', 'Vote2', 'Vote3', 'Vote4','Vote5','Vote6','Vote7','Vote8','Vote9','Vote10','Vote11','Vote12','Vote13','Vote14','Vote15', 'Vote16']"
   ]
  },
  {
   "cell_type": "code",
   "execution_count": 57,
   "metadata": {
    "collapsed": true
   },
   "outputs": [],
   "source": [
    "for i in range(1,len(df.columns)):\n",
    "    df.iloc[:,i] = df.iloc[:,i].map({'n': 0, 'y': 1})"
   ]
  },
  {
   "cell_type": "code",
   "execution_count": 58,
   "metadata": {
    "collapsed": true
   },
   "outputs": [],
   "source": [
    "for i in range(1,len(df.columns)):\n",
    "    mode = df.iloc[:,i].mode()\n",
    "    df.iloc[:,i].fillna(mode[0], inplace=True)"
   ]
  },
  {
   "cell_type": "code",
   "execution_count": 59,
   "metadata": {},
   "outputs": [
    {
     "data": {
      "text/html": [
       "<div>\n",
       "<style>\n",
       "    .dataframe thead tr:only-child th {\n",
       "        text-align: right;\n",
       "    }\n",
       "\n",
       "    .dataframe thead th {\n",
       "        text-align: left;\n",
       "    }\n",
       "\n",
       "    .dataframe tbody tr th {\n",
       "        vertical-align: top;\n",
       "    }\n",
       "</style>\n",
       "<table border=\"1\" class=\"dataframe\">\n",
       "  <thead>\n",
       "    <tr style=\"text-align: right;\">\n",
       "      <th></th>\n",
       "      <th>Party</th>\n",
       "      <th>Vote1</th>\n",
       "      <th>Vote2</th>\n",
       "      <th>Vote3</th>\n",
       "      <th>Vote4</th>\n",
       "      <th>Vote5</th>\n",
       "      <th>Vote6</th>\n",
       "      <th>Vote7</th>\n",
       "      <th>Vote8</th>\n",
       "      <th>Vote9</th>\n",
       "      <th>Vote10</th>\n",
       "      <th>Vote11</th>\n",
       "      <th>Vote12</th>\n",
       "      <th>Vote13</th>\n",
       "      <th>Vote14</th>\n",
       "      <th>Vote15</th>\n",
       "      <th>Vote16</th>\n",
       "    </tr>\n",
       "  </thead>\n",
       "  <tbody>\n",
       "    <tr>\n",
       "      <th>0</th>\n",
       "      <td>republican</td>\n",
       "      <td>0.0</td>\n",
       "      <td>1.0</td>\n",
       "      <td>0.0</td>\n",
       "      <td>1.0</td>\n",
       "      <td>1.0</td>\n",
       "      <td>1.0</td>\n",
       "      <td>0.0</td>\n",
       "      <td>0.0</td>\n",
       "      <td>0.0</td>\n",
       "      <td>1.0</td>\n",
       "      <td>0.0</td>\n",
       "      <td>1.0</td>\n",
       "      <td>1.0</td>\n",
       "      <td>1.0</td>\n",
       "      <td>0.0</td>\n",
       "      <td>1.0</td>\n",
       "    </tr>\n",
       "    <tr>\n",
       "      <th>1</th>\n",
       "      <td>republican</td>\n",
       "      <td>0.0</td>\n",
       "      <td>1.0</td>\n",
       "      <td>0.0</td>\n",
       "      <td>1.0</td>\n",
       "      <td>1.0</td>\n",
       "      <td>1.0</td>\n",
       "      <td>0.0</td>\n",
       "      <td>0.0</td>\n",
       "      <td>0.0</td>\n",
       "      <td>0.0</td>\n",
       "      <td>0.0</td>\n",
       "      <td>1.0</td>\n",
       "      <td>1.0</td>\n",
       "      <td>1.0</td>\n",
       "      <td>0.0</td>\n",
       "      <td>1.0</td>\n",
       "    </tr>\n",
       "    <tr>\n",
       "      <th>2</th>\n",
       "      <td>democrat</td>\n",
       "      <td>0.0</td>\n",
       "      <td>1.0</td>\n",
       "      <td>1.0</td>\n",
       "      <td>0.0</td>\n",
       "      <td>1.0</td>\n",
       "      <td>1.0</td>\n",
       "      <td>0.0</td>\n",
       "      <td>0.0</td>\n",
       "      <td>0.0</td>\n",
       "      <td>0.0</td>\n",
       "      <td>1.0</td>\n",
       "      <td>0.0</td>\n",
       "      <td>1.0</td>\n",
       "      <td>1.0</td>\n",
       "      <td>0.0</td>\n",
       "      <td>0.0</td>\n",
       "    </tr>\n",
       "    <tr>\n",
       "      <th>3</th>\n",
       "      <td>democrat</td>\n",
       "      <td>0.0</td>\n",
       "      <td>1.0</td>\n",
       "      <td>1.0</td>\n",
       "      <td>0.0</td>\n",
       "      <td>1.0</td>\n",
       "      <td>1.0</td>\n",
       "      <td>0.0</td>\n",
       "      <td>0.0</td>\n",
       "      <td>0.0</td>\n",
       "      <td>0.0</td>\n",
       "      <td>1.0</td>\n",
       "      <td>0.0</td>\n",
       "      <td>1.0</td>\n",
       "      <td>0.0</td>\n",
       "      <td>0.0</td>\n",
       "      <td>1.0</td>\n",
       "    </tr>\n",
       "    <tr>\n",
       "      <th>4</th>\n",
       "      <td>democrat</td>\n",
       "      <td>1.0</td>\n",
       "      <td>1.0</td>\n",
       "      <td>1.0</td>\n",
       "      <td>0.0</td>\n",
       "      <td>1.0</td>\n",
       "      <td>1.0</td>\n",
       "      <td>0.0</td>\n",
       "      <td>0.0</td>\n",
       "      <td>0.0</td>\n",
       "      <td>0.0</td>\n",
       "      <td>1.0</td>\n",
       "      <td>0.0</td>\n",
       "      <td>1.0</td>\n",
       "      <td>1.0</td>\n",
       "      <td>1.0</td>\n",
       "      <td>1.0</td>\n",
       "    </tr>\n",
       "  </tbody>\n",
       "</table>\n",
       "</div>"
      ],
      "text/plain": [
       "        Party  Vote1  Vote2  Vote3  Vote4  Vote5  Vote6  Vote7  Vote8  Vote9  \\\n",
       "0  republican    0.0    1.0    0.0    1.0    1.0    1.0    0.0    0.0    0.0   \n",
       "1  republican    0.0    1.0    0.0    1.0    1.0    1.0    0.0    0.0    0.0   \n",
       "2    democrat    0.0    1.0    1.0    0.0    1.0    1.0    0.0    0.0    0.0   \n",
       "3    democrat    0.0    1.0    1.0    0.0    1.0    1.0    0.0    0.0    0.0   \n",
       "4    democrat    1.0    1.0    1.0    0.0    1.0    1.0    0.0    0.0    0.0   \n",
       "\n",
       "   Vote10  Vote11  Vote12  Vote13  Vote14  Vote15  Vote16  \n",
       "0     1.0     0.0     1.0     1.0     1.0     0.0     1.0  \n",
       "1     0.0     0.0     1.0     1.0     1.0     0.0     1.0  \n",
       "2     0.0     1.0     0.0     1.0     1.0     0.0     0.0  \n",
       "3     0.0     1.0     0.0     1.0     0.0     0.0     1.0  \n",
       "4     0.0     1.0     0.0     1.0     1.0     1.0     1.0  "
      ]
     },
     "execution_count": 59,
     "metadata": {},
     "output_type": "execute_result"
    }
   ],
   "source": [
    "df.head()"
   ]
  },
  {
   "cell_type": "code",
   "execution_count": 60,
   "metadata": {
    "collapsed": true
   },
   "outputs": [],
   "source": [
    "df2 = df.iloc[:,1:]"
   ]
  },
  {
   "cell_type": "code",
   "execution_count": 61,
   "metadata": {},
   "outputs": [
    {
     "data": {
      "text/html": [
       "<div>\n",
       "<style>\n",
       "    .dataframe thead tr:only-child th {\n",
       "        text-align: right;\n",
       "    }\n",
       "\n",
       "    .dataframe thead th {\n",
       "        text-align: left;\n",
       "    }\n",
       "\n",
       "    .dataframe tbody tr th {\n",
       "        vertical-align: top;\n",
       "    }\n",
       "</style>\n",
       "<table border=\"1\" class=\"dataframe\">\n",
       "  <thead>\n",
       "    <tr style=\"text-align: right;\">\n",
       "      <th></th>\n",
       "      <th>Vote1</th>\n",
       "      <th>Vote2</th>\n",
       "      <th>Vote3</th>\n",
       "      <th>Vote4</th>\n",
       "      <th>Vote5</th>\n",
       "      <th>Vote6</th>\n",
       "      <th>Vote7</th>\n",
       "      <th>Vote8</th>\n",
       "      <th>Vote9</th>\n",
       "      <th>Vote10</th>\n",
       "      <th>Vote11</th>\n",
       "      <th>Vote12</th>\n",
       "      <th>Vote13</th>\n",
       "      <th>Vote14</th>\n",
       "      <th>Vote15</th>\n",
       "      <th>Vote16</th>\n",
       "    </tr>\n",
       "  </thead>\n",
       "  <tbody>\n",
       "    <tr>\n",
       "      <th>0</th>\n",
       "      <td>0.0</td>\n",
       "      <td>1.0</td>\n",
       "      <td>0.0</td>\n",
       "      <td>1.0</td>\n",
       "      <td>1.0</td>\n",
       "      <td>1.0</td>\n",
       "      <td>0.0</td>\n",
       "      <td>0.0</td>\n",
       "      <td>0.0</td>\n",
       "      <td>1.0</td>\n",
       "      <td>0.0</td>\n",
       "      <td>1.0</td>\n",
       "      <td>1.0</td>\n",
       "      <td>1.0</td>\n",
       "      <td>0.0</td>\n",
       "      <td>1.0</td>\n",
       "    </tr>\n",
       "    <tr>\n",
       "      <th>1</th>\n",
       "      <td>0.0</td>\n",
       "      <td>1.0</td>\n",
       "      <td>0.0</td>\n",
       "      <td>1.0</td>\n",
       "      <td>1.0</td>\n",
       "      <td>1.0</td>\n",
       "      <td>0.0</td>\n",
       "      <td>0.0</td>\n",
       "      <td>0.0</td>\n",
       "      <td>0.0</td>\n",
       "      <td>0.0</td>\n",
       "      <td>1.0</td>\n",
       "      <td>1.0</td>\n",
       "      <td>1.0</td>\n",
       "      <td>0.0</td>\n",
       "      <td>1.0</td>\n",
       "    </tr>\n",
       "    <tr>\n",
       "      <th>2</th>\n",
       "      <td>0.0</td>\n",
       "      <td>1.0</td>\n",
       "      <td>1.0</td>\n",
       "      <td>0.0</td>\n",
       "      <td>1.0</td>\n",
       "      <td>1.0</td>\n",
       "      <td>0.0</td>\n",
       "      <td>0.0</td>\n",
       "      <td>0.0</td>\n",
       "      <td>0.0</td>\n",
       "      <td>1.0</td>\n",
       "      <td>0.0</td>\n",
       "      <td>1.0</td>\n",
       "      <td>1.0</td>\n",
       "      <td>0.0</td>\n",
       "      <td>0.0</td>\n",
       "    </tr>\n",
       "    <tr>\n",
       "      <th>3</th>\n",
       "      <td>0.0</td>\n",
       "      <td>1.0</td>\n",
       "      <td>1.0</td>\n",
       "      <td>0.0</td>\n",
       "      <td>1.0</td>\n",
       "      <td>1.0</td>\n",
       "      <td>0.0</td>\n",
       "      <td>0.0</td>\n",
       "      <td>0.0</td>\n",
       "      <td>0.0</td>\n",
       "      <td>1.0</td>\n",
       "      <td>0.0</td>\n",
       "      <td>1.0</td>\n",
       "      <td>0.0</td>\n",
       "      <td>0.0</td>\n",
       "      <td>1.0</td>\n",
       "    </tr>\n",
       "    <tr>\n",
       "      <th>4</th>\n",
       "      <td>1.0</td>\n",
       "      <td>1.0</td>\n",
       "      <td>1.0</td>\n",
       "      <td>0.0</td>\n",
       "      <td>1.0</td>\n",
       "      <td>1.0</td>\n",
       "      <td>0.0</td>\n",
       "      <td>0.0</td>\n",
       "      <td>0.0</td>\n",
       "      <td>0.0</td>\n",
       "      <td>1.0</td>\n",
       "      <td>0.0</td>\n",
       "      <td>1.0</td>\n",
       "      <td>1.0</td>\n",
       "      <td>1.0</td>\n",
       "      <td>1.0</td>\n",
       "    </tr>\n",
       "  </tbody>\n",
       "</table>\n",
       "</div>"
      ],
      "text/plain": [
       "   Vote1  Vote2  Vote3  Vote4  Vote5  Vote6  Vote7  Vote8  Vote9  Vote10  \\\n",
       "0    0.0    1.0    0.0    1.0    1.0    1.0    0.0    0.0    0.0     1.0   \n",
       "1    0.0    1.0    0.0    1.0    1.0    1.0    0.0    0.0    0.0     0.0   \n",
       "2    0.0    1.0    1.0    0.0    1.0    1.0    0.0    0.0    0.0     0.0   \n",
       "3    0.0    1.0    1.0    0.0    1.0    1.0    0.0    0.0    0.0     0.0   \n",
       "4    1.0    1.0    1.0    0.0    1.0    1.0    0.0    0.0    0.0     0.0   \n",
       "\n",
       "   Vote11  Vote12  Vote13  Vote14  Vote15  Vote16  \n",
       "0     0.0     1.0     1.0     1.0     0.0     1.0  \n",
       "1     0.0     1.0     1.0     1.0     0.0     1.0  \n",
       "2     1.0     0.0     1.0     1.0     0.0     0.0  \n",
       "3     1.0     0.0     1.0     0.0     0.0     1.0  \n",
       "4     1.0     0.0     1.0     1.0     1.0     1.0  "
      ]
     },
     "execution_count": 61,
     "metadata": {},
     "output_type": "execute_result"
    }
   ],
   "source": [
    "df2.head()"
   ]
  },
  {
   "cell_type": "code",
   "execution_count": 62,
   "metadata": {
    "collapsed": true
   },
   "outputs": [],
   "source": [
    "X = df2.iloc[:,0:15]\n",
    "y = df2.iloc[:,15]"
   ]
  },
  {
   "cell_type": "code",
   "execution_count": 63,
   "metadata": {
    "collapsed": true
   },
   "outputs": [],
   "source": [
    "X_train, X_test, y_train, y_test = train_test_split(X, y, test_size=0.3,random_state=4444)"
   ]
  },
  {
   "cell_type": "code",
   "execution_count": 64,
   "metadata": {
    "collapsed": true
   },
   "outputs": [],
   "source": [
    "X2 = np.linspace(0,20, 20)\n",
    "\n",
    "results4 = pd.DataFrame()  #columns=['Iteration', 'TrainingError', 'TestingError']\n",
    "\n",
    "results4['K'] = X2\n",
    "results4['Accuracy'] = X2"
   ]
  },
  {
   "cell_type": "code",
   "execution_count": 65,
   "metadata": {
    "collapsed": true
   },
   "outputs": [],
   "source": [
    "for k in range(1,20):\n",
    "    \n",
    "    knc_model = KNeighborsClassifier(n_neighbors=k)\n",
    "    knc_model.fit(X_train,y_train)\n",
    "    test_set_pred = knc_model.predict(X_test)\n",
    "    acc_score = accuracy_score(y_test, test_set_pred)\n",
    "\n",
    "    results4['K'][k] = k\n",
    "    results4['Accuracy'][k] = acc_score"
   ]
  },
  {
   "cell_type": "code",
   "execution_count": 66,
   "metadata": {},
   "outputs": [
    {
     "data": {
      "text/html": [
       "<div>\n",
       "<style>\n",
       "    .dataframe thead tr:only-child th {\n",
       "        text-align: right;\n",
       "    }\n",
       "\n",
       "    .dataframe thead th {\n",
       "        text-align: left;\n",
       "    }\n",
       "\n",
       "    .dataframe tbody tr th {\n",
       "        vertical-align: top;\n",
       "    }\n",
       "</style>\n",
       "<table border=\"1\" class=\"dataframe\">\n",
       "  <thead>\n",
       "    <tr style=\"text-align: right;\">\n",
       "      <th></th>\n",
       "      <th>K</th>\n",
       "      <th>Accuracy</th>\n",
       "    </tr>\n",
       "  </thead>\n",
       "  <tbody>\n",
       "    <tr>\n",
       "      <th>13</th>\n",
       "      <td>13.0</td>\n",
       "      <td>0.870229</td>\n",
       "    </tr>\n",
       "  </tbody>\n",
       "</table>\n",
       "</div>"
      ],
      "text/plain": [
       "       K  Accuracy\n",
       "13  13.0  0.870229"
      ]
     },
     "execution_count": 66,
     "metadata": {},
     "output_type": "execute_result"
    }
   ],
   "source": [
    "results4[results4['Accuracy'] == results4['Accuracy'].max()]"
   ]
  },
  {
   "cell_type": "code",
   "execution_count": 67,
   "metadata": {},
   "outputs": [
    {
     "data": {
      "text/plain": [
       "<matplotlib.axes._subplots.AxesSubplot at 0x1ca956abe80>"
      ]
     },
     "execution_count": 67,
     "metadata": {},
     "output_type": "execute_result"
    },
    {
     "data": {
      "image/png": "[encoded data removed]",
      "text/plain": [
       "<matplotlib.figure.Figure at 0x1ca9538ce10>"
      ]
     },
     "metadata": {},
     "output_type": "display_data"
    }
   ],
   "source": [
    "sns.pointplot(results4['K'],results4['Accuracy'])"
   ]
  },
  {
   "cell_type": "code",
   "execution_count": 68,
   "metadata": {},
   "outputs": [
    {
     "name": "stdout",
     "output_type": "stream",
     "text": [
      "[ 0.82191781  0.8137931   0.77777778]\n",
      "0.804496229815\n"
     ]
    }
   ],
   "source": [
    "cvc = cross_val_score(KNeighborsClassifier(), X, y)\n",
    "print(cvc)\n",
    "print(np.mean(cvc))"
   ]
  },
  {
   "cell_type": "markdown",
   "metadata": {},
   "source": [
    "#### Challenge 11"
   ]
  },
  {
   "cell_type": "code",
   "execution_count": 69,
   "metadata": {
    "collapsed": true
   },
   "outputs": [],
   "source": [
    "df = pd.read_csv(\"C:/Users/aj282_000/OneDrive/thisismetis/sf17_ds8_workingdirectory/challenges/challenges_data/2013_movies.csv\")"
   ]
  },
  {
   "cell_type": "code",
   "execution_count": 70,
   "metadata": {},
   "outputs": [
    {
     "data": {
      "text/html": [
       "<div>\n",
       "<style>\n",
       "    .dataframe thead tr:only-child th {\n",
       "        text-align: right;\n",
       "    }\n",
       "\n",
       "    .dataframe thead th {\n",
       "        text-align: left;\n",
       "    }\n",
       "\n",
       "    .dataframe tbody tr th {\n",
       "        vertical-align: top;\n",
       "    }\n",
       "</style>\n",
       "<table border=\"1\" class=\"dataframe\">\n",
       "  <thead>\n",
       "    <tr style=\"text-align: right;\">\n",
       "      <th></th>\n",
       "      <th>Title</th>\n",
       "      <th>Budget</th>\n",
       "      <th>DomesticTotalGross</th>\n",
       "      <th>Director</th>\n",
       "      <th>Rating</th>\n",
       "      <th>Runtime</th>\n",
       "      <th>ReleaseDate</th>\n",
       "    </tr>\n",
       "  </thead>\n",
       "  <tbody>\n",
       "    <tr>\n",
       "      <th>0</th>\n",
       "      <td>The Hunger Games: Catching Fire</td>\n",
       "      <td>130000000.0</td>\n",
       "      <td>424668047</td>\n",
       "      <td>Francis Lawrence</td>\n",
       "      <td>PG-13</td>\n",
       "      <td>146</td>\n",
       "      <td>2013-11-22 00:00:00</td>\n",
       "    </tr>\n",
       "    <tr>\n",
       "      <th>1</th>\n",
       "      <td>Iron Man 3</td>\n",
       "      <td>200000000.0</td>\n",
       "      <td>409013994</td>\n",
       "      <td>Shane Black</td>\n",
       "      <td>PG-13</td>\n",
       "      <td>129</td>\n",
       "      <td>2013-05-03 00:00:00</td>\n",
       "    </tr>\n",
       "    <tr>\n",
       "      <th>2</th>\n",
       "      <td>Frozen</td>\n",
       "      <td>150000000.0</td>\n",
       "      <td>400738009</td>\n",
       "      <td>Chris BuckJennifer Lee</td>\n",
       "      <td>PG</td>\n",
       "      <td>108</td>\n",
       "      <td>2013-11-22 00:00:00</td>\n",
       "    </tr>\n",
       "    <tr>\n",
       "      <th>3</th>\n",
       "      <td>Despicable Me 2</td>\n",
       "      <td>76000000.0</td>\n",
       "      <td>368061265</td>\n",
       "      <td>Pierre CoffinChris Renaud</td>\n",
       "      <td>PG</td>\n",
       "      <td>98</td>\n",
       "      <td>2013-07-03 00:00:00</td>\n",
       "    </tr>\n",
       "    <tr>\n",
       "      <th>4</th>\n",
       "      <td>Man of Steel</td>\n",
       "      <td>225000000.0</td>\n",
       "      <td>291045518</td>\n",
       "      <td>Zack Snyder</td>\n",
       "      <td>PG-13</td>\n",
       "      <td>143</td>\n",
       "      <td>2013-06-14 00:00:00</td>\n",
       "    </tr>\n",
       "  </tbody>\n",
       "</table>\n",
       "</div>"
      ],
      "text/plain": [
       "                             Title       Budget  DomesticTotalGross  \\\n",
       "0  The Hunger Games: Catching Fire  130000000.0           424668047   \n",
       "1                       Iron Man 3  200000000.0           409013994   \n",
       "2                           Frozen  150000000.0           400738009   \n",
       "3                  Despicable Me 2   76000000.0           368061265   \n",
       "4                     Man of Steel  225000000.0           291045518   \n",
       "\n",
       "                    Director Rating  Runtime          ReleaseDate  \n",
       "0           Francis Lawrence  PG-13      146  2013-11-22 00:00:00  \n",
       "1                Shane Black  PG-13      129  2013-05-03 00:00:00  \n",
       "2     Chris BuckJennifer Lee     PG      108  2013-11-22 00:00:00  \n",
       "3  Pierre CoffinChris Renaud     PG       98  2013-07-03 00:00:00  \n",
       "4                Zack Snyder  PG-13      143  2013-06-14 00:00:00  "
      ]
     },
     "execution_count": 70,
     "metadata": {},
     "output_type": "execute_result"
    }
   ],
   "source": [
    "df.head()"
   ]
  },
  {
   "cell_type": "code",
   "execution_count": 71,
   "metadata": {
    "collapsed": true
   },
   "outputs": [],
   "source": [
    "bins = [0, 50000000, 100000000, 200000000, 400000000, 10000000000]"
   ]
  },
  {
   "cell_type": "code",
   "execution_count": 72,
   "metadata": {
    "collapsed": true
   },
   "outputs": [],
   "source": [
    "group_names = [0, 1, 2, 3, 4]"
   ]
  },
  {
   "cell_type": "code",
   "execution_count": 73,
   "metadata": {
    "collapsed": true
   },
   "outputs": [],
   "source": [
    "df['DomesticTotalGross'] = pd.cut(df['DomesticTotalGross'], bins, labels=group_names)"
   ]
  },
  {
   "cell_type": "code",
   "execution_count": 74,
   "metadata": {},
   "outputs": [
    {
     "data": {
      "text/plain": [
       "0    4\n",
       "1    4\n",
       "2    4\n",
       "3    3\n",
       "4    3\n",
       "Name: DomesticTotalGross, dtype: category\n",
       "Categories (5, int64): [0 < 1 < 2 < 3 < 4]"
      ]
     },
     "execution_count": 74,
     "metadata": {},
     "output_type": "execute_result"
    }
   ],
   "source": [
    "df['DomesticTotalGross'].head()"
   ]
  },
  {
   "cell_type": "code",
   "execution_count": 75,
   "metadata": {},
   "outputs": [
    {
     "data": {
      "text/plain": [
       "1    34\n",
       "0    31\n",
       "2    22\n",
       "3    10\n",
       "4     3\n",
       "Name: DomesticTotalGross, dtype: int64"
      ]
     },
     "execution_count": 75,
     "metadata": {},
     "output_type": "execute_result"
    }
   ],
   "source": [
    "vc =  df['DomesticTotalGross'].value_counts()#bins=['republican', 'democrat']\n",
    "vc"
   ]
  },
  {
   "cell_type": "code",
   "execution_count": 76,
   "metadata": {},
   "outputs": [
    {
     "data": {
      "text/plain": [
       "[34, 31, 22, 10, 3]"
      ]
     },
     "execution_count": 76,
     "metadata": {},
     "output_type": "execute_result"
    }
   ],
   "source": [
    "vc_list =  list(df['DomesticTotalGross'].value_counts())#bins=['republican', 'democrat']\n",
    "vc_list"
   ]
  },
  {
   "cell_type": "code",
   "execution_count": 77,
   "metadata": {},
   "outputs": [
    {
     "data": {
      "text/plain": [
       "<matplotlib.axes._subplots.AxesSubplot at 0x1ca9570fef0>"
      ]
     },
     "execution_count": 77,
     "metadata": {},
     "output_type": "execute_result"
    },
    {
     "data": {
      "image/png": "[encoded data removed]",
      "text/plain": [
       "<matplotlib.figure.Figure at 0x1ca954cada0>"
      ]
     },
     "metadata": {},
     "output_type": "display_data"
    }
   ],
   "source": [
    "sns.barplot(x=['50-100mln','<5000000', '100-200mln', '200-400mln', '400mln+'], y=vc)"
   ]
  },
  {
   "cell_type": "code",
   "execution_count": 78,
   "metadata": {},
   "outputs": [
    {
     "data": {
      "text/html": [
       "<div>\n",
       "<style>\n",
       "    .dataframe thead tr:only-child th {\n",
       "        text-align: right;\n",
       "    }\n",
       "\n",
       "    .dataframe thead th {\n",
       "        text-align: left;\n",
       "    }\n",
       "\n",
       "    .dataframe tbody tr th {\n",
       "        vertical-align: top;\n",
       "    }\n",
       "</style>\n",
       "<table border=\"1\" class=\"dataframe\">\n",
       "  <thead>\n",
       "    <tr style=\"text-align: right;\">\n",
       "      <th></th>\n",
       "      <th>Title</th>\n",
       "      <th>Budget</th>\n",
       "      <th>DomesticTotalGross</th>\n",
       "      <th>Director</th>\n",
       "      <th>Rating</th>\n",
       "      <th>Runtime</th>\n",
       "      <th>ReleaseDate</th>\n",
       "    </tr>\n",
       "  </thead>\n",
       "  <tbody>\n",
       "    <tr>\n",
       "      <th>0</th>\n",
       "      <td>The Hunger Games: Catching Fire</td>\n",
       "      <td>130000000.0</td>\n",
       "      <td>4</td>\n",
       "      <td>Francis Lawrence</td>\n",
       "      <td>PG-13</td>\n",
       "      <td>146</td>\n",
       "      <td>2013-11-22 00:00:00</td>\n",
       "    </tr>\n",
       "    <tr>\n",
       "      <th>1</th>\n",
       "      <td>Iron Man 3</td>\n",
       "      <td>200000000.0</td>\n",
       "      <td>4</td>\n",
       "      <td>Shane Black</td>\n",
       "      <td>PG-13</td>\n",
       "      <td>129</td>\n",
       "      <td>2013-05-03 00:00:00</td>\n",
       "    </tr>\n",
       "    <tr>\n",
       "      <th>2</th>\n",
       "      <td>Frozen</td>\n",
       "      <td>150000000.0</td>\n",
       "      <td>4</td>\n",
       "      <td>Chris BuckJennifer Lee</td>\n",
       "      <td>PG</td>\n",
       "      <td>108</td>\n",
       "      <td>2013-11-22 00:00:00</td>\n",
       "    </tr>\n",
       "    <tr>\n",
       "      <th>3</th>\n",
       "      <td>Despicable Me 2</td>\n",
       "      <td>76000000.0</td>\n",
       "      <td>3</td>\n",
       "      <td>Pierre CoffinChris Renaud</td>\n",
       "      <td>PG</td>\n",
       "      <td>98</td>\n",
       "      <td>2013-07-03 00:00:00</td>\n",
       "    </tr>\n",
       "    <tr>\n",
       "      <th>4</th>\n",
       "      <td>Man of Steel</td>\n",
       "      <td>225000000.0</td>\n",
       "      <td>3</td>\n",
       "      <td>Zack Snyder</td>\n",
       "      <td>PG-13</td>\n",
       "      <td>143</td>\n",
       "      <td>2013-06-14 00:00:00</td>\n",
       "    </tr>\n",
       "  </tbody>\n",
       "</table>\n",
       "</div>"
      ],
      "text/plain": [
       "                             Title       Budget DomesticTotalGross  \\\n",
       "0  The Hunger Games: Catching Fire  130000000.0                  4   \n",
       "1                       Iron Man 3  200000000.0                  4   \n",
       "2                           Frozen  150000000.0                  4   \n",
       "3                  Despicable Me 2   76000000.0                  3   \n",
       "4                     Man of Steel  225000000.0                  3   \n",
       "\n",
       "                    Director Rating  Runtime          ReleaseDate  \n",
       "0           Francis Lawrence  PG-13      146  2013-11-22 00:00:00  \n",
       "1                Shane Black  PG-13      129  2013-05-03 00:00:00  \n",
       "2     Chris BuckJennifer Lee     PG      108  2013-11-22 00:00:00  \n",
       "3  Pierre CoffinChris Renaud     PG       98  2013-07-03 00:00:00  \n",
       "4                Zack Snyder  PG-13      143  2013-06-14 00:00:00  "
      ]
     },
     "execution_count": 78,
     "metadata": {},
     "output_type": "execute_result"
    }
   ],
   "source": [
    "df.head()"
   ]
  },
  {
   "cell_type": "code",
   "execution_count": 79,
   "metadata": {
    "collapsed": true
   },
   "outputs": [],
   "source": [
    "df2 = pd.get_dummies(df, columns = ['Rating', 'Director'] )"
   ]
  },
  {
   "cell_type": "code",
   "execution_count": 80,
   "metadata": {},
   "outputs": [
    {
     "data": {
      "text/html": [
       "<div>\n",
       "<style>\n",
       "    .dataframe thead tr:only-child th {\n",
       "        text-align: right;\n",
       "    }\n",
       "\n",
       "    .dataframe thead th {\n",
       "        text-align: left;\n",
       "    }\n",
       "\n",
       "    .dataframe tbody tr th {\n",
       "        vertical-align: top;\n",
       "    }\n",
       "</style>\n",
       "<table border=\"1\" class=\"dataframe\">\n",
       "  <thead>\n",
       "    <tr style=\"text-align: right;\">\n",
       "      <th></th>\n",
       "      <th>Title</th>\n",
       "      <th>Budget</th>\n",
       "      <th>DomesticTotalGross</th>\n",
       "      <th>Runtime</th>\n",
       "      <th>ReleaseDate</th>\n",
       "      <th>Rating_G</th>\n",
       "      <th>Rating_PG</th>\n",
       "      <th>Rating_PG-13</th>\n",
       "      <th>Rating_R</th>\n",
       "      <th>Director_Adam McKay</th>\n",
       "      <th>...</th>\n",
       "      <th>Director_Spike Jonze</th>\n",
       "      <th>Director_Stephen Frears</th>\n",
       "      <th>Director_Steve McQueen (II)</th>\n",
       "      <th>Director_Steven Soderbergh</th>\n",
       "      <th>Director_Thor Freudenthal</th>\n",
       "      <th>Director_Todd Phillips</th>\n",
       "      <th>Director_Tommy Wirkola</th>\n",
       "      <th>Director_Tyler Perry</th>\n",
       "      <th>Director_Woody Allen</th>\n",
       "      <th>Director_Zack Snyder</th>\n",
       "    </tr>\n",
       "  </thead>\n",
       "  <tbody>\n",
       "    <tr>\n",
       "      <th>0</th>\n",
       "      <td>The Hunger Games: Catching Fire</td>\n",
       "      <td>130000000.0</td>\n",
       "      <td>4</td>\n",
       "      <td>146</td>\n",
       "      <td>2013-11-22 00:00:00</td>\n",
       "      <td>0</td>\n",
       "      <td>0</td>\n",
       "      <td>1</td>\n",
       "      <td>0</td>\n",
       "      <td>0</td>\n",
       "      <td>...</td>\n",
       "      <td>0</td>\n",
       "      <td>0</td>\n",
       "      <td>0</td>\n",
       "      <td>0</td>\n",
       "      <td>0</td>\n",
       "      <td>0</td>\n",
       "      <td>0</td>\n",
       "      <td>0</td>\n",
       "      <td>0</td>\n",
       "      <td>0</td>\n",
       "    </tr>\n",
       "    <tr>\n",
       "      <th>1</th>\n",
       "      <td>Iron Man 3</td>\n",
       "      <td>200000000.0</td>\n",
       "      <td>4</td>\n",
       "      <td>129</td>\n",
       "      <td>2013-05-03 00:00:00</td>\n",
       "      <td>0</td>\n",
       "      <td>0</td>\n",
       "      <td>1</td>\n",
       "      <td>0</td>\n",
       "      <td>0</td>\n",
       "      <td>...</td>\n",
       "      <td>0</td>\n",
       "      <td>0</td>\n",
       "      <td>0</td>\n",
       "      <td>0</td>\n",
       "      <td>0</td>\n",
       "      <td>0</td>\n",
       "      <td>0</td>\n",
       "      <td>0</td>\n",
       "      <td>0</td>\n",
       "      <td>0</td>\n",
       "    </tr>\n",
       "    <tr>\n",
       "      <th>2</th>\n",
       "      <td>Frozen</td>\n",
       "      <td>150000000.0</td>\n",
       "      <td>4</td>\n",
       "      <td>108</td>\n",
       "      <td>2013-11-22 00:00:00</td>\n",
       "      <td>0</td>\n",
       "      <td>1</td>\n",
       "      <td>0</td>\n",
       "      <td>0</td>\n",
       "      <td>0</td>\n",
       "      <td>...</td>\n",
       "      <td>0</td>\n",
       "      <td>0</td>\n",
       "      <td>0</td>\n",
       "      <td>0</td>\n",
       "      <td>0</td>\n",
       "      <td>0</td>\n",
       "      <td>0</td>\n",
       "      <td>0</td>\n",
       "      <td>0</td>\n",
       "      <td>0</td>\n",
       "    </tr>\n",
       "    <tr>\n",
       "      <th>3</th>\n",
       "      <td>Despicable Me 2</td>\n",
       "      <td>76000000.0</td>\n",
       "      <td>3</td>\n",
       "      <td>98</td>\n",
       "      <td>2013-07-03 00:00:00</td>\n",
       "      <td>0</td>\n",
       "      <td>1</td>\n",
       "      <td>0</td>\n",
       "      <td>0</td>\n",
       "      <td>0</td>\n",
       "      <td>...</td>\n",
       "      <td>0</td>\n",
       "      <td>0</td>\n",
       "      <td>0</td>\n",
       "      <td>0</td>\n",
       "      <td>0</td>\n",
       "      <td>0</td>\n",
       "      <td>0</td>\n",
       "      <td>0</td>\n",
       "      <td>0</td>\n",
       "      <td>0</td>\n",
       "    </tr>\n",
       "    <tr>\n",
       "      <th>4</th>\n",
       "      <td>Man of Steel</td>\n",
       "      <td>225000000.0</td>\n",
       "      <td>3</td>\n",
       "      <td>143</td>\n",
       "      <td>2013-06-14 00:00:00</td>\n",
       "      <td>0</td>\n",
       "      <td>0</td>\n",
       "      <td>1</td>\n",
       "      <td>0</td>\n",
       "      <td>0</td>\n",
       "      <td>...</td>\n",
       "      <td>0</td>\n",
       "      <td>0</td>\n",
       "      <td>0</td>\n",
       "      <td>0</td>\n",
       "      <td>0</td>\n",
       "      <td>0</td>\n",
       "      <td>0</td>\n",
       "      <td>0</td>\n",
       "      <td>0</td>\n",
       "      <td>1</td>\n",
       "    </tr>\n",
       "  </tbody>\n",
       "</table>\n",
       "<p>5 rows × 102 columns</p>\n",
       "</div>"
      ],
      "text/plain": [
       "                             Title       Budget DomesticTotalGross  Runtime  \\\n",
       "0  The Hunger Games: Catching Fire  130000000.0                  4      146   \n",
       "1                       Iron Man 3  200000000.0                  4      129   \n",
       "2                           Frozen  150000000.0                  4      108   \n",
       "3                  Despicable Me 2   76000000.0                  3       98   \n",
       "4                     Man of Steel  225000000.0                  3      143   \n",
       "\n",
       "           ReleaseDate  Rating_G  Rating_PG  Rating_PG-13  Rating_R  \\\n",
       "0  2013-11-22 00:00:00         0          0             1         0   \n",
       "1  2013-05-03 00:00:00         0          0             1         0   \n",
       "2  2013-11-22 00:00:00         0          1             0         0   \n",
       "3  2013-07-03 00:00:00         0          1             0         0   \n",
       "4  2013-06-14 00:00:00         0          0             1         0   \n",
       "\n",
       "   Director_Adam McKay          ...           Director_Spike Jonze  \\\n",
       "0                    0          ...                              0   \n",
       "1                    0          ...                              0   \n",
       "2                    0          ...                              0   \n",
       "3                    0          ...                              0   \n",
       "4                    0          ...                              0   \n",
       "\n",
       "   Director_Stephen Frears  Director_Steve McQueen (II)  \\\n",
       "0                        0                            0   \n",
       "1                        0                            0   \n",
       "2                        0                            0   \n",
       "3                        0                            0   \n",
       "4                        0                            0   \n",
       "\n",
       "   Director_Steven Soderbergh  Director_Thor Freudenthal  \\\n",
       "0                           0                          0   \n",
       "1                           0                          0   \n",
       "2                           0                          0   \n",
       "3                           0                          0   \n",
       "4                           0                          0   \n",
       "\n",
       "   Director_Todd Phillips  Director_Tommy Wirkola  Director_Tyler Perry  \\\n",
       "0                       0                       0                     0   \n",
       "1                       0                       0                     0   \n",
       "2                       0                       0                     0   \n",
       "3                       0                       0                     0   \n",
       "4                       0                       0                     0   \n",
       "\n",
       "   Director_Woody Allen  Director_Zack Snyder  \n",
       "0                     0                     0  \n",
       "1                     0                     0  \n",
       "2                     0                     0  \n",
       "3                     0                     0  \n",
       "4                     0                     1  \n",
       "\n",
       "[5 rows x 102 columns]"
      ]
     },
     "execution_count": 80,
     "metadata": {},
     "output_type": "execute_result"
    }
   ],
   "source": [
    "df2.head()"
   ]
  },
  {
   "cell_type": "code",
   "execution_count": 81,
   "metadata": {
    "collapsed": true
   },
   "outputs": [],
   "source": [
    "df2 = df2.dropna()"
   ]
  },
  {
   "cell_type": "code",
   "execution_count": 82,
   "metadata": {
    "collapsed": true
   },
   "outputs": [],
   "source": [
    "X = df2.iloc[:, 5:]\n",
    "X['Budget'] = df2['Budget']\n",
    "X['Runtime'] = df2['Runtime']"
   ]
  },
  {
   "cell_type": "code",
   "execution_count": 83,
   "metadata": {
    "collapsed": true
   },
   "outputs": [],
   "source": [
    "\n",
    "y = df2['DomesticTotalGross']\n",
    "\n",
    "X_train, X_test, y_train, y_test = train_test_split(X, y, test_size=0.3,random_state=4444)\n",
    "\n",
    "X2 = np.linspace(0,20, 20)\n",
    "\n",
    "results5 = pd.DataFrame()  #columns=['Iteration', 'TrainingError', 'TestingError']\n",
    "\n",
    "results5['K'] = X2\n",
    "results5['Accuracy'] = X2"
   ]
  },
  {
   "cell_type": "code",
   "execution_count": 84,
   "metadata": {
    "collapsed": true
   },
   "outputs": [],
   "source": [
    "count = float(df2['DomesticTotalGross'][df2['DomesticTotalGross']==1].count())"
   ]
  },
  {
   "cell_type": "code",
   "execution_count": 85,
   "metadata": {
    "collapsed": true
   },
   "outputs": [],
   "source": [
    "l = float(len(df2))"
   ]
  },
  {
   "cell_type": "code",
   "execution_count": 86,
   "metadata": {},
   "outputs": [
    {
     "data": {
      "text/plain": [
       "0.3595505617977528"
      ]
     },
     "execution_count": 86,
     "metadata": {},
     "output_type": "execute_result"
    }
   ],
   "source": [
    "Baseline_predictor = count/l  #(((df2['DomesticTotalGross'][df2['DomesticTotalGross']==1]).count()//len(df2)) * 100)\n",
    "Baseline_predictor"
   ]
  },
  {
   "cell_type": "code",
   "execution_count": 87,
   "metadata": {
    "collapsed": true
   },
   "outputs": [],
   "source": [
    "for k in range(1,20):\n",
    "    \n",
    "    knc_model = KNeighborsClassifier(n_neighbors=k)\n",
    "    knc_model.fit(X_train,y_train)\n",
    "    test_set_pred = knc_model.predict(X_test)\n",
    "    acc_score = accuracy_score(y_test, test_set_pred)\n",
    "\n",
    "    results5['K'][k] = k\n",
    "    results5['Accuracy'][k] = acc_score"
   ]
  },
  {
   "cell_type": "code",
   "execution_count": 88,
   "metadata": {},
   "outputs": [
    {
     "data": {
      "text/html": [
       "<div>\n",
       "<style>\n",
       "    .dataframe thead tr:only-child th {\n",
       "        text-align: right;\n",
       "    }\n",
       "\n",
       "    .dataframe thead th {\n",
       "        text-align: left;\n",
       "    }\n",
       "\n",
       "    .dataframe tbody tr th {\n",
       "        vertical-align: top;\n",
       "    }\n",
       "</style>\n",
       "<table border=\"1\" class=\"dataframe\">\n",
       "  <thead>\n",
       "    <tr style=\"text-align: right;\">\n",
       "      <th></th>\n",
       "      <th>K</th>\n",
       "      <th>Accuracy</th>\n",
       "    </tr>\n",
       "  </thead>\n",
       "  <tbody>\n",
       "    <tr>\n",
       "      <th>11</th>\n",
       "      <td>11.0</td>\n",
       "      <td>0.592593</td>\n",
       "    </tr>\n",
       "  </tbody>\n",
       "</table>\n",
       "</div>"
      ],
      "text/plain": [
       "       K  Accuracy\n",
       "11  11.0  0.592593"
      ]
     },
     "execution_count": 88,
     "metadata": {},
     "output_type": "execute_result"
    }
   ],
   "source": [
    "results5[results5['Accuracy'] == results5['Accuracy'].max() ]"
   ]
  },
  {
   "cell_type": "code",
   "execution_count": 89,
   "metadata": {},
   "outputs": [
    {
     "data": {
      "text/plain": [
       "<matplotlib.axes._subplots.AxesSubplot at 0x1ca95826b70>"
      ]
     },
     "execution_count": 89,
     "metadata": {},
     "output_type": "execute_result"
    },
    {
     "data": {
      "image/png": "[encoded data removed]",
      "text/plain": [
       "<matplotlib.figure.Figure at 0x1ca955a7b00>"
      ]
     },
     "metadata": {},
     "output_type": "display_data"
    }
   ],
   "source": [
    "sns.pointplot(results5['K'],results3['Accuracy'])"
   ]
  },
  {
   "cell_type": "code",
   "execution_count": 90,
   "metadata": {},
   "outputs": [
    {
     "data": {
      "text/plain": [
       "0.40740740740740738"
      ]
     },
     "execution_count": 90,
     "metadata": {},
     "output_type": "execute_result"
    }
   ],
   "source": [
    "from sklearn import linear_model\n",
    "from sklearn.linear_model import LogisticRegression\n",
    "from sklearn.metrics import accuracy_score\n",
    "\n",
    "# for i, l in enumerate(results2['l2']):\n",
    "    \n",
    "lr_model = LogisticRegression()\n",
    "lr_model.fit(X_train,y_train)\n",
    "test_set_pred = lr_model.predict(X_test)\n",
    "acc_score = accuracy_score(y_test, test_set_pred)\n",
    "\n",
    "\n",
    "acc_score"
   ]
  },
  {
   "cell_type": "code",
   "execution_count": 91,
   "metadata": {},
   "outputs": [
    {
     "data": {
      "text/plain": [
       "array([[  0.00000000e+00,  -2.08896439e-17,  -1.23329399e-16,\n",
       "         -8.16455102e-17,  -2.06269092e-17,  -7.43425579e-18,\n",
       "         -1.32700649e-17,   0.00000000e+00,   0.00000000e+00,\n",
       "          0.00000000e+00,  -1.87682265e-17,   4.46003166e-17,\n",
       "         -1.26920477e-17,  -1.45118270e-17,  -2.76240613e-17,\n",
       "         -2.24190131e-17,  -6.27464226e-18,  -2.24190131e-17,\n",
       "          5.32977725e-17,  -8.65773286e-18,   0.00000000e+00,\n",
       "          0.00000000e+00,  -2.24190131e-17,  -9.78603633e-18,\n",
       "          3.76821931e-17,  -1.53126087e-17,  -2.13327787e-17,\n",
       "         -1.58698244e-17,   0.00000000e+00,  -2.39135387e-17,\n",
       "         -2.68286881e-17,  -1.02072881e-17,   0.00000000e+00,\n",
       "         -5.57927349e-18,  -6.47823429e-18,   0.00000000e+00,\n",
       "         -6.47823429e-18,  -2.96306310e-17,  -1.11230021e-17,\n",
       "         -5.54642226e-17,   0.00000000e+00,  -2.72256728e-17,\n",
       "          3.57919506e-17,   0.00000000e+00,   0.00000000e+00,\n",
       "          0.00000000e+00,  -1.42542261e-17,   0.00000000e+00,\n",
       "         -1.02072881e-17,   0.00000000e+00,  -2.46781904e-17,\n",
       "         -2.33473475e-17,  -1.11230021e-17,  -8.00898693e-18,\n",
       "          3.54057934e-17,   3.61756048e-17,   0.00000000e+00,\n",
       "         -2.06269092e-17,   0.00000000e+00,  -2.42945362e-17,\n",
       "          0.00000000e+00,   0.00000000e+00,  -1.02072881e-17,\n",
       "         -2.68286881e-17,  -6.47823429e-18,   0.00000000e+00,\n",
       "          3.54057934e-17,   3.07387974e-17,   3.22462626e-17,\n",
       "          0.00000000e+00,  -2.18719268e-17,  -1.97665773e-17,\n",
       "         -2.24190131e-17,   0.00000000e+00,   0.00000000e+00,\n",
       "          0.00000000e+00,   0.00000000e+00,  -2.29736313e-17,\n",
       "          0.00000000e+00,   5.02628529e-17,   0.00000000e+00,\n",
       "          3.76821931e-17,   4.15381806e-17,  -5.57927349e-18,\n",
       "          0.00000000e+00,  -6.08365769e-18,   0.00000000e+00,\n",
       "          3.48222117e-17,   3.26464157e-17,  -2.62362336e-17,\n",
       "          0.00000000e+00,   0.00000000e+00,  -1.29198718e-17,\n",
       "          0.00000000e+00,   0.00000000e+00,   0.00000000e+00,\n",
       "          0.00000000e+00,  -1.67627311e-08,  -2.74919753e-14],\n",
       "       [  0.00000000e+00,   1.04432167e-17,  -4.92215527e-17,\n",
       "         -7.07825106e-17,  -1.03834489e-17,  -7.44866301e-18,\n",
       "         -9.06555628e-18,   0.00000000e+00,   0.00000000e+00,\n",
       "          0.00000000e+00,   1.34629062e-17,  -9.57982280e-18,\n",
       "         -8.94018128e-18,   1.42276167e-17,   1.21385110e-17,\n",
       "          1.28899217e-17,   1.65970136e-17,   1.28899217e-17,\n",
       "         -7.34557177e-18,  -7.87832308e-18,   0.00000000e+00,\n",
       "          0.00000000e+00,  -1.06579325e-17,   1.53296416e-17,\n",
       "         -1.07131347e-17,   1.40724268e-17,   1.30549354e-17,\n",
       "         -9.57982280e-18,   0.00000000e+00,  -1.08792701e-17,\n",
       "          1.22504827e-17,  -8.33474203e-18,   0.00000000e+00,\n",
       "          1.69633295e-17,  -7.04686481e-18,   0.00000000e+00,\n",
       "         -7.04686481e-18,   1.18581109e-17,  -8.57246782e-18,\n",
       "          7.00725632e-19,   0.00000000e+00,  -1.13533390e-17,\n",
       "         -1.09904212e-17,   0.00000000e+00,   0.00000000e+00,\n",
       "          0.00000000e+00,   1.42789586e-17,   0.00000000e+00,\n",
       "         -8.33474203e-18,   0.00000000e+00,   1.25574331e-17,\n",
       "          1.27517466e-17,   1.49753864e-17,  -7.66006473e-18,\n",
       "         -1.10461009e-17,  -1.09348094e-17,   0.00000000e+00,\n",
       "          1.31644053e-17,   0.00000000e+00,  -1.09348094e-17,\n",
       "          0.00000000e+00,   0.00000000e+00,   1.52131122e-17,\n",
       "          1.22504827e-17,  -7.04686481e-18,   0.00000000e+00,\n",
       "         -1.10461009e-17,  -1.17037733e-17,  -1.14934076e-17,\n",
       "          0.00000000e+00,  -1.05753103e-17,  -1.02472803e-17,\n",
       "         -1.06579325e-17,   0.00000000e+00,   0.00000000e+00,\n",
       "          0.00000000e+00,   0.00000000e+00,  -1.07407703e-17,\n",
       "          0.00000000e+00,  -8.33474203e-18,   0.00000000e+00,\n",
       "         -1.07131347e-17,  -1.01119179e-17,  -6.58452478e-18,\n",
       "          0.00000000e+00,  -6.85659504e-18,   0.00000000e+00,\n",
       "         -1.11297373e-17,  -1.14373575e-17,   1.23343547e-17,\n",
       "          0.00000000e+00,   0.00000000e+00,  -8.99016905e-18,\n",
       "          0.00000000e+00,   0.00000000e+00,   0.00000000e+00,\n",
       "          0.00000000e+00,  -6.90989427e-09,  -1.33483685e-14],\n",
       "       [  0.00000000e+00,  -7.91288067e-17,  -5.59833751e-17,\n",
       "         -9.28147945e-17,   2.23270517e-17,  -8.81630355e-18,\n",
       "         -1.22734499e-17,   0.00000000e+00,   0.00000000e+00,\n",
       "          0.00000000e+00,  -1.46785208e-17,  -1.34697563e-17,\n",
       "          2.57447557e-17,  -1.28611084e-17,  -1.79521549e-17,\n",
       "         -1.60808592e-17,  -7.86645774e-18,  -1.60808592e-17,\n",
       "         -8.61466717e-18,  -9.68296352e-18,   0.00000000e+00,\n",
       "          0.00000000e+00,   2.16517750e-17,  -1.03969254e-17,\n",
       "         -1.62173297e-17,  -1.32238667e-17,  -1.56741989e-17,\n",
       "          2.42628779e-17,   0.00000000e+00,   2.11034274e-17,\n",
       "         -1.76718596e-17,  -1.06471198e-17,   0.00000000e+00,\n",
       "         -7.20758434e-18,   2.96877236e-17,   0.00000000e+00,\n",
       "         -8.04491064e-18,  -1.86551242e-17,   2.65669847e-17,\n",
       "          1.75612329e-18,   0.00000000e+00,   1.99207137e-17,\n",
       "         -1.69056360e-17,   0.00000000e+00,   0.00000000e+00,\n",
       "          0.00000000e+00,  -1.27418551e-17,   0.00000000e+00,\n",
       "          2.70855144e-17,   0.00000000e+00,  -1.69056360e-17,\n",
       "         -1.64228255e-17,  -1.11656495e-17,  -9.23752345e-18,\n",
       "         -1.70443396e-17,  -1.67672512e-17,   0.00000000e+00,\n",
       "         -1.54055826e-17,   0.00000000e+00,   2.09653830e-17,\n",
       "          0.00000000e+00,   0.00000000e+00,  -1.06471198e-17,\n",
       "         -1.76718596e-17,  -8.04491064e-18,   0.00000000e+00,\n",
       "         -1.70443396e-17,  -1.86903197e-17,  -1.81627815e-17,\n",
       "          0.00000000e+00,   2.18556398e-17,   2.26597518e-17,\n",
       "          2.16517750e-17,   0.00000000e+00,   0.00000000e+00,\n",
       "          0.00000000e+00,   0.00000000e+00,   2.14469087e-17,\n",
       "          0.00000000e+00,  -1.06471198e-17,   0.00000000e+00,\n",
       "         -1.62173297e-17,  -1.47438599e-17,  -7.20758434e-18,\n",
       "          0.00000000e+00,  -7.69359523e-18,   0.00000000e+00,\n",
       "         -1.72529448e-17,  -1.80223299e-17,  -1.74621433e-17,\n",
       "          0.00000000e+00,   0.00000000e+00,   2.56312018e-17,\n",
       "          0.00000000e+00,   0.00000000e+00,   0.00000000e+00,\n",
       "          0.00000000e+00,  -9.50982866e-09,  -2.18374690e-14],\n",
       "       [  0.00000000e+00,  -7.97226911e-17,  -1.59938867e-16,\n",
       "         -4.28843562e-16,  -1.64978300e-17,   3.36489052e-17,\n",
       "          2.95686556e-17,   0.00000000e+00,   0.00000000e+00,\n",
       "          0.00000000e+00,  -1.55579791e-17,  -1.40156345e-17,\n",
       "         -1.21685077e-17,  -1.32504738e-17,  -1.98367195e-17,\n",
       "         -1.73772539e-17,  -7.40096455e-18,  -1.73772539e-17,\n",
       "         -8.21587110e-18,  -9.42242062e-18,   0.00000000e+00,\n",
       "          0.00000000e+00,  -1.73772539e-17,  -1.02538710e-17,\n",
       "         -1.75556305e-17,  -1.37055020e-17,  -1.68469744e-17,\n",
       "         -1.40156345e-17,   0.00000000e+00,  -1.80951227e-17,\n",
       "         -1.94668901e-17,  -1.05495656e-17,   0.00000000e+00,\n",
       "         -6.70650967e-18,  -7.59289172e-18,   0.00000000e+00,\n",
       "          3.44959131e-17,  -2.07652896e-17,  -1.11690676e-17,\n",
       "         -3.97697056e-17,   0.00000000e+00,  -1.96516495e-17,\n",
       "         -1.84580565e-17,   0.00000000e+00,   0.00000000e+00,\n",
       "          0.00000000e+00,  -1.31015695e-17,   0.00000000e+00,\n",
       "         -1.05495656e-17,   0.00000000e+00,  -1.84580565e-17,\n",
       "         -1.78245921e-17,  -1.11690676e-17,   3.31752357e-17,\n",
       "         -1.86403933e-17,  -1.82762870e-17,   0.00000000e+00,\n",
       "         -1.64978300e-17,   0.00000000e+00,  -1.82762870e-17,\n",
       "          0.00000000e+00,   0.00000000e+00,  -1.05495656e-17,\n",
       "         -1.94668901e-17,   3.44959131e-17,   0.00000000e+00,\n",
       "         -1.86403933e-17,  -2.08118025e-17,  -2.01148171e-17,\n",
       "          0.00000000e+00,  -1.71111729e-17,  -1.60667678e-17,\n",
       "         -1.73772539e-17,   0.00000000e+00,   0.00000000e+00,\n",
       "          0.00000000e+00,   0.00000000e+00,  -1.76451026e-17,\n",
       "          0.00000000e+00,  -1.05495656e-17,   0.00000000e+00,\n",
       "         -1.75556305e-17,  -1.56421049e-17,   3.53822952e-17,\n",
       "          0.00000000e+00,  -7.21657048e-18,   0.00000000e+00,\n",
       "         -1.89148781e-17,  -1.99293581e-17,  -1.91904216e-17,\n",
       "          0.00000000e+00,   0.00000000e+00,  -1.23080677e-17,\n",
       "          0.00000000e+00,   0.00000000e+00,   0.00000000e+00,\n",
       "          0.00000000e+00,  -1.11920077e-08,  -7.22363782e-14],\n",
       "       [  0.00000000e+00,  -9.68843913e-17,  -4.14341613e-16,\n",
       "         -1.02567510e-15,  -3.43103688e-17,  -7.44538062e-18,\n",
       "         -1.71925812e-17,   0.00000000e+00,   0.00000000e+00,\n",
       "          0.00000000e+00,  -2.95595160e-17,  -2.26981431e-17,\n",
       "         -1.60595783e-17,  -1.97406745e-17,  -5.39493639e-17,\n",
       "         -3.91121502e-17,  -5.99875488e-18,  -3.91121502e-17,\n",
       "         -7.10290145e-18,   1.14159200e-16,   0.00000000e+00,\n",
       "          0.00000000e+00,  -3.91121502e-17,  -1.09048396e-17,\n",
       "         -4.01244383e-17,  -2.14636465e-17,  -3.61776853e-17,\n",
       "         -2.26981431e-17,   0.00000000e+00,  -4.32571107e-17,\n",
       "         -5.16213335e-17,   1.11726303e-16,   0.00000000e+00,\n",
       "         -5.22188964e-18,  -6.23944066e-18,   0.00000000e+00,\n",
       "         -6.23944066e-18,  -5.98701205e-17,  -1.31612709e-17,\n",
       "         -1.08576259e-16,   0.00000000e+00,  -5.27814754e-17,\n",
       "         -4.54196407e-17,   0.00000000e+00,   0.00000000e+00,\n",
       "          0.00000000e+00,  -1.91995373e-17,   0.00000000e+00,\n",
       "         -1.15939856e-17,   0.00000000e+00,  -4.54196407e-17,\n",
       "         -4.16733123e-17,  -1.31612709e-17,  -8.22797502e-18,\n",
       "         -4.65211625e-17,  -4.43313898e-17,   0.00000000e+00,\n",
       "         -3.43103688e-17,   0.00000000e+00,  -4.43313898e-17,\n",
       "          0.00000000e+00,   0.00000000e+00,  -1.15939856e-17,\n",
       "         -5.16213335e-17,  -6.23944066e-18,   0.00000000e+00,\n",
       "         -4.65211625e-17,  -6.01683046e-17,  -5.57135838e-17,\n",
       "          0.00000000e+00,  -3.76253369e-17,  -3.20801372e-17,\n",
       "         -3.91121502e-17,   0.00000000e+00,   0.00000000e+00,\n",
       "          0.00000000e+00,   0.00000000e+00,  -4.06367340e-17,\n",
       "          0.00000000e+00,  -1.15939856e-17,   0.00000000e+00,\n",
       "         -4.01244383e-17,  -2.99677364e-17,  -5.22188964e-18,\n",
       "          0.00000000e+00,   1.17541963e-16,   0.00000000e+00,\n",
       "         -4.81966892e-17,  -5.45359097e-17,  -4.98977064e-17,\n",
       "          0.00000000e+00,   0.00000000e+00,  -1.65020412e-17,\n",
       "          0.00000000e+00,   0.00000000e+00,   0.00000000e+00,\n",
       "          0.00000000e+00,  -2.27959207e-08,  -1.61228644e-13]])"
      ]
     },
     "execution_count": 91,
     "metadata": {},
     "output_type": "execute_result"
    }
   ],
   "source": [
    "lr_model.coef_"
   ]
  },
  {
   "cell_type": "markdown",
   "metadata": {},
   "source": [
    "#### Challenge 12"
   ]
  },
  {
   "cell_type": "code",
   "execution_count": 92,
   "metadata": {
    "collapsed": true
   },
   "outputs": [],
   "source": [
    "df = pd.read_csv(\"C:/Users/aj282_000/OneDrive/thisismetis/sf17_ds8_workingdirectory/challenges/challeges_questions/07-classification/haberman.data\", header=None)"
   ]
  },
  {
   "cell_type": "code",
   "execution_count": 93,
   "metadata": {},
   "outputs": [
    {
     "data": {
      "text/plain": [
       "Int64Index([0, 1, 2, 3], dtype='int64')"
      ]
     },
     "execution_count": 93,
     "metadata": {},
     "output_type": "execute_result"
    }
   ],
   "source": [
    "df.columns"
   ]
  },
  {
   "cell_type": "code",
   "execution_count": 94,
   "metadata": {},
   "outputs": [
    {
     "data": {
      "text/html": [
       "<div>\n",
       "<style>\n",
       "    .dataframe thead tr:only-child th {\n",
       "        text-align: right;\n",
       "    }\n",
       "\n",
       "    .dataframe thead th {\n",
       "        text-align: left;\n",
       "    }\n",
       "\n",
       "    .dataframe tbody tr th {\n",
       "        vertical-align: top;\n",
       "    }\n",
       "</style>\n",
       "<table border=\"1\" class=\"dataframe\">\n",
       "  <thead>\n",
       "    <tr style=\"text-align: right;\">\n",
       "      <th></th>\n",
       "      <th>0</th>\n",
       "      <th>1</th>\n",
       "      <th>2</th>\n",
       "      <th>3</th>\n",
       "    </tr>\n",
       "  </thead>\n",
       "  <tbody>\n",
       "    <tr>\n",
       "      <th>count</th>\n",
       "      <td>306.000000</td>\n",
       "      <td>306.000000</td>\n",
       "      <td>306.000000</td>\n",
       "      <td>306.000000</td>\n",
       "    </tr>\n",
       "    <tr>\n",
       "      <th>mean</th>\n",
       "      <td>52.457516</td>\n",
       "      <td>62.852941</td>\n",
       "      <td>4.026144</td>\n",
       "      <td>1.264706</td>\n",
       "    </tr>\n",
       "    <tr>\n",
       "      <th>std</th>\n",
       "      <td>10.803452</td>\n",
       "      <td>3.249405</td>\n",
       "      <td>7.189654</td>\n",
       "      <td>0.441899</td>\n",
       "    </tr>\n",
       "    <tr>\n",
       "      <th>min</th>\n",
       "      <td>30.000000</td>\n",
       "      <td>58.000000</td>\n",
       "      <td>0.000000</td>\n",
       "      <td>1.000000</td>\n",
       "    </tr>\n",
       "    <tr>\n",
       "      <th>25%</th>\n",
       "      <td>44.000000</td>\n",
       "      <td>60.000000</td>\n",
       "      <td>0.000000</td>\n",
       "      <td>1.000000</td>\n",
       "    </tr>\n",
       "    <tr>\n",
       "      <th>50%</th>\n",
       "      <td>52.000000</td>\n",
       "      <td>63.000000</td>\n",
       "      <td>1.000000</td>\n",
       "      <td>1.000000</td>\n",
       "    </tr>\n",
       "    <tr>\n",
       "      <th>75%</th>\n",
       "      <td>60.750000</td>\n",
       "      <td>65.750000</td>\n",
       "      <td>4.000000</td>\n",
       "      <td>2.000000</td>\n",
       "    </tr>\n",
       "    <tr>\n",
       "      <th>max</th>\n",
       "      <td>83.000000</td>\n",
       "      <td>69.000000</td>\n",
       "      <td>52.000000</td>\n",
       "      <td>2.000000</td>\n",
       "    </tr>\n",
       "  </tbody>\n",
       "</table>\n",
       "</div>"
      ],
      "text/plain": [
       "                0           1           2           3\n",
       "count  306.000000  306.000000  306.000000  306.000000\n",
       "mean    52.457516   62.852941    4.026144    1.264706\n",
       "std     10.803452    3.249405    7.189654    0.441899\n",
       "min     30.000000   58.000000    0.000000    1.000000\n",
       "25%     44.000000   60.000000    0.000000    1.000000\n",
       "50%     52.000000   63.000000    1.000000    1.000000\n",
       "75%     60.750000   65.750000    4.000000    2.000000\n",
       "max     83.000000   69.000000   52.000000    2.000000"
      ]
     },
     "execution_count": 94,
     "metadata": {},
     "output_type": "execute_result"
    }
   ],
   "source": [
    "df.describe()"
   ]
  },
  {
   "cell_type": "code",
   "execution_count": 95,
   "metadata": {
    "collapsed": true
   },
   "outputs": [],
   "source": [
    "df.columns = ['Age', 'YearofOp', 'PositiveNodes', 'SurvivalStatus']"
   ]
  },
  {
   "cell_type": "code",
   "execution_count": 96,
   "metadata": {},
   "outputs": [
    {
     "data": {
      "text/html": [
       "<div>\n",
       "<style>\n",
       "    .dataframe thead tr:only-child th {\n",
       "        text-align: right;\n",
       "    }\n",
       "\n",
       "    .dataframe thead th {\n",
       "        text-align: left;\n",
       "    }\n",
       "\n",
       "    .dataframe tbody tr th {\n",
       "        vertical-align: top;\n",
       "    }\n",
       "</style>\n",
       "<table border=\"1\" class=\"dataframe\">\n",
       "  <thead>\n",
       "    <tr style=\"text-align: right;\">\n",
       "      <th></th>\n",
       "      <th>Age</th>\n",
       "      <th>YearofOp</th>\n",
       "      <th>PositiveNodes</th>\n",
       "      <th>SurvivalStatus</th>\n",
       "    </tr>\n",
       "  </thead>\n",
       "  <tbody>\n",
       "    <tr>\n",
       "      <th>0</th>\n",
       "      <td>30</td>\n",
       "      <td>64</td>\n",
       "      <td>1</td>\n",
       "      <td>1</td>\n",
       "    </tr>\n",
       "    <tr>\n",
       "      <th>1</th>\n",
       "      <td>30</td>\n",
       "      <td>62</td>\n",
       "      <td>3</td>\n",
       "      <td>1</td>\n",
       "    </tr>\n",
       "    <tr>\n",
       "      <th>2</th>\n",
       "      <td>30</td>\n",
       "      <td>65</td>\n",
       "      <td>0</td>\n",
       "      <td>1</td>\n",
       "    </tr>\n",
       "    <tr>\n",
       "      <th>3</th>\n",
       "      <td>31</td>\n",
       "      <td>59</td>\n",
       "      <td>2</td>\n",
       "      <td>1</td>\n",
       "    </tr>\n",
       "    <tr>\n",
       "      <th>4</th>\n",
       "      <td>31</td>\n",
       "      <td>65</td>\n",
       "      <td>4</td>\n",
       "      <td>1</td>\n",
       "    </tr>\n",
       "  </tbody>\n",
       "</table>\n",
       "</div>"
      ],
      "text/plain": [
       "   Age  YearofOp  PositiveNodes  SurvivalStatus\n",
       "0   30        64              1               1\n",
       "1   30        62              3               1\n",
       "2   30        65              0               1\n",
       "3   31        59              2               1\n",
       "4   31        65              4               1"
      ]
     },
     "execution_count": 96,
     "metadata": {},
     "output_type": "execute_result"
    }
   ],
   "source": [
    "df.head()"
   ]
  },
  {
   "cell_type": "code",
   "execution_count": 97,
   "metadata": {},
   "outputs": [
    {
     "data": {
      "text/html": [
       "<div>\n",
       "<style>\n",
       "    .dataframe thead tr:only-child th {\n",
       "        text-align: right;\n",
       "    }\n",
       "\n",
       "    .dataframe thead th {\n",
       "        text-align: left;\n",
       "    }\n",
       "\n",
       "    .dataframe tbody tr th {\n",
       "        vertical-align: top;\n",
       "    }\n",
       "</style>\n",
       "<table border=\"1\" class=\"dataframe\">\n",
       "  <thead>\n",
       "    <tr style=\"text-align: right;\">\n",
       "      <th></th>\n",
       "      <th>Age</th>\n",
       "      <th>YearofOp</th>\n",
       "      <th>PositiveNodes</th>\n",
       "    </tr>\n",
       "    <tr>\n",
       "      <th>SurvivalStatus</th>\n",
       "      <th></th>\n",
       "      <th></th>\n",
       "      <th></th>\n",
       "    </tr>\n",
       "  </thead>\n",
       "  <tbody>\n",
       "    <tr>\n",
       "      <th>1</th>\n",
       "      <td>52.017778</td>\n",
       "      <td>62.862222</td>\n",
       "      <td>2.791111</td>\n",
       "    </tr>\n",
       "    <tr>\n",
       "      <th>2</th>\n",
       "      <td>53.679012</td>\n",
       "      <td>62.827160</td>\n",
       "      <td>7.456790</td>\n",
       "    </tr>\n",
       "  </tbody>\n",
       "</table>\n",
       "</div>"
      ],
      "text/plain": [
       "                      Age   YearofOp  PositiveNodes\n",
       "SurvivalStatus                                     \n",
       "1               52.017778  62.862222       2.791111\n",
       "2               53.679012  62.827160       7.456790"
      ]
     },
     "execution_count": 97,
     "metadata": {},
     "output_type": "execute_result"
    }
   ],
   "source": [
    "df.groupby('SurvivalStatus').mean()\n",
    "#Average Age Survived 5+ = 52.017778\n",
    "#Average Age Survived <5 = 53.679012"
   ]
  },
  {
   "cell_type": "code",
   "execution_count": 98,
   "metadata": {},
   "outputs": [
    {
     "data": {
      "text/html": [
       "<div>\n",
       "<style>\n",
       "    .dataframe thead tr:only-child th {\n",
       "        text-align: right;\n",
       "    }\n",
       "\n",
       "    .dataframe thead th {\n",
       "        text-align: left;\n",
       "    }\n",
       "\n",
       "    .dataframe tbody tr th {\n",
       "        vertical-align: top;\n",
       "    }\n",
       "</style>\n",
       "<table border=\"1\" class=\"dataframe\">\n",
       "  <thead>\n",
       "    <tr style=\"text-align: right;\">\n",
       "      <th></th>\n",
       "      <th>Age</th>\n",
       "      <th>YearofOp</th>\n",
       "      <th>PositiveNodes</th>\n",
       "    </tr>\n",
       "    <tr>\n",
       "      <th>SurvivalStatus</th>\n",
       "      <th></th>\n",
       "      <th></th>\n",
       "      <th></th>\n",
       "    </tr>\n",
       "  </thead>\n",
       "  <tbody>\n",
       "    <tr>\n",
       "      <th>1</th>\n",
       "      <td>11.012154</td>\n",
       "      <td>3.222915</td>\n",
       "      <td>5.870318</td>\n",
       "    </tr>\n",
       "    <tr>\n",
       "      <th>2</th>\n",
       "      <td>10.167137</td>\n",
       "      <td>3.342118</td>\n",
       "      <td>9.185654</td>\n",
       "    </tr>\n",
       "  </tbody>\n",
       "</table>\n",
       "</div>"
      ],
      "text/plain": [
       "                      Age  YearofOp  PositiveNodes\n",
       "SurvivalStatus                                    \n",
       "1               11.012154  3.222915       5.870318\n",
       "2               10.167137  3.342118       9.185654"
      ]
     },
     "execution_count": 98,
     "metadata": {},
     "output_type": "execute_result"
    }
   ],
   "source": [
    "df.groupby('SurvivalStatus').std()\n",
    "#Std Dev Age Survived 5+ = \t11.012154\n",
    "#Std Dev Age Survived <5 = \t10.167137"
   ]
  },
  {
   "cell_type": "code",
   "execution_count": 99,
   "metadata": {},
   "outputs": [
    {
     "data": {
      "text/plain": [
       "(array([ 16.,  27.,  46.,  53.,  55.,  41.,  41.,  18.,   7.,   2.]),\n",
       " array([ 30. ,  35.3,  40.6,  45.9,  51.2,  56.5,  61.8,  67.1,  72.4,\n",
       "         77.7,  83. ]),\n",
       " <a list of 10 Patch objects>)"
      ]
     },
     "execution_count": 99,
     "metadata": {},
     "output_type": "execute_result"
    },
    {
     "data": {
      "image/png": "[encoded data removed]",
      "text/plain": [
       "<matplotlib.figure.Figure at 0x1ca9591c198>"
      ]
     },
     "metadata": {},
     "output_type": "display_data"
    }
   ],
   "source": [
    "plt.hist(df['Age'])"
   ]
  },
  {
   "cell_type": "code",
   "execution_count": 100,
   "metadata": {},
   "outputs": [
    {
     "data": {
      "text/plain": [
       "58"
      ]
     },
     "execution_count": 100,
     "metadata": {},
     "output_type": "execute_result"
    }
   ],
   "source": [
    "df['YearofOp'].min()"
   ]
  },
  {
   "cell_type": "code",
   "execution_count": 101,
   "metadata": {},
   "outputs": [
    {
     "data": {
      "text/plain": [
       "69"
      ]
     },
     "execution_count": 101,
     "metadata": {},
     "output_type": "execute_result"
    }
   ],
   "source": [
    "df['YearofOp'].max()"
   ]
  },
  {
   "cell_type": "code",
   "execution_count": 102,
   "metadata": {
    "collapsed": true
   },
   "outputs": [],
   "source": [
    "X = df.iloc[:,0:3]\n",
    "y = df['SurvivalStatus']\n",
    "X_train, X_test, y_train, y_test = train_test_split(X, y, test_size=0.3,random_state=4444)"
   ]
  },
  {
   "cell_type": "code",
   "execution_count": 103,
   "metadata": {},
   "outputs": [
    {
     "data": {
      "text/plain": [
       "0.81521739130434778"
      ]
     },
     "execution_count": 103,
     "metadata": {},
     "output_type": "execute_result"
    }
   ],
   "source": [
    "from sklearn import linear_model\n",
    "from sklearn.linear_model import LogisticRegression\n",
    "from sklearn.metrics import accuracy_score\n",
    "\n",
    "# for i, l in enumerate(results2['l2']):\n",
    "    \n",
    "lr_model = LogisticRegression()\n",
    "lr_model.fit(X_train,y_train)\n",
    "test_set_pred = lr_model.predict(X_test)\n",
    "acc_score = accuracy_score(y_test, test_set_pred)\n",
    "\n",
    "\n",
    "acc_score"
   ]
  },
  {
   "cell_type": "code",
   "execution_count": 104,
   "metadata": {},
   "outputs": [
    {
     "data": {
      "text/plain": [
       "array([[ 0.0155515 , -0.02899279,  0.07136197]])"
      ]
     },
     "execution_count": 104,
     "metadata": {},
     "output_type": "execute_result"
    }
   ],
   "source": [
    "lr_model.coef_"
   ]
  },
  {
   "cell_type": "code",
   "execution_count": 105,
   "metadata": {
    "collapsed": true
   },
   "outputs": [],
   "source": [
    "train_sizes, train_scores, valid_scores = learning_curve(LogisticRegression(), X, y)"
   ]
  },
  {
   "cell_type": "code",
   "execution_count": 106,
   "metadata": {},
   "outputs": [
    {
     "name": "stderr",
     "output_type": "stream",
     "text": [
      "C:\\Users\\aj282_000\\Anaconda3\\lib\\site-packages\\matplotlib\\axes\\_axes.py:545: UserWarning: No labelled objects found. Use label='...' kwarg on individual plots.\n",
      "  warnings.warn(\"No labelled objects found. \"\n"
     ]
    },
    {
     "data": {
      "image/png": "[encoded data removed]",
      "text/plain": [
       "<matplotlib.figure.Figure at 0x1ca959bd5f8>"
      ]
     },
     "metadata": {},
     "output_type": "display_data"
    }
   ],
   "source": [
    "fig, ax = plt.subplots()\n",
    "for Y in [train_scores, valid_scores]:\n",
    "    ax.plot(train_sizes, Y)\n",
    "ax.set_xlabel('Train Sizes')\n",
    "ax.set_ylabel('Accuracy')\n",
    "plt.legend(loc=\"upper left\", bbox_to_anchor=[0, 1],\n",
    "           ncol=2, shadow=True, title=\"Legend\", fancybox=True)\n",
    "# ax.get_legend()\n",
    "plt.show()"
   ]
  },
  {
   "cell_type": "code",
   "execution_count": null,
   "metadata": {
    "collapsed": true
   },
   "outputs": [],
   "source": []
  },
  {
   "cell_type": "code",
   "execution_count": null,
   "metadata": {
    "collapsed": true
   },
   "outputs": [],
   "source": []
  }
 ],
 "metadata": {
  "kernelspec": {
   "display_name": "Python 3",
   "language": "python",
   "name": "python3"
  },
  "language_info": {
   "codemirror_mode": {
    "name": "ipython",
    "version": 3
   },
   "file_extension": ".py",
   "mimetype": "text/x-python",
   "name": "python",
   "nbconvert_exporter": "python",
   "pygments_lexer": "ipython3",
   "version": "3.6.2"
  }
 },
 "nbformat": 4,
 "nbformat_minor": 2
}
