{
 "cells": [
  {
   "cell_type": "markdown",
   "metadata": {
    "slideshow": {
     "slide_type": "slide"
    }
   },
   "source": [
    "# Web Scraping 101: BeautifulSoup\n",
    "\n",
    "[BeautifulSoup documentation](http://www.crummy.com/software/BeautifulSoup/bs4/doc/)\n",
    "\n",
    "Scraping data from the internet."
   ]
  },
  {
   "cell_type": "markdown",
   "metadata": {
    "slideshow": {
     "slide_type": "slide"
    }
   },
   "source": [
    "## HTML refresher\n",
    "\n",
    "* HTML is the basic language used to create a web page. \n",
    "* It tells the web browser what text/media to display, where to display it, and how to display it (style)\n",
    "* HTML is very structured/hirarchical. \n",
    "* Every page is made up of discrete \"elements.\""
   ]
  },
  {
   "cell_type": "markdown",
   "metadata": {
    "slideshow": {
     "slide_type": "slide"
    }
   },
   "source": [
    "## HTML refresher\n",
    "\n",
    "* Elements are labeled with \"tags.\"\n",
    "\n",
    "* For example:\n",
    "\n",
    "    ```html\n",
    "    <p>You are beginning to learn HTML.</p>\n",
    "    ```"
   ]
  },
  {
   "cell_type": "markdown",
   "metadata": {
    "slideshow": {
     "slide_type": "slide"
    }
   },
   "source": [
    "## HTML refresher\n",
    "\n",
    "* A start tag also often contains \"attributes\" with info about the element.\n",
    "\n",
    "* Attributes usually have a name and value.\n",
    "\n",
    "* Example:\n",
    "\n",
    "```html\n",
    "<p class=\"my_red_sentences\">You are beginning to learn HTML.</p>\n",
    "```"
   ]
  },
  {
   "cell_type": "markdown",
   "metadata": {
    "slideshow": {
     "slide_type": "slide"
    }
   },
   "source": [
    "## HTML refresher\n",
    "\n",
    "A full HTML document has a structure more like this:\n",
    "\n",
    "```html\n",
    "<html> \n",
    "  <head> </head>\n",
    "  <body>\n",
    "     <p class=\"red\">You are beginning to learn HTML.</p>\n",
    "     <h1> This is a header </h1>\n",
    "     <a href=\"www.google.com\"> Some link </a>\n",
    "  </body>\n",
    "</html>\n",
    "```"
   ]
  },
  {
   "cell_type": "markdown",
   "metadata": {
    "slideshow": {
     "slide_type": "slide"
    }
   },
   "source": [
    "## HTML refresher\n",
    "\n",
    "* Let's explore some live HTML!\n",
    "* Go to http://boxofficemojo.com/movies/?id=biglebowski.htm in your browser\n",
    "* Click Inspect Element, also click on View Page Source."
   ]
  },
  {
   "cell_type": "markdown",
   "metadata": {
    "slideshow": {
     "slide_type": "slide"
    }
   },
   "source": [
    "## HTML to BeautifulSoup\n",
    "\n",
    "Scrape some information about [The Big Lebowski](http://boxofficemojo.com/movies/?id=biglebowski.htm)."
   ]
  },
  {
   "cell_type": "code",
   "execution_count": 3,
   "metadata": {
    "ExecuteTime": {
     "end_time": "2017-04-10T15:14:46.731013Z",
     "start_time": "2017-04-10T11:14:46.724376-04:00"
    },
    "collapsed": true,
    "scrolled": false,
    "slideshow": {
     "slide_type": "fragment"
    }
   },
   "outputs": [],
   "source": [
    "from __future__ import print_function, division"
   ]
  },
  {
   "cell_type": "code",
   "execution_count": 4,
   "metadata": {
    "ExecuteTime": {
     "end_time": "2017-04-10T15:15:48.331804Z",
     "start_time": "2017-04-10T11:15:47.964795-04:00"
    },
    "collapsed": true,
    "scrolled": false,
    "slideshow": {
     "slide_type": "fragment"
    }
   },
   "outputs": [],
   "source": [
    "# if needed: conda install requests\n",
    "import requests\n",
    "\n",
    "url = 'http://boxofficemojo.com/movies/?id=biglebowski.htm'\n",
    "\n",
    "response = requests.get(url)"
   ]
  },
  {
   "cell_type": "markdown",
   "metadata": {
    "slideshow": {
     "slide_type": "slide"
    }
   },
   "source": [
    "## HTML to BeautifulSoup\n",
    "\n",
    "For information on HTTP status codes, see:\n",
    "\n",
    "https://en.wikipedia.org/wiki/List_of_HTTP_status_codes"
   ]
  },
  {
   "cell_type": "code",
   "execution_count": 5,
   "metadata": {
    "ExecuteTime": {
     "end_time": "2017-04-10T15:18:05.503299Z",
     "start_time": "2017-04-10T11:18:05.490311-04:00"
    },
    "collapsed": false,
    "scrolled": false,
    "slideshow": {
     "slide_type": "fragment"
    }
   },
   "outputs": [
    {
     "data": {
      "text/plain": [
       "200"
      ]
     },
     "execution_count": 5,
     "metadata": {},
     "output_type": "execute_result"
    }
   ],
   "source": [
    "response.status_code"
   ]
  },
  {
   "cell_type": "markdown",
   "metadata": {
    "slideshow": {
     "slide_type": "slide"
    }
   },
   "source": [
    "## HTML to BeautifulSoup"
   ]
  },
  {
   "cell_type": "code",
   "execution_count": 6,
   "metadata": {
    "ExecuteTime": {
     "end_time": "2017-04-10T15:18:17.472100Z",
     "start_time": "2017-04-10T11:18:17.461942-04:00"
    },
    "collapsed": false,
    "scrolled": true,
    "slideshow": {
     "slide_type": "fragment"
    }
   },
   "outputs": [
    {
     "name": "stdout",
     "output_type": "stream",
     "text": [
      "<!DOCTYPE html PUBLIC \"-//W3C//DTD HTML 4.01 Transitional//EN\" \"http://www.w3.org/TR/html4/loose.dtd\">\n",
      "<html lang=\"en\">\n",
      "<head>\n",
      "<meta http-equiv=\"Content-type\" content=\"text/html;charset=iso-8859-1\">\n",
      "<title>The Big Lebowski (1998) - Box Office Mojo</title>\n",
      "\n",
      "<style type=\"text/css\">\n",
      "table.chart-wide { width: 100%; }\n",
      "</style>\n",
      "<META name=\"keywords\" content=\"the big lebowski, movie, film, box office, result, records, charts, revenue, opening weekend, gross, worldwide, overseas, foreign, news, reviews, articles, stories, story, analysis, revenue, release date, mpaa rating, genre, running time, length, budget, production budget, distributor, studio, gramercy, theatrical summary, theatrical, showtimes, tickets, show times, theaters, playing, weekend box office results, weekly box office, weekly box office, similar movies, box office mojo\">\n",
      "<META name=\"description\" content=\"The Big Lebowski summary of box office results, charts and release information and related links.\">\n",
      "\n",
      "<link rel=\"stylesheet\" href=\"/css/mojo.css?1\" type=\"text/css\" media=\"screen\" title=\"no title\" charset=\"utf-8\">\n",
      "<link rel=\"stylesheet\" href=\"/css/mojo.css?1\" type=\"text/css\" media=\"print\" title=\"no title\" charset=\"utf-8\">\n",
      "<script type=\"text/javascript\" src=\"/js/jscharts.js\"></script>\n",
      "</head>\n",
      "<body>\n",
      "<iframe id=\"sis_pixel_sitewide\" width=\"1\" height=\"1\" frameborder=\"0\" marginwidth=\"0\" marginheight=\"0\" style=\"display: none;\"></iframe>\n",
      "<script>\n",
      "    setTimeout(function(){\n",
      "        try{\n",
      "            //sis3.0 pixel\n",
      "            var cacheBust = Math.random() * 10000000000000000,\n",
      "                url_sis3 = 'http://s.amazon-adsystem.com/iu3?',\n",
      "                params_sis3 = [\n",
      "                    \"d=boxofficemojo.com\",\n",
      "                    \"cb=\" + cacheBust\n",
      "                ];\n",
      "\n",
      "            (document.getElementById('sis_pixel_sitewide')).src = url_sis3 + params_sis3.join('&');\n",
      "        }catch(e){\n",
      "            if (window.ueLogError) { \n",
      "                window.ueLogError(e);\n",
      "            }\n",
      "        }\n",
      "    }, 5);\n",
      "</script>\n",
      "\n",
      "<div id=\"container\">\n",
      "<div>\n",
      "<script type=\"text/javascript\">\n",
      "    var googletag = googletag || {};\n",
      "    googletag.cmd = googletag.cmd || [];\n",
      "\n",
      "    (function() {\n",
      "        var gads = document.createElement(\"script\");\n",
      "        gads.async = true;\n",
      "        gads.type = \"text/javascript\";\n",
      "\n",
      "        var useSSL = \"https:\" == document.location.protocol;\n",
      "        gads.src = (useSSL ? \"https:\" : \"http:\") + \"//www.googletagservices.com/tag/js/gpt.js\";\n",
      "\n",
      "        var node = document.getElementsByTagName(\"script\")[0];\n",
      "        node.parentNode.insertBefore(gads, node);\n",
      "    })();\n",
      "</script>\n",
      "\n",
      "<script type=\"text/javascript\">\n",
      "  var _gaq = _gaq || [];\n",
      "  _gaq.push(['_setAccount', 'UA-2831726-1']);\n",
      "  _gaq.push(['_trackPageview']);\n",
      "\n",
      "  (function() {\n",
      "    var ga = document.createElement('script'); ga.type = 'text/javascript'; ga.async = true;\n",
      "    ga.src = ('https:' == document.location.protocol ? 'https://ssl' : 'http://www') + '.google-analytics.com/ga.js';\n",
      "    (document.getElementsByTagName('head')[0] || document.getElementsByTagName('body')[0]).appendChild(ga);\n",
      "  })();\n",
      "\n",
      "</script>\n",
      "\n",
      "\t<div id=\"hp_banner\">\n",
      "\t<div id=\"top_links\">\n",
      "\t\t<div style=\"float: left\"><a href=\"/daily/chart/\">Daily Box Office (Sun.)</a> | <a href=\"/weekend/chart/\">Weekend Box Office (Apr. 14&ndash;16)</a> | <a href=\"/movies/?id=furious8.htm\">#1 Movie: 'Fate of the Furious'</a> | <a href=\"http://www.imdb.com/showtimes/?ref_=mojo\">Showtimes</a></div>\n",
      "\t\t<div style=\"float: right\">Updated 4/16/2017 8:00 A.M. Pacific Time</div>\n",
      "\t\t<div style=\"clear:both; height: 0px\"></div>\n",
      "\t</div>\n",
      "</div>\n",
      "\t\t\n",
      "<div id=\"header\">\n",
      "<div id=\"leaderboard\"><script src=\"http://bs.serving-sys.com/Serving/adServer.bs?c=28&cn=display&pli=1073982656&w=728&h=90&ord=1492448019&z=0\"></script>\n",
      "<noscript>\n",
      "<a href=\"http://bs.serving-sys.com/Serving/adServer.bs?cn=brd&pli=1073982656&Page=&Pos=668343950\" target=\"_blank\">\n",
      "<img src=\"http://bs.serving-sys.com/Serving/adServer.bs?c=8&cn=display&pli=1073982656&Page=&Pos=668343950\" border=0 width=728 height=90></a>\n",
      "</noscript>\n",
      "</div>\n",
      "\t<div id=\"leaderboard\"><script type=\"text/javascript\">\n",
      "    googletag.cmd.push(function() {\n",
      "        googletag.defineSlot(\"/4215/imdb2.bom.movie\", [[728, 90]], \"ad-slot-1\").addService(googletag.pubads().setTargeting(\"p\", \"t\"));\n",
      "        googletag.pubads().enableSingleRequest();\n",
      "        googletag.enableServices();\n",
      "    });\n",
      "    googletag.cmd.push(function() { googletag.display(\"ad-slot-1\"); });\n",
      "</script></div>\t<div id=\"hp_logo\"><a href=\"/\"><img src=\"/img/misc/bom_logo1.png\" width=\"245\" height=\"56\" alt=\"Box Office Mojo\"></a></div>\n",
      "\t<div style=\"clear:both; height: 0px\"></div>\n",
      "</div>\n",
      "\n",
      "\n",
      "</div>\n",
      "<style>\n",
      ".survey {\n",
      "    background: #FEFF9B url(http://i.imdb.com/images/info_small.png) no-repeat 5px 5px;\n",
      "    padding: 5px 5px 5px 30px;\n",
      "}\n",
      "</style>\n",
      "<div class=\"survey\"><a href=\"https://imdb.co1.qualtrics.com/jfe3/form/SV_bIA5hedJ7azZU9L?SOURCE=SITE\" target=\"_blank\">Help us improve the site by taking this survey!</a></div>\n",
      "<div id=\"main\">\n",
      "<!-- COLUMN 1 of 4 -->\n",
      "\t<div id=\"leftnav\">\n",
      "<!-- google_ad_section_start(weight=ignore) -->\n",
      "<!-- <table id=\"navleft\" cellspacing=\"0\" cellpadding=\"2\" border=\"0\"> -->\n",
      "<ul id=\"leftnav\">\n",
      "<li class=\"nl_section\">Search Site</li>\n",
      "<li class=\"nl_link\" style=\"padding-left:0px\">\n",
      "\t<form name=\"searchbox\" method=\"POST\" action=\"/search/q.php\">\n",
      "\t<input name=\"q\"  type=\"text\" style=\"font-size: 9 pt; font-weight: bold; width: 90px;\"><br>\n",
      "\t<input type=\"submit\" value=\"Search...\" ></form> \n",
      "</li>\n",
      "<li class='nl_section'>Social</li>\n",
      "<li class=\"nl_link\"><a href=\"http://facebook.com/boxofficemojo\" style=\"vertical-align:middle;\"><img src=\"/images/FaceBook_16x16.png\" border=\"0\" alt=\"Facebook Logo\">Facebook</a></li>\n",
      "<li class=\"nl_link\"><a href=\"http://twitter.com/boxofficemojo\" style=\"vertical-align:middle;\"><img src=\"/images/Twitter_16x16.png\" border=\"0\" alt=\"Twitter Logo\">Twitter</a></li>\n",
      "\n",
      "<li class='nl_section'>Features</li>\n",
      "<li class='nl_link'><a href=\"/news/\">News</a></li>\n",
      "<li class='nl_link'><a href=\"/schedule/\">Release Sched.</a></li>\n",
      "<li class='nl_link'><a href=\"http://www.imdb.com/showtimes?ref_=mojo\">Showtimes<br/><span style=\"margin-left:7px;color: #999999; font-size: 9px;\">at <img src=\"/images/mojo_imdb_sm.png\"/></span></a></li>\n",
      "<li class='nl_section'>Box Office</li>\n",
      "<li class='nl_link'><a href=\"/daily/\">Daily</a></li>\n",
      "<li class='nl_link'><a href=\"/weekend/\">Weekend</a></li>\n",
      "<li class='nl_link'><a href=\"/weekly/\">Weekly</a></li>\n",
      "<li class='nl_link'><a href=\"/monthly/\">Monthly</a></li>\n",
      "<li class='nl_link'><a href=\"/quarterly/\">Quarterly</a></li>\n",
      "<li class='nl_link'><a href=\"/seasonal/\">Seasonal</a></li>\n",
      "<li class='nl_link'><a href=\"/yearly/\">Yearly</a></li>\n",
      "<li class='nl_link'><a href=\"/alltime/\">All Time</a></li>\n",
      "<li class='nl_link'><a href=\"/intl/\">International</a></li>\n",
      "<li class='nl_section'>Indices</li>\n",
      "<li class='nl_link'><a href=\"/studio/\">Studios</a></li>\n",
      "<li class='nl_link'><a href=\"/people/\">People</a></li>\n",
      "<li class='nl_link'><a href=\"/genres/\">Genres</a></li>\n",
      "<li class='nl_link'><a href=\"/franchises/\">Franchises</a></li>\n",
      "<li class='nl_link'><a href=\"/showdowns/\">Showdowns</a></li>\n",
      "<li class='nl_link'><a href=\"/counts/\">Theater Counts</a></li>\n",
      "</ul>\n",
      "</div>\n",
      "\t<div id=\"body\">\n",
      "\n",
      "\t<table border=\"0\" width=\"878px\" cellspacing=\"0\">\n",
      "\t<tr>\n",
      "\t<td align=\"right\" style=\"whitespace:nowrap;\">\n",
      "\t\n",
      "\n",
      "\t<table border=\"0\" cellspacing=\"0\" cellpadding=\"0\">\r\n",
      "<tr>\r\n",
      "<form method=\"POST\" action=\"/adjuster.php\" name=\"adjuster\">\r\n",
      "<input type=\"hidden\" name=\"returnURL\" value=\"/movies/?id=biglebowski.htm\">\r\n",
      "<td valign=\"center\">\r\n",
      "  <font face=\"Verdana\" size=\"2\"><a href=\"/about/adjuster.htm\"><b>Adjuster:</b></a></font>\r\n",
      "  <select size=\"1\" name=\"ticketyr\" style=\"font-family: Verdana; font-size: 10pt\">\r\n",
      "  <option value=\"0\" selected>Actuals</option>\r\n",
      "  <option value=\"1\" >Est. Tckts</option>\r\n",
      "<script language=\"javascript\">\r\n",
      "  for(i=2017; i>=1933; i--) {\r\n",
      "  \tdocument.write('<option value=\"' + i + '\"');\r\n",
      "\tif(i=='0') document.write(' selected');\r\n",
      "\tdocument.write('>' + i );\r\n",
      "\tif(i=='0') document.write(', $' + '0.00');\r\n",
      "\tdocument.write('</option>');\r\n",
      "  }\r\n",
      "</script>\r\n",
      "  <option value=\"1929\" >1929</option>\r\n",
      "  <option value=\"1924\" >1924</option>\r\n",
      "  <option value=\"1910\" >1910</option>\r\n",
      "  </select><input type=\"submit\" name=\"Go\" value=\"Go\" style=\"font-size: 10pt; height: 22\">\r\n",
      "\r\n",
      "</td></form></tr></table>\r\n",
      "\r\n",
      "</td></tr>\n",
      "\t<!--------------------------Site Body---------------------------------->\n",
      "\n",
      "<tr></td>\n",
      "\n",
      "<table cellspacing=\"0\" cellpadding=\"0\" border=\"0\" width=\"100%\">\n",
      "\t<tr>\t<td valign=\"top\">\n",
      "\t\t<table border=\"0\" cellpadding=\"0\" cellspacing=\"0\" width=\"100%\" style=\"padding-top: 5px;\"><tr><td valign=\"top\" align=\"center\">\n",
      "\t\t<a href=\"/movies/?page=media&id=biglebowski.htm\"><img src=\"https://images-na.ssl-images-amazon.com/images/M/MV5BZTFjMjBiYzItNzU5YS00MjdiLWJkOTktNDQ3MTE3ZjY2YTY5XkEyXkFqcGdeQXVyNDk3NzU2MTQ@._V1_UY222_CR0,0,150,222_AL.jpg\" border=\"1\" style=\"border-color: 000000\"></a>\t</td>\n",
      "\t<td valign=\"top\" align=\"center\"><br><font face=\"Verdana\" size=\"6\"><b>The Big Lebowski</b></font><br><br>\n",
      "\t<table border=\"0\" cellspacing=\"0\" cellpadding=\"0\"><tr><td>\n",
      "\t<center><table border=\"0\" border=\"0\" cellspacing=\"1\" cellpadding=\"4\" bgcolor=\"#dcdcdc\" width=\"95%\"><tr bgcolor=\"#ffffff\"><td align=\"center\" colspan=\"2\"><font size=\"4\">Domestic Total Gross: <b>$17,451,873</b></font></td></tr><tr bgcolor=\"#ffffff\"><td valign=\"top\">Distributor: <b><a href=\"/studio/chart/?studio=gramercy.htm\">Gramercy</a></b></td><td valign=\"top\">Release Date: <b><nobr><a href=\"/schedule/?view=bydate&release=theatrical&date=1998-03-06&p=.htm\">March 6, 1998</a></nobr></b></td></tr><tr bgcolor=\"#ffffff\"><td valign=\"top\">Genre: <b>Crime Comedy</b></td><td valign=\"top\">Runtime: <b>1 hrs. 57 min.</b></td></tr><tr bgcolor=\"#ffffff\"><td valign=\"top\">MPAA Rating: <b>R</b></td><td valign=\"top\">Production Budget: <b>N/A</b></td></tr></table><table border=\"0\" cellspacing=\"0\" cellpadding=\"2\" border=\"0\" width=\"95%\">\n",
      "<form method=\"POST\" action=\"/showtimes/savelocation.php\" name=\"movietimesbox\">\n",
      "<input type=\"hidden\" name=\"return\" value=\"bymovie|biglebowski.htm\">\n",
      "\t<tr>\n",
      "\t<td nowrap style=\"padding-top: 10px\">\n",
      " <a href=\"http://www.imdb.com/showtimes?ref_=mojo\"><img style=\"vertical-align:middle\" src=\"/images/mojo_imdb_med.png\"/></a> <a href=\"http://www.imdb.com/showtimes?ref_=mojo\">Get local showtimes at IMDb</a>\n",
      "  </td></tr></form></table>\n",
      "\t</td>\n",
      "\t</tr></table></td>\n",
      "\t<td align=\"right\"><script type=\"text/javascript\">\n",
      "    googletag.cmd.push(function() {\n",
      "        googletag.defineSlot(\"/4215/imdb2.bom.movie\", [[300, 250]], \"ad-slot-2\").addService(googletag.pubads().setTargeting(\"p\", \"rh\"));\n",
      "        googletag.pubads().enableSingleRequest();\n",
      "        googletag.enableServices();\n",
      "    });\n",
      "    googletag.cmd.push(function() { googletag.display(\"ad-slot-2\"); });\n",
      "</script></td>\n",
      "\t</tr>\n",
      "</table>\n",
      "\n",
      "\n",
      "<table cellspacing=\"0\" cellpadding=\"0\" border=\"0\" width=\"878px\">\n",
      "\t<tr><td>\n",
      "\n",
      "<ul class=\"nav_tabs\">\n",
      "<li class=\"nav_tab_current\"><a href=\"/movies/?page=main&id=biglebowski.htm\">Summary</a></li>\n",
      "<li><a href=\"/movies/?page=weekend&id=biglebowski.htm\">Weekend</a></li>\n",
      "<li><a href=\"/movies/?page=weekly&id=biglebowski.htm\">Weekly</a></li>\n",
      "<li><a href=\"/movies/?page=similar&id=biglebowski.htm\">Similar Movies</a></li>\n",
      "</ul>\n",
      "<br />\n",
      "</td></tr>\n",
      "<tr><td>\n",
      "\n",
      "<table border=\"0\" cellspacing=\"0\" cellpadding=\"0\" width=\"100%\">\n",
      "\t<tr><td valign=\"top\" width=\"434px\">\n",
      "\t<table border=\"0\" cellpadding=\"0\" cellspacing=\"0\" width=\"100%\"><tr>\n",
      "\t\t<td width=\"50%\" valign=\"top\">\n",
      "<div class=\"mp_box\">\n",
      "<div class=\"mp_box_tab\">Total Lifetime Grosses</b></div>\n",
      "<div class=\"mp_box_content\">\n",
      "\t<table border=\"0\" cellspacing=\"0\" cellpadding=\"0\">\n",
      "\t\t<tr>\n",
      "\t\t\t<td width=\"40%\"><b>Domestic:</b></td>\n",
      "\t\t\t<td width=\"35%\" align=\"right\">&nbsp;<b>$17,451,873</b></td>\n",
      "\t\t\t\t\t</tr>\n",
      "\t\t\t</table>\n",
      "\t</div>\n",
      "</div>\n",
      "\n",
      "\n",
      "<div class=\"mp_box\">\n",
      "\t<div class=\"mp_box_tab\">Domestic Summary</b></div>\n",
      "\t<div class=\"mp_box_content\">\n",
      "\t\n",
      "\t\t<table border=\"0\" cellspacing=\"0\" cellpadding=\"0\">\n",
      "\t\t<tr>\n",
      "\t\t\t<td align=\"center\"><a href=\"/weekend/chart/?yr=1998&wknd=10&p=.htm\">Opening&nbsp;Weekend:</a></td><td>&nbsp;$5,533,844</td></tr>\n",
      "\t\t<tr>\n",
      "\t\t\t<td align=\"center\" colspan=\"2\"><font size=\"2\">(#6 rank, 1,207 theaters, $4,585 average)</font></td></tr>\n",
      "\t\t<tr>\n",
      "\t\t\t<td align=\"right\">%&nbsp;of&nbsp;Total&nbsp;Gross:</td><td>&nbsp;31.7%</td></tr>\n",
      "\t\t<tr><td align=\"right\" colspan=\"2\"><font face=\"Helvetica, Arial, Sans-Serif\" size=\"1\"><a href=\"/movies/?page=weekend&id=biglebowski.htm\"><b>&gt; View All 4 Weekends</b></a></font></td></tr>\n",
      "\n",
      "\t\t</table>\n",
      "\n",
      "\n",
      "\n",
      "\t\t<table border=\"0\" cellspacing=\"0\" cellpadding=\"0\">\n",
      "\t\t<tr>\n",
      "\t\t\t<td>Widest&nbsp;Release:</td>\n",
      "\t\t\t<td>&nbsp;1,235 theaters</td>\n",
      "\t\t</tr>\n",
      "\t\t</table>\n",
      "\n",
      "\n",
      "\n",
      "\n",
      "\t</div>\n",
      "</div>\n",
      "</td>\n",
      "\t\t<td valign=\"top\" style=\"padding-left: 10px;\"><div class=\"mp_box\">\n",
      "\t<div class=\"mp_box_tab\">The Players</div>\n",
      "\t<div class=\"mp_box_content\">\n",
      "\t<table>\n",
      "\t\t</td></tr><tr><td valign=\"top\" align=\"right\"><font size=\"2\"><a href=\"/people/?view=Director&p=.htm\">Director:</font></a></td><td><font size=\"2\"><a href=\"/people/chart/?view=Director&id=joelcoen.htm\">Joel Coen</a></font></td></tr><tr><td valign=\"top\" align=\"right\"><font size=\"2\"><a href=\"/people/?view=Writer&p=.htm\">Writers:</font></a></td><td><font size=\"2\"><a href=\"/people/chart/?view=Writer&id=ethancoen.htm\">Ethan Coen</a><br><a href=\"/people/chart/?view=Writer&id=joelcoen.htm\">Joel Coen</a></font></td></tr><tr><td valign=\"top\" align=\"right\"><font size=\"2\"><a href=\"/people/?view=Actor&p=.htm\">Actors:</font></a></td><td><font size=\"2\"><a href=\"/people/chart/?view=Actor&id=jeffbridges.htm\">Jeff Bridges</a><br><a href=\"/people/chart/?view=Actor&id=johngoodman.htm\">John Goodman</a><br><a href=\"/people/chart/?view=Actor&id=juliannemoore.htm\">Julianne Moore</a><br>Steve Buscemi<br><a href=\"/people/chart/?view=Actor&id=philipseymourhoffman.htm\">Philip Seymour Hoffman</a><br>Tara Reid<br><a href=\"/people/chart/?view=Actor&id=samelliott.htm\">Sam Elliott*</a> <font size=\"2\">(Narrator)</font></font></td></tr><tr><td valign=\"top\" align=\"right\"><font size=\"2\"><a href=\"/people/?view=Producer&p=.htm\">Producers:</font></a></td><td><font size=\"2\"><a href=\"/people/chart/?view=Producer&id=timbevan.htm\">Tim Bevan</a> <font size=\"2\">(executive producer)</font><br><a href=\"/people/chart/?view=Producer&id=ethancoen.htm\">Ethan Coen</a><br><a href=\"/people/chart/?view=Producer&id=ericfellner.htm\">Eric Fellner</a> <font size=\"2\">(executive producer)</font></font></td></tr><tr><td valign=\"top\" align=\"right\"><font size=\"2\"><a href=\"/people/?view=Cinematographer&p=.htm\"><font size=\"2\">Cinematographer</font>:</font></a></td><td><font size=\"2\"><a href=\"/people/chart/?view=Cinematographer&id=rogerdeakins.htm\">Roger Deakins</a></font></td></tr><tr><td valign=\"top\" align=\"right\"><font size=\"2\"><a href=\"/people/?view=Composer&p=.htm\">Composer:</font></a></td><td><font size=\"2\"><a href=\"/people/chart/?view=Composer&id=carterburwell.htm\">Carter Burwell</a></font></td></tr><tr><td colspan=\"2\" align=\"right\"><i><small>* Denotes minor role</small></i></table></div></div></td>\n",
      "\t</tr></table>\n",
      "\t\t<div class=\"mp_box\">\n",
      "\t<div class=\"mp_box_tab\">Genres</div>\n",
      "\t<div class=\"mp_box_content\">\n",
      "\t\t\t<table border=\"0\" cellspacing=\"1\" cellpadding=\"5\" style=\"border-collapse: collapse\" width=\"100%\">\n",
      "\t\t\t\t<tr><th>Genre</th>\n",
      "\t\t\t\t\t<th>Rank</th></tr>\n",
      "<tr bgcolor=\"#ffffff\"><td><font size=\"2\"><a href=\"/genres/chart/?id=blackcomedy.htm\">Comedy - Dark/Black</a></font></td>\r\n",
      "<td align=\"center\"><font size=\"2\">31</font></td>\r\n",
      "</tr>\r\n",
      "\r\n",
      "<tr bgcolor=\"#f4f4ff\"><td><font size=\"2\"><a href=\"/genres/chart/?id=slackerstoner.htm\">Slacker / Stoner</a></font></td>\r\n",
      "<td align=\"center\"><font size=\"2\">35</font></td>\r\n",
      "</tr>\r\n",
      "\r\n",
      "</table></div></div><div class=\"mp_box\">\n",
      "\t<div class=\"mp_box_tab\">Charts</div>\n",
      "\t<div class=\"mp_box_content\">\n",
      "\n",
      "\t\t\t\t\t<table border=\"0\" cellspacing=\"1\" cellpadding=\"5\" style=\"border-collapse: collapse\" width=\"100%\">\n",
      "\t\t\t\t\t\t<tr><td bgcolor=><b>Chart</b></td>\n",
      "\t\t\t\t\t\t\t<td align=\"center\"><b>Rank</b></td>\n",
      "\t\t\t\t\t</tr>\n",
      "\n",
      "<tr bgcolor=\"#ffffff\"><td><font size=\"2\"><a href=\"/alltime/domestic.htm\">All Time Domestic</a></font></td>\r\n",
      "<td align=\"center\"><font size=\"2\">3,493</font></td>\r\n",
      "</tr>\r\n",
      "\r\n",
      "<tr bgcolor=\"#f4f4ff\"><td><font size=\"2\"><a href=\"/yearly/chart/?yr=1998&p=.htm\">Yearly 1998</a></font></td>\r\n",
      "<td align=\"center\"><font size=\"2\">96</font></td>\r\n",
      "</tr>\r\n",
      "\r\n",
      "<tr bgcolor=\"#ffffff\"><td><font size=\"2\"><a href=\"/yearly/chart/?view2=releasedate&view=opening&yr=1998&p=.htm\">Yearly Opening Weekends 1998</a></font></td>\r\n",
      "<td align=\"center\"><font size=\"2\">88</font></td>\r\n",
      "</tr>\r\n",
      "\r\n",
      "<tr bgcolor=\"#f4f4ff\"><td><font size=\"2\"><a href=\"/yearly/chart/mpaarating.htm?rating=R&yr=1998&p=.htm\">Yearly R Rated 1998</a></font></td>\r\n",
      "<td align=\"center\"><font size=\"2\">41</font></td>\r\n",
      "</tr>\r\n",
      "\r\n",
      "<tr bgcolor=\"#ffffff\"><td><font size=\"2\"><a href=\"/alltime/openingweeks.htm\">Opening Weeks</a></font></td>\r\n",
      "<td align=\"center\"><font size=\"2\">2,965</font></td>\r\n",
      "</tr>\r\n",
      "\r\n",
      "<tr bgcolor=\"#f4f4ff\"><td><font size=\"2\"><a href=\"/alltime/weekends/\">Opening Weekends</a></font></td>\r\n",
      "<td align=\"center\"><font size=\"2\">2,873</font></td>\r\n",
      "</tr>\r\n",
      "\r\n",
      "<tr bgcolor=\"#ffffff\"><td><font size=\"2\"><a href=\"/alltime/weekends/smallestdrops.htm?page=SMALLDROPWID&p=.htm\">Smallest Drops, All Wide Releases</a></font></td>\r\n",
      "<td align=\"center\"><font size=\"2\">1,611</font></td>\r\n",
      "</tr>\r\n",
      "\r\n",
      "<tr bgcolor=\"#f4f4ff\"><td><font size=\"2\">BOM Users' Grades (1998 Releases)</font></td>\r\n",
      "<td align=\"center\"><font size=\"2\">15</font></td>\r\n",
      "</tr>\r\n",
      "\r\n",
      "<tr><td><b>Charts (Premier Pass Users Only)</b></td><td align=\"center\"><b>Rank</b></td></tr><tr bgcolor=\"#ffffff\"><td><font size=\"2\"><a href=\"/alltime/domestic.htm?page=14&asof=1998-04-10&p=.htm\">Highest All Time Rank (on April 10, 1998)</a></font></td>\r\n",
      "<td align=\"center\"><font size=\"2\">1364</font></td>\r\n",
      "</tr>\r\n",
      "\r\n",
      "<tr bgcolor=\"#f4f4ff\"><td><font size=\"2\"><a href=\"/yearly/chart/?view2=wide&view=domestic&yr=1998&p=.htm\">Yearly (Wide) 1998</a></font></td>\r\n",
      "<td align=\"center\"><font size=\"2\">90</font></td>\r\n",
      "</tr>\r\n",
      "\r\n",
      "<tr bgcolor=\"#ffffff\"><td><font size=\"2\"><a href=\"/yearly/chart/?view2=opening&yr=1998&p=.htm\">Yearly Opening Weekends (Wide) 1998</a></font></td>\r\n",
      "<td align=\"center\"><font size=\"2\">91</font></td>\r\n",
      "</tr>\r\n",
      "\r\n",
      "<tr bgcolor=\"#f4f4ff\"><td><font size=\"2\"><a href=\"/alltime/openingweeks.htm?adjust_yr=2017&p=.htm\">Opening Weeks Adjusted</a></font></td>\r\n",
      "<td align=\"center\"><font size=\"2\">2,788</font></td>\r\n",
      "</tr>\r\n",
      "\r\n",
      "<tr bgcolor=\"#ffffff\"><td><font size=\"2\"><a href=\"/alltime/weekends/?adjust_yr=2017&p=.htm\">Opening Weekends Adjusted</a></font></td>\r\n",
      "<td align=\"center\"><font size=\"2\">2,716</font></td>\r\n",
      "</tr>\r\n",
      "\r\n",
      "</table></div></div>\n",
      "\t\t</td>\n",
      "\t<td width=\"10px\">&nbsp;</td>\n",
      "\t<td valign=\"top\" width=\"434px\">\n",
      "\n",
      "<div class=\"mp_box\">\n",
      "\t\t<div class=\"mp_box_tab\">Related Stories</div>\n",
      "\t\t<div class=\"mp_box_content\"><table border=\"0\" cellspacing=\"0\" cellpadding=\"5\" width=\"100%\"><tr bgcolor=\"#ffff99\"><td><font size=\"2\"><a href=\"/news/?id=2680&p=.htm\">2/11/10 2010 Preview: True Grit</font></td></tr></table></div></div>\t<div class=\"mp_box\">\n",
      "\t\t<div class=\"mp_box_tab\">Related Products</div>\n",
      "\t\t<div class=\"mp_box_content\"><ul>\n",
      "<li><a href=\"http://www.amazon.com/gp/product/B000A7DVR2?ie=UTF8&tag=boxofficemojo-20&linkCode=as2&camp=1789&creative=9325&creativeASIN=B000A7DVR2\">The Big Lebowski (Collector's Edition)</a><img src=\"http://www.assoc-amazon.com/e/ir?t=boxofficemojo-20&l=as2&o=1&a=B000A7DVR2\" width=\"1\" height=\"1\" border=\"0\" alt=\"\" style=\"border:none !important; margin:0px !important;\" /></li>\n",
      "<li><a href=\"http://www.amazon.com/gp/product/B000A7DVY0?ie=UTF8&tag=boxofficemojo-20&linkCode=as2&camp=1789&creative=9325&creativeASIN=B000A7DVY0\">The Big Lebowski - Achiever's Edition</a><img src=\"http://www.assoc-amazon.com/e/ir?t=boxofficemojo-20&l=as2&o=1&a=B000A7DVY0\" width=\"1\" height=\"1\" border=\"0\" alt=\"\" style=\"border:none !important; margin:0px !important;\" /></li>\n",
      "<li><a href=\"http://www.amazon.com/gp/product/B000ASATSU?ie=UTF8&tag=boxofficemojo-20&linkCode=as2&camp=1789&creative=9325&creativeASIN=B000ASATSU\">The Coen Brothers Collection</a><img src=\"http://www.assoc-amazon.com/e/ir?t=boxofficemojo-20&l=as2&o=1&a=B000ASATSU\" width=\"1\" height=\"1\" border=\"0\" alt=\"\" style=\"border:none !important; margin:0px !important;\" /></li>\n",
      "<li><a href=\"http://www.amazon.com/gp/product/B000O179EK?ie=UTF8&tag=boxofficemojo-20&linkCode=as2&camp=1789&creative=9325&creativeASIN=B000O179EK\">The Big Lebowski (HD-DVD)</a><img src=\"http://www.assoc-amazon.com/e/ir?t=boxofficemojo-20&l=as2&o=1&a=B000O179EK\" width=\"1\" height=\"1\" border=\"0\" alt=\"\" style=\"border:none !important; margin:0px !important;\" /></li>\n",
      "<li><a href=\"http://www.amazon.com/gp/product/B000O179EK?ie=UTF8&tag=boxofficemojo-20&linkCode=as2&camp=1789&creative=9325&creativeASIN=B000O179EK\">The Big Lebowski (HD-DVD)</a><img src=\"http://www.assoc-amazon.com/e/ir?t=boxofficemojo-20&l=as2&o=1&a=B000O179EK\" width=\"1\" height=\"1\" border=\"0\" alt=\"\" style=\"border:none !important; margin:0px !important;\" /></li>\n",
      "<li><a href=\"http://www.amazon.com/gp/product/B001AEF6CW?ie=UTF8&tag=boxofficemojo-20&linkCode=as2&camp=1789&creative=9325&creativeASIN=B001AEF6CW\">The Big Lebowski (10th Anniv. Limited Edition)</a><img src=\"http://www.assoc-amazon.com/e/ir?t=boxofficemojo-20&l=as2&o=1&a=B001AEF6CW\" width=\"1\" height=\"1\" border=\"0\" alt=\"\" style=\"border:none !important; margin:0px !important;\" /></li>\n",
      "<li><a href=\"http://www.amazon.com/gp/product/B001AEF6D6?ie=UTF8&tag=boxofficemojo-20&linkCode=as2&camp=1789&creative=9325&creativeASIN=B001AEF6D6\">The Big Lebowski (10th Anniv. Edition)</a><img src=\"http://www.assoc-amazon.com/e/ir?t=boxofficemojo-20&l=as2&o=1&a=B001AEF6D6\" width=\"1\" height=\"1\" border=\"0\" alt=\"\" style=\"border:none !important; margin:0px !important;\" /></li>\n",
      "</ul></div></div>\t<OBJECT classid=\"clsid:D27CDB6E-AE6D-11cf-96B8-444553540000\" codebase=\"http://fpdownload.macromedia.com/get/flashplayer/current/swflash.cab\" id=\"Player_82160f42-9620-4d0a-b79a-18b1abd853fb\"  WIDTH=\"400px\" HEIGHT=\"150px\"> <PARAM NAME=\"movie\" VALUE=\"http://ws.amazon.com/widgets/q?ServiceVersion=20070822&MarketPlace=US&ID=V20070822%2FUS%2Fboxofficemojo-20%2F8010%2F82160f42-9620-4d0a-b79a-18b1abd853fb&Operation=GetDisplayTemplate\"><PARAM NAME=\"quality\" VALUE=\"high\"><PARAM NAME=\"bgcolor\" VALUE=\"#FFFFFF\"><PARAM NAME=\"allowscriptaccess\" VALUE=\"always\"><embed src=\"http://ws.amazon.com/widgets/q?ServiceVersion=20070822&MarketPlace=US&ID=V20070822%2FUS%2Fboxofficemojo-20%2F8010%2F82160f42-9620-4d0a-b79a-18b1abd853fb&Operation=GetDisplayTemplate\" id=\"Player_82160f42-9620-4d0a-b79a-18b1abd853fb\" quality=\"high\" bgcolor=\"#ffffff\" name=\"Player_82160f42-9620-4d0a-b79a-18b1abd853fb\" allowscriptaccess=\"always\"  type=\"application/x-shockwave-flash\" align=\"middle\" height=\"150px\" width=\"400px\"></embed></OBJECT> <NOSCRIPT><A HREF=\"http://ws.amazon.com/widgets/q?ServiceVersion=20070822&MarketPlace=US&ID=V20070822%2FUS%2Fboxofficemojo-20%2F8010%2F82160f42-9620-4d0a-b79a-18b1abd853fb&Operation=NoScript\">Amazon.com Widgets</A></NOSCRIPT>\n",
      "\t\n",
      "</td>\n",
      "</tr>\n",
      "</table>\n",
      "\n",
      "<br>\n",
      "</td>\n",
      "</tr>\n",
      "</table>\n",
      "\n",
      "\n",
      "</td></tr></table>\n",
      "\t</div>\n",
      "\t</div>\n",
      "\t<div id=\"hp_footer\">\n",
      "\t\t<div style=\"padding-bottom: 20px;\">\n",
      "\n",
      "\t\t\t<div style=\"margin: 0px 121px; vertical-align: top;\">\n",
      "\t\t\t\t<div id=\"footer_links\">\n",
      "\t\t\t\t\t<ul class=\"footer_link_list\">\n",
      "\t\t\t\t\t\t<li><strong>Latest Updates</strong></li>\n",
      "\t\t\t\t\t\t<li><a href=\"/news/?ref=ft\">Movie News</a>\n",
      "\t\t\t\t\t\t<li><a href=\"/daily/chart/?ref=ft\">Daily Chart</a></li>\n",
      "\t\t\t\t\t\t<li><a href=\"/weekend/chart/?ref=ft\">Weekend Chart</a></li>\n",
      "\t\t\t\t\t\t<li><a href=\"/alltime/?ref=ft\">All Time Charts</a></li>\n",
      "\t\t\t\t\t\t<li><a href=\"/intl/?ref=ft\">International Charts</a></li>\n",
      "\t\t\t\t\t</ul>\n",
      "\t\t\t\t\t<!--\n",
      "\t\t\t\t\t<ul class=\"footer_link_list\">\n",
      "\t\t\t\t\t\t<li><strong>Popular Movies</strong></li>\n",
      "\t\t\t\t\t\t\t\t\t\t\t</ul>\n",
      "\t\t\t\t\t-->\n",
      "\t\t\t\t\t<ul class=\"footer_link_list\">\n",
      "\t\t\t\t\t\t<li><strong>Indices</strong></li>\n",
      "\t\t\t\t\t\t<li><a href=\"/people/?ref=ft\">People</a></li>\n",
      "\t\t\t\t\t\t<li><a href=\"/genres/?ref=ft\">Genres</a></li>\n",
      "\t\t\t\t\t\t<li><a href=\"/franchises/?ref=ft\">Franchises</a></li>\n",
      "\t\t\t\t\t\t<li><a href=\"/showdowns/?ref=ft\">Showdowns</a></li>\n",
      "\t\t\t\t\t</ul>\n",
      "\t\t\t\t\t<ul class=\"footer_link_list\">\n",
      "\t\t\t\t\t\t<li><strong>Other</strong></li>\n",
      "\t\t\t\t\t\t<li><a href=\"/about/?ref=ft\">About This Site</a></li>\n",
      "\t\t\t\t\t\t<li><a href=\"/about/advertise.htm?ref=ft\">Advertising</a></li>\n",
      "\t\t\t\t\t</ul>\n",
      "\t\t\t\t</div>\n",
      "\t\t\t\t<div id=\"copyright\">\n",
      "\t\t\t\t\t<a href=\"/?ref=ft\"><img src=\"/img/misc/bom_logo1.png\" width=\"245\" height=\"56\" alt=\"Box Office Mojo\"></a><br>\n",
      "\t\t\t\t\t<p>An <a href=\"http://imdb.com/\"><img src=\"/img/misc/IMDbSm.png\" width=\"34\" height=\"16\" alt=\"IMDb\" valign=\"middle\"></a> company<br><br></p>\n",
      "\t\t\t\t\t<p>&copy; <a href=\"http://imdb.com/\">IMDb.com</a>, Inc. or its affiliates. All rights reserved. Box Office Mojo and IMDb are trademarks or registered trademarks of IMDb.com, Inc. or its affiliates. <a href=\"/about/termsofuse.htm\">Terms of Use</a> and <a href=\"/about/privacy.htm\">Privacy Policy</a> under which this service is provided to you.</p>\n",
      "\t\t\t\t\t</div>\t\t\t\n",
      "\t\t\t\t</div>\n",
      "\t\t\t\t<div style=\"clear:both;\">\n",
      "\t\t\t\t<div>\n",
      "\t\t\t\t <script type=\"text/javascript\">\n",
      "    googletag.cmd.push(function() {\n",
      "        googletag.defineSlot(\"/4215/imdb2.bom.movie\", [[728, 90]], \"ad-slot-3\").addService(googletag.pubads().setTargeting(\"p\", \"b\"));\n",
      "        googletag.pubads().enableSingleRequest();\n",
      "        googletag.enableServices();\n",
      "    });\n",
      "    googletag.cmd.push(function() { googletag.display(\"ad-slot-3\"); });\n",
      "</script></div>\n",
      "\n",
      "\t\t\t\t</div>\n",
      "\t</div>\n",
      "</div>\n",
      "\n",
      "\n",
      "\n",
      "\n",
      "\n",
      "<!-- Page generated in 0.07 seconds | . -->\n",
      "<script>\n",
      "  var _comscore = _comscore || [];\n",
      "  _comscore.push({ c1: \"2\", c2: \"6034961\" });\n",
      "  (function() {\n",
      "    var s = document.createElement(\"script\"), el = document.getElementsByTagName(\"script\")[0]; s.async = true;\n",
      "    s.src = (document.location.protocol == \"https:\" ? \"https://sb\" : \"http://b\") + \".scorecardresearch.com/beacon.js\";\n",
      "  el.parentNode.insertBefore(s, el);\n",
      "  })();\n",
      "</script>\n",
      "<noscript>\n",
      "    <img src=\"http://b.scorecardresearch.com/p?c1=2&c2=6034961&cv=2.0&cj=1\" />\n",
      "</noscript>\n",
      "</body>\n",
      "</html>\n",
      "\n"
     ]
    }
   ],
   "source": [
    "print(response.text)"
   ]
  },
  {
   "cell_type": "markdown",
   "metadata": {
    "slideshow": {
     "slide_type": "slide"
    }
   },
   "source": [
    "## HTML to BeautifulSoup"
   ]
  },
  {
   "cell_type": "code",
   "execution_count": 7,
   "metadata": {
    "ExecuteTime": {
     "end_time": "2017-04-10T15:19:04.007021Z",
     "start_time": "2017-04-10T11:19:04.003729-04:00"
    },
    "collapsed": true,
    "scrolled": false,
    "slideshow": {
     "slide_type": "fragment"
    }
   },
   "outputs": [],
   "source": [
    "page = response.text"
   ]
  },
  {
   "cell_type": "code",
   "execution_count": 8,
   "metadata": {
    "ExecuteTime": {
     "end_time": "2017-04-10T15:19:30.102799Z",
     "start_time": "2017-04-10T11:19:29.961298-04:00"
    },
    "collapsed": true,
    "scrolled": false,
    "slideshow": {
     "slide_type": "fragment"
    }
   },
   "outputs": [],
   "source": [
    "# if needed: conda install beautifulsoup4 lxml\n",
    "\n",
    "from bs4 import BeautifulSoup\n",
    "\n",
    "soup = BeautifulSoup(page, \"lxml\")"
   ]
  },
  {
   "cell_type": "code",
   "execution_count": 9,
   "metadata": {
    "ExecuteTime": {
     "end_time": "2017-04-10T15:19:41.375066Z",
     "start_time": "2017-04-10T11:19:41.348526-04:00"
    },
    "collapsed": false,
    "scrolled": true,
    "slideshow": {
     "slide_type": "fragment"
    }
   },
   "outputs": [
    {
     "name": "stdout",
     "output_type": "stream",
     "text": [
      "<!DOCTYPE html PUBLIC \"-//W3C//DTD HTML 4.01 Transitional//EN\" \"http://www.w3.org/TR/html4/loose.dtd\">\n",
      "<html lang=\"en\">\n",
      "<head>\n",
      "<meta content=\"text/html;charset=utf-8\" http-equiv=\"Content-type\"/>\n",
      "<title>The Big Lebowski (1998) - Box Office Mojo</title>\n",
      "<style type=\"text/css\">\n",
      "table.chart-wide { width: 100%; }\n",
      "</style>\n",
      "<meta content=\"the big lebowski, movie, film, box office, result, records, charts, revenue, opening weekend, gross, worldwide, overseas, foreign, news, reviews, articles, stories, story, analysis, revenue, release date, mpaa rating, genre, running time, length, budget, production budget, distributor, studio, gramercy, theatrical summary, theatrical, showtimes, tickets, show times, theaters, playing, weekend box office results, weekly box office, weekly box office, similar movies, box office mojo\" name=\"keywords\"/>\n",
      "<meta content=\"The Big Lebowski summary of box office results, charts and release information and related links.\" name=\"description\"/>\n",
      "<link charset=\"utf-8\" href=\"/css/mojo.css?1\" media=\"screen\" rel=\"stylesheet\" title=\"no title\" type=\"text/css\"/>\n",
      "<link charset=\"utf-8\" href=\"/css/mojo.css?1\" media=\"print\" rel=\"stylesheet\" title=\"no title\" type=\"text/css\"/>\n",
      "<script src=\"/js/jscharts.js\" type=\"text/javascript\"></script>\n",
      "</head>\n",
      "<body>\n",
      "<iframe frameborder=\"0\" height=\"1\" id=\"sis_pixel_sitewide\" marginheight=\"0\" marginwidth=\"0\" style=\"display: none;\" width=\"1\"></iframe>\n",
      "<script>\n",
      "    setTimeout(function(){\n",
      "        try{\n",
      "            //sis3.0 pixel\n",
      "            var cacheBust = Math.random() * 10000000000000000,\n",
      "                url_sis3 = 'http://s.amazon-adsystem.com/iu3?',\n",
      "                params_sis3 = [\n",
      "                    \"d=boxofficemojo.com\",\n",
      "                    \"cb=\" + cacheBust\n",
      "                ];\n",
      "\n",
      "            (document.getElementById('sis_pixel_sitewide')).src = url_sis3 + params_sis3.join('&');\n",
      "        }catch(e){\n",
      "            if (window.ueLogError) { \n",
      "                window.ueLogError(e);\n",
      "            }\n",
      "        }\n",
      "    }, 5);\n",
      "</script>\n",
      "<div id=\"container\">\n",
      "<div>\n",
      "<script type=\"text/javascript\">\n",
      "    var googletag = googletag || {};\n",
      "    googletag.cmd = googletag.cmd || [];\n",
      "\n",
      "    (function() {\n",
      "        var gads = document.createElement(\"script\");\n",
      "        gads.async = true;\n",
      "        gads.type = \"text/javascript\";\n",
      "\n",
      "        var useSSL = \"https:\" == document.location.protocol;\n",
      "        gads.src = (useSSL ? \"https:\" : \"http:\") + \"//www.googletagservices.com/tag/js/gpt.js\";\n",
      "\n",
      "        var node = document.getElementsByTagName(\"script\")[0];\n",
      "        node.parentNode.insertBefore(gads, node);\n",
      "    })();\n",
      "</script>\n",
      "<script type=\"text/javascript\">\n",
      "  var _gaq = _gaq || [];\n",
      "  _gaq.push(['_setAccount', 'UA-2831726-1']);\n",
      "  _gaq.push(['_trackPageview']);\n",
      "\n",
      "  (function() {\n",
      "    var ga = document.createElement('script'); ga.type = 'text/javascript'; ga.async = true;\n",
      "    ga.src = ('https:' == document.location.protocol ? 'https://ssl' : 'http://www') + '.google-analytics.com/ga.js';\n",
      "    (document.getElementsByTagName('head')[0] || document.getElementsByTagName('body')[0]).appendChild(ga);\n",
      "  })();\n",
      "\n",
      "</script>\n",
      "<div id=\"hp_banner\">\n",
      "<div id=\"top_links\">\n",
      "<div style=\"float: left\"><a href=\"/daily/chart/\">Daily Box Office (Sun.)</a> | <a href=\"/weekend/chart/\">Weekend Box Office (Apr. 14–16)</a> | <a href=\"/movies/?id=furious8.htm\">#1 Movie: 'Fate of the Furious'</a> | <a href=\"http://www.imdb.com/showtimes/?ref_=mojo\">Showtimes</a></div>\n",
      "<div style=\"float: right\">Updated 4/16/2017 8:00 A.M. Pacific Time</div>\n",
      "<div style=\"clear:both; height: 0px\"></div>\n",
      "</div>\n",
      "</div>\n",
      "<div id=\"header\">\n",
      "<div id=\"leaderboard\"><script src=\"http://bs.serving-sys.com/Serving/adServer.bs?c=28&amp;cn=display&amp;pli=1073982656&amp;w=728&amp;h=90&amp;ord=1492448019&amp;z=0\"></script>\n",
      "<noscript>\n",
      "<a href=\"http://bs.serving-sys.com/Serving/adServer.bs?cn=brd&amp;pli=1073982656&amp;Page=&amp;Pos=668343950\" target=\"_blank\">\n",
      "<img border=\"0\" height=\"90\" src=\"http://bs.serving-sys.com/Serving/adServer.bs?c=8&amp;cn=display&amp;pli=1073982656&amp;Page=&amp;Pos=668343950\" width=\"728\"/></a>\n",
      "</noscript>\n",
      "</div>\n",
      "<div id=\"leaderboard\"><script type=\"text/javascript\">\n",
      "    googletag.cmd.push(function() {\n",
      "        googletag.defineSlot(\"/4215/imdb2.bom.movie\", [[728, 90]], \"ad-slot-1\").addService(googletag.pubads().setTargeting(\"p\", \"t\"));\n",
      "        googletag.pubads().enableSingleRequest();\n",
      "        googletag.enableServices();\n",
      "    });\n",
      "    googletag.cmd.push(function() { googletag.display(\"ad-slot-1\"); });\n",
      "</script></div> <div id=\"hp_logo\"><a href=\"/\"><img alt=\"Box Office Mojo\" height=\"56\" src=\"/img/misc/bom_logo1.png\" width=\"245\"/></a></div>\n",
      "<div style=\"clear:both; height: 0px\"></div>\n",
      "</div>\n",
      "</div>\n",
      "<style>\n",
      ".survey {\n",
      "    background: #FEFF9B url(http://i.imdb.com/images/info_small.png) no-repeat 5px 5px;\n",
      "    padding: 5px 5px 5px 30px;\n",
      "}\n",
      "</style>\n",
      "<div class=\"survey\"><a href=\"https://imdb.co1.qualtrics.com/jfe3/form/SV_bIA5hedJ7azZU9L?SOURCE=SITE\" target=\"_blank\">Help us improve the site by taking this survey!</a></div>\n",
      "<div id=\"main\">\n",
      "<!-- COLUMN 1 of 4 -->\n",
      "<div id=\"leftnav\">\n",
      "<!-- google_ad_section_start(weight=ignore) -->\n",
      "<!-- <table id=\"navleft\" cellspacing=\"0\" cellpadding=\"2\" border=\"0\"> -->\n",
      "<ul id=\"leftnav\">\n",
      "<li class=\"nl_section\">Search Site</li>\n",
      "<li class=\"nl_link\" style=\"padding-left:0px\">\n",
      "<form action=\"/search/q.php\" method=\"POST\" name=\"searchbox\">\n",
      "<input name=\"q\" style=\"font-size: 9 pt; font-weight: bold; width: 90px;\" type=\"text\"/><br/>\n",
      "<input type=\"submit\" value=\"Search...\"/></form>\n",
      "</li>\n",
      "<li class=\"nl_section\">Social</li>\n",
      "<li class=\"nl_link\"><a href=\"http://facebook.com/boxofficemojo\" style=\"vertical-align:middle;\"><img alt=\"Facebook Logo\" border=\"0\" src=\"/images/FaceBook_16x16.png\"/>Facebook</a></li>\n",
      "<li class=\"nl_link\"><a href=\"http://twitter.com/boxofficemojo\" style=\"vertical-align:middle;\"><img alt=\"Twitter Logo\" border=\"0\" src=\"/images/Twitter_16x16.png\"/>Twitter</a></li>\n",
      "<li class=\"nl_section\">Features</li>\n",
      "<li class=\"nl_link\"><a href=\"/news/\">News</a></li>\n",
      "<li class=\"nl_link\"><a href=\"/schedule/\">Release Sched.</a></li>\n",
      "<li class=\"nl_link\"><a href=\"http://www.imdb.com/showtimes?ref_=mojo\">Showtimes<br/><span style=\"margin-left:7px;color: #999999; font-size: 9px;\">at <img src=\"/images/mojo_imdb_sm.png\"/></span></a></li>\n",
      "<li class=\"nl_section\">Box Office</li>\n",
      "<li class=\"nl_link\"><a href=\"/daily/\">Daily</a></li>\n",
      "<li class=\"nl_link\"><a href=\"/weekend/\">Weekend</a></li>\n",
      "<li class=\"nl_link\"><a href=\"/weekly/\">Weekly</a></li>\n",
      "<li class=\"nl_link\"><a href=\"/monthly/\">Monthly</a></li>\n",
      "<li class=\"nl_link\"><a href=\"/quarterly/\">Quarterly</a></li>\n",
      "<li class=\"nl_link\"><a href=\"/seasonal/\">Seasonal</a></li>\n",
      "<li class=\"nl_link\"><a href=\"/yearly/\">Yearly</a></li>\n",
      "<li class=\"nl_link\"><a href=\"/alltime/\">All Time</a></li>\n",
      "<li class=\"nl_link\"><a href=\"/intl/\">International</a></li>\n",
      "<li class=\"nl_section\">Indices</li>\n",
      "<li class=\"nl_link\"><a href=\"/studio/\">Studios</a></li>\n",
      "<li class=\"nl_link\"><a href=\"/people/\">People</a></li>\n",
      "<li class=\"nl_link\"><a href=\"/genres/\">Genres</a></li>\n",
      "<li class=\"nl_link\"><a href=\"/franchises/\">Franchises</a></li>\n",
      "<li class=\"nl_link\"><a href=\"/showdowns/\">Showdowns</a></li>\n",
      "<li class=\"nl_link\"><a href=\"/counts/\">Theater Counts</a></li>\n",
      "</ul>\n",
      "</div>\n",
      "<div id=\"body\">\n",
      "<table border=\"0\" cellspacing=\"0\" width=\"878px\">\n",
      "<tr>\n",
      "<td align=\"right\" style=\"whitespace:nowrap;\">\n",
      "<table border=\"0\" cellpadding=\"0\" cellspacing=\"0\">\n",
      "<tr>\n",
      "<form action=\"/adjuster.php\" method=\"POST\" name=\"adjuster\">\n",
      "<input name=\"returnURL\" type=\"hidden\" value=\"/movies/?id=biglebowski.htm\"/>\n",
      "<td valign=\"center\">\n",
      "<font face=\"Verdana\" size=\"2\"><a href=\"/about/adjuster.htm\"><b>Adjuster:</b></a></font>\n",
      "<select name=\"ticketyr\" size=\"1\" style=\"font-family: Verdana; font-size: 10pt\">\n",
      "<option selected=\"\" value=\"0\">Actuals</option>\n",
      "<option value=\"1\">Est. Tckts</option>\n",
      "<script language=\"javascript\">\r\n",
      "  for(i=2017; i>=1933; i--) {\r\n",
      "  \tdocument.write('<option value=\"' + i + '\"');\r\n",
      "\tif(i=='0') document.write(' selected');\r\n",
      "\tdocument.write('>' + i );\r\n",
      "\tif(i=='0') document.write(', $' + '0.00');\r\n",
      "\tdocument.write('</option>');\r\n",
      "  }\r\n",
      "</script>\n",
      "<option value=\"1929\">1929</option>\n",
      "<option value=\"1924\">1924</option>\n",
      "<option value=\"1910\">1910</option>\n",
      "</select><input name=\"Go\" style=\"font-size: 10pt; height: 22\" type=\"submit\" value=\"Go\"/>\n",
      "</td></form></tr></table>\n",
      "</td></tr>\n",
      "<!--------------------------Site Body---------------------------------->\n",
      "<tr>\n",
      "<table border=\"0\" cellpadding=\"0\" cellspacing=\"0\" width=\"100%\">\n",
      "<tr> <td valign=\"top\">\n",
      "<table border=\"0\" cellpadding=\"0\" cellspacing=\"0\" style=\"padding-top: 5px;\" width=\"100%\"><tr><td align=\"center\" valign=\"top\">\n",
      "<a href=\"/movies/?page=media&amp;id=biglebowski.htm\"><img border=\"1\" src=\"https://images-na.ssl-images-amazon.com/images/M/MV5BZTFjMjBiYzItNzU5YS00MjdiLWJkOTktNDQ3MTE3ZjY2YTY5XkEyXkFqcGdeQXVyNDk3NzU2MTQ@._V1_UY222_CR0,0,150,222_AL.jpg\" style=\"border-color: 000000\"/></a> </td>\n",
      "<td align=\"center\" valign=\"top\"><br/><font face=\"Verdana\" size=\"6\"><b>The Big Lebowski</b></font><br/><br/>\n",
      "<table border=\"0\" cellpadding=\"0\" cellspacing=\"0\"><tr><td>\n",
      "<center><table bgcolor=\"#dcdcdc\" border=\"0\" cellpadding=\"4\" cellspacing=\"1\" width=\"95%\"><tr bgcolor=\"#ffffff\"><td align=\"center\" colspan=\"2\"><font size=\"4\">Domestic Total Gross: <b>$17,451,873</b></font></td></tr><tr bgcolor=\"#ffffff\"><td valign=\"top\">Distributor: <b><a href=\"/studio/chart/?studio=gramercy.htm\">Gramercy</a></b></td><td valign=\"top\">Release Date: <b><nobr><a href=\"/schedule/?view=bydate&amp;release=theatrical&amp;date=1998-03-06&amp;p=.htm\">March 6, 1998</a></nobr></b></td></tr><tr bgcolor=\"#ffffff\"><td valign=\"top\">Genre: <b>Crime Comedy</b></td><td valign=\"top\">Runtime: <b>1 hrs. 57 min.</b></td></tr><tr bgcolor=\"#ffffff\"><td valign=\"top\">MPAA Rating: <b>R</b></td><td valign=\"top\">Production Budget: <b>N/A</b></td></tr></table><table border=\"0\" cellpadding=\"2\" cellspacing=\"0\" width=\"95%\">\n",
      "<form action=\"/showtimes/savelocation.php\" method=\"POST\" name=\"movietimesbox\">\n",
      "<input name=\"return\" type=\"hidden\" value=\"bymovie|biglebowski.htm\"/>\n",
      "<tr>\n",
      "<td nowrap=\"\" style=\"padding-top: 10px\">\n",
      "<a href=\"http://www.imdb.com/showtimes?ref_=mojo\"><img src=\"/images/mojo_imdb_med.png\" style=\"vertical-align:middle\"/></a> <a href=\"http://www.imdb.com/showtimes?ref_=mojo\">Get local showtimes at IMDb</a>\n",
      "</td></tr></form></table>\n",
      "</center></td>\n",
      "</tr></table></td>\n",
      "<td align=\"right\"><script type=\"text/javascript\">\n",
      "    googletag.cmd.push(function() {\n",
      "        googletag.defineSlot(\"/4215/imdb2.bom.movie\", [[300, 250]], \"ad-slot-2\").addService(googletag.pubads().setTargeting(\"p\", \"rh\"));\n",
      "        googletag.pubads().enableSingleRequest();\n",
      "        googletag.enableServices();\n",
      "    });\n",
      "    googletag.cmd.push(function() { googletag.display(\"ad-slot-2\"); });\n",
      "</script></td>\n",
      "</tr>\n",
      "</table>\n",
      "<table border=\"0\" cellpadding=\"0\" cellspacing=\"0\" width=\"878px\">\n",
      "<tr><td>\n",
      "<ul class=\"nav_tabs\">\n",
      "<li class=\"nav_tab_current\"><a href=\"/movies/?page=main&amp;id=biglebowski.htm\">Summary</a></li>\n",
      "<li><a href=\"/movies/?page=weekend&amp;id=biglebowski.htm\">Weekend</a></li>\n",
      "<li><a href=\"/movies/?page=weekly&amp;id=biglebowski.htm\">Weekly</a></li>\n",
      "<li><a href=\"/movies/?page=similar&amp;id=biglebowski.htm\">Similar Movies</a></li>\n",
      "</ul>\n",
      "<br/>\n",
      "</td></tr>\n",
      "<tr><td>\n",
      "<table border=\"0\" cellpadding=\"0\" cellspacing=\"0\" width=\"100%\">\n",
      "<tr><td valign=\"top\" width=\"434px\">\n",
      "<table border=\"0\" cellpadding=\"0\" cellspacing=\"0\" width=\"100%\"><tr>\n",
      "<td valign=\"top\" width=\"50%\">\n",
      "<div class=\"mp_box\">\n",
      "<div class=\"mp_box_tab\">Total Lifetime Grosses</div>\n",
      "<div class=\"mp_box_content\">\n",
      "<table border=\"0\" cellpadding=\"0\" cellspacing=\"0\">\n",
      "<tr>\n",
      "<td width=\"40%\"><b>Domestic:</b></td>\n",
      "<td align=\"right\" width=\"35%\"> <b>$17,451,873</b></td>\n",
      "</tr>\n",
      "</table>\n",
      "</div>\n",
      "</div>\n",
      "<div class=\"mp_box\">\n",
      "<div class=\"mp_box_tab\">Domestic Summary</div>\n",
      "<div class=\"mp_box_content\">\n",
      "<table border=\"0\" cellpadding=\"0\" cellspacing=\"0\">\n",
      "<tr>\n",
      "<td align=\"center\"><a href=\"/weekend/chart/?yr=1998&amp;wknd=10&amp;p=.htm\">Opening Weekend:</a></td><td> $5,533,844</td></tr>\n",
      "<tr>\n",
      "<td align=\"center\" colspan=\"2\"><font size=\"2\">(#6 rank, 1,207 theaters, $4,585 average)</font></td></tr>\n",
      "<tr>\n",
      "<td align=\"right\">% of Total Gross:</td><td> 31.7%</td></tr>\n",
      "<tr><td align=\"right\" colspan=\"2\"><font face=\"Helvetica, Arial, Sans-Serif\" size=\"1\"><a href=\"/movies/?page=weekend&amp;id=biglebowski.htm\"><b>&gt; View All 4 Weekends</b></a></font></td></tr>\n",
      "</table>\n",
      "<table border=\"0\" cellpadding=\"0\" cellspacing=\"0\">\n",
      "<tr>\n",
      "<td>Widest Release:</td>\n",
      "<td> 1,235 theaters</td>\n",
      "</tr>\n",
      "</table>\n",
      "</div>\n",
      "</div>\n",
      "</td>\n",
      "<td style=\"padding-left: 10px;\" valign=\"top\"><div class=\"mp_box\">\n",
      "<div class=\"mp_box_tab\">The Players</div>\n",
      "<div class=\"mp_box_content\">\n",
      "<table>\n",
      "<tr><td align=\"right\" valign=\"top\"><font size=\"2\"><a href=\"/people/?view=Director&amp;p=.htm\">Director:</a></font></td><td><font size=\"2\"><a href=\"/people/chart/?view=Director&amp;id=joelcoen.htm\">Joel Coen</a></font></td></tr><tr><td align=\"right\" valign=\"top\"><font size=\"2\"><a href=\"/people/?view=Writer&amp;p=.htm\">Writers:</a></font></td><td><font size=\"2\"><a href=\"/people/chart/?view=Writer&amp;id=ethancoen.htm\">Ethan Coen</a><br/><a href=\"/people/chart/?view=Writer&amp;id=joelcoen.htm\">Joel Coen</a></font></td></tr><tr><td align=\"right\" valign=\"top\"><font size=\"2\"><a href=\"/people/?view=Actor&amp;p=.htm\">Actors:</a></font></td><td><font size=\"2\"><a href=\"/people/chart/?view=Actor&amp;id=jeffbridges.htm\">Jeff Bridges</a><br/><a href=\"/people/chart/?view=Actor&amp;id=johngoodman.htm\">John Goodman</a><br/><a href=\"/people/chart/?view=Actor&amp;id=juliannemoore.htm\">Julianne Moore</a><br/>Steve Buscemi<br/><a href=\"/people/chart/?view=Actor&amp;id=philipseymourhoffman.htm\">Philip Seymour Hoffman</a><br/>Tara Reid<br/><a href=\"/people/chart/?view=Actor&amp;id=samelliott.htm\">Sam Elliott*</a> <font size=\"2\">(Narrator)</font></font></td></tr><tr><td align=\"right\" valign=\"top\"><font size=\"2\"><a href=\"/people/?view=Producer&amp;p=.htm\">Producers:</a></font></td><td><font size=\"2\"><a href=\"/people/chart/?view=Producer&amp;id=timbevan.htm\">Tim Bevan</a> <font size=\"2\">(executive producer)</font><br/><a href=\"/people/chart/?view=Producer&amp;id=ethancoen.htm\">Ethan Coen</a><br/><a href=\"/people/chart/?view=Producer&amp;id=ericfellner.htm\">Eric Fellner</a> <font size=\"2\">(executive producer)</font></font></td></tr><tr><td align=\"right\" valign=\"top\"><font size=\"2\"><a href=\"/people/?view=Cinematographer&amp;p=.htm\"><font size=\"2\">Cinematographer</font>:</a></font></td><td><font size=\"2\"><a href=\"/people/chart/?view=Cinematographer&amp;id=rogerdeakins.htm\">Roger Deakins</a></font></td></tr><tr><td align=\"right\" valign=\"top\"><font size=\"2\"><a href=\"/people/?view=Composer&amp;p=.htm\">Composer:</a></font></td><td><font size=\"2\"><a href=\"/people/chart/?view=Composer&amp;id=carterburwell.htm\">Carter Burwell</a></font></td></tr><tr><td align=\"right\" colspan=\"2\"><i><small>* Denotes minor role</small></i></td></tr></table></div></div></td>\n",
      "</tr></table>\n",
      "<div class=\"mp_box\">\n",
      "<div class=\"mp_box_tab\">Genres</div>\n",
      "<div class=\"mp_box_content\">\n",
      "<table border=\"0\" cellpadding=\"5\" cellspacing=\"1\" style=\"border-collapse: collapse\" width=\"100%\">\n",
      "<tr><th>Genre</th>\n",
      "<th>Rank</th></tr>\n",
      "<tr bgcolor=\"#ffffff\"><td><font size=\"2\"><a href=\"/genres/chart/?id=blackcomedy.htm\">Comedy - Dark/Black</a></font></td>\n",
      "<td align=\"center\"><font size=\"2\">31</font></td>\n",
      "</tr>\n",
      "<tr bgcolor=\"#f4f4ff\"><td><font size=\"2\"><a href=\"/genres/chart/?id=slackerstoner.htm\">Slacker / Stoner</a></font></td>\n",
      "<td align=\"center\"><font size=\"2\">35</font></td>\n",
      "</tr>\n",
      "</table></div></div><div class=\"mp_box\">\n",
      "<div class=\"mp_box_tab\">Charts</div>\n",
      "<div class=\"mp_box_content\">\n",
      "<table border=\"0\" cellpadding=\"5\" cellspacing=\"1\" style=\"border-collapse: collapse\" width=\"100%\">\n",
      "<tr><td bgcolor=\"\"><b>Chart</b></td>\n",
      "<td align=\"center\"><b>Rank</b></td>\n",
      "</tr>\n",
      "<tr bgcolor=\"#ffffff\"><td><font size=\"2\"><a href=\"/alltime/domestic.htm\">All Time Domestic</a></font></td>\n",
      "<td align=\"center\"><font size=\"2\">3,493</font></td>\n",
      "</tr>\n",
      "<tr bgcolor=\"#f4f4ff\"><td><font size=\"2\"><a href=\"/yearly/chart/?yr=1998&amp;p=.htm\">Yearly 1998</a></font></td>\n",
      "<td align=\"center\"><font size=\"2\">96</font></td>\n",
      "</tr>\n",
      "<tr bgcolor=\"#ffffff\"><td><font size=\"2\"><a href=\"/yearly/chart/?view2=releasedate&amp;view=opening&amp;yr=1998&amp;p=.htm\">Yearly Opening Weekends 1998</a></font></td>\n",
      "<td align=\"center\"><font size=\"2\">88</font></td>\n",
      "</tr>\n",
      "<tr bgcolor=\"#f4f4ff\"><td><font size=\"2\"><a href=\"/yearly/chart/mpaarating.htm?rating=R&amp;yr=1998&amp;p=.htm\">Yearly R Rated 1998</a></font></td>\n",
      "<td align=\"center\"><font size=\"2\">41</font></td>\n",
      "</tr>\n",
      "<tr bgcolor=\"#ffffff\"><td><font size=\"2\"><a href=\"/alltime/openingweeks.htm\">Opening Weeks</a></font></td>\n",
      "<td align=\"center\"><font size=\"2\">2,965</font></td>\n",
      "</tr>\n",
      "<tr bgcolor=\"#f4f4ff\"><td><font size=\"2\"><a href=\"/alltime/weekends/\">Opening Weekends</a></font></td>\n",
      "<td align=\"center\"><font size=\"2\">2,873</font></td>\n",
      "</tr>\n",
      "<tr bgcolor=\"#ffffff\"><td><font size=\"2\"><a href=\"/alltime/weekends/smallestdrops.htm?page=SMALLDROPWID&amp;p=.htm\">Smallest Drops, All Wide Releases</a></font></td>\n",
      "<td align=\"center\"><font size=\"2\">1,611</font></td>\n",
      "</tr>\n",
      "<tr bgcolor=\"#f4f4ff\"><td><font size=\"2\">BOM Users' Grades (1998 Releases)</font></td>\n",
      "<td align=\"center\"><font size=\"2\">15</font></td>\n",
      "</tr>\n",
      "<tr><td><b>Charts (Premier Pass Users Only)</b></td><td align=\"center\"><b>Rank</b></td></tr><tr bgcolor=\"#ffffff\"><td><font size=\"2\"><a href=\"/alltime/domestic.htm?page=14&amp;asof=1998-04-10&amp;p=.htm\">Highest All Time Rank (on April 10, 1998)</a></font></td>\n",
      "<td align=\"center\"><font size=\"2\">1364</font></td>\n",
      "</tr>\n",
      "<tr bgcolor=\"#f4f4ff\"><td><font size=\"2\"><a href=\"/yearly/chart/?view2=wide&amp;view=domestic&amp;yr=1998&amp;p=.htm\">Yearly (Wide) 1998</a></font></td>\n",
      "<td align=\"center\"><font size=\"2\">90</font></td>\n",
      "</tr>\n",
      "<tr bgcolor=\"#ffffff\"><td><font size=\"2\"><a href=\"/yearly/chart/?view2=opening&amp;yr=1998&amp;p=.htm\">Yearly Opening Weekends (Wide) 1998</a></font></td>\n",
      "<td align=\"center\"><font size=\"2\">91</font></td>\n",
      "</tr>\n",
      "<tr bgcolor=\"#f4f4ff\"><td><font size=\"2\"><a href=\"/alltime/openingweeks.htm?adjust_yr=2017&amp;p=.htm\">Opening Weeks Adjusted</a></font></td>\n",
      "<td align=\"center\"><font size=\"2\">2,788</font></td>\n",
      "</tr>\n",
      "<tr bgcolor=\"#ffffff\"><td><font size=\"2\"><a href=\"/alltime/weekends/?adjust_yr=2017&amp;p=.htm\">Opening Weekends Adjusted</a></font></td>\n",
      "<td align=\"center\"><font size=\"2\">2,716</font></td>\n",
      "</tr>\n",
      "</table></div></div>\n",
      "</td>\n",
      "<td width=\"10px\"> </td>\n",
      "<td valign=\"top\" width=\"434px\">\n",
      "<div class=\"mp_box\">\n",
      "<div class=\"mp_box_tab\">Related Stories</div>\n",
      "<div class=\"mp_box_content\"><table border=\"0\" cellpadding=\"5\" cellspacing=\"0\" width=\"100%\"><tr bgcolor=\"#ffff99\"><td><font size=\"2\"><a href=\"/news/?id=2680&amp;p=.htm\">2/11/10 2010 Preview: True Grit</a></font></td></tr></table></div></div> <div class=\"mp_box\">\n",
      "<div class=\"mp_box_tab\">Related Products</div>\n",
      "<div class=\"mp_box_content\"><ul>\n",
      "<li><a href=\"http://www.amazon.com/gp/product/B000A7DVR2?ie=UTF8&amp;tag=boxofficemojo-20&amp;linkCode=as2&amp;camp=1789&amp;creative=9325&amp;creativeASIN=B000A7DVR2\">The Big Lebowski (Collector's Edition)</a><img alt=\"\" border=\"0\" height=\"1\" src=\"http://www.assoc-amazon.com/e/ir?t=boxofficemojo-20&amp;l=as2&amp;o=1&amp;a=B000A7DVR2\" style=\"border:none !important; margin:0px !important;\" width=\"1\"/></li>\n",
      "<li><a href=\"http://www.amazon.com/gp/product/B000A7DVY0?ie=UTF8&amp;tag=boxofficemojo-20&amp;linkCode=as2&amp;camp=1789&amp;creative=9325&amp;creativeASIN=B000A7DVY0\">The Big Lebowski - Achiever's Edition</a><img alt=\"\" border=\"0\" height=\"1\" src=\"http://www.assoc-amazon.com/e/ir?t=boxofficemojo-20&amp;l=as2&amp;o=1&amp;a=B000A7DVY0\" style=\"border:none !important; margin:0px !important;\" width=\"1\"/></li>\n",
      "<li><a href=\"http://www.amazon.com/gp/product/B000ASATSU?ie=UTF8&amp;tag=boxofficemojo-20&amp;linkCode=as2&amp;camp=1789&amp;creative=9325&amp;creativeASIN=B000ASATSU\">The Coen Brothers Collection</a><img alt=\"\" border=\"0\" height=\"1\" src=\"http://www.assoc-amazon.com/e/ir?t=boxofficemojo-20&amp;l=as2&amp;o=1&amp;a=B000ASATSU\" style=\"border:none !important; margin:0px !important;\" width=\"1\"/></li>\n",
      "<li><a href=\"http://www.amazon.com/gp/product/B000O179EK?ie=UTF8&amp;tag=boxofficemojo-20&amp;linkCode=as2&amp;camp=1789&amp;creative=9325&amp;creativeASIN=B000O179EK\">The Big Lebowski (HD-DVD)</a><img alt=\"\" border=\"0\" height=\"1\" src=\"http://www.assoc-amazon.com/e/ir?t=boxofficemojo-20&amp;l=as2&amp;o=1&amp;a=B000O179EK\" style=\"border:none !important; margin:0px !important;\" width=\"1\"/></li>\n",
      "<li><a href=\"http://www.amazon.com/gp/product/B000O179EK?ie=UTF8&amp;tag=boxofficemojo-20&amp;linkCode=as2&amp;camp=1789&amp;creative=9325&amp;creativeASIN=B000O179EK\">The Big Lebowski (HD-DVD)</a><img alt=\"\" border=\"0\" height=\"1\" src=\"http://www.assoc-amazon.com/e/ir?t=boxofficemojo-20&amp;l=as2&amp;o=1&amp;a=B000O179EK\" style=\"border:none !important; margin:0px !important;\" width=\"1\"/></li>\n",
      "<li><a href=\"http://www.amazon.com/gp/product/B001AEF6CW?ie=UTF8&amp;tag=boxofficemojo-20&amp;linkCode=as2&amp;camp=1789&amp;creative=9325&amp;creativeASIN=B001AEF6CW\">The Big Lebowski (10th Anniv. Limited Edition)</a><img alt=\"\" border=\"0\" height=\"1\" src=\"http://www.assoc-amazon.com/e/ir?t=boxofficemojo-20&amp;l=as2&amp;o=1&amp;a=B001AEF6CW\" style=\"border:none !important; margin:0px !important;\" width=\"1\"/></li>\n",
      "<li><a href=\"http://www.amazon.com/gp/product/B001AEF6D6?ie=UTF8&amp;tag=boxofficemojo-20&amp;linkCode=as2&amp;camp=1789&amp;creative=9325&amp;creativeASIN=B001AEF6D6\">The Big Lebowski (10th Anniv. Edition)</a><img alt=\"\" border=\"0\" height=\"1\" src=\"http://www.assoc-amazon.com/e/ir?t=boxofficemojo-20&amp;l=as2&amp;o=1&amp;a=B001AEF6D6\" style=\"border:none !important; margin:0px !important;\" width=\"1\"/></li>\n",
      "</ul></div></div> <object classid=\"clsid:D27CDB6E-AE6D-11cf-96B8-444553540000\" codebase=\"http://fpdownload.macromedia.com/get/flashplayer/current/swflash.cab\" height=\"150px\" id=\"Player_82160f42-9620-4d0a-b79a-18b1abd853fb\" width=\"400px\"> <param name=\"movie\" value=\"http://ws.amazon.com/widgets/q?ServiceVersion=20070822&amp;MarketPlace=US&amp;ID=V20070822%2FUS%2Fboxofficemojo-20%2F8010%2F82160f42-9620-4d0a-b79a-18b1abd853fb&amp;Operation=GetDisplayTemplate\"></param><param name=\"quality\" value=\"high\"></param><param name=\"bgcolor\" value=\"#FFFFFF\"></param><param name=\"allowscriptaccess\" value=\"always\"></param><embed align=\"middle\" allowscriptaccess=\"always\" bgcolor=\"#ffffff\" height=\"150px\" id=\"Player_82160f42-9620-4d0a-b79a-18b1abd853fb\" name=\"Player_82160f42-9620-4d0a-b79a-18b1abd853fb\" quality=\"high\" src=\"http://ws.amazon.com/widgets/q?ServiceVersion=20070822&amp;MarketPlace=US&amp;ID=V20070822%2FUS%2Fboxofficemojo-20%2F8010%2F82160f42-9620-4d0a-b79a-18b1abd853fb&amp;Operation=GetDisplayTemplate\" type=\"application/x-shockwave-flash\" width=\"400px\"></embed></object> <noscript><a href=\"http://ws.amazon.com/widgets/q?ServiceVersion=20070822&amp;MarketPlace=US&amp;ID=V20070822%2FUS%2Fboxofficemojo-20%2F8010%2F82160f42-9620-4d0a-b79a-18b1abd853fb&amp;Operation=NoScript\">Amazon.com Widgets</a></noscript>\n",
      "</td>\n",
      "</tr>\n",
      "</table>\n",
      "<br/>\n",
      "</td>\n",
      "</tr>\n",
      "</table>\n",
      "</td></tr></table>\n",
      "<div id=\"hp_footer\">\n",
      "<div style=\"padding-bottom: 20px;\">\n",
      "<div style=\"margin: 0px 121px; vertical-align: top;\">\n",
      "<div id=\"footer_links\">\n",
      "<ul class=\"footer_link_list\">\n",
      "<li><strong>Latest Updates</strong></li>\n",
      "<li><a href=\"/news/?ref=ft\">Movie News</a>\n",
      "</li><li><a href=\"/daily/chart/?ref=ft\">Daily Chart</a></li>\n",
      "<li><a href=\"/weekend/chart/?ref=ft\">Weekend Chart</a></li>\n",
      "<li><a href=\"/alltime/?ref=ft\">All Time Charts</a></li>\n",
      "<li><a href=\"/intl/?ref=ft\">International Charts</a></li>\n",
      "</ul>\n",
      "<!--\n",
      "\t\t\t\t\t<ul class=\"footer_link_list\">\n",
      "\t\t\t\t\t\t<li><strong>Popular Movies</strong></li>\n",
      "\t\t\t\t\t\t\t\t\t\t\t</ul>\n",
      "\t\t\t\t\t-->\n",
      "<ul class=\"footer_link_list\">\n",
      "<li><strong>Indices</strong></li>\n",
      "<li><a href=\"/people/?ref=ft\">People</a></li>\n",
      "<li><a href=\"/genres/?ref=ft\">Genres</a></li>\n",
      "<li><a href=\"/franchises/?ref=ft\">Franchises</a></li>\n",
      "<li><a href=\"/showdowns/?ref=ft\">Showdowns</a></li>\n",
      "</ul>\n",
      "<ul class=\"footer_link_list\">\n",
      "<li><strong>Other</strong></li>\n",
      "<li><a href=\"/about/?ref=ft\">About This Site</a></li>\n",
      "<li><a href=\"/about/advertise.htm?ref=ft\">Advertising</a></li>\n",
      "</ul>\n",
      "</div>\n",
      "<div id=\"copyright\">\n",
      "<a href=\"/?ref=ft\"><img alt=\"Box Office Mojo\" height=\"56\" src=\"/img/misc/bom_logo1.png\" width=\"245\"/></a><br/>\n",
      "<p>An <a href=\"http://imdb.com/\"><img alt=\"IMDb\" height=\"16\" src=\"/img/misc/IMDbSm.png\" valign=\"middle\" width=\"34\"/></a> company<br/><br/></p>\n",
      "<p>© <a href=\"http://imdb.com/\">IMDb.com</a>, Inc. or its affiliates. All rights reserved. Box Office Mojo and IMDb are trademarks or registered trademarks of IMDb.com, Inc. or its affiliates. <a href=\"/about/termsofuse.htm\">Terms of Use</a> and <a href=\"/about/privacy.htm\">Privacy Policy</a> under which this service is provided to you.</p>\n",
      "</div>\n",
      "</div>\n",
      "<div style=\"clear:both;\">\n",
      "<div>\n",
      "<script type=\"text/javascript\">\n",
      "    googletag.cmd.push(function() {\n",
      "        googletag.defineSlot(\"/4215/imdb2.bom.movie\", [[728, 90]], \"ad-slot-3\").addService(googletag.pubads().setTargeting(\"p\", \"b\"));\n",
      "        googletag.pubads().enableSingleRequest();\n",
      "        googletag.enableServices();\n",
      "    });\n",
      "    googletag.cmd.push(function() { googletag.display(\"ad-slot-3\"); });\n",
      "</script></div>\n",
      "</div>\n",
      "</div>\n",
      "</div>\n",
      "<!-- Page generated in 0.07 seconds | . -->\n",
      "<script>\n",
      "  var _comscore = _comscore || [];\n",
      "  _comscore.push({ c1: \"2\", c2: \"6034961\" });\n",
      "  (function() {\n",
      "    var s = document.createElement(\"script\"), el = document.getElementsByTagName(\"script\")[0]; s.async = true;\n",
      "    s.src = (document.location.protocol == \"https:\" ? \"https://sb\" : \"http://b\") + \".scorecardresearch.com/beacon.js\";\n",
      "  el.parentNode.insertBefore(s, el);\n",
      "  })();\n",
      "</script>\n",
      "<noscript>\n",
      "<img src=\"http://b.scorecardresearch.com/p?c1=2&amp;c2=6034961&amp;cv=2.0&amp;cj=1\"/>\n",
      "</noscript>\n",
      "</tr></table></div></div></div></body>\n",
      "</html>\n",
      "\n"
     ]
    }
   ],
   "source": [
    "print(soup)"
   ]
  },
  {
   "cell_type": "markdown",
   "metadata": {
    "slideshow": {
     "slide_type": "slide"
    }
   },
   "source": [
    "## HTML to BeautifulSoup"
   ]
  },
  {
   "cell_type": "code",
   "execution_count": 10,
   "metadata": {
    "ExecuteTime": {
     "end_time": "2017-04-10T15:19:56.792541Z",
     "start_time": "2017-04-10T11:19:56.769480-04:00"
    },
    "collapsed": false,
    "scrolled": true,
    "slideshow": {
     "slide_type": "fragment"
    }
   },
   "outputs": [
    {
     "name": "stdout",
     "output_type": "stream",
     "text": [
      "<!DOCTYPE html PUBLIC \"-//W3C//DTD HTML 4.01 Transitional//EN\" \"http://www.w3.org/TR/html4/loose.dtd\">\n",
      "<html lang=\"en\">\n",
      " <head>\n",
      "  <meta content=\"text/html;charset=utf-8\" http-equiv=\"Content-type\"/>\n",
      "  <title>\n",
      "   The Big Lebowski (1998) - Box Office Mojo\n",
      "  </title>\n",
      "  <style type=\"text/css\">\n",
      "   table.chart-wide { width: 100%; }\n",
      "  </style>\n",
      "  <meta content=\"the big lebowski, movie, film, box office, result, records, charts, revenue, opening weekend, gross, worldwide, overseas, foreign, news, reviews, articles, stories, story, analysis, revenue, release date, mpaa rating, genre, running time, length, budget, production budget, distributor, studio, gramercy, theatrical summary, theatrical, showtimes, tickets, show times, theaters, playing, weekend box office results, weekly box office, weekly box office, similar movies, box office mojo\" name=\"keywords\"/>\n",
      "  <meta content=\"The Big Lebowski summary of box office results, charts and release information and related links.\" name=\"description\"/>\n",
      "  <link charset=\"utf-8\" href=\"/css/mojo.css?1\" media=\"screen\" rel=\"stylesheet\" title=\"no title\" type=\"text/css\"/>\n",
      "  <link charset=\"utf-8\" href=\"/css/mojo.css?1\" media=\"print\" rel=\"stylesheet\" title=\"no title\" type=\"text/css\"/>\n",
      "  <script src=\"/js/jscharts.js\" type=\"text/javascript\">\n",
      "  </script>\n",
      " </head>\n",
      " <body>\n",
      "  <iframe frameborder=\"0\" height=\"1\" id=\"sis_pixel_sitewide\" marginheight=\"0\" marginwidth=\"0\" style=\"display: none;\" width=\"1\">\n",
      "  </iframe>\n",
      "  <script>\n",
      "   setTimeout(function(){\n",
      "        try{\n",
      "            //sis3.0 pixel\n",
      "            var cacheBust = Math.random() * 10000000000000000,\n",
      "                url_sis3 = 'http://s.amazon-adsystem.com/iu3?',\n",
      "                params_sis3 = [\n",
      "                    \"d=boxofficemojo.com\",\n",
      "                    \"cb=\" + cacheBust\n",
      "                ];\n",
      "\n",
      "            (document.getElementById('sis_pixel_sitewide')).src = url_sis3 + params_sis3.join('&');\n",
      "        }catch(e){\n",
      "            if (window.ueLogError) { \n",
      "                window.ueLogError(e);\n",
      "            }\n",
      "        }\n",
      "    }, 5);\n",
      "  </script>\n",
      "  <div id=\"container\">\n",
      "   <div>\n",
      "    <script type=\"text/javascript\">\n",
      "     var googletag = googletag || {};\n",
      "    googletag.cmd = googletag.cmd || [];\n",
      "\n",
      "    (function() {\n",
      "        var gads = document.createElement(\"script\");\n",
      "        gads.async = true;\n",
      "        gads.type = \"text/javascript\";\n",
      "\n",
      "        var useSSL = \"https:\" == document.location.protocol;\n",
      "        gads.src = (useSSL ? \"https:\" : \"http:\") + \"//www.googletagservices.com/tag/js/gpt.js\";\n",
      "\n",
      "        var node = document.getElementsByTagName(\"script\")[0];\n",
      "        node.parentNode.insertBefore(gads, node);\n",
      "    })();\n",
      "    </script>\n",
      "    <script type=\"text/javascript\">\n",
      "     var _gaq = _gaq || [];\n",
      "  _gaq.push(['_setAccount', 'UA-2831726-1']);\n",
      "  _gaq.push(['_trackPageview']);\n",
      "\n",
      "  (function() {\n",
      "    var ga = document.createElement('script'); ga.type = 'text/javascript'; ga.async = true;\n",
      "    ga.src = ('https:' == document.location.protocol ? 'https://ssl' : 'http://www') + '.google-analytics.com/ga.js';\n",
      "    (document.getElementsByTagName('head')[0] || document.getElementsByTagName('body')[0]).appendChild(ga);\n",
      "  })();\n",
      "    </script>\n",
      "    <div id=\"hp_banner\">\n",
      "     <div id=\"top_links\">\n",
      "      <div style=\"float: left\">\n",
      "       <a href=\"/daily/chart/\">\n",
      "        Daily Box Office (Sun.)\n",
      "       </a>\n",
      "       |\n",
      "       <a href=\"/weekend/chart/\">\n",
      "        Weekend Box Office (Apr. 14–16)\n",
      "       </a>\n",
      "       |\n",
      "       <a href=\"/movies/?id=furious8.htm\">\n",
      "        #1 Movie: 'Fate of the Furious'\n",
      "       </a>\n",
      "       |\n",
      "       <a href=\"http://www.imdb.com/showtimes/?ref_=mojo\">\n",
      "        Showtimes\n",
      "       </a>\n",
      "      </div>\n",
      "      <div style=\"float: right\">\n",
      "       Updated 4/16/2017 8:00 A.M. Pacific Time\n",
      "      </div>\n",
      "      <div style=\"clear:both; height: 0px\">\n",
      "      </div>\n",
      "     </div>\n",
      "    </div>\n",
      "    <div id=\"header\">\n",
      "     <div id=\"leaderboard\">\n",
      "      <script src=\"http://bs.serving-sys.com/Serving/adServer.bs?c=28&amp;cn=display&amp;pli=1073982656&amp;w=728&amp;h=90&amp;ord=1492448019&amp;z=0\">\n",
      "      </script>\n",
      "      <noscript>\n",
      "       <a href=\"http://bs.serving-sys.com/Serving/adServer.bs?cn=brd&amp;pli=1073982656&amp;Page=&amp;Pos=668343950\" target=\"_blank\">\n",
      "        <img border=\"0\" height=\"90\" src=\"http://bs.serving-sys.com/Serving/adServer.bs?c=8&amp;cn=display&amp;pli=1073982656&amp;Page=&amp;Pos=668343950\" width=\"728\"/>\n",
      "       </a>\n",
      "      </noscript>\n",
      "     </div>\n",
      "     <div id=\"leaderboard\">\n",
      "      <script type=\"text/javascript\">\n",
      "       googletag.cmd.push(function() {\n",
      "        googletag.defineSlot(\"/4215/imdb2.bom.movie\", [[728, 90]], \"ad-slot-1\").addService(googletag.pubads().setTargeting(\"p\", \"t\"));\n",
      "        googletag.pubads().enableSingleRequest();\n",
      "        googletag.enableServices();\n",
      "    });\n",
      "    googletag.cmd.push(function() { googletag.display(\"ad-slot-1\"); });\n",
      "      </script>\n",
      "     </div>\n",
      "     <div id=\"hp_logo\">\n",
      "      <a href=\"/\">\n",
      "       <img alt=\"Box Office Mojo\" height=\"56\" src=\"/img/misc/bom_logo1.png\" width=\"245\"/>\n",
      "      </a>\n",
      "     </div>\n",
      "     <div style=\"clear:both; height: 0px\">\n",
      "     </div>\n",
      "    </div>\n",
      "   </div>\n",
      "   <style>\n",
      "    .survey {\n",
      "    background: #FEFF9B url(http://i.imdb.com/images/info_small.png) no-repeat 5px 5px;\n",
      "    padding: 5px 5px 5px 30px;\n",
      "}\n",
      "   </style>\n",
      "   <div class=\"survey\">\n",
      "    <a href=\"https://imdb.co1.qualtrics.com/jfe3/form/SV_bIA5hedJ7azZU9L?SOURCE=SITE\" target=\"_blank\">\n",
      "     Help us improve the site by taking this survey!\n",
      "    </a>\n",
      "   </div>\n",
      "   <div id=\"main\">\n",
      "    <!-- COLUMN 1 of 4 -->\n",
      "    <div id=\"leftnav\">\n",
      "     <!-- google_ad_section_start(weight=ignore) -->\n",
      "     <!-- <table id=\"navleft\" cellspacing=\"0\" cellpadding=\"2\" border=\"0\"> -->\n",
      "     <ul id=\"leftnav\">\n",
      "      <li class=\"nl_section\">\n",
      "       Search Site\n",
      "      </li>\n",
      "      <li class=\"nl_link\" style=\"padding-left:0px\">\n",
      "       <form action=\"/search/q.php\" method=\"POST\" name=\"searchbox\">\n",
      "        <input name=\"q\" style=\"font-size: 9 pt; font-weight: bold; width: 90px;\" type=\"text\"/>\n",
      "        <br/>\n",
      "        <input type=\"submit\" value=\"Search...\"/>\n",
      "       </form>\n",
      "      </li>\n",
      "      <li class=\"nl_section\">\n",
      "       Social\n",
      "      </li>\n",
      "      <li class=\"nl_link\">\n",
      "       <a href=\"http://facebook.com/boxofficemojo\" style=\"vertical-align:middle;\">\n",
      "        <img alt=\"Facebook Logo\" border=\"0\" src=\"/images/FaceBook_16x16.png\"/>\n",
      "        Facebook\n",
      "       </a>\n",
      "      </li>\n",
      "      <li class=\"nl_link\">\n",
      "       <a href=\"http://twitter.com/boxofficemojo\" style=\"vertical-align:middle;\">\n",
      "        <img alt=\"Twitter Logo\" border=\"0\" src=\"/images/Twitter_16x16.png\"/>\n",
      "        Twitter\n",
      "       </a>\n",
      "      </li>\n",
      "      <li class=\"nl_section\">\n",
      "       Features\n",
      "      </li>\n",
      "      <li class=\"nl_link\">\n",
      "       <a href=\"/news/\">\n",
      "        News\n",
      "       </a>\n",
      "      </li>\n",
      "      <li class=\"nl_link\">\n",
      "       <a href=\"/schedule/\">\n",
      "        Release Sched.\n",
      "       </a>\n",
      "      </li>\n",
      "      <li class=\"nl_link\">\n",
      "       <a href=\"http://www.imdb.com/showtimes?ref_=mojo\">\n",
      "        Showtimes\n",
      "        <br/>\n",
      "        <span style=\"margin-left:7px;color: #999999; font-size: 9px;\">\n",
      "         at\n",
      "         <img src=\"/images/mojo_imdb_sm.png\"/>\n",
      "        </span>\n",
      "       </a>\n",
      "      </li>\n",
      "      <li class=\"nl_section\">\n",
      "       Box Office\n",
      "      </li>\n",
      "      <li class=\"nl_link\">\n",
      "       <a href=\"/daily/\">\n",
      "        Daily\n",
      "       </a>\n",
      "      </li>\n",
      "      <li class=\"nl_link\">\n",
      "       <a href=\"/weekend/\">\n",
      "        Weekend\n",
      "       </a>\n",
      "      </li>\n",
      "      <li class=\"nl_link\">\n",
      "       <a href=\"/weekly/\">\n",
      "        Weekly\n",
      "       </a>\n",
      "      </li>\n",
      "      <li class=\"nl_link\">\n",
      "       <a href=\"/monthly/\">\n",
      "        Monthly\n",
      "       </a>\n",
      "      </li>\n",
      "      <li class=\"nl_link\">\n",
      "       <a href=\"/quarterly/\">\n",
      "        Quarterly\n",
      "       </a>\n",
      "      </li>\n",
      "      <li class=\"nl_link\">\n",
      "       <a href=\"/seasonal/\">\n",
      "        Seasonal\n",
      "       </a>\n",
      "      </li>\n",
      "      <li class=\"nl_link\">\n",
      "       <a href=\"/yearly/\">\n",
      "        Yearly\n",
      "       </a>\n",
      "      </li>\n",
      "      <li class=\"nl_link\">\n",
      "       <a href=\"/alltime/\">\n",
      "        All Time\n",
      "       </a>\n",
      "      </li>\n",
      "      <li class=\"nl_link\">\n",
      "       <a href=\"/intl/\">\n",
      "        International\n",
      "       </a>\n",
      "      </li>\n",
      "      <li class=\"nl_section\">\n",
      "       Indices\n",
      "      </li>\n",
      "      <li class=\"nl_link\">\n",
      "       <a href=\"/studio/\">\n",
      "        Studios\n",
      "       </a>\n",
      "      </li>\n",
      "      <li class=\"nl_link\">\n",
      "       <a href=\"/people/\">\n",
      "        People\n",
      "       </a>\n",
      "      </li>\n",
      "      <li class=\"nl_link\">\n",
      "       <a href=\"/genres/\">\n",
      "        Genres\n",
      "       </a>\n",
      "      </li>\n",
      "      <li class=\"nl_link\">\n",
      "       <a href=\"/franchises/\">\n",
      "        Franchises\n",
      "       </a>\n",
      "      </li>\n",
      "      <li class=\"nl_link\">\n",
      "       <a href=\"/showdowns/\">\n",
      "        Showdowns\n",
      "       </a>\n",
      "      </li>\n",
      "      <li class=\"nl_link\">\n",
      "       <a href=\"/counts/\">\n",
      "        Theater Counts\n",
      "       </a>\n",
      "      </li>\n",
      "     </ul>\n",
      "    </div>\n",
      "    <div id=\"body\">\n",
      "     <table border=\"0\" cellspacing=\"0\" width=\"878px\">\n",
      "      <tr>\n",
      "       <td align=\"right\" style=\"whitespace:nowrap;\">\n",
      "        <table border=\"0\" cellpadding=\"0\" cellspacing=\"0\">\n",
      "         <tr>\n",
      "          <form action=\"/adjuster.php\" method=\"POST\" name=\"adjuster\">\n",
      "           <input name=\"returnURL\" type=\"hidden\" value=\"/movies/?id=biglebowski.htm\"/>\n",
      "           <td valign=\"center\">\n",
      "            <font face=\"Verdana\" size=\"2\">\n",
      "             <a href=\"/about/adjuster.htm\">\n",
      "              <b>\n",
      "               Adjuster:\n",
      "              </b>\n",
      "             </a>\n",
      "            </font>\n",
      "            <select name=\"ticketyr\" size=\"1\" style=\"font-family: Verdana; font-size: 10pt\">\n",
      "             <option selected=\"\" value=\"0\">\n",
      "              Actuals\n",
      "             </option>\n",
      "             <option value=\"1\">\n",
      "              Est. Tckts\n",
      "             </option>\n",
      "             <script language=\"javascript\">\n",
      "              for(i=2017; i>=1933; i--) {\r\n",
      "  \tdocument.write('<option value=\"' + i + '\"');\r\n",
      "\tif(i=='0') document.write(' selected');\r\n",
      "\tdocument.write('>' + i );\r\n",
      "\tif(i=='0') document.write(', $' + '0.00');\r\n",
      "\tdocument.write('</option>');\r\n",
      "  }\n",
      "             </script>\n",
      "             <option value=\"1929\">\n",
      "              1929\n",
      "             </option>\n",
      "             <option value=\"1924\">\n",
      "              1924\n",
      "             </option>\n",
      "             <option value=\"1910\">\n",
      "              1910\n",
      "             </option>\n",
      "            </select>\n",
      "            <input name=\"Go\" style=\"font-size: 10pt; height: 22\" type=\"submit\" value=\"Go\"/>\n",
      "           </td>\n",
      "          </form>\n",
      "         </tr>\n",
      "        </table>\n",
      "       </td>\n",
      "      </tr>\n",
      "      <!--------------------------Site Body---------------------------------->\n",
      "      <tr>\n",
      "       <table border=\"0\" cellpadding=\"0\" cellspacing=\"0\" width=\"100%\">\n",
      "        <tr>\n",
      "         <td valign=\"top\">\n",
      "          <table border=\"0\" cellpadding=\"0\" cellspacing=\"0\" style=\"padding-top: 5px;\" width=\"100%\">\n",
      "           <tr>\n",
      "            <td align=\"center\" valign=\"top\">\n",
      "             <a href=\"/movies/?page=media&amp;id=biglebowski.htm\">\n",
      "              <img border=\"1\" src=\"https://images-na.ssl-images-amazon.com/images/M/MV5BZTFjMjBiYzItNzU5YS00MjdiLWJkOTktNDQ3MTE3ZjY2YTY5XkEyXkFqcGdeQXVyNDk3NzU2MTQ@._V1_UY222_CR0,0,150,222_AL.jpg\" style=\"border-color: 000000\"/>\n",
      "             </a>\n",
      "            </td>\n",
      "            <td align=\"center\" valign=\"top\">\n",
      "             <br/>\n",
      "             <font face=\"Verdana\" size=\"6\">\n",
      "              <b>\n",
      "               The Big Lebowski\n",
      "              </b>\n",
      "             </font>\n",
      "             <br/>\n",
      "             <br/>\n",
      "             <table border=\"0\" cellpadding=\"0\" cellspacing=\"0\">\n",
      "              <tr>\n",
      "               <td>\n",
      "                <center>\n",
      "                 <table bgcolor=\"#dcdcdc\" border=\"0\" cellpadding=\"4\" cellspacing=\"1\" width=\"95%\">\n",
      "                  <tr bgcolor=\"#ffffff\">\n",
      "                   <td align=\"center\" colspan=\"2\">\n",
      "                    <font size=\"4\">\n",
      "                     Domestic Total Gross:\n",
      "                     <b>\n",
      "                      $17,451,873\n",
      "                     </b>\n",
      "                    </font>\n",
      "                   </td>\n",
      "                  </tr>\n",
      "                  <tr bgcolor=\"#ffffff\">\n",
      "                   <td valign=\"top\">\n",
      "                    Distributor:\n",
      "                    <b>\n",
      "                     <a href=\"/studio/chart/?studio=gramercy.htm\">\n",
      "                      Gramercy\n",
      "                     </a>\n",
      "                    </b>\n",
      "                   </td>\n",
      "                   <td valign=\"top\">\n",
      "                    Release Date:\n",
      "                    <b>\n",
      "                     <nobr>\n",
      "                      <a href=\"/schedule/?view=bydate&amp;release=theatrical&amp;date=1998-03-06&amp;p=.htm\">\n",
      "                       March 6, 1998\n",
      "                      </a>\n",
      "                     </nobr>\n",
      "                    </b>\n",
      "                   </td>\n",
      "                  </tr>\n",
      "                  <tr bgcolor=\"#ffffff\">\n",
      "                   <td valign=\"top\">\n",
      "                    Genre:\n",
      "                    <b>\n",
      "                     Crime Comedy\n",
      "                    </b>\n",
      "                   </td>\n",
      "                   <td valign=\"top\">\n",
      "                    Runtime:\n",
      "                    <b>\n",
      "                     1 hrs. 57 min.\n",
      "                    </b>\n",
      "                   </td>\n",
      "                  </tr>\n",
      "                  <tr bgcolor=\"#ffffff\">\n",
      "                   <td valign=\"top\">\n",
      "                    MPAA Rating:\n",
      "                    <b>\n",
      "                     R\n",
      "                    </b>\n",
      "                   </td>\n",
      "                   <td valign=\"top\">\n",
      "                    Production Budget:\n",
      "                    <b>\n",
      "                     N/A\n",
      "                    </b>\n",
      "                   </td>\n",
      "                  </tr>\n",
      "                 </table>\n",
      "                 <table border=\"0\" cellpadding=\"2\" cellspacing=\"0\" width=\"95%\">\n",
      "                  <form action=\"/showtimes/savelocation.php\" method=\"POST\" name=\"movietimesbox\">\n",
      "                   <input name=\"return\" type=\"hidden\" value=\"bymovie|biglebowski.htm\"/>\n",
      "                   <tr>\n",
      "                    <td nowrap=\"\" style=\"padding-top: 10px\">\n",
      "                     <a href=\"http://www.imdb.com/showtimes?ref_=mojo\">\n",
      "                      <img src=\"/images/mojo_imdb_med.png\" style=\"vertical-align:middle\"/>\n",
      "                     </a>\n",
      "                     <a href=\"http://www.imdb.com/showtimes?ref_=mojo\">\n",
      "                      Get local showtimes at IMDb\n",
      "                     </a>\n",
      "                    </td>\n",
      "                   </tr>\n",
      "                  </form>\n",
      "                 </table>\n",
      "                </center>\n",
      "               </td>\n",
      "              </tr>\n",
      "             </table>\n",
      "            </td>\n",
      "            <td align=\"right\">\n",
      "             <script type=\"text/javascript\">\n",
      "              googletag.cmd.push(function() {\n",
      "        googletag.defineSlot(\"/4215/imdb2.bom.movie\", [[300, 250]], \"ad-slot-2\").addService(googletag.pubads().setTargeting(\"p\", \"rh\"));\n",
      "        googletag.pubads().enableSingleRequest();\n",
      "        googletag.enableServices();\n",
      "    });\n",
      "    googletag.cmd.push(function() { googletag.display(\"ad-slot-2\"); });\n",
      "             </script>\n",
      "            </td>\n",
      "           </tr>\n",
      "          </table>\n",
      "          <table border=\"0\" cellpadding=\"0\" cellspacing=\"0\" width=\"878px\">\n",
      "           <tr>\n",
      "            <td>\n",
      "             <ul class=\"nav_tabs\">\n",
      "              <li class=\"nav_tab_current\">\n",
      "               <a href=\"/movies/?page=main&amp;id=biglebowski.htm\">\n",
      "                Summary\n",
      "               </a>\n",
      "              </li>\n",
      "              <li>\n",
      "               <a href=\"/movies/?page=weekend&amp;id=biglebowski.htm\">\n",
      "                Weekend\n",
      "               </a>\n",
      "              </li>\n",
      "              <li>\n",
      "               <a href=\"/movies/?page=weekly&amp;id=biglebowski.htm\">\n",
      "                Weekly\n",
      "               </a>\n",
      "              </li>\n",
      "              <li>\n",
      "               <a href=\"/movies/?page=similar&amp;id=biglebowski.htm\">\n",
      "                Similar Movies\n",
      "               </a>\n",
      "              </li>\n",
      "             </ul>\n",
      "             <br/>\n",
      "            </td>\n",
      "           </tr>\n",
      "           <tr>\n",
      "            <td>\n",
      "             <table border=\"0\" cellpadding=\"0\" cellspacing=\"0\" width=\"100%\">\n",
      "              <tr>\n",
      "               <td valign=\"top\" width=\"434px\">\n",
      "                <table border=\"0\" cellpadding=\"0\" cellspacing=\"0\" width=\"100%\">\n",
      "                 <tr>\n",
      "                  <td valign=\"top\" width=\"50%\">\n",
      "                   <div class=\"mp_box\">\n",
      "                    <div class=\"mp_box_tab\">\n",
      "                     Total Lifetime Grosses\n",
      "                    </div>\n",
      "                    <div class=\"mp_box_content\">\n",
      "                     <table border=\"0\" cellpadding=\"0\" cellspacing=\"0\">\n",
      "                      <tr>\n",
      "                       <td width=\"40%\">\n",
      "                        <b>\n",
      "                         Domestic:\n",
      "                        </b>\n",
      "                       </td>\n",
      "                       <td align=\"right\" width=\"35%\">\n",
      "                        <b>\n",
      "                         $17,451,873\n",
      "                        </b>\n",
      "                       </td>\n",
      "                      </tr>\n",
      "                     </table>\n",
      "                    </div>\n",
      "                   </div>\n",
      "                   <div class=\"mp_box\">\n",
      "                    <div class=\"mp_box_tab\">\n",
      "                     Domestic Summary\n",
      "                    </div>\n",
      "                    <div class=\"mp_box_content\">\n",
      "                     <table border=\"0\" cellpadding=\"0\" cellspacing=\"0\">\n",
      "                      <tr>\n",
      "                       <td align=\"center\">\n",
      "                        <a href=\"/weekend/chart/?yr=1998&amp;wknd=10&amp;p=.htm\">\n",
      "                         Opening Weekend:\n",
      "                        </a>\n",
      "                       </td>\n",
      "                       <td>\n",
      "                        $5,533,844\n",
      "                       </td>\n",
      "                      </tr>\n",
      "                      <tr>\n",
      "                       <td align=\"center\" colspan=\"2\">\n",
      "                        <font size=\"2\">\n",
      "                         (#6 rank, 1,207 theaters, $4,585 average)\n",
      "                        </font>\n",
      "                       </td>\n",
      "                      </tr>\n",
      "                      <tr>\n",
      "                       <td align=\"right\">\n",
      "                        % of Total Gross:\n",
      "                       </td>\n",
      "                       <td>\n",
      "                        31.7%\n",
      "                       </td>\n",
      "                      </tr>\n",
      "                      <tr>\n",
      "                       <td align=\"right\" colspan=\"2\">\n",
      "                        <font face=\"Helvetica, Arial, Sans-Serif\" size=\"1\">\n",
      "                         <a href=\"/movies/?page=weekend&amp;id=biglebowski.htm\">\n",
      "                          <b>\n",
      "                           &gt; View All 4 Weekends\n",
      "                          </b>\n",
      "                         </a>\n",
      "                        </font>\n",
      "                       </td>\n",
      "                      </tr>\n",
      "                     </table>\n",
      "                     <table border=\"0\" cellpadding=\"0\" cellspacing=\"0\">\n",
      "                      <tr>\n",
      "                       <td>\n",
      "                        Widest Release:\n",
      "                       </td>\n",
      "                       <td>\n",
      "                        1,235 theaters\n",
      "                       </td>\n",
      "                      </tr>\n",
      "                     </table>\n",
      "                    </div>\n",
      "                   </div>\n",
      "                  </td>\n",
      "                  <td style=\"padding-left: 10px;\" valign=\"top\">\n",
      "                   <div class=\"mp_box\">\n",
      "                    <div class=\"mp_box_tab\">\n",
      "                     The Players\n",
      "                    </div>\n",
      "                    <div class=\"mp_box_content\">\n",
      "                     <table>\n",
      "                      <tr>\n",
      "                       <td align=\"right\" valign=\"top\">\n",
      "                        <font size=\"2\">\n",
      "                         <a href=\"/people/?view=Director&amp;p=.htm\">\n",
      "                          Director:\n",
      "                         </a>\n",
      "                        </font>\n",
      "                       </td>\n",
      "                       <td>\n",
      "                        <font size=\"2\">\n",
      "                         <a href=\"/people/chart/?view=Director&amp;id=joelcoen.htm\">\n",
      "                          Joel Coen\n",
      "                         </a>\n",
      "                        </font>\n",
      "                       </td>\n",
      "                      </tr>\n",
      "                      <tr>\n",
      "                       <td align=\"right\" valign=\"top\">\n",
      "                        <font size=\"2\">\n",
      "                         <a href=\"/people/?view=Writer&amp;p=.htm\">\n",
      "                          Writers:\n",
      "                         </a>\n",
      "                        </font>\n",
      "                       </td>\n",
      "                       <td>\n",
      "                        <font size=\"2\">\n",
      "                         <a href=\"/people/chart/?view=Writer&amp;id=ethancoen.htm\">\n",
      "                          Ethan Coen\n",
      "                         </a>\n",
      "                         <br/>\n",
      "                         <a href=\"/people/chart/?view=Writer&amp;id=joelcoen.htm\">\n",
      "                          Joel Coen\n",
      "                         </a>\n",
      "                        </font>\n",
      "                       </td>\n",
      "                      </tr>\n",
      "                      <tr>\n",
      "                       <td align=\"right\" valign=\"top\">\n",
      "                        <font size=\"2\">\n",
      "                         <a href=\"/people/?view=Actor&amp;p=.htm\">\n",
      "                          Actors:\n",
      "                         </a>\n",
      "                        </font>\n",
      "                       </td>\n",
      "                       <td>\n",
      "                        <font size=\"2\">\n",
      "                         <a href=\"/people/chart/?view=Actor&amp;id=jeffbridges.htm\">\n",
      "                          Jeff Bridges\n",
      "                         </a>\n",
      "                         <br/>\n",
      "                         <a href=\"/people/chart/?view=Actor&amp;id=johngoodman.htm\">\n",
      "                          John Goodman\n",
      "                         </a>\n",
      "                         <br/>\n",
      "                         <a href=\"/people/chart/?view=Actor&amp;id=juliannemoore.htm\">\n",
      "                          Julianne Moore\n",
      "                         </a>\n",
      "                         <br/>\n",
      "                         Steve Buscemi\n",
      "                         <br/>\n",
      "                         <a href=\"/people/chart/?view=Actor&amp;id=philipseymourhoffman.htm\">\n",
      "                          Philip Seymour Hoffman\n",
      "                         </a>\n",
      "                         <br/>\n",
      "                         Tara Reid\n",
      "                         <br/>\n",
      "                         <a href=\"/people/chart/?view=Actor&amp;id=samelliott.htm\">\n",
      "                          Sam Elliott*\n",
      "                         </a>\n",
      "                         <font size=\"2\">\n",
      "                          (Narrator)\n",
      "                         </font>\n",
      "                        </font>\n",
      "                       </td>\n",
      "                      </tr>\n",
      "                      <tr>\n",
      "                       <td align=\"right\" valign=\"top\">\n",
      "                        <font size=\"2\">\n",
      "                         <a href=\"/people/?view=Producer&amp;p=.htm\">\n",
      "                          Producers:\n",
      "                         </a>\n",
      "                        </font>\n",
      "                       </td>\n",
      "                       <td>\n",
      "                        <font size=\"2\">\n",
      "                         <a href=\"/people/chart/?view=Producer&amp;id=timbevan.htm\">\n",
      "                          Tim Bevan\n",
      "                         </a>\n",
      "                         <font size=\"2\">\n",
      "                          (executive producer)\n",
      "                         </font>\n",
      "                         <br/>\n",
      "                         <a href=\"/people/chart/?view=Producer&amp;id=ethancoen.htm\">\n",
      "                          Ethan Coen\n",
      "                         </a>\n",
      "                         <br/>\n",
      "                         <a href=\"/people/chart/?view=Producer&amp;id=ericfellner.htm\">\n",
      "                          Eric Fellner\n",
      "                         </a>\n",
      "                         <font size=\"2\">\n",
      "                          (executive producer)\n",
      "                         </font>\n",
      "                        </font>\n",
      "                       </td>\n",
      "                      </tr>\n",
      "                      <tr>\n",
      "                       <td align=\"right\" valign=\"top\">\n",
      "                        <font size=\"2\">\n",
      "                         <a href=\"/people/?view=Cinematographer&amp;p=.htm\">\n",
      "                          <font size=\"2\">\n",
      "                           Cinematographer\n",
      "                          </font>\n",
      "                          :\n",
      "                         </a>\n",
      "                        </font>\n",
      "                       </td>\n",
      "                       <td>\n",
      "                        <font size=\"2\">\n",
      "                         <a href=\"/people/chart/?view=Cinematographer&amp;id=rogerdeakins.htm\">\n",
      "                          Roger Deakins\n",
      "                         </a>\n",
      "                        </font>\n",
      "                       </td>\n",
      "                      </tr>\n",
      "                      <tr>\n",
      "                       <td align=\"right\" valign=\"top\">\n",
      "                        <font size=\"2\">\n",
      "                         <a href=\"/people/?view=Composer&amp;p=.htm\">\n",
      "                          Composer:\n",
      "                         </a>\n",
      "                        </font>\n",
      "                       </td>\n",
      "                       <td>\n",
      "                        <font size=\"2\">\n",
      "                         <a href=\"/people/chart/?view=Composer&amp;id=carterburwell.htm\">\n",
      "                          Carter Burwell\n",
      "                         </a>\n",
      "                        </font>\n",
      "                       </td>\n",
      "                      </tr>\n",
      "                      <tr>\n",
      "                       <td align=\"right\" colspan=\"2\">\n",
      "                        <i>\n",
      "                         <small>\n",
      "                          * Denotes minor role\n",
      "                         </small>\n",
      "                        </i>\n",
      "                       </td>\n",
      "                      </tr>\n",
      "                     </table>\n",
      "                    </div>\n",
      "                   </div>\n",
      "                  </td>\n",
      "                 </tr>\n",
      "                </table>\n",
      "                <div class=\"mp_box\">\n",
      "                 <div class=\"mp_box_tab\">\n",
      "                  Genres\n",
      "                 </div>\n",
      "                 <div class=\"mp_box_content\">\n",
      "                  <table border=\"0\" cellpadding=\"5\" cellspacing=\"1\" style=\"border-collapse: collapse\" width=\"100%\">\n",
      "                   <tr>\n",
      "                    <th>\n",
      "                     Genre\n",
      "                    </th>\n",
      "                    <th>\n",
      "                     Rank\n",
      "                    </th>\n",
      "                   </tr>\n",
      "                   <tr bgcolor=\"#ffffff\">\n",
      "                    <td>\n",
      "                     <font size=\"2\">\n",
      "                      <a href=\"/genres/chart/?id=blackcomedy.htm\">\n",
      "                       Comedy - Dark/Black\n",
      "                      </a>\n",
      "                     </font>\n",
      "                    </td>\n",
      "                    <td align=\"center\">\n",
      "                     <font size=\"2\">\n",
      "                      31\n",
      "                     </font>\n",
      "                    </td>\n",
      "                   </tr>\n",
      "                   <tr bgcolor=\"#f4f4ff\">\n",
      "                    <td>\n",
      "                     <font size=\"2\">\n",
      "                      <a href=\"/genres/chart/?id=slackerstoner.htm\">\n",
      "                       Slacker / Stoner\n",
      "                      </a>\n",
      "                     </font>\n",
      "                    </td>\n",
      "                    <td align=\"center\">\n",
      "                     <font size=\"2\">\n",
      "                      35\n",
      "                     </font>\n",
      "                    </td>\n",
      "                   </tr>\n",
      "                  </table>\n",
      "                 </div>\n",
      "                </div>\n",
      "                <div class=\"mp_box\">\n",
      "                 <div class=\"mp_box_tab\">\n",
      "                  Charts\n",
      "                 </div>\n",
      "                 <div class=\"mp_box_content\">\n",
      "                  <table border=\"0\" cellpadding=\"5\" cellspacing=\"1\" style=\"border-collapse: collapse\" width=\"100%\">\n",
      "                   <tr>\n",
      "                    <td bgcolor=\"\">\n",
      "                     <b>\n",
      "                      Chart\n",
      "                     </b>\n",
      "                    </td>\n",
      "                    <td align=\"center\">\n",
      "                     <b>\n",
      "                      Rank\n",
      "                     </b>\n",
      "                    </td>\n",
      "                   </tr>\n",
      "                   <tr bgcolor=\"#ffffff\">\n",
      "                    <td>\n",
      "                     <font size=\"2\">\n",
      "                      <a href=\"/alltime/domestic.htm\">\n",
      "                       All Time Domestic\n",
      "                      </a>\n",
      "                     </font>\n",
      "                    </td>\n",
      "                    <td align=\"center\">\n",
      "                     <font size=\"2\">\n",
      "                      3,493\n",
      "                     </font>\n",
      "                    </td>\n",
      "                   </tr>\n",
      "                   <tr bgcolor=\"#f4f4ff\">\n",
      "                    <td>\n",
      "                     <font size=\"2\">\n",
      "                      <a href=\"/yearly/chart/?yr=1998&amp;p=.htm\">\n",
      "                       Yearly 1998\n",
      "                      </a>\n",
      "                     </font>\n",
      "                    </td>\n",
      "                    <td align=\"center\">\n",
      "                     <font size=\"2\">\n",
      "                      96\n",
      "                     </font>\n",
      "                    </td>\n",
      "                   </tr>\n",
      "                   <tr bgcolor=\"#ffffff\">\n",
      "                    <td>\n",
      "                     <font size=\"2\">\n",
      "                      <a href=\"/yearly/chart/?view2=releasedate&amp;view=opening&amp;yr=1998&amp;p=.htm\">\n",
      "                       Yearly Opening Weekends 1998\n",
      "                      </a>\n",
      "                     </font>\n",
      "                    </td>\n",
      "                    <td align=\"center\">\n",
      "                     <font size=\"2\">\n",
      "                      88\n",
      "                     </font>\n",
      "                    </td>\n",
      "                   </tr>\n",
      "                   <tr bgcolor=\"#f4f4ff\">\n",
      "                    <td>\n",
      "                     <font size=\"2\">\n",
      "                      <a href=\"/yearly/chart/mpaarating.htm?rating=R&amp;yr=1998&amp;p=.htm\">\n",
      "                       Yearly R Rated 1998\n",
      "                      </a>\n",
      "                     </font>\n",
      "                    </td>\n",
      "                    <td align=\"center\">\n",
      "                     <font size=\"2\">\n",
      "                      41\n",
      "                     </font>\n",
      "                    </td>\n",
      "                   </tr>\n",
      "                   <tr bgcolor=\"#ffffff\">\n",
      "                    <td>\n",
      "                     <font size=\"2\">\n",
      "                      <a href=\"/alltime/openingweeks.htm\">\n",
      "                       Opening Weeks\n",
      "                      </a>\n",
      "                     </font>\n",
      "                    </td>\n",
      "                    <td align=\"center\">\n",
      "                     <font size=\"2\">\n",
      "                      2,965\n",
      "                     </font>\n",
      "                    </td>\n",
      "                   </tr>\n",
      "                   <tr bgcolor=\"#f4f4ff\">\n",
      "                    <td>\n",
      "                     <font size=\"2\">\n",
      "                      <a href=\"/alltime/weekends/\">\n",
      "                       Opening Weekends\n",
      "                      </a>\n",
      "                     </font>\n",
      "                    </td>\n",
      "                    <td align=\"center\">\n",
      "                     <font size=\"2\">\n",
      "                      2,873\n",
      "                     </font>\n",
      "                    </td>\n",
      "                   </tr>\n",
      "                   <tr bgcolor=\"#ffffff\">\n",
      "                    <td>\n",
      "                     <font size=\"2\">\n",
      "                      <a href=\"/alltime/weekends/smallestdrops.htm?page=SMALLDROPWID&amp;p=.htm\">\n",
      "                       Smallest Drops, All Wide Releases\n",
      "                      </a>\n",
      "                     </font>\n",
      "                    </td>\n",
      "                    <td align=\"center\">\n",
      "                     <font size=\"2\">\n",
      "                      1,611\n",
      "                     </font>\n",
      "                    </td>\n",
      "                   </tr>\n",
      "                   <tr bgcolor=\"#f4f4ff\">\n",
      "                    <td>\n",
      "                     <font size=\"2\">\n",
      "                      BOM Users' Grades (1998 Releases)\n",
      "                     </font>\n",
      "                    </td>\n",
      "                    <td align=\"center\">\n",
      "                     <font size=\"2\">\n",
      "                      15\n",
      "                     </font>\n",
      "                    </td>\n",
      "                   </tr>\n",
      "                   <tr>\n",
      "                    <td>\n",
      "                     <b>\n",
      "                      Charts (Premier Pass Users Only)\n",
      "                     </b>\n",
      "                    </td>\n",
      "                    <td align=\"center\">\n",
      "                     <b>\n",
      "                      Rank\n",
      "                     </b>\n",
      "                    </td>\n",
      "                   </tr>\n",
      "                   <tr bgcolor=\"#ffffff\">\n",
      "                    <td>\n",
      "                     <font size=\"2\">\n",
      "                      <a href=\"/alltime/domestic.htm?page=14&amp;asof=1998-04-10&amp;p=.htm\">\n",
      "                       Highest All Time Rank (on April 10, 1998)\n",
      "                      </a>\n",
      "                     </font>\n",
      "                    </td>\n",
      "                    <td align=\"center\">\n",
      "                     <font size=\"2\">\n",
      "                      1364\n",
      "                     </font>\n",
      "                    </td>\n",
      "                   </tr>\n",
      "                   <tr bgcolor=\"#f4f4ff\">\n",
      "                    <td>\n",
      "                     <font size=\"2\">\n",
      "                      <a href=\"/yearly/chart/?view2=wide&amp;view=domestic&amp;yr=1998&amp;p=.htm\">\n",
      "                       Yearly (Wide) 1998\n",
      "                      </a>\n",
      "                     </font>\n",
      "                    </td>\n",
      "                    <td align=\"center\">\n",
      "                     <font size=\"2\">\n",
      "                      90\n",
      "                     </font>\n",
      "                    </td>\n",
      "                   </tr>\n",
      "                   <tr bgcolor=\"#ffffff\">\n",
      "                    <td>\n",
      "                     <font size=\"2\">\n",
      "                      <a href=\"/yearly/chart/?view2=opening&amp;yr=1998&amp;p=.htm\">\n",
      "                       Yearly Opening Weekends (Wide) 1998\n",
      "                      </a>\n",
      "                     </font>\n",
      "                    </td>\n",
      "                    <td align=\"center\">\n",
      "                     <font size=\"2\">\n",
      "                      91\n",
      "                     </font>\n",
      "                    </td>\n",
      "                   </tr>\n",
      "                   <tr bgcolor=\"#f4f4ff\">\n",
      "                    <td>\n",
      "                     <font size=\"2\">\n",
      "                      <a href=\"/alltime/openingweeks.htm?adjust_yr=2017&amp;p=.htm\">\n",
      "                       Opening Weeks Adjusted\n",
      "                      </a>\n",
      "                     </font>\n",
      "                    </td>\n",
      "                    <td align=\"center\">\n",
      "                     <font size=\"2\">\n",
      "                      2,788\n",
      "                     </font>\n",
      "                    </td>\n",
      "                   </tr>\n",
      "                   <tr bgcolor=\"#ffffff\">\n",
      "                    <td>\n",
      "                     <font size=\"2\">\n",
      "                      <a href=\"/alltime/weekends/?adjust_yr=2017&amp;p=.htm\">\n",
      "                       Opening Weekends Adjusted\n",
      "                      </a>\n",
      "                     </font>\n",
      "                    </td>\n",
      "                    <td align=\"center\">\n",
      "                     <font size=\"2\">\n",
      "                      2,716\n",
      "                     </font>\n",
      "                    </td>\n",
      "                   </tr>\n",
      "                  </table>\n",
      "                 </div>\n",
      "                </div>\n",
      "               </td>\n",
      "               <td width=\"10px\">\n",
      "               </td>\n",
      "               <td valign=\"top\" width=\"434px\">\n",
      "                <div class=\"mp_box\">\n",
      "                 <div class=\"mp_box_tab\">\n",
      "                  Related Stories\n",
      "                 </div>\n",
      "                 <div class=\"mp_box_content\">\n",
      "                  <table border=\"0\" cellpadding=\"5\" cellspacing=\"0\" width=\"100%\">\n",
      "                   <tr bgcolor=\"#ffff99\">\n",
      "                    <td>\n",
      "                     <font size=\"2\">\n",
      "                      <a href=\"/news/?id=2680&amp;p=.htm\">\n",
      "                       2/11/10 2010 Preview: True Grit\n",
      "                      </a>\n",
      "                     </font>\n",
      "                    </td>\n",
      "                   </tr>\n",
      "                  </table>\n",
      "                 </div>\n",
      "                </div>\n",
      "                <div class=\"mp_box\">\n",
      "                 <div class=\"mp_box_tab\">\n",
      "                  Related Products\n",
      "                 </div>\n",
      "                 <div class=\"mp_box_content\">\n",
      "                  <ul>\n",
      "                   <li>\n",
      "                    <a href=\"http://www.amazon.com/gp/product/B000A7DVR2?ie=UTF8&amp;tag=boxofficemojo-20&amp;linkCode=as2&amp;camp=1789&amp;creative=9325&amp;creativeASIN=B000A7DVR2\">\n",
      "                     The Big Lebowski (Collector's Edition)\n",
      "                    </a>\n",
      "                    <img alt=\"\" border=\"0\" height=\"1\" src=\"http://www.assoc-amazon.com/e/ir?t=boxofficemojo-20&amp;l=as2&amp;o=1&amp;a=B000A7DVR2\" style=\"border:none !important; margin:0px !important;\" width=\"1\"/>\n",
      "                   </li>\n",
      "                   <li>\n",
      "                    <a href=\"http://www.amazon.com/gp/product/B000A7DVY0?ie=UTF8&amp;tag=boxofficemojo-20&amp;linkCode=as2&amp;camp=1789&amp;creative=9325&amp;creativeASIN=B000A7DVY0\">\n",
      "                     The Big Lebowski - Achiever's Edition\n",
      "                    </a>\n",
      "                    <img alt=\"\" border=\"0\" height=\"1\" src=\"http://www.assoc-amazon.com/e/ir?t=boxofficemojo-20&amp;l=as2&amp;o=1&amp;a=B000A7DVY0\" style=\"border:none !important; margin:0px !important;\" width=\"1\"/>\n",
      "                   </li>\n",
      "                   <li>\n",
      "                    <a href=\"http://www.amazon.com/gp/product/B000ASATSU?ie=UTF8&amp;tag=boxofficemojo-20&amp;linkCode=as2&amp;camp=1789&amp;creative=9325&amp;creativeASIN=B000ASATSU\">\n",
      "                     The Coen Brothers Collection\n",
      "                    </a>\n",
      "                    <img alt=\"\" border=\"0\" height=\"1\" src=\"http://www.assoc-amazon.com/e/ir?t=boxofficemojo-20&amp;l=as2&amp;o=1&amp;a=B000ASATSU\" style=\"border:none !important; margin:0px !important;\" width=\"1\"/>\n",
      "                   </li>\n",
      "                   <li>\n",
      "                    <a href=\"http://www.amazon.com/gp/product/B000O179EK?ie=UTF8&amp;tag=boxofficemojo-20&amp;linkCode=as2&amp;camp=1789&amp;creative=9325&amp;creativeASIN=B000O179EK\">\n",
      "                     The Big Lebowski (HD-DVD)\n",
      "                    </a>\n",
      "                    <img alt=\"\" border=\"0\" height=\"1\" src=\"http://www.assoc-amazon.com/e/ir?t=boxofficemojo-20&amp;l=as2&amp;o=1&amp;a=B000O179EK\" style=\"border:none !important; margin:0px !important;\" width=\"1\"/>\n",
      "                   </li>\n",
      "                   <li>\n",
      "                    <a href=\"http://www.amazon.com/gp/product/B000O179EK?ie=UTF8&amp;tag=boxofficemojo-20&amp;linkCode=as2&amp;camp=1789&amp;creative=9325&amp;creativeASIN=B000O179EK\">\n",
      "                     The Big Lebowski (HD-DVD)\n",
      "                    </a>\n",
      "                    <img alt=\"\" border=\"0\" height=\"1\" src=\"http://www.assoc-amazon.com/e/ir?t=boxofficemojo-20&amp;l=as2&amp;o=1&amp;a=B000O179EK\" style=\"border:none !important; margin:0px !important;\" width=\"1\"/>\n",
      "                   </li>\n",
      "                   <li>\n",
      "                    <a href=\"http://www.amazon.com/gp/product/B001AEF6CW?ie=UTF8&amp;tag=boxofficemojo-20&amp;linkCode=as2&amp;camp=1789&amp;creative=9325&amp;creativeASIN=B001AEF6CW\">\n",
      "                     The Big Lebowski (10th Anniv. Limited Edition)\n",
      "                    </a>\n",
      "                    <img alt=\"\" border=\"0\" height=\"1\" src=\"http://www.assoc-amazon.com/e/ir?t=boxofficemojo-20&amp;l=as2&amp;o=1&amp;a=B001AEF6CW\" style=\"border:none !important; margin:0px !important;\" width=\"1\"/>\n",
      "                   </li>\n",
      "                   <li>\n",
      "                    <a href=\"http://www.amazon.com/gp/product/B001AEF6D6?ie=UTF8&amp;tag=boxofficemojo-20&amp;linkCode=as2&amp;camp=1789&amp;creative=9325&amp;creativeASIN=B001AEF6D6\">\n",
      "                     The Big Lebowski (10th Anniv. Edition)\n",
      "                    </a>\n",
      "                    <img alt=\"\" border=\"0\" height=\"1\" src=\"http://www.assoc-amazon.com/e/ir?t=boxofficemojo-20&amp;l=as2&amp;o=1&amp;a=B001AEF6D6\" style=\"border:none !important; margin:0px !important;\" width=\"1\"/>\n",
      "                   </li>\n",
      "                  </ul>\n",
      "                 </div>\n",
      "                </div>\n",
      "                <object classid=\"clsid:D27CDB6E-AE6D-11cf-96B8-444553540000\" codebase=\"http://fpdownload.macromedia.com/get/flashplayer/current/swflash.cab\" height=\"150px\" id=\"Player_82160f42-9620-4d0a-b79a-18b1abd853fb\" width=\"400px\">\n",
      "                 <param name=\"movie\" value=\"http://ws.amazon.com/widgets/q?ServiceVersion=20070822&amp;MarketPlace=US&amp;ID=V20070822%2FUS%2Fboxofficemojo-20%2F8010%2F82160f42-9620-4d0a-b79a-18b1abd853fb&amp;Operation=GetDisplayTemplate\">\n",
      "                 </param>\n",
      "                 <param name=\"quality\" value=\"high\">\n",
      "                 </param>\n",
      "                 <param name=\"bgcolor\" value=\"#FFFFFF\">\n",
      "                 </param>\n",
      "                 <param name=\"allowscriptaccess\" value=\"always\">\n",
      "                 </param>\n",
      "                 <embed align=\"middle\" allowscriptaccess=\"always\" bgcolor=\"#ffffff\" height=\"150px\" id=\"Player_82160f42-9620-4d0a-b79a-18b1abd853fb\" name=\"Player_82160f42-9620-4d0a-b79a-18b1abd853fb\" quality=\"high\" src=\"http://ws.amazon.com/widgets/q?ServiceVersion=20070822&amp;MarketPlace=US&amp;ID=V20070822%2FUS%2Fboxofficemojo-20%2F8010%2F82160f42-9620-4d0a-b79a-18b1abd853fb&amp;Operation=GetDisplayTemplate\" type=\"application/x-shockwave-flash\" width=\"400px\">\n",
      "                 </embed>\n",
      "                </object>\n",
      "                <noscript>\n",
      "                 <a href=\"http://ws.amazon.com/widgets/q?ServiceVersion=20070822&amp;MarketPlace=US&amp;ID=V20070822%2FUS%2Fboxofficemojo-20%2F8010%2F82160f42-9620-4d0a-b79a-18b1abd853fb&amp;Operation=NoScript\">\n",
      "                  Amazon.com Widgets\n",
      "                 </a>\n",
      "                </noscript>\n",
      "               </td>\n",
      "              </tr>\n",
      "             </table>\n",
      "             <br/>\n",
      "            </td>\n",
      "           </tr>\n",
      "          </table>\n",
      "         </td>\n",
      "        </tr>\n",
      "       </table>\n",
      "       <div id=\"hp_footer\">\n",
      "        <div style=\"padding-bottom: 20px;\">\n",
      "         <div style=\"margin: 0px 121px; vertical-align: top;\">\n",
      "          <div id=\"footer_links\">\n",
      "           <ul class=\"footer_link_list\">\n",
      "            <li>\n",
      "             <strong>\n",
      "              Latest Updates\n",
      "             </strong>\n",
      "            </li>\n",
      "            <li>\n",
      "             <a href=\"/news/?ref=ft\">\n",
      "              Movie News\n",
      "             </a>\n",
      "            </li>\n",
      "            <li>\n",
      "             <a href=\"/daily/chart/?ref=ft\">\n",
      "              Daily Chart\n",
      "             </a>\n",
      "            </li>\n",
      "            <li>\n",
      "             <a href=\"/weekend/chart/?ref=ft\">\n",
      "              Weekend Chart\n",
      "             </a>\n",
      "            </li>\n",
      "            <li>\n",
      "             <a href=\"/alltime/?ref=ft\">\n",
      "              All Time Charts\n",
      "             </a>\n",
      "            </li>\n",
      "            <li>\n",
      "             <a href=\"/intl/?ref=ft\">\n",
      "              International Charts\n",
      "             </a>\n",
      "            </li>\n",
      "           </ul>\n",
      "           <!--\n",
      "\t\t\t\t\t<ul class=\"footer_link_list\">\n",
      "\t\t\t\t\t\t<li><strong>Popular Movies</strong></li>\n",
      "\t\t\t\t\t\t\t\t\t\t\t</ul>\n",
      "\t\t\t\t\t-->\n",
      "           <ul class=\"footer_link_list\">\n",
      "            <li>\n",
      "             <strong>\n",
      "              Indices\n",
      "             </strong>\n",
      "            </li>\n",
      "            <li>\n",
      "             <a href=\"/people/?ref=ft\">\n",
      "              People\n",
      "             </a>\n",
      "            </li>\n",
      "            <li>\n",
      "             <a href=\"/genres/?ref=ft\">\n",
      "              Genres\n",
      "             </a>\n",
      "            </li>\n",
      "            <li>\n",
      "             <a href=\"/franchises/?ref=ft\">\n",
      "              Franchises\n",
      "             </a>\n",
      "            </li>\n",
      "            <li>\n",
      "             <a href=\"/showdowns/?ref=ft\">\n",
      "              Showdowns\n",
      "             </a>\n",
      "            </li>\n",
      "           </ul>\n",
      "           <ul class=\"footer_link_list\">\n",
      "            <li>\n",
      "             <strong>\n",
      "              Other\n",
      "             </strong>\n",
      "            </li>\n",
      "            <li>\n",
      "             <a href=\"/about/?ref=ft\">\n",
      "              About This Site\n",
      "             </a>\n",
      "            </li>\n",
      "            <li>\n",
      "             <a href=\"/about/advertise.htm?ref=ft\">\n",
      "              Advertising\n",
      "             </a>\n",
      "            </li>\n",
      "           </ul>\n",
      "          </div>\n",
      "          <div id=\"copyright\">\n",
      "           <a href=\"/?ref=ft\">\n",
      "            <img alt=\"Box Office Mojo\" height=\"56\" src=\"/img/misc/bom_logo1.png\" width=\"245\"/>\n",
      "           </a>\n",
      "           <br/>\n",
      "           <p>\n",
      "            An\n",
      "            <a href=\"http://imdb.com/\">\n",
      "             <img alt=\"IMDb\" height=\"16\" src=\"/img/misc/IMDbSm.png\" valign=\"middle\" width=\"34\"/>\n",
      "            </a>\n",
      "            company\n",
      "            <br/>\n",
      "            <br/>\n",
      "           </p>\n",
      "           <p>\n",
      "            ©\n",
      "            <a href=\"http://imdb.com/\">\n",
      "             IMDb.com\n",
      "            </a>\n",
      "            , Inc. or its affiliates. All rights reserved. Box Office Mojo and IMDb are trademarks or registered trademarks of IMDb.com, Inc. or its affiliates.\n",
      "            <a href=\"/about/termsofuse.htm\">\n",
      "             Terms of Use\n",
      "            </a>\n",
      "            and\n",
      "            <a href=\"/about/privacy.htm\">\n",
      "             Privacy Policy\n",
      "            </a>\n",
      "            under which this service is provided to you.\n",
      "           </p>\n",
      "          </div>\n",
      "         </div>\n",
      "         <div style=\"clear:both;\">\n",
      "          <div>\n",
      "           <script type=\"text/javascript\">\n",
      "            googletag.cmd.push(function() {\n",
      "        googletag.defineSlot(\"/4215/imdb2.bom.movie\", [[728, 90]], \"ad-slot-3\").addService(googletag.pubads().setTargeting(\"p\", \"b\"));\n",
      "        googletag.pubads().enableSingleRequest();\n",
      "        googletag.enableServices();\n",
      "    });\n",
      "    googletag.cmd.push(function() { googletag.display(\"ad-slot-3\"); });\n",
      "           </script>\n",
      "          </div>\n",
      "         </div>\n",
      "        </div>\n",
      "       </div>\n",
      "       <!-- Page generated in 0.07 seconds | . -->\n",
      "       <script>\n",
      "        var _comscore = _comscore || [];\n",
      "  _comscore.push({ c1: \"2\", c2: \"6034961\" });\n",
      "  (function() {\n",
      "    var s = document.createElement(\"script\"), el = document.getElementsByTagName(\"script\")[0]; s.async = true;\n",
      "    s.src = (document.location.protocol == \"https:\" ? \"https://sb\" : \"http://b\") + \".scorecardresearch.com/beacon.js\";\n",
      "  el.parentNode.insertBefore(s, el);\n",
      "  })();\n",
      "       </script>\n",
      "       <noscript>\n",
      "        <img src=\"http://b.scorecardresearch.com/p?c1=2&amp;c2=6034961&amp;cv=2.0&amp;cj=1\"/>\n",
      "       </noscript>\n",
      "      </tr>\n",
      "     </table>\n",
      "    </div>\n",
      "   </div>\n",
      "  </div>\n",
      " </body>\n",
      "</html>\n",
      "\n"
     ]
    }
   ],
   "source": [
    "print(soup.prettify())"
   ]
  },
  {
   "cell_type": "markdown",
   "metadata": {
    "slideshow": {
     "slide_type": "slide"
    }
   },
   "source": [
    "## `soup.find()`\n",
    "\n",
    "* `soup.find()` is the most common function we will use from this package.  \n",
    "* Let's try out some common variations of `soup.find()`\n",
    "\n",
    "* `soup.find()` returns the first matched tag it finds.\n",
    "* It searches the entire tree.\n",
    "\n",
    "* Search for a type of tag by using the tag as a string argument ('body','div','p','a')"
   ]
  },
  {
   "cell_type": "markdown",
   "metadata": {
    "slideshow": {
     "slide_type": "slide"
    }
   },
   "source": [
    "## `soup.find()`"
   ]
  },
  {
   "cell_type": "code",
   "execution_count": 11,
   "metadata": {
    "ExecuteTime": {
     "end_time": "2017-04-10T15:20:47.363518Z",
     "start_time": "2017-04-10T11:20:47.353221-04:00"
    },
    "collapsed": false,
    "scrolled": false,
    "slideshow": {
     "slide_type": "fragment"
    }
   },
   "outputs": [
    {
     "name": "stdout",
     "output_type": "stream",
     "text": [
      "<a href=\"/daily/chart/\">Daily Box Office (Sun.)</a>\n"
     ]
    }
   ],
   "source": [
    "print(soup.find('a'))"
   ]
  },
  {
   "cell_type": "code",
   "execution_count": 12,
   "metadata": {
    "ExecuteTime": {
     "end_time": "2017-04-10T15:21:34.412295Z",
     "start_time": "2017-04-10T11:21:34.407410-04:00"
    },
    "collapsed": false,
    "scrolled": false,
    "slideshow": {
     "slide_type": "fragment"
    }
   },
   "outputs": [
    {
     "name": "stdout",
     "output_type": "stream",
     "text": [
      "<a href=\"/daily/chart/\">Daily Box Office (Sun.)</a>\n"
     ]
    }
   ],
   "source": [
    "# Equivalently:\n",
    "print(soup.a)"
   ]
  },
  {
   "cell_type": "code",
   "execution_count": 13,
   "metadata": {
    "ExecuteTime": {
     "end_time": "2017-04-10T15:21:43.023813Z",
     "start_time": "2017-04-10T11:21:43.017009-04:00"
    },
    "collapsed": false,
    "scrolled": false,
    "slideshow": {
     "slide_type": "fragment"
    }
   },
   "outputs": [
    {
     "name": "stdout",
     "output_type": "stream",
     "text": [
      "<a href=\"/daily/chart/\">\n",
      " Daily Box Office (Sun.)\n",
      "</a>\n",
      "\n"
     ]
    }
   ],
   "source": [
    "# Prettier:\n",
    "print(soup.a.prettify())"
   ]
  },
  {
   "cell_type": "markdown",
   "metadata": {
    "slideshow": {
     "slide_type": "slide"
    }
   },
   "source": [
    "## `soup.find_all()`\n",
    "\n",
    "`soup.find_all()` returns a list of all matches"
   ]
  },
  {
   "cell_type": "code",
   "execution_count": 14,
   "metadata": {
    "ExecuteTime": {
     "end_time": "2017-04-10T15:22:12.927740Z",
     "start_time": "2017-04-10T11:22:12.919604-04:00"
    },
    "collapsed": false,
    "scrolled": false,
    "slideshow": {
     "slide_type": "fragment"
    }
   },
   "outputs": [
    {
     "data": {
      "text/plain": [
       "97"
      ]
     },
     "execution_count": 14,
     "metadata": {},
     "output_type": "execute_result"
    }
   ],
   "source": [
    "len(soup.find_all('a'))"
   ]
  },
  {
   "cell_type": "code",
   "execution_count": 15,
   "metadata": {
    "ExecuteTime": {
     "end_time": "2017-04-10T15:22:22.715075Z",
     "start_time": "2017-04-10T11:22:22.684766-04:00"
    },
    "collapsed": false,
    "scrolled": true,
    "slideshow": {
     "slide_type": "fragment"
    }
   },
   "outputs": [
    {
     "name": "stdout",
     "output_type": "stream",
     "text": [
      "<a href=\"/daily/chart/\">Daily Box Office (Sun.)</a>\n",
      "<a href=\"/weekend/chart/\">Weekend Box Office (Apr. 14–16)</a>\n",
      "<a href=\"/movies/?id=furious8.htm\">#1 Movie: 'Fate of the Furious'</a>\n",
      "<a href=\"http://www.imdb.com/showtimes/?ref_=mojo\">Showtimes</a>\n",
      "<a href=\"http://bs.serving-sys.com/Serving/adServer.bs?cn=brd&amp;pli=1073982656&amp;Page=&amp;Pos=668343950\" target=\"_blank\">\n",
      "<img border=\"0\" height=\"90\" src=\"http://bs.serving-sys.com/Serving/adServer.bs?c=8&amp;cn=display&amp;pli=1073982656&amp;Page=&amp;Pos=668343950\" width=\"728\"/></a>\n",
      "<a href=\"/\"><img alt=\"Box Office Mojo\" height=\"56\" src=\"/img/misc/bom_logo1.png\" width=\"245\"/></a>\n",
      "<a href=\"https://imdb.co1.qualtrics.com/jfe3/form/SV_bIA5hedJ7azZU9L?SOURCE=SITE\" target=\"_blank\">Help us improve the site by taking this survey!</a>\n",
      "<a href=\"http://facebook.com/boxofficemojo\" style=\"vertical-align:middle;\"><img alt=\"Facebook Logo\" border=\"0\" src=\"/images/FaceBook_16x16.png\"/>Facebook</a>\n",
      "<a href=\"http://twitter.com/boxofficemojo\" style=\"vertical-align:middle;\"><img alt=\"Twitter Logo\" border=\"0\" src=\"/images/Twitter_16x16.png\"/>Twitter</a>\n",
      "<a href=\"/news/\">News</a>\n",
      "<a href=\"/schedule/\">Release Sched.</a>\n",
      "<a href=\"http://www.imdb.com/showtimes?ref_=mojo\">Showtimes<br/><span style=\"margin-left:7px;color: #999999; font-size: 9px;\">at <img src=\"/images/mojo_imdb_sm.png\"/></span></a>\n",
      "<a href=\"/daily/\">Daily</a>\n",
      "<a href=\"/weekend/\">Weekend</a>\n",
      "<a href=\"/weekly/\">Weekly</a>\n",
      "<a href=\"/monthly/\">Monthly</a>\n",
      "<a href=\"/quarterly/\">Quarterly</a>\n",
      "<a href=\"/seasonal/\">Seasonal</a>\n",
      "<a href=\"/yearly/\">Yearly</a>\n",
      "<a href=\"/alltime/\">All Time</a>\n",
      "<a href=\"/intl/\">International</a>\n",
      "<a href=\"/studio/\">Studios</a>\n",
      "<a href=\"/people/\">People</a>\n",
      "<a href=\"/genres/\">Genres</a>\n",
      "<a href=\"/franchises/\">Franchises</a>\n",
      "<a href=\"/showdowns/\">Showdowns</a>\n",
      "<a href=\"/counts/\">Theater Counts</a>\n",
      "<a href=\"/about/adjuster.htm\"><b>Adjuster:</b></a>\n",
      "<a href=\"/movies/?page=media&amp;id=biglebowski.htm\"><img border=\"1\" src=\"https://images-na.ssl-images-amazon.com/images/M/MV5BZTFjMjBiYzItNzU5YS00MjdiLWJkOTktNDQ3MTE3ZjY2YTY5XkEyXkFqcGdeQXVyNDk3NzU2MTQ@._V1_UY222_CR0,0,150,222_AL.jpg\" style=\"border-color: 000000\"/></a>\n",
      "<a href=\"/studio/chart/?studio=gramercy.htm\">Gramercy</a>\n",
      "<a href=\"/schedule/?view=bydate&amp;release=theatrical&amp;date=1998-03-06&amp;p=.htm\">March 6, 1998</a>\n",
      "<a href=\"http://www.imdb.com/showtimes?ref_=mojo\"><img src=\"/images/mojo_imdb_med.png\" style=\"vertical-align:middle\"/></a>\n",
      "<a href=\"http://www.imdb.com/showtimes?ref_=mojo\">Get local showtimes at IMDb</a>\n",
      "<a href=\"/movies/?page=main&amp;id=biglebowski.htm\">Summary</a>\n",
      "<a href=\"/movies/?page=weekend&amp;id=biglebowski.htm\">Weekend</a>\n",
      "<a href=\"/movies/?page=weekly&amp;id=biglebowski.htm\">Weekly</a>\n",
      "<a href=\"/movies/?page=similar&amp;id=biglebowski.htm\">Similar Movies</a>\n",
      "<a href=\"/weekend/chart/?yr=1998&amp;wknd=10&amp;p=.htm\">Opening Weekend:</a>\n",
      "<a href=\"/movies/?page=weekend&amp;id=biglebowski.htm\"><b>&gt; View All 4 Weekends</b></a>\n",
      "<a href=\"/people/?view=Director&amp;p=.htm\">Director:</a>\n",
      "<a href=\"/people/chart/?view=Director&amp;id=joelcoen.htm\">Joel Coen</a>\n",
      "<a href=\"/people/?view=Writer&amp;p=.htm\">Writers:</a>\n",
      "<a href=\"/people/chart/?view=Writer&amp;id=ethancoen.htm\">Ethan Coen</a>\n",
      "<a href=\"/people/chart/?view=Writer&amp;id=joelcoen.htm\">Joel Coen</a>\n",
      "<a href=\"/people/?view=Actor&amp;p=.htm\">Actors:</a>\n",
      "<a href=\"/people/chart/?view=Actor&amp;id=jeffbridges.htm\">Jeff Bridges</a>\n",
      "<a href=\"/people/chart/?view=Actor&amp;id=johngoodman.htm\">John Goodman</a>\n",
      "<a href=\"/people/chart/?view=Actor&amp;id=juliannemoore.htm\">Julianne Moore</a>\n",
      "<a href=\"/people/chart/?view=Actor&amp;id=philipseymourhoffman.htm\">Philip Seymour Hoffman</a>\n",
      "<a href=\"/people/chart/?view=Actor&amp;id=samelliott.htm\">Sam Elliott*</a>\n",
      "<a href=\"/people/?view=Producer&amp;p=.htm\">Producers:</a>\n",
      "<a href=\"/people/chart/?view=Producer&amp;id=timbevan.htm\">Tim Bevan</a>\n",
      "<a href=\"/people/chart/?view=Producer&amp;id=ethancoen.htm\">Ethan Coen</a>\n",
      "<a href=\"/people/chart/?view=Producer&amp;id=ericfellner.htm\">Eric Fellner</a>\n",
      "<a href=\"/people/?view=Cinematographer&amp;p=.htm\"><font size=\"2\">Cinematographer</font>:</a>\n",
      "<a href=\"/people/chart/?view=Cinematographer&amp;id=rogerdeakins.htm\">Roger Deakins</a>\n",
      "<a href=\"/people/?view=Composer&amp;p=.htm\">Composer:</a>\n",
      "<a href=\"/people/chart/?view=Composer&amp;id=carterburwell.htm\">Carter Burwell</a>\n",
      "<a href=\"/genres/chart/?id=blackcomedy.htm\">Comedy - Dark/Black</a>\n",
      "<a href=\"/genres/chart/?id=slackerstoner.htm\">Slacker / Stoner</a>\n",
      "<a href=\"/alltime/domestic.htm\">All Time Domestic</a>\n",
      "<a href=\"/yearly/chart/?yr=1998&amp;p=.htm\">Yearly 1998</a>\n",
      "<a href=\"/yearly/chart/?view2=releasedate&amp;view=opening&amp;yr=1998&amp;p=.htm\">Yearly Opening Weekends 1998</a>\n",
      "<a href=\"/yearly/chart/mpaarating.htm?rating=R&amp;yr=1998&amp;p=.htm\">Yearly R Rated 1998</a>\n",
      "<a href=\"/alltime/openingweeks.htm\">Opening Weeks</a>\n",
      "<a href=\"/alltime/weekends/\">Opening Weekends</a>\n",
      "<a href=\"/alltime/weekends/smallestdrops.htm?page=SMALLDROPWID&amp;p=.htm\">Smallest Drops, All Wide Releases</a>\n",
      "<a href=\"/alltime/domestic.htm?page=14&amp;asof=1998-04-10&amp;p=.htm\">Highest All Time Rank (on April 10, 1998)</a>\n",
      "<a href=\"/yearly/chart/?view2=wide&amp;view=domestic&amp;yr=1998&amp;p=.htm\">Yearly (Wide) 1998</a>\n",
      "<a href=\"/yearly/chart/?view2=opening&amp;yr=1998&amp;p=.htm\">Yearly Opening Weekends (Wide) 1998</a>\n",
      "<a href=\"/alltime/openingweeks.htm?adjust_yr=2017&amp;p=.htm\">Opening Weeks Adjusted</a>\n",
      "<a href=\"/alltime/weekends/?adjust_yr=2017&amp;p=.htm\">Opening Weekends Adjusted</a>\n",
      "<a href=\"/news/?id=2680&amp;p=.htm\">2/11/10 2010 Preview: True Grit</a>\n",
      "<a href=\"http://www.amazon.com/gp/product/B000A7DVR2?ie=UTF8&amp;tag=boxofficemojo-20&amp;linkCode=as2&amp;camp=1789&amp;creative=9325&amp;creativeASIN=B000A7DVR2\">The Big Lebowski (Collector's Edition)</a>\n",
      "<a href=\"http://www.amazon.com/gp/product/B000A7DVY0?ie=UTF8&amp;tag=boxofficemojo-20&amp;linkCode=as2&amp;camp=1789&amp;creative=9325&amp;creativeASIN=B000A7DVY0\">The Big Lebowski - Achiever's Edition</a>\n",
      "<a href=\"http://www.amazon.com/gp/product/B000ASATSU?ie=UTF8&amp;tag=boxofficemojo-20&amp;linkCode=as2&amp;camp=1789&amp;creative=9325&amp;creativeASIN=B000ASATSU\">The Coen Brothers Collection</a>\n",
      "<a href=\"http://www.amazon.com/gp/product/B000O179EK?ie=UTF8&amp;tag=boxofficemojo-20&amp;linkCode=as2&amp;camp=1789&amp;creative=9325&amp;creativeASIN=B000O179EK\">The Big Lebowski (HD-DVD)</a>\n",
      "<a href=\"http://www.amazon.com/gp/product/B000O179EK?ie=UTF8&amp;tag=boxofficemojo-20&amp;linkCode=as2&amp;camp=1789&amp;creative=9325&amp;creativeASIN=B000O179EK\">The Big Lebowski (HD-DVD)</a>\n",
      "<a href=\"http://www.amazon.com/gp/product/B001AEF6CW?ie=UTF8&amp;tag=boxofficemojo-20&amp;linkCode=as2&amp;camp=1789&amp;creative=9325&amp;creativeASIN=B001AEF6CW\">The Big Lebowski (10th Anniv. Limited Edition)</a>\n",
      "<a href=\"http://www.amazon.com/gp/product/B001AEF6D6?ie=UTF8&amp;tag=boxofficemojo-20&amp;linkCode=as2&amp;camp=1789&amp;creative=9325&amp;creativeASIN=B001AEF6D6\">The Big Lebowski (10th Anniv. Edition)</a>\n",
      "<a href=\"http://ws.amazon.com/widgets/q?ServiceVersion=20070822&amp;MarketPlace=US&amp;ID=V20070822%2FUS%2Fboxofficemojo-20%2F8010%2F82160f42-9620-4d0a-b79a-18b1abd853fb&amp;Operation=NoScript\">Amazon.com Widgets</a>\n",
      "<a href=\"/news/?ref=ft\">Movie News</a>\n",
      "<a href=\"/daily/chart/?ref=ft\">Daily Chart</a>\n",
      "<a href=\"/weekend/chart/?ref=ft\">Weekend Chart</a>\n",
      "<a href=\"/alltime/?ref=ft\">All Time Charts</a>\n",
      "<a href=\"/intl/?ref=ft\">International Charts</a>\n",
      "<a href=\"/people/?ref=ft\">People</a>\n",
      "<a href=\"/genres/?ref=ft\">Genres</a>\n",
      "<a href=\"/franchises/?ref=ft\">Franchises</a>\n",
      "<a href=\"/showdowns/?ref=ft\">Showdowns</a>\n",
      "<a href=\"/about/?ref=ft\">About This Site</a>\n",
      "<a href=\"/about/advertise.htm?ref=ft\">Advertising</a>\n",
      "<a href=\"/?ref=ft\"><img alt=\"Box Office Mojo\" height=\"56\" src=\"/img/misc/bom_logo1.png\" width=\"245\"/></a>\n",
      "<a href=\"http://imdb.com/\"><img alt=\"IMDb\" height=\"16\" src=\"/img/misc/IMDbSm.png\" valign=\"middle\" width=\"34\"/></a>\n",
      "<a href=\"http://imdb.com/\">IMDb.com</a>\n",
      "<a href=\"/about/termsofuse.htm\">Terms of Use</a>\n",
      "<a href=\"/about/privacy.htm\">Privacy Policy</a>\n"
     ]
    }
   ],
   "source": [
    "for link in soup.find_all('a'): \n",
    "    print(link)"
   ]
  },
  {
   "cell_type": "markdown",
   "metadata": {
    "slideshow": {
     "slide_type": "slide"
    }
   },
   "source": [
    "## Additional functionality"
   ]
  },
  {
   "cell_type": "code",
   "execution_count": 16,
   "metadata": {
    "ExecuteTime": {
     "end_time": "2017-04-10T15:23:28.840585Z",
     "start_time": "2017-04-10T11:23:28.834647-04:00"
    },
    "collapsed": false,
    "scrolled": false,
    "slideshow": {
     "slide_type": "fragment"
    }
   },
   "outputs": [
    {
     "data": {
      "text/plain": [
       "'/daily/chart/'"
      ]
     },
     "execution_count": 16,
     "metadata": {},
     "output_type": "execute_result"
    }
   ],
   "source": [
    "# retrieve the url from an anchor tag\n",
    "soup.find('a')['href']"
   ]
  },
  {
   "cell_type": "markdown",
   "metadata": {
    "slideshow": {
     "slide_type": "slide"
    }
   },
   "source": [
    "## Additional functionality\n",
    "* An attribute like id or class can be matched\n",
    "* Example: 'mp_box_content' classes"
   ]
  },
  {
   "cell_type": "code",
   "execution_count": 17,
   "metadata": {
    "ExecuteTime": {
     "end_time": "2017-04-10T15:23:48.938673Z",
     "start_time": "2017-04-10T11:23:48.911977-04:00"
    },
    "collapsed": false,
    "scrolled": true,
    "slideshow": {
     "slide_type": "fragment"
    }
   },
   "outputs": [
    {
     "name": "stdout",
     "output_type": "stream",
     "text": [
      "<div class=\"mp_box_content\">\n",
      "<table border=\"0\" cellpadding=\"0\" cellspacing=\"0\">\n",
      "<tr>\n",
      "<td width=\"40%\"><b>Domestic:</b></td>\n",
      "<td align=\"right\" width=\"35%\"> <b>$17,451,873</b></td>\n",
      "</tr>\n",
      "</table>\n",
      "</div> \n",
      "\n",
      "<div class=\"mp_box_content\">\n",
      "<table border=\"0\" cellpadding=\"0\" cellspacing=\"0\">\n",
      "<tr>\n",
      "<td align=\"center\"><a href=\"/weekend/chart/?yr=1998&amp;wknd=10&amp;p=.htm\">Opening Weekend:</a></td><td> $5,533,844</td></tr>\n",
      "<tr>\n",
      "<td align=\"center\" colspan=\"2\"><font size=\"2\">(#6 rank, 1,207 theaters, $4,585 average)</font></td></tr>\n",
      "<tr>\n",
      "<td align=\"right\">% of Total Gross:</td><td> 31.7%</td></tr>\n",
      "<tr><td align=\"right\" colspan=\"2\"><font face=\"Helvetica, Arial, Sans-Serif\" size=\"1\"><a href=\"/movies/?page=weekend&amp;id=biglebowski.htm\"><b>&gt; View All 4 Weekends</b></a></font></td></tr>\n",
      "</table>\n",
      "<table border=\"0\" cellpadding=\"0\" cellspacing=\"0\">\n",
      "<tr>\n",
      "<td>Widest Release:</td>\n",
      "<td> 1,235 theaters</td>\n",
      "</tr>\n",
      "</table>\n",
      "</div> \n",
      "\n",
      "<div class=\"mp_box_content\">\n",
      "<table>\n",
      "<tr><td align=\"right\" valign=\"top\"><font size=\"2\"><a href=\"/people/?view=Director&amp;p=.htm\">Director:</a></font></td><td><font size=\"2\"><a href=\"/people/chart/?view=Director&amp;id=joelcoen.htm\">Joel Coen</a></font></td></tr><tr><td align=\"right\" valign=\"top\"><font size=\"2\"><a href=\"/people/?view=Writer&amp;p=.htm\">Writers:</a></font></td><td><font size=\"2\"><a href=\"/people/chart/?view=Writer&amp;id=ethancoen.htm\">Ethan Coen</a><br/><a href=\"/people/chart/?view=Writer&amp;id=joelcoen.htm\">Joel Coen</a></font></td></tr><tr><td align=\"right\" valign=\"top\"><font size=\"2\"><a href=\"/people/?view=Actor&amp;p=.htm\">Actors:</a></font></td><td><font size=\"2\"><a href=\"/people/chart/?view=Actor&amp;id=jeffbridges.htm\">Jeff Bridges</a><br/><a href=\"/people/chart/?view=Actor&amp;id=johngoodman.htm\">John Goodman</a><br/><a href=\"/people/chart/?view=Actor&amp;id=juliannemoore.htm\">Julianne Moore</a><br/>Steve Buscemi<br/><a href=\"/people/chart/?view=Actor&amp;id=philipseymourhoffman.htm\">Philip Seymour Hoffman</a><br/>Tara Reid<br/><a href=\"/people/chart/?view=Actor&amp;id=samelliott.htm\">Sam Elliott*</a> <font size=\"2\">(Narrator)</font></font></td></tr><tr><td align=\"right\" valign=\"top\"><font size=\"2\"><a href=\"/people/?view=Producer&amp;p=.htm\">Producers:</a></font></td><td><font size=\"2\"><a href=\"/people/chart/?view=Producer&amp;id=timbevan.htm\">Tim Bevan</a> <font size=\"2\">(executive producer)</font><br/><a href=\"/people/chart/?view=Producer&amp;id=ethancoen.htm\">Ethan Coen</a><br/><a href=\"/people/chart/?view=Producer&amp;id=ericfellner.htm\">Eric Fellner</a> <font size=\"2\">(executive producer)</font></font></td></tr><tr><td align=\"right\" valign=\"top\"><font size=\"2\"><a href=\"/people/?view=Cinematographer&amp;p=.htm\"><font size=\"2\">Cinematographer</font>:</a></font></td><td><font size=\"2\"><a href=\"/people/chart/?view=Cinematographer&amp;id=rogerdeakins.htm\">Roger Deakins</a></font></td></tr><tr><td align=\"right\" valign=\"top\"><font size=\"2\"><a href=\"/people/?view=Composer&amp;p=.htm\">Composer:</a></font></td><td><font size=\"2\"><a href=\"/people/chart/?view=Composer&amp;id=carterburwell.htm\">Carter Burwell</a></font></td></tr><tr><td align=\"right\" colspan=\"2\"><i><small>* Denotes minor role</small></i></td></tr></table></div> \n",
      "\n",
      "<div class=\"mp_box_content\">\n",
      "<table border=\"0\" cellpadding=\"5\" cellspacing=\"1\" style=\"border-collapse: collapse\" width=\"100%\">\n",
      "<tr><th>Genre</th>\n",
      "<th>Rank</th></tr>\n",
      "<tr bgcolor=\"#ffffff\"><td><font size=\"2\"><a href=\"/genres/chart/?id=blackcomedy.htm\">Comedy - Dark/Black</a></font></td>\n",
      "<td align=\"center\"><font size=\"2\">31</font></td>\n",
      "</tr>\n",
      "<tr bgcolor=\"#f4f4ff\"><td><font size=\"2\"><a href=\"/genres/chart/?id=slackerstoner.htm\">Slacker / Stoner</a></font></td>\n",
      "<td align=\"center\"><font size=\"2\">35</font></td>\n",
      "</tr>\n",
      "</table></div> \n",
      "\n",
      "<div class=\"mp_box_content\">\n",
      "<table border=\"0\" cellpadding=\"5\" cellspacing=\"1\" style=\"border-collapse: collapse\" width=\"100%\">\n",
      "<tr><td bgcolor=\"\"><b>Chart</b></td>\n",
      "<td align=\"center\"><b>Rank</b></td>\n",
      "</tr>\n",
      "<tr bgcolor=\"#ffffff\"><td><font size=\"2\"><a href=\"/alltime/domestic.htm\">All Time Domestic</a></font></td>\n",
      "<td align=\"center\"><font size=\"2\">3,493</font></td>\n",
      "</tr>\n",
      "<tr bgcolor=\"#f4f4ff\"><td><font size=\"2\"><a href=\"/yearly/chart/?yr=1998&amp;p=.htm\">Yearly 1998</a></font></td>\n",
      "<td align=\"center\"><font size=\"2\">96</font></td>\n",
      "</tr>\n",
      "<tr bgcolor=\"#ffffff\"><td><font size=\"2\"><a href=\"/yearly/chart/?view2=releasedate&amp;view=opening&amp;yr=1998&amp;p=.htm\">Yearly Opening Weekends 1998</a></font></td>\n",
      "<td align=\"center\"><font size=\"2\">88</font></td>\n",
      "</tr>\n",
      "<tr bgcolor=\"#f4f4ff\"><td><font size=\"2\"><a href=\"/yearly/chart/mpaarating.htm?rating=R&amp;yr=1998&amp;p=.htm\">Yearly R Rated 1998</a></font></td>\n",
      "<td align=\"center\"><font size=\"2\">41</font></td>\n",
      "</tr>\n",
      "<tr bgcolor=\"#ffffff\"><td><font size=\"2\"><a href=\"/alltime/openingweeks.htm\">Opening Weeks</a></font></td>\n",
      "<td align=\"center\"><font size=\"2\">2,965</font></td>\n",
      "</tr>\n",
      "<tr bgcolor=\"#f4f4ff\"><td><font size=\"2\"><a href=\"/alltime/weekends/\">Opening Weekends</a></font></td>\n",
      "<td align=\"center\"><font size=\"2\">2,873</font></td>\n",
      "</tr>\n",
      "<tr bgcolor=\"#ffffff\"><td><font size=\"2\"><a href=\"/alltime/weekends/smallestdrops.htm?page=SMALLDROPWID&amp;p=.htm\">Smallest Drops, All Wide Releases</a></font></td>\n",
      "<td align=\"center\"><font size=\"2\">1,611</font></td>\n",
      "</tr>\n",
      "<tr bgcolor=\"#f4f4ff\"><td><font size=\"2\">BOM Users' Grades (1998 Releases)</font></td>\n",
      "<td align=\"center\"><font size=\"2\">15</font></td>\n",
      "</tr>\n",
      "<tr><td><b>Charts (Premier Pass Users Only)</b></td><td align=\"center\"><b>Rank</b></td></tr><tr bgcolor=\"#ffffff\"><td><font size=\"2\"><a href=\"/alltime/domestic.htm?page=14&amp;asof=1998-04-10&amp;p=.htm\">Highest All Time Rank (on April 10, 1998)</a></font></td>\n",
      "<td align=\"center\"><font size=\"2\">1364</font></td>\n",
      "</tr>\n",
      "<tr bgcolor=\"#f4f4ff\"><td><font size=\"2\"><a href=\"/yearly/chart/?view2=wide&amp;view=domestic&amp;yr=1998&amp;p=.htm\">Yearly (Wide) 1998</a></font></td>\n",
      "<td align=\"center\"><font size=\"2\">90</font></td>\n",
      "</tr>\n",
      "<tr bgcolor=\"#ffffff\"><td><font size=\"2\"><a href=\"/yearly/chart/?view2=opening&amp;yr=1998&amp;p=.htm\">Yearly Opening Weekends (Wide) 1998</a></font></td>\n",
      "<td align=\"center\"><font size=\"2\">91</font></td>\n",
      "</tr>\n",
      "<tr bgcolor=\"#f4f4ff\"><td><font size=\"2\"><a href=\"/alltime/openingweeks.htm?adjust_yr=2017&amp;p=.htm\">Opening Weeks Adjusted</a></font></td>\n",
      "<td align=\"center\"><font size=\"2\">2,788</font></td>\n",
      "</tr>\n",
      "<tr bgcolor=\"#ffffff\"><td><font size=\"2\"><a href=\"/alltime/weekends/?adjust_yr=2017&amp;p=.htm\">Opening Weekends Adjusted</a></font></td>\n",
      "<td align=\"center\"><font size=\"2\">2,716</font></td>\n",
      "</tr>\n",
      "</table></div> \n",
      "\n",
      "<div class=\"mp_box_content\"><table border=\"0\" cellpadding=\"5\" cellspacing=\"0\" width=\"100%\"><tr bgcolor=\"#ffff99\"><td><font size=\"2\"><a href=\"/news/?id=2680&amp;p=.htm\">2/11/10 2010 Preview: True Grit</a></font></td></tr></table></div> \n",
      "\n",
      "<div class=\"mp_box_content\"><ul>\n",
      "<li><a href=\"http://www.amazon.com/gp/product/B000A7DVR2?ie=UTF8&amp;tag=boxofficemojo-20&amp;linkCode=as2&amp;camp=1789&amp;creative=9325&amp;creativeASIN=B000A7DVR2\">The Big Lebowski (Collector's Edition)</a><img alt=\"\" border=\"0\" height=\"1\" src=\"http://www.assoc-amazon.com/e/ir?t=boxofficemojo-20&amp;l=as2&amp;o=1&amp;a=B000A7DVR2\" style=\"border:none !important; margin:0px !important;\" width=\"1\"/></li>\n",
      "<li><a href=\"http://www.amazon.com/gp/product/B000A7DVY0?ie=UTF8&amp;tag=boxofficemojo-20&amp;linkCode=as2&amp;camp=1789&amp;creative=9325&amp;creativeASIN=B000A7DVY0\">The Big Lebowski - Achiever's Edition</a><img alt=\"\" border=\"0\" height=\"1\" src=\"http://www.assoc-amazon.com/e/ir?t=boxofficemojo-20&amp;l=as2&amp;o=1&amp;a=B000A7DVY0\" style=\"border:none !important; margin:0px !important;\" width=\"1\"/></li>\n",
      "<li><a href=\"http://www.amazon.com/gp/product/B000ASATSU?ie=UTF8&amp;tag=boxofficemojo-20&amp;linkCode=as2&amp;camp=1789&amp;creative=9325&amp;creativeASIN=B000ASATSU\">The Coen Brothers Collection</a><img alt=\"\" border=\"0\" height=\"1\" src=\"http://www.assoc-amazon.com/e/ir?t=boxofficemojo-20&amp;l=as2&amp;o=1&amp;a=B000ASATSU\" style=\"border:none !important; margin:0px !important;\" width=\"1\"/></li>\n",
      "<li><a href=\"http://www.amazon.com/gp/product/B000O179EK?ie=UTF8&amp;tag=boxofficemojo-20&amp;linkCode=as2&amp;camp=1789&amp;creative=9325&amp;creativeASIN=B000O179EK\">The Big Lebowski (HD-DVD)</a><img alt=\"\" border=\"0\" height=\"1\" src=\"http://www.assoc-amazon.com/e/ir?t=boxofficemojo-20&amp;l=as2&amp;o=1&amp;a=B000O179EK\" style=\"border:none !important; margin:0px !important;\" width=\"1\"/></li>\n",
      "<li><a href=\"http://www.amazon.com/gp/product/B000O179EK?ie=UTF8&amp;tag=boxofficemojo-20&amp;linkCode=as2&amp;camp=1789&amp;creative=9325&amp;creativeASIN=B000O179EK\">The Big Lebowski (HD-DVD)</a><img alt=\"\" border=\"0\" height=\"1\" src=\"http://www.assoc-amazon.com/e/ir?t=boxofficemojo-20&amp;l=as2&amp;o=1&amp;a=B000O179EK\" style=\"border:none !important; margin:0px !important;\" width=\"1\"/></li>\n",
      "<li><a href=\"http://www.amazon.com/gp/product/B001AEF6CW?ie=UTF8&amp;tag=boxofficemojo-20&amp;linkCode=as2&amp;camp=1789&amp;creative=9325&amp;creativeASIN=B001AEF6CW\">The Big Lebowski (10th Anniv. Limited Edition)</a><img alt=\"\" border=\"0\" height=\"1\" src=\"http://www.assoc-amazon.com/e/ir?t=boxofficemojo-20&amp;l=as2&amp;o=1&amp;a=B001AEF6CW\" style=\"border:none !important; margin:0px !important;\" width=\"1\"/></li>\n",
      "<li><a href=\"http://www.amazon.com/gp/product/B001AEF6D6?ie=UTF8&amp;tag=boxofficemojo-20&amp;linkCode=as2&amp;camp=1789&amp;creative=9325&amp;creativeASIN=B001AEF6D6\">The Big Lebowski (10th Anniv. Edition)</a><img alt=\"\" border=\"0\" height=\"1\" src=\"http://www.assoc-amazon.com/e/ir?t=boxofficemojo-20&amp;l=as2&amp;o=1&amp;a=B001AEF6D6\" style=\"border:none !important; margin:0px !important;\" width=\"1\"/></li>\n",
      "</ul></div> \n",
      "\n"
     ]
    }
   ],
   "source": [
    "for element in soup.find_all(class_='mp_box_content'):\n",
    "    print(element, '\\n')"
   ]
  },
  {
   "cell_type": "markdown",
   "metadata": {
    "slideshow": {
     "slide_type": "slide"
    }
   },
   "source": [
    "## Chaining methods\n",
    "\n",
    "All the columns in the first mp_box_content table can be found by \"chaining\" `find` and `find_all`."
   ]
  },
  {
   "cell_type": "code",
   "execution_count": 18,
   "metadata": {
    "ExecuteTime": {
     "end_time": "2017-04-10T15:28:50.283380Z",
     "start_time": "2017-04-10T11:28:50.266118-04:00"
    },
    "collapsed": false,
    "scrolled": false,
    "slideshow": {
     "slide_type": "-"
    }
   },
   "outputs": [
    {
     "data": {
      "text/plain": [
       "[<td align=\"center\"><a href=\"/weekend/chart/?yr=1998&amp;wknd=10&amp;p=.htm\">Opening Weekend:</a></td>,\n",
       " <td> $5,533,844</td>,\n",
       " <td align=\"center\" colspan=\"2\"><font size=\"2\">(#6 rank, 1,207 theaters, $4,585 average)</font></td>,\n",
       " <td align=\"right\">% of Total Gross:</td>,\n",
       " <td> 31.7%</td>,\n",
       " <td align=\"right\" colspan=\"2\"><font face=\"Helvetica, Arial, Sans-Serif\" size=\"1\"><a href=\"/movies/?page=weekend&amp;id=biglebowski.htm\"><b>&gt; View All 4 Weekends</b></a></font></td>,\n",
       " <td>Widest Release:</td>,\n",
       " <td> 1,235 theaters</td>]"
      ]
     },
     "execution_count": 18,
     "metadata": {},
     "output_type": "execute_result"
    }
   ],
   "source": [
    "\n",
    "ll = [x.find_all('td') for x in soup.find_all(class_='mp_box_content')]\n",
    "ll[1]"
   ]
  },
  {
   "cell_type": "markdown",
   "metadata": {
    "slideshow": {
     "slide_type": "slide"
    }
   },
   "source": [
    "## Chaining methods\n",
    "\n",
    "To extract just the value of interest:"
   ]
  },
  {
   "cell_type": "code",
   "execution_count": 19,
   "metadata": {
    "ExecuteTime": {
     "end_time": "2017-04-10T15:30:23.975097Z",
     "start_time": "2017-04-10T11:30:23.965792-04:00"
    },
    "collapsed": false,
    "scrolled": false,
    "slideshow": {
     "slide_type": "fragment"
    }
   },
   "outputs": [
    {
     "data": {
      "text/plain": [
       "'$17,451,873'"
      ]
     },
     "execution_count": 19,
     "metadata": {},
     "output_type": "execute_result"
    }
   ],
   "source": [
    "soup.find(class_='mp_box_content').find_all('td')[1].text[1:]"
   ]
  },
  {
   "cell_type": "markdown",
   "metadata": {
    "slideshow": {
     "slide_type": "fragment"
    }
   },
   "source": [
    "Be careful with non-printing characters!"
   ]
  },
  {
   "cell_type": "code",
   "execution_count": 20,
   "metadata": {
    "ExecuteTime": {
     "end_time": "2017-04-10T15:30:29.789435Z",
     "start_time": "2017-04-10T11:30:29.772195-04:00"
    },
    "collapsed": false,
    "scrolled": true,
    "slideshow": {
     "slide_type": "fragment"
    }
   },
   "outputs": [
    {
     "name": "stdout",
     "output_type": "stream",
     "text": [
      "<div id=\"hp_footer\">\n",
      "<div style=\"padding-bottom: 20px;\">\n",
      "<div style=\"margin: 0px 121px; vertical-align: top;\">\n",
      "<div id=\"footer_links\">\n",
      "<ul class=\"footer_link_list\">\n",
      "<li><strong>Latest Updates</strong></li>\n",
      "<li><a href=\"/news/?ref=ft\">Movie News</a>\n",
      "</li><li><a href=\"/daily/chart/?ref=ft\">Daily Chart</a></li>\n",
      "<li><a href=\"/weekend/chart/?ref=ft\">Weekend Chart</a></li>\n",
      "<li><a href=\"/alltime/?ref=ft\">All Time Charts</a></li>\n",
      "<li><a href=\"/intl/?ref=ft\">International Charts</a></li>\n",
      "</ul>\n",
      "<!--\n",
      "\t\t\t\t\t<ul class=\"footer_link_list\">\n",
      "\t\t\t\t\t\t<li><strong>Popular Movies</strong></li>\n",
      "\t\t\t\t\t\t\t\t\t\t\t</ul>\n",
      "\t\t\t\t\t-->\n",
      "<ul class=\"footer_link_list\">\n",
      "<li><strong>Indices</strong></li>\n",
      "<li><a href=\"/people/?ref=ft\">People</a></li>\n",
      "<li><a href=\"/genres/?ref=ft\">Genres</a></li>\n",
      "<li><a href=\"/franchises/?ref=ft\">Franchises</a></li>\n",
      "<li><a href=\"/showdowns/?ref=ft\">Showdowns</a></li>\n",
      "</ul>\n",
      "<ul class=\"footer_link_list\">\n",
      "<li><strong>Other</strong></li>\n",
      "<li><a href=\"/about/?ref=ft\">About This Site</a></li>\n",
      "<li><a href=\"/about/advertise.htm?ref=ft\">Advertising</a></li>\n",
      "</ul>\n",
      "</div>\n",
      "<div id=\"copyright\">\n",
      "<a href=\"/?ref=ft\"><img alt=\"Box Office Mojo\" height=\"56\" src=\"/img/misc/bom_logo1.png\" width=\"245\"/></a><br/>\n",
      "<p>An <a href=\"http://imdb.com/\"><img alt=\"IMDb\" height=\"16\" src=\"/img/misc/IMDbSm.png\" valign=\"middle\" width=\"34\"/></a> company<br/><br/></p>\n",
      "<p>© <a href=\"http://imdb.com/\">IMDb.com</a>, Inc. or its affiliates. All rights reserved. Box Office Mojo and IMDb are trademarks or registered trademarks of IMDb.com, Inc. or its affiliates. <a href=\"/about/termsofuse.htm\">Terms of Use</a> and <a href=\"/about/privacy.htm\">Privacy Policy</a> under which this service is provided to you.</p>\n",
      "</div>\n",
      "</div>\n",
      "<div style=\"clear:both;\">\n",
      "<div>\n",
      "<script type=\"text/javascript\">\n",
      "    googletag.cmd.push(function() {\n",
      "        googletag.defineSlot(\"/4215/imdb2.bom.movie\", [[728, 90]], \"ad-slot-3\").addService(googletag.pubads().setTargeting(\"p\", \"b\"));\n",
      "        googletag.pubads().enableSingleRequest();\n",
      "        googletag.enableServices();\n",
      "    });\n",
      "    googletag.cmd.push(function() { googletag.display(\"ad-slot-3\"); });\n",
      "</script></div>\n",
      "</div>\n",
      "</div>\n",
      "</div>\n"
     ]
    }
   ],
   "source": [
    "# find with an \"id\". (ID is unique.)\n",
    "\n",
    "print(soup.find(id='hp_footer'))"
   ]
  },
  {
   "cell_type": "markdown",
   "metadata": {
    "slideshow": {
     "slide_type": "slide"
    }
   },
   "source": [
    "## Consistency\n",
    "\n",
    "Web scraping is simple due to the consistent format of information among website pages"
   ]
  },
  {
   "cell_type": "markdown",
   "metadata": {
    "slideshow": {
     "slide_type": "slide"
    }
   },
   "source": [
    "## Items to scrape for each movie:\n",
    "* movie title\n",
    "* total domestic gross\n",
    "* release date\n",
    "* runtime\n",
    "* rating\n"
   ]
  },
  {
   "cell_type": "markdown",
   "metadata": {
    "slideshow": {
     "slide_type": "slide"
    }
   },
   "source": [
    "## Movie title"
   ]
  },
  {
   "cell_type": "code",
   "execution_count": 21,
   "metadata": {
    "ExecuteTime": {
     "end_time": "2017-04-10T15:34:14.990887Z",
     "start_time": "2017-04-10T11:34:14.984239-04:00"
    },
    "collapsed": false,
    "scrolled": false,
    "slideshow": {
     "slide_type": "fragment"
    }
   },
   "outputs": [
    {
     "name": "stdout",
     "output_type": "stream",
     "text": [
      "<title>The Big Lebowski (1998) - Box Office Mojo</title>\n"
     ]
    }
   ],
   "source": [
    "print(soup.find('title'))"
   ]
  },
  {
   "cell_type": "code",
   "execution_count": 22,
   "metadata": {
    "ExecuteTime": {
     "end_time": "2017-04-10T15:34:21.742917Z",
     "start_time": "2017-04-10T11:34:21.734591-04:00"
    },
    "collapsed": false,
    "scrolled": false,
    "slideshow": {
     "slide_type": "fragment"
    }
   },
   "outputs": [
    {
     "name": "stdout",
     "output_type": "stream",
     "text": [
      "The Big Lebowski (1998) - Box Office Mojo\n"
     ]
    }
   ],
   "source": [
    "title_string = soup.find('title').text\n",
    "print(title_string)"
   ]
  },
  {
   "cell_type": "code",
   "execution_count": 23,
   "metadata": {
    "ExecuteTime": {
     "end_time": "2017-04-10T15:34:49.210569Z",
     "start_time": "2017-04-10T11:34:49.203016-04:00"
    },
    "collapsed": false,
    "scrolled": false,
    "slideshow": {
     "slide_type": "fragment"
    }
   },
   "outputs": [
    {
     "name": "stdout",
     "output_type": "stream",
     "text": [
      "['The Big Lebowski ', '1998) - Box Office Mojo']\n"
     ]
    }
   ],
   "source": [
    "print(title_string.split('('))"
   ]
  },
  {
   "cell_type": "code",
   "execution_count": 24,
   "metadata": {
    "ExecuteTime": {
     "end_time": "2017-04-10T15:35:10.907851Z",
     "start_time": "2017-04-10T11:35:10.902905-04:00"
    },
    "collapsed": false,
    "scrolled": false,
    "slideshow": {
     "slide_type": "fragment"
    }
   },
   "outputs": [
    {
     "name": "stdout",
     "output_type": "stream",
     "text": [
      "The Big Lebowski\n"
     ]
    }
   ],
   "source": [
    "title = title_string.split('(')[0].strip()\n",
    "print(title)"
   ]
  },
  {
   "cell_type": "markdown",
   "metadata": {
    "slideshow": {
     "slide_type": "slide"
    }
   },
   "source": [
    "## Domestic total gross"
   ]
  },
  {
   "cell_type": "code",
   "execution_count": 25,
   "metadata": {
    "ExecuteTime": {
     "end_time": "2017-04-10T15:35:26.397921Z",
     "start_time": "2017-04-10T11:35:26.387921-04:00"
    },
    "collapsed": false,
    "scrolled": false,
    "slideshow": {
     "slide_type": "fragment"
    }
   },
   "outputs": [
    {
     "name": "stdout",
     "output_type": "stream",
     "text": [
      "None\n"
     ]
    }
   ],
   "source": [
    "print(soup.find(text=\"Domestic Total Gross\"))"
   ]
  },
  {
   "cell_type": "markdown",
   "metadata": {
    "slideshow": {
     "slide_type": "fragment"
    }
   },
   "source": [
    "`Text` does an exact match search!"
   ]
  },
  {
   "cell_type": "code",
   "execution_count": 26,
   "metadata": {
    "ExecuteTime": {
     "end_time": "2017-04-10T15:35:55.656025Z",
     "start_time": "2017-04-10T11:35:55.645554-04:00"
    },
    "collapsed": false,
    "scrolled": false,
    "slideshow": {
     "slide_type": "fragment"
    }
   },
   "outputs": [
    {
     "name": "stdout",
     "output_type": "stream",
     "text": [
      "Domestic Total Gross: \n"
     ]
    }
   ],
   "source": [
    "print(soup.find(text=\"Domestic Total Gross: \"))"
   ]
  },
  {
   "cell_type": "markdown",
   "metadata": {
    "slideshow": {
     "slide_type": "slide"
    }
   },
   "source": [
    "## Regular expressions\n",
    "\n",
    "Solution: [regular expressions](https://xkcd.com/208/) to the rescue"
   ]
  },
  {
   "cell_type": "markdown",
   "metadata": {
    "slideshow": {
     "slide_type": "slide"
    }
   },
   "source": [
    "![](https://imgs.xkcd.com/comics/regular_expressions.png)"
   ]
  },
  {
   "cell_type": "markdown",
   "metadata": {
    "slideshow": {
     "slide_type": "slide"
    }
   },
   "source": [
    "## Regular expressions"
   ]
  },
  {
   "cell_type": "code",
   "execution_count": 27,
   "metadata": {
    "ExecuteTime": {
     "end_time": "2017-04-10T15:37:58.626659Z",
     "start_time": "2017-04-10T11:37:58.619514-04:00"
    },
    "collapsed": false,
    "scrolled": false,
    "slideshow": {
     "slide_type": "fragment"
    }
   },
   "outputs": [
    {
     "data": {
      "text/plain": [
       "'Domestic Total Gross: '"
      ]
     },
     "execution_count": 27,
     "metadata": {},
     "output_type": "execute_result"
    }
   ],
   "source": [
    "import re\n",
    "domestic_total_regex = re.compile('Domestic Total')\n",
    "soup.find(text=domestic_total_regex)"
   ]
  },
  {
   "cell_type": "code",
   "execution_count": 28,
   "metadata": {
    "ExecuteTime": {
     "end_time": "2017-04-10T15:38:34.726889Z",
     "start_time": "2017-04-10T11:38:34.717530-04:00"
    },
    "collapsed": false,
    "scrolled": false,
    "slideshow": {
     "slide_type": "fragment"
    }
   },
   "outputs": [
    {
     "name": "stdout",
     "output_type": "stream",
     "text": [
      "Domestic Total Gross: \n"
     ]
    }
   ],
   "source": [
    "dtg_string = soup.find(text=re.compile('Domestic Total'))\n",
    "print(dtg_string)"
   ]
  },
  {
   "cell_type": "code",
   "execution_count": 29,
   "metadata": {
    "ExecuteTime": {
     "end_time": "2017-04-10T15:40:45.161775Z",
     "start_time": "2017-04-10T11:40:45.155741-04:00"
    },
    "collapsed": false,
    "scrolled": false,
    "slideshow": {
     "slide_type": "fragment"
    }
   },
   "outputs": [
    {
     "data": {
      "text/plain": [
       "<b>$17,451,873</b>"
      ]
     },
     "execution_count": 29,
     "metadata": {},
     "output_type": "execute_result"
    }
   ],
   "source": [
    "dtg_string.findNext()\n",
    "      \n",
    "#      .findNextSibling())"
   ]
  },
  {
   "cell_type": "code",
   "execution_count": 30,
   "metadata": {
    "ExecuteTime": {
     "end_time": "2017-04-10T15:41:38.566262Z",
     "start_time": "2017-04-10T11:41:38.557723-04:00"
    },
    "collapsed": false,
    "scrolled": false,
    "slideshow": {
     "slide_type": "fragment"
    }
   },
   "outputs": [
    {
     "name": "stdout",
     "output_type": "stream",
     "text": [
      "17451873\n"
     ]
    }
   ],
   "source": [
    "dtg = dtg_string.findNextSibling().text\n",
    "dtg = dtg.replace('$','').replace(',','')\n",
    "\n",
    "domestic_total_gross = int(dtg)\n",
    "print(domestic_total_gross)"
   ]
  },
  {
   "cell_type": "markdown",
   "metadata": {
    "slideshow": {
     "slide_type": "slide"
    }
   },
   "source": [
    "## Scaling up\n",
    "\n",
    "Make a function to scrape multiple things:"
   ]
  },
  {
   "cell_type": "code",
   "execution_count": 31,
   "metadata": {
    "ExecuteTime": {
     "end_time": "2017-04-10T15:42:52.695465Z",
     "start_time": "2017-04-10T11:42:52.684052-04:00"
    },
    "collapsed": true,
    "scrolled": false,
    "slideshow": {
     "slide_type": "fragment"
    }
   },
   "outputs": [],
   "source": [
    "def get_movie_value(soup, field_name):\n",
    "    '''Grab a value from boxofficemojo HTML\n",
    "    \n",
    "    Takes a string attribute of a movie on the page and\n",
    "    returns the string in the next sibling object\n",
    "    (the value for that attribute)\n",
    "    or None if nothing is found.\n",
    "    '''\n",
    "    obj = soup.find(text=re.compile(field_name))\n",
    "    if not obj: \n",
    "        return None\n",
    "    # this works for most of the values\n",
    "    next_sibling = obj.findNextSibling()\n",
    "    if next_sibling:\n",
    "        return next_sibling.text \n",
    "    else:\n",
    "        return None"
   ]
  },
  {
   "cell_type": "markdown",
   "metadata": {
    "slideshow": {
     "slide_type": "slide"
    }
   },
   "source": [
    "## Scaling up"
   ]
  },
  {
   "cell_type": "code",
   "execution_count": 32,
   "metadata": {
    "ExecuteTime": {
     "end_time": "2017-04-10T15:43:08.046528Z",
     "start_time": "2017-04-10T11:43:08.038953-04:00"
    },
    "collapsed": false,
    "scrolled": false,
    "slideshow": {
     "slide_type": "fragment"
    }
   },
   "outputs": [
    {
     "name": "stdout",
     "output_type": "stream",
     "text": [
      "$17,451,873\n"
     ]
    }
   ],
   "source": [
    "# domestic total gross\n",
    "dtg = get_movie_value(soup,'Domestic Total')\n",
    "print(dtg)"
   ]
  },
  {
   "cell_type": "code",
   "execution_count": 33,
   "metadata": {
    "ExecuteTime": {
     "end_time": "2017-04-10T15:43:09.858354Z",
     "start_time": "2017-04-10T11:43:09.850513-04:00"
    },
    "collapsed": false,
    "scrolled": false,
    "slideshow": {
     "slide_type": "fragment"
    }
   },
   "outputs": [
    {
     "name": "stdout",
     "output_type": "stream",
     "text": [
      "1 hrs. 57 min.\n"
     ]
    }
   ],
   "source": [
    "# runtime\n",
    "runtime = get_movie_value(soup,'Runtime')\n",
    "print(runtime)"
   ]
  },
  {
   "cell_type": "code",
   "execution_count": 34,
   "metadata": {
    "ExecuteTime": {
     "end_time": "2017-04-10T15:43:11.931273Z",
     "start_time": "2017-04-10T11:43:11.924191-04:00"
    },
    "collapsed": false,
    "scrolled": false,
    "slideshow": {
     "slide_type": "fragment"
    }
   },
   "outputs": [
    {
     "name": "stdout",
     "output_type": "stream",
     "text": [
      "R\n"
     ]
    }
   ],
   "source": [
    "# rating\n",
    "rating = get_movie_value(soup,'MPAA Rating')\n",
    "print(rating)"
   ]
  },
  {
   "cell_type": "code",
   "execution_count": 35,
   "metadata": {
    "ExecuteTime": {
     "end_time": "2017-04-10T15:44:06.322658Z",
     "start_time": "2017-04-10T11:44:06.317747-04:00"
    },
    "collapsed": true,
    "scrolled": false,
    "slideshow": {
     "slide_type": "fragment"
    }
   },
   "outputs": [],
   "source": [
    "a = re.compile('text')"
   ]
  },
  {
   "cell_type": "code",
   "execution_count": 36,
   "metadata": {
    "ExecuteTime": {
     "end_time": "2017-04-10T15:44:16.532760Z",
     "start_time": "2017-04-10T11:44:16.528025-04:00"
    },
    "collapsed": false,
    "scrolled": false,
    "slideshow": {
     "slide_type": "fragment"
    }
   },
   "outputs": [
    {
     "data": {
      "text/plain": [
       "'text'"
      ]
     },
     "execution_count": 36,
     "metadata": {},
     "output_type": "execute_result"
    }
   ],
   "source": [
    "a.pattern"
   ]
  },
  {
   "cell_type": "code",
   "execution_count": 37,
   "metadata": {
    "ExecuteTime": {
     "end_time": "2017-04-10T15:43:14.565417Z",
     "start_time": "2017-04-10T11:43:14.558942-04:00"
    },
    "collapsed": false,
    "scrolled": false,
    "slideshow": {
     "slide_type": "fragment"
    }
   },
   "outputs": [
    {
     "name": "stdout",
     "output_type": "stream",
     "text": [
      "March 6, 1998\n"
     ]
    }
   ],
   "source": [
    "rating = get_movie_value(soup,'Release Date')\n",
    "print(rating)"
   ]
  },
  {
   "cell_type": "markdown",
   "metadata": {
    "slideshow": {
     "slide_type": "slide"
    }
   },
   "source": [
    "## Parsing the data"
   ]
  },
  {
   "cell_type": "code",
   "execution_count": 38,
   "metadata": {
    "ExecuteTime": {
     "end_time": "2017-04-10T15:47:10.854543Z",
     "start_time": "2017-04-10T11:47:10.842209-04:00"
    },
    "collapsed": true,
    "scrolled": false,
    "slideshow": {
     "slide_type": "fragment"
    }
   },
   "outputs": [],
   "source": [
    "import dateutil.parser\n",
    "\n",
    "def to_date(datestring):\n",
    "    date = dateutil.parser.parse(datestring)\n",
    "    return date\n",
    "\n",
    "def money_to_int(moneystring):\n",
    "    moneystring = moneystring.replace('$', '').replace(',', '')\n",
    "    return int(moneystring)\n",
    "\n",
    "def runtime_to_minutes(runtimestring):\n",
    "    runtime = runtimestring.split()\n",
    "    try:\n",
    "        minutes = int(runtime[0])*60 + int(runtime[2])\n",
    "        return minutes\n",
    "    except:\n",
    "        return None"
   ]
  },
  {
   "cell_type": "markdown",
   "metadata": {
    "slideshow": {
     "slide_type": "slide"
    }
   },
   "source": [
    "## Parsing the data"
   ]
  },
  {
   "cell_type": "code",
   "execution_count": 39,
   "metadata": {
    "ExecuteTime": {
     "end_time": "2017-04-10T15:47:54.371551Z",
     "start_time": "2017-04-10T11:47:54.358385-04:00"
    },
    "collapsed": false,
    "scrolled": false,
    "slideshow": {
     "slide_type": "fragment"
    }
   },
   "outputs": [
    {
     "data": {
      "text/plain": [
       "117"
      ]
     },
     "execution_count": 39,
     "metadata": {},
     "output_type": "execute_result"
    }
   ],
   "source": [
    "# Let's get these again and format them all in one swoop\n",
    "\n",
    "from pprint import pprint\n",
    "\n",
    "raw_release_date = get_movie_value(soup,'Release Date')\n",
    "release_date = to_date(raw_release_date)\n",
    "\n",
    "raw_domestic_total_gross = get_movie_value(soup,'Domestic Total')\n",
    "domestic_total_gross = money_to_int(raw_domestic_total_gross)\n",
    "\n",
    "raw_runtime = get_movie_value(soup,'Runtime')\n",
    "runtime = runtime_to_minutes(raw_runtime)\n",
    "\n",
    "runtime"
   ]
  },
  {
   "cell_type": "markdown",
   "metadata": {
    "slideshow": {
     "slide_type": "slide"
    }
   },
   "source": [
    "## Parsing the data"
   ]
  },
  {
   "cell_type": "code",
   "execution_count": 40,
   "metadata": {
    "ExecuteTime": {
     "end_time": "2017-04-10T15:48:17.211009Z",
     "start_time": "2017-04-10T11:48:17.200994-04:00"
    },
    "collapsed": false,
    "scrolled": false,
    "slideshow": {
     "slide_type": "fragment"
    }
   },
   "outputs": [
    {
     "name": "stdout",
     "output_type": "stream",
     "text": [
      "[{'domestic total gross': 17451873,\n",
      "  'movie title': 'The Big Lebowski',\n",
      "  'rating': 'March 6, 1998',\n",
      "  'release date': datetime.datetime(1998, 3, 6, 0, 0),\n",
      "  'runtime (mins)': 117}]\n"
     ]
    }
   ],
   "source": [
    "headers = ['movie title', 'domestic total gross',\n",
    "           'release date', 'runtime (mins)', 'rating']\n",
    "\n",
    "movie_data = []\n",
    "movie_dict = dict(zip(headers, [title,\n",
    "                                domestic_total_gross,\n",
    "                                release_date,\n",
    "                                runtime,\n",
    "                                rating]))\n",
    "movie_data.append(movie_dict)\n",
    "\n",
    "pprint(movie_data)"
   ]
  },
  {
   "cell_type": "markdown",
   "metadata": {
    "slideshow": {
     "slide_type": "slide"
    }
   },
   "source": [
    "## Scraping tables"
   ]
  },
  {
   "cell_type": "code",
   "execution_count": 41,
   "metadata": {
    "ExecuteTime": {
     "end_time": "2017-04-10T15:50:02.099421Z",
     "start_time": "2017-04-10T11:50:01.424889-04:00"
    },
    "collapsed": true,
    "scrolled": false,
    "slideshow": {
     "slide_type": "fragment"
    }
   },
   "outputs": [],
   "source": [
    "url = 'http://www.boxofficemojo.com/genres/chart/?id=foreign.htm'\n",
    "\n",
    "response=requests.get(url)\n",
    "page=response.text\n",
    "\n",
    "soup=BeautifulSoup(page,\"lxml\")\n"
   ]
  },
  {
   "cell_type": "markdown",
   "metadata": {
    "slideshow": {
     "slide_type": "slide"
    }
   },
   "source": [
    "## Scraping tables"
   ]
  },
  {
   "cell_type": "code",
   "execution_count": 42,
   "metadata": {
    "ExecuteTime": {
     "end_time": "2017-04-10T15:52:04.675784Z",
     "start_time": "2017-04-10T11:52:04.655573-04:00"
    },
    "collapsed": false,
    "scrolled": false,
    "slideshow": {
     "slide_type": "fragment"
    }
   },
   "outputs": [
    {
     "data": {
      "text/plain": [
       "('/movies/?id=panslabyrinth.htm',\n",
       " [\"Pan's Labyrinth(Mexico)\",\n",
       "  'PicH',\n",
       "  '$37,634,615',\n",
       "  '1,143',\n",
       "  '$568,641',\n",
       "  '17',\n",
       "  '12/29/06'])"
      ]
     },
     "execution_count": 42,
     "metadata": {},
     "output_type": "execute_result"
    }
   ],
   "source": [
    "tables=soup.find_all(\"table\")\n",
    "\n",
    "rows=[row for row in tables[3].find_all('tr')]\n",
    "\n",
    "# Just want to look at 1st 20 rows for now\n",
    "rows=rows[1:20]\n",
    "\n",
    "movies={}\n",
    "for row in rows:\n",
    "    items=row.find_all('td')\n",
    "    title=items[1].find('a')['href']\n",
    "    movies[title]=[i.text for i in items[1:]]\n",
    "    \n",
    "\n",
    "list(movies.items())[1]"
   ]
  },
  {
   "cell_type": "code",
   "execution_count": 45,
   "metadata": {
    "ExecuteTime": {
     "end_time": "2017-04-10T16:02:11.270317Z",
     "start_time": "2017-04-10T12:02:10.367921-04:00"
    },
    "collapsed": true,
    "scrolled": false,
    "slideshow": {
     "slide_type": "fragment"
    }
   },
   "outputs": [],
   "source": [
    "import pandas as pd\n",
    "\n",
    "url = 'http://www.boxofficemojo.com/genres/chart/?view=main&sort=gross&order=DESC&pagenum=21&id=foreign.htm'"
   ]
  },
  {
   "cell_type": "code",
   "execution_count": null,
   "metadata": {
    "ExecuteTime": {
     "end_time": "2017-04-10T16:02:28.005915Z",
     "start_time": "2017-04-10T12:02:26.631951-04:00"
    },
    "collapsed": false,
    "scrolled": false,
    "slideshow": {
     "slide_type": "fragment"
    }
   },
   "outputs": [],
   "source": [
    "tables = pd.read_html(url)"
   ]
  },
  {
   "cell_type": "code",
   "execution_count": null,
   "metadata": {
    "ExecuteTime": {
     "end_time": "2017-04-10T16:02:38.967437Z",
     "start_time": "2017-04-10T12:02:38.876322-04:00"
    },
    "collapsed": false,
    "scrolled": true,
    "slideshow": {
     "slide_type": "fragment"
    }
   },
   "outputs": [],
   "source": [
    "tables[1]"
   ]
  },
  {
   "cell_type": "code",
   "execution_count": null,
   "metadata": {
    "collapsed": true
   },
   "outputs": [],
   "source": []
  }
 ],
 "metadata": {
  "anaconda-cloud": {},
  "celltoolbar": "Slideshow",
  "kernelspec": {
   "display_name": "Python 3",
   "language": "python",
   "name": "python3"
  },
  "language_info": {
   "codemirror_mode": {
    "name": "ipython",
    "version": 3
   },
   "file_extension": ".py",
   "mimetype": "text/x-python",
   "name": "python",
   "nbconvert_exporter": "python",
   "pygments_lexer": "ipython3",
   "version": "3.5.2"
  },
  "livereveal": {
   "height": "100%",
   "margin": 0,
   "maxScale": 1,
   "minScale": 1,
   "scroll": true,
   "start_slideshow_at": "selected",
   "transition": "none",
   "width": "100%"
  }
 },
 "nbformat": 4,
 "nbformat_minor": 1
}
