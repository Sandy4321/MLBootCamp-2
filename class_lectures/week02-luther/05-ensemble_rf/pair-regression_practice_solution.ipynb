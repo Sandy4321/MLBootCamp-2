{
 "cells": [
  {
   "cell_type": "markdown",
   "metadata": {},
   "source": [
    "#### Pair Problem - Week2 - Day5 - Regression Practice\n",
    "\n",
    "Practice Lasso regularization technique in five steps:\n",
    "\n",
    "1) Load Diabetes Dataset from SK Learn (`sklearn.datasets.load_diabetes()`).  Note that data may already be normalized.\n",
    "\n",
    "2) Use the KFold function from sklearn's cross validation module to divide the data into 5 training/test sets.  Randomize the KFold (via the shuffle parameter with Random State of 0).\n",
    "\n",
    "3) Tune the lambda (alpha) parameter in the lasso model by looping over a grid of possible lambdas (sklearn: lasso)\n",
    "\n",
    "```\n",
    "For each candidate lambda, loop over the 5 training/test sets.  \n",
    "On each training/test set run the lasso model on the training set and then compute and record the prediction error in the test set.  \n",
    "Finally total the prediction error for the 5 training/test sets.\n",
    "```\n",
    "\n",
    "4) Set lambda to be the value that minimizes prediction error.\n",
    "\n",
    "5) Run the lasso model again with the optimal lambda determined in step 3. Which variables would you consider excluding on the basis of these results?\n",
    "\n",
    "6) Try with Ridge and ElasticNet and base LinearRegression Models.  Compare your results.\n",
    "\n",
    "Report the best score.\n",
    "\n",
    "**Extra Credit**:  Try some Feature Engineering (Polynomials etc) to fit the data better.  Plot the data to see relationships."
   ]
  },
  {
   "cell_type": "code",
   "execution_count": 1,
   "metadata": {
    "collapsed": true
   },
   "outputs": [],
   "source": [
    "from __future__ import division, print_function  # Python 2 and 3 Compatibility"
   ]
  },
  {
   "cell_type": "code",
   "execution_count": 2,
   "metadata": {
    "collapsed": true
   },
   "outputs": [],
   "source": [
    "import pandas as pd\n",
    "import numpy as np\n",
    "import matplotlib.pyplot as plt\n",
    "import seaborn as sns\n",
    "\n",
    "%matplotlib inline"
   ]
  },
  {
   "cell_type": "code",
   "execution_count": 3,
   "metadata": {
    "collapsed": true
   },
   "outputs": [],
   "source": [
    "from sklearn.datasets import load_diabetes\n",
    "from sklearn.linear_model import Lasso, Ridge, ElasticNet, LinearRegression\n",
    "\n",
    "from sklearn.cross_validation import cross_val_score, train_test_split, KFold\n",
    "from sklearn.grid_search import GridSearchCV"
   ]
  },
  {
   "cell_type": "markdown",
   "metadata": {},
   "source": [
    "### Load Data"
   ]
  },
  {
   "cell_type": "code",
   "execution_count": 4,
   "metadata": {
    "collapsed": true
   },
   "outputs": [],
   "source": [
    "diabetes = load_diabetes()"
   ]
  },
  {
   "cell_type": "code",
   "execution_count": 5,
   "metadata": {
    "collapsed": false
   },
   "outputs": [
    {
     "data": {
      "text/plain": [
       "dict_keys(['data', 'target'])"
      ]
     },
     "execution_count": 5,
     "metadata": {},
     "output_type": "execute_result"
    }
   ],
   "source": [
    "diabetes.keys()"
   ]
  },
  {
   "cell_type": "markdown",
   "metadata": {},
   "source": [
    "* data Matrix is X and target vecor is y"
   ]
  },
  {
   "cell_type": "code",
   "execution_count": 6,
   "metadata": {
    "collapsed": false
   },
   "outputs": [
    {
     "data": {
      "text/plain": [
       "442"
      ]
     },
     "execution_count": 6,
     "metadata": {},
     "output_type": "execute_result"
    }
   ],
   "source": [
    "len(diabetes.data)"
   ]
  },
  {
   "cell_type": "markdown",
   "metadata": {},
   "source": [
    "### Build an Hold OUT Set to test different Models"
   ]
  },
  {
   "cell_type": "code",
   "execution_count": 7,
   "metadata": {
    "collapsed": true
   },
   "outputs": [],
   "source": [
    "X_train, X_holdout, y_train, y_holdout = train_test_split(diabetes.data, diabetes.target, test_size=0.1, random_state=42)"
   ]
  },
  {
   "cell_type": "markdown",
   "metadata": {},
   "source": [
    "### Split Training Data into Multiple Folds"
   ]
  },
  {
   "cell_type": "code",
   "execution_count": 8,
   "metadata": {
    "collapsed": true
   },
   "outputs": [],
   "source": [
    "# Notice that we are splitting the X_train data into 5 Folds\n",
    "\n",
    "kfold = KFold(len(X_train), n_folds=5, shuffle=True, random_state=0)"
   ]
  },
  {
   "cell_type": "markdown",
   "metadata": {},
   "source": [
    "### Baseline: Linear Regression"
   ]
  },
  {
   "cell_type": "code",
   "execution_count": 9,
   "metadata": {
    "collapsed": false
   },
   "outputs": [
    {
     "name": "stdout",
     "output_type": "stream",
     "text": [
      "[ 0.38015962  0.41985738  0.55536535  0.48203479  0.52900323]\n",
      "Linear Reg Mean Score:  0.473284075438\n"
     ]
    },
    {
     "name": "stderr",
     "output_type": "stream",
     "text": [
      "//anaconda/lib/python3.5/site-packages/scipy/linalg/basic.py:1018: RuntimeWarning: internal gelsd driver lwork query error, required iwork dimension not returned. This is likely the result of LAPACK bug 0038, fixed in LAPACK 3.2.2 (released July 21, 2010). Falling back to 'gelss' driver.\n",
      "  warnings.warn(mesg, RuntimeWarning)\n"
     ]
    },
    {
     "data": {
      "text/plain": [
       "LinearRegression(copy_X=True, fit_intercept=True, n_jobs=1, normalize=False)"
      ]
     },
     "execution_count": 9,
     "metadata": {},
     "output_type": "execute_result"
    }
   ],
   "source": [
    "lin_reg_est = LinearRegression()\n",
    "\n",
    "scores = cross_val_score(lin_reg_est, X_train, y_train, cv=kfold)\n",
    "print(scores)\n",
    "print(\"Linear Reg Mean Score: \", np.mean(scores))\n",
    "\n",
    "# Build the Model\n",
    "lin_reg_est.fit(X_train, y_train)"
   ]
  },
  {
   "cell_type": "markdown",
   "metadata": {},
   "source": [
    "### Evaluating Model"
   ]
  },
  {
   "cell_type": "code",
   "execution_count": 10,
   "metadata": {
    "collapsed": false
   },
   "outputs": [
    {
     "data": {
      "text/plain": [
       "[<matplotlib.lines.Line2D at 0x1163dd4e0>]"
      ]
     },
     "execution_count": 10,
     "metadata": {},
     "output_type": "execute_result"
    },
    {
     "data": {
      "image/png": "[encoded data removed]",
      "text/plain": [
       "<matplotlib.figure.Figure at 0x1163dd550>"
      ]
     },
     "metadata": {},
     "output_type": "display_data"
    }
   ],
   "source": [
    "# Fitted vs. Actual\n",
    "y_train_pred = lin_reg_est.predict(X_train)\n",
    "\n",
    "plt.scatter(y_train, y_train_pred, alpha=0.2)\n",
    "plt.plot([0, 400], [0, 400])"
   ]
  },
  {
   "cell_type": "code",
   "execution_count": 12,
   "metadata": {
    "collapsed": false
   },
   "outputs": [
    {
     "data": {
      "text/plain": [
       "[<matplotlib.lines.Line2D at 0x1163dd0f0>]"
      ]
     },
     "execution_count": 12,
     "metadata": {},
     "output_type": "execute_result"
    },
    {
     "data": {
      "image/png": "[encoded data removed]",
      "text/plain": [
       "<matplotlib.figure.Figure at 0x1163dd240>"
      ]
     },
     "metadata": {},
     "output_type": "display_data"
    }
   ],
   "source": [
    "# Fitted vs. Actual\n",
    "y_test_pred = lin_reg_est.predict(X_holdout)\n",
    "\n",
    "plt.scatter(y_holdout, y_test_pred)\n",
    "plt.plot([0, 400], [0, 400])"
   ]
  },
  {
   "cell_type": "code",
   "execution_count": 13,
   "metadata": {
    "collapsed": false
   },
   "outputs": [
    {
     "data": {
      "text/plain": [
       "<matplotlib.text.Text at 0x11681c160>"
      ]
     },
     "execution_count": 13,
     "metadata": {},
     "output_type": "execute_result"
    },
    {
     "data": {
      "image/png": "[encoded data removed]",
      "text/plain": [
       "<matplotlib.figure.Figure at 0x1166c4390>"
      ]
     },
     "metadata": {},
     "output_type": "display_data"
    }
   ],
   "source": [
    "# Plot Residuals\n",
    "\n",
    "lin_reg_residuals = y_train - y_train_pred\n",
    "\n",
    "plt.scatter(y_train, lin_reg_residuals)\n",
    "plt.plot([0,400], [0, 0])\n",
    "plt.title(\"Actual vs. Residuals\")"
   ]
  },
  {
   "cell_type": "markdown",
   "metadata": {},
   "source": [
    "### Lasso"
   ]
  },
  {
   "cell_type": "code",
   "execution_count": 14,
   "metadata": {
    "collapsed": false
   },
   "outputs": [
    {
     "name": "stdout",
     "output_type": "stream",
     "text": [
      "Lasso Model:\n"
     ]
    },
    {
     "data": {
      "text/plain": [
       "[mean: 0.47293, std: 0.06545, params: {'alpha': 0.0001},\n",
       " mean: 0.47295, std: 0.06543, params: {'alpha': 0.00016042171611153241},\n",
       " mean: 0.47297, std: 0.06540, params: {'alpha': 0.00025735127000169099},\n",
       " mean: 0.47301, std: 0.06535, params: {'alpha': 0.00041284732377153599},\n",
       " mean: 0.47307, std: 0.06526, params: {'alpha': 0.00066229676171483253},\n",
       " mean: 0.47315, std: 0.06512, params: {'alpha': 0.001062467830894041},\n",
       " mean: 0.47325, std: 0.06490, params: {'alpha': 0.0017044291274531946},\n",
       " mean: 0.47336, std: 0.06455, params: {'alpha': 0.0027342744561652328},\n",
       " mean: 0.47346, std: 0.06409, params: {'alpha': 0.0043863700057795363},\n",
       " mean: 0.47327, std: 0.06341, params: {'alpha': 0.0070366900382730557},\n",
       " mean: 0.47228, std: 0.06241, params: {'alpha': 0.011288378916846895},\n",
       " mean: 0.47213, std: 0.06036, params: {'alpha': 0.018109011179578204},\n",
       " mean: 0.47213, std: 0.05688, params: {'alpha': 0.029050786505108613},\n",
       " mean: 0.47203, std: 0.05188, params: {'alpha': 0.04660377025539271},\n",
       " mean: 0.47218, std: 0.04469, params: {'alpha': 0.074762568016376874},\n",
       " mean: 0.47149, std: 0.03461, params: {'alpha': 0.11993539462092344},\n",
       " mean: 0.46432, std: 0.02410, params: {'alpha': 0.19240241827602392},\n",
       " mean: 0.44924, std: 0.01544, params: {'alpha': 0.30865526123848624},\n",
       " mean: 0.42630, std: 0.01633, params: {'alpha': 0.49515006694731312},\n",
       " mean: 0.37600, std: 0.01891, params: {'alpha': 0.79432823472428149}]"
      ]
     },
     "execution_count": 14,
     "metadata": {},
     "output_type": "execute_result"
    },
    {
     "data": {
      "image/png": "[encoded data removed]",
      "text/plain": [
       "<matplotlib.figure.Figure at 0x1166cc908>"
      ]
     },
     "metadata": {},
     "output_type": "display_data"
    }
   ],
   "source": [
    "print(\"Lasso Model:\")\n",
    "params = {\n",
    "    \"alpha\": np.logspace(-4, -.1, 20)\n",
    "}\n",
    "\n",
    "grid_est = GridSearchCV(Lasso(), param_grid=params, cv=kfold)\n",
    "grid_est.fit(X_train, y_train)\n",
    "df = pd.DataFrame(grid_est.grid_scores_)\n",
    "df[\"alpha\"] = df.parameters.apply(lambda val: val[\"alpha\"])\n",
    "plt.plot(np.log(df.alpha), df.mean_validation_score);\n",
    "grid_est.grid_scores_"
   ]
  },
  {
   "cell_type": "code",
   "execution_count": 28,
   "metadata": {
    "collapsed": false
   },
   "outputs": [
    {
     "data": {
      "text/plain": [
       "Ridge(alpha=0.04660377025539271, copy_X=True, fit_intercept=True,\n",
       "   max_iter=None, normalize=False, random_state=None, solver='auto',\n",
       "   tol=0.001)"
      ]
     },
     "execution_count": 28,
     "metadata": {},
     "output_type": "execute_result"
    }
   ],
   "source": [
    "grid_est.best_estimator_"
   ]
  },
  {
   "cell_type": "code",
   "execution_count": 15,
   "metadata": {
    "collapsed": false
   },
   "outputs": [
    {
     "data": {
      "text/plain": [
       "array([  1.00000000e-04,   1.60421716e-04,   2.57351270e-04,\n",
       "         4.12847324e-04,   6.62296762e-04,   1.06246783e-03,\n",
       "         1.70442913e-03,   2.73427446e-03,   4.38637001e-03,\n",
       "         7.03669004e-03,   1.12883789e-02,   1.81090112e-02,\n",
       "         2.90507865e-02,   4.66037703e-02,   7.47625680e-02,\n",
       "         1.19935395e-01,   1.92402418e-01,   3.08655261e-01,\n",
       "         4.95150067e-01,   7.94328235e-01])"
      ]
     },
     "execution_count": 15,
     "metadata": {},
     "output_type": "execute_result"
    }
   ],
   "source": [
    "params['alpha']"
   ]
  },
  {
   "cell_type": "markdown",
   "metadata": {},
   "source": [
    "### Ridge"
   ]
  },
  {
   "cell_type": "code",
   "execution_count": 16,
   "metadata": {
    "collapsed": false
   },
   "outputs": [
    {
     "name": "stdout",
     "output_type": "stream",
     "text": [
      "Ridge Model:\n"
     ]
    },
    {
     "data": {
      "text/plain": [
       "[mean: 0.47296, std: 0.06544, params: {'alpha': 0.0001},\n",
       " mean: 0.47298, std: 0.06542, params: {'alpha': 0.00016042171611153241},\n",
       " mean: 0.47302, std: 0.06537, params: {'alpha': 0.00025735127000169099},\n",
       " mean: 0.47307, std: 0.06531, params: {'alpha': 0.00041284732377153599},\n",
       " mean: 0.47314, std: 0.06521, params: {'alpha': 0.00066229676171483253},\n",
       " mean: 0.47324, std: 0.06505, params: {'alpha': 0.001062467830894041},\n",
       " mean: 0.47334, std: 0.06483, params: {'alpha': 0.0017044291274531946},\n",
       " mean: 0.47342, std: 0.06453, params: {'alpha': 0.0027342744561652328},\n",
       " mean: 0.47345, std: 0.06411, params: {'alpha': 0.0043863700057795363},\n",
       " mean: 0.47343, std: 0.06354, params: {'alpha': 0.0070366900382730557},\n",
       " mean: 0.47339, std: 0.06278, params: {'alpha': 0.011288378916846895},\n",
       " mean: 0.47343, std: 0.06172, params: {'alpha': 0.018109011179578204},\n",
       " mean: 0.47358, std: 0.06024, params: {'alpha': 0.029050786505108613},\n",
       " mean: 0.47379, std: 0.05815, params: {'alpha': 0.04660377025539271},\n",
       " mean: 0.47374, std: 0.05528, params: {'alpha': 0.074762568016376874},\n",
       " mean: 0.47265, std: 0.05143, params: {'alpha': 0.11993539462092344},\n",
       " mean: 0.46906, std: 0.04646, params: {'alpha': 0.19240241827602392},\n",
       " mean: 0.46062, std: 0.04034, params: {'alpha': 0.30865526123848624},\n",
       " mean: 0.44439, std: 0.03332, params: {'alpha': 0.49515006694731312},\n",
       " mean: 0.41768, std: 0.02593, params: {'alpha': 0.79432823472428149}]"
      ]
     },
     "execution_count": 16,
     "metadata": {},
     "output_type": "execute_result"
    },
    {
     "data": {
      "image/png": "[encoded data removed]",
      "text/plain": [
       "<matplotlib.figure.Figure at 0x116a04550>"
      ]
     },
     "metadata": {},
     "output_type": "display_data"
    }
   ],
   "source": [
    "print(\"Ridge Model:\")\n",
    "params = {\n",
    "    \"alpha\": np.logspace(-4, -.1, 20)\n",
    "}\n",
    "\n",
    "grid_est = GridSearchCV(Ridge(), param_grid=params, cv=kfold)\n",
    "grid_est.fit(X_train, y_train)\n",
    "df = pd.DataFrame(grid_est.grid_scores_)\n",
    "df[\"alpha\"] = df.parameters.apply(lambda val: val[\"alpha\"])\n",
    "plt.plot(np.log(df.alpha), df.mean_validation_score);\n",
    "grid_est.grid_scores_"
   ]
  },
  {
   "cell_type": "markdown",
   "metadata": {},
   "source": [
    "### Make Functions for repeatable Code - DRY"
   ]
  },
  {
   "cell_type": "code",
   "execution_count": 17,
   "metadata": {
    "collapsed": false
   },
   "outputs": [],
   "source": [
    "def build_grid_search_est(model, X, y, cv=5, **params):\n",
    "    \n",
    "    grid_est = GridSearchCV(model, param_grid=params, cv=cv)\n",
    "    grid_est.fit(X, y)\n",
    "    df = pd.DataFrame(grid_est.grid_scores_)\n",
    "    for param in params:\n",
    "        df[param] = df.parameters.apply(lambda val: val[param])\n",
    "#         plt.plot(np.log(df.alpha), df.mean_validation_score);\n",
    "        plt.semilogx(df.alpha, df.mean_validation_score)\n",
    "    grid_est.grid_scores_\n",
    "    return grid_est"
   ]
  },
  {
   "cell_type": "code",
   "execution_count": 18,
   "metadata": {
    "collapsed": false
   },
   "outputs": [
    {
     "name": "stdout",
     "output_type": "stream",
     "text": [
      "Lasso Grid Search\n"
     ]
    },
    {
     "data": {
      "image/png": "[encoded data removed]",
      "text/plain": [
       "<matplotlib.figure.Figure at 0x1168e53c8>"
      ]
     },
     "metadata": {},
     "output_type": "display_data"
    }
   ],
   "source": [
    "print(\"Lasso Grid Search\")\n",
    "lasso_grid_est = build_grid_search_est(Lasso(), X_train, y_train, cv=kfold,\n",
    "                                       alpha=np.logspace(-4, 0.1, 30))"
   ]
  },
  {
   "cell_type": "code",
   "execution_count": 19,
   "metadata": {
    "collapsed": false
   },
   "outputs": [
    {
     "name": "stdout",
     "output_type": "stream",
     "text": [
      "Ridge Grid Search\n"
     ]
    },
    {
     "data": {
      "image/png": "[encoded data removed]",
      "text/plain": [
       "<matplotlib.figure.Figure at 0x11692f0b8>"
      ]
     },
     "metadata": {},
     "output_type": "display_data"
    }
   ],
   "source": [
    "print(\"Ridge Grid Search\")\n",
    "ridge_grid_est = build_grid_search_est(Ridge(), X_train, y_train, cv=kfold,\n",
    "                                       alpha=np.logspace(-4, 0.1, 10))"
   ]
  },
  {
   "cell_type": "code",
   "execution_count": 20,
   "metadata": {
    "collapsed": false
   },
   "outputs": [
    {
     "name": "stdout",
     "output_type": "stream",
     "text": [
      "Elastic Net Grid Search\n"
     ]
    },
    {
     "data": {
      "image/png": "[encoded data removed]",
      "text/plain": [
       "<matplotlib.figure.Figure at 0x1166a1278>"
      ]
     },
     "metadata": {},
     "output_type": "display_data"
    }
   ],
   "source": [
    "print(\"Elastic Net Grid Search\")\n",
    "elastic_net_grid_est = build_grid_search_est(ElasticNet(), X_train, y_train, cv=kfold,\n",
    "                                             alpha=np.logspace(-4, 0.1, 10))"
   ]
  },
  {
   "cell_type": "code",
   "execution_count": 21,
   "metadata": {
    "collapsed": false
   },
   "outputs": [
    {
     "name": "stdout",
     "output_type": "stream",
     "text": [
      "Lasso Grid Scores\n"
     ]
    },
    {
     "data": {
      "text/plain": [
       "[mean: 0.47293, std: 0.06545, params: {'alpha': 0.0001},\n",
       " mean: 0.47294, std: 0.06544, params: {'alpha': 0.00013847753058820778},\n",
       " mean: 0.47295, std: 0.06542, params: {'alpha': 0.00019176026477808002},\n",
       " mean: 0.47297, std: 0.06540, params: {'alpha': 0.00026554487931409402},\n",
       " mean: 0.47300, std: 0.06536, params: {'alpha': 0.00036771999147759357},\n",
       " mean: 0.47304, std: 0.06531, params: {'alpha': 0.00050920956367733977},\n",
       " mean: 0.47308, std: 0.06524, params: {'alpha': 0.0007051408292993675},\n",
       " mean: 0.47313, std: 0.06515, params: {'alpha': 0.00097646160758297273},\n",
       " mean: 0.47320, std: 0.06502, params: {'alpha': 0.0013521799213228151},\n",
       " mean: 0.47327, std: 0.06484, params: {'alpha': 0.0018724653641574052},\n",
       " mean: 0.47335, std: 0.06459, params: {'alpha': 0.0025929437974046669},\n",
       " mean: 0.47342, std: 0.06429, params: {'alpha': 0.0035906445401860804},\n",
       " mean: 0.47349, std: 0.06394, params: {'alpha': 0.0049722358914499921},\n",
       " mean: 0.47331, std: 0.06343, params: {'alpha': 0.006885429477500502},\n",
       " mean: 0.47256, std: 0.06308, params: {'alpha': 0.0095347727108352331},\n",
       " mean: 0.47213, std: 0.06184, params: {'alpha': 0.013203517797162936},\n",
       " mean: 0.47213, std: 0.06031, params: {'alpha': 0.018283905396285761},\n",
       " mean: 0.47216, std: 0.05806, params: {'alpha': 0.025319100687860589},\n",
       " mean: 0.47210, std: 0.05505, params: {'alpha': 0.03506126539969124},\n",
       " mean: 0.47199, std: 0.05135, params: {'alpha': 0.048551974518470147},\n",
       " mean: 0.47215, std: 0.04654, params: {'alpha': 0.067233575364993275},\n",
       " mean: 0.47208, std: 0.04034, params: {'alpha': 0.093103394891604296},\n",
       " mean: 0.47075, std: 0.03306, params: {'alpha': 0.1289272821396811},\n",
       " mean: 0.46584, std: 0.02581, params: {'alpha': 0.17853531656152186},\n",
       " mean: 0.45689, std: 0.01801, params: {'alpha': 0.247231297602235},\n",
       " mean: 0.44516, std: 0.01523, params: {'alpha': 0.34235979576075765},\n",
       " mean: 0.42906, std: 0.01604, params: {'alpha': 0.4740913908963289},\n",
       " mean: 0.40207, std: 0.01770, params: {'alpha': 0.65651005084452285},\n",
       " mean: 0.35178, std: 0.02018, params: {'alpha': 0.90911890647288263},\n",
       " mean: 0.26833, std: 0.02270, params: {'alpha': 1.2589254117941673}]"
      ]
     },
     "execution_count": 21,
     "metadata": {},
     "output_type": "execute_result"
    }
   ],
   "source": [
    "print(\"Lasso Grid Scores\")\n",
    "lasso_grid_est.grid_scores_"
   ]
  },
  {
   "cell_type": "code",
   "execution_count": 22,
   "metadata": {
    "collapsed": false
   },
   "outputs": [
    {
     "name": "stdout",
     "output_type": "stream",
     "text": [
      "Ridge Grid Scores\n"
     ]
    },
    {
     "data": {
      "text/plain": [
       "[mean: 0.47296, std: 0.06544, params: {'alpha': 0.0001},\n",
       " mean: 0.47303, std: 0.06536, params: {'alpha': 0.00028546676634979331},\n",
       " mean: 0.47318, std: 0.06515, params: {'alpha': 0.00081491274690207404},\n",
       " mean: 0.47339, std: 0.06464, params: {'alpha': 0.0023263050671536237},\n",
       " mean: 0.47343, std: 0.06362, params: {'alpha': 0.0066408278506348379},\n",
       " mean: 0.47344, std: 0.06160, params: {'alpha': 0.018957356524063752},\n",
       " mean: 0.47383, std: 0.05734, params: {'alpha': 0.054116952654646319},\n",
       " mean: 0.47116, std: 0.04891, params: {'alpha': 0.15448591479026733},\n",
       " mean: 0.44925, std: 0.03510, params: {'alpha': 0.44100594541767318},\n",
       " mean: 0.38032, std: 0.01922, params: {'alpha': 1.2589254117941673}]"
      ]
     },
     "execution_count": 22,
     "metadata": {},
     "output_type": "execute_result"
    }
   ],
   "source": [
    "print(\"Ridge Grid Scores\")\n",
    "ridge_grid_est.grid_scores_"
   ]
  },
  {
   "cell_type": "code",
   "execution_count": 23,
   "metadata": {
    "collapsed": false
   },
   "outputs": [
    {
     "name": "stdout",
     "output_type": "stream",
     "text": [
      "Elatic Net Grid Scores\n"
     ]
    },
    {
     "data": {
      "text/plain": [
       "[mean: 0.47340, std: 0.06204, params: {'alpha': 0.0001},\n",
       " mean: 0.47377, std: 0.05826, params: {'alpha': 0.00028546676634979331},\n",
       " mean: 0.47225, std: 0.05063, params: {'alpha': 0.00081491274690207404},\n",
       " mean: 0.45536, std: 0.03756, params: {'alpha': 0.0023263050671536237},\n",
       " mean: 0.39556, std: 0.02139, params: {'alpha': 0.0066408278506348379},\n",
       " mean: 0.28144, std: 0.01135, params: {'alpha': 0.018957356524063752},\n",
       " mean: 0.14974, std: 0.01137, params: {'alpha': 0.054116952654646319},\n",
       " mean: 0.05658, std: 0.01255, params: {'alpha': 0.15448591479026733},\n",
       " mean: 0.01127, std: 0.01336, params: {'alpha': 0.44100594541767318},\n",
       " mean: -0.00682, std: 0.01374, params: {'alpha': 1.2589254117941673}]"
      ]
     },
     "execution_count": 23,
     "metadata": {},
     "output_type": "execute_result"
    }
   ],
   "source": [
    "print(\"Elatic Net Grid Scores\")\n",
    "elastic_net_grid_est.grid_scores_"
   ]
  },
  {
   "cell_type": "markdown",
   "metadata": {},
   "source": [
    "### Evaluating Models using Holdout Set across these four models"
   ]
  },
  {
   "cell_type": "code",
   "execution_count": 24,
   "metadata": {
    "collapsed": false
   },
   "outputs": [
    {
     "name": "stdout",
     "output_type": "stream",
     "text": [
      "Linear Regression: 0.551425191499\n",
      "Lasso Regression: 0.553760859161\n",
      "Ridge Regression: 0.551665253276\n",
      "ElasticNet Regression: 0.551594377724\n"
     ]
    }
   ],
   "source": [
    "from sklearn.metrics import r2_score, mean_squared_error\n",
    "\n",
    "y_pred = lin_reg_est.predict(X_holdout)\n",
    "print(\"Linear Regression:\", r2_score(y_holdout, y_pred))\n",
    "\n",
    "y_pred = lasso_grid_est.predict(X_holdout)\n",
    "print(\"Lasso Regression:\", r2_score(y_holdout, y_pred))\n",
    "\n",
    "y_pred = ridge_grid_est.predict(X_holdout)\n",
    "print(\"Ridge Regression:\", r2_score(y_holdout, y_pred))\n",
    "\n",
    "y_pred = elastic_net_grid_est.predict(X_holdout)\n",
    "print(\"ElasticNet Regression:\", r2_score(y_holdout, y_pred))"
   ]
  },
  {
   "cell_type": "code",
   "execution_count": 25,
   "metadata": {
    "collapsed": false
   },
   "outputs": [
    {
     "data": {
      "text/html": [
       "<div>\n",
       "<style>\n",
       "    .dataframe thead tr:only-child th {\n",
       "        text-align: right;\n",
       "    }\n",
       "\n",
       "    .dataframe thead th {\n",
       "        text-align: left;\n",
       "    }\n",
       "\n",
       "    .dataframe tbody tr th {\n",
       "        vertical-align: top;\n",
       "    }\n",
       "</style>\n",
       "<table border=\"1\" class=\"dataframe\">\n",
       "  <thead>\n",
       "    <tr style=\"text-align: right;\">\n",
       "      <th></th>\n",
       "      <th>0</th>\n",
       "      <th>1</th>\n",
       "    </tr>\n",
       "  </thead>\n",
       "  <tbody>\n",
       "    <tr>\n",
       "      <th>0</th>\n",
       "      <td>0</td>\n",
       "      <td>18.066967</td>\n",
       "    </tr>\n",
       "    <tr>\n",
       "      <th>1</th>\n",
       "      <td>1</td>\n",
       "      <td>-257.366113</td>\n",
       "    </tr>\n",
       "    <tr>\n",
       "      <th>2</th>\n",
       "      <td>2</td>\n",
       "      <td>512.224987</td>\n",
       "    </tr>\n",
       "    <tr>\n",
       "      <th>3</th>\n",
       "      <td>3</td>\n",
       "      <td>332.956702</td>\n",
       "    </tr>\n",
       "    <tr>\n",
       "      <th>4</th>\n",
       "      <td>4</td>\n",
       "      <td>-578.071781</td>\n",
       "    </tr>\n",
       "    <tr>\n",
       "      <th>5</th>\n",
       "      <td>5</td>\n",
       "      <td>269.562539</td>\n",
       "    </tr>\n",
       "    <tr>\n",
       "      <th>6</th>\n",
       "      <td>6</td>\n",
       "      <td>-0.000000</td>\n",
       "    </tr>\n",
       "    <tr>\n",
       "      <th>7</th>\n",
       "      <td>7</td>\n",
       "      <td>195.616953</td>\n",
       "    </tr>\n",
       "    <tr>\n",
       "      <th>8</th>\n",
       "      <td>8</td>\n",
       "      <td>618.500529</td>\n",
       "    </tr>\n",
       "    <tr>\n",
       "      <th>9</th>\n",
       "      <td>9</td>\n",
       "      <td>70.196591</td>\n",
       "    </tr>\n",
       "  </tbody>\n",
       "</table>\n",
       "</div>"
      ],
      "text/plain": [
       "   0           1\n",
       "0  0   18.066967\n",
       "1  1 -257.366113\n",
       "2  2  512.224987\n",
       "3  3  332.956702\n",
       "4  4 -578.071781\n",
       "5  5  269.562539\n",
       "6  6   -0.000000\n",
       "7  7  195.616953\n",
       "8  8  618.500529\n",
       "9  9   70.196591"
      ]
     },
     "execution_count": 25,
     "metadata": {},
     "output_type": "execute_result"
    }
   ],
   "source": [
    "pd.DataFrame(list(zip(range(10), lasso_grid_est.best_estimator_.coef_)))"
   ]
  },
  {
   "cell_type": "markdown",
   "metadata": {},
   "source": [
    "### EDA"
   ]
  },
  {
   "cell_type": "code",
   "execution_count": 26,
   "metadata": {
    "collapsed": false
   },
   "outputs": [],
   "source": [
    "diabetes_df = pd.DataFrame(diabetes.data)\n",
    "diabetes_df.columns = [\"X\" + str(col) for col in diabetes_df.columns]\n",
    "diabetes_df[\"target\"] = diabetes.target"
   ]
  },
  {
   "cell_type": "code",
   "execution_count": 27,
   "metadata": {
    "collapsed": false
   },
   "outputs": [
    {
     "data": {
      "text/html": [
       "<div>\n",
       "<style>\n",
       "    .dataframe thead tr:only-child th {\n",
       "        text-align: right;\n",
       "    }\n",
       "\n",
       "    .dataframe thead th {\n",
       "        text-align: left;\n",
       "    }\n",
       "\n",
       "    .dataframe tbody tr th {\n",
       "        vertical-align: top;\n",
       "    }\n",
       "</style>\n",
       "<table border=\"1\" class=\"dataframe\">\n",
       "  <thead>\n",
       "    <tr style=\"text-align: right;\">\n",
       "      <th></th>\n",
       "      <th>X0</th>\n",
       "      <th>X1</th>\n",
       "      <th>X2</th>\n",
       "      <th>X3</th>\n",
       "      <th>X4</th>\n",
       "      <th>X5</th>\n",
       "      <th>X6</th>\n",
       "      <th>X7</th>\n",
       "      <th>X8</th>\n",
       "      <th>X9</th>\n",
       "      <th>target</th>\n",
       "    </tr>\n",
       "  </thead>\n",
       "  <tbody>\n",
       "    <tr>\n",
       "      <th>X0</th>\n",
       "      <td>1.000000</td>\n",
       "      <td>0.173737</td>\n",
       "      <td>0.185085</td>\n",
       "      <td>0.335427</td>\n",
       "      <td>0.260061</td>\n",
       "      <td>0.219243</td>\n",
       "      <td>-0.075181</td>\n",
       "      <td>0.203841</td>\n",
       "      <td>0.270777</td>\n",
       "      <td>0.301731</td>\n",
       "      <td>0.187889</td>\n",
       "    </tr>\n",
       "    <tr>\n",
       "      <th>X1</th>\n",
       "      <td>0.173737</td>\n",
       "      <td>1.000000</td>\n",
       "      <td>0.088161</td>\n",
       "      <td>0.241013</td>\n",
       "      <td>0.035277</td>\n",
       "      <td>0.142637</td>\n",
       "      <td>-0.379090</td>\n",
       "      <td>0.332115</td>\n",
       "      <td>0.149918</td>\n",
       "      <td>0.208133</td>\n",
       "      <td>0.043062</td>\n",
       "    </tr>\n",
       "    <tr>\n",
       "      <th>X2</th>\n",
       "      <td>0.185085</td>\n",
       "      <td>0.088161</td>\n",
       "      <td>1.000000</td>\n",
       "      <td>0.395415</td>\n",
       "      <td>0.249777</td>\n",
       "      <td>0.261170</td>\n",
       "      <td>-0.366811</td>\n",
       "      <td>0.413807</td>\n",
       "      <td>0.446159</td>\n",
       "      <td>0.388680</td>\n",
       "      <td>0.586450</td>\n",
       "    </tr>\n",
       "    <tr>\n",
       "      <th>X3</th>\n",
       "      <td>0.335427</td>\n",
       "      <td>0.241013</td>\n",
       "      <td>0.395415</td>\n",
       "      <td>1.000000</td>\n",
       "      <td>0.242470</td>\n",
       "      <td>0.185558</td>\n",
       "      <td>-0.178761</td>\n",
       "      <td>0.257653</td>\n",
       "      <td>0.393478</td>\n",
       "      <td>0.390429</td>\n",
       "      <td>0.441484</td>\n",
       "    </tr>\n",
       "    <tr>\n",
       "      <th>X4</th>\n",
       "      <td>0.260061</td>\n",
       "      <td>0.035277</td>\n",
       "      <td>0.249777</td>\n",
       "      <td>0.242470</td>\n",
       "      <td>1.000000</td>\n",
       "      <td>0.896663</td>\n",
       "      <td>0.051519</td>\n",
       "      <td>0.542207</td>\n",
       "      <td>0.515501</td>\n",
       "      <td>0.325717</td>\n",
       "      <td>0.212022</td>\n",
       "    </tr>\n",
       "    <tr>\n",
       "      <th>X5</th>\n",
       "      <td>0.219243</td>\n",
       "      <td>0.142637</td>\n",
       "      <td>0.261170</td>\n",
       "      <td>0.185558</td>\n",
       "      <td>0.896663</td>\n",
       "      <td>1.000000</td>\n",
       "      <td>-0.196455</td>\n",
       "      <td>0.659817</td>\n",
       "      <td>0.318353</td>\n",
       "      <td>0.290600</td>\n",
       "      <td>0.174054</td>\n",
       "    </tr>\n",
       "    <tr>\n",
       "      <th>X6</th>\n",
       "      <td>-0.075181</td>\n",
       "      <td>-0.379090</td>\n",
       "      <td>-0.366811</td>\n",
       "      <td>-0.178761</td>\n",
       "      <td>0.051519</td>\n",
       "      <td>-0.196455</td>\n",
       "      <td>1.000000</td>\n",
       "      <td>-0.738493</td>\n",
       "      <td>-0.398577</td>\n",
       "      <td>-0.273697</td>\n",
       "      <td>-0.394789</td>\n",
       "    </tr>\n",
       "    <tr>\n",
       "      <th>X7</th>\n",
       "      <td>0.203841</td>\n",
       "      <td>0.332115</td>\n",
       "      <td>0.413807</td>\n",
       "      <td>0.257653</td>\n",
       "      <td>0.542207</td>\n",
       "      <td>0.659817</td>\n",
       "      <td>-0.738493</td>\n",
       "      <td>1.000000</td>\n",
       "      <td>0.617857</td>\n",
       "      <td>0.417212</td>\n",
       "      <td>0.430453</td>\n",
       "    </tr>\n",
       "    <tr>\n",
       "      <th>X8</th>\n",
       "      <td>0.270777</td>\n",
       "      <td>0.149918</td>\n",
       "      <td>0.446159</td>\n",
       "      <td>0.393478</td>\n",
       "      <td>0.515501</td>\n",
       "      <td>0.318353</td>\n",
       "      <td>-0.398577</td>\n",
       "      <td>0.617857</td>\n",
       "      <td>1.000000</td>\n",
       "      <td>0.464670</td>\n",
       "      <td>0.565883</td>\n",
       "    </tr>\n",
       "    <tr>\n",
       "      <th>X9</th>\n",
       "      <td>0.301731</td>\n",
       "      <td>0.208133</td>\n",
       "      <td>0.388680</td>\n",
       "      <td>0.390429</td>\n",
       "      <td>0.325717</td>\n",
       "      <td>0.290600</td>\n",
       "      <td>-0.273697</td>\n",
       "      <td>0.417212</td>\n",
       "      <td>0.464670</td>\n",
       "      <td>1.000000</td>\n",
       "      <td>0.382483</td>\n",
       "    </tr>\n",
       "    <tr>\n",
       "      <th>target</th>\n",
       "      <td>0.187889</td>\n",
       "      <td>0.043062</td>\n",
       "      <td>0.586450</td>\n",
       "      <td>0.441484</td>\n",
       "      <td>0.212022</td>\n",
       "      <td>0.174054</td>\n",
       "      <td>-0.394789</td>\n",
       "      <td>0.430453</td>\n",
       "      <td>0.565883</td>\n",
       "      <td>0.382483</td>\n",
       "      <td>1.000000</td>\n",
       "    </tr>\n",
       "  </tbody>\n",
       "</table>\n",
       "</div>"
      ],
      "text/plain": [
       "              X0        X1        X2        X3        X4        X5        X6  \\\n",
       "X0      1.000000  0.173737  0.185085  0.335427  0.260061  0.219243 -0.075181   \n",
       "X1      0.173737  1.000000  0.088161  0.241013  0.035277  0.142637 -0.379090   \n",
       "X2      0.185085  0.088161  1.000000  0.395415  0.249777  0.261170 -0.366811   \n",
       "X3      0.335427  0.241013  0.395415  1.000000  0.242470  0.185558 -0.178761   \n",
       "X4      0.260061  0.035277  0.249777  0.242470  1.000000  0.896663  0.051519   \n",
       "X5      0.219243  0.142637  0.261170  0.185558  0.896663  1.000000 -0.196455   \n",
       "X6     -0.075181 -0.379090 -0.366811 -0.178761  0.051519 -0.196455  1.000000   \n",
       "X7      0.203841  0.332115  0.413807  0.257653  0.542207  0.659817 -0.738493   \n",
       "X8      0.270777  0.149918  0.446159  0.393478  0.515501  0.318353 -0.398577   \n",
       "X9      0.301731  0.208133  0.388680  0.390429  0.325717  0.290600 -0.273697   \n",
       "target  0.187889  0.043062  0.586450  0.441484  0.212022  0.174054 -0.394789   \n",
       "\n",
       "              X7        X8        X9    target  \n",
       "X0      0.203841  0.270777  0.301731  0.187889  \n",
       "X1      0.332115  0.149918  0.208133  0.043062  \n",
       "X2      0.413807  0.446159  0.388680  0.586450  \n",
       "X3      0.257653  0.393478  0.390429  0.441484  \n",
       "X4      0.542207  0.515501  0.325717  0.212022  \n",
       "X5      0.659817  0.318353  0.290600  0.174054  \n",
       "X6     -0.738493 -0.398577 -0.273697 -0.394789  \n",
       "X7      1.000000  0.617857  0.417212  0.430453  \n",
       "X8      0.617857  1.000000  0.464670  0.565883  \n",
       "X9      0.417212  0.464670  1.000000  0.382483  \n",
       "target  0.430453  0.565883  0.382483  1.000000  "
      ]
     },
     "execution_count": 27,
     "metadata": {},
     "output_type": "execute_result"
    }
   ],
   "source": [
    "diabetes_df.corr()"
   ]
  },
  {
   "cell_type": "code",
   "execution_count": null,
   "metadata": {
    "collapsed": false
   },
   "outputs": [],
   "source": [
    "sns.pairplot(diabetes_df)"
   ]
  },
  {
   "cell_type": "code",
   "execution_count": null,
   "metadata": {
    "collapsed": true
   },
   "outputs": [],
   "source": []
  }
 ],
 "metadata": {
  "anaconda-cloud": {},
  "kernelspec": {
   "display_name": "Python [default]",
   "language": "python",
   "name": "python3"
  },
  "language_info": {
   "codemirror_mode": {
    "name": "ipython",
    "version": 3
   },
   "file_extension": ".py",
   "mimetype": "text/x-python",
   "name": "python",
   "nbconvert_exporter": "python",
   "pygments_lexer": "ipython3",
   "version": "3.5.2"
  }
 },
 "nbformat": 4,
 "nbformat_minor": 0
}
