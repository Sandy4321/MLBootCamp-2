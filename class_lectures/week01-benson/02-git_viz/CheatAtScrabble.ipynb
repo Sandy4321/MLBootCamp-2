{
 "cells": [
  {
   "cell_type": "markdown",
   "metadata": {},
   "source": [
    "**Problem #3**"
   ]
  },
  {
   "cell_type": "code",
   "execution_count": 1,
   "metadata": {
    "collapsed": false
   },
   "outputs": [
    {
     "name": "stdout",
     "output_type": "stream",
     "text": [
      "--2017-09-19 10:46:35--  https://github.com/dolph/dictionary/blob/master/enable1.txt?raw=true\n",
      "Resolving github.com... 192.30.255.113, 192.30.255.112\n",
      "Connecting to github.com|192.30.255.113|:443... connected.\n",
      "HTTP request sent, awaiting response... 302 Found\n",
      "Location: https://github.com/dolph/dictionary/raw/master/enable1.txt [following]\n",
      "--2017-09-19 10:46:36--  https://github.com/dolph/dictionary/raw/master/enable1.txt\n",
      "Reusing existing connection to github.com:443.\n",
      "HTTP request sent, awaiting response... 302 Found\n",
      "Location: https://raw.githubusercontent.com/dolph/dictionary/master/enable1.txt [following]\n",
      "--2017-09-19 10:46:36--  https://raw.githubusercontent.com/dolph/dictionary/master/enable1.txt\n",
      "Resolving raw.githubusercontent.com... 151.101.128.133, 151.101.192.133, 151.101.0.133, ...\n",
      "Connecting to raw.githubusercontent.com|151.101.128.133|:443... connected.\n",
      "HTTP request sent, awaiting response... 200 OK\n",
      "Length: 1743363 (1.7M) [text/plain]\n",
      "Saving to: ‘enable1.txt’\n",
      "\n",
      "enable1.txt         100%[===================>]   1.66M   685KB/s    in 2.5s    \n",
      "\n",
      "2017-09-19 10:46:39 (685 KB/s) - ‘enable1.txt’ saved [1743363/1743363]\n",
      "\n"
     ]
    }
   ],
   "source": [
    "!wget -O enable1.txt https://github.com/dolph/dictionary/blob/master/enable1.txt?raw=true\n",
    "english_words = set([word.strip() for word in open('enable1.txt').readlines()])"
   ]
  },
  {
   "cell_type": "code",
   "execution_count": 2,
   "metadata": {
    "collapsed": false
   },
   "outputs": [
    {
     "name": "stdout",
     "output_type": "stream",
     "text": [
      "Number of words: 172823\n"
     ]
    }
   ],
   "source": [
    "print('Number of words: %d' % len(english_words))"
   ]
  },
  {
   "cell_type": "code",
   "execution_count": 3,
   "metadata": {
    "collapsed": false
   },
   "outputs": [],
   "source": [
    "from collections import Counter\n",
    "\n",
    "def CheatAtScrabble(letter_list):\n",
    "    \n",
    "    letter_list = [letter.lower() for letter in letter_list]\n",
    "    formable_words = []\n",
    "    \n",
    "    for word in english_words:\n",
    "        \n",
    "        word_letter_bag = Counter(letter_list)\n",
    "        word_letter_bag.subtract(Counter(word))\n",
    "        if all(leftover == 0 for leftover in word_letter_bag.values()):\n",
    "            formable_words.append(word)\n",
    "        \n",
    "    return formable_words"
   ]
  },
  {
   "cell_type": "code",
   "execution_count": 4,
   "metadata": {
    "collapsed": false
   },
   "outputs": [
    {
     "data": {
      "text/plain": [
       "['act', 'cat']"
      ]
     },
     "execution_count": 4,
     "metadata": {},
     "output_type": "execute_result"
    }
   ],
   "source": [
    "CheatAtScrabble(['C','A','T'])"
   ]
  },
  {
   "cell_type": "code",
   "execution_count": 5,
   "metadata": {
    "collapsed": false
   },
   "outputs": [
    {
     "data": {
      "text/plain": [
       "[]"
      ]
     },
     "execution_count": 5,
     "metadata": {},
     "output_type": "execute_result"
    }
   ],
   "source": [
    "CheatAtScrabble(['a','b','e','e','h','a'])"
   ]
  },
  {
   "cell_type": "code",
   "execution_count": 6,
   "metadata": {
    "collapsed": false
   },
   "outputs": [
    {
     "data": {
      "text/plain": [
       "['hello']"
      ]
     },
     "execution_count": 6,
     "metadata": {},
     "output_type": "execute_result"
    }
   ],
   "source": [
    "CheatAtScrabble(['e','h','l','o','l'])"
   ]
  }
 ],
 "metadata": {
  "kernelspec": {
   "display_name": "Python 3",
   "language": "python",
   "name": "python3"
  },
  "language_info": {
   "codemirror_mode": {
    "name": "ipython",
    "version": 3
   },
   "file_extension": ".py",
   "mimetype": "text/x-python",
   "name": "python",
   "nbconvert_exporter": "python",
   "pygments_lexer": "ipython3",
   "version": "3.6.0"
  }
 },
 "nbformat": 4,
 "nbformat_minor": 2
}
