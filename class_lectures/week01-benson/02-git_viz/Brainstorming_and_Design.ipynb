{
 "cells": [
  {
   "cell_type": "markdown",
   "metadata": {
    "slideshow": {
     "slide_type": "slide"
    }
   },
   "source": [
    "## Brainstorming and the Iterative Design Process"
   ]
  },
  {
   "cell_type": "markdown",
   "metadata": {
    "slideshow": {
     "slide_type": "slide"
    }
   },
   "source": [
    "### Iterative Design\n",
    "- For your projects, we'll emphasize an **Iterative** Design process, demonstrated visually with the following pipeline."
   ]
  },
  {
   "cell_type": "markdown",
   "metadata": {
    "slideshow": {
     "slide_type": "fragment"
    }
   },
   "source": [
    "<img src=\"img/design.png\"/>"
   ]
  },
  {
   "cell_type": "markdown",
   "metadata": {
    "slideshow": {
     "slide_type": "slide"
    }
   },
   "source": [
    "#### Empathize\n",
    "- Understand what a client/user needs.  \n",
    "- Put yourself in their position to be able to decide what sort of functionality would be valuable for them."
   ]
  },
  {
   "cell_type": "markdown",
   "metadata": {
    "slideshow": {
     "slide_type": "slide"
    }
   },
   "source": [
    "#### Define\n",
    "- Explicitly define the problem you're attempting to solve, including all known parameters.\n"
   ]
  },
  {
   "cell_type": "markdown",
   "metadata": {
    "slideshow": {
     "slide_type": "slide"
    }
   },
   "source": [
    "#### Ideate\n",
    "- Effectively, this is the *brainstorming* step\n",
    "- Think deeply about various approaches, functionality, issues, etc (more below)."
   ]
  },
  {
   "cell_type": "markdown",
   "metadata": {
    "slideshow": {
     "slide_type": "slide"
    }
   },
   "source": [
    "#### Prototype\n",
    "- This is any working copy of the system you're trying to build that solves the problem at hand.  \n",
    "- We're not so much concerned with how well it solves that problem--that's what the testing and iteration are for."
   ]
  },
  {
   "cell_type": "markdown",
   "metadata": {
    "slideshow": {
     "slide_type": "slide"
    }
   },
   "source": [
    "#### Test\n",
    "- Test your prototypes and see how well they do!  "
   ]
  },
  {
   "cell_type": "markdown",
   "metadata": {
    "slideshow": {
     "slide_type": "slide"
    }
   },
   "source": [
    "##### Definition of Done\n",
    "- Make sure you have specified (probably in the Define step) just how good is \"good enough\".\n",
    "- Write this down formally early on to make yourself stop when you've reached this point\n",
    "- Avoid the famous trap encapsulated by the saying \"better is the enemy of good enough\"."
   ]
  },
  {
   "cell_type": "markdown",
   "metadata": {
    "slideshow": {
     "slide_type": "slide"
    }
   },
   "source": [
    "#### Where's the Iteration?\n",
    "Ideate --> Prototype --> Test --> Repeat "
   ]
  },
  {
   "cell_type": "markdown",
   "metadata": {
    "slideshow": {
     "slide_type": "slide"
    }
   },
   "source": [
    "### Brainstorming for Benson\n",
    "1. Expansion Stage:\n",
    "  - Go wild. Get lots of ideas, including stupid ones.\n",
    "  - *Note: Stupid ideas are poison to your brain, so get them out! Also, they're also often brilliant ideas with a piece missing. Say your stupid ideas.*\n",
    "1. Grouping Stage:\n",
    "  - Find themes in the ideas you've spewed out and group them together\n",
    "1. Refine/Edit Stage:\n",
    "  - Pick the good ones and discard the stupid ideas that didn't end up inspiring brilliance, after all\n",
    "1. Voting Stage:\n",
    "  - Pick your course of action. Don't put undue significance on this step. It's important, but in the real world, if you're using iterative design, you'll have many chances to refine things later."
   ]
  },
  {
   "cell_type": "markdown",
   "metadata": {
    "slideshow": {
     "slide_type": "slide"
    }
   },
   "source": [
    "#### 7 Rules for brainstorming\n",
    "\n",
    "1. defer judgment\n",
    "2. encourage wild ideas\n",
    "3. build on ideas of others\n",
    "4. stay on topic\n",
    "5. one conversation at a time\n",
    "6. be visual\n",
    "7. go for quantity\n",
    "\n",
    "[More details on brainstorming rules.](http://sharkandminnow.com/the-seven-rules-of-brainstorming-created-by-ideo/)"
   ]
  },
  {
   "cell_type": "markdown",
   "metadata": {
    "slideshow": {
     "slide_type": "slide"
    }
   },
   "source": [
    "### Questions to brainstorm\n",
    "\n",
    "* Who is our user? A person? A company? A nonprofit?\n",
    "* What are their needs?\n",
    "* How can we help them with data science?\n",
    "* How can we convince them of that with our MTA data analysis?\n",
    "\n",
    "**Hint**: d.school techniques [found here, e.g.](http://dschool.stanford.edu/use-our-methods/) include several excellent ways to approach these problems.\n"
   ]
  }
 ],
 "metadata": {
  "anaconda-cloud": {},
  "celltoolbar": "Slideshow",
  "kernelspec": {
   "display_name": "Python [conda root]",
   "language": "python",
   "name": "conda-root-py"
  },
  "language_info": {
   "codemirror_mode": {
    "name": "ipython",
    "version": 3
   },
   "file_extension": ".py",
   "mimetype": "text/x-python",
   "name": "python",
   "nbconvert_exporter": "python",
   "pygments_lexer": "ipython3",
   "version": "3.5.2"
  }
 },
 "nbformat": 4,
 "nbformat_minor": 1
}
