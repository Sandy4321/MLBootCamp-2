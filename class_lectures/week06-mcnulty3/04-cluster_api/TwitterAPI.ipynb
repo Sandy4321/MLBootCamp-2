{
 "cells": [
  {
   "cell_type": "markdown",
   "metadata": {},
   "source": [
    "# Twitter API"
   ]
  },
  {
   "cell_type": "markdown",
   "metadata": {},
   "source": [
    "## Lecture Notes"
   ]
  },
  {
   "cell_type": "markdown",
   "metadata": {},
   "source": [
    "##### Why Twitter ?\n",
    "\n",
    "\n",
    "\"While physics and math may tell us how the universe began, they are not much use in predicting Human Behavior because there are far too many Equations to Solve\" \n",
    "    \n",
    "    -Stephan Hawking\n",
    "    "
   ]
  },
  {
   "cell_type": "markdown",
   "metadata": {},
   "source": [
    "#### Rest API vs Streaming API: \n",
    "\n",
    "\n",
    "REST:  \n",
    "    - Query user accounts using OAuth\n",
    "    - Allows you to access 'historical' tweets\n",
    "\n",
    "STREAM: \n",
    "    - Essentially long-running request (left Open) using OAuth\n",
    "    - Access realtime stream of data\n",
    "       "
   ]
  },
  {
   "cell_type": "markdown",
   "metadata": {},
   "source": [
    "#### Rest API"
   ]
  },
  {
   "cell_type": "code",
   "execution_count": 1,
   "metadata": {
    "collapsed": false
   },
   "outputs": [],
   "source": [
    "from __future__ import print_function\n",
    "import pandas as pd"
   ]
  },
  {
   "cell_type": "code",
   "execution_count": 2,
   "metadata": {
    "collapsed": false
   },
   "outputs": [],
   "source": [
    "# # pip install requests_oauthlib\n",
    "import requests\n",
    "from requests_oauthlib import OAuth1\n",
    "\n",
    "#OAuth ~ simple way to to publish & interact with data"
   ]
  },
  {
   "cell_type": "code",
   "execution_count": 4,
   "metadata": {
    "collapsed": false
   },
   "outputs": [],
   "source": [
    "# Importing our Config\n",
    "\n",
    "#pip install cnfg\n",
    "\n",
    "import cnfg\n",
    "config = cnfg.load(\"/Users/paulburkard/.twitter_config\")\n",
    "\n",
    "oauth = OAuth1(config[\"consumer_key\"],\n",
    "               config[\"consumer_secret\"],\n",
    "               config[\"access_token\"],\n",
    "               config[\"access_token_secret\"])"
   ]
  },
  {
   "cell_type": "code",
   "execution_count": 5,
   "metadata": {
    "collapsed": false
   },
   "outputs": [
    {
     "name": "stdout",
     "output_type": "stream",
     "text": [
      "is_quote_status\n",
      "id_str\n",
      "contributors\n",
      "geo\n",
      "favorite_count\n",
      "quoted_status_id\n",
      "text\n",
      "place\n",
      "entities\n",
      "possibly_sensitive\n",
      "in_reply_to_user_id_str\n",
      "coordinates\n",
      "quoted_status_id_str\n",
      "created_at\n",
      "in_reply_to_status_id\n",
      "lang\n",
      "retweeted\n",
      "retweeted_status\n",
      "in_reply_to_user_id\n",
      "in_reply_to_screen_name\n",
      "retweet_count\n",
      "truncated\n",
      "favorited\n",
      "source\n",
      "in_reply_to_status_id_str\n",
      "user\n",
      "id\n"
     ]
    }
   ],
   "source": [
    "response = requests.get(\"https://api.twitter.com/1.1/statuses/user_timeline.json\",\n",
    "                        auth=oauth)\n",
    "\n",
    "tweets = response.json()\n",
    "\n",
    "for key in tweets[0].keys():\n",
    "    print(key)\n",
    "    "
   ]
  },
  {
   "cell_type": "code",
   "execution_count": 6,
   "metadata": {
    "collapsed": false
   },
   "outputs": [
    {
     "name": "stdout",
     "output_type": "stream",
     "text": [
      "RT @chrisalbon: I mean... it is kinda true. https://t.co/K9eWp4mylm\n",
      "RT @mc2_maven: Just heard @BecomingDataSci's great talk on self-directed data science study at the #DemystifyDS talk today! Pick a specialt…\n",
      "\"Attention is old news\"...Oh how far we've come 😂 #MachineLearning #NLP #DeepLearning https://t.co/PWpRnemPgf\n",
      "@Cole_Kev Yeah I figured the causality was muddy\n",
      "@Cole_Kev Cool, might that suggest Thursday's approach is suboptimal for him?  Does a larger sample back that up?\n",
      "Cool cool, so when can I use?  :) #DeepLearning #MachineLearning https://t.co/yWWunypdIu\n",
      "@Cole_Kev What do Brady's #s look like as a function of air yards?\n",
      "Did a talk tonight playing with such a fun toy @Graphistry @thisismetis #DataScience #NetworkAnalysis https://t.co/sAgLA1Syx8\n",
      "I like these, much more exciting topics then usual for these kinds of forecasts #DataScience #MachineLearning https://t.co/yTne0Z4TeG\n",
      "It's better to be curious, full stop? https://t.co/qTSExnj7Vz\n",
      "#Students #DataScience #MachineLearning https://t.co/hP7zNh1JvQ\n",
      "RT @britsjournals: If Mayweather wins tonight I'll send everyone who likes and retweets $250 #MayweatherMcGregor #FloydMayweather #ConorMcG…\n",
      "More student awesomeness! #datascience #machinelearning https://t.co/6a6Iqdtv2X\n",
      "Thanks @slavivanov !  Gonna bookmark this for my @thisismetis students!  (and myself) 😁 #DataScience… https://t.co/ikBC7FhUg3\n",
      "@Cole_Kev Ah yes, I'm just gonna sit back here and watch... https://t.co/rSw946rUls\n",
      "Recommend anything by @chrisalbon to all aspiring Data Scientists, great at distilling #DataScience concepts for al… https://t.co/JTxO22EQRx\n",
      "More @thisismetis #DataScience projects!  #MachineLearning https://t.co/mrrDFA9TPZ\n",
      "@Deadspin @TheDailyShow @LastWeekTonight @Team_Bleezy Heartfelt tribute to a great man by @LegalMinefield #ripmooch https://t.co/2jxzwEGuVc\n",
      "@thisismetis students are the best @mattmurrayuk #DataScience #DeepLearning https://t.co/oWIBsjEos0\n",
      "Feel like I'm saying this every day, but thanks @Google @googleresearch https://t.co/Vad3Dhwpxz #DataScience #MachineLearning #DeepLearning\n"
     ]
    }
   ],
   "source": [
    "for tweet in tweets:\n",
    "    print(tweet['text'])"
   ]
  },
  {
   "cell_type": "code",
   "execution_count": 7,
   "metadata": {
    "collapsed": false
   },
   "outputs": [
    {
     "name": "stdout",
     "output_type": "stream",
     "text": [
      "{'completed_in': 0.067,\n",
      " 'count': 20,\n",
      " 'max_id': 923250005346893824,\n",
      " 'max_id_str': '923250005346893824',\n",
      " 'next_results': '?max_id=923249230390661120&q=trudeau&count=20&include_entities=1',\n",
      " 'query': 'trudeau',\n",
      " 'refresh_url': '?since_id=923250005346893824&q=trudeau&include_entities=1',\n",
      " 'since_id': 0,\n",
      " 'since_id_str': '0'}\n"
     ]
    }
   ],
   "source": [
    "parameters = {\"q\": \"trudeau\", \"count\":20}\n",
    "response = requests.get(\"https://api.twitter.com/1.1/search/tweets.json\",\n",
    "                        params = parameters,\n",
    "                        auth=oauth)\n",
    "\n",
    "from pprint import pprint\n",
    "pprint(response.json()['search_metadata'])"
   ]
  },
  {
   "cell_type": "code",
   "execution_count": 8,
   "metadata": {
    "collapsed": false
   },
   "outputs": [
    {
     "name": "stdout",
     "output_type": "stream",
     "text": [
      "PAGE 1\n",
      "923250005346893824 RT @AndrewScheer: Justin Trudeau has made the decision that our kids and grandkids will pay the bill for his uncontrolled spending: https:/…\n",
      "923249979602321408 RT @stephenlautens: The Sun is just mad Trudeau won't follow Harper's lead of trumpeting fiscal responsibility then running up historic def…\n",
      "923249931271458816 RT @SpencerFernando: By refusing to fire Morneau, Trudeau sends the message that he doesn't care about potential conflicts of interest. htt…\n",
      "923249929065086976 RT @SpencerFernando: By refusing to fire Morneau, Trudeau sends the message that he doesn't care about potential conflicts of interest. htt…\n",
      "923249839500079105 RT @DinoIsOut: @theJagmeetSingh @AndreaHorwath We love you Jagmeet! Take down Justin Trudeau in 2019!!!!!\n",
      "923249836882661376 RT @SpencerFernando: Why won't Trudeau tell the truth? https://t.co/TYJewDw0N8\n",
      "923249790430752768 RT @WakeUpCanada1: #Trudeau is @ Mississauga City Hall today; LOOK who he is sitting between, 2 individuals with VERY suspect credentials..…\n",
      "923249782587473920 RT @SpencerFernando: Trudeau &amp; #MoneybagsMorneau went around Canada demonizing small businesses while Morneau used loopholes. Disgraceful h…\n",
      "923249654258532352 RT @AndrewScheer: Justin Trudeau has made the decision that our kids and grandkids will pay the bill for his uncontrolled spending: https:/…\n",
      "923249615318716418 RT @WBrettWilson: Trudeau - things can’t get any worse for you Bill. Just relax. \n",
      "\n",
      "Morneau - hold my beer.... https://t.co/Ms1Yt2qIih\n",
      "923249580996640768 RT @AndrewScheer: Justin Trudeau has made the decision that our kids and grandkids will pay the bill for his uncontrolled spending: https:/…\n",
      "923249441124990976 RT @RavenHUWolf: No wonder Trudeau and #WillyPorno like one another. \n",
      "Two peas in a pod 😂😂😂😂\n",
      "#LiberalismIsAMentalDisorder https://t.co/KxOx…\n",
      "923249421504069632 RT @AlbertaGuy1114: @anastef62 @Kathy09355645 @RidgeLuka @JustinTrudeau check the trudeau foundation or pornobills Bahamas bank account\n",
      "923249415300767745 Tell Justin Trudeau to push back against Trump’s plans to open #ANWR to oil and gas drilling. https://t.co/mDswCpLMxV  ....\n",
      "923249400117374976 RT @AndrewScheer: Justin Trudeau has made the decision that our kids and grandkids will pay the bill for his uncontrolled spending: https:/…\n",
      "923249273113849856 RT @RavenHUWolf: What's trending in #Canada?\n",
      "\n",
      "This👇🏻😂😂😂😂😂😂\n",
      "Trudeau's Finance Minister's nickname is #WillyPorno.\n",
      "Plus, he liked to steal.…\n",
      "923249268533555201 @islayscotch @nathancullen @acoyne @liberal_party The best economy has nothing to do with Trudeau unless you think… https://t.co/WTEeccVJKW\n",
      "923249265408987136 By refusing to fire Morneau, Trudeau sends the message that he doesn't care about potential conflicts of interest. https://t.co/I43eXSFhA7\n",
      "923249237617340416 #Canada🇨🇦🇨🇦 Trudeau soon to be former PM should NOT be promoting #Immigration when #Canadians NEED JOBS! Islam has… https://t.co/aw5hmJgCDJ\n",
      "923249230390661121 RT @SpencerFernando: Trudeau &amp; #MoneybagsMorneau went around Canada demonizing small businesses while Morneau used loopholes. Disgraceful h…\n"
     ]
    }
   ],
   "source": [
    "tweets = response.json()['statuses']\n",
    "\n",
    "print('PAGE 1')\n",
    "for tweet in tweets:\n",
    "    print(tweet['id'], tweet['text'])"
   ]
  },
  {
   "cell_type": "code",
   "execution_count": 9,
   "metadata": {
    "collapsed": false
   },
   "outputs": [
    {
     "name": "stdout",
     "output_type": "stream",
     "text": [
      "PAGE 2\n",
      "RT @AndrewScheer: When Justin Trudeau gives with one hand, he takes more with the other. You can't trust him to give you a tax break. https…\n",
      "RT @GlennMcmillan14: #Trudeau warns Canadians,Don’t criticize my Moslems,,They’re off limits,! #Trudeau is deliberately,creating a racist c…\n",
      "@JustinTrudeau Hey hey ho ho Justin Trudeau has got to go Hey hey ho ho\n",
      "RT @stephenlautens: The Sun is just mad Trudeau won't follow Harper's lead of trumpeting fiscal responsibility then running up historic def…\n",
      "Trudeau does not appear impressed with Quebec’s attempt to clarify Bill 62: https://t.co/l03whuxUbt\n",
      "Tell Justin Trudeau to push back against Trump’s plans to open #ANWR to oil and gas drilling. https://t.co/mDswCpLMxV\n",
      "RT @ontarioisproud: RETWEET: Trudeau and Morneau have been caught going after diabetics while protecting their own tax shelters #cdnpoli ht…\n",
      "RT @AndrewScheer: Justin Trudeau has made the decision that our kids and grandkids will pay the bill for his uncontrolled spending: https:/…\n",
      "@anastef62 @Kathy09355645 @RidgeLuka @JustinTrudeau check the trudeau foundation or pornobills Bahamas bank account\n",
      "RT @WBrettWilson: Trudeau - things can’t get any worse for you Bill. Just relax. \n",
      "\n",
      "Morneau - hold my beer.... https://t.co/Ms1Yt2qIih\n",
      "RT @TheHillTimes: Trudeau PMO tightening control over ministerial staffing, ‘identical’ to Harper approach, says ex-Grit MP https://t.co/lz…\n",
      "RT @WBrettWilson: Trudeau - things can’t get any worse for you Bill. Just relax. \n",
      "\n",
      "Morneau - hold my beer.... https://t.co/Ms1Yt2qIih\n",
      "Canadian PM Trudeau better watch out, it's just a matter of time before there's an uprising in Canada. Canadians ar… https://t.co/qSYAUsNmRr\n",
      "RT @KarenPtbo: Trudeau is sending a dangerous message throughout the government: He doesn’t care about potential conflicts of interest. #cd…\n",
      "RT @KarenPtbo: Canadians are realizing that Trudeau is an increasingly dishonest and divisive politician. I've never seen CDN more divided…\n",
      "RT @LorenceHud: #TRUDEAU Crown VIOLATING MY RIGHT2 RELIGIOUS FREEDOM BY PROHIBITING ME FROM PRAYING BEFORE MY #Christian #Mom ASHES in  #Je…\n",
      "RT @Andromodid: AVOID CANADA while #Trudeau in office, LIKE THE PLAGUE! From one who knows! @LorenceHud @KimHarm63 @MountaineerFan4 @GlennM…\n",
      "RT @WBrettWilson: Trudeau - things can’t get any worse for you Bill. Just relax. \n",
      "\n",
      "Morneau - hold my beer.... https://t.co/Ms1Yt2qIih\n",
      "RT @RavenHUWolf: What's trending in #Canada?\n",
      "\n",
      "This👇🏻😂😂😂😂😂😂\n",
      "Trudeau's Finance Minister's nickname is #WillyPorno.\n",
      "Plus, he liked to steal.…\n",
      "@milesmeadows @NewsLeeks @KatNohio @deepakguptalaw @GOP @realDonaldTrump So it's yours exclusively?  Damn, and I ju… https://t.co/zM3zwA9Z3F\n"
     ]
    }
   ],
   "source": [
    "search_url = \"https://api.twitter.com/1.1/search/tweets.json\"\n",
    "next_page_url = search_url + response.json()['search_metadata']['next_results']\n",
    "\n",
    "response = requests.get(next_page_url, auth=oauth)\n",
    "\n",
    "print('PAGE 2')\n",
    "for tweet in response.json()['statuses']:\n",
    "    print(tweet['text'])"
   ]
  },
  {
   "cell_type": "markdown",
   "metadata": {
    "collapsed": false
   },
   "source": [
    "#### STREAMING API ~ TWEEPY"
   ]
  },
  {
   "cell_type": "code",
   "execution_count": 11,
   "metadata": {
    "collapsed": false
   },
   "outputs": [],
   "source": [
    "# pip install tweepy\n",
    "import tweepy\n",
    "\n",
    "auth = tweepy.OAuthHandler(config[\"consumer_key\"],\n",
    "                           config[\"consumer_secret\"])\n",
    "auth.set_access_token(config[\"access_token\"],\n",
    "                      config[\"access_token_secret\"])\n",
    "\n",
    "api=tweepy.API(auth)"
   ]
  },
  {
   "cell_type": "code",
   "execution_count": 12,
   "metadata": {
    "collapsed": false
   },
   "outputs": [
    {
     "name": "stdout",
     "output_type": "stream",
     "text": [
      "Status(is_quote_status=False, id_str='923250421363363840', in_reply_to_user_id_str=None, retweeted=False, in_reply_to_status_id=None, favorited=False, entities={'symbols': [], 'user_mentions': [{'indices': [3, 17], 'name': '🔔 ||| вєℓℓє ||| 🔔', 'id_str': '2211730434', 'screen_name': 'VABlueBelle17', 'id': 2211730434}], 'hashtags': [], 'urls': [{'display_url': 'twitter.com/i/moments/9229…', 'url': 'https://t.co/vryqsa2vVS', 'indices': [95, 118], 'expanded_url': 'https://twitter.com/i/moments/922912332363132928'}]}, _api=<tweepy.api.API object at 0x115470e10>, in_reply_to_status_id_str=None, favorite_count=0, author=User(profile_sidebar_fill_color='E6F6F9', id_str='863317525', entities={'url': {'urls': [{'display_url': 'edewese.wordpress.com', 'url': 'https://t.co/preX4dqhrY', 'indices': [0, 23], 'expanded_url': 'http://edewese.wordpress.com'}]}, 'description': {'urls': []}}, time_zone='Eastern Time (US & Canada)', utc_offset=-14400, url='https://t.co/preX4dqhrY', translator_type='none', protected=False, created_at=datetime.datetime(2012, 10, 5, 16, 25, 38), location='Narvon PA', profile_background_image_url='http://abs.twimg.com/images/themes/theme17/bg.gif', followers_count=2089, profile_use_background_image=True, profile_background_tile=False, listed_count=6, profile_background_image_url_https='https://abs.twimg.com/images/themes/theme17/bg.gif', has_extended_profile=False, profile_sidebar_border_color='DBE9ED', follow_request_sent=False, statuses_count=27152, screen_name='never_martha', profile_link_color='CC3366', contributors_enabled=False, profile_background_color='DBE9ED', default_profile_image=False, profile_banner_url='https://pbs.twimg.com/profile_banners/863317525/1508713736', following=False, verified=False, description='reader, writer, Gigi to Amelia & Ben, mom,Lib Dem,Obama 4ever #ImStillWithHer #ImpeachTrump Blocked by Baio #theresistance #fbr', profile_text_color='333333', _api=<tweepy.api.API object at 0x115470e10>, notifications=False, name='Elaine DeWese', lang='en', profile_image_url='http://pbs.twimg.com/profile_images/908385970122260480/nJX-WFQm_normal.jpg', is_translation_enabled=False, is_translator=False, friends_count=2320, geo_enabled=True, _json={'profile_link_color': 'CC3366', 'following': False, 'statuses_count': 27152, 'contributors_enabled': False, 'default_profile_image': False, 'profile_sidebar_fill_color': 'E6F6F9', 'profile_background_color': 'DBE9ED', 'created_at': 'Fri Oct 05 16:25:38 +0000 2012', 'entities': {'url': {'urls': [{'display_url': 'edewese.wordpress.com', 'url': 'https://t.co/preX4dqhrY', 'indices': [0, 23], 'expanded_url': 'http://edewese.wordpress.com'}]}, 'description': {'urls': []}}, 'profile_background_image_url_https': 'https://abs.twimg.com/images/themes/theme17/bg.gif', 'time_zone': 'Eastern Time (US & Canada)', 'utc_offset': -14400, 'url': 'https://t.co/preX4dqhrY', 'description': 'reader, writer, Gigi to Amelia & Ben, mom,Lib Dem,Obama 4ever #ImStillWithHer #ImpeachTrump Blocked by Baio #theresistance #fbr', 'is_translator': False, 'profile_text_color': '333333', 'translator_type': 'none', 'location': 'Narvon PA', 'followers_count': 2089, 'profile_sidebar_border_color': 'DBE9ED', 'protected': False, 'profile_image_url': 'http://pbs.twimg.com/profile_images/908385970122260480/nJX-WFQm_normal.jpg', 'name': 'Elaine DeWese', 'follow_request_sent': False, 'profile_background_image_url': 'http://abs.twimg.com/images/themes/theme17/bg.gif', 'lang': 'en', 'is_translation_enabled': False, 'profile_background_tile': False, 'notifications': False, 'profile_use_background_image': True, 'id_str': '863317525', 'screen_name': 'never_martha', 'friends_count': 2320, 'id': 863317525, 'listed_count': 6, 'default_profile': False, 'has_extended_profile': False, 'favourites_count': 75782, 'profile_banner_url': 'https://pbs.twimg.com/profile_banners/863317525/1508713736', 'profile_image_url_https': 'https://pbs.twimg.com/profile_images/908385970122260480/nJX-WFQm_normal.jpg', 'geo_enabled': True, 'verified': False}, favourites_count=75782, profile_image_url_https='https://pbs.twimg.com/profile_images/908385970122260480/nJX-WFQm_normal.jpg', id=863317525, default_profile=False), coordinates=None, metadata={'result_type': 'recent', 'iso_language_code': 'en'}, contributors=None, created_at=datetime.datetime(2017, 10, 25, 18, 10, 28), possibly_sensitive=False, lang='en', source_url='http://twitter.com/download/iphone', place=None, retweeted_status=Status(is_quote_status=False, id_str='923249813235425286', in_reply_to_user_id_str=None, retweeted=False, in_reply_to_status_id=None, favorited=False, entities={'symbols': [], 'user_mentions': [], 'hashtags': [], 'urls': [{'display_url': 'twitter.com/i/moments/9229…', 'url': 'https://t.co/vryqsa2vVS', 'indices': [76, 99], 'expanded_url': 'https://twitter.com/i/moments/922912332363132928'}]}, _api=<tweepy.api.API object at 0x115470e10>, in_reply_to_status_id_str=None, favorite_count=4, source='Twitter Web Client', author=User(profile_sidebar_fill_color='000000', id_str='2211730434', entities={'url': {'urls': [{'display_url': 'keybase.io/vabluebelle17', 'url': 'https://t.co/fCB6GOW9iw', 'indices': [0, 23], 'expanded_url': 'http://keybase.io/vabluebelle17'}]}, 'description': {'urls': []}}, time_zone='Eastern Time (US & Canada)', utc_offset=-14400, url='https://t.co/fCB6GOW9iw', translator_type='none', protected=False, created_at=datetime.datetime(2013, 11, 24, 2, 48, 3), location='LaLa Land, USA', profile_background_image_url='http://abs.twimg.com/images/themes/theme1/bg.png', followers_count=6098, profile_use_background_image=False, profile_background_tile=False, listed_count=5, profile_background_image_url_https='https://abs.twimg.com/images/themes/theme1/bg.png', has_extended_profile=False, profile_sidebar_border_color='000000', follow_request_sent=False, statuses_count=43443, screen_name='VABlueBelle17', profile_link_color='1B95E0', contributors_enabled=False, profile_background_color='000000', default_profile_image=False, profile_banner_url='https://pbs.twimg.com/profile_banners/2211730434/1507756534', following=False, verified=False, description='Moderate liberal w/no filters. Lover of SHEnanigans. No lists. #GeeksResist #TheResistance #Badassery #FBR #TrumpIsAMoron', profile_text_color='000000', _api=<tweepy.api.API object at 0x115470e10>, notifications=False, name='🔔 ||| вєℓℓє ||| 🔔', lang='en', profile_image_url='http://pbs.twimg.com/profile_images/917668470506119168/VBMLwjrd_normal.jpg', is_translation_enabled=False, is_translator=False, friends_count=6166, geo_enabled=False, _json={'profile_link_color': '1B95E0', 'following': False, 'statuses_count': 43443, 'contributors_enabled': False, 'default_profile_image': False, 'profile_sidebar_fill_color': '000000', 'profile_background_color': '000000', 'created_at': 'Sun Nov 24 02:48:03 +0000 2013', 'entities': {'url': {'urls': [{'display_url': 'keybase.io/vabluebelle17', 'url': 'https://t.co/fCB6GOW9iw', 'indices': [0, 23], 'expanded_url': 'http://keybase.io/vabluebelle17'}]}, 'description': {'urls': []}}, 'profile_background_image_url_https': 'https://abs.twimg.com/images/themes/theme1/bg.png', 'time_zone': 'Eastern Time (US & Canada)', 'utc_offset': -14400, 'url': 'https://t.co/fCB6GOW9iw', 'description': 'Moderate liberal w/no filters. Lover of SHEnanigans. No lists. #GeeksResist #TheResistance #Badassery #FBR #TrumpIsAMoron', 'is_translator': False, 'profile_text_color': '000000', 'translator_type': 'none', 'location': 'LaLa Land, USA', 'followers_count': 6098, 'profile_sidebar_border_color': '000000', 'protected': False, 'profile_image_url': 'http://pbs.twimg.com/profile_images/917668470506119168/VBMLwjrd_normal.jpg', 'name': '🔔 ||| вєℓℓє ||| 🔔', 'follow_request_sent': False, 'profile_background_image_url': 'http://abs.twimg.com/images/themes/theme1/bg.png', 'lang': 'en', 'is_translation_enabled': False, 'profile_background_tile': False, 'notifications': False, 'profile_use_background_image': False, 'id_str': '2211730434', 'screen_name': 'VABlueBelle17', 'friends_count': 6166, 'id': 2211730434, 'listed_count': 5, 'default_profile': False, 'has_extended_profile': False, 'favourites_count': 50214, 'profile_banner_url': 'https://pbs.twimg.com/profile_banners/2211730434/1507756534', 'profile_image_url_https': 'https://pbs.twimg.com/profile_images/917668470506119168/VBMLwjrd_normal.jpg', 'geo_enabled': False, 'verified': False}, favourites_count=50214, profile_image_url_https='https://pbs.twimg.com/profile_images/917668470506119168/VBMLwjrd_normal.jpg', id=2211730434, default_profile=False), coordinates=None, metadata={'result_type': 'recent', 'iso_language_code': 'en'}, contributors=None, created_at=datetime.datetime(2017, 10, 25, 18, 8, 3), possibly_sensitive=False, source_url='http://twitter.com', lang='en', place=None, in_reply_to_user_id=None, in_reply_to_screen_name=None, retweet_count=2, truncated=False, _json={'is_quote_status': False, 'id_str': '923249813235425286', 'favorite_count': 4, 'text': 'Or a brain...\\n\\n⚡️ “Is it time for Ivanka Trump to invest in a dictionary?”\\n\\nhttps://t.co/vryqsa2vVS', 'place': None, 'entities': {'symbols': [], 'user_mentions': [], 'hashtags': [], 'urls': [{'display_url': 'twitter.com/i/moments/9229…', 'url': 'https://t.co/vryqsa2vVS', 'indices': [76, 99], 'expanded_url': 'https://twitter.com/i/moments/922912332363132928'}]}, 'possibly_sensitive': False, 'in_reply_to_user_id_str': None, 'user': {'profile_link_color': '1B95E0', 'following': False, 'statuses_count': 43443, 'contributors_enabled': False, 'default_profile_image': False, 'profile_sidebar_fill_color': '000000', 'profile_background_color': '000000', 'created_at': 'Sun Nov 24 02:48:03 +0000 2013', 'entities': {'url': {'urls': [{'display_url': 'keybase.io/vabluebelle17', 'url': 'https://t.co/fCB6GOW9iw', 'indices': [0, 23], 'expanded_url': 'http://keybase.io/vabluebelle17'}]}, 'description': {'urls': []}}, 'profile_background_image_url_https': 'https://abs.twimg.com/images/themes/theme1/bg.png', 'time_zone': 'Eastern Time (US & Canada)', 'utc_offset': -14400, 'url': 'https://t.co/fCB6GOW9iw', 'description': 'Moderate liberal w/no filters. Lover of SHEnanigans. No lists. #GeeksResist #TheResistance #Badassery #FBR #TrumpIsAMoron', 'is_translator': False, 'profile_text_color': '000000', 'translator_type': 'none', 'location': 'LaLa Land, USA', 'followers_count': 6098, 'profile_sidebar_border_color': '000000', 'protected': False, 'profile_image_url': 'http://pbs.twimg.com/profile_images/917668470506119168/VBMLwjrd_normal.jpg', 'name': '🔔 ||| вєℓℓє ||| 🔔', 'follow_request_sent': False, 'profile_background_image_url': 'http://abs.twimg.com/images/themes/theme1/bg.png', 'lang': 'en', 'is_translation_enabled': False, 'profile_background_tile': False, 'notifications': False, 'profile_use_background_image': False, 'id_str': '2211730434', 'screen_name': 'VABlueBelle17', 'friends_count': 6166, 'id': 2211730434, 'listed_count': 5, 'default_profile': False, 'has_extended_profile': False, 'favourites_count': 50214, 'profile_banner_url': 'https://pbs.twimg.com/profile_banners/2211730434/1507756534', 'profile_image_url_https': 'https://pbs.twimg.com/profile_images/917668470506119168/VBMLwjrd_normal.jpg', 'geo_enabled': False, 'verified': False}, 'coordinates': None, 'metadata': {'result_type': 'recent', 'iso_language_code': 'en'}, 'contributors': None, 'created_at': 'Wed Oct 25 18:08:03 +0000 2017', 'in_reply_to_status_id': None, 'lang': 'en', 'retweeted': False, 'in_reply_to_user_id': None, 'in_reply_to_screen_name': None, 'retweet_count': 2, 'truncated': False, 'favorited': False, 'geo': None, 'in_reply_to_status_id_str': None, 'source': '<a href=\"http://twitter.com\" rel=\"nofollow\">Twitter Web Client</a>', 'id': 923249813235425286}, geo=None, text='Or a brain...\\n\\n⚡️ “Is it time for Ivanka Trump to invest in a dictionary?”\\n\\nhttps://t.co/vryqsa2vVS', user=User(profile_sidebar_fill_color='000000', id_str='2211730434', entities={'url': {'urls': [{'display_url': 'keybase.io/vabluebelle17', 'url': 'https://t.co/fCB6GOW9iw', 'indices': [0, 23], 'expanded_url': 'http://keybase.io/vabluebelle17'}]}, 'description': {'urls': []}}, time_zone='Eastern Time (US & Canada)', utc_offset=-14400, url='https://t.co/fCB6GOW9iw', translator_type='none', protected=False, created_at=datetime.datetime(2013, 11, 24, 2, 48, 3), location='LaLa Land, USA', profile_background_image_url='http://abs.twimg.com/images/themes/theme1/bg.png', followers_count=6098, profile_use_background_image=False, profile_background_tile=False, listed_count=5, profile_background_image_url_https='https://abs.twimg.com/images/themes/theme1/bg.png', has_extended_profile=False, profile_sidebar_border_color='000000', follow_request_sent=False, statuses_count=43443, screen_name='VABlueBelle17', profile_link_color='1B95E0', contributors_enabled=False, profile_background_color='000000', default_profile_image=False, profile_banner_url='https://pbs.twimg.com/profile_banners/2211730434/1507756534', following=False, verified=False, description='Moderate liberal w/no filters. Lover of SHEnanigans. No lists. #GeeksResist #TheResistance #Badassery #FBR #TrumpIsAMoron', profile_text_color='000000', _api=<tweepy.api.API object at 0x115470e10>, notifications=False, name='🔔 ||| вєℓℓє ||| 🔔', lang='en', profile_image_url='http://pbs.twimg.com/profile_images/917668470506119168/VBMLwjrd_normal.jpg', is_translation_enabled=False, is_translator=False, friends_count=6166, geo_enabled=False, _json={'profile_link_color': '1B95E0', 'following': False, 'statuses_count': 43443, 'contributors_enabled': False, 'default_profile_image': False, 'profile_sidebar_fill_color': '000000', 'profile_background_color': '000000', 'created_at': 'Sun Nov 24 02:48:03 +0000 2013', 'entities': {'url': {'urls': [{'display_url': 'keybase.io/vabluebelle17', 'url': 'https://t.co/fCB6GOW9iw', 'indices': [0, 23], 'expanded_url': 'http://keybase.io/vabluebelle17'}]}, 'description': {'urls': []}}, 'profile_background_image_url_https': 'https://abs.twimg.com/images/themes/theme1/bg.png', 'time_zone': 'Eastern Time (US & Canada)', 'utc_offset': -14400, 'url': 'https://t.co/fCB6GOW9iw', 'description': 'Moderate liberal w/no filters. Lover of SHEnanigans. No lists. #GeeksResist #TheResistance #Badassery #FBR #TrumpIsAMoron', 'is_translator': False, 'profile_text_color': '000000', 'translator_type': 'none', 'location': 'LaLa Land, USA', 'followers_count': 6098, 'profile_sidebar_border_color': '000000', 'protected': False, 'profile_image_url': 'http://pbs.twimg.com/profile_images/917668470506119168/VBMLwjrd_normal.jpg', 'name': '🔔 ||| вєℓℓє ||| 🔔', 'follow_request_sent': False, 'profile_background_image_url': 'http://abs.twimg.com/images/themes/theme1/bg.png', 'lang': 'en', 'is_translation_enabled': False, 'profile_background_tile': False, 'notifications': False, 'profile_use_background_image': False, 'id_str': '2211730434', 'screen_name': 'VABlueBelle17', 'friends_count': 6166, 'id': 2211730434, 'listed_count': 5, 'default_profile': False, 'has_extended_profile': False, 'favourites_count': 50214, 'profile_banner_url': 'https://pbs.twimg.com/profile_banners/2211730434/1507756534', 'profile_image_url_https': 'https://pbs.twimg.com/profile_images/917668470506119168/VBMLwjrd_normal.jpg', 'geo_enabled': False, 'verified': False}, favourites_count=50214, profile_image_url_https='https://pbs.twimg.com/profile_images/917668470506119168/VBMLwjrd_normal.jpg', id=2211730434, default_profile=False), id=923249813235425286), in_reply_to_user_id=None, in_reply_to_screen_name=None, retweet_count=2, truncated=False, _json={'is_quote_status': False, 'id_str': '923250421363363840', 'source': '<a href=\"http://twitter.com/download/iphone\" rel=\"nofollow\">Twitter for iPhone</a>', 'favorite_count': 0, 'text': 'RT @VABlueBelle17: Or a brain...\\n\\n⚡️ “Is it time for Ivanka Trump to invest in a dictionary?”\\n\\nhttps://t.co/vryqsa2vVS', 'place': None, 'entities': {'symbols': [], 'user_mentions': [{'indices': [3, 17], 'name': '🔔 ||| вєℓℓє ||| 🔔', 'id_str': '2211730434', 'screen_name': 'VABlueBelle17', 'id': 2211730434}], 'hashtags': [], 'urls': [{'display_url': 'twitter.com/i/moments/9229…', 'url': 'https://t.co/vryqsa2vVS', 'indices': [95, 118], 'expanded_url': 'https://twitter.com/i/moments/922912332363132928'}]}, 'possibly_sensitive': False, 'in_reply_to_user_id_str': None, 'coordinates': None, 'metadata': {'result_type': 'recent', 'iso_language_code': 'en'}, 'contributors': None, 'created_at': 'Wed Oct 25 18:10:28 +0000 2017', 'in_reply_to_status_id': None, 'lang': 'en', 'retweeted': False, 'retweeted_status': {'is_quote_status': False, 'id_str': '923249813235425286', 'favorite_count': 4, 'text': 'Or a brain...\\n\\n⚡️ “Is it time for Ivanka Trump to invest in a dictionary?”\\n\\nhttps://t.co/vryqsa2vVS', 'place': None, 'entities': {'symbols': [], 'user_mentions': [], 'hashtags': [], 'urls': [{'display_url': 'twitter.com/i/moments/9229…', 'url': 'https://t.co/vryqsa2vVS', 'indices': [76, 99], 'expanded_url': 'https://twitter.com/i/moments/922912332363132928'}]}, 'possibly_sensitive': False, 'in_reply_to_user_id_str': None, 'user': {'profile_link_color': '1B95E0', 'following': False, 'statuses_count': 43443, 'contributors_enabled': False, 'default_profile_image': False, 'profile_sidebar_fill_color': '000000', 'profile_background_color': '000000', 'created_at': 'Sun Nov 24 02:48:03 +0000 2013', 'entities': {'url': {'urls': [{'display_url': 'keybase.io/vabluebelle17', 'url': 'https://t.co/fCB6GOW9iw', 'indices': [0, 23], 'expanded_url': 'http://keybase.io/vabluebelle17'}]}, 'description': {'urls': []}}, 'profile_background_image_url_https': 'https://abs.twimg.com/images/themes/theme1/bg.png', 'time_zone': 'Eastern Time (US & Canada)', 'utc_offset': -14400, 'url': 'https://t.co/fCB6GOW9iw', 'description': 'Moderate liberal w/no filters. Lover of SHEnanigans. No lists. #GeeksResist #TheResistance #Badassery #FBR #TrumpIsAMoron', 'is_translator': False, 'profile_text_color': '000000', 'translator_type': 'none', 'location': 'LaLa Land, USA', 'followers_count': 6098, 'profile_sidebar_border_color': '000000', 'protected': False, 'profile_image_url': 'http://pbs.twimg.com/profile_images/917668470506119168/VBMLwjrd_normal.jpg', 'name': '🔔 ||| вєℓℓє ||| 🔔', 'follow_request_sent': False, 'profile_background_image_url': 'http://abs.twimg.com/images/themes/theme1/bg.png', 'lang': 'en', 'is_translation_enabled': False, 'profile_background_tile': False, 'notifications': False, 'profile_use_background_image': False, 'id_str': '2211730434', 'screen_name': 'VABlueBelle17', 'friends_count': 6166, 'id': 2211730434, 'listed_count': 5, 'default_profile': False, 'has_extended_profile': False, 'favourites_count': 50214, 'profile_banner_url': 'https://pbs.twimg.com/profile_banners/2211730434/1507756534', 'profile_image_url_https': 'https://pbs.twimg.com/profile_images/917668470506119168/VBMLwjrd_normal.jpg', 'geo_enabled': False, 'verified': False}, 'coordinates': None, 'metadata': {'result_type': 'recent', 'iso_language_code': 'en'}, 'contributors': None, 'created_at': 'Wed Oct 25 18:08:03 +0000 2017', 'in_reply_to_status_id': None, 'lang': 'en', 'retweeted': False, 'in_reply_to_user_id': None, 'in_reply_to_screen_name': None, 'retweet_count': 2, 'truncated': False, 'favorited': False, 'geo': None, 'in_reply_to_status_id_str': None, 'source': '<a href=\"http://twitter.com\" rel=\"nofollow\">Twitter Web Client</a>', 'id': 923249813235425286}, 'in_reply_to_user_id': None, 'in_reply_to_screen_name': None, 'retweet_count': 2, 'truncated': False, 'favorited': False, 'geo': None, 'in_reply_to_status_id_str': None, 'user': {'profile_link_color': 'CC3366', 'following': False, 'statuses_count': 27152, 'contributors_enabled': False, 'default_profile_image': False, 'profile_sidebar_fill_color': 'E6F6F9', 'profile_background_color': 'DBE9ED', 'created_at': 'Fri Oct 05 16:25:38 +0000 2012', 'entities': {'url': {'urls': [{'display_url': 'edewese.wordpress.com', 'url': 'https://t.co/preX4dqhrY', 'indices': [0, 23], 'expanded_url': 'http://edewese.wordpress.com'}]}, 'description': {'urls': []}}, 'profile_background_image_url_https': 'https://abs.twimg.com/images/themes/theme17/bg.gif', 'time_zone': 'Eastern Time (US & Canada)', 'utc_offset': -14400, 'url': 'https://t.co/preX4dqhrY', 'description': 'reader, writer, Gigi to Amelia & Ben, mom,Lib Dem,Obama 4ever #ImStillWithHer #ImpeachTrump Blocked by Baio #theresistance #fbr', 'is_translator': False, 'profile_text_color': '333333', 'translator_type': 'none', 'location': 'Narvon PA', 'followers_count': 2089, 'profile_sidebar_border_color': 'DBE9ED', 'protected': False, 'profile_image_url': 'http://pbs.twimg.com/profile_images/908385970122260480/nJX-WFQm_normal.jpg', 'name': 'Elaine DeWese', 'follow_request_sent': False, 'profile_background_image_url': 'http://abs.twimg.com/images/themes/theme17/bg.gif', 'lang': 'en', 'is_translation_enabled': False, 'profile_background_tile': False, 'notifications': False, 'profile_use_background_image': True, 'id_str': '863317525', 'screen_name': 'never_martha', 'friends_count': 2320, 'id': 863317525, 'listed_count': 6, 'default_profile': False, 'has_extended_profile': False, 'favourites_count': 75782, 'profile_banner_url': 'https://pbs.twimg.com/profile_banners/863317525/1508713736', 'profile_image_url_https': 'https://pbs.twimg.com/profile_images/908385970122260480/nJX-WFQm_normal.jpg', 'geo_enabled': True, 'verified': False}, 'id': 923250421363363840}, source='Twitter for iPhone', text='RT @VABlueBelle17: Or a brain...\\n\\n⚡️ “Is it time for Ivanka Trump to invest in a dictionary?”\\n\\nhttps://t.co/vryqsa2vVS', user=User(profile_sidebar_fill_color='E6F6F9', id_str='863317525', entities={'url': {'urls': [{'display_url': 'edewese.wordpress.com', 'url': 'https://t.co/preX4dqhrY', 'indices': [0, 23], 'expanded_url': 'http://edewese.wordpress.com'}]}, 'description': {'urls': []}}, time_zone='Eastern Time (US & Canada)', utc_offset=-14400, url='https://t.co/preX4dqhrY', translator_type='none', protected=False, created_at=datetime.datetime(2012, 10, 5, 16, 25, 38), location='Narvon PA', profile_background_image_url='http://abs.twimg.com/images/themes/theme17/bg.gif', followers_count=2089, profile_use_background_image=True, profile_background_tile=False, listed_count=6, profile_background_image_url_https='https://abs.twimg.com/images/themes/theme17/bg.gif', has_extended_profile=False, profile_sidebar_border_color='DBE9ED', follow_request_sent=False, statuses_count=27152, screen_name='never_martha', profile_link_color='CC3366', contributors_enabled=False, profile_background_color='DBE9ED', default_profile_image=False, profile_banner_url='https://pbs.twimg.com/profile_banners/863317525/1508713736', following=False, verified=False, description='reader, writer, Gigi to Amelia & Ben, mom,Lib Dem,Obama 4ever #ImStillWithHer #ImpeachTrump Blocked by Baio #theresistance #fbr', profile_text_color='333333', _api=<tweepy.api.API object at 0x115470e10>, notifications=False, name='Elaine DeWese', lang='en', profile_image_url='http://pbs.twimg.com/profile_images/908385970122260480/nJX-WFQm_normal.jpg', is_translation_enabled=False, is_translator=False, friends_count=2320, geo_enabled=True, _json={'profile_link_color': 'CC3366', 'following': False, 'statuses_count': 27152, 'contributors_enabled': False, 'default_profile_image': False, 'profile_sidebar_fill_color': 'E6F6F9', 'profile_background_color': 'DBE9ED', 'created_at': 'Fri Oct 05 16:25:38 +0000 2012', 'entities': {'url': {'urls': [{'display_url': 'edewese.wordpress.com', 'url': 'https://t.co/preX4dqhrY', 'indices': [0, 23], 'expanded_url': 'http://edewese.wordpress.com'}]}, 'description': {'urls': []}}, 'profile_background_image_url_https': 'https://abs.twimg.com/images/themes/theme17/bg.gif', 'time_zone': 'Eastern Time (US & Canada)', 'utc_offset': -14400, 'url': 'https://t.co/preX4dqhrY', 'description': 'reader, writer, Gigi to Amelia & Ben, mom,Lib Dem,Obama 4ever #ImStillWithHer #ImpeachTrump Blocked by Baio #theresistance #fbr', 'is_translator': False, 'profile_text_color': '333333', 'translator_type': 'none', 'location': 'Narvon PA', 'followers_count': 2089, 'profile_sidebar_border_color': 'DBE9ED', 'protected': False, 'profile_image_url': 'http://pbs.twimg.com/profile_images/908385970122260480/nJX-WFQm_normal.jpg', 'name': 'Elaine DeWese', 'follow_request_sent': False, 'profile_background_image_url': 'http://abs.twimg.com/images/themes/theme17/bg.gif', 'lang': 'en', 'is_translation_enabled': False, 'profile_background_tile': False, 'notifications': False, 'profile_use_background_image': True, 'id_str': '863317525', 'screen_name': 'never_martha', 'friends_count': 2320, 'id': 863317525, 'listed_count': 6, 'default_profile': False, 'has_extended_profile': False, 'favourites_count': 75782, 'profile_banner_url': 'https://pbs.twimg.com/profile_banners/863317525/1508713736', 'profile_image_url_https': 'https://pbs.twimg.com/profile_images/908385970122260480/nJX-WFQm_normal.jpg', 'geo_enabled': True, 'verified': False}, favourites_count=75782, profile_image_url_https='https://pbs.twimg.com/profile_images/908385970122260480/nJX-WFQm_normal.jpg', id=863317525, default_profile=False), geo=None, id=923250421363363840)\n"
     ]
    }
   ],
   "source": [
    "max_tweets=1\n",
    "\n",
    "#Tweepy Cursor handles pagination .. \n",
    "\n",
    "for tweet in tweepy.Cursor(api.search,q=\"ivanka\").items(max_tweets):\n",
    "    print(tweet)"
   ]
  },
  {
   "cell_type": "code",
   "execution_count": 13,
   "metadata": {
    "collapsed": false
   },
   "outputs": [],
   "source": [
    "results=[]\n",
    "\n",
    "\n",
    "for tweet in tweepy.Cursor(api.search,q=\"ivanka\").items(10):\n",
    "    results.append(tweet)"
   ]
  },
  {
   "cell_type": "markdown",
   "metadata": {},
   "source": [
    "#### Import tweets into Pandas"
   ]
  },
  {
   "cell_type": "code",
   "execution_count": 14,
   "metadata": {
    "collapsed": false
   },
   "outputs": [],
   "source": [
    "#  import pandas as pd\n",
    "def structure_results(results):\n",
    "    id_list=[tweet.id for tweet in results]\n",
    "    data=pd.DataFrame(id_list,columns=['id'])\n",
    "    \n",
    "    data[\"text\"]= [tweet.text.encode('utf-8') for tweet in results]\n",
    "    data[\"datetime\"]=[tweet.created_at for tweet in results]\n",
    "    data[\"Location\"]=[tweet.place for tweet in results]\n",
    "    \n",
    "    return data"
   ]
  },
  {
   "cell_type": "code",
   "execution_count": 15,
   "metadata": {
    "collapsed": false
   },
   "outputs": [
    {
     "data": {
      "text/html": [
       "<div>\n",
       "<style>\n",
       "    .dataframe thead tr:only-child th {\n",
       "        text-align: right;\n",
       "    }\n",
       "\n",
       "    .dataframe thead th {\n",
       "        text-align: left;\n",
       "    }\n",
       "\n",
       "    .dataframe tbody tr th {\n",
       "        vertical-align: top;\n",
       "    }\n",
       "</style>\n",
       "<table border=\"1\" class=\"dataframe\">\n",
       "  <thead>\n",
       "    <tr style=\"text-align: right;\">\n",
       "      <th></th>\n",
       "      <th>id</th>\n",
       "      <th>text</th>\n",
       "      <th>datetime</th>\n",
       "      <th>Location</th>\n",
       "    </tr>\n",
       "  </thead>\n",
       "  <tbody>\n",
       "    <tr>\n",
       "      <th>0</th>\n",
       "      <td>923250547888705537</td>\n",
       "      <td>b'@GOP @IvankaTrump...Ivanka you do not employ...</td>\n",
       "      <td>2017-10-25 18:10:58</td>\n",
       "      <td>None</td>\n",
       "    </tr>\n",
       "    <tr>\n",
       "      <th>1</th>\n",
       "      <td>923250543958675456</td>\n",
       "      <td>b\"RT @evepeyser: a running list of words Ivank...</td>\n",
       "      <td>2017-10-25 18:10:57</td>\n",
       "      <td>None</td>\n",
       "    </tr>\n",
       "    <tr>\n",
       "      <th>2</th>\n",
       "      <td>923250521510694913</td>\n",
       "      <td>b\"@JesseRikart I'm sure she's behind Jared, Iv...</td>\n",
       "      <td>2017-10-25 18:10:52</td>\n",
       "      <td>None</td>\n",
       "    </tr>\n",
       "    <tr>\n",
       "      <th>3</th>\n",
       "      <td>923250459787309056</td>\n",
       "      <td>b'RT @TheAVClub: Evidence continues to mount t...</td>\n",
       "      <td>2017-10-25 18:10:37</td>\n",
       "      <td>None</td>\n",
       "    </tr>\n",
       "    <tr>\n",
       "      <th>4</th>\n",
       "      <td>923250421363363840</td>\n",
       "      <td>b'RT @VABlueBelle17: Or a brain...\\n\\n\\xe2\\x9a...</td>\n",
       "      <td>2017-10-25 18:10:28</td>\n",
       "      <td>None</td>\n",
       "    </tr>\n",
       "  </tbody>\n",
       "</table>\n",
       "</div>"
      ],
      "text/plain": [
       "                   id                                               text  \\\n",
       "0  923250547888705537  b'@GOP @IvankaTrump...Ivanka you do not employ...   \n",
       "1  923250543958675456  b\"RT @evepeyser: a running list of words Ivank...   \n",
       "2  923250521510694913  b\"@JesseRikart I'm sure she's behind Jared, Iv...   \n",
       "3  923250459787309056  b'RT @TheAVClub: Evidence continues to mount t...   \n",
       "4  923250421363363840  b'RT @VABlueBelle17: Or a brain...\\n\\n\\xe2\\x9a...   \n",
       "\n",
       "             datetime Location  \n",
       "0 2017-10-25 18:10:58     None  \n",
       "1 2017-10-25 18:10:57     None  \n",
       "2 2017-10-25 18:10:52     None  \n",
       "3 2017-10-25 18:10:37     None  \n",
       "4 2017-10-25 18:10:28     None  "
      ]
     },
     "execution_count": 15,
     "metadata": {},
     "output_type": "execute_result"
    }
   ],
   "source": [
    "data=structure_results(results)\n",
    "data.head()"
   ]
  },
  {
   "cell_type": "markdown",
   "metadata": {},
   "source": [
    "#### Import Tweets into MongoDB\n",
    "\n",
    "Install mongo locally with brew:    \n",
    "```\n",
    "brew update    \n",
    "brew install mongodb\n",
    "```\n",
    "After downloading mongo, we want to create a place for mongo data files to live.  Run:    \n",
    "```\n",
    "sudo mkdir -p /data/db\n",
    "```\n",
    "Make sure that /data/db directory has the right permissions:\n",
    "\n",
    "```\n",
    "sudo chown `active_username` /data/db\n",
    "(enter password) \n",
    "```\n",
    "\n",
    "(username ~ is just mac username (you can double\n",
    "check this by running 'whoami' in the terminal)\n",
    "\n",
    "\n",
    "Run mongo daemon:\n",
    "```\n",
    "mongod\n",
    "```\n",
    "\n",
    "(In order to access direct mongo functionality, you can just\n",
    "run 'mongo' in a separate terminal)"
   ]
  },
  {
   "cell_type": "code",
   "execution_count": 32,
   "metadata": {
    "collapsed": false
   },
   "outputs": [],
   "source": [
    "import json\n",
    "from pymongo import MongoClient\n",
    "\n",
    "\n",
    "client = MongoClient()\n",
    "db = client.legislation\n",
    "tweets = db.news"
   ]
  },
  {
   "cell_type": "code",
   "execution_count": 33,
   "metadata": {
    "collapsed": false
   },
   "outputs": [],
   "source": [
    "for tweet in results:\n",
    "    data={}\n",
    "    data['tweet']=tweet.text.encode('utf-8') \n",
    "    data['datetime']=tweet.created_at\n",
    "    tweets.insert_one(data)"
   ]
  },
  {
   "cell_type": "code",
   "execution_count": 34,
   "metadata": {
    "collapsed": false
   },
   "outputs": [
    {
     "data": {
      "text/plain": [
       "{u'_id': ObjectId('58a5edea24b5a5ef350e7da8'),\n",
       " u'datetime': datetime.datetime(2017, 2, 16, 18, 19, 45),\n",
       " u'tweet': u'RT @MrTommyCampbell: Donald Trump \"No President\\'s done so much in so little time.\"\\n\\nYou mean:\\nLies\\nIvanka promos\\nRussian deals\\nKilling \\U0001f30e\\nHi\\u2026'}"
      ]
     },
     "execution_count": 34,
     "metadata": {},
     "output_type": "execute_result"
    }
   ],
   "source": [
    "tweets.find_one()"
   ]
  },
  {
   "cell_type": "code",
   "execution_count": null,
   "metadata": {
    "collapsed": true
   },
   "outputs": [],
   "source": []
  }
 ],
 "metadata": {
  "anaconda-cloud": {},
  "kernelspec": {
   "display_name": "Python [conda root]",
   "language": "python",
   "name": "conda-root-py"
  },
  "language_info": {
   "codemirror_mode": {
    "name": "ipython",
    "version": 3
   },
   "file_extension": ".py",
   "mimetype": "text/x-python",
   "name": "python",
   "nbconvert_exporter": "python",
   "pygments_lexer": "ipython3",
   "version": "3.5.2"
  }
 },
 "nbformat": 4,
 "nbformat_minor": 0
}
