{
 "cells": [
  {
   "cell_type": "code",
   "execution_count": 1,
   "metadata": {
    "collapsed": true
   },
   "outputs": [],
   "source": [
    "# Python 2 & 3 Compatibility\n",
    "from __future__ import print_function, division"
   ]
  },
  {
   "cell_type": "code",
   "execution_count": 2,
   "metadata": {
    "collapsed": true
   },
   "outputs": [],
   "source": [
    "import numpy as np\n",
    "from scipy import stats\n",
    "import matplotlib.pyplot as plt\n",
    "import pandas as pd\n",
    "\n",
    "%matplotlib inline"
   ]
  },
  {
   "cell_type": "markdown",
   "metadata": {
    "collapsed": false
   },
   "source": [
    "## Probability Intro\n",
    "\n",
    "A *random variable* is an entity that takes on one of a range of possible values, each with a certain probability.  So, for example, each toss of a coin or roll of a die is a distinct realization of a random variable.  Often, we think of our \"rows\" of data as realizations of a (very complicated) random variable.\n",
    "\n",
    "Imagine a sequence where a coin is flipped that has probability .6 of being heads and two dice are rolled.  One of the dice is a standard 6-sided die, but the other is a loaded die where the probabilities of the six sided are unbalanced.  Specifically, on the loaded die, the probability of a 1 is 1/2 while the probabilities of the other 5 sides are each 0.1.  An observer sees the result of one of the dice, depending on the coin toss.  If the coin is heads the observer sees the fair die, but if it is tails, she sees the loaded die.  However, the observer does not know which die she is seeing, she just sees the result.\n",
    "\n",
    "In this scenario, what are the different random variables that we could define?\n"
   ]
  },
  {
   "cell_type": "markdown",
   "metadata": {},
   "source": [
    "Below we will simulate many repeated trials of these random variables to try to develop some intuition around probability."
   ]
  },
  {
   "cell_type": "code",
   "execution_count": 3,
   "metadata": {
    "collapsed": true
   },
   "outputs": [],
   "source": [
    "#Set the number of trials\n",
    "num_obs = 1000"
   ]
  },
  {
   "cell_type": "code",
   "execution_count": null,
   "metadata": {
    "collapsed": true
   },
   "outputs": [],
   "source": [
    "# Simulate a coin toss (or more accurately num_obs of them)\n",
    "# We will use the convention that \"heads\" is 1 and \"tails\" is 0\n",
    "np.random.seed(42)\n",
    "\n",
    "coin_toss = np.random.binomial(1,.6, num_obs)"
   ]
  },
  {
   "cell_type": "code",
   "execution_count": 16,
   "metadata": {
    "collapsed": false
   },
   "outputs": [
    {
     "data": {
      "text/plain": [
       "array([1, 0, 0, 1, 1, 1, 1, 0, 0, 0, 1, 0, 0, 1, 1, 1, 1, 1, 1, 1, 0, 1, 1,\n",
       "       1, 1, 0, 1, 1, 1, 1, 0, 1, 1, 0, 0, 0, 1, 1, 0, 1, 1, 1, 1, 0, 1, 0,\n",
       "       1, 1, 1, 1, 0, 0, 0, 0, 1, 0, 1, 1, 1, 1, 1, 1, 0, 1, 1, 1, 1, 0, 1,\n",
       "       0, 0, 1, 1, 0, 0, 0, 0, 1, 1, 1, 0, 0, 1, 1, 1, 1, 0, 0, 0, 1, 1, 0,\n",
       "       0, 1, 0, 1, 1, 1, 1, 1, 1, 0, 1, 1, 0, 1, 1, 0, 1, 1, 1, 1, 0, 0, 0,\n",
       "       0, 0, 1, 0, 1, 0, 0, 1, 1, 1, 1, 0, 0, 1, 1, 1, 1, 1, 1, 0, 1, 1, 0,\n",
       "       1, 0, 0, 1, 1, 1, 1, 1, 0, 1, 1, 1, 0, 1, 1, 1, 0, 1, 0, 0, 1, 0, 1,\n",
       "       0, 0, 1, 1, 0, 1, 1, 1, 1, 0, 1, 1, 1, 0, 1, 0, 1, 0, 1, 1, 1, 0, 0,\n",
       "       1, 0, 0, 1, 1, 1, 1, 0, 0, 0, 1, 1, 0, 0, 0, 0, 0, 1, 1, 0, 0, 1, 1,\n",
       "       0, 1, 1, 1, 0, 0, 1, 0, 1, 1, 0, 0, 0, 0, 1, 1, 1, 1, 1, 0, 1, 0, 0,\n",
       "       0, 1, 1, 1, 1, 0, 1, 1, 0, 1, 0, 0, 0, 1, 1, 0, 1, 0, 0, 0, 1, 1, 0,\n",
       "       1, 1, 1, 0, 0, 1, 1, 0, 0, 1, 1, 0, 0, 0, 0, 1, 1, 0, 0, 0, 0, 1, 1,\n",
       "       0, 0, 0, 0, 0, 1, 1, 1, 1, 1, 1, 1, 1, 1, 1, 1, 0, 1, 1, 1, 0, 1, 0,\n",
       "       1, 1, 1, 1, 0, 0, 0, 1, 1, 0, 1, 1, 1, 1, 0, 0, 0, 1, 1, 1, 1, 1, 0,\n",
       "       0, 1, 0, 0, 1, 0, 1, 1, 1, 0, 1, 1, 1, 1, 0, 0, 1, 1, 1, 1, 1, 1, 1,\n",
       "       0, 0, 1, 1, 0, 1, 0, 0, 1, 1, 0, 1, 1, 0, 1, 1, 0, 1, 1, 0, 1, 0, 0,\n",
       "       1, 1, 1, 1, 1, 0, 1, 1, 0, 1, 0, 1, 1, 0, 0, 0, 0, 0, 1, 1, 0, 0, 0,\n",
       "       1, 1, 0, 1, 0, 0, 1, 0, 0, 1, 0, 1, 0, 1, 0, 1, 1, 0, 1, 1, 0, 0, 1,\n",
       "       0, 1, 1, 1, 0, 0, 0, 0, 1, 1, 1, 1, 1, 0, 1, 1, 1, 0, 0, 1, 1, 0, 1,\n",
       "       0, 0, 1, 1, 0, 1, 1, 0, 0, 0, 0, 1, 1, 0, 1, 1, 0, 1, 1, 1, 1, 1, 1,\n",
       "       1, 0, 0, 1, 0, 1, 1, 0, 1, 0, 1, 0, 1, 0, 1, 0, 1, 1, 0, 1, 0, 0, 1,\n",
       "       0, 1, 0, 1, 1, 0, 0, 1, 0, 1, 1, 1, 1, 1, 1, 0, 0, 0, 1, 1, 0, 0, 1,\n",
       "       0, 0, 0, 0, 0, 1, 0, 0, 1, 1, 1, 0, 0, 1, 1, 1, 0, 0, 0, 1, 1, 1, 1,\n",
       "       0, 0, 0, 0, 1, 0, 0, 0, 1, 1, 1, 0, 0, 1, 0, 0, 1, 1, 0, 1, 0, 1, 0,\n",
       "       1, 1, 0, 1, 1, 1, 0, 0, 0, 1, 1, 1, 1, 1, 1, 1, 0, 1, 1, 0, 1, 0, 0,\n",
       "       0, 1, 0, 1, 1, 1, 0, 1, 1, 0, 1, 1, 1, 1, 1, 1, 0, 1, 1, 0, 1, 0, 1,\n",
       "       1, 1, 1, 1, 1, 1, 1, 1, 1, 1, 1, 0, 1, 0, 0, 1, 0, 0, 1, 1, 0, 0, 1,\n",
       "       1, 1, 1, 0, 1, 1, 0, 1, 1, 0, 0, 1, 1, 1, 1, 1, 1, 1, 1, 1, 1, 1, 1,\n",
       "       1, 0, 1, 0, 0, 1, 1, 1, 1, 0, 1, 1, 1, 1, 0, 1, 1, 0, 0, 1, 1, 1, 1,\n",
       "       1, 1, 1, 1, 0, 1, 1, 1, 0, 1, 1, 0, 0, 0, 1, 1, 0, 0, 1, 1, 1, 0, 1,\n",
       "       1, 1, 1, 1, 1, 0, 1, 1, 1, 1, 1, 1, 1, 1, 1, 0, 1, 0, 1, 0, 0, 1, 1,\n",
       "       1, 1, 0, 0, 0, 1, 0, 0, 1, 1, 0, 1, 0, 1, 0, 1, 1, 1, 0, 0, 1, 1, 0,\n",
       "       1, 0, 1, 1, 1, 1, 0, 1, 1, 0, 1, 1, 0, 0, 1, 0, 0, 1, 1, 0, 0, 1, 0,\n",
       "       0, 1, 1, 1, 0, 1, 1, 0, 0, 1, 0, 1, 0, 1, 1, 0, 1, 1, 0, 0, 0, 0, 1,\n",
       "       1, 1, 1, 0, 1, 1, 1, 0, 1, 1, 1, 0, 1, 0, 0, 1, 0, 0, 0, 1, 1, 0, 1,\n",
       "       0, 0, 0, 1, 1, 0, 0, 1, 0, 0, 1, 1, 1, 1, 1, 0, 1, 1, 1, 1, 0, 1, 1,\n",
       "       0, 1, 1, 1, 1, 1, 1, 1, 0, 1, 1, 0, 1, 0, 1, 0, 1, 1, 1, 0, 1, 1, 1,\n",
       "       0, 1, 0, 1, 1, 1, 1, 1, 1, 0, 1, 1, 1, 1, 1, 1, 1, 0, 0, 1, 1, 0, 1,\n",
       "       1, 1, 0, 0, 1, 1, 1, 0, 1, 1, 0, 1, 0, 1, 1, 1, 0, 0, 0, 1, 0, 1, 1,\n",
       "       0, 1, 1, 1, 1, 1, 1, 1, 0, 0, 1, 1, 1, 1, 1, 0, 1, 1, 1, 1, 0, 0, 1,\n",
       "       0, 1, 0, 0, 1, 1, 1, 1, 0, 1, 1, 0, 0, 1, 1, 1, 1, 0, 1, 1, 1, 1, 0,\n",
       "       0, 1, 1, 1, 0, 0, 1, 0, 0, 1, 0, 1, 1, 1, 1, 1, 0, 1, 0, 1, 1, 1, 1,\n",
       "       0, 1, 1, 1, 0, 0, 0, 1, 1, 1, 1, 1, 1, 1, 1, 0, 1, 1, 0, 1, 0, 1, 1,\n",
       "       0, 0, 0, 1, 1, 1, 1, 0, 1, 0, 1])"
      ]
     },
     "execution_count": 16,
     "metadata": {},
     "output_type": "execute_result"
    }
   ],
   "source": [
    "coin_toss"
   ]
  },
  {
   "cell_type": "code",
   "execution_count": 6,
   "metadata": {
    "collapsed": false
   },
   "outputs": [
    {
     "data": {
      "text/plain": [
       "1    613\n",
       "0    387\n",
       "dtype: int64"
      ]
     },
     "execution_count": 6,
     "metadata": {},
     "output_type": "execute_result"
    }
   ],
   "source": [
    "#Type some code here to convince yourself that the data looks right\n",
    "# E.g. plot, look at the raw data, look at summary statistics of the data\n",
    "\n",
    "pd.Series(coin_toss).value_counts()"
   ]
  },
  {
   "cell_type": "code",
   "execution_count": 5,
   "metadata": {
    "collapsed": false
   },
   "outputs": [
    {
     "data": {
      "text/plain": [
       "(array([ 387.,    0.,    0.,    0.,    0.,    0.,    0.,    0.,    0.,  613.]),\n",
       " array([ 0. ,  0.1,  0.2,  0.3,  0.4,  0.5,  0.6,  0.7,  0.8,  0.9,  1. ]),\n",
       " <a list of 10 Patch objects>)"
      ]
     },
     "execution_count": 5,
     "metadata": {},
     "output_type": "execute_result"
    },
    {
     "data": {
      "image/png": "[encoded data removed]",
      "text/plain": [
       "<matplotlib.figure.Figure at 0x10eea35f8>"
      ]
     },
     "metadata": {},
     "output_type": "display_data"
    }
   ],
   "source": [
    "plt.hist(coin_toss)"
   ]
  },
  {
   "cell_type": "code",
   "execution_count": null,
   "metadata": {
    "collapsed": true
   },
   "outputs": [],
   "source": [
    "# Simulate a fair six-sided die roll\n",
    "fair_die_roll = np.random.randint(1,7, num_obs)"
   ]
  },
  {
   "cell_type": "code",
   "execution_count": 17,
   "metadata": {
    "collapsed": false
   },
   "outputs": [
    {
     "data": {
      "text/plain": [
       "array([4, 6, 3, 5, 1, 5, 6, 6, 1, 2, 1, 4, 3, 2, 1, 5, 2, 2, 1, 2, 5, 6, 2,\n",
       "       6, 5, 1, 3, 2, 3, 5, 2, 6, 4, 3, 2, 3, 2, 1, 6, 3, 4, 4, 5, 2, 3, 5,\n",
       "       3, 2, 4, 1, 4, 5, 6, 1, 5, 2, 1, 5, 2, 4, 6, 2, 3, 2, 2, 6, 3, 5, 5,\n",
       "       2, 3, 3, 6, 4, 5, 6, 1, 5, 6, 5, 4, 1, 4, 1, 2, 6, 1, 4, 5, 1, 6, 1,\n",
       "       3, 5, 6, 6, 2, 4, 2, 6, 5, 1, 1, 5, 6, 1, 1, 1, 4, 4, 3, 2, 5, 5, 5,\n",
       "       3, 4, 6, 6, 3, 6, 5, 2, 1, 4, 4, 3, 4, 5, 6, 5, 3, 5, 6, 2, 3, 2, 1,\n",
       "       2, 1, 1, 2, 3, 6, 5, 5, 6, 1, 1, 3, 4, 2, 1, 5, 3, 2, 3, 2, 2, 6, 1,\n",
       "       3, 3, 6, 5, 5, 1, 1, 4, 6, 5, 2, 3, 1, 3, 3, 4, 5, 1, 3, 1, 2, 4, 2,\n",
       "       1, 1, 5, 3, 3, 2, 4, 6, 3, 5, 2, 2, 6, 5, 4, 5, 4, 5, 5, 1, 2, 5, 6,\n",
       "       5, 3, 2, 3, 2, 3, 5, 5, 1, 6, 3, 4, 1, 3, 3, 1, 5, 3, 5, 1, 5, 2, 4,\n",
       "       3, 6, 4, 5, 3, 5, 2, 1, 3, 2, 2, 3, 5, 6, 2, 4, 2, 6, 5, 5, 4, 2, 5,\n",
       "       6, 3, 1, 1, 1, 2, 4, 5, 3, 6, 3, 6, 2, 1, 2, 4, 4, 6, 5, 5, 6, 4, 4,\n",
       "       4, 2, 4, 3, 1, 4, 6, 1, 2, 6, 1, 6, 2, 3, 2, 2, 6, 5, 4, 4, 3, 3, 4,\n",
       "       5, 4, 5, 3, 1, 6, 3, 3, 2, 2, 2, 6, 2, 5, 4, 1, 3, 5, 1, 5, 5, 3, 4,\n",
       "       2, 6, 4, 6, 3, 3, 3, 1, 6, 4, 4, 5, 5, 5, 3, 4, 6, 3, 1, 5, 3, 3, 1,\n",
       "       2, 4, 6, 2, 5, 3, 1, 1, 4, 2, 4, 3, 4, 6, 1, 1, 5, 5, 3, 6, 2, 4, 3,\n",
       "       5, 4, 5, 4, 2, 3, 4, 6, 1, 6, 6, 1, 6, 4, 4, 4, 1, 6, 1, 4, 6, 6, 5,\n",
       "       5, 2, 3, 5, 1, 5, 2, 6, 2, 6, 6, 3, 5, 1, 1, 4, 6, 1, 3, 6, 3, 1, 1,\n",
       "       4, 1, 6, 6, 6, 4, 4, 1, 2, 2, 4, 1, 2, 1, 1, 1, 5, 6, 1, 5, 4, 2, 6,\n",
       "       2, 6, 2, 6, 2, 2, 2, 2, 4, 1, 3, 5, 3, 3, 6, 1, 6, 1, 1, 2, 4, 2, 4,\n",
       "       6, 4, 6, 3, 3, 4, 4, 6, 2, 6, 2, 3, 1, 4, 2, 6, 3, 2, 6, 4, 4, 5, 1,\n",
       "       5, 3, 2, 3, 6, 4, 5, 5, 5, 3, 4, 2, 6, 2, 3, 6, 5, 1, 3, 3, 4, 2, 3,\n",
       "       3, 5, 5, 6, 1, 4, 1, 6, 5, 2, 5, 4, 5, 4, 4, 4, 6, 4, 4, 2, 1, 3, 1,\n",
       "       4, 2, 5, 2, 4, 2, 2, 4, 6, 2, 3, 3, 2, 6, 5, 4, 3, 5, 2, 5, 1, 3, 2,\n",
       "       4, 6, 2, 4, 6, 6, 2, 5, 5, 6, 5, 1, 6, 6, 4, 5, 6, 1, 4, 2, 6, 1, 3,\n",
       "       1, 1, 4, 2, 3, 5, 5, 1, 4, 4, 5, 3, 2, 3, 6, 6, 2, 5, 2, 4, 6, 1, 1,\n",
       "       5, 4, 3, 4, 1, 1, 6, 4, 4, 1, 3, 5, 5, 4, 5, 1, 1, 4, 4, 6, 4, 3, 5,\n",
       "       4, 2, 6, 2, 1, 5, 4, 2, 5, 1, 3, 6, 5, 5, 3, 5, 1, 1, 3, 6, 4, 2, 4,\n",
       "       5, 2, 3, 3, 6, 2, 1, 2, 5, 1, 3, 2, 4, 6, 4, 6, 5, 4, 2, 2, 4, 2, 5,\n",
       "       1, 5, 6, 5, 6, 2, 1, 2, 3, 2, 6, 2, 2, 1, 2, 1, 4, 3, 1, 6, 4, 1, 1,\n",
       "       3, 6, 5, 5, 1, 2, 6, 4, 2, 2, 6, 1, 1, 1, 1, 5, 1, 5, 5, 1, 3, 4, 2,\n",
       "       5, 6, 6, 4, 6, 3, 6, 2, 2, 5, 1, 3, 5, 3, 1, 6, 6, 1, 5, 1, 4, 2, 5,\n",
       "       3, 4, 5, 1, 1, 1, 1, 3, 4, 6, 2, 3, 3, 6, 6, 2, 2, 6, 1, 3, 5, 2, 2,\n",
       "       6, 4, 5, 5, 2, 1, 4, 5, 2, 5, 4, 4, 3, 6, 6, 2, 4, 3, 3, 5, 5, 3, 5,\n",
       "       4, 1, 4, 3, 3, 4, 5, 5, 6, 3, 2, 6, 5, 4, 5, 4, 6, 3, 5, 4, 3, 2, 4,\n",
       "       6, 2, 2, 1, 5, 4, 2, 1, 6, 3, 4, 2, 5, 1, 2, 5, 2, 4, 4, 4, 6, 6, 1,\n",
       "       4, 5, 2, 3, 5, 6, 6, 5, 6, 4, 1, 2, 1, 2, 2, 1, 5, 2, 1, 2, 3, 5, 4,\n",
       "       2, 3, 4, 4, 2, 1, 2, 3, 4, 2, 1, 2, 5, 1, 3, 4, 2, 1, 5, 1, 6, 5, 3,\n",
       "       4, 3, 2, 1, 6, 5, 5, 1, 6, 1, 2, 3, 5, 2, 3, 2, 6, 5, 1, 1, 3, 4, 6,\n",
       "       3, 4, 2, 6, 2, 5, 6, 4, 5, 1, 4, 3, 1, 1, 3, 6, 1, 4, 5, 1, 4, 2, 4,\n",
       "       5, 4, 3, 5, 6, 2, 3, 6, 4, 5, 2, 3, 6, 6, 2, 4, 2, 6, 1, 3, 2, 6, 4,\n",
       "       6, 4, 2, 4, 5, 5, 5, 1, 2, 6, 6, 1, 4, 1, 4, 4, 3, 6, 5, 4, 3, 6, 5,\n",
       "       4, 4, 1, 1, 6, 5, 4, 6, 6, 2, 1, 5, 4, 6, 4, 2, 5, 6, 4, 1, 2, 5, 2,\n",
       "       1, 5, 2, 3, 1, 1, 1, 3, 3, 4, 6])"
      ]
     },
     "execution_count": 17,
     "metadata": {},
     "output_type": "execute_result"
    }
   ],
   "source": [
    "fair_die_roll"
   ]
  },
  {
   "cell_type": "code",
   "execution_count": 8,
   "metadata": {
    "collapsed": false
   },
   "outputs": [
    {
     "data": {
      "text/plain": [
       "2    176\n",
       "5    174\n",
       "4    171\n",
       "1    167\n",
       "6    163\n",
       "3    149\n",
       "dtype: int64"
      ]
     },
     "execution_count": 8,
     "metadata": {},
     "output_type": "execute_result"
    }
   ],
   "source": [
    "#Sanity check this\n",
    "pd.Series(fair_die_roll).value_counts()\n"
   ]
  },
  {
   "cell_type": "code",
   "execution_count": null,
   "metadata": {
    "collapsed": true
   },
   "outputs": [],
   "source": [
    "#Simulate the loaded die using np.random.choice to create a custom discrete distribution\n",
    "\n",
    "loaded_die_roll = np.random.choice(a = range(1,7), p = [.5, .1, .1 ,.1,.1,.1], size=num_obs)"
   ]
  },
  {
   "cell_type": "code",
   "execution_count": 18,
   "metadata": {
    "collapsed": false
   },
   "outputs": [
    {
     "data": {
      "text/plain": [
       "array([1, 3, 2, 6, 1, 6, 5, 1, 6, 1, 5, 1, 5, 5, 5, 4, 1, 1, 1, 1, 3, 1, 6,\n",
       "       3, 5, 1, 5, 6, 1, 3, 4, 1, 2, 1, 1, 1, 1, 1, 1, 6, 2, 6, 1, 1, 2, 1,\n",
       "       1, 3, 1, 3, 3, 1, 1, 4, 1, 1, 6, 1, 3, 6, 1, 1, 1, 1, 1, 3, 1, 2, 6,\n",
       "       5, 3, 1, 3, 2, 1, 1, 5, 1, 1, 1, 1, 5, 4, 4, 1, 1, 1, 1, 1, 4, 1, 2,\n",
       "       1, 1, 1, 6, 5, 6, 1, 1, 2, 1, 5, 1, 1, 1, 1, 4, 1, 1, 1, 1, 4, 5, 6,\n",
       "       4, 1, 3, 1, 1, 5, 1, 6, 1, 3, 3, 5, 3, 3, 1, 2, 1, 4, 2, 3, 1, 1, 4,\n",
       "       1, 1, 1, 6, 4, 1, 1, 1, 4, 3, 1, 1, 1, 3, 4, 1, 1, 1, 6, 1, 4, 3, 1,\n",
       "       1, 1, 3, 4, 3, 2, 1, 6, 4, 1, 6, 3, 2, 4, 5, 3, 1, 1, 6, 1, 1, 1, 1,\n",
       "       3, 6, 1, 1, 1, 5, 3, 1, 5, 5, 5, 6, 1, 4, 1, 5, 4, 4, 3, 1, 2, 6, 6,\n",
       "       1, 1, 1, 4, 5, 1, 2, 5, 4, 2, 2, 2, 1, 2, 3, 5, 3, 4, 1, 1, 1, 1, 4,\n",
       "       6, 1, 1, 5, 1, 2, 4, 3, 1, 1, 4, 2, 1, 4, 1, 4, 1, 6, 1, 1, 1, 1, 5,\n",
       "       6, 1, 1, 4, 5, 2, 1, 1, 3, 1, 3, 1, 4, 1, 2, 1, 3, 1, 2, 2, 2, 3, 3,\n",
       "       5, 1, 5, 1, 1, 1, 1, 4, 4, 4, 2, 1, 1, 1, 1, 1, 1, 2, 4, 6, 6, 3, 1,\n",
       "       3, 4, 1, 1, 5, 1, 2, 2, 1, 1, 1, 1, 1, 5, 1, 2, 1, 6, 1, 1, 5, 5, 1,\n",
       "       5, 1, 1, 1, 1, 4, 1, 1, 4, 4, 1, 3, 1, 4, 3, 6, 1, 1, 1, 1, 1, 6, 1,\n",
       "       1, 4, 1, 4, 1, 1, 1, 1, 6, 1, 2, 1, 1, 5, 1, 3, 6, 2, 6, 1, 1, 1, 4,\n",
       "       6, 1, 3, 1, 2, 1, 6, 3, 1, 1, 1, 1, 1, 5, 2, 2, 1, 5, 4, 1, 4, 2, 1,\n",
       "       1, 1, 1, 6, 5, 3, 1, 1, 3, 2, 1, 2, 5, 1, 1, 4, 1, 1, 1, 1, 4, 2, 1,\n",
       "       5, 5, 5, 1, 1, 6, 4, 1, 1, 1, 6, 2, 1, 1, 3, 5, 1, 4, 6, 1, 2, 1, 4,\n",
       "       2, 3, 4, 1, 6, 2, 1, 3, 4, 1, 5, 6, 1, 6, 1, 1, 1, 5, 3, 1, 1, 3, 1,\n",
       "       5, 5, 2, 6, 1, 6, 3, 3, 1, 5, 1, 1, 1, 2, 2, 4, 5, 1, 4, 1, 5, 5, 2,\n",
       "       4, 1, 1, 5, 1, 1, 1, 5, 1, 1, 4, 5, 1, 1, 1, 1, 1, 4, 3, 3, 1, 5, 1,\n",
       "       6, 3, 1, 3, 1, 3, 1, 1, 5, 1, 5, 1, 3, 3, 2, 1, 1, 1, 1, 3, 6, 5, 4,\n",
       "       4, 3, 1, 6, 3, 2, 1, 1, 1, 5, 2, 1, 6, 1, 1, 1, 4, 6, 1, 5, 1, 6, 4,\n",
       "       5, 1, 6, 4, 1, 5, 1, 5, 1, 4, 2, 1, 1, 1, 1, 1, 2, 1, 1, 4, 1, 6, 5,\n",
       "       3, 2, 5, 1, 1, 1, 4, 1, 2, 6, 5, 2, 1, 5, 2, 1, 1, 6, 3, 5, 5, 2, 2,\n",
       "       1, 1, 1, 4, 3, 5, 1, 3, 3, 2, 4, 1, 2, 1, 1, 1, 3, 6, 3, 4, 2, 3, 1,\n",
       "       1, 1, 1, 1, 1, 1, 6, 1, 1, 1, 3, 1, 1, 2, 1, 1, 1, 1, 1, 1, 5, 2, 2,\n",
       "       1, 6, 1, 1, 3, 1, 1, 2, 5, 1, 4, 6, 1, 1, 1, 1, 1, 6, 4, 3, 1, 5, 6,\n",
       "       5, 1, 3, 1, 1, 1, 3, 3, 1, 1, 1, 1, 1, 1, 4, 1, 1, 1, 6, 3, 3, 1, 2,\n",
       "       1, 3, 6, 3, 5, 4, 1, 6, 1, 2, 1, 1, 1, 1, 1, 2, 1, 1, 2, 1, 4, 3, 5,\n",
       "       3, 1, 3, 1, 1, 4, 1, 4, 5, 5, 6, 1, 1, 2, 1, 3, 4, 3, 1, 1, 1, 1, 5,\n",
       "       1, 1, 1, 3, 3, 1, 1, 1, 1, 3, 3, 1, 1, 6, 1, 3, 1, 1, 1, 2, 6, 1, 1,\n",
       "       1, 1, 1, 1, 4, 1, 1, 6, 1, 6, 1, 5, 3, 5, 6, 1, 6, 1, 1, 1, 2, 1, 2,\n",
       "       2, 4, 5, 1, 1, 1, 1, 1, 1, 1, 6, 2, 1, 2, 1, 1, 3, 1, 1, 6, 5, 3, 2,\n",
       "       3, 1, 1, 1, 1, 2, 1, 6, 6, 4, 2, 5, 1, 4, 1, 4, 1, 5, 6, 1, 1, 6, 1,\n",
       "       5, 2, 1, 1, 1, 4, 1, 2, 1, 2, 5, 6, 1, 5, 4, 2, 6, 1, 1, 5, 1, 5, 5,\n",
       "       1, 5, 1, 2, 3, 6, 1, 1, 3, 4, 3, 1, 1, 1, 5, 1, 1, 6, 1, 6, 3, 5, 1,\n",
       "       1, 4, 5, 4, 1, 4, 4, 3, 4, 5, 3, 1, 1, 1, 1, 1, 1, 1, 1, 5, 6, 1, 6,\n",
       "       2, 1, 1, 2, 4, 4, 1, 1, 1, 1, 1, 1, 5, 6, 1, 6, 1, 1, 1, 3, 6, 3, 1,\n",
       "       3, 1, 5, 2, 1, 2, 3, 1, 3, 1, 4, 5, 5, 2, 2, 1, 4, 1, 1, 1, 1, 3, 1,\n",
       "       4, 1, 1, 2, 1, 1, 4, 1, 5, 1, 1, 4, 1, 1, 1, 1, 5, 1, 4, 5, 1, 6, 1,\n",
       "       6, 1, 3, 1, 1, 3, 4, 1, 1, 4, 3, 6, 4, 6, 4, 1, 1, 4, 3, 1, 1, 6, 2,\n",
       "       1, 1, 1, 1, 1, 1, 4, 1, 5, 5, 1])"
      ]
     },
     "execution_count": 18,
     "metadata": {},
     "output_type": "execute_result"
    }
   ],
   "source": [
    "loaded_die_roll"
   ]
  },
  {
   "cell_type": "code",
   "execution_count": 10,
   "metadata": {
    "collapsed": false
   },
   "outputs": [
    {
     "data": {
      "text/plain": [
       "1    498\n",
       "3    109\n",
       "5    106\n",
       "4    103\n",
       "6     92\n",
       "2     92\n",
       "dtype: int64"
      ]
     },
     "execution_count": 10,
     "metadata": {},
     "output_type": "execute_result"
    }
   ],
   "source": [
    "#Sanity check this\n",
    "pd.Series(loaded_die_roll).value_counts()\n",
    "\n",
    "\n"
   ]
  },
  {
   "cell_type": "code",
   "execution_count": 11,
   "metadata": {
    "collapsed": true
   },
   "outputs": [],
   "source": [
    "#Simulate the observed die.  If the coin is heads the observed die is the fair die, if it is tails it\n",
    "#is the loaded die.  There is a quick and sneaky way to accomplish this.\n",
    "\n",
    "observed_die_roll = coin_toss * fair_die_roll + (1-coin_toss) * loaded_die_roll"
   ]
  },
  {
   "cell_type": "code",
   "execution_count": 13,
   "metadata": {
    "collapsed": false
   },
   "outputs": [
    {
     "data": {
      "text/plain": [
       "3.1120000000000001"
      ]
     },
     "execution_count": 13,
     "metadata": {},
     "output_type": "execute_result"
    }
   ],
   "source": [
    "np.mean((observed_die_roll))"
   ]
  },
  {
   "cell_type": "code",
   "execution_count": null,
   "metadata": {
    "collapsed": true
   },
   "outputs": [],
   "source": [
    "#Sanity check this\n"
   ]
  },
  {
   "cell_type": "code",
   "execution_count": null,
   "metadata": {
    "collapsed": true
   },
   "outputs": [],
   "source": [
    "# Lets look at the means - are they what we would expect?\n",
    "\n",
    "print(np.mean(coin_toss))\n",
    "print(np.mean(fair_die_roll))\n",
    "print(np.mean(loaded_die_roll))\n",
    "print(np.mean(observed_die_roll))"
   ]
  },
  {
   "cell_type": "code",
   "execution_count": null,
   "metadata": {
    "collapsed": true
   },
   "outputs": [],
   "source": []
  },
  {
   "cell_type": "code",
   "execution_count": 15,
   "metadata": {
    "collapsed": false
   },
   "outputs": [
    {
     "data": {
      "text/plain": [
       "0.70068027210884354"
      ]
     },
     "execution_count": 15,
     "metadata": {},
     "output_type": "execute_result"
    }
   ],
   "source": [
    "np.mean(coin_toss[observed_die_roll==4])"
   ]
  },
  {
   "cell_type": "code",
   "execution_count": 14,
   "metadata": {
    "collapsed": false
   },
   "outputs": [
    {
     "name": "stdout",
     "output_type": "stream",
     "text": [
      "0.613\n",
      "3.498\n",
      "2.503\n",
      "3.112\n"
     ]
    }
   ],
   "source": []
  },
  {
   "cell_type": "markdown",
   "metadata": {},
   "source": [
    "## Distributions and Empirical Distributions\n",
    "\n",
    "Empirical distributions refer to approximations of the \"true\" distribution obtained by sampling data and (essentially) making histograms.  For example, if we look at 1000 realizations of a coin toss we may see 510 heads and 490 tails.  The empirical distribution would be 51% heads, but the true underlying probability may be .5.  The idea is that as we get more and more data, the empirical distribution converges to the true distribution (this is the essence of the *Law of Large Numbers*).\n",
    "\n",
    "In the above, we are using a true distribution to generate data, and examining the empirical distributions.  Typically, Data Science proceeds in the opposite direction -- we have data which we treat as coming from some theoretical distribution, and use it to try and learn about the \"theoretical\" underlying distribution."
   ]
  },
  {
   "cell_type": "markdown",
   "metadata": {},
   "source": [
    "## Independence of Random Variables\n",
    "\n",
    "What does it mean for two random variables to be independent?\n",
    "\n",
    "We have 4 variables: `coin_toss`, `fair_die_roll`, `loaded_die_roll`, `observed_die_roll`\n",
    "\n",
    "For each pair of variables (how many pairs do we have?) think about whether the two variables in the pair are independent or not.\n",
    "\n"
   ]
  },
  {
   "cell_type": "code",
   "execution_count": null,
   "metadata": {
    "collapsed": true
   },
   "outputs": [],
   "source": [
    "### Type some code here to examine whether certain variables / events are independent or not\n",
    "### e.g. plot distributions or calculate (empirical) probabilities\n",
    "\n",
    "\n"
   ]
  },
  {
   "cell_type": "markdown",
   "metadata": {},
   "source": [
    "## Question:\n",
    "\n",
    "Suppose `observed_die` = 1, what is the probability that `coin_toss` = 1?  Let's try to solve this analytically and also get an approximate (empirical) answer from our data."
   ]
  },
  {
   "cell_type": "code",
   "execution_count": 19,
   "metadata": {
    "collapsed": false
   },
   "outputs": [
    {
     "name": "stdout",
     "output_type": "stream",
     "text": [
      "147\n",
      "103\n"
     ]
    },
    {
     "data": {
      "text/plain": [
       "0.7142857142857143"
      ]
     },
     "execution_count": 19,
     "metadata": {},
     "output_type": "execute_result"
    }
   ],
   "source": [
    "#\n",
    "print(np.sum(observed_die_roll==4))\n",
    "print(np.sum((observed_die_roll==4) & (coin_toss == 1)))\n",
    "10/14"
   ]
  },
  {
   "cell_type": "markdown",
   "metadata": {},
   "source": [
    "## Discussion of Probability Algebra and Bayes' Rule"
   ]
  },
  {
   "cell_type": "markdown",
   "metadata": {},
   "source": [
    "Suppose we create a noisy version of the coin toss:"
   ]
  },
  {
   "cell_type": "code",
   "execution_count": 20,
   "metadata": {
    "collapsed": true
   },
   "outputs": [],
   "source": [
    "noisy_coin_toss = coin_toss + np.random.randn(num_obs)"
   ]
  },
  {
   "cell_type": "code",
   "execution_count": 21,
   "metadata": {
    "collapsed": false
   },
   "outputs": [
    {
     "data": {
      "image/png": "[encoded data removed]",
      "text/plain": [
       "<matplotlib.figure.Figure at 0x11686b358>"
      ]
     },
     "metadata": {},
     "output_type": "display_data"
    }
   ],
   "source": [
    "## Let's plot a histogram to look\n",
    "plt.hist(noisy_coin_toss, bins = 100, range = (-10,10));"
   ]
  },
  {
   "cell_type": "markdown",
   "metadata": {},
   "source": [
    "Let us \"bin\" the noisy coin toss into 3 cases: x<0, 0<=x<=1, and x>1"
   ]
  },
  {
   "cell_type": "code",
   "execution_count": 22,
   "metadata": {
    "collapsed": false
   },
   "outputs": [],
   "source": [
    "binned_nct = (noisy_coin_toss>1).astype(int) + (noisy_coin_toss>0).astype(int)"
   ]
  },
  {
   "cell_type": "code",
   "execution_count": 23,
   "metadata": {
    "collapsed": false
   },
   "outputs": [
    {
     "data": {
      "text/plain": [
       "2    367\n",
       "1    336\n",
       "0    297\n",
       "dtype: int64"
      ]
     },
     "execution_count": 23,
     "metadata": {},
     "output_type": "execute_result"
    }
   ],
   "source": [
    "#unique, counts = np.unique(binned_nct, return_counts=True)\n",
    "#print(np.asarray((unique, counts)).T)\n",
    "\n",
    "pd.Series(binned_nct).value_counts()"
   ]
  },
  {
   "cell_type": "markdown",
   "metadata": {},
   "source": [
    "What is the distribution of `observed_die` given that `binned_nct` = 1?  Do you think `observed_die` is independent of the event `binned_nct` == 1?  Is `observed_die` independent of the random variable `binned_nct`?  What is the difference between the previous two statements?\n",
    "\n",
    "\n",
    "How can we characterize \"degrees\" of independence?  Does it make sense to say that variables are \"almost\" independent or \"very\" dependent?  Does it matter if the variables are numerical or categorical?"
   ]
  },
  {
   "cell_type": "code",
   "execution_count": null,
   "metadata": {
    "collapsed": true
   },
   "outputs": [],
   "source": []
  }
 ],
 "metadata": {
  "kernelspec": {
   "display_name": "Python 3",
   "language": "python",
   "name": "python3"
  },
  "language_info": {
   "codemirror_mode": {
    "name": "ipython",
    "version": 3
   },
   "file_extension": ".py",
   "mimetype": "text/x-python",
   "name": "python",
   "nbconvert_exporter": "python",
   "pygments_lexer": "ipython3",
   "version": "3.5.3"
  }
 },
 "nbformat": 4,
 "nbformat_minor": 0
}
