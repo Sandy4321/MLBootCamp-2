{
 "cells": [
  {
   "cell_type": "code",
   "execution_count": 1,
   "metadata": {},
   "outputs": [
    {
     "data": {
      "text/plain": [
       "[1, 2, 2, 4, 6, 7, 8]"
      ]
     },
     "execution_count": 1,
     "metadata": {},
     "output_type": "execute_result"
    }
   ],
   "source": [
    "a,b = [1,2,4],[2,6,7,8]\n",
    "c = sorted(a + b)\n",
    "c"
   ]
  },
  {
   "cell_type": "code",
   "execution_count": 2,
   "metadata": {},
   "outputs": [
    {
     "data": {
      "text/plain": [
       "[1, 2, 2, 4, 6, 7, 8]"
      ]
     },
     "execution_count": 2,
     "metadata": {},
     "output_type": "execute_result"
    }
   ],
   "source": [
    "def merge_sorted_list(a,b):\n",
    "    output = []\n",
    "    while a or b:\n",
    "        if not a:\n",
    "            output.append(b.pop(0))\n",
    "        elif not b:\n",
    "            output.append(a.pop(0))\n",
    "        elif a[0] < b[0]:\n",
    "            output.append(a.pop(0))\n",
    "        else:\n",
    "            output.append(b.pop(0))\n",
    "    return output\n",
    "\n",
    "a,b = [1,2,4],[2,6,7,8]\n",
    "merge_sorted_list(a,b)"
   ]
  },
  {
   "cell_type": "code",
   "execution_count": 3,
   "metadata": {},
   "outputs": [
    {
     "data": {
      "text/plain": [
       "[1, 2, 2, 2, 3, 4, 5, 6, 6, 6, 7, 7, 8, 18, 19, 19, 29]"
      ]
     },
     "execution_count": 3,
     "metadata": {},
     "output_type": "execute_result"
    }
   ],
   "source": [
    "b = [[1,2,4],[2,6,7,8],[3,6,7,19],[2,5,6,18,19,29]]\n",
    "\n",
    "def merge_k_sorted_lists(b):\n",
    "    a = []\n",
    "    for sub_list in b:\n",
    "        a = merge_sorted_list(a,sub_list)\n",
    "    return a\n",
    "\n",
    "merge_k_sorted_lists(b)"
   ]
  },
  {
   "cell_type": "code",
   "execution_count": null,
   "metadata": {
    "collapsed": true
   },
   "outputs": [],
   "source": []
  }
 ],
 "metadata": {
  "kernelspec": {
   "display_name": "Python 3",
   "language": "python",
   "name": "python3"
  },
  "language_info": {
   "codemirror_mode": {
    "name": "ipython",
    "version": 3
   },
   "file_extension": ".py",
   "mimetype": "text/x-python",
   "name": "python",
   "nbconvert_exporter": "python",
   "pygments_lexer": "ipython3",
   "version": "3.6.2"
  }
 },
 "nbformat": 4,
 "nbformat_minor": 2
}
