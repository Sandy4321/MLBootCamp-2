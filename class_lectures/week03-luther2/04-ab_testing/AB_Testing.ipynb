{
 "cells": [
  {
   "cell_type": "markdown",
   "metadata": {},
   "source": [
    "# A/B Testing"
   ]
  },
  {
   "cell_type": "markdown",
   "metadata": {},
   "source": [
    "Consider 2 situations:\n",
    "1. You are a data scientist at an advertising firm, hunting for clicks.  You have built a model that you think will **significantly improve the click-thru rate** over the current advertising strategy.  ***How do you know?***\n",
    "1. You are a data scientist for a non-profit, soliciting charitable donations via email.  You believe that you have a better version of the email message that will **generate more profit**.  ***How do you know?***\n",
    "\n",
    "Enter, **A/B Testing**"
   ]
  },
  {
   "cell_type": "markdown",
   "metadata": {},
   "source": [
    "### What is A/B Testing?\n",
    "- Randomized, controlled statistical experiment\n",
    "- 2 different \"treatments\" on a population: \"A\" and \"B\"\n",
    "- Want to detect a difference between the 2\n",
    "  - e.g. does new ad B improve engagement over old ad A?\n",
    "  - e.g. is this drug effective in treating a disease?\n",
    "- Use **Hypothesis Testing** techniques to look for significant differences"
   ]
  },
  {
   "cell_type": "markdown",
   "metadata": {},
   "source": [
    "### Things to Remember - Experimental Design\n",
    "- A and B group members should be randomly selected\n",
    "- A and B groups should be representative of the general population\n",
    "- Ideally, only the treatment (A vs B) changes between the groups"
   ]
  },
  {
   "cell_type": "markdown",
   "metadata": {},
   "source": [
    "## Problem 1: Optimizing Ad Clicks  \n",
    "You think your fancy new model is so good, let's just see!\n",
    "\n",
    "### Planning the Experiment\n",
    "- Random select treatment groups A and B\n",
    "  - Question to think about: How many in each group?\n",
    "\n",
    "#### Defining some variables\n",
    "- $N_A$, $N_B$: Number in each treatment group\n",
    "- $n_A$, $n_B$: Number that clicked in each group\n",
    "- $p$: True population click-rate\n",
    "- $\\hat{p}$: Overall population sample proportion that clicked\n",
    "- $p_A$, $p_B$: True click-rate for each grup\n",
    "- $\\hat{p}_A$, $\\hat{p}_B$: Sample proportion that clicked in each group\n",
    "\n",
    "#### Hypotheses\n",
    "- $H_0\\text{:}\\quad p_A = p_B = p$\n",
    "- $H_A\\text{:}\\quad p_A \\ne p_B$\n",
    "\n",
    "### Which did better, A or B? \n",
    "- If $H_0$ were true:\n",
    "  - $\\hat{p} = \\frac{n_A + n_B}{N_A + N_B}$\n",
    "  - $\\hat{p}_A \\sim \\mathcal{N}(p, p(1-p)/N_A\\quad$ and $\\quad\\hat{p}_B \\sim \\mathcal{N}(p, p(1-p)/N_B$\n",
    "    - **Note**: Here we've used $\\sigma^2 = p(1-p)$ for a **Bernoulli** Random Variable\n",
    "    - Thus, CLT yields the above, and...\n",
    "  - $\\hat{p}_A - \\hat{p}_B \\sim \\mathcal{N}\\left(0, p(1-p)\\times\\left[{\\frac{1}{N_A} + \\frac{1}{N_B}}\\right]\\right)$\n",
    "    - **Note**: Here we use $\\text{var}(aX+bY) = a^2\\text{var}(X) + b^2\\text{var}(y)\\rightarrow \\text{var}(\\hat{p}_A - \\hat{p}_B) = p(1-p)\\times\\left[{\\frac{1}{N_A} + \\frac{1}{N_B}}\\right]$\n",
    "  - $\\hat{p}$ is our **Maximum Likelihood Estimate** for $p$\n",
    "- So let's do a **Z-test** on $\\hat{p}_A-\\hat{p}_B$\n",
    "  - $Z = \\frac{\\hat{p}_A - \\hat{p}_B - 0}{\\sqrt{\\hat{p}(1-\\hat{p})\\left[\\frac{1}{N_A}+\\frac{1}{N_B}\\right]}}$\n",
    "\n",
    "#### Let's Plug in some Numbers!\n",
    "| Group | Sample Size | Ads Clicked |\n",
    "|-------|-------------|-------------|\n",
    "| A     |  2500       | 76          |\n",
    "| B     |  2500       | 94          |\n",
    "\n",
    "$Z = \\frac{\\frac{76}{2500} - \\frac{94}{2500}}{\\sqrt{\\frac{170}{5000}\\times\\frac{4830}{5000}\\times\\left(\\frac{1}{2500} + \\frac{1}{2500}\\right)}} = -1.405$\n",
    "\n",
    "***So do we reject?***  Is there a difference between A and B??"
   ]
  },
  {
   "cell_type": "markdown",
   "metadata": {},
   "source": [
    "## Problem 2: Gettin' that Money!  \n",
    "So your ad model failed, what about your donation-scrounging ability?\n",
    "\n",
    "### Planning the Experiment\n",
    "- Randomly select treatment groups A and B\n",
    "  - Question to think about: How many in each group?\n",
    "\n",
    "#### Defining some variables\n",
    "- $N_A$, $N_B$: Number in each treatment group\n",
    "- $\\mu$: True population average contribution\n",
    "- $\\hat{\\bar{x}}$: Observed population average contribution\n",
    "- $\\sigma$: True population contribution variance\n",
    "- $\\hat{\\sigma}$: Observed population contribution variance\n",
    "- $\\mu_A$, $\\mu_B$: True population average for each group\n",
    "- $\\hat{\\bar{x}}_A$, $\\hat{\\bar{x}}_B$: Observed Average contribution for each group\n",
    "- $\\sigma_A$, $\\sigma_B$: True within-group contribution variance\n",
    "- $\\hat{\\sigma}_A$, $\\hat{\\sigma}_B$: Observed Within-group contribution variance\n",
    "\n",
    "#### Hypotheses\n",
    "- $H_0\\text{:}\\quad \\mu_A = \\mu_B = \\mu$\n",
    "- $H_A\\text{:}\\quad \\mu_B \\gt \\mu_A$\n",
    "\n",
    "### Which did better, A or B? \n",
    "- This time, the result (contribution) is presumed $\\mathcal{N}(\\mu, \\sigma^2)$\n",
    "- And we don't know the population variance...\n",
    "- So we'll have to estimate it from the sample $\\rightarrow$ Use a **t-distribution/test**\n",
    "  - In essence, we can use the same approach as **Z-test** with some minor changes:\n",
    "    - $Z = \\frac{\\hat{p}_A - \\hat{p}_B - 0}{\\sqrt{\\hat{p}(1-\\hat{p})\\left[\\frac{1}{N_A}+\\frac{1}{N_B}\\right]}}\\quad\\rightarrow\\quad t = \\frac{\\hat{\\bar{x}}_A - \\hat{\\bar{x}}_B - 0}{\\hat{s}^2\\sqrt{\\left(\\frac{1}{N_A}+\\frac{1}{N_B}\\right)}}$\n",
    "    - where $\\hat{s}^2$ is a pooled estimate of the **sample variance** of contributions:\n",
    "      - $\\hat{s}^2 = \\frac{(N_A-1)\\sigma_A^2+(N_B-1)\\sigma_B^2}{N_A+N_B-2}$\n",
    "- The process is exactly the same now!  Namely:\n",
    "  1. We have a test statistic ($t$ instead of $Z$)\n",
    "  1. We look up the p-value against a **t-table** (with 1000+1000-2 degrees of freedom)\n",
    "  1. We report whether this p-value is significant to our desired degree.\n",
    "\n",
    "#### Let's Plug in some Numbers!\n",
    "| Group | Sample Size | Average | Variance |\n",
    "|-------|-------------|-------------|------|\n",
    "| A     |  1000       | 100          | 10  |\n",
    "| B     |  1000       | 105          | 14  |\n",
    "\n",
    "$\\rightarrow t \\sim 9.19$\n",
    "\n",
    "***So do we reject?***  Is there a difference between A and B??"
   ]
  },
  {
   "cell_type": "markdown",
   "metadata": {},
   "source": [
    "## Steps for Hypothesis Testing\n",
    "1. Choose **appropriate test statistic** (z, t, F, $\\chi^2$, etc) for the situation (usually just, look it up!)\n",
    "2. Formulate **null** and **alternative hypotheses**\n",
    "3. Compute value of **test statistic under null hypothesis**\n",
    "4. How extreme is the test statistic?  $\\rightarrow$ **p-value**\n",
    "  4. Likelihood of results occuring by chance if $H_0$ is true\n",
    "5. **Reject/Don't Reject** by comparing p-value to desired significance"
   ]
  },
  {
   "cell_type": "markdown",
   "metadata": {},
   "source": [
    "## Power and Sample Size Calculations\n",
    "\n",
    "**Consider:** We have light bulbs and we believe that the mean lifetime before they die is roughly $\\mu=100$ days with a known $\\sigma=16$ days.  You want to test for deviations from this belief at **5% significance**.\n",
    "\n",
    "**Question 1:** Given that a signal exists in our data (aka mean incorrect), what is the probability that we detect it?\n",
    "\n",
    "**Question 2:** How many samples do we need to be sure that, if a signal is there, we are 90% sure we'll find it?\n",
    "\n",
    "### Power\n",
    "$$\n",
    "\\text{Power} = \\text{P}(\\text{Reject }H_0\\; | \\;H_0 \\text{ is false})\n",
    "$$\n",
    "- Depends on the size of effect we're trying to detect (small effect needs more samples)\n",
    "\n",
    "#### Question 1: What is the power?\n",
    "- Let's say you want to be able to **detect differences in $\\mu$ of 8 days or more**.\n",
    "- What is the power of your test?\n",
    "- $H_0$: $\\mu = 100$, $\\sigma = 16$\n",
    "- $H_A$: $\\mu \\ne 100$\n",
    "- The smallest $\\mu$ $H_A$ we want to detect is for $\\mu = 108$.\n",
    "- This is a **one-tail test**, so $z* = 1.645$ instead of 1.96.\n",
    "- If $z* \\ge 1.645$ under $H_0$, then we reject $H_0$\n",
    "- To calculate power, what percentage of a normal curve centered at $\\mu=108$ does $z* \\ge 1.645$ contain?\n",
    "  - $z* = 1.645 \\; \\rightarrow \\; \\mu = 106.58 $\n",
    "  - $\\mu \\ge 106.58 \\; \\rightarrow \\; \\text{P}(\\mu \\ge 106.58 \\; | \\; \\mu = 108) = \\frac{106.58 - 108}{16/\\sqrt{n}} = \\bf{.6387}$\n",
    "  \n",
    "#### Question 2: How many samples?\n",
    "- How many samples are needed for **95% power** on **differences of 8** or more?\n",
    "- Start of rejection region: $R = 100 + 1.645*16/\\sqrt{n}$\n",
    "- 5th percentile of $H_A$: $A = 108 - 1.645*16/\\sqrt{n}$\n",
    "- We need: $R \\le A \\; \\rightarrow \\; 32*1.645/\\sqrt{n} \\le 8 \\; \\rightarrow \\; n \\ge 44$"
   ]
  }
 ],
 "metadata": {
  "anaconda-cloud": {},
  "kernelspec": {
   "display_name": "Python [default]",
   "language": "python",
   "name": "python3"
  },
  "language_info": {
   "codemirror_mode": {
    "name": "ipython",
    "version": 3
   },
   "file_extension": ".py",
   "mimetype": "text/x-python",
   "name": "python",
   "nbconvert_exporter": "python",
   "pygments_lexer": "ipython3",
   "version": "3.5.2"
  }
 },
 "nbformat": 4,
 "nbformat_minor": 1
}
