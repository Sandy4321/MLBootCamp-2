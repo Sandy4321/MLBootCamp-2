{
 "cells": [
  {
   "cell_type": "markdown",
   "metadata": {},
   "source": [
    "**Egg Dropping Pair Problem Solution - Minimize Worst Case Number Of Steps**"
   ]
  },
  {
   "cell_type": "code",
   "execution_count": 1,
   "metadata": {
    "collapsed": true
   },
   "outputs": [],
   "source": [
    "import numpy as np\n",
    "\n",
    "N = 100"
   ]
  },
  {
   "cell_type": "markdown",
   "metadata": {},
   "source": [
    "We want a solution that \"minimizes maximum regret\", we'll use a strategy where we try to make the worst case scenario constant no matter what floor the first egg breaks on. \n",
    "\n",
    "Dropping the first egg from floor n, if it breaks the worst case scenario would be needing to drop the egg n-1 more times.\n",
    "\n",
    "If the first egg doesn't break, we've used a guess and now want the worst case scenario of **remaining drops** to be n - 1 to keep the worst case scenario constant. To do this we'd need to drop the first egg at floor n + (n - 1), because if the egg then breaks we'd only need to do (2n - 1 - n) = n - 1 more steps at worst.\n",
    "\n",
    "Proceeding in this way, to cover the whole range (assuming first egg doesn't break sooner) we'd need to take step sizes s.t. n + (n - 1) + (n - 2) + ... + 1 >= N. I.e. (n^2 + n) / 2 >= 100. Now solve for n to get the starting step size (round up), and we have our worst case scenario answer of n egg drops."
   ]
  },
  {
   "cell_type": "code",
   "execution_count": 2,
   "metadata": {},
   "outputs": [
    {
     "name": "stdout",
     "output_type": "stream",
     "text": [
      "14\n"
     ]
    }
   ],
   "source": [
    "coeffs = [1, 1, -2 * N]\n",
    "roots = np.sort(np.roots(coeffs))\n",
    "n = int(np.ceil(roots[1]))\n",
    "print(n)"
   ]
  },
  {
   "cell_type": "markdown",
   "metadata": {},
   "source": [
    "**Simple implimentation of the strategy**"
   ]
  },
  {
   "cell_type": "code",
   "execution_count": 12,
   "metadata": {},
   "outputs": [
    {
     "name": "stdout",
     "output_type": "stream",
     "text": [
      "Break floor: 6\n",
      "Total Guesses: 7\n"
     ]
    }
   ],
   "source": [
    "from random import randint\n",
    "break_floor = randint(0, N)\n",
    "print('Break floor: %d' % break_floor)\n",
    "\n",
    "egg_broken = [False, False]\n",
    "guesses = 0\n",
    "stepsize, floor = n, n\n",
    "\n",
    "while not egg_broken[0]:\n",
    "    guesses += 1\n",
    "    if floor >= break_floor:\n",
    "        egg_broken[0] = True \n",
    "        floor = floor - stepsize + 1\n",
    "    else:\n",
    "        stepsize -= 1\n",
    "        floor += stepsize\n",
    "\n",
    "upper = floor + stepsize - 1        \n",
    "    \n",
    "while ((not egg_broken[1]) and (floor < upper)):\n",
    "    guesses += 1\n",
    "    if floor == break_floor:\n",
    "        egg_broken[1] = True\n",
    "    else:\n",
    "        floor += 1\n",
    "        \n",
    "print('Total Guesses: %d' % guesses)"
   ]
  },
  {
   "cell_type": "code",
   "execution_count": null,
   "metadata": {
    "collapsed": true
   },
   "outputs": [],
   "source": []
  }
 ],
 "metadata": {
  "kernelspec": {
   "display_name": "Python 3",
   "language": "python",
   "name": "python3"
  },
  "language_info": {
   "codemirror_mode": {
    "name": "ipython",
    "version": 3
   },
   "file_extension": ".py",
   "mimetype": "text/x-python",
   "name": "python",
   "nbconvert_exporter": "python",
   "pygments_lexer": "ipython3",
   "version": "3.6.2"
  }
 },
 "nbformat": 4,
 "nbformat_minor": 2
}
