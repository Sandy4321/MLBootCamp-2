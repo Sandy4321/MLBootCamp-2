{
 "cells": [
  {
   "cell_type": "markdown",
   "metadata": {
    "run_control": {
     "frozen": false,
     "read_only": false
    }
   },
   "source": [
    "# Topic Modeling with gensim\n",
    "We'll try out [Latent Dirichlet Allocation (LDA)](https://en.wikipedia.org/wiki/Latent_Dirichlet_allocation) in [gensim](http://radimrehurek.com/gensim/index.html) on the [20 Newsgroups dataset](http://scikit-learn.org/stable/datasets/twenty_newsgroups.html) with some simple preprocessing."
   ]
  },
  {
   "cell_type": "markdown",
   "metadata": {
    "run_control": {
     "frozen": false,
     "read_only": false
    }
   },
   "source": [
    "#### Install gensim"
   ]
  },
  {
   "cell_type": "code",
   "execution_count": 1,
   "metadata": {
    "collapsed": false,
    "run_control": {
     "frozen": false,
     "read_only": false
    }
   },
   "outputs": [
    {
     "name": "stdout",
     "output_type": "stream",
     "text": [
      "Requirement already up-to-date: gensim in /Applications/anaconda/envs/py3env/lib/python3.5/site-packages\n",
      "Requirement already up-to-date: six>=1.5.0 in /Applications/anaconda/envs/py3env/lib/python3.5/site-packages (from gensim)\n",
      "Requirement already up-to-date: numpy>=1.11.3 in /Applications/anaconda/envs/py3env/lib/python3.5/site-packages (from gensim)\n",
      "Requirement already up-to-date: smart-open>=1.2.1 in /Applications/anaconda/envs/py3env/lib/python3.5/site-packages (from gensim)\n",
      "Requirement already up-to-date: scipy>=0.18.1 in /Applications/anaconda/envs/py3env/lib/python3.5/site-packages (from gensim)\n",
      "Requirement already up-to-date: bz2file in /Applications/anaconda/envs/py3env/lib/python3.5/site-packages (from smart-open>=1.2.1->gensim)\n",
      "Requirement already up-to-date: boto>=2.32 in /Applications/anaconda/envs/py3env/lib/python3.5/site-packages (from smart-open>=1.2.1->gensim)\n",
      "Requirement already up-to-date: requests in /Applications/anaconda/envs/py3env/lib/python3.5/site-packages (from smart-open>=1.2.1->gensim)\n",
      "Requirement already up-to-date: certifi>=2017.4.17 in /Applications/anaconda/envs/py3env/lib/python3.5/site-packages (from requests->smart-open>=1.2.1->gensim)\n",
      "Requirement already up-to-date: urllib3<1.23,>=1.21.1 in /Applications/anaconda/envs/py3env/lib/python3.5/site-packages (from requests->smart-open>=1.2.1->gensim)\n",
      "Requirement already up-to-date: chardet<3.1.0,>=3.0.2 in /Applications/anaconda/envs/py3env/lib/python3.5/site-packages (from requests->smart-open>=1.2.1->gensim)\n",
      "Requirement already up-to-date: idna<2.6,>=2.5 in /Applications/anaconda/envs/py3env/lib/python3.5/site-packages (from requests->smart-open>=1.2.1->gensim)\n"
     ]
    }
   ],
   "source": [
    "!pip install --upgrade gensim"
   ]
  },
  {
   "cell_type": "markdown",
   "metadata": {
    "run_control": {
     "frozen": false,
     "read_only": false
    }
   },
   "source": [
    "##### imports"
   ]
  },
  {
   "cell_type": "code",
   "execution_count": 2,
   "metadata": {
    "collapsed": true
   },
   "outputs": [],
   "source": [
    "from __future__ import print_function"
   ]
  },
  {
   "cell_type": "code",
   "execution_count": 3,
   "metadata": {
    "collapsed": false,
    "run_control": {
     "frozen": false,
     "read_only": false
    }
   },
   "outputs": [
    {
     "name": "stderr",
     "output_type": "stream",
     "text": [
      "Using TensorFlow backend.\n"
     ]
    }
   ],
   "source": [
    "# gensim\n",
    "from gensim import corpora, models, similarities, matutils\n",
    "# sklearn\n",
    "from sklearn import datasets\n",
    "from sklearn.feature_extraction.text import CountVectorizer\n",
    "from sklearn.cluster import KMeans\n",
    "# logging for gensim (set to INFO)\n",
    "import logging\n",
    "logging.basicConfig(format='%(asctime)s : %(levelname)s : %(message)s', level=logging.INFO)"
   ]
  },
  {
   "cell_type": "markdown",
   "metadata": {
    "run_control": {
     "frozen": false,
     "read_only": false
    }
   },
   "source": [
    "Let's retain only a subset of the 20 categories in the original 20 Newsgroups Dataset."
   ]
  },
  {
   "cell_type": "code",
   "execution_count": 4,
   "metadata": {
    "collapsed": false,
    "run_control": {
     "frozen": false,
     "read_only": false
    }
   },
   "outputs": [],
   "source": [
    "# Set categories\n",
    "categories = ['comp.graphics', 'rec.sport.baseball', 'rec.motorcycles', 'sci.space', 'alt.atheism']\n",
    "# Download the training subset of the 20 NG dataset, with headers, footers, quotes removed\n",
    "# Only keep docs from the 6 categories above\n",
    "ng_train = datasets.fetch_20newsgroups(subset='train', categories=categories, \n",
    "                                      remove=('headers', 'footers', 'quotes'))"
   ]
  },
  {
   "cell_type": "code",
   "execution_count": 5,
   "metadata": {
    "collapsed": false,
    "run_control": {
     "frozen": false,
     "read_only": false
    }
   },
   "outputs": [
    {
     "data": {
      "text/plain": [
       "'Archive-name: atheism/introduction\\nAlt-atheism-archive-name: introduction\\nLast-modified: 5 April 1993\\nVersion: 1.2\\n\\n-----BEGIN PGP SIGNED MESSAGE-----\\n\\n                          An Introduction to Atheism\\n                       by mathew <mathew@mantis.co.uk>\\n\\nThis article attempts to provide a general introduction to atheism.  Whilst I\\nhave tried to be as neutral as possible regarding contentious issues, you\\nshould always remember that this document represents only one viewpoint.  I\\nwould encourage you to read widely and draw your own conclusions; some\\nrelevant books are listed in a companion article.\\n\\nTo provide a sense of cohesion and progression, I have presented this article\\nas an imaginary conversation between an atheist and a theist.  All the\\nquestions asked by the imaginary theist are questions which have been cropped\\nup repeatedly on alt.atheism since the newsgroup was created.  Some other\\nfrequently asked questions are answered in a companion article.\\n\\nPlease note that this article is arguably slanted towards answering questions\\nposed from a Christian viewpoint.  This is because the FAQ files reflect\\nquestions which have actually been asked, and it is predominantly Christians\\nwho proselytize on alt.atheism.\\n\\nSo when I talk of religion, I am talking primarily about religions such as\\nChristianity, Judaism and Islam, which involve some sort of superhuman divine\\nbeing.  Much of the discussion will apply to other religions, but some of it\\nmay not.\\n\\n\"What is atheism?\"\\n\\nAtheism is characterized by an absence of belief in the existence of God.\\nSome atheists go further, and believe that God does not exist.  The former is\\noften referred to as the \"weak atheist\" position, and the latter as \"strong\\natheism\".\\n\\nIt is important to note the difference between these two positions.  \"Weak\\natheism\" is simple scepticism; disbelief in the existence of God.  \"Strong\\natheism\" is a positive belief that God does not exist.  Please do not\\nfall into the trap of assuming that all atheists are \"strong atheists\".\\n\\nSome atheists believe in the non-existence of all Gods; others limit their\\natheism to specific Gods, such as the Christian God, rather than making\\nflat-out denials.\\n\\n\"But isn\\'t disbelieving in God the same thing as believing he doesn\\'t exist?\"\\n\\nDefinitely not.  Disbelief in a proposition means that one does not believe\\nit to be true.  Not believing that something is true is not equivalent to\\nbelieving that it is false; one may simply have no idea whether it is true or\\nnot.  Which brings us to agnosticism.\\n\\n\"What is agnosticism then?\"\\n\\nThe term \\'agnosticism\\' was coined by Professor Huxley at a meeting of the\\nMetaphysical Society in 1876.  He defined an agnostic as someone who\\ndisclaimed (\"strong\") atheism and believed that the ultimate origin of things\\nmust be some cause unknown and unknowable.\\n\\nThus an agnostic is someone who believes that we do not and cannot know for\\nsure whether God exists.\\n\\nWords are slippery things, and language is inexact.  Beware of assuming that\\nyou can work out someone\\'s philosophical point of view simply from the fact\\nthat she calls herself an atheist or an agnostic.  For example, many people\\nuse agnosticism to mean \"weak atheism\", and use the word \"atheism\" only when\\nreferring to \"strong atheism\".\\n\\nBeware also that because the word \"atheist\" has so many shades of meaning, it\\nis very difficult to generalize about atheists.  About all you can say for\\nsure is that atheists don\\'t believe in God.  For example, it certainly isn\\'t\\nthe case that all atheists believe that science is the best way to find out\\nabout the universe.\\n\\n\"So what is the philosophical justification or basis for atheism?\"\\n\\nThere are many philosophical justifications for atheism.  To find out why a\\nparticular person chooses to be an atheist, it\\'s best to ask her.\\n\\nMany atheists feel that the idea of God as presented by the major religions\\nis essentially self-contradictory, and that it is logically impossible that\\nsuch a God could exist.  Others are atheists through scepticism, because they\\nsee no evidence that God exists.\\n\\n\"But isn\\'t it impossible to prove the non-existence of something?\"\\n\\nThere are many counter-examples to such a statement.  For example, it is\\nquite simple to prove that there does not exist a prime number larger than\\nall other prime numbers.  Of course, this deals with well-defined objects\\nobeying well-defined rules.  Whether Gods or universes are similarly\\nwell-defined is a matter for debate.\\n\\nHowever, assuming for the moment that the existence of a God is not provably\\nimpossible, there are still subtle reasons for assuming the non-existence of\\nGod.  If we assume that something does not exist, it is always possible to\\nshow that this assumption is invalid by finding a single counter-example.\\n\\nIf on the other hand we assume that something does exist, and if the thing in\\nquestion is not provably impossible, showing that the assumption is invalid\\nmay require an exhaustive search of all possible places where such a thing\\nmight be found, to show that it isn\\'t there.  Such an exhaustive search is\\noften impractical or impossible.  There is no such problem with largest\\nprimes, because we can prove that they don\\'t exist.\\n\\nTherefore it is generally accepted that we must assume things do not exist\\nunless we have evidence that they do.  Even theists follow this rule most of\\nthe time; they don\\'t believe in unicorns, even though they can\\'t conclusively\\nprove that no unicorns exist anywhere.\\n\\nTo assume that God exists is to make an assumption which probably cannot be\\ntested.  We cannot make an exhaustive search of everywhere God might be to\\nprove that he doesn\\'t exist anywhere.  So the sceptical atheist assumes by\\ndefault that God does not exist, since that is an assumption we can test.\\n\\nThose who profess strong atheism usually do not claim that no sort of God\\nexists; instead, they generally restrict their claims so as to cover\\nvarieties of God described by followers of various religions.  So whilst it\\nmay be impossible to prove conclusively that no God exists, it may be\\npossible to prove that (say) a God as described by a particular religious\\nbook does not exist.  It may even be possible to prove that no God described\\nby any present-day religion exists.\\n\\nIn practice, believing that no God described by any religion exists is very\\nclose to believing that no God exists.  However, it is sufficiently different\\nthat counter-arguments based on the impossibility of disproving every kind of\\nGod are not really applicable.\\n\\n\"But what if God is essentially non-detectable?\"\\n\\nIf God interacts with our universe in any way, the effects of his interaction\\nmust be measurable.  Hence his interaction with our universe must be\\ndetectable.\\n\\nIf God is essentially non-detectable, it must therefore be the case that he\\ndoes not interact with our universe in any way.  Many atheists would argue\\nthat if God does not interact with our universe at all, it is of no\\nimportance whether he exists or not.\\n\\nIf the Bible is to be believed, God was easily detectable by the Israelites.\\nSurely he should still be detectable today?\\n\\nNote that I am not demanding that God interact in a scientifically\\nverifiable, physical way.  It must surely be possible to perceive some\\neffect caused by his presence, though; otherwise, how can I distinguish him\\nfrom all the other things that don\\'t exist?\\n\\n\"OK, you may think there\\'s a philosophical justification for atheism, but\\n isn\\'t it still a religious belief?\"\\n\\nOne of the most common pastimes in philosophical discussion is \"the\\nredefinition game\".  The cynical view of this game is as follows:\\n\\nPerson A begins by making a contentious statement.  When person B points out\\nthat it can\\'t be true, person A gradually re-defines the words he used in the\\nstatement until he arrives at something person B is prepared to accept.  He\\nthen records the statement, along with the fact that person B has agreed to\\nit, and continues.  Eventually A uses the statement as an \"agreed fact\", but\\nuses his original definitions of all the words in it rather than the obscure\\nredefinitions originally needed to get B to agree to it.  Rather than be seen\\nto be apparently inconsistent, B will tend to play along.\\n\\nThe point of this digression is that the answer to the question \"Isn\\'t\\natheism a religious belief?\" depends crucially upon what is meant by\\n\"religious\".  \"Religion\" is generally characterized by belief in a superhuman\\ncontrolling power -- especially in some sort of God -- and by faith and\\nworship.\\n\\n[ It\\'s worth pointing out in passing that some varieties of Buddhism are not\\n  \"religion\" according to such a definition. ]\\n\\nAtheism is certainly not a belief in any sort of superhuman power, nor is it\\ncategorized by worship in any meaningful sense.  Widening the definition of\\n\"religious\" to encompass atheism tends to result in many other aspects of\\nhuman behaviour suddenly becoming classed as \"religious\" as well -- such as\\nscience, politics, and watching TV.\\n\\n\"OK, so it\\'s not a religion.  But surely belief in atheism (or science) is\\n still just an act of faith, like religion is?\"\\n\\nFirstly, it\\'s not entirely clear that sceptical atheism is something one\\nactually believes in.\\n\\nSecondly, it is necessary to adopt a number of core beliefs or assumptions to\\nmake some sort of sense out of the sensory data we experience.  Most atheists\\ntry to adopt as few core beliefs as possible; and even those are subject to\\nquestioning if experience throws them into doubt.\\n\\nScience has a number of core assumptions.  For example, it is generally\\nassumed that the laws of physics are the same for all observers.  These are\\nthe sort of core assumptions atheists make.  If such basic ideas are called\\n\"acts of faith\", then almost everything we know must be said to be based on\\nacts of faith, and the term loses its meaning.\\n\\nFaith is more often used to refer to complete, certain belief in something.\\nAccording to such a definition, atheism and science are certainly not acts of\\nfaith.  Of course, individual atheists or scientists can be as dogmatic as\\nreligious followers when claiming that something is \"certain\".  This is not a\\ngeneral tendency, however; there are many atheists who would be reluctant to\\nstate with certainty that the universe exists.\\n\\nFaith is also used to refer to belief without supporting evidence or proof.\\nSceptical atheism certainly doesn\\'t fit that definition, as sceptical atheism\\nhas no beliefs.  Strong atheism is closer, but still doesn\\'t really match, as\\neven the most dogmatic atheist will tend to refer to experimental data (or\\nthe lack of it) when asserting that God does not exist.\\n\\n\"If atheism is not religious, surely it\\'s anti-religious?\"\\n\\nIt is an unfortunate human tendency to label everyone as either \"for\" or\\n\"against\", \"friend\" or \"enemy\".  The truth is not so clear-cut.\\n\\nAtheism is the position that runs logically counter to theism; in that sense,\\nit can be said to be \"anti-religion\".  However, when religious believers\\nspeak of atheists being \"anti-religious\" they usually mean that the atheists\\nhave some sort of antipathy or hatred towards theists.\\n\\nThis categorization of atheists as hostile towards religion is quite unfair.\\nAtheist attitudes towards theists in fact cover a broad spectrum.\\n\\nMost atheists take a \"live and let live\" attitude.  Unless questioned, they\\nwill not usually mention their atheism, except perhaps to close friends.  Of\\ncourse, this may be in part because atheism is not \"socially acceptable\" in\\nmany countries.\\n\\nA few atheists are quite anti-religious, and may even try to \"convert\" others\\nwhen possible.  Historically, such anti-religious atheists have made little\\nimpact on society outside the Eastern Bloc countries.\\n\\n(To digress slightly: the Soviet Union was originally dedicated to separation\\nof church and state, just like the USA.  Soviet citizens were legally free to\\nworship as they wished.  The institution of \"state atheism\" came about when\\nStalin took control of the Soviet Union and tried to destroy the churches in\\norder to gain complete power over the population.)\\n\\nSome atheists are quite vocal about their beliefs, but only where they see\\nreligion encroaching on matters which are not its business -- for example,\\nthe government of the USA.  Such individuals are usually concerned that\\nchurch and state should remain separate.\\n\\n\"But if you don\\'t allow religion to have a say in the running of the state,\\n surely that\\'s the same as state atheism?\"\\n\\nThe principle of the separation of church and state is that the state shall\\nnot legislate concerning matters of religious belief.  In particular, it\\nmeans not only that the state cannot promote one religion at the expense of\\nanother, but also that it cannot promote any belief which is religious in\\nnature.\\n\\nReligions can still have a say in discussion of purely secular matters.  For\\nexample, religious believers have historically been responsible for\\nencouraging many political reforms.  Even today, many organizations\\ncampaigning for an increase in spending on foreign aid are founded as\\nreligious campaigns.  So long as they campaign concerning secular matters,\\nand so long as they do not discriminate on religious grounds, most atheists\\nare quite happy to see them have their say.\\n\\n\"What about prayer in schools? If there\\'s no God, why do you care if people\\n pray?\"\\n\\nBecause people who do pray are voters and lawmakers, and tend to do things\\nthat those who don\\'t pray can\\'t just ignore.  Also, Christian prayer in\\nschools is intimidating to non-Christians, even if they are told that they\\nneed not join in.  The diversity of religious and non-religious belief means\\nthat it is impossible to formulate a meaningful prayer that will be\\nacceptable to all those present at any public event.\\n\\nAlso, non-prayers tend to have friends and family who pray.  It is reasonable\\nto care about friends and family wasting their time, even without other\\nmotives.\\n\\n\"You mentioned Christians who campaign for increased foreign aid.  What about\\n atheists?  Why aren\\'t there any atheist charities or hospitals?  Don\\'t\\n atheists object to the religious charities?\"\\n\\nThere are many charities without religious purpose that atheists can\\ncontribute to.  Some atheists contribute to religious charities as well, for\\nthe sake of the practical good they do.  Some atheists even do voluntary work\\nfor charities founded on a theistic basis.\\n\\nMost atheists seem to feel that atheism isn\\'t worth shouting about in\\nconnection with charity.  To them, atheism is just a simple, obvious everyday\\nmatter, and so is charity.  Many feel that it\\'s somewhat cheap, not to say\\nself-righteous, to use simple charity as an excuse to plug a particular set\\nof religious beliefs.\\n\\nTo \"weak\" atheists, building a hospital to say \"I do not believe in God\" is a\\nrather strange idea; it\\'s rather like holding a party to say \"Today is not my\\nbirthday\".  Why the fuss?  Atheism is rarely evangelical.\\n\\n\"You said atheism isn\\'t anti-religious.  But is it perhaps a backlash against\\n one\\'s upbringing, a way of rebelling?\"\\n\\nPerhaps it is, for some.  But many people have parents who do not attempt to\\nforce any religious (or atheist) ideas upon them, and many of those people\\nchoose to call themselves atheists.\\n\\nIt\\'s also doubtless the case that some religious people chose religion as a\\nbacklash against an atheist upbringing, as a way of being different.  On the\\nother hand, many people choose religion as a way of conforming to the\\nexpectations of others.\\n\\nOn the whole, we can\\'t conclude much about whether atheism or religion are\\nbacklash or conformism; although in general, people have a tendency to go\\nalong with a group rather than act or think independently.\\n\\n\"How do atheists differ from religious people?\"\\n\\nThey don\\'t believe in God.  That\\'s all there is to it.\\n\\nAtheists may listen to heavy metal -- backwards, even -- or they may prefer a\\nVerdi Requiem, even if they know the words.  They may wear Hawaiian shirts,\\nthey may dress all in black, they may even wear orange robes.  (Many\\nBuddhists lack a belief in any sort of God.)  Some atheists even carry a copy\\nof the Bible around -- for arguing against, of course!\\n\\nWhoever you are, the chances are you have met several atheists without\\nrealising it.  Atheists are usually unexceptional in behaviour and\\nappearance.\\n\\n\"Unexceptional? But aren\\'t atheists less moral than religious people?\"\\n\\nThat depends.  If you define morality as obedience to God, then of course\\natheists are less moral as they don\\'t obey any God.  But usually when one\\ntalks of morality, one talks of what is acceptable (\"right\") and unacceptable\\n(\"wrong\") behaviour within society.\\n\\nHumans are social animals, and to be maximally successful they must\\nco-operate with each other.  This is a good enough reason to discourage most\\natheists from \"anti-social\" or \"immoral\" behaviour, purely for the purposes\\nof self-preservation.\\n\\nMany atheists behave in a \"moral\" or \"compassionate\" way simply because they\\nfeel a natural tendency to empathize with other humans.  So why do they care\\nwhat happens to others?  They don\\'t know, they simply are that way.\\n\\nNaturally, there are some people who behave \"immorally\" and try to use\\natheism to justify their actions.  However, there are equally many people who\\nbehave \"immorally\" and then try to use religious beliefs to justify their\\nactions.  For example:\\n\\n  \"Here is a trustworthy saying that deserves full acceptance: Jesus Christ\\n   came into the world to save sinners...  But for that very reason, I was\\n   shown mercy so that in me...  Jesus Christ might display His unlimited\\n   patience as an example for those who would believe in him and receive\\n   eternal life.  Now to the king eternal, immortal, invisible, the only God,\\n   be honor and glory forever and ever.\"\\n\\nThe above quote is from a statement made to the court on February 17th 1992\\nby Jeffrey Dahmer, the notorious cannibal serial killer of Milwaukee,\\nWisconsin.  It seems that for every atheist mass-murderer, there is a\\nreligious mass-murderer.  But what of more trivial morality?\\n\\n   A survey conducted by the Roper Organization found that behavior\\n   deteriorated after \"born again\" experiences.  While only 4% of respondents\\n   said they had driven intoxicated before being \"born again,\" 12% had done\\n   so after conversion.  Similarly, 5% had used illegal drugs before\\n   conversion, 9% after.  Two percent admitted to engaging in illicit sex\\n   before salvation; 5% after.\\n                                [\"Freethought Today\", September 1991, p. 12.]\\n\\nSo it seems that at best, religion does not have a monopoly on moral\\nbehaviour.\\n\\n\"Is there such a thing as atheist morality?\"\\n\\nIf you mean \"Is there such a thing as morality for atheists?\", then the\\nanswer is yes, as explained above.  Many atheists have ideas about morality\\nwhich are at least as strong as those held by religious people.\\n\\nIf you mean \"Does atheism have a characteristic moral code?\", then the answer\\nis no.  Atheism by itself does not imply anything much about how a person\\nwill behave.  Most atheists follow many of the same \"moral rules\" as theists,\\nbut for different reasons.  Atheists view morality as something created by\\nhumans, according to the way humans feel the world \\'ought\\' to work, rather\\nthan seeing it as a set of rules decreed by a supernatural being.\\n\\n\"Then aren\\'t atheists just theists who are denying God?\"\\n\\nA study by the Freedom From Religion Foundation found that over 90% of the\\natheists who responded became atheists because religion did not work for\\nthem.  They had found that religious beliefs were fundamentally incompatible\\nwith what they observed around them.\\n\\nAtheists are not unbelievers through ignorance or denial; they are\\nunbelievers through choice.  The vast majority of them have spent time\\nstudying one or more religions, sometimes in very great depth.  They have\\nmade a careful and considered decision to reject religious beliefs.\\n\\nThis decision may, of course, be an inevitable consequence of that\\nindividual\\'s personality.  For a naturally sceptical person, the choice\\nof atheism is often the only one that makes sense, and hence the only\\nchoice that person can honestly make.\\n\\n\"But don\\'t atheists want to believe in God?\"\\n\\nAtheists live their lives as though there is nobody watching over them.  Many\\nof them have no desire to be watched over, no matter how good-natured the\\n\"Big Brother\" figure might be.\\n\\nSome atheists would like to be able to believe in God -- but so what? Should\\none believe things merely because one wants them to be true?  The risks of\\nsuch an approach should be obvious.  Atheists often decide that wanting to\\nbelieve something is not enough; there must be evidence for the belief.\\n\\n\"But of course atheists see no evidence for the existence of God -- they are\\n unwilling in their souls to see!\"\\n\\nMany, if not most atheists were previously religious.  As has been explained\\nabove, the vast majority have seriously considered the possibility that God\\nexists.  Many atheists have spent time in prayer trying to reach God.\\n\\nOf course, it is true that some atheists lack an open mind; but assuming that\\nall atheists are biased and insincere is offensive and closed-minded.\\nComments such as \"Of course God is there, you just aren\\'t looking properly\"\\nare likely to be viewed as patronizing.\\n\\nCertainly, if you wish to engage in philosophical debate with atheists it is\\nvital that you give them the benefit of the doubt and assume that they are\\nbeing sincere if they say that they have searched for God.  If you are not\\nwilling to believe that they are basically telling the truth, debate is\\nfutile.\\n\\n\"Isn\\'t the whole of life completely pointless to an atheist?\"\\n\\nMany atheists live a purposeful life.  They decide what they think gives\\nmeaning to life, and they pursue those goals.  They try to make their lives\\ncount, not by wishing for eternal life, but by having an influence on other\\npeople who will live on.  For example, an atheist may dedicate his life to\\npolitical reform, in the hope of leaving his mark on history.\\n\\nIt is a natural human tendency to look for \"meaning\" or \"purpose\" in random\\nevents.  However, it is by no means obvious that \"life\" is the sort of thing\\nthat has a \"meaning\".\\n\\nTo put it another way, not everything which looks like a question is actually\\na sensible thing to ask.  Some atheists believe that asking \"What is the\\nmeaning of life?\" is as silly as asking \"What is the meaning of a cup of\\ncoffee?\".  They believe that life has no purpose or meaning, it just is.\\n\\n\"So how do atheists find comfort in time of danger?\"\\n\\nThere are many ways of obtaining comfort; from family, friends, or even pets.\\nOr on a less spiritual level, from food or drink or TV.\\n\\nThat may sound rather an empty and vulnerable way to face danger, but so\\nwhat?  Should individuals believe in things because they are comforting, or\\nshould they face reality no matter how harsh it might be?\\n\\nIn the end, it\\'s a decision for the individual concerned.  Most atheists are\\nunable to believe something they would not otherwise believe merely because\\nit makes them feel comfortable.  They put truth before comfort, and consider\\nthat if searching for truth sometimes makes them feel unhappy, that\\'s just\\nhard luck.\\n\\n\"Don\\'t atheists worry that they might suddenly be shown to be wrong?\"\\n\\nThe short answer is \"No, do you?\"\\n\\nMany atheists have been atheists for years.  They have encountered many\\narguments and much supposed evidence for the existence of God, but they have\\nfound all of it to be invalid or inconclusive.\\n\\nThousands of years of religious belief haven\\'t resulted in any good proof of\\nthe existence of God.  Atheists therefore tend to feel that they are unlikely\\nto be proved wrong in the immediate future, and they stop worrying about it.\\n\\n\"So why should theists question their beliefs? Don\\'t the same arguments\\n apply?\"\\n\\nNo, because the beliefs being questioned are not similar.  Weak atheism is\\nthe sceptical \"default position\" to take; it asserts nothing.  Strong atheism\\nis a negative belief.  Theism is a very strong positive belief.\\n\\nAtheists sometimes also argue that theists should question their beliefs\\nbecause of the very real harm they can cause -- not just to the believers,\\nbut to everyone else.\\n\\n\"What sort of harm?\"\\n\\nReligion represents a huge financial and work burden on mankind.  It\\'s not\\njust a matter of religious believers wasting their money on church buildings;\\nthink of all the time and effort spent building churches, praying, and so on.\\nImagine how that effort could be better spent.\\n\\nMany theists believe in miracle healing.  There have been plenty of instances\\nof ill people being \"healed\" by a priest, ceasing to take the medicines\\nprescribed to them by doctors, and dying as a result.  Some theists have died\\nbecause they have refused blood transfusions on religious grounds.\\n\\nIt is arguable that the Catholic Church\\'s opposition to birth control -- and\\ncondoms in particular -- is increasing the problem of overpopulation in many\\nthird-world countries and contributing to the spread of AIDS world-wide.\\n\\nReligious believers have been known to murder their children rather than\\nallow their children to become atheists or marry someone of a different\\nreligion.\\n\\n\"Those weren\\'t REAL believers.  They just claimed to be believers as some\\n sort of excuse.\"\\n\\nWhat makes a real believer?  There are so many One True Religions it\\'s hard\\nto tell.  Look at Christianity: there are many competing groups, all\\nconvinced that they are the only true Christians.  Sometimes they even fight\\nand kill each other.  How is an atheist supposed to decide who\\'s a REAL\\nChristian and who isn\\'t, when even the major Christian churches like the\\nCatholic Church and the Church of England can\\'t decide amongst themselves?\\n\\nIn the end, most atheists take a pragmatic view, and decide that anyone who\\ncalls himself a Christian, and uses Christian belief or dogma to justify his\\nactions, should be considered a Christian.  Maybe some of those Christians\\nare just perverting Christian teaching for their own ends -- but surely if\\nthe Bible can be so readily used to support un-Christian acts it can\\'t be\\nmuch of a moral code? If the Bible is the word of God, why couldn\\'t he have\\nmade it less easy to misinterpret? And how do you know that your beliefs\\naren\\'t a perversion of what your God intended?\\n\\nIf there is no single unambiguous interpretation of the Bible, then why\\nshould an atheist take one interpretation over another just on your say-so?\\nSorry, but if someone claims that he believes in Jesus and that he murdered\\nothers because Jesus and the Bible told him to do so, we must call him a\\nChristian.\\n\\n\"Obviously those extreme sorts of beliefs should be questioned.  But since\\n nobody has ever proved that God does not exist, it must be very unlikely\\n that more basic religious beliefs, shared by all faiths, are nonsense.\"\\n\\nThat does not hold, because as was pointed out at the start of this dialogue,\\npositive assertions concerning the existence of entities are inherently much\\nharder to disprove than negative ones.  Nobody has ever proved that unicorns\\ndon\\'t exist, but that doesn\\'t make it unlikely that they are myths.\\n\\nIt is therefore much more valid to hold a negative assertion by default than\\nit is to hold a positive assertion by default.  Of course, \"weak\" atheists\\nwould argue that asserting nothing is better still.\\n\\n\"Well, if atheism\\'s so great, why are there so many theists?\"\\n\\nUnfortunately, the popularity of a belief has little to do with how \"correct\"\\nit is, or whether it \"works\"; consider how many people believe in astrology,\\ngraphology, and other pseudo-sciences.\\n\\nMany atheists feel that it is simply a human weakness to want to believe in\\ngods.  Certainly in many primitive human societies, religion allows the\\npeople to deal with phenomena that they do not adequately understand.\\n\\nOf course, there\\'s more to religion than that.  In the industrialized world,\\nwe find people believing in religious explanations of phenomena even when\\nthere are perfectly adequate natural explanations.  Religion may have started\\nas a means of attempting to explain the world, but nowadays it serves other\\npurposes as well.\\n\\n\"But so many cultures have developed religions.  Surely that must say\\n something?\"\\n\\nNot really.  Most religions are only superficially similar; for example, it\\'s\\nworth remembering that religions such as Buddhism and Taoism lack any sort of\\nconcept of God in the Christian sense.\\n\\nOf course, most religions are quick to denounce competing religions, so it\\'s\\nrather odd to use one religion to try and justify another.\\n\\n\"What about all the famous scientists and philosophers who have concluded\\n that God exists?\"\\n\\nFor every scientist or philosopher who believes in a god, there is one who\\ndoes not.  Besides, as has already been pointed out, the truth of a belief is\\nnot determined by how many people believe it.  Also, it is important to\\nrealize that atheists do not view famous scientists or philosophers in the\\nsame way that theists view their religious leaders.\\n\\nA famous scientist is only human; she may be an expert in some fields, but\\nwhen she talks about other matters her words carry no special weight.  Many\\nrespected scientists have made themselves look foolish by speaking on\\nsubjects which lie outside their fields of expertise.\\n\\n\"So are you really saying that widespread belief in religion indicates\\n nothing?\"\\n\\nNot entirely.  It certainly indicates that the religion in question has\\nproperties which have helped it so spread so far.\\n\\nThe theory of memetics talks of \"memes\" -- sets of ideas which can propagate\\nthemselves between human minds, by analogy with genes.  Some atheists view\\nreligions as sets of particularly successful parasitic memes, which spread by\\nencouraging their hosts to convert others.  Some memes avoid destruction by\\ndiscouraging believers from questioning doctrine, or by using peer pressure\\nto keep one-time believers from admitting that they were mistaken.  Some\\nreligious memes even encourage their hosts to destroy hosts controlled by\\nother memes.\\n\\nOf course, in the memetic view there is no particular virtue associated with\\nsuccessful propagation of a meme.  Religion is not a good thing because of\\nthe number of people who believe it, any more than a disease is a good thing\\nbecause of the number of people who have caught it.\\n\\n\"Even if religion is not entirely true, at least it puts across important\\n messages.  What are the fundamental messages of atheism?\"\\n\\nThere are many important ideas atheists promote.  The following are just a\\nfew of them; don\\'t be surprised to see ideas which are also present in some\\nreligions.\\n\\n   There is more to moral behaviour than mindlessly following rules.\\n\\n   Be especially sceptical of positive claims.\\n\\n   If you want your life to have some sort of meaning, it\\'s up to you to\\n   find it.\\n\\n   Search for what is true, even if it makes you uncomfortable.\\n\\n   Make the most of your life, as it\\'s probably the only one you\\'ll have.\\n\\n   It\\'s no good relying on some external power to change you; you must change\\n   yourself.\\n\\n   Just because something\\'s popular doesn\\'t mean it\\'s good.\\n\\n   If you must assume something, assume something it\\'s easy to test.\\n\\n   Don\\'t believe things just because you want them to be true.\\n\\nand finally (and most importantly):\\n\\n   All beliefs should be open to question.\\n\\nThanks for taking the time to read this article.\\n\\n\\nmathew\\n\\n-----BEGIN PGP SIGNATURE-----\\nVersion: 2.2\\n\\niQCVAgUBK8AjRXzXN+VrOblFAQFSbwP+MHePY4g7ge8Mo5wpsivX+kHYYxMErFAO\\n7ltVtMVTu66Nz6sBbPw9QkbjArbY/S2sZ9NF5htdii0R6SsEyPl0R6/9bV9okE/q\\nnihqnzXE8pGvLt7tlez4EoeHZjXLEFrdEyPVayT54yQqGb4HARbOEHDcrTe2atmP\\nq0Z4hSSPpAU=\\n=q2V5\\n-----END PGP SIGNATURE-----'"
      ]
     },
     "execution_count": 5,
     "metadata": {},
     "output_type": "execute_result"
    }
   ],
   "source": [
    "# Take a look at the first doc\n",
    "ng_train.data[16]"
   ]
  },
  {
   "cell_type": "markdown",
   "metadata": {
    "run_control": {
     "frozen": false,
     "read_only": false
    }
   },
   "source": [
    "## Document Preprocessing\n",
    "We'll need to generate a term-document matrix of word (token) counts for use in LDA.\n",
    "\n",
    "We'll use `sklearn`'s `CountVectorizer` to generate our term-document matrix of counts. We'll make use of a few parameters to accomplish the following preprocessing of the text documents all within the `CountVectorizer`:\n",
    "* `analyzer=word`: Tokenize by word\n",
    "* `ngram_range=(1,2)`: Keep all 1 and 2-word grams\n",
    "* `stop_words=english`: Remove all English stop words\n",
    "* `token_pattern=\\\\b[a-z][a-z]+\\\\b`: Match all tokens with 2 or more (strictly) alphabet characters"
   ]
  },
  {
   "cell_type": "code",
   "execution_count": 6,
   "metadata": {
    "collapsed": false,
    "run_control": {
     "frozen": false,
     "read_only": false
    }
   },
   "outputs": [
    {
     "data": {
      "text/plain": [
       "CountVectorizer(analyzer='word', binary=False, decode_error='strict',\n",
       "        dtype=<class 'numpy.int64'>, encoding='utf-8', input='content',\n",
       "        lowercase=True, max_df=1.0, max_features=None, min_df=1,\n",
       "        ngram_range=(1, 2), preprocessor=None, stop_words='english',\n",
       "        strip_accents=None, token_pattern='\\\\b[a-z][a-z]+\\\\b',\n",
       "        tokenizer=None, vocabulary=None)"
      ]
     },
     "execution_count": 6,
     "metadata": {},
     "output_type": "execute_result"
    }
   ],
   "source": [
    "# Create a CountVectorizer for parsing/counting words\n",
    "count_vectorizer = CountVectorizer(ngram_range=(1, 2),  \n",
    "                                   stop_words='english', token_pattern=\"\\\\b[a-z][a-z]+\\\\b\")\n",
    "count_vectorizer.fit(ng_train.data)"
   ]
  },
  {
   "cell_type": "code",
   "execution_count": 7,
   "metadata": {
    "collapsed": false,
    "run_control": {
     "frozen": false,
     "read_only": false
    }
   },
   "outputs": [],
   "source": [
    "# Create the term-document matrix\n",
    "# Transpose it so the terms are the rows\n",
    "counts = count_vectorizer.transform(ng_train.data).transpose()"
   ]
  },
  {
   "cell_type": "code",
   "execution_count": 8,
   "metadata": {
    "collapsed": false
   },
   "outputs": [
    {
     "data": {
      "text/plain": [
       "(199825, 2852)"
      ]
     },
     "execution_count": 8,
     "metadata": {},
     "output_type": "execute_result"
    }
   ],
   "source": [
    "counts.shape"
   ]
  },
  {
   "cell_type": "markdown",
   "metadata": {
    "run_control": {
     "frozen": false,
     "read_only": false
    }
   },
   "source": [
    "##### Convert to gensim\n",
    "We need to convert our sparse `scipy` matrix to a `gensim`-friendly object called a Corpus:"
   ]
  },
  {
   "cell_type": "code",
   "execution_count": 9,
   "metadata": {
    "collapsed": true,
    "run_control": {
     "frozen": false,
     "read_only": false
    }
   },
   "outputs": [],
   "source": [
    "# Convert sparse matrix of counts to a gensim corpus\n",
    "corpus = matutils.Sparse2Corpus(counts)"
   ]
  },
  {
   "cell_type": "markdown",
   "metadata": {
    "run_control": {
     "frozen": false,
     "read_only": false
    }
   },
   "source": [
    "##### Map matrix rows to words (tokens)\n",
    "We need to save a mapping (dict) of row id to word (token) for later use by gensim:"
   ]
  },
  {
   "cell_type": "code",
   "execution_count": 10,
   "metadata": {
    "collapsed": false,
    "run_control": {
     "frozen": false,
     "read_only": false
    }
   },
   "outputs": [],
   "source": [
    "id2word = dict((v, k) for k, v in count_vectorizer.vocabulary_.items())"
   ]
  },
  {
   "cell_type": "code",
   "execution_count": 11,
   "metadata": {
    "collapsed": false,
    "run_control": {
     "frozen": false,
     "read_only": false
    }
   },
   "outputs": [
    {
     "data": {
      "text/plain": [
       "199825"
      ]
     },
     "execution_count": 11,
     "metadata": {},
     "output_type": "execute_result"
    }
   ],
   "source": [
    "len(id2word)"
   ]
  },
  {
   "cell_type": "markdown",
   "metadata": {
    "run_control": {
     "frozen": false,
     "read_only": false
    }
   },
   "source": [
    "## LDA\n",
    "At this point we can simply plow ahead in creating an LDA model.  It requires our corpus of word counts, mapping of row ids to words, and the number of topics (3)."
   ]
  },
  {
   "cell_type": "code",
   "execution_count": 12,
   "metadata": {
    "collapsed": false,
    "run_control": {
     "frozen": false,
     "read_only": false
    }
   },
   "outputs": [],
   "source": [
    "# Create lda model (equivalent to \"fit\" in sklearn)\n",
    "lda = models.LdaModel(corpus=corpus, num_topics=6, id2word=id2word, passes=10)"
   ]
  },
  {
   "cell_type": "markdown",
   "metadata": {
    "run_control": {
     "frozen": false,
     "read_only": false
    }
   },
   "source": [
    "Let's take a look at what happened.  Here are the 20 most important words for each of the 8 topics we found:"
   ]
  },
  {
   "cell_type": "code",
   "execution_count": 13,
   "metadata": {
    "collapsed": false,
    "run_control": {
     "frozen": false,
     "read_only": false
    },
    "scrolled": true
   },
   "outputs": [
    {
     "data": {
      "text/plain": [
       "[(0,\n",
       "  '0.003*\"image\" + 0.002*\"data\" + 0.001*\"software\" + 0.001*\"like\" + 0.001*\"just\" + 0.001*\"bike\" + 0.001*\"time\" + 0.001*\"don\" + 0.001*\"edu\" + 0.001*\"know\" + 0.001*\"think\" + 0.001*\"use\" + 0.001*\"available\" + 0.001*\"images\" + 0.001*\"processing\" + 0.001*\"analysis\" + 0.001*\"does\" + 0.001*\"graphics\" + 0.001*\"need\" + 0.001*\"new\"'),\n",
       " (1,\n",
       "  '0.003*\"god\" + 0.002*\"like\" + 0.002*\"just\" + 0.002*\"people\" + 0.002*\"does\" + 0.002*\"dod\" + 0.002*\"argument\" + 0.002*\"know\" + 0.002*\"don\" + 0.002*\"atheism\" + 0.001*\"think\" + 0.001*\"true\" + 0.001*\"believe\" + 0.001*\"say\" + 0.001*\"good\" + 0.001*\"example\" + 0.001*\"atheists\" + 0.001*\"time\" + 0.001*\"evidence\" + 0.001*\"way\"'),\n",
       " (2,\n",
       "  '0.004*\"space\" + 0.002*\"edu\" + 0.002*\"nasa\" + 0.002*\"graphics\" + 0.001*\"jpeg\" + 0.001*\"data\" + 0.001*\"ftp\" + 0.001*\"available\" + 0.001*\"information\" + 0.001*\"program\" + 0.001*\"image\" + 0.001*\"faq\" + 0.001*\"launch\" + 0.001*\"earth\" + 0.001*\"new\" + 0.001*\"pub\" + 0.001*\"shuttle\" + 0.001*\"send\" + 0.001*\"use\" + 0.001*\"files\"'),\n",
       " (3,\n",
       "  '0.003*\"think\" + 0.002*\"year\" + 0.002*\"don\" + 0.002*\"just\" + 0.002*\"people\" + 0.002*\"like\" + 0.002*\"good\" + 0.001*\"game\" + 0.001*\"time\" + 0.001*\"hit\" + 0.001*\"better\" + 0.001*\"know\" + 0.001*\"make\" + 0.001*\"team\" + 0.001*\"did\" + 0.001*\"way\" + 0.001*\"say\" + 0.001*\"players\" + 0.001*\"jesus\" + 0.001*\"does\"'),\n",
       " (4,\n",
       "  '0.003*\"space\" + 0.001*\"just\" + 0.001*\"know\" + 0.001*\"like\" + 0.001*\"good\" + 0.001*\"don\" + 0.001*\"thanks\" + 0.001*\"time\" + 0.001*\"lunar\" + 0.001*\"does\" + 0.001*\"nasa\" + 0.001*\"people\" + 0.001*\"years\" + 0.001*\"earth\" + 0.001*\"year\" + 0.001*\"moon\" + 0.001*\"orbit\" + 0.001*\"think\" + 0.001*\"use\" + 0.001*\"station\"'),\n",
       " (5,\n",
       "  '0.001*\"don\" + 0.001*\"does\" + 0.001*\"just\" + 0.001*\"like\" + 0.001*\"people\" + 0.001*\"think\" + 0.001*\"year\" + 0.001*\"good\" + 0.001*\"say\" + 0.001*\"time\" + 0.001*\"know\" + 0.001*\"way\" + 0.001*\"point\" + 0.001*\"team\" + 0.001*\"better\" + 0.001*\"really\" + 0.001*\"game\" + 0.001*\"make\" + 0.001*\"games\" + 0.001*\"did\"')]"
      ]
     },
     "execution_count": 13,
     "metadata": {},
     "output_type": "execute_result"
    }
   ],
   "source": [
    "lda.print_topics(num_words=20)"
   ]
  },
  {
   "cell_type": "markdown",
   "metadata": {
    "run_control": {
     "frozen": false,
     "read_only": false
    }
   },
   "source": [
    "#### Topic Space\n",
    "If we want to map our documents to the topic space we need to actually use the LdaModel transformer that we created above, like so:"
   ]
  },
  {
   "cell_type": "code",
   "execution_count": 14,
   "metadata": {
    "collapsed": false,
    "scrolled": true
   },
   "outputs": [],
   "source": [
    "#lda.get_document_topics(bow5)"
   ]
  },
  {
   "cell_type": "code",
   "execution_count": 15,
   "metadata": {
    "collapsed": false,
    "run_control": {
     "frozen": false,
     "read_only": false
    }
   },
   "outputs": [
    {
     "data": {
      "text/plain": [
       "<gensim.interfaces.TransformedCorpus at 0x11ec52048>"
      ]
     },
     "execution_count": 15,
     "metadata": {},
     "output_type": "execute_result"
    }
   ],
   "source": [
    "# Transform the docs from the word space to the topic space (like \"transform\" in sklearn)\n",
    "lda_corpus = lda[corpus]\n",
    "lda_corpus"
   ]
  },
  {
   "cell_type": "code",
   "execution_count": 16,
   "metadata": {
    "collapsed": true,
    "run_control": {
     "frozen": false,
     "read_only": false
    }
   },
   "outputs": [],
   "source": [
    "# Store the documents' topic vectors in a list so we can take a peak\n",
    "lda_docs = [doc for doc in lda_corpus]"
   ]
  },
  {
   "cell_type": "markdown",
   "metadata": {
    "run_control": {
     "frozen": false,
     "read_only": false
    }
   },
   "source": [
    "Now we can take a look at the document vectors in the topic space, which are measures of the component of each document along each topic.  Thus, at most a document vector can have `num_topics` nonzero components in the topic space, and most have far fewer."
   ]
  },
  {
   "cell_type": "code",
   "execution_count": 17,
   "metadata": {
    "collapsed": false,
    "run_control": {
     "frozen": false,
     "read_only": false
    }
   },
   "outputs": [
    {
     "data": {
      "text/plain": [
       "[(3, 0.98183259094617337)]"
      ]
     },
     "execution_count": 17,
     "metadata": {},
     "output_type": "execute_result"
    }
   ],
   "source": [
    "# Check out the document vectors in the topic space for the a document\n",
    "lda_docs[6]"
   ]
  },
  {
   "cell_type": "code",
   "execution_count": 18,
   "metadata": {
    "collapsed": false,
    "run_control": {
     "frozen": false,
     "read_only": false
    }
   },
   "outputs": [
    {
     "data": {
      "text/plain": [
       "'\\nI was *hoping* somebody would mention clutch.  Clutch?  Baerga?  The\\ntwo words simply do not go together.  With runners in scoring\\nposition, Baerga batted .308/.366/.418 last year.  This doesn\\'t quite\\n*suck*, but most batters hit *better* in this situation.\\n\\nAlomar?  He hit .354/.439/.517 with runners in scoring position!\\n\\nThe difference?  Alomar had 68 RBIs in 147 such AB.  Baerga had 81\\nRBIs in 182 such AB.  Baerga got 25% more chances, yet succeeded only\\n20% more times.\\n\\nFrankly, I don\\'t believe in clutch.  But if I did, my vote would\\ngo to Alomar for MVP (let alone \"best 2B in the AL\").'"
      ]
     },
     "execution_count": 18,
     "metadata": {},
     "output_type": "execute_result"
    }
   ],
   "source": [
    "ng_train.data[5]"
   ]
  },
  {
   "cell_type": "markdown",
   "metadata": {
    "run_control": {
     "frozen": false,
     "read_only": false
    }
   },
   "source": [
    "## On your own...\n",
    "- Go get some of the NIPS papers from [here](https://archive.ics.uci.edu/ml/datasets/Bag+of+Words).  \n",
    "- Try performing LDA on this data with gensim\n",
    "- Play with some of the preprocessing options and parameters for LDA, observe what happens\n",
    "- See if you can use the resulting topic space to extract topic vectors and cluster some documents\n",
    "- How do your results look?"
   ]
  },
  {
   "cell_type": "code",
   "execution_count": null,
   "metadata": {
    "collapsed": true,
    "run_control": {
     "frozen": false,
     "read_only": false
    }
   },
   "outputs": [],
   "source": []
  }
 ],
 "metadata": {
  "anaconda-cloud": {},
  "kernelspec": {
   "display_name": "Python 3",
   "language": "python",
   "name": "python3"
  },
  "language_info": {
   "codemirror_mode": {
    "name": "ipython",
    "version": 3
   },
   "file_extension": ".py",
   "mimetype": "text/x-python",
   "name": "python",
   "nbconvert_exporter": "python",
   "pygments_lexer": "ipython3",
   "version": "3.5.3"
  },
  "toc": {
   "nav_menu": {
    "height": "123px",
    "width": "252px"
   },
   "navigate_menu": true,
   "number_sections": true,
   "sideBar": true,
   "threshold": 4,
   "toc_cell": false,
   "toc_section_display": "block",
   "toc_window_display": false
  }
 },
 "nbformat": 4,
 "nbformat_minor": 0
}
