{
 "cells": [
  {
   "cell_type": "markdown",
   "metadata": {
    "slideshow": {
     "slide_type": "slide"
    }
   },
   "source": [
    "# PCA and SVD"
   ]
  },
  {
   "cell_type": "markdown",
   "metadata": {
    "slideshow": {
     "slide_type": "slide"
    }
   },
   "source": [
    "So we have seen the effects of too many dimensions"
   ]
  },
  {
   "cell_type": "markdown",
   "metadata": {
    "slideshow": {
     "slide_type": "slide"
    }
   },
   "source": [
    "![](http://m.memegen.com/kk2til.jpg)"
   ]
  },
  {
   "cell_type": "markdown",
   "metadata": {
    "slideshow": {
     "slide_type": "slide"
    }
   },
   "source": [
    "First some Linear algebra review"
   ]
  },
  {
   "cell_type": "markdown",
   "metadata": {
    "slideshow": {
     "slide_type": "slide"
    }
   },
   "source": [
    "Matrices can be thought of as transforms\n",
    "\n",
    "![](https://upload.wikimedia.org/wikipedia/commons/thumb/b/bb/Singular-Value-Decomposition.svg/512px-Singular-Value-Decomposition.svg.png)"
   ]
  },
  {
   "cell_type": "code",
   "execution_count": null,
   "metadata": {
    "collapsed": true
   },
   "outputs": [],
   "source": []
  },
  {
   "cell_type": "code",
   "execution_count": 28,
   "metadata": {
    "collapsed": false,
    "slideshow": {
     "slide_type": "slide"
    }
   },
   "outputs": [],
   "source": [
    "import numpy as np\n",
    "import matplotlib.pyplot as plt\n",
    "%matplotlib inline"
   ]
  },
  {
   "cell_type": "markdown",
   "metadata": {
    "slideshow": {
     "slide_type": "slide"
    }
   },
   "source": [
    "Set up some data and look at it a little."
   ]
  },
  {
   "cell_type": "code",
   "execution_count": 69,
   "metadata": {
    "collapsed": false,
    "slideshow": {
     "slide_type": "slide"
    }
   },
   "outputs": [
    {
     "data": {
      "text/plain": [
       "<matplotlib.collections.PathCollection at 0x10fe408d0>"
      ]
     },
     "execution_count": 69,
     "metadata": {},
     "output_type": "execute_result"
    },
    {
     "data": {
      "image/png": "[encoded data removed]",
      "text/plain": [
       "<matplotlib.figure.Figure at 0x10fdf4a90>"
      ]
     },
     "metadata": {},
     "output_type": "display_data"
    }
   ],
   "source": [
    "x1 = np.random.normal(loc=40, scale=8, size=100)\n",
    "x2 = x1 - 10 + np.random.normal(scale=3, size=100)\n",
    "plt.scatter(x1, x2)"
   ]
  },
  {
   "cell_type": "code",
   "execution_count": 30,
   "metadata": {
    "collapsed": false,
    "slideshow": {
     "slide_type": "slide"
    }
   },
   "outputs": [
    {
     "data": {
      "text/plain": [
       "(100, 2)"
      ]
     },
     "execution_count": 30,
     "metadata": {},
     "output_type": "execute_result"
    }
   ],
   "source": [
    "X = np.column_stack((x1, x2))\n",
    "X.shape"
   ]
  },
  {
   "cell_type": "code",
   "execution_count": 31,
   "metadata": {
    "collapsed": false,
    "slideshow": {
     "slide_type": "slide"
    }
   },
   "outputs": [
    {
     "data": {
      "text/plain": [
       "array([ 40.16468038,  30.2204386 ])"
      ]
     },
     "execution_count": 31,
     "metadata": {},
     "output_type": "execute_result"
    }
   ],
   "source": [
    "X.mean(axis=0)"
   ]
  },
  {
   "cell_type": "code",
   "execution_count": 32,
   "metadata": {
    "collapsed": true,
    "slideshow": {
     "slide_type": "slide"
    }
   },
   "outputs": [],
   "source": [
    "X_centered = X - X.mean(axis=0)"
   ]
  },
  {
   "cell_type": "code",
   "execution_count": 33,
   "metadata": {
    "collapsed": false,
    "slideshow": {
     "slide_type": "slide"
    }
   },
   "outputs": [
    {
     "data": {
      "text/plain": [
       "array([[ 69.58031626,  69.6192905 ],\n",
       "       [ 69.6192905 ,  79.25533729]])"
      ]
     },
     "execution_count": 33,
     "metadata": {},
     "output_type": "execute_result"
    }
   ],
   "source": [
    "np.cov(X, rowvar=0)"
   ]
  },
  {
   "cell_type": "code",
   "execution_count": 34,
   "metadata": {
    "collapsed": false,
    "slideshow": {
     "slide_type": "slide"
    }
   },
   "outputs": [
    {
     "data": {
      "text/plain": [
       "array([[ 69.58031626,  69.6192905 ],\n",
       "       [ 69.6192905 ,  79.25533729]])"
      ]
     },
     "execution_count": 34,
     "metadata": {},
     "output_type": "execute_result"
    }
   ],
   "source": [
    "np.cov(X_centered, rowvar=0)"
   ]
  },
  {
   "cell_type": "code",
   "execution_count": 35,
   "metadata": {
    "collapsed": false,
    "slideshow": {
     "slide_type": "slide"
    }
   },
   "outputs": [
    {
     "data": {
      "text/plain": [
       "array([[ 168208.60627562,  128271.73547894],\n",
       "       [ 128271.73547894,   99173.769313  ]])"
      ]
     },
     "execution_count": 35,
     "metadata": {},
     "output_type": "execute_result"
    }
   ],
   "source": [
    "np.dot(X.T, X)"
   ]
  },
  {
   "cell_type": "code",
   "execution_count": 36,
   "metadata": {
    "collapsed": false,
    "slideshow": {
     "slide_type": "slide"
    }
   },
   "outputs": [
    {
     "data": {
      "text/plain": [
       "array([[ 6888.45130956,  6892.30975913],\n",
       "       [ 6892.30975913,  7846.27839179]])"
      ]
     },
     "execution_count": 36,
     "metadata": {},
     "output_type": "execute_result"
    }
   ],
   "source": [
    "np.dot(X_centered.T, X_centered)"
   ]
  },
  {
   "cell_type": "code",
   "execution_count": 37,
   "metadata": {
    "collapsed": false,
    "slideshow": {
     "slide_type": "slide"
    }
   },
   "outputs": [
    {
     "data": {
      "text/plain": [
       "array([[ 69.58031626,  69.6192905 ],\n",
       "       [ 69.6192905 ,  79.25533729]])"
      ]
     },
     "execution_count": 37,
     "metadata": {},
     "output_type": "execute_result"
    }
   ],
   "source": [
    "np.dot(X_centered.T, X_centered)/99 # unimportant scaling"
   ]
  },
  {
   "cell_type": "markdown",
   "metadata": {
    "slideshow": {
     "slide_type": "slide"
    }
   },
   "source": [
    "### PCA\n",
    "\n",
    "We have data in $X$.\n",
    "\n",
    "$C$ is the covariance matrix of $X$.\n",
    "\n",
    "The eigenvalue decomposition of $C$ is:\n",
    "\n",
    "$Q \\Lambda Q^T = C$\n",
    "\n",
    "Where the columns of $Q$ are eigenvectors $v$ and the diagonal elements of $\\Lambda$ are eigenvalues $\\lambda$.\n",
    "\n",
    "$C v = \\lambda v$\n",
    "\n",
    "The eigenvalues $\\lambda$ represent the amount of variance explained by the dimension represented by their eigenvector $v$."
   ]
  },
  {
   "cell_type": "code",
   "execution_count": 71,
   "metadata": {
    "collapsed": false,
    "slideshow": {
     "slide_type": "slide"
    }
   },
   "outputs": [
    {
     "data": {
      "text/plain": [
       "array([[   458.43642467,      0.        ],\n",
       "       [     0.        ,  14276.29327668]])"
      ]
     },
     "execution_count": 71,
     "metadata": {},
     "output_type": "execute_result"
    }
   ],
   "source": [
    "eig_vals, Q = np.linalg.eig(np.cov(X_centered, rowvar=0)*99)\n",
    "np.diag(eig_vals)"
   ]
  },
  {
   "cell_type": "code",
   "execution_count": 39,
   "metadata": {
    "collapsed": false,
    "slideshow": {
     "slide_type": "slide"
    }
   },
   "outputs": [
    {
     "data": {
      "text/plain": [
       "array([[ 6888.45130956,  6892.30975913],\n",
       "       [ 6892.30975913,  7846.27839179]])"
      ]
     },
     "execution_count": 39,
     "metadata": {},
     "output_type": "execute_result"
    }
   ],
   "source": [
    "np.dot(Q, np.dot(np.diag(eig_vals), Q.T))"
   ]
  },
  {
   "cell_type": "code",
   "execution_count": 40,
   "metadata": {
    "collapsed": false,
    "slideshow": {
     "slide_type": "slide"
    }
   },
   "outputs": [
    {
     "data": {
      "text/plain": [
       "array([[ 6888.45130956,  6892.30975913],\n",
       "       [ 6892.30975913,  7846.27839179]])"
      ]
     },
     "execution_count": 40,
     "metadata": {},
     "output_type": "execute_result"
    }
   ],
   "source": [
    "np.cov(X_centered, rowvar=0)*99"
   ]
  },
  {
   "cell_type": "code",
   "execution_count": 73,
   "metadata": {
    "collapsed": false,
    "slideshow": {
     "slide_type": "slide"
    }
   },
   "outputs": [
    {
     "data": {
      "text/plain": [
       "array([[-0.68215905, -0.73120382],\n",
       "       [-0.73120382,  0.68215905]])"
      ]
     },
     "execution_count": 73,
     "metadata": {},
     "output_type": "execute_result"
    }
   ],
   "source": [
    "ordered = sorted(zip(eig_vals, Q.T), reverse=True)\n",
    "eig_vals = np.array([_[0] for _ in ordered])\n",
    "Q = np.column_stack((_[1] for _ in ordered))\n",
    "\n",
    "np.diag(eig_vals)\n",
    "Q"
   ]
  },
  {
   "cell_type": "code",
   "execution_count": 42,
   "metadata": {
    "collapsed": true,
    "slideshow": {
     "slide_type": "slide"
    }
   },
   "outputs": [],
   "source": [
    "X_transformed = np.dot(Q[:, 0].reshape(2, 1).T, X_centered.T)"
   ]
  },
  {
   "cell_type": "code",
   "execution_count": 43,
   "metadata": {
    "collapsed": false,
    "slideshow": {
     "slide_type": "slide"
    }
   },
   "outputs": [
    {
     "data": {
      "text/plain": [
       "array([[-13.72074111,  -6.45014656, -10.76935544, -12.80792234,\n",
       "          1.53897012]])"
      ]
     },
     "execution_count": 43,
     "metadata": {},
     "output_type": "execute_result"
    }
   ],
   "source": [
    "X_transformed[:, :5]"
   ]
  },
  {
   "cell_type": "code",
   "execution_count": 44,
   "metadata": {
    "collapsed": false,
    "slideshow": {
     "slide_type": "slide"
    }
   },
   "outputs": [
    {
     "data": {
      "text/plain": [
       "<matplotlib.collections.PathCollection at 0x10de0fe80>"
      ]
     },
     "execution_count": 44,
     "metadata": {},
     "output_type": "execute_result"
    },
    {
     "data": {
      "image/png": "[encoded data removed]",
      "text/plain": [
       "<matplotlib.figure.Figure at 0x10dc0b2e8>"
      ]
     },
     "metadata": {},
     "output_type": "display_data"
    }
   ],
   "source": [
    "X_reconstituted = np.dot(X_transformed.reshape(100, 1),\n",
    "                         Q[:, 0].reshape(1, 2))\n",
    "\n",
    "plt.scatter(X_centered[:, 0], X_centered[:, 1])\n",
    "plt.scatter(X_reconstituted[:, 0], X_reconstituted[:, 1], c='r')"
   ]
  },
  {
   "cell_type": "markdown",
   "metadata": {
    "slideshow": {
     "slide_type": "slide"
    }
   },
   "source": [
    "### SVD\n",
    "\n",
    "We have data in $X$.\n",
    "\n",
    "The singular value decomposition of $X$ is:\n",
    "\n",
    "$U \\Sigma V^T = X$\n",
    "\n",
    "Where the columns of $U$ and $V$ are the left and right singular vectors of $X$ and the diagonal elements of $\\Sigma$ are the singular values of $X$, also the square roots of the eigenvalues of $X^TX$."
   ]
  },
  {
   "cell_type": "code",
   "execution_count": 75,
   "metadata": {
    "collapsed": false,
    "slideshow": {
     "slide_type": "slide"
    }
   },
   "outputs": [
    {
     "data": {
      "text/plain": [
       "array([[ 119.48344353,    0.        ],\n",
       "       [   0.        ,   21.41112852],\n",
       "       [   0.        ,    0.        ],\n",
       "       [   0.        ,    0.        ],\n",
       "       [   0.        ,    0.        ],\n",
       "       [   0.        ,    0.        ],\n",
       "       [   0.        ,    0.        ],\n",
       "       [   0.        ,    0.        ],\n",
       "       [   0.        ,    0.        ],\n",
       "       [   0.        ,    0.        ],\n",
       "       [   0.        ,    0.        ],\n",
       "       [   0.        ,    0.        ],\n",
       "       [   0.        ,    0.        ],\n",
       "       [   0.        ,    0.        ],\n",
       "       [   0.        ,    0.        ],\n",
       "       [   0.        ,    0.        ],\n",
       "       [   0.        ,    0.        ],\n",
       "       [   0.        ,    0.        ],\n",
       "       [   0.        ,    0.        ],\n",
       "       [   0.        ,    0.        ],\n",
       "       [   0.        ,    0.        ],\n",
       "       [   0.        ,    0.        ],\n",
       "       [   0.        ,    0.        ],\n",
       "       [   0.        ,    0.        ],\n",
       "       [   0.        ,    0.        ],\n",
       "       [   0.        ,    0.        ],\n",
       "       [   0.        ,    0.        ],\n",
       "       [   0.        ,    0.        ],\n",
       "       [   0.        ,    0.        ],\n",
       "       [   0.        ,    0.        ],\n",
       "       [   0.        ,    0.        ],\n",
       "       [   0.        ,    0.        ],\n",
       "       [   0.        ,    0.        ],\n",
       "       [   0.        ,    0.        ],\n",
       "       [   0.        ,    0.        ],\n",
       "       [   0.        ,    0.        ],\n",
       "       [   0.        ,    0.        ],\n",
       "       [   0.        ,    0.        ],\n",
       "       [   0.        ,    0.        ],\n",
       "       [   0.        ,    0.        ],\n",
       "       [   0.        ,    0.        ],\n",
       "       [   0.        ,    0.        ],\n",
       "       [   0.        ,    0.        ],\n",
       "       [   0.        ,    0.        ],\n",
       "       [   0.        ,    0.        ],\n",
       "       [   0.        ,    0.        ],\n",
       "       [   0.        ,    0.        ],\n",
       "       [   0.        ,    0.        ],\n",
       "       [   0.        ,    0.        ],\n",
       "       [   0.        ,    0.        ],\n",
       "       [   0.        ,    0.        ],\n",
       "       [   0.        ,    0.        ],\n",
       "       [   0.        ,    0.        ],\n",
       "       [   0.        ,    0.        ],\n",
       "       [   0.        ,    0.        ],\n",
       "       [   0.        ,    0.        ],\n",
       "       [   0.        ,    0.        ],\n",
       "       [   0.        ,    0.        ],\n",
       "       [   0.        ,    0.        ],\n",
       "       [   0.        ,    0.        ],\n",
       "       [   0.        ,    0.        ],\n",
       "       [   0.        ,    0.        ],\n",
       "       [   0.        ,    0.        ],\n",
       "       [   0.        ,    0.        ],\n",
       "       [   0.        ,    0.        ],\n",
       "       [   0.        ,    0.        ],\n",
       "       [   0.        ,    0.        ],\n",
       "       [   0.        ,    0.        ],\n",
       "       [   0.        ,    0.        ],\n",
       "       [   0.        ,    0.        ],\n",
       "       [   0.        ,    0.        ],\n",
       "       [   0.        ,    0.        ],\n",
       "       [   0.        ,    0.        ],\n",
       "       [   0.        ,    0.        ],\n",
       "       [   0.        ,    0.        ],\n",
       "       [   0.        ,    0.        ],\n",
       "       [   0.        ,    0.        ],\n",
       "       [   0.        ,    0.        ],\n",
       "       [   0.        ,    0.        ],\n",
       "       [   0.        ,    0.        ],\n",
       "       [   0.        ,    0.        ],\n",
       "       [   0.        ,    0.        ],\n",
       "       [   0.        ,    0.        ],\n",
       "       [   0.        ,    0.        ],\n",
       "       [   0.        ,    0.        ],\n",
       "       [   0.        ,    0.        ],\n",
       "       [   0.        ,    0.        ],\n",
       "       [   0.        ,    0.        ],\n",
       "       [   0.        ,    0.        ],\n",
       "       [   0.        ,    0.        ],\n",
       "       [   0.        ,    0.        ],\n",
       "       [   0.        ,    0.        ],\n",
       "       [   0.        ,    0.        ],\n",
       "       [   0.        ,    0.        ],\n",
       "       [   0.        ,    0.        ],\n",
       "       [   0.        ,    0.        ],\n",
       "       [   0.        ,    0.        ],\n",
       "       [   0.        ,    0.        ],\n",
       "       [   0.        ,    0.        ],\n",
       "       [   0.        ,    0.        ]])"
      ]
     },
     "execution_count": 75,
     "metadata": {},
     "output_type": "execute_result"
    }
   ],
   "source": [
    "U, singular_vals, V_T = np.linalg.svd(X_centered)\n",
    "Sigma = np.zeros((100, 2))\n",
    "Sigma[:2, :2] = np.diag(singular_vals)\n",
    "Sigma"
   ]
  },
  {
   "cell_type": "code",
   "execution_count": 46,
   "metadata": {
    "collapsed": false,
    "slideshow": {
     "slide_type": "slide"
    }
   },
   "outputs": [
    {
     "data": {
      "text/plain": [
       "array([[  8.87562944,  10.48428622],\n",
       "       [  5.44652173,   3.74006862],\n",
       "       [  9.11228706,   6.22716433],\n",
       "       [ 11.65007651,   6.64755444],\n",
       "       [ -3.36824963,   1.03762018]])"
      ]
     },
     "execution_count": 46,
     "metadata": {},
     "output_type": "execute_result"
    }
   ],
   "source": [
    "np.dot(U, np.dot(Sigma, V_T))[:5, :]"
   ]
  },
  {
   "cell_type": "code",
   "execution_count": 47,
   "metadata": {
    "collapsed": false,
    "slideshow": {
     "slide_type": "slide"
    }
   },
   "outputs": [
    {
     "data": {
      "text/plain": [
       "array([[  8.87562944,  10.48428622],\n",
       "       [  5.44652173,   3.74006862],\n",
       "       [  9.11228706,   6.22716433],\n",
       "       [ 11.65007651,   6.64755444],\n",
       "       [ -3.36824963,   1.03762018]])"
      ]
     },
     "execution_count": 47,
     "metadata": {},
     "output_type": "execute_result"
    }
   ],
   "source": [
    "X_centered[:5, :]"
   ]
  },
  {
   "cell_type": "code",
   "execution_count": 48,
   "metadata": {
    "collapsed": false,
    "slideshow": {
     "slide_type": "slide"
    }
   },
   "outputs": [
    {
     "data": {
      "text/plain": [
       "array([ 14276.29327668,    458.43642467])"
      ]
     },
     "execution_count": 48,
     "metadata": {},
     "output_type": "execute_result"
    }
   ],
   "source": [
    "singular_vals**2"
   ]
  },
  {
   "cell_type": "code",
   "execution_count": 49,
   "metadata": {
    "collapsed": false,
    "slideshow": {
     "slide_type": "slide"
    }
   },
   "outputs": [
    {
     "data": {
      "text/plain": [
       "array([ 14276.29327668,    458.43642467])"
      ]
     },
     "execution_count": 49,
     "metadata": {},
     "output_type": "execute_result"
    }
   ],
   "source": [
    "eig_vals"
   ]
  },
  {
   "cell_type": "code",
   "execution_count": 50,
   "metadata": {
    "collapsed": false,
    "slideshow": {
     "slide_type": "slide"
    }
   },
   "outputs": [
    {
     "data": {
      "text/plain": [
       "array([[-13.72074111],\n",
       "       [ -6.45014656],\n",
       "       [-10.76935544],\n",
       "       [-12.80792234],\n",
       "       [  1.53897012]])"
      ]
     },
     "execution_count": 50,
     "metadata": {},
     "output_type": "execute_result"
    }
   ],
   "source": [
    "np.dot(U[:,0].reshape(100, 1), Sigma[0, 0])[:5]"
   ]
  },
  {
   "cell_type": "code",
   "execution_count": 51,
   "metadata": {
    "collapsed": false,
    "slideshow": {
     "slide_type": "slide"
    }
   },
   "outputs": [
    {
     "data": {
      "text/plain": [
       "array([[-13.72074111],\n",
       "       [ -6.45014656],\n",
       "       [-10.76935544],\n",
       "       [-12.80792234],\n",
       "       [  1.53897012]])"
      ]
     },
     "execution_count": 51,
     "metadata": {},
     "output_type": "execute_result"
    }
   ],
   "source": [
    "X_transformed[0][:5].reshape(5, 1)"
   ]
  },
  {
   "cell_type": "code",
   "execution_count": 52,
   "metadata": {
    "collapsed": false,
    "slideshow": {
     "slide_type": "slide"
    }
   },
   "outputs": [
    {
     "data": {
      "text/plain": [
       "array([[  9.35972771,  10.03265837],\n",
       "       [  4.40002584,   4.71637183],\n",
       "       [  7.34641327,   7.87459388],\n",
       "       [  8.73704012,   9.36520179],\n",
       "       [ -1.04982239,  -1.12530084]])"
      ]
     },
     "execution_count": 52,
     "metadata": {},
     "output_type": "execute_result"
    }
   ],
   "source": [
    "np.dot(U[:,0].reshape(100, 1), Sigma[0, 0]).dot(V_T[0, :].reshape(1, 2))[:5, :]"
   ]
  },
  {
   "cell_type": "code",
   "execution_count": 53,
   "metadata": {
    "collapsed": false,
    "slideshow": {
     "slide_type": "slide"
    }
   },
   "outputs": [
    {
     "data": {
      "text/plain": [
       "array([[  9.35972771,  10.03265837],\n",
       "       [  4.40002584,   4.71637183],\n",
       "       [  7.34641327,   7.87459388],\n",
       "       [  8.73704012,   9.36520179],\n",
       "       [ -1.04982239,  -1.12530084]])"
      ]
     },
     "execution_count": 53,
     "metadata": {},
     "output_type": "execute_result"
    }
   ],
   "source": [
    "X_reconstituted[:5, :]"
   ]
  },
  {
   "cell_type": "markdown",
   "metadata": {
    "slideshow": {
     "slide_type": "slide"
    }
   },
   "source": [
    "[TruncatedSVD](http://scikit-learn.org/stable/modules/generated/sklearn.decomposition.TruncatedSVD.html) is the Sklearn implimentation of this. But if you dive into the code we will find its just a wrapper around something called [randomized_svd](https://github.com/scikit-learn/scikit-learn/blob/412996f/sklearn/decomposition/truncated_svd.py#L25)\n",
    "\n",
    "This is a much faster solver for large matrices"
   ]
  },
  {
   "cell_type": "code",
   "execution_count": 76,
   "metadata": {
    "collapsed": false,
    "slideshow": {
     "slide_type": "slide"
    }
   },
   "outputs": [],
   "source": [
    "from sklearn.utils.extmath import randomized_svd\n",
    "\n",
    "U, Sigma, VT = randomized_svd(X_centered, 2, n_iter=10,\n",
    "                                          random_state=42)"
   ]
  },
  {
   "cell_type": "code",
   "execution_count": 78,
   "metadata": {
    "collapsed": false
   },
   "outputs": [
    {
     "data": {
      "text/plain": [
       "array([ 119.48344353,   21.4073771 ])"
      ]
     },
     "execution_count": 78,
     "metadata": {},
     "output_type": "execute_result"
    }
   ],
   "source": [
    "Sigma"
   ]
  },
  {
   "cell_type": "markdown",
   "metadata": {
    "slideshow": {
     "slide_type": "slide"
    }
   },
   "source": [
    "And there's also value in U and V themselves."
   ]
  },
  {
   "cell_type": "markdown",
   "metadata": {
    "slideshow": {
     "slide_type": "slide"
    }
   },
   "source": [
    "U represents the 'left' eigenvectors"
   ]
  },
  {
   "cell_type": "markdown",
   "metadata": {
    "slideshow": {
     "slide_type": "slide"
    }
   },
   "source": [
    "V represents the 'right' eigenvectors"
   ]
  },
  {
   "cell_type": "markdown",
   "metadata": {
    "slideshow": {
     "slide_type": "slide"
    }
   },
   "source": [
    "SVD has many different applications, each with a different interpretation"
   ]
  },
  {
   "cell_type": "markdown",
   "metadata": {
    "slideshow": {
     "slide_type": "slide"
    }
   },
   "source": [
    "$\\Sigma$ will be a diagonal matrix of eigen values, arranged from most important to least important."
   ]
  },
  {
   "cell_type": "markdown",
   "metadata": {
    "slideshow": {
     "slide_type": "slide"
    }
   },
   "source": [
    "If we set the lower importance ones to zero, we are effectively cutting out the least important data from $U$ and $V$"
   ]
  },
  {
   "cell_type": "markdown",
   "metadata": {},
   "source": [
    "If this is done on image data you get image compression, when you reconstruct $X$ from the now smaller $U$ and $V$ "
   ]
  },
  {
   "cell_type": "markdown",
   "metadata": {
    "slideshow": {
     "slide_type": "slide"
    }
   },
   "source": [
    "![](http://fourier.eng.hmc.edu/e161/lectures/svdcompression_files/Fig_1.png)"
   ]
  },
  {
   "cell_type": "markdown",
   "metadata": {
    "slideshow": {
     "slide_type": "slide"
    }
   },
   "source": [
    "### PCA is just SVD applied to feature vectors"
   ]
  }
 ],
 "metadata": {
  "anaconda-cloud": {},
  "celltoolbar": "Slideshow",
  "kernelspec": {
   "display_name": "Python [default]",
   "language": "python",
   "name": "python3"
  },
  "language_info": {
   "codemirror_mode": {
    "name": "ipython",
    "version": 3
   },
   "file_extension": ".py",
   "mimetype": "text/x-python",
   "name": "python",
   "nbconvert_exporter": "python",
   "pygments_lexer": "ipython3",
   "version": "3.5.2"
  }
 },
 "nbformat": 4,
 "nbformat_minor": 0
}
