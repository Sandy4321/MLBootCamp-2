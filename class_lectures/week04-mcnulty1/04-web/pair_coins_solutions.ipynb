{
 "cells": [
  {
   "cell_type": "markdown",
   "metadata": {},
   "source": [
    "# Solutions to the Coins problem"
   ]
  },
  {
   "cell_type": "markdown",
   "metadata": {},
   "source": [
    "### If we knew the number of coin types in the array, we can do multiple for loops:"
   ]
  },
  {
   "cell_type": "code",
   "execution_count": 18,
   "metadata": {
    "collapsed": true
   },
   "outputs": [],
   "source": [
    "def ways1(cents, coins=[25, 10, 5, 1]):\n",
    "    sum=0\n",
    "    for i in range(cents//coins[0]+1):\n",
    "        for j in range((cents-i*coins[0])//coins[1]+1):\n",
    "            for k in range((cents-i*coins[0]-j*coins[1])//coins[2]+1):\n",
    "                if (cents-i*coins[0]-j*coins[1]-k*coins[2])%coins[3]==0:\n",
    "                    sum+=1\n",
    "    return sum"
   ]
  },
  {
   "cell_type": "code",
   "execution_count": null,
   "metadata": {
    "collapsed": false
   },
   "outputs": [],
   "source": [
    "%%time\n",
    "ways1(10000)"
   ]
  },
  {
   "cell_type": "markdown",
   "metadata": {},
   "source": [
    "### If we don't know the number of coin types in the array, then recursion might be an option:"
   ]
  },
  {
   "cell_type": "code",
   "execution_count": 3,
   "metadata": {
    "collapsed": true
   },
   "outputs": [],
   "source": [
    "def ways2(cents, coins=[25, 10, 5, 1]):\n",
    "    sum=0\n",
    "    if len(coins)==1:\n",
    "        if cents%coins[0]==0:\n",
    "            return 1\n",
    "        else:\n",
    "            return 0\n",
    "    for i in range(cents//coins[0]+1):\n",
    "        sum+=ways2(cents-i*coins[0],coins[1:])\n",
    "    return sum"
   ]
  },
  {
   "cell_type": "code",
   "execution_count": 4,
   "metadata": {
    "collapsed": false
   },
   "outputs": [
    {
     "data": {
      "text/plain": [
       "242"
      ]
     },
     "execution_count": 4,
     "metadata": {},
     "output_type": "execute_result"
    }
   ],
   "source": [
    "ways2(100)"
   ]
  },
  {
   "cell_type": "markdown",
   "metadata": {},
   "source": [
    "### Another way of doing recursion:"
   ]
  },
  {
   "cell_type": "code",
   "execution_count": 5,
   "metadata": {
    "collapsed": true
   },
   "outputs": [],
   "source": [
    "def ways3(cents, coins=[25, 10, 5, 1]):\n",
    "    if cents < 0 or not coins:\n",
    "        return 0\n",
    "    if cents == 0:\n",
    "        return 1\n",
    "    return ways3(cents - coins[0], coins) + ways3(cents, coins[1:])"
   ]
  },
  {
   "cell_type": "code",
   "execution_count": 6,
   "metadata": {
    "collapsed": false
   },
   "outputs": [
    {
     "data": {
      "text/plain": [
       "242"
      ]
     },
     "execution_count": 6,
     "metadata": {},
     "output_type": "execute_result"
    }
   ],
   "source": [
    "ways3(100)"
   ]
  },
  {
   "cell_type": "markdown",
   "metadata": {},
   "source": [
    "### But recursion is often not optimal (when a function calls itself more than once) and become exponential in complexity (try an input of 1000 in the above function). You can do memoization by just stored previous values in a dictionary. Just convert all your inputs into a tuple and use that as a key to the dictionary:"
   ]
  },
  {
   "cell_type": "code",
   "execution_count": 7,
   "metadata": {
    "collapsed": true
   },
   "outputs": [],
   "source": [
    "from collections import defaultdict\n",
    "d = defaultdict(int)\n",
    "def ways4(cents, coins=[25, 10, 5, 1]):\n",
    "    if d[tuple([cents] + coins)]:\n",
    "        return d[tuple([cents] + coins)]\n",
    "    if cents < 0 or not coins:\n",
    "        return 0\n",
    "    if cents == 0:\n",
    "        return 1\n",
    "    d[tuple([cents] + coins)] = ways4(cents - coins[0], coins) + ways4(cents, coins[1:])\n",
    "    return d[tuple([cents] + coins)]"
   ]
  },
  {
   "cell_type": "code",
   "execution_count": 8,
   "metadata": {
    "collapsed": false
   },
   "outputs": [
    {
     "data": {
      "text/plain": [
       "242"
      ]
     },
     "execution_count": 8,
     "metadata": {},
     "output_type": "execute_result"
    }
   ],
   "source": [
    "ways4(100)"
   ]
  },
  {
   "cell_type": "code",
   "execution_count": 9,
   "metadata": {
    "collapsed": false
   },
   "outputs": [
    {
     "data": {
      "text/plain": [
       "142511"
      ]
     },
     "execution_count": 9,
     "metadata": {},
     "output_type": "execute_result"
    }
   ],
   "source": [
    "ways4(1000)"
   ]
  },
  {
   "cell_type": "markdown",
   "metadata": {},
   "source": [
    "### Instead of memoization, you can also go the dynamic programming route. For this problem, that's solution is not too intuitive. But here is a version (written by Thomas and Dan, NYC Winter 2016 cohort)."
   ]
  },
  {
   "cell_type": "code",
   "execution_count": 7,
   "metadata": {
    "collapsed": true
   },
   "outputs": [],
   "source": [
    "def ways5(cents, coins=[1, 5, 10, 25]):\n",
    "    \"\"\"Return the number of ways to make change\"\"\"\n",
    "    nb_combinations = [1]+[0]*cents\n",
    "    for coin in coins:\n",
    "#         print('Coin: {}'.format(coin))\n",
    "        for sub_case in range(coin, cents+1):\n",
    "#             print('Subcase: {}: '.format(sub_case))\n",
    "            nb_combinations[sub_case] += nb_combinations[sub_case-coin]            \n",
    "    return nb_combinations[cents]"
   ]
  },
  {
   "cell_type": "code",
   "execution_count": 23,
   "metadata": {
    "collapsed": false
   },
   "outputs": [
    {
     "name": "stdout",
     "output_type": "stream",
     "text": [
      "13\n"
     ]
    }
   ],
   "source": [
    "print(ways5(26))"
   ]
  },
  {
   "cell_type": "code",
   "execution_count": 22,
   "metadata": {
    "collapsed": false
   },
   "outputs": [
    {
     "name": "stdout",
     "output_type": "stream",
     "text": [
      "134235101\n",
      "CPU times: user 6.69 ms, sys: 106 µs, total: 6.79 ms\n",
      "Wall time: 6.75 ms\n"
     ]
    }
   ],
   "source": [
    "%%time\n",
    "print(ways5(10000))"
   ]
  },
  {
   "cell_type": "code",
   "execution_count": null,
   "metadata": {
    "collapsed": true
   },
   "outputs": [],
   "source": []
  }
 ],
 "metadata": {
  "anaconda-cloud": {},
  "kernelspec": {
   "display_name": "Python [conda root]",
   "language": "python",
   "name": "conda-root-py"
  },
  "language_info": {
   "codemirror_mode": {
    "name": "ipython",
    "version": 3
   },
   "file_extension": ".py",
   "mimetype": "text/x-python",
   "name": "python",
   "nbconvert_exporter": "python",
   "pygments_lexer": "ipython3",
   "version": "3.5.2"
  }
 },
 "nbformat": 4,
 "nbformat_minor": 0
}
