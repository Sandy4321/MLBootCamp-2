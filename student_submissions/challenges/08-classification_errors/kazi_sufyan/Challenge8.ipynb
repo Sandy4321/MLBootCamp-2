{
 "cells": [
  {
   "cell_type": "markdown",
   "metadata": {},
   "source": [
    "<h1>Challenge 1</h1>"
   ]
  },
  {
   "cell_type": "code",
   "execution_count": 65,
   "metadata": {},
   "outputs": [],
   "source": [
    "import pandas as pd\n",
    "from sklearn.cross_validation import train_test_split, cross_val_score, KFold\n",
    "from sklearn.neighbors import KNeighborsClassifier\n",
    "from sklearn.metrics import accuracy_score, precision_score, recall_score, f1_score, roc_curve, roc_auc_score\n",
    "import matplotlib.pyplot as plt\n",
    "from sklearn.linear_model import LogisticRegression"
   ]
  },
  {
   "cell_type": "code",
   "execution_count": 28,
   "metadata": {},
   "outputs": [
    {
     "name": "stdout",
     "output_type": "stream",
     "text": [
      "accuracy score: 0.8473282442748091\n",
      "precision score: 0.8991596638655462\n",
      "recall score: 0.9304347826086956\n",
      "f1 score: 0.9145299145299145\n"
     ]
    }
   ],
   "source": [
    "df=pd.read_csv('house-votes-84.csv')\n",
    "df.replace('y',1, inplace=True)\n",
    "df.replace('n',0, inplace=True)\n",
    "cols=list(df.columns)\n",
    "cols.pop(0)\n",
    "for i in cols:\n",
    "    df[i].replace('?',int(df[i].mode()), inplace=True)\n",
    "X_train, X_test, y_train, y_test = train_test_split(df.iloc[:,1:-1], df['y.8'], test_size=.3, random_state=4444)\n",
    "model=KNeighborsClassifier(n_jobs=-1, n_neighbors=11)\n",
    "model.fit(X_train, y_train)\n",
    "y_pred=model.predict(X_test)\n",
    "print('accuracy score: {}'.format(accuracy_score(y_test, y_pred)))\n",
    "print('precision score: {}'.format(precision_score(y_test,y_pred)))\n",
    "print('recall score: {}'.format(recall_score(y_test,y_pred)))\n",
    "print('f1 score: {}'.format(f1_score(y_test,y_pred)))"
   ]
  },
  {
   "cell_type": "markdown",
   "metadata": {},
   "source": [
    "<h1>Challenge 2</h1>"
   ]
  },
  {
   "cell_type": "code",
   "execution_count": 52,
   "metadata": {},
   "outputs": [
    {
     "name": "stdout",
     "output_type": "stream",
     "text": [
      "AUC is: 0.6162464985994398\n",
      "ROC curve:\n"
     ]
    },
    {
     "data": {
      "image/png": "[encoded data removed]",
      "text/plain": [
       "<matplotlib.figure.Figure at 0x7f0469001a58>"
      ]
     },
     "metadata": {},
     "output_type": "display_data"
    }
   ],
   "source": [
    "g=roc_curve(y_test,y_pred)\n",
    "plt.plot(g[0],g[1])\n",
    "g=roc_auc_score(y_pred,y_test)\n",
    "print('AUC is: {}'.format(g))\n",
    "print('ROC curve:')\n",
    "plt.show()"
   ]
  },
  {
   "cell_type": "markdown",
   "metadata": {},
   "source": [
    "<h1>Challenge 3</h1>"
   ]
  },
  {
   "cell_type": "code",
   "execution_count": 54,
   "metadata": {},
   "outputs": [
    {
     "name": "stdout",
     "output_type": "stream",
     "text": [
      "accuracy score: 0.8473282442748091\n",
      "precision score: 0.8991596638655462\n",
      "recall score: 0.9304347826086956\n",
      "f1 score: 0.9145299145299145\n"
     ]
    }
   ],
   "source": [
    "df=pd.read_csv('house-votes-84.csv')\n",
    "df.replace('y',1, inplace=True)\n",
    "df.replace('n',0, inplace=True)\n",
    "cols=list(df.columns)\n",
    "cols.pop(0)\n",
    "for i in cols:\n",
    "    df[i].replace('?',int(df[i].mode()), inplace=True)\n",
    "X_train, X_test, y_train, y_test = train_test_split(df.iloc[:,1:-1], df['y.8'], test_size=.3, random_state=4444)\n",
    "model=KNeighborsClassifier(n_jobs=-1, n_neighbors=11)\n",
    "model.fit(X_train, y_train)\n",
    "y_pred=model.predict(X_test)\n",
    "print('accuracy score: {}'.format(accuracy_score(y_test, y_pred)))\n",
    "print('precision score: {}'.format(precision_score(y_test,y_pred)))\n",
    "print('recall score: {}'.format(recall_score(y_test,y_pred)))\n",
    "print('f1 score: {}'.format(f1_score(y_test,y_pred)))"
   ]
  },
  {
   "cell_type": "code",
   "execution_count": 61,
   "metadata": {},
   "outputs": [
    {
     "data": {
      "text/plain": [
       "array([ 0.75409836,  0.75409836,  0.83606557,  0.8       ,  0.88333333])"
      ]
     },
     "execution_count": 61,
     "metadata": {},
     "output_type": "execute_result"
    }
   ],
   "source": [
    "kfold = KFold(len(X_train), n_folds=5, shuffle=True, random_state=42)\n",
    "scores = cross_val_score(model, X_train, y_train, cv=kfold)\n",
    "scores"
   ]
  },
  {
   "cell_type": "markdown",
   "metadata": {},
   "source": [
    "<h1>Challenge 4</h1>"
   ]
  },
  {
   "cell_type": "code",
   "execution_count": 156,
   "metadata": {},
   "outputs": [
    {
     "name": "stdout",
     "output_type": "stream",
     "text": [
      "KNN score: 0.5\n",
      "[[  1.97077544e-09  -8.50264852e-08  -1.87685018e-12]\n",
      " [ -8.80560498e-09  -5.97342871e-09  -9.87494061e-14]\n",
      " [ -3.87137614e-09   6.56358743e-09  -2.07959351e-14]\n",
      " [  2.31395492e-09  -1.39449813e-08   7.60797578e-14]]\n",
      "Logistic score: 0.4666666666666667\n",
      "mode score: 0.4666666666666667\n"
     ]
    }
   ],
   "source": [
    "df=pd.read_csv('2013_movies.csv')\n",
    "\n",
    "df.Rating.replace('G',0, inplace=True)\n",
    "df.Rating.replace('PG',1, inplace=True)\n",
    "df.Rating.replace('PG-13',2, inplace=True)\n",
    "df.Rating.replace('R',3, inplace=True)\n",
    "df.Budget.fillna(df.Budget.mean(),inplace=True )\n",
    "df.DomesticTotalGross.fillna(df.DomesticTotalGross.mean(),inplace=True )\n",
    "\n",
    "X_train, X_test, y_train, y_test = train_test_split(df[['DomesticTotalGross','Budget','Runtime']], df['Rating'], test_size=.3, random_state=4444)\n",
    "\n",
    "model=KNeighborsClassifier(n_jobs=-1, n_neighbors=11)\n",
    "model.fit(X_train, y_train)\n",
    "y_pred=model.predict(X_test)\n",
    "\n",
    "print('KNN score: {}'.format(accuracy_score(y_pred, y_test)))\n",
    "# print('precision score: {}'.format(precision_score(y_test,y_pred)))\n",
    "# print('recall score: {}\\n'.format(recall_score(y_test,y_pred)))\n",
    "\n",
    "\n",
    "model=LogisticRegression(n_jobs=-1)\n",
    "model.fit(X_train, y_train)\n",
    "print(model.coef_)\n",
    "y_pred=model.predict(X_test)\n",
    "print('Logistic score: {}'.format(accuracy_score(y_pred, y_test)))\n",
    "# print('precision score: {}'.format(precision_score(y_test,y_pred)))\n",
    "# print('recall score: {}\\n'.format(recall_score(y_test,y_pred)))\n",
    "\n",
    "\n",
    "y_pred=list(y_test.mode() for i in y_test)\n",
    "print('mode score: {}'.format(accuracy_score(y_pred, y_test)))\n",
    "# print('precision score: {}'.format(precision_score(y_test,y_pred)))\n",
    "# print('recall score: {}'.format(recall_score(y_test,y_pred)))"
   ]
  },
  {
   "cell_type": "code",
   "execution_count": null,
   "metadata": {},
   "outputs": [],
   "source": []
  },
  {
   "cell_type": "markdown",
   "metadata": {},
   "source": [
    "<h1>Challenge 5</h1>"
   ]
  },
  {
   "cell_type": "code",
   "execution_count": 94,
   "metadata": {},
   "outputs": [],
   "source": [
    "df= pd.read_csv('haberman.csv')\n",
    "X_train, X_test, y_train, y_test = train_test_split(df[['30','64','1']], df['1.1'], test_size=.3, random_state=4444)\n",
    "y_test=y_test-1\n",
    "y_train=y_train-1\n",
    "model=LogisticRegression()\n",
    "model.fit(X_train, y_train)\n",
    "y_pred=model.predict(X_test)\n"
   ]
  },
  {
   "cell_type": "code",
   "execution_count": 95,
   "metadata": {},
   "outputs": [
    {
     "data": {
      "image/png": "[encoded data removed]",
      "text/plain": [
       "<matplotlib.figure.Figure at 0x7f0468fcabe0>"
      ]
     },
     "metadata": {},
     "output_type": "display_data"
    }
   ],
   "source": [
    "g=roc_curve(y_test,y_pred)\n",
    "plt.plot(g[0],g[1])\n",
    "plt.show()"
   ]
  },
  {
   "cell_type": "code",
   "execution_count": null,
   "metadata": {},
   "outputs": [],
   "source": []
  },
  {
   "cell_type": "code",
   "execution_count": null,
   "metadata": {
    "collapsed": true
   },
   "outputs": [],
   "source": []
  }
 ],
 "metadata": {
  "kernelspec": {
   "display_name": "Python 3",
   "language": "python",
   "name": "python3"
  },
  "language_info": {
   "codemirror_mode": {
    "name": "ipython",
    "version": 3
   },
   "file_extension": ".py",
   "mimetype": "text/x-python",
   "name": "python",
   "nbconvert_exporter": "python",
   "pygments_lexer": "ipython3",
   "version": "3.6.1"
  }
 },
 "nbformat": 4,
 "nbformat_minor": 2
}
