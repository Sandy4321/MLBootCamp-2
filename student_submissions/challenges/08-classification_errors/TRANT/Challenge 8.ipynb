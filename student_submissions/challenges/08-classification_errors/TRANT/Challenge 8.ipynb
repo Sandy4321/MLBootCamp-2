{
 "cells": [
  {
   "cell_type": "code",
   "execution_count": 2,
   "metadata": {
    "ExecuteTime": {
     "end_time": "2017-10-16T22:35:37.333010Z",
     "start_time": "2017-10-16T22:35:35.246195Z"
    },
    "collapsed": true
   },
   "outputs": [],
   "source": [
    "import pandas as pd\n",
    "import numpy as np\n",
    "import matplotlib.pyplot as plt\n",
    "from sklearn.model_selection import train_test_split, learning_curve, cross_val_score\n",
    "from sklearn.metrics import accuracy_score, precision_score, recall_score, f1_score, roc_curve, roc_auc_score, auc\n",
    "from sklearn.linear_model import LogisticRegression\n",
    "from sklearn.neighbors import KNeighborsClassifier\n",
    "from sklearn.tree import DecisionTreeClassifier\n",
    "from sklearn.svm import SVC\n",
    "from sklearn.naive_bayes import GaussianNB\n",
    "from sklearn.ensemble import RandomForestClassifier\n",
    "import seaborn as sns \n",
    "from collections import Counter\n",
    "sns.set()\n",
    "%matplotlib inline"
   ]
  },
  {
   "cell_type": "code",
   "execution_count": 3,
   "metadata": {
    "ExecuteTime": {
     "end_time": "2017-10-16T22:35:37.463280Z",
     "start_time": "2017-10-16T22:35:37.334829Z"
    }
   },
   "outputs": [
    {
     "name": "stdout",
     "output_type": "stream",
     "text": [
      "2013_movies.csv            heavy_metal_parsed.pkl.zip\r\n",
      "Challenge 7.ipynb          house-votes-84.data\r\n",
      "Challenge 8.ipynb          ships.dta\r\n",
      "data.txt                   titanic_train.csv\r\n",
      "haberman.data              toni_is_awesome.txt\r\n"
     ]
    }
   ],
   "source": [
    "!ls"
   ]
  },
  {
   "cell_type": "code",
   "execution_count": 4,
   "metadata": {
    "ExecuteTime": {
     "end_time": "2017-10-16T22:35:42.082215Z",
     "start_time": "2017-10-16T22:35:42.069257Z"
    },
    "collapsed": true
   },
   "outputs": [],
   "source": [
    "df = pd.read_csv('house-votes-84.data', names=list(range(16))+['party'])"
   ]
  },
  {
   "cell_type": "code",
   "execution_count": 5,
   "metadata": {
    "ExecuteTime": {
     "end_time": "2017-10-16T22:35:43.091846Z",
     "start_time": "2017-10-16T22:35:43.066500Z"
    },
    "collapsed": true
   },
   "outputs": [],
   "source": [
    "df.replace(to_replace={'y': 1, 'n' : 0, '?': np.nan, 'republican.': 'republican', 'democrat.': 'democrat'}, inplace=True)\n",
    "df.replace(to_replace={'republican' : 0, 'democrat' : 1}, inplace=True)\n",
    "for i in range(16):\n",
    "    df[i].fillna(df[i].mean(), inplace=True)"
   ]
  },
  {
   "cell_type": "code",
   "execution_count": 6,
   "metadata": {
    "ExecuteTime": {
     "end_time": "2017-10-16T22:35:43.543085Z",
     "start_time": "2017-10-16T22:35:43.528795Z"
    },
    "collapsed": true
   },
   "outputs": [],
   "source": [
    "X = df[list(range(16))]\n",
    "y = df.party\n",
    "X_train, X_test, y_train, y_test = train_test_split(X, y, test_size=0.30, random_state=4444)"
   ]
  },
  {
   "cell_type": "code",
   "execution_count": 7,
   "metadata": {
    "ExecuteTime": {
     "end_time": "2017-10-16T22:35:43.925398Z",
     "start_time": "2017-10-16T22:35:43.916537Z"
    },
    "collapsed": true
   },
   "outputs": [],
   "source": [
    "models = {}\n",
    "models['logit'] = LogisticRegression()\n",
    "for k in range(1, 21):\n",
    "    models[str(k)+' nearest nbrs'] = KNeighborsClassifier(n_neighbors = k)\n",
    "models['GNB'] = GaussianNB()\n",
    "models['SVC'] = SVC()\n",
    "models['DTree'] = DecisionTreeClassifier()\n",
    "models['RFor'] = RandomForestClassifier()"
   ]
  },
  {
   "cell_type": "code",
   "execution_count": 8,
   "metadata": {
    "ExecuteTime": {
     "end_time": "2017-10-16T22:35:44.606280Z",
     "start_time": "2017-10-16T22:35:44.406182Z"
    }
   },
   "outputs": [
    {
     "name": "stdout",
     "output_type": "stream",
     "text": [
      "Model: logit\n",
      "\tAccuracy:\t 0.93893129771\n",
      "\tPrecision:\t 0.925925925926\n",
      "\tRecall:\t\t 0.974025974026\n",
      "\tf1score:\t 0.949367088608\n",
      "Model: 1 nearest nbrs\n",
      "\tAccuracy:\t 0.900763358779\n",
      "\tPrecision:\t 0.910256410256\n",
      "\tRecall:\t\t 0.922077922078\n",
      "\tf1score:\t 0.916129032258\n",
      "Model: 2 nearest nbrs\n",
      "\tAccuracy:\t 0.916030534351\n",
      "\tPrecision:\t 0.934210526316\n",
      "\tRecall:\t\t 0.922077922078\n",
      "\tf1score:\t 0.928104575163\n",
      "Model: 3 nearest nbrs\n",
      "\tAccuracy:\t 0.900763358779\n",
      "\tPrecision:\t 0.910256410256\n",
      "\tRecall:\t\t 0.922077922078\n",
      "\tf1score:\t 0.916129032258\n",
      "Model: 4 nearest nbrs\n",
      "\tAccuracy:\t 0.931297709924\n",
      "\tPrecision:\t 0.959459459459\n",
      "\tRecall:\t\t 0.922077922078\n",
      "\tf1score:\t 0.940397350993\n",
      "Model: 5 nearest nbrs\n",
      "\tAccuracy:\t 0.916030534351\n",
      "\tPrecision:\t 0.923076923077\n",
      "\tRecall:\t\t 0.935064935065\n",
      "\tf1score:\t 0.929032258065\n",
      "Model: 6 nearest nbrs\n",
      "\tAccuracy:\t 0.916030534351\n",
      "\tPrecision:\t 0.934210526316\n",
      "\tRecall:\t\t 0.922077922078\n",
      "\tf1score:\t 0.928104575163\n",
      "Model: 7 nearest nbrs\n",
      "\tAccuracy:\t 0.916030534351\n",
      "\tPrecision:\t 0.934210526316\n",
      "\tRecall:\t\t 0.922077922078\n",
      "\tf1score:\t 0.928104575163\n",
      "Model: 8 nearest nbrs\n",
      "\tAccuracy:\t 0.916030534351\n",
      "\tPrecision:\t 0.934210526316\n",
      "\tRecall:\t\t 0.922077922078\n",
      "\tf1score:\t 0.928104575163\n",
      "Model: 9 nearest nbrs\n",
      "\tAccuracy:\t 0.931297709924\n",
      "\tPrecision:\t 0.935897435897\n",
      "\tRecall:\t\t 0.948051948052\n",
      "\tf1score:\t 0.941935483871\n",
      "Model: 10 nearest nbrs\n",
      "\tAccuracy:\t 0.916030534351\n",
      "\tPrecision:\t 0.934210526316\n",
      "\tRecall:\t\t 0.922077922078\n",
      "\tf1score:\t 0.928104575163\n",
      "Model: 11 nearest nbrs\n",
      "\tAccuracy:\t 0.923664122137\n",
      "\tPrecision:\t 0.935064935065\n",
      "\tRecall:\t\t 0.935064935065\n",
      "\tf1score:\t 0.935064935065\n",
      "Model: 12 nearest nbrs\n",
      "\tAccuracy:\t 0.923664122137\n",
      "\tPrecision:\t 0.935064935065\n",
      "\tRecall:\t\t 0.935064935065\n",
      "\tf1score:\t 0.935064935065\n",
      "Model: 13 nearest nbrs\n",
      "\tAccuracy:\t 0.923664122137\n",
      "\tPrecision:\t 0.935064935065\n",
      "\tRecall:\t\t 0.935064935065\n",
      "\tf1score:\t 0.935064935065\n",
      "Model: 14 nearest nbrs\n",
      "\tAccuracy:\t 0.923664122137\n",
      "\tPrecision:\t 0.935064935065\n",
      "\tRecall:\t\t 0.935064935065\n",
      "\tf1score:\t 0.935064935065\n",
      "Model: 15 nearest nbrs\n",
      "\tAccuracy:\t 0.923664122137\n",
      "\tPrecision:\t 0.935064935065\n",
      "\tRecall:\t\t 0.935064935065\n",
      "\tf1score:\t 0.935064935065\n",
      "Model: 16 nearest nbrs\n",
      "\tAccuracy:\t 0.923664122137\n",
      "\tPrecision:\t 0.935064935065\n",
      "\tRecall:\t\t 0.935064935065\n",
      "\tf1score:\t 0.935064935065\n",
      "Model: 17 nearest nbrs\n",
      "\tAccuracy:\t 0.923664122137\n",
      "\tPrecision:\t 0.935064935065\n",
      "\tRecall:\t\t 0.935064935065\n",
      "\tf1score:\t 0.935064935065\n",
      "Model: 18 nearest nbrs\n",
      "\tAccuracy:\t 0.908396946565\n",
      "\tPrecision:\t 0.933333333333\n",
      "\tRecall:\t\t 0.909090909091\n",
      "\tf1score:\t 0.921052631579\n",
      "Model: 19 nearest nbrs\n",
      "\tAccuracy:\t 0.916030534351\n",
      "\tPrecision:\t 0.923076923077\n",
      "\tRecall:\t\t 0.935064935065\n",
      "\tf1score:\t 0.929032258065\n",
      "Model: 20 nearest nbrs\n",
      "\tAccuracy:\t 0.916030534351\n",
      "\tPrecision:\t 0.923076923077\n",
      "\tRecall:\t\t 0.935064935065\n",
      "\tf1score:\t 0.929032258065\n",
      "Model: GNB\n",
      "\tAccuracy:\t 0.93893129771\n",
      "\tPrecision:\t 0.915662650602\n",
      "\tRecall:\t\t 0.987012987013\n",
      "\tf1score:\t 0.95\n",
      "Model: SVC\n",
      "\tAccuracy:\t 0.954198473282\n",
      "\tPrecision:\t 0.949367088608\n",
      "\tRecall:\t\t 0.974025974026\n",
      "\tf1score:\t 0.961538461538\n",
      "Model: DTree\n",
      "\tAccuracy:\t 0.946564885496\n",
      "\tPrecision:\t 0.9375\n",
      "\tRecall:\t\t 0.974025974026\n",
      "\tf1score:\t 0.955414012739\n",
      "Model: RFor\n",
      "\tAccuracy:\t 0.954198473282\n",
      "\tPrecision:\t 0.949367088608\n",
      "\tRecall:\t\t 0.974025974026\n",
      "\tf1score:\t 0.961538461538\n"
     ]
    }
   ],
   "source": [
    "for name, model in models.items():\n",
    "    print('Model: %s' % name)\n",
    "    model.fit(X_train, y_train)\n",
    "    pred = model.predict(X_test)\n",
    "    print('\\tAccuracy:\\t %s' % accuracy_score(y_test, pred))\n",
    "    print('\\tPrecision:\\t %s' % precision_score(y_test, pred))\n",
    "    print('\\tRecall:\\t\\t %s' % recall_score(y_test, pred))\n",
    "    print('\\tf1score:\\t %s' % f1_score(y_test, pred))"
   ]
  },
  {
   "cell_type": "code",
   "execution_count": 14,
   "metadata": {
    "ExecuteTime": {
     "end_time": "2017-10-16T22:36:22.317991Z",
     "start_time": "2017-10-16T22:36:22.299409Z"
    },
    "collapsed": true
   },
   "outputs": [],
   "source": [
    "def plot_roc(model_name):\n",
    "    l = models[model_name]\n",
    "    l.fit(X_train, y_train)\n",
    "    fpr, tpr, thresh = roc_curve(y_test, l.predict_proba(X_test)[:,1])\n",
    "    roc_auc = auc(fpr, tpr)  \n",
    "\n",
    "\n",
    "    plt.figure()\n",
    "    plt.plot(fpr, tpr, color='darkorange',\n",
    "              label='ROC curve (area = %0.2f)' % roc_auc)\n",
    "    plt.plot([0, 1], [0, 1], color='navy', linestyle='--')\n",
    "    plt.xlim([0.0, 1.0])\n",
    "    plt.ylim([0.0, 1.05])\n",
    "    plt.xlabel('False Positive Rate')\n",
    "    plt.ylabel('True Positive Rate')\n",
    "    plt.title('%s ROC for Predicting Democrat' % model_name.title())\n",
    "    plt.legend(loc=\"lower right\")\n",
    "    plt.show()"
   ]
  },
  {
   "cell_type": "code",
   "execution_count": 15,
   "metadata": {
    "ExecuteTime": {
     "end_time": "2017-10-16T22:36:22.935825Z",
     "start_time": "2017-10-16T22:36:22.742261Z"
    }
   },
   "outputs": [
    {
     "data": {
      "image/png": "[encoded data removed]",
      "text/plain": [
       "<matplotlib.figure.Figure at 0x1164122b0>"
      ]
     },
     "metadata": {},
     "output_type": "display_data"
    }
   ],
   "source": [
    "plot_roc('logit')"
   ]
  },
  {
   "cell_type": "code",
   "execution_count": 16,
   "metadata": {
    "ExecuteTime": {
     "end_time": "2017-10-16T22:36:23.918545Z",
     "start_time": "2017-10-16T22:36:23.724181Z"
    }
   },
   "outputs": [
    {
     "data": {
      "image/png": "[encoded data removed]",
      "text/plain": [
       "<matplotlib.figure.Figure at 0x1163ad198>"
      ]
     },
     "metadata": {},
     "output_type": "display_data"
    }
   ],
   "source": [
    "plot_roc('3 nearest nbrs')"
   ]
  },
  {
   "cell_type": "code",
   "execution_count": 17,
   "metadata": {
    "ExecuteTime": {
     "end_time": "2017-10-16T22:36:24.904666Z",
     "start_time": "2017-10-16T22:36:24.733764Z"
    }
   },
   "outputs": [
    {
     "data": {
      "image/png": "[encoded data removed]",
      "text/plain": [
       "<matplotlib.figure.Figure at 0x116297470>"
      ]
     },
     "metadata": {},
     "output_type": "display_data"
    }
   ],
   "source": [
    "plot_roc('DTree')"
   ]
  },
  {
   "cell_type": "code",
   "execution_count": 18,
   "metadata": {
    "ExecuteTime": {
     "end_time": "2017-10-16T22:36:26.674490Z",
     "start_time": "2017-10-16T22:36:25.497684Z"
    }
   },
   "outputs": [
    {
     "name": "stdout",
     "output_type": "stream",
     "text": [
      "Model: logit\n",
      "\tAccuracy x-val:\t 0.96091954023\n",
      "\tPrecision x-val: 0.970163331033\n",
      "\tRecall x-val:\t 0.966292134831\n",
      "\tf1 score x-val:\t 0.967864264228\n",
      "Model: 1 nearest nbrs\n",
      "\tAccuracy x-val:\t 0.935632183908\n",
      "\tPrecision x-val: 0.968205320691\n",
      "\tRecall x-val:\t 0.925093632959\n",
      "\tf1 score x-val:\t 0.945811143778\n",
      "Model: 2 nearest nbrs\n",
      "\tAccuracy x-val:\t 0.903448275862\n",
      "\tPrecision x-val: 0.974648933114\n",
      "\tRecall x-val:\t 0.865168539326\n",
      "\tf1 score x-val:\t 0.916336600935\n",
      "Model: 3 nearest nbrs\n",
      "\tAccuracy x-val:\t 0.931034482759\n",
      "\tPrecision x-val: 0.961544591063\n",
      "\tRecall x-val:\t 0.925093632959\n",
      "\tf1 score x-val:\t 0.942665773493\n",
      "Model: 4 nearest nbrs\n",
      "\tAccuracy x-val:\t 0.919540229885\n",
      "\tPrecision x-val: 0.971666394251\n",
      "\tRecall x-val:\t 0.895131086142\n",
      "\tf1 score x-val:\t 0.931622638973\n",
      "Model: 5 nearest nbrs\n",
      "\tAccuracy x-val:\t 0.933333333333\n",
      "\tPrecision x-val: 0.961371867646\n",
      "\tRecall x-val:\t 0.928838951311\n",
      "\tf1 score x-val:\t 0.944804199632\n",
      "Model: 6 nearest nbrs\n",
      "\tAccuracy x-val:\t 0.926436781609\n",
      "\tPrecision x-val: 0.97193302828\n",
      "\tRecall x-val:\t 0.906367041199\n",
      "\tf1 score x-val:\t 0.937983054902\n",
      "Model: 7 nearest nbrs\n",
      "\tAccuracy x-val:\t 0.933333333333\n",
      "\tPrecision x-val: 0.968487394958\n",
      "\tRecall x-val:\t 0.921348314607\n",
      "\tf1 score x-val:\t 0.94432263637\n",
      "Model: 8 nearest nbrs\n",
      "\tAccuracy x-val:\t 0.928735632184\n",
      "\tPrecision x-val: 0.972030981067\n",
      "\tRecall x-val:\t 0.910112359551\n",
      "\tf1 score x-val:\t 0.940045705068\n",
      "Model: 9 nearest nbrs\n",
      "\tAccuracy x-val:\t 0.924137931034\n",
      "\tPrecision x-val: 0.960995047514\n",
      "\tRecall x-val:\t 0.913857677903\n",
      "\tf1 score x-val:\t 0.936741558616\n",
      "Model: 10 nearest nbrs\n",
      "\tAccuracy x-val:\t 0.92183908046\n",
      "\tPrecision x-val: 0.960947237225\n",
      "\tRecall x-val:\t 0.910112359551\n",
      "\tf1 score x-val:\t 0.934725158562\n",
      "Model: 11 nearest nbrs\n",
      "\tAccuracy x-val:\t 0.926436781609\n",
      "\tPrecision x-val: 0.96113847838\n",
      "\tRecall x-val:\t 0.917602996255\n",
      "\tf1 score x-val:\t 0.93880276756\n",
      "Model: 12 nearest nbrs\n",
      "\tAccuracy x-val:\t 0.924137931034\n",
      "\tPrecision x-val: 0.968200492069\n",
      "\tRecall x-val:\t 0.906367041199\n",
      "\tf1 score x-val:\t 0.93621182065\n",
      "Model: 13 nearest nbrs\n",
      "\tAccuracy x-val:\t 0.92183908046\n",
      "\tPrecision x-val: 0.960635454331\n",
      "\tRecall x-val:\t 0.910112359551\n",
      "\tf1 score x-val:\t 0.934641240822\n",
      "Model: 14 nearest nbrs\n",
      "\tAccuracy x-val:\t 0.92183908046\n",
      "\tPrecision x-val: 0.964233404205\n",
      "\tRecall x-val:\t 0.906367041199\n",
      "\tf1 score x-val:\t 0.934375835338\n",
      "Model: 15 nearest nbrs\n",
      "\tAccuracy x-val:\t 0.92183908046\n",
      "\tPrecision x-val: 0.960635454331\n",
      "\tRecall x-val:\t 0.910112359551\n",
      "\tf1 score x-val:\t 0.934641240822\n",
      "Model: 16 nearest nbrs\n",
      "\tAccuracy x-val:\t 0.919540229885\n",
      "\tPrecision x-val: 0.960488525151\n",
      "\tRecall x-val:\t 0.906367041199\n",
      "\tf1 score x-val:\t 0.932555924171\n",
      "Model: 17 nearest nbrs\n",
      "\tAccuracy x-val:\t 0.92183908046\n",
      "\tPrecision x-val: 0.960581895833\n",
      "\tRecall x-val:\t 0.910112359551\n",
      "\tf1 score x-val:\t 0.934571294136\n",
      "Model: 18 nearest nbrs\n",
      "\tAccuracy x-val:\t 0.919540229885\n",
      "\tPrecision x-val: 0.960488525151\n",
      "\tRecall x-val:\t 0.906367041199\n",
      "\tf1 score x-val:\t 0.932555924171\n",
      "Model: 19 nearest nbrs\n",
      "\tAccuracy x-val:\t 0.91724137931\n",
      "\tPrecision x-val: 0.96033796809\n",
      "\tRecall x-val:\t 0.902621722846\n",
      "\tf1 score x-val:\t 0.930446074384\n",
      "Model: 20 nearest nbrs\n",
      "\tAccuracy x-val:\t 0.912643678161\n",
      "\tPrecision x-val: 0.963737593803\n",
      "\tRecall x-val:\t 0.89138576779\n",
      "\tf1 score x-val:\t 0.926031102096\n",
      "Model: GNB\n",
      "\tAccuracy x-val:\t 0.931034482759\n",
      "\tPrecision x-val: 0.948219376539\n",
      "\tRecall x-val:\t 0.940074906367\n",
      "\tf1 score x-val:\t 0.943525081974\n",
      "Model: SVC\n",
      "\tAccuracy x-val:\t 0.954022988506\n",
      "\tPrecision x-val: 0.977123246718\n",
      "\tRecall x-val:\t 0.947565543071\n",
      "\tf1 score x-val:\t 0.961803989438\n",
      "Model: DTree\n",
      "\tAccuracy x-val:\t 0.949425287356\n",
      "\tPrecision x-val: 0.962245214291\n",
      "\tRecall x-val:\t 0.955056179775\n",
      "\tf1 score x-val:\t 0.960078212169\n",
      "Model: RFor\n",
      "\tAccuracy x-val:\t 0.967816091954\n",
      "\tPrecision x-val: 0.980920907689\n",
      "\tRecall x-val:\t 0.951310861423\n",
      "\tf1 score x-val:\t 0.973300837836\n"
     ]
    }
   ],
   "source": [
    "for name, model in models.items():\n",
    "    print('Model: %s' % name)\n",
    "    print('\\tAccuracy x-val:\\t %s' % np.mean(cross_val_score(model, X, y, scoring='accuracy')))\n",
    "    print('\\tPrecision x-val: %s' % np.mean(cross_val_score(model, X, y, scoring='precision')))\n",
    "    print('\\tRecall x-val:\\t %s' % np.mean(cross_val_score(model, X, y, scoring='recall')))\n",
    "    print('\\tf1 score x-val:\\t %s' % np.mean(cross_val_score(model, X, y, scoring='f1')))"
   ]
  },
  {
   "cell_type": "code",
   "execution_count": 19,
   "metadata": {
    "ExecuteTime": {
     "end_time": "2017-10-16T22:36:26.694797Z",
     "start_time": "2017-10-16T22:36:26.676077Z"
    },
    "collapsed": true
   },
   "outputs": [],
   "source": [
    "movies = pd.read_csv('2013_movies.csv', parse_dates=True, infer_datetime_format=True)\n",
    "movies.dropna(inplace=True)\n",
    "X = movies[['Budget', 'DomesticTotalGross', 'Runtime']]\n",
    "y = movies.Rating\n",
    "X_train, X_test, y_train, y_test = train_test_split(X, y, test_size=0.30, random_state=4444)"
   ]
  },
  {
   "cell_type": "code",
   "execution_count": 20,
   "metadata": {
    "ExecuteTime": {
     "end_time": "2017-10-16T22:36:27.091420Z",
     "start_time": "2017-10-16T22:36:27.078257Z"
    }
   },
   "outputs": [
    {
     "data": {
      "text/plain": [
       "Counter({'PG-13': 22, 'R': 5})"
      ]
     },
     "execution_count": 20,
     "metadata": {},
     "output_type": "execute_result"
    }
   ],
   "source": [
    "logit = LogisticRegression()\n",
    "logit.fit(X_train, y_train)\n",
    "pred = logit.predict(X_test)\n",
    "\n",
    "#No PGs are predicted, so we cannot predict precision and recall for this class\n",
    "Counter(pred)"
   ]
  },
  {
   "cell_type": "code",
   "execution_count": 21,
   "metadata": {
    "ExecuteTime": {
     "end_time": "2017-10-16T22:36:27.830390Z",
     "start_time": "2017-10-16T22:36:27.803042Z"
    }
   },
   "outputs": [
    {
     "name": "stdout",
     "output_type": "stream",
     "text": [
      "For Logit\n"
     ]
    },
    {
     "name": "stderr",
     "output_type": "stream",
     "text": [
      "/Users/home/anaconda/lib/python3.6/site-packages/sklearn/metrics/classification.py:1113: UndefinedMetricWarning: Precision is ill-defined and being set to 0.0 in labels with no predicted samples.\n",
      "  'precision', 'predicted', average, warn_for)\n"
     ]
    },
    {
     "data": {
      "text/html": [
       "<div>\n",
       "<style>\n",
       "    .dataframe thead tr:only-child th {\n",
       "        text-align: right;\n",
       "    }\n",
       "\n",
       "    .dataframe thead th {\n",
       "        text-align: left;\n",
       "    }\n",
       "\n",
       "    .dataframe tbody tr th {\n",
       "        vertical-align: top;\n",
       "    }\n",
       "</style>\n",
       "<table border=\"1\" class=\"dataframe\">\n",
       "  <thead>\n",
       "    <tr style=\"text-align: right;\">\n",
       "      <th></th>\n",
       "      <th>precision</th>\n",
       "      <th>accuracy</th>\n",
       "    </tr>\n",
       "    <tr>\n",
       "      <th>class</th>\n",
       "      <th></th>\n",
       "      <th></th>\n",
       "    </tr>\n",
       "  </thead>\n",
       "  <tbody>\n",
       "    <tr>\n",
       "      <th>PG</th>\n",
       "      <td>0.000000</td>\n",
       "      <td>0.000000</td>\n",
       "    </tr>\n",
       "    <tr>\n",
       "      <th>PG-13</th>\n",
       "      <td>0.409091</td>\n",
       "      <td>0.818182</td>\n",
       "    </tr>\n",
       "    <tr>\n",
       "      <th>R</th>\n",
       "      <td>0.600000</td>\n",
       "      <td>0.272727</td>\n",
       "    </tr>\n",
       "  </tbody>\n",
       "</table>\n",
       "</div>"
      ],
      "text/plain": [
       "       precision  accuracy\n",
       "class                     \n",
       "PG      0.000000  0.000000\n",
       "PG-13   0.409091  0.818182\n",
       "R       0.600000  0.272727"
      ]
     },
     "execution_count": 21,
     "metadata": {},
     "output_type": "execute_result"
    }
   ],
   "source": [
    "print('For Logit')\n",
    "prec = list(zip(logit.classes_, precision_score(y_test, pred, average=None)))\n",
    "reca = list(zip(logit.classes_, recall_score(y_test, pred, average=None)))\n",
    "pd.DataFrame(prec, columns=['class', 'precision']).merge(pd.DataFrame(reca, columns=['class', 'accuracy'])).set_index('class')"
   ]
  },
  {
   "cell_type": "code",
   "execution_count": 22,
   "metadata": {
    "ExecuteTime": {
     "end_time": "2017-10-16T22:36:32.413673Z",
     "start_time": "2017-10-16T22:36:32.404324Z"
    }
   },
   "outputs": [
    {
     "data": {
      "text/plain": [
       "Counter({'PG': 1, 'PG-13': 14, 'R': 12})"
      ]
     },
     "execution_count": 22,
     "metadata": {},
     "output_type": "execute_result"
    }
   ],
   "source": [
    "five_nearest_nhbrs = KNeighborsClassifier(n_neighbors=5)\n",
    "five_nearest_nhbrs.fit(X_train, y_train)\n",
    "pred = five_nearest_nhbrs.predict(X_test)\n",
    "\n",
    "Counter(pred)"
   ]
  },
  {
   "cell_type": "code",
   "execution_count": 23,
   "metadata": {
    "ExecuteTime": {
     "end_time": "2017-10-16T22:36:33.106826Z",
     "start_time": "2017-10-16T22:36:33.089394Z"
    }
   },
   "outputs": [
    {
     "name": "stdout",
     "output_type": "stream",
     "text": [
      "For KNN, k=5\n"
     ]
    },
    {
     "data": {
      "text/html": [
       "<div>\n",
       "<style>\n",
       "    .dataframe thead tr:only-child th {\n",
       "        text-align: right;\n",
       "    }\n",
       "\n",
       "    .dataframe thead th {\n",
       "        text-align: left;\n",
       "    }\n",
       "\n",
       "    .dataframe tbody tr th {\n",
       "        vertical-align: top;\n",
       "    }\n",
       "</style>\n",
       "<table border=\"1\" class=\"dataframe\">\n",
       "  <thead>\n",
       "    <tr style=\"text-align: right;\">\n",
       "      <th></th>\n",
       "      <th>precision</th>\n",
       "      <th>accuracy</th>\n",
       "    </tr>\n",
       "    <tr>\n",
       "      <th>class</th>\n",
       "      <th></th>\n",
       "      <th></th>\n",
       "    </tr>\n",
       "  </thead>\n",
       "  <tbody>\n",
       "    <tr>\n",
       "      <th>PG</th>\n",
       "      <td>0.000000</td>\n",
       "      <td>0.000000</td>\n",
       "    </tr>\n",
       "    <tr>\n",
       "      <th>PG-13</th>\n",
       "      <td>0.500000</td>\n",
       "      <td>0.636364</td>\n",
       "    </tr>\n",
       "    <tr>\n",
       "      <th>R</th>\n",
       "      <td>0.666667</td>\n",
       "      <td>0.727273</td>\n",
       "    </tr>\n",
       "  </tbody>\n",
       "</table>\n",
       "</div>"
      ],
      "text/plain": [
       "       precision  accuracy\n",
       "class                     \n",
       "PG      0.000000  0.000000\n",
       "PG-13   0.500000  0.636364\n",
       "R       0.666667  0.727273"
      ]
     },
     "execution_count": 23,
     "metadata": {},
     "output_type": "execute_result"
    }
   ],
   "source": [
    "print(\"For KNN, k=5\")\n",
    "prec = list(zip(five_nearest_nhbrs.classes_, precision_score(y_test, pred, average=None)))\n",
    "reca = list(zip(five_nearest_nhbrs.classes_, recall_score(y_test, pred, average=None)))\n",
    "pd.DataFrame(prec, columns=['class', 'precision']).merge(pd.DataFrame(reca, columns=['class', 'accuracy'])).set_index('class')"
   ]
  },
  {
   "cell_type": "code",
   "execution_count": 24,
   "metadata": {
    "ExecuteTime": {
     "end_time": "2017-10-16T22:36:33.784816Z",
     "start_time": "2017-10-16T22:36:33.773287Z"
    }
   },
   "outputs": [
    {
     "data": {
      "text/plain": [
       "0.4074074074074074"
      ]
     },
     "execution_count": 24,
     "metadata": {},
     "output_type": "execute_result"
    }
   ],
   "source": [
    "#precision and accuracy are the same for guessing the mode\n",
    "len(y_test[y_test == 'PG-13'])/len(y_test)"
   ]
  },
  {
   "cell_type": "code",
   "execution_count": 25,
   "metadata": {
    "ExecuteTime": {
     "end_time": "2017-10-16T22:36:34.702939Z",
     "start_time": "2017-10-16T22:36:34.687315Z"
    },
    "collapsed": true
   },
   "outputs": [],
   "source": [
    "sur = pd.read_csv('haberman.data', names=['age', 'year', 'nodes', 'survived'])\n",
    "sur.survived.replace(2, 0, inplace=True)\n",
    "X = sur[['age', 'year', 'nodes']]\n",
    "y = sur.survived\n",
    "X_train, X_test, y_train, y_test = train_test_split(X, y, test_size=0.30, random_state=4444)"
   ]
  },
  {
   "cell_type": "code",
   "execution_count": 26,
   "metadata": {
    "ExecuteTime": {
     "end_time": "2017-10-16T22:36:35.381574Z",
     "start_time": "2017-10-16T22:36:35.375375Z"
    }
   },
   "outputs": [
    {
     "data": {
      "text/plain": [
       "LogisticRegression(C=1.0, class_weight=None, dual=False, fit_intercept=True,\n",
       "          intercept_scaling=1, max_iter=100, multi_class='ovr', n_jobs=1,\n",
       "          penalty='l2', random_state=None, solver='liblinear', tol=0.0001,\n",
       "          verbose=0, warm_start=False)"
      ]
     },
     "execution_count": 26,
     "metadata": {},
     "output_type": "execute_result"
    }
   ],
   "source": [
    "logit = LogisticRegression()\n",
    "logit.fit(X_train, y_train)"
   ]
  },
  {
   "cell_type": "code",
   "execution_count": 29,
   "metadata": {
    "ExecuteTime": {
     "end_time": "2017-10-16T22:36:49.207627Z",
     "start_time": "2017-10-16T22:36:49.025898Z"
    }
   },
   "outputs": [
    {
     "data": {
      "image/png": "[encoded data removed]",
      "text/plain": [
       "<matplotlib.figure.Figure at 0x11609e978>"
      ]
     },
     "metadata": {},
     "output_type": "display_data"
    }
   ],
   "source": [
    "fpr, tpr, thresh = roc_curve(y_test, logit.predict_proba(X_test)[:,1])\n",
    "roc_auc = auc(fpr, tpr)  \n",
    "\n",
    "\n",
    "plt.figure()\n",
    "plt.plot(fpr, tpr, color='darkorange',\n",
    "          label='ROC curve (area = %0.2f)' % roc_auc)\n",
    "plt.plot([0, 1], [0, 1], color='navy', linestyle='--')\n",
    "plt.xlim([0.0, 1.0])\n",
    "plt.ylim([0.0, 1.05])\n",
    "plt.xlabel('False Positive Rate')\n",
    "plt.ylabel('True Positive Rate')\n",
    "plt.title('Logit ROC for Predicting Survival')\n",
    "plt.legend(loc=\"lower right\")\n",
    "plt.show()"
   ]
  },
  {
   "cell_type": "code",
   "execution_count": null,
   "metadata": {
    "collapsed": true
   },
   "outputs": [],
   "source": []
  },
  {
   "cell_type": "code",
   "execution_count": null,
   "metadata": {
    "collapsed": true
   },
   "outputs": [],
   "source": []
  }
 ],
 "metadata": {
  "kernelspec": {
   "display_name": "Python 3",
   "language": "python",
   "name": "python3"
  },
  "language_info": {
   "codemirror_mode": {
    "name": "ipython",
    "version": 3
   },
   "file_extension": ".py",
   "mimetype": "text/x-python",
   "name": "python",
   "nbconvert_exporter": "python",
   "pygments_lexer": "ipython3",
   "version": "3.6.1"
  }
 },
 "nbformat": 4,
 "nbformat_minor": 2
}
