{
 "cells": [
  {
   "cell_type": "code",
   "execution_count": 22,
   "metadata": {
    "collapsed": true
   },
   "outputs": [],
   "source": [
    "from __future__ import division, print_function\n",
    "import pandas as pd\n",
    "from sklearn.model_selection import train_test_split\n",
    "from sklearn.neighbors import KNeighborsClassifier\n",
    "\n",
    "from sklearn.linear_model import LogisticRegression\n",
    "from sklearn.model_selection import learning_curve\n",
    "\n",
    "from sklearn.naive_bayes import GaussianNB\n",
    "from sklearn.svm import SVC\n",
    "from sklearn.tree import DecisionTreeClassifier\n",
    "from sklearn.ensemble import RandomForestClassifier\n",
    "from sklearn.model_selection import cross_val_score\n",
    "\n",
    "from sklearn.metrics import classification_report\n",
    "from sklearn.metrics import roc_curve\n",
    "from sklearn.metrics import roc_auc_score\n",
    "from sklearn.metrics import f1_score\n",
    "from sklearn.metrics import make_scorer\n",
    "from sklearn.metrics import accuracy_score\n",
    "from sklearn.metrics import precision_score\n",
    "from sklearn.metrics import recall_score\n",
    "\n",
    "\n",
    "import matplotlib.pyplot as plt\n",
    "%matplotlib inline\n",
    "\n",
    "import numpy as np\n",
    "\n",
    "test_size = 0.3\n",
    "random_state = 4444"
   ]
  },
  {
   "cell_type": "markdown",
   "metadata": {},
   "source": [
    "# Challenge 8"
   ]
  },
  {
   "cell_type": "markdown",
   "metadata": {},
   "source": [
    "## Q1"
   ]
  },
  {
   "cell_type": "code",
   "execution_count": 23,
   "metadata": {
    "collapsed": true
   },
   "outputs": [],
   "source": [
    "cols = ['class','handi','water','adopt','phy-fee',\n",
    "        'elaid','rel','sat-ban','contras','missile',\n",
    "        'immi', 'synfuel','edspend','supersue',\n",
    "        'crime','duty','exsa']\n",
    "df = pd.read_csv('house-votes-84.data', header=0, names = cols )\n",
    "\n"
   ]
  },
  {
   "cell_type": "code",
   "execution_count": 24,
   "metadata": {
    "collapsed": true
   },
   "outputs": [],
   "source": [
    "df = df.replace('y', 1).replace('n', 0)"
   ]
  },
  {
   "cell_type": "code",
   "execution_count": 25,
   "metadata": {
    "collapsed": true
   },
   "outputs": [],
   "source": [
    "for col in cols[1:]:\n",
    "    mean = df[df[col]!='?'][col].mean()\n",
    "    df[col] = df[col].replace('?', mean)"
   ]
  },
  {
   "cell_type": "code",
   "execution_count": 26,
   "metadata": {
    "collapsed": true
   },
   "outputs": [],
   "source": [
    "\n",
    "X = df.iloc[:,1:]\n",
    "y = df['class']\n",
    "\n",
    "X_train, X_test, y_train, y_test = train_test_split(X, y, \n",
    "        test_size=test_size, random_state = random_state)\n",
    "y_pred = {}\n",
    "y_prob = {}"
   ]
  },
  {
   "cell_type": "code",
   "execution_count": 27,
   "metadata": {},
   "outputs": [
    {
     "data": {
      "text/html": [
       "<div>\n",
       "<style>\n",
       "    .dataframe thead tr:only-child th {\n",
       "        text-align: right;\n",
       "    }\n",
       "\n",
       "    .dataframe thead th {\n",
       "        text-align: left;\n",
       "    }\n",
       "\n",
       "    .dataframe tbody tr th {\n",
       "        vertical-align: top;\n",
       "    }\n",
       "</style>\n",
       "<table border=\"1\" class=\"dataframe\">\n",
       "  <thead>\n",
       "    <tr style=\"text-align: right;\">\n",
       "      <th></th>\n",
       "      <th></th>\n",
       "      <th>2</th>\n",
       "    </tr>\n",
       "    <tr>\n",
       "      <th>0</th>\n",
       "      <th>1</th>\n",
       "      <th></th>\n",
       "    </tr>\n",
       "  </thead>\n",
       "  <tbody>\n",
       "    <tr>\n",
       "      <th rowspan=\"4\" valign=\"top\">GaussianNB</th>\n",
       "      <th>accuracy_score</th>\n",
       "      <td>0.908397</td>\n",
       "    </tr>\n",
       "    <tr>\n",
       "      <th>precision_score</th>\n",
       "      <td>0.949367</td>\n",
       "    </tr>\n",
       "    <tr>\n",
       "      <th>recall_score</th>\n",
       "      <td>0.903614</td>\n",
       "    </tr>\n",
       "    <tr>\n",
       "      <th>f1_score</th>\n",
       "      <td>0.925926</td>\n",
       "    </tr>\n",
       "    <tr>\n",
       "      <th rowspan=\"4\" valign=\"top\">SVC</th>\n",
       "      <th>accuracy_score</th>\n",
       "      <td>0.954198</td>\n",
       "    </tr>\n",
       "    <tr>\n",
       "      <th>precision_score</th>\n",
       "      <td>0.962025</td>\n",
       "    </tr>\n",
       "    <tr>\n",
       "      <th>recall_score</th>\n",
       "      <td>0.962025</td>\n",
       "    </tr>\n",
       "    <tr>\n",
       "      <th>f1_score</th>\n",
       "      <td>0.962025</td>\n",
       "    </tr>\n",
       "    <tr>\n",
       "      <th rowspan=\"4\" valign=\"top\">DecisionTreeClassifier</th>\n",
       "      <th>accuracy_score</th>\n",
       "      <td>0.923664</td>\n",
       "    </tr>\n",
       "    <tr>\n",
       "      <th>precision_score</th>\n",
       "      <td>0.949367</td>\n",
       "    </tr>\n",
       "    <tr>\n",
       "      <th>recall_score</th>\n",
       "      <td>0.925926</td>\n",
       "    </tr>\n",
       "    <tr>\n",
       "      <th>f1_score</th>\n",
       "      <td>0.937500</td>\n",
       "    </tr>\n",
       "    <tr>\n",
       "      <th rowspan=\"4\" valign=\"top\">RandomForestClassifier</th>\n",
       "      <th>accuracy_score</th>\n",
       "      <td>0.946565</td>\n",
       "    </tr>\n",
       "    <tr>\n",
       "      <th>precision_score</th>\n",
       "      <td>0.962025</td>\n",
       "    </tr>\n",
       "    <tr>\n",
       "      <th>recall_score</th>\n",
       "      <td>0.950000</td>\n",
       "    </tr>\n",
       "    <tr>\n",
       "      <th>f1_score</th>\n",
       "      <td>0.955975</td>\n",
       "    </tr>\n",
       "    <tr>\n",
       "      <th rowspan=\"4\" valign=\"top\">LogisticRegression</th>\n",
       "      <th>accuracy_score</th>\n",
       "      <td>0.954198</td>\n",
       "    </tr>\n",
       "    <tr>\n",
       "      <th>precision_score</th>\n",
       "      <td>0.974684</td>\n",
       "    </tr>\n",
       "    <tr>\n",
       "      <th>recall_score</th>\n",
       "      <td>0.950617</td>\n",
       "    </tr>\n",
       "    <tr>\n",
       "      <th>f1_score</th>\n",
       "      <td>0.962500</td>\n",
       "    </tr>\n",
       "    <tr>\n",
       "      <th rowspan=\"4\" valign=\"top\">KNeighborsClassifier</th>\n",
       "      <th>accuracy_score</th>\n",
       "      <td>0.931298</td>\n",
       "    </tr>\n",
       "    <tr>\n",
       "      <th>precision_score</th>\n",
       "      <td>0.949367</td>\n",
       "    </tr>\n",
       "    <tr>\n",
       "      <th>recall_score</th>\n",
       "      <td>0.937500</td>\n",
       "    </tr>\n",
       "    <tr>\n",
       "      <th>f1_score</th>\n",
       "      <td>0.943396</td>\n",
       "    </tr>\n",
       "  </tbody>\n",
       "</table>\n",
       "</div>"
      ],
      "text/plain": [
       "                                               2\n",
       "0                      1                        \n",
       "GaussianNB             accuracy_score   0.908397\n",
       "                       precision_score  0.949367\n",
       "                       recall_score     0.903614\n",
       "                       f1_score         0.925926\n",
       "SVC                    accuracy_score   0.954198\n",
       "                       precision_score  0.962025\n",
       "                       recall_score     0.962025\n",
       "                       f1_score         0.962025\n",
       "DecisionTreeClassifier accuracy_score   0.923664\n",
       "                       precision_score  0.949367\n",
       "                       recall_score     0.925926\n",
       "                       f1_score         0.937500\n",
       "RandomForestClassifier accuracy_score   0.946565\n",
       "                       precision_score  0.962025\n",
       "                       recall_score     0.950000\n",
       "                       f1_score         0.955975\n",
       "LogisticRegression     accuracy_score   0.954198\n",
       "                       precision_score  0.974684\n",
       "                       recall_score     0.950617\n",
       "                       f1_score         0.962500\n",
       "KNeighborsClassifier   accuracy_score   0.931298\n",
       "                       precision_score  0.949367\n",
       "                       recall_score     0.937500\n",
       "                       f1_score         0.943396"
      ]
     },
     "execution_count": 27,
     "metadata": {},
     "output_type": "execute_result"
    }
   ],
   "source": [
    "models = ['GaussianNB', 'SVC', 'DecisionTreeClassifier', 'RandomForestClassifier', \n",
    "          'LogisticRegression', 'KNeighborsClassifier']\n",
    "\n",
    "options = ['', '', '', 'n_estimators=1000', \n",
    "           'C=1000000', 'n_neighbors=12']\n",
    "\n",
    "scores = ['accuracy_score', 'precision_score', \n",
    "          'recall_score', 'f1_score']\n",
    "\n",
    "score_list = []\n",
    "\n",
    "for i, model_name in enumerate(models):\n",
    "    exec('model = '+ model_name + '('+ options[i] +')')\n",
    "    model.fit(X_train,y_train)\n",
    "    y_pred[model_name] = model.predict(X_test)\n",
    "    try:\n",
    "        y_prob[model_name] = model.predict_proba(X_test)[:,0]\n",
    "    except:\n",
    "        y_prob[model_name] = (y_pred[model_name] == 'democrat')*1\n",
    "    for score in scores:\n",
    "        try:\n",
    "            exec('s = ' + score + \n",
    "             \"( y_pred[model_name], y_test, pos_label='democrat')\")\n",
    "        except:\n",
    "            exec('s = ' + score + \n",
    "             \"( y_pred[model_name], y_test)\")\n",
    "                \n",
    "        score_list.append([model_name, score, s])\n",
    "pd.DataFrame(score_list).set_index([0,1])\n"
   ]
  },
  {
   "cell_type": "markdown",
   "metadata": {},
   "source": [
    "## Q2"
   ]
  },
  {
   "cell_type": "code",
   "execution_count": 28,
   "metadata": {},
   "outputs": [
    {
     "name": "stdout",
     "output_type": "stream",
     "text": [
      "GaussianNB AUC 0.942307692308\n",
      "SVC AUC 0.952166504382\n",
      "DecisionTreeClassifier AUC 0.916991236611\n",
      "RandomForestClassifier AUC 0.989532619279\n",
      "LogisticRegression AUC 0.990019474197\n",
      "KNeighborsClassifier AUC 0.952166504382\n"
     ]
    },
    {
     "data": {
      "image/png": "[encoded data removed]",
      "text/plain": [
       "<matplotlib.figure.Figure at 0x114f6ce90>"
      ]
     },
     "metadata": {},
     "output_type": "display_data"
    }
   ],
   "source": [
    "y_bin = (y_test == 'democrat')*1\n",
    "\n",
    "for i, model in enumerate(models):\n",
    "    plt.subplot(2,3,i+1)\n",
    "    fpr, tpr, thresholds = roc_curve(y_bin, y_prob[model])\n",
    "    print(model,'AUC', roc_auc_score(y_bin, y_prob[model]))\n",
    "    plt.plot(fpr,tpr, label = model)\n",
    "    plt.plot(np.linspace(0,1,100), np.linspace(0,1,100))\n",
    "    plt.legend()\n"
   ]
  },
  {
   "cell_type": "markdown",
   "metadata": {},
   "source": [
    "## Q3"
   ]
  },
  {
   "cell_type": "code",
   "execution_count": 8,
   "metadata": {},
   "outputs": [
    {
     "data": {
      "text/html": [
       "<div>\n",
       "<style>\n",
       "    .dataframe thead tr:only-child th {\n",
       "        text-align: right;\n",
       "    }\n",
       "\n",
       "    .dataframe thead th {\n",
       "        text-align: left;\n",
       "    }\n",
       "\n",
       "    .dataframe tbody tr th {\n",
       "        vertical-align: top;\n",
       "    }\n",
       "</style>\n",
       "<table border=\"1\" class=\"dataframe\">\n",
       "  <thead>\n",
       "    <tr style=\"text-align: right;\">\n",
       "      <th></th>\n",
       "      <th></th>\n",
       "      <th>2</th>\n",
       "    </tr>\n",
       "    <tr>\n",
       "      <th>0</th>\n",
       "      <th>1</th>\n",
       "      <th></th>\n",
       "    </tr>\n",
       "  </thead>\n",
       "  <tbody>\n",
       "    <tr>\n",
       "      <th rowspan=\"4\" valign=\"top\">GaussianNB</th>\n",
       "      <th>accuracy_score</th>\n",
       "      <td>0.930843</td>\n",
       "    </tr>\n",
       "    <tr>\n",
       "      <th>precision_score</th>\n",
       "      <td>0.948219</td>\n",
       "    </tr>\n",
       "    <tr>\n",
       "      <th>recall_score</th>\n",
       "      <td>0.940075</td>\n",
       "    </tr>\n",
       "    <tr>\n",
       "      <th>f1_score</th>\n",
       "      <td>0.943525</td>\n",
       "    </tr>\n",
       "    <tr>\n",
       "      <th rowspan=\"4\" valign=\"top\">SVC</th>\n",
       "      <th>accuracy_score</th>\n",
       "      <td>0.953879</td>\n",
       "    </tr>\n",
       "    <tr>\n",
       "      <th>precision_score</th>\n",
       "      <td>0.977123</td>\n",
       "    </tr>\n",
       "    <tr>\n",
       "      <th>recall_score</th>\n",
       "      <td>0.947566</td>\n",
       "    </tr>\n",
       "    <tr>\n",
       "      <th>f1_score</th>\n",
       "      <td>0.961804</td>\n",
       "    </tr>\n",
       "    <tr>\n",
       "      <th rowspan=\"4\" valign=\"top\">DecisionTreeClassifier</th>\n",
       "      <th>accuracy_score</th>\n",
       "      <td>0.951533</td>\n",
       "    </tr>\n",
       "    <tr>\n",
       "      <th>precision_score</th>\n",
       "      <td>0.965940</td>\n",
       "    </tr>\n",
       "    <tr>\n",
       "      <th>recall_score</th>\n",
       "      <td>0.951311</td>\n",
       "    </tr>\n",
       "    <tr>\n",
       "      <th>f1_score</th>\n",
       "      <td>0.962004</td>\n",
       "    </tr>\n",
       "    <tr>\n",
       "      <th rowspan=\"4\" valign=\"top\">RandomForestClassifier</th>\n",
       "      <th>accuracy_score</th>\n",
       "      <td>0.967704</td>\n",
       "    </tr>\n",
       "    <tr>\n",
       "      <th>precision_score</th>\n",
       "      <td>0.980970</td>\n",
       "    </tr>\n",
       "    <tr>\n",
       "      <th>recall_score</th>\n",
       "      <td>0.962547</td>\n",
       "    </tr>\n",
       "    <tr>\n",
       "      <th>f1_score</th>\n",
       "      <td>0.975365</td>\n",
       "    </tr>\n",
       "    <tr>\n",
       "      <th rowspan=\"4\" valign=\"top\">LogisticRegression</th>\n",
       "      <th>accuracy_score</th>\n",
       "      <td>0.960776</td>\n",
       "    </tr>\n",
       "    <tr>\n",
       "      <th>precision_score</th>\n",
       "      <td>0.970083</td>\n",
       "    </tr>\n",
       "    <tr>\n",
       "      <th>recall_score</th>\n",
       "      <td>0.966292</td>\n",
       "    </tr>\n",
       "    <tr>\n",
       "      <th>f1_score</th>\n",
       "      <td>0.967823</td>\n",
       "    </tr>\n",
       "    <tr>\n",
       "      <th rowspan=\"4\" valign=\"top\">KNeighborsClassifier</th>\n",
       "      <th>accuracy_score</th>\n",
       "      <td>0.926261</td>\n",
       "    </tr>\n",
       "    <tr>\n",
       "      <th>precision_score</th>\n",
       "      <td>0.957355</td>\n",
       "    </tr>\n",
       "    <tr>\n",
       "      <th>recall_score</th>\n",
       "      <td>0.921348</td>\n",
       "    </tr>\n",
       "    <tr>\n",
       "      <th>f1_score</th>\n",
       "      <td>0.938957</td>\n",
       "    </tr>\n",
       "  </tbody>\n",
       "</table>\n",
       "</div>"
      ],
      "text/plain": [
       "                                               2\n",
       "0                      1                        \n",
       "GaussianNB             accuracy_score   0.930843\n",
       "                       precision_score  0.948219\n",
       "                       recall_score     0.940075\n",
       "                       f1_score         0.943525\n",
       "SVC                    accuracy_score   0.953879\n",
       "                       precision_score  0.977123\n",
       "                       recall_score     0.947566\n",
       "                       f1_score         0.961804\n",
       "DecisionTreeClassifier accuracy_score   0.951533\n",
       "                       precision_score  0.965940\n",
       "                       recall_score     0.951311\n",
       "                       f1_score         0.962004\n",
       "RandomForestClassifier accuracy_score   0.967704\n",
       "                       precision_score  0.980970\n",
       "                       recall_score     0.962547\n",
       "                       f1_score         0.975365\n",
       "LogisticRegression     accuracy_score   0.960776\n",
       "                       precision_score  0.970083\n",
       "                       recall_score     0.966292\n",
       "                       f1_score         0.967823\n",
       "KNeighborsClassifier   accuracy_score   0.926261\n",
       "                       precision_score  0.957355\n",
       "                       recall_score     0.921348\n",
       "                       f1_score         0.938957"
      ]
     },
     "execution_count": 8,
     "metadata": {},
     "output_type": "execute_result"
    }
   ],
   "source": [
    "models = ['GaussianNB', 'SVC', 'DecisionTreeClassifier', 'RandomForestClassifier', \n",
    "          'LogisticRegression', 'KNeighborsClassifier']\n",
    "\n",
    "scores = ['accuracy_score', 'precision_score', \n",
    "          'recall_score', 'f1_score']\n",
    "\n",
    "options = ['', '', '', 'n_estimators=1000', \n",
    "           'C=1000000', 'n_neighbors=12']\n",
    "\n",
    "\n",
    "score_list = []\n",
    "\n",
    "for i, model_name in enumerate(models):\n",
    "    exec('model = '+ model_name + '('+ options[i] +')')\n",
    "    model.fit(X_train,y_train)\n",
    "    y_pred[model_name] = model.predict(X_test)\n",
    "    for score in scores:\n",
    "        try:\n",
    "            exec('scorer = make_scorer(' + score + \n",
    "             \", pos_label='democrat')\")\n",
    "            s = np.mean(cross_val_score(model, X, y, scoring= scorer))\n",
    "        except:\n",
    "            exec('scorer = make_scorer(' + score + \n",
    "             \")\")\n",
    "            s = np.mean(cross_val_score(model, X, y, scoring= scorer))\n",
    "        \n",
    "        score_list.append([model_name, score, s])\n",
    "pd.DataFrame(score_list).set_index([0,1])\n"
   ]
  },
  {
   "cell_type": "markdown",
   "metadata": {},
   "source": [
    "## Q4"
   ]
  },
  {
   "cell_type": "code",
   "execution_count": 9,
   "metadata": {
    "collapsed": true
   },
   "outputs": [],
   "source": [
    "df = pd.read_csv('2013_movies.csv').dropna()"
   ]
  },
  {
   "cell_type": "code",
   "execution_count": 10,
   "metadata": {},
   "outputs": [
    {
     "name": "stdout",
     "output_type": "stream",
     "text": [
      "<class 'pandas.core.frame.DataFrame'>\n",
      "Int64Index: 87 entries, 0 to 99\n",
      "Data columns (total 7 columns):\n",
      "Title                 87 non-null object\n",
      "Budget                87 non-null float64\n",
      "DomesticTotalGross    87 non-null int64\n",
      "Director              87 non-null object\n",
      "Rating                87 non-null object\n",
      "Runtime               87 non-null int64\n",
      "ReleaseDate           87 non-null object\n",
      "dtypes: float64(1), int64(2), object(4)\n",
      "memory usage: 5.4+ KB\n"
     ]
    }
   ],
   "source": [
    "df.info()"
   ]
  },
  {
   "cell_type": "code",
   "execution_count": 11,
   "metadata": {
    "collapsed": true
   },
   "outputs": [],
   "source": [
    "cont_var = ['Budget', 'DomesticTotalGross', 'Runtime']\n",
    "\n",
    "X = df.loc[:,cont_var]\n",
    "y = df.Rating\n"
   ]
  },
  {
   "cell_type": "code",
   "execution_count": 12,
   "metadata": {
    "collapsed": true
   },
   "outputs": [],
   "source": [
    "X_train, X_test, y_train, y_test = train_test_split(X, y, \n",
    "        test_size=test_size, random_state = random_state)"
   ]
  },
  {
   "cell_type": "code",
   "execution_count": 13,
   "metadata": {
    "collapsed": true
   },
   "outputs": [],
   "source": [
    "knn = KNeighborsClassifier(n_neighbors=4, n_jobs=-1)\n",
    "knn.fit(X_train, y_train)\n",
    "y_pred['knn'] = knn.predict(X_test)"
   ]
  },
  {
   "cell_type": "code",
   "execution_count": 14,
   "metadata": {
    "collapsed": true
   },
   "outputs": [],
   "source": [
    "def simple_pg_thir(X):\n",
    "    return ['PG-13' for i in range(X.shape[0])]\n",
    "y_pred['simple'] = simple_pg_thir(X_test)"
   ]
  },
  {
   "cell_type": "code",
   "execution_count": 15,
   "metadata": {
    "collapsed": true
   },
   "outputs": [],
   "source": [
    "lr_model = LogisticRegression()\n",
    "lr_model.fit(X_train,y_train)\n",
    "y_pred['lr'] = lr_model.predict(X_test)"
   ]
  },
  {
   "cell_type": "code",
   "execution_count": 16,
   "metadata": {},
   "outputs": [
    {
     "name": "stdout",
     "output_type": "stream",
     "text": [
      "knn:\n",
      "             precision    recall  f1-score   support\n",
      "\n",
      "         PG       0.50      0.20      0.29         5\n",
      "      PG-13       0.50      0.73      0.59        11\n",
      "          R       0.67      0.55      0.60        11\n",
      "\n",
      "avg / total       0.57      0.56      0.54        27\n",
      "\n",
      "simple:\n",
      "             precision    recall  f1-score   support\n",
      "\n",
      "         PG       0.00      0.00      0.00         5\n",
      "      PG-13       0.41      1.00      0.58        11\n",
      "          R       0.00      0.00      0.00        11\n",
      "\n",
      "avg / total       0.17      0.41      0.24        27\n",
      "\n",
      "lr:\n",
      "             precision    recall  f1-score   support\n",
      "\n",
      "         PG       0.00      0.00      0.00         5\n",
      "      PG-13       0.41      0.82      0.55        11\n",
      "          R       0.60      0.27      0.37        11\n",
      "\n",
      "avg / total       0.41      0.44      0.38        27\n",
      "\n"
     ]
    },
    {
     "name": "stderr",
     "output_type": "stream",
     "text": [
      "/Users/mrapp/anaconda/lib/python2.7/site-packages/sklearn/metrics/classification.py:1113: UndefinedMetricWarning: Precision and F-score are ill-defined and being set to 0.0 in labels with no predicted samples.\n",
      "  'precision', 'predicted', average, warn_for)\n"
     ]
    }
   ],
   "source": [
    "models = ['knn', 'simple', 'lr']\n",
    "for model in models:\n",
    "    print(model + ':')\n",
    "    print(classification_report(y_test, y_pred[model]))"
   ]
  },
  {
   "cell_type": "markdown",
   "metadata": {
    "collapsed": true
   },
   "source": [
    "## Q5"
   ]
  },
  {
   "cell_type": "code",
   "execution_count": 17,
   "metadata": {
    "collapsed": true
   },
   "outputs": [],
   "source": [
    "cols = ['age', 'year', 'nodes', 'survive']\n",
    "df = pd.read_csv('haberman.data',  header=0, names = cols )"
   ]
  },
  {
   "cell_type": "code",
   "execution_count": 18,
   "metadata": {
    "collapsed": true
   },
   "outputs": [],
   "source": [
    "feat_cols = ['age', 'year', 'nodes']\n",
    "\n",
    "X = df.loc[:,feat_cols]\n",
    "y = df.survive\n",
    "\n",
    "X_train, X_test, y_train, y_test = train_test_split(X, y, \n",
    "        test_size=test_size, random_state = random_state)\n",
    "\n",
    "lr_model = LogisticRegression(C=100000)\n"
   ]
  },
  {
   "cell_type": "code",
   "execution_count": 19,
   "metadata": {
    "collapsed": true
   },
   "outputs": [],
   "source": [
    "lr_model.fit(X_train, y_train)\n",
    "lr_model.score(X_test, y_test)\n",
    "y_prob = lr_model.predict_proba(X_test)[:,0]"
   ]
  },
  {
   "cell_type": "code",
   "execution_count": null,
   "metadata": {
    "collapsed": true
   },
   "outputs": [],
   "source": []
  },
  {
   "cell_type": "code",
   "execution_count": 21,
   "metadata": {},
   "outputs": [
    {
     "name": "stdout",
     "output_type": "stream",
     "text": [
      "Logistic Regression AUC 0.64209199748\n"
     ]
    },
    {
     "data": {
      "text/plain": [
       "<matplotlib.legend.Legend at 0x1151e4f50>"
      ]
     },
     "execution_count": 21,
     "metadata": {},
     "output_type": "execute_result"
    },
    {
     "data": {
      "image/png": "[encoded data removed]",
      "text/plain": [
       "<matplotlib.figure.Figure at 0x11550ec50>"
      ]
     },
     "metadata": {},
     "output_type": "display_data"
    }
   ],
   "source": [
    "y_bin = (y_test == 1)*1\n",
    "\n",
    "fpr, tpr, thresholds = roc_curve(y_bin, y_prob)\n",
    "print('Logistic Regression AUC', roc_auc_score(y_bin, y_prob))\n",
    "plt.plot(fpr, tpr, label= 'Logistic Regression')\n",
    "plt.plot(np.linspace(0,1,100), np.linspace(0,1,100));\n",
    "plt.legend()"
   ]
  },
  {
   "cell_type": "code",
   "execution_count": null,
   "metadata": {
    "collapsed": true
   },
   "outputs": [],
   "source": []
  }
 ],
 "metadata": {
  "kernelspec": {
   "display_name": "Python 2",
   "language": "python",
   "name": "python2"
  },
  "language_info": {
   "codemirror_mode": {
    "name": "ipython",
    "version": 2
   },
   "file_extension": ".py",
   "mimetype": "text/x-python",
   "name": "python",
   "nbconvert_exporter": "python",
   "pygments_lexer": "ipython2",
   "version": "2.7.13"
  }
 },
 "nbformat": 4,
 "nbformat_minor": 2
}
