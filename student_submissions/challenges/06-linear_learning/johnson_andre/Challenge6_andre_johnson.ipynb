{
 "cells": [
  {
   "cell_type": "markdown",
   "metadata": {},
   "source": [
    "# Challenge Set 6 - Linear Regression and Learning Curve "
   ]
  },
  {
   "cell_type": "code",
   "execution_count": 231,
   "metadata": {},
   "outputs": [
    {
     "name": "stderr",
     "output_type": "stream",
     "text": [
      "C:\\Users\\aj282\\Anaconda3\\lib\\site-packages\\statsmodels\\compat\\pandas.py:56: FutureWarning: The pandas.core.datetools module is deprecated and will be removed in a future version. Please use the pandas.tseries module instead.\n",
      "  from pandas.core import datetools\n"
     ]
    }
   ],
   "source": [
    "import pandas as pd\n",
    "import html5lib\n",
    "import numpy as np\n",
    "import matplotlib.pyplot as plt\n",
    "import seaborn as sns\n",
    "import dateutil\n",
    "\n",
    "from sklearn.model_selection import train_test_split\n",
    "#from sklearn.cross_validation import train_test_split\n",
    "\n",
    "from sklearn.linear_model import LinearRegression\n",
    "\n",
    "%matplotlib inline\n",
    "\n",
    "from sklearn.metrics import r2_score\n",
    "\n",
    "import statsmodels.api as sm"
   ]
  },
  {
   "cell_type": "code",
   "execution_count": 2,
   "metadata": {
    "collapsed": true
   },
   "outputs": [],
   "source": [
    "X = np.linspace(1,100, 10000)\n",
    "# num_obs = 10000\n",
    "# X = []\n",
    "# for i in range(num_obs):\n",
    "#     X.append((np.random.uniform(1,100)))\n",
    "# # logdata = np.random.randn(1,100)\n",
    "# # df = pd.DataFrame(logdata)"
   ]
  },
  {
   "cell_type": "code",
   "execution_count": 3,
   "metadata": {
    "collapsed": true
   },
   "outputs": [],
   "source": [
    "df = pd.DataFrame(X)"
   ]
  },
  {
   "cell_type": "code",
   "execution_count": 4,
   "metadata": {
    "collapsed": true
   },
   "outputs": [],
   "source": [
    "df.rename(index=str, columns={0: 'X'}, inplace=True)"
   ]
  },
  {
   "cell_type": "code",
   "execution_count": 5,
   "metadata": {
    "collapsed": true
   },
   "outputs": [],
   "source": [
    "# B0 = np.linspace(.9,1.1, 10000)"
   ]
  },
  {
   "cell_type": "code",
   "execution_count": 6,
   "metadata": {
    "collapsed": true
   },
   "outputs": [],
   "source": [
    "# B1 = []\n",
    "# for i in range(10000):\n",
    "#     B1.append((np.random.random()*25/np.random.random()))"
   ]
  },
  {
   "cell_type": "code",
   "execution_count": 7,
   "metadata": {
    "collapsed": true
   },
   "outputs": [],
   "source": [
    "epsilon = []\n",
    "for i in range(10000):\n",
    "    epsilon.append((np.random.random()/10))"
   ]
  },
  {
   "cell_type": "code",
   "execution_count": 8,
   "metadata": {
    "collapsed": true
   },
   "outputs": [],
   "source": [
    "df['B0'] = 1"
   ]
  },
  {
   "cell_type": "code",
   "execution_count": 9,
   "metadata": {
    "collapsed": true
   },
   "outputs": [],
   "source": [
    "df['epsilon'] = epsilon"
   ]
  },
  {
   "cell_type": "code",
   "execution_count": 10,
   "metadata": {
    "collapsed": true
   },
   "outputs": [],
   "source": [
    "df['B1'] = 3"
   ]
  },
  {
   "cell_type": "code",
   "execution_count": 11,
   "metadata": {},
   "outputs": [
    {
     "data": {
      "text/html": [
       "<div>\n",
       "<style>\n",
       "    .dataframe thead tr:only-child th {\n",
       "        text-align: right;\n",
       "    }\n",
       "\n",
       "    .dataframe thead th {\n",
       "        text-align: left;\n",
       "    }\n",
       "\n",
       "    .dataframe tbody tr th {\n",
       "        vertical-align: top;\n",
       "    }\n",
       "</style>\n",
       "<table border=\"1\" class=\"dataframe\">\n",
       "  <thead>\n",
       "    <tr style=\"text-align: right;\">\n",
       "      <th></th>\n",
       "      <th>X</th>\n",
       "      <th>B0</th>\n",
       "      <th>epsilon</th>\n",
       "      <th>B1</th>\n",
       "    </tr>\n",
       "  </thead>\n",
       "  <tbody>\n",
       "    <tr>\n",
       "      <th>0</th>\n",
       "      <td>1.000000</td>\n",
       "      <td>1</td>\n",
       "      <td>0.097660</td>\n",
       "      <td>3</td>\n",
       "    </tr>\n",
       "    <tr>\n",
       "      <th>1</th>\n",
       "      <td>1.009901</td>\n",
       "      <td>1</td>\n",
       "      <td>0.070591</td>\n",
       "      <td>3</td>\n",
       "    </tr>\n",
       "    <tr>\n",
       "      <th>2</th>\n",
       "      <td>1.019802</td>\n",
       "      <td>1</td>\n",
       "      <td>0.083583</td>\n",
       "      <td>3</td>\n",
       "    </tr>\n",
       "    <tr>\n",
       "      <th>3</th>\n",
       "      <td>1.029703</td>\n",
       "      <td>1</td>\n",
       "      <td>0.028201</td>\n",
       "      <td>3</td>\n",
       "    </tr>\n",
       "    <tr>\n",
       "      <th>4</th>\n",
       "      <td>1.039604</td>\n",
       "      <td>1</td>\n",
       "      <td>0.035029</td>\n",
       "      <td>3</td>\n",
       "    </tr>\n",
       "  </tbody>\n",
       "</table>\n",
       "</div>"
      ],
      "text/plain": [
       "          X  B0   epsilon  B1\n",
       "0  1.000000   1  0.097660   3\n",
       "1  1.009901   1  0.070591   3\n",
       "2  1.019802   1  0.083583   3\n",
       "3  1.029703   1  0.028201   3\n",
       "4  1.039604   1  0.035029   3"
      ]
     },
     "execution_count": 11,
     "metadata": {},
     "output_type": "execute_result"
    }
   ],
   "source": [
    "df.head()"
   ]
  },
  {
   "cell_type": "code",
   "execution_count": 102,
   "metadata": {
    "collapsed": true
   },
   "outputs": [],
   "source": [
    "def transform_y(B0, B1, X, epsilon):\n",
    "    return B0 + (B1*np.log(X)) + epsilon\n",
    "\n",
    "\n",
    "df['y'] = df.apply(lambda x: transform_y(x['B0'], x['B1'], x['X'], x['epsilon']), axis=1)"
   ]
  },
  {
   "cell_type": "code",
   "execution_count": 103,
   "metadata": {},
   "outputs": [
    {
     "data": {
      "text/html": [
       "<div>\n",
       "<style>\n",
       "    .dataframe thead tr:only-child th {\n",
       "        text-align: right;\n",
       "    }\n",
       "\n",
       "    .dataframe thead th {\n",
       "        text-align: left;\n",
       "    }\n",
       "\n",
       "    .dataframe tbody tr th {\n",
       "        vertical-align: top;\n",
       "    }\n",
       "</style>\n",
       "<table border=\"1\" class=\"dataframe\">\n",
       "  <thead>\n",
       "    <tr style=\"text-align: right;\">\n",
       "      <th></th>\n",
       "      <th>X</th>\n",
       "      <th>B0</th>\n",
       "      <th>epsilon</th>\n",
       "      <th>B1</th>\n",
       "      <th>y</th>\n",
       "      <th>X2</th>\n",
       "    </tr>\n",
       "  </thead>\n",
       "  <tbody>\n",
       "    <tr>\n",
       "      <th>0</th>\n",
       "      <td>1.000000</td>\n",
       "      <td>1</td>\n",
       "      <td>0.090747</td>\n",
       "      <td>3</td>\n",
       "      <td>1.090747</td>\n",
       "      <td>1.000000</td>\n",
       "    </tr>\n",
       "    <tr>\n",
       "      <th>1</th>\n",
       "      <td>1.008016</td>\n",
       "      <td>1</td>\n",
       "      <td>0.018520</td>\n",
       "      <td>3</td>\n",
       "      <td>1.042472</td>\n",
       "      <td>1.016096</td>\n",
       "    </tr>\n",
       "    <tr>\n",
       "      <th>2</th>\n",
       "      <td>1.016032</td>\n",
       "      <td>1</td>\n",
       "      <td>0.035504</td>\n",
       "      <td>3</td>\n",
       "      <td>1.083219</td>\n",
       "      <td>1.032321</td>\n",
       "    </tr>\n",
       "    <tr>\n",
       "      <th>3</th>\n",
       "      <td>1.024048</td>\n",
       "      <td>1</td>\n",
       "      <td>0.053856</td>\n",
       "      <td>3</td>\n",
       "      <td>1.125146</td>\n",
       "      <td>1.048675</td>\n",
       "    </tr>\n",
       "    <tr>\n",
       "      <th>4</th>\n",
       "      <td>1.032064</td>\n",
       "      <td>1</td>\n",
       "      <td>0.098263</td>\n",
       "      <td>3</td>\n",
       "      <td>1.192945</td>\n",
       "      <td>1.065156</td>\n",
       "    </tr>\n",
       "  </tbody>\n",
       "</table>\n",
       "</div>"
      ],
      "text/plain": [
       "          X  B0   epsilon  B1         y        X2\n",
       "0  1.000000   1  0.090747   3  1.090747  1.000000\n",
       "1  1.008016   1  0.018520   3  1.042472  1.016096\n",
       "2  1.016032   1  0.035504   3  1.083219  1.032321\n",
       "3  1.024048   1  0.053856   3  1.125146  1.048675\n",
       "4  1.032064   1  0.098263   3  1.192945  1.065156"
      ]
     },
     "execution_count": 103,
     "metadata": {},
     "output_type": "execute_result"
    }
   ],
   "source": [
    "df.head()"
   ]
  },
  {
   "cell_type": "code",
   "execution_count": 104,
   "metadata": {
    "collapsed": true
   },
   "outputs": [],
   "source": [
    "def transform_ysq(B0, B1, X, epsilon):\n",
    "    return B0 + (B1*(X**2)) + epsilon\n",
    "\n",
    "\n",
    "df['ysq'] = df.apply(lambda x: transform_ysq(x['B0'], x['B1'], x['X'], x['epsilon']), axis=1)"
   ]
  },
  {
   "cell_type": "code",
   "execution_count": 115,
   "metadata": {
    "collapsed": true
   },
   "outputs": [],
   "source": [
    "df['logX'] = np.log(df['X'])"
   ]
  },
  {
   "cell_type": "code",
   "execution_count": 105,
   "metadata": {
    "collapsed": true
   },
   "outputs": [],
   "source": [
    "df['X2'] = np.square(df['X'])"
   ]
  },
  {
   "cell_type": "code",
   "execution_count": 116,
   "metadata": {},
   "outputs": [
    {
     "data": {
      "text/html": [
       "<div>\n",
       "<style>\n",
       "    .dataframe thead tr:only-child th {\n",
       "        text-align: right;\n",
       "    }\n",
       "\n",
       "    .dataframe thead th {\n",
       "        text-align: left;\n",
       "    }\n",
       "\n",
       "    .dataframe tbody tr th {\n",
       "        vertical-align: top;\n",
       "    }\n",
       "</style>\n",
       "<table border=\"1\" class=\"dataframe\">\n",
       "  <thead>\n",
       "    <tr style=\"text-align: right;\">\n",
       "      <th></th>\n",
       "      <th>X</th>\n",
       "      <th>B0</th>\n",
       "      <th>epsilon</th>\n",
       "      <th>B1</th>\n",
       "      <th>y</th>\n",
       "      <th>X2</th>\n",
       "      <th>ysq</th>\n",
       "      <th>logX</th>\n",
       "    </tr>\n",
       "  </thead>\n",
       "  <tbody>\n",
       "    <tr>\n",
       "      <th>0</th>\n",
       "      <td>1.000000</td>\n",
       "      <td>1</td>\n",
       "      <td>0.090747</td>\n",
       "      <td>3</td>\n",
       "      <td>1.090747</td>\n",
       "      <td>1.000000</td>\n",
       "      <td>4.090747</td>\n",
       "      <td>0.000000</td>\n",
       "    </tr>\n",
       "    <tr>\n",
       "      <th>1</th>\n",
       "      <td>1.008016</td>\n",
       "      <td>1</td>\n",
       "      <td>0.018520</td>\n",
       "      <td>3</td>\n",
       "      <td>1.042472</td>\n",
       "      <td>1.016096</td>\n",
       "      <td>4.066809</td>\n",
       "      <td>0.007984</td>\n",
       "    </tr>\n",
       "    <tr>\n",
       "      <th>2</th>\n",
       "      <td>1.016032</td>\n",
       "      <td>1</td>\n",
       "      <td>0.035504</td>\n",
       "      <td>3</td>\n",
       "      <td>1.083219</td>\n",
       "      <td>1.032321</td>\n",
       "      <td>4.132468</td>\n",
       "      <td>0.015905</td>\n",
       "    </tr>\n",
       "    <tr>\n",
       "      <th>3</th>\n",
       "      <td>1.024048</td>\n",
       "      <td>1</td>\n",
       "      <td>0.053856</td>\n",
       "      <td>3</td>\n",
       "      <td>1.125146</td>\n",
       "      <td>1.048675</td>\n",
       "      <td>4.199879</td>\n",
       "      <td>0.023763</td>\n",
       "    </tr>\n",
       "    <tr>\n",
       "      <th>4</th>\n",
       "      <td>1.032064</td>\n",
       "      <td>1</td>\n",
       "      <td>0.098263</td>\n",
       "      <td>3</td>\n",
       "      <td>1.192945</td>\n",
       "      <td>1.065156</td>\n",
       "      <td>4.293732</td>\n",
       "      <td>0.031561</td>\n",
       "    </tr>\n",
       "  </tbody>\n",
       "</table>\n",
       "</div>"
      ],
      "text/plain": [
       "          X  B0   epsilon  B1         y        X2       ysq      logX\n",
       "0  1.000000   1  0.090747   3  1.090747  1.000000  4.090747  0.000000\n",
       "1  1.008016   1  0.018520   3  1.042472  1.016096  4.066809  0.007984\n",
       "2  1.016032   1  0.035504   3  1.083219  1.032321  4.132468  0.015905\n",
       "3  1.024048   1  0.053856   3  1.125146  1.048675  4.199879  0.023763\n",
       "4  1.032064   1  0.098263   3  1.192945  1.065156  4.293732  0.031561"
      ]
     },
     "execution_count": 116,
     "metadata": {},
     "output_type": "execute_result"
    }
   ],
   "source": [
    "df.head()"
   ]
  },
  {
   "cell_type": "code",
   "execution_count": 107,
   "metadata": {},
   "outputs": [
    {
     "data": {
      "image/png": "[encoded data removed]",
      "text/plain": [
       "<matplotlib.figure.Figure at 0x258eaead630>"
      ]
     },
     "metadata": {},
     "output_type": "display_data"
    }
   ],
   "source": [
    "fig, ax = plt.subplots()\n",
    "for Y in [df['y'], df['ysq']]:\n",
    "    ax.plot(df['X'], Y)"
   ]
  },
  {
   "cell_type": "markdown",
   "metadata": {},
   "source": [
    "#### Challenge 1"
   ]
  },
  {
   "cell_type": "code",
   "execution_count": 108,
   "metadata": {
    "collapsed": true
   },
   "outputs": [],
   "source": [
    "# import seaborn as sns\n",
    "\n",
    "from sklearn.model_selection import train_test_split\n",
    "#from sklearn.cross_validation import train_test_split\n",
    "\n",
    "from sklearn.linear_model import LinearRegression\n",
    "\n",
    "# X_train, X_test, y_train, y_test = train_test_split(X, df1['DomesticTotalGross'], test_size=0.3,random_state=42)"
   ]
  },
  {
   "cell_type": "code",
   "execution_count": 110,
   "metadata": {},
   "outputs": [],
   "source": [
    "y = df['ysq']\n",
    "X = df[['X', 'X2']]\n",
    "# X = X.reshape(-1,1)"
   ]
  },
  {
   "cell_type": "code",
   "execution_count": 111,
   "metadata": {},
   "outputs": [
    {
     "data": {
      "text/plain": [
       "LinearRegression(copy_X=True, fit_intercept=True, n_jobs=1, normalize=False)"
      ]
     },
     "execution_count": 111,
     "metadata": {},
     "output_type": "execute_result"
    }
   ],
   "source": [
    "lr_quad_model = LinearRegression()\n",
    "lr_quad_model.fit(X,y)"
   ]
  },
  {
   "cell_type": "code",
   "execution_count": 112,
   "metadata": {
    "collapsed": true
   },
   "outputs": [],
   "source": [
    "test_set_pred = lr_quad_model.predict(X)"
   ]
  },
  {
   "cell_type": "code",
   "execution_count": 113,
   "metadata": {},
   "outputs": [
    {
     "data": {
      "text/plain": [
       "(array([ 54.,  43.,  63.,  34.,  55.,  49.,  41.,  52.,  53.,  56.]),\n",
       " array([-0.05086621, -0.04078036, -0.0306945 , -0.02060865, -0.0105228 ,\n",
       "        -0.00043694,  0.00964891,  0.01973477,  0.02982062,  0.03990648,\n",
       "         0.04999233]),\n",
       " <a list of 10 Patch objects>)"
      ]
     },
     "execution_count": 113,
     "metadata": {},
     "output_type": "execute_result"
    },
    {
     "data": {
      "image/png": "[encoded data removed]",
      "text/plain": [
       "<matplotlib.figure.Figure at 0x258eaf35eb8>"
      ]
     },
     "metadata": {},
     "output_type": "display_data"
    }
   ],
   "source": [
    "plt.hist(test_set_pred-y)\n",
    "# plt.plot()  #np.linspace(0,100,1),np.linspace(0,100,1))"
   ]
  },
  {
   "cell_type": "code",
   "execution_count": 114,
   "metadata": {},
   "outputs": [
    {
     "data": {
      "text/plain": [
       "[<matplotlib.lines.Line2D at 0x258eafa90b8>]"
      ]
     },
     "execution_count": 114,
     "metadata": {},
     "output_type": "execute_result"
    },
    {
     "data": {
      "image/png": "[encoded data removed]",
      "text/plain": [
       "<matplotlib.figure.Figure at 0x258eafa90f0>"
      ]
     },
     "metadata": {},
     "output_type": "display_data"
    }
   ],
   "source": [
    "plt.scatter(test_set_pred,y,alpha=.6)\n",
    "plt.plot(np.linspace(0,100,1),np.linspace(0,100,1))"
   ]
  },
  {
   "cell_type": "code",
   "execution_count": 117,
   "metadata": {},
   "outputs": [],
   "source": [
    "y = df['y']\n",
    "X = df[['X','logX']]\n",
    "# X = X.reshape(-1,1)"
   ]
  },
  {
   "cell_type": "code",
   "execution_count": 118,
   "metadata": {},
   "outputs": [
    {
     "data": {
      "text/plain": [
       "LinearRegression(copy_X=True, fit_intercept=True, n_jobs=1, normalize=False)"
      ]
     },
     "execution_count": 118,
     "metadata": {},
     "output_type": "execute_result"
    }
   ],
   "source": [
    "lr_log_model = LinearRegression()\n",
    "lr_log_model.fit(X,y)"
   ]
  },
  {
   "cell_type": "code",
   "execution_count": 119,
   "metadata": {
    "collapsed": true
   },
   "outputs": [],
   "source": [
    "test_set_pred = lr_log_model.predict(X)"
   ]
  },
  {
   "cell_type": "code",
   "execution_count": 120,
   "metadata": {},
   "outputs": [
    {
     "data": {
      "text/plain": [
       "(array([ 52.,  43.,  61.,  38.,  53.,  49.,  42.,  53.,  51.,  58.]),\n",
       " array([-0.05130428, -0.04118005, -0.03105583, -0.0209316 , -0.01080738,\n",
       "        -0.00068315,  0.00944107,  0.0195653 ,  0.02968953,  0.03981375,\n",
       "         0.04993798]),\n",
       " <a list of 10 Patch objects>)"
      ]
     },
     "execution_count": 120,
     "metadata": {},
     "output_type": "execute_result"
    },
    {
     "data": {
      "image/png": "[encoded data removed]",
      "text/plain": [
       "<matplotlib.figure.Figure at 0x258eaef3da0>"
      ]
     },
     "metadata": {},
     "output_type": "display_data"
    }
   ],
   "source": [
    "plt.hist(test_set_pred-y)"
   ]
  },
  {
   "cell_type": "code",
   "execution_count": 122,
   "metadata": {},
   "outputs": [
    {
     "data": {
      "text/plain": [
       "[<matplotlib.lines.Line2D at 0x258ec121630>]"
      ]
     },
     "execution_count": 122,
     "metadata": {},
     "output_type": "execute_result"
    },
    {
     "data": {
      "image/png": "[encoded data removed]",
      "text/plain": [
       "<matplotlib.figure.Figure at 0x258ec121710>"
      ]
     },
     "metadata": {},
     "output_type": "display_data"
    }
   ],
   "source": [
    "plt.scatter(test_set_pred,y,alpha=.6)\n",
    "plt.plot(np.linspace(0,100,1),np.linspace(0,100,1))"
   ]
  },
  {
   "cell_type": "markdown",
   "metadata": {},
   "source": [
    "#### Challenge 2"
   ]
  },
  {
   "cell_type": "code",
   "execution_count": 28,
   "metadata": {
    "collapsed": true
   },
   "outputs": [],
   "source": [
    "df2 = df[['X', 'B0', 'B1', 'epsilon']]\n"
   ]
  },
  {
   "cell_type": "code",
   "execution_count": 29,
   "metadata": {},
   "outputs": [
    {
     "name": "stderr",
     "output_type": "stream",
     "text": [
      "C:\\Users\\aj282\\Anaconda3\\lib\\site-packages\\ipykernel\\__main__.py:1: SettingWithCopyWarning: \n",
      "A value is trying to be set on a copy of a slice from a DataFrame.\n",
      "Try using .loc[row_indexer,col_indexer] = value instead\n",
      "\n",
      "See the caveats in the documentation: http://pandas.pydata.org/pandas-docs/stable/indexing.html#indexing-view-versus-copy\n",
      "  if __name__ == '__main__':\n"
     ]
    }
   ],
   "source": [
    "df2['B2'] = 5"
   ]
  },
  {
   "cell_type": "code",
   "execution_count": 30,
   "metadata": {
    "collapsed": true
   },
   "outputs": [],
   "source": [
    "def transform_ysq2(B0, B1, B2, X, epsilon):\n",
    "    return B0 + (B1*(X)) + (B2*(X**2)) + epsilon\n",
    "\n",
    "\n",
    "df2['ysq2'] = df2.apply(lambda x: transform_ysq2(x['B0'], x['B1'], x['B2'], x['X'], x['epsilon']), axis=1)"
   ]
  },
  {
   "cell_type": "code",
   "execution_count": 123,
   "metadata": {
    "collapsed": true
   },
   "outputs": [],
   "source": [
    "df2['X2'] = np.square(df2['X'])"
   ]
  },
  {
   "cell_type": "code",
   "execution_count": 124,
   "metadata": {},
   "outputs": [
    {
     "data": {
      "text/html": [
       "<div>\n",
       "<style>\n",
       "    .dataframe thead tr:only-child th {\n",
       "        text-align: right;\n",
       "    }\n",
       "\n",
       "    .dataframe thead th {\n",
       "        text-align: left;\n",
       "    }\n",
       "\n",
       "    .dataframe tbody tr th {\n",
       "        vertical-align: top;\n",
       "    }\n",
       "</style>\n",
       "<table border=\"1\" class=\"dataframe\">\n",
       "  <thead>\n",
       "    <tr style=\"text-align: right;\">\n",
       "      <th></th>\n",
       "      <th>X</th>\n",
       "      <th>B0</th>\n",
       "      <th>B1</th>\n",
       "      <th>epsilon</th>\n",
       "      <th>B2</th>\n",
       "      <th>ysq2</th>\n",
       "      <th>X2</th>\n",
       "    </tr>\n",
       "  </thead>\n",
       "  <tbody>\n",
       "    <tr>\n",
       "      <th>0</th>\n",
       "      <td>1.000000</td>\n",
       "      <td>1</td>\n",
       "      <td>3</td>\n",
       "      <td>0.090747</td>\n",
       "      <td>5</td>\n",
       "      <td>9.090747</td>\n",
       "      <td>1.000000</td>\n",
       "    </tr>\n",
       "    <tr>\n",
       "      <th>1</th>\n",
       "      <td>1.008016</td>\n",
       "      <td>1</td>\n",
       "      <td>3</td>\n",
       "      <td>0.018520</td>\n",
       "      <td>5</td>\n",
       "      <td>9.123050</td>\n",
       "      <td>1.016096</td>\n",
       "    </tr>\n",
       "    <tr>\n",
       "      <th>2</th>\n",
       "      <td>1.016032</td>\n",
       "      <td>1</td>\n",
       "      <td>3</td>\n",
       "      <td>0.035504</td>\n",
       "      <td>5</td>\n",
       "      <td>9.245206</td>\n",
       "      <td>1.032321</td>\n",
       "    </tr>\n",
       "    <tr>\n",
       "      <th>3</th>\n",
       "      <td>1.024048</td>\n",
       "      <td>1</td>\n",
       "      <td>3</td>\n",
       "      <td>0.053856</td>\n",
       "      <td>5</td>\n",
       "      <td>9.369372</td>\n",
       "      <td>1.048675</td>\n",
       "    </tr>\n",
       "    <tr>\n",
       "      <th>4</th>\n",
       "      <td>1.032064</td>\n",
       "      <td>1</td>\n",
       "      <td>3</td>\n",
       "      <td>0.098263</td>\n",
       "      <td>5</td>\n",
       "      <td>9.520237</td>\n",
       "      <td>1.065156</td>\n",
       "    </tr>\n",
       "  </tbody>\n",
       "</table>\n",
       "</div>"
      ],
      "text/plain": [
       "          X  B0  B1   epsilon  B2      ysq2        X2\n",
       "0  1.000000   1   3  0.090747   5  9.090747  1.000000\n",
       "1  1.008016   1   3  0.018520   5  9.123050  1.016096\n",
       "2  1.016032   1   3  0.035504   5  9.245206  1.032321\n",
       "3  1.024048   1   3  0.053856   5  9.369372  1.048675\n",
       "4  1.032064   1   3  0.098263   5  9.520237  1.065156"
      ]
     },
     "execution_count": 124,
     "metadata": {},
     "output_type": "execute_result"
    }
   ],
   "source": [
    "df2.head()"
   ]
  },
  {
   "cell_type": "code",
   "execution_count": 126,
   "metadata": {},
   "outputs": [],
   "source": [
    "y = df2['ysq2']\n",
    "X = df2[['X', 'X2']]\n",
    "# X = X.reshape(-1,1)"
   ]
  },
  {
   "cell_type": "code",
   "execution_count": 127,
   "metadata": {
    "collapsed": true
   },
   "outputs": [],
   "source": [
    "X_train, X_test, y_train, y_test = train_test_split(X, y, test_size=0.3,random_state=42)"
   ]
  },
  {
   "cell_type": "code",
   "execution_count": 128,
   "metadata": {},
   "outputs": [
    {
     "data": {
      "text/plain": [
       "LinearRegression(copy_X=True, fit_intercept=True, n_jobs=1, normalize=False)"
      ]
     },
     "execution_count": 128,
     "metadata": {},
     "output_type": "execute_result"
    }
   ],
   "source": [
    "lr_log_model = LinearRegression()\n",
    "lr_log_model.fit(X_train,y_train)"
   ]
  },
  {
   "cell_type": "code",
   "execution_count": 129,
   "metadata": {
    "collapsed": true
   },
   "outputs": [],
   "source": [
    "test_set_pred = lr_log_model.predict(X_test)"
   ]
  },
  {
   "cell_type": "code",
   "execution_count": 130,
   "metadata": {},
   "outputs": [
    {
     "data": {
      "text/plain": [
       "(array([ 18.,  17.,  19.,   9.,  11.,  15.,  16.,  17.,   8.,  20.]),\n",
       " array([-0.05278568, -0.04275704, -0.0327284 , -0.02269976, -0.01267112,\n",
       "        -0.00264249,  0.00738615,  0.01741479,  0.02744343,  0.03747207,\n",
       "         0.0475007 ]),\n",
       " <a list of 10 Patch objects>)"
      ]
     },
     "execution_count": 130,
     "metadata": {},
     "output_type": "execute_result"
    },
    {
     "data": {
      "image/png": "[encoded data removed]",
      "text/plain": [
       "<matplotlib.figure.Figure at 0x258eae5a5f8>"
      ]
     },
     "metadata": {},
     "output_type": "display_data"
    }
   ],
   "source": [
    "plt.hist(test_set_pred-y_test)"
   ]
  },
  {
   "cell_type": "code",
   "execution_count": 131,
   "metadata": {},
   "outputs": [
    {
     "data": {
      "text/plain": [
       "[<matplotlib.lines.Line2D at 0x258ec111240>]"
      ]
     },
     "execution_count": 131,
     "metadata": {},
     "output_type": "execute_result"
    },
    {
     "data": {
      "image/png": "[encoded data removed]",
      "text/plain": [
       "<matplotlib.figure.Figure at 0x258e72ef1d0>"
      ]
     },
     "metadata": {},
     "output_type": "display_data"
    }
   ],
   "source": [
    "plt.scatter(test_set_pred,y_test,alpha=.6)\n",
    "plt.plot(np.linspace(0,100,1),np.linspace(0,100,1))"
   ]
  },
  {
   "cell_type": "code",
   "execution_count": 132,
   "metadata": {},
   "outputs": [
    {
     "data": {
      "text/plain": [
       "0.0009240892488309258"
      ]
     },
     "execution_count": 132,
     "metadata": {},
     "output_type": "execute_result"
    }
   ],
   "source": [
    "np.mean((test_set_pred - y_test)**2)"
   ]
  },
  {
   "cell_type": "code",
   "execution_count": 133,
   "metadata": {},
   "outputs": [
    {
     "data": {
      "text/plain": [
       "0.030398836307183305"
      ]
     },
     "execution_count": 133,
     "metadata": {},
     "output_type": "execute_result"
    }
   ],
   "source": [
    "np.sqrt(np.mean((test_set_pred - y_test)**2))"
   ]
  },
  {
   "cell_type": "markdown",
   "metadata": {},
   "source": [
    "#### Challenge 3"
   ]
  },
  {
   "cell_type": "code",
   "execution_count": 134,
   "metadata": {},
   "outputs": [
    {
     "data": {
      "text/html": [
       "<div>\n",
       "<style>\n",
       "    .dataframe thead tr:only-child th {\n",
       "        text-align: right;\n",
       "    }\n",
       "\n",
       "    .dataframe thead th {\n",
       "        text-align: left;\n",
       "    }\n",
       "\n",
       "    .dataframe tbody tr th {\n",
       "        vertical-align: top;\n",
       "    }\n",
       "</style>\n",
       "<table border=\"1\" class=\"dataframe\">\n",
       "  <thead>\n",
       "    <tr style=\"text-align: right;\">\n",
       "      <th></th>\n",
       "      <th>X</th>\n",
       "      <th>B0</th>\n",
       "      <th>B1</th>\n",
       "      <th>epsilon</th>\n",
       "      <th>B2</th>\n",
       "      <th>ysq2</th>\n",
       "      <th>X2</th>\n",
       "    </tr>\n",
       "  </thead>\n",
       "  <tbody>\n",
       "    <tr>\n",
       "      <th>0</th>\n",
       "      <td>1.000000</td>\n",
       "      <td>1</td>\n",
       "      <td>3</td>\n",
       "      <td>0.090747</td>\n",
       "      <td>5</td>\n",
       "      <td>9.090747</td>\n",
       "      <td>1.000000</td>\n",
       "    </tr>\n",
       "    <tr>\n",
       "      <th>1</th>\n",
       "      <td>1.008016</td>\n",
       "      <td>1</td>\n",
       "      <td>3</td>\n",
       "      <td>0.018520</td>\n",
       "      <td>5</td>\n",
       "      <td>9.123050</td>\n",
       "      <td>1.016096</td>\n",
       "    </tr>\n",
       "    <tr>\n",
       "      <th>2</th>\n",
       "      <td>1.016032</td>\n",
       "      <td>1</td>\n",
       "      <td>3</td>\n",
       "      <td>0.035504</td>\n",
       "      <td>5</td>\n",
       "      <td>9.245206</td>\n",
       "      <td>1.032321</td>\n",
       "    </tr>\n",
       "    <tr>\n",
       "      <th>3</th>\n",
       "      <td>1.024048</td>\n",
       "      <td>1</td>\n",
       "      <td>3</td>\n",
       "      <td>0.053856</td>\n",
       "      <td>5</td>\n",
       "      <td>9.369372</td>\n",
       "      <td>1.048675</td>\n",
       "    </tr>\n",
       "    <tr>\n",
       "      <th>4</th>\n",
       "      <td>1.032064</td>\n",
       "      <td>1</td>\n",
       "      <td>3</td>\n",
       "      <td>0.098263</td>\n",
       "      <td>5</td>\n",
       "      <td>9.520237</td>\n",
       "      <td>1.065156</td>\n",
       "    </tr>\n",
       "  </tbody>\n",
       "</table>\n",
       "</div>"
      ],
      "text/plain": [
       "          X  B0  B1   epsilon  B2      ysq2        X2\n",
       "0  1.000000   1   3  0.090747   5  9.090747  1.000000\n",
       "1  1.008016   1   3  0.018520   5  9.123050  1.016096\n",
       "2  1.016032   1   3  0.035504   5  9.245206  1.032321\n",
       "3  1.024048   1   3  0.053856   5  9.369372  1.048675\n",
       "4  1.032064   1   3  0.098263   5  9.520237  1.065156"
      ]
     },
     "execution_count": 134,
     "metadata": {},
     "output_type": "execute_result"
    }
   ],
   "source": [
    "df3 = df2\n",
    "df3.head()"
   ]
  },
  {
   "cell_type": "code",
   "execution_count": 135,
   "metadata": {
    "collapsed": true
   },
   "outputs": [],
   "source": [
    "df3['B3'] = 7\n",
    "df3['B4'] = 9\n",
    "df3['B5'] = 11\n",
    "df3['B6'] = 13\n",
    "df3['B7'] = 15"
   ]
  },
  {
   "cell_type": "code",
   "execution_count": 137,
   "metadata": {},
   "outputs": [],
   "source": [
    "def transform_ysq3(B0, B1, B2, B3, X, epsilon):\n",
    "    return B0 + (B1*(X)) + (B2*(X**2)) + (B3*(X**3)) + epsilon\n",
    "\n",
    "\n",
    "df3['ysq3'] = df3.apply(lambda x: transform_ysq3(x['B0'], x['B1'], x['B2'], x['B3'], x['X'], x['epsilon']), axis=1)\n",
    "df3['X3'] = np.power(df3['X'], 3)"
   ]
  },
  {
   "cell_type": "code",
   "execution_count": 138,
   "metadata": {
    "collapsed": true
   },
   "outputs": [],
   "source": [
    "def transform_ysq4(B0, B1, B2, B3, B4, X, epsilon):\n",
    "    return B0 + (B1*(X)) + (B2*(X**2)) + (B3*(X**3)) + (B4*(X**4)) + epsilon\n",
    "\n",
    "\n",
    "df3['ysq4'] = df3.apply(lambda x: transform_ysq4(x['B0'], x['B1'], x['B2'], x['B3'], x['B4'], x['X'], x['epsilon']), axis=1)\n",
    "df3['X4'] = np.power(df3['X'], 4)"
   ]
  },
  {
   "cell_type": "code",
   "execution_count": 139,
   "metadata": {
    "collapsed": true
   },
   "outputs": [],
   "source": [
    "def transform_ysq5(B0, B1, B2, B3, B4, B5, X, epsilon):\n",
    "    return B0 + (B1*(X)) + (B2*(X**2)) + (B3*(X**3)) + (B4*(X**4)) + (B5*(X**5)) +epsilon\n",
    "\n",
    "\n",
    "df3['ysq5'] = df3.apply(lambda x: transform_ysq5(x['B0'], x['B1'], x['B2'], x['B3'], x['B4'], x['B5'], x['X'], x['epsilon']), axis=1)\n",
    "df3['X5'] = np.power(df3['X'], 5)"
   ]
  },
  {
   "cell_type": "code",
   "execution_count": 140,
   "metadata": {
    "collapsed": true
   },
   "outputs": [],
   "source": [
    "def transform_ysq6(B0, B1, B2, B3, B4, B5, B6, X, epsilon):\n",
    "    return B0 + (B1*(X)) + (B2*(X**2)) + (B3*(X**3)) + (B4*(X**4)) + (B5*(X**5)) + (B6*(X**6)) + epsilon\n",
    "\n",
    "\n",
    "df3['ysq6'] = df3.apply(lambda x: transform_ysq6(x['B0'], x['B1'], x['B2'], x['B3'], x['B4'], x['B5'], x['B6'], x['X'], x['epsilon']), axis=1)\n",
    "df3['X6'] = np.power(df3['X'], 6)"
   ]
  },
  {
   "cell_type": "code",
   "execution_count": 141,
   "metadata": {
    "collapsed": true
   },
   "outputs": [],
   "source": [
    "def transform_ysq7(B0, B1, B2, B3, B4, B5, B6, B7, X, epsilon):\n",
    "    return B0 + (B1*(X)) + (B2*(X**2)) + (B3*(X**3)) + (B4*(X**4)) + (B5*(X**5)) + (B6*(X**6)) + (B7*(X**7)) + epsilon\n",
    "\n",
    "\n",
    "df3['ysq7'] = df3.apply(lambda x: transform_ysq7(x['B0'], x['B1'], x['B2'], x['B3'], x['B4'], x['B5'], x['B6'], x['B7'], x['X'], x['epsilon']), axis=1)\n",
    "df3['X7'] = np.power(df3['X'], 7)"
   ]
  },
  {
   "cell_type": "code",
   "execution_count": 154,
   "metadata": {},
   "outputs": [],
   "source": [
    "def transform_y(B0, B1, X, epsilon):\n",
    "    return B0 + (B1*(X)) + epsilon\n",
    "\n",
    "df3['y'] = df3.apply(lambda x: transform_y(x['B0'], x['B1'], x['X'], x['epsilon']), axis=1)"
   ]
  },
  {
   "cell_type": "code",
   "execution_count": 155,
   "metadata": {},
   "outputs": [
    {
     "data": {
      "text/html": [
       "<div>\n",
       "<style>\n",
       "    .dataframe thead tr:only-child th {\n",
       "        text-align: right;\n",
       "    }\n",
       "\n",
       "    .dataframe thead th {\n",
       "        text-align: left;\n",
       "    }\n",
       "\n",
       "    .dataframe tbody tr th {\n",
       "        vertical-align: top;\n",
       "    }\n",
       "</style>\n",
       "<table border=\"1\" class=\"dataframe\">\n",
       "  <thead>\n",
       "    <tr style=\"text-align: right;\">\n",
       "      <th></th>\n",
       "      <th>X</th>\n",
       "      <th>B0</th>\n",
       "      <th>B1</th>\n",
       "      <th>epsilon</th>\n",
       "      <th>B2</th>\n",
       "      <th>ysq2</th>\n",
       "      <th>X2</th>\n",
       "      <th>B3</th>\n",
       "      <th>B4</th>\n",
       "      <th>B5</th>\n",
       "      <th>...</th>\n",
       "      <th>X3</th>\n",
       "      <th>ysq4</th>\n",
       "      <th>X4</th>\n",
       "      <th>ysq5</th>\n",
       "      <th>X5</th>\n",
       "      <th>ysq6</th>\n",
       "      <th>X6</th>\n",
       "      <th>ysq7</th>\n",
       "      <th>X7</th>\n",
       "      <th>y</th>\n",
       "    </tr>\n",
       "  </thead>\n",
       "  <tbody>\n",
       "    <tr>\n",
       "      <th>0</th>\n",
       "      <td>1.000000</td>\n",
       "      <td>1</td>\n",
       "      <td>3</td>\n",
       "      <td>0.090747</td>\n",
       "      <td>5</td>\n",
       "      <td>9.090747</td>\n",
       "      <td>1.000000</td>\n",
       "      <td>7</td>\n",
       "      <td>9</td>\n",
       "      <td>11</td>\n",
       "      <td>...</td>\n",
       "      <td>1.000000</td>\n",
       "      <td>25.090747</td>\n",
       "      <td>1.000000</td>\n",
       "      <td>36.090747</td>\n",
       "      <td>1.000000</td>\n",
       "      <td>49.090747</td>\n",
       "      <td>1.000000</td>\n",
       "      <td>64.090747</td>\n",
       "      <td>1.000000</td>\n",
       "      <td>4.090747</td>\n",
       "    </tr>\n",
       "    <tr>\n",
       "      <th>1</th>\n",
       "      <td>1.008016</td>\n",
       "      <td>1</td>\n",
       "      <td>3</td>\n",
       "      <td>0.018520</td>\n",
       "      <td>5</td>\n",
       "      <td>9.123050</td>\n",
       "      <td>1.016096</td>\n",
       "      <td>7</td>\n",
       "      <td>9</td>\n",
       "      <td>11</td>\n",
       "      <td>...</td>\n",
       "      <td>1.024241</td>\n",
       "      <td>25.584805</td>\n",
       "      <td>1.032452</td>\n",
       "      <td>37.032812</td>\n",
       "      <td>1.040728</td>\n",
       "      <td>50.670727</td>\n",
       "      <td>1.049070</td>\n",
       "      <td>66.532924</td>\n",
       "      <td>1.057480</td>\n",
       "      <td>4.042568</td>\n",
       "    </tr>\n",
       "    <tr>\n",
       "      <th>2</th>\n",
       "      <td>1.016032</td>\n",
       "      <td>1</td>\n",
       "      <td>3</td>\n",
       "      <td>0.035504</td>\n",
       "      <td>5</td>\n",
       "      <td>9.245206</td>\n",
       "      <td>1.032321</td>\n",
       "      <td>7</td>\n",
       "      <td>9</td>\n",
       "      <td>11</td>\n",
       "      <td>...</td>\n",
       "      <td>1.048871</td>\n",
       "      <td>26.178489</td>\n",
       "      <td>1.065687</td>\n",
       "      <td>38.088982</td>\n",
       "      <td>1.082772</td>\n",
       "      <td>52.390688</td>\n",
       "      <td>1.100131</td>\n",
       "      <td>69.157216</td>\n",
       "      <td>1.117769</td>\n",
       "      <td>4.083601</td>\n",
       "    </tr>\n",
       "    <tr>\n",
       "      <th>3</th>\n",
       "      <td>1.024048</td>\n",
       "      <td>1</td>\n",
       "      <td>3</td>\n",
       "      <td>0.053856</td>\n",
       "      <td>5</td>\n",
       "      <td>9.369372</td>\n",
       "      <td>1.048675</td>\n",
       "      <td>7</td>\n",
       "      <td>9</td>\n",
       "      <td>11</td>\n",
       "      <td>...</td>\n",
       "      <td>1.073893</td>\n",
       "      <td>26.784088</td>\n",
       "      <td>1.099718</td>\n",
       "      <td>39.171896</td>\n",
       "      <td>1.126164</td>\n",
       "      <td>54.164100</td>\n",
       "      <td>1.153246</td>\n",
       "      <td>71.878797</td>\n",
       "      <td>1.180980</td>\n",
       "      <td>4.126000</td>\n",
       "    </tr>\n",
       "    <tr>\n",
       "      <th>4</th>\n",
       "      <td>1.032064</td>\n",
       "      <td>1</td>\n",
       "      <td>3</td>\n",
       "      <td>0.098263</td>\n",
       "      <td>5</td>\n",
       "      <td>9.520237</td>\n",
       "      <td>1.065156</td>\n",
       "      <td>7</td>\n",
       "      <td>9</td>\n",
       "      <td>11</td>\n",
       "      <td>...</td>\n",
       "      <td>1.099310</td>\n",
       "      <td>27.426427</td>\n",
       "      <td>1.134558</td>\n",
       "      <td>40.306731</td>\n",
       "      <td>1.170937</td>\n",
       "      <td>56.016994</td>\n",
       "      <td>1.208482</td>\n",
       "      <td>74.725454</td>\n",
       "      <td>1.247231</td>\n",
       "      <td>4.194455</td>\n",
       "    </tr>\n",
       "  </tbody>\n",
       "</table>\n",
       "<p>5 rows × 23 columns</p>\n",
       "</div>"
      ],
      "text/plain": [
       "          X  B0  B1   epsilon  B2      ysq2        X2  B3  B4  B5    ...     \\\n",
       "0  1.000000   1   3  0.090747   5  9.090747  1.000000   7   9  11    ...      \n",
       "1  1.008016   1   3  0.018520   5  9.123050  1.016096   7   9  11    ...      \n",
       "2  1.016032   1   3  0.035504   5  9.245206  1.032321   7   9  11    ...      \n",
       "3  1.024048   1   3  0.053856   5  9.369372  1.048675   7   9  11    ...      \n",
       "4  1.032064   1   3  0.098263   5  9.520237  1.065156   7   9  11    ...      \n",
       "\n",
       "         X3       ysq4        X4       ysq5        X5       ysq6        X6  \\\n",
       "0  1.000000  25.090747  1.000000  36.090747  1.000000  49.090747  1.000000   \n",
       "1  1.024241  25.584805  1.032452  37.032812  1.040728  50.670727  1.049070   \n",
       "2  1.048871  26.178489  1.065687  38.088982  1.082772  52.390688  1.100131   \n",
       "3  1.073893  26.784088  1.099718  39.171896  1.126164  54.164100  1.153246   \n",
       "4  1.099310  27.426427  1.134558  40.306731  1.170937  56.016994  1.208482   \n",
       "\n",
       "        ysq7        X7         y  \n",
       "0  64.090747  1.000000  4.090747  \n",
       "1  66.532924  1.057480  4.042568  \n",
       "2  69.157216  1.117769  4.083601  \n",
       "3  71.878797  1.180980  4.126000  \n",
       "4  74.725454  1.247231  4.194455  \n",
       "\n",
       "[5 rows x 23 columns]"
      ]
     },
     "execution_count": 155,
     "metadata": {},
     "output_type": "execute_result"
    }
   ],
   "source": [
    "df3.head()"
   ]
  },
  {
   "cell_type": "code",
   "execution_count": 156,
   "metadata": {},
   "outputs": [],
   "source": [
    "# y = df3['ysq7']\n",
    "# X = df3['X']\n",
    "# X = X.reshape(-1,1)"
   ]
  },
  {
   "cell_type": "code",
   "execution_count": 271,
   "metadata": {},
   "outputs": [],
   "source": [
    "X2 = np.linspace(0,8, 8)\n",
    "\n",
    "results = pd.DataFrame()  #columns=['Iteration', 'TrainingError', 'TestingError']\n",
    "\n",
    "results['Order'] = X2\n",
    "results['TrainingError'] = X2\n",
    "results['TestError'] = X2\n",
    "results['R-square'] = X2\n",
    "results['AIC'] = X2"
   ]
  },
  {
   "cell_type": "code",
   "execution_count": 272,
   "metadata": {},
   "outputs": [
    {
     "name": "stderr",
     "output_type": "stream",
     "text": [
      "C:\\Users\\aj282\\Anaconda3\\lib\\site-packages\\ipykernel\\__main__.py:3: FutureWarning: reshape is deprecated and will raise in a subsequent release. Please use .values.reshape(...) instead\n",
      "  app.launch_new_instance()\n"
     ]
    }
   ],
   "source": [
    "X = df3['B0']\n",
    "y = df3['ysq2']\n",
    "X = X.reshape(-1,1)\n",
    "\n",
    "X_train, X_test, y_train, y_test = train_test_split(X, y, test_size=0.3,random_state=42)\n",
    "\n",
    "lr_0order_model = LinearRegression()\n",
    "lr_0order_model.fit(X_train,y_train)\n",
    "\n",
    "\n",
    "test_set_pred = lr_0order_model.predict(X_test)\n",
    "\n",
    "train_set_pred = lr_0order_model.predict(X_train)\n",
    "\n",
    "\n",
    "trainerror = np.sqrt(np.mean((train_set_pred - y_train)**2))\n",
    "testerror = np.sqrt(np.mean((test_set_pred - y_test)**2))\n",
    "r2 = r2_score(y_test, test_set_pred)\n",
    "# AIC_train = 2+(len(X_train)*np.log(trainerror/len(X_train)))\n",
    "\n",
    "# AIC = 2 + (len(X_test)*np.log(testerror/len(X_test)))\n",
    "\n",
    "results['Order'][0]= '0'\n",
    "results['TrainingError'][0]= trainerror\n",
    "results['TestError'][0]= testerror\n",
    "results['R-square'][0]= r2\n",
    "# results['AIC'][0]= AIC"
   ]
  },
  {
   "cell_type": "code",
   "execution_count": 273,
   "metadata": {},
   "outputs": [
    {
     "name": "stdout",
     "output_type": "stream",
     "text": [
      "                            OLS Regression Results                            \n",
      "==============================================================================\n",
      "Dep. Variable:                   ysq2   R-squared:                       0.000\n",
      "Model:                            OLS   Adj. R-squared:                  0.000\n",
      "Method:                 Least Squares   F-statistic:                       inf\n",
      "Date:                Mon, 09 Oct 2017   Prob (F-statistic):                nan\n",
      "Time:                        17:35:59   Log-Likelihood:                -1769.5\n",
      "No. Observations:                 350   AIC:                             3541.\n",
      "Df Residuals:                     349   BIC:                             3545.\n",
      "Df Model:                           0                                         \n",
      "Covariance Type:            nonrobust                                         \n",
      "==============================================================================\n",
      "                 coef    std err          t      P>|t|      [0.025      0.975]\n",
      "------------------------------------------------------------------------------\n",
      "const         62.1278      2.033     30.566      0.000      58.130      66.125\n",
      "==============================================================================\n",
      "Omnibus:                       97.658   Durbin-Watson:                   2.177\n",
      "Prob(Omnibus):                  0.000   Jarque-Bera (JB):               25.783\n",
      "Skew:                           0.403   Prob(JB):                     2.52e-06\n",
      "Kurtosis:                       1.942   Cond. No.                         1.00\n",
      "==============================================================================\n",
      "\n",
      "Warnings:\n",
      "[1] Standard Errors assume that the covariance matrix of the errors is correctly specified.\n"
     ]
    },
    {
     "name": "stderr",
     "output_type": "stream",
     "text": [
      "C:\\Users\\aj282\\Anaconda3\\lib\\site-packages\\statsmodels\\regression\\linear_model.py:1396: RuntimeWarning: divide by zero encountered in double_scalars\n",
      "  return self.ess/self.df_model\n"
     ]
    }
   ],
   "source": [
    "OLSresults = sm.OLS(y_train, X_train).fit()\n",
    "print(OLSresults.summary())"
   ]
  },
  {
   "cell_type": "code",
   "execution_count": 274,
   "metadata": {},
   "outputs": [],
   "source": [
    "results['AIC'][0]= -1769."
   ]
  },
  {
   "cell_type": "code",
   "execution_count": 275,
   "metadata": {},
   "outputs": [
    {
     "name": "stderr",
     "output_type": "stream",
     "text": [
      "C:\\Users\\aj282\\Anaconda3\\lib\\site-packages\\ipykernel\\__main__.py:3: FutureWarning: reshape is deprecated and will raise in a subsequent release. Please use .values.reshape(...) instead\n",
      "  app.launch_new_instance()\n"
     ]
    }
   ],
   "source": [
    "X = df3['X']\n",
    "y = df3['ysq2']\n",
    "X = X.reshape(-1,1)\n",
    "\n",
    "X_train, X_test, y_train, y_test = train_test_split(X, y, test_size=0.3,random_state=42)\n",
    "\n",
    "lr_1order_model = LinearRegression()\n",
    "lr_1order_model.fit(X_train,y_train)\n",
    "\n",
    "\n",
    "test_set_pred = lr_1order_model.predict(X_test)\n",
    "\n",
    "train_set_pred = lr_1order_model.predict(X_train)\n",
    "\n",
    "\n",
    "trainerror = np.sqrt(np.mean((train_set_pred - y_train)**2))\n",
    "testerror = np.sqrt(np.mean((test_set_pred - y_test)**2))\n",
    "r2 = r2_score(y_test, test_set_pred)\n",
    "# AIC_train = 2+(len(X_train)*np.log(trainerror/len(X_train)))\n",
    "AIC = 2+(len(X_test)*np.log(testerror/len(X_test)))\n",
    "\n",
    "results['Order'][1]= '1'\n",
    "results['TrainingError'][1]= trainerror\n",
    "results['TestError'][1]= testerror\n",
    "results['R-square'][1]= r2\n",
    "results['AIC'][1]= AIC"
   ]
  },
  {
   "cell_type": "code",
   "execution_count": 276,
   "metadata": {},
   "outputs": [
    {
     "name": "stdout",
     "output_type": "stream",
     "text": [
      "                            OLS Regression Results                            \n",
      "==============================================================================\n",
      "Dep. Variable:                   ysq2   R-squared:                       0.960\n",
      "Model:                            OLS   Adj. R-squared:                  0.960\n",
      "Method:                 Least Squares   F-statistic:                     8372.\n",
      "Date:                Mon, 09 Oct 2017   Prob (F-statistic):          5.36e-246\n",
      "Time:                        17:36:00   Log-Likelihood:                -1434.2\n",
      "No. Observations:                 350   AIC:                             2870.\n",
      "Df Residuals:                     349   BIC:                             2874.\n",
      "Df Model:                           1                                         \n",
      "Covariance Type:            nonrobust                                         \n",
      "==============================================================================\n",
      "                 coef    std err          t      P>|t|      [0.025      0.975]\n",
      "------------------------------------------------------------------------------\n",
      "x1            22.1181      0.242     91.501      0.000      21.643      22.594\n",
      "==============================================================================\n",
      "Omnibus:                       44.049   Durbin-Watson:                   1.950\n",
      "Prob(Omnibus):                  0.000   Jarque-Bera (JB):               57.016\n",
      "Skew:                           0.974   Prob(JB):                     4.16e-13\n",
      "Kurtosis:                       2.658   Cond. No.                         1.00\n",
      "==============================================================================\n",
      "\n",
      "Warnings:\n",
      "[1] Standard Errors assume that the covariance matrix of the errors is correctly specified.\n"
     ]
    }
   ],
   "source": [
    "OLSresults = sm.OLS(y_train, X_train).fit()\n",
    "print(OLSresults.summary())"
   ]
  },
  {
   "cell_type": "code",
   "execution_count": 277,
   "metadata": {},
   "outputs": [],
   "source": [
    "results['AIC'][1]= -1434."
   ]
  },
  {
   "cell_type": "code",
   "execution_count": 278,
   "metadata": {},
   "outputs": [],
   "source": [
    "X = df3[['X','X2']]\n",
    "y = df3['ysq2']\n",
    "\n",
    "X_train, X_test, y_train, y_test = train_test_split(X, y, test_size=0.3,random_state=42)\n",
    "\n",
    "lr_2order_model = LinearRegression()\n",
    "lr_2order_model.fit(X_train,y_train)\n",
    "\n",
    "\n",
    "test_set_pred = lr_2order_model.predict(X_test)\n",
    "\n",
    "train_set_pred = lr_2order_model.predict(X_train)\n",
    "\n",
    "\n",
    "trainerror = np.sqrt(np.mean((train_set_pred - y_train)**2))\n",
    "testerror = np.sqrt(np.mean((test_set_pred - y_test)**2))\n",
    "r2 = r2_score(y_test, test_set_pred)\n",
    "# AIC_train = 2+(len(X_train)*np.log(trainerror/len(X_train)))\n",
    "AIC = 2+(len(X_test)*np.log(testerror/len(X_test)))\n",
    "\n",
    "results['Order'][2]= '2'\n",
    "results['TrainingError'][2]= trainerror\n",
    "results['TestError'][2]= testerror\n",
    "results['R-square'][2]= r2\n",
    "results['AIC'][2]= AIC\n"
   ]
  },
  {
   "cell_type": "code",
   "execution_count": 279,
   "metadata": {},
   "outputs": [
    {
     "name": "stdout",
     "output_type": "stream",
     "text": [
      "                            OLS Regression Results                            \n",
      "==============================================================================\n",
      "Dep. Variable:                   ysq2   R-squared:                       1.000\n",
      "Model:                            OLS   Adj. R-squared:                  1.000\n",
      "Method:                 Least Squares   F-statistic:                 4.267e+07\n",
      "Date:                Mon, 09 Oct 2017   Prob (F-statistic):               0.00\n",
      "Time:                        17:36:01   Log-Likelihood:                 174.36\n",
      "No. Observations:                 350   AIC:                            -344.7\n",
      "Df Residuals:                     348   BIC:                            -337.0\n",
      "Df Model:                           2                                         \n",
      "Covariance Type:            nonrobust                                         \n",
      "==============================================================================\n",
      "                 coef    std err          t      P>|t|      [0.025      0.975]\n",
      "------------------------------------------------------------------------------\n",
      "X              3.7327      0.010    364.347      0.000       3.713       3.753\n",
      "X2             4.8861      0.003   1847.949      0.000       4.881       4.891\n",
      "==============================================================================\n",
      "Omnibus:                       37.620   Durbin-Watson:                   1.824\n",
      "Prob(Omnibus):                  0.000   Jarque-Bera (JB):               47.790\n",
      "Skew:                           0.905   Prob(JB):                     4.19e-11\n",
      "Kurtosis:                       3.035   Cond. No.                         17.3\n",
      "==============================================================================\n",
      "\n",
      "Warnings:\n",
      "[1] Standard Errors assume that the covariance matrix of the errors is correctly specified.\n"
     ]
    }
   ],
   "source": [
    "OLSresults = sm.OLS(y_train, X_train).fit()\n",
    "print(OLSresults.summary())"
   ]
  },
  {
   "cell_type": "code",
   "execution_count": 280,
   "metadata": {
    "collapsed": true
   },
   "outputs": [],
   "source": [
    "results['AIC'][2]= -344.7"
   ]
  },
  {
   "cell_type": "code",
   "execution_count": 281,
   "metadata": {
    "collapsed": true
   },
   "outputs": [],
   "source": [
    "X = df3[['X','X2','X3']]\n",
    "y = df3['ysq2']\n",
    "\n",
    "X_train, X_test, y_train, y_test = train_test_split(X, y, test_size=0.3,random_state=42)\n",
    "\n",
    "lr_3order_model = LinearRegression()\n",
    "lr_3order_model.fit(X_train,y_train)\n",
    "\n",
    "\n",
    "test_set_pred = lr_3order_model.predict(X_test)\n",
    "\n",
    "train_set_pred = lr_3order_model.predict(X_train)\n",
    "\n",
    "\n",
    "trainerror = np.sqrt(np.mean((train_set_pred - y_train)**2))\n",
    "testerror = np.sqrt(np.mean((test_set_pred - y_test)**2))\n",
    "r2 = r2_score(y_test, test_set_pred)\n",
    "# AIC_train = 2+(len(X_train)*np.log(trainerror/len(X_train)))\n",
    "AIC = 2+(len(X_test)*np.log(testerror/len(X_test)))\n",
    "\n",
    "results['Order'][3]= '3'\n",
    "results['TrainingError'][3]= trainerror\n",
    "results['TestError'][3]= testerror\n",
    "results['R-square'][3]= r2\n",
    "results['AIC'][3]= AIC"
   ]
  },
  {
   "cell_type": "code",
   "execution_count": 282,
   "metadata": {},
   "outputs": [
    {
     "name": "stdout",
     "output_type": "stream",
     "text": [
      "                            OLS Regression Results                            \n",
      "==============================================================================\n",
      "Dep. Variable:                   ysq2   R-squared:                       1.000\n",
      "Model:                            OLS   Adj. R-squared:                  1.000\n",
      "Method:                 Least Squares   F-statistic:                 1.457e+08\n",
      "Date:                Mon, 09 Oct 2017   Prob (F-statistic):               0.00\n",
      "Time:                        17:36:02   Log-Likelihood:                 460.68\n",
      "No. Observations:                 350   AIC:                            -915.4\n",
      "Df Residuals:                     347   BIC:                            -903.8\n",
      "Df Model:                           3                                         \n",
      "Covariance Type:            nonrobust                                         \n",
      "==============================================================================\n",
      "                 coef    std err          t      P>|t|      [0.025      0.975]\n",
      "------------------------------------------------------------------------------\n",
      "X              4.2061      0.013    316.403      0.000       4.180       4.232\n",
      "X2             4.5840      0.008    568.587      0.000       4.568       4.600\n",
      "X3             0.0442      0.001     37.879      0.000       0.042       0.046\n",
      "==============================================================================\n",
      "Omnibus:                       26.317   Durbin-Watson:                   2.001\n",
      "Prob(Omnibus):                  0.000   Jarque-Bera (JB):               30.810\n",
      "Skew:                           0.644   Prob(JB):                     2.04e-07\n",
      "Kurtosis:                       3.674   Cond. No.                         241.\n",
      "==============================================================================\n",
      "\n",
      "Warnings:\n",
      "[1] Standard Errors assume that the covariance matrix of the errors is correctly specified.\n"
     ]
    }
   ],
   "source": [
    "OLSresults = sm.OLS(y_train, X_train).fit()\n",
    "print(OLSresults.summary())"
   ]
  },
  {
   "cell_type": "code",
   "execution_count": 283,
   "metadata": {
    "collapsed": true
   },
   "outputs": [],
   "source": [
    "results['AIC'][3]= -915.4"
   ]
  },
  {
   "cell_type": "code",
   "execution_count": 284,
   "metadata": {
    "collapsed": true
   },
   "outputs": [],
   "source": [
    "X = df3[['X','X2','X3','X4']]\n",
    "y = df3['ysq2']\n",
    "\n",
    "X_train, X_test, y_train, y_test = train_test_split(X, y, test_size=0.3,random_state=42)\n",
    "\n",
    "lr_4order_model = LinearRegression()\n",
    "lr_4order_model.fit(X_train,y_train)\n",
    "\n",
    "\n",
    "test_set_pred = lr_4order_model.predict(X_test)\n",
    "\n",
    "train_set_pred = lr_4order_model.predict(X_train)\n",
    "\n",
    "\n",
    "trainerror = np.sqrt(np.mean((train_set_pred - y_train)**2))\n",
    "testerror = np.sqrt(np.mean((test_set_pred - y_test)**2))\n",
    "r2 = r2_score(y_test, test_set_pred)\n",
    "# AIC_train = 2+(len(X_train)*np.log(trainerror/len(X_train)))\n",
    "AIC = 2+(len(X_test)*np.log(testerror/len(X_test)))\n",
    "\n",
    "results['Order'][4]= '4'\n",
    "results['TrainingError'][4]= trainerror\n",
    "results['TestError'][4]= testerror\n",
    "results['R-square'][4]= r2\n",
    "results['AIC'][4]= AIC"
   ]
  },
  {
   "cell_type": "code",
   "execution_count": 285,
   "metadata": {},
   "outputs": [
    {
     "name": "stdout",
     "output_type": "stream",
     "text": [
      "                            OLS Regression Results                            \n",
      "==============================================================================\n",
      "Dep. Variable:                   ysq2   R-squared:                       1.000\n",
      "Model:                            OLS   Adj. R-squared:                  1.000\n",
      "Method:                 Least Squares   F-statistic:                 3.434e+08\n",
      "Date:                Mon, 09 Oct 2017   Prob (F-statistic):               0.00\n",
      "Time:                        17:36:05   Log-Likelihood:                 661.60\n",
      "No. Observations:                 350   AIC:                            -1315.\n",
      "Df Residuals:                     346   BIC:                            -1300.\n",
      "Df Model:                           4                                         \n",
      "Covariance Type:            nonrobust                                         \n",
      "==============================================================================\n",
      "                 coef    std err          t      P>|t|      [0.025      0.975]\n",
      "------------------------------------------------------------------------------\n",
      "X              4.6932      0.019    242.423      0.000       4.655       4.731\n",
      "X2             4.0634      0.020    207.216      0.000       4.025       4.102\n",
      "X3             0.2141      0.006     34.199      0.000       0.202       0.226\n",
      "X4            -0.0173      0.001    -27.289      0.000      -0.019      -0.016\n",
      "==============================================================================\n",
      "Omnibus:                        4.373   Durbin-Watson:                   2.185\n",
      "Prob(Omnibus):                  0.112   Jarque-Bera (JB):                4.355\n",
      "Skew:                           0.240   Prob(JB):                        0.113\n",
      "Kurtosis:                       2.740   Cond. No.                     3.40e+03\n",
      "==============================================================================\n",
      "\n",
      "Warnings:\n",
      "[1] Standard Errors assume that the covariance matrix of the errors is correctly specified.\n",
      "[2] The condition number is large, 3.4e+03. This might indicate that there are\n",
      "strong multicollinearity or other numerical problems.\n"
     ]
    }
   ],
   "source": [
    "OLSresults = sm.OLS(y_train, X_train).fit()\n",
    "print(OLSresults.summary())"
   ]
  },
  {
   "cell_type": "code",
   "execution_count": 286,
   "metadata": {
    "collapsed": true
   },
   "outputs": [],
   "source": [
    "results['AIC'][4]= -1315."
   ]
  },
  {
   "cell_type": "code",
   "execution_count": 287,
   "metadata": {
    "collapsed": true
   },
   "outputs": [],
   "source": [
    "X = df3[['X','X2','X3','X4','X5']]\n",
    "y = df3['ysq2']\n",
    "\n",
    "X_train, X_test, y_train, y_test = train_test_split(X, y, test_size=0.3,random_state=42)\n",
    "\n",
    "lr_5order_model = LinearRegression()\n",
    "lr_5order_model.fit(X_train,y_train)\n",
    "\n",
    "\n",
    "test_set_pred = lr_5order_model.predict(X_test)\n",
    "\n",
    "train_set_pred = lr_5order_model.predict(X_train)\n",
    "\n",
    "\n",
    "trainerror = np.sqrt(np.mean((train_set_pred - y_train)**2))\n",
    "testerror = np.sqrt(np.mean((test_set_pred - y_test)**2))\n",
    "r2 = r2_score(y_test, test_set_pred)\n",
    "# AIC_train = 2+(len(X_train)*np.log(trainerror/len(X_train)))\n",
    "AIC = 2+(len(X_test)*np.log(testerror/len(X_test)))\n",
    "\n",
    "results['Order'][5]= '5'\n",
    "results['TrainingError'][5]= trainerror\n",
    "results['TestError'][5]= testerror\n",
    "results['R-square'][5]= r2\n",
    "results['AIC'][5]= AIC"
   ]
  },
  {
   "cell_type": "code",
   "execution_count": 288,
   "metadata": {},
   "outputs": [
    {
     "name": "stdout",
     "output_type": "stream",
     "text": [
      "                            OLS Regression Results                            \n",
      "==============================================================================\n",
      "Dep. Variable:                   ysq2   R-squared:                       1.000\n",
      "Model:                            OLS   Adj. R-squared:                  1.000\n",
      "Method:                 Least Squares   F-statistic:                 3.947e+08\n",
      "Date:                Mon, 09 Oct 2017   Prob (F-statistic):               0.00\n",
      "Time:                        17:36:07   Log-Likelihood:                 725.53\n",
      "No. Observations:                 350   AIC:                            -1441.\n",
      "Df Residuals:                     345   BIC:                            -1422.\n",
      "Df Model:                           5                                         \n",
      "Covariance Type:            nonrobust                                         \n",
      "==============================================================================\n",
      "                 coef    std err          t      P>|t|      [0.025      0.975]\n",
      "------------------------------------------------------------------------------\n",
      "X              5.1538      0.041    126.662      0.000       5.074       5.234\n",
      "X2             3.3597      0.059     56.599      0.000       3.243       3.476\n",
      "X3             0.5857      0.031     19.153      0.000       0.526       0.646\n",
      "X4            -0.0990      0.007    -14.899      0.000      -0.112      -0.086\n",
      "X5             0.0064      0.001     12.334      0.000       0.005       0.007\n",
      "==============================================================================\n",
      "Omnibus:                       68.997   Durbin-Watson:                   2.021\n",
      "Prob(Omnibus):                  0.000   Jarque-Bera (JB):               14.922\n",
      "Skew:                           0.047   Prob(JB):                     0.000575\n",
      "Kurtosis:                       1.993   Cond. No.                     5.10e+04\n",
      "==============================================================================\n",
      "\n",
      "Warnings:\n",
      "[1] Standard Errors assume that the covariance matrix of the errors is correctly specified.\n",
      "[2] The condition number is large, 5.1e+04. This might indicate that there are\n",
      "strong multicollinearity or other numerical problems.\n"
     ]
    }
   ],
   "source": [
    "OLSresults = sm.OLS(y_train, X_train).fit()\n",
    "print(OLSresults.summary())"
   ]
  },
  {
   "cell_type": "code",
   "execution_count": 289,
   "metadata": {
    "collapsed": true
   },
   "outputs": [],
   "source": [
    "results['AIC'][5]= -1441."
   ]
  },
  {
   "cell_type": "code",
   "execution_count": 290,
   "metadata": {
    "collapsed": true
   },
   "outputs": [],
   "source": [
    "X = df3[['X','X2','X3','X4', 'X5', 'X6']]\n",
    "y = df3['ysq2']\n",
    "\n",
    "X_train, X_test, y_train, y_test = train_test_split(X, y, test_size=0.3,random_state=42)\n",
    "\n",
    "lr_6order_model = LinearRegression()\n",
    "lr_6order_model.fit(X_train,y_train)\n",
    "\n",
    "\n",
    "test_set_pred = lr_6order_model.predict(X_test)\n",
    "\n",
    "train_set_pred = lr_6order_model.predict(X_train)\n",
    "\n",
    "\n",
    "trainerror = np.sqrt(np.mean((train_set_pred - y_train)**2))\n",
    "testerror = np.sqrt(np.mean((test_set_pred - y_test)**2))\n",
    "r2 = r2_score(y_test, test_set_pred)\n",
    "# AIC_train = 2+(len(X_train)*np.log(trainerror/len(X_train)))\n",
    "AIC = 2+(len(X_test)*np.log(testerror/len(X_test)))\n",
    "\n",
    "results['Order'][6]= '6'\n",
    "results['TrainingError'][6]= trainerror\n",
    "results['TestError'][6]= testerror\n",
    "results['R-square'][6]= r2\n",
    "results['AIC'][6]= AIC"
   ]
  },
  {
   "cell_type": "code",
   "execution_count": 291,
   "metadata": {},
   "outputs": [
    {
     "name": "stdout",
     "output_type": "stream",
     "text": [
      "                            OLS Regression Results                            \n",
      "==============================================================================\n",
      "Dep. Variable:                   ysq2   R-squared:                       1.000\n",
      "Model:                            OLS   Adj. R-squared:                  1.000\n",
      "Method:                 Least Squares   F-statistic:                 3.447e+08\n",
      "Date:                Mon, 09 Oct 2017   Prob (F-statistic):               0.00\n",
      "Time:                        17:36:10   Log-Likelihood:                 734.22\n",
      "No. Observations:                 350   AIC:                            -1456.\n",
      "Df Residuals:                     344   BIC:                            -1433.\n",
      "Df Model:                           6                                         \n",
      "Covariance Type:            nonrobust                                         \n",
      "==============================================================================\n",
      "                 coef    std err          t      P>|t|      [0.025      0.975]\n",
      "------------------------------------------------------------------------------\n",
      "X              5.5500      0.103     54.057      0.000       5.348       5.752\n",
      "X2             2.5727      0.197     13.077      0.000       2.186       2.960\n",
      "X3             1.1675      0.142      8.211      0.000       0.888       1.447\n",
      "X4            -0.3015      0.049     -6.177      0.000      -0.397      -0.205\n",
      "X5             0.0399      0.008      4.974      0.000       0.024       0.056\n",
      "X6            -0.0021      0.001     -4.186      0.000      -0.003      -0.001\n",
      "==============================================================================\n",
      "Omnibus:                      203.970   Durbin-Watson:                   2.053\n",
      "Prob(Omnibus):                  0.000   Jarque-Bera (JB):               21.154\n",
      "Skew:                           0.021   Prob(JB):                     2.55e-05\n",
      "Kurtosis:                       1.796   Cond. No.                     8.18e+05\n",
      "==============================================================================\n",
      "\n",
      "Warnings:\n",
      "[1] Standard Errors assume that the covariance matrix of the errors is correctly specified.\n",
      "[2] The condition number is large, 8.18e+05. This might indicate that there are\n",
      "strong multicollinearity or other numerical problems.\n"
     ]
    }
   ],
   "source": [
    "OLSresults = sm.OLS(y_train, X_train).fit()\n",
    "print(OLSresults.summary())"
   ]
  },
  {
   "cell_type": "code",
   "execution_count": 292,
   "metadata": {
    "collapsed": true
   },
   "outputs": [],
   "source": [
    "results['AIC'][6]= -1456."
   ]
  },
  {
   "cell_type": "code",
   "execution_count": 293,
   "metadata": {
    "collapsed": true
   },
   "outputs": [],
   "source": [
    "X = df3[['X','X2','X3','X4', 'X5', 'X6','X7']]\n",
    "y = df3['ysq2']\n",
    "\n",
    "X_train, X_test, y_train, y_test = train_test_split(X, y, test_size=0.3,random_state=42)\n",
    "\n",
    "lr_7order_model = LinearRegression()\n",
    "lr_7order_model.fit(X_train,y_train)\n",
    "\n",
    "\n",
    "test_set_pred = lr_7order_model.predict(X_test)\n",
    "\n",
    "train_set_pred = lr_7order_model.predict(X_train)\n",
    "\n",
    "\n",
    "trainerror = np.sqrt(np.mean((train_set_pred - y_train)**2))\n",
    "testerror = np.sqrt(np.mean((test_set_pred - y_test)**2))\n",
    "r2 = r2_score(y_test, test_set_pred)\n",
    "# AIC_train = 2+(len(X_train)*np.log(trainerror/len(X_train)))\n",
    "AIC = 2+(len(X_test)*np.log(testerror/len(X_test)))\n",
    "\n",
    "results['Order'][7]= '7'\n",
    "results['TrainingError'][7]= trainerror\n",
    "results['TestError'][7]= testerror\n",
    "results['R-square'][7]= r2\n",
    "results['AIC'][7]= AIC"
   ]
  },
  {
   "cell_type": "code",
   "execution_count": 294,
   "metadata": {},
   "outputs": [
    {
     "name": "stdout",
     "output_type": "stream",
     "text": [
      "                            OLS Regression Results                            \n",
      "==============================================================================\n",
      "Dep. Variable:                   ysq2   R-squared:                       1.000\n",
      "Model:                            OLS   Adj. R-squared:                  1.000\n",
      "Method:                 Least Squares   F-statistic:                 2.966e+08\n",
      "Date:                Mon, 09 Oct 2017   Prob (F-statistic):               0.00\n",
      "Time:                        17:36:12   Log-Likelihood:                 735.42\n",
      "No. Observations:                 350   AIC:                            -1457.\n",
      "Df Residuals:                     343   BIC:                            -1430.\n",
      "Df Model:                           7                                         \n",
      "Covariance Type:            nonrobust                                         \n",
      "==============================================================================\n",
      "                 coef    std err          t      P>|t|      [0.025      0.975]\n",
      "------------------------------------------------------------------------------\n",
      "X              5.9240      0.264     22.401      0.000       5.404       6.444\n",
      "X2             1.6633      0.624      2.663      0.008       0.435       2.892\n",
      "X3             2.0341      0.582      3.492      0.001       0.888       3.180\n",
      "X4            -0.7188      0.276     -2.601      0.010      -1.262      -0.175\n",
      "X5             0.1477      0.071      2.088      0.038       0.009       0.287\n",
      "X6            -0.0164      0.009     -1.760      0.079      -0.035       0.002\n",
      "X7             0.0008      0.000      1.534      0.126      -0.000       0.002\n",
      "==============================================================================\n",
      "Omnibus:                      250.194   Durbin-Watson:                   2.053\n",
      "Prob(Omnibus):                  0.000   Jarque-Bera (JB):               22.234\n",
      "Skew:                           0.032   Prob(JB):                     1.49e-05\n",
      "Kurtosis:                       1.767   Cond. No.                     1.33e+07\n",
      "==============================================================================\n",
      "\n",
      "Warnings:\n",
      "[1] Standard Errors assume that the covariance matrix of the errors is correctly specified.\n",
      "[2] The condition number is large, 1.33e+07. This might indicate that there are\n",
      "strong multicollinearity or other numerical problems.\n"
     ]
    }
   ],
   "source": [
    "OLSresults = sm.OLS(y_train, X_train).fit()\n",
    "print(OLSresults.summary())"
   ]
  },
  {
   "cell_type": "code",
   "execution_count": 295,
   "metadata": {
    "collapsed": true
   },
   "outputs": [],
   "source": [
    "results['AIC'][7]= -1457."
   ]
  },
  {
   "cell_type": "code",
   "execution_count": 296,
   "metadata": {},
   "outputs": [
    {
     "data": {
      "text/html": [
       "<div>\n",
       "<style>\n",
       "    .dataframe thead tr:only-child th {\n",
       "        text-align: right;\n",
       "    }\n",
       "\n",
       "    .dataframe thead th {\n",
       "        text-align: left;\n",
       "    }\n",
       "\n",
       "    .dataframe tbody tr th {\n",
       "        vertical-align: top;\n",
       "    }\n",
       "</style>\n",
       "<table border=\"1\" class=\"dataframe\">\n",
       "  <thead>\n",
       "    <tr style=\"text-align: right;\">\n",
       "      <th></th>\n",
       "      <th>Order</th>\n",
       "      <th>TrainingError</th>\n",
       "      <th>TestError</th>\n",
       "      <th>R-square</th>\n",
       "      <th>AIC</th>\n",
       "    </tr>\n",
       "  </thead>\n",
       "  <tbody>\n",
       "    <tr>\n",
       "      <th>0</th>\n",
       "      <td>0.0</td>\n",
       "      <td>37.971803</td>\n",
       "      <td>40.187209</td>\n",
       "      <td>-0.001021</td>\n",
       "      <td>-1769.0</td>\n",
       "    </tr>\n",
       "    <tr>\n",
       "      <th>1</th>\n",
       "      <td>1.0</td>\n",
       "      <td>5.850064</td>\n",
       "      <td>6.323904</td>\n",
       "      <td>0.975212</td>\n",
       "      <td>-1434.0</td>\n",
       "    </tr>\n",
       "    <tr>\n",
       "      <th>2</th>\n",
       "      <td>2.0</td>\n",
       "      <td>0.029639</td>\n",
       "      <td>0.030399</td>\n",
       "      <td>0.999999</td>\n",
       "      <td>-344.7</td>\n",
       "    </tr>\n",
       "    <tr>\n",
       "      <th>3</th>\n",
       "      <td>3.0</td>\n",
       "      <td>0.029639</td>\n",
       "      <td>0.030397</td>\n",
       "      <td>0.999999</td>\n",
       "      <td>-915.4</td>\n",
       "    </tr>\n",
       "    <tr>\n",
       "      <th>4</th>\n",
       "      <td>4.0</td>\n",
       "      <td>0.029616</td>\n",
       "      <td>0.030570</td>\n",
       "      <td>0.999999</td>\n",
       "      <td>-1315.0</td>\n",
       "    </tr>\n",
       "    <tr>\n",
       "      <th>5</th>\n",
       "      <td>5.0</td>\n",
       "      <td>0.029594</td>\n",
       "      <td>0.030606</td>\n",
       "      <td>0.999999</td>\n",
       "      <td>-1441.0</td>\n",
       "    </tr>\n",
       "    <tr>\n",
       "      <th>6</th>\n",
       "      <td>6.0</td>\n",
       "      <td>0.029592</td>\n",
       "      <td>0.030668</td>\n",
       "      <td>0.999999</td>\n",
       "      <td>-1456.0</td>\n",
       "    </tr>\n",
       "    <tr>\n",
       "      <th>7</th>\n",
       "      <td>7.0</td>\n",
       "      <td>0.029589</td>\n",
       "      <td>0.030660</td>\n",
       "      <td>0.999999</td>\n",
       "      <td>-1457.0</td>\n",
       "    </tr>\n",
       "  </tbody>\n",
       "</table>\n",
       "</div>"
      ],
      "text/plain": [
       "   Order  TrainingError  TestError  R-square     AIC\n",
       "0    0.0      37.971803  40.187209 -0.001021 -1769.0\n",
       "1    1.0       5.850064   6.323904  0.975212 -1434.0\n",
       "2    2.0       0.029639   0.030399  0.999999  -344.7\n",
       "3    3.0       0.029639   0.030397  0.999999  -915.4\n",
       "4    4.0       0.029616   0.030570  0.999999 -1315.0\n",
       "5    5.0       0.029594   0.030606  0.999999 -1441.0\n",
       "6    6.0       0.029592   0.030668  0.999999 -1456.0\n",
       "7    7.0       0.029589   0.030660  0.999999 -1457.0"
      ]
     },
     "execution_count": 296,
     "metadata": {},
     "output_type": "execute_result"
    }
   ],
   "source": [
    "results"
   ]
  },
  {
   "cell_type": "code",
   "execution_count": 297,
   "metadata": {},
   "outputs": [
    {
     "data": {
      "text/plain": [
       "[<matplotlib.lines.Line2D at 0x258ecdc7358>]"
      ]
     },
     "execution_count": 297,
     "metadata": {},
     "output_type": "execute_result"
    },
    {
     "data": {
      "image/png": "[encoded data removed]",
      "text/plain": [
       "<matplotlib.figure.Figure at 0x258ecdc7be0>"
      ]
     },
     "metadata": {},
     "output_type": "display_data"
    }
   ],
   "source": [
    "plt.scatter(results['Order'],results['TrainingError'],alpha=.6)\n",
    "plt.plot(np.linspace(0,100,1),np.linspace(0,100,1))"
   ]
  },
  {
   "cell_type": "code",
   "execution_count": 299,
   "metadata": {},
   "outputs": [
    {
     "data": {
      "text/plain": [
       "[<matplotlib.lines.Line2D at 0x258ecef9ef0>]"
      ]
     },
     "execution_count": 299,
     "metadata": {},
     "output_type": "execute_result"
    },
    {
     "data": {
      "image/png": "[encoded data removed]",
      "text/plain": [
       "<matplotlib.figure.Figure at 0x258ecef9f28>"
      ]
     },
     "metadata": {},
     "output_type": "display_data"
    }
   ],
   "source": [
    "plt.scatter(results['Order'],results['TestError'],alpha=.6)\n",
    "plt.plot(np.linspace(0,100,1),np.linspace(0,100,1))"
   ]
  },
  {
   "cell_type": "code",
   "execution_count": 300,
   "metadata": {},
   "outputs": [
    {
     "data": {
      "text/plain": [
       "[<matplotlib.lines.Line2D at 0x258edf355c0>]"
      ]
     },
     "execution_count": 300,
     "metadata": {},
     "output_type": "execute_result"
    },
    {
     "data": {
      "image/png": "[encoded data removed]",
      "text/plain": [
       "<matplotlib.figure.Figure at 0x258edf355f8>"
      ]
     },
     "metadata": {},
     "output_type": "display_data"
    }
   ],
   "source": [
    "plt.scatter(results['Order'],results['R-square'],alpha=.6)\n",
    "plt.plot(np.linspace(0,100,1),np.linspace(0,100,1))"
   ]
  },
  {
   "cell_type": "code",
   "execution_count": 301,
   "metadata": {},
   "outputs": [
    {
     "data": {
      "text/plain": [
       "[<matplotlib.lines.Line2D at 0x258ec49bc18>]"
      ]
     },
     "execution_count": 301,
     "metadata": {},
     "output_type": "execute_result"
    },
    {
     "data": {
      "image/png": "[encoded data removed]",
      "text/plain": [
       "<matplotlib.figure.Figure at 0x258ec4e7208>"
      ]
     },
     "metadata": {},
     "output_type": "display_data"
    }
   ],
   "source": [
    "plt.scatter(results['Order'],results['AIC'],alpha=.6)\n",
    "plt.plot(np.linspace(0,100,1),np.linspace(0,100,1))"
   ]
  },
  {
   "cell_type": "code",
   "execution_count": 302,
   "metadata": {},
   "outputs": [
    {
     "data": {
      "image/png": "[encoded data removed]",
      "text/plain": [
       "<matplotlib.figure.Figure at 0x258ec3a8128>"
      ]
     },
     "metadata": {},
     "output_type": "display_data"
    }
   ],
   "source": [
    "fig, ax = plt.subplots()\n",
    "for Y in [results['TrainingError'], results['TestError'], results['R-square']]:\n",
    "    ax.plot(results['Order'], Y)"
   ]
  },
  {
   "cell_type": "code",
   "execution_count": 222,
   "metadata": {
    "collapsed": true
   },
   "outputs": [],
   "source": [
    "# lr_7order_model = LinearRegression()\n",
    "# lr_7order_model.fit(X_train,y_train)\n",
    "\n",
    "\n",
    "# test_set_pred = lr_7order_model.predict(X_test)"
   ]
  },
  {
   "cell_type": "code",
   "execution_count": 223,
   "metadata": {},
   "outputs": [],
   "source": [
    "# #train error\n",
    "# train_set_pred = lr_7order_model.predict(X_train)\n",
    "\n",
    "\n",
    "# trainerror = np.sqrt(np.mean((train_set_pred - y_train)**2))\n",
    "# trainerror"
   ]
  },
  {
   "cell_type": "code",
   "execution_count": 224,
   "metadata": {},
   "outputs": [],
   "source": [
    "# #test error\n",
    "\n",
    "# testerror = np.sqrt(np.mean((test_set_pred - y_test)**2))\n",
    "# testerror"
   ]
  },
  {
   "cell_type": "code",
   "execution_count": 225,
   "metadata": {},
   "outputs": [],
   "source": [
    "# from sklearn.metrics import r2_score\n",
    "# r2_score(y_test, test_set_pred)"
   ]
  },
  {
   "cell_type": "code",
   "execution_count": 226,
   "metadata": {},
   "outputs": [],
   "source": [
    "# #AIC Test\n",
    "# AIC_train = 2+(len(X_train)*np.log(trainerror/len(X_train)))\n",
    "# AIC_train"
   ]
  },
  {
   "cell_type": "code",
   "execution_count": 227,
   "metadata": {},
   "outputs": [
    {
     "data": {
      "text/plain": [
       "-1272.3127752521484"
      ]
     },
     "execution_count": 227,
     "metadata": {},
     "output_type": "execute_result"
    }
   ],
   "source": [
    "#AIC Test\n",
    "AIC_test = 2+(len(X_test)*np.log(testerror/len(X_test)))\n",
    "AIC_test"
   ]
  },
  {
   "cell_type": "code",
   "execution_count": 228,
   "metadata": {},
   "outputs": [],
   "source": [
    "# plt.hist(test_set_pred-y_test)"
   ]
  },
  {
   "cell_type": "code",
   "execution_count": 230,
   "metadata": {},
   "outputs": [],
   "source": [
    "# plt.scatter(test_set_pred,y_test,alpha=.6)\n",
    "# plt.plot(np.linspace(0,100,1),np.linspace(0,100,1))"
   ]
  },
  {
   "cell_type": "markdown",
   "metadata": {},
   "source": [
    "#### Challenge 4"
   ]
  },
  {
   "cell_type": "code",
   "execution_count": 72,
   "metadata": {
    "collapsed": true
   },
   "outputs": [],
   "source": [
    "X = np.linspace(1,5, 500)\n",
    "df = pd.DataFrame(X)\n",
    "\n",
    "df.rename(index=str, columns={0: 'X'}, inplace=True)\n",
    "\n",
    "epsilon = []\n",
    "for i in range(500):\n",
    "    epsilon.append((np.random.random()/10))\n",
    "    \n",
    "df['B0'] = 1\n",
    "df['epsilon'] = epsilon\n",
    "\n",
    "df['B1'] = 3\n",
    "\n",
    "def transform_y(B0, B1, X, epsilon):\n",
    "    return B0 + (B1*np.log(X)) + epsilon\n",
    "\n",
    "\n",
    "df['y'] = df.apply(lambda x: transform_y(x['B0'], x['B1'], x['X'], x['epsilon']), axis=1)"
   ]
  },
  {
   "cell_type": "code",
   "execution_count": 73,
   "metadata": {
    "collapsed": true
   },
   "outputs": [],
   "source": [
    "df2 = df[['X', 'B0', 'B1', 'epsilon']]\n",
    "df2['B2'] = 5\n",
    "\n",
    "def transform_ysq2(B0, B1, B2, X, epsilon):\n",
    "    return B0 + (B1*(X)) + (B2*(X**2)) + epsilon\n",
    "\n",
    "\n",
    "df2['ysq2'] = df2.apply(lambda x: transform_ysq2(x['B0'], x['B1'], x['B2'], x['X'], x['epsilon']), axis=1)\n",
    "\n"
   ]
  },
  {
   "cell_type": "code",
   "execution_count": 90,
   "metadata": {},
   "outputs": [],
   "source": [
    "df2['X2'] = np.square(df2['X'])"
   ]
  },
  {
   "cell_type": "code",
   "execution_count": 91,
   "metadata": {},
   "outputs": [
    {
     "data": {
      "text/html": [
       "<div>\n",
       "<style>\n",
       "    .dataframe thead tr:only-child th {\n",
       "        text-align: right;\n",
       "    }\n",
       "\n",
       "    .dataframe thead th {\n",
       "        text-align: left;\n",
       "    }\n",
       "\n",
       "    .dataframe tbody tr th {\n",
       "        vertical-align: top;\n",
       "    }\n",
       "</style>\n",
       "<table border=\"1\" class=\"dataframe\">\n",
       "  <thead>\n",
       "    <tr style=\"text-align: right;\">\n",
       "      <th></th>\n",
       "      <th>X</th>\n",
       "      <th>B0</th>\n",
       "      <th>B1</th>\n",
       "      <th>epsilon</th>\n",
       "      <th>B2</th>\n",
       "      <th>ysq2</th>\n",
       "      <th>X2</th>\n",
       "    </tr>\n",
       "  </thead>\n",
       "  <tbody>\n",
       "    <tr>\n",
       "      <th>0</th>\n",
       "      <td>1.000000</td>\n",
       "      <td>1</td>\n",
       "      <td>3</td>\n",
       "      <td>0.090747</td>\n",
       "      <td>5</td>\n",
       "      <td>9.090747</td>\n",
       "      <td>1.000000</td>\n",
       "    </tr>\n",
       "    <tr>\n",
       "      <th>1</th>\n",
       "      <td>1.008016</td>\n",
       "      <td>1</td>\n",
       "      <td>3</td>\n",
       "      <td>0.018520</td>\n",
       "      <td>5</td>\n",
       "      <td>9.123050</td>\n",
       "      <td>1.016096</td>\n",
       "    </tr>\n",
       "    <tr>\n",
       "      <th>2</th>\n",
       "      <td>1.016032</td>\n",
       "      <td>1</td>\n",
       "      <td>3</td>\n",
       "      <td>0.035504</td>\n",
       "      <td>5</td>\n",
       "      <td>9.245206</td>\n",
       "      <td>1.032321</td>\n",
       "    </tr>\n",
       "    <tr>\n",
       "      <th>3</th>\n",
       "      <td>1.024048</td>\n",
       "      <td>1</td>\n",
       "      <td>3</td>\n",
       "      <td>0.053856</td>\n",
       "      <td>5</td>\n",
       "      <td>9.369372</td>\n",
       "      <td>1.048675</td>\n",
       "    </tr>\n",
       "    <tr>\n",
       "      <th>4</th>\n",
       "      <td>1.032064</td>\n",
       "      <td>1</td>\n",
       "      <td>3</td>\n",
       "      <td>0.098263</td>\n",
       "      <td>5</td>\n",
       "      <td>9.520237</td>\n",
       "      <td>1.065156</td>\n",
       "    </tr>\n",
       "  </tbody>\n",
       "</table>\n",
       "</div>"
      ],
      "text/plain": [
       "          X  B0  B1   epsilon  B2      ysq2        X2\n",
       "0  1.000000   1   3  0.090747   5  9.090747  1.000000\n",
       "1  1.008016   1   3  0.018520   5  9.123050  1.016096\n",
       "2  1.016032   1   3  0.035504   5  9.245206  1.032321\n",
       "3  1.024048   1   3  0.053856   5  9.369372  1.048675\n",
       "4  1.032064   1   3  0.098263   5  9.520237  1.065156"
      ]
     },
     "execution_count": 91,
     "metadata": {},
     "output_type": "execute_result"
    }
   ],
   "source": [
    "df2.head()"
   ]
  },
  {
   "cell_type": "code",
   "execution_count": 93,
   "metadata": {},
   "outputs": [],
   "source": [
    "y = df2['ysq2']\n",
    "X = df2[['X','X2']]\n",
    "# X = X.reshape(-1,1)"
   ]
  },
  {
   "cell_type": "code",
   "execution_count": 95,
   "metadata": {
    "collapsed": true
   },
   "outputs": [],
   "source": [
    "import pandas as pd\n",
    "\n",
    "X2 = np.linspace(1,2, 100)\n",
    "\n",
    "results = pd.DataFrame()  #columns=['Iteration', 'TrainingError', 'TestingError']\n",
    "\n",
    "results['Iteration'] = X2\n",
    "results['TrainingError'] = X2\n",
    "results['TestError'] = X2\n",
    "\n",
    "\n",
    "# from collections import defaultdict"
   ]
  },
  {
   "cell_type": "code",
   "execution_count": 96,
   "metadata": {},
   "outputs": [
    {
     "data": {
      "text/html": [
       "<div>\n",
       "<style>\n",
       "    .dataframe thead tr:only-child th {\n",
       "        text-align: right;\n",
       "    }\n",
       "\n",
       "    .dataframe thead th {\n",
       "        text-align: left;\n",
       "    }\n",
       "\n",
       "    .dataframe tbody tr th {\n",
       "        vertical-align: top;\n",
       "    }\n",
       "</style>\n",
       "<table border=\"1\" class=\"dataframe\">\n",
       "  <thead>\n",
       "    <tr style=\"text-align: right;\">\n",
       "      <th></th>\n",
       "      <th>Iteration</th>\n",
       "      <th>TrainingError</th>\n",
       "      <th>TestError</th>\n",
       "    </tr>\n",
       "  </thead>\n",
       "  <tbody>\n",
       "    <tr>\n",
       "      <th>0</th>\n",
       "      <td>1.000000</td>\n",
       "      <td>1.000000</td>\n",
       "      <td>1.000000</td>\n",
       "    </tr>\n",
       "    <tr>\n",
       "      <th>1</th>\n",
       "      <td>1.010101</td>\n",
       "      <td>1.010101</td>\n",
       "      <td>1.010101</td>\n",
       "    </tr>\n",
       "    <tr>\n",
       "      <th>2</th>\n",
       "      <td>1.020202</td>\n",
       "      <td>1.020202</td>\n",
       "      <td>1.020202</td>\n",
       "    </tr>\n",
       "    <tr>\n",
       "      <th>3</th>\n",
       "      <td>1.030303</td>\n",
       "      <td>1.030303</td>\n",
       "      <td>1.030303</td>\n",
       "    </tr>\n",
       "    <tr>\n",
       "      <th>4</th>\n",
       "      <td>1.040404</td>\n",
       "      <td>1.040404</td>\n",
       "      <td>1.040404</td>\n",
       "    </tr>\n",
       "  </tbody>\n",
       "</table>\n",
       "</div>"
      ],
      "text/plain": [
       "   Iteration  TrainingError  TestError\n",
       "0   1.000000       1.000000   1.000000\n",
       "1   1.010101       1.010101   1.010101\n",
       "2   1.020202       1.020202   1.020202\n",
       "3   1.030303       1.030303   1.030303\n",
       "4   1.040404       1.040404   1.040404"
      ]
     },
     "execution_count": 96,
     "metadata": {},
     "output_type": "execute_result"
    }
   ],
   "source": [
    "results.head()"
   ]
  },
  {
   "cell_type": "code",
   "execution_count": 97,
   "metadata": {
    "collapsed": true
   },
   "outputs": [],
   "source": [
    "n = 0\n",
    "\n",
    "for i in range(5,len(df2),5):\n",
    "    \n",
    "    X_train, X_test, y_train, y_test = train_test_split(X[:i], y[:i], test_size=0.3,random_state=42)\n",
    "\n",
    "    lr_model = LinearRegression()\n",
    "    lr_log_model.fit(X_train,y_train)\n",
    "\n",
    "    train_set_pred = lr_log_model.predict(X_train)\n",
    "    test_set_pred = lr_log_model.predict(X_test)\n",
    "    \n",
    "    trainerror = np.sqrt(np.mean((train_set_pred - y_train)**2))\n",
    "    testerror = np.sqrt(np.mean((test_set_pred - y_test)**2))\n",
    "    \n",
    "    results['Iteration'][n] = i\n",
    "    results['TrainingError'][n] = trainerror\n",
    "    results['TestError'][n] = testerror\n",
    "    \n",
    "    n+=1"
   ]
  },
  {
   "cell_type": "code",
   "execution_count": 98,
   "metadata": {},
   "outputs": [
    {
     "data": {
      "text/html": [
       "<div>\n",
       "<style>\n",
       "    .dataframe thead tr:only-child th {\n",
       "        text-align: right;\n",
       "    }\n",
       "\n",
       "    .dataframe thead th {\n",
       "        text-align: left;\n",
       "    }\n",
       "\n",
       "    .dataframe tbody tr th {\n",
       "        vertical-align: top;\n",
       "    }\n",
       "</style>\n",
       "<table border=\"1\" class=\"dataframe\">\n",
       "  <thead>\n",
       "    <tr style=\"text-align: right;\">\n",
       "      <th></th>\n",
       "      <th>Iteration</th>\n",
       "      <th>TrainingError</th>\n",
       "      <th>TestError</th>\n",
       "    </tr>\n",
       "  </thead>\n",
       "  <tbody>\n",
       "    <tr>\n",
       "      <th>0</th>\n",
       "      <td>5.0</td>\n",
       "      <td>1.893855e-14</td>\n",
       "      <td>0.020958</td>\n",
       "    </tr>\n",
       "    <tr>\n",
       "      <th>1</th>\n",
       "      <td>10.0</td>\n",
       "      <td>2.103462e-02</td>\n",
       "      <td>0.033915</td>\n",
       "    </tr>\n",
       "    <tr>\n",
       "      <th>2</th>\n",
       "      <td>15.0</td>\n",
       "      <td>2.929685e-02</td>\n",
       "      <td>0.027624</td>\n",
       "    </tr>\n",
       "    <tr>\n",
       "      <th>3</th>\n",
       "      <td>20.0</td>\n",
       "      <td>3.291100e-02</td>\n",
       "      <td>0.039125</td>\n",
       "    </tr>\n",
       "    <tr>\n",
       "      <th>4</th>\n",
       "      <td>25.0</td>\n",
       "      <td>2.952920e-02</td>\n",
       "      <td>0.038733</td>\n",
       "    </tr>\n",
       "  </tbody>\n",
       "</table>\n",
       "</div>"
      ],
      "text/plain": [
       "   Iteration  TrainingError  TestError\n",
       "0        5.0   1.893855e-14   0.020958\n",
       "1       10.0   2.103462e-02   0.033915\n",
       "2       15.0   2.929685e-02   0.027624\n",
       "3       20.0   3.291100e-02   0.039125\n",
       "4       25.0   2.952920e-02   0.038733"
      ]
     },
     "execution_count": 98,
     "metadata": {},
     "output_type": "execute_result"
    }
   ],
   "source": [
    "results.head()"
   ]
  },
  {
   "cell_type": "code",
   "execution_count": 99,
   "metadata": {},
   "outputs": [
    {
     "data": {
      "image/png": "[encoded data removed]",
      "text/plain": [
       "<matplotlib.figure.Figure at 0x258eae5a3c8>"
      ]
     },
     "metadata": {},
     "output_type": "display_data"
    }
   ],
   "source": [
    "fig, ax = plt.subplots()\n",
    "for Y in [results['TrainingError'], results['TestError']]:\n",
    "    ax.plot(results['Iteration'], Y)"
   ]
  },
  {
   "cell_type": "code",
   "execution_count": null,
   "metadata": {
    "collapsed": true
   },
   "outputs": [],
   "source": []
  }
 ],
 "metadata": {
  "kernelspec": {
   "display_name": "Python [conda root]",
   "language": "python",
   "name": "conda-root-py"
  },
  "language_info": {
   "codemirror_mode": {
    "name": "ipython",
    "version": 3
   },
   "file_extension": ".py",
   "mimetype": "text/x-python",
   "name": "python",
   "nbconvert_exporter": "python",
   "pygments_lexer": "ipython3",
   "version": "3.5.4"
  }
 },
 "nbformat": 4,
 "nbformat_minor": 2
}
