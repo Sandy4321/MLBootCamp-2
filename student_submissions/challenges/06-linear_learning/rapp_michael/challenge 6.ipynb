{
 "cells": [
  {
   "cell_type": "code",
   "execution_count": 89,
   "metadata": {
    "collapsed": true
   },
   "outputs": [],
   "source": [
    "import random\n",
    "import numpy as np\n",
    "import pandas as pd\n",
    "from sklearn.linear_model import LinearRegression\n",
    "from sklearn.metrics import mean_squared_error\n",
    "\n",
    "import matplotlib.pyplot as plt\n",
    "%matplotlib inline\n",
    "\n",
    "from sklearn.model_selection import train_test_split"
   ]
  },
  {
   "cell_type": "markdown",
   "metadata": {},
   "source": [
    "## Q1"
   ]
  },
  {
   "cell_type": "code",
   "execution_count": 52,
   "metadata": {},
   "outputs": [],
   "source": [
    "sample_size = 1000\n",
    "data = {\n",
    "    'y': [],\n",
    "    'x': []\n",
    "}\n",
    "\n",
    "for n in range(sample_size):\n",
    "    data['x'].append(random.uniform(1,100))\n",
    "    data['y'].append(5+.2*np.log(data['x'][n]) + random.normalvariate(0, 1))"
   ]
  },
  {
   "cell_type": "code",
   "execution_count": 53,
   "metadata": {},
   "outputs": [],
   "source": [
    "df = pd.DataFrame(data)"
   ]
  },
  {
   "cell_type": "code",
   "execution_count": 54,
   "metadata": {},
   "outputs": [],
   "source": [
    "df['x2'] = df.x**2\n",
    "df['log x'] = df.x.apply(np.log)"
   ]
  },
  {
   "cell_type": "code",
   "execution_count": 55,
   "metadata": {},
   "outputs": [
    {
     "data": {
      "text/html": [
       "<div>\n",
       "<style>\n",
       "    .dataframe thead tr:only-child th {\n",
       "        text-align: right;\n",
       "    }\n",
       "\n",
       "    .dataframe thead th {\n",
       "        text-align: left;\n",
       "    }\n",
       "\n",
       "    .dataframe tbody tr th {\n",
       "        vertical-align: top;\n",
       "    }\n",
       "</style>\n",
       "<table border=\"1\" class=\"dataframe\">\n",
       "  <thead>\n",
       "    <tr style=\"text-align: right;\">\n",
       "      <th></th>\n",
       "      <th>x</th>\n",
       "      <th>y</th>\n",
       "      <th>x2</th>\n",
       "      <th>log x</th>\n",
       "    </tr>\n",
       "  </thead>\n",
       "  <tbody>\n",
       "    <tr>\n",
       "      <th>0</th>\n",
       "      <td>8.652031</td>\n",
       "      <td>5.839648</td>\n",
       "      <td>74.857635</td>\n",
       "      <td>2.157794</td>\n",
       "    </tr>\n",
       "    <tr>\n",
       "      <th>1</th>\n",
       "      <td>1.575065</td>\n",
       "      <td>4.654537</td>\n",
       "      <td>2.480831</td>\n",
       "      <td>0.454297</td>\n",
       "    </tr>\n",
       "    <tr>\n",
       "      <th>2</th>\n",
       "      <td>47.750426</td>\n",
       "      <td>4.647505</td>\n",
       "      <td>2280.103156</td>\n",
       "      <td>3.865988</td>\n",
       "    </tr>\n",
       "    <tr>\n",
       "      <th>3</th>\n",
       "      <td>48.272554</td>\n",
       "      <td>6.284484</td>\n",
       "      <td>2330.239497</td>\n",
       "      <td>3.876863</td>\n",
       "    </tr>\n",
       "    <tr>\n",
       "      <th>4</th>\n",
       "      <td>16.575238</td>\n",
       "      <td>6.666136</td>\n",
       "      <td>274.738515</td>\n",
       "      <td>2.807910</td>\n",
       "    </tr>\n",
       "  </tbody>\n",
       "</table>\n",
       "</div>"
      ],
      "text/plain": [
       "           x         y           x2     log x\n",
       "0   8.652031  5.839648    74.857635  2.157794\n",
       "1   1.575065  4.654537     2.480831  0.454297\n",
       "2  47.750426  4.647505  2280.103156  3.865988\n",
       "3  48.272554  6.284484  2330.239497  3.876863\n",
       "4  16.575238  6.666136   274.738515  2.807910"
      ]
     },
     "execution_count": 55,
     "metadata": {},
     "output_type": "execute_result"
    }
   ],
   "source": [
    "df.head()"
   ]
  },
  {
   "cell_type": "code",
   "execution_count": 56,
   "metadata": {
    "collapsed": true
   },
   "outputs": [],
   "source": [
    "X1 = df.loc[:,['x', 'x2']]\n",
    "X2 = df.loc[:,['log x']]\n",
    "y = df.y"
   ]
  },
  {
   "cell_type": "code",
   "execution_count": 57,
   "metadata": {
    "collapsed": true
   },
   "outputs": [],
   "source": [
    "lr_model1 = LinearRegression()\n",
    "lr_model2 = LinearRegression()"
   ]
  },
  {
   "cell_type": "code",
   "execution_count": 58,
   "metadata": {
    "scrolled": true
   },
   "outputs": [
    {
     "data": {
      "text/plain": [
       "LinearRegression(copy_X=True, fit_intercept=True, n_jobs=1, normalize=False)"
      ]
     },
     "execution_count": 58,
     "metadata": {},
     "output_type": "execute_result"
    }
   ],
   "source": [
    "lr_model1.fit(X1, y)\n",
    "lr_model2.fit(X2, y)"
   ]
  },
  {
   "cell_type": "code",
   "execution_count": 59,
   "metadata": {},
   "outputs": [
    {
     "name": "stdout",
     "output_type": "stream",
     "text": [
      "(5.2345926387357933, array([  1.26116686e-02,  -6.15359725e-05]))\n",
      "(4.8850957217040696, array([ 0.2141049]))\n"
     ]
    }
   ],
   "source": [
    "print(lr_model1.intercept_,  lr_model1.coef_)\n",
    "print(lr_model2.intercept_,  lr_model2.coef_)"
   ]
  },
  {
   "cell_type": "code",
   "execution_count": 67,
   "metadata": {},
   "outputs": [
    {
     "name": "stderr",
     "output_type": "stream",
     "text": [
      "/Users/mrapp/anaconda/lib/python2.7/site-packages/ipykernel_launcher.py:6: RuntimeWarning: divide by zero encountered in log\n",
      "  \n"
     ]
    },
    {
     "data": {
      "image/png": "[encoded data removed]",
      "text/plain": [
       "<matplotlib.figure.Figure at 0x11c94b090>"
      ]
     },
     "metadata": {},
     "output_type": "display_data"
    }
   ],
   "source": [
    "lr_predict1 = lr_model1.predict(X1)\n",
    "lr_predict2 = lr_model2.predict(X2)\n",
    "\n",
    "plt.scatter(df.x, df.y, alpha=.50)\n",
    "plt.plot(np.linspace(1,100,1000), 5.23 + 0.0126*np.linspace(0,100,1000) - 0.00006*np.linspace(0,100,1000)**2, color = 'k');\n",
    "plt.plot(np.linspace(1,100,1000), 4.88 + 0.26*np.log(np.linspace(0,100,1000)), color = 'k');"
   ]
  },
  {
   "cell_type": "markdown",
   "metadata": {},
   "source": [
    "## Q2"
   ]
  },
  {
   "cell_type": "code",
   "execution_count": 165,
   "metadata": {
    "collapsed": true
   },
   "outputs": [],
   "source": [
    "sample_size = 200\n",
    "data = {\n",
    "    'y': [],\n",
    "    'x': []\n",
    "}\n",
    "\n",
    "for n in range(sample_size):\n",
    "    data['x'].append(random.uniform(1,10))\n",
    "    data['y'].append(5+ 2 * data['x'][n] - 0.5 *data['x'][n]**2 + random.normalvariate(0, 5))"
   ]
  },
  {
   "cell_type": "code",
   "execution_count": 166,
   "metadata": {
    "collapsed": true
   },
   "outputs": [],
   "source": [
    "df2 = pd.DataFrame(data)\n",
    "df2['x2'] = df2.x**2"
   ]
  },
  {
   "cell_type": "code",
   "execution_count": 167,
   "metadata": {},
   "outputs": [],
   "source": [
    "X = df2.loc[:,['x', 'x2']]\n",
    "y = df2.y "
   ]
  },
  {
   "cell_type": "code",
   "execution_count": 168,
   "metadata": {
    "collapsed": true
   },
   "outputs": [],
   "source": [
    "X_train, X_test, y_train, y_test = train_test_split(X, y, test_size=0.25)"
   ]
  },
  {
   "cell_type": "code",
   "execution_count": 169,
   "metadata": {},
   "outputs": [
    {
     "data": {
      "text/plain": [
       "LinearRegression(copy_X=True, fit_intercept=True, n_jobs=1, normalize=False)"
      ]
     },
     "execution_count": 169,
     "metadata": {},
     "output_type": "execute_result"
    }
   ],
   "source": [
    "lr_model = LinearRegression()\n",
    "lr_model.fit(X_train, y_train)"
   ]
  },
  {
   "cell_type": "code",
   "execution_count": 170,
   "metadata": {},
   "outputs": [
    {
     "name": "stdout",
     "output_type": "stream",
     "text": [
      "24.4042916831\n",
      "32.3203822831\n"
     ]
    }
   ],
   "source": [
    "print(mean_squared_error(y_train, lr_model.predict(X_train)))\n",
    "print(mean_squared_error(y_test, lr_model.predict(X_test)))\n"
   ]
  },
  {
   "cell_type": "code",
   "execution_count": 171,
   "metadata": {},
   "outputs": [
    {
     "data": {
      "text/plain": [
       "<matplotlib.collections.PathCollection at 0x11dcdeb50>"
      ]
     },
     "execution_count": 171,
     "metadata": {},
     "output_type": "execute_result"
    },
    {
     "data": {
      "image/png": "[encoded data removed]",
      "text/plain": [
       "<matplotlib.figure.Figure at 0x11ddd03d0>"
      ]
     },
     "metadata": {},
     "output_type": "display_data"
    }
   ],
   "source": [
    "plt.scatter(df2.x, df2.y, alpha=.50)"
   ]
  },
  {
   "cell_type": "code",
   "execution_count": 194,
   "metadata": {},
   "outputs": [],
   "source": [
    "k_max = 8\n",
    "for n in range(k_max):\n",
    "    df2['x'+ str(n)] = df2.x**n"
   ]
  },
  {
   "cell_type": "code",
   "execution_count": 195,
   "metadata": {},
   "outputs": [
    {
     "data": {
      "text/html": [
       "<div>\n",
       "<style>\n",
       "    .dataframe thead tr:only-child th {\n",
       "        text-align: right;\n",
       "    }\n",
       "\n",
       "    .dataframe thead th {\n",
       "        text-align: left;\n",
       "    }\n",
       "\n",
       "    .dataframe tbody tr th {\n",
       "        vertical-align: top;\n",
       "    }\n",
       "</style>\n",
       "<table border=\"1\" class=\"dataframe\">\n",
       "  <thead>\n",
       "    <tr style=\"text-align: right;\">\n",
       "      <th></th>\n",
       "      <th>x</th>\n",
       "      <th>y</th>\n",
       "      <th>x2</th>\n",
       "      <th>x0</th>\n",
       "      <th>x1</th>\n",
       "      <th>x3</th>\n",
       "      <th>x4</th>\n",
       "      <th>x5</th>\n",
       "      <th>x6</th>\n",
       "      <th>x7</th>\n",
       "      <th>...</th>\n",
       "      <th>x20</th>\n",
       "      <th>x21</th>\n",
       "      <th>x22</th>\n",
       "      <th>x23</th>\n",
       "      <th>x24</th>\n",
       "      <th>x25</th>\n",
       "      <th>x26</th>\n",
       "      <th>x27</th>\n",
       "      <th>x28</th>\n",
       "      <th>x29</th>\n",
       "    </tr>\n",
       "  </thead>\n",
       "  <tbody>\n",
       "    <tr>\n",
       "      <th>0</th>\n",
       "      <td>1.940979</td>\n",
       "      <td>5.434375</td>\n",
       "      <td>3.767400</td>\n",
       "      <td>1.0</td>\n",
       "      <td>1.940979</td>\n",
       "      <td>7.312446</td>\n",
       "      <td>14.193305</td>\n",
       "      <td>27.548910</td>\n",
       "      <td>53.471862</td>\n",
       "      <td>1.037878e+02</td>\n",
       "      <td>...</td>\n",
       "      <td>5.759936e+05</td>\n",
       "      <td>1.117992e+06</td>\n",
       "      <td>2.169999e+06</td>\n",
       "      <td>4.211922e+06</td>\n",
       "      <td>8.175254e+06</td>\n",
       "      <td>1.586800e+07</td>\n",
       "      <td>3.079945e+07</td>\n",
       "      <td>5.978110e+07</td>\n",
       "      <td>1.160339e+08</td>\n",
       "      <td>2.252193e+08</td>\n",
       "    </tr>\n",
       "    <tr>\n",
       "      <th>1</th>\n",
       "      <td>4.026996</td>\n",
       "      <td>7.272862</td>\n",
       "      <td>16.216700</td>\n",
       "      <td>1.0</td>\n",
       "      <td>4.026996</td>\n",
       "      <td>65.304595</td>\n",
       "      <td>262.981372</td>\n",
       "      <td>1059.025053</td>\n",
       "      <td>4264.690131</td>\n",
       "      <td>1.717389e+04</td>\n",
       "      <td>...</td>\n",
       "      <td>1.257839e+12</td>\n",
       "      <td>5.065312e+12</td>\n",
       "      <td>2.039799e+13</td>\n",
       "      <td>8.214264e+13</td>\n",
       "      <td>3.307881e+14</td>\n",
       "      <td>1.332083e+15</td>\n",
       "      <td>5.364292e+15</td>\n",
       "      <td>2.160199e+16</td>\n",
       "      <td>8.699112e+16</td>\n",
       "      <td>3.503129e+17</td>\n",
       "    </tr>\n",
       "    <tr>\n",
       "      <th>2</th>\n",
       "      <td>6.317310</td>\n",
       "      <td>1.338315</td>\n",
       "      <td>39.908409</td>\n",
       "      <td>1.0</td>\n",
       "      <td>6.317310</td>\n",
       "      <td>252.113801</td>\n",
       "      <td>1592.681102</td>\n",
       "      <td>10061.460667</td>\n",
       "      <td>63561.368701</td>\n",
       "      <td>4.015369e+05</td>\n",
       "      <td>...</td>\n",
       "      <td>1.024812e+16</td>\n",
       "      <td>6.474054e+16</td>\n",
       "      <td>4.089861e+17</td>\n",
       "      <td>2.583692e+18</td>\n",
       "      <td>1.632198e+19</td>\n",
       "      <td>1.031110e+20</td>\n",
       "      <td>6.513844e+20</td>\n",
       "      <td>4.114998e+21</td>\n",
       "      <td>2.599572e+22</td>\n",
       "      <td>1.642230e+23</td>\n",
       "    </tr>\n",
       "    <tr>\n",
       "      <th>3</th>\n",
       "      <td>4.903372</td>\n",
       "      <td>1.570028</td>\n",
       "      <td>24.043062</td>\n",
       "      <td>1.0</td>\n",
       "      <td>4.903372</td>\n",
       "      <td>117.892086</td>\n",
       "      <td>578.068809</td>\n",
       "      <td>2834.486681</td>\n",
       "      <td>13898.543949</td>\n",
       "      <td>6.814974e+04</td>\n",
       "      <td>...</td>\n",
       "      <td>6.455021e+13</td>\n",
       "      <td>3.165137e+14</td>\n",
       "      <td>1.551985e+15</td>\n",
       "      <td>7.609959e+15</td>\n",
       "      <td>3.731446e+16</td>\n",
       "      <td>1.829667e+17</td>\n",
       "      <td>8.971540e+17</td>\n",
       "      <td>4.399080e+18</td>\n",
       "      <td>2.157033e+19</td>\n",
       "      <td>1.057674e+20</td>\n",
       "    </tr>\n",
       "    <tr>\n",
       "      <th>4</th>\n",
       "      <td>8.378021</td>\n",
       "      <td>-10.601133</td>\n",
       "      <td>70.191237</td>\n",
       "      <td>1.0</td>\n",
       "      <td>8.378021</td>\n",
       "      <td>588.063668</td>\n",
       "      <td>4926.809818</td>\n",
       "      <td>41276.916584</td>\n",
       "      <td>345818.877882</td>\n",
       "      <td>2.897278e+06</td>\n",
       "      <td>...</td>\n",
       "      <td>2.902879e+18</td>\n",
       "      <td>2.432038e+19</td>\n",
       "      <td>2.037567e+20</td>\n",
       "      <td>1.707078e+21</td>\n",
       "      <td>1.430193e+22</td>\n",
       "      <td>1.198219e+23</td>\n",
       "      <td>1.003870e+24</td>\n",
       "      <td>8.410448e+24</td>\n",
       "      <td>7.046291e+25</td>\n",
       "      <td>5.903398e+26</td>\n",
       "    </tr>\n",
       "  </tbody>\n",
       "</table>\n",
       "<p>5 rows × 32 columns</p>\n",
       "</div>"
      ],
      "text/plain": [
       "          x          y         x2   x0        x1          x3           x4  \\\n",
       "0  1.940979   5.434375   3.767400  1.0  1.940979    7.312446    14.193305   \n",
       "1  4.026996   7.272862  16.216700  1.0  4.026996   65.304595   262.981372   \n",
       "2  6.317310   1.338315  39.908409  1.0  6.317310  252.113801  1592.681102   \n",
       "3  4.903372   1.570028  24.043062  1.0  4.903372  117.892086   578.068809   \n",
       "4  8.378021 -10.601133  70.191237  1.0  8.378021  588.063668  4926.809818   \n",
       "\n",
       "             x5             x6            x7      ...                x20  \\\n",
       "0     27.548910      53.471862  1.037878e+02      ...       5.759936e+05   \n",
       "1   1059.025053    4264.690131  1.717389e+04      ...       1.257839e+12   \n",
       "2  10061.460667   63561.368701  4.015369e+05      ...       1.024812e+16   \n",
       "3   2834.486681   13898.543949  6.814974e+04      ...       6.455021e+13   \n",
       "4  41276.916584  345818.877882  2.897278e+06      ...       2.902879e+18   \n",
       "\n",
       "            x21           x22           x23           x24           x25  \\\n",
       "0  1.117992e+06  2.169999e+06  4.211922e+06  8.175254e+06  1.586800e+07   \n",
       "1  5.065312e+12  2.039799e+13  8.214264e+13  3.307881e+14  1.332083e+15   \n",
       "2  6.474054e+16  4.089861e+17  2.583692e+18  1.632198e+19  1.031110e+20   \n",
       "3  3.165137e+14  1.551985e+15  7.609959e+15  3.731446e+16  1.829667e+17   \n",
       "4  2.432038e+19  2.037567e+20  1.707078e+21  1.430193e+22  1.198219e+23   \n",
       "\n",
       "            x26           x27           x28           x29  \n",
       "0  3.079945e+07  5.978110e+07  1.160339e+08  2.252193e+08  \n",
       "1  5.364292e+15  2.160199e+16  8.699112e+16  3.503129e+17  \n",
       "2  6.513844e+20  4.114998e+21  2.599572e+22  1.642230e+23  \n",
       "3  8.971540e+17  4.399080e+18  2.157033e+19  1.057674e+20  \n",
       "4  1.003870e+24  8.410448e+24  7.046291e+25  5.903398e+26  \n",
       "\n",
       "[5 rows x 32 columns]"
      ]
     },
     "execution_count": 195,
     "metadata": {},
     "output_type": "execute_result"
    }
   ],
   "source": [
    "df2.head()"
   ]
  },
  {
   "cell_type": "code",
   "execution_count": 196,
   "metadata": {},
   "outputs": [],
   "source": [
    "y = df2.y\n",
    "xs = ['x'+str(i) for i in range(k_max)]\n",
    "lr_model = LinearRegression()\n",
    "metrics = {\n",
    "    'train error': [],\n",
    "    'test error': [],\n",
    "    'R**2': [],\n",
    "    'AIC': []\n",
    "}\n",
    "for i in range(k_max):\n",
    "    X = df2.loc[:,xs[:i+1]]\n",
    "    X_train, X_test, y_train, y_test = train_test_split(X, y, test_size=0.25, random_state=100)\n",
    "    lr_model.fit(X_train, y_train)\n",
    "    metrics['train error'].append(mean_squared_error(y_train, lr_model.predict(X_train)))\n",
    "    metrics['test error'].append(mean_squared_error(y_test, lr_model.predict(X_test)))\n",
    "    metrics['R**2'].append(lr_model.score(X_test, y_test))\n",
    "    metrics['AIC'].append(2*i + 2*(len(X)*np.log(metrics['train error'][-1])))"
   ]
  },
  {
   "cell_type": "code",
   "execution_count": 197,
   "metadata": {},
   "outputs": [
    {
     "data": {
      "image/png": "[encoded data removed]",
      "text/plain": [
       "<matplotlib.figure.Figure at 0x11cbdc690>"
      ]
     },
     "metadata": {},
     "output_type": "display_data"
    }
   ],
   "source": [
    "plt.figure(figsize=(16,4))\n",
    "for i, key in enumerate(metrics):\n",
    "    plt.subplot(1,4,i+1)\n",
    "    plt.bar(range(k_max), metrics[key])\n",
    "    plt.title(key)\n",
    "    "
   ]
  },
  {
   "cell_type": "code",
   "execution_count": 152,
   "metadata": {},
   "outputs": [
    {
     "data": {
      "text/plain": [
       "<matplotlib.axes._subplots.AxesSubplot at 0x11d3ccf90>"
      ]
     },
     "execution_count": 152,
     "metadata": {},
     "output_type": "execute_result"
    }
   ],
   "source": []
  },
  {
   "cell_type": "code",
   "execution_count": 218,
   "metadata": {},
   "outputs": [],
   "source": [
    "errors={\n",
    "    'train':[],\n",
    "    'test':[]\n",
    "}\n",
    "X = df2.loc[:,['x','x2']]\n",
    "X_train, X_test, y_train, y_test = train_test_split(X, y, test_size=0.25, random_state=100)\n",
    "n=0\n",
    "y = df2.y\n",
    "while n < len(X):\n",
    "    n+=5\n",
    "    lr_model.fit(X_train[:n],y_train[:n])\n",
    "    errors['train'].append(mean_squared_error(y_train[:n], lr_model.predict(X_train[:n])))\n",
    "    errors['test'].append(mean_squared_error(y_test, lr_model.predict(X_test)))\n",
    "    \n",
    "    \n",
    "    "
   ]
  },
  {
   "cell_type": "code",
   "execution_count": 225,
   "metadata": {},
   "outputs": [
    {
     "data": {
      "text/plain": [
       "<matplotlib.legend.Legend at 0x11ed8fb50>"
      ]
     },
     "execution_count": 225,
     "metadata": {},
     "output_type": "execute_result"
    },
    {
     "data": {
      "image/png": "[encoded data removed]",
      "text/plain": [
       "<matplotlib.figure.Figure at 0x11ec90a10>"
      ]
     },
     "metadata": {},
     "output_type": "display_data"
    }
   ],
   "source": [
    "plt.plot(errors['train'], label= 'train')\n",
    "plt.plot(errors['test'], label= 'test')\n",
    "plt.legend()\n"
   ]
  },
  {
   "cell_type": "code",
   "execution_count": null,
   "metadata": {
    "collapsed": true
   },
   "outputs": [],
   "source": []
  },
  {
   "cell_type": "code",
   "execution_count": null,
   "metadata": {
    "collapsed": true
   },
   "outputs": [],
   "source": []
  }
 ],
 "metadata": {
  "kernelspec": {
   "display_name": "Python 2",
   "language": "python",
   "name": "python2"
  },
  "language_info": {
   "codemirror_mode": {
    "name": "ipython",
    "version": 2
   },
   "file_extension": ".py",
   "mimetype": "text/x-python",
   "name": "python",
   "nbconvert_exporter": "python",
   "pygments_lexer": "ipython2",
   "version": "2.7.13"
  }
 },
 "nbformat": 4,
 "nbformat_minor": 2
}
