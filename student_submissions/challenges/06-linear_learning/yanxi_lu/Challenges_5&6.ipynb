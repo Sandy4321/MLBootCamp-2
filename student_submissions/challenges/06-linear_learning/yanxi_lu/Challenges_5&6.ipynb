{
 "cells": [
  {
   "cell_type": "code",
   "execution_count": 304,
   "metadata": {
    "collapsed": true
   },
   "outputs": [],
   "source": [
    "from __future__ import print_function, division"
   ]
  },
  {
   "cell_type": "code",
   "execution_count": 305,
   "metadata": {},
   "outputs": [],
   "source": [
    "import requests\n",
    "import time\n",
    "from bs4 import BeautifulSoup\n",
    "import random\n",
    "# import urllib2\n",
    "# from urllib2 import URLError\n",
    "import time\n",
    "import re\n",
    "import sys\n",
    "import statsmodels.api as sm\n",
    "import statsmodels.formula.api as smf"
   ]
  },
  {
   "cell_type": "code",
   "execution_count": 306,
   "metadata": {
    "collapsed": true
   },
   "outputs": [],
   "source": [
    "import pandas as pd\n",
    "import numpy as np\n",
    "import matplotlib.pyplot as plt\n",
    "import datetime as dt\n",
    "import matplotlib.dates as mdates\n",
    "import scipy.stats\n",
    "\n",
    "from IPython.display import Image\n",
    "%matplotlib inline"
   ]
  },
  {
   "cell_type": "code",
   "execution_count": 307,
   "metadata": {
    "collapsed": true
   },
   "outputs": [],
   "source": [
    "from __future__ import print_function, division\n",
    "import requests\n",
    "import time\n",
    "from bs4 import BeautifulSoup\n",
    "import random\n",
    "import pandas as pd\n",
    "import numpy as np\n",
    "import matplotlib.pyplot as plt\n",
    "import re\n",
    "import sys\n",
    "from collections import defaultdict\n",
    "\n",
    "from IPython.display import Image\n",
    "%matplotlib inline\n",
    "from sklearn.metrics import mean_absolute_error, mean_squared_error\n",
    "from sklearn.metrics import r2_score\n",
    "from sklearn.pipeline import Pipeline\n",
    "from sklearn.preprocessing import StandardScaler\n",
    "from sklearn.externals.six import StringIO\n",
    "from sklearn import tree\n",
    "from sklearn.ensemble import RandomForestRegressor\n",
    "from sklearn.preprocessing import PolynomialFeatures"
   ]
  },
  {
   "cell_type": "code",
   "execution_count": 308,
   "metadata": {},
   "outputs": [],
   "source": [
    "import seaborn as sns\n",
    "#import ml_insights as mli\n",
    "\n",
    "# To Plot matplotlib figures inline on the notebook\n",
    "%matplotlib inline\n",
    "\n",
    "#from sklearn.model_selection import train_test_split\n",
    "from sklearn.cross_validation import train_test_split\n",
    "\n",
    "from sklearn.linear_model import LinearRegression, Lasso, LassoCV"
   ]
  },
  {
   "cell_type": "code",
   "execution_count": 309,
   "metadata": {
    "collapsed": true
   },
   "outputs": [],
   "source": [
    "# Top grossing 100 movies from 2016.\n",
    "url = \"http://www.boxofficemojo.com/yearly/chart/?yr=2016&view=releasedate&view2=domestic&sort=gross&order=DESC&&p=.htm\"\n",
    "response = requests.get(url)\n",
    "response.status_code\n",
    "page = response.text\n",
    "soup = BeautifulSoup(page, \"lxml\")\n",
    "tables = soup.find_all(\"table\")\n",
    "rows=[row for row in tables[3].find_all('tr')]"
   ]
  },
  {
   "cell_type": "code",
   "execution_count": 310,
   "metadata": {
    "collapsed": true
   },
   "outputs": [],
   "source": [
    "#get the table in the webpage including name of movie, total_gross, open and close information, etc\n",
    "movies={}\n",
    "for row in rows[6:106]:\n",
    "    items=row.find_all('td')\n",
    "    title=items[1].find('a')['href'][14:-4]\n",
    "    movies[title] = [i.text for i in items[1:]]\n",
    "list(movies.items());\n",
    "box_office = list(movies.items())\n",
    "df = pd.DataFrame.from_items(box_office).T\n",
    "df = df.reset_index()\n",
    "df = df[[0,1,2,3,4,5,6,7]]\n",
    "df = df.rename(columns={0:\"Movie\",1:\"Studio\",2:\"Total_Gross\",3:\"Theaters\",4:\"Opening\",5:\"Theaters2\",6:\"Open\",7:\"Close\"})"
   ]
  },
  {
   "cell_type": "code",
   "execution_count": 311,
   "metadata": {
    "collapsed": true
   },
   "outputs": [],
   "source": [
    "#generate the links of each movies based on their names to get more information\n",
    "linklist = []\n",
    "for row in rows[6:106]:\n",
    "    items = row.find_all(\"td\")\n",
    "    link = items[1].find(\"a\")['href']\n",
    "    linklist.append((\"http://www.boxofficemojo.com/\"+link))  \n",
    "linklist;"
   ]
  },
  {
   "cell_type": "code",
   "execution_count": 312,
   "metadata": {
    "collapsed": true
   },
   "outputs": [],
   "source": [
    "# In each link, extract the information including Runtime, MPAA, Rating, Production Budget,Director which are not in the \n",
    "#orignal tables.\n",
    "def getrunrating(linklist):\n",
    "    runtime_list =[]\n",
    "    rating_list =[]\n",
    "    budget_list = []\n",
    "    director_list = []\n",
    "    for link2 in linklist:\n",
    "        response2 = requests.get(link2)\n",
    "        page2 = response2.text\n",
    "        soup2 = BeautifulSoup(page2, \"lxml\")\n",
    "        tables2 = soup2.find_all(\"table\")\n",
    "        rows=[row for row in tables[3].find_all('tr')]\n",
    "\n",
    "        dtg_string2 = soup2.find(text=re.compile('Runtime'))\n",
    "        runtime_list.append(dtg_string2.findNext().text)\n",
    "\n",
    "        dtg_string3 = soup2.find(text=re.compile('MPAA Rating'))\n",
    "        rating_list.append(dtg_string3.findNext().text)\n",
    "        \n",
    "        dtg_string4 = soup2.find(text=re.compile('Production Budget'))\n",
    "        budget_list.append(dtg_string4.findNext().text)\n",
    "        \n",
    "        try:\n",
    "            dtg_string5 = soup2.find(text=re.compile('Director'))\n",
    "            director_list.append(dtg_string5.findNext().text)\n",
    "        except:\n",
    "            director_list.append(\"N/A\")\n",
    "    return runtime_list,rating_list,budget_list,director_list"
   ]
  },
  {
   "cell_type": "code",
   "execution_count": 313,
   "metadata": {
    "collapsed": true
   },
   "outputs": [],
   "source": [
    "#Call the function above\n",
    "runtime_list,rating_list,budget_list,director_list = getrunrating(linklist)"
   ]
  },
  {
   "cell_type": "code",
   "execution_count": 314,
   "metadata": {
    "collapsed": true
   },
   "outputs": [],
   "source": [
    "#Incorporate the information above into the orginal table\n",
    "df[\"Runtime\"] = runtime_list\n",
    "df[\"Rating\"] = rating_list\n",
    "df[\"Budget\"] = budget_list\n",
    "df[\"Director\"] = director_list"
   ]
  },
  {
   "cell_type": "code",
   "execution_count": 315,
   "metadata": {
    "collapsed": true
   },
   "outputs": [],
   "source": [
    "#data clean\n",
    "run_time =lambda x:pd.datetime.strptime(x, \"%H hrs. %M min.\").hour*60+pd.datetime.strptime(x, \"%H hrs. %M min.\").minute*1\n",
    "df[\"Runtime\"] = df[\"Runtime\"].apply(run_time)\n",
    "df[\"Budget\"] = df[\"Budget\"].apply(lambda x:1000000 if x == \"N/A\" else float(x[1:-8])*1000000)\n",
    "df[\"Total_Gross\"] = df[\"Total_Gross\"].apply(lambda x:int(x.replace(\",\",\"\")[1:]))\n",
    "df = df.drop(['Opening', \"Theaters\",\"Theaters2\"],axis=1)\n",
    "df[\"Open\"] = df[\"Open\"].apply(lambda x:x+\"/2016\")\n",
    "df[\"Open\"] = df[\"Open\"].apply(lambda x:dt.datetime.strptime(x,\"%m/%d/%Y\").date())"
   ]
  },
  {
   "cell_type": "code",
   "execution_count": 316,
   "metadata": {},
   "outputs": [
    {
     "data": {
      "text/plain": [
       "array(['PG-13', 'PG', 'R'], dtype=object)"
      ]
     },
     "execution_count": 316,
     "metadata": {},
     "output_type": "execute_result"
    }
   ],
   "source": [
    "df[\"Rating\"].unique()"
   ]
  },
  {
   "cell_type": "code",
   "execution_count": 317,
   "metadata": {},
   "outputs": [
    {
     "data": {
      "text/html": [
       "<div>\n",
       "<style>\n",
       "    .dataframe thead tr:only-child th {\n",
       "        text-align: right;\n",
       "    }\n",
       "\n",
       "    .dataframe thead th {\n",
       "        text-align: left;\n",
       "    }\n",
       "\n",
       "    .dataframe tbody tr th {\n",
       "        vertical-align: top;\n",
       "    }\n",
       "</style>\n",
       "<table border=\"1\" class=\"dataframe\">\n",
       "  <thead>\n",
       "    <tr style=\"text-align: right;\">\n",
       "      <th></th>\n",
       "      <th>Movie</th>\n",
       "      <th>Studio</th>\n",
       "      <th>Total_Gross</th>\n",
       "      <th>Open</th>\n",
       "      <th>Close</th>\n",
       "      <th>Runtime</th>\n",
       "      <th>Rating</th>\n",
       "      <th>Budget</th>\n",
       "      <th>Director</th>\n",
       "    </tr>\n",
       "  </thead>\n",
       "  <tbody>\n",
       "    <tr>\n",
       "      <th>0</th>\n",
       "      <td>Rogue One: A Star Wars Story</td>\n",
       "      <td>BV</td>\n",
       "      <td>532177324</td>\n",
       "      <td>2016-12-16</td>\n",
       "      <td>5/4</td>\n",
       "      <td>133</td>\n",
       "      <td>1</td>\n",
       "      <td>200000000.0</td>\n",
       "      <td>Gareth Edwards</td>\n",
       "    </tr>\n",
       "    <tr>\n",
       "      <th>1</th>\n",
       "      <td>Finding Dory</td>\n",
       "      <td>BV</td>\n",
       "      <td>486295561</td>\n",
       "      <td>2016-06-17</td>\n",
       "      <td>12/8</td>\n",
       "      <td>103</td>\n",
       "      <td>2</td>\n",
       "      <td>1000000.0</td>\n",
       "      <td>Angus MacLane (co-director)Andrew Stanton</td>\n",
       "    </tr>\n",
       "    <tr>\n",
       "      <th>2</th>\n",
       "      <td>Captain America: Civil War</td>\n",
       "      <td>BV</td>\n",
       "      <td>408084349</td>\n",
       "      <td>2016-05-06</td>\n",
       "      <td>9/22</td>\n",
       "      <td>147</td>\n",
       "      <td>1</td>\n",
       "      <td>250000000.0</td>\n",
       "      <td>Anthony RussoJoe Russo</td>\n",
       "    </tr>\n",
       "    <tr>\n",
       "      <th>3</th>\n",
       "      <td>The Secret Life of Pets</td>\n",
       "      <td>Uni.</td>\n",
       "      <td>368384330</td>\n",
       "      <td>2016-07-08</td>\n",
       "      <td>12/29</td>\n",
       "      <td>90</td>\n",
       "      <td>2</td>\n",
       "      <td>75000000.0</td>\n",
       "      <td>Chris Renaud</td>\n",
       "    </tr>\n",
       "    <tr>\n",
       "      <th>4</th>\n",
       "      <td>The Jungle Book (2016)</td>\n",
       "      <td>BV</td>\n",
       "      <td>364001123</td>\n",
       "      <td>2016-04-15</td>\n",
       "      <td>9/29</td>\n",
       "      <td>105</td>\n",
       "      <td>2</td>\n",
       "      <td>175000000.0</td>\n",
       "      <td>Jon Favreau</td>\n",
       "    </tr>\n",
       "    <tr>\n",
       "      <th>5</th>\n",
       "      <td>Deadpool</td>\n",
       "      <td>Fox</td>\n",
       "      <td>363070709</td>\n",
       "      <td>2016-02-12</td>\n",
       "      <td>6/16</td>\n",
       "      <td>106</td>\n",
       "      <td>3</td>\n",
       "      <td>58000000.0</td>\n",
       "      <td>Tim Miller</td>\n",
       "    </tr>\n",
       "    <tr>\n",
       "      <th>6</th>\n",
       "      <td>Zootopia</td>\n",
       "      <td>BV</td>\n",
       "      <td>341268248</td>\n",
       "      <td>2016-03-04</td>\n",
       "      <td>8/4</td>\n",
       "      <td>108</td>\n",
       "      <td>2</td>\n",
       "      <td>1000000.0</td>\n",
       "      <td>Byron HowardRich Moore</td>\n",
       "    </tr>\n",
       "    <tr>\n",
       "      <th>7</th>\n",
       "      <td>Batman v Superman: Dawn of Justice</td>\n",
       "      <td>WB</td>\n",
       "      <td>330360194</td>\n",
       "      <td>2016-03-25</td>\n",
       "      <td>6/16</td>\n",
       "      <td>151</td>\n",
       "      <td>1</td>\n",
       "      <td>250000000.0</td>\n",
       "      <td>Zack Snyder</td>\n",
       "    </tr>\n",
       "    <tr>\n",
       "      <th>8</th>\n",
       "      <td>Suicide Squad</td>\n",
       "      <td>WB</td>\n",
       "      <td>325100054</td>\n",
       "      <td>2016-08-05</td>\n",
       "      <td>11/10</td>\n",
       "      <td>130</td>\n",
       "      <td>1</td>\n",
       "      <td>175000000.0</td>\n",
       "      <td>David Ayer</td>\n",
       "    </tr>\n",
       "    <tr>\n",
       "      <th>9</th>\n",
       "      <td>Sing</td>\n",
       "      <td>Uni.</td>\n",
       "      <td>270329045</td>\n",
       "      <td>2016-12-21</td>\n",
       "      <td>5/4</td>\n",
       "      <td>110</td>\n",
       "      <td>2</td>\n",
       "      <td>75000000.0</td>\n",
       "      <td>Garth Jennings</td>\n",
       "    </tr>\n",
       "    <tr>\n",
       "      <th>10</th>\n",
       "      <td>Moana</td>\n",
       "      <td>BV</td>\n",
       "      <td>248757044</td>\n",
       "      <td>2016-11-23</td>\n",
       "      <td>4/27</td>\n",
       "      <td>103</td>\n",
       "      <td>2</td>\n",
       "      <td>1000000.0</td>\n",
       "      <td>Ron ClementsJohn Musker</td>\n",
       "    </tr>\n",
       "    <tr>\n",
       "      <th>11</th>\n",
       "      <td>Fantastic Beasts and Where To Find Them</td>\n",
       "      <td>WB</td>\n",
       "      <td>234037575</td>\n",
       "      <td>2016-11-18</td>\n",
       "      <td>3/30</td>\n",
       "      <td>140</td>\n",
       "      <td>1</td>\n",
       "      <td>180000000.0</td>\n",
       "      <td>David Yates</td>\n",
       "    </tr>\n",
       "    <tr>\n",
       "      <th>12</th>\n",
       "      <td>Doctor Strange</td>\n",
       "      <td>BV</td>\n",
       "      <td>232641920</td>\n",
       "      <td>2016-11-04</td>\n",
       "      <td>3/16</td>\n",
       "      <td>115</td>\n",
       "      <td>1</td>\n",
       "      <td>165000000.0</td>\n",
       "      <td>Scott Derrickson</td>\n",
       "    </tr>\n",
       "    <tr>\n",
       "      <th>13</th>\n",
       "      <td>Hidden Figures</td>\n",
       "      <td>Fox</td>\n",
       "      <td>169385722</td>\n",
       "      <td>2016-12-25</td>\n",
       "      <td>-</td>\n",
       "      <td>127</td>\n",
       "      <td>2</td>\n",
       "      <td>25000000.0</td>\n",
       "      <td>Theodore Melfi</td>\n",
       "    </tr>\n",
       "    <tr>\n",
       "      <th>14</th>\n",
       "      <td>Jason Bourne</td>\n",
       "      <td>Uni.</td>\n",
       "      <td>162434410</td>\n",
       "      <td>2016-07-29</td>\n",
       "      <td>12/22</td>\n",
       "      <td>123</td>\n",
       "      <td>1</td>\n",
       "      <td>120000000.0</td>\n",
       "      <td>Paul Greengrass</td>\n",
       "    </tr>\n",
       "    <tr>\n",
       "      <th>15</th>\n",
       "      <td>Star Trek Beyond</td>\n",
       "      <td>Par.</td>\n",
       "      <td>158848340</td>\n",
       "      <td>2016-07-22</td>\n",
       "      <td>10/20</td>\n",
       "      <td>120</td>\n",
       "      <td>1</td>\n",
       "      <td>185000000.0</td>\n",
       "      <td>Justin Lin</td>\n",
       "    </tr>\n",
       "    <tr>\n",
       "      <th>16</th>\n",
       "      <td>X-Men: Apocalypse</td>\n",
       "      <td>Fox</td>\n",
       "      <td>155442489</td>\n",
       "      <td>2016-05-27</td>\n",
       "      <td>7/28</td>\n",
       "      <td>143</td>\n",
       "      <td>1</td>\n",
       "      <td>178000000.0</td>\n",
       "      <td>Bryan Singer</td>\n",
       "    </tr>\n",
       "    <tr>\n",
       "      <th>17</th>\n",
       "      <td>Trolls</td>\n",
       "      <td>Fox</td>\n",
       "      <td>153707064</td>\n",
       "      <td>2016-11-04</td>\n",
       "      <td>3/30</td>\n",
       "      <td>94</td>\n",
       "      <td>2</td>\n",
       "      <td>125000000.0</td>\n",
       "      <td>Mike Mitchell</td>\n",
       "    </tr>\n",
       "    <tr>\n",
       "      <th>18</th>\n",
       "      <td>La La Land</td>\n",
       "      <td>LG/S</td>\n",
       "      <td>151101803</td>\n",
       "      <td>2016-12-09</td>\n",
       "      <td>4/27</td>\n",
       "      <td>128</td>\n",
       "      <td>1</td>\n",
       "      <td>30000000.0</td>\n",
       "      <td>Damien Chazelle</td>\n",
       "    </tr>\n",
       "    <tr>\n",
       "      <th>19</th>\n",
       "      <td>Kung Fu Panda 3</td>\n",
       "      <td>Fox</td>\n",
       "      <td>143528619</td>\n",
       "      <td>2016-01-29</td>\n",
       "      <td>7/21</td>\n",
       "      <td>95</td>\n",
       "      <td>2</td>\n",
       "      <td>145000000.0</td>\n",
       "      <td>Alessandro CarloniJennifer Yuh Nelson</td>\n",
       "    </tr>\n",
       "    <tr>\n",
       "      <th>20</th>\n",
       "      <td>Ghostbusters (2016)</td>\n",
       "      <td>Sony</td>\n",
       "      <td>128350574</td>\n",
       "      <td>2016-07-15</td>\n",
       "      <td>11/10</td>\n",
       "      <td>108</td>\n",
       "      <td>1</td>\n",
       "      <td>144000000.0</td>\n",
       "      <td>Paul Feig</td>\n",
       "    </tr>\n",
       "    <tr>\n",
       "      <th>21</th>\n",
       "      <td>Central Intelligence</td>\n",
       "      <td>WB (NL)</td>\n",
       "      <td>127440871</td>\n",
       "      <td>2016-06-17</td>\n",
       "      <td>9/1</td>\n",
       "      <td>107</td>\n",
       "      <td>1</td>\n",
       "      <td>50000000.0</td>\n",
       "      <td>Rawson Marshall Thurber</td>\n",
       "    </tr>\n",
       "    <tr>\n",
       "      <th>22</th>\n",
       "      <td>The Legend of Tarzan</td>\n",
       "      <td>WB</td>\n",
       "      <td>126643061</td>\n",
       "      <td>2016-07-01</td>\n",
       "      <td>9/15</td>\n",
       "      <td>109</td>\n",
       "      <td>1</td>\n",
       "      <td>180000000.0</td>\n",
       "      <td>David Yates</td>\n",
       "    </tr>\n",
       "    <tr>\n",
       "      <th>23</th>\n",
       "      <td>Sully</td>\n",
       "      <td>WB</td>\n",
       "      <td>125070033</td>\n",
       "      <td>2016-09-09</td>\n",
       "      <td>1/26</td>\n",
       "      <td>96</td>\n",
       "      <td>1</td>\n",
       "      <td>60000000.0</td>\n",
       "      <td>Clint Eastwood</td>\n",
       "    </tr>\n",
       "    <tr>\n",
       "      <th>24</th>\n",
       "      <td>Bad Moms</td>\n",
       "      <td>STX</td>\n",
       "      <td>113257297</td>\n",
       "      <td>2016-07-29</td>\n",
       "      <td>10/27</td>\n",
       "      <td>101</td>\n",
       "      <td>3</td>\n",
       "      <td>20000000.0</td>\n",
       "      <td>Jon LucasScott Moore</td>\n",
       "    </tr>\n",
       "    <tr>\n",
       "      <th>25</th>\n",
       "      <td>The Angry Birds Movie</td>\n",
       "      <td>Sony</td>\n",
       "      <td>107509366</td>\n",
       "      <td>2016-05-20</td>\n",
       "      <td>9/15</td>\n",
       "      <td>97</td>\n",
       "      <td>2</td>\n",
       "      <td>73000000.0</td>\n",
       "      <td>Clay KaytisFergal Reilly</td>\n",
       "    </tr>\n",
       "    <tr>\n",
       "      <th>26</th>\n",
       "      <td>Independence Day: Resurgence</td>\n",
       "      <td>Fox</td>\n",
       "      <td>103144286</td>\n",
       "      <td>2016-06-24</td>\n",
       "      <td>9/15</td>\n",
       "      <td>120</td>\n",
       "      <td>1</td>\n",
       "      <td>165000000.0</td>\n",
       "      <td>Roland Emmerich</td>\n",
       "    </tr>\n",
       "    <tr>\n",
       "      <th>27</th>\n",
       "      <td>The Conjuring 2</td>\n",
       "      <td>WB (NL)</td>\n",
       "      <td>102470008</td>\n",
       "      <td>2016-06-10</td>\n",
       "      <td>8/25</td>\n",
       "      <td>134</td>\n",
       "      <td>3</td>\n",
       "      <td>40000000.0</td>\n",
       "      <td>James Wan</td>\n",
       "    </tr>\n",
       "    <tr>\n",
       "      <th>28</th>\n",
       "      <td>Arrival</td>\n",
       "      <td>Par.</td>\n",
       "      <td>100546139</td>\n",
       "      <td>2016-11-11</td>\n",
       "      <td>3/9</td>\n",
       "      <td>116</td>\n",
       "      <td>1</td>\n",
       "      <td>47000000.0</td>\n",
       "      <td>Denis Villeneuve</td>\n",
       "    </tr>\n",
       "    <tr>\n",
       "      <th>29</th>\n",
       "      <td>Passengers (2016)</td>\n",
       "      <td>Sony</td>\n",
       "      <td>100014699</td>\n",
       "      <td>2016-12-21</td>\n",
       "      <td>4/20</td>\n",
       "      <td>116</td>\n",
       "      <td>1</td>\n",
       "      <td>110000000.0</td>\n",
       "      <td>Morten Tyldum</td>\n",
       "    </tr>\n",
       "    <tr>\n",
       "      <th>...</th>\n",
       "      <td>...</td>\n",
       "      <td>...</td>\n",
       "      <td>...</td>\n",
       "      <td>...</td>\n",
       "      <td>...</td>\n",
       "      <td>...</td>\n",
       "      <td>...</td>\n",
       "      <td>...</td>\n",
       "      <td>...</td>\n",
       "    </tr>\n",
       "    <tr>\n",
       "      <th>70</th>\n",
       "      <td>How to Be Single</td>\n",
       "      <td>WB (NL)</td>\n",
       "      <td>46843513</td>\n",
       "      <td>2016-02-12</td>\n",
       "      <td>4/14</td>\n",
       "      <td>110</td>\n",
       "      <td>3</td>\n",
       "      <td>38000000.0</td>\n",
       "      <td>N/A</td>\n",
       "    </tr>\n",
       "    <tr>\n",
       "      <th>71</th>\n",
       "      <td>Mike and Dave Need Wedding Dates</td>\n",
       "      <td>Fox</td>\n",
       "      <td>46009673</td>\n",
       "      <td>2016-07-08</td>\n",
       "      <td>10/13</td>\n",
       "      <td>98</td>\n",
       "      <td>3</td>\n",
       "      <td>33000000.0</td>\n",
       "      <td>N/A</td>\n",
       "    </tr>\n",
       "    <tr>\n",
       "      <th>72</th>\n",
       "      <td>War Dogs</td>\n",
       "      <td>WB</td>\n",
       "      <td>43034523</td>\n",
       "      <td>2016-08-19</td>\n",
       "      <td>10/20</td>\n",
       "      <td>114</td>\n",
       "      <td>3</td>\n",
       "      <td>1000000.0</td>\n",
       "      <td>Todd Phillips</td>\n",
       "    </tr>\n",
       "    <tr>\n",
       "      <th>73</th>\n",
       "      <td>Almost Christmas</td>\n",
       "      <td>Uni.</td>\n",
       "      <td>42065185</td>\n",
       "      <td>2016-11-11</td>\n",
       "      <td>1/5</td>\n",
       "      <td>112</td>\n",
       "      <td>1</td>\n",
       "      <td>17000000.0</td>\n",
       "      <td>David E. Talbert</td>\n",
       "    </tr>\n",
       "    <tr>\n",
       "      <th>74</th>\n",
       "      <td>Money Monster</td>\n",
       "      <td>TriS</td>\n",
       "      <td>41012075</td>\n",
       "      <td>2016-05-13</td>\n",
       "      <td>8/4</td>\n",
       "      <td>95</td>\n",
       "      <td>3</td>\n",
       "      <td>27000000.0</td>\n",
       "      <td>Jodie Foster</td>\n",
       "    </tr>\n",
       "    <tr>\n",
       "      <th>75</th>\n",
       "      <td>Allied</td>\n",
       "      <td>Par.</td>\n",
       "      <td>40098064</td>\n",
       "      <td>2016-11-23</td>\n",
       "      <td>1/26</td>\n",
       "      <td>121</td>\n",
       "      <td>3</td>\n",
       "      <td>85000000.0</td>\n",
       "      <td>Robert Zemeckis</td>\n",
       "    </tr>\n",
       "    <tr>\n",
       "      <th>76</th>\n",
       "      <td>Nerve</td>\n",
       "      <td>LGF</td>\n",
       "      <td>38583626</td>\n",
       "      <td>2016-07-27</td>\n",
       "      <td>10/6</td>\n",
       "      <td>96</td>\n",
       "      <td>1</td>\n",
       "      <td>19000000.0</td>\n",
       "      <td>Henry JoostAriel Schulman</td>\n",
       "    </tr>\n",
       "    <tr>\n",
       "      <th>77</th>\n",
       "      <td>Risen</td>\n",
       "      <td>Sony</td>\n",
       "      <td>36880033</td>\n",
       "      <td>2016-02-19</td>\n",
       "      <td>5/19</td>\n",
       "      <td>107</td>\n",
       "      <td>1</td>\n",
       "      <td>20000000.0</td>\n",
       "      <td>Kevin Reynolds</td>\n",
       "    </tr>\n",
       "    <tr>\n",
       "      <th>78</th>\n",
       "      <td>The Nice Guys</td>\n",
       "      <td>WB</td>\n",
       "      <td>36261763</td>\n",
       "      <td>2016-05-20</td>\n",
       "      <td>8/4</td>\n",
       "      <td>116</td>\n",
       "      <td>3</td>\n",
       "      <td>50000000.0</td>\n",
       "      <td>Shane Black</td>\n",
       "    </tr>\n",
       "    <tr>\n",
       "      <th>79</th>\n",
       "      <td>The Boy (2016)</td>\n",
       "      <td>STX</td>\n",
       "      <td>35819556</td>\n",
       "      <td>2016-01-22</td>\n",
       "      <td>3/31</td>\n",
       "      <td>98</td>\n",
       "      <td>1</td>\n",
       "      <td>10000000.0</td>\n",
       "      <td>William Brent Bell</td>\n",
       "    </tr>\n",
       "    <tr>\n",
       "      <th>80</th>\n",
       "      <td>Dirty Grandpa</td>\n",
       "      <td>LGF</td>\n",
       "      <td>35593113</td>\n",
       "      <td>2016-01-22</td>\n",
       "      <td>3/17</td>\n",
       "      <td>102</td>\n",
       "      <td>3</td>\n",
       "      <td>25000000.0</td>\n",
       "      <td>N/A</td>\n",
       "    </tr>\n",
       "    <tr>\n",
       "      <th>81</th>\n",
       "      <td>Ouija: Origin of Evil</td>\n",
       "      <td>Uni.</td>\n",
       "      <td>35144505</td>\n",
       "      <td>2016-10-21</td>\n",
       "      <td>12/29</td>\n",
       "      <td>99</td>\n",
       "      <td>1</td>\n",
       "      <td>9000000.0</td>\n",
       "      <td>Mike Flanagan</td>\n",
       "    </tr>\n",
       "    <tr>\n",
       "      <th>82</th>\n",
       "      <td>The 5th Wave</td>\n",
       "      <td>Sony</td>\n",
       "      <td>34916787</td>\n",
       "      <td>2016-01-22</td>\n",
       "      <td>5/26</td>\n",
       "      <td>112</td>\n",
       "      <td>1</td>\n",
       "      <td>38000000.0</td>\n",
       "      <td>N/A</td>\n",
       "    </tr>\n",
       "    <tr>\n",
       "      <th>83</th>\n",
       "      <td>Inferno</td>\n",
       "      <td>Sony</td>\n",
       "      <td>34343574</td>\n",
       "      <td>2016-10-28</td>\n",
       "      <td>1/19</td>\n",
       "      <td>121</td>\n",
       "      <td>1</td>\n",
       "      <td>75000000.0</td>\n",
       "      <td>Ron Howard</td>\n",
       "    </tr>\n",
       "    <tr>\n",
       "      <th>84</th>\n",
       "      <td>Mother's Day</td>\n",
       "      <td>ORF</td>\n",
       "      <td>32492859</td>\n",
       "      <td>2016-04-29</td>\n",
       "      <td>6/16</td>\n",
       "      <td>118</td>\n",
       "      <td>1</td>\n",
       "      <td>25000000.0</td>\n",
       "      <td>Garry Marshall</td>\n",
       "    </tr>\n",
       "    <tr>\n",
       "      <th>85</th>\n",
       "      <td>Patriots Day</td>\n",
       "      <td>LGF</td>\n",
       "      <td>31886361</td>\n",
       "      <td>2016-12-21</td>\n",
       "      <td>3/9</td>\n",
       "      <td>130</td>\n",
       "      <td>3</td>\n",
       "      <td>45000000.0</td>\n",
       "      <td>Peter Berg</td>\n",
       "    </tr>\n",
       "    <tr>\n",
       "      <th>86</th>\n",
       "      <td>Gods of Egypt</td>\n",
       "      <td>LG/S</td>\n",
       "      <td>31153464</td>\n",
       "      <td>2016-02-26</td>\n",
       "      <td>5/12</td>\n",
       "      <td>127</td>\n",
       "      <td>1</td>\n",
       "      <td>140000000.0</td>\n",
       "      <td>Alex Proyas</td>\n",
       "    </tr>\n",
       "    <tr>\n",
       "      <th>87</th>\n",
       "      <td>Collateral Beauty</td>\n",
       "      <td>WB (NL)</td>\n",
       "      <td>31016021</td>\n",
       "      <td>2016-12-16</td>\n",
       "      <td>2/9</td>\n",
       "      <td>94</td>\n",
       "      <td>1</td>\n",
       "      <td>36000000.0</td>\n",
       "      <td>David Frankel</td>\n",
       "    </tr>\n",
       "    <tr>\n",
       "      <th>88</th>\n",
       "      <td>Hail, Caesar!</td>\n",
       "      <td>Uni.</td>\n",
       "      <td>30498085</td>\n",
       "      <td>2016-02-05</td>\n",
       "      <td>6/30</td>\n",
       "      <td>100</td>\n",
       "      <td>1</td>\n",
       "      <td>22000000.0</td>\n",
       "      <td>Ethan CoenJoel Coen</td>\n",
       "    </tr>\n",
       "    <tr>\n",
       "      <th>89</th>\n",
       "      <td>When the Bough Breaks</td>\n",
       "      <td>SGem</td>\n",
       "      <td>29747603</td>\n",
       "      <td>2016-09-09</td>\n",
       "      <td>11/17</td>\n",
       "      <td>107</td>\n",
       "      <td>1</td>\n",
       "      <td>10000000.0</td>\n",
       "      <td>N/A</td>\n",
       "    </tr>\n",
       "    <tr>\n",
       "      <th>90</th>\n",
       "      <td>Zoolander 2</td>\n",
       "      <td>Par.</td>\n",
       "      <td>28848693</td>\n",
       "      <td>2016-02-12</td>\n",
       "      <td>3/31</td>\n",
       "      <td>100</td>\n",
       "      <td>1</td>\n",
       "      <td>1000000.0</td>\n",
       "      <td>Ben Stiller</td>\n",
       "    </tr>\n",
       "    <tr>\n",
       "      <th>91</th>\n",
       "      <td>Moonlight (2016)</td>\n",
       "      <td>A24</td>\n",
       "      <td>27854932</td>\n",
       "      <td>2016-10-21</td>\n",
       "      <td>5/4</td>\n",
       "      <td>110</td>\n",
       "      <td>3</td>\n",
       "      <td>4000000.0</td>\n",
       "      <td>N/A</td>\n",
       "    </tr>\n",
       "    <tr>\n",
       "      <th>92</th>\n",
       "      <td>The Finest Hours</td>\n",
       "      <td>BV</td>\n",
       "      <td>27569558</td>\n",
       "      <td>2016-01-29</td>\n",
       "      <td>4/7</td>\n",
       "      <td>109</td>\n",
       "      <td>1</td>\n",
       "      <td>1000000.0</td>\n",
       "      <td>Craig Gillespie</td>\n",
       "    </tr>\n",
       "    <tr>\n",
       "      <th>93</th>\n",
       "      <td>Florence Foster Jenkins</td>\n",
       "      <td>Par.</td>\n",
       "      <td>27383770</td>\n",
       "      <td>2016-08-12</td>\n",
       "      <td>10/27</td>\n",
       "      <td>110</td>\n",
       "      <td>1</td>\n",
       "      <td>29000000.0</td>\n",
       "      <td>Stephen Frears</td>\n",
       "    </tr>\n",
       "    <tr>\n",
       "      <th>94</th>\n",
       "      <td>Hell or High Water</td>\n",
       "      <td>LGF</td>\n",
       "      <td>27007844</td>\n",
       "      <td>2016-08-12</td>\n",
       "      <td>11/17</td>\n",
       "      <td>102</td>\n",
       "      <td>3</td>\n",
       "      <td>12000000.0</td>\n",
       "      <td>N/A</td>\n",
       "    </tr>\n",
       "    <tr>\n",
       "      <th>95</th>\n",
       "      <td>The Forest</td>\n",
       "      <td>Focus</td>\n",
       "      <td>26594261</td>\n",
       "      <td>2016-01-08</td>\n",
       "      <td>3/17</td>\n",
       "      <td>95</td>\n",
       "      <td>1</td>\n",
       "      <td>10000000.0</td>\n",
       "      <td>N/A</td>\n",
       "    </tr>\n",
       "    <tr>\n",
       "      <th>96</th>\n",
       "      <td>Ben-Hur (2016)</td>\n",
       "      <td>Par.</td>\n",
       "      <td>26410477</td>\n",
       "      <td>2016-08-19</td>\n",
       "      <td>10/6</td>\n",
       "      <td>123</td>\n",
       "      <td>1</td>\n",
       "      <td>100000000.0</td>\n",
       "      <td>Timur Bekmambetov</td>\n",
       "    </tr>\n",
       "    <tr>\n",
       "      <th>97</th>\n",
       "      <td>The Witch</td>\n",
       "      <td>A24</td>\n",
       "      <td>25138705</td>\n",
       "      <td>2016-02-19</td>\n",
       "      <td>5/26</td>\n",
       "      <td>92</td>\n",
       "      <td>3</td>\n",
       "      <td>4000000.0</td>\n",
       "      <td>N/A</td>\n",
       "    </tr>\n",
       "    <tr>\n",
       "      <th>98</th>\n",
       "      <td>Bridget Jones's Baby</td>\n",
       "      <td>Uni.</td>\n",
       "      <td>24252420</td>\n",
       "      <td>2016-09-16</td>\n",
       "      <td>12/15</td>\n",
       "      <td>122</td>\n",
       "      <td>3</td>\n",
       "      <td>35000000.0</td>\n",
       "      <td>Sharon Maguire</td>\n",
       "    </tr>\n",
       "    <tr>\n",
       "      <th>99</th>\n",
       "      <td>Kevin Hart: What Now?</td>\n",
       "      <td>Uni.</td>\n",
       "      <td>23591043</td>\n",
       "      <td>2016-10-14</td>\n",
       "      <td>12/15</td>\n",
       "      <td>96</td>\n",
       "      <td>3</td>\n",
       "      <td>9900000.0</td>\n",
       "      <td>N/A</td>\n",
       "    </tr>\n",
       "  </tbody>\n",
       "</table>\n",
       "<p>100 rows × 9 columns</p>\n",
       "</div>"
      ],
      "text/plain": [
       "                                      Movie   Studio  Total_Gross        Open  \\\n",
       "0              Rogue One: A Star Wars Story       BV    532177324  2016-12-16   \n",
       "1                              Finding Dory       BV    486295561  2016-06-17   \n",
       "2                Captain America: Civil War       BV    408084349  2016-05-06   \n",
       "3                   The Secret Life of Pets     Uni.    368384330  2016-07-08   \n",
       "4                    The Jungle Book (2016)       BV    364001123  2016-04-15   \n",
       "5                                  Deadpool      Fox    363070709  2016-02-12   \n",
       "6                                  Zootopia       BV    341268248  2016-03-04   \n",
       "7        Batman v Superman: Dawn of Justice       WB    330360194  2016-03-25   \n",
       "8                             Suicide Squad       WB    325100054  2016-08-05   \n",
       "9                                      Sing     Uni.    270329045  2016-12-21   \n",
       "10                                    Moana       BV    248757044  2016-11-23   \n",
       "11  Fantastic Beasts and Where To Find Them       WB    234037575  2016-11-18   \n",
       "12                           Doctor Strange       BV    232641920  2016-11-04   \n",
       "13                           Hidden Figures      Fox    169385722  2016-12-25   \n",
       "14                             Jason Bourne     Uni.    162434410  2016-07-29   \n",
       "15                         Star Trek Beyond     Par.    158848340  2016-07-22   \n",
       "16                        X-Men: Apocalypse      Fox    155442489  2016-05-27   \n",
       "17                                   Trolls      Fox    153707064  2016-11-04   \n",
       "18                               La La Land     LG/S    151101803  2016-12-09   \n",
       "19                          Kung Fu Panda 3      Fox    143528619  2016-01-29   \n",
       "20                      Ghostbusters (2016)     Sony    128350574  2016-07-15   \n",
       "21                     Central Intelligence  WB (NL)    127440871  2016-06-17   \n",
       "22                     The Legend of Tarzan       WB    126643061  2016-07-01   \n",
       "23                                    Sully       WB    125070033  2016-09-09   \n",
       "24                                 Bad Moms      STX    113257297  2016-07-29   \n",
       "25                    The Angry Birds Movie     Sony    107509366  2016-05-20   \n",
       "26             Independence Day: Resurgence      Fox    103144286  2016-06-24   \n",
       "27                          The Conjuring 2  WB (NL)    102470008  2016-06-10   \n",
       "28                                  Arrival     Par.    100546139  2016-11-11   \n",
       "29                        Passengers (2016)     Sony    100014699  2016-12-21   \n",
       "..                                      ...      ...          ...         ...   \n",
       "70                         How to Be Single  WB (NL)     46843513  2016-02-12   \n",
       "71         Mike and Dave Need Wedding Dates      Fox     46009673  2016-07-08   \n",
       "72                                 War Dogs       WB     43034523  2016-08-19   \n",
       "73                         Almost Christmas     Uni.     42065185  2016-11-11   \n",
       "74                            Money Monster     TriS     41012075  2016-05-13   \n",
       "75                                   Allied     Par.     40098064  2016-11-23   \n",
       "76                                    Nerve      LGF     38583626  2016-07-27   \n",
       "77                                    Risen     Sony     36880033  2016-02-19   \n",
       "78                            The Nice Guys       WB     36261763  2016-05-20   \n",
       "79                           The Boy (2016)      STX     35819556  2016-01-22   \n",
       "80                            Dirty Grandpa      LGF     35593113  2016-01-22   \n",
       "81                    Ouija: Origin of Evil     Uni.     35144505  2016-10-21   \n",
       "82                             The 5th Wave     Sony     34916787  2016-01-22   \n",
       "83                                  Inferno     Sony     34343574  2016-10-28   \n",
       "84                             Mother's Day      ORF     32492859  2016-04-29   \n",
       "85                             Patriots Day      LGF     31886361  2016-12-21   \n",
       "86                            Gods of Egypt     LG/S     31153464  2016-02-26   \n",
       "87                        Collateral Beauty  WB (NL)     31016021  2016-12-16   \n",
       "88                            Hail, Caesar!     Uni.     30498085  2016-02-05   \n",
       "89                    When the Bough Breaks     SGem     29747603  2016-09-09   \n",
       "90                              Zoolander 2     Par.     28848693  2016-02-12   \n",
       "91                         Moonlight (2016)      A24     27854932  2016-10-21   \n",
       "92                         The Finest Hours       BV     27569558  2016-01-29   \n",
       "93                  Florence Foster Jenkins     Par.     27383770  2016-08-12   \n",
       "94                       Hell or High Water      LGF     27007844  2016-08-12   \n",
       "95                               The Forest    Focus     26594261  2016-01-08   \n",
       "96                           Ben-Hur (2016)     Par.     26410477  2016-08-19   \n",
       "97                                The Witch      A24     25138705  2016-02-19   \n",
       "98                     Bridget Jones's Baby     Uni.     24252420  2016-09-16   \n",
       "99                    Kevin Hart: What Now?     Uni.     23591043  2016-10-14   \n",
       "\n",
       "    Close  Runtime  Rating       Budget  \\\n",
       "0     5/4      133       1  200000000.0   \n",
       "1    12/8      103       2    1000000.0   \n",
       "2    9/22      147       1  250000000.0   \n",
       "3   12/29       90       2   75000000.0   \n",
       "4    9/29      105       2  175000000.0   \n",
       "5    6/16      106       3   58000000.0   \n",
       "6     8/4      108       2    1000000.0   \n",
       "7    6/16      151       1  250000000.0   \n",
       "8   11/10      130       1  175000000.0   \n",
       "9     5/4      110       2   75000000.0   \n",
       "10   4/27      103       2    1000000.0   \n",
       "11   3/30      140       1  180000000.0   \n",
       "12   3/16      115       1  165000000.0   \n",
       "13      -      127       2   25000000.0   \n",
       "14  12/22      123       1  120000000.0   \n",
       "15  10/20      120       1  185000000.0   \n",
       "16   7/28      143       1  178000000.0   \n",
       "17   3/30       94       2  125000000.0   \n",
       "18   4/27      128       1   30000000.0   \n",
       "19   7/21       95       2  145000000.0   \n",
       "20  11/10      108       1  144000000.0   \n",
       "21    9/1      107       1   50000000.0   \n",
       "22   9/15      109       1  180000000.0   \n",
       "23   1/26       96       1   60000000.0   \n",
       "24  10/27      101       3   20000000.0   \n",
       "25   9/15       97       2   73000000.0   \n",
       "26   9/15      120       1  165000000.0   \n",
       "27   8/25      134       3   40000000.0   \n",
       "28    3/9      116       1   47000000.0   \n",
       "29   4/20      116       1  110000000.0   \n",
       "..    ...      ...     ...          ...   \n",
       "70   4/14      110       3   38000000.0   \n",
       "71  10/13       98       3   33000000.0   \n",
       "72  10/20      114       3    1000000.0   \n",
       "73    1/5      112       1   17000000.0   \n",
       "74    8/4       95       3   27000000.0   \n",
       "75   1/26      121       3   85000000.0   \n",
       "76   10/6       96       1   19000000.0   \n",
       "77   5/19      107       1   20000000.0   \n",
       "78    8/4      116       3   50000000.0   \n",
       "79   3/31       98       1   10000000.0   \n",
       "80   3/17      102       3   25000000.0   \n",
       "81  12/29       99       1    9000000.0   \n",
       "82   5/26      112       1   38000000.0   \n",
       "83   1/19      121       1   75000000.0   \n",
       "84   6/16      118       1   25000000.0   \n",
       "85    3/9      130       3   45000000.0   \n",
       "86   5/12      127       1  140000000.0   \n",
       "87    2/9       94       1   36000000.0   \n",
       "88   6/30      100       1   22000000.0   \n",
       "89  11/17      107       1   10000000.0   \n",
       "90   3/31      100       1    1000000.0   \n",
       "91    5/4      110       3    4000000.0   \n",
       "92    4/7      109       1    1000000.0   \n",
       "93  10/27      110       1   29000000.0   \n",
       "94  11/17      102       3   12000000.0   \n",
       "95   3/17       95       1   10000000.0   \n",
       "96   10/6      123       1  100000000.0   \n",
       "97   5/26       92       3    4000000.0   \n",
       "98  12/15      122       3   35000000.0   \n",
       "99  12/15       96       3    9900000.0   \n",
       "\n",
       "                                     Director  \n",
       "0                              Gareth Edwards  \n",
       "1   Angus MacLane (co-director)Andrew Stanton  \n",
       "2                      Anthony RussoJoe Russo  \n",
       "3                                Chris Renaud  \n",
       "4                                 Jon Favreau  \n",
       "5                                  Tim Miller  \n",
       "6                      Byron HowardRich Moore  \n",
       "7                                 Zack Snyder  \n",
       "8                                  David Ayer  \n",
       "9                              Garth Jennings  \n",
       "10                    Ron ClementsJohn Musker  \n",
       "11                                David Yates  \n",
       "12                           Scott Derrickson  \n",
       "13                             Theodore Melfi  \n",
       "14                            Paul Greengrass  \n",
       "15                                 Justin Lin  \n",
       "16                               Bryan Singer  \n",
       "17                              Mike Mitchell  \n",
       "18                            Damien Chazelle  \n",
       "19      Alessandro CarloniJennifer Yuh Nelson  \n",
       "20                                  Paul Feig  \n",
       "21                    Rawson Marshall Thurber  \n",
       "22                                David Yates  \n",
       "23                             Clint Eastwood  \n",
       "24                       Jon LucasScott Moore  \n",
       "25                   Clay KaytisFergal Reilly  \n",
       "26                            Roland Emmerich  \n",
       "27                                  James Wan  \n",
       "28                           Denis Villeneuve  \n",
       "29                              Morten Tyldum  \n",
       "..                                        ...  \n",
       "70                                        N/A  \n",
       "71                                        N/A  \n",
       "72                              Todd Phillips  \n",
       "73                           David E. Talbert  \n",
       "74                               Jodie Foster  \n",
       "75                            Robert Zemeckis  \n",
       "76                  Henry JoostAriel Schulman  \n",
       "77                             Kevin Reynolds  \n",
       "78                                Shane Black  \n",
       "79                         William Brent Bell  \n",
       "80                                        N/A  \n",
       "81                              Mike Flanagan  \n",
       "82                                        N/A  \n",
       "83                                 Ron Howard  \n",
       "84                             Garry Marshall  \n",
       "85                                 Peter Berg  \n",
       "86                                Alex Proyas  \n",
       "87                              David Frankel  \n",
       "88                        Ethan CoenJoel Coen  \n",
       "89                                        N/A  \n",
       "90                                Ben Stiller  \n",
       "91                                        N/A  \n",
       "92                            Craig Gillespie  \n",
       "93                             Stephen Frears  \n",
       "94                                        N/A  \n",
       "95                                        N/A  \n",
       "96                          Timur Bekmambetov  \n",
       "97                                        N/A  \n",
       "98                             Sharon Maguire  \n",
       "99                                        N/A  \n",
       "\n",
       "[100 rows x 9 columns]"
      ]
     },
     "execution_count": 317,
     "metadata": {},
     "output_type": "execute_result"
    }
   ],
   "source": [
    "df[\"Rating\"] = df[\"Rating\"].apply(lambda x:1 if x==\"PG-13\" else 2 if x == \"PG\" else 3)\n",
    "#else int(2) if x == \"PG\" else int(3) if x == \"R\"\n",
    "df"
   ]
  },
  {
   "cell_type": "markdown",
   "metadata": {},
   "source": [
    "Challenge 1\n",
    "Build a linear model that uses only a constant term (a column of ones) to predict a continuous outcome (like domestic total gross). How can you interpret the results of this model? What does it predict? Make a plot of predictions against actual outcome. Make a histogram of residuals. How are the residuals distributed?"
   ]
  },
  {
   "cell_type": "code",
   "execution_count": 318,
   "metadata": {},
   "outputs": [
    {
     "data": {
      "text/plain": [
       "[<matplotlib.lines.Line2D at 0x11c22de10>]"
      ]
     },
     "execution_count": 318,
     "metadata": {},
     "output_type": "execute_result"
    },
    {
     "data": {
      "image/png": "[encoded data removed]",
      "text/plain": [
       "<matplotlib.figure.Figure at 0x11072f828>"
      ]
     },
     "metadata": {},
     "output_type": "display_data"
    }
   ],
   "source": [
    "smaller_df = df\n",
    "### smaller_df = df\n",
    "list1 = np.array(list(smaller_df[\"Budget\"].values))\n",
    "list2 =  np.array(list(smaller_df[\"Total_Gross\"].values))\n",
    "Budget = np.reshape(list1,(len(list1),1))\n",
    "Total_Gross = np.reshape(list2,(len(list1),1))\n",
    "lr_model1 = LinearRegression()\n",
    "lr_model1.fit(Budget,Total_Gross)\n",
    "plt.scatter(Budget,Total_Gross)\n",
    "plt.plot(Budget,lr_model1.intercept_ + lr_model1.coef_[0]*Budget)"
   ]
  },
  {
   "cell_type": "markdown",
   "metadata": {},
   "source": [
    "R score is used to interpret the model. The r score for test data is 0.2. Relatively low correlation is observed between bedget and total_gross in this model"
   ]
  },
  {
   "cell_type": "code",
   "execution_count": 319,
   "metadata": {},
   "outputs": [
    {
     "data": {
      "text/plain": [
       "0.21522445345419949"
      ]
     },
     "execution_count": 319,
     "metadata": {},
     "output_type": "execute_result"
    }
   ],
   "source": [
    "test_set_pred1 = lr_model1.predict(Budget)\n",
    "np.sqrt(np.mean((test_set_pred1 - Total_Gross)**2))\n",
    "lr_model1.score(Budget,Total_Gross)"
   ]
  },
  {
   "cell_type": "code",
   "execution_count": 320,
   "metadata": {},
   "outputs": [
    {
     "data": {
      "text/plain": [
       "<matplotlib.collections.PathCollection at 0x11bbce0b8>"
      ]
     },
     "execution_count": 320,
     "metadata": {},
     "output_type": "execute_result"
    },
    {
     "data": {
      "image/png": "[encoded data removed]",
      "text/plain": [
       "<matplotlib.figure.Figure at 0x1144e54e0>"
      ]
     },
     "metadata": {},
     "output_type": "display_data"
    }
   ],
   "source": [
    "lr_model1.coef_\n",
    "#plot of predictions against actual outcome\n",
    "plt.scatter(test_set_pred1,Total_Gross,alpha=.1,color = \"b\")"
   ]
  },
  {
   "cell_type": "code",
   "execution_count": 321,
   "metadata": {},
   "outputs": [
    {
     "data": {
      "text/plain": [
       "(array([  1.,   1.,   2.,   1.,   4.,   2.,   5.,  30.,  42.,  12.]),\n",
       " array([ -4.30938181e+08,  -3.74568602e+08,  -3.18199024e+08,\n",
       "         -2.61829445e+08,  -2.05459866e+08,  -1.49090287e+08,\n",
       "         -9.27207087e+07,  -3.63511299e+07,   2.00184488e+07,\n",
       "          7.63880275e+07,   1.32757606e+08]),\n",
       " <a list of 10 Patch objects>)"
      ]
     },
     "execution_count": 321,
     "metadata": {},
     "output_type": "execute_result"
    },
    {
     "data": {
      "image/png": "[encoded data removed]",
      "text/plain": [
       "<matplotlib.figure.Figure at 0x11bcb7e80>"
      ]
     },
     "metadata": {},
     "output_type": "display_data"
    }
   ],
   "source": [
    "#a histogram of residuals\n",
    "plt.hist(test_set_pred1 - Total_Gross)"
   ]
  },
  {
   "cell_type": "markdown",
   "metadata": {},
   "source": [
    "Most residual scatter around x = 0"
   ]
  },
  {
   "cell_type": "markdown",
   "metadata": {},
   "source": [
    "Challenge 2\n",
    "\n",
    "Repeat the process of challenge one, but also add one continuous (numeric) predictor variable. Also add plots of model prediction against your feature variable and residuals against feature variable. How can you interpret what's happening in the model?"
   ]
  },
  {
   "cell_type": "code",
   "execution_count": 322,
   "metadata": {},
   "outputs": [
    {
     "data": {
      "text/plain": [
       "LinearRegression(copy_X=True, fit_intercept=True, n_jobs=1, normalize=False)"
      ]
     },
     "execution_count": 322,
     "metadata": {},
     "output_type": "execute_result"
    }
   ],
   "source": [
    "X = smaller_df.loc[:,[\"Budget\",\"Runtime\"]]\n",
    "y = smaller_df[\"Total_Gross\"]\n",
    "lr_model2 = LinearRegression()\n",
    "lr_model2.fit(X,y)"
   ]
  },
  {
   "cell_type": "code",
   "execution_count": 323,
   "metadata": {},
   "outputs": [
    {
     "data": {
      "text/plain": [
       "0.21530942057748581"
      ]
     },
     "execution_count": 323,
     "metadata": {},
     "output_type": "execute_result"
    }
   ],
   "source": [
    "test_set_pred2 = lr_model2.predict(X)\n",
    "np.sqrt(np.mean((test_set_pred2 - y)**2))\n",
    "lr_model2.score(X,y)"
   ]
  },
  {
   "cell_type": "code",
   "execution_count": 40,
   "metadata": {},
   "outputs": [
    {
     "data": {
      "text/plain": [
       "<matplotlib.collections.PathCollection at 0x114a362e8>"
      ]
     },
     "execution_count": 40,
     "metadata": {},
     "output_type": "execute_result"
    },
    {
     "data": {
      "image/png": "[encoded data removed]",
      "text/plain": [
       "<matplotlib.figure.Figure at 0x114b79b00>"
      ]
     },
     "metadata": {},
     "output_type": "display_data"
    }
   ],
   "source": [
    "plt.scatter(test_set_pred2,y,alpha=.1,color = \"b\")"
   ]
  },
  {
   "cell_type": "code",
   "execution_count": 324,
   "metadata": {},
   "outputs": [
    {
     "data": {
      "text/plain": [
       "(array([  1.,   1.,   2.,   1.,   4.,   2.,   5.,  30.,  42.,  12.]),\n",
       " array([ -4.30822094e+08,  -3.74515138e+08,  -3.18208181e+08,\n",
       "         -2.61901225e+08,  -2.05594268e+08,  -1.49287312e+08,\n",
       "         -9.29803557e+07,  -3.66733993e+07,   1.96335571e+07,\n",
       "          7.59405135e+07,   1.32247470e+08]),\n",
       " <a list of 10 Patch objects>)"
      ]
     },
     "execution_count": 324,
     "metadata": {},
     "output_type": "execute_result"
    },
    {
     "data": {
      "image/png": "[encoded data removed]",
      "text/plain": [
       "<matplotlib.figure.Figure at 0x11bd9bc50>"
      ]
     },
     "metadata": {},
     "output_type": "display_data"
    }
   ],
   "source": [
    "plt.hist(test_set_pred2 - y)"
   ]
  },
  {
   "cell_type": "markdown",
   "metadata": {},
   "source": [
    "Challenge 3\n",
    "\n",
    "Repeat the process of challenge 1, but add a categorical feature (like genre). You'll have to convert a column of text into a number of numerical columns (\"dummy variables\"). How can you interpret what's happening in the model?"
   ]
  },
  {
   "cell_type": "code",
   "execution_count": 325,
   "metadata": {},
   "outputs": [
    {
     "data": {
      "text/plain": [
       "LinearRegression(copy_X=True, fit_intercept=True, n_jobs=1, normalize=False)"
      ]
     },
     "execution_count": 325,
     "metadata": {},
     "output_type": "execute_result"
    }
   ],
   "source": [
    "X2 = smaller_df.loc[:,[\"Budget\",\"Runtime\",\"Rating\"]]\n",
    "y2 = smaller_df[\"Total_Gross\"]\n",
    "lr_model3 = LinearRegression()\n",
    "lr_model3.fit(X2,y2)"
   ]
  },
  {
   "cell_type": "code",
   "execution_count": 326,
   "metadata": {},
   "outputs": [
    {
     "data": {
      "text/plain": [
       "0.21776887838948333"
      ]
     },
     "execution_count": 326,
     "metadata": {},
     "output_type": "execute_result"
    }
   ],
   "source": [
    "test_set_pred3 = lr_model3.predict(X2)\n",
    "np.sqrt(np.mean((test_set_pred3 - y2)**2))\n",
    "lr_model3.score(X2,y2)"
   ]
  },
  {
   "cell_type": "code",
   "execution_count": 327,
   "metadata": {},
   "outputs": [
    {
     "data": {
      "text/plain": [
       "<matplotlib.collections.PathCollection at 0x11b7a7d30>"
      ]
     },
     "execution_count": 327,
     "metadata": {},
     "output_type": "execute_result"
    },
    {
     "data": {
      "image/png": "[encoded data removed]",
      "text/plain": [
       "<matplotlib.figure.Figure at 0x11b541a90>"
      ]
     },
     "metadata": {},
     "output_type": "display_data"
    }
   ],
   "source": [
    "plt.scatter(test_set_pred3,y2,alpha=.1,color = \"b\")"
   ]
  },
  {
   "cell_type": "code",
   "execution_count": 45,
   "metadata": {},
   "outputs": [
    {
     "data": {
      "text/plain": [
       "(array([  1.,   1.,   1.,   2.,   4.,   2.,   5.,  25.,  46.,  13.]),\n",
       " array([ -4.30917922e+08,  -3.74827846e+08,  -3.18737770e+08,\n",
       "         -2.62647695e+08,  -2.06557619e+08,  -1.50467544e+08,\n",
       "         -9.43774682e+07,  -3.82873927e+07,   1.78026829e+07,\n",
       "          7.38927584e+07,   1.29982834e+08]),\n",
       " <a list of 10 Patch objects>)"
      ]
     },
     "execution_count": 45,
     "metadata": {},
     "output_type": "execute_result"
    },
    {
     "data": {
      "image/png": "[encoded data removed]",
      "text/plain": [
       "<matplotlib.figure.Figure at 0x113158a58>"
      ]
     },
     "metadata": {},
     "output_type": "display_data"
    }
   ],
   "source": [
    "plt.hist(test_set_pred3 - y2)"
   ]
  },
  {
   "cell_type": "markdown",
   "metadata": {},
   "source": [
    "Challenge 4\n",
    "\n",
    "Enhance your model further by adding more features and/or transforming existing features. Think about how you build the model matrix and how to interpret what the model is doing."
   ]
  },
  {
   "cell_type": "code",
   "execution_count": 328,
   "metadata": {},
   "outputs": [
    {
     "data": {
      "text/plain": [
       "LinearRegression(copy_X=True, fit_intercept=True, n_jobs=1, normalize=False)"
      ]
     },
     "execution_count": 328,
     "metadata": {},
     "output_type": "execute_result"
    }
   ],
   "source": [
    "smaller_df['Open'] = pd.to_datetime(smaller_df['Open'])\n",
    "smaller_df['Open']=smaller_df['Open'].map(dt.datetime.toordinal)\n",
    "X3 = smaller_df.loc[:,[\"Budget\",\"Runtime\",\"Rating\",\"Open\"]]\n",
    "y3 = smaller_df[\"Total_Gross\"]\n",
    "lr_model4 = LinearRegression()\n",
    "lr_model4.fit(X3,y3)"
   ]
  },
  {
   "cell_type": "code",
   "execution_count": 330,
   "metadata": {},
   "outputs": [
    {
     "data": {
      "text/plain": [
       "0.21801559945577054"
      ]
     },
     "execution_count": 330,
     "metadata": {},
     "output_type": "execute_result"
    }
   ],
   "source": [
    "test_set_pred4 = lr_model4.predict(X3)\n",
    "np.sqrt(np.mean((test_set_pred4 - y3)**2))\n",
    "lr_model4.score(X3,y3)"
   ]
  },
  {
   "cell_type": "code",
   "execution_count": 331,
   "metadata": {},
   "outputs": [
    {
     "data": {
      "text/plain": [
       "<matplotlib.collections.PathCollection at 0x11411fcc0>"
      ]
     },
     "execution_count": 331,
     "metadata": {},
     "output_type": "execute_result"
    },
    {
     "data": {
      "image/png": "[encoded data removed]",
      "text/plain": [
       "<matplotlib.figure.Figure at 0x11b28c470>"
      ]
     },
     "metadata": {},
     "output_type": "display_data"
    }
   ],
   "source": [
    "plt.scatter(test_set_pred4,y3,alpha=.1,color = \"b\")"
   ]
  },
  {
   "cell_type": "code",
   "execution_count": 332,
   "metadata": {},
   "outputs": [
    {
     "data": {
      "text/plain": [
       "(array([  1.,   1.,   1.,   2.,   4.,   1.,   6.,  25.,  46.,  13.]),\n",
       " array([ -4.31211106e+08,  -3.75162783e+08,  -3.19114459e+08,\n",
       "         -2.63066135e+08,  -2.07017811e+08,  -1.50969487e+08,\n",
       "         -9.49211637e+07,  -3.88728400e+07,   1.71754838e+07,\n",
       "          7.32238075e+07,   1.29272131e+08]),\n",
       " <a list of 10 Patch objects>)"
      ]
     },
     "execution_count": 332,
     "metadata": {},
     "output_type": "execute_result"
    },
    {
     "data": {
      "image/png": "[encoded data removed]",
      "text/plain": [
       "<matplotlib.figure.Figure at 0x11b28ceb8>"
      ]
     },
     "metadata": {},
     "output_type": "display_data"
    }
   ],
   "source": [
    "plt.hist(test_set_pred4 - y3)"
   ]
  },
  {
   "cell_type": "markdown",
   "metadata": {},
   "source": [
    "Challenge 5\n",
    "\n",
    "Fitting and checking predictions on the exact same data set can be misleading. Divide your data into two sets: a training and a test set (roughly 75% training, 25% test is a fine split). Fit a model on the training set, check the predictions (by plotting versus actual values) in the test set."
   ]
  },
  {
   "cell_type": "code",
   "execution_count": 333,
   "metadata": {},
   "outputs": [
    {
     "data": {
      "text/plain": [
       "[('Budget', 0.84103861923153556),\n",
       " ('Runtime', -4844.924208011199),\n",
       " ('Rating', 7476907.7444698196),\n",
       " ('Open', -42749.455085027701)]"
      ]
     },
     "execution_count": 333,
     "metadata": {},
     "output_type": "execute_result"
    }
   ],
   "source": [
    "X4 = smaller_df.loc[:,[\"Budget\",\"Runtime\",\"Rating\",\"Open\"]]\n",
    "y4 = smaller_df[\"Total_Gross\"]\n",
    "X_train, X_test, y_train, y_test = train_test_split(X4, y4, test_size=0.25)\n",
    "lr_model5 = LinearRegression()\n",
    "lr_model5.fit(X_train,y_train)\n",
    "list(zip(X_train.columns,lr_model5.coef_))"
   ]
  },
  {
   "cell_type": "code",
   "execution_count": 334,
   "metadata": {},
   "outputs": [
    {
     "name": "stdout",
     "output_type": "stream",
     "text": [
      "0.202732462159\n",
      "0.0402085454595\n"
     ]
    }
   ],
   "source": [
    "print(lr_model5.score(X_train,y_train))\n",
    "print(lr_model5.score(X_test,y_test))"
   ]
  },
  {
   "cell_type": "code",
   "execution_count": 335,
   "metadata": {
    "scrolled": true
   },
   "outputs": [
    {
     "data": {
      "text/plain": [
       "<matplotlib.collections.PathCollection at 0x114187eb8>"
      ]
     },
     "execution_count": 335,
     "metadata": {},
     "output_type": "execute_result"
    },
    {
     "data": {
      "image/png": "[encoded data removed]",
      "text/plain": [
       "<matplotlib.figure.Figure at 0x114587780>"
      ]
     },
     "metadata": {},
     "output_type": "display_data"
    }
   ],
   "source": [
    "test_set_pred5 = lr_model5.predict(X_test)\n",
    "plt.scatter(test_set_pred5,y_test,alpha=.1,color = \"b\")"
   ]
  },
  {
   "cell_type": "markdown",
   "metadata": {},
   "source": [
    "Challenges 6"
   ]
  },
  {
   "cell_type": "markdown",
   "metadata": {},
   "source": [
    "Challenge 1\n",
    "\n",
    "Generate (fake) data that is linearly related to log(x).\n",
    "\n",
    "You are making this model up. It is of the form B0 + B1*log(x) + epsilon. (You are making up the parameters.)\n",
    "\n",
    "Simulate some data from this model.\n",
    "\n",
    "Then fit two models to it:\n",
    "\n",
    "quadratic (second degree polynomial)\n",
    "logarithmic (log(x))\n",
    "(The second one should fit really well, since it has the same form as the underlying model!)"
   ]
  },
  {
   "cell_type": "code",
   "execution_count": 336,
   "metadata": {},
   "outputs": [],
   "source": [
    "x = np.linspace(1,2000,num = 2000)"
   ]
  },
  {
   "cell_type": "code",
   "execution_count": 337,
   "metadata": {},
   "outputs": [],
   "source": [
    "y = 100+10*np.log(x)+sys.float_info.epsilon\n"
   ]
  },
  {
   "cell_type": "code",
   "execution_count": 338,
   "metadata": {},
   "outputs": [
    {
     "data": {
      "text/plain": [
       "LinearRegression(copy_X=True, fit_intercept=True, n_jobs=1, normalize=False)"
      ]
     },
     "execution_count": 338,
     "metadata": {},
     "output_type": "execute_result"
    }
   ],
   "source": [
    "x = np.reshape(x,(len(x),1))\n",
    "y = np.reshape(y,(len(y),1))\n",
    "\n",
    "lr_model6 = LinearRegression()\n",
    "lr_model6.fit(x,y)"
   ]
  },
  {
   "cell_type": "code",
   "execution_count": 104,
   "metadata": {},
   "outputs": [
    {
     "name": "stdout",
     "output_type": "stream",
     "text": [
      "0.757856534787\n",
      "0.757856534787\n"
     ]
    },
    {
     "data": {
      "image/png": "[encoded data removed]",
      "text/plain": [
       "<matplotlib.figure.Figure at 0x114e16eb8>"
      ]
     },
     "metadata": {},
     "output_type": "display_data"
    }
   ],
   "source": [
    "plt.scatter(x,y)\n",
    "print(lr_model6.score(x,y))\n",
    "print(lr_model6.score(x,y))"
   ]
  },
  {
   "cell_type": "code",
   "execution_count": 339,
   "metadata": {},
   "outputs": [
    {
     "name": "stdout",
     "output_type": "stream",
     "text": [
      "1.0\n",
      "1.0\n"
     ]
    },
    {
     "data": {
      "image/png": "[encoded data removed]",
      "text/plain": [
       "<matplotlib.figure.Figure at 0x113dd6860>"
      ]
     },
     "metadata": {},
     "output_type": "display_data"
    }
   ],
   "source": [
    "#logarithmic (log(x))\n",
    "plt.scatter(np.log(x),y)\n",
    "lr_model7=LinearRegression()\n",
    "lr_model7.fit(np.log(x),y)\n",
    "print(lr_model7.score(np.log(x),y))\n",
    "print(lr_model7.score(np.log(x),y))"
   ]
  },
  {
   "cell_type": "code",
   "execution_count": 340,
   "metadata": {},
   "outputs": [
    {
     "name": "stdout",
     "output_type": "stream",
     "text": [
      "0.89652959104\n",
      "0.89652959104\n"
     ]
    },
    {
     "data": {
      "image/png": "[encoded data removed]",
      "text/plain": [
       "<matplotlib.figure.Figure at 0x11c0e7d68>"
      ]
     },
     "metadata": {},
     "output_type": "display_data"
    }
   ],
   "source": [
    "#quadratic (second degree polynomial) \n",
    "poly1 = PolynomialFeatures(2)\n",
    "x_poly = poly1.fit_transform(x)\n",
    "\n",
    "lr_model8 = LinearRegression()\n",
    "lr_model8.fit(x_poly,y)\n",
    "test_set_pred8 = lr_model8.predict(x_poly)\n",
    "plt.scatter(test_set_pred8,y,alpha=.1,color = \"b\")\n",
    "print(lr_model8.score(x_poly,y))\n",
    "print(lr_model8.score(x_poly,y))"
   ]
  },
  {
   "cell_type": "markdown",
   "metadata": {},
   "source": [
    "Challenge 2\n",
    "\n",
    "Generate (fake) data from a model of the form B0 + B1*x + B2*x^2 + epsilon. (You are making up the parameters.)\n",
    "\n",
    "Split the data into a training and test set.\n",
    "\n",
    "Fit a model to your training set. Calculate mean squared error on your training set. Then calculate it on your test set.\n",
    "\n",
    "(You could use sklearn.metrics.mean_squared_error.)"
   ]
  },
  {
   "cell_type": "code",
   "execution_count": 353,
   "metadata": {},
   "outputs": [],
   "source": [
    "x2 = np.linspace(1,2000,num = 2000)\n",
    "y2 = 100+10*x2+15*(x2)**2+sys.float_info.epsilon"
   ]
  },
  {
   "cell_type": "code",
   "execution_count": 354,
   "metadata": {},
   "outputs": [],
   "source": [
    "x2 = np.reshape(x2,(len(x2),1))\n",
    "y2 = np.reshape(y2,(len(y2),1))"
   ]
  },
  {
   "cell_type": "code",
   "execution_count": 355,
   "metadata": {},
   "outputs": [],
   "source": [
    "X_train_2, X_test_2, y_train_2, y_test_2 = train_test_split(x2, y2, test_size=0.25)"
   ]
  },
  {
   "cell_type": "code",
   "execution_count": 360,
   "metadata": {},
   "outputs": [
    {
     "data": {
      "text/plain": [
       "LinearRegression(copy_X=True, fit_intercept=True, n_jobs=1, normalize=False)"
      ]
     },
     "execution_count": 360,
     "metadata": {},
     "output_type": "execute_result"
    }
   ],
   "source": [
    "# linear regression model with degree = 1\n",
    "lr_model9 = LinearRegression()\n",
    "lr_model9.fit(X_train_2,y_train_2)"
   ]
  },
  {
   "cell_type": "code",
   "execution_count": 362,
   "metadata": {
    "collapsed": true
   },
   "outputs": [],
   "source": [
    "test_set_pred9 = lr_model9.predict(X_train_2)\n",
    "test_set_pred10 = lr_model9.predict(X_test_2)"
   ]
  },
  {
   "cell_type": "code",
   "execution_count": 363,
   "metadata": {},
   "outputs": [
    {
     "name": "stdout",
     "output_type": "stream",
     "text": [
      "1.97549004376e+13\n",
      "2.0782442695e+13\n"
     ]
    }
   ],
   "source": [
    "print(mean_squared_error(test_set_pred9,y_train_2))\n",
    "print(mean_squared_error(test_set_pred10,y_test_2))"
   ]
  },
  {
   "cell_type": "code",
   "execution_count": 364,
   "metadata": {
    "collapsed": true
   },
   "outputs": [],
   "source": [
    "# linear regression model with degree = 2\n",
    "poly2 = PolynomialFeatures(2)\n",
    "X_train_2_p = poly2.fit_transform(X_train_2)\n",
    "X_test_2_p = poly2.fit_transform(X_test_2)"
   ]
  },
  {
   "cell_type": "code",
   "execution_count": 365,
   "metadata": {},
   "outputs": [
    {
     "data": {
      "text/plain": [
       "LinearRegression(copy_X=True, fit_intercept=True, n_jobs=1, normalize=False)"
      ]
     },
     "execution_count": 365,
     "metadata": {},
     "output_type": "execute_result"
    }
   ],
   "source": [
    "lr_model10 = LinearRegression()\n",
    "lr_model10.fit(X_train_2_p,y_train_2)"
   ]
  },
  {
   "cell_type": "code",
   "execution_count": 366,
   "metadata": {},
   "outputs": [],
   "source": [
    "test_set_pred110 = lr_model10.predict(X_train_2_p)\n",
    "test_set_pred111 = lr_model10.predict(X_test_2_p)"
   ]
  },
  {
   "cell_type": "code",
   "execution_count": 367,
   "metadata": {},
   "outputs": [
    {
     "name": "stdout",
     "output_type": "stream",
     "text": [
      "1.0\n",
      "1.0\n"
     ]
    }
   ],
   "source": [
    "print(lr_model10.score(X_train_2_p,y_train_2))\n",
    "print(lr_model10.score(X_test_2_p,y_test_2))"
   ]
  },
  {
   "cell_type": "code",
   "execution_count": 368,
   "metadata": {},
   "outputs": [
    {
     "name": "stdout",
     "output_type": "stream",
     "text": [
      "2.70975602736e-17\n",
      "2.939863562e-17\n"
     ]
    }
   ],
   "source": [
    "print(mean_squared_error(test_set_pred110,y_train_2))\n",
    "print(mean_squared_error(test_set_pred111,y_test_2))"
   ]
  },
  {
   "cell_type": "markdown",
   "metadata": {},
   "source": [
    "Challenge 3\n",
    "\n",
    "For the data from two (above), try polynomial fits from 0th (just constant) to 7th order (highest term x^7). Over the x axis of model degree (8 points), plot:\n",
    "\n",
    "training error\n",
    "test error\n",
    "R squared\n",
    "AIC"
   ]
  },
  {
   "cell_type": "code",
   "execution_count": 369,
   "metadata": {},
   "outputs": [],
   "source": [
    "degree_list = [1,2,3,4,5,6,7]\n",
    "def poly(degree):\n",
    "    X_train_3, X_test_3, y_train_3, y_test_3 = train_test_split(x2, y2, test_size=0.25)\n",
    "    poly2 = PolynomialFeatures(degree)\n",
    "    X_train_3_p = poly2.fit_transform(X_train_3)\n",
    "    X_test_3_p = poly2.fit_transform(X_test_3)\n",
    "    lr_model11 = LinearRegression()\n",
    "    lr_model11.fit(X_train_3_p,y_train_3)\n",
    "    #prediction\n",
    "    train_set_pred112 = lr_model11.predict(X_train_3_p)\n",
    "    test_set_pred113 = lr_model11.predict(X_test_3_p)\n",
    "    #AIC\n",
    "    model1 = sm.OLS(y_train_3, X_train_3_p)\n",
    "    model2 = sm.OLS(y_test_3,X_test_3_p)\n",
    "    fit1 = model1.fit()\n",
    "    fit2 = model2.fit()\n",
    "    aic_train = fit1.aic\n",
    "    aic_test = fit2.aic\n",
    "    #R score\n",
    "    trainR = lr_model11.score(X_train_3_p,y_train_3)\n",
    "    testR = lr_model11.score(X_test_3_p,y_test_3)\n",
    "    #mean_square_error\n",
    "    trainerror = mean_squared_error(train_set_pred112,y_train_3)\n",
    "    testerror = mean_squared_error(test_set_pred113,y_test_3)\n",
    "    \n",
    "    return aic_train,aic_test,trainR,testR,trainerror,testerror\n",
    "\n",
    "training_error_list = []\n",
    "test_error_list = []\n",
    "trainR_list = []\n",
    "testR_list = []\n",
    "aic_train_list = []\n",
    "aic_test_list = []\n",
    "\n",
    "for i in degree_list:\n",
    "    aic_train,aic_test,trainR,testR,trainerror,testerror = poly(i)\n",
    "\n",
    "    training_error_list.append(trainerror)\n",
    "    test_error_list.append(testerror)\n",
    "    trainR_list.append(trainR)\n",
    "    testR_list.append(testR)\n",
    "    aic_train_list.append(aic_train)\n",
    "    aic_test_list.append(aic_test)\n"
   ]
  },
  {
   "cell_type": "code",
   "execution_count": 370,
   "metadata": {},
   "outputs": [
    {
     "data": {
      "text/plain": [
       "[20914994115208.137,\n",
       " 1.7212108713178154e-17,\n",
       " 1.6916797417754793e-12,\n",
       " 1.2698156649628119e-05,\n",
       " 678.45790887045348,\n",
       " 13686.807188134711,\n",
       " 4810063670.374135]"
      ]
     },
     "execution_count": 370,
     "metadata": {},
     "output_type": "execute_result"
    },
    {
     "data": {
      "image/png": "[encoded data removed]",
      "text/plain": [
       "<matplotlib.figure.Figure at 0x114e09c88>"
      ]
     },
     "metadata": {},
     "output_type": "display_data"
    }
   ],
   "source": [
    "#error\n",
    "plt.plot(training_error_list[1:])\n",
    "plt.plot(test_error_list[1:])\n",
    "test_error_list"
   ]
  },
  {
   "cell_type": "code",
   "execution_count": 371,
   "metadata": {},
   "outputs": [
    {
     "data": {
      "text/plain": [
       "[20914994115208.137,\n",
       " 1.7212108713178154e-17,\n",
       " 1.6916797417754793e-12,\n",
       " 1.2698156649628119e-05,\n",
       " 678.45790887045348,\n",
       " 13686.807188134711,\n",
       " 4810063670.374135]"
      ]
     },
     "execution_count": 371,
     "metadata": {},
     "output_type": "execute_result"
    }
   ],
   "source": [
    "test_error_list"
   ]
  },
  {
   "cell_type": "code",
   "execution_count": 372,
   "metadata": {},
   "outputs": [
    {
     "data": {
      "text/plain": [
       "[0.93584258030499279,\n",
       " 1.0,\n",
       " 1.0,\n",
       " 1.0,\n",
       " 0.99999999999789002,\n",
       " 0.99999999995653566,\n",
       " 0.99998449232198938]"
      ]
     },
     "execution_count": 372,
     "metadata": {},
     "output_type": "execute_result"
    },
    {
     "data": {
      "image/png": "[encoded data removed]",
      "text/plain": [
       "<matplotlib.figure.Figure at 0x11ba93438>"
      ]
     },
     "metadata": {},
     "output_type": "display_data"
    }
   ],
   "source": [
    "#R score\n",
    "plt.plot(trainR_list)\n",
    "plt.plot(testR_list)\n",
    "testR_list"
   ]
  },
  {
   "cell_type": "code",
   "execution_count": 373,
   "metadata": {},
   "outputs": [
    {
     "data": {
      "text/plain": [
       "[<matplotlib.lines.Line2D at 0x11c3414a8>]"
      ]
     },
     "execution_count": 373,
     "metadata": {},
     "output_type": "execute_result"
    },
    {
     "data": {
      "image/png": "[encoded data removed]",
      "text/plain": [
       "<matplotlib.figure.Figure at 0x11c341cc0>"
      ]
     },
     "metadata": {},
     "output_type": "display_data"
    }
   ],
   "source": [
    "#AIC\n",
    "plt.plot(aic_train_list)\n",
    "plt.plot(aic_test_list)"
   ]
  },
  {
   "cell_type": "markdown",
   "metadata": {},
   "source": [
    "Challenge 4\n",
    "\n",
    "For the data from two (above), fit a model to only the first 5 of your data points (m=5). Then to first 10 (m=10). Then to first 15 (m=15). In this manner, keep fitting until you fit your entire training set. For each step, calculate the training error and the test error. Plot both (in the same plot) over m. This is called a learning curve."
   ]
  },
  {
   "cell_type": "code",
   "execution_count": 374,
   "metadata": {},
   "outputs": [],
   "source": [
    "X_train_4, X_test_4, y_train_4, y_test_4 = train_test_split(x2, y2, test_size=0.25)"
   ]
  },
  {
   "cell_type": "code",
   "execution_count": 375,
   "metadata": {
    "collapsed": true
   },
   "outputs": [],
   "source": [
    "def linRegr(X_train,y_train):\n",
    "    lr_model12 = LinearRegression()\n",
    "    lr_model12.fit(X_train,y_train)\n",
    "    train_set_pred14 = lr_model12.predict(X_train)\n",
    "    test_set_pred15 = lr_model12.predict(X_test_4)\n",
    "    \n",
    "    #error\n",
    "    trainerror2 = mean_squared_error(train_set_pred14,y_train)\n",
    "    testerror2 = mean_squared_error(test_set_pred15,y_test_4)\n",
    "    return trainerror2,testerror2\n",
    "    "
   ]
  },
  {
   "cell_type": "code",
   "execution_count": 376,
   "metadata": {},
   "outputs": [],
   "source": [
    "trainerror2_list = []\n",
    "testerror2_list = []\n",
    "for i in np.arange(5,1505,5):\n",
    "    part_X_train = X_train_4[:i]\n",
    "    part_y_train = y_train_4[:i]\n",
    "    \n",
    "    trainerror2,testerror2 = linRegr(part_X_train,part_y_train)\n",
    "    trainerror2_list.append(trainerror2)\n",
    "    testerror2_list.append(testerror2)\n",
    "    \n",
    "trainerror2_list; \n",
    "testerror2_list;"
   ]
  },
  {
   "cell_type": "code",
   "execution_count": 380,
   "metadata": {},
   "outputs": [
    {
     "data": {
      "text/plain": [
       "[<matplotlib.lines.Line2D at 0x11c2ac160>]"
      ]
     },
     "execution_count": 380,
     "metadata": {},
     "output_type": "execute_result"
    },
    {
     "data": {
      "image/png": "[encoded data removed]",
      "text/plain": [
       "<matplotlib.figure.Figure at 0x11c29c240>"
      ]
     },
     "metadata": {},
     "output_type": "display_data"
    }
   ],
   "source": [
    "plt.plot(np.arange(5,1505,5),trainerror2_list)\n",
    "plt.plot(np.arange(5,1505,5),testerror2_list)"
   ]
  },
  {
   "cell_type": "code",
   "execution_count": null,
   "metadata": {
    "collapsed": true
   },
   "outputs": [],
   "source": []
  }
 ],
 "metadata": {
  "kernelspec": {
   "display_name": "Python 3",
   "language": "python",
   "name": "python3"
  },
  "language_info": {
   "codemirror_mode": {
    "name": "ipython",
    "version": 3
   },
   "file_extension": ".py",
   "mimetype": "text/x-python",
   "name": "python",
   "nbconvert_exporter": "python",
   "pygments_lexer": "ipython3",
   "version": "3.6.1"
  }
 },
 "nbformat": 4,
 "nbformat_minor": 2
}
