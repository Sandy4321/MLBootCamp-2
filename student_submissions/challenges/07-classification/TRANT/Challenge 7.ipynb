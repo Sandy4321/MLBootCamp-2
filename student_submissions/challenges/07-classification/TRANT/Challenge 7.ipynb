{
 "cells": [
  {
   "cell_type": "code",
   "execution_count": 105,
   "metadata": {
    "ExecuteTime": {
     "end_time": "2017-10-15T04:09:39.223329Z",
     "start_time": "2017-10-15T04:09:39.203738Z"
    },
    "collapsed": true
   },
   "outputs": [],
   "source": [
    "import pandas as pd\n",
    "import numpy as np\n",
    "import matplotlib.pyplot as plt\n",
    "from sklearn.model_selection import train_test_split, learning_curve, cross_val_score\n",
    "from datetime import datetime\n",
    "from sklearn.metrics import accuracy_score\n",
    "from sklearn.linear_model import LogisticRegression\n",
    "from sklearn.neighbors import KNeighborsClassifier\n",
    "from sklearn.tree import DecisionTreeClassifier\n",
    "from sklearn.svm import SVC\n",
    "from sklearn.naive_bayes import GaussianNB\n",
    "from sklearn.ensemble import RandomForestClassifier\n",
    "import seaborn as sns \n",
    "sns.set()\n",
    "%matplotlib inline"
   ]
  },
  {
   "cell_type": "code",
   "execution_count": 66,
   "metadata": {
    "ExecuteTime": {
     "end_time": "2017-10-15T03:52:46.448478Z",
     "start_time": "2017-10-15T03:52:46.437564Z"
    },
    "collapsed": true
   },
   "outputs": [],
   "source": [
    "df = pd.read_csv('house-votes-84.data', names = list(range(16))+ ['party'])"
   ]
  },
  {
   "cell_type": "code",
   "execution_count": 67,
   "metadata": {
    "ExecuteTime": {
     "end_time": "2017-10-15T03:52:47.044492Z",
     "start_time": "2017-10-15T03:52:47.029696Z"
    },
    "collapsed": true
   },
   "outputs": [],
   "source": [
    "df.replace(to_replace={'n' : 0, \n",
    "                       'y' : 1, \n",
    "                       '?': np.nan, \n",
    "                       'republican.' : 'republican', \n",
    "                       'democrat.' : 'democrat'}, \n",
    "           inplace=True)"
   ]
  },
  {
   "cell_type": "code",
   "execution_count": 68,
   "metadata": {
    "ExecuteTime": {
     "end_time": "2017-10-15T03:52:47.827019Z",
     "start_time": "2017-10-15T03:52:47.801804Z"
    }
   },
   "outputs": [
    {
     "data": {
      "text/html": [
       "<div>\n",
       "<style>\n",
       "    .dataframe thead tr:only-child th {\n",
       "        text-align: right;\n",
       "    }\n",
       "\n",
       "    .dataframe thead th {\n",
       "        text-align: left;\n",
       "    }\n",
       "\n",
       "    .dataframe tbody tr th {\n",
       "        vertical-align: top;\n",
       "    }\n",
       "</style>\n",
       "<table border=\"1\" class=\"dataframe\">\n",
       "  <thead>\n",
       "    <tr style=\"text-align: right;\">\n",
       "      <th></th>\n",
       "      <th>0</th>\n",
       "      <th>1</th>\n",
       "      <th>2</th>\n",
       "      <th>3</th>\n",
       "      <th>4</th>\n",
       "      <th>5</th>\n",
       "      <th>6</th>\n",
       "      <th>7</th>\n",
       "      <th>8</th>\n",
       "      <th>9</th>\n",
       "      <th>10</th>\n",
       "      <th>11</th>\n",
       "      <th>12</th>\n",
       "      <th>13</th>\n",
       "      <th>14</th>\n",
       "      <th>15</th>\n",
       "      <th>party</th>\n",
       "    </tr>\n",
       "  </thead>\n",
       "  <tbody>\n",
       "    <tr>\n",
       "      <th>0</th>\n",
       "      <td>0.00000</td>\n",
       "      <td>1.0</td>\n",
       "      <td>0.0</td>\n",
       "      <td>1.000000</td>\n",
       "      <td>1.000000</td>\n",
       "      <td>1.0</td>\n",
       "      <td>0.0</td>\n",
       "      <td>0.0</td>\n",
       "      <td>0.0</td>\n",
       "      <td>1.0</td>\n",
       "      <td>0.362319</td>\n",
       "      <td>1.000000</td>\n",
       "      <td>1.0</td>\n",
       "      <td>1.0</td>\n",
       "      <td>0.0</td>\n",
       "      <td>1.000000</td>\n",
       "      <td>republican</td>\n",
       "    </tr>\n",
       "    <tr>\n",
       "      <th>1</th>\n",
       "      <td>0.00000</td>\n",
       "      <td>1.0</td>\n",
       "      <td>0.0</td>\n",
       "      <td>1.000000</td>\n",
       "      <td>1.000000</td>\n",
       "      <td>1.0</td>\n",
       "      <td>0.0</td>\n",
       "      <td>0.0</td>\n",
       "      <td>0.0</td>\n",
       "      <td>0.0</td>\n",
       "      <td>0.000000</td>\n",
       "      <td>1.000000</td>\n",
       "      <td>1.0</td>\n",
       "      <td>1.0</td>\n",
       "      <td>0.0</td>\n",
       "      <td>0.812689</td>\n",
       "      <td>republican</td>\n",
       "    </tr>\n",
       "    <tr>\n",
       "      <th>2</th>\n",
       "      <td>0.44208</td>\n",
       "      <td>1.0</td>\n",
       "      <td>1.0</td>\n",
       "      <td>0.417453</td>\n",
       "      <td>1.000000</td>\n",
       "      <td>1.0</td>\n",
       "      <td>0.0</td>\n",
       "      <td>0.0</td>\n",
       "      <td>0.0</td>\n",
       "      <td>0.0</td>\n",
       "      <td>1.000000</td>\n",
       "      <td>0.000000</td>\n",
       "      <td>1.0</td>\n",
       "      <td>1.0</td>\n",
       "      <td>0.0</td>\n",
       "      <td>0.000000</td>\n",
       "      <td>democrat</td>\n",
       "    </tr>\n",
       "    <tr>\n",
       "      <th>3</th>\n",
       "      <td>0.00000</td>\n",
       "      <td>1.0</td>\n",
       "      <td>1.0</td>\n",
       "      <td>0.000000</td>\n",
       "      <td>0.504762</td>\n",
       "      <td>1.0</td>\n",
       "      <td>0.0</td>\n",
       "      <td>0.0</td>\n",
       "      <td>0.0</td>\n",
       "      <td>0.0</td>\n",
       "      <td>1.000000</td>\n",
       "      <td>0.000000</td>\n",
       "      <td>1.0</td>\n",
       "      <td>0.0</td>\n",
       "      <td>0.0</td>\n",
       "      <td>1.000000</td>\n",
       "      <td>democrat</td>\n",
       "    </tr>\n",
       "    <tr>\n",
       "      <th>4</th>\n",
       "      <td>1.00000</td>\n",
       "      <td>1.0</td>\n",
       "      <td>1.0</td>\n",
       "      <td>0.000000</td>\n",
       "      <td>1.000000</td>\n",
       "      <td>1.0</td>\n",
       "      <td>0.0</td>\n",
       "      <td>0.0</td>\n",
       "      <td>0.0</td>\n",
       "      <td>0.0</td>\n",
       "      <td>1.000000</td>\n",
       "      <td>0.423267</td>\n",
       "      <td>1.0</td>\n",
       "      <td>1.0</td>\n",
       "      <td>1.0</td>\n",
       "      <td>1.000000</td>\n",
       "      <td>democrat</td>\n",
       "    </tr>\n",
       "  </tbody>\n",
       "</table>\n",
       "</div>"
      ],
      "text/plain": [
       "         0    1    2         3         4    5    6    7    8    9        10  \\\n",
       "0  0.00000  1.0  0.0  1.000000  1.000000  1.0  0.0  0.0  0.0  1.0  0.362319   \n",
       "1  0.00000  1.0  0.0  1.000000  1.000000  1.0  0.0  0.0  0.0  0.0  0.000000   \n",
       "2  0.44208  1.0  1.0  0.417453  1.000000  1.0  0.0  0.0  0.0  0.0  1.000000   \n",
       "3  0.00000  1.0  1.0  0.000000  0.504762  1.0  0.0  0.0  0.0  0.0  1.000000   \n",
       "4  1.00000  1.0  1.0  0.000000  1.000000  1.0  0.0  0.0  0.0  0.0  1.000000   \n",
       "\n",
       "         11   12   13   14        15       party  \n",
       "0  1.000000  1.0  1.0  0.0  1.000000  republican  \n",
       "1  1.000000  1.0  1.0  0.0  0.812689  republican  \n",
       "2  0.000000  1.0  1.0  0.0  0.000000    democrat  \n",
       "3  0.000000  1.0  0.0  0.0  1.000000    democrat  \n",
       "4  0.423267  1.0  1.0  1.0  1.000000    democrat  "
      ]
     },
     "execution_count": 68,
     "metadata": {},
     "output_type": "execute_result"
    }
   ],
   "source": [
    "for i in range(16):\n",
    "    df[i].fillna(df[i].mean(), inplace=True)\n",
    "df.head()"
   ]
  },
  {
   "cell_type": "code",
   "execution_count": 7,
   "metadata": {
    "ExecuteTime": {
     "end_time": "2017-10-15T03:32:01.421768Z",
     "start_time": "2017-10-15T03:32:01.415850Z"
    },
    "collapsed": true
   },
   "outputs": [],
   "source": [
    "X_train, X_test, y_train, y_test = train_test_split(df[list(range(16))], df.party)"
   ]
  },
  {
   "cell_type": "code",
   "execution_count": 8,
   "metadata": {
    "ExecuteTime": {
     "end_time": "2017-10-15T03:32:01.440249Z",
     "start_time": "2017-10-15T03:32:01.423266Z"
    },
    "collapsed": true
   },
   "outputs": [],
   "source": [
    "KNNs = dict(zip(range(1, 21), [KNeighborsClassifier(n_neighbors = i).fit(X_train,y_train) for i in range(1, 21)]))"
   ]
  },
  {
   "cell_type": "code",
   "execution_count": 9,
   "metadata": {
    "ExecuteTime": {
     "end_time": "2017-10-15T03:32:01.687772Z",
     "start_time": "2017-10-15T03:32:01.637621Z"
    }
   },
   "outputs": [
    {
     "name": "stdout",
     "output_type": "stream",
     "text": [
      "k = 1, Score: 0.935779816514\n",
      "k = 2, Score: 0.935779816514\n",
      "k = 3, Score: 0.935779816514\n",
      "k = 4, Score: 0.935779816514\n",
      "k = 5, Score: 0.935779816514\n",
      "k = 6, Score: 0.926605504587\n",
      "k = 7, Score: 0.908256880734\n",
      "k = 8, Score: 0.926605504587\n",
      "k = 9, Score: 0.908256880734\n",
      "k = 10, Score: 0.908256880734\n",
      "k = 11, Score: 0.917431192661\n",
      "k = 12, Score: 0.917431192661\n",
      "k = 13, Score: 0.926605504587\n",
      "k = 14, Score: 0.917431192661\n",
      "k = 15, Score: 0.926605504587\n",
      "k = 16, Score: 0.926605504587\n",
      "k = 17, Score: 0.926605504587\n",
      "k = 18, Score: 0.926605504587\n",
      "k = 19, Score: 0.926605504587\n",
      "k = 20, Score: 0.926605504587\n"
     ]
    }
   ],
   "source": [
    "x, y = list(range(1, 21)), []\n",
    "for k, model in KNNs.items():\n",
    "    s = accuracy_score(y_test, model.predict(X_test))\n",
    "    print('k = %s, Score: %s' % (k, s))\n",
    "    y.append(s)"
   ]
  },
  {
   "cell_type": "code",
   "execution_count": 10,
   "metadata": {
    "ExecuteTime": {
     "end_time": "2017-10-15T03:32:02.002189Z",
     "start_time": "2017-10-15T03:32:01.991923Z"
    }
   },
   "outputs": [
    {
     "data": {
      "text/plain": [
       "0.95412844036697253"
      ]
     },
     "execution_count": 10,
     "metadata": {},
     "output_type": "execute_result"
    }
   ],
   "source": [
    "log_reg = LogisticRegression()\n",
    "log_reg.fit(X_train, y_train)\n",
    "l = accuracy_score(y_test, log_reg.predict(X_test))\n",
    "l"
   ]
  },
  {
   "cell_type": "code",
   "execution_count": 11,
   "metadata": {
    "ExecuteTime": {
     "end_time": "2017-10-15T03:32:02.432067Z",
     "start_time": "2017-10-15T03:32:02.271813Z"
    }
   },
   "outputs": [
    {
     "data": {
      "image/png": "[encoded data removed]",
      "text/plain": [
       "<matplotlib.figure.Figure at 0x10f5e6e10>"
      ]
     },
     "metadata": {},
     "output_type": "display_data"
    }
   ],
   "source": [
    "df.party.value_counts().plot(kind='bar');"
   ]
  },
  {
   "cell_type": "code",
   "execution_count": 12,
   "metadata": {
    "ExecuteTime": {
     "end_time": "2017-10-15T03:32:02.500780Z",
     "start_time": "2017-10-15T03:32:02.496293Z"
    },
    "collapsed": true
   },
   "outputs": [],
   "source": [
    "def predict_dem(X):\n",
    "    return ['democrat'] * len(X)"
   ]
  },
  {
   "cell_type": "code",
   "execution_count": 13,
   "metadata": {
    "ExecuteTime": {
     "end_time": "2017-10-15T03:32:02.794602Z",
     "start_time": "2017-10-15T03:32:02.791364Z"
    },
    "collapsed": true
   },
   "outputs": [],
   "source": [
    "def predict_rep(X):\n",
    "    return ['republican'] * len(X)"
   ]
  },
  {
   "cell_type": "code",
   "execution_count": 14,
   "metadata": {
    "ExecuteTime": {
     "end_time": "2017-10-15T03:32:03.125346Z",
     "start_time": "2017-10-15T03:32:03.120271Z"
    }
   },
   "outputs": [
    {
     "data": {
      "text/plain": [
       "0.66055045871559637"
      ]
     },
     "execution_count": 14,
     "metadata": {},
     "output_type": "execute_result"
    }
   ],
   "source": [
    "d = accuracy_score(y_test, predict_dem(X_test))\n",
    "d"
   ]
  },
  {
   "cell_type": "code",
   "execution_count": 15,
   "metadata": {
    "ExecuteTime": {
     "end_time": "2017-10-15T03:32:03.451882Z",
     "start_time": "2017-10-15T03:32:03.445659Z"
    }
   },
   "outputs": [
    {
     "data": {
      "text/plain": [
       "0.33944954128440369"
      ]
     },
     "execution_count": 15,
     "metadata": {},
     "output_type": "execute_result"
    }
   ],
   "source": [
    "r = accuracy_score(y_test, predict_rep(X_test))\n",
    "r"
   ]
  },
  {
   "cell_type": "code",
   "execution_count": 16,
   "metadata": {
    "ExecuteTime": {
     "end_time": "2017-10-15T03:32:03.974504Z",
     "start_time": "2017-10-15T03:32:03.703156Z"
    }
   },
   "outputs": [
    {
     "data": {
      "image/png": "[encoded data removed]",
      "text/plain": [
       "<matplotlib.figure.Figure at 0x10f78e860>"
      ]
     },
     "metadata": {},
     "output_type": "display_data"
    }
   ],
   "source": [
    "plt.figure(figsize=(15, 9))\n",
    "plt.axis([0, 20, 0, 1.2])\n",
    "plt.yticks([i*0.2 for i in range(1, 6)])\n",
    "plt.xticks([0, 10, 20])\n",
    "plt.xlabel('Number of neighbors', fontsize='x-large')\n",
    "plt.ylabel('Accuracy Score', fontsize='x-large')\n",
    "plt.plot(x, y, label = 'k-means')\n",
    "plt.plot(x, [r]*len(x), label = 'republican')\n",
    "plt.plot(x, [d]*len(x), label = 'democrat')\n",
    "plt.plot(x, [l]*len(x), label = 'logistic' )\n",
    "plt.title(\"Model Accuracy Scores\", fontsize='xx-large')\n",
    "plt.legend(fontsize='x-large', shadow=True);"
   ]
  },
  {
   "cell_type": "code",
   "execution_count": 17,
   "metadata": {
    "ExecuteTime": {
     "end_time": "2017-10-15T03:32:04.354294Z",
     "start_time": "2017-10-15T03:32:04.060762Z"
    }
   },
   "outputs": [
    {
     "data": {
      "image/png": "[encoded data removed]",
      "text/plain": [
       "<matplotlib.figure.Figure at 0x10f781208>"
      ]
     },
     "metadata": {},
     "output_type": "display_data"
    }
   ],
   "source": [
    "train_sizes, train_scores, valid_scores = learning_curve(log_reg, df[list(range(16))], df.party)\n",
    "plt.figure(figsize=(15, 9))\n",
    "plt.plot(train_sizes, train_scores)\n",
    "plt.plot(train_sizes, valid_scores);"
   ]
  },
  {
   "cell_type": "code",
   "execution_count": 18,
   "metadata": {
    "ExecuteTime": {
     "end_time": "2017-10-15T03:32:05.237777Z",
     "start_time": "2017-10-15T03:32:04.944731Z"
    }
   },
   "outputs": [
    {
     "data": {
      "image/png": "[encoded data removed]",
      "text/plain": [
       "<matplotlib.figure.Figure at 0x10f6c5160>"
      ]
     },
     "metadata": {},
     "output_type": "display_data"
    }
   ],
   "source": [
    "train_avg = np.mean(train_scores, axis=1)\n",
    "valid_avg = np.mean(valid_scores, axis=1)\n",
    "plt.figure(figsize=(15, 9))\n",
    "plt.plot(train_sizes, train_avg, label='training')\n",
    "plt.plot(train_sizes, valid_avg, label='test')\n",
    "plt.legend(fontsize='x-large');"
   ]
  },
  {
   "cell_type": "code",
   "execution_count": 19,
   "metadata": {
    "ExecuteTime": {
     "end_time": "2017-10-15T03:32:05.414349Z",
     "start_time": "2017-10-15T03:32:05.408026Z"
    },
    "collapsed": true
   },
   "outputs": [],
   "source": [
    "models = {}\n",
    "models['GNB'] = GaussianNB()\n",
    "models['SVC'] = SVC()\n",
    "models['DTree'] = DecisionTreeClassifier()\n",
    "models['RFor'] = RandomForestClassifier()"
   ]
  },
  {
   "cell_type": "code",
   "execution_count": 20,
   "metadata": {
    "ExecuteTime": {
     "end_time": "2017-10-15T03:32:05.795512Z",
     "start_time": "2017-10-15T03:32:05.770086Z"
    }
   },
   "outputs": [
    {
     "name": "stdout",
     "output_type": "stream",
     "text": [
      "Name: GNB, Score: 0.94495412844\n",
      "Name: SVC, Score: 0.94495412844\n",
      "Name: DTree, Score: 0.917431192661\n",
      "Name: RFor, Score: 0.963302752294\n"
     ]
    }
   ],
   "source": [
    "for name, model in models.items():\n",
    "    model.fit(X_train, y_train)\n",
    "    s = accuracy_score(y_test, model.predict(X_test))\n",
    "    print(\"Name: %s, Score: %s\" % (name, s))"
   ]
  },
  {
   "cell_type": "code",
   "execution_count": 21,
   "metadata": {
    "ExecuteTime": {
     "end_time": "2017-10-15T03:32:06.456203Z",
     "start_time": "2017-10-15T03:32:06.118700Z"
    }
   },
   "outputs": [
    {
     "name": "stdout",
     "output_type": "stream",
     "text": [
      "Model: GNB \tCross-V Score: 0.931034482759\n",
      "Model: SVC \tCross-V Score: 0.954022988506\n",
      "Model: DTree \tCross-V Score: 0.954022988506\n",
      "Model: RFor \tCross-V Score: 0.951724137931\n",
      "Model: LogReg \tCross-V Score: 0.96091954023\n",
      "Model: 1_nbrs \tCross-V Score: 0.935632183908\n",
      "Model: 2_nbrs \tCross-V Score: 0.951724137931\n",
      "Model: 3_nbrs \tCross-V Score: 0.931034482759\n",
      "Model: 4_nbrs \tCross-V Score: 0.940229885057\n",
      "Model: 5_nbrs \tCross-V Score: 0.933333333333\n",
      "Model: 6_nbrs \tCross-V Score: 0.933333333333\n",
      "Model: 7_nbrs \tCross-V Score: 0.933333333333\n",
      "Model: 8_nbrs \tCross-V Score: 0.933333333333\n",
      "Model: 9_nbrs \tCross-V Score: 0.924137931034\n",
      "Model: 10_nbrs \tCross-V Score: 0.931034482759\n",
      "Model: 11_nbrs \tCross-V Score: 0.926436781609\n",
      "Model: 12_nbrs \tCross-V Score: 0.926436781609\n",
      "Model: 13_nbrs \tCross-V Score: 0.92183908046\n",
      "Model: 14_nbrs \tCross-V Score: 0.924137931034\n",
      "Model: 15_nbrs \tCross-V Score: 0.92183908046\n",
      "Model: 16_nbrs \tCross-V Score: 0.926436781609\n",
      "Model: 17_nbrs \tCross-V Score: 0.92183908046\n",
      "Model: 18_nbrs \tCross-V Score: 0.92183908046\n",
      "Model: 19_nbrs \tCross-V Score: 0.91724137931\n",
      "Model: 20_nbrs \tCross-V Score: 0.91724137931\n"
     ]
    }
   ],
   "source": [
    "models['LogReg'] = log_reg\n",
    "for k in range(1, 21):\n",
    "    models[str(k)+'_nbrs'] = KNeighborsClassifier(n_neighbors = k)\n",
    "for name, model in models.items():\n",
    "    s = np.mean(cross_val_score(model, df[list(range(16))], df.party))\n",
    "    print('Model: %s \\tCross-V Score: %s' % (name, s))"
   ]
  },
  {
   "cell_type": "code",
   "execution_count": 22,
   "metadata": {
    "ExecuteTime": {
     "end_time": "2017-10-15T03:32:06.627734Z",
     "start_time": "2017-10-15T03:32:06.501266Z"
    }
   },
   "outputs": [
    {
     "name": "stdout",
     "output_type": "stream",
     "text": [
      "Challenge 7.ipynb   house-votes-84.data\r\n"
     ]
    }
   ],
   "source": [
    "!ls"
   ]
  },
  {
   "cell_type": "code",
   "execution_count": 73,
   "metadata": {
    "ExecuteTime": {
     "end_time": "2017-10-15T03:53:18.365837Z",
     "start_time": "2017-10-15T03:53:18.359562Z"
    },
    "collapsed": true
   },
   "outputs": [],
   "source": [
    "df = pd.read_csv('house-votes-84.data', names = list(range(16))+ ['party'])"
   ]
  },
  {
   "cell_type": "code",
   "execution_count": 74,
   "metadata": {
    "ExecuteTime": {
     "end_time": "2017-10-15T03:53:18.658241Z",
     "start_time": "2017-10-15T03:53:18.653616Z"
    },
    "collapsed": true
   },
   "outputs": [],
   "source": [
    "votes_only = (df[list(range(16))]).copy()"
   ]
  },
  {
   "cell_type": "code",
   "execution_count": 75,
   "metadata": {
    "ExecuteTime": {
     "end_time": "2017-10-15T03:53:19.004809Z",
     "start_time": "2017-10-15T03:53:18.995926Z"
    },
    "collapsed": true
   },
   "outputs": [],
   "source": [
    "votes_only.replace(to_replace={'n' : 0, 'y' : 1, '?' : np.nan}, inplace=True)\n"
   ]
  },
  {
   "cell_type": "code",
   "execution_count": 81,
   "metadata": {
    "ExecuteTime": {
     "end_time": "2017-10-15T03:55:05.617461Z",
     "start_time": "2017-10-15T03:55:05.603906Z"
    },
    "collapsed": true
   },
   "outputs": [],
   "source": [
    "modes = [votes_only[i].mode() for i in range(16)]\n",
    "for i in range(16):\n",
    "    votes_only[i].fillna(int(votes_only[i].mode()), inplace=True)"
   ]
  },
  {
   "cell_type": "code",
   "execution_count": 87,
   "metadata": {
    "ExecuteTime": {
     "end_time": "2017-10-15T03:58:57.105729Z",
     "start_time": "2017-10-15T03:58:57.089095Z"
    }
   },
   "outputs": [
    {
     "data": {
      "text/plain": [
       "0.84822359558424754"
      ]
     },
     "execution_count": 87,
     "metadata": {},
     "output_type": "execute_result"
    }
   ],
   "source": [
    "X = votes_only[list(range(15))]\n",
    "y = votes_only[15]\n",
    "log_reg = LogisticRegression()\n",
    "np.mean(cross_val_score(log_reg, X, y))"
   ]
  },
  {
   "cell_type": "code",
   "execution_count": 88,
   "metadata": {
    "ExecuteTime": {
     "end_time": "2017-10-15T04:00:56.236364Z",
     "start_time": "2017-10-15T04:00:56.103346Z"
    }
   },
   "outputs": [
    {
     "name": "stdout",
     "output_type": "stream",
     "text": [
      "2013_movies.csv            heavy_metal_parsed.pkl.zip\r\n",
      "Challenge 7.ipynb          house-votes-84.data\r\n",
      "data.txt                   ships.dta\r\n",
      "haberman.data              titanic_train.csv\r\n"
     ]
    }
   ],
   "source": [
    "!ls"
   ]
  },
  {
   "cell_type": "code",
   "execution_count": 128,
   "metadata": {
    "ExecuteTime": {
     "end_time": "2017-10-15T04:14:13.086877Z",
     "start_time": "2017-10-15T04:14:13.065439Z"
    }
   },
   "outputs": [
    {
     "data": {
      "text/html": [
       "<div>\n",
       "<style>\n",
       "    .dataframe thead tr:only-child th {\n",
       "        text-align: right;\n",
       "    }\n",
       "\n",
       "    .dataframe thead th {\n",
       "        text-align: left;\n",
       "    }\n",
       "\n",
       "    .dataframe tbody tr th {\n",
       "        vertical-align: top;\n",
       "    }\n",
       "</style>\n",
       "<table border=\"1\" class=\"dataframe\">\n",
       "  <thead>\n",
       "    <tr style=\"text-align: right;\">\n",
       "      <th></th>\n",
       "      <th>Title</th>\n",
       "      <th>Budget</th>\n",
       "      <th>DomesticTotalGross</th>\n",
       "      <th>Director</th>\n",
       "      <th>Rating</th>\n",
       "      <th>Runtime</th>\n",
       "      <th>ReleaseDate</th>\n",
       "    </tr>\n",
       "  </thead>\n",
       "  <tbody>\n",
       "    <tr>\n",
       "      <th>0</th>\n",
       "      <td>The Hunger Games: Catching Fire</td>\n",
       "      <td>130000000.0</td>\n",
       "      <td>424668047</td>\n",
       "      <td>Francis Lawrence</td>\n",
       "      <td>PG-13</td>\n",
       "      <td>146</td>\n",
       "      <td>2013-11-22 00:00:00</td>\n",
       "    </tr>\n",
       "    <tr>\n",
       "      <th>1</th>\n",
       "      <td>Iron Man 3</td>\n",
       "      <td>200000000.0</td>\n",
       "      <td>409013994</td>\n",
       "      <td>Shane Black</td>\n",
       "      <td>PG-13</td>\n",
       "      <td>129</td>\n",
       "      <td>2013-05-03 00:00:00</td>\n",
       "    </tr>\n",
       "    <tr>\n",
       "      <th>2</th>\n",
       "      <td>Frozen</td>\n",
       "      <td>150000000.0</td>\n",
       "      <td>400738009</td>\n",
       "      <td>Chris BuckJennifer Lee</td>\n",
       "      <td>PG</td>\n",
       "      <td>108</td>\n",
       "      <td>2013-11-22 00:00:00</td>\n",
       "    </tr>\n",
       "    <tr>\n",
       "      <th>3</th>\n",
       "      <td>Despicable Me 2</td>\n",
       "      <td>76000000.0</td>\n",
       "      <td>368061265</td>\n",
       "      <td>Pierre CoffinChris Renaud</td>\n",
       "      <td>PG</td>\n",
       "      <td>98</td>\n",
       "      <td>2013-07-03 00:00:00</td>\n",
       "    </tr>\n",
       "    <tr>\n",
       "      <th>4</th>\n",
       "      <td>Man of Steel</td>\n",
       "      <td>225000000.0</td>\n",
       "      <td>291045518</td>\n",
       "      <td>Zack Snyder</td>\n",
       "      <td>PG-13</td>\n",
       "      <td>143</td>\n",
       "      <td>2013-06-14 00:00:00</td>\n",
       "    </tr>\n",
       "  </tbody>\n",
       "</table>\n",
       "</div>"
      ],
      "text/plain": [
       "                             Title       Budget  DomesticTotalGross  \\\n",
       "0  The Hunger Games: Catching Fire  130000000.0           424668047   \n",
       "1                       Iron Man 3  200000000.0           409013994   \n",
       "2                           Frozen  150000000.0           400738009   \n",
       "3                  Despicable Me 2   76000000.0           368061265   \n",
       "4                     Man of Steel  225000000.0           291045518   \n",
       "\n",
       "                    Director Rating  Runtime          ReleaseDate  \n",
       "0           Francis Lawrence  PG-13      146  2013-11-22 00:00:00  \n",
       "1                Shane Black  PG-13      129  2013-05-03 00:00:00  \n",
       "2     Chris BuckJennifer Lee     PG      108  2013-11-22 00:00:00  \n",
       "3  Pierre CoffinChris Renaud     PG       98  2013-07-03 00:00:00  \n",
       "4                Zack Snyder  PG-13      143  2013-06-14 00:00:00  "
      ]
     },
     "execution_count": 128,
     "metadata": {},
     "output_type": "execute_result"
    }
   ],
   "source": [
    "movies = pd.read_csv('2013_movies.csv', parse_dates=True, infer_datetime_format=True)\n",
    "movies.dropna(inplace=True)\n",
    "movies.head()"
   ]
  },
  {
   "cell_type": "code",
   "execution_count": 129,
   "metadata": {
    "ExecuteTime": {
     "end_time": "2017-10-15T04:14:13.202752Z",
     "start_time": "2017-10-15T04:14:13.196067Z"
    }
   },
   "outputs": [
    {
     "data": {
      "text/plain": [
       "Index(['Title', 'Budget', 'DomesticTotalGross', 'Director', 'Rating',\n",
       "       'Runtime', 'ReleaseDate'],\n",
       "      dtype='object')"
      ]
     },
     "execution_count": 129,
     "metadata": {},
     "output_type": "execute_result"
    }
   ],
   "source": [
    "movies.columns"
   ]
  },
  {
   "cell_type": "code",
   "execution_count": 130,
   "metadata": {
    "ExecuteTime": {
     "end_time": "2017-10-15T04:14:13.941892Z",
     "start_time": "2017-10-15T04:14:13.788126Z"
    }
   },
   "outputs": [
    {
     "data": {
      "image/png": "[encoded data removed]",
      "text/plain": [
       "<matplotlib.figure.Figure at 0x110de1e48>"
      ]
     },
     "metadata": {},
     "output_type": "display_data"
    }
   ],
   "source": [
    "X = movies[['Budget', 'DomesticTotalGross', 'Runtime']]\n",
    "y = movies.Rating\n",
    "y.value_counts().plot(kind='bar');"
   ]
  },
  {
   "cell_type": "code",
   "execution_count": 160,
   "metadata": {
    "ExecuteTime": {
     "end_time": "2017-10-15T04:31:51.000456Z",
     "start_time": "2017-10-15T04:31:50.990927Z"
    }
   },
   "outputs": [
    {
     "data": {
      "text/plain": [
       "0.59090909090909094"
      ]
     },
     "execution_count": 160,
     "metadata": {},
     "output_type": "execute_result"
    }
   ],
   "source": [
    "X_train, X_test, y_train, y_test = train_test_split(X, y)\n",
    "logit = LogisticRegression()\n",
    "logit.fit(X_train, y_train)\n",
    "accuracy_score(y_test, logit.predict(X_test))"
   ]
  },
  {
   "cell_type": "code",
   "execution_count": 173,
   "metadata": {
    "ExecuteTime": {
     "end_time": "2017-10-15T04:40:17.399432Z",
     "start_time": "2017-10-15T04:40:17.387847Z"
    }
   },
   "outputs": [
    {
     "data": {
      "text/html": [
       "<div>\n",
       "<style>\n",
       "    .dataframe thead tr:only-child th {\n",
       "        text-align: right;\n",
       "    }\n",
       "\n",
       "    .dataframe thead th {\n",
       "        text-align: left;\n",
       "    }\n",
       "\n",
       "    .dataframe tbody tr th {\n",
       "        vertical-align: top;\n",
       "    }\n",
       "</style>\n",
       "<table border=\"1\" class=\"dataframe\">\n",
       "  <thead>\n",
       "    <tr style=\"text-align: right;\">\n",
       "      <th></th>\n",
       "      <th>Budget</th>\n",
       "      <th>DomesticTotalGross</th>\n",
       "      <th>Runtime</th>\n",
       "    </tr>\n",
       "    <tr>\n",
       "      <th>Class</th>\n",
       "      <th></th>\n",
       "      <th></th>\n",
       "      <th></th>\n",
       "    </tr>\n",
       "  </thead>\n",
       "  <tbody>\n",
       "    <tr>\n",
       "      <th>PG</th>\n",
       "      <td>-7.564673e-09</td>\n",
       "      <td>-2.702937e-09</td>\n",
       "      <td>-1.711626e-13</td>\n",
       "    </tr>\n",
       "    <tr>\n",
       "      <th>PG-13</th>\n",
       "      <td>9.316166e-09</td>\n",
       "      <td>-4.442251e-09</td>\n",
       "      <td>-3.755940e-14</td>\n",
       "    </tr>\n",
       "    <tr>\n",
       "      <th>R</th>\n",
       "      <td>-2.154550e-08</td>\n",
       "      <td>3.775304e-09</td>\n",
       "      <td>1.112591e-13</td>\n",
       "    </tr>\n",
       "  </tbody>\n",
       "</table>\n",
       "</div>"
      ],
      "text/plain": [
       "             Budget  DomesticTotalGross       Runtime\n",
       "Class                                                \n",
       "PG    -7.564673e-09       -2.702937e-09 -1.711626e-13\n",
       "PG-13  9.316166e-09       -4.442251e-09 -3.755940e-14\n",
       "R     -2.154550e-08        3.775304e-09  1.112591e-13"
      ]
     },
     "execution_count": 173,
     "metadata": {},
     "output_type": "execute_result"
    }
   ],
   "source": [
    "coefs = pd.DataFrame([[logit.classes_[i]] + list(logit.coef_[i]) for i in range(3)], columns=['Class', 'Budget', 'DomesticTotalGross', 'Runtime']).set_index('Class')\n",
    "coefs"
   ]
  },
  {
   "cell_type": "markdown",
   "metadata": {},
   "source": [
    "In other words, Budget is a positive predictor for PG-13s, and Gross and Runtime are positive predictors for Rs"
   ]
  },
  {
   "cell_type": "code",
   "execution_count": 262,
   "metadata": {
    "ExecuteTime": {
     "end_time": "2017-10-15T05:40:25.126410Z",
     "start_time": "2017-10-15T05:40:25.091515Z"
    }
   },
   "outputs": [
    {
     "name": "stdout",
     "output_type": "stream",
     "text": [
      "KNN, k = 1: \tscore = 0.701298701299\n",
      "KNN, k = 2: \tscore = 0.623376623377\n",
      "KNN, k = 3: \tscore = 0.727272727273\n",
      "KNN, k = 4: \tscore = 0.688311688312\n",
      "KNN, k = 5: \tscore = 0.779220779221\n",
      "KNN, k = 6: \tscore = 0.753246753247\n",
      "KNN, k = 7: \tscore = 0.805194805195\n",
      "KNN, k = 8: \tscore = 0.779220779221\n",
      "KNN, k = 9: \tscore = 0.818181818182\n",
      "KNN, k = 10: \tscore = 0.818181818182\n",
      "KNN, k = 11: \tscore = 0.818181818182\n",
      "KNN, k = 12: \tscore = 0.805194805195\n",
      "KNN, k = 13: \tscore = 0.805194805195\n",
      "KNN, k = 14: \tscore = 0.805194805195\n",
      "KNN, k = 15: \tscore = 0.792207792208\n",
      "KNN, k = 16: \tscore = 0.805194805195\n",
      "KNN, k = 17: \tscore = 0.779220779221\n",
      "KNN, k = 18: \tscore = 0.779220779221\n",
      "KNN, k = 19: \tscore = 0.779220779221\n",
      "KNN, k = 20: \tscore = 0.792207792208\n"
     ]
    }
   ],
   "source": [
    "for k in range(1, 21):\n",
    "    m = KNeighborsClassifier(n_neighbors=k)\n",
    "    m.fit(X_train, y_train)\n",
    "    s = accuracy_score(y_test, m.predict(X_test))\n",
    "    print('KNN, k = %s: \\tscore = %s' % (k, s))"
   ]
  },
  {
   "cell_type": "code",
   "execution_count": 174,
   "metadata": {
    "ExecuteTime": {
     "end_time": "2017-10-15T04:56:30.505696Z",
     "start_time": "2017-10-15T04:56:30.477088Z"
    }
   },
   "outputs": [
    {
     "data": {
      "text/html": [
       "<div>\n",
       "<style>\n",
       "    .dataframe thead tr:only-child th {\n",
       "        text-align: right;\n",
       "    }\n",
       "\n",
       "    .dataframe thead th {\n",
       "        text-align: left;\n",
       "    }\n",
       "\n",
       "    .dataframe tbody tr th {\n",
       "        vertical-align: top;\n",
       "    }\n",
       "</style>\n",
       "<table border=\"1\" class=\"dataframe\">\n",
       "  <thead>\n",
       "    <tr style=\"text-align: right;\">\n",
       "      <th></th>\n",
       "      <th>Rating</th>\n",
       "      <th>Predicted Rating</th>\n",
       "    </tr>\n",
       "    <tr>\n",
       "      <th>Title</th>\n",
       "      <th></th>\n",
       "      <th></th>\n",
       "    </tr>\n",
       "  </thead>\n",
       "  <tbody>\n",
       "    <tr>\n",
       "      <th>The Purge</th>\n",
       "      <td>R</td>\n",
       "      <td>R</td>\n",
       "    </tr>\n",
       "    <tr>\n",
       "      <th>Gangster Squad</th>\n",
       "      <td>R</td>\n",
       "      <td>PG-13</td>\n",
       "    </tr>\n",
       "    <tr>\n",
       "      <th>White House Down</th>\n",
       "      <td>PG-13</td>\n",
       "      <td>PG-13</td>\n",
       "    </tr>\n",
       "    <tr>\n",
       "      <th>Evil Dead</th>\n",
       "      <td>R</td>\n",
       "      <td>R</td>\n",
       "    </tr>\n",
       "    <tr>\n",
       "      <th>Fast &amp; Furious 6</th>\n",
       "      <td>PG-13</td>\n",
       "      <td>PG-13</td>\n",
       "    </tr>\n",
       "    <tr>\n",
       "      <th>R.I.P.D.</th>\n",
       "      <td>PG-13</td>\n",
       "      <td>PG-13</td>\n",
       "    </tr>\n",
       "    <tr>\n",
       "      <th>The Call</th>\n",
       "      <td>R</td>\n",
       "      <td>R</td>\n",
       "    </tr>\n",
       "    <tr>\n",
       "      <th>A Good Day to Die Hard</th>\n",
       "      <td>R</td>\n",
       "      <td>PG</td>\n",
       "    </tr>\n",
       "    <tr>\n",
       "      <th>Riddick</th>\n",
       "      <td>R</td>\n",
       "      <td>R</td>\n",
       "    </tr>\n",
       "    <tr>\n",
       "      <th>Grown Ups 2</th>\n",
       "      <td>PG-13</td>\n",
       "      <td>PG-13</td>\n",
       "    </tr>\n",
       "    <tr>\n",
       "      <th>Anchorman 2: The Legend Continues</th>\n",
       "      <td>PG-13</td>\n",
       "      <td>PG-13</td>\n",
       "    </tr>\n",
       "    <tr>\n",
       "      <th>Jackass Presents: Bad Grandpa</th>\n",
       "      <td>R</td>\n",
       "      <td>PG-13</td>\n",
       "    </tr>\n",
       "    <tr>\n",
       "      <th>The Smurfs 2</th>\n",
       "      <td>PG</td>\n",
       "      <td>PG-13</td>\n",
       "    </tr>\n",
       "    <tr>\n",
       "      <th>The Wolverine</th>\n",
       "      <td>PG-13</td>\n",
       "      <td>PG-13</td>\n",
       "    </tr>\n",
       "    <tr>\n",
       "      <th>The Great Gatsby</th>\n",
       "      <td>PG-13</td>\n",
       "      <td>PG</td>\n",
       "    </tr>\n",
       "    <tr>\n",
       "      <th>The Secret Life of Walter Mitty</th>\n",
       "      <td>PG</td>\n",
       "      <td>PG</td>\n",
       "    </tr>\n",
       "    <tr>\n",
       "      <th>The Lone Ranger</th>\n",
       "      <td>PG-13</td>\n",
       "      <td>PG-13</td>\n",
       "    </tr>\n",
       "    <tr>\n",
       "      <th>We're the Millers</th>\n",
       "      <td>R</td>\n",
       "      <td>R</td>\n",
       "    </tr>\n",
       "    <tr>\n",
       "      <th>The Wolf of Wall Street</th>\n",
       "      <td>R</td>\n",
       "      <td>PG-13</td>\n",
       "    </tr>\n",
       "    <tr>\n",
       "      <th>Elysium</th>\n",
       "      <td>R</td>\n",
       "      <td>PG</td>\n",
       "    </tr>\n",
       "    <tr>\n",
       "      <th>Philomena</th>\n",
       "      <td>PG-13</td>\n",
       "      <td>R</td>\n",
       "    </tr>\n",
       "    <tr>\n",
       "      <th>Escape From Planet Earth</th>\n",
       "      <td>PG</td>\n",
       "      <td>PG-13</td>\n",
       "    </tr>\n",
       "  </tbody>\n",
       "</table>\n",
       "</div>"
      ],
      "text/plain": [
       "                                  Rating Predicted Rating\n",
       "Title                                                    \n",
       "The Purge                              R                R\n",
       "Gangster Squad                         R            PG-13\n",
       "White House Down                   PG-13            PG-13\n",
       "Evil Dead                              R                R\n",
       "Fast & Furious 6                   PG-13            PG-13\n",
       "R.I.P.D.                           PG-13            PG-13\n",
       "The Call                               R                R\n",
       "A Good Day to Die Hard                 R               PG\n",
       "Riddick                                R                R\n",
       "Grown Ups 2                        PG-13            PG-13\n",
       "Anchorman 2: The Legend Continues  PG-13            PG-13\n",
       "Jackass Presents: Bad Grandpa          R            PG-13\n",
       "The Smurfs 2                          PG            PG-13\n",
       "The Wolverine                      PG-13            PG-13\n",
       "The Great Gatsby                   PG-13               PG\n",
       "The Secret Life of Walter Mitty       PG               PG\n",
       "The Lone Ranger                    PG-13            PG-13\n",
       "We're the Millers                      R                R\n",
       "The Wolf of Wall Street                R            PG-13\n",
       "Elysium                                R               PG\n",
       "Philomena                          PG-13                R\n",
       "Escape From Planet Earth              PG            PG-13"
      ]
     },
     "execution_count": 174,
     "metadata": {},
     "output_type": "execute_result"
    }
   ],
   "source": [
    "five_nearest_nhbrs = KNeighborsClassifier(n_neighbors=5)\n",
    "five_nearest_nhbrs.fit(X_train, y_train)\n",
    "\n",
    "reconstruct = X_test.copy()\n",
    "reconstruct['Rating'] = y_test\n",
    "reconstruct['Predicted Rating'] = five_nearest_nhbrs.predict(X_test)\n",
    "reconstruct.merge(movies)[['Title', 'Rating', 'Predicted Rating']].set_index('Title')"
   ]
  },
  {
   "cell_type": "code",
   "execution_count": 175,
   "metadata": {
    "ExecuteTime": {
     "end_time": "2017-10-15T04:56:39.041445Z",
     "start_time": "2017-10-15T04:56:39.035375Z"
    }
   },
   "outputs": [
    {
     "data": {
      "text/plain": [
       "0.4090909090909091"
      ]
     },
     "execution_count": 175,
     "metadata": {},
     "output_type": "execute_result"
    }
   ],
   "source": [
    "#Accuracy of Guessing Mode (PG-13)\n",
    "len(y_test[y_test == 'PG-13'])/len(y_test)"
   ]
  },
  {
   "cell_type": "code",
   "execution_count": 176,
   "metadata": {
    "ExecuteTime": {
     "end_time": "2017-10-15T04:56:50.218080Z",
     "start_time": "2017-10-15T04:56:50.087039Z"
    }
   },
   "outputs": [
    {
     "name": "stdout",
     "output_type": "stream",
     "text": [
      "2013_movies.csv            heavy_metal_parsed.pkl.zip\r\n",
      "Challenge 7.ipynb          house-votes-84.data\r\n",
      "data.txt                   ships.dta\r\n",
      "haberman.data              titanic_train.csv\r\n"
     ]
    }
   ],
   "source": [
    "!ls"
   ]
  },
  {
   "cell_type": "code",
   "execution_count": 264,
   "metadata": {
    "ExecuteTime": {
     "end_time": "2017-10-15T07:41:12.269383Z",
     "start_time": "2017-10-15T07:41:12.251865Z"
    }
   },
   "outputs": [
    {
     "data": {
      "text/html": [
       "<div>\n",
       "<style>\n",
       "    .dataframe thead tr:only-child th {\n",
       "        text-align: right;\n",
       "    }\n",
       "\n",
       "    .dataframe thead th {\n",
       "        text-align: left;\n",
       "    }\n",
       "\n",
       "    .dataframe tbody tr th {\n",
       "        vertical-align: top;\n",
       "    }\n",
       "</style>\n",
       "<table border=\"1\" class=\"dataframe\">\n",
       "  <thead>\n",
       "    <tr style=\"text-align: right;\">\n",
       "      <th></th>\n",
       "      <th>age</th>\n",
       "      <th>year</th>\n",
       "      <th>nodes</th>\n",
       "      <th>survived</th>\n",
       "    </tr>\n",
       "  </thead>\n",
       "  <tbody>\n",
       "    <tr>\n",
       "      <th>0</th>\n",
       "      <td>30</td>\n",
       "      <td>64</td>\n",
       "      <td>1</td>\n",
       "      <td>1</td>\n",
       "    </tr>\n",
       "    <tr>\n",
       "      <th>1</th>\n",
       "      <td>30</td>\n",
       "      <td>62</td>\n",
       "      <td>3</td>\n",
       "      <td>1</td>\n",
       "    </tr>\n",
       "    <tr>\n",
       "      <th>2</th>\n",
       "      <td>30</td>\n",
       "      <td>65</td>\n",
       "      <td>0</td>\n",
       "      <td>1</td>\n",
       "    </tr>\n",
       "    <tr>\n",
       "      <th>3</th>\n",
       "      <td>31</td>\n",
       "      <td>59</td>\n",
       "      <td>2</td>\n",
       "      <td>1</td>\n",
       "    </tr>\n",
       "    <tr>\n",
       "      <th>4</th>\n",
       "      <td>31</td>\n",
       "      <td>65</td>\n",
       "      <td>4</td>\n",
       "      <td>1</td>\n",
       "    </tr>\n",
       "    <tr>\n",
       "      <th>5</th>\n",
       "      <td>33</td>\n",
       "      <td>58</td>\n",
       "      <td>10</td>\n",
       "      <td>1</td>\n",
       "    </tr>\n",
       "    <tr>\n",
       "      <th>6</th>\n",
       "      <td>33</td>\n",
       "      <td>60</td>\n",
       "      <td>0</td>\n",
       "      <td>1</td>\n",
       "    </tr>\n",
       "    <tr>\n",
       "      <th>7</th>\n",
       "      <td>34</td>\n",
       "      <td>59</td>\n",
       "      <td>0</td>\n",
       "      <td>0</td>\n",
       "    </tr>\n",
       "    <tr>\n",
       "      <th>8</th>\n",
       "      <td>34</td>\n",
       "      <td>66</td>\n",
       "      <td>9</td>\n",
       "      <td>0</td>\n",
       "    </tr>\n",
       "    <tr>\n",
       "      <th>9</th>\n",
       "      <td>34</td>\n",
       "      <td>58</td>\n",
       "      <td>30</td>\n",
       "      <td>1</td>\n",
       "    </tr>\n",
       "  </tbody>\n",
       "</table>\n",
       "</div>"
      ],
      "text/plain": [
       "   age  year  nodes  survived\n",
       "0   30    64      1         1\n",
       "1   30    62      3         1\n",
       "2   30    65      0         1\n",
       "3   31    59      2         1\n",
       "4   31    65      4         1\n",
       "5   33    58     10         1\n",
       "6   33    60      0         1\n",
       "7   34    59      0         0\n",
       "8   34    66      9         0\n",
       "9   34    58     30         1"
      ]
     },
     "execution_count": 264,
     "metadata": {},
     "output_type": "execute_result"
    }
   ],
   "source": [
    "sur = pd.read_csv('haberman.data', names=['age', 'year', 'nodes', 'survived'])\n",
    "sur.survived.replace(2, 0, inplace=True)\n",
    "sur.head(10)"
   ]
  },
  {
   "cell_type": "code",
   "execution_count": 197,
   "metadata": {
    "ExecuteTime": {
     "end_time": "2017-10-15T05:05:24.387738Z",
     "start_time": "2017-10-15T05:05:24.376928Z"
    }
   },
   "outputs": [
    {
     "data": {
      "text/plain": [
       "(52.45751633986928, 10.80345234930328)"
      ]
     },
     "execution_count": 197,
     "metadata": {},
     "output_type": "execute_result"
    }
   ],
   "source": [
    "sur.age.mean(), sur.age.std()"
   ]
  },
  {
   "cell_type": "code",
   "execution_count": 199,
   "metadata": {
    "ExecuteTime": {
     "end_time": "2017-10-15T05:06:17.234666Z",
     "start_time": "2017-10-15T05:06:17.228602Z"
    }
   },
   "outputs": [
    {
     "data": {
      "text/plain": [
       "(52.01777777777778, 11.012154179929546)"
      ]
     },
     "execution_count": 199,
     "metadata": {},
     "output_type": "execute_result"
    }
   ],
   "source": [
    "yes = sur[sur.survived == 1]\n",
    "yes.age.mean(), yes.age.std()"
   ]
  },
  {
   "cell_type": "code",
   "execution_count": 200,
   "metadata": {
    "ExecuteTime": {
     "end_time": "2017-10-15T05:06:46.183174Z",
     "start_time": "2017-10-15T05:06:46.176909Z"
    }
   },
   "outputs": [
    {
     "data": {
      "text/plain": [
       "(53.67901234567901, 10.16713720829741)"
      ]
     },
     "execution_count": 200,
     "metadata": {},
     "output_type": "execute_result"
    }
   ],
   "source": [
    "no = sur[sur.survived == 0]\n",
    "no.age.mean(), no.age.std()"
   ]
  },
  {
   "cell_type": "code",
   "execution_count": 235,
   "metadata": {
    "ExecuteTime": {
     "end_time": "2017-10-15T05:22:17.402613Z",
     "start_time": "2017-10-15T05:22:16.953612Z"
    }
   },
   "outputs": [
    {
     "data": {
      "text/plain": [
       "<matplotlib.axes._subplots.AxesSubplot at 0x1147965f8>"
      ]
     },
     "execution_count": 235,
     "metadata": {},
     "output_type": "execute_result"
    },
    {
     "data": {
      "image/png": "[encoded data removed]",
      "text/plain": [
       "<matplotlib.figure.Figure at 0x1147964e0>"
      ]
     },
     "metadata": {},
     "output_type": "display_data"
    }
   ],
   "source": [
    "plt.figure(figsize=(15, 9))\n",
    "plt.title('Histogram of Number of Nodes', fontsize='xx-large')\n",
    "plt.xlabel('Number of Nodes', fontsize='x-large')\n",
    "sur.nodes.value_counts().sort_index().plot(kind='bar');"
   ]
  },
  {
   "cell_type": "code",
   "execution_count": 236,
   "metadata": {
    "ExecuteTime": {
     "end_time": "2017-10-15T05:22:26.266556Z",
     "start_time": "2017-10-15T05:22:25.596893Z"
    }
   },
   "outputs": [
    {
     "data": {
      "image/png": "[encoded data removed]",
      "text/plain": [
       "<matplotlib.figure.Figure at 0x114a1aeb8>"
      ]
     },
     "metadata": {},
     "output_type": "display_data"
    }
   ],
   "source": [
    "plt.figure(figsize=(15, 9))\n",
    "plt.title('Histogram of Ages', fontsize='xx-large')\n",
    "plt.xlabel('Age', fontsize='x-large')\n",
    "sur.age.value_counts().sort_index().plot(kind='bar');"
   ]
  },
  {
   "cell_type": "code",
   "execution_count": 239,
   "metadata": {
    "ExecuteTime": {
     "end_time": "2017-10-15T05:23:11.590054Z",
     "start_time": "2017-10-15T05:23:11.584633Z"
    }
   },
   "outputs": [
    {
     "data": {
      "text/plain": [
       "'1958'"
      ]
     },
     "execution_count": 239,
     "metadata": {},
     "output_type": "execute_result"
    }
   ],
   "source": [
    "#earliest\n",
    "'19' + str(sur.year.min())"
   ]
  },
  {
   "cell_type": "code",
   "execution_count": 240,
   "metadata": {
    "ExecuteTime": {
     "end_time": "2017-10-15T05:23:28.628875Z",
     "start_time": "2017-10-15T05:23:28.624073Z"
    }
   },
   "outputs": [
    {
     "data": {
      "text/plain": [
       "'1969'"
      ]
     },
     "execution_count": 240,
     "metadata": {},
     "output_type": "execute_result"
    }
   ],
   "source": [
    "#recentmost\n",
    "'19' + str(sur.year.max())"
   ]
  },
  {
   "cell_type": "code",
   "execution_count": 243,
   "metadata": {
    "ExecuteTime": {
     "end_time": "2017-10-15T05:26:41.820306Z",
     "start_time": "2017-10-15T05:26:41.816003Z"
    },
    "collapsed": true
   },
   "outputs": [],
   "source": [
    "X = sur[['age', 'year', 'nodes']]\n",
    "y = sur.survived"
   ]
  },
  {
   "cell_type": "code",
   "execution_count": 244,
   "metadata": {
    "ExecuteTime": {
     "end_time": "2017-10-15T05:27:04.223049Z",
     "start_time": "2017-10-15T05:27:04.218395Z"
    },
    "collapsed": true
   },
   "outputs": [],
   "source": [
    "X_train, X_test, y_train, y_test = train_test_split(X, y)"
   ]
  },
  {
   "cell_type": "code",
   "execution_count": 245,
   "metadata": {
    "ExecuteTime": {
     "end_time": "2017-10-15T05:27:36.652940Z",
     "start_time": "2017-10-15T05:27:36.645777Z"
    }
   },
   "outputs": [
    {
     "data": {
      "text/plain": [
       "0.81818181818181823"
      ]
     },
     "execution_count": 245,
     "metadata": {},
     "output_type": "execute_result"
    }
   ],
   "source": [
    "logit = LogisticRegression()\n",
    "logit.fit(X_train, y_train)\n",
    "accuracy_score(y_test, logit.predict(X_test))"
   ]
  },
  {
   "cell_type": "code",
   "execution_count": 246,
   "metadata": {
    "ExecuteTime": {
     "end_time": "2017-10-15T05:27:48.806482Z",
     "start_time": "2017-10-15T05:27:48.801158Z"
    }
   },
   "outputs": [
    {
     "data": {
      "text/plain": [
       "array([[-0.01903367,  0.03229215, -0.09006454]])"
      ]
     },
     "execution_count": 246,
     "metadata": {},
     "output_type": "execute_result"
    }
   ],
   "source": [
    "logit.coef_"
   ]
  },
  {
   "cell_type": "markdown",
   "metadata": {
    "ExecuteTime": {
     "end_time": "2017-10-15T05:27:53.530813Z",
     "start_time": "2017-10-15T05:27:53.526143Z"
    }
   },
   "source": [
    "Older patients are less likely to survive, as are patients with a larger number of nodes, with the latter effect being much stronger. Patients who were operated on later tended to do better as well, probably because treatment improved with time."
   ]
  },
  {
   "cell_type": "code",
   "execution_count": 260,
   "metadata": {
    "ExecuteTime": {
     "end_time": "2017-10-15T05:39:18.562245Z",
     "start_time": "2017-10-15T05:39:18.263654Z"
    }
   },
   "outputs": [
    {
     "data": {
      "image/png": "[encoded data removed]",
      "text/plain": [
       "<matplotlib.figure.Figure at 0x1158015f8>"
      ]
     },
     "metadata": {},
     "output_type": "display_data"
    }
   ],
   "source": [
    "size, train_scores, valid_scores = learning_curve(logit, X, y)\n",
    "train = np.mean(train_scores, axis=1)\n",
    "test = np.mean(valid_scores, axis=1)\n",
    "plt.figure(figsize=(15,9))\n",
    "plt.axis([18, 205, 0 , 1])\n",
    "plt.title('Learning Curves', fontsize='xx-large')\n",
    "plt.plot(size, train, label='train accuracy')\n",
    "plt.plot(size, test, label='test accuracy')\n",
    "plt.legend(fontsize='x-large', loc=4);"
   ]
  },
  {
   "cell_type": "code",
   "execution_count": null,
   "metadata": {
    "collapsed": true
   },
   "outputs": [],
   "source": []
  }
 ],
 "metadata": {
  "kernelspec": {
   "display_name": "Python 3",
   "language": "python",
   "name": "python3"
  },
  "language_info": {
   "codemirror_mode": {
    "name": "ipython",
    "version": 3
   },
   "file_extension": ".py",
   "mimetype": "text/x-python",
   "name": "python",
   "nbconvert_exporter": "python",
   "pygments_lexer": "ipython3",
   "version": "3.6.1"
  }
 },
 "nbformat": 4,
 "nbformat_minor": 2
}
