{
 "cells": [
  {
   "cell_type": "code",
   "execution_count": 93,
   "metadata": {
    "collapsed": true
   },
   "outputs": [],
   "source": [
    "import pandas as pd\n",
    "from sklearn.cross_validation import train_test_split\n",
    "from sklearn.neighbors import KNeighborsClassifier\n",
    "from sklearn.metrics import accuracy_score\n",
    "import operator\n",
    "from sklearn.linear_model import LogisticRegression\n",
    "import matplotlib.pyplot as pl\n",
    "from sklearn.learning_curve import learning_curve\n",
    "from sklearn.svm import SVC\n",
    "from sklearn.naive_bayes import GaussianNB\n",
    "from sklearn.tree import DecisionTreeClassifier\n",
    "from sklearn.ensemble import RandomForestClassifier\n",
    "from sklearn.cross_validation import cross_val_score, KFold\n",
    "import numpy as np"
   ]
  },
  {
   "cell_type": "markdown",
   "metadata": {},
   "source": [
    "<h1>Challenge 1</h1>"
   ]
  },
  {
   "cell_type": "code",
   "execution_count": 94,
   "metadata": {
    "collapsed": true
   },
   "outputs": [],
   "source": [
    "df=pd.read_csv('house-votes-84.csv')"
   ]
  },
  {
   "cell_type": "code",
   "execution_count": 95,
   "metadata": {
    "collapsed": true
   },
   "outputs": [],
   "source": [
    "df.replace('y',1, inplace=True)\n",
    "df.replace('n',0, inplace=True)\n",
    "cols=list(df.columns)\n",
    "cols.pop(0)\n",
    "for i in cols:\n",
    "    df[i].replace('?',\\\n",
    "        sum(df.replace('?',0)[i])/(len(df)-list(df[i].value_counts())[2]), inplace=True)"
   ]
  },
  {
   "cell_type": "code",
   "execution_count": 96,
   "metadata": {},
   "outputs": [
    {
     "data": {
      "text/html": [
       "<div>\n",
       "<style>\n",
       "    .dataframe thead tr:only-child th {\n",
       "        text-align: right;\n",
       "    }\n",
       "\n",
       "    .dataframe thead th {\n",
       "        text-align: left;\n",
       "    }\n",
       "\n",
       "    .dataframe tbody tr th {\n",
       "        vertical-align: top;\n",
       "    }\n",
       "</style>\n",
       "<table border=\"1\" class=\"dataframe\">\n",
       "  <thead>\n",
       "    <tr style=\"text-align: right;\">\n",
       "      <th></th>\n",
       "      <th>republican</th>\n",
       "      <th>n</th>\n",
       "      <th>y</th>\n",
       "      <th>n.1</th>\n",
       "      <th>y.1</th>\n",
       "      <th>y.2</th>\n",
       "      <th>y.3</th>\n",
       "      <th>n.2</th>\n",
       "      <th>n.3</th>\n",
       "      <th>n.4</th>\n",
       "      <th>y.4</th>\n",
       "      <th>?</th>\n",
       "      <th>y.5</th>\n",
       "      <th>y.6</th>\n",
       "      <th>y.7</th>\n",
       "      <th>n.5</th>\n",
       "      <th>y.8</th>\n",
       "    </tr>\n",
       "  </thead>\n",
       "  <tbody>\n",
       "    <tr>\n",
       "      <th>0</th>\n",
       "      <td>republican</td>\n",
       "      <td>0.000000</td>\n",
       "      <td>1.0</td>\n",
       "      <td>0.0</td>\n",
       "      <td>1.000000</td>\n",
       "      <td>1.00000</td>\n",
       "      <td>1.0</td>\n",
       "      <td>0.0</td>\n",
       "      <td>0.0</td>\n",
       "      <td>0.0</td>\n",
       "      <td>0.0</td>\n",
       "      <td>0.0</td>\n",
       "      <td>1.000000</td>\n",
       "      <td>1.0</td>\n",
       "      <td>1.0</td>\n",
       "      <td>0.0</td>\n",
       "      <td>0.72043</td>\n",
       "    </tr>\n",
       "    <tr>\n",
       "      <th>1</th>\n",
       "      <td>democrat</td>\n",
       "      <td>0.443128</td>\n",
       "      <td>1.0</td>\n",
       "      <td>1.0</td>\n",
       "      <td>0.416076</td>\n",
       "      <td>1.00000</td>\n",
       "      <td>1.0</td>\n",
       "      <td>0.0</td>\n",
       "      <td>0.0</td>\n",
       "      <td>0.0</td>\n",
       "      <td>0.0</td>\n",
       "      <td>1.0</td>\n",
       "      <td>0.000000</td>\n",
       "      <td>1.0</td>\n",
       "      <td>1.0</td>\n",
       "      <td>0.0</td>\n",
       "      <td>0.00000</td>\n",
       "    </tr>\n",
       "    <tr>\n",
       "      <th>2</th>\n",
       "      <td>democrat</td>\n",
       "      <td>0.000000</td>\n",
       "      <td>1.0</td>\n",
       "      <td>1.0</td>\n",
       "      <td>0.000000</td>\n",
       "      <td>0.50358</td>\n",
       "      <td>1.0</td>\n",
       "      <td>0.0</td>\n",
       "      <td>0.0</td>\n",
       "      <td>0.0</td>\n",
       "      <td>0.0</td>\n",
       "      <td>1.0</td>\n",
       "      <td>0.000000</td>\n",
       "      <td>1.0</td>\n",
       "      <td>0.0</td>\n",
       "      <td>0.0</td>\n",
       "      <td>1.00000</td>\n",
       "    </tr>\n",
       "    <tr>\n",
       "      <th>3</th>\n",
       "      <td>democrat</td>\n",
       "      <td>1.000000</td>\n",
       "      <td>1.0</td>\n",
       "      <td>1.0</td>\n",
       "      <td>0.000000</td>\n",
       "      <td>1.00000</td>\n",
       "      <td>1.0</td>\n",
       "      <td>0.0</td>\n",
       "      <td>0.0</td>\n",
       "      <td>0.0</td>\n",
       "      <td>0.0</td>\n",
       "      <td>1.0</td>\n",
       "      <td>0.421836</td>\n",
       "      <td>1.0</td>\n",
       "      <td>1.0</td>\n",
       "      <td>1.0</td>\n",
       "      <td>1.00000</td>\n",
       "    </tr>\n",
       "    <tr>\n",
       "      <th>4</th>\n",
       "      <td>democrat</td>\n",
       "      <td>0.000000</td>\n",
       "      <td>1.0</td>\n",
       "      <td>1.0</td>\n",
       "      <td>0.000000</td>\n",
       "      <td>1.00000</td>\n",
       "      <td>1.0</td>\n",
       "      <td>0.0</td>\n",
       "      <td>0.0</td>\n",
       "      <td>0.0</td>\n",
       "      <td>0.0</td>\n",
       "      <td>0.0</td>\n",
       "      <td>0.000000</td>\n",
       "      <td>1.0</td>\n",
       "      <td>1.0</td>\n",
       "      <td>1.0</td>\n",
       "      <td>1.00000</td>\n",
       "    </tr>\n",
       "  </tbody>\n",
       "</table>\n",
       "</div>"
      ],
      "text/plain": [
       "   republican         n    y  n.1       y.1      y.2  y.3  n.2  n.3  n.4  y.4  \\\n",
       "0  republican  0.000000  1.0  0.0  1.000000  1.00000  1.0  0.0  0.0  0.0  0.0   \n",
       "1    democrat  0.443128  1.0  1.0  0.416076  1.00000  1.0  0.0  0.0  0.0  0.0   \n",
       "2    democrat  0.000000  1.0  1.0  0.000000  0.50358  1.0  0.0  0.0  0.0  0.0   \n",
       "3    democrat  1.000000  1.0  1.0  0.000000  1.00000  1.0  0.0  0.0  0.0  0.0   \n",
       "4    democrat  0.000000  1.0  1.0  0.000000  1.00000  1.0  0.0  0.0  0.0  0.0   \n",
       "\n",
       "     ?       y.5  y.6  y.7  n.5      y.8  \n",
       "0  0.0  1.000000  1.0  1.0  0.0  0.72043  \n",
       "1  1.0  0.000000  1.0  1.0  0.0  0.00000  \n",
       "2  1.0  0.000000  1.0  0.0  0.0  1.00000  \n",
       "3  1.0  0.421836  1.0  1.0  1.0  1.00000  \n",
       "4  0.0  0.000000  1.0  1.0  1.0  1.00000  "
      ]
     },
     "execution_count": 96,
     "metadata": {},
     "output_type": "execute_result"
    }
   ],
   "source": [
    "df.head()"
   ]
  },
  {
   "cell_type": "markdown",
   "metadata": {},
   "source": [
    "<h1>Challenge 2</h1>"
   ]
  },
  {
   "cell_type": "code",
   "execution_count": 102,
   "metadata": {
    "collapsed": true
   },
   "outputs": [],
   "source": [
    "X_train, X_test, y_train, y_test = train_test_split(df.iloc[:,1:], df['republican'], test_size=.3, random_state=4444)"
   ]
  },
  {
   "cell_type": "markdown",
   "metadata": {},
   "source": [
    "<h1>Challenge 3</h1>"
   ]
  },
  {
   "cell_type": "code",
   "execution_count": 103,
   "metadata": {},
   "outputs": [
    {
     "name": "stdout",
     "output_type": "stream",
     "text": [
      "highest accuracy of 0.9312977099236641 at k=11\n"
     ]
    }
   ],
   "source": [
    "scores=[]\n",
    "Is=[]\n",
    "for i in range (1,21):\n",
    "    model=KNeighborsClassifier(n_jobs=-1, n_neighbors=i)\n",
    "    model.fit(X_train, y_train)\n",
    "    y_pred=model.predict(X_test)\n",
    "    Is.append(i)\n",
    "    scores.append(accuracy_score(y_pred, y_test))\n",
    "ind, MAX=max(enumerate(scores),  key=operator.itemgetter(1))\n",
    "print('highest accuracy of {} at k={}'.format(MAX, ind))"
   ]
  },
  {
   "cell_type": "markdown",
   "metadata": {},
   "source": [
    "<h1>Challenge 4</h1>"
   ]
  },
  {
   "cell_type": "code",
   "execution_count": 7,
   "metadata": {},
   "outputs": [
    {
     "name": "stdout",
     "output_type": "stream",
     "text": [
      "accuracy of 0.9618320610687023\n"
     ]
    }
   ],
   "source": [
    "model=LogisticRegression(n_jobs=-1)\n",
    "model.fit(X_train, y_train)\n",
    "y_pred=model.predict(X_test)\n",
    "print('accuracy of {}'.format(accuracy_score(y_pred, y_test)))"
   ]
  },
  {
   "cell_type": "markdown",
   "metadata": {},
   "source": [
    "<h1>Challenge 5</h1>"
   ]
  },
  {
   "cell_type": "code",
   "execution_count": 12,
   "metadata": {},
   "outputs": [
    {
     "data": {
      "image/png": "[encoded data removed]",
      "text/plain": [
       "<matplotlib.figure.Figure at 0x7f7b20fe7f98>"
      ]
     },
     "metadata": {},
     "output_type": "display_data"
    }
   ],
   "source": [
    "df.republican.value_counts().plot(kind='bar')\n",
    "plt.show()"
   ]
  },
  {
   "cell_type": "code",
   "execution_count": 9,
   "metadata": {},
   "outputs": [
    {
     "data": {
      "text/plain": [
       "democrat      267\n",
       "republican    167\n",
       "Name: republican, dtype: int64"
      ]
     },
     "execution_count": 9,
     "metadata": {},
     "output_type": "execute_result"
    }
   ],
   "source": [
    "df.republican.value_counts()"
   ]
  },
  {
   "cell_type": "code",
   "execution_count": 19,
   "metadata": {},
   "outputs": [
    {
     "name": "stdout",
     "output_type": "stream",
     "text": [
      "If you predict 'democrat' every time your error will be: 0.6204620462046204\n",
      "If you predict 'republican' every time your error will be: 0.3795379537953796\n"
     ]
    }
   ],
   "source": [
    "sums=[]\n",
    "def party(X):\n",
    "#     for i in range(len(X)):\n",
    "#         sums.append(sum(X.iloc[i,:]))\n",
    "#     grp1=[]\n",
    "#     grp2=[]\n",
    "#     for i in range(int(max(sums))+1):\n",
    "#         print (i)\n",
    "    return(list('democrat' for i in X.T))\n",
    "y_pred=party(X_train)\n",
    "\n",
    "naivedemo=accuracy_score(y_pred, y_train)\n",
    "naiverepu=1-accuracy_score(y_pred, y_train)\n",
    "\n",
    "print('If you predict \\'democrat\\' every time your error will be: {}'.format(naivedemo))\n",
    "print('If you predict \\'republican\\' every time your error will be: {}'.format(naiverepu))"
   ]
  },
  {
   "cell_type": "markdown",
   "metadata": {},
   "source": [
    "<h1>Challenge 6</h1>"
   ]
  },
  {
   "cell_type": "code",
   "execution_count": 35,
   "metadata": {},
   "outputs": [
    {
     "data": {
      "image/png": "[encoded data removed]",
      "text/plain": [
       "<matplotlib.figure.Figure at 0x7f7b20eb7470>"
      ]
     },
     "metadata": {},
     "output_type": "display_data"
    }
   ],
   "source": [
    "scores=[]\n",
    "Is=[]\n",
    "R=21\n",
    "for i in range (1,R):\n",
    "    model=KNeighborsClassifier(n_jobs=-1, n_neighbors=i)\n",
    "    model.fit(X_train, y_train)\n",
    "    y_pred=model.predict(X_test)\n",
    "    Is.append(i)\n",
    "    scores.append(accuracy_score(y_pred, y_test))\n",
    "    plt.scatter(i, accuracy_score(y_pred, y_test))\n",
    "    plt.plot([0,R], [naivedemo,naivedemo])\n",
    "    plt.plot([0,R], [naiverepu,naiverepu])\n",
    "ind, MAX=max(enumerate(scores),  key=operator.itemgetter(1))\n",
    "plt.show()"
   ]
  },
  {
   "cell_type": "markdown",
   "metadata": {},
   "source": [
    "<h1>Challenge 7</h1>"
   ]
  },
  {
   "cell_type": "code",
   "execution_count": 56,
   "metadata": {},
   "outputs": [
    {
     "data": {
      "text/plain": [
       "(array([ 20,  65, 110, 155, 201]),\n",
       " array([[ 0.95      ,  1.        ,  1.        ],\n",
       "        [ 0.92307692,  0.95384615,  0.95384615],\n",
       "        [ 0.94545455,  0.96363636,  0.96363636],\n",
       "        [ 0.94193548,  0.95483871,  0.96129032],\n",
       "        [ 0.95024876,  0.95522388,  0.960199  ]]),\n",
       " array([[ 0.95098039,  0.89108911,  0.9       ],\n",
       "        [ 0.92156863,  0.9009901 ,  0.93      ],\n",
       "        [ 0.94117647,  0.9009901 ,  0.9       ],\n",
       "        [ 0.93137255,  0.92079208,  0.91      ],\n",
       "        [ 0.93137255,  0.93069307,  0.92      ]]))"
      ]
     },
     "execution_count": 56,
     "metadata": {},
     "output_type": "execute_result"
    }
   ],
   "source": [
    "model=KNeighborsClassifier(n_jobs=-1)\n",
    "k=learning_curve(model, X_train, y_train)\n",
    "model.fit(X_train, y_train)\n",
    "y_pred=model.predict(X_test)\n",
    "accuracy_score(y_pred, y_test)\n",
    "k"
   ]
  },
  {
   "cell_type": "code",
   "execution_count": 62,
   "metadata": {},
   "outputs": [
    {
     "data": {
      "text/plain": [
       "array([ 20,  65, 110, 155, 201])"
      ]
     },
     "execution_count": 62,
     "metadata": {},
     "output_type": "execute_result"
    }
   ],
   "source": [
    "k[0]"
   ]
  },
  {
   "cell_type": "markdown",
   "metadata": {},
   "source": [
    "<h1>Challenge 8</h1>"
   ]
  },
  {
   "cell_type": "code",
   "execution_count": 48,
   "metadata": {},
   "outputs": [
    {
     "name": "stdout",
     "output_type": "stream",
     "text": [
      "Naive Bayes Gaussian error: 0.9083969465648855\n",
      "Support Vector Machine error: 0.9541984732824428\n",
      "Decision Tree Classifier error: 0.9236641221374046\n",
      "Random Forest Classifier error: 0.9541984732824428\n"
     ]
    }
   ],
   "source": [
    "model=GaussianNB()\n",
    "model.fit(X_train, y_train)\n",
    "y_pred=model.predict(X_test)\n",
    "print('Naive Bayes Gaussian error: {}'.format(accuracy_score(y_pred, y_test)))\n",
    "\n",
    "model=SVC()\n",
    "model.fit(X_train, y_train)\n",
    "y_pred=model.predict(X_test)\n",
    "print('Support Vector Machine error: {}'.format(accuracy_score(y_pred, y_test)))\n",
    "\n",
    "model=DecisionTreeClassifier()\n",
    "model.fit(X_train, y_train)\n",
    "y_pred=model.predict(X_test)\n",
    "print('Decision Tree Classifier error: {}'.format(accuracy_score(y_pred, y_test)))\n",
    "\n",
    "model=RandomForestClassifier()\n",
    "model.fit(X_train, y_train)\n",
    "y_pred=model.predict(X_test)\n",
    "print('Random Forest Classifier error: {}'.format(accuracy_score(y_pred, y_test)))"
   ]
  },
  {
   "cell_type": "markdown",
   "metadata": {},
   "source": [
    "<h1>Challenge 9</h1>"
   ]
  },
  {
   "cell_type": "code",
   "execution_count": 75,
   "metadata": {},
   "outputs": [
    {
     "name": "stdout",
     "output_type": "stream",
     "text": [
      "Naive Bayes Gaussian error: 0.9404918032786884\n",
      "Support Vector Machine error: 0.9505464480874316\n",
      "Decision Tree Classifier error: 0.9108196721311476\n",
      "Random Forest Classifier error: 0.9636065573770493\n"
     ]
    }
   ],
   "source": [
    "kfold = KFold(len(X_train), n_folds=5, shuffle=True, random_state=42)\n",
    "\n",
    "model=GaussianNB()\n",
    "scores = cross_val_score(model, X_train, y_train, cv=kfold)\n",
    "print('Naive Bayes Gaussian error: {}'.format(np.mean(scores)))\n",
    "\n",
    "model=SVC()\n",
    "scores = cross_val_score(model, X_train, y_train, cv=kfold)\n",
    "print('Support Vector Machine error: {}'.format(np.mean(scores)))\n",
    "\n",
    "model=DecisionTreeClassifier()\n",
    "scores = cross_val_score(model, X_train, y_train, cv=kfold)\n",
    "print('Decision Tree Classifier error: {}'.format(np.mean(scores)))\n",
    "\n",
    "model=RandomForestClassifier()\n",
    "scores = cross_val_score(model, X_train, y_train, cv=kfold)\n",
    "print('Random Forest Classifier error: {}'.format(np.mean(scores)))"
   ]
  },
  {
   "cell_type": "markdown",
   "metadata": {},
   "source": [
    "<h1>Challenge 10</h1>"
   ]
  },
  {
   "cell_type": "code",
   "execution_count": 165,
   "metadata": {
    "collapsed": true
   },
   "outputs": [],
   "source": [
    "df=pd.read_csv('house-votes-84.csv')\n",
    "df.replace('y',1, inplace=True)\n",
    "df.replace('n',0, inplace=True)\n",
    "cols=list(df.columns)\n",
    "cols.pop(0)\n",
    "for i in cols:\n",
    "    df[i].replace('?',int(df[i].mode()), inplace=True)\n",
    "X_train, X_test, y_train, y_test = train_test_split(df.iloc[:,1:-1], df['y.8'], test_size=.3, random_state=4444)"
   ]
  },
  {
   "cell_type": "code",
   "execution_count": 169,
   "metadata": {},
   "outputs": [
    {
     "name": "stdout",
     "output_type": "stream",
     "text": [
      "accuracy score: 0.8473282442748091\n"
     ]
    }
   ],
   "source": [
    "model=KNeighborsClassifier(n_jobs=-1, n_neighbors=11)\n",
    "model.fit(X_train, y_train)\n",
    "y_pred=model.predict(X_test)\n",
    "print('accuracy score: {}'.format(accuracy_score(y_pred, y_test)))"
   ]
  },
  {
   "cell_type": "markdown",
   "metadata": {},
   "source": [
    "<h1>Challenge 11</h1>"
   ]
  },
  {
   "cell_type": "code",
   "execution_count": 196,
   "metadata": {
    "collapsed": true
   },
   "outputs": [],
   "source": [
    "df=pd.read_csv('2013_movies.csv')"
   ]
  },
  {
   "cell_type": "code",
   "execution_count": 197,
   "metadata": {},
   "outputs": [
    {
     "data": {
      "image/png": "[encoded data removed]",
      "text/plain": [
       "<matplotlib.figure.Figure at 0x7f7b20ee9198>"
      ]
     },
     "metadata": {},
     "output_type": "display_data"
    }
   ],
   "source": [
    "df.Rating.value_counts().plot(kind='bar')\n",
    "plt.show()"
   ]
  },
  {
   "cell_type": "code",
   "execution_count": 198,
   "metadata": {},
   "outputs": [
    {
     "data": {
      "text/html": [
       "<div>\n",
       "<style>\n",
       "    .dataframe thead tr:only-child th {\n",
       "        text-align: right;\n",
       "    }\n",
       "\n",
       "    .dataframe thead th {\n",
       "        text-align: left;\n",
       "    }\n",
       "\n",
       "    .dataframe tbody tr th {\n",
       "        vertical-align: top;\n",
       "    }\n",
       "</style>\n",
       "<table border=\"1\" class=\"dataframe\">\n",
       "  <thead>\n",
       "    <tr style=\"text-align: right;\">\n",
       "      <th></th>\n",
       "      <th>Title</th>\n",
       "      <th>Budget</th>\n",
       "      <th>DomesticTotalGross</th>\n",
       "      <th>Director</th>\n",
       "      <th>Rating</th>\n",
       "      <th>Runtime</th>\n",
       "      <th>ReleaseDate</th>\n",
       "    </tr>\n",
       "  </thead>\n",
       "  <tbody>\n",
       "    <tr>\n",
       "      <th>0</th>\n",
       "      <td>The Hunger Games: Catching Fire</td>\n",
       "      <td>130000000.0</td>\n",
       "      <td>424668047</td>\n",
       "      <td>Francis Lawrence</td>\n",
       "      <td>PG-13</td>\n",
       "      <td>146</td>\n",
       "      <td>2013-11-22 00:00:00</td>\n",
       "    </tr>\n",
       "    <tr>\n",
       "      <th>1</th>\n",
       "      <td>Iron Man 3</td>\n",
       "      <td>200000000.0</td>\n",
       "      <td>409013994</td>\n",
       "      <td>Shane Black</td>\n",
       "      <td>PG-13</td>\n",
       "      <td>129</td>\n",
       "      <td>2013-05-03 00:00:00</td>\n",
       "    </tr>\n",
       "    <tr>\n",
       "      <th>2</th>\n",
       "      <td>Frozen</td>\n",
       "      <td>150000000.0</td>\n",
       "      <td>400738009</td>\n",
       "      <td>Chris BuckJennifer Lee</td>\n",
       "      <td>PG</td>\n",
       "      <td>108</td>\n",
       "      <td>2013-11-22 00:00:00</td>\n",
       "    </tr>\n",
       "    <tr>\n",
       "      <th>3</th>\n",
       "      <td>Despicable Me 2</td>\n",
       "      <td>76000000.0</td>\n",
       "      <td>368061265</td>\n",
       "      <td>Pierre CoffinChris Renaud</td>\n",
       "      <td>PG</td>\n",
       "      <td>98</td>\n",
       "      <td>2013-07-03 00:00:00</td>\n",
       "    </tr>\n",
       "    <tr>\n",
       "      <th>4</th>\n",
       "      <td>Man of Steel</td>\n",
       "      <td>225000000.0</td>\n",
       "      <td>291045518</td>\n",
       "      <td>Zack Snyder</td>\n",
       "      <td>PG-13</td>\n",
       "      <td>143</td>\n",
       "      <td>2013-06-14 00:00:00</td>\n",
       "    </tr>\n",
       "  </tbody>\n",
       "</table>\n",
       "</div>"
      ],
      "text/plain": [
       "                             Title       Budget  DomesticTotalGross  \\\n",
       "0  The Hunger Games: Catching Fire  130000000.0           424668047   \n",
       "1                       Iron Man 3  200000000.0           409013994   \n",
       "2                           Frozen  150000000.0           400738009   \n",
       "3                  Despicable Me 2   76000000.0           368061265   \n",
       "4                     Man of Steel  225000000.0           291045518   \n",
       "\n",
       "                    Director Rating  Runtime          ReleaseDate  \n",
       "0           Francis Lawrence  PG-13      146  2013-11-22 00:00:00  \n",
       "1                Shane Black  PG-13      129  2013-05-03 00:00:00  \n",
       "2     Chris BuckJennifer Lee     PG      108  2013-11-22 00:00:00  \n",
       "3  Pierre CoffinChris Renaud     PG       98  2013-07-03 00:00:00  \n",
       "4                Zack Snyder  PG-13      143  2013-06-14 00:00:00  "
      ]
     },
     "execution_count": 198,
     "metadata": {},
     "output_type": "execute_result"
    }
   ],
   "source": [
    "df.head()"
   ]
  },
  {
   "cell_type": "code",
   "execution_count": 217,
   "metadata": {
    "collapsed": true
   },
   "outputs": [],
   "source": [
    "df.Rating.replace('G',0, inplace=True)\n",
    "df.Rating.replace('PG',1, inplace=True)\n",
    "df.Rating.replace('PG-13',2, inplace=True)\n",
    "df.Rating.replace('R',3, inplace=True)\n",
    "df.Budget.fillna(df.Budget.mean(),inplace=True )"
   ]
  },
  {
   "cell_type": "code",
   "execution_count": 219,
   "metadata": {
    "collapsed": true
   },
   "outputs": [],
   "source": [
    "X_train, X_test, y_train, y_test = train_test_split(df[['DomesticTotalGross','Budget','Runtime']], df['Rating'], test_size=.3, random_state=4444)"
   ]
  },
  {
   "cell_type": "code",
   "execution_count": 279,
   "metadata": {},
   "outputs": [
    {
     "name": "stdout",
     "output_type": "stream",
     "text": [
      "KNN score: 0.782608695652174\n",
      "[[ 0.00578524 -0.02123048  0.08002469]]\n",
      "logistic score: 0.75\n",
      "mode score: 0.75\n"
     ]
    }
   ],
   "source": [
    "model=KNeighborsClassifier(n_jobs=-1, n_neighbors=11)\n",
    "model.fit(X_train, y_train)\n",
    "y_pred=model.predict(X_test)\n",
    "print('KNN score: {}'.format(accuracy_score(y_pred, y_test)))\n",
    "\n",
    "model=LogisticRegression(n_jobs=-1)\n",
    "model.fit(X_train, y_train)\n",
    "print(model.coef_)\n",
    "y_pred=model.predict(X_test)\n",
    "print('logistic score: {}'.format(accuracy_score(y_pred, y_test)))\n",
    "\n",
    "y_pred=list(y_test.mode() for i in y_test)\n",
    "print('mode score: {}'.format(accuracy_score(y_pred, y_test)))"
   ]
  },
  {
   "cell_type": "markdown",
   "metadata": {},
   "source": [
    "<h1>Challenge 12</h1>"
   ]
  },
  {
   "cell_type": "code",
   "execution_count": 257,
   "metadata": {},
   "outputs": [
    {
     "name": "stdout",
     "output_type": "stream",
     "text": [
      "the average age of patients: 52.5311475409836\n",
      "the stdev age of patients: 10.744024363993269\n",
      "the average age of patients: 52.11607142857143\n",
      "the average age of patients: 10.93744589077857\n",
      "the average age of patients: 53.67901234567901\n",
      "the average age of patients: 10.16713720829741\n"
     ]
    }
   ],
   "source": [
    "df= pd.read_csv('haberman.csv')\n",
    "print(\"the average age of patients: {}\".format(df['30'].mean()))\n",
    "print(\"the stdev age of patients: {}\".format(df['30'].std()))\n",
    "print(\"the average age of patients: {}\".format(df.loc[df['1.1']==1]['30'].mean()))\n",
    "print(\"the average age of patients: {}\".format(df.loc[df['1.1']==1]['30'].std()))\n",
    "print(\"the average age of patients: {}\".format(df.loc[df['1.1']==2]['30'].mean()))\n",
    "print(\"the average age of patients: {}\".format(df.loc[df['1.1']==2]['30'].std()))"
   ]
  },
  {
   "cell_type": "code",
   "execution_count": 259,
   "metadata": {},
   "outputs": [
    {
     "data": {
      "image/png": "[encoded data removed]",
      "text/plain": [
       "<matplotlib.figure.Figure at 0x7f7b1b8ce7b8>"
      ]
     },
     "metadata": {},
     "output_type": "display_data"
    }
   ],
   "source": [
    "df['1'].hist()\n",
    "plt.show()"
   ]
  },
  {
   "cell_type": "code",
   "execution_count": 263,
   "metadata": {},
   "outputs": [
    {
     "name": "stdout",
     "output_type": "stream",
     "text": [
      "earliest year of surgery: 1958\n",
      "earliest year of surgery: 1969\n"
     ]
    }
   ],
   "source": [
    "print(\"earliest year of surgery: 19{}\".format(df['64'].min()))\n",
    "print(\"earliest year of surgery: 19{}\".format(df['64'].max()))"
   ]
  },
  {
   "cell_type": "code",
   "execution_count": 273,
   "metadata": {},
   "outputs": [
    {
     "name": "stdout",
     "output_type": "stream",
     "text": [
      "Model accuracy: 0.75\n"
     ]
    },
    {
     "data": {
      "text/plain": [
       "array([[ 0.00578524, -0.02123048,  0.08002469]])"
      ]
     },
     "execution_count": 273,
     "metadata": {},
     "output_type": "execute_result"
    }
   ],
   "source": [
    "X_train, X_test, y_train, y_test = train_test_split(df[['30','64','1']], df['1.1'], test_size=.3, random_state=4444)\n",
    "\n",
    "model=LogisticRegression()\n",
    "model.fit(X_train, y_train)\n",
    "y_pred=model.predict(X_test)\n",
    "print('Model accuracy: {}'.format(accuracy_score(y_pred, y_test)))\n",
    "model.coef_"
   ]
  },
  {
   "cell_type": "code",
   "execution_count": 277,
   "metadata": {},
   "outputs": [
    {
     "data": {
      "image/png": "[encoded data removed]",
      "text/plain": [
       "<matplotlib.figure.Figure at 0x7f7b1b814550>"
      ]
     },
     "metadata": {},
     "output_type": "display_data"
    }
   ],
   "source": [
    "k=learning_curve(model, X_train, y_train)\n",
    "# plt.scatter()\n",
    "plt.plot(k[0],k[1])\n",
    "plt.show()"
   ]
  },
  {
   "cell_type": "code",
   "execution_count": null,
   "metadata": {
    "collapsed": true
   },
   "outputs": [],
   "source": []
  }
 ],
 "metadata": {
  "kernelspec": {
   "display_name": "Python 3",
   "language": "python",
   "name": "python3"
  },
  "language_info": {
   "codemirror_mode": {
    "name": "ipython",
    "version": 3
   },
   "file_extension": ".py",
   "mimetype": "text/x-python",
   "name": "python",
   "nbconvert_exporter": "python",
   "pygments_lexer": "ipython3",
   "version": "3.6.1"
  }
 },
 "nbformat": 4,
 "nbformat_minor": 2
}
