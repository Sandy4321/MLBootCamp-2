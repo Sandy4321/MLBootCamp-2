{
 "cells": [
  {
   "cell_type": "markdown",
   "metadata": {},
   "source": [
    "```\n",
    "Topic:        Challenge Set 7\n",
    "Subject:      Classification\n",
    "Date:         10/16/2017\n",
    "Name:         Jeff Kao\n",
    "Worked with:  Jeff Kao... :-(\n",
    "```"
   ]
  },
  {
   "cell_type": "markdown",
   "metadata": {},
   "source": [
    "# Week 4 Challenge: Classification"
   ]
  },
  {
   "cell_type": "code",
   "execution_count": 1,
   "metadata": {},
   "outputs": [
    {
     "name": "stderr",
     "output_type": "stream",
     "text": [
      "/anaconda/lib/python3.5/site-packages/sklearn/cross_validation.py:41: DeprecationWarning: This module was deprecated in version 0.18 in favor of the model_selection module into which all the refactored classes and functions are moved. Also note that the interface of the new CV iterators are different from that of this module. This module will be removed in 0.20.\n",
      "  \"This module will be removed in 0.20.\", DeprecationWarning)\n"
     ]
    }
   ],
   "source": [
    "import pandas as pd\n",
    "import numpy as np\n",
    "import matplotlib.pyplot as plt\n",
    "import seaborn as sns\n",
    "%matplotlib inline\n",
    "from sklearn.cross_validation import train_test_split"
   ]
  },
  {
   "cell_type": "markdown",
   "metadata": {
    "collapsed": true
   },
   "source": [
    "### Challenge 1\n",
    "\n",
    "Load the data into a pandas dataframe. Replace 'y's with 1s, 'n's with 0s.\n",
    "\n",
    "Now, almost every representative has a ?. This represents the absence of a vote (they were absent or some other similar reason). If we dropped all the rows that had a ?, we would throw out most of our data. Instead, we will replace ? with the best guess in the Bayesian sense: in the absence of any other information, we will say that the probability of the representative saying YES is the ratio of others that said YES over the whole votes.\n",
    "\n",
    "So, convert each ? to this probability (when yes=1 and no=0, this is the mean of the column)"
   ]
  },
  {
   "cell_type": "code",
   "execution_count": 2,
   "metadata": {
    "collapsed": true
   },
   "outputs": [],
   "source": [
    "house_votes_df = pd.read_csv(\"house-votes-84.data\", header=None)"
   ]
  },
  {
   "cell_type": "code",
   "execution_count": 3,
   "metadata": {
    "collapsed": true
   },
   "outputs": [],
   "source": [
    "def char_to_vote(char):\n",
    "    if char == 'y':\n",
    "        return 1\n",
    "    elif char == 'n':\n",
    "        return 0\n",
    "    else:\n",
    "        return None"
   ]
  },
  {
   "cell_type": "code",
   "execution_count": 4,
   "metadata": {
    "collapsed": true
   },
   "outputs": [],
   "source": [
    "house_votes_df.iloc[:,1:] = house_votes_df.iloc[:,1:].applymap(char_to_vote)"
   ]
  },
  {
   "cell_type": "code",
   "execution_count": 5,
   "metadata": {
    "collapsed": true
   },
   "outputs": [],
   "source": [
    "# convert each ? to mean of column\n",
    "for column in house_votes_df.iloc[:,1:]:\n",
    "    col_mean = house_votes_df[column].mean()\n",
    "    house_votes_df[column] = house_votes_df[column].fillna(col_mean)"
   ]
  },
  {
   "cell_type": "code",
   "execution_count": 6,
   "metadata": {
    "collapsed": true
   },
   "outputs": [],
   "source": [
    "# finally separate X and y\n",
    "y = house_votes_df.iloc[:,0]\n",
    "X = house_votes_df.iloc[:,1:]"
   ]
  },
  {
   "cell_type": "markdown",
   "metadata": {},
   "source": [
    "### Challenge 2\n",
    "\n",
    "Split the data into a test and training set. "
   ]
  },
  {
   "cell_type": "code",
   "execution_count": 7,
   "metadata": {
    "collapsed": true
   },
   "outputs": [],
   "source": [
    "X_train, X_test, y_train, y_test = train_test_split(X, y, test_size=0.30, random_state=4444)"
   ]
  },
  {
   "cell_type": "markdown",
   "metadata": {},
   "source": [
    "### Challenge 3\n",
    "Using scikit.learn's KNN algorithm, train a model that predicts the party (republican/democrat):\n",
    "\n",
    "from sklearn.neighbors import KNeighborsClassifier\n",
    "Try it with a lot of different k values (number of neighbors), from 1 to 20, and on the test set calculate the accuracy (number of correct predictions / number of all predictions) for each k\n",
    "\n",
    "You can use this to calculate accuracy:\n",
    "\n",
    "from sklearn.metrics import accuracy_score\n",
    "Which k value gives the highest accuracy?"
   ]
  },
  {
   "cell_type": "code",
   "execution_count": 8,
   "metadata": {
    "collapsed": true
   },
   "outputs": [],
   "source": [
    "from sklearn.neighbors import KNeighborsClassifier\n",
    "from sklearn.metrics import accuracy_score"
   ]
  },
  {
   "cell_type": "code",
   "execution_count": 9,
   "metadata": {
    "collapsed": true
   },
   "outputs": [],
   "source": [
    "knn_classifiers = {}\n",
    "knn_classifiers_accuracies = {}"
   ]
  },
  {
   "cell_type": "code",
   "execution_count": 10,
   "metadata": {
    "collapsed": true
   },
   "outputs": [],
   "source": [
    "for nns in range(1,21):\n",
    "    knn_classifiers[nns] = KNeighborsClassifier(n_neighbors=nns)\n",
    "    knn_classifiers[nns].fit(X_train, y_train)\n",
    "    y_test_pred = knn_classifiers[nns].predict(X_test)\n",
    "    knn_classifiers_accuracies[nns] = accuracy_score(y_test, y_test_pred)"
   ]
  },
  {
   "cell_type": "code",
   "execution_count": 11,
   "metadata": {},
   "outputs": [
    {
     "data": {
      "text/plain": [
       "{1: 0.9007633587786259,\n",
       " 2: 0.89312977099236646,\n",
       " 3: 0.9007633587786259,\n",
       " 4: 0.9007633587786259,\n",
       " 5: 0.91603053435114501,\n",
       " 6: 0.93129770992366412,\n",
       " 7: 0.91603053435114501,\n",
       " 8: 0.92366412213740456,\n",
       " 9: 0.93129770992366412,\n",
       " 10: 0.93129770992366412,\n",
       " 11: 0.92366412213740456,\n",
       " 12: 0.92366412213740456,\n",
       " 13: 0.92366412213740456,\n",
       " 14: 0.92366412213740456,\n",
       " 15: 0.92366412213740456,\n",
       " 16: 0.92366412213740456,\n",
       " 17: 0.92366412213740456,\n",
       " 18: 0.91603053435114501,\n",
       " 19: 0.91603053435114501,\n",
       " 20: 0.91603053435114501}"
      ]
     },
     "execution_count": 11,
     "metadata": {},
     "output_type": "execute_result"
    }
   ],
   "source": [
    "knn_classifiers_accuracies"
   ]
  },
  {
   "cell_type": "code",
   "execution_count": 12,
   "metadata": {},
   "outputs": [
    {
     "data": {
      "text/plain": [
       "(6, 0.93129770992366412)"
      ]
     },
     "execution_count": 12,
     "metadata": {},
     "output_type": "execute_result"
    }
   ],
   "source": [
    "max_key = max(knn_classifiers_accuracies, key=knn_classifiers_accuracies.get)\n",
    "max_value = knn_classifiers_accuracies[max_key]\n",
    "max_key, max_value"
   ]
  },
  {
   "cell_type": "code",
   "execution_count": 13,
   "metadata": {},
   "outputs": [
    {
     "data": {
      "image/png": "[encoded data removed]",
      "text/plain": [
       "<matplotlib.figure.Figure at 0x11ca51da0>"
      ]
     },
     "metadata": {},
     "output_type": "display_data"
    }
   ],
   "source": [
    "plt.scatter(list(knn_classifiers_accuracies.keys()), list(knn_classifiers_accuracies.values()));"
   ]
  },
  {
   "cell_type": "markdown",
   "metadata": {},
   "source": [
    "### Challenge 4\n",
    "\n",
    "Make a similar model but with LogisticRegression instead, calculate test accuracy."
   ]
  },
  {
   "cell_type": "code",
   "execution_count": 14,
   "metadata": {
    "collapsed": true
   },
   "outputs": [],
   "source": [
    "from sklearn.linear_model import LogisticRegression"
   ]
  },
  {
   "cell_type": "code",
   "execution_count": 15,
   "metadata": {
    "collapsed": true
   },
   "outputs": [],
   "source": [
    "lr_classifiers = {}\n",
    "lr_classifiers_accuracies = {}"
   ]
  },
  {
   "cell_type": "code",
   "execution_count": 16,
   "metadata": {
    "collapsed": true
   },
   "outputs": [],
   "source": [
    "for c_penalty in np.logspace(-8,8,num=17):\n",
    "    lr_classifiers[c_penalty] = LogisticRegression(C=c_penalty , random_state=4444)\n",
    "    lr_classifiers[c_penalty].fit(X_train, y_train)\n",
    "    y_test_pred = lr_classifiers[c_penalty].predict(X_test)\n",
    "    lr_classifiers_accuracies[c_penalty] = accuracy_score(y_test, y_test_pred)"
   ]
  },
  {
   "cell_type": "code",
   "execution_count": 17,
   "metadata": {},
   "outputs": [
    {
     "data": {
      "text/plain": [
       "(1.0, 0.93893129770992367)"
      ]
     },
     "execution_count": 17,
     "metadata": {},
     "output_type": "execute_result"
    }
   ],
   "source": [
    "max_key = max(lr_classifiers_accuracies, key=lr_classifiers_accuracies.get)\n",
    "max_value = lr_classifiers_accuracies[max_key]\n",
    "max_key, max_value"
   ]
  },
  {
   "cell_type": "code",
   "execution_count": 18,
   "metadata": {},
   "outputs": [
    {
     "data": {
      "text/plain": [
       "dict_keys([0.10000000000000001, 1.0, 100.0, 1.0000000000000001e-05, 1e-08, 10.0, 0.01, 100000000.0, 10000.0, 1000.0, 9.9999999999999995e-08, 1000000.0, 0.0001, 10000000.0, 100000.0, 9.9999999999999995e-07, 0.001])"
      ]
     },
     "execution_count": 18,
     "metadata": {},
     "output_type": "execute_result"
    }
   ],
   "source": [
    "lr_classifiers_accuracies.keys()"
   ]
  },
  {
   "cell_type": "code",
   "execution_count": 19,
   "metadata": {},
   "outputs": [
    {
     "data": {
      "image/png": "[encoded data removed]",
      "text/plain": [
       "<matplotlib.figure.Figure at 0x120387320>"
      ]
     },
     "metadata": {},
     "output_type": "display_data"
    }
   ],
   "source": [
    "plt.scatter(np.log10(list(lr_classifiers_accuracies.keys())), list(lr_classifiers_accuracies.values()));"
   ]
  },
  {
   "cell_type": "markdown",
   "metadata": {},
   "source": [
    "### Challenge 5\n",
    "\n",
    "Make a bar graph of democrats and republicans. How many of each are there?\n",
    "\n",
    "Make a very simple predictor that predicts 'democrat' for every incoming example.\n",
    "\n",
    "Just make a function that takes in an X --an array or matrix with input examples--, and returns an array of the same length as X, where each value is 'democrat'. For example, if X is three rows, your function should return ['democrat','democrat','democrat']. Make a y_predicted vector using this and measure its accuracy.\n",
    "\n",
    "Do the same with predicting 'republican' all the time and measure its accuracy."
   ]
  },
  {
   "cell_type": "code",
   "execution_count": 20,
   "metadata": {},
   "outputs": [
    {
     "data": {
      "text/plain": [
       "democrat      267\n",
       "republican    168\n",
       "Name: 0, dtype: int64"
      ]
     },
     "execution_count": 20,
     "metadata": {},
     "output_type": "execute_result"
    }
   ],
   "source": [
    "house_votes_df[0].value_counts()"
   ]
  },
  {
   "cell_type": "code",
   "execution_count": 21,
   "metadata": {},
   "outputs": [
    {
     "data": {
      "text/plain": [
       "<Container object of 2 artists>"
      ]
     },
     "execution_count": 21,
     "metadata": {},
     "output_type": "execute_result"
    },
    {
     "data": {
      "image/png": "[encoded data removed]",
      "text/plain": [
       "<matplotlib.figure.Figure at 0x1203f6f98>"
      ]
     },
     "metadata": {},
     "output_type": "display_data"
    }
   ],
   "source": [
    "plt.xticks([0,1],(['democrat','republican']))\n",
    "plt.bar([0,1],[267,168])"
   ]
  },
  {
   "cell_type": "code",
   "execution_count": 22,
   "metadata": {
    "collapsed": true
   },
   "outputs": [],
   "source": [
    "def predict_one_party(X, predicted_party):\n",
    "    return np.array([predicted_party]*len(X)) #.reshape(-1,1)"
   ]
  },
  {
   "cell_type": "code",
   "execution_count": 23,
   "metadata": {},
   "outputs": [
    {
     "data": {
      "text/plain": [
       "0.61379310344827587"
      ]
     },
     "execution_count": 23,
     "metadata": {},
     "output_type": "execute_result"
    }
   ],
   "source": [
    "dem_acc = accuracy_score(y, predict_one_party(X, 'democrat'))\n",
    "dem_acc"
   ]
  },
  {
   "cell_type": "code",
   "execution_count": 24,
   "metadata": {},
   "outputs": [
    {
     "data": {
      "text/plain": [
       "0.38620689655172413"
      ]
     },
     "execution_count": 24,
     "metadata": {},
     "output_type": "execute_result"
    }
   ],
   "source": [
    "rep_acc = accuracy_score(y, predict_one_party(X, 'republican'))\n",
    "rep_acc"
   ]
  },
  {
   "cell_type": "code",
   "execution_count": 25,
   "metadata": {},
   "outputs": [
    {
     "data": {
      "text/plain": [
       "0.0"
      ]
     },
     "execution_count": 25,
     "metadata": {},
     "output_type": "execute_result"
    }
   ],
   "source": [
    "accuracy_score(y, predict_one_party(X, 'whig'))"
   ]
  },
  {
   "cell_type": "markdown",
   "metadata": {},
   "source": [
    "### Challenge 6\n",
    "\n",
    "Plot the accuracies as a function of k. Since k only matters for KNN, your logistic regression accuracy, 'democrat' predictor accuracy and 'republican' predictor accuracy will stay the same over all k, so each of these three will be a horizontal line. But the KNN accuracy will change with k."
   ]
  },
  {
   "cell_type": "code",
   "execution_count": 26,
   "metadata": {},
   "outputs": [
    {
     "data": {
      "image/png": "[encoded data removed]",
      "text/plain": [
       "<matplotlib.figure.Figure at 0x1204aecc0>"
      ]
     },
     "metadata": {},
     "output_type": "display_data"
    }
   ],
   "source": [
    "plt.scatter(list(knn_classifiers_accuracies.keys()), list(knn_classifiers_accuracies.values()), c='g')\n",
    "plt.scatter(list(knn_classifiers_accuracies.keys()),[dem_acc]*len(knn_classifiers_accuracies), c='b')\n",
    "plt.scatter(list(knn_classifiers_accuracies.keys()),[rep_acc]*len(knn_classifiers_accuracies), c='r')\n",
    "plt.scatter(list(knn_classifiers_accuracies.keys()),[max_value]*len(knn_classifiers_accuracies), c='k');"
   ]
  },
  {
   "cell_type": "markdown",
   "metadata": {},
   "source": [
    "### Challenge 7\n",
    "\n",
    "Plot a learning curve for the logistic regression model. But instead of going through the painstaking steps of doing it yourself, use this function:\n",
    "\n",
    "from sklearn.learning_curve import learning_curve\n",
    "This will give you the m, training errors and testing errors. All you need to do is plot them. You don't even need to give it separate training/test sets. It will do crossvalidation all by itself. Easy, isn't it? : ) Remember, since it does cross-validation, it doesn't have a single training error or test error per m value. Instead, it has one for each fold (separate partition) of the cross validation. A good idea is to take the mean of these errors from different folds. This gives you a meaningful single number per m. What I mean is that doing something like:\n",
    "\n",
    "train_cv_err = np.mean(train_err, axis=1)\n",
    "test_cv_err = np.mean(ts_err, axis=1)\n",
    "Before plotting m vs train_cv_err and m vs test_cv_err, where train_err and test_err are the vectors returned by the learning curve function. The np.mean(...., axis=1) means take the mean along axis 1 (axis 1 is the columns axis-- for each row, you have a bunch of columns, each corresponding to a cross validation fold, you are averaging these columns for each row).\n",
    "\n",
    "Draw the learning curve for KNN with the best k value as well."
   ]
  },
  {
   "cell_type": "code",
   "execution_count": 27,
   "metadata": {
    "collapsed": true
   },
   "outputs": [],
   "source": [
    "from sklearn.model_selection import learning_curve"
   ]
  },
  {
   "cell_type": "code",
   "execution_count": 28,
   "metadata": {},
   "outputs": [
    {
     "data": {
      "image/png": "[encoded data removed]",
      "text/plain": [
       "<matplotlib.figure.Figure at 0x11c7896a0>"
      ]
     },
     "metadata": {},
     "output_type": "display_data"
    }
   ],
   "source": [
    "estimator = LogisticRegression(C=1.0 , random_state=4444)\n",
    "train_sizes, train_err, ts_err = learning_curve(\n",
    "    estimator, \n",
    "    X, \n",
    "    y, \n",
    "    cv=5,\n",
    "    random_state=4444)\n",
    "train_cv_err = np.mean(train_err, axis=1)\n",
    "test_cv_err = np.mean(ts_err, axis=1)\n",
    "plt.plot(train_sizes, train_cv_err, 'o-', color=\"r\",\n",
    "             label=\"Training score\")\n",
    "plt.plot(train_sizes, test_cv_err, 'o-', color=\"g\",\n",
    "             label=\"Cross-validation score\");"
   ]
  },
  {
   "cell_type": "code",
   "execution_count": 29,
   "metadata": {},
   "outputs": [
    {
     "data": {
      "image/png": "[encoded data removed]",
      "text/plain": [
       "<matplotlib.figure.Figure at 0x120408240>"
      ]
     },
     "metadata": {},
     "output_type": "display_data"
    }
   ],
   "source": [
    "estimator = KNeighborsClassifier(n_neighbors=6)\n",
    "train_sizes, train_err, ts_err = learning_curve(\n",
    "    estimator, \n",
    "    X, \n",
    "    y, \n",
    "    cv=5,\n",
    "    random_state=4444)\n",
    "train_cv_err = np.mean(train_err, axis=1)\n",
    "test_cv_err = np.mean(ts_err, axis=1)\n",
    "plt.plot(train_sizes, train_cv_err, 'o-', color=\"r\",\n",
    "             label=\"Training score\")\n",
    "plt.plot(train_sizes, test_cv_err, 'o-', color=\"g\",\n",
    "             label=\"Cross-validation score\");"
   ]
  },
  {
   "cell_type": "markdown",
   "metadata": {},
   "source": [
    "### Challenge 8\n",
    "\n",
    "This is a preview of many other classification algorithms that we will go over. Scikit.learn has the same interface for all of these, so you can use them exactly the same way as you did LogisticRegression and KNeighborsClassifier. Use each of these to classify your data and print the test accuracy of each:\n",
    "\n",
    "Gaussian Naive Bayes\n",
    "\n",
    "from sklearn.naive_bayes import GaussianNB\n",
    "SVM (Support Vector Machine) Classifier\n",
    "\n",
    "from sklearn.svm import SVC\n",
    "Decision Tree\n",
    "\n",
    "from sklearn.tree import DecisionTreeClassifier\n",
    "Random Forest\n",
    "\n",
    "from sklearn.ensemble import RandomForestClassifier"
   ]
  },
  {
   "cell_type": "code",
   "execution_count": 30,
   "metadata": {
    "collapsed": true
   },
   "outputs": [],
   "source": [
    "from sklearn.naive_bayes import GaussianNB"
   ]
  },
  {
   "cell_type": "code",
   "execution_count": 31,
   "metadata": {
    "collapsed": true
   },
   "outputs": [],
   "source": [
    "gnb_classifier = None\n",
    "gnb_classifier_accuracy = None"
   ]
  },
  {
   "cell_type": "code",
   "execution_count": 32,
   "metadata": {},
   "outputs": [
    {
     "data": {
      "text/plain": [
       "0.93893129770992367"
      ]
     },
     "execution_count": 32,
     "metadata": {},
     "output_type": "execute_result"
    }
   ],
   "source": [
    "gnb_classifier = GaussianNB(priors=None)\n",
    "gnb_classifier.fit(X_train, y_train)\n",
    "y_test_pred = gnb_classifier.predict(X_test)\n",
    "gnb_classifier_accuracy = accuracy_score(y_test, y_test_pred)\n",
    "gnb_classifier_accuracy"
   ]
  },
  {
   "cell_type": "code",
   "execution_count": 33,
   "metadata": {
    "collapsed": true
   },
   "outputs": [],
   "source": [
    "from sklearn.svm import SVC"
   ]
  },
  {
   "cell_type": "code",
   "execution_count": 34,
   "metadata": {
    "collapsed": true
   },
   "outputs": [],
   "source": [
    "svm_classifiers = {}\n",
    "svm_classifiers_accuracies = {}"
   ]
  },
  {
   "cell_type": "code",
   "execution_count": 35,
   "metadata": {
    "collapsed": true
   },
   "outputs": [],
   "source": [
    "for c_penalty in np.logspace(-8,8,num=17):\n",
    "    svm_classifiers[c_penalty] = SVC(C=c_penalty, random_state=4444)\n",
    "    svm_classifiers[c_penalty].fit(X_train, y_train)\n",
    "    y_test_pred = svm_classifiers[c_penalty].predict(X_test)\n",
    "    svm_classifiers_accuracies[c_penalty] = accuracy_score(y_test, y_test_pred)"
   ]
  },
  {
   "cell_type": "code",
   "execution_count": 36,
   "metadata": {},
   "outputs": [
    {
     "data": {
      "text/plain": [
       "(1.0, 0.95419847328244278)"
      ]
     },
     "execution_count": 36,
     "metadata": {},
     "output_type": "execute_result"
    }
   ],
   "source": [
    "max_key = max(svm_classifiers_accuracies, key=svm_classifiers_accuracies.get)\n",
    "max_value = svm_classifiers_accuracies[max_key]\n",
    "max_key, max_value"
   ]
  },
  {
   "cell_type": "code",
   "execution_count": 37,
   "metadata": {},
   "outputs": [
    {
     "data": {
      "image/png": "[encoded data removed]",
      "text/plain": [
       "<matplotlib.figure.Figure at 0x11ffac6a0>"
      ]
     },
     "metadata": {},
     "output_type": "display_data"
    }
   ],
   "source": [
    "plt.scatter(np.log10(list(svm_classifiers_accuracies.keys())), list(svm_classifiers_accuracies.values()));"
   ]
  },
  {
   "cell_type": "code",
   "execution_count": 38,
   "metadata": {
    "collapsed": true
   },
   "outputs": [],
   "source": [
    "from sklearn.tree import DecisionTreeClassifier"
   ]
  },
  {
   "cell_type": "code",
   "execution_count": 39,
   "metadata": {
    "collapsed": true
   },
   "outputs": [],
   "source": [
    "dt_classifier = None\n",
    "dt_classifier_accuracy = None"
   ]
  },
  {
   "cell_type": "code",
   "execution_count": 40,
   "metadata": {},
   "outputs": [
    {
     "data": {
      "text/plain": [
       "0.93893129770992367"
      ]
     },
     "execution_count": 40,
     "metadata": {},
     "output_type": "execute_result"
    }
   ],
   "source": [
    "dt_classifier = DecisionTreeClassifier(random_state=4444)\n",
    "dt_classifier.fit(X_train, y_train)\n",
    "y_test_pred = dt_classifier.predict(X_test)\n",
    "dt_classifier_accuracy = accuracy_score(y_test, y_test_pred)\n",
    "dt_classifier_accuracy"
   ]
  },
  {
   "cell_type": "code",
   "execution_count": 41,
   "metadata": {
    "collapsed": true
   },
   "outputs": [],
   "source": [
    "from sklearn.ensemble import RandomForestClassifier"
   ]
  },
  {
   "cell_type": "code",
   "execution_count": 42,
   "metadata": {
    "collapsed": true
   },
   "outputs": [],
   "source": [
    "rf_classifier = None\n",
    "rf_classifier_accuracy = None"
   ]
  },
  {
   "cell_type": "code",
   "execution_count": 43,
   "metadata": {},
   "outputs": [
    {
     "data": {
      "text/plain": [
       "0.95419847328244278"
      ]
     },
     "execution_count": 43,
     "metadata": {},
     "output_type": "execute_result"
    }
   ],
   "source": [
    "rf_classifier = RandomForestClassifier(n_estimators=200, random_state=4444)\n",
    "rf_classifier.fit(X_train, y_train)\n",
    "y_test_pred = rf_classifier.predict(X_test)\n",
    "rf_classifier_accuracy = accuracy_score(y_test, y_test_pred)\n",
    "rf_classifier_accuracy"
   ]
  },
  {
   "cell_type": "markdown",
   "metadata": {},
   "source": [
    "### Challenge 9\n",
    "\n",
    "There is actually a way to do cross validation quickly to get your accuracy results for an algorithm, without separating training and test yourself:\n",
    "\n",
    "from sklearn.cross_validation import cross_val_score\n",
    "Just like the learning_curve function, this takes a classifier object, X and Y. Returns accuracy (or whatever score you prefer by using the scoring keyword argument). Of course, it will return a score for each cross validation fold, so to get the generalized accuracy, you need to take the mean of what it returns.\n",
    "\n",
    "Use this function to calculate the cross validation score of each of the classifiers you tried before."
   ]
  },
  {
   "cell_type": "code",
   "execution_count": 44,
   "metadata": {
    "collapsed": true
   },
   "outputs": [],
   "source": [
    "from sklearn.cross_validation import cross_val_score"
   ]
  },
  {
   "cell_type": "code",
   "execution_count": 45,
   "metadata": {},
   "outputs": [
    {
     "data": {
      "text/plain": [
       "[0.9584839979587374,\n",
       " 0.9333260431095235,\n",
       " 0.94014422492770533,\n",
       " 0.95396527423391897,\n",
       " 0.93543960049573516,\n",
       " 0.96080957935408617]"
      ]
     },
     "execution_count": 45,
     "metadata": {},
     "output_type": "execute_result"
    }
   ],
   "source": [
    "estimators = [LogisticRegression(C=1.0 , random_state=4444),\n",
    "              KNeighborsClassifier(n_neighbors=6),\n",
    "              GaussianNB(priors=None),\n",
    "              SVC(C=1.0, random_state=4444),\n",
    "              DecisionTreeClassifier(random_state=4444),\n",
    "              RandomForestClassifier(n_estimators=200, random_state=4444)]\n",
    "scores_for_estimators = [] \n",
    "for estimator in estimators:\n",
    "    scores = cross_val_score(\n",
    "        estimator, \n",
    "        X, \n",
    "        y, \n",
    "        cv=5)\n",
    "    score = np.mean(scores)\n",
    "    scores_for_estimators.append(score)\n",
    "scores_for_estimators"
   ]
  },
  {
   "cell_type": "markdown",
   "metadata": {},
   "source": [
    "### Challenge 10\n",
    "\n",
    "Instead of 'democrat' or 'republican', can you predict the vote of a representative based on their other votes?\n",
    "\n",
    "Reload the data from scratch. Convert y-->1, n-->0."
   ]
  },
  {
   "cell_type": "code",
   "execution_count": 46,
   "metadata": {
    "collapsed": true
   },
   "outputs": [],
   "source": [
    "house_votes_df = pd.read_csv(\"house-votes-84.data\", header=None)\n",
    "house_votes_df.iloc[:,1:] = house_votes_df.iloc[:,1:].applymap(char_to_vote)"
   ]
  },
  {
   "cell_type": "markdown",
   "metadata": {},
   "source": [
    "Choose one vote. Build a classifier (logistic regression or KNN), that uses the other votes (do not use the party as a feature) to predict if the vote will be 1 or 0."
   ]
  },
  {
   "cell_type": "markdown",
   "metadata": {},
   "source": [
    "Convert each ? to the mode of the column (if a senator has not voted, make their vote 1 if most others voted 1, make it 0 if most others voted 0)."
   ]
  },
  {
   "cell_type": "code",
   "execution_count": 47,
   "metadata": {
    "collapsed": true
   },
   "outputs": [],
   "source": [
    "# convert each ? to mean of column\n",
    "for column in house_votes_df.iloc[:,1:]:\n",
    "    col_mode = house_votes_df[column].mode()[0]\n",
    "    house_votes_df[column] = house_votes_df[column].fillna(col_mode)"
   ]
  },
  {
   "cell_type": "code",
   "execution_count": 48,
   "metadata": {
    "collapsed": true
   },
   "outputs": [],
   "source": [
    "# finally separate X and y => predict first column\n",
    "y_new = house_votes_df.iloc[:,1]\n",
    "X_new = house_votes_df.iloc[:,2:]"
   ]
  },
  {
   "cell_type": "markdown",
   "metadata": {},
   "source": [
    "Calculate the cross validation accuracy of your classifier for predicting how each representative will vote on the issue."
   ]
  },
  {
   "cell_type": "code",
   "execution_count": 49,
   "metadata": {},
   "outputs": [
    {
     "data": {
      "text/plain": [
       "0.66652511482102494"
      ]
     },
     "execution_count": 49,
     "metadata": {},
     "output_type": "execute_result"
    }
   ],
   "source": [
    "scores = cross_val_score(\n",
    "    LogisticRegression(C=1.0 , random_state=4444), \n",
    "    X_new, \n",
    "    y_new, \n",
    "    cv=5)\n",
    "score = np.mean(scores)\n",
    "score"
   ]
  },
  {
   "cell_type": "markdown",
   "metadata": {},
   "source": [
    "### Challenge 11\n",
    "\n",
    "Back to movie data! Choose one categoric feature to predict. I chose MPAA Rating, but genre, month, etc. are all decent choices. If you don't have any non-numeric features, you can make two bins out of a numeric one (like \"Runtime>100 mins\" and \"Runtime<=100 mins\")\n",
    "\n",
    "Make a bar graph of how many of each movie there is in the data. For example, with Ratings, show how many G, PG, PG-13, R movies there are, etc. (basically a histogram of your labels)."
   ]
  },
  {
   "cell_type": "code",
   "execution_count": 50,
   "metadata": {
    "collapsed": true
   },
   "outputs": [],
   "source": [
    "movies_df = pd.read_csv('2013_movies.csv', header=0)\n",
    "#movies_df = pd.concat([movies_df, pd.get_dummies(movies_df['Rating'])], axis=1)"
   ]
  },
  {
   "cell_type": "code",
   "execution_count": 51,
   "metadata": {},
   "outputs": [
    {
     "data": {
      "text/plain": [
       "PG-13    47\n",
       "R        37\n",
       "PG       15\n",
       "G         1\n",
       "Name: Rating, dtype: int64"
      ]
     },
     "execution_count": 51,
     "metadata": {},
     "output_type": "execute_result"
    }
   ],
   "source": [
    "ratings = movies_df['Rating'].value_counts()\n",
    "ratings"
   ]
  },
  {
   "cell_type": "code",
   "execution_count": 52,
   "metadata": {},
   "outputs": [
    {
     "data": {
      "image/png": "[encoded data removed]",
      "text/plain": [
       "<matplotlib.figure.Figure at 0x120676208>"
      ]
     },
     "metadata": {},
     "output_type": "display_data"
    }
   ],
   "source": [
    "plt.xticks(range(4),list(ratings.index))\n",
    "plt.bar(range(4),list(ratings.values));"
   ]
  },
  {
   "cell_type": "markdown",
   "metadata": {},
   "source": [
    "Predict your outcome variable (labels) using KNN and logistic regression. Calculate their accuracies.\n",
    "\n",
    "Make a baseline stupid predictor that always predicts the label that is present the most in the data. Calculate its accuracy on a test set.\n",
    "\n",
    "How much better do KNN and logistic regression do versus the baseline?\n",
    "\n",
    "What are the coefficients of logistic regression? Which features affect the outcome how?"
   ]
  },
  {
   "cell_type": "code",
   "execution_count": 53,
   "metadata": {
    "collapsed": true
   },
   "outputs": [],
   "source": [
    "X_movies = movies_df[['Budget','DomesticTotalGross','Runtime']]\n",
    "y_movies = movies_df['Rating']"
   ]
  },
  {
   "cell_type": "code",
   "execution_count": 54,
   "metadata": {},
   "outputs": [
    {
     "name": "stderr",
     "output_type": "stream",
     "text": [
      "/anaconda/lib/python3.5/site-packages/ipykernel/__main__.py:4: SettingWithCopyWarning: \n",
      "A value is trying to be set on a copy of a slice from a DataFrame.\n",
      "Try using .loc[row_indexer,col_indexer] = value instead\n",
      "\n",
      "See the caveats in the documentation: http://pandas.pydata.org/pandas-docs/stable/indexing.html#indexing-view-versus-copy\n"
     ]
    }
   ],
   "source": [
    "# convert each NaN to mean of column\n",
    "for column in X_movies.columns:\n",
    "    col_mean = X_movies[column].mean()\n",
    "    X_movies[column] = X_movies[column].fillna(col_mean)"
   ]
  },
  {
   "cell_type": "code",
   "execution_count": 55,
   "metadata": {
    "collapsed": true
   },
   "outputs": [],
   "source": [
    "X_train, X_test, y_train, y_test = train_test_split(X_movies, y_movies, test_size=0.30, random_state=4444)"
   ]
  },
  {
   "cell_type": "code",
   "execution_count": 56,
   "metadata": {
    "collapsed": true
   },
   "outputs": [],
   "source": [
    "### KNN   "
   ]
  },
  {
   "cell_type": "code",
   "execution_count": 57,
   "metadata": {
    "collapsed": true
   },
   "outputs": [],
   "source": [
    "knn_classifiers = {}\n",
    "knn_classifiers_accuracies = {}"
   ]
  },
  {
   "cell_type": "code",
   "execution_count": 58,
   "metadata": {
    "collapsed": true
   },
   "outputs": [],
   "source": [
    "for nns in range(1,21):\n",
    "    knn_classifiers[nns] = KNeighborsClassifier(n_neighbors=nns)\n",
    "    knn_classifiers[nns].fit(X_train, y_train)\n",
    "    y_test_pred = knn_classifiers[nns].predict(X_test)\n",
    "    knn_classifiers_accuracies[nns] = accuracy_score(y_test, y_test_pred)"
   ]
  },
  {
   "cell_type": "code",
   "execution_count": 59,
   "metadata": {},
   "outputs": [
    {
     "data": {
      "text/plain": [
       "{1: 0.59999999999999998,\n",
       " 2: 0.5,\n",
       " 3: 0.59999999999999998,\n",
       " 4: 0.5,\n",
       " 5: 0.56666666666666665,\n",
       " 6: 0.53333333333333333,\n",
       " 7: 0.53333333333333333,\n",
       " 8: 0.53333333333333333,\n",
       " 9: 0.56666666666666665,\n",
       " 10: 0.46666666666666667,\n",
       " 11: 0.5,\n",
       " 12: 0.5,\n",
       " 13: 0.5,\n",
       " 14: 0.53333333333333333,\n",
       " 15: 0.43333333333333335,\n",
       " 16: 0.5,\n",
       " 17: 0.5,\n",
       " 18: 0.5,\n",
       " 19: 0.5,\n",
       " 20: 0.5}"
      ]
     },
     "execution_count": 59,
     "metadata": {},
     "output_type": "execute_result"
    }
   ],
   "source": [
    "knn_classifiers_accuracies"
   ]
  },
  {
   "cell_type": "code",
   "execution_count": 60,
   "metadata": {},
   "outputs": [
    {
     "data": {
      "text/plain": [
       "(1, 0.59999999999999998)"
      ]
     },
     "execution_count": 60,
     "metadata": {},
     "output_type": "execute_result"
    }
   ],
   "source": [
    "max_key = max(knn_classifiers_accuracies, key=knn_classifiers_accuracies.get)\n",
    "max_value = knn_classifiers_accuracies[max_key]\n",
    "max_key, max_value"
   ]
  },
  {
   "cell_type": "code",
   "execution_count": 61,
   "metadata": {},
   "outputs": [
    {
     "data": {
      "image/png": "[encoded data removed]",
      "text/plain": [
       "<matplotlib.figure.Figure at 0x1208fa240>"
      ]
     },
     "metadata": {},
     "output_type": "display_data"
    }
   ],
   "source": [
    "plt.scatter(list(knn_classifiers_accuracies.keys()), list(knn_classifiers_accuracies.values()));"
   ]
  },
  {
   "cell_type": "code",
   "execution_count": 62,
   "metadata": {
    "collapsed": true
   },
   "outputs": [],
   "source": [
    "### logistic"
   ]
  },
  {
   "cell_type": "code",
   "execution_count": 63,
   "metadata": {
    "collapsed": true
   },
   "outputs": [],
   "source": [
    "lr_classifiers = {}\n",
    "lr_classifiers_accuracies = {}"
   ]
  },
  {
   "cell_type": "code",
   "execution_count": 64,
   "metadata": {
    "collapsed": true
   },
   "outputs": [],
   "source": [
    "for c_penalty in np.logspace(-8,8,num=17):\n",
    "    lr_classifiers[c_penalty] = LogisticRegression(C=c_penalty , random_state=4444)\n",
    "    lr_classifiers[c_penalty].fit(X_train, y_train)\n",
    "    y_test_pred = lr_classifiers[c_penalty].predict(X_test)\n",
    "    lr_classifiers_accuracies[c_penalty] = accuracy_score(y_test, y_test_pred)"
   ]
  },
  {
   "cell_type": "code",
   "execution_count": 65,
   "metadata": {},
   "outputs": [
    {
     "data": {
      "text/plain": [
       "(0.10000000000000001, 0.46666666666666667)"
      ]
     },
     "execution_count": 65,
     "metadata": {},
     "output_type": "execute_result"
    }
   ],
   "source": [
    "max_key = max(lr_classifiers_accuracies, key=lr_classifiers_accuracies.get)\n",
    "max_value = lr_classifiers_accuracies[max_key]\n",
    "max_key, max_value"
   ]
  },
  {
   "cell_type": "code",
   "execution_count": 66,
   "metadata": {},
   "outputs": [
    {
     "data": {
      "text/plain": [
       "dict_keys([0.10000000000000001, 1.0, 100.0, 1.0000000000000001e-05, 1e-08, 10.0, 0.01, 100000000.0, 10000.0, 1000.0, 9.9999999999999995e-08, 1000000.0, 0.0001, 10000000.0, 100000.0, 9.9999999999999995e-07, 0.001])"
      ]
     },
     "execution_count": 66,
     "metadata": {},
     "output_type": "execute_result"
    }
   ],
   "source": [
    "lr_classifiers_accuracies.keys()"
   ]
  },
  {
   "cell_type": "code",
   "execution_count": 67,
   "metadata": {},
   "outputs": [
    {
     "data": {
      "image/png": "[encoded data removed]",
      "text/plain": [
       "<matplotlib.figure.Figure at 0x1206c3fd0>"
      ]
     },
     "metadata": {},
     "output_type": "display_data"
    }
   ],
   "source": [
    "plt.scatter(np.log10(list(lr_classifiers_accuracies.keys())), list(lr_classifiers_accuracies.values()));"
   ]
  },
  {
   "cell_type": "code",
   "execution_count": 68,
   "metadata": {},
   "outputs": [
    {
     "data": {
      "text/plain": [
       "0.46666666666666667"
      ]
     },
     "execution_count": 68,
     "metadata": {},
     "output_type": "execute_result"
    }
   ],
   "source": [
    "accuracy_score(y_test, predict_one_party(X_test, 'PG-13'))"
   ]
  },
  {
   "cell_type": "markdown",
   "metadata": {},
   "source": [
    "### Challenge 12\n",
    "\n",
    "Now you are a classification master. The representative votes dataset only had 0s and 1s. Let's just swiftly tackle the breast cancer surgery data.\n",
    "\n",
    "Get it from here: Haberman Survival Dataset\n",
    "\n",
    "* What is the average and standard deviation of the age of all of the patients?\n",
    "* What is the average and standard deviation of the age of those patients that survived 5 or more years after surgery?\n",
    "* What is the average and standard deviation of the age of those patients who survived fewer than 5 years after surgery?\n",
    "* Plot a histogram of the ages side by side with a histogram of the number of axillary nodes.\n",
    "* What is the earliest year of surgery in this dataset?\n",
    "* What is the most recent year of surgery?\n",
    "* Use logistic regression to predict survival after 5 years. How well does your model do?\n",
    "* What are the coefficients of logistic regression? Which features affect the outcome how?\n",
    "* Draw the learning curve for logistic regression in this case."
   ]
  },
  {
   "cell_type": "code",
   "execution_count": 69,
   "metadata": {
    "collapsed": true
   },
   "outputs": [],
   "source": [
    "haberman_df = pd.read_csv(\"haberman.data\", header=None)"
   ]
  },
  {
   "cell_type": "markdown",
   "metadata": {},
   "source": [
    "Attribute Information:\n",
    "   1. Age of patient at time of operation (numerical)\n",
    "   2. Patient's year of operation (year - 1900, numerical)\n",
    "   3. Number of positive axillary nodes detected (numerical)\n",
    "   4. Survival status (class attribute)\n",
    "         * 1 = the patient survived 5 years or longer\n",
    "         * 2 = the patient died within 5 year"
   ]
  },
  {
   "cell_type": "code",
   "execution_count": 70,
   "metadata": {
    "collapsed": true
   },
   "outputs": [],
   "source": [
    "haberman_df.rename(columns={0: 'age_operation',1:'year_operation',2:'num_nodes',3:'survival'}, inplace=True)"
   ]
  },
  {
   "cell_type": "code",
   "execution_count": 71,
   "metadata": {},
   "outputs": [
    {
     "name": "stdout",
     "output_type": "stream",
     "text": [
      "52.45751633986928\n",
      "10.80345234930328\n"
     ]
    }
   ],
   "source": [
    "print(haberman_df['age_operation'].mean())\n",
    "print(haberman_df['age_operation'].std())"
   ]
  },
  {
   "cell_type": "code",
   "execution_count": 72,
   "metadata": {
    "collapsed": true
   },
   "outputs": [],
   "source": [
    "survived_df = haberman_df[haberman_df['survival'] == 1]\n",
    "non_survivor_df = haberman_df[haberman_df['survival'] == 2]"
   ]
  },
  {
   "cell_type": "code",
   "execution_count": 73,
   "metadata": {},
   "outputs": [
    {
     "name": "stdout",
     "output_type": "stream",
     "text": [
      "52.01777777777778\n",
      "11.012154179929546\n",
      "53.67901234567901\n",
      "10.16713720829741\n"
     ]
    }
   ],
   "source": [
    "print(survived_df['age_operation'].mean())\n",
    "print(survived_df['age_operation'].std())\n",
    "print(non_survivor_df['age_operation'].mean())\n",
    "print(non_survivor_df['age_operation'].std())"
   ]
  },
  {
   "cell_type": "code",
   "execution_count": 74,
   "metadata": {},
   "outputs": [
    {
     "data": {
      "image/png": "[encoded data removed]",
      "text/plain": [
       "<matplotlib.figure.Figure at 0x11ff9d400>"
      ]
     },
     "metadata": {},
     "output_type": "display_data"
    }
   ],
   "source": [
    "fig = plt.figure()\n",
    "fig.set_size_inches(12,6)\n",
    "fig.add_subplot(121)\n",
    "plt.hist(haberman_df['age_operation'], bins=30);\n",
    "fig.add_subplot(122)\n",
    "plt.hist(haberman_df['num_nodes'], bins=30);"
   ]
  },
  {
   "cell_type": "code",
   "execution_count": 75,
   "metadata": {},
   "outputs": [
    {
     "name": "stdout",
     "output_type": "stream",
     "text": [
      "30\n",
      "69\n"
     ]
    }
   ],
   "source": [
    "print(survived_df['age_operation'].min())\n",
    "print(survived_df['year_operation'].max())"
   ]
  },
  {
   "cell_type": "code",
   "execution_count": 76,
   "metadata": {
    "collapsed": true
   },
   "outputs": [],
   "source": [
    "X = haberman_df.drop('survival', axis=1)\n",
    "y = haberman_df['survival']"
   ]
  },
  {
   "cell_type": "code",
   "execution_count": 77,
   "metadata": {
    "collapsed": true
   },
   "outputs": [],
   "source": [
    "X_train, X_test, y_train, y_test = train_test_split(X, y, test_size=0.30, random_state=4444)"
   ]
  },
  {
   "cell_type": "code",
   "execution_count": 78,
   "metadata": {
    "collapsed": true
   },
   "outputs": [],
   "source": [
    "lr_classifiers = {}\n",
    "lr_classifiers_accuracies = {}"
   ]
  },
  {
   "cell_type": "code",
   "execution_count": 79,
   "metadata": {
    "collapsed": true
   },
   "outputs": [],
   "source": [
    "for c_penalty in np.logspace(-8,8,num=17):\n",
    "    lr_classifiers[c_penalty] = LogisticRegression(C=c_penalty, random_state=4444)\n",
    "    lr_classifiers[c_penalty].fit(X_train, y_train)\n",
    "    y_test_pred = lr_classifiers[c_penalty].predict(X_test)\n",
    "    lr_classifiers_accuracies[c_penalty] = accuracy_score(y_test, y_test_pred)"
   ]
  },
  {
   "cell_type": "code",
   "execution_count": 80,
   "metadata": {},
   "outputs": [
    {
     "data": {
      "text/plain": [
       "(100.0, 0.83695652173913049)"
      ]
     },
     "execution_count": 80,
     "metadata": {},
     "output_type": "execute_result"
    }
   ],
   "source": [
    "max_key = max(lr_classifiers_accuracies, key=lr_classifiers_accuracies.get)\n",
    "max_value = lr_classifiers_accuracies[max_key]\n",
    "max_key, max_value"
   ]
  },
  {
   "cell_type": "code",
   "execution_count": 81,
   "metadata": {},
   "outputs": [
    {
     "data": {
      "text/plain": [
       "array([[ 0.01728648,  0.00299238,  0.07188429]])"
      ]
     },
     "execution_count": 81,
     "metadata": {},
     "output_type": "execute_result"
    }
   ],
   "source": [
    "lr_classifiers[max_key].coef_"
   ]
  },
  {
   "cell_type": "code",
   "execution_count": 82,
   "metadata": {},
   "outputs": [
    {
     "data": {
      "image/png": "[encoded data removed]",
      "text/plain": [
       "<matplotlib.figure.Figure at 0x12075a710>"
      ]
     },
     "metadata": {},
     "output_type": "display_data"
    }
   ],
   "source": [
    "plt.scatter(np.log10(list(lr_classifiers_accuracies.keys())), list(lr_classifiers_accuracies.values()));"
   ]
  },
  {
   "cell_type": "code",
   "execution_count": 83,
   "metadata": {},
   "outputs": [
    {
     "data": {
      "image/png": "[encoded data removed]",
      "text/plain": [
       "<matplotlib.figure.Figure at 0x1207798d0>"
      ]
     },
     "metadata": {},
     "output_type": "display_data"
    }
   ],
   "source": [
    "estimator = LogisticRegression(C=100.0 , random_state=4444)\n",
    "train_sizes, train_err, ts_err = learning_curve(\n",
    "    estimator, \n",
    "    X, \n",
    "    y, \n",
    "    cv=5,\n",
    "    random_state=4444)\n",
    "train_cv_err = np.mean(train_err, axis=1)\n",
    "test_cv_err = np.mean(ts_err, axis=1)\n",
    "plt.plot(train_sizes, train_cv_err, 'o-', color=\"r\",\n",
    "             label=\"Training score\")\n",
    "plt.plot(train_sizes, test_cv_err, 'o-', color=\"g\",\n",
    "             label=\"Cross-validation score\");"
   ]
  },
  {
   "cell_type": "code",
   "execution_count": null,
   "metadata": {
    "collapsed": true
   },
   "outputs": [],
   "source": []
  }
 ],
 "metadata": {
  "kernelspec": {
   "display_name": "Python [conda root]",
   "language": "python",
   "name": "conda-root-py"
  },
  "language_info": {
   "codemirror_mode": {
    "name": "ipython",
    "version": 3
   },
   "file_extension": ".py",
   "mimetype": "text/x-python",
   "name": "python",
   "nbconvert_exporter": "python",
   "pygments_lexer": "ipython3",
   "version": "3.5.4"
  }
 },
 "nbformat": 4,
 "nbformat_minor": 2
}
