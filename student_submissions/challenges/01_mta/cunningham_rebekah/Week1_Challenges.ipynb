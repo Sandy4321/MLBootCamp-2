{
 "cells": [
  {
   "cell_type": "code",
   "execution_count": 122,
   "metadata": {
    "collapsed": true
   },
   "outputs": [],
   "source": [
    "import pandas as pd\n",
    "import numpy as np\n",
    "from collections import defaultdict\n",
    "import csv\n",
    "from datetime import datetime\n",
    "import seaborn as sns\n",
    "%matplotlib inline\n",
    "import matplotlib.pyplot as plt"
   ]
  },
  {
   "cell_type": "code",
   "execution_count": 123,
   "metadata": {
    "collapsed": true
   },
   "outputs": [],
   "source": [
    "def get_data(week_nums):\n",
    "    url = \"http://web.mta.info/developers/data/nyct/turnstile/turnstile_{}.txt\"\n",
    "    dfs = []\n",
    "    for week_num in week_nums:\n",
    "        file_url = url.format(week_num)\n",
    "        f = pd.read_csv(file_url)\n",
    "        f['WEEK_NUM'] = week_num\n",
    "        dfs.append(f)\n",
    "    return pd.concat(dfs)"
   ]
  },
  {
   "cell_type": "markdown",
   "metadata": {},
   "source": [
    "**TA COMMENT:**\n",
    "\n",
    "This helper function is great coding practice. One improvement to make on this function might be to include a way to catch bad urls. For example, if the mta website was missing one week's worth of data then your function would throw an error when trying to access a broken url."
   ]
  },
  {
   "cell_type": "markdown",
   "metadata": {
    "collapsed": true
   },
   "source": [
    "# Challenge 1"
   ]
  },
  {
   "cell_type": "code",
   "execution_count": 124,
   "metadata": {
    "collapsed": true
   },
   "outputs": [],
   "source": [
    "week_nums = ['170701', '170624', '170617', '170610', '170603']\n",
    "df = get_data(week_nums)"
   ]
  },
  {
   "cell_type": "code",
   "execution_count": 125,
   "metadata": {
    "collapsed": true
   },
   "outputs": [],
   "source": [
    "df.columns = df.columns.str.strip()"
   ]
  },
  {
   "cell_type": "code",
   "execution_count": 126,
   "metadata": {
    "collapsed": true
   },
   "outputs": [],
   "source": [
    "df['LOC'] = tuple(zip(df['C/A'], df.UNIT, df.SCP, df.STATION))"
   ]
  },
  {
   "cell_type": "code",
   "execution_count": 127,
   "metadata": {},
   "outputs": [
    {
     "data": {
      "text/html": [
       "<div>\n",
       "<style>\n",
       "    .dataframe thead tr:only-child th {\n",
       "        text-align: right;\n",
       "    }\n",
       "\n",
       "    .dataframe thead th {\n",
       "        text-align: left;\n",
       "    }\n",
       "\n",
       "    .dataframe tbody tr th {\n",
       "        vertical-align: top;\n",
       "    }\n",
       "</style>\n",
       "<table border=\"1\" class=\"dataframe\">\n",
       "  <thead>\n",
       "    <tr style=\"text-align: right;\">\n",
       "      <th></th>\n",
       "      <th>C/A</th>\n",
       "      <th>UNIT</th>\n",
       "      <th>SCP</th>\n",
       "      <th>STATION</th>\n",
       "      <th>LINENAME</th>\n",
       "      <th>DIVISION</th>\n",
       "      <th>DATE</th>\n",
       "      <th>TIME</th>\n",
       "      <th>DESC</th>\n",
       "      <th>ENTRIES</th>\n",
       "      <th>EXITS</th>\n",
       "      <th>WEEK_NUM</th>\n",
       "      <th>LOC</th>\n",
       "    </tr>\n",
       "  </thead>\n",
       "  <tbody>\n",
       "    <tr>\n",
       "      <th>0</th>\n",
       "      <td>A002</td>\n",
       "      <td>R051</td>\n",
       "      <td>02-00-00</td>\n",
       "      <td>59 ST</td>\n",
       "      <td>NQR456W</td>\n",
       "      <td>BMT</td>\n",
       "      <td>06/24/2017</td>\n",
       "      <td>00:00:00</td>\n",
       "      <td>REGULAR</td>\n",
       "      <td>6233682</td>\n",
       "      <td>2110437</td>\n",
       "      <td>170701</td>\n",
       "      <td>(A002, R051, 02-00-00, 59 ST)</td>\n",
       "    </tr>\n",
       "    <tr>\n",
       "      <th>1</th>\n",
       "      <td>A002</td>\n",
       "      <td>R051</td>\n",
       "      <td>02-00-00</td>\n",
       "      <td>59 ST</td>\n",
       "      <td>NQR456W</td>\n",
       "      <td>BMT</td>\n",
       "      <td>06/24/2017</td>\n",
       "      <td>04:00:00</td>\n",
       "      <td>REGULAR</td>\n",
       "      <td>6233696</td>\n",
       "      <td>2110445</td>\n",
       "      <td>170701</td>\n",
       "      <td>(A002, R051, 02-00-00, 59 ST)</td>\n",
       "    </tr>\n",
       "    <tr>\n",
       "      <th>2</th>\n",
       "      <td>A002</td>\n",
       "      <td>R051</td>\n",
       "      <td>02-00-00</td>\n",
       "      <td>59 ST</td>\n",
       "      <td>NQR456W</td>\n",
       "      <td>BMT</td>\n",
       "      <td>06/24/2017</td>\n",
       "      <td>08:00:00</td>\n",
       "      <td>REGULAR</td>\n",
       "      <td>6233712</td>\n",
       "      <td>2110473</td>\n",
       "      <td>170701</td>\n",
       "      <td>(A002, R051, 02-00-00, 59 ST)</td>\n",
       "    </tr>\n",
       "    <tr>\n",
       "      <th>3</th>\n",
       "      <td>A002</td>\n",
       "      <td>R051</td>\n",
       "      <td>02-00-00</td>\n",
       "      <td>59 ST</td>\n",
       "      <td>NQR456W</td>\n",
       "      <td>BMT</td>\n",
       "      <td>06/24/2017</td>\n",
       "      <td>12:00:00</td>\n",
       "      <td>REGULAR</td>\n",
       "      <td>6233790</td>\n",
       "      <td>2110560</td>\n",
       "      <td>170701</td>\n",
       "      <td>(A002, R051, 02-00-00, 59 ST)</td>\n",
       "    </tr>\n",
       "    <tr>\n",
       "      <th>4</th>\n",
       "      <td>A002</td>\n",
       "      <td>R051</td>\n",
       "      <td>02-00-00</td>\n",
       "      <td>59 ST</td>\n",
       "      <td>NQR456W</td>\n",
       "      <td>BMT</td>\n",
       "      <td>06/24/2017</td>\n",
       "      <td>16:00:00</td>\n",
       "      <td>REGULAR</td>\n",
       "      <td>6233942</td>\n",
       "      <td>2110622</td>\n",
       "      <td>170701</td>\n",
       "      <td>(A002, R051, 02-00-00, 59 ST)</td>\n",
       "    </tr>\n",
       "  </tbody>\n",
       "</table>\n",
       "</div>"
      ],
      "text/plain": [
       "    C/A  UNIT       SCP STATION LINENAME DIVISION        DATE      TIME  \\\n",
       "0  A002  R051  02-00-00   59 ST  NQR456W      BMT  06/24/2017  00:00:00   \n",
       "1  A002  R051  02-00-00   59 ST  NQR456W      BMT  06/24/2017  04:00:00   \n",
       "2  A002  R051  02-00-00   59 ST  NQR456W      BMT  06/24/2017  08:00:00   \n",
       "3  A002  R051  02-00-00   59 ST  NQR456W      BMT  06/24/2017  12:00:00   \n",
       "4  A002  R051  02-00-00   59 ST  NQR456W      BMT  06/24/2017  16:00:00   \n",
       "\n",
       "      DESC  ENTRIES    EXITS WEEK_NUM                            LOC  \n",
       "0  REGULAR  6233682  2110437   170701  (A002, R051, 02-00-00, 59 ST)  \n",
       "1  REGULAR  6233696  2110445   170701  (A002, R051, 02-00-00, 59 ST)  \n",
       "2  REGULAR  6233712  2110473   170701  (A002, R051, 02-00-00, 59 ST)  \n",
       "3  REGULAR  6233790  2110560   170701  (A002, R051, 02-00-00, 59 ST)  \n",
       "4  REGULAR  6233942  2110622   170701  (A002, R051, 02-00-00, 59 ST)  "
      ]
     },
     "execution_count": 127,
     "metadata": {},
     "output_type": "execute_result"
    }
   ],
   "source": [
    "df.head()"
   ]
  },
  {
   "cell_type": "markdown",
   "metadata": {
    "collapsed": true
   },
   "source": [
    "# Challenge 2"
   ]
  },
  {
   "cell_type": "code",
   "execution_count": 128,
   "metadata": {
    "collapsed": true
   },
   "outputs": [],
   "source": [
    "df['DATETIME'] = df['DATE'] + \" \" + df['TIME']"
   ]
  },
  {
   "cell_type": "code",
   "execution_count": 129,
   "metadata": {
    "collapsed": true
   },
   "outputs": [],
   "source": [
    "df['DATETIME'] = df['DATETIME'].map(pd.to_datetime)"
   ]
  },
  {
   "cell_type": "code",
   "execution_count": 130,
   "metadata": {
    "collapsed": true
   },
   "outputs": [],
   "source": [
    "df['ENTRIES_DIFF'] = abs(df['ENTRIES']) - abs(df['ENTRIES'].shift(1))\n",
    "df['EXITS_DIFF'] = abs(df['EXITS']) - abs(df['EXITS'].shift(1))\n"
   ]
  },
  {
   "cell_type": "code",
   "execution_count": 131,
   "metadata": {},
   "outputs": [
    {
     "name": "stderr",
     "output_type": "stream",
     "text": [
      "/Users/bekcunning/anaconda/lib/python3.6/site-packages/ipykernel_launcher.py:3: SettingWithCopyWarning: \n",
      "A value is trying to be set on a copy of a slice from a DataFrame\n",
      "\n",
      "See the caveats in the documentation: http://pandas.pydata.org/pandas-docs/stable/indexing.html#indexing-view-versus-copy\n",
      "  This is separate from the ipykernel package so we can avoid doing imports until\n",
      "/Users/bekcunning/anaconda/lib/python3.6/site-packages/ipykernel_launcher.py:4: SettingWithCopyWarning: \n",
      "A value is trying to be set on a copy of a slice from a DataFrame\n",
      "\n",
      "See the caveats in the documentation: http://pandas.pydata.org/pandas-docs/stable/indexing.html#indexing-view-versus-copy\n",
      "  after removing the cwd from sys.path.\n",
      "/Users/bekcunning/anaconda/lib/python3.6/site-packages/ipykernel_launcher.py:5: SettingWithCopyWarning: \n",
      "A value is trying to be set on a copy of a slice from a DataFrame\n",
      "\n",
      "See the caveats in the documentation: http://pandas.pydata.org/pandas-docs/stable/indexing.html#indexing-view-versus-copy\n",
      "  \"\"\"\n",
      "/Users/bekcunning/anaconda/lib/python3.6/site-packages/ipykernel_launcher.py:6: SettingWithCopyWarning: \n",
      "A value is trying to be set on a copy of a slice from a DataFrame\n",
      "\n",
      "See the caveats in the documentation: http://pandas.pydata.org/pandas-docs/stable/indexing.html#indexing-view-versus-copy\n",
      "  \n"
     ]
    }
   ],
   "source": [
    "df['ENTRIES_DIFF'] = abs(df['ENTRIES_DIFF'])\n",
    "df['EXITS_DIFF'] = abs(df['EXITS_DIFF'])\n",
    "df.EXITS_DIFF[df['EXITS_DIFF'] > 10000] = np.nan\n",
    "df.ENTRIES_DIFF[df['ENTRIES_DIFF'] > 10000] = np.nan\n",
    "df.EXITS_DIFF[df['EXITS_DIFF'] < 0] = np.nan\n",
    "df.ENTRIES_DIFF[df['ENTRIES_DIFF'] < 0] = np.nan"
   ]
  },
  {
   "cell_type": "markdown",
   "metadata": {},
   "source": [
    "**TA COMMENT:**\n",
    "\n",
    "I think I follow, for the most part, what you were trying to do here. The problem you were probably running into was that the entries and exits counts resets and so when you try to calculate the difference between the previous day and the current day you find large negative values in the dataframe. \n",
    "\n",
    "Instead of taking the absolute values then finding the difference and then setting the values greater than 10,000 to null values, it might be easier to just calculate the differences and set only the negative values to null values. Setting the cut off at 10,000 is probably safe since turnstiles shouldn't see more than 10,000 people every 4 hour period, but its not as robust as just searching for negative count values which should always indicate a count reset."
   ]
  },
  {
   "cell_type": "code",
   "execution_count": 132,
   "metadata": {},
   "outputs": [
    {
     "data": {
      "text/html": [
       "<div>\n",
       "<style>\n",
       "    .dataframe thead tr:only-child th {\n",
       "        text-align: right;\n",
       "    }\n",
       "\n",
       "    .dataframe thead th {\n",
       "        text-align: left;\n",
       "    }\n",
       "\n",
       "    .dataframe tbody tr th {\n",
       "        vertical-align: top;\n",
       "    }\n",
       "</style>\n",
       "<table border=\"1\" class=\"dataframe\">\n",
       "  <thead>\n",
       "    <tr style=\"text-align: right;\">\n",
       "      <th></th>\n",
       "      <th>C/A</th>\n",
       "      <th>UNIT</th>\n",
       "      <th>SCP</th>\n",
       "      <th>STATION</th>\n",
       "      <th>LINENAME</th>\n",
       "      <th>DIVISION</th>\n",
       "      <th>DATE</th>\n",
       "      <th>TIME</th>\n",
       "      <th>DESC</th>\n",
       "      <th>ENTRIES</th>\n",
       "      <th>EXITS</th>\n",
       "      <th>WEEK_NUM</th>\n",
       "      <th>LOC</th>\n",
       "      <th>DATETIME</th>\n",
       "      <th>ENTRIES_DIFF</th>\n",
       "      <th>EXITS_DIFF</th>\n",
       "    </tr>\n",
       "  </thead>\n",
       "  <tbody>\n",
       "    <tr>\n",
       "      <th>0</th>\n",
       "      <td>A002</td>\n",
       "      <td>R051</td>\n",
       "      <td>02-00-00</td>\n",
       "      <td>59 ST</td>\n",
       "      <td>NQR456W</td>\n",
       "      <td>BMT</td>\n",
       "      <td>06/24/2017</td>\n",
       "      <td>00:00:00</td>\n",
       "      <td>REGULAR</td>\n",
       "      <td>6233682</td>\n",
       "      <td>2110437</td>\n",
       "      <td>170701</td>\n",
       "      <td>(A002, R051, 02-00-00, 59 ST)</td>\n",
       "      <td>2017-06-24 00:00:00</td>\n",
       "      <td>NaN</td>\n",
       "      <td>NaN</td>\n",
       "    </tr>\n",
       "    <tr>\n",
       "      <th>1</th>\n",
       "      <td>A002</td>\n",
       "      <td>R051</td>\n",
       "      <td>02-00-00</td>\n",
       "      <td>59 ST</td>\n",
       "      <td>NQR456W</td>\n",
       "      <td>BMT</td>\n",
       "      <td>06/24/2017</td>\n",
       "      <td>04:00:00</td>\n",
       "      <td>REGULAR</td>\n",
       "      <td>6233696</td>\n",
       "      <td>2110445</td>\n",
       "      <td>170701</td>\n",
       "      <td>(A002, R051, 02-00-00, 59 ST)</td>\n",
       "      <td>2017-06-24 04:00:00</td>\n",
       "      <td>14.0</td>\n",
       "      <td>8.0</td>\n",
       "    </tr>\n",
       "    <tr>\n",
       "      <th>2</th>\n",
       "      <td>A002</td>\n",
       "      <td>R051</td>\n",
       "      <td>02-00-00</td>\n",
       "      <td>59 ST</td>\n",
       "      <td>NQR456W</td>\n",
       "      <td>BMT</td>\n",
       "      <td>06/24/2017</td>\n",
       "      <td>08:00:00</td>\n",
       "      <td>REGULAR</td>\n",
       "      <td>6233712</td>\n",
       "      <td>2110473</td>\n",
       "      <td>170701</td>\n",
       "      <td>(A002, R051, 02-00-00, 59 ST)</td>\n",
       "      <td>2017-06-24 08:00:00</td>\n",
       "      <td>16.0</td>\n",
       "      <td>28.0</td>\n",
       "    </tr>\n",
       "    <tr>\n",
       "      <th>3</th>\n",
       "      <td>A002</td>\n",
       "      <td>R051</td>\n",
       "      <td>02-00-00</td>\n",
       "      <td>59 ST</td>\n",
       "      <td>NQR456W</td>\n",
       "      <td>BMT</td>\n",
       "      <td>06/24/2017</td>\n",
       "      <td>12:00:00</td>\n",
       "      <td>REGULAR</td>\n",
       "      <td>6233790</td>\n",
       "      <td>2110560</td>\n",
       "      <td>170701</td>\n",
       "      <td>(A002, R051, 02-00-00, 59 ST)</td>\n",
       "      <td>2017-06-24 12:00:00</td>\n",
       "      <td>78.0</td>\n",
       "      <td>87.0</td>\n",
       "    </tr>\n",
       "    <tr>\n",
       "      <th>4</th>\n",
       "      <td>A002</td>\n",
       "      <td>R051</td>\n",
       "      <td>02-00-00</td>\n",
       "      <td>59 ST</td>\n",
       "      <td>NQR456W</td>\n",
       "      <td>BMT</td>\n",
       "      <td>06/24/2017</td>\n",
       "      <td>16:00:00</td>\n",
       "      <td>REGULAR</td>\n",
       "      <td>6233942</td>\n",
       "      <td>2110622</td>\n",
       "      <td>170701</td>\n",
       "      <td>(A002, R051, 02-00-00, 59 ST)</td>\n",
       "      <td>2017-06-24 16:00:00</td>\n",
       "      <td>152.0</td>\n",
       "      <td>62.0</td>\n",
       "    </tr>\n",
       "  </tbody>\n",
       "</table>\n",
       "</div>"
      ],
      "text/plain": [
       "    C/A  UNIT       SCP STATION LINENAME DIVISION        DATE      TIME  \\\n",
       "0  A002  R051  02-00-00   59 ST  NQR456W      BMT  06/24/2017  00:00:00   \n",
       "1  A002  R051  02-00-00   59 ST  NQR456W      BMT  06/24/2017  04:00:00   \n",
       "2  A002  R051  02-00-00   59 ST  NQR456W      BMT  06/24/2017  08:00:00   \n",
       "3  A002  R051  02-00-00   59 ST  NQR456W      BMT  06/24/2017  12:00:00   \n",
       "4  A002  R051  02-00-00   59 ST  NQR456W      BMT  06/24/2017  16:00:00   \n",
       "\n",
       "      DESC  ENTRIES    EXITS WEEK_NUM                            LOC  \\\n",
       "0  REGULAR  6233682  2110437   170701  (A002, R051, 02-00-00, 59 ST)   \n",
       "1  REGULAR  6233696  2110445   170701  (A002, R051, 02-00-00, 59 ST)   \n",
       "2  REGULAR  6233712  2110473   170701  (A002, R051, 02-00-00, 59 ST)   \n",
       "3  REGULAR  6233790  2110560   170701  (A002, R051, 02-00-00, 59 ST)   \n",
       "4  REGULAR  6233942  2110622   170701  (A002, R051, 02-00-00, 59 ST)   \n",
       "\n",
       "             DATETIME  ENTRIES_DIFF  EXITS_DIFF  \n",
       "0 2017-06-24 00:00:00           NaN         NaN  \n",
       "1 2017-06-24 04:00:00          14.0         8.0  \n",
       "2 2017-06-24 08:00:00          16.0        28.0  \n",
       "3 2017-06-24 12:00:00          78.0        87.0  \n",
       "4 2017-06-24 16:00:00         152.0        62.0  "
      ]
     },
     "execution_count": 132,
     "metadata": {},
     "output_type": "execute_result"
    }
   ],
   "source": [
    "df.head(5)"
   ]
  },
  {
   "cell_type": "markdown",
   "metadata": {},
   "source": [
    "# Challenge 2"
   ]
  },
  {
   "cell_type": "code",
   "execution_count": 133,
   "metadata": {
    "collapsed": true
   },
   "outputs": [],
   "source": [
    "gb = df.groupby(['LOC', 'DATETIME'])[['ENTRIES_DIFF', 'EXITS_DIFF']].sum()"
   ]
  },
  {
   "cell_type": "code",
   "execution_count": 134,
   "metadata": {},
   "outputs": [
    {
     "data": {
      "text/html": [
       "<div>\n",
       "<style>\n",
       "    .dataframe thead tr:only-child th {\n",
       "        text-align: right;\n",
       "    }\n",
       "\n",
       "    .dataframe thead th {\n",
       "        text-align: left;\n",
       "    }\n",
       "\n",
       "    .dataframe tbody tr th {\n",
       "        vertical-align: top;\n",
       "    }\n",
       "</style>\n",
       "<table border=\"1\" class=\"dataframe\">\n",
       "  <thead>\n",
       "    <tr style=\"text-align: right;\">\n",
       "      <th></th>\n",
       "      <th></th>\n",
       "      <th>ENTRIES_DIFF</th>\n",
       "      <th>EXITS_DIFF</th>\n",
       "    </tr>\n",
       "    <tr>\n",
       "      <th>LOC</th>\n",
       "      <th>DATETIME</th>\n",
       "      <th></th>\n",
       "      <th></th>\n",
       "    </tr>\n",
       "  </thead>\n",
       "  <tbody>\n",
       "    <tr>\n",
       "      <th rowspan=\"5\" valign=\"top\">(A002, R051, 02-00-00, 59 ST)</th>\n",
       "      <th>2017-05-27 00:00:00</th>\n",
       "      <td>NaN</td>\n",
       "      <td>NaN</td>\n",
       "    </tr>\n",
       "    <tr>\n",
       "      <th>2017-05-27 04:00:00</th>\n",
       "      <td>23.0</td>\n",
       "      <td>1.0</td>\n",
       "    </tr>\n",
       "    <tr>\n",
       "      <th>2017-05-27 08:00:00</th>\n",
       "      <td>16.0</td>\n",
       "      <td>29.0</td>\n",
       "    </tr>\n",
       "    <tr>\n",
       "      <th>2017-05-27 12:00:00</th>\n",
       "      <td>90.0</td>\n",
       "      <td>85.0</td>\n",
       "    </tr>\n",
       "    <tr>\n",
       "      <th>2017-05-27 16:00:00</th>\n",
       "      <td>172.0</td>\n",
       "      <td>59.0</td>\n",
       "    </tr>\n",
       "  </tbody>\n",
       "</table>\n",
       "</div>"
      ],
      "text/plain": [
       "                                                   ENTRIES_DIFF  EXITS_DIFF\n",
       "LOC                           DATETIME                                     \n",
       "(A002, R051, 02-00-00, 59 ST) 2017-05-27 00:00:00           NaN         NaN\n",
       "                              2017-05-27 04:00:00          23.0         1.0\n",
       "                              2017-05-27 08:00:00          16.0        29.0\n",
       "                              2017-05-27 12:00:00          90.0        85.0\n",
       "                              2017-05-27 16:00:00         172.0        59.0"
      ]
     },
     "execution_count": 134,
     "metadata": {},
     "output_type": "execute_result"
    }
   ],
   "source": [
    "gb.head()"
   ]
  },
  {
   "cell_type": "markdown",
   "metadata": {},
   "source": [
    "# Challenge 3 - create a time series"
   ]
  },
  {
   "cell_type": "code",
   "execution_count": 135,
   "metadata": {
    "collapsed": true
   },
   "outputs": [],
   "source": [
    "df.set_index('LOC', inplace=True)\n",
    "entriesgb = df.groupby(['LOC', 'DATE'])['ENTRIES_DIFF'].sum()"
   ]
  },
  {
   "cell_type": "code",
   "execution_count": 136,
   "metadata": {},
   "outputs": [
    {
     "data": {
      "text/plain": [
       "[('05/27/2017', 548.0),\n",
       " ('05/28/2017', 681.0),\n",
       " ('05/29/2017', 661.0),\n",
       " ('05/30/2017', 1517.0),\n",
       " ('05/31/2017', 1576.0)]"
      ]
     },
     "execution_count": 136,
     "metadata": {},
     "output_type": "execute_result"
    }
   ],
   "source": [
    "series_for_loc = {}\n",
    "for location in df.index.unique():\n",
    "    f = entriesgb.loc[location]\n",
    "    series_for_loc[location] = list(zip(f.index, f.values))\n",
    "\t\n",
    "series_for_loc[('A002', 'R051', '02-00-00', '59 ST')][0:5]"
   ]
  },
  {
   "cell_type": "markdown",
   "metadata": {
    "collapsed": true
   },
   "source": [
    "# Challenge 4 - plot the time series"
   ]
  },
  {
   "cell_type": "raw",
   "metadata": {},
   "source": [
    "sort(series_for_loc)"
   ]
  },
  {
   "cell_type": "code",
   "execution_count": 137,
   "metadata": {
    "collapsed": true
   },
   "outputs": [],
   "source": [
    "dates = [x[0] for x in series_for_loc[('A002', 'R051', '02-00-00', '59 ST')]]\n",
    "counts = [x[1] for x in series_for_loc[('A002', 'R051', '02-00-00', '59 ST')]]"
   ]
  },
  {
   "cell_type": "code",
   "execution_count": 138,
   "metadata": {},
   "outputs": [
    {
     "data": {
      "image/png": "[encoded data removed]",
      "text/plain": [
       "<matplotlib.figure.Figure at 0x12c446390>"
      ]
     },
     "metadata": {},
     "output_type": "display_data"
    }
   ],
   "source": [
    "dates = dates[0:10]\n",
    "counts = counts[0:10]\n",
    "dates.sort()\n",
    "plt.figure(figsize=(10,5))\n",
    "plt.xlabel('Date')\n",
    "plt.ylabel('Counts')\n",
    "plt.title('Turnstile Counts')\n",
    "sns.barplot(dates, counts);"
   ]
  },
  {
   "cell_type": "markdown",
   "metadata": {},
   "source": [
    "# Challenge 5"
   ]
  },
  {
   "cell_type": "code",
   "execution_count": 139,
   "metadata": {
    "collapsed": true
   },
   "outputs": [],
   "source": [
    "df['SUPER_LOCATION'] = tuple(zip(df['C/A'], df.UNIT, df.STATION))\n",
    "df['TRAFFIC_TTL'] = df['ENTRIES_DIFF']\n",
    "sum_by_day_time_gb = df.groupby(['SUPER_LOCATION','DATE']).TRAFFIC_TTL.agg(['sum']).reset_index()"
   ]
  },
  {
   "cell_type": "code",
   "execution_count": 140,
   "metadata": {},
   "outputs": [
    {
     "data": {
      "text/html": [
       "<div>\n",
       "<style>\n",
       "    .dataframe thead tr:only-child th {\n",
       "        text-align: right;\n",
       "    }\n",
       "\n",
       "    .dataframe thead th {\n",
       "        text-align: left;\n",
       "    }\n",
       "\n",
       "    .dataframe tbody tr th {\n",
       "        vertical-align: top;\n",
       "    }\n",
       "</style>\n",
       "<table border=\"1\" class=\"dataframe\">\n",
       "  <thead>\n",
       "    <tr style=\"text-align: right;\">\n",
       "      <th></th>\n",
       "      <th>SUPER_LOCATION</th>\n",
       "      <th>DATE</th>\n",
       "      <th>sum</th>\n",
       "    </tr>\n",
       "  </thead>\n",
       "  <tbody>\n",
       "    <tr>\n",
       "      <th>0</th>\n",
       "      <td>(A002, R051, 59 ST)</td>\n",
       "      <td>05/27/2017</td>\n",
       "      <td>7237.0</td>\n",
       "    </tr>\n",
       "    <tr>\n",
       "      <th>1</th>\n",
       "      <td>(A002, R051, 59 ST)</td>\n",
       "      <td>05/28/2017</td>\n",
       "      <td>7055.0</td>\n",
       "    </tr>\n",
       "    <tr>\n",
       "      <th>2</th>\n",
       "      <td>(A002, R051, 59 ST)</td>\n",
       "      <td>05/29/2017</td>\n",
       "      <td>6046.0</td>\n",
       "    </tr>\n",
       "    <tr>\n",
       "      <th>3</th>\n",
       "      <td>(A002, R051, 59 ST)</td>\n",
       "      <td>05/30/2017</td>\n",
       "      <td>13498.0</td>\n",
       "    </tr>\n",
       "    <tr>\n",
       "      <th>4</th>\n",
       "      <td>(A002, R051, 59 ST)</td>\n",
       "      <td>05/31/2017</td>\n",
       "      <td>14543.0</td>\n",
       "    </tr>\n",
       "  </tbody>\n",
       "</table>\n",
       "</div>"
      ],
      "text/plain": [
       "        SUPER_LOCATION        DATE      sum\n",
       "0  (A002, R051, 59 ST)  05/27/2017   7237.0\n",
       "1  (A002, R051, 59 ST)  05/28/2017   7055.0\n",
       "2  (A002, R051, 59 ST)  05/29/2017   6046.0\n",
       "3  (A002, R051, 59 ST)  05/30/2017  13498.0\n",
       "4  (A002, R051, 59 ST)  05/31/2017  14543.0"
      ]
     },
     "execution_count": 140,
     "metadata": {},
     "output_type": "execute_result"
    }
   ],
   "source": [
    "sum_by_day_time_gb.head()"
   ]
  },
  {
   "cell_type": "markdown",
   "metadata": {},
   "source": [
    "# Challenge 6"
   ]
  },
  {
   "cell_type": "code",
   "execution_count": 141,
   "metadata": {},
   "outputs": [
    {
     "data": {
      "text/html": [
       "<div>\n",
       "<style>\n",
       "    .dataframe thead tr:only-child th {\n",
       "        text-align: right;\n",
       "    }\n",
       "\n",
       "    .dataframe thead th {\n",
       "        text-align: left;\n",
       "    }\n",
       "\n",
       "    .dataframe tbody tr th {\n",
       "        vertical-align: top;\n",
       "    }\n",
       "</style>\n",
       "<table border=\"1\" class=\"dataframe\">\n",
       "  <thead>\n",
       "    <tr style=\"text-align: right;\">\n",
       "      <th></th>\n",
       "      <th>STATION</th>\n",
       "      <th>DATE</th>\n",
       "      <th>sum</th>\n",
       "    </tr>\n",
       "  </thead>\n",
       "  <tbody>\n",
       "    <tr>\n",
       "      <th>0</th>\n",
       "      <td>1 AV</td>\n",
       "      <td>05/27/2017</td>\n",
       "      <td>9.0</td>\n",
       "    </tr>\n",
       "    <tr>\n",
       "      <th>1</th>\n",
       "      <td>1 AV</td>\n",
       "      <td>05/28/2017</td>\n",
       "      <td>9.0</td>\n",
       "    </tr>\n",
       "    <tr>\n",
       "      <th>2</th>\n",
       "      <td>1 AV</td>\n",
       "      <td>05/29/2017</td>\n",
       "      <td>35.0</td>\n",
       "    </tr>\n",
       "    <tr>\n",
       "      <th>3</th>\n",
       "      <td>1 AV</td>\n",
       "      <td>05/30/2017</td>\n",
       "      <td>16298.0</td>\n",
       "    </tr>\n",
       "    <tr>\n",
       "      <th>4</th>\n",
       "      <td>1 AV</td>\n",
       "      <td>05/31/2017</td>\n",
       "      <td>21844.0</td>\n",
       "    </tr>\n",
       "  </tbody>\n",
       "</table>\n",
       "</div>"
      ],
      "text/plain": [
       "  STATION        DATE      sum\n",
       "0    1 AV  05/27/2017      9.0\n",
       "1    1 AV  05/28/2017      9.0\n",
       "2    1 AV  05/29/2017     35.0\n",
       "3    1 AV  05/30/2017  16298.0\n",
       "4    1 AV  05/31/2017  21844.0"
      ]
     },
     "execution_count": 141,
     "metadata": {},
     "output_type": "execute_result"
    }
   ],
   "source": [
    "sum_by_station_gb = df.groupby(['STATION','DATE']).TRAFFIC_TTL.agg(['sum']).reset_index()\n",
    "sum_by_station_gb.head()"
   ]
  },
  {
   "cell_type": "markdown",
   "metadata": {},
   "source": [
    "# Challenge 7 - plot station time series"
   ]
  },
  {
   "cell_type": "code",
   "execution_count": 142,
   "metadata": {
    "collapsed": true
   },
   "outputs": [],
   "source": [
    "counts = sum_by_station_gb[sum_by_station_gb.STATION == '1 AV'][3:12]['sum']\n",
    "dates = sum_by_station_gb[sum_by_station_gb.STATION == '1 AV'][3:12]['DATE']"
   ]
  },
  {
   "cell_type": "code",
   "execution_count": 156,
   "metadata": {},
   "outputs": [
    {
     "data": {
      "image/png": "[encoded data removed]",
      "text/plain": [
       "<matplotlib.figure.Figure at 0x133826c18>"
      ]
     },
     "metadata": {},
     "output_type": "display_data"
    }
   ],
   "source": [
    "plt.figure(figsize=(12,6))\n",
    "plt.title('Turnstile Counts for 1 AV station')\n",
    "ax = sns.barplot(dates, counts);\n",
    "ax.set(xlabel='Date', ylabel='Entries');"
   ]
  },
  {
   "cell_type": "markdown",
   "metadata": {},
   "source": [
    "# Challenge 8"
   ]
  },
  {
   "cell_type": "code",
   "execution_count": 144,
   "metadata": {},
   "outputs": [
    {
     "data": {
      "text/html": [
       "<div>\n",
       "<style>\n",
       "    .dataframe thead tr:only-child th {\n",
       "        text-align: right;\n",
       "    }\n",
       "\n",
       "    .dataframe thead th {\n",
       "        text-align: left;\n",
       "    }\n",
       "\n",
       "    .dataframe tbody tr th {\n",
       "        vertical-align: top;\n",
       "    }\n",
       "</style>\n",
       "<table border=\"1\" class=\"dataframe\">\n",
       "  <thead>\n",
       "    <tr style=\"text-align: right;\">\n",
       "      <th></th>\n",
       "      <th>STATION</th>\n",
       "      <th>DATE</th>\n",
       "      <th>sum</th>\n",
       "      <th>WEEK</th>\n",
       "    </tr>\n",
       "  </thead>\n",
       "  <tbody>\n",
       "    <tr>\n",
       "      <th>0</th>\n",
       "      <td>1 AV</td>\n",
       "      <td>2017-05-27</td>\n",
       "      <td>9.0</td>\n",
       "      <td>21</td>\n",
       "    </tr>\n",
       "    <tr>\n",
       "      <th>1</th>\n",
       "      <td>1 AV</td>\n",
       "      <td>2017-05-28</td>\n",
       "      <td>9.0</td>\n",
       "      <td>21</td>\n",
       "    </tr>\n",
       "    <tr>\n",
       "      <th>2</th>\n",
       "      <td>1 AV</td>\n",
       "      <td>2017-05-29</td>\n",
       "      <td>35.0</td>\n",
       "      <td>22</td>\n",
       "    </tr>\n",
       "    <tr>\n",
       "      <th>3</th>\n",
       "      <td>1 AV</td>\n",
       "      <td>2017-05-30</td>\n",
       "      <td>16298.0</td>\n",
       "      <td>22</td>\n",
       "    </tr>\n",
       "    <tr>\n",
       "      <th>4</th>\n",
       "      <td>1 AV</td>\n",
       "      <td>2017-05-31</td>\n",
       "      <td>21844.0</td>\n",
       "      <td>22</td>\n",
       "    </tr>\n",
       "  </tbody>\n",
       "</table>\n",
       "</div>"
      ],
      "text/plain": [
       "  STATION       DATE      sum  WEEK\n",
       "0    1 AV 2017-05-27      9.0    21\n",
       "1    1 AV 2017-05-28      9.0    21\n",
       "2    1 AV 2017-05-29     35.0    22\n",
       "3    1 AV 2017-05-30  16298.0    22\n",
       "4    1 AV 2017-05-31  21844.0    22"
      ]
     },
     "execution_count": 144,
     "metadata": {},
     "output_type": "execute_result"
    }
   ],
   "source": [
    "sum_by_station_gb['DATE'] = sum_by_station_gb['DATE'].map(pd.to_datetime)\n",
    "sum_by_station_gb['WEEK'] = sum_by_station_gb['DATE'].map(pd.to_datetime).dt.week\n",
    "\n",
    "sum_by_station_gb.set_index('DATE')\n",
    "sum_by_station_gb.sort_values(by='DATE')\n",
    "sum_by_station_gb.head()"
   ]
  },
  {
   "cell_type": "code",
   "execution_count": 145,
   "metadata": {
    "collapsed": true
   },
   "outputs": [],
   "source": [
    "#remove the extraneous dates that don't include a full week\n",
    "sum_by_station_gb = sum_by_station_gb[(sum_by_station_gb['DATE'] > '2017-05-28') & (sum_by_station_gb['DATE'] < '2017-06-26')]"
   ]
  },
  {
   "cell_type": "code",
   "execution_count": 146,
   "metadata": {},
   "outputs": [
    {
     "name": "stderr",
     "output_type": "stream",
     "text": [
      "/Users/bekcunning/anaconda/lib/python3.6/site-packages/ipykernel_launcher.py:3: FutureWarning: how in .resample() is deprecated\n",
      "the new syntax is .resample(...).sum()\n",
      "  This is separate from the ipykernel package so we can avoid doing imports until\n"
     ]
    },
    {
     "data": {
      "image/png": "[encoded data removed]",
      "text/plain": [
       "<matplotlib.figure.Figure at 0x12c7e16d8>"
      ]
     },
     "metadata": {},
     "output_type": "display_data"
    }
   ],
   "source": [
    "grouped = (sum_by_station_gb[sum_by_station_gb.STATION == 'GRD CNTRL-42 ST']\n",
    "    .groupby(sum_by_station_gb['DATE'].dt.weekday_name)                \n",
    "    .apply(lambda g: g.set_index('DATE')[['sum']].resample('W', how='sum'))\n",
    "    .unstack(level=1)              # pivot the col1 index rows to columns\n",
    ")\n",
    "grouped.sort_index()\n",
    "ax = grouped.plot(kind='bar' , figsize = (10, 5), title = \"Weekday counts for Grand Central 42 St station\")\n",
    "ax.set_xlabel('Day')\n",
    "ax.set_ylabel('Count')\n",
    "lines, labels = ax.get_legend_handles_labels()\n",
    "ax.legend(lines[:4],('Week 1', 'Week 2', 'Week 3', 'Week 4'), loc='best');"
   ]
  },
  {
   "cell_type": "markdown",
   "metadata": {},
   "source": [
    "**TA COMMENT:**\n",
    "\n",
    "The process in which you create the \"grouped\" object seems a bit convoluted. The \"sum_by_station_gb\" dataframe, which has already been grouped by station and had the entries summed, should contain the information you need to create the bar plot once you filter for Grand Central station. Each week's data would need to be stored as an array and then overlaid on the same plot. \n",
    "\n",
    "Also, to sort the data by chronological order, the \"dt.dayofweek\" method should get you a numerical representation of the day of the week (Monday=0, Sunday=6). "
   ]
  },
  {
   "cell_type": "code",
   "execution_count": 147,
   "metadata": {
    "collapsed": true
   },
   "outputs": [],
   "source": [
    "#PROBLEM - Monday week1 number seems wrong\n",
    "#PROBLEM - have not solved sorting weekday names properly."
   ]
  },
  {
   "cell_type": "markdown",
   "metadata": {},
   "source": [
    "# Challenge 9"
   ]
  },
  {
   "cell_type": "code",
   "execution_count": 148,
   "metadata": {
    "collapsed": true
   },
   "outputs": [],
   "source": [
    "sum_by_station_week_gb = sum_by_station_gb.groupby(['STATION','WEEK'])['sum'].agg(['sum']).reset_index()"
   ]
  },
  {
   "cell_type": "code",
   "execution_count": 149,
   "metadata": {},
   "outputs": [
    {
     "data": {
      "text/html": [
       "<div>\n",
       "<style>\n",
       "    .dataframe thead tr:only-child th {\n",
       "        text-align: right;\n",
       "    }\n",
       "\n",
       "    .dataframe thead th {\n",
       "        text-align: left;\n",
       "    }\n",
       "\n",
       "    .dataframe tbody tr th {\n",
       "        vertical-align: top;\n",
       "    }\n",
       "</style>\n",
       "<table border=\"1\" class=\"dataframe\">\n",
       "  <thead>\n",
       "    <tr style=\"text-align: right;\">\n",
       "      <th></th>\n",
       "      <th>STATION</th>\n",
       "      <th>WEEK</th>\n",
       "      <th>sum</th>\n",
       "    </tr>\n",
       "  </thead>\n",
       "  <tbody>\n",
       "    <tr>\n",
       "      <th>245</th>\n",
       "      <td>34 ST-PENN STA</td>\n",
       "      <td>23</td>\n",
       "      <td>1035996.0</td>\n",
       "    </tr>\n",
       "    <tr>\n",
       "      <th>247</th>\n",
       "      <td>34 ST-PENN STA</td>\n",
       "      <td>25</td>\n",
       "      <td>1029309.0</td>\n",
       "    </tr>\n",
       "    <tr>\n",
       "      <th>246</th>\n",
       "      <td>34 ST-PENN STA</td>\n",
       "      <td>24</td>\n",
       "      <td>1019573.0</td>\n",
       "    </tr>\n",
       "    <tr>\n",
       "      <th>927</th>\n",
       "      <td>GRD CNTRL-42 ST</td>\n",
       "      <td>25</td>\n",
       "      <td>911029.0</td>\n",
       "    </tr>\n",
       "    <tr>\n",
       "      <th>244</th>\n",
       "      <td>34 ST-PENN STA</td>\n",
       "      <td>22</td>\n",
       "      <td>910826.0</td>\n",
       "    </tr>\n",
       "  </tbody>\n",
       "</table>\n",
       "</div>"
      ],
      "text/plain": [
       "             STATION  WEEK        sum\n",
       "245   34 ST-PENN STA    23  1035996.0\n",
       "247   34 ST-PENN STA    25  1029309.0\n",
       "246   34 ST-PENN STA    24  1019573.0\n",
       "927  GRD CNTRL-42 ST    25   911029.0\n",
       "244   34 ST-PENN STA    22   910826.0"
      ]
     },
     "execution_count": 149,
     "metadata": {},
     "output_type": "execute_result"
    }
   ],
   "source": [
    "sum_by_station_week_gb.sort_values('sum', ascending=False, inplace=True)\n",
    "sum_by_station_week_gb.head()"
   ]
  },
  {
   "cell_type": "markdown",
   "metadata": {},
   "source": [
    "# Challenge 10"
   ]
  },
  {
   "cell_type": "code",
   "execution_count": 150,
   "metadata": {},
   "outputs": [
    {
     "data": {
      "text/html": [
       "<div>\n",
       "<style>\n",
       "    .dataframe thead tr:only-child th {\n",
       "        text-align: right;\n",
       "    }\n",
       "\n",
       "    .dataframe thead th {\n",
       "        text-align: left;\n",
       "    }\n",
       "\n",
       "    .dataframe tbody tr th {\n",
       "        vertical-align: top;\n",
       "    }\n",
       "</style>\n",
       "<table border=\"1\" class=\"dataframe\">\n",
       "  <thead>\n",
       "    <tr style=\"text-align: right;\">\n",
       "      <th></th>\n",
       "      <th>STATION</th>\n",
       "      <th>WEEK</th>\n",
       "      <th>sum</th>\n",
       "    </tr>\n",
       "  </thead>\n",
       "  <tbody>\n",
       "    <tr>\n",
       "      <th>246</th>\n",
       "      <td>34 ST-PENN STA</td>\n",
       "      <td>24</td>\n",
       "      <td>1019573.0</td>\n",
       "    </tr>\n",
       "    <tr>\n",
       "      <th>926</th>\n",
       "      <td>GRD CNTRL-42 ST</td>\n",
       "      <td>24</td>\n",
       "      <td>893665.0</td>\n",
       "    </tr>\n",
       "    <tr>\n",
       "      <th>238</th>\n",
       "      <td>34 ST-HERALD SQ</td>\n",
       "      <td>24</td>\n",
       "      <td>783439.0</td>\n",
       "    </tr>\n",
       "    <tr>\n",
       "      <th>186</th>\n",
       "      <td>23 ST</td>\n",
       "      <td>24</td>\n",
       "      <td>693154.0</td>\n",
       "    </tr>\n",
       "    <tr>\n",
       "      <th>58</th>\n",
       "      <td>14 ST-UNION SQ</td>\n",
       "      <td>24</td>\n",
       "      <td>674537.0</td>\n",
       "    </tr>\n",
       "  </tbody>\n",
       "</table>\n",
       "</div>"
      ],
      "text/plain": [
       "             STATION  WEEK        sum\n",
       "246   34 ST-PENN STA    24  1019573.0\n",
       "926  GRD CNTRL-42 ST    24   893665.0\n",
       "238  34 ST-HERALD SQ    24   783439.0\n",
       "186            23 ST    24   693154.0\n",
       "58    14 ST-UNION SQ    24   674537.0"
      ]
     },
     "execution_count": 150,
     "metadata": {},
     "output_type": "execute_result"
    }
   ],
   "source": [
    "# Let's look at week 24\n",
    "sum_by_station_week_gb = sum_by_station_week_gb[sum_by_station_week_gb.WEEK == 24]\n",
    "sum_by_station_week_gb.head()\n"
   ]
  },
  {
   "cell_type": "code",
   "execution_count": 151,
   "metadata": {},
   "outputs": [
    {
     "data": {
      "image/png": "[encoded data removed]",
      "text/plain": [
       "<matplotlib.figure.Figure at 0x12c704d30>"
      ]
     },
     "metadata": {},
     "output_type": "display_data"
    }
   ],
   "source": [
    "\n",
    "plt.figure(figsize=(20,15))\n",
    "\n",
    "sns.distplot(sum_by_station_week_gb['sum']);"
   ]
  },
  {
   "cell_type": "code",
   "execution_count": 152,
   "metadata": {},
   "outputs": [
    {
     "data": {
      "image/png": "[encoded data removed]",
      "text/plain": [
       "<matplotlib.figure.Figure at 0x13230ef28>"
      ]
     },
     "metadata": {},
     "output_type": "display_data"
    }
   ],
   "source": [
    "plt.figure(figsize=(20,15))\n",
    "plt.hist(sum_by_station_week_gb['sum']);"
   ]
  },
  {
   "cell_type": "code",
   "execution_count": null,
   "metadata": {
    "collapsed": true
   },
   "outputs": [],
   "source": []
  },
  {
   "cell_type": "code",
   "execution_count": null,
   "metadata": {
    "collapsed": true
   },
   "outputs": [],
   "source": []
  },
  {
   "cell_type": "code",
   "execution_count": null,
   "metadata": {
    "collapsed": true
   },
   "outputs": [],
   "source": []
  },
  {
   "cell_type": "code",
   "execution_count": null,
   "metadata": {
    "collapsed": true
   },
   "outputs": [],
   "source": []
  },
  {
   "cell_type": "markdown",
   "metadata": {},
   "source": [
    "**TA COMMENT:**\n",
    "\n",
    "Overall, your grasp of pandas syntax and data manipulation is really good. There are a few comments throughout the notebook directed towards specific lines of code. Some general comments are:\n",
    "1. Adding documentation for helper functions. Having a brief description of the function and its inputs/outputs would help yourself and others to understand better what the function is supposed to do.\n",
    "2. Titling and labeling axes on plots. For the most part you did a good job on these, but a few of the plots at the end were missing titles and labels.\n"
   ]
  }
 ],
 "metadata": {
  "anaconda-cloud": {},
  "kernelspec": {
   "display_name": "Python 3",
   "language": "python",
   "name": "python3"
  },
  "language_info": {
   "codemirror_mode": {
    "name": "ipython",
    "version": 3
   },
   "file_extension": ".py",
   "mimetype": "text/x-python",
   "name": "python",
   "nbconvert_exporter": "python",
   "pygments_lexer": "ipython3",
   "version": "3.5.2"
  }
 },
 "nbformat": 4,
 "nbformat_minor": 2
}
