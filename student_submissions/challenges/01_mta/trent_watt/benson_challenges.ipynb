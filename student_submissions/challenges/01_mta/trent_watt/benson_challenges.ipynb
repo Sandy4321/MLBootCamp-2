{
 "cells": [
  {
   "cell_type": "code",
   "execution_count": 1,
   "metadata": {
    "collapsed": true
   },
   "outputs": [],
   "source": [
    "import pandas as pd\n",
    "import numpy as np\n",
    "import re\n",
    "import matplotlib.pyplot as plt\n",
    "import datetime\n",
    "import seaborn as sns\n",
    "from datetime import timedelta\n",
    "from collections import defaultdict\n",
    "%matplotlib inline"
   ]
  },
  {
   "cell_type": "code",
   "execution_count": 2,
   "metadata": {
    "collapsed": true
   },
   "outputs": [],
   "source": [
    "def my_datetime(dt):\n",
    "    return datetime.datetime.strptime(dt ,'%m/%d/%Y %H:%M:%S')\n",
    "\n",
    "def my_weekday(dt): \n",
    "    return my_datetime(dt).weekday()"
   ]
  },
  {
   "cell_type": "code",
   "execution_count": 3,
   "metadata": {
    "collapsed": true
   },
   "outputs": [],
   "source": [
    "def setup_frame(df):\n",
    "    df['LOCATION'] = tuple((zip(df['C/A'], df.UNIT, df.SCP, df.STATION)))\n",
    "    df['SUPER_LOCATION'] = df['LOCATION'].apply(lambda x: (x[0], x[1], x[3]))\n",
    "    df['EXITS_CUM'] = df['EXITS                                                               ']\n",
    "    df['ENTRIES_CUM'] = df['ENTRIES']\n",
    "    df['ENTRIES'] = df['ENTRIES_CUM'].shift(-1) - df['ENTRIES_CUM']\n",
    "    df['EXITS'] = df['EXITS_CUM'].shift(-1) - df['EXITS_CUM']\n",
    "    df['DATETIME'] =  df['DATE'] + ' ' + df['TIME']\n",
    "    df['DAY_OF_WEEK'] = df['DATETIME'].apply(my_weekday)\n",
    "    df.ENTRIES[(df.ENTRIES < 0)] = np.nan\n",
    "    df.ENTRIES[(df.ENTRIES > 10000)] = np.nan\n",
    "    df.EXITS[(df.EXITS < 0)] = np.nan\n",
    "    df.EXITS[(df.EXITS > 10000)] = np.nan\n",
    "    return df"
   ]
  },
  {
   "cell_type": "code",
   "execution_count": 4,
   "metadata": {
    "collapsed": true
   },
   "outputs": [],
   "source": [
    "def get_dict_by_location(df):\n",
    "    '''Takes locationized DataFrame, returns the answer to Challenge 1'''\n",
    "    by_location = defaultdict(list)\n",
    "    for i, location in enumerate(df.LOCATION):\n",
    "        by_location[location].append(list(df.iloc[i, 4:11]))\n",
    "    return by_location"
   ]
  },
  {
   "cell_type": "code",
   "execution_count": 5,
   "metadata": {
    "collapsed": true
   },
   "outputs": [],
   "source": [
    "def get_dict_date_entries(df):\n",
    "    '''Takes locationized DataFrame, returns the answer to Challenge 2'''\n",
    "    date_entries_dict = defaultdict(list)\n",
    "    for i, location in enumerate(df.LOCATION):\n",
    "        date_entries_dict[location].append([my_other_datetime(df.iloc[i, 12]), df.iloc[i, 10]])\n",
    "    return date_entries_dict"
   ]
  },
  {
   "cell_type": "code",
   "execution_count": 6,
   "metadata": {
    "collapsed": true
   },
   "outputs": [],
   "source": [
    "def plot_location(df, loc):\n",
    "    '''Plots answer for challenge 4'''\n",
    "    series = get_dict_series(df)[loc]\n",
    "    x, y = zip(*series)\n",
    "    x = [datetime.datetime.strptime(x_i, '%m/%d/%Y') for x_i in x]\n",
    "    plt.figure(figsize=(10,7))\n",
    "    plt.bar(x, y)"
   ]
  },
  {
   "cell_type": "code",
   "execution_count": 7,
   "metadata": {
    "collapsed": true
   },
   "outputs": [],
   "source": [
    "def get_dict_series(df):\n",
    "    '''Takes locationized DataFrame, returns time series'''\n",
    "    gb = df.groupby(['LOCATION','DATE']).sum()\n",
    "    series_for_loc = {}\n",
    "    for location in df.LOCATION.unique():\n",
    "        f = gb.loc[location].reset_index()\n",
    "        series_for_loc[location] = list(zip(f.DATE, f.ENTRIES))\n",
    "    return series_for_loc"
   ]
  },
  {
   "cell_type": "code",
   "execution_count": 8,
   "metadata": {
    "collapsed": true
   },
   "outputs": [],
   "source": [
    "df = pd.read_csv(\"http://web.mta.info/developers/data/nyct/turnstile/turnstile_170916.txt\")"
   ]
  },
  {
   "cell_type": "code",
   "execution_count": 9,
   "metadata": {},
   "outputs": [
    {
     "name": "stderr",
     "output_type": "stream",
     "text": [
      "/Users/home/anaconda/lib/python3.6/site-packages/ipykernel_launcher.py:10: SettingWithCopyWarning: \n",
      "A value is trying to be set on a copy of a slice from a DataFrame\n",
      "\n",
      "See the caveats in the documentation: http://pandas.pydata.org/pandas-docs/stable/indexing.html#indexing-view-versus-copy\n",
      "  # Remove the CWD from sys.path while we load stuff.\n",
      "/Users/home/anaconda/lib/python3.6/site-packages/ipykernel_launcher.py:11: SettingWithCopyWarning: \n",
      "A value is trying to be set on a copy of a slice from a DataFrame\n",
      "\n",
      "See the caveats in the documentation: http://pandas.pydata.org/pandas-docs/stable/indexing.html#indexing-view-versus-copy\n",
      "  # This is added back by InteractiveShellApp.init_path()\n",
      "/Users/home/anaconda/lib/python3.6/site-packages/ipykernel_launcher.py:12: SettingWithCopyWarning: \n",
      "A value is trying to be set on a copy of a slice from a DataFrame\n",
      "\n",
      "See the caveats in the documentation: http://pandas.pydata.org/pandas-docs/stable/indexing.html#indexing-view-versus-copy\n",
      "  if sys.path[0] == '':\n",
      "/Users/home/anaconda/lib/python3.6/site-packages/ipykernel_launcher.py:13: SettingWithCopyWarning: \n",
      "A value is trying to be set on a copy of a slice from a DataFrame\n",
      "\n",
      "See the caveats in the documentation: http://pandas.pydata.org/pandas-docs/stable/indexing.html#indexing-view-versus-copy\n",
      "  del sys.path[0]\n"
     ]
    }
   ],
   "source": [
    "df = setup_frame(df)"
   ]
  },
  {
   "cell_type": "code",
   "execution_count": 10,
   "metadata": {},
   "outputs": [
    {
     "data": {
      "text/plain": [
       "[['NQR456W', 'BMT', '09/09/2017', '00:00:00', 'REGULAR', 26.0, 2138544],\n",
       " ['NQR456W', 'BMT', '09/09/2017', '04:00:00', 'REGULAR', 17.0, 2138549],\n",
       " ['NQR456W', 'BMT', '09/09/2017', '08:00:00', 'REGULAR', 80.0, 2138584],\n",
       " ['NQR456W', 'BMT', '09/09/2017', '12:00:00', 'REGULAR', 227.0, 2138669],\n",
       " ['NQR456W', 'BMT', '09/09/2017', '16:00:00', 'REGULAR', 279.0, 2138731],\n",
       " ['NQR456W', 'BMT', '09/09/2017', '20:00:00', 'REGULAR', 142.0, 2138779],\n",
       " ['NQR456W', 'BMT', '09/10/2017', '00:00:00', 'REGULAR', 16.0, 2138801],\n",
       " ['NQR456W', 'BMT', '09/10/2017', '04:00:00', 'REGULAR', 12.0, 2138805],\n",
       " ['NQR456W', 'BMT', '09/10/2017', '08:00:00', 'REGULAR', 98.0, 2138821],\n",
       " ['NQR456W', 'BMT', '09/10/2017', '12:00:00', 'REGULAR', 186.0, 2138889],\n",
       " ['NQR456W', 'BMT', '09/10/2017', '16:00:00', 'REGULAR', 198.0, 2138937],\n",
       " ['NQR456W', 'BMT', '09/10/2017', '20:00:00', 'REGULAR', 117.0, 2138980],\n",
       " ['NQR456W', 'BMT', '09/11/2017', '00:00:00', 'REGULAR', 20.0, 2138996],\n",
       " ['NQR456W', 'BMT', '09/11/2017', '04:00:00', 'REGULAR', 46.0, 2139000],\n",
       " ['NQR456W', 'BMT', '09/11/2017', '08:00:00', 'REGULAR', 159.0, 2139106]]"
      ]
     },
     "execution_count": 10,
     "metadata": {},
     "output_type": "execute_result"
    }
   ],
   "source": [
    "challenge_1 = get_dict_by_location(df)\n",
    "challenge_1[('A002', 'R051', '02-00-00', '59 ST')][:15]"
   ]
  },
  {
   "cell_type": "code",
   "execution_count": 11,
   "metadata": {},
   "outputs": [
    {
     "data": {
      "text/plain": [
       "[('09/09/2017', 771.0),\n",
       " ('09/10/2017', 627.0),\n",
       " ('09/11/2017', 1761.0),\n",
       " ('09/12/2017', 1725.0),\n",
       " ('09/13/2017', 1545.0),\n",
       " ('09/14/2017', 1631.0),\n",
       " ('09/15/2017', 1298.0)]"
      ]
     },
     "execution_count": 11,
     "metadata": {},
     "output_type": "execute_result"
    }
   ],
   "source": [
    "challenge_2 = get_dict_series(df)\n",
    "challenge_2[('A002', 'R051', '02-00-00', '59 ST')]"
   ]
  },
  {
   "cell_type": "code",
   "execution_count": 12,
   "metadata": {},
   "outputs": [
    {
     "data": {
      "text/html": [
       "<div>\n",
       "<style>\n",
       "    .dataframe thead tr:only-child th {\n",
       "        text-align: right;\n",
       "    }\n",
       "\n",
       "    .dataframe thead th {\n",
       "        text-align: left;\n",
       "    }\n",
       "\n",
       "    .dataframe tbody tr th {\n",
       "        vertical-align: top;\n",
       "    }\n",
       "</style>\n",
       "<table border=\"1\" class=\"dataframe\">\n",
       "  <thead>\n",
       "    <tr style=\"text-align: right;\">\n",
       "      <th></th>\n",
       "      <th>LOCATION</th>\n",
       "      <th>DATE</th>\n",
       "      <th>ENTRIES</th>\n",
       "    </tr>\n",
       "  </thead>\n",
       "  <tbody>\n",
       "    <tr>\n",
       "      <th>0</th>\n",
       "      <td>(A002, R051, 02-00-00, 59 ST)</td>\n",
       "      <td>09/09/2017</td>\n",
       "      <td>771.0</td>\n",
       "    </tr>\n",
       "    <tr>\n",
       "      <th>1</th>\n",
       "      <td>(A002, R051, 02-00-00, 59 ST)</td>\n",
       "      <td>09/10/2017</td>\n",
       "      <td>627.0</td>\n",
       "    </tr>\n",
       "    <tr>\n",
       "      <th>2</th>\n",
       "      <td>(A002, R051, 02-00-00, 59 ST)</td>\n",
       "      <td>09/11/2017</td>\n",
       "      <td>1761.0</td>\n",
       "    </tr>\n",
       "    <tr>\n",
       "      <th>3</th>\n",
       "      <td>(A002, R051, 02-00-00, 59 ST)</td>\n",
       "      <td>09/12/2017</td>\n",
       "      <td>1725.0</td>\n",
       "    </tr>\n",
       "    <tr>\n",
       "      <th>4</th>\n",
       "      <td>(A002, R051, 02-00-00, 59 ST)</td>\n",
       "      <td>09/13/2017</td>\n",
       "      <td>1545.0</td>\n",
       "    </tr>\n",
       "    <tr>\n",
       "      <th>5</th>\n",
       "      <td>(A002, R051, 02-00-00, 59 ST)</td>\n",
       "      <td>09/14/2017</td>\n",
       "      <td>1631.0</td>\n",
       "    </tr>\n",
       "    <tr>\n",
       "      <th>6</th>\n",
       "      <td>(A002, R051, 02-00-00, 59 ST)</td>\n",
       "      <td>09/15/2017</td>\n",
       "      <td>1298.0</td>\n",
       "    </tr>\n",
       "    <tr>\n",
       "      <th>7</th>\n",
       "      <td>(A002, R051, 02-00-01, 59 ST)</td>\n",
       "      <td>09/09/2017</td>\n",
       "      <td>626.0</td>\n",
       "    </tr>\n",
       "    <tr>\n",
       "      <th>8</th>\n",
       "      <td>(A002, R051, 02-00-01, 59 ST)</td>\n",
       "      <td>09/10/2017</td>\n",
       "      <td>376.0</td>\n",
       "    </tr>\n",
       "    <tr>\n",
       "      <th>9</th>\n",
       "      <td>(A002, R051, 02-00-01, 59 ST)</td>\n",
       "      <td>09/11/2017</td>\n",
       "      <td>745.0</td>\n",
       "    </tr>\n",
       "  </tbody>\n",
       "</table>\n",
       "</div>"
      ],
      "text/plain": [
       "                        LOCATION        DATE  ENTRIES\n",
       "0  (A002, R051, 02-00-00, 59 ST)  09/09/2017    771.0\n",
       "1  (A002, R051, 02-00-00, 59 ST)  09/10/2017    627.0\n",
       "2  (A002, R051, 02-00-00, 59 ST)  09/11/2017   1761.0\n",
       "3  (A002, R051, 02-00-00, 59 ST)  09/12/2017   1725.0\n",
       "4  (A002, R051, 02-00-00, 59 ST)  09/13/2017   1545.0\n",
       "5  (A002, R051, 02-00-00, 59 ST)  09/14/2017   1631.0\n",
       "6  (A002, R051, 02-00-00, 59 ST)  09/15/2017   1298.0\n",
       "7  (A002, R051, 02-00-01, 59 ST)  09/09/2017    626.0\n",
       "8  (A002, R051, 02-00-01, 59 ST)  09/10/2017    376.0\n",
       "9  (A002, R051, 02-00-01, 59 ST)  09/11/2017    745.0"
      ]
     },
     "execution_count": 12,
     "metadata": {},
     "output_type": "execute_result"
    }
   ],
   "source": [
    "challenge_3 = df.groupby(['LOCATION', 'DATE']).sum().reset_index()\n",
    "challenge_3 = challenge_3[['LOCATION', 'DATE', 'ENTRIES']]\n",
    "challenge_3.head(10)"
   ]
  },
  {
   "cell_type": "code",
   "execution_count": 13,
   "metadata": {},
   "outputs": [
    {
     "data": {
      "image/png": "[encoded data removed]",
      "text/plain": [
       "<matplotlib.figure.Figure at 0x11805cf28>"
      ]
     },
     "metadata": {},
     "output_type": "display_data"
    }
   ],
   "source": [
    "#Challenge 4\n",
    "plot_location(df, ('A002', 'R051', '02-00-00', '59 ST'))"
   ]
  },
  {
   "cell_type": "code",
   "execution_count": 14,
   "metadata": {},
   "outputs": [
    {
     "data": {
      "text/html": [
       "<div>\n",
       "<style>\n",
       "    .dataframe thead tr:only-child th {\n",
       "        text-align: right;\n",
       "    }\n",
       "\n",
       "    .dataframe thead th {\n",
       "        text-align: left;\n",
       "    }\n",
       "\n",
       "    .dataframe tbody tr th {\n",
       "        vertical-align: top;\n",
       "    }\n",
       "</style>\n",
       "<table border=\"1\" class=\"dataframe\">\n",
       "  <thead>\n",
       "    <tr style=\"text-align: right;\">\n",
       "      <th></th>\n",
       "      <th>SUPER_LOCATION</th>\n",
       "      <th>DATE</th>\n",
       "      <th>ENTRIES</th>\n",
       "    </tr>\n",
       "  </thead>\n",
       "  <tbody>\n",
       "    <tr>\n",
       "      <th>0</th>\n",
       "      <td>(A002, R051, 59 ST)</td>\n",
       "      <td>09/09/2017</td>\n",
       "      <td>7745.0</td>\n",
       "    </tr>\n",
       "    <tr>\n",
       "      <th>1</th>\n",
       "      <td>(A002, R051, 59 ST)</td>\n",
       "      <td>09/10/2017</td>\n",
       "      <td>6116.0</td>\n",
       "    </tr>\n",
       "    <tr>\n",
       "      <th>2</th>\n",
       "      <td>(A002, R051, 59 ST)</td>\n",
       "      <td>09/11/2017</td>\n",
       "      <td>13525.0</td>\n",
       "    </tr>\n",
       "    <tr>\n",
       "      <th>3</th>\n",
       "      <td>(A002, R051, 59 ST)</td>\n",
       "      <td>09/12/2017</td>\n",
       "      <td>14036.0</td>\n",
       "    </tr>\n",
       "    <tr>\n",
       "      <th>4</th>\n",
       "      <td>(A002, R051, 59 ST)</td>\n",
       "      <td>09/13/2017</td>\n",
       "      <td>14034.0</td>\n",
       "    </tr>\n",
       "    <tr>\n",
       "      <th>5</th>\n",
       "      <td>(A002, R051, 59 ST)</td>\n",
       "      <td>09/14/2017</td>\n",
       "      <td>15764.0</td>\n",
       "    </tr>\n",
       "    <tr>\n",
       "      <th>6</th>\n",
       "      <td>(A002, R051, 59 ST)</td>\n",
       "      <td>09/15/2017</td>\n",
       "      <td>11789.0</td>\n",
       "    </tr>\n",
       "    <tr>\n",
       "      <th>7</th>\n",
       "      <td>(A006, R079, 5 AV/59 ST)</td>\n",
       "      <td>09/09/2017</td>\n",
       "      <td>6632.0</td>\n",
       "    </tr>\n",
       "    <tr>\n",
       "      <th>8</th>\n",
       "      <td>(A006, R079, 5 AV/59 ST)</td>\n",
       "      <td>09/10/2017</td>\n",
       "      <td>5384.0</td>\n",
       "    </tr>\n",
       "    <tr>\n",
       "      <th>9</th>\n",
       "      <td>(A006, R079, 5 AV/59 ST)</td>\n",
       "      <td>09/11/2017</td>\n",
       "      <td>11820.0</td>\n",
       "    </tr>\n",
       "  </tbody>\n",
       "</table>\n",
       "</div>"
      ],
      "text/plain": [
       "             SUPER_LOCATION        DATE  ENTRIES\n",
       "0       (A002, R051, 59 ST)  09/09/2017   7745.0\n",
       "1       (A002, R051, 59 ST)  09/10/2017   6116.0\n",
       "2       (A002, R051, 59 ST)  09/11/2017  13525.0\n",
       "3       (A002, R051, 59 ST)  09/12/2017  14036.0\n",
       "4       (A002, R051, 59 ST)  09/13/2017  14034.0\n",
       "5       (A002, R051, 59 ST)  09/14/2017  15764.0\n",
       "6       (A002, R051, 59 ST)  09/15/2017  11789.0\n",
       "7  (A006, R079, 5 AV/59 ST)  09/09/2017   6632.0\n",
       "8  (A006, R079, 5 AV/59 ST)  09/10/2017   5384.0\n",
       "9  (A006, R079, 5 AV/59 ST)  09/11/2017  11820.0"
      ]
     },
     "execution_count": 14,
     "metadata": {},
     "output_type": "execute_result"
    }
   ],
   "source": [
    "challenge_5 = df.groupby(['SUPER_LOCATION', 'DATE']).sum().reset_index()\n",
    "challenge_5 = challenge_5[['SUPER_LOCATION', 'DATE', 'ENTRIES']]\n",
    "challenge_5.head(10)"
   ]
  },
  {
   "cell_type": "code",
   "execution_count": 15,
   "metadata": {},
   "outputs": [
    {
     "data": {
      "text/plain": [
       "[('09/09/2017', 41290.0),\n",
       " ('09/10/2017', 30537.0),\n",
       " ('09/11/2017', 71255.0),\n",
       " ('09/12/2017', 74989.0),\n",
       " ('09/13/2017', 75545.0),\n",
       " ('09/14/2017', 80766.0),\n",
       " ('09/15/2017', 65704.0)]"
      ]
     },
     "execution_count": 15,
     "metadata": {},
     "output_type": "execute_result"
    }
   ],
   "source": [
    "challenge_6 = {}\n",
    "station_gb = df.groupby(['STATION', 'DATE']).sum().reset_index()\n",
    "for s in station_gb.STATION.unique():\n",
    "    f = station_gb[station_gb.STATION == s]\n",
    "    challenge_6[s] = list(zip(f.DATE, f.ENTRIES))\n",
    "challenge_6['59 ST']  \n"
   ]
  },
  {
   "cell_type": "code",
   "execution_count": 16,
   "metadata": {
    "scrolled": true
   },
   "outputs": [
    {
     "data": {
      "text/plain": [
       "<Container object of 7 artists>"
      ]
     },
     "execution_count": 16,
     "metadata": {},
     "output_type": "execute_result"
    },
    {
     "data": {
      "image/png": "[encoded data removed]",
      "text/plain": [
       "<matplotlib.figure.Figure at 0x118c09908>"
      ]
     },
     "metadata": {},
     "output_type": "display_data"
    }
   ],
   "source": [
    "#Challenge 7\n",
    "x, y = zip(*challenge_6['59 ST'])\n",
    "x = [datetime.datetime.strptime(x_i, '%m/%d/%Y') for x_i in x]\n",
    "plt.figure(figsize=(10,7))\n",
    "plt.bar(x, y)"
   ]
  },
  {
   "cell_type": "code",
   "execution_count": 17,
   "metadata": {
    "collapsed": true
   },
   "outputs": [],
   "source": [
    "def get_data(week_nums):\n",
    "    url = \"http://web.mta.info/developers/data/nyct/turnstile/turnstile_{}.txt\"\n",
    "    dfs = []\n",
    "    for week_num in week_nums:\n",
    "        file_url = url.format(week_num)\n",
    "        f = pd.read_csv(file_url)\n",
    "        f['WEEK_NUM'] = week_num\n",
    "        dfs.append(f)\n",
    "    return pd.concat(dfs)"
   ]
  },
  {
   "cell_type": "code",
   "execution_count": 18,
   "metadata": {
    "collapsed": true
   },
   "outputs": [],
   "source": [
    "week_nums = ['170916', '170909', '170902', '170826', '170819', '170812']\n",
    "turnstiles_df = get_data(week_nums)"
   ]
  },
  {
   "cell_type": "code",
   "execution_count": 19,
   "metadata": {
    "collapsed": true
   },
   "outputs": [],
   "source": [
    "f = turnstiles_df.copy(deep=True)"
   ]
  },
  {
   "cell_type": "code",
   "execution_count": 20,
   "metadata": {
    "scrolled": true
   },
   "outputs": [
    {
     "name": "stderr",
     "output_type": "stream",
     "text": [
      "/Users/home/anaconda/lib/python3.6/site-packages/ipykernel_launcher.py:7: SettingWithCopyWarning: \n",
      "A value is trying to be set on a copy of a slice from a DataFrame\n",
      "\n",
      "See the caveats in the documentation: http://pandas.pydata.org/pandas-docs/stable/indexing.html#indexing-view-versus-copy\n",
      "  import sys\n",
      "/Users/home/anaconda/lib/python3.6/site-packages/ipykernel_launcher.py:8: SettingWithCopyWarning: \n",
      "A value is trying to be set on a copy of a slice from a DataFrame\n",
      "\n",
      "See the caveats in the documentation: http://pandas.pydata.org/pandas-docs/stable/indexing.html#indexing-view-versus-copy\n",
      "  \n",
      "/Users/home/anaconda/lib/python3.6/site-packages/ipykernel_launcher.py:9: SettingWithCopyWarning: \n",
      "A value is trying to be set on a copy of a slice from a DataFrame\n",
      "\n",
      "See the caveats in the documentation: http://pandas.pydata.org/pandas-docs/stable/indexing.html#indexing-view-versus-copy\n",
      "  if __name__ == '__main__':\n",
      "/Users/home/anaconda/lib/python3.6/site-packages/ipykernel_launcher.py:10: SettingWithCopyWarning: \n",
      "A value is trying to be set on a copy of a slice from a DataFrame\n",
      "\n",
      "See the caveats in the documentation: http://pandas.pydata.org/pandas-docs/stable/indexing.html#indexing-view-versus-copy\n",
      "  # Remove the CWD from sys.path while we load stuff.\n"
     ]
    }
   ],
   "source": [
    "f['EXITS_CUM'] = f['EXITS                                                               ']\n",
    "f['ENTRIES_CUM'] = f['ENTRIES']\n",
    "f['ENTRIES'] = f['ENTRIES_CUM'].shift(-1) - f['ENTRIES_CUM']\n",
    "f['EXITS'] = f['EXITS_CUM'].shift(-1) - f['EXITS_CUM']\n",
    "f['DATETIME'] =  f['DATE'] + ' ' + f['TIME']\n",
    "f['DAY_OF_WEEK'] = f['DATETIME'].apply(my_weekday)\n",
    "f.ENTRIES[(f.ENTRIES < 0)] = np.nan\n",
    "f.ENTRIES[(f.ENTRIES > 10000)] = np.nan\n",
    "f.EXITS[(f.EXITS < 0)] = np.nan\n",
    "f.EXITS[(f.EXITS > 10000)] = np.nan\n"
   ]
  },
  {
   "cell_type": "code",
   "execution_count": 21,
   "metadata": {
    "collapsed": true
   },
   "outputs": [],
   "source": [
    "g = f.groupby(['DATE', 'DAY_OF_WEEK', 'STATION','WEEK_NUM']).sum().reset_index()[['DATE', 'DAY_OF_WEEK', 'STATION', 'ENTRIES','WEEK_NUM']]"
   ]
  },
  {
   "cell_type": "code",
   "execution_count": 22,
   "metadata": {},
   "outputs": [
    {
     "name": "stderr",
     "output_type": "stream",
     "text": [
      "/Users/home/anaconda/lib/python3.6/site-packages/ipykernel_launcher.py:5: UserWarning: Boolean Series key will be reindexed to match DataFrame index.\n",
      "  \"\"\"\n"
     ]
    }
   ],
   "source": [
    "challenge_8 = defaultdict(list)\n",
    "for s in g.STATION.unique():\n",
    "    for w in g.WEEK_NUM.unique():\n",
    "        temp = g[g.STATION == s]\n",
    "        temp = temp[g.WEEK_NUM == w]\n",
    "        challenge_8[s].append(list(zip(temp.DAY_OF_WEEK, temp.ENTRIES)))\n",
    "    "
   ]
  },
  {
   "cell_type": "code",
   "execution_count": 23,
   "metadata": {},
   "outputs": [
    {
     "data": {
      "text/plain": [
       "[[(5, 38305.0),\n",
       "  (6, 31894.0),\n",
       "  (0, 65566.0),\n",
       "  (1, 73058.0),\n",
       "  (2, 73529.0),\n",
       "  (3, 72804.0),\n",
       "  (4, 61717.0)],\n",
       " [(5, 37121.0),\n",
       "  (6, 29765.0),\n",
       "  (0, 67938.0),\n",
       "  (1, 71742.0),\n",
       "  (2, 72568.0),\n",
       "  (3, 71766.0),\n",
       "  (4, 56975.0)],\n",
       " [(5, 41776.0),\n",
       "  (6, 32361.0),\n",
       "  (0, 63113.0),\n",
       "  (1, 67567.0),\n",
       "  (2, 69994.0),\n",
       "  (3, 69327.0),\n",
       "  (4, 59005.0)],\n",
       " [(5, 39328.0),\n",
       "  (6, 30178.0),\n",
       "  (0, 66305.0),\n",
       "  (1, 67208.0),\n",
       "  (2, 68906.0),\n",
       "  (3, 68630.0),\n",
       "  (4, 56855.0)],\n",
       " [(5, 34092.0),\n",
       "  (6, 28062.0),\n",
       "  (0, 30701.0),\n",
       "  (1, 68843.0),\n",
       "  (2, 71991.0),\n",
       "  (3, 76187.0),\n",
       "  (4, 67210.0)],\n",
       " [(5, 41290.0),\n",
       "  (6, 30537.0),\n",
       "  (0, 71255.0),\n",
       "  (1, 74989.0),\n",
       "  (2, 75545.0),\n",
       "  (3, 80766.0),\n",
       "  (4, 65704.0)]]"
      ]
     },
     "execution_count": 23,
     "metadata": {},
     "output_type": "execute_result"
    }
   ],
   "source": [
    "challenge_8['59 ST']"
   ]
  },
  {
   "cell_type": "code",
   "execution_count": 24,
   "metadata": {},
   "outputs": [
    {
     "data": {
      "image/png": "[encoded data removed]",
      "text/plain": [
       "<matplotlib.figure.Figure at 0x11baffd30>"
      ]
     },
     "metadata": {},
     "output_type": "display_data"
    }
   ],
   "source": [
    "plt.figure(figsize = (15, 9))\n",
    "for week_count_list in challenge_8['59 ST']:\n",
    "    plt.plot(week_count_list)"
   ]
  },
  {
   "cell_type": "code",
   "execution_count": 25,
   "metadata": {},
   "outputs": [
    {
     "data": {
      "text/html": [
       "<div>\n",
       "<style>\n",
       "    .dataframe thead tr:only-child th {\n",
       "        text-align: right;\n",
       "    }\n",
       "\n",
       "    .dataframe thead th {\n",
       "        text-align: left;\n",
       "    }\n",
       "\n",
       "    .dataframe tbody tr th {\n",
       "        vertical-align: top;\n",
       "    }\n",
       "</style>\n",
       "<table border=\"1\" class=\"dataframe\">\n",
       "  <thead>\n",
       "    <tr style=\"text-align: right;\">\n",
       "      <th></th>\n",
       "      <th>STATION</th>\n",
       "      <th>ENTRIES</th>\n",
       "    </tr>\n",
       "  </thead>\n",
       "  <tbody>\n",
       "    <tr>\n",
       "      <th>61</th>\n",
       "      <td>34 ST-PENN STA</td>\n",
       "      <td>5409728.0</td>\n",
       "    </tr>\n",
       "    <tr>\n",
       "      <th>232</th>\n",
       "      <td>GRD CNTRL-42 ST</td>\n",
       "      <td>4823488.0</td>\n",
       "    </tr>\n",
       "    <tr>\n",
       "      <th>59</th>\n",
       "      <td>34 ST-HERALD SQ</td>\n",
       "      <td>3849922.0</td>\n",
       "    </tr>\n",
       "    <tr>\n",
       "      <th>46</th>\n",
       "      <td>23 ST</td>\n",
       "      <td>3707142.0</td>\n",
       "    </tr>\n",
       "    <tr>\n",
       "      <th>14</th>\n",
       "      <td>14 ST-UNION SQ</td>\n",
       "      <td>3697997.0</td>\n",
       "    </tr>\n",
       "    <tr>\n",
       "      <th>353</th>\n",
       "      <td>TIMES SQ-42 ST</td>\n",
       "      <td>3573314.0</td>\n",
       "    </tr>\n",
       "    <tr>\n",
       "      <th>225</th>\n",
       "      <td>FULTON ST</td>\n",
       "      <td>3220263.0</td>\n",
       "    </tr>\n",
       "    <tr>\n",
       "      <th>68</th>\n",
       "      <td>42 ST-PORT AUTH</td>\n",
       "      <td>3199005.0</td>\n",
       "    </tr>\n",
       "    <tr>\n",
       "      <th>110</th>\n",
       "      <td>86 ST</td>\n",
       "      <td>2884762.0</td>\n",
       "    </tr>\n",
       "    <tr>\n",
       "      <th>9</th>\n",
       "      <td>125 ST</td>\n",
       "      <td>2611959.0</td>\n",
       "    </tr>\n",
       "  </tbody>\n",
       "</table>\n",
       "</div>"
      ],
      "text/plain": [
       "             STATION    ENTRIES\n",
       "61    34 ST-PENN STA  5409728.0\n",
       "232  GRD CNTRL-42 ST  4823488.0\n",
       "59   34 ST-HERALD SQ  3849922.0\n",
       "46             23 ST  3707142.0\n",
       "14    14 ST-UNION SQ  3697997.0\n",
       "353   TIMES SQ-42 ST  3573314.0\n",
       "225        FULTON ST  3220263.0\n",
       "68   42 ST-PORT AUTH  3199005.0\n",
       "110            86 ST  2884762.0\n",
       "9             125 ST  2611959.0"
      ]
     },
     "execution_count": 25,
     "metadata": {},
     "output_type": "execute_result"
    }
   ],
   "source": [
    "challenge_9 = f.groupby(['STATION']).sum().reset_index()[['STATION', 'ENTRIES']].sort_values('ENTRIES',ascending=False)\n",
    "challenge_9.head(10)"
   ]
  },
  {
   "cell_type": "code",
   "execution_count": 26,
   "metadata": {},
   "outputs": [
    {
     "data": {
      "text/plain": [
       "<matplotlib.axes._subplots.AxesSubplot at 0x1170bd630>"
      ]
     },
     "execution_count": 26,
     "metadata": {},
     "output_type": "execute_result"
    },
    {
     "data": {
      "image/png": "[encoded data removed]",
      "text/plain": [
       "<matplotlib.figure.Figure at 0x1170e55f8>"
      ]
     },
     "metadata": {},
     "output_type": "display_data"
    }
   ],
   "source": [
    "#Challenge 10\n",
    "challenge_9.ENTRIES.plot(kind='hist', figsize = (15,9))"
   ]
  }
 ],
 "metadata": {
  "kernelspec": {
   "display_name": "Python 3",
   "language": "python",
   "name": "python3"
  },
  "language_info": {
   "codemirror_mode": {
    "name": "ipython",
    "version": 3
   },
   "file_extension": ".py",
   "mimetype": "text/x-python",
   "name": "python",
   "nbconvert_exporter": "python",
   "pygments_lexer": "ipython3",
   "version": "3.6.1"
  }
 },
 "nbformat": 4,
 "nbformat_minor": 2
}
