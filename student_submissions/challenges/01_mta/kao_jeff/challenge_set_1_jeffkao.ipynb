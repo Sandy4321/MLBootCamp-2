{
 "cells": [
  {
   "cell_type": "markdown",
   "metadata": {},
   "source": [
    "```\n",
    "Topic:        Challenge Set 1\n",
    "Subject:      Explore MTA turnstile data\n",
    "Date:         09/24/2017\n",
    "Name:         Jeff Kao\n",
    "Worked with:  Chuoran Wang, Mike Lin\n",
    "```"
   ]
  },
  {
   "cell_type": "markdown",
   "metadata": {},
   "source": [
    "# Week 1 Challenge: Benson"
   ]
  },
  {
   "cell_type": "markdown",
   "metadata": {},
   "source": [
    "__Note: This challenge was done in pandas and without dictionaries.__\n",
    "\n",
    "Before we start, import required libraries, show plots and turn off the chain assignment warning."
   ]
  },
  {
   "cell_type": "code",
   "execution_count": 1,
   "metadata": {
    "collapsed": true
   },
   "outputs": [],
   "source": [
    "import pandas as pd\n",
    "import numpy as np\n",
    "import matplotlib.pyplot as plt\n",
    "from datetime import datetime, timedelta\n",
    "\n",
    "# Disable chain assignment warning\n",
    "pd.options.mode.chained_assignment = None\n",
    "# Plot inline\n",
    "%matplotlib inline"
   ]
  },
  {
   "cell_type": "markdown",
   "metadata": {},
   "source": [
    "## Challenge 1\n",
    "\n",
    "Open up a file, use csv reader to read it, make a python dict where there is a key for each (C/A, UNIT, SCP, STATION). These are the first four columns. "
   ]
  },
  {
   "cell_type": "code",
   "execution_count": 2,
   "metadata": {},
   "outputs": [
    {
     "name": "stdout",
     "output_type": "stream",
     "text": [
      "LOADING DATA...\n",
      "turnstile_170916.txt\n",
      "turnstile_170909.txt\n",
      "turnstile_170902.txt\n",
      "turnstile_170826.txt\n",
      "turnstile_170819.txt\n",
      "turnstile_170812.txt\n",
      "turnstile_170805.txt\n",
      "turnstile_170729.txt\n",
      "DATA LOADED!\n"
     ]
    }
   ],
   "source": [
    "# Load our data into memory\n",
    "# NB: we have already downloaded turnstile files locally, \n",
    "# so we only need to read them in using pandas\n",
    "\n",
    "# download files start from...\n",
    "startdate = datetime(2017, 9, 16)\n",
    "\n",
    "# and ending at... (change enddate to read more/less files)\n",
    "enddate = datetime(2017, 8, 1)\n",
    "#enddate = datetime(2016, 9, 16)\n",
    "\n",
    "# do..while\n",
    "print('LOADING DATA...')\n",
    "currdate = startdate\n",
    "datestring = currdate.strftime('%y%m%d')\n",
    "filename = 'turnstile_{}.txt'.format(datestring)\n",
    "print(filename)\n",
    "turnstile_df = pd.read_csv(filename)\n",
    "while currdate > enddate:\n",
    "    currdate = currdate - timedelta(days=7)\n",
    "    datestring = currdate.strftime('%y%m%d')\n",
    "    filename = 'turnstile_{}.txt'.format(datestring)\n",
    "    print(filename)\n",
    "    if turnstile_df is not None:\n",
    "        turnstile_df = turnstile_df.append(pd.read_csv(filename))\n",
    "    else:\n",
    "        turnstile_df = pd.read_csv(filename)\n",
    "print('DATA LOADED!')"
   ]
  },
  {
   "cell_type": "markdown",
   "metadata": {},
   "source": [
    "**TA COMMENT:**\n",
    "\n",
    "This is a clever way of reading your files from your local directory. However, it can be error-prone if the file names are not formatted the same way (ex: turnstile_170916.txt versus turnstiles_170916.txt). \n",
    "\n",
    "To mitigate this possible error, I would suggest using the os library, particularly the os.listdir() method within the os library. The os.listdir() will output an array containing all of the filenames within a particular directory."
   ]
  },
  {
   "cell_type": "code",
   "execution_count": 3,
   "metadata": {},
   "outputs": [
    {
     "data": {
      "text/html": [
       "<div>\n",
       "<style>\n",
       "    .dataframe thead tr:only-child th {\n",
       "        text-align: right;\n",
       "    }\n",
       "\n",
       "    .dataframe thead th {\n",
       "        text-align: left;\n",
       "    }\n",
       "\n",
       "    .dataframe tbody tr th {\n",
       "        vertical-align: top;\n",
       "    }\n",
       "</style>\n",
       "<table border=\"1\" class=\"dataframe\">\n",
       "  <thead>\n",
       "    <tr style=\"text-align: right;\">\n",
       "      <th></th>\n",
       "      <th>index</th>\n",
       "      <th>Unnamed: 0</th>\n",
       "      <th>C/A</th>\n",
       "      <th>UNIT</th>\n",
       "      <th>SCP</th>\n",
       "      <th>STATION</th>\n",
       "      <th>LINENAME</th>\n",
       "      <th>DIVISION</th>\n",
       "      <th>DATE</th>\n",
       "      <th>TIME</th>\n",
       "      <th>DESC</th>\n",
       "      <th>ENTRIES</th>\n",
       "      <th>EXITS</th>\n",
       "    </tr>\n",
       "  </thead>\n",
       "  <tbody>\n",
       "    <tr>\n",
       "      <th>553492</th>\n",
       "      <td>157352</td>\n",
       "      <td>157352</td>\n",
       "      <td>R245A</td>\n",
       "      <td>R051</td>\n",
       "      <td>01-00-02</td>\n",
       "      <td>59 ST</td>\n",
       "      <td>456NQRW</td>\n",
       "      <td>IRT</td>\n",
       "      <td>08/28/2017</td>\n",
       "      <td>08:00:00</td>\n",
       "      <td>REGULAR</td>\n",
       "      <td>5735723</td>\n",
       "      <td>8669035</td>\n",
       "    </tr>\n",
       "    <tr>\n",
       "      <th>1484309</th>\n",
       "      <td>94209</td>\n",
       "      <td>94209</td>\n",
       "      <td>N504</td>\n",
       "      <td>R021</td>\n",
       "      <td>02-06-01</td>\n",
       "      <td>42 ST-BRYANT PK</td>\n",
       "      <td>BDFM7</td>\n",
       "      <td>IND</td>\n",
       "      <td>07/28/2017</td>\n",
       "      <td>04:00:00</td>\n",
       "      <td>REGULAR</td>\n",
       "      <td>4994861</td>\n",
       "      <td>6622356</td>\n",
       "    </tr>\n",
       "    <tr>\n",
       "      <th>628320</th>\n",
       "      <td>32419</td>\n",
       "      <td>32419</td>\n",
       "      <td>H033</td>\n",
       "      <td>R313</td>\n",
       "      <td>00-00-02</td>\n",
       "      <td>BUSHWICK AV</td>\n",
       "      <td>L</td>\n",
       "      <td>BMT</td>\n",
       "      <td>08/22/2017</td>\n",
       "      <td>00:00:00</td>\n",
       "      <td>REGULAR</td>\n",
       "      <td>882753</td>\n",
       "      <td>1118470</td>\n",
       "    </tr>\n",
       "    <tr>\n",
       "      <th>1089111</th>\n",
       "      <td>96660</td>\n",
       "      <td>96660</td>\n",
       "      <td>N525</td>\n",
       "      <td>R142</td>\n",
       "      <td>01-00-01</td>\n",
       "      <td>DELANCEY/ESSEX</td>\n",
       "      <td>FJMZ</td>\n",
       "      <td>IND</td>\n",
       "      <td>08/06/2017</td>\n",
       "      <td>17:00:00</td>\n",
       "      <td>REGULAR</td>\n",
       "      <td>7798160</td>\n",
       "      <td>5012355</td>\n",
       "    </tr>\n",
       "    <tr>\n",
       "      <th>638322</th>\n",
       "      <td>42421</td>\n",
       "      <td>42421</td>\n",
       "      <td>N020</td>\n",
       "      <td>R101</td>\n",
       "      <td>00-00-03</td>\n",
       "      <td>145 ST</td>\n",
       "      <td>ABCD</td>\n",
       "      <td>IND</td>\n",
       "      <td>08/20/2017</td>\n",
       "      <td>08:00:00</td>\n",
       "      <td>REGULAR</td>\n",
       "      <td>9541321</td>\n",
       "      <td>11487027</td>\n",
       "    </tr>\n",
       "  </tbody>\n",
       "</table>\n",
       "</div>"
      ],
      "text/plain": [
       "          index  Unnamed: 0    C/A  UNIT       SCP          STATION LINENAME  \\\n",
       "553492   157352      157352  R245A  R051  01-00-02            59 ST  456NQRW   \n",
       "1484309   94209       94209   N504  R021  02-06-01  42 ST-BRYANT PK    BDFM7   \n",
       "628320    32419       32419   H033  R313  00-00-02      BUSHWICK AV        L   \n",
       "1089111   96660       96660   N525  R142  01-00-01   DELANCEY/ESSEX     FJMZ   \n",
       "638322    42421       42421   N020  R101  00-00-03           145 ST     ABCD   \n",
       "\n",
       "        DIVISION        DATE      TIME     DESC  ENTRIES     EXITS  \n",
       "553492       IRT  08/28/2017  08:00:00  REGULAR  5735723   8669035  \n",
       "1484309      IND  07/28/2017  04:00:00  REGULAR  4994861   6622356  \n",
       "628320       BMT  08/22/2017  00:00:00  REGULAR   882753   1118470  \n",
       "1089111      IND  08/06/2017  17:00:00  REGULAR  7798160   5012355  \n",
       "638322       IND  08/20/2017  08:00:00  REGULAR  9541321  11487027  "
      ]
     },
     "execution_count": 3,
     "metadata": {},
     "output_type": "execute_result"
    }
   ],
   "source": [
    "# Strip/fix columns and index\n",
    "df = turnstile_df.reset_index()\n",
    "df.columns = [col.strip() for col in df.columns]\n",
    "\n",
    "# Take a quick peek to make sure everything's fine\n",
    "df.sample(5)"
   ]
  },
  {
   "cell_type": "code",
   "execution_count": 4,
   "metadata": {
    "collapsed": true
   },
   "outputs": [],
   "source": [
    "# Useful functions:\n",
    "\n",
    "# filter_series lets us pare down (mask) our initial data frame (useful for testing)\n",
    "def filter_series(df, control_area=None, unit=None, device_address=None, station=None):\n",
    "    return_series = df.copy()\n",
    "    #filter can be string or list of strings\n",
    "    if control_area:\n",
    "        if isinstance(control_area, str):\n",
    "            return_series = return_series.loc[df['C/A'] == control_area]\n",
    "        elif isinstance(control_area, list):\n",
    "            return_series = return_series.loc[df['C/A'].isin(control_area)]\n",
    "        else:\n",
    "            print('Warning: {} cannot be used as a filter because it is not a string or list'.format(control_area))\n",
    "    if unit:\n",
    "        if isinstance(unit, str):\n",
    "            return_series = return_series.loc[df['UNIT'] == unit]\n",
    "        elif isinstance(unit, list):\n",
    "            return_series = return_series.loc[df['UNIT'].isin(unit)]\n",
    "        else:\n",
    "            print('Warning: {} cannot be used as a filter because it is not a string or list'.format(unit))\n",
    "    if device_address:\n",
    "        if isinstance(device_address, str):\n",
    "            return_series = return_series.loc[df['SCP'] == device_address]\n",
    "        elif isinstance(device_address, list):\n",
    "            return_series = return_series.loc[df['SCP'].isin(device_address)]\n",
    "        else:\n",
    "            print('Warning: {} cannot be used as a filter because it is not a string or list'.format(device_address))\n",
    "    if station:\n",
    "        if isinstance(station, str):\n",
    "            return_series = return_series.loc[df['STATION'] == station]\n",
    "        elif isinstance(station, list):\n",
    "            return_series = return_series.loc[df['STATION'].isin(station)]\n",
    "        else:\n",
    "            print('Warning: {} cannot be used as a filter because it is not a string or list'.format(station))\n",
    "    return return_series\n",
    "\n",
    "# get_time_series generates a cleaned-up time series for a single turnstile's dataframe\n",
    "# useful for challenge 2\n",
    "def get_time_series(df):\n",
    "    t_time_series = df\n",
    "    t_time_series['DATETIME_STR'] = t_time_series['DATE'] + ' ' + t_time_series['TIME']\n",
    "    def str2datetime(datetime_str):\n",
    "        return datetime.strptime(datetime_str, '%m/%d/%Y %H:%M:%S')\n",
    "    def str2date(datetime_str):\n",
    "        return datetime.strptime(datetime_str, '%m/%d/%Y')\n",
    "    t_time_series['DATETIME'] = t_time_series['DATETIME_STR'].apply(str2datetime)\n",
    "    t_time_series['DATE'] = t_time_series['DATE'].apply(str2date)\n",
    "    t_time_series.sort_values('DATETIME', inplace=True)\n",
    "    # now that we are sorted, we can subtract rows\n",
    "    t_time_series['D_ENTRIES'] = t_time_series['ENTRIES'].diff()\n",
    "    t_time_series['D_EXITS'] = t_time_series['EXITS'].diff()\n",
    "    time_series = t_time_series.loc[:,['STATION','C/A','UNIT','SCP','DATE','DATETIME','ENTRIES','EXITS','D_ENTRIES','D_EXITS']]\n",
    "    return time_series"
   ]
  },
  {
   "cell_type": "markdown",
   "metadata": {},
   "source": [
    "**TA COMMENT:**\n",
    "\n",
    "The filter_series function is awesome. Good job on accounting for edge cases.\n",
    "\n",
    "The second function is good, but I'm not fully understanding why the t_time_series object is sorted by DATETIME _before_ being grouped by a particular station, C/A, UNIT, etc.. If you're sorting by DATETIME before the groupby operation then turnstiles with identical DATETIMEs will have their entries and exits counts subtracted. \n",
    "\n",
    "**After going through your challenge 2 code I get where you're going with this. However, as you probably noticed, the process of going through each turnstile individually is pretty slow. I would suggest changing the helper function to do the groupby operation _first_ before doing the entries and exits differences. That way you only do the subtraction operation _once_ rather than 4711 times.**"
   ]
  },
  {
   "cell_type": "code",
   "execution_count": 5,
   "metadata": {},
   "outputs": [
    {
     "data": {
      "text/plain": [
       "(1590212, 13)"
      ]
     },
     "execution_count": 5,
     "metadata": {},
     "output_type": "execute_result"
    }
   ],
   "source": [
    "# OPTIONAL STEP:\n",
    "# reduce dataset by filtering it\n",
    "# df = df.filter_series(df, station=['14 ST-UNION SQ','TIMES SQ-42 ST','116 ST-COLUMBIA'])\n",
    "\n",
    "# Sanity check on the (optionally reduced) dataset\n",
    "df.shape"
   ]
  },
  {
   "cell_type": "code",
   "execution_count": 6,
   "metadata": {},
   "outputs": [
    {
     "name": "stdout",
     "output_type": "stream",
     "text": [
      "There are 4711 unique turnstiles.\n"
     ]
    }
   ],
   "source": [
    "turnstiles = df.groupby(['STATION','C/A','UNIT','SCP'])\n",
    "print('There are {} unique turnstiles.'.format(len(turnstiles)))\n",
    "\n",
    "# OPTIONALLY, print the keys for each turnstile (in case we need to access it later)\n",
    "# for key, turnstile in turnstiles:\n",
    "#     print(key)"
   ]
  },
  {
   "cell_type": "markdown",
   "metadata": {},
   "source": [
    "## Challenge 2\n",
    "\n",
    "For each key (basically the control area, unit, device address and station of a specific turnstile), have a list again, but let the list be comprised of just the point in time and the count of entries.\n",
    "\n",
    "__Note: get_time_series function is going to keep a few more columns in case we need to keep additional information.__"
   ]
  },
  {
   "cell_type": "code",
   "execution_count": 7,
   "metadata": {},
   "outputs": [
    {
     "name": "stdout",
     "output_type": "stream",
     "text": [
      "Aggregated data for 4711 turnstiles.\n",
      "CPU times: user 1min 8s, sys: 959 ms, total: 1min 9s\n",
      "Wall time: 1min 11s\n"
     ]
    }
   ],
   "source": [
    "%%time\n",
    "\n",
    "# iterate over the turnstiles and generate the time series for each\n",
    "# this takes the longest\n",
    "turnstile_timeseries_list = []\n",
    "for key, turnstile in turnstiles:\n",
    "    #print(key) #for debugging\n",
    "    turnstile_timeseries_list.append(get_time_series(turnstile))\n",
    "print('Aggregated data for {} turnstiles.'.format( len(turnstile_timeseries_list)))"
   ]
  },
  {
   "cell_type": "code",
   "execution_count": 8,
   "metadata": {},
   "outputs": [
    {
     "name": "stdout",
     "output_type": "stream",
     "text": [
      "CPU times: user 1.47 s, sys: 156 ms, total: 1.63 s\n",
      "Wall time: 1.81 s\n"
     ]
    }
   ],
   "source": [
    "%%time\n",
    "\n",
    "# reconsitute_full_df reconsitutes the full dataframe so that we can group by\n",
    "def reconsitute_full_df(timeseries_list):\n",
    "    full_df = pd.concat(timeseries_list, ignore_index=True)\n",
    "    return full_df\n",
    "all_turnstiles = reconsitute_full_df(turnstile_timeseries_list)"
   ]
  },
  {
   "cell_type": "markdown",
   "metadata": {
    "collapsed": true
   },
   "source": [
    "Below are a couple of examples of data exploration and cleaning that could be done. Iterate until satisfied with results."
   ]
  },
  {
   "cell_type": "code",
   "execution_count": 9,
   "metadata": {
    "collapsed": true
   },
   "outputs": [],
   "source": [
    "# Do some data exploration to make sure there's nothing off about it\n",
    "# all_turnstiles[(all_turnstiles.STATION == '14 ST-UNION SQ') & (all_turnstiles.D_ENTRIES > 10)]\n",
    "# wrong = all_turnstiles[(all_turnstiles['D_ENTRIES'] < 0) | (all_turnstiles['D_EXITS'] < 0)]\n",
    "# wrong"
   ]
  },
  {
   "cell_type": "code",
   "execution_count": 10,
   "metadata": {
    "collapsed": true
   },
   "outputs": [],
   "source": [
    "# A bit of clean-up for the dataframe (there are likely other issues)\n",
    "all_turnstiles = all_turnstiles.dropna(subset=['D_ENTRIES', 'D_EXITS'])\n",
    "all_turnstiles['D_ENTRIES'] = all_turnstiles['D_ENTRIES'].apply(lambda x: abs(x))\n",
    "all_turnstiles['D_EXITS'] = all_turnstiles['D_EXITS'].apply(lambda x: abs(x))\n",
    "all_turnstiles['D_ENTRIES'] = all_turnstiles['D_ENTRIES'].apply(lambda x: 0 if x > 100000 else x)\n",
    "all_turnstiles['D_EXITS'] = all_turnstiles['D_EXITS'].apply(lambda x: 0 if x > 100000 else x)"
   ]
  },
  {
   "cell_type": "code",
   "execution_count": 11,
   "metadata": {
    "collapsed": true
   },
   "outputs": [],
   "source": [
    "# After clean-up, may want to check issues with our aggregates against the original data\n",
    "# Lather, rinse, repeat\n",
    "# df3 = filter_series(df, station='14 ST-UNION SQ', control_area='A035', unit='R170', device_address='00-00-04')\n",
    "# df3 = filter_series(df, station='TIMES SQ-42 ST', control_area='R148', unit='R033', device_address='01-00-01')\n",
    "# df3.head()"
   ]
  },
  {
   "cell_type": "code",
   "execution_count": 12,
   "metadata": {},
   "outputs": [
    {
     "data": {
      "text/html": [
       "<div>\n",
       "<style>\n",
       "    .dataframe thead tr:only-child th {\n",
       "        text-align: right;\n",
       "    }\n",
       "\n",
       "    .dataframe thead th {\n",
       "        text-align: left;\n",
       "    }\n",
       "\n",
       "    .dataframe tbody tr th {\n",
       "        vertical-align: top;\n",
       "    }\n",
       "</style>\n",
       "<table border=\"1\" class=\"dataframe\">\n",
       "  <thead>\n",
       "    <tr style=\"text-align: right;\">\n",
       "      <th></th>\n",
       "      <th>STATION</th>\n",
       "      <th>C/A</th>\n",
       "      <th>UNIT</th>\n",
       "      <th>SCP</th>\n",
       "      <th>DATE</th>\n",
       "      <th>DATETIME</th>\n",
       "      <th>ENTRIES</th>\n",
       "      <th>EXITS</th>\n",
       "      <th>D_ENTRIES</th>\n",
       "      <th>D_EXITS</th>\n",
       "    </tr>\n",
       "  </thead>\n",
       "  <tbody>\n",
       "    <tr>\n",
       "      <th>1</th>\n",
       "      <td>1 AV</td>\n",
       "      <td>H007</td>\n",
       "      <td>R248</td>\n",
       "      <td>00-00-00</td>\n",
       "      <td>2017-07-22</td>\n",
       "      <td>2017-07-22 04:00:00</td>\n",
       "      <td>12544595</td>\n",
       "      <td>13873669</td>\n",
       "      <td>82.0</td>\n",
       "      <td>335.0</td>\n",
       "    </tr>\n",
       "    <tr>\n",
       "      <th>2</th>\n",
       "      <td>1 AV</td>\n",
       "      <td>H007</td>\n",
       "      <td>R248</td>\n",
       "      <td>00-00-00</td>\n",
       "      <td>2017-07-22</td>\n",
       "      <td>2017-07-22 08:00:00</td>\n",
       "      <td>12544672</td>\n",
       "      <td>13874013</td>\n",
       "      <td>77.0</td>\n",
       "      <td>344.0</td>\n",
       "    </tr>\n",
       "    <tr>\n",
       "      <th>3</th>\n",
       "      <td>1 AV</td>\n",
       "      <td>H007</td>\n",
       "      <td>R248</td>\n",
       "      <td>00-00-00</td>\n",
       "      <td>2017-07-22</td>\n",
       "      <td>2017-07-22 16:00:00</td>\n",
       "      <td>12545802</td>\n",
       "      <td>13875753</td>\n",
       "      <td>1130.0</td>\n",
       "      <td>1740.0</td>\n",
       "    </tr>\n",
       "    <tr>\n",
       "      <th>4</th>\n",
       "      <td>1 AV</td>\n",
       "      <td>H007</td>\n",
       "      <td>R248</td>\n",
       "      <td>00-00-00</td>\n",
       "      <td>2017-07-22</td>\n",
       "      <td>2017-07-22 20:00:00</td>\n",
       "      <td>12546454</td>\n",
       "      <td>13876825</td>\n",
       "      <td>652.0</td>\n",
       "      <td>1072.0</td>\n",
       "    </tr>\n",
       "    <tr>\n",
       "      <th>5</th>\n",
       "      <td>1 AV</td>\n",
       "      <td>H007</td>\n",
       "      <td>R248</td>\n",
       "      <td>00-00-00</td>\n",
       "      <td>2017-07-23</td>\n",
       "      <td>2017-07-23 00:00:00</td>\n",
       "      <td>12546838</td>\n",
       "      <td>13877622</td>\n",
       "      <td>384.0</td>\n",
       "      <td>797.0</td>\n",
       "    </tr>\n",
       "  </tbody>\n",
       "</table>\n",
       "</div>"
      ],
      "text/plain": [
       "  STATION   C/A  UNIT       SCP       DATE            DATETIME   ENTRIES  \\\n",
       "1    1 AV  H007  R248  00-00-00 2017-07-22 2017-07-22 04:00:00  12544595   \n",
       "2    1 AV  H007  R248  00-00-00 2017-07-22 2017-07-22 08:00:00  12544672   \n",
       "3    1 AV  H007  R248  00-00-00 2017-07-22 2017-07-22 16:00:00  12545802   \n",
       "4    1 AV  H007  R248  00-00-00 2017-07-22 2017-07-22 20:00:00  12546454   \n",
       "5    1 AV  H007  R248  00-00-00 2017-07-23 2017-07-23 00:00:00  12546838   \n",
       "\n",
       "      EXITS  D_ENTRIES  D_EXITS  \n",
       "1  13873669       82.0    335.0  \n",
       "2  13874013       77.0    344.0  \n",
       "3  13875753     1130.0   1740.0  \n",
       "4  13876825      652.0   1072.0  \n",
       "5  13877622      384.0    797.0  "
      ]
     },
     "execution_count": 12,
     "metadata": {},
     "output_type": "execute_result"
    }
   ],
   "source": [
    "# Challenge 2 done\n",
    "all_turnstiles.head()"
   ]
  },
  {
   "cell_type": "markdown",
   "metadata": {},
   "source": [
    "## Challenge 3\n",
    "\n",
    "Prompt 1: These counts are for every n hours. (What is n?) (for most stations, n = 4)\n",
    "\n",
    "Prompt 2: We want total daily entries. Now make it that we again have the same keys, but now we have a single value for a single day, which is the total number of passengers that entered through this turnstile on this day."
   ]
  },
  {
   "cell_type": "code",
   "execution_count": 13,
   "metadata": {},
   "outputs": [
    {
     "data": {
      "text/html": [
       "<div>\n",
       "<style>\n",
       "    .dataframe thead tr:only-child th {\n",
       "        text-align: right;\n",
       "    }\n",
       "\n",
       "    .dataframe thead th {\n",
       "        text-align: left;\n",
       "    }\n",
       "\n",
       "    .dataframe tbody tr th {\n",
       "        vertical-align: top;\n",
       "    }\n",
       "</style>\n",
       "<table border=\"1\" class=\"dataframe\">\n",
       "  <thead>\n",
       "    <tr style=\"text-align: right;\">\n",
       "      <th></th>\n",
       "      <th>STATION</th>\n",
       "      <th>C/A</th>\n",
       "      <th>UNIT</th>\n",
       "      <th>SCP</th>\n",
       "      <th>DATE</th>\n",
       "      <th>ENTRIES</th>\n",
       "      <th>EXITS</th>\n",
       "      <th>D_ENTRIES</th>\n",
       "      <th>D_EXITS</th>\n",
       "    </tr>\n",
       "  </thead>\n",
       "  <tbody>\n",
       "    <tr>\n",
       "      <th>0</th>\n",
       "      <td>1 AV</td>\n",
       "      <td>H007</td>\n",
       "      <td>R248</td>\n",
       "      <td>00-00-00</td>\n",
       "      <td>2017-07-22</td>\n",
       "      <td>50181523</td>\n",
       "      <td>55500260</td>\n",
       "      <td>1941.0</td>\n",
       "      <td>3491.0</td>\n",
       "    </tr>\n",
       "    <tr>\n",
       "      <th>1</th>\n",
       "      <td>1 AV</td>\n",
       "      <td>H007</td>\n",
       "      <td>R248</td>\n",
       "      <td>00-00-00</td>\n",
       "      <td>2017-07-23</td>\n",
       "      <td>75284252</td>\n",
       "      <td>83272042</td>\n",
       "      <td>1864.0</td>\n",
       "      <td>3547.0</td>\n",
       "    </tr>\n",
       "    <tr>\n",
       "      <th>2</th>\n",
       "      <td>1 AV</td>\n",
       "      <td>H007</td>\n",
       "      <td>R248</td>\n",
       "      <td>00-00-00</td>\n",
       "      <td>2017-07-24</td>\n",
       "      <td>75298590</td>\n",
       "      <td>83294381</td>\n",
       "      <td>3346.0</td>\n",
       "      <td>4109.0</td>\n",
       "    </tr>\n",
       "    <tr>\n",
       "      <th>3</th>\n",
       "      <td>1 AV</td>\n",
       "      <td>H007</td>\n",
       "      <td>R248</td>\n",
       "      <td>00-00-00</td>\n",
       "      <td>2017-07-25</td>\n",
       "      <td>75320194</td>\n",
       "      <td>83319801</td>\n",
       "      <td>3788.0</td>\n",
       "      <td>4389.0</td>\n",
       "    </tr>\n",
       "    <tr>\n",
       "      <th>4</th>\n",
       "      <td>1 AV</td>\n",
       "      <td>H007</td>\n",
       "      <td>R248</td>\n",
       "      <td>00-00-00</td>\n",
       "      <td>2017-07-26</td>\n",
       "      <td>75343108</td>\n",
       "      <td>83345849</td>\n",
       "      <td>3859.0</td>\n",
       "      <td>4253.0</td>\n",
       "    </tr>\n",
       "  </tbody>\n",
       "</table>\n",
       "</div>"
      ],
      "text/plain": [
       "  STATION   C/A  UNIT       SCP       DATE   ENTRIES     EXITS  D_ENTRIES  \\\n",
       "0    1 AV  H007  R248  00-00-00 2017-07-22  50181523  55500260     1941.0   \n",
       "1    1 AV  H007  R248  00-00-00 2017-07-23  75284252  83272042     1864.0   \n",
       "2    1 AV  H007  R248  00-00-00 2017-07-24  75298590  83294381     3346.0   \n",
       "3    1 AV  H007  R248  00-00-00 2017-07-25  75320194  83319801     3788.0   \n",
       "4    1 AV  H007  R248  00-00-00 2017-07-26  75343108  83345849     3859.0   \n",
       "\n",
       "   D_EXITS  \n",
       "0   3491.0  \n",
       "1   3547.0  \n",
       "2   4109.0  \n",
       "3   4389.0  \n",
       "4   4253.0  "
      ]
     },
     "execution_count": 13,
     "metadata": {},
     "output_type": "execute_result"
    }
   ],
   "source": [
    "daily_df = all_turnstiles.groupby(['STATION','C/A','UNIT','SCP','DATE'], as_index=False).sum()\n",
    "daily_df.head()"
   ]
  },
  {
   "cell_type": "markdown",
   "metadata": {},
   "source": [
    "## Challenge 4\n",
    "\n",
    "We will plot the daily time series for a turnstile.\n",
    "\n",
    "In ipython notebook, add this to the beginning of your next cell:\n",
    "```\n",
    "%matplotlib inline\n",
    "```\n",
    "This will make your matplotlib graphs integrate nicely with the notebook. To plot the time series, import matplotlib with\n",
    "```\n",
    "import matplotlib.pyplot as plt\n",
    "```\n",
    "Take the list of [(date1, count1), (date2, count2), ...], for the turnstile and turn it into two lists: dates and counts. This should plot it:\n",
    "```\n",
    "plt.figure(figsize=(10,3))\n",
    "plt.plot(dates,counts)\n",
    "```"
   ]
  },
  {
   "cell_type": "code",
   "execution_count": 14,
   "metadata": {},
   "outputs": [
    {
     "data": {
      "image/png": "[encoded data removed]",
      "text/plain": [
       "<matplotlib.figure.Figure at 0x1188c05c0>"
      ]
     },
     "metadata": {},
     "output_type": "display_data"
    }
   ],
   "source": [
    "temp_df = filter_series(daily_df, station='TIMES SQ-42 ST', control_area='R148', unit='R033', device_address='01-00-01')\n",
    "plt.figure(figsize=(12,4))\n",
    "plt.plot(temp_df['DATE'].tolist(),temp_df['D_ENTRIES'].tolist());"
   ]
  },
  {
   "cell_type": "markdown",
   "metadata": {},
   "source": [
    "## Challenge 5\n",
    "\n",
    "We want to combine the numbers together -- for each ControlArea/UNIT/STATION combo, for each day, add the counts from each turnstile belonging to that combo."
   ]
  },
  {
   "cell_type": "code",
   "execution_count": 15,
   "metadata": {},
   "outputs": [
    {
     "data": {
      "text/html": [
       "<div>\n",
       "<style>\n",
       "    .dataframe thead tr:only-child th {\n",
       "        text-align: right;\n",
       "    }\n",
       "\n",
       "    .dataframe thead th {\n",
       "        text-align: left;\n",
       "    }\n",
       "\n",
       "    .dataframe tbody tr th {\n",
       "        vertical-align: top;\n",
       "    }\n",
       "</style>\n",
       "<table border=\"1\" class=\"dataframe\">\n",
       "  <thead>\n",
       "    <tr style=\"text-align: right;\">\n",
       "      <th></th>\n",
       "      <th>STATION</th>\n",
       "      <th>C/A</th>\n",
       "      <th>UNIT</th>\n",
       "      <th>DATE</th>\n",
       "      <th>D_ENTRIES</th>\n",
       "      <th>D_EXITS</th>\n",
       "    </tr>\n",
       "  </thead>\n",
       "  <tbody>\n",
       "    <tr>\n",
       "      <th>22490</th>\n",
       "      <td>CLASSON AV</td>\n",
       "      <td>N419</td>\n",
       "      <td>R287</td>\n",
       "      <td>2017-08-26</td>\n",
       "      <td>2593.0</td>\n",
       "      <td>2714.0</td>\n",
       "    </tr>\n",
       "    <tr>\n",
       "      <th>22419</th>\n",
       "      <td>CLARK ST</td>\n",
       "      <td>R600</td>\n",
       "      <td>R224</td>\n",
       "      <td>2017-08-11</td>\n",
       "      <td>5814.0</td>\n",
       "      <td>3349.0</td>\n",
       "    </tr>\n",
       "    <tr>\n",
       "      <th>30123</th>\n",
       "      <td>JKSN HT-ROOSVLT</td>\n",
       "      <td>N323</td>\n",
       "      <td>R018</td>\n",
       "      <td>2017-07-25</td>\n",
       "      <td>11351.0</td>\n",
       "      <td>9362.0</td>\n",
       "    </tr>\n",
       "    <tr>\n",
       "      <th>31386</th>\n",
       "      <td>LAFAYETTE AV</td>\n",
       "      <td>N110</td>\n",
       "      <td>R283</td>\n",
       "      <td>2017-08-25</td>\n",
       "      <td>4276.0</td>\n",
       "      <td>1950.0</td>\n",
       "    </tr>\n",
       "    <tr>\n",
       "      <th>4820</th>\n",
       "      <td>18 AV</td>\n",
       "      <td>D008</td>\n",
       "      <td>R392</td>\n",
       "      <td>2017-07-26</td>\n",
       "      <td>4393.0</td>\n",
       "      <td>4684.0</td>\n",
       "    </tr>\n",
       "  </tbody>\n",
       "</table>\n",
       "</div>"
      ],
      "text/plain": [
       "               STATION   C/A  UNIT       DATE  D_ENTRIES  D_EXITS\n",
       "22490       CLASSON AV  N419  R287 2017-08-26     2593.0   2714.0\n",
       "22419         CLARK ST  R600  R224 2017-08-11     5814.0   3349.0\n",
       "30123  JKSN HT-ROOSVLT  N323  R018 2017-07-25    11351.0   9362.0\n",
       "31386     LAFAYETTE AV  N110  R283 2017-08-25     4276.0   1950.0\n",
       "4820             18 AV  D008  R392 2017-07-26     4393.0   4684.0"
      ]
     },
     "execution_count": 15,
     "metadata": {},
     "output_type": "execute_result"
    }
   ],
   "source": [
    "# Group and drop columns no longer meaningful\n",
    "daily_unit_df = all_turnstiles.groupby(['STATION','C/A','UNIT','DATE'], as_index=False).sum().drop(['ENTRIES','EXITS'], axis=1)\n",
    "daily_unit_df.sample(5)"
   ]
  },
  {
   "cell_type": "markdown",
   "metadata": {
    "collapsed": true
   },
   "source": [
    "## Challenge 6\n",
    "\n",
    "Similarly, combine everything in each station, and come up with a time series of [(date1, count1),(date2,count2),...] type of time series for each STATION, by adding up all the turnstiles in a station."
   ]
  },
  {
   "cell_type": "code",
   "execution_count": 16,
   "metadata": {},
   "outputs": [
    {
     "data": {
      "text/html": [
       "<div>\n",
       "<style>\n",
       "    .dataframe thead tr:only-child th {\n",
       "        text-align: right;\n",
       "    }\n",
       "\n",
       "    .dataframe thead th {\n",
       "        text-align: left;\n",
       "    }\n",
       "\n",
       "    .dataframe tbody tr th {\n",
       "        vertical-align: top;\n",
       "    }\n",
       "</style>\n",
       "<table border=\"1\" class=\"dataframe\">\n",
       "  <thead>\n",
       "    <tr style=\"text-align: right;\">\n",
       "      <th></th>\n",
       "      <th>STATION</th>\n",
       "      <th>DATE</th>\n",
       "      <th>D_ENTRIES</th>\n",
       "      <th>D_EXITS</th>\n",
       "    </tr>\n",
       "  </thead>\n",
       "  <tbody>\n",
       "    <tr>\n",
       "      <th>17863</th>\n",
       "      <td>PRESIDENT ST</td>\n",
       "      <td>2017-07-25</td>\n",
       "      <td>3809.0</td>\n",
       "      <td>4048.0</td>\n",
       "    </tr>\n",
       "    <tr>\n",
       "      <th>7004</th>\n",
       "      <td>ATL AV-BARCLAY</td>\n",
       "      <td>2017-09-11</td>\n",
       "      <td>43024.0</td>\n",
       "      <td>40831.0</td>\n",
       "    </tr>\n",
       "    <tr>\n",
       "      <th>2133</th>\n",
       "      <td>2 AV</td>\n",
       "      <td>2017-07-27</td>\n",
       "      <td>17037.0</td>\n",
       "      <td>17131.0</td>\n",
       "    </tr>\n",
       "    <tr>\n",
       "      <th>17250</th>\n",
       "      <td>OZONE PK LEFFRT</td>\n",
       "      <td>2017-07-28</td>\n",
       "      <td>7726.0</td>\n",
       "      <td>6795.0</td>\n",
       "    </tr>\n",
       "    <tr>\n",
       "      <th>11660</th>\n",
       "      <td>ELDER AV</td>\n",
       "      <td>2017-07-27</td>\n",
       "      <td>6484.0</td>\n",
       "      <td>6152.0</td>\n",
       "    </tr>\n",
       "  </tbody>\n",
       "</table>\n",
       "</div>"
      ],
      "text/plain": [
       "               STATION       DATE  D_ENTRIES  D_EXITS\n",
       "17863     PRESIDENT ST 2017-07-25     3809.0   4048.0\n",
       "7004    ATL AV-BARCLAY 2017-09-11    43024.0  40831.0\n",
       "2133              2 AV 2017-07-27    17037.0  17131.0\n",
       "17250  OZONE PK LEFFRT 2017-07-28     7726.0   6795.0\n",
       "11660         ELDER AV 2017-07-27     6484.0   6152.0"
      ]
     },
     "execution_count": 16,
     "metadata": {},
     "output_type": "execute_result"
    }
   ],
   "source": [
    "# Group and drop columns no longer meaningful\n",
    "daily_station_df = (all_turnstiles.groupby(['STATION','DATE'], as_index=False)\n",
    "                    .sum()\n",
    "                    .drop(['ENTRIES','EXITS'], axis=1))\n",
    "daily_station_df.sample(5)"
   ]
  },
  {
   "cell_type": "markdown",
   "metadata": {},
   "source": [
    "## Challenge 7\n",
    "Plot time series for a station."
   ]
  },
  {
   "cell_type": "code",
   "execution_count": 17,
   "metadata": {},
   "outputs": [
    {
     "data": {
      "image/png": "[encoded data removed]",
      "text/plain": [
       "<matplotlib.figure.Figure at 0x118ee5278>"
      ]
     },
     "metadata": {},
     "output_type": "display_data"
    }
   ],
   "source": [
    "plot_df = (filter_series(all_turnstiles, station=['116 ST-COLUMBIA'])\n",
    "           .groupby(['STATION','DATE'], as_index=False)\n",
    "           .sum()\n",
    "           .drop(['ENTRIES','EXITS'], axis=1))\n",
    "plt.figure(figsize=(12,4))\n",
    "plt.plot(plot_df['DATE'].tolist(),plot_df['D_ENTRIES'].tolist());"
   ]
  },
  {
   "cell_type": "markdown",
   "metadata": {},
   "source": [
    "## Challenge 8\n",
    "\n",
    "Make one list of counts for one week for one station. Monday's count, Tuesday's count, etc. so it's a list of 7 counts. Make the same list for another week, and another week, and another week. plt.plot(week_count_list) for every week_count_list you created this way. You should get a rainbow plot of weekly commute numbers on top of each other."
   ]
  },
  {
   "cell_type": "code",
   "execution_count": 18,
   "metadata": {
    "collapsed": true
   },
   "outputs": [],
   "source": [
    "plot_df['DAY_OF_WEEK'] = plot_df['DATE'].apply(lambda x: datetime.weekday(x))"
   ]
  },
  {
   "cell_type": "code",
   "execution_count": 19,
   "metadata": {
    "collapsed": true
   },
   "outputs": [],
   "source": [
    "plot_df['WEEK_OF_YEAR'] = plot_df['DATE'].apply(lambda x: x.isocalendar()[1])"
   ]
  },
  {
   "cell_type": "code",
   "execution_count": 20,
   "metadata": {
    "collapsed": true
   },
   "outputs": [],
   "source": [
    "rainbow_groups = plot_df.groupby('WEEK_OF_YEAR', as_index=True)"
   ]
  },
  {
   "cell_type": "code",
   "execution_count": 21,
   "metadata": {},
   "outputs": [
    {
     "data": {
      "image/png": "[encoded data removed]",
      "text/plain": [
       "<matplotlib.figure.Figure at 0x118f78e80>"
      ]
     },
     "metadata": {},
     "output_type": "display_data"
    }
   ],
   "source": [
    "handle_list = []\n",
    "plt.figure(figsize=(12,4))\n",
    "for week, rainbow_group in rainbow_groups:\n",
    "    #only plot full weeks\n",
    "    if rainbow_group.shape[0] == 7:\n",
    "        datestr = datetime.strftime(rainbow_group['DATE'].iloc[0],'%m/%d/%Y')\n",
    "        handle, = plt.plot(rainbow_group['DAY_OF_WEEK'].tolist(), \n",
    "                  rainbow_group['D_ENTRIES'].tolist(), \n",
    "                  label='Week starting ' + datestr\n",
    "                          );\n",
    "        handle_list.append(handle)\n",
    "plt.legend(handles=handle_list);"
   ]
  },
  {
   "cell_type": "markdown",
   "metadata": {},
   "source": [
    "**TA COMMENT:**\n",
    "\n",
    "Good job on the plotting. Really clean way of plotting a multiseries line plot."
   ]
  },
  {
   "cell_type": "markdown",
   "metadata": {},
   "source": [
    "## Challenge 9\n",
    "\n",
    "Over multiple weeks, sum total ridership for each station and sort them, so you can find out the stations with the highest traffic during the time you investigate"
   ]
  },
  {
   "cell_type": "code",
   "execution_count": 22,
   "metadata": {},
   "outputs": [
    {
     "data": {
      "text/html": [
       "<div>\n",
       "<style>\n",
       "    .dataframe thead tr:only-child th {\n",
       "        text-align: right;\n",
       "    }\n",
       "\n",
       "    .dataframe thead th {\n",
       "        text-align: left;\n",
       "    }\n",
       "\n",
       "    .dataframe tbody tr th {\n",
       "        vertical-align: top;\n",
       "    }\n",
       "</style>\n",
       "<table border=\"1\" class=\"dataframe\">\n",
       "  <thead>\n",
       "    <tr style=\"text-align: right;\">\n",
       "      <th></th>\n",
       "      <th>STATION</th>\n",
       "      <th>D_ENTRIES</th>\n",
       "      <th>D_EXITS</th>\n",
       "    </tr>\n",
       "  </thead>\n",
       "  <tbody>\n",
       "    <tr>\n",
       "      <th>61</th>\n",
       "      <td>34 ST-PENN STA</td>\n",
       "      <td>7373058.0</td>\n",
       "      <td>6380639.0</td>\n",
       "    </tr>\n",
       "    <tr>\n",
       "      <th>232</th>\n",
       "      <td>GRD CNTRL-42 ST</td>\n",
       "      <td>6869565.0</td>\n",
       "      <td>6442006.0</td>\n",
       "    </tr>\n",
       "    <tr>\n",
       "      <th>59</th>\n",
       "      <td>34 ST-HERALD SQ</td>\n",
       "      <td>5945489.0</td>\n",
       "      <td>5322942.0</td>\n",
       "    </tr>\n",
       "    <tr>\n",
       "      <th>46</th>\n",
       "      <td>23 ST</td>\n",
       "      <td>5291854.0</td>\n",
       "      <td>3919629.0</td>\n",
       "    </tr>\n",
       "    <tr>\n",
       "      <th>14</th>\n",
       "      <td>14 ST-UNION SQ</td>\n",
       "      <td>5099716.0</td>\n",
       "      <td>4367453.0</td>\n",
       "    </tr>\n",
       "  </tbody>\n",
       "</table>\n",
       "</div>"
      ],
      "text/plain": [
       "             STATION  D_ENTRIES    D_EXITS\n",
       "61    34 ST-PENN STA  7373058.0  6380639.0\n",
       "232  GRD CNTRL-42 ST  6869565.0  6442006.0\n",
       "59   34 ST-HERALD SQ  5945489.0  5322942.0\n",
       "46             23 ST  5291854.0  3919629.0\n",
       "14    14 ST-UNION SQ  5099716.0  4367453.0"
      ]
     },
     "execution_count": 22,
     "metadata": {},
     "output_type": "execute_result"
    }
   ],
   "source": [
    "station_df = (all_turnstiles\n",
    "           .groupby(['STATION'], as_index=False)\n",
    "           .sum()\n",
    "           .drop(['ENTRIES','EXITS'], axis=1))\n",
    "station_df.sort_values('D_ENTRIES', ascending=False).head()"
   ]
  },
  {
   "cell_type": "markdown",
   "metadata": {},
   "source": [
    "## Challenge 10\n",
    "\n",
    "Make a single list of these total ridership values and plot it with\n",
    "\n",
    "plt.hist(total_ridership_counts)\n",
    "\n",
    "to get an idea about the distribution of total ridership among different stations."
   ]
  },
  {
   "cell_type": "code",
   "execution_count": 23,
   "metadata": {},
   "outputs": [
    {
     "data": {
      "image/png": "[encoded data removed]",
      "text/plain": [
       "<matplotlib.figure.Figure at 0x11906f630>"
      ]
     },
     "metadata": {},
     "output_type": "display_data"
    }
   ],
   "source": [
    "plt.figure(figsize=(12,4))\n",
    "plt.hist(station_df['D_ENTRIES'].tolist(), bins=40);"
   ]
  },
  {
   "cell_type": "code",
   "execution_count": null,
   "metadata": {
    "collapsed": true
   },
   "outputs": [],
   "source": []
  },
  {
   "cell_type": "code",
   "execution_count": null,
   "metadata": {
    "collapsed": true
   },
   "outputs": [],
   "source": []
  },
  {
   "cell_type": "markdown",
   "metadata": {},
   "source": [
    "**TA COMMENT:**\n",
    "\n",
    "Great job! Your coding is really advanced and your handle on pandas is great as well. I left comments throughout the notebook so take a look at those, but other than that I don't really have any suggestions on improving your code."
   ]
  }
 ],
 "metadata": {
  "anaconda-cloud": {},
  "kernelspec": {
   "display_name": "Python 3",
   "language": "python",
   "name": "python3"
  },
  "language_info": {
   "codemirror_mode": {
    "name": "ipython",
    "version": 3
   },
   "file_extension": ".py",
   "mimetype": "text/x-python",
   "name": "python",
   "nbconvert_exporter": "python",
   "pygments_lexer": "ipython3",
   "version": "3.5.2"
  }
 },
 "nbformat": 4,
 "nbformat_minor": 2
}
