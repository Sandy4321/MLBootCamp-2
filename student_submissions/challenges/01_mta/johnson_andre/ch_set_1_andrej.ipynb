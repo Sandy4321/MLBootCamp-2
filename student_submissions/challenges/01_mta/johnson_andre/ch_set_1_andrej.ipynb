{
 "cells": [
  {
   "cell_type": "markdown",
   "metadata": {},
   "source": [
    "# Challenge Set 1:  MTA Turnstile Data"
   ]
  },
  {
   "cell_type": "code",
   "execution_count": 5,
   "metadata": {
    "collapsed": true
   },
   "outputs": [],
   "source": [
    "from __future__ import print_function, division"
   ]
  },
  {
   "cell_type": "code",
   "execution_count": 6,
   "metadata": {
    "collapsed": true
   },
   "outputs": [],
   "source": [
    "import pandas as pd\n",
    "import numpy as np\n",
    "import matplotlib.pyplot as plt\n",
    "import seaborn as sns\n",
    "\n",
    "%matplotlib inline"
   ]
  },
  {
   "cell_type": "code",
   "execution_count": 7,
   "metadata": {
    "collapsed": true
   },
   "outputs": [],
   "source": [
    "import datetime"
   ]
  },
  {
   "cell_type": "markdown",
   "metadata": {},
   "source": [
    "#### Challenge 1"
   ]
  },
  {
   "cell_type": "code",
   "execution_count": 8,
   "metadata": {},
   "outputs": [],
   "source": [
    "# Source: http://web.mta.info/developers/turnstile.html\n",
    "def get_data(week_nums):\n",
    "    url = \"http://web.mta.info/developers/data/nyct/turnstile/turnstile_{}.txt\"\n",
    "    dfs = []\n",
    "    for week_num in week_nums:\n",
    "        file_url = url.format(week_num)\n",
    "        dfs.append(pd.read_csv(file_url))\n",
    "    return pd.concat(dfs)\n",
    "        \n",
    "week_nums = [160903, 160910, 160917]\n",
    "turnstiles_df = get_data(week_nums)"
   ]
  },
  {
   "cell_type": "code",
   "execution_count": 9,
   "metadata": {},
   "outputs": [
    {
     "data": {
      "text/html": [
       "<div>\n",
       "<table border=\"1\" class=\"dataframe\">\n",
       "  <thead>\n",
       "    <tr style=\"text-align: right;\">\n",
       "      <th></th>\n",
       "      <th>C/A</th>\n",
       "      <th>UNIT</th>\n",
       "      <th>SCP</th>\n",
       "      <th>STATION</th>\n",
       "      <th>LINENAME</th>\n",
       "      <th>DIVISION</th>\n",
       "      <th>DATE</th>\n",
       "      <th>TIME</th>\n",
       "      <th>DESC</th>\n",
       "      <th>ENTRIES</th>\n",
       "      <th>EXITS</th>\n",
       "    </tr>\n",
       "  </thead>\n",
       "  <tbody>\n",
       "    <tr>\n",
       "      <th>0</th>\n",
       "      <td>A002</td>\n",
       "      <td>R051</td>\n",
       "      <td>02-00-00</td>\n",
       "      <td>59 ST</td>\n",
       "      <td>NQR456</td>\n",
       "      <td>BMT</td>\n",
       "      <td>08/27/2016</td>\n",
       "      <td>00:00:00</td>\n",
       "      <td>REGULAR</td>\n",
       "      <td>5799442</td>\n",
       "      <td>1966041</td>\n",
       "    </tr>\n",
       "    <tr>\n",
       "      <th>1</th>\n",
       "      <td>A002</td>\n",
       "      <td>R051</td>\n",
       "      <td>02-00-00</td>\n",
       "      <td>59 ST</td>\n",
       "      <td>NQR456</td>\n",
       "      <td>BMT</td>\n",
       "      <td>08/27/2016</td>\n",
       "      <td>04:00:00</td>\n",
       "      <td>REGULAR</td>\n",
       "      <td>5799463</td>\n",
       "      <td>1966044</td>\n",
       "    </tr>\n",
       "    <tr>\n",
       "      <th>2</th>\n",
       "      <td>A002</td>\n",
       "      <td>R051</td>\n",
       "      <td>02-00-00</td>\n",
       "      <td>59 ST</td>\n",
       "      <td>NQR456</td>\n",
       "      <td>BMT</td>\n",
       "      <td>08/27/2016</td>\n",
       "      <td>08:00:00</td>\n",
       "      <td>REGULAR</td>\n",
       "      <td>5799492</td>\n",
       "      <td>1966079</td>\n",
       "    </tr>\n",
       "    <tr>\n",
       "      <th>3</th>\n",
       "      <td>A002</td>\n",
       "      <td>R051</td>\n",
       "      <td>02-00-00</td>\n",
       "      <td>59 ST</td>\n",
       "      <td>NQR456</td>\n",
       "      <td>BMT</td>\n",
       "      <td>08/27/2016</td>\n",
       "      <td>12:00:00</td>\n",
       "      <td>REGULAR</td>\n",
       "      <td>5799610</td>\n",
       "      <td>1966155</td>\n",
       "    </tr>\n",
       "    <tr>\n",
       "      <th>4</th>\n",
       "      <td>A002</td>\n",
       "      <td>R051</td>\n",
       "      <td>02-00-00</td>\n",
       "      <td>59 ST</td>\n",
       "      <td>NQR456</td>\n",
       "      <td>BMT</td>\n",
       "      <td>08/27/2016</td>\n",
       "      <td>16:00:00</td>\n",
       "      <td>REGULAR</td>\n",
       "      <td>5799833</td>\n",
       "      <td>1966214</td>\n",
       "    </tr>\n",
       "  </tbody>\n",
       "</table>\n",
       "</div>"
      ],
      "text/plain": [
       "    C/A  UNIT       SCP STATION LINENAME DIVISION        DATE      TIME  \\\n",
       "0  A002  R051  02-00-00   59 ST   NQR456      BMT  08/27/2016  00:00:00   \n",
       "1  A002  R051  02-00-00   59 ST   NQR456      BMT  08/27/2016  04:00:00   \n",
       "2  A002  R051  02-00-00   59 ST   NQR456      BMT  08/27/2016  08:00:00   \n",
       "3  A002  R051  02-00-00   59 ST   NQR456      BMT  08/27/2016  12:00:00   \n",
       "4  A002  R051  02-00-00   59 ST   NQR456      BMT  08/27/2016  16:00:00   \n",
       "\n",
       "      DESC  ENTRIES  \\\n",
       "0  REGULAR  5799442   \n",
       "1  REGULAR  5799463   \n",
       "2  REGULAR  5799492   \n",
       "3  REGULAR  5799610   \n",
       "4  REGULAR  5799833   \n",
       "\n",
       "   EXITS                                                                 \n",
       "0                                            1966041                     \n",
       "1                                            1966044                     \n",
       "2                                            1966079                     \n",
       "3                                            1966155                     \n",
       "4                                            1966214                     "
      ]
     },
     "execution_count": 9,
     "metadata": {},
     "output_type": "execute_result"
    }
   ],
   "source": [
    "turnstiles_df.head()"
   ]
  },
  {
   "cell_type": "code",
   "execution_count": 10,
   "metadata": {},
   "outputs": [
    {
     "data": {
      "text/plain": [
       "Index(['C/A', 'UNIT', 'SCP', 'STATION', 'LINENAME', 'DIVISION', 'DATE', 'TIME',\n",
       "       'DESC', 'ENTRIES',\n",
       "       'EXITS                                                               '],\n",
       "      dtype='object')"
      ]
     },
     "execution_count": 10,
     "metadata": {},
     "output_type": "execute_result"
    }
   ],
   "source": [
    "turnstiles_df.columns"
   ]
  },
  {
   "cell_type": "code",
   "execution_count": 11,
   "metadata": {},
   "outputs": [],
   "source": [
    "turnstiles_df.columns = [column.strip() for column in turnstiles_df.columns]"
   ]
  },
  {
   "cell_type": "code",
   "execution_count": 12,
   "metadata": {},
   "outputs": [
    {
     "data": {
      "text/plain": [
       "Index(['C/A', 'UNIT', 'SCP', 'STATION', 'LINENAME', 'DIVISION', 'DATE', 'TIME',\n",
       "       'DESC', 'ENTRIES', 'EXITS'],\n",
       "      dtype='object')"
      ]
     },
     "execution_count": 12,
     "metadata": {},
     "output_type": "execute_result"
    }
   ],
   "source": [
    "turnstiles_df.columns"
   ]
  },
  {
   "cell_type": "code",
   "execution_count": 13,
   "metadata": {},
   "outputs": [
    {
     "data": {
      "text/html": [
       "<div>\n",
       "<table border=\"1\" class=\"dataframe\">\n",
       "  <thead>\n",
       "    <tr style=\"text-align: right;\">\n",
       "      <th></th>\n",
       "      <th>C/A</th>\n",
       "      <th>UNIT</th>\n",
       "      <th>SCP</th>\n",
       "      <th>STATION</th>\n",
       "      <th>LINENAME</th>\n",
       "      <th>DIVISION</th>\n",
       "      <th>DATE</th>\n",
       "      <th>TIME</th>\n",
       "      <th>DESC</th>\n",
       "      <th>ENTRIES</th>\n",
       "      <th>EXITS</th>\n",
       "    </tr>\n",
       "  </thead>\n",
       "  <tbody>\n",
       "    <tr>\n",
       "      <th>0</th>\n",
       "      <td>A002</td>\n",
       "      <td>R051</td>\n",
       "      <td>02-00-00</td>\n",
       "      <td>59 ST</td>\n",
       "      <td>NQR456</td>\n",
       "      <td>BMT</td>\n",
       "      <td>08/27/2016</td>\n",
       "      <td>00:00:00</td>\n",
       "      <td>REGULAR</td>\n",
       "      <td>5799442</td>\n",
       "      <td>1966041</td>\n",
       "    </tr>\n",
       "    <tr>\n",
       "      <th>1</th>\n",
       "      <td>A002</td>\n",
       "      <td>R051</td>\n",
       "      <td>02-00-00</td>\n",
       "      <td>59 ST</td>\n",
       "      <td>NQR456</td>\n",
       "      <td>BMT</td>\n",
       "      <td>08/27/2016</td>\n",
       "      <td>04:00:00</td>\n",
       "      <td>REGULAR</td>\n",
       "      <td>5799463</td>\n",
       "      <td>1966044</td>\n",
       "    </tr>\n",
       "    <tr>\n",
       "      <th>2</th>\n",
       "      <td>A002</td>\n",
       "      <td>R051</td>\n",
       "      <td>02-00-00</td>\n",
       "      <td>59 ST</td>\n",
       "      <td>NQR456</td>\n",
       "      <td>BMT</td>\n",
       "      <td>08/27/2016</td>\n",
       "      <td>08:00:00</td>\n",
       "      <td>REGULAR</td>\n",
       "      <td>5799492</td>\n",
       "      <td>1966079</td>\n",
       "    </tr>\n",
       "    <tr>\n",
       "      <th>3</th>\n",
       "      <td>A002</td>\n",
       "      <td>R051</td>\n",
       "      <td>02-00-00</td>\n",
       "      <td>59 ST</td>\n",
       "      <td>NQR456</td>\n",
       "      <td>BMT</td>\n",
       "      <td>08/27/2016</td>\n",
       "      <td>12:00:00</td>\n",
       "      <td>REGULAR</td>\n",
       "      <td>5799610</td>\n",
       "      <td>1966155</td>\n",
       "    </tr>\n",
       "    <tr>\n",
       "      <th>4</th>\n",
       "      <td>A002</td>\n",
       "      <td>R051</td>\n",
       "      <td>02-00-00</td>\n",
       "      <td>59 ST</td>\n",
       "      <td>NQR456</td>\n",
       "      <td>BMT</td>\n",
       "      <td>08/27/2016</td>\n",
       "      <td>16:00:00</td>\n",
       "      <td>REGULAR</td>\n",
       "      <td>5799833</td>\n",
       "      <td>1966214</td>\n",
       "    </tr>\n",
       "  </tbody>\n",
       "</table>\n",
       "</div>"
      ],
      "text/plain": [
       "    C/A  UNIT       SCP STATION LINENAME DIVISION        DATE      TIME  \\\n",
       "0  A002  R051  02-00-00   59 ST   NQR456      BMT  08/27/2016  00:00:00   \n",
       "1  A002  R051  02-00-00   59 ST   NQR456      BMT  08/27/2016  04:00:00   \n",
       "2  A002  R051  02-00-00   59 ST   NQR456      BMT  08/27/2016  08:00:00   \n",
       "3  A002  R051  02-00-00   59 ST   NQR456      BMT  08/27/2016  12:00:00   \n",
       "4  A002  R051  02-00-00   59 ST   NQR456      BMT  08/27/2016  16:00:00   \n",
       "\n",
       "      DESC  ENTRIES    EXITS  \n",
       "0  REGULAR  5799442  1966041  \n",
       "1  REGULAR  5799463  1966044  \n",
       "2  REGULAR  5799492  1966079  \n",
       "3  REGULAR  5799610  1966155  \n",
       "4  REGULAR  5799833  1966214  "
      ]
     },
     "execution_count": 13,
     "metadata": {},
     "output_type": "execute_result"
    }
   ],
   "source": [
    "turnstiles_df.head()"
   ]
  },
  {
   "cell_type": "code",
   "execution_count": 14,
   "metadata": {},
   "outputs": [
    {
     "data": {
      "text/html": [
       "<div>\n",
       "<table border=\"1\" class=\"dataframe\">\n",
       "  <thead>\n",
       "    <tr style=\"text-align: right;\">\n",
       "      <th></th>\n",
       "      <th>C/A</th>\n",
       "      <th>UNIT</th>\n",
       "      <th>SCP</th>\n",
       "      <th>STATION</th>\n",
       "      <th>LINENAME</th>\n",
       "      <th>DIVISION</th>\n",
       "      <th>DATE</th>\n",
       "      <th>TIME</th>\n",
       "      <th>DESC</th>\n",
       "      <th>ENTRIES</th>\n",
       "      <th>EXITS</th>\n",
       "    </tr>\n",
       "  </thead>\n",
       "  <tbody>\n",
       "    <tr>\n",
       "      <th>192873</th>\n",
       "      <td>TRAM2</td>\n",
       "      <td>R469</td>\n",
       "      <td>00-05-01</td>\n",
       "      <td>RIT-ROOSEVELT</td>\n",
       "      <td>R</td>\n",
       "      <td>RIT</td>\n",
       "      <td>09/16/2016</td>\n",
       "      <td>05:00:00</td>\n",
       "      <td>REGULAR</td>\n",
       "      <td>5554</td>\n",
       "      <td>271</td>\n",
       "    </tr>\n",
       "    <tr>\n",
       "      <th>192874</th>\n",
       "      <td>TRAM2</td>\n",
       "      <td>R469</td>\n",
       "      <td>00-05-01</td>\n",
       "      <td>RIT-ROOSEVELT</td>\n",
       "      <td>R</td>\n",
       "      <td>RIT</td>\n",
       "      <td>09/16/2016</td>\n",
       "      <td>09:00:00</td>\n",
       "      <td>REGULAR</td>\n",
       "      <td>5554</td>\n",
       "      <td>271</td>\n",
       "    </tr>\n",
       "    <tr>\n",
       "      <th>192875</th>\n",
       "      <td>TRAM2</td>\n",
       "      <td>R469</td>\n",
       "      <td>00-05-01</td>\n",
       "      <td>RIT-ROOSEVELT</td>\n",
       "      <td>R</td>\n",
       "      <td>RIT</td>\n",
       "      <td>09/16/2016</td>\n",
       "      <td>13:00:00</td>\n",
       "      <td>REGULAR</td>\n",
       "      <td>5554</td>\n",
       "      <td>271</td>\n",
       "    </tr>\n",
       "    <tr>\n",
       "      <th>192876</th>\n",
       "      <td>TRAM2</td>\n",
       "      <td>R469</td>\n",
       "      <td>00-05-01</td>\n",
       "      <td>RIT-ROOSEVELT</td>\n",
       "      <td>R</td>\n",
       "      <td>RIT</td>\n",
       "      <td>09/16/2016</td>\n",
       "      <td>17:00:00</td>\n",
       "      <td>REGULAR</td>\n",
       "      <td>5554</td>\n",
       "      <td>271</td>\n",
       "    </tr>\n",
       "    <tr>\n",
       "      <th>192877</th>\n",
       "      <td>TRAM2</td>\n",
       "      <td>R469</td>\n",
       "      <td>00-05-01</td>\n",
       "      <td>RIT-ROOSEVELT</td>\n",
       "      <td>R</td>\n",
       "      <td>RIT</td>\n",
       "      <td>09/16/2016</td>\n",
       "      <td>21:00:00</td>\n",
       "      <td>REGULAR</td>\n",
       "      <td>5554</td>\n",
       "      <td>271</td>\n",
       "    </tr>\n",
       "  </tbody>\n",
       "</table>\n",
       "</div>"
      ],
      "text/plain": [
       "          C/A  UNIT       SCP        STATION LINENAME DIVISION        DATE  \\\n",
       "192873  TRAM2  R469  00-05-01  RIT-ROOSEVELT        R      RIT  09/16/2016   \n",
       "192874  TRAM2  R469  00-05-01  RIT-ROOSEVELT        R      RIT  09/16/2016   \n",
       "192875  TRAM2  R469  00-05-01  RIT-ROOSEVELT        R      RIT  09/16/2016   \n",
       "192876  TRAM2  R469  00-05-01  RIT-ROOSEVELT        R      RIT  09/16/2016   \n",
       "192877  TRAM2  R469  00-05-01  RIT-ROOSEVELT        R      RIT  09/16/2016   \n",
       "\n",
       "            TIME     DESC  ENTRIES  EXITS  \n",
       "192873  05:00:00  REGULAR     5554    271  \n",
       "192874  09:00:00  REGULAR     5554    271  \n",
       "192875  13:00:00  REGULAR     5554    271  \n",
       "192876  17:00:00  REGULAR     5554    271  \n",
       "192877  21:00:00  REGULAR     5554    271  "
      ]
     },
     "execution_count": 14,
     "metadata": {},
     "output_type": "execute_result"
    }
   ],
   "source": [
    "turnstiles_df.tail()"
   ]
  },
  {
   "cell_type": "code",
   "execution_count": 15,
   "metadata": {},
   "outputs": [
    {
     "data": {
      "text/plain": [
       "08/27/2016    27290\n",
       "08/28/2016    27300\n",
       "08/29/2016    27828\n",
       "08/30/2016    27775\n",
       "08/31/2016    27352\n",
       "09/01/2016    28116\n",
       "09/02/2016    27478\n",
       "09/03/2016    27353\n",
       "09/04/2016    27304\n",
       "09/05/2016    27325\n",
       "09/06/2016    28826\n",
       "09/07/2016    27977\n",
       "09/08/2016    28137\n",
       "09/09/2016    27956\n",
       "09/10/2016    27325\n",
       "09/11/2016    27334\n",
       "09/12/2016    28074\n",
       "09/13/2016    27343\n",
       "09/14/2016    27359\n",
       "09/15/2016    27283\n",
       "09/16/2016    28160\n",
       "Name: DATE, dtype: int64"
      ]
     },
     "execution_count": 15,
     "metadata": {},
     "output_type": "execute_result"
    }
   ],
   "source": [
    "# Three weeks of Data\n",
    "turnstiles_df.DATE.value_counts().sort_index()"
   ]
  },
  {
   "cell_type": "markdown",
   "metadata": {},
   "source": [
    "### Andre's Original Functions for Challenge 1"
   ]
  },
  {
   "cell_type": "code",
   "execution_count": 16,
   "metadata": {
    "collapsed": true
   },
   "outputs": [],
   "source": [
    "# sept162017 = pd.read_csv(\"turnstile_170916.txt\")\n",
    "# sept92017 = pd.read_csv(\"turnstile_170909.txt\")\n",
    "# sept22017 = pd.read_csv(\"turnstile_170902.txt\")\n",
    "# aug262017 = pd.read_csv(\"turnstile_170826.txt\")\n",
    "\n",
    "# aug26_sept16 = pd.concat([sept162017, sept92017, sept22017, aug262017])\n",
    "# aug26_sept16['DATETIME'] = aug26_sept16['DATE'] + \" \" + aug26_sept16['TIME']\n",
    "\n",
    "# aug26_sept16['DATETIME'] = pd.to_datetime(aug26_sept16['DATETIME'], format=\"%m/%d/%Y %H:%M:%S\")\n",
    "\n",
    "# aug26_sept16['LOCATION'] = tuple((zip(aug26_sept16['C/A'], aug26_sept16.UNIT, aug26_sept16.SCP, aug26_sept16.STATION)))\n",
    "\n",
    "# d = defaultdict(list)\n",
    "# for i, location in enumerate(aug26_sept16.LOCATION):\n",
    "#     d[location].append(list(aug26_sept16.iloc[i, pd.np.r_[4:6, 8:11, 12]]))\n",
    "    "
   ]
  },
  {
   "cell_type": "markdown",
   "metadata": {},
   "source": [
    "\n",
    "#### Challenge 2"
   ]
  },
  {
   "cell_type": "code",
   "execution_count": 17,
   "metadata": {},
   "outputs": [
    {
     "data": {
      "text/plain": [
       "Index(['C/A', 'UNIT', 'SCP', 'STATION', 'LINENAME', 'DIVISION', 'DATE', 'TIME',\n",
       "       'DESC', 'ENTRIES', 'EXITS'],\n",
       "      dtype='object')"
      ]
     },
     "execution_count": 17,
     "metadata": {},
     "output_type": "execute_result"
    }
   ],
   "source": [
    "turnstiles_df.columns"
   ]
  },
  {
   "cell_type": "code",
   "execution_count": 18,
   "metadata": {
    "collapsed": true
   },
   "outputs": [],
   "source": [
    "from datetime import datetime as dt"
   ]
  },
  {
   "cell_type": "code",
   "execution_count": 19,
   "metadata": {},
   "outputs": [
    {
     "data": {
      "text/html": [
       "<div>\n",
       "<table border=\"1\" class=\"dataframe\">\n",
       "  <thead>\n",
       "    <tr style=\"text-align: right;\">\n",
       "      <th></th>\n",
       "      <th>C/A</th>\n",
       "      <th>UNIT</th>\n",
       "      <th>SCP</th>\n",
       "      <th>STATION</th>\n",
       "      <th>LINENAME</th>\n",
       "      <th>DIVISION</th>\n",
       "      <th>DATE</th>\n",
       "      <th>TIME</th>\n",
       "      <th>DESC</th>\n",
       "      <th>ENTRIES</th>\n",
       "      <th>EXITS</th>\n",
       "    </tr>\n",
       "  </thead>\n",
       "  <tbody>\n",
       "    <tr>\n",
       "      <th>0</th>\n",
       "      <td>A002</td>\n",
       "      <td>R051</td>\n",
       "      <td>02-00-00</td>\n",
       "      <td>59 ST</td>\n",
       "      <td>NQR456</td>\n",
       "      <td>BMT</td>\n",
       "      <td>08/27/2016</td>\n",
       "      <td>00:00:00</td>\n",
       "      <td>REGULAR</td>\n",
       "      <td>5799442</td>\n",
       "      <td>1966041</td>\n",
       "    </tr>\n",
       "    <tr>\n",
       "      <th>1</th>\n",
       "      <td>A002</td>\n",
       "      <td>R051</td>\n",
       "      <td>02-00-00</td>\n",
       "      <td>59 ST</td>\n",
       "      <td>NQR456</td>\n",
       "      <td>BMT</td>\n",
       "      <td>08/27/2016</td>\n",
       "      <td>04:00:00</td>\n",
       "      <td>REGULAR</td>\n",
       "      <td>5799463</td>\n",
       "      <td>1966044</td>\n",
       "    </tr>\n",
       "    <tr>\n",
       "      <th>2</th>\n",
       "      <td>A002</td>\n",
       "      <td>R051</td>\n",
       "      <td>02-00-00</td>\n",
       "      <td>59 ST</td>\n",
       "      <td>NQR456</td>\n",
       "      <td>BMT</td>\n",
       "      <td>08/27/2016</td>\n",
       "      <td>08:00:00</td>\n",
       "      <td>REGULAR</td>\n",
       "      <td>5799492</td>\n",
       "      <td>1966079</td>\n",
       "    </tr>\n",
       "    <tr>\n",
       "      <th>3</th>\n",
       "      <td>A002</td>\n",
       "      <td>R051</td>\n",
       "      <td>02-00-00</td>\n",
       "      <td>59 ST</td>\n",
       "      <td>NQR456</td>\n",
       "      <td>BMT</td>\n",
       "      <td>08/27/2016</td>\n",
       "      <td>12:00:00</td>\n",
       "      <td>REGULAR</td>\n",
       "      <td>5799610</td>\n",
       "      <td>1966155</td>\n",
       "    </tr>\n",
       "    <tr>\n",
       "      <th>4</th>\n",
       "      <td>A002</td>\n",
       "      <td>R051</td>\n",
       "      <td>02-00-00</td>\n",
       "      <td>59 ST</td>\n",
       "      <td>NQR456</td>\n",
       "      <td>BMT</td>\n",
       "      <td>08/27/2016</td>\n",
       "      <td>16:00:00</td>\n",
       "      <td>REGULAR</td>\n",
       "      <td>5799833</td>\n",
       "      <td>1966214</td>\n",
       "    </tr>\n",
       "  </tbody>\n",
       "</table>\n",
       "</div>"
      ],
      "text/plain": [
       "    C/A  UNIT       SCP STATION LINENAME DIVISION        DATE      TIME  \\\n",
       "0  A002  R051  02-00-00   59 ST   NQR456      BMT  08/27/2016  00:00:00   \n",
       "1  A002  R051  02-00-00   59 ST   NQR456      BMT  08/27/2016  04:00:00   \n",
       "2  A002  R051  02-00-00   59 ST   NQR456      BMT  08/27/2016  08:00:00   \n",
       "3  A002  R051  02-00-00   59 ST   NQR456      BMT  08/27/2016  12:00:00   \n",
       "4  A002  R051  02-00-00   59 ST   NQR456      BMT  08/27/2016  16:00:00   \n",
       "\n",
       "      DESC  ENTRIES    EXITS  \n",
       "0  REGULAR  5799442  1966041  \n",
       "1  REGULAR  5799463  1966044  \n",
       "2  REGULAR  5799492  1966079  \n",
       "3  REGULAR  5799610  1966155  \n",
       "4  REGULAR  5799833  1966214  "
      ]
     },
     "execution_count": 19,
     "metadata": {},
     "output_type": "execute_result"
    }
   ],
   "source": [
    "mask = ((turnstiles_df[\"C/A\"] == \"A002\") & \n",
    "        (turnstiles_df[\"UNIT\"] == \"R051\") & \n",
    "        (turnstiles_df[\"SCP\"] == \"02-00-00\") & \n",
    "        (turnstiles_df[\"STATION\"] == \"59 ST\"))\n",
    "turnstiles_df[mask].head()"
   ]
  },
  {
   "cell_type": "code",
   "execution_count": 20,
   "metadata": {},
   "outputs": [],
   "source": [
    "# Take the date and time fields into a single datetime column\n",
    "turnstiles_df[\"DATE_TIME\"] = pd.to_datetime(turnstiles_df.DATE + \" \" + turnstiles_df.TIME, format=\"%m/%d/%Y %H:%M:%S\")"
   ]
  },
  {
   "cell_type": "code",
   "execution_count": 21,
   "metadata": {},
   "outputs": [
    {
     "data": {
      "text/html": [
       "<div>\n",
       "<table border=\"1\" class=\"dataframe\">\n",
       "  <thead>\n",
       "    <tr style=\"text-align: right;\">\n",
       "      <th></th>\n",
       "      <th>C/A</th>\n",
       "      <th>UNIT</th>\n",
       "      <th>SCP</th>\n",
       "      <th>STATION</th>\n",
       "      <th>LINENAME</th>\n",
       "      <th>DIVISION</th>\n",
       "      <th>DATE</th>\n",
       "      <th>TIME</th>\n",
       "      <th>DESC</th>\n",
       "      <th>ENTRIES</th>\n",
       "      <th>EXITS</th>\n",
       "      <th>DATE_TIME</th>\n",
       "    </tr>\n",
       "  </thead>\n",
       "  <tbody>\n",
       "    <tr>\n",
       "      <th>186607</th>\n",
       "      <td>R626</td>\n",
       "      <td>R062</td>\n",
       "      <td>00-00-00</td>\n",
       "      <td>CROWN HTS-UTICA</td>\n",
       "      <td>34</td>\n",
       "      <td>IRT</td>\n",
       "      <td>08/27/2016</td>\n",
       "      <td>00:00:00</td>\n",
       "      <td>REGULAR</td>\n",
       "      <td>12079591</td>\n",
       "      <td>2684445</td>\n",
       "      <td>2016-08-27 00:00:00</td>\n",
       "    </tr>\n",
       "    <tr>\n",
       "      <th>186608</th>\n",
       "      <td>R626</td>\n",
       "      <td>R062</td>\n",
       "      <td>00-00-00</td>\n",
       "      <td>CROWN HTS-UTICA</td>\n",
       "      <td>34</td>\n",
       "      <td>IRT</td>\n",
       "      <td>08/27/2016</td>\n",
       "      <td>04:00:00</td>\n",
       "      <td>REGULAR</td>\n",
       "      <td>12079636</td>\n",
       "      <td>2684479</td>\n",
       "      <td>2016-08-27 04:00:00</td>\n",
       "    </tr>\n",
       "    <tr>\n",
       "      <th>186609</th>\n",
       "      <td>R626</td>\n",
       "      <td>R062</td>\n",
       "      <td>00-00-00</td>\n",
       "      <td>CROWN HTS-UTICA</td>\n",
       "      <td>34</td>\n",
       "      <td>IRT</td>\n",
       "      <td>08/27/2016</td>\n",
       "      <td>08:00:00</td>\n",
       "      <td>REGULAR</td>\n",
       "      <td>12079894</td>\n",
       "      <td>2684489</td>\n",
       "      <td>2016-08-27 08:00:00</td>\n",
       "    </tr>\n",
       "    <tr>\n",
       "      <th>186610</th>\n",
       "      <td>R626</td>\n",
       "      <td>R062</td>\n",
       "      <td>00-00-00</td>\n",
       "      <td>CROWN HTS-UTICA</td>\n",
       "      <td>34</td>\n",
       "      <td>IRT</td>\n",
       "      <td>08/27/2016</td>\n",
       "      <td>12:00:00</td>\n",
       "      <td>REGULAR</td>\n",
       "      <td>12080369</td>\n",
       "      <td>2684533</td>\n",
       "      <td>2016-08-27 12:00:00</td>\n",
       "    </tr>\n",
       "    <tr>\n",
       "      <th>186611</th>\n",
       "      <td>R626</td>\n",
       "      <td>R062</td>\n",
       "      <td>00-00-00</td>\n",
       "      <td>CROWN HTS-UTICA</td>\n",
       "      <td>34</td>\n",
       "      <td>IRT</td>\n",
       "      <td>08/27/2016</td>\n",
       "      <td>16:00:00</td>\n",
       "      <td>REGULAR</td>\n",
       "      <td>12080831</td>\n",
       "      <td>2684606</td>\n",
       "      <td>2016-08-27 16:00:00</td>\n",
       "    </tr>\n",
       "  </tbody>\n",
       "</table>\n",
       "</div>"
      ],
      "text/plain": [
       "         C/A  UNIT       SCP          STATION LINENAME DIVISION        DATE  \\\n",
       "186607  R626  R062  00-00-00  CROWN HTS-UTICA       34      IRT  08/27/2016   \n",
       "186608  R626  R062  00-00-00  CROWN HTS-UTICA       34      IRT  08/27/2016   \n",
       "186609  R626  R062  00-00-00  CROWN HTS-UTICA       34      IRT  08/27/2016   \n",
       "186610  R626  R062  00-00-00  CROWN HTS-UTICA       34      IRT  08/27/2016   \n",
       "186611  R626  R062  00-00-00  CROWN HTS-UTICA       34      IRT  08/27/2016   \n",
       "\n",
       "            TIME     DESC   ENTRIES    EXITS           DATE_TIME  \n",
       "186607  00:00:00  REGULAR  12079591  2684445 2016-08-27 00:00:00  \n",
       "186608  04:00:00  REGULAR  12079636  2684479 2016-08-27 04:00:00  \n",
       "186609  08:00:00  REGULAR  12079894  2684489 2016-08-27 08:00:00  \n",
       "186610  12:00:00  REGULAR  12080369  2684533 2016-08-27 12:00:00  \n",
       "186611  16:00:00  REGULAR  12080831  2684606 2016-08-27 16:00:00  "
      ]
     },
     "execution_count": 21,
     "metadata": {},
     "output_type": "execute_result"
    }
   ],
   "source": [
    "mask = ((turnstiles_df[\"C/A\"] == \"R626\") & \n",
    "(turnstiles_df[\"UNIT\"] == \"R062\") & \n",
    "(turnstiles_df[\"SCP\"] == \"00-00-00\") & \n",
    "(turnstiles_df[\"STATION\"] == \"CROWN HTS-UTICA\"))\n",
    "turnstiles_df[mask].head()"
   ]
  },
  {
   "cell_type": "code",
   "execution_count": 22,
   "metadata": {},
   "outputs": [
    {
     "data": {
      "text/html": [
       "<div>\n",
       "<table border=\"1\" class=\"dataframe\">\n",
       "  <thead>\n",
       "    <tr style=\"text-align: right;\">\n",
       "      <th></th>\n",
       "      <th>C/A</th>\n",
       "      <th>UNIT</th>\n",
       "      <th>SCP</th>\n",
       "      <th>STATION</th>\n",
       "      <th>DATE_TIME</th>\n",
       "      <th>ENTRIES</th>\n",
       "    </tr>\n",
       "  </thead>\n",
       "  <tbody>\n",
       "    <tr>\n",
       "      <th>513722</th>\n",
       "      <td>R504</td>\n",
       "      <td>R276</td>\n",
       "      <td>00-00-01</td>\n",
       "      <td>VERNON-JACKSON</td>\n",
       "      <td>2016-09-16 08:00:00</td>\n",
       "      <td>2</td>\n",
       "    </tr>\n",
       "    <tr>\n",
       "      <th>0</th>\n",
       "      <td>A002</td>\n",
       "      <td>R051</td>\n",
       "      <td>02-00-00</td>\n",
       "      <td>59 ST</td>\n",
       "      <td>2016-08-27 00:00:00</td>\n",
       "      <td>1</td>\n",
       "    </tr>\n",
       "    <tr>\n",
       "      <th>387264</th>\n",
       "      <td>R155</td>\n",
       "      <td>R116</td>\n",
       "      <td>01-00-03</td>\n",
       "      <td>50 ST</td>\n",
       "      <td>2016-09-15 20:00:00</td>\n",
       "      <td>1</td>\n",
       "    </tr>\n",
       "    <tr>\n",
       "      <th>387259</th>\n",
       "      <td>R155</td>\n",
       "      <td>R116</td>\n",
       "      <td>01-00-03</td>\n",
       "      <td>50 ST</td>\n",
       "      <td>2016-09-15 00:00:00</td>\n",
       "      <td>1</td>\n",
       "    </tr>\n",
       "    <tr>\n",
       "      <th>387260</th>\n",
       "      <td>R155</td>\n",
       "      <td>R116</td>\n",
       "      <td>01-00-03</td>\n",
       "      <td>50 ST</td>\n",
       "      <td>2016-09-15 04:00:00</td>\n",
       "      <td>1</td>\n",
       "    </tr>\n",
       "  </tbody>\n",
       "</table>\n",
       "</div>"
      ],
      "text/plain": [
       "         C/A  UNIT       SCP         STATION           DATE_TIME  ENTRIES\n",
       "513722  R504  R276  00-00-01  VERNON-JACKSON 2016-09-16 08:00:00        2\n",
       "0       A002  R051  02-00-00           59 ST 2016-08-27 00:00:00        1\n",
       "387264  R155  R116  01-00-03           50 ST 2016-09-15 20:00:00        1\n",
       "387259  R155  R116  01-00-03           50 ST 2016-09-15 00:00:00        1\n",
       "387260  R155  R116  01-00-03           50 ST 2016-09-15 04:00:00        1"
      ]
     },
     "execution_count": 22,
     "metadata": {},
     "output_type": "execute_result"
    }
   ],
   "source": [
    "# Sanity Check to verify that \"C/A\", \"UNIT\", \"SCP\", \"STATION\", \"DATE_TIME\" is unique\n",
    "(turnstiles_df\n",
    " .groupby([\"C/A\", \"UNIT\", \"SCP\", \"STATION\", \"DATE_TIME\"])\n",
    " .ENTRIES.count()\n",
    " .reset_index()\n",
    " .sort_values(\"ENTRIES\", ascending=False)).head(5)"
   ]
  },
  {
   "cell_type": "code",
   "execution_count": 23,
   "metadata": {},
   "outputs": [
    {
     "data": {
      "text/html": [
       "<div>\n",
       "<table border=\"1\" class=\"dataframe\">\n",
       "  <thead>\n",
       "    <tr style=\"text-align: right;\">\n",
       "      <th></th>\n",
       "      <th>C/A</th>\n",
       "      <th>UNIT</th>\n",
       "      <th>SCP</th>\n",
       "      <th>STATION</th>\n",
       "      <th>LINENAME</th>\n",
       "      <th>DIVISION</th>\n",
       "      <th>DATE</th>\n",
       "      <th>TIME</th>\n",
       "      <th>DESC</th>\n",
       "      <th>ENTRIES</th>\n",
       "      <th>EXITS</th>\n",
       "      <th>DATE_TIME</th>\n",
       "    </tr>\n",
       "  </thead>\n",
       "  <tbody>\n",
       "    <tr>\n",
       "      <th>170562</th>\n",
       "      <td>R504</td>\n",
       "      <td>R276</td>\n",
       "      <td>00-00-01</td>\n",
       "      <td>VERNON-JACKSON</td>\n",
       "      <td>7</td>\n",
       "      <td>IRT</td>\n",
       "      <td>09/16/2016</td>\n",
       "      <td>00:00:00</td>\n",
       "      <td>REGULAR</td>\n",
       "      <td>8137913</td>\n",
       "      <td>1333972</td>\n",
       "      <td>2016-09-16 00:00:00</td>\n",
       "    </tr>\n",
       "    <tr>\n",
       "      <th>170563</th>\n",
       "      <td>R504</td>\n",
       "      <td>R276</td>\n",
       "      <td>00-00-01</td>\n",
       "      <td>VERNON-JACKSON</td>\n",
       "      <td>7</td>\n",
       "      <td>IRT</td>\n",
       "      <td>09/16/2016</td>\n",
       "      <td>04:00:00</td>\n",
       "      <td>REGULAR</td>\n",
       "      <td>8137913</td>\n",
       "      <td>1333975</td>\n",
       "      <td>2016-09-16 04:00:00</td>\n",
       "    </tr>\n",
       "    <tr>\n",
       "      <th>170564</th>\n",
       "      <td>R504</td>\n",
       "      <td>R276</td>\n",
       "      <td>00-00-01</td>\n",
       "      <td>VERNON-JACKSON</td>\n",
       "      <td>7</td>\n",
       "      <td>IRT</td>\n",
       "      <td>09/16/2016</td>\n",
       "      <td>08:00:00</td>\n",
       "      <td>REGULAR</td>\n",
       "      <td>8138271</td>\n",
       "      <td>1334066</td>\n",
       "      <td>2016-09-16 08:00:00</td>\n",
       "    </tr>\n",
       "    <tr>\n",
       "      <th>170565</th>\n",
       "      <td>R504</td>\n",
       "      <td>R276</td>\n",
       "      <td>00-00-01</td>\n",
       "      <td>VERNON-JACKSON</td>\n",
       "      <td>7</td>\n",
       "      <td>IRT</td>\n",
       "      <td>09/16/2016</td>\n",
       "      <td>08:00:00</td>\n",
       "      <td>RECOVR AUD</td>\n",
       "      <td>8138271</td>\n",
       "      <td>16735026</td>\n",
       "      <td>2016-09-16 08:00:00</td>\n",
       "    </tr>\n",
       "    <tr>\n",
       "      <th>170566</th>\n",
       "      <td>R504</td>\n",
       "      <td>R276</td>\n",
       "      <td>00-00-01</td>\n",
       "      <td>VERNON-JACKSON</td>\n",
       "      <td>7</td>\n",
       "      <td>IRT</td>\n",
       "      <td>09/16/2016</td>\n",
       "      <td>12:00:00</td>\n",
       "      <td>REGULAR</td>\n",
       "      <td>8139437</td>\n",
       "      <td>1334196</td>\n",
       "      <td>2016-09-16 12:00:00</td>\n",
       "    </tr>\n",
       "  </tbody>\n",
       "</table>\n",
       "</div>"
      ],
      "text/plain": [
       "         C/A  UNIT       SCP         STATION LINENAME DIVISION        DATE  \\\n",
       "170562  R504  R276  00-00-01  VERNON-JACKSON        7      IRT  09/16/2016   \n",
       "170563  R504  R276  00-00-01  VERNON-JACKSON        7      IRT  09/16/2016   \n",
       "170564  R504  R276  00-00-01  VERNON-JACKSON        7      IRT  09/16/2016   \n",
       "170565  R504  R276  00-00-01  VERNON-JACKSON        7      IRT  09/16/2016   \n",
       "170566  R504  R276  00-00-01  VERNON-JACKSON        7      IRT  09/16/2016   \n",
       "\n",
       "            TIME        DESC  ENTRIES     EXITS           DATE_TIME  \n",
       "170562  00:00:00     REGULAR  8137913   1333972 2016-09-16 00:00:00  \n",
       "170563  04:00:00     REGULAR  8137913   1333975 2016-09-16 04:00:00  \n",
       "170564  08:00:00     REGULAR  8138271   1334066 2016-09-16 08:00:00  \n",
       "170565  08:00:00  RECOVR AUD  8138271  16735026 2016-09-16 08:00:00  \n",
       "170566  12:00:00     REGULAR  8139437   1334196 2016-09-16 12:00:00  "
      ]
     },
     "execution_count": 23,
     "metadata": {},
     "output_type": "execute_result"
    }
   ],
   "source": [
    "# On 9/16, we seem to have two entries for same time.  Let's take a look\n",
    "mask = ((turnstiles_df[\"C/A\"] == \"R504\") & \n",
    "(turnstiles_df[\"UNIT\"] == \"R276\") & \n",
    "(turnstiles_df[\"SCP\"] == \"00-00-01\") & \n",
    "(turnstiles_df[\"STATION\"] == \"VERNON-JACKSON\") &\n",
    "(turnstiles_df[\"DATE_TIME\"].dt.date == datetime.datetime(2016, 9, 16).date()))\n",
    "turnstiles_df[mask].head()"
   ]
  },
  {
   "cell_type": "markdown",
   "metadata": {},
   "source": [
    "* Looks to be a incorrect AUD entry.  May be we should just select the Regular One."
   ]
  },
  {
   "cell_type": "code",
   "execution_count": 24,
   "metadata": {},
   "outputs": [
    {
     "data": {
      "text/plain": [
       "REGULAR       579109\n",
       "RECOVR AUD      1786\n",
       "Name: DESC, dtype: int64"
      ]
     },
     "execution_count": 24,
     "metadata": {},
     "output_type": "execute_result"
    }
   ],
   "source": [
    "turnstiles_df.DESC.value_counts()"
   ]
  },
  {
   "cell_type": "markdown",
   "metadata": {},
   "source": [
    "* Since we are only interested in Entries, we might be OK."
   ]
  },
  {
   "cell_type": "code",
   "execution_count": 25,
   "metadata": {
    "collapsed": true
   },
   "outputs": [],
   "source": [
    "# Get rid of the duplicate entry\n",
    "turnstiles_df.sort_values([\"C/A\", \"UNIT\", \"SCP\", \"STATION\", \"DATE_TIME\"], inplace=True, ascending=False)\n",
    "turnstiles_df.drop_duplicates(subset=[\"C/A\", \"UNIT\", \"SCP\", \"STATION\", \"DATE_TIME\"], inplace=True)"
   ]
  },
  {
   "cell_type": "markdown",
   "metadata": {},
   "source": [
    "**TA COMMENT:**\n",
    "\n",
    "Good catch on discovering that the RECOVR AUD entries exists. However, I believe that by just doing a drop_duplicates you won't remove the AUD entries unless the REGULAR and AUD entries have the exact same DATE_TIME (which in this case happens to be on 09/16/2016."
   ]
  },
  {
   "cell_type": "code",
   "execution_count": 26,
   "metadata": {},
   "outputs": [
    {
     "data": {
      "text/html": [
       "<div>\n",
       "<table border=\"1\" class=\"dataframe\">\n",
       "  <thead>\n",
       "    <tr style=\"text-align: right;\">\n",
       "      <th></th>\n",
       "      <th>C/A</th>\n",
       "      <th>UNIT</th>\n",
       "      <th>SCP</th>\n",
       "      <th>STATION</th>\n",
       "      <th>DATE_TIME</th>\n",
       "      <th>ENTRIES</th>\n",
       "    </tr>\n",
       "  </thead>\n",
       "  <tbody>\n",
       "    <tr>\n",
       "      <th>0</th>\n",
       "      <td>A002</td>\n",
       "      <td>R051</td>\n",
       "      <td>02-00-00</td>\n",
       "      <td>59 ST</td>\n",
       "      <td>2016-08-27 00:00:00</td>\n",
       "      <td>1</td>\n",
       "    </tr>\n",
       "    <tr>\n",
       "      <th>387266</th>\n",
       "      <td>R155</td>\n",
       "      <td>R116</td>\n",
       "      <td>01-00-03</td>\n",
       "      <td>50 ST</td>\n",
       "      <td>2016-09-16 04:00:00</td>\n",
       "      <td>1</td>\n",
       "    </tr>\n",
       "    <tr>\n",
       "      <th>387260</th>\n",
       "      <td>R155</td>\n",
       "      <td>R116</td>\n",
       "      <td>01-00-03</td>\n",
       "      <td>50 ST</td>\n",
       "      <td>2016-09-15 04:00:00</td>\n",
       "      <td>1</td>\n",
       "    </tr>\n",
       "    <tr>\n",
       "      <th>387261</th>\n",
       "      <td>R155</td>\n",
       "      <td>R116</td>\n",
       "      <td>01-00-03</td>\n",
       "      <td>50 ST</td>\n",
       "      <td>2016-09-15 08:00:00</td>\n",
       "      <td>1</td>\n",
       "    </tr>\n",
       "    <tr>\n",
       "      <th>387262</th>\n",
       "      <td>R155</td>\n",
       "      <td>R116</td>\n",
       "      <td>01-00-03</td>\n",
       "      <td>50 ST</td>\n",
       "      <td>2016-09-15 12:00:00</td>\n",
       "      <td>1</td>\n",
       "    </tr>\n",
       "  </tbody>\n",
       "</table>\n",
       "</div>"
      ],
      "text/plain": [
       "         C/A  UNIT       SCP STATION           DATE_TIME  ENTRIES\n",
       "0       A002  R051  02-00-00   59 ST 2016-08-27 00:00:00        1\n",
       "387266  R155  R116  01-00-03   50 ST 2016-09-16 04:00:00        1\n",
       "387260  R155  R116  01-00-03   50 ST 2016-09-15 04:00:00        1\n",
       "387261  R155  R116  01-00-03   50 ST 2016-09-15 08:00:00        1\n",
       "387262  R155  R116  01-00-03   50 ST 2016-09-15 12:00:00        1"
      ]
     },
     "execution_count": 26,
     "metadata": {},
     "output_type": "execute_result"
    }
   ],
   "source": [
    "# Sanity Check to verify that \"C/A\", \"UNIT\", \"SCP\", \"STATION\", \"DATE_TIME\" is unique\n",
    "(turnstiles_df\n",
    " .groupby([\"C/A\", \"UNIT\", \"SCP\", \"STATION\", \"DATE_TIME\"])\n",
    " .ENTRIES.count()\n",
    " .reset_index()\n",
    " .sort_values(\"ENTRIES\", ascending=False)).head(5)"
   ]
  },
  {
   "cell_type": "markdown",
   "metadata": {},
   "source": [
    "* No more duplicate Entries"
   ]
  },
  {
   "cell_type": "code",
   "execution_count": 27,
   "metadata": {},
   "outputs": [],
   "source": [
    "# Drop Exits and Desc Column.  To prevent errors in multiple run of cell, errors on drop is ignored\n",
    "turnstiles_df = turnstiles_df.drop([\"EXITS\", \"DESC\"], axis=1, errors=\"ignore\")"
   ]
  },
  {
   "cell_type": "markdown",
   "metadata": {},
   "source": [
    "### Andre's Original Functions for Challenge 2"
   ]
  },
  {
   "cell_type": "code",
   "execution_count": 28,
   "metadata": {
    "collapsed": true
   },
   "outputs": [],
   "source": [
    "# aug26_sept16['ENTRIES_COUNT'] = 0\n",
    "# aug26_sept16['EXITS_COUNT'] = 0\n",
    "# aug26_sept16['EXITS'] = aug26_sept16['EXITS                                                               ']\n",
    "\n",
    "# del aug26_sept16['EXITS                                                               ']         \n",
    "\n",
    "# aug26_sept16['ENTRIES_COUNT'] = aug26_sept16['ENTRIES'].shift(-1) - aug26_sept16['ENTRIES']\n",
    "# aug26_sept16['EXITS_COUNT'] = aug26_sept16['EXITS'].shift(-1) - aug26_sept16['EXITS']\n",
    "\n",
    "# aug26_sept16['TOTAL_TRAFFIC'] = aug26_sept16['ENTRIES_COUNT'] + aug26_sept16['EXITS_COUNT'] \n",
    "\n",
    "# aug26_sept16 = aug26_sept16[aug26_sept16['ENTRIES_COUNT'] < 3000]\n",
    "# aug26_sept16 = aug26_sept16[aug26_sept16['ENTRIES_COUNT'] > 0]\n",
    "\n",
    "# aug26_sept16 = aug26_sept16[aug26_sept16['EXITS_COUNT'] < 3000]\n",
    "# aug26_sept16 = aug26_sept16[aug26_sept16['EXITS_COUNT'] > 0]\n",
    "\n",
    "# aug26_sept16['DAY'] = aug26_sept16['DATE'].dt.weekday_name\n",
    "\n",
    "# aug26_sept16['DATE'] = pd.to_datetime(aug26_sept16['DATE'], format=\"%m/%d/%Y\")"
   ]
  },
  {
   "cell_type": "markdown",
   "metadata": {},
   "source": [
    "#### Challenge 3"
   ]
  },
  {
   "cell_type": "code",
   "execution_count": 29,
   "metadata": {},
   "outputs": [],
   "source": [
    "turnstiles_daily = turnstiles_df.groupby([\"C/A\", \"UNIT\", \"SCP\", \"STATION\", \"DATE\"]).ENTRIES.first().reset_index()"
   ]
  },
  {
   "cell_type": "code",
   "execution_count": 30,
   "metadata": {},
   "outputs": [
    {
     "data": {
      "text/html": [
       "<div>\n",
       "<table border=\"1\" class=\"dataframe\">\n",
       "  <thead>\n",
       "    <tr style=\"text-align: right;\">\n",
       "      <th></th>\n",
       "      <th>C/A</th>\n",
       "      <th>UNIT</th>\n",
       "      <th>SCP</th>\n",
       "      <th>STATION</th>\n",
       "      <th>DATE</th>\n",
       "      <th>ENTRIES</th>\n",
       "    </tr>\n",
       "  </thead>\n",
       "  <tbody>\n",
       "    <tr>\n",
       "      <th>0</th>\n",
       "      <td>A002</td>\n",
       "      <td>R051</td>\n",
       "      <td>02-00-00</td>\n",
       "      <td>59 ST</td>\n",
       "      <td>08/27/2016</td>\n",
       "      <td>5800121</td>\n",
       "    </tr>\n",
       "    <tr>\n",
       "      <th>1</th>\n",
       "      <td>A002</td>\n",
       "      <td>R051</td>\n",
       "      <td>02-00-00</td>\n",
       "      <td>59 ST</td>\n",
       "      <td>08/28/2016</td>\n",
       "      <td>5800798</td>\n",
       "    </tr>\n",
       "    <tr>\n",
       "      <th>2</th>\n",
       "      <td>A002</td>\n",
       "      <td>R051</td>\n",
       "      <td>02-00-00</td>\n",
       "      <td>59 ST</td>\n",
       "      <td>08/29/2016</td>\n",
       "      <td>5802336</td>\n",
       "    </tr>\n",
       "    <tr>\n",
       "      <th>3</th>\n",
       "      <td>A002</td>\n",
       "      <td>R051</td>\n",
       "      <td>02-00-00</td>\n",
       "      <td>59 ST</td>\n",
       "      <td>08/30/2016</td>\n",
       "      <td>5803875</td>\n",
       "    </tr>\n",
       "    <tr>\n",
       "      <th>4</th>\n",
       "      <td>A002</td>\n",
       "      <td>R051</td>\n",
       "      <td>02-00-00</td>\n",
       "      <td>59 ST</td>\n",
       "      <td>08/31/2016</td>\n",
       "      <td>5805383</td>\n",
       "    </tr>\n",
       "  </tbody>\n",
       "</table>\n",
       "</div>"
      ],
      "text/plain": [
       "    C/A  UNIT       SCP STATION        DATE  ENTRIES\n",
       "0  A002  R051  02-00-00   59 ST  08/27/2016  5800121\n",
       "1  A002  R051  02-00-00   59 ST  08/28/2016  5800798\n",
       "2  A002  R051  02-00-00   59 ST  08/29/2016  5802336\n",
       "3  A002  R051  02-00-00   59 ST  08/30/2016  5803875\n",
       "4  A002  R051  02-00-00   59 ST  08/31/2016  5805383"
      ]
     },
     "execution_count": 30,
     "metadata": {},
     "output_type": "execute_result"
    }
   ],
   "source": [
    "turnstiles_daily.head()"
   ]
  },
  {
   "cell_type": "code",
   "execution_count": 31,
   "metadata": {},
   "outputs": [],
   "source": [
    "turnstiles_daily[[\"PREV_DATE\", \"PREV_ENTRIES\"]] = (turnstiles_daily\n",
    "                                                       .groupby([\"C/A\", \"UNIT\", \"SCP\", \"STATION\"])[\"DATE\", \"ENTRIES\"]\n",
    "                                                       .transform(lambda grp: grp.shift(1)))"
   ]
  },
  {
   "cell_type": "code",
   "execution_count": 32,
   "metadata": {},
   "outputs": [
    {
     "data": {
      "text/html": [
       "<div>\n",
       "<table border=\"1\" class=\"dataframe\">\n",
       "  <thead>\n",
       "    <tr style=\"text-align: right;\">\n",
       "      <th></th>\n",
       "      <th>C/A</th>\n",
       "      <th>UNIT</th>\n",
       "      <th>SCP</th>\n",
       "      <th>STATION</th>\n",
       "      <th>DATE</th>\n",
       "      <th>ENTRIES</th>\n",
       "      <th>PREV_DATE</th>\n",
       "      <th>PREV_ENTRIES</th>\n",
       "    </tr>\n",
       "  </thead>\n",
       "  <tbody>\n",
       "    <tr>\n",
       "      <th>0</th>\n",
       "      <td>A002</td>\n",
       "      <td>R051</td>\n",
       "      <td>02-00-00</td>\n",
       "      <td>59 ST</td>\n",
       "      <td>08/27/2016</td>\n",
       "      <td>5800121</td>\n",
       "      <td>NaN</td>\n",
       "      <td>NaN</td>\n",
       "    </tr>\n",
       "    <tr>\n",
       "      <th>1</th>\n",
       "      <td>A002</td>\n",
       "      <td>R051</td>\n",
       "      <td>02-00-00</td>\n",
       "      <td>59 ST</td>\n",
       "      <td>08/28/2016</td>\n",
       "      <td>5800798</td>\n",
       "      <td>08/27/2016</td>\n",
       "      <td>5800121.0</td>\n",
       "    </tr>\n",
       "    <tr>\n",
       "      <th>2</th>\n",
       "      <td>A002</td>\n",
       "      <td>R051</td>\n",
       "      <td>02-00-00</td>\n",
       "      <td>59 ST</td>\n",
       "      <td>08/29/2016</td>\n",
       "      <td>5802336</td>\n",
       "      <td>08/28/2016</td>\n",
       "      <td>5800798.0</td>\n",
       "    </tr>\n",
       "    <tr>\n",
       "      <th>3</th>\n",
       "      <td>A002</td>\n",
       "      <td>R051</td>\n",
       "      <td>02-00-00</td>\n",
       "      <td>59 ST</td>\n",
       "      <td>08/30/2016</td>\n",
       "      <td>5803875</td>\n",
       "      <td>08/29/2016</td>\n",
       "      <td>5802336.0</td>\n",
       "    </tr>\n",
       "    <tr>\n",
       "      <th>4</th>\n",
       "      <td>A002</td>\n",
       "      <td>R051</td>\n",
       "      <td>02-00-00</td>\n",
       "      <td>59 ST</td>\n",
       "      <td>08/31/2016</td>\n",
       "      <td>5805383</td>\n",
       "      <td>08/30/2016</td>\n",
       "      <td>5803875.0</td>\n",
       "    </tr>\n",
       "  </tbody>\n",
       "</table>\n",
       "</div>"
      ],
      "text/plain": [
       "    C/A  UNIT       SCP STATION        DATE  ENTRIES   PREV_DATE  PREV_ENTRIES\n",
       "0  A002  R051  02-00-00   59 ST  08/27/2016  5800121         NaN           NaN\n",
       "1  A002  R051  02-00-00   59 ST  08/28/2016  5800798  08/27/2016     5800121.0\n",
       "2  A002  R051  02-00-00   59 ST  08/29/2016  5802336  08/28/2016     5800798.0\n",
       "3  A002  R051  02-00-00   59 ST  08/30/2016  5803875  08/29/2016     5802336.0\n",
       "4  A002  R051  02-00-00   59 ST  08/31/2016  5805383  08/30/2016     5803875.0"
      ]
     },
     "execution_count": 32,
     "metadata": {},
     "output_type": "execute_result"
    }
   ],
   "source": [
    "turnstiles_daily.head()"
   ]
  },
  {
   "cell_type": "code",
   "execution_count": 33,
   "metadata": {},
   "outputs": [
    {
     "data": {
      "text/html": [
       "<div>\n",
       "<table border=\"1\" class=\"dataframe\">\n",
       "  <thead>\n",
       "    <tr style=\"text-align: right;\">\n",
       "      <th></th>\n",
       "      <th>C/A</th>\n",
       "      <th>UNIT</th>\n",
       "      <th>SCP</th>\n",
       "      <th>STATION</th>\n",
       "      <th>DATE</th>\n",
       "      <th>ENTRIES</th>\n",
       "      <th>PREV_DATE</th>\n",
       "      <th>PREV_ENTRIES</th>\n",
       "    </tr>\n",
       "  </thead>\n",
       "  <tbody>\n",
       "    <tr>\n",
       "      <th>95997</th>\n",
       "      <td>TRAM2</td>\n",
       "      <td>R469</td>\n",
       "      <td>00-05-01</td>\n",
       "      <td>RIT-ROOSEVELT</td>\n",
       "      <td>09/12/2016</td>\n",
       "      <td>5554</td>\n",
       "      <td>09/11/2016</td>\n",
       "      <td>5554.0</td>\n",
       "    </tr>\n",
       "    <tr>\n",
       "      <th>95998</th>\n",
       "      <td>TRAM2</td>\n",
       "      <td>R469</td>\n",
       "      <td>00-05-01</td>\n",
       "      <td>RIT-ROOSEVELT</td>\n",
       "      <td>09/13/2016</td>\n",
       "      <td>5554</td>\n",
       "      <td>09/12/2016</td>\n",
       "      <td>5554.0</td>\n",
       "    </tr>\n",
       "    <tr>\n",
       "      <th>95999</th>\n",
       "      <td>TRAM2</td>\n",
       "      <td>R469</td>\n",
       "      <td>00-05-01</td>\n",
       "      <td>RIT-ROOSEVELT</td>\n",
       "      <td>09/14/2016</td>\n",
       "      <td>5554</td>\n",
       "      <td>09/13/2016</td>\n",
       "      <td>5554.0</td>\n",
       "    </tr>\n",
       "    <tr>\n",
       "      <th>96000</th>\n",
       "      <td>TRAM2</td>\n",
       "      <td>R469</td>\n",
       "      <td>00-05-01</td>\n",
       "      <td>RIT-ROOSEVELT</td>\n",
       "      <td>09/15/2016</td>\n",
       "      <td>5554</td>\n",
       "      <td>09/14/2016</td>\n",
       "      <td>5554.0</td>\n",
       "    </tr>\n",
       "    <tr>\n",
       "      <th>96001</th>\n",
       "      <td>TRAM2</td>\n",
       "      <td>R469</td>\n",
       "      <td>00-05-01</td>\n",
       "      <td>RIT-ROOSEVELT</td>\n",
       "      <td>09/16/2016</td>\n",
       "      <td>5554</td>\n",
       "      <td>09/15/2016</td>\n",
       "      <td>5554.0</td>\n",
       "    </tr>\n",
       "  </tbody>\n",
       "</table>\n",
       "</div>"
      ],
      "text/plain": [
       "         C/A  UNIT       SCP        STATION        DATE  ENTRIES   PREV_DATE  \\\n",
       "95997  TRAM2  R469  00-05-01  RIT-ROOSEVELT  09/12/2016     5554  09/11/2016   \n",
       "95998  TRAM2  R469  00-05-01  RIT-ROOSEVELT  09/13/2016     5554  09/12/2016   \n",
       "95999  TRAM2  R469  00-05-01  RIT-ROOSEVELT  09/14/2016     5554  09/13/2016   \n",
       "96000  TRAM2  R469  00-05-01  RIT-ROOSEVELT  09/15/2016     5554  09/14/2016   \n",
       "96001  TRAM2  R469  00-05-01  RIT-ROOSEVELT  09/16/2016     5554  09/15/2016   \n",
       "\n",
       "       PREV_ENTRIES  \n",
       "95997        5554.0  \n",
       "95998        5554.0  \n",
       "95999        5554.0  \n",
       "96000        5554.0  \n",
       "96001        5554.0  "
      ]
     },
     "execution_count": 33,
     "metadata": {},
     "output_type": "execute_result"
    }
   ],
   "source": [
    "turnstiles_daily.tail()"
   ]
  },
  {
   "cell_type": "code",
   "execution_count": 34,
   "metadata": {},
   "outputs": [],
   "source": [
    "# Drop the rows for last date\n",
    "turnstiles_daily.dropna(subset=[\"PREV_DATE\"], axis=0, inplace=True)"
   ]
  },
  {
   "cell_type": "code",
   "execution_count": 35,
   "metadata": {},
   "outputs": [
    {
     "data": {
      "text/html": [
       "<div>\n",
       "<table border=\"1\" class=\"dataframe\">\n",
       "  <thead>\n",
       "    <tr style=\"text-align: right;\">\n",
       "      <th></th>\n",
       "      <th>C/A</th>\n",
       "      <th>UNIT</th>\n",
       "      <th>SCP</th>\n",
       "      <th>STATION</th>\n",
       "      <th>DATE</th>\n",
       "      <th>ENTRIES</th>\n",
       "      <th>PREV_DATE</th>\n",
       "      <th>PREV_ENTRIES</th>\n",
       "    </tr>\n",
       "  </thead>\n",
       "  <tbody>\n",
       "    <tr>\n",
       "      <th>715</th>\n",
       "      <td>A011</td>\n",
       "      <td>R080</td>\n",
       "      <td>01-00-00</td>\n",
       "      <td>57 ST-7 AV</td>\n",
       "      <td>08/28/2016</td>\n",
       "      <td>887688133</td>\n",
       "      <td>08/27/2016</td>\n",
       "      <td>887689608.0</td>\n",
       "    </tr>\n",
       "    <tr>\n",
       "      <th>716</th>\n",
       "      <td>A011</td>\n",
       "      <td>R080</td>\n",
       "      <td>01-00-00</td>\n",
       "      <td>57 ST-7 AV</td>\n",
       "      <td>08/29/2016</td>\n",
       "      <td>887685714</td>\n",
       "      <td>08/28/2016</td>\n",
       "      <td>887688133.0</td>\n",
       "    </tr>\n",
       "    <tr>\n",
       "      <th>717</th>\n",
       "      <td>A011</td>\n",
       "      <td>R080</td>\n",
       "      <td>01-00-00</td>\n",
       "      <td>57 ST-7 AV</td>\n",
       "      <td>08/30/2016</td>\n",
       "      <td>887683207</td>\n",
       "      <td>08/29/2016</td>\n",
       "      <td>887685714.0</td>\n",
       "    </tr>\n",
       "    <tr>\n",
       "      <th>718</th>\n",
       "      <td>A011</td>\n",
       "      <td>R080</td>\n",
       "      <td>01-00-00</td>\n",
       "      <td>57 ST-7 AV</td>\n",
       "      <td>08/31/2016</td>\n",
       "      <td>887680260</td>\n",
       "      <td>08/30/2016</td>\n",
       "      <td>887683207.0</td>\n",
       "    </tr>\n",
       "    <tr>\n",
       "      <th>719</th>\n",
       "      <td>A011</td>\n",
       "      <td>R080</td>\n",
       "      <td>01-00-00</td>\n",
       "      <td>57 ST-7 AV</td>\n",
       "      <td>09/01/2016</td>\n",
       "      <td>887677354</td>\n",
       "      <td>08/31/2016</td>\n",
       "      <td>887680260.0</td>\n",
       "    </tr>\n",
       "  </tbody>\n",
       "</table>\n",
       "</div>"
      ],
      "text/plain": [
       "      C/A  UNIT       SCP     STATION        DATE    ENTRIES   PREV_DATE  \\\n",
       "715  A011  R080  01-00-00  57 ST-7 AV  08/28/2016  887688133  08/27/2016   \n",
       "716  A011  R080  01-00-00  57 ST-7 AV  08/29/2016  887685714  08/28/2016   \n",
       "717  A011  R080  01-00-00  57 ST-7 AV  08/30/2016  887683207  08/29/2016   \n",
       "718  A011  R080  01-00-00  57 ST-7 AV  08/31/2016  887680260  08/30/2016   \n",
       "719  A011  R080  01-00-00  57 ST-7 AV  09/01/2016  887677354  08/31/2016   \n",
       "\n",
       "     PREV_ENTRIES  \n",
       "715   887689608.0  \n",
       "716   887688133.0  \n",
       "717   887685714.0  \n",
       "718   887683207.0  \n",
       "719   887680260.0  "
      ]
     },
     "execution_count": 35,
     "metadata": {},
     "output_type": "execute_result"
    }
   ],
   "source": [
    "turnstiles_daily[turnstiles_daily[\"ENTRIES\"] < turnstiles_daily[\"PREV_ENTRIES\"]].head()"
   ]
  },
  {
   "cell_type": "code",
   "execution_count": 36,
   "metadata": {},
   "outputs": [
    {
     "data": {
      "text/html": [
       "<div>\n",
       "<table border=\"1\" class=\"dataframe\">\n",
       "  <thead>\n",
       "    <tr style=\"text-align: right;\">\n",
       "      <th></th>\n",
       "      <th>C/A</th>\n",
       "      <th>UNIT</th>\n",
       "      <th>SCP</th>\n",
       "      <th>STATION</th>\n",
       "      <th>LINENAME</th>\n",
       "      <th>DIVISION</th>\n",
       "      <th>DATE</th>\n",
       "      <th>TIME</th>\n",
       "      <th>ENTRIES</th>\n",
       "      <th>DATE_TIME</th>\n",
       "    </tr>\n",
       "  </thead>\n",
       "  <tbody>\n",
       "    <tr>\n",
       "      <th>1446</th>\n",
       "      <td>A011</td>\n",
       "      <td>R080</td>\n",
       "      <td>01-00-00</td>\n",
       "      <td>57 ST-7 AV</td>\n",
       "      <td>NQR</td>\n",
       "      <td>BMT</td>\n",
       "      <td>08/27/2016</td>\n",
       "      <td>20:00:00</td>\n",
       "      <td>887689608</td>\n",
       "      <td>2016-08-27 20:00:00</td>\n",
       "    </tr>\n",
       "    <tr>\n",
       "      <th>1445</th>\n",
       "      <td>A011</td>\n",
       "      <td>R080</td>\n",
       "      <td>01-00-00</td>\n",
       "      <td>57 ST-7 AV</td>\n",
       "      <td>NQR</td>\n",
       "      <td>BMT</td>\n",
       "      <td>08/27/2016</td>\n",
       "      <td>16:00:00</td>\n",
       "      <td>887690085</td>\n",
       "      <td>2016-08-27 16:00:00</td>\n",
       "    </tr>\n",
       "    <tr>\n",
       "      <th>1444</th>\n",
       "      <td>A011</td>\n",
       "      <td>R080</td>\n",
       "      <td>01-00-00</td>\n",
       "      <td>57 ST-7 AV</td>\n",
       "      <td>NQR</td>\n",
       "      <td>BMT</td>\n",
       "      <td>08/27/2016</td>\n",
       "      <td>12:00:00</td>\n",
       "      <td>887690472</td>\n",
       "      <td>2016-08-27 12:00:00</td>\n",
       "    </tr>\n",
       "    <tr>\n",
       "      <th>1443</th>\n",
       "      <td>A011</td>\n",
       "      <td>R080</td>\n",
       "      <td>01-00-00</td>\n",
       "      <td>57 ST-7 AV</td>\n",
       "      <td>NQR</td>\n",
       "      <td>BMT</td>\n",
       "      <td>08/27/2016</td>\n",
       "      <td>08:00:00</td>\n",
       "      <td>887690738</td>\n",
       "      <td>2016-08-27 08:00:00</td>\n",
       "    </tr>\n",
       "    <tr>\n",
       "      <th>1442</th>\n",
       "      <td>A011</td>\n",
       "      <td>R080</td>\n",
       "      <td>01-00-00</td>\n",
       "      <td>57 ST-7 AV</td>\n",
       "      <td>NQR</td>\n",
       "      <td>BMT</td>\n",
       "      <td>08/27/2016</td>\n",
       "      <td>04:00:00</td>\n",
       "      <td>887690800</td>\n",
       "      <td>2016-08-27 04:00:00</td>\n",
       "    </tr>\n",
       "  </tbody>\n",
       "</table>\n",
       "</div>"
      ],
      "text/plain": [
       "       C/A  UNIT       SCP     STATION LINENAME DIVISION        DATE  \\\n",
       "1446  A011  R080  01-00-00  57 ST-7 AV      NQR      BMT  08/27/2016   \n",
       "1445  A011  R080  01-00-00  57 ST-7 AV      NQR      BMT  08/27/2016   \n",
       "1444  A011  R080  01-00-00  57 ST-7 AV      NQR      BMT  08/27/2016   \n",
       "1443  A011  R080  01-00-00  57 ST-7 AV      NQR      BMT  08/27/2016   \n",
       "1442  A011  R080  01-00-00  57 ST-7 AV      NQR      BMT  08/27/2016   \n",
       "\n",
       "          TIME    ENTRIES           DATE_TIME  \n",
       "1446  20:00:00  887689608 2016-08-27 20:00:00  \n",
       "1445  16:00:00  887690085 2016-08-27 16:00:00  \n",
       "1444  12:00:00  887690472 2016-08-27 12:00:00  \n",
       "1443  08:00:00  887690738 2016-08-27 08:00:00  \n",
       "1442  04:00:00  887690800 2016-08-27 04:00:00  "
      ]
     },
     "execution_count": 36,
     "metadata": {},
     "output_type": "execute_result"
    }
   ],
   "source": [
    "# What's the deal with counter being in reverse\n",
    "mask = ((turnstiles_df[\"C/A\"] == \"A011\") & \n",
    "(turnstiles_df[\"UNIT\"] == \"R080\") & \n",
    "(turnstiles_df[\"SCP\"] == \"01-00-00\") & \n",
    "(turnstiles_df[\"STATION\"] == \"57 ST-7 AV\") &\n",
    "(turnstiles_df[\"DATE_TIME\"].dt.date == datetime.datetime(2016, 8, 27).date()))\n",
    "turnstiles_df[mask].head()"
   ]
  },
  {
   "cell_type": "code",
   "execution_count": 37,
   "metadata": {},
   "outputs": [],
   "source": [
    "(turnstiles_daily[turnstiles_daily[\"ENTRIES\"] < turnstiles_daily[\"PREV_ENTRIES\"]]\n",
    "    .groupby([\"C/A\", \"UNIT\", \"SCP\", \"STATION\"])\n",
    "     .size());"
   ]
  },
  {
   "cell_type": "code",
   "execution_count": 38,
   "metadata": {
    "scrolled": false
   },
   "outputs": [
    {
     "name": "stdout",
     "output_type": "stream",
     "text": [
      "194 1894869683.0\n",
      "262183 67111299.0\n",
      "63 1054429.0\n",
      "2862 2044694.0\n",
      "1912607049 7509132.0\n",
      "285 1494569141.0\n",
      "2542 14129479.0\n",
      "67108864 0.0\n",
      "335600216 1374824.0\n",
      "36 3252790.0\n",
      "1117 3665497.0\n",
      "262269 10823938.0\n",
      "1452 1460387.0\n",
      "1154413610 8957775.0\n",
      "100665773 35655801.0\n",
      "1443 1014193.0\n",
      "186916568 604712476.0\n",
      "874 6130902.0\n",
      "598 11078528.0\n",
      "1160 74672293.0\n",
      "0 117440532.0\n",
      "100663296 1299.0\n",
      "117440514 100663296.0\n",
      "2123 9170483.0\n",
      "428 2336204.0\n",
      "1024 12498870.0\n"
     ]
    }
   ],
   "source": [
    "def get_daily_counts(row, max_counter):\n",
    "    counter = row[\"ENTRIES\"] - row[\"PREV_ENTRIES\"]\n",
    "    if counter < 0:\n",
    "        counter = -counter\n",
    "    if counter > max_counter:\n",
    "        print(row[\"ENTRIES\"], row[\"PREV_ENTRIES\"])\n",
    "        return 0\n",
    "    return counter\n",
    "\n",
    "# If counter is > 1Million, then the counter might have been reset.  \n",
    "# Just set it to zero as different counters have different cycle limits\n",
    "_ = turnstiles_daily.apply(get_daily_counts, axis=1, max_counter=1000000);"
   ]
  },
  {
   "cell_type": "code",
   "execution_count": 39,
   "metadata": {},
   "outputs": [
    {
     "name": "stdout",
     "output_type": "stream",
     "text": [
      "194 1894869683.0\n",
      "262183 67111299.0\n",
      "63 1054429.0\n",
      "2862 2044694.0\n",
      "1912607049 7509132.0\n",
      "285 1494569141.0\n",
      "2542 14129479.0\n",
      "67108864 0.0\n",
      "335600216 1374824.0\n",
      "36 3252790.0\n",
      "1117 3665497.0\n",
      "262269 10823938.0\n",
      "1452 1460387.0\n",
      "1154413610 8957775.0\n",
      "100665773 35655801.0\n",
      "1443 1014193.0\n",
      "186916568 604712476.0\n",
      "874 6130902.0\n",
      "598 11078528.0\n",
      "1160 74672293.0\n",
      "0 117440532.0\n",
      "100663296 1299.0\n",
      "117440514 100663296.0\n",
      "2123 9170483.0\n",
      "428 2336204.0\n",
      "1024 12498870.0\n"
     ]
    }
   ],
   "source": [
    "def get_daily_counts(row, max_counter):\n",
    "    counter = row[\"ENTRIES\"] - row[\"PREV_ENTRIES\"]\n",
    "    if counter < 0:\n",
    "        # Maybe counter is reversed?\n",
    "        counter = -counter\n",
    "    if counter > max_counter:\n",
    "        print(row[\"ENTRIES\"], row[\"PREV_ENTRIES\"])\n",
    "        counter = min(row[\"ENTRIES\"], row[\"PREV_ENTRIES\"])\n",
    "    if counter > max_counter:\n",
    "        # Check it again to make sure we are not giving a counter that's too big\n",
    "        return 0\n",
    "    return counter\n",
    "\n",
    "# If counter is > 1Million, then the counter might have been reset.  \n",
    "# Just set it to zero as different counters have different cycle limits\n",
    "turnstiles_daily[\"DAILY_ENTRIES\"] = turnstiles_daily.apply(get_daily_counts, axis=1, max_counter=1000000);"
   ]
  },
  {
   "cell_type": "code",
   "execution_count": 40,
   "metadata": {
    "collapsed": true
   },
   "outputs": [],
   "source": [
    "turnstiles_daily['DATE'] = pd.to_datetime(turnstiles_daily['DATE'], format=\"%m/%d/%Y\")"
   ]
  },
  {
   "cell_type": "code",
   "execution_count": 41,
   "metadata": {
    "collapsed": true
   },
   "outputs": [],
   "source": [
    "turnstiles_daily['DAY'] = turnstiles_daily['DATE'].dt.weekday_name"
   ]
  },
  {
   "cell_type": "code",
   "execution_count": 42,
   "metadata": {},
   "outputs": [
    {
     "data": {
      "text/html": [
       "<div>\n",
       "<table border=\"1\" class=\"dataframe\">\n",
       "  <thead>\n",
       "    <tr style=\"text-align: right;\">\n",
       "      <th></th>\n",
       "      <th>C/A</th>\n",
       "      <th>UNIT</th>\n",
       "      <th>SCP</th>\n",
       "      <th>STATION</th>\n",
       "      <th>DATE</th>\n",
       "      <th>ENTRIES</th>\n",
       "      <th>PREV_DATE</th>\n",
       "      <th>PREV_ENTRIES</th>\n",
       "      <th>DAILY_ENTRIES</th>\n",
       "      <th>DAY</th>\n",
       "    </tr>\n",
       "  </thead>\n",
       "  <tbody>\n",
       "    <tr>\n",
       "      <th>1</th>\n",
       "      <td>A002</td>\n",
       "      <td>R051</td>\n",
       "      <td>02-00-00</td>\n",
       "      <td>59 ST</td>\n",
       "      <td>2016-08-28</td>\n",
       "      <td>5800798</td>\n",
       "      <td>08/27/2016</td>\n",
       "      <td>5800121.0</td>\n",
       "      <td>677.0</td>\n",
       "      <td>Sunday</td>\n",
       "    </tr>\n",
       "    <tr>\n",
       "      <th>2</th>\n",
       "      <td>A002</td>\n",
       "      <td>R051</td>\n",
       "      <td>02-00-00</td>\n",
       "      <td>59 ST</td>\n",
       "      <td>2016-08-29</td>\n",
       "      <td>5802336</td>\n",
       "      <td>08/28/2016</td>\n",
       "      <td>5800798.0</td>\n",
       "      <td>1538.0</td>\n",
       "      <td>Monday</td>\n",
       "    </tr>\n",
       "    <tr>\n",
       "      <th>3</th>\n",
       "      <td>A002</td>\n",
       "      <td>R051</td>\n",
       "      <td>02-00-00</td>\n",
       "      <td>59 ST</td>\n",
       "      <td>2016-08-30</td>\n",
       "      <td>5803875</td>\n",
       "      <td>08/29/2016</td>\n",
       "      <td>5802336.0</td>\n",
       "      <td>1539.0</td>\n",
       "      <td>Tuesday</td>\n",
       "    </tr>\n",
       "    <tr>\n",
       "      <th>4</th>\n",
       "      <td>A002</td>\n",
       "      <td>R051</td>\n",
       "      <td>02-00-00</td>\n",
       "      <td>59 ST</td>\n",
       "      <td>2016-08-31</td>\n",
       "      <td>5805383</td>\n",
       "      <td>08/30/2016</td>\n",
       "      <td>5803875.0</td>\n",
       "      <td>1508.0</td>\n",
       "      <td>Wednesday</td>\n",
       "    </tr>\n",
       "    <tr>\n",
       "      <th>5</th>\n",
       "      <td>A002</td>\n",
       "      <td>R051</td>\n",
       "      <td>02-00-00</td>\n",
       "      <td>59 ST</td>\n",
       "      <td>2016-09-01</td>\n",
       "      <td>5806990</td>\n",
       "      <td>08/31/2016</td>\n",
       "      <td>5805383.0</td>\n",
       "      <td>1607.0</td>\n",
       "      <td>Thursday</td>\n",
       "    </tr>\n",
       "  </tbody>\n",
       "</table>\n",
       "</div>"
      ],
      "text/plain": [
       "    C/A  UNIT       SCP STATION       DATE  ENTRIES   PREV_DATE  PREV_ENTRIES  \\\n",
       "1  A002  R051  02-00-00   59 ST 2016-08-28  5800798  08/27/2016     5800121.0   \n",
       "2  A002  R051  02-00-00   59 ST 2016-08-29  5802336  08/28/2016     5800798.0   \n",
       "3  A002  R051  02-00-00   59 ST 2016-08-30  5803875  08/29/2016     5802336.0   \n",
       "4  A002  R051  02-00-00   59 ST 2016-08-31  5805383  08/30/2016     5803875.0   \n",
       "5  A002  R051  02-00-00   59 ST 2016-09-01  5806990  08/31/2016     5805383.0   \n",
       "\n",
       "   DAILY_ENTRIES        DAY  \n",
       "1          677.0     Sunday  \n",
       "2         1538.0     Monday  \n",
       "3         1539.0    Tuesday  \n",
       "4         1508.0  Wednesday  \n",
       "5         1607.0   Thursday  "
      ]
     },
     "execution_count": 42,
     "metadata": {},
     "output_type": "execute_result"
    }
   ],
   "source": [
    "turnstiles_daily.head()"
   ]
  },
  {
   "cell_type": "code",
   "execution_count": 43,
   "metadata": {},
   "outputs": [
    {
     "data": {
      "text/plain": [
       "dtype('<M8[ns]')"
      ]
     },
     "execution_count": 43,
     "metadata": {},
     "output_type": "execute_result"
    }
   ],
   "source": [
    "turnstiles_daily['DATE'].dtype"
   ]
  },
  {
   "cell_type": "markdown",
   "metadata": {
    "collapsed": true
   },
   "source": [
    "### Andre's Original Functions for Challenge 3"
   ]
  },
  {
   "cell_type": "code",
   "execution_count": 44,
   "metadata": {
    "collapsed": true
   },
   "outputs": [],
   "source": [
    "# gb = aug26_sept16.groupby(['LOCATION','DATE']).sum()\n",
    "# gb.reset_index()\n",
    "# del gb['ENTRIES']\n",
    "# del gb['EXITS']\n",
    "# gb.reset_index()\n",
    "\n",
    "\n",
    "# series_for_loc = {}\n",
    "# for location in aug26_sept16.LOCATION.unique():\n",
    "#     f = gb.loc[location]\n",
    "#     series_for_loc[location] = list(zip(f.index, f.ENTRIES_COUNT))\n",
    "    \n",
    "# ST59 = series_for_loc[('A002', 'R051', '02-00-00', '59 ST')]\n",
    "\n",
    "# aug26_sept16_gb = aug26_sept16.groupby(['STATION','C/A', 'UNIT', 'SCP', 'DATE', 'TIME', 'DAY', 'LOCATION']).ENTRIES_COUNT.agg(['sum']).reset_index()\n",
    "# aug26_sept16_gb.head()\n",
    "\n",
    "# AV1 = aug26_sept16_gb[(aug26_sept16_gb['LOCATION'] == ('H007', 'R248', '00-00-00', '1 AV'))]\n",
    "# AV1.head()"
   ]
  },
  {
   "cell_type": "markdown",
   "metadata": {},
   "source": [
    "#### Challenge 4"
   ]
  },
  {
   "cell_type": "code",
   "execution_count": 45,
   "metadata": {},
   "outputs": [
    {
     "data": {
      "text/html": [
       "<div>\n",
       "<table border=\"1\" class=\"dataframe\">\n",
       "  <thead>\n",
       "    <tr style=\"text-align: right;\">\n",
       "      <th></th>\n",
       "      <th>C/A</th>\n",
       "      <th>UNIT</th>\n",
       "      <th>SCP</th>\n",
       "      <th>STATION</th>\n",
       "      <th>DATE</th>\n",
       "      <th>ENTRIES</th>\n",
       "      <th>PREV_DATE</th>\n",
       "      <th>PREV_ENTRIES</th>\n",
       "      <th>DAILY_ENTRIES</th>\n",
       "      <th>DAY</th>\n",
       "    </tr>\n",
       "  </thead>\n",
       "  <tbody>\n",
       "    <tr>\n",
       "      <th>16</th>\n",
       "      <td>A002</td>\n",
       "      <td>R051</td>\n",
       "      <td>02-00-00</td>\n",
       "      <td>59 ST</td>\n",
       "      <td>2016-09-12</td>\n",
       "      <td>5820548</td>\n",
       "      <td>09/11/2016</td>\n",
       "      <td>5818974.0</td>\n",
       "      <td>1574.0</td>\n",
       "      <td>Monday</td>\n",
       "    </tr>\n",
       "    <tr>\n",
       "      <th>17</th>\n",
       "      <td>A002</td>\n",
       "      <td>R051</td>\n",
       "      <td>02-00-00</td>\n",
       "      <td>59 ST</td>\n",
       "      <td>2016-09-13</td>\n",
       "      <td>5822272</td>\n",
       "      <td>09/12/2016</td>\n",
       "      <td>5820548.0</td>\n",
       "      <td>1724.0</td>\n",
       "      <td>Tuesday</td>\n",
       "    </tr>\n",
       "    <tr>\n",
       "      <th>18</th>\n",
       "      <td>A002</td>\n",
       "      <td>R051</td>\n",
       "      <td>02-00-00</td>\n",
       "      <td>59 ST</td>\n",
       "      <td>2016-09-14</td>\n",
       "      <td>5824032</td>\n",
       "      <td>09/13/2016</td>\n",
       "      <td>5822272.0</td>\n",
       "      <td>1760.0</td>\n",
       "      <td>Wednesday</td>\n",
       "    </tr>\n",
       "    <tr>\n",
       "      <th>19</th>\n",
       "      <td>A002</td>\n",
       "      <td>R051</td>\n",
       "      <td>02-00-00</td>\n",
       "      <td>59 ST</td>\n",
       "      <td>2016-09-15</td>\n",
       "      <td>5825807</td>\n",
       "      <td>09/14/2016</td>\n",
       "      <td>5824032.0</td>\n",
       "      <td>1775.0</td>\n",
       "      <td>Thursday</td>\n",
       "    </tr>\n",
       "    <tr>\n",
       "      <th>20</th>\n",
       "      <td>A002</td>\n",
       "      <td>R051</td>\n",
       "      <td>02-00-00</td>\n",
       "      <td>59 ST</td>\n",
       "      <td>2016-09-16</td>\n",
       "      <td>5827597</td>\n",
       "      <td>09/15/2016</td>\n",
       "      <td>5825807.0</td>\n",
       "      <td>1790.0</td>\n",
       "      <td>Friday</td>\n",
       "    </tr>\n",
       "  </tbody>\n",
       "</table>\n",
       "</div>"
      ],
      "text/plain": [
       "     C/A  UNIT       SCP STATION       DATE  ENTRIES   PREV_DATE  \\\n",
       "16  A002  R051  02-00-00   59 ST 2016-09-12  5820548  09/11/2016   \n",
       "17  A002  R051  02-00-00   59 ST 2016-09-13  5822272  09/12/2016   \n",
       "18  A002  R051  02-00-00   59 ST 2016-09-14  5824032  09/13/2016   \n",
       "19  A002  R051  02-00-00   59 ST 2016-09-15  5825807  09/14/2016   \n",
       "20  A002  R051  02-00-00   59 ST 2016-09-16  5827597  09/15/2016   \n",
       "\n",
       "    PREV_ENTRIES  DAILY_ENTRIES        DAY  \n",
       "16     5818974.0         1574.0     Monday  \n",
       "17     5820548.0         1724.0    Tuesday  \n",
       "18     5822272.0         1760.0  Wednesday  \n",
       "19     5824032.0         1775.0   Thursday  \n",
       "20     5825807.0         1790.0     Friday  "
      ]
     },
     "execution_count": 45,
     "metadata": {},
     "output_type": "execute_result"
    }
   ],
   "source": [
    "mask = ((turnstiles_daily[\"C/A\"] == \"A002\") & \n",
    "(turnstiles_daily[\"UNIT\"] == \"R051\") & \n",
    "(turnstiles_daily[\"SCP\"] == \"02-00-00\") & \n",
    "(turnstiles_daily[\"STATION\"] == \"59 ST\"))\n",
    "ST59 = turnstiles_daily[mask]\n",
    "ST59.tail()"
   ]
  },
  {
   "cell_type": "code",
   "execution_count": 46,
   "metadata": {},
   "outputs": [
    {
     "name": "stderr",
     "output_type": "stream",
     "text": [
      "C:\\Users\\aj282\\Anaconda3\\lib\\site-packages\\matplotlib\\axes\\_axes.py:531: UserWarning: No labelled objects found. Use label='...' kwarg on individual plots.\n",
      "  warnings.warn(\"No labelled objects found. \"\n"
     ]
    },
    {
     "data": {
      "image/png": "[encoded data removed]",
      "text/plain": [
       "<matplotlib.figure.Figure at 0x2425d6b69b0>"
      ]
     },
     "metadata": {},
     "output_type": "display_data"
    }
   ],
   "source": [
    "ax = plt.axes()\n",
    "g = sns.pointplot(x='DATE', y='DAILY_ENTRIES', data=ST59, palette=\"husl\", join=True)\n",
    "ax.set_title('59th Street Turnstile \"A002\", \"R051\", \"02-00-00\" AUG 27 - SEPT 15 DAILY ENTRIES')\n",
    "plt.legend(bbox_to_anchor=(1.05, 1), loc=2, borderaxespad=0.)\n",
    "plt.ylabel('Total Entries By Date')\n",
    "g.set_xticklabels(labels = ST59['DATE'], rotation=60, fontsize=10)\n",
    "# for i in len(AV1):\n",
    "#     if i%5 == 0: g.set(xticklabels=[])\n",
    "plt.show()"
   ]
  },
  {
   "cell_type": "code",
   "execution_count": 47,
   "metadata": {},
   "outputs": [
    {
     "data": {
      "image/png": "[encoded data removed]",
      "text/plain": [
       "<matplotlib.figure.Figure at 0x2425b421f98>"
      ]
     },
     "metadata": {},
     "output_type": "display_data"
    }
   ],
   "source": [
    "plt.plot(ST59['DATE'], ST59['DAILY_ENTRIES'], 'r');\n",
    "plt.title('59th Street Turnstile \"A002\", \"R051\", \"02-00-00\" AUG 27 - SEPT 15 DAILY ENTRIES')\n",
    "plt.xticks(rotation=60, fontsize=15);"
   ]
  },
  {
   "cell_type": "markdown",
   "metadata": {},
   "source": [
    "#### Challenge 5"
   ]
  },
  {
   "cell_type": "code",
   "execution_count": 48,
   "metadata": {},
   "outputs": [
    {
     "data": {
      "text/html": [
       "<div>\n",
       "<table border=\"1\" class=\"dataframe\">\n",
       "  <thead>\n",
       "    <tr style=\"text-align: right;\">\n",
       "      <th></th>\n",
       "      <th>C/A</th>\n",
       "      <th>UNIT</th>\n",
       "      <th>SCP</th>\n",
       "      <th>STATION</th>\n",
       "      <th>DATE</th>\n",
       "      <th>ENTRIES</th>\n",
       "      <th>PREV_DATE</th>\n",
       "      <th>PREV_ENTRIES</th>\n",
       "      <th>DAILY_ENTRIES</th>\n",
       "      <th>DAY</th>\n",
       "    </tr>\n",
       "  </thead>\n",
       "  <tbody>\n",
       "    <tr>\n",
       "      <th>1</th>\n",
       "      <td>A002</td>\n",
       "      <td>R051</td>\n",
       "      <td>02-00-00</td>\n",
       "      <td>59 ST</td>\n",
       "      <td>2016-08-28</td>\n",
       "      <td>5800798</td>\n",
       "      <td>08/27/2016</td>\n",
       "      <td>5800121.0</td>\n",
       "      <td>677.0</td>\n",
       "      <td>Sunday</td>\n",
       "    </tr>\n",
       "    <tr>\n",
       "      <th>2</th>\n",
       "      <td>A002</td>\n",
       "      <td>R051</td>\n",
       "      <td>02-00-00</td>\n",
       "      <td>59 ST</td>\n",
       "      <td>2016-08-29</td>\n",
       "      <td>5802336</td>\n",
       "      <td>08/28/2016</td>\n",
       "      <td>5800798.0</td>\n",
       "      <td>1538.0</td>\n",
       "      <td>Monday</td>\n",
       "    </tr>\n",
       "    <tr>\n",
       "      <th>3</th>\n",
       "      <td>A002</td>\n",
       "      <td>R051</td>\n",
       "      <td>02-00-00</td>\n",
       "      <td>59 ST</td>\n",
       "      <td>2016-08-30</td>\n",
       "      <td>5803875</td>\n",
       "      <td>08/29/2016</td>\n",
       "      <td>5802336.0</td>\n",
       "      <td>1539.0</td>\n",
       "      <td>Tuesday</td>\n",
       "    </tr>\n",
       "    <tr>\n",
       "      <th>4</th>\n",
       "      <td>A002</td>\n",
       "      <td>R051</td>\n",
       "      <td>02-00-00</td>\n",
       "      <td>59 ST</td>\n",
       "      <td>2016-08-31</td>\n",
       "      <td>5805383</td>\n",
       "      <td>08/30/2016</td>\n",
       "      <td>5803875.0</td>\n",
       "      <td>1508.0</td>\n",
       "      <td>Wednesday</td>\n",
       "    </tr>\n",
       "    <tr>\n",
       "      <th>5</th>\n",
       "      <td>A002</td>\n",
       "      <td>R051</td>\n",
       "      <td>02-00-00</td>\n",
       "      <td>59 ST</td>\n",
       "      <td>2016-09-01</td>\n",
       "      <td>5806990</td>\n",
       "      <td>08/31/2016</td>\n",
       "      <td>5805383.0</td>\n",
       "      <td>1607.0</td>\n",
       "      <td>Thursday</td>\n",
       "    </tr>\n",
       "  </tbody>\n",
       "</table>\n",
       "</div>"
      ],
      "text/plain": [
       "    C/A  UNIT       SCP STATION       DATE  ENTRIES   PREV_DATE  PREV_ENTRIES  \\\n",
       "1  A002  R051  02-00-00   59 ST 2016-08-28  5800798  08/27/2016     5800121.0   \n",
       "2  A002  R051  02-00-00   59 ST 2016-08-29  5802336  08/28/2016     5800798.0   \n",
       "3  A002  R051  02-00-00   59 ST 2016-08-30  5803875  08/29/2016     5802336.0   \n",
       "4  A002  R051  02-00-00   59 ST 2016-08-31  5805383  08/30/2016     5803875.0   \n",
       "5  A002  R051  02-00-00   59 ST 2016-09-01  5806990  08/31/2016     5805383.0   \n",
       "\n",
       "   DAILY_ENTRIES        DAY  \n",
       "1          677.0     Sunday  \n",
       "2         1538.0     Monday  \n",
       "3         1539.0    Tuesday  \n",
       "4         1508.0  Wednesday  \n",
       "5         1607.0   Thursday  "
      ]
     },
     "execution_count": 48,
     "metadata": {},
     "output_type": "execute_result"
    }
   ],
   "source": [
    "turnstiles_daily.head()"
   ]
  },
  {
   "cell_type": "code",
   "execution_count": 49,
   "metadata": {},
   "outputs": [
    {
     "data": {
      "text/html": [
       "<div>\n",
       "<table border=\"1\" class=\"dataframe\">\n",
       "  <thead>\n",
       "    <tr style=\"text-align: right;\">\n",
       "      <th></th>\n",
       "      <th>C/A</th>\n",
       "      <th>UNIT</th>\n",
       "      <th>STATION</th>\n",
       "      <th>DATE</th>\n",
       "      <th>sum</th>\n",
       "    </tr>\n",
       "  </thead>\n",
       "  <tbody>\n",
       "    <tr>\n",
       "      <th>0</th>\n",
       "      <td>A002</td>\n",
       "      <td>R051</td>\n",
       "      <td>59 ST</td>\n",
       "      <td>2016-08-28</td>\n",
       "      <td>7896.0</td>\n",
       "    </tr>\n",
       "    <tr>\n",
       "      <th>1</th>\n",
       "      <td>A002</td>\n",
       "      <td>R051</td>\n",
       "      <td>59 ST</td>\n",
       "      <td>2016-08-29</td>\n",
       "      <td>15462.0</td>\n",
       "    </tr>\n",
       "    <tr>\n",
       "      <th>2</th>\n",
       "      <td>A002</td>\n",
       "      <td>R051</td>\n",
       "      <td>59 ST</td>\n",
       "      <td>2016-08-30</td>\n",
       "      <td>16622.0</td>\n",
       "    </tr>\n",
       "    <tr>\n",
       "      <th>3</th>\n",
       "      <td>A002</td>\n",
       "      <td>R051</td>\n",
       "      <td>59 ST</td>\n",
       "      <td>2016-08-31</td>\n",
       "      <td>16557.0</td>\n",
       "    </tr>\n",
       "    <tr>\n",
       "      <th>4</th>\n",
       "      <td>A002</td>\n",
       "      <td>R051</td>\n",
       "      <td>59 ST</td>\n",
       "      <td>2016-09-01</td>\n",
       "      <td>16464.0</td>\n",
       "    </tr>\n",
       "  </tbody>\n",
       "</table>\n",
       "</div>"
      ],
      "text/plain": [
       "    C/A  UNIT STATION       DATE      sum\n",
       "0  A002  R051   59 ST 2016-08-28   7896.0\n",
       "1  A002  R051   59 ST 2016-08-29  15462.0\n",
       "2  A002  R051   59 ST 2016-08-30  16622.0\n",
       "3  A002  R051   59 ST 2016-08-31  16557.0\n",
       "4  A002  R051   59 ST 2016-09-01  16464.0"
      ]
     },
     "execution_count": 49,
     "metadata": {},
     "output_type": "execute_result"
    }
   ],
   "source": [
    "turnstile_comb = (turnstiles_daily.groupby(['C/A', 'UNIT', 'STATION', 'DATE'])).DAILY_ENTRIES.agg(['sum']).reset_index()\n",
    "\n",
    "turnstile_comb.head()"
   ]
  },
  {
   "cell_type": "markdown",
   "metadata": {},
   "source": [
    "#### Challenge 6"
   ]
  },
  {
   "cell_type": "code",
   "execution_count": 50,
   "metadata": {},
   "outputs": [
    {
     "data": {
      "text/html": [
       "<div>\n",
       "<table border=\"1\" class=\"dataframe\">\n",
       "  <thead>\n",
       "    <tr style=\"text-align: right;\">\n",
       "      <th></th>\n",
       "      <th>STATION</th>\n",
       "      <th>DATE</th>\n",
       "      <th>DAY</th>\n",
       "      <th>sum</th>\n",
       "    </tr>\n",
       "  </thead>\n",
       "  <tbody>\n",
       "    <tr>\n",
       "      <th>0</th>\n",
       "      <td>1 AV</td>\n",
       "      <td>2016-08-28</td>\n",
       "      <td>Sunday</td>\n",
       "      <td>13871.0</td>\n",
       "    </tr>\n",
       "    <tr>\n",
       "      <th>1</th>\n",
       "      <td>1 AV</td>\n",
       "      <td>2016-08-29</td>\n",
       "      <td>Monday</td>\n",
       "      <td>18064.0</td>\n",
       "    </tr>\n",
       "    <tr>\n",
       "      <th>2</th>\n",
       "      <td>1 AV</td>\n",
       "      <td>2016-08-30</td>\n",
       "      <td>Tuesday</td>\n",
       "      <td>19182.0</td>\n",
       "    </tr>\n",
       "    <tr>\n",
       "      <th>3</th>\n",
       "      <td>1 AV</td>\n",
       "      <td>2016-08-31</td>\n",
       "      <td>Wednesday</td>\n",
       "      <td>19616.0</td>\n",
       "    </tr>\n",
       "    <tr>\n",
       "      <th>4</th>\n",
       "      <td>1 AV</td>\n",
       "      <td>2016-09-01</td>\n",
       "      <td>Thursday</td>\n",
       "      <td>20170.0</td>\n",
       "    </tr>\n",
       "  </tbody>\n",
       "</table>\n",
       "</div>"
      ],
      "text/plain": [
       "  STATION       DATE        DAY      sum\n",
       "0    1 AV 2016-08-28     Sunday  13871.0\n",
       "1    1 AV 2016-08-29     Monday  18064.0\n",
       "2    1 AV 2016-08-30    Tuesday  19182.0\n",
       "3    1 AV 2016-08-31  Wednesday  19616.0\n",
       "4    1 AV 2016-09-01   Thursday  20170.0"
      ]
     },
     "execution_count": 50,
     "metadata": {},
     "output_type": "execute_result"
    }
   ],
   "source": [
    "turnstile_station = (turnstiles_daily.groupby(['STATION', 'DATE', 'DAY'])).DAILY_ENTRIES.agg(['sum']).reset_index()\n",
    "\n",
    "turnstile_station.head()"
   ]
  },
  {
   "cell_type": "code",
   "execution_count": 51,
   "metadata": {},
   "outputs": [
    {
     "data": {
      "text/html": [
       "<div>\n",
       "<table border=\"1\" class=\"dataframe\">\n",
       "  <thead>\n",
       "    <tr style=\"text-align: right;\">\n",
       "      <th></th>\n",
       "      <th>STATION</th>\n",
       "      <th>DATE</th>\n",
       "      <th>DAY</th>\n",
       "      <th>sum</th>\n",
       "    </tr>\n",
       "  </thead>\n",
       "  <tbody>\n",
       "    <tr>\n",
       "      <th>0</th>\n",
       "      <td>1 AV</td>\n",
       "      <td>2016-08-28</td>\n",
       "      <td>Sunday</td>\n",
       "      <td>13871.0</td>\n",
       "    </tr>\n",
       "    <tr>\n",
       "      <th>1</th>\n",
       "      <td>1 AV</td>\n",
       "      <td>2016-08-29</td>\n",
       "      <td>Monday</td>\n",
       "      <td>18064.0</td>\n",
       "    </tr>\n",
       "    <tr>\n",
       "      <th>2</th>\n",
       "      <td>1 AV</td>\n",
       "      <td>2016-08-30</td>\n",
       "      <td>Tuesday</td>\n",
       "      <td>19182.0</td>\n",
       "    </tr>\n",
       "    <tr>\n",
       "      <th>3</th>\n",
       "      <td>1 AV</td>\n",
       "      <td>2016-08-31</td>\n",
       "      <td>Wednesday</td>\n",
       "      <td>19616.0</td>\n",
       "    </tr>\n",
       "    <tr>\n",
       "      <th>4</th>\n",
       "      <td>1 AV</td>\n",
       "      <td>2016-09-01</td>\n",
       "      <td>Thursday</td>\n",
       "      <td>20170.0</td>\n",
       "    </tr>\n",
       "  </tbody>\n",
       "</table>\n",
       "</div>"
      ],
      "text/plain": [
       "  STATION       DATE        DAY      sum\n",
       "0    1 AV 2016-08-28     Sunday  13871.0\n",
       "1    1 AV 2016-08-29     Monday  18064.0\n",
       "2    1 AV 2016-08-30    Tuesday  19182.0\n",
       "3    1 AV 2016-08-31  Wednesday  19616.0\n",
       "4    1 AV 2016-09-01   Thursday  20170.0"
      ]
     },
     "execution_count": 51,
     "metadata": {},
     "output_type": "execute_result"
    }
   ],
   "source": [
    "AV1 = turnstile_station[turnstile_station['STATION'] == '1 AV']\n",
    "AV1.head()"
   ]
  },
  {
   "cell_type": "markdown",
   "metadata": {},
   "source": [
    "#### Challenge 7"
   ]
  },
  {
   "cell_type": "code",
   "execution_count": 52,
   "metadata": {},
   "outputs": [
    {
     "data": {
      "image/png": "[encoded data removed]",
      "text/plain": [
       "<matplotlib.figure.Figure at 0x2425d9abf28>"
      ]
     },
     "metadata": {},
     "output_type": "display_data"
    }
   ],
   "source": [
    "plt.plot(AV1['DATE'], AV1['sum'], 'r');\n",
    "plt.title(\"Time Series of Total Daily Entries for 1st Ave Station\")\n",
    "plt.xticks(rotation=60, fontsize=15);"
   ]
  },
  {
   "cell_type": "markdown",
   "metadata": {},
   "source": [
    "#### Challenge 8"
   ]
  },
  {
   "cell_type": "code",
   "execution_count": 53,
   "metadata": {},
   "outputs": [
    {
     "data": {
      "text/html": [
       "<div>\n",
       "<table border=\"1\" class=\"dataframe\">\n",
       "  <thead>\n",
       "    <tr style=\"text-align: right;\">\n",
       "      <th></th>\n",
       "      <th>STATION</th>\n",
       "      <th>DATE</th>\n",
       "      <th>DAY</th>\n",
       "      <th>sum</th>\n",
       "      <th>WEEK</th>\n",
       "    </tr>\n",
       "  </thead>\n",
       "  <tbody>\n",
       "    <tr>\n",
       "      <th>0</th>\n",
       "      <td>1 AV</td>\n",
       "      <td>2016-08-28</td>\n",
       "      <td>Sunday</td>\n",
       "      <td>13871.0</td>\n",
       "      <td>0</td>\n",
       "    </tr>\n",
       "    <tr>\n",
       "      <th>1</th>\n",
       "      <td>1 AV</td>\n",
       "      <td>2016-08-29</td>\n",
       "      <td>Monday</td>\n",
       "      <td>18064.0</td>\n",
       "      <td>0</td>\n",
       "    </tr>\n",
       "    <tr>\n",
       "      <th>2</th>\n",
       "      <td>1 AV</td>\n",
       "      <td>2016-08-30</td>\n",
       "      <td>Tuesday</td>\n",
       "      <td>19182.0</td>\n",
       "      <td>0</td>\n",
       "    </tr>\n",
       "    <tr>\n",
       "      <th>3</th>\n",
       "      <td>1 AV</td>\n",
       "      <td>2016-08-31</td>\n",
       "      <td>Wednesday</td>\n",
       "      <td>19616.0</td>\n",
       "      <td>0</td>\n",
       "    </tr>\n",
       "    <tr>\n",
       "      <th>4</th>\n",
       "      <td>1 AV</td>\n",
       "      <td>2016-09-01</td>\n",
       "      <td>Thursday</td>\n",
       "      <td>20170.0</td>\n",
       "      <td>0</td>\n",
       "    </tr>\n",
       "  </tbody>\n",
       "</table>\n",
       "</div>"
      ],
      "text/plain": [
       "  STATION       DATE        DAY      sum  WEEK\n",
       "0    1 AV 2016-08-28     Sunday  13871.0     0\n",
       "1    1 AV 2016-08-29     Monday  18064.0     0\n",
       "2    1 AV 2016-08-30    Tuesday  19182.0     0\n",
       "3    1 AV 2016-08-31  Wednesday  19616.0     0\n",
       "4    1 AV 2016-09-01   Thursday  20170.0     0"
      ]
     },
     "execution_count": 53,
     "metadata": {},
     "output_type": "execute_result"
    }
   ],
   "source": [
    "turnstile_station['WEEK'] = 0\n",
    "turnstile_station.head()"
   ]
  },
  {
   "cell_type": "code",
   "execution_count": 55,
   "metadata": {},
   "outputs": [],
   "source": [
    "# week = 1\n",
    "# l = 0\n",
    "# for j in range(int(len(turnstile_station)/7)):\n",
    "#     for i in range(7):\n",
    "#         k = (i + l)\n",
    "#         turnstile_station['WEEK'].loc[k] = week\n",
    "#     l += 7    \n",
    "#     week += 1"
   ]
  },
  {
   "cell_type": "code",
   "execution_count": 56,
   "metadata": {},
   "outputs": [],
   "source": [
    "# turnstile_station[\"WEEK\"] = turnstile_station[\"WEEK\"].astype('category')"
   ]
  },
  {
   "cell_type": "code",
   "execution_count": 57,
   "metadata": {},
   "outputs": [],
   "source": [
    "AV1 = turnstile_station[turnstile_station[\"STATION\"]=='1 AV']"
   ]
  },
  {
   "cell_type": "code",
   "execution_count": 58,
   "metadata": {},
   "outputs": [
    {
     "name": "stderr",
     "output_type": "stream",
     "text": [
      "C:\\Users\\aj282\\Anaconda3\\lib\\site-packages\\pandas\\core\\indexing.py:132: SettingWithCopyWarning: \n",
      "A value is trying to be set on a copy of a slice from a DataFrame\n",
      "\n",
      "See the caveats in the documentation: http://pandas.pydata.org/pandas-docs/stable/indexing.html#indexing-view-versus-copy\n",
      "  self._setitem_with_indexer(indexer, value)\n",
      "C:\\Users\\aj282\\Anaconda3\\lib\\site-packages\\ipykernel\\__main__.py:6: SettingWithCopyWarning: \n",
      "A value is trying to be set on a copy of a slice from a DataFrame\n",
      "\n",
      "See the caveats in the documentation: http://pandas.pydata.org/pandas-docs/stable/indexing.html#indexing-view-versus-copy\n"
     ]
    }
   ],
   "source": [
    "week = 1\n",
    "l = 0\n",
    "for j in range(int(len(AV1)/7)):\n",
    "    for i in range(7):\n",
    "        k = (i + l)\n",
    "        AV1['WEEK'].loc[k] = week\n",
    "    l += 7    \n",
    "    week += 1"
   ]
  },
  {
   "cell_type": "markdown",
   "metadata": {},
   "source": [
    "**TA COMMENT:**\n",
    "\n",
    "Pandas has a built-in method to get the week number of a given date. An example code would be: df['DATE_TIME'].dt.week"
   ]
  },
  {
   "cell_type": "code",
   "execution_count": 60,
   "metadata": {},
   "outputs": [
    {
     "data": {
      "image/png": "[encoded data removed]",
      "text/plain": [
       "<matplotlib.figure.Figure at 0x2425d8615f8>"
      ]
     },
     "metadata": {},
     "output_type": "display_data"
    }
   ],
   "source": [
    "ax = plt.axes()\n",
    "g = sns.barplot(x='DAY', y='sum', hue='WEEK', data=AV1, palette=\"husl\")\n",
    "ax.set_title('Time Series of Total Daily Entries for 1st Ave Station by Day')\n",
    "plt.legend(bbox_to_anchor=(1.05, 1), loc=2, borderaxespad=0.)\n",
    "plt.ylabel('Total Entries By Day')\n",
    "g.set_xticklabels(labels = AV1['DAY'], rotation=60, fontsize=10)\n",
    "plt.show()"
   ]
  },
  {
   "cell_type": "code",
   "execution_count": 62,
   "metadata": {},
   "outputs": [
    {
     "data": {
      "image/png": "[encoded data removed]",
      "text/plain": [
       "<matplotlib.figure.Figure at 0x2425d8618d0>"
      ]
     },
     "metadata": {},
     "output_type": "display_data"
    }
   ],
   "source": [
    "ax = plt.axes()\n",
    "g = sns.barplot(x='WEEK', y='sum', hue='DAY', data=AV1, palette=\"husl\")\n",
    "ax.set_title('Time Series of Total Daily Entries for 1st Ave Station by Day')\n",
    "plt.legend(bbox_to_anchor=(1.05, 1), loc=2, borderaxespad=0.)\n",
    "plt.ylabel('Total Entries By Day')\n",
    "# g.set_xticklabels(labels = AV1['WEEK'], rotation=60, fontsize=10)\n",
    "plt.show()"
   ]
  },
  {
   "cell_type": "markdown",
   "metadata": {},
   "source": [
    "#### Challenge 9"
   ]
  },
  {
   "cell_type": "code",
   "execution_count": 79,
   "metadata": {},
   "outputs": [
    {
     "data": {
      "text/html": [
       "<div>\n",
       "<table border=\"1\" class=\"dataframe\">\n",
       "  <thead>\n",
       "    <tr style=\"text-align: right;\">\n",
       "      <th></th>\n",
       "      <th>STATION</th>\n",
       "      <th>sum</th>\n",
       "    </tr>\n",
       "  </thead>\n",
       "  <tbody>\n",
       "    <tr>\n",
       "      <th>61</th>\n",
       "      <td>34 ST-PENN STA</td>\n",
       "      <td>2874102.0</td>\n",
       "    </tr>\n",
       "    <tr>\n",
       "      <th>230</th>\n",
       "      <td>GRD CNTRL-42 ST</td>\n",
       "      <td>2477058.0</td>\n",
       "    </tr>\n",
       "    <tr>\n",
       "      <th>59</th>\n",
       "      <td>34 ST-HERALD SQ</td>\n",
       "      <td>2069243.0</td>\n",
       "    </tr>\n",
       "    <tr>\n",
       "      <th>46</th>\n",
       "      <td>23 ST</td>\n",
       "      <td>2054576.0</td>\n",
       "    </tr>\n",
       "    <tr>\n",
       "      <th>170</th>\n",
       "      <td>CANAL ST</td>\n",
       "      <td>1947344.0</td>\n",
       "    </tr>\n",
       "    <tr>\n",
       "      <th>14</th>\n",
       "      <td>14 ST-UNION SQ</td>\n",
       "      <td>1829280.0</td>\n",
       "    </tr>\n",
       "    <tr>\n",
       "      <th>109</th>\n",
       "      <td>86 ST</td>\n",
       "      <td>1791884.0</td>\n",
       "    </tr>\n",
       "    <tr>\n",
       "      <th>68</th>\n",
       "      <td>42 ST-PORT AUTH</td>\n",
       "      <td>1761587.0</td>\n",
       "    </tr>\n",
       "    <tr>\n",
       "      <th>348</th>\n",
       "      <td>TIMES SQ-42 ST</td>\n",
       "      <td>1700188.0</td>\n",
       "    </tr>\n",
       "    <tr>\n",
       "      <th>223</th>\n",
       "      <td>FULTON ST</td>\n",
       "      <td>1617214.0</td>\n",
       "    </tr>\n",
       "  </tbody>\n",
       "</table>\n",
       "</div>"
      ],
      "text/plain": [
       "             STATION        sum\n",
       "61    34 ST-PENN STA  2874102.0\n",
       "230  GRD CNTRL-42 ST  2477058.0\n",
       "59   34 ST-HERALD SQ  2069243.0\n",
       "46             23 ST  2054576.0\n",
       "170         CANAL ST  1947344.0\n",
       "14    14 ST-UNION SQ  1829280.0\n",
       "109            86 ST  1791884.0\n",
       "68   42 ST-PORT AUTH  1761587.0\n",
       "348   TIMES SQ-42 ST  1700188.0\n",
       "223        FULTON ST  1617214.0"
      ]
     },
     "execution_count": 79,
     "metadata": {},
     "output_type": "execute_result"
    }
   ],
   "source": [
    "turnstile_station_comb = (turnstile_station.groupby(['STATION'])).sum().reset_index()\n",
    "del turnstile_station_comb['WEEK']\n",
    "turnstile_station_comb = turnstile_station_comb.sort_values(['sum'], ascending=False)\n",
    "turnstile_station_top10 = turnstile_station_comb.head(10)\n",
    "turnstile_station_top10"
   ]
  },
  {
   "cell_type": "code",
   "execution_count": 88,
   "metadata": {
    "collapsed": true
   },
   "outputs": [],
   "source": [
    "turnstile_top10 = turnstile_station[turnstile_station['STATION'].isin(turnstile_station_top10['STATION'])]"
   ]
  },
  {
   "cell_type": "code",
   "execution_count": 119,
   "metadata": {},
   "outputs": [
    {
     "data": {
      "text/html": [
       "<div>\n",
       "<table border=\"1\" class=\"dataframe\">\n",
       "  <thead>\n",
       "    <tr style=\"text-align: right;\">\n",
       "      <th></th>\n",
       "      <th>STATION</th>\n",
       "      <th>DATE</th>\n",
       "      <th>sum</th>\n",
       "    </tr>\n",
       "  </thead>\n",
       "  <tbody>\n",
       "    <tr>\n",
       "      <th>3410</th>\n",
       "      <td>CANAL ST</td>\n",
       "      <td>2016-09-07</td>\n",
       "      <td>774392.0</td>\n",
       "    </tr>\n",
       "    <tr>\n",
       "      <th>1237</th>\n",
       "      <td>34 ST-PENN STA</td>\n",
       "      <td>2016-09-14</td>\n",
       "      <td>183298.0</td>\n",
       "    </tr>\n",
       "    <tr>\n",
       "      <th>1238</th>\n",
       "      <td>34 ST-PENN STA</td>\n",
       "      <td>2016-09-15</td>\n",
       "      <td>180683.0</td>\n",
       "    </tr>\n",
       "    <tr>\n",
       "      <th>1236</th>\n",
       "      <td>34 ST-PENN STA</td>\n",
       "      <td>2016-09-13</td>\n",
       "      <td>179509.0</td>\n",
       "    </tr>\n",
       "    <tr>\n",
       "      <th>1231</th>\n",
       "      <td>34 ST-PENN STA</td>\n",
       "      <td>2016-09-08</td>\n",
       "      <td>179000.0</td>\n",
       "    </tr>\n",
       "  </tbody>\n",
       "</table>\n",
       "</div>"
      ],
      "text/plain": [
       "             STATION       DATE       sum\n",
       "3410        CANAL ST 2016-09-07  774392.0\n",
       "1237  34 ST-PENN STA 2016-09-14  183298.0\n",
       "1238  34 ST-PENN STA 2016-09-15  180683.0\n",
       "1236  34 ST-PENN STA 2016-09-13  179509.0\n",
       "1231  34 ST-PENN STA 2016-09-08  179000.0"
      ]
     },
     "execution_count": 119,
     "metadata": {},
     "output_type": "execute_result"
    }
   ],
   "source": [
    "\n",
    "#del turnstile_top10['DAY']\n",
    "#del turnstile_top10['WEEK']\n",
    "turnstile_top10.sort_values('sum', ascending=False).head()"
   ]
  },
  {
   "cell_type": "code",
   "execution_count": 141,
   "metadata": {},
   "outputs": [],
   "source": [
    "top10 = turnstile_top10.sort_values('sum', ascending=False)"
   ]
  },
  {
   "cell_type": "code",
   "execution_count": 143,
   "metadata": {},
   "outputs": [],
   "source": [
    "top10B = top10.drop(top10.index[0])"
   ]
  },
  {
   "cell_type": "code",
   "execution_count": 148,
   "metadata": {},
   "outputs": [
    {
     "data": {
      "image/png": "[encoded data removed]",
      "text/plain": [
       "<matplotlib.figure.Figure at 0x24261711208>"
      ]
     },
     "metadata": {},
     "output_type": "display_data"
    }
   ],
   "source": [
    "ax = plt.axes()\n",
    "g = sns.pointplot(data=top10B, x='DATE', hue='STATION', y='sum')\n",
    "plt.yticks(np.linspace(0, 101070, num=10))\n",
    "ax.set_title('Time Series of Total Daily Entries for Top 10 Trafficked Station')\n",
    "plt.legend(bbox_to_anchor=(1.05, 1), loc=2, borderaxespad=0.)\n",
    "plt.ylabel('Total Entries By Day')\n",
    "g.set_xticklabels(labels = top10B['DATE'], rotation=60, fontsize=10)\n",
    "plt.show()"
   ]
  },
  {
   "cell_type": "markdown",
   "metadata": {
    "collapsed": true
   },
   "source": [
    "**TA COMMENT:**\n",
    "\n",
    "The y-labels seem off for this plot; they don't match up with the actual data points on the plot. The x-labels also seem off since the dates are not in order."
   ]
  },
  {
   "cell_type": "code",
   "execution_count": null,
   "metadata": {
    "collapsed": true
   },
   "outputs": [],
   "source": []
  },
  {
   "cell_type": "code",
   "execution_count": null,
   "metadata": {
    "collapsed": true
   },
   "outputs": [],
   "source": []
  },
  {
   "cell_type": "markdown",
   "metadata": {},
   "source": [
    "**TA COMMENT:**\n",
    "\n",
    "Overall, good job on the challenge. There are specific comments that I left throughout the notebook so take a look at those. If you find yourself doing something complicated, such as labeling each date with the corresponding week number, try going through pandas documentation first or try searching through google/stackoverflow. Chances are the exact process you're trying to do has been implemented into pandas."
   ]
  }
 ],
 "metadata": {
  "anaconda-cloud": {},
  "kernelspec": {
   "display_name": "Python 3",
   "language": "python",
   "name": "python3"
  },
  "language_info": {
   "codemirror_mode": {
    "name": "ipython",
    "version": 3
   },
   "file_extension": ".py",
   "mimetype": "text/x-python",
   "name": "python",
   "nbconvert_exporter": "python",
   "pygments_lexer": "ipython3",
   "version": "3.5.2"
  }
 },
 "nbformat": 4,
 "nbformat_minor": 1
}
