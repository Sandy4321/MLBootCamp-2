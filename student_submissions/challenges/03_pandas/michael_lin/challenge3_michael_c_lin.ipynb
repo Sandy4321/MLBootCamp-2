{
 "cells": [
  {
   "cell_type": "markdown",
   "metadata": {},
   "source": [
    "**Pandas Challenges**\n",
    "\n",
    "\n",
    "**Topic**: Pandas (Exploring and visualizing our scraped movie data in pandas)\n",
    "\n",
    "Just getting started? Read this guide: [10 minutes to pandas](http://pandas.pydata.org/pandas-docs/stable/10min.html)\n",
    "\n",
    "**Data**: Your own data! But: if you don't have movie data to work on yet, you can use some data on the top grossing 100 movies from 2013, scraped from Box Office Mojo: `2013_movies.csv`\n",
    "\n",
    "\n",
    "---\n",
    "\n",
    "\n",
    "**Challenge 1**\n",
    "\n",
    "Plot domestic total gross over time.\n",
    "\n",
    "\n",
    "**Challenge 2**\n",
    "\n",
    "Plot runtime vs. domestic total gross.\n",
    "\n",
    "\n",
    "**Challenge 3**\n",
    "\n",
    "Group your data by Rating and find the average runtime and domestic total gross at each level of Rating.\n",
    "\n",
    "\n",
    "**Challenge 4**\n",
    "\n",
    "Make one figure with (N=the number of MPAA ratings there are) subplots, and in each plot the release date vs the domestic total gross.\n",
    "\n",
    "\n",
    "**Challenge 5**\n",
    "\n",
    "What director in your dataset has the highest gross per movie?\n",
    "\n",
    "\n",
    "**Challenge 6**\n",
    "\n",
    "Bin your dataset into months and make a bar graph of the mean domestic total gross by month.  Error bars will represent the standard error of the mean.\n",
    "\n",
    "Title of graph should include:  Mean Domestic Total Gross by Month in 2013\n",
    "\n",
    "Topic for consideration:  what is the correct formula for the standard error of the mean?  Examine the error bars and see if they are \"reasonable.\"\n"
   ]
  },
  {
   "cell_type": "code",
   "execution_count": 1,
   "metadata": {
    "collapsed": true
   },
   "outputs": [],
   "source": [
    "import pandas as pd\n",
    "import numpy as np\n",
    "\n",
    "\n",
    "df = pd.read_csv(\"2013_movies.csv\")  #, header=None, names=['date', 'price'])\n"
   ]
  },
  {
   "cell_type": "code",
   "execution_count": 13,
   "metadata": {},
   "outputs": [
    {
     "data": {
      "text/plain": [
       "Index(['Title', 'Budget', 'DomesticTotalGross', 'Director', 'Rating',\n",
       "       'Runtime', 'ReleaseDate'],\n",
       "      dtype='object')"
      ]
     },
     "execution_count": 13,
     "metadata": {},
     "output_type": "execute_result"
    }
   ],
   "source": [
    "df.columns"
   ]
  },
  {
   "cell_type": "code",
   "execution_count": 5,
   "metadata": {},
   "outputs": [
    {
     "data": {
      "text/html": [
       "<div>\n",
       "<style>\n",
       "    .dataframe thead tr:only-child th {\n",
       "        text-align: right;\n",
       "    }\n",
       "\n",
       "    .dataframe thead th {\n",
       "        text-align: left;\n",
       "    }\n",
       "\n",
       "    .dataframe tbody tr th {\n",
       "        vertical-align: top;\n",
       "    }\n",
       "</style>\n",
       "<table border=\"1\" class=\"dataframe\">\n",
       "  <thead>\n",
       "    <tr style=\"text-align: right;\">\n",
       "      <th></th>\n",
       "      <th>Budget</th>\n",
       "      <th>DomesticTotalGross</th>\n",
       "      <th>Runtime</th>\n",
       "    </tr>\n",
       "  </thead>\n",
       "  <tbody>\n",
       "    <tr>\n",
       "      <th>count</th>\n",
       "      <td>8.900000e+01</td>\n",
       "      <td>1.000000e+02</td>\n",
       "      <td>100.000000</td>\n",
       "    </tr>\n",
       "    <tr>\n",
       "      <th>mean</th>\n",
       "      <td>7.474719e+07</td>\n",
       "      <td>1.005969e+08</td>\n",
       "      <td>112.260000</td>\n",
       "    </tr>\n",
       "    <tr>\n",
       "      <th>std</th>\n",
       "      <td>5.941692e+07</td>\n",
       "      <td>8.739641e+07</td>\n",
       "      <td>18.190696</td>\n",
       "    </tr>\n",
       "    <tr>\n",
       "      <th>min</th>\n",
       "      <td>2.500000e+06</td>\n",
       "      <td>2.556825e+07</td>\n",
       "      <td>75.000000</td>\n",
       "    </tr>\n",
       "    <tr>\n",
       "      <th>25%</th>\n",
       "      <td>2.800000e+07</td>\n",
       "      <td>4.270413e+07</td>\n",
       "      <td>98.000000</td>\n",
       "    </tr>\n",
       "    <tr>\n",
       "      <th>50%</th>\n",
       "      <td>5.500000e+07</td>\n",
       "      <td>6.954237e+07</td>\n",
       "      <td>112.000000</td>\n",
       "    </tr>\n",
       "    <tr>\n",
       "      <th>75%</th>\n",
       "      <td>1.100000e+08</td>\n",
       "      <td>1.204759e+08</td>\n",
       "      <td>123.000000</td>\n",
       "    </tr>\n",
       "    <tr>\n",
       "      <th>max</th>\n",
       "      <td>2.250000e+08</td>\n",
       "      <td>4.246680e+08</td>\n",
       "      <td>180.000000</td>\n",
       "    </tr>\n",
       "  </tbody>\n",
       "</table>\n",
       "</div>"
      ],
      "text/plain": [
       "             Budget  DomesticTotalGross     Runtime\n",
       "count  8.900000e+01        1.000000e+02  100.000000\n",
       "mean   7.474719e+07        1.005969e+08  112.260000\n",
       "std    5.941692e+07        8.739641e+07   18.190696\n",
       "min    2.500000e+06        2.556825e+07   75.000000\n",
       "25%    2.800000e+07        4.270413e+07   98.000000\n",
       "50%    5.500000e+07        6.954237e+07  112.000000\n",
       "75%    1.100000e+08        1.204759e+08  123.000000\n",
       "max    2.250000e+08        4.246680e+08  180.000000"
      ]
     },
     "execution_count": 5,
     "metadata": {},
     "output_type": "execute_result"
    }
   ],
   "source": [
    "df.describe()"
   ]
  },
  {
   "cell_type": "markdown",
   "metadata": {},
   "source": [
    "## Challenge 1\n",
    "Plot domestic total gross over time.\n"
   ]
  },
  {
   "cell_type": "code",
   "execution_count": 124,
   "metadata": {},
   "outputs": [
    {
     "data": {
      "text/plain": [
       "<matplotlib.axes._subplots.AxesSubplot at 0x1255d6f98>"
      ]
     },
     "execution_count": 124,
     "metadata": {},
     "output_type": "execute_result"
    },
    {
     "data": {
      "image/png": "[encoded data removed]",
      "text/plain": [
       "<matplotlib.figure.Figure at 0x1252c2710>"
      ]
     },
     "metadata": {},
     "output_type": "display_data"
    }
   ],
   "source": [
    "%matplotlib inline\n",
    "import matplotlib.pyplot as plt\n",
    "\n",
    "plt.figure(figsize=(9,6))\n",
    "plt.title('Plot runtime vs. domestic total gross.')\n",
    "\n",
    "df.groupby('ReleaseDate').DomesticTotalGross.sum().plot(kind='bar')"
   ]
  },
  {
   "cell_type": "markdown",
   "metadata": {},
   "source": [
    "### Challenge 2\n",
    "Plot runtime vs. domestic total gross."
   ]
  },
  {
   "cell_type": "code",
   "execution_count": 125,
   "metadata": {},
   "outputs": [
    {
     "data": {
      "text/plain": [
       "(array([ 47.,  21.,  15.,   3.,   3.,   4.,   3.,   0.,   1.,   3.]),\n",
       " array([  2.55682510e+07,   6.54782306e+07,   1.05388210e+08,\n",
       "          1.45298190e+08,   1.85208169e+08,   2.25118149e+08,\n",
       "          2.65028129e+08,   3.04938108e+08,   3.44848088e+08,\n",
       "          3.84758067e+08,   4.24668047e+08]),\n",
       " <a list of 10 Patch objects>)"
      ]
     },
     "execution_count": 125,
     "metadata": {},
     "output_type": "execute_result"
    },
    {
     "data": {
      "image/png": "[encoded data removed]",
      "text/plain": [
       "<matplotlib.figure.Figure at 0x126683860>"
      ]
     },
     "metadata": {},
     "output_type": "display_data"
    },
    {
     "data": {
      "image/png": "[encoded data removed]",
      "text/plain": [
       "<matplotlib.figure.Figure at 0x1268d3438>"
      ]
     },
     "metadata": {},
     "output_type": "display_data"
    }
   ],
   "source": [
    "import matplotlib.pyplot as plt\n",
    "\n",
    "plt.figure(figsize=(9,6))\n",
    "\n",
    "plt.title('Plot runtime vs. domestic total gross.')\n",
    "\n",
    "plt.bar( df.Runtime.sort_values(ascending=True), \n",
    "         df.DomesticTotalGross, \n",
    "         color='c')\n",
    "\n",
    "\n",
    "plt.figure(figsize=(9,6))\n",
    "plt.hist(df.DomesticTotalGross.sort_values())\n",
    "\n"
   ]
  },
  {
   "cell_type": "markdown",
   "metadata": {},
   "source": [
    "## Challenge 3\n",
    "Group your data by Rating and find the average runtime and domestic total gross at each level of Rating."
   ]
  },
  {
   "cell_type": "code",
   "execution_count": 131,
   "metadata": {},
   "outputs": [
    {
     "data": {
      "text/plain": [
       "Index(['Title', 'Budget', 'DomesticTotalGross', 'Director', 'Rating',\n",
       "       'Runtime', 'ReleaseDate'],\n",
       "      dtype='object')"
      ]
     },
     "execution_count": 131,
     "metadata": {},
     "output_type": "execute_result"
    }
   ],
   "source": [
    "df.columns"
   ]
  },
  {
   "cell_type": "code",
   "execution_count": 137,
   "metadata": {},
   "outputs": [
    {
     "data": {
      "text/html": [
       "<div>\n",
       "<style>\n",
       "    .dataframe thead tr:only-child th {\n",
       "        text-align: right;\n",
       "    }\n",
       "\n",
       "    .dataframe thead th {\n",
       "        text-align: left;\n",
       "    }\n",
       "\n",
       "    .dataframe tbody tr th {\n",
       "        vertical-align: top;\n",
       "    }\n",
       "</style>\n",
       "<table border=\"1\" class=\"dataframe\">\n",
       "  <thead>\n",
       "    <tr style=\"text-align: right;\">\n",
       "      <th></th>\n",
       "      <th>Runtime</th>\n",
       "      <th>DomesticTotalGross</th>\n",
       "    </tr>\n",
       "    <tr>\n",
       "      <th>Rating</th>\n",
       "      <th></th>\n",
       "      <th></th>\n",
       "    </tr>\n",
       "  </thead>\n",
       "  <tbody>\n",
       "    <tr>\n",
       "      <th>G</th>\n",
       "      <td>107.000000</td>\n",
       "      <td>2.684928e+08</td>\n",
       "    </tr>\n",
       "    <tr>\n",
       "      <th>PG</th>\n",
       "      <td>99.933333</td>\n",
       "      <td>1.311357e+08</td>\n",
       "    </tr>\n",
       "    <tr>\n",
       "      <th>PG-13</th>\n",
       "      <td>117.510638</td>\n",
       "      <td>1.114498e+08</td>\n",
       "    </tr>\n",
       "    <tr>\n",
       "      <th>R</th>\n",
       "      <td>110.729730</td>\n",
       "      <td>6.989243e+07</td>\n",
       "    </tr>\n",
       "  </tbody>\n",
       "</table>\n",
       "</div>"
      ],
      "text/plain": [
       "           Runtime  DomesticTotalGross\n",
       "Rating                                \n",
       "G       107.000000        2.684928e+08\n",
       "PG       99.933333        1.311357e+08\n",
       "PG-13   117.510638        1.114498e+08\n",
       "R       110.729730        6.989243e+07"
      ]
     },
     "execution_count": 137,
     "metadata": {},
     "output_type": "execute_result"
    }
   ],
   "source": [
    "df.groupby('Rating')['Runtime','DomesticTotalGross'].mean()\n"
   ]
  },
  {
   "cell_type": "markdown",
   "metadata": {},
   "source": [
    "### Challenge 4\n",
    "Make one figure with (N=the number of MPAA ratings there are) subplots, and in each plot the release date vs the domestic total gros"
   ]
  },
  {
   "cell_type": "code",
   "execution_count": 342,
   "metadata": {},
   "outputs": [
    {
     "name": "stdout",
     "output_type": "stream",
     "text": [
      "['PG-13', 'R', 'PG', 'G']\n"
     ]
    },
    {
     "data": {
      "image/png": "[encoded data removed]",
      "text/plain": [
       "<matplotlib.figure.Figure at 0x12ca43390>"
      ]
     },
     "metadata": {},
     "output_type": "display_data"
    }
   ],
   "source": [
    "import matplotlib.pyplot as plt\n",
    "\n",
    "z = df.Rating.value_counts().reset_index()\n",
    "rating_list = [x for x in z['index']]\n",
    "print(rating_list)\n",
    "\n",
    "\n",
    "plt.figure(figsize=(15,12))\n",
    "plt.subplot(2,2,1)\n",
    "for i, rating in enumerate(rating_list):\n",
    "    plt.subplot(2,2,(i+1))\n",
    "\n",
    "    df[ df.Rating == rating].groupby('ReleaseDate').DomesticTotalGross.sum().plot(kind='bar')\n",
    "\n",
    "    #plt.plot(x, y2)\n",
    "    plt.title(rating)\n",
    "\n",
    "\n",
    "# =============== 444444444444444"
   ]
  },
  {
   "cell_type": "code",
   "execution_count": 333,
   "metadata": {},
   "outputs": [
    {
     "data": {
      "text/plain": [
       "ReleaseDate\n",
       "2013-01-04 00:00:00     34341945\n",
       "2013-01-11 00:00:00     86042586\n",
       "2013-01-25 00:00:00     55703475\n",
       "2013-02-08 00:00:00    166679677\n",
       "2013-02-14 00:00:00     67349198\n",
       "2013-03-01 00:00:00     25682380\n",
       "2013-03-15 00:00:00     51872378\n",
       "2013-03-22 00:00:00     98925640\n",
       "2013-04-05 00:00:00     54239856\n",
       "2013-04-26 00:00:00     49875291\n",
       "2013-05-23 00:00:00    112200072\n",
       "2013-06-07 00:00:00     64473115\n",
       "2013-06-12 00:00:00    101470202\n",
       "2013-06-28 00:00:00    159582188\n",
       "2013-07-03 00:00:00     32244051\n",
       "2013-07-19 00:00:00    137400141\n",
       "2013-08-02 00:00:00     75612460\n",
       "2013-08-07 00:00:00    150394119\n",
       "2013-08-09 00:00:00     93050117\n",
       "2013-08-16 00:00:00     28795985\n",
       "2013-08-23 00:00:00     26004851\n",
       "2013-09-06 00:00:00     42025135\n",
       "2013-09-13 00:00:00     36918811\n",
       "2013-09-20 00:00:00     87949926\n",
       "2013-10-18 00:00:00     91938612\n",
       "2013-10-25 00:00:00    102003019\n",
       "2013-11-01 00:00:00     27298285\n",
       "2013-11-15 00:00:00     70525195\n",
       "2013-12-13 00:00:00    150117807\n",
       "2013-12-18 00:00:00     25568251\n",
       "2013-12-25 00:00:00    241996295\n",
       "2013-12-27 00:00:00     37738810\n",
       "Name: DomesticTotalGross, dtype: int64"
      ]
     },
     "execution_count": 333,
     "metadata": {},
     "output_type": "execute_result"
    }
   ],
   "source": [
    "df[df.Rating=='R'].groupby('ReleaseDate').DomesticTotalGross.sum()\n"
   ]
  },
  {
   "cell_type": "code",
   "execution_count": 173,
   "metadata": {},
   "outputs": [
    {
     "name": "stdout",
     "output_type": "stream",
     "text": [
      "type= <class 'tuple'>\n",
      "type= <class 'tuple'>\n",
      "type= <class 'tuple'>\n",
      "type= <class 'tuple'>\n"
     ]
    },
    {
     "data": {
      "text/plain": [
       "<matplotlib.axes._subplots.AxesSubplot at 0x12b56a8d0>"
      ]
     },
     "execution_count": 173,
     "metadata": {},
     "output_type": "execute_result"
    },
    {
     "data": {
      "image/png": "[encoded data removed]",
      "text/plain": [
       "<matplotlib.figure.Figure at 0x12cf322e8>"
      ]
     },
     "metadata": {},
     "output_type": "display_data"
    },
    {
     "data": {
      "image/png": "[encoded data removed]",
      "text/plain": [
       "<matplotlib.figure.Figure at 0x12b576320>"
      ]
     },
     "metadata": {},
     "output_type": "display_data"
    }
   ],
   "source": [
    "#df.groupby('Rating')['ReleaseDate','DomesticTotalGross'].mean()\n",
    "\n",
    "x = np.linspace(0,10,100)\n",
    "\n",
    "y1 = x\n",
    "y2 = x**2\n",
    "y3 = x**3\n",
    "y4 = x**0.5\n",
    "\n",
    "\n",
    "plt.figure(figsize=(12,9))\n",
    "plt.subplot(2,2,1)\n",
    "plt.plot(x,y1)\n",
    "plt.title('$f(x)=x$')\n",
    "\n",
    "plt.subplot(2,2,2)\n",
    "plt.plot(x,y2)\n",
    "plt.title('$f(x)=x^2$')\n",
    "\n",
    "plt.subplot(2,2,3)\n",
    "plt.plot(x,y2)\n",
    "plt.plot(x,y3)\n",
    "plt.title('$f(x)=x^3$')\n",
    "\n",
    "plt.subplot(2,2,4)\n",
    "plt.plot(x,y4)\n",
    "plt.title('$f(x)=\\sqrt{x}$')\n",
    "\n",
    "\n",
    "for g in df.groupby('Rating'):\n",
    "    print('type=', type(g) )\n",
    "\n",
    "    \n",
    "df.groupby(\"Rating\").mean().plot(kind='bar')"
   ]
  },
  {
   "cell_type": "code",
   "execution_count": 307,
   "metadata": {},
   "outputs": [
    {
     "data": {
      "text/html": [
       "<div>\n",
       "<style>\n",
       "    .dataframe thead tr:only-child th {\n",
       "        text-align: right;\n",
       "    }\n",
       "\n",
       "    .dataframe thead th {\n",
       "        text-align: left;\n",
       "    }\n",
       "\n",
       "    .dataframe tbody tr th {\n",
       "        vertical-align: top;\n",
       "    }\n",
       "</style>\n",
       "<table border=\"1\" class=\"dataframe\">\n",
       "  <thead>\n",
       "    <tr style=\"text-align: right;\">\n",
       "      <th></th>\n",
       "      <th>Rating</th>\n",
       "      <th>ReleaseDate</th>\n",
       "      <th>DomesticTotalGross</th>\n",
       "    </tr>\n",
       "  </thead>\n",
       "  <tbody>\n",
       "    <tr>\n",
       "      <th>14</th>\n",
       "      <td>R</td>\n",
       "      <td>2013-06-28 00:00:00</td>\n",
       "      <td>159582188</td>\n",
       "    </tr>\n",
       "    <tr>\n",
       "      <th>15</th>\n",
       "      <td>R</td>\n",
       "      <td>2013-08-07 00:00:00</td>\n",
       "      <td>150394119</td>\n",
       "    </tr>\n",
       "    <tr>\n",
       "      <th>16</th>\n",
       "      <td>R</td>\n",
       "      <td>2013-12-13 00:00:00</td>\n",
       "      <td>150117807</td>\n",
       "    </tr>\n",
       "    <tr>\n",
       "      <th>18</th>\n",
       "      <td>R</td>\n",
       "      <td>2013-07-19 00:00:00</td>\n",
       "      <td>137400141</td>\n",
       "    </tr>\n",
       "    <tr>\n",
       "      <th>19</th>\n",
       "      <td>R</td>\n",
       "      <td>2013-02-08 00:00:00</td>\n",
       "      <td>134506920</td>\n",
       "    </tr>\n",
       "    <tr>\n",
       "      <th>23</th>\n",
       "      <td>R</td>\n",
       "      <td>2013-12-25 00:00:00</td>\n",
       "      <td>125095601</td>\n",
       "    </tr>\n",
       "    <tr>\n",
       "      <th>27</th>\n",
       "      <td>R</td>\n",
       "      <td>2013-12-25 00:00:00</td>\n",
       "      <td>116900694</td>\n",
       "    </tr>\n",
       "    <tr>\n",
       "      <th>29</th>\n",
       "      <td>R</td>\n",
       "      <td>2013-05-23 00:00:00</td>\n",
       "      <td>112200072</td>\n",
       "    </tr>\n",
       "    <tr>\n",
       "      <th>32</th>\n",
       "      <td>R</td>\n",
       "      <td>2013-10-25 00:00:00</td>\n",
       "      <td>102003019</td>\n",
       "    </tr>\n",
       "    <tr>\n",
       "      <th>34</th>\n",
       "      <td>R</td>\n",
       "      <td>2013-06-12 00:00:00</td>\n",
       "      <td>101470202</td>\n",
       "    </tr>\n",
       "    <tr>\n",
       "      <th>35</th>\n",
       "      <td>R</td>\n",
       "      <td>2013-03-22 00:00:00</td>\n",
       "      <td>98925640</td>\n",
       "    </tr>\n",
       "    <tr>\n",
       "      <th>37</th>\n",
       "      <td>R</td>\n",
       "      <td>2013-08-09 00:00:00</td>\n",
       "      <td>93050117</td>\n",
       "    </tr>\n",
       "    <tr>\n",
       "      <th>44</th>\n",
       "      <td>R</td>\n",
       "      <td>2013-08-02 00:00:00</td>\n",
       "      <td>75612460</td>\n",
       "    </tr>\n",
       "    <tr>\n",
       "      <th>49</th>\n",
       "      <td>R</td>\n",
       "      <td>2013-11-15 00:00:00</td>\n",
       "      <td>70525195</td>\n",
       "    </tr>\n",
       "    <tr>\n",
       "      <th>51</th>\n",
       "      <td>R</td>\n",
       "      <td>2013-02-14 00:00:00</td>\n",
       "      <td>67349198</td>\n",
       "    </tr>\n",
       "    <tr>\n",
       "      <th>54</th>\n",
       "      <td>R</td>\n",
       "      <td>2013-06-07 00:00:00</td>\n",
       "      <td>64473115</td>\n",
       "    </tr>\n",
       "    <tr>\n",
       "      <th>57</th>\n",
       "      <td>R</td>\n",
       "      <td>2013-09-20 00:00:00</td>\n",
       "      <td>61002302</td>\n",
       "    </tr>\n",
       "    <tr>\n",
       "      <th>61</th>\n",
       "      <td>R</td>\n",
       "      <td>2013-10-18 00:00:00</td>\n",
       "      <td>56671993</td>\n",
       "    </tr>\n",
       "    <tr>\n",
       "      <th>63</th>\n",
       "      <td>R</td>\n",
       "      <td>2013-01-25 00:00:00</td>\n",
       "      <td>55703475</td>\n",
       "    </tr>\n",
       "    <tr>\n",
       "      <th>64</th>\n",
       "      <td>R</td>\n",
       "      <td>2013-04-05 00:00:00</td>\n",
       "      <td>54239856</td>\n",
       "    </tr>\n",
       "    <tr>\n",
       "      <th>68</th>\n",
       "      <td>R</td>\n",
       "      <td>2013-03-15 00:00:00</td>\n",
       "      <td>51872378</td>\n",
       "    </tr>\n",
       "    <tr>\n",
       "      <th>69</th>\n",
       "      <td>R</td>\n",
       "      <td>2013-04-26 00:00:00</td>\n",
       "      <td>49875291</td>\n",
       "    </tr>\n",
       "    <tr>\n",
       "      <th>70</th>\n",
       "      <td>R</td>\n",
       "      <td>2013-01-11 00:00:00</td>\n",
       "      <td>46000903</td>\n",
       "    </tr>\n",
       "    <tr>\n",
       "      <th>75</th>\n",
       "      <td>R</td>\n",
       "      <td>2013-09-06 00:00:00</td>\n",
       "      <td>42025135</td>\n",
       "    </tr>\n",
       "    <tr>\n",
       "      <th>76</th>\n",
       "      <td>R</td>\n",
       "      <td>2013-01-11 00:00:00</td>\n",
       "      <td>40041683</td>\n",
       "    </tr>\n",
       "    <tr>\n",
       "      <th>78</th>\n",
       "      <td>R</td>\n",
       "      <td>2013-12-27 00:00:00</td>\n",
       "      <td>37738810</td>\n",
       "    </tr>\n",
       "    <tr>\n",
       "      <th>80</th>\n",
       "      <td>R</td>\n",
       "      <td>2013-09-13 00:00:00</td>\n",
       "      <td>36918811</td>\n",
       "    </tr>\n",
       "    <tr>\n",
       "      <th>82</th>\n",
       "      <td>R</td>\n",
       "      <td>2013-10-18 00:00:00</td>\n",
       "      <td>35266619</td>\n",
       "    </tr>\n",
       "    <tr>\n",
       "      <th>83</th>\n",
       "      <td>R</td>\n",
       "      <td>2013-01-04 00:00:00</td>\n",
       "      <td>34341945</td>\n",
       "    </tr>\n",
       "    <tr>\n",
       "      <th>86</th>\n",
       "      <td>R</td>\n",
       "      <td>2013-07-03 00:00:00</td>\n",
       "      <td>32244051</td>\n",
       "    </tr>\n",
       "    <tr>\n",
       "      <th>87</th>\n",
       "      <td>R</td>\n",
       "      <td>2013-02-08 00:00:00</td>\n",
       "      <td>32172757</td>\n",
       "    </tr>\n",
       "    <tr>\n",
       "      <th>93</th>\n",
       "      <td>R</td>\n",
       "      <td>2013-08-16 00:00:00</td>\n",
       "      <td>28795985</td>\n",
       "    </tr>\n",
       "    <tr>\n",
       "      <th>94</th>\n",
       "      <td>R</td>\n",
       "      <td>2013-11-01 00:00:00</td>\n",
       "      <td>27298285</td>\n",
       "    </tr>\n",
       "    <tr>\n",
       "      <th>95</th>\n",
       "      <td>R</td>\n",
       "      <td>2013-09-20 00:00:00</td>\n",
       "      <td>26947624</td>\n",
       "    </tr>\n",
       "    <tr>\n",
       "      <th>97</th>\n",
       "      <td>R</td>\n",
       "      <td>2013-08-23 00:00:00</td>\n",
       "      <td>26004851</td>\n",
       "    </tr>\n",
       "    <tr>\n",
       "      <th>98</th>\n",
       "      <td>R</td>\n",
       "      <td>2013-03-01 00:00:00</td>\n",
       "      <td>25682380</td>\n",
       "    </tr>\n",
       "    <tr>\n",
       "      <th>99</th>\n",
       "      <td>R</td>\n",
       "      <td>2013-12-18 00:00:00</td>\n",
       "      <td>25568251</td>\n",
       "    </tr>\n",
       "  </tbody>\n",
       "</table>\n",
       "</div>"
      ],
      "text/plain": [
       "   Rating          ReleaseDate  DomesticTotalGross\n",
       "14      R  2013-06-28 00:00:00           159582188\n",
       "15      R  2013-08-07 00:00:00           150394119\n",
       "16      R  2013-12-13 00:00:00           150117807\n",
       "18      R  2013-07-19 00:00:00           137400141\n",
       "19      R  2013-02-08 00:00:00           134506920\n",
       "23      R  2013-12-25 00:00:00           125095601\n",
       "27      R  2013-12-25 00:00:00           116900694\n",
       "29      R  2013-05-23 00:00:00           112200072\n",
       "32      R  2013-10-25 00:00:00           102003019\n",
       "34      R  2013-06-12 00:00:00           101470202\n",
       "35      R  2013-03-22 00:00:00            98925640\n",
       "37      R  2013-08-09 00:00:00            93050117\n",
       "44      R  2013-08-02 00:00:00            75612460\n",
       "49      R  2013-11-15 00:00:00            70525195\n",
       "51      R  2013-02-14 00:00:00            67349198\n",
       "54      R  2013-06-07 00:00:00            64473115\n",
       "57      R  2013-09-20 00:00:00            61002302\n",
       "61      R  2013-10-18 00:00:00            56671993\n",
       "63      R  2013-01-25 00:00:00            55703475\n",
       "64      R  2013-04-05 00:00:00            54239856\n",
       "68      R  2013-03-15 00:00:00            51872378\n",
       "69      R  2013-04-26 00:00:00            49875291\n",
       "70      R  2013-01-11 00:00:00            46000903\n",
       "75      R  2013-09-06 00:00:00            42025135\n",
       "76      R  2013-01-11 00:00:00            40041683\n",
       "78      R  2013-12-27 00:00:00            37738810\n",
       "80      R  2013-09-13 00:00:00            36918811\n",
       "82      R  2013-10-18 00:00:00            35266619\n",
       "83      R  2013-01-04 00:00:00            34341945\n",
       "86      R  2013-07-03 00:00:00            32244051\n",
       "87      R  2013-02-08 00:00:00            32172757\n",
       "93      R  2013-08-16 00:00:00            28795985\n",
       "94      R  2013-11-01 00:00:00            27298285\n",
       "95      R  2013-09-20 00:00:00            26947624\n",
       "97      R  2013-08-23 00:00:00            26004851\n",
       "98      R  2013-03-01 00:00:00            25682380\n",
       "99      R  2013-12-18 00:00:00            25568251"
      ]
     },
     "execution_count": 307,
     "metadata": {},
     "output_type": "execute_result"
    }
   ],
   "source": [
    "df[ (df.Rating == 'R')][['Rating','ReleaseDate','DomesticTotalGross']]\n"
   ]
  },
  {
   "cell_type": "code",
   "execution_count": null,
   "metadata": {
    "collapsed": true
   },
   "outputs": [],
   "source": [
    "%matplotlib inline\n",
    "import matplotlib.pyplot as plt\n",
    "\n",
    "plt.figure(figsize=(9,6))\n",
    "plt.title('Plot runtime vs. domestic total gross.')\n",
    "\n",
    "df.groupby('ReleaseDate').DomesticTotalGross.sum().plot(kind='bar')\n",
    "\n"
   ]
  },
  {
   "cell_type": "markdown",
   "metadata": {},
   "source": [
    "### Challenge 5\n",
    "What director in your dataset has the highest gross per movie?\n"
   ]
  },
  {
   "cell_type": "code",
   "execution_count": 197,
   "metadata": {},
   "outputs": [
    {
     "data": {
      "text/html": [
       "<div>\n",
       "<style>\n",
       "    .dataframe thead tr:only-child th {\n",
       "        text-align: right;\n",
       "    }\n",
       "\n",
       "    .dataframe thead th {\n",
       "        text-align: left;\n",
       "    }\n",
       "\n",
       "    .dataframe tbody tr th {\n",
       "        vertical-align: top;\n",
       "    }\n",
       "</style>\n",
       "<table border=\"1\" class=\"dataframe\">\n",
       "  <thead>\n",
       "    <tr style=\"text-align: right;\">\n",
       "      <th></th>\n",
       "      <th>Director</th>\n",
       "      <th>DomesticTotalGross</th>\n",
       "    </tr>\n",
       "  </thead>\n",
       "  <tbody>\n",
       "    <tr>\n",
       "      <th>0</th>\n",
       "      <td>Francis Lawrence</td>\n",
       "      <td>424668047</td>\n",
       "    </tr>\n",
       "  </tbody>\n",
       "</table>\n",
       "</div>"
      ],
      "text/plain": [
       "           Director  DomesticTotalGross\n",
       "0  Francis Lawrence           424668047"
      ]
     },
     "execution_count": 197,
     "metadata": {},
     "output_type": "execute_result"
    }
   ],
   "source": [
    "(df.groupby('Director')\n",
    "    .DomesticTotalGross.mean()\n",
    "    .sort_values( ascending=False )\n",
    "    .reset_index()\n",
    "    .head(1))\n",
    "\n"
   ]
  },
  {
   "cell_type": "markdown",
   "metadata": {},
   "source": [
    "### Challenge 6\n",
    "\n",
    "Bin your dataset into months and make a bar graph of the mean domestic total gross by month. Error bars will represent the standard error of the mean.\n",
    "Title of graph should include: Mean Domestic Total Gross by Month in 2013\n",
    "Topic for consideration: what is the correct formula for the standard error of the mean? Examine the error bars and see if they are \"reasonable.\"\n"
   ]
  },
  {
   "cell_type": "code",
   "execution_count": 213,
   "metadata": {},
   "outputs": [
    {
     "data": {
      "text/plain": [
       "0    2013-11-22 00:00:00\n",
       "1    2013-05-03 00:00:00\n",
       "2    2013-11-22 00:00:00\n",
       "3    2013-07-03 00:00:00\n",
       "4    2013-06-14 00:00:00\n",
       "Name: ReleaseDate, dtype: object"
      ]
     },
     "execution_count": 213,
     "metadata": {},
     "output_type": "execute_result"
    }
   ],
   "source": [
    "df.ReleaseDate[:5] #.dt.month() #apply(lambda x: x.strftime('%B-%Y'))"
   ]
  },
  {
   "cell_type": "code",
   "execution_count": 254,
   "metadata": {},
   "outputs": [
    {
     "data": {
      "text/html": [
       "<div>\n",
       "<style>\n",
       "    .dataframe thead tr:only-child th {\n",
       "        text-align: right;\n",
       "    }\n",
       "\n",
       "    .dataframe thead th {\n",
       "        text-align: left;\n",
       "    }\n",
       "\n",
       "    .dataframe tbody tr th {\n",
       "        vertical-align: top;\n",
       "    }\n",
       "</style>\n",
       "<table border=\"1\" class=\"dataframe\">\n",
       "  <thead>\n",
       "    <tr style=\"text-align: right;\">\n",
       "      <th></th>\n",
       "      <th>ReleaseMonth</th>\n",
       "      <th>DomesticTotalGross</th>\n",
       "    </tr>\n",
       "  </thead>\n",
       "  <tbody>\n",
       "    <tr>\n",
       "      <th>0</th>\n",
       "      <td>1</td>\n",
       "      <td>4.954324e+07</td>\n",
       "    </tr>\n",
       "    <tr>\n",
       "      <th>1</th>\n",
       "      <td>2</td>\n",
       "      <td>6.738601e+07</td>\n",
       "    </tr>\n",
       "    <tr>\n",
       "      <th>2</th>\n",
       "      <td>3</td>\n",
       "      <td>9.609710e+07</td>\n",
       "    </tr>\n",
       "    <tr>\n",
       "      <th>3</th>\n",
       "      <td>4</td>\n",
       "      <td>6.094072e+07</td>\n",
       "    </tr>\n",
       "    <tr>\n",
       "      <th>4</th>\n",
       "      <td>5</td>\n",
       "      <td>1.774097e+08</td>\n",
       "    </tr>\n",
       "    <tr>\n",
       "      <th>5</th>\n",
       "      <td>6</td>\n",
       "      <td>1.506500e+08</td>\n",
       "    </tr>\n",
       "    <tr>\n",
       "      <th>6</th>\n",
       "      <td>7</td>\n",
       "      <td>1.057807e+08</td>\n",
       "    </tr>\n",
       "    <tr>\n",
       "      <th>7</th>\n",
       "      <td>8</td>\n",
       "      <td>6.853126e+07</td>\n",
       "    </tr>\n",
       "    <tr>\n",
       "      <th>8</th>\n",
       "      <td>9</td>\n",
       "      <td>6.171231e+07</td>\n",
       "    </tr>\n",
       "    <tr>\n",
       "      <th>9</th>\n",
       "      <td>10</td>\n",
       "      <td>1.150270e+08</td>\n",
       "    </tr>\n",
       "    <tr>\n",
       "      <th>10</th>\n",
       "      <td>11</td>\n",
       "      <td>1.379368e+08</td>\n",
       "    </tr>\n",
       "    <tr>\n",
       "      <th>11</th>\n",
       "      <td>12</td>\n",
       "      <td>8.748339e+07</td>\n",
       "    </tr>\n",
       "  </tbody>\n",
       "</table>\n",
       "</div>"
      ],
      "text/plain": [
       "    ReleaseMonth  DomesticTotalGross\n",
       "0              1        4.954324e+07\n",
       "1              2        6.738601e+07\n",
       "2              3        9.609710e+07\n",
       "3              4        6.094072e+07\n",
       "4              5        1.774097e+08\n",
       "5              6        1.506500e+08\n",
       "6              7        1.057807e+08\n",
       "7              8        6.853126e+07\n",
       "8              9        6.171231e+07\n",
       "9             10        1.150270e+08\n",
       "10            11        1.379368e+08\n",
       "11            12        8.748339e+07"
      ]
     },
     "execution_count": 254,
     "metadata": {},
     "output_type": "execute_result"
    },
    {
     "data": {
      "image/png": "[encoded data removed]",
      "text/plain": [
       "<matplotlib.figure.Figure at 0x12dd326a0>"
      ]
     },
     "metadata": {},
     "output_type": "display_data"
    }
   ],
   "source": [
    "# create release month colum\n",
    "df['ReleaseMonth'] = pd.to_datetime(df.ReleaseDate, format='%Y-%m-%d', errors='ignore').dt.month\n",
    "\n",
    "\n",
    "x = np.linspace(0,10,100)\n",
    "\n",
    "y1 = x\n",
    "y2 = x**2\n",
    "y3 = x**3\n",
    "y4 = x**0.5\n",
    "\n",
    "\n",
    "df2 = df.groupby('ReleaseMonth')['DomesticTotalGross'].mean().reset_index()\n",
    "\n",
    "yerr = df.groupby('ReleaseMonth')['DomesticTotalGross'].sem()\n",
    "\n",
    "plt.figure(figsize=(9,6))\n",
    "plt.errorbar(df2.ReleaseMonth, \n",
    "             df2.DomesticTotalGross,\n",
    "             yerr=yerr,\n",
    "             fmt='-o')\n",
    "plt.title('xMean Domestic Total Gross by Month in 2013')\n",
    "\n",
    "#plt.title('$f(x)=x$')\n",
    "df2"
   ]
  },
  {
   "cell_type": "code",
   "execution_count": 244,
   "metadata": {},
   "outputs": [
    {
     "data": {
      "text/plain": [
       "ReleaseMonth\n",
       "1     6.555914e+06\n",
       "2     1.240927e+07\n",
       "3     2.441314e+07\n",
       "4     1.032911e+07\n",
       "5     3.951859e+07\n",
       "6     3.365826e+07\n",
       "7     2.638732e+07\n",
       "8     1.245915e+07\n",
       "9     1.421654e+07\n",
       "10    4.201272e+07\n",
       "11    4.857293e+07\n",
       "12    1.853759e+07\n",
       "Name: DomesticTotalGross, dtype: float64"
      ]
     },
     "execution_count": 244,
     "metadata": {},
     "output_type": "execute_result"
    }
   ],
   "source": [
    "df.groupby('ReleaseMonth')['DomesticTotalGross'].sem()"
   ]
  }
 ],
 "metadata": {
  "kernelspec": {
   "display_name": "Python 3",
   "language": "python",
   "name": "python3"
  },
  "language_info": {
   "codemirror_mode": {
    "name": "ipython",
    "version": 3
   },
   "file_extension": ".py",
   "mimetype": "text/x-python",
   "name": "python",
   "nbconvert_exporter": "python",
   "pygments_lexer": "ipython3",
   "version": "3.6.1"
  }
 },
 "nbformat": 4,
 "nbformat_minor": 2
}
