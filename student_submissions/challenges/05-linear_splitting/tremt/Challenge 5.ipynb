{
 "cells": [
  {
   "cell_type": "code",
   "execution_count": 20,
   "metadata": {
    "ExecuteTime": {
     "end_time": "2017-10-10T23:41:57.795884Z",
     "start_time": "2017-10-10T23:41:57.775145Z"
    }
   },
   "outputs": [],
   "source": [
    "import numpy as np\n",
    "from math import log, sqrt\n",
    "import pandas as pd\n",
    "import numpy as np\n",
    "import matplotlib.pyplot as plt\n",
    "import seaborn as sns\n",
    "\n",
    "from sklearn.model_selection import train_test_split\n",
    "from sklearn.linear_model import LinearRegression\n",
    "from sklearn.metrics import mean_squared_error\n",
    "\n",
    "%matplotlib inline\n",
    "Abs = np.vectorize(abs)"
   ]
  },
  {
   "cell_type": "code",
   "execution_count": 31,
   "metadata": {
    "ExecuteTime": {
     "end_time": "2017-10-10T23:48:10.621080Z",
     "start_time": "2017-10-10T23:48:10.607714Z"
    },
    "collapsed": true
   },
   "outputs": [],
   "source": [
    "df = pd.read_csv('2013_movies.csv')\n",
    "df['constant'] = 1\n",
    "df.dropna(inplace=True)"
   ]
  },
  {
   "cell_type": "code",
   "execution_count": 32,
   "metadata": {
    "ExecuteTime": {
     "end_time": "2017-10-10T23:48:11.372696Z",
     "start_time": "2017-10-10T23:48:11.367848Z"
    }
   },
   "outputs": [
    {
     "data": {
      "text/plain": [
       "Index(['Title', 'Budget', 'DomesticTotalGross', 'Director', 'Rating',\n",
       "       'Runtime', 'ReleaseDate', 'constant'],\n",
       "      dtype='object')"
      ]
     },
     "execution_count": 32,
     "metadata": {},
     "output_type": "execute_result"
    }
   ],
   "source": [
    "df.columns"
   ]
  },
  {
   "cell_type": "code",
   "execution_count": 33,
   "metadata": {
    "ExecuteTime": {
     "end_time": "2017-10-10T23:48:12.750703Z",
     "start_time": "2017-10-10T23:48:12.747518Z"
    },
    "collapsed": true
   },
   "outputs": [],
   "source": [
    "m = LinearRegression()"
   ]
  },
  {
   "cell_type": "code",
   "execution_count": 39,
   "metadata": {
    "ExecuteTime": {
     "end_time": "2017-10-10T23:48:52.626918Z",
     "start_time": "2017-10-10T23:48:52.619261Z"
    }
   },
   "outputs": [
    {
     "name": "stdout",
     "output_type": "stream",
     "text": [
      "Mean squared error: 7.65032498249e+15\n"
     ]
    }
   ],
   "source": [
    "m.fit(df[['constant']], df['DomesticTotalGross'])\n",
    "p1 = m.predict(df[['constant']])\n",
    "print('Mean squared error: %s' % mean_squared_error(p1, df.DomesticTotalGross))"
   ]
  },
  {
   "cell_type": "code",
   "execution_count": 40,
   "metadata": {
    "ExecuteTime": {
     "end_time": "2017-10-10T23:48:53.097721Z",
     "start_time": "2017-10-10T23:48:52.909377Z"
    }
   },
   "outputs": [
    {
     "data": {
      "image/png": "[encoded data removed]",
      "text/plain": [
       "<matplotlib.figure.Figure at 0x11ffd3b70>"
      ]
     },
     "metadata": {},
     "output_type": "display_data"
    }
   ],
   "source": [
    "plt.hist(Abs(df.DomesticTotalGross - p1));"
   ]
  },
  {
   "cell_type": "code",
   "execution_count": 52,
   "metadata": {
    "ExecuteTime": {
     "end_time": "2017-10-10T23:52:58.510529Z",
     "start_time": "2017-10-10T23:52:58.502344Z"
    }
   },
   "outputs": [
    {
     "name": "stdout",
     "output_type": "stream",
     "text": [
      "Features: Budged \n",
      "Mean squared error: 5.4906353563e+15\n"
     ]
    }
   ],
   "source": [
    "m.fit(df[['Budget']], df['DomesticTotalGross'])\n",
    "p2 = m.predict(df[['Budget']])\n",
    "print('Features: Budged \\nMean squared error: %s' % mean_squared_error(p2, df.DomesticTotalGross))"
   ]
  },
  {
   "cell_type": "code",
   "execution_count": 42,
   "metadata": {
    "ExecuteTime": {
     "end_time": "2017-10-10T23:48:54.513041Z",
     "start_time": "2017-10-10T23:48:54.287529Z"
    }
   },
   "outputs": [
    {
     "data": {
      "image/png": "[encoded data removed]",
      "text/plain": [
       "<matplotlib.figure.Figure at 0x11ffd3a20>"
      ]
     },
     "metadata": {},
     "output_type": "display_data"
    }
   ],
   "source": [
    "plt.hist(Abs(df.DomesticTotalGross - p2));"
   ]
  },
  {
   "cell_type": "code",
   "execution_count": 47,
   "metadata": {
    "ExecuteTime": {
     "end_time": "2017-10-10T23:50:51.757183Z",
     "start_time": "2017-10-10T23:50:51.751746Z"
    }
   },
   "outputs": [],
   "source": [
    "def rating_to_num(s):\n",
    "    if s == 'PG':\n",
    "        return 1\n",
    "    if s == 'PG-13':\n",
    "        return 2\n",
    "    if s == 'R':\n",
    "        return 3\n",
    "    "
   ]
  },
  {
   "cell_type": "code",
   "execution_count": 48,
   "metadata": {
    "ExecuteTime": {
     "end_time": "2017-10-10T23:53:02.708251Z",
     "start_time": "2017-10-10T23:53:02.540823Z"
    },
    "collapsed": true
   },
   "outputs": [],
   "source": [
    "df['rating_num'] = df['Rating'].apply(rating_to_num)"
   ]
  },
  {
   "cell_type": "code",
   "execution_count": 51,
   "metadata": {
    "ExecuteTime": {
     "end_time": "2017-10-10T23:52:51.975319Z",
     "start_time": "2017-10-10T23:52:51.967890Z"
    }
   },
   "outputs": [
    {
     "name": "stdout",
     "output_type": "stream",
     "text": [
      "Features: Budget and Rating \n",
      "Mean squared error: 5.47723955174e+15\n"
     ]
    }
   ],
   "source": [
    "m.fit(df[['Budget', 'rating_num']], df['DomesticTotalGross'])\n",
    "p3 = m.predict(df[['Budget', 'rating_num']])\n",
    "print('Features: Budget and Rating \\nMean squared error: %s' % mean_squared_error(p3, df.DomesticTotalGross))"
   ]
  },
  {
   "cell_type": "code",
   "execution_count": 53,
   "metadata": {
    "ExecuteTime": {
     "end_time": "2017-10-10T23:53:02.708251Z",
     "start_time": "2017-10-10T23:53:02.540823Z"
    }
   },
   "outputs": [
    {
     "data": {
      "image/png": "[encoded data removed]",
      "text/plain": [
       "<matplotlib.figure.Figure at 0x11fe4a160>"
      ]
     },
     "metadata": {},
     "output_type": "display_data"
    }
   ],
   "source": [
    "plt.hist(Abs(df.DomesticTotalGross - p3));"
   ]
  },
  {
   "cell_type": "code",
   "execution_count": 54,
   "metadata": {
    "ExecuteTime": {
     "end_time": "2017-10-10T23:58:17.048198Z",
     "start_time": "2017-10-10T23:58:17.032385Z"
    }
   },
   "outputs": [
    {
     "name": "stdout",
     "output_type": "stream",
     "text": [
      "Features: Budget, Rating, and Runtime \n",
      "Mean squared error: 5.40774362042e+15\n"
     ]
    }
   ],
   "source": [
    "m.fit(df[['Budget', 'rating_num', 'Runtime']], df['DomesticTotalGross'])\n",
    "p4 = m.predict(df[['Budget', 'rating_num', 'Runtime']])\n",
    "print('Features: Budget, Rating, and Runtime \\nMean squared error: %s' % mean_squared_error(p4, df.DomesticTotalGross))"
   ]
  },
  {
   "cell_type": "code",
   "execution_count": 55,
   "metadata": {
    "ExecuteTime": {
     "end_time": "2017-10-10T23:58:19.153628Z",
     "start_time": "2017-10-10T23:58:18.995351Z"
    }
   },
   "outputs": [
    {
     "data": {
      "image/png": "[encoded data removed]",
      "text/plain": [
       "<matplotlib.figure.Figure at 0x1204fd400>"
      ]
     },
     "metadata": {},
     "output_type": "display_data"
    }
   ],
   "source": [
    "plt.hist(Abs(df.DomesticTotalGross - p4));"
   ]
  },
  {
   "cell_type": "code",
   "execution_count": 59,
   "metadata": {
    "ExecuteTime": {
     "end_time": "2017-10-11T00:01:09.907801Z",
     "start_time": "2017-10-11T00:01:09.901342Z"
    }
   },
   "outputs": [],
   "source": [
    "x_cols = ['Title', 'Budget', 'DomesticTotalGross', 'Director', 'Rating', 'rating_num', 'Runtime', 'ReleaseDate', 'constant']\n",
    "X_train, X_test, y_train, y_test = train_test_split(df[x_cols], df[['DomesticTotalGross']])"
   ]
  },
  {
   "cell_type": "code",
   "execution_count": 66,
   "metadata": {
    "ExecuteTime": {
     "end_time": "2017-10-11T00:07:07.789066Z",
     "start_time": "2017-10-11T00:07:07.780374Z"
    }
   },
   "outputs": [
    {
     "name": "stdout",
     "output_type": "stream",
     "text": [
      "Features: Budget \n",
      "MSE on Test Set: 5.94187142298e+15\n"
     ]
    }
   ],
   "source": [
    "m.fit(X_train[['Budget']], y_train)\n",
    "p5 = m.predict(X_test[['Budget']])\n",
    "print('Features: Budget \\nMSE on Test Set: %s' % mean_squared_error(p5, y_test))"
   ]
  },
  {
   "cell_type": "code",
   "execution_count": 67,
   "metadata": {
    "ExecuteTime": {
     "end_time": "2017-10-11T00:07:09.293987Z",
     "start_time": "2017-10-11T00:07:09.286617Z"
    }
   },
   "outputs": [
    {
     "name": "stdout",
     "output_type": "stream",
     "text": [
      "Features: Budget, Runtime \n",
      "MSE on Test Set: 5.86083249666e+15\n"
     ]
    }
   ],
   "source": [
    "m.fit(X_train[['Budget', 'Runtime']], y_train)\n",
    "p6 = m.predict(X_test[['Budget', 'Runtime']])\n",
    "print('Features: Budget, Runtime \\nMSE on Test Set: %s' % mean_squared_error(p6, y_test))"
   ]
  },
  {
   "cell_type": "code",
   "execution_count": 68,
   "metadata": {
    "ExecuteTime": {
     "end_time": "2017-10-11T00:07:09.743176Z",
     "start_time": "2017-10-11T00:07:09.735168Z"
    }
   },
   "outputs": [
    {
     "name": "stdout",
     "output_type": "stream",
     "text": [
      "Features: Budget, Runtime, Rating\n",
      "MSE on Test Set: 5.82857190426e+15\n"
     ]
    }
   ],
   "source": [
    "m.fit(X_train[['Budget', 'rating_num', 'Runtime']], y_train)\n",
    "p7 = m.predict(X_test[['Budget', 'rating_num', 'Runtime']])\n",
    "print('Features: Budget, Runtime, Rating\\nMSE on Test Set: %s' % mean_squared_error(p7, y_test))"
   ]
  },
  {
   "cell_type": "code",
   "execution_count": null,
   "metadata": {
    "collapsed": true
   },
   "outputs": [],
   "source": []
  }
 ],
 "metadata": {
  "kernelspec": {
   "display_name": "Python 3",
   "language": "python",
   "name": "python3"
  },
  "language_info": {
   "codemirror_mode": {
    "name": "ipython",
    "version": 3
   },
   "file_extension": ".py",
   "mimetype": "text/x-python",
   "name": "python",
   "nbconvert_exporter": "python",
   "pygments_lexer": "ipython3",
   "version": "3.6.1"
  }
 },
 "nbformat": 4,
 "nbformat_minor": 2
}
