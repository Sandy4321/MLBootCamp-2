{
 "cells": [
  {
   "cell_type": "markdown",
   "metadata": {},
   "source": [
    "# Linear Regression and Train/Test Split challenge - Kalgi Shah\n"
   ]
  },
  {
   "cell_type": "markdown",
   "metadata": {},
   "source": [
    "### Date: 9th Oct'17\n",
    "\n",
    "### Challenge 1 "
   ]
  },
  {
   "cell_type": "code",
   "execution_count": 282,
   "metadata": {},
   "outputs": [
    {
     "data": {
      "text/html": [
       "<div>\n",
       "<style>\n",
       "    .dataframe thead tr:only-child th {\n",
       "        text-align: right;\n",
       "    }\n",
       "\n",
       "    .dataframe thead th {\n",
       "        text-align: left;\n",
       "    }\n",
       "\n",
       "    .dataframe tbody tr th {\n",
       "        vertical-align: top;\n",
       "    }\n",
       "</style>\n",
       "<table border=\"1\" class=\"dataframe\">\n",
       "  <thead>\n",
       "    <tr style=\"text-align: right;\">\n",
       "      <th></th>\n",
       "      <th>Title</th>\n",
       "      <th>Budget</th>\n",
       "      <th>DomesticTotalGross</th>\n",
       "      <th>Director</th>\n",
       "      <th>Rating</th>\n",
       "      <th>Runtime</th>\n",
       "      <th>ReleaseDate</th>\n",
       "    </tr>\n",
       "  </thead>\n",
       "  <tbody>\n",
       "    <tr>\n",
       "      <th>0</th>\n",
       "      <td>The Hunger Games: Catching Fire</td>\n",
       "      <td>130000000.0</td>\n",
       "      <td>424668047</td>\n",
       "      <td>Francis Lawrence</td>\n",
       "      <td>PG-13</td>\n",
       "      <td>146</td>\n",
       "      <td>2013-11-22 00:00:00</td>\n",
       "    </tr>\n",
       "    <tr>\n",
       "      <th>1</th>\n",
       "      <td>Iron Man 3</td>\n",
       "      <td>200000000.0</td>\n",
       "      <td>409013994</td>\n",
       "      <td>Shane Black</td>\n",
       "      <td>PG-13</td>\n",
       "      <td>129</td>\n",
       "      <td>2013-05-03 00:00:00</td>\n",
       "    </tr>\n",
       "    <tr>\n",
       "      <th>2</th>\n",
       "      <td>Frozen</td>\n",
       "      <td>150000000.0</td>\n",
       "      <td>400738009</td>\n",
       "      <td>Chris BuckJennifer Lee</td>\n",
       "      <td>PG</td>\n",
       "      <td>108</td>\n",
       "      <td>2013-11-22 00:00:00</td>\n",
       "    </tr>\n",
       "    <tr>\n",
       "      <th>3</th>\n",
       "      <td>Despicable Me 2</td>\n",
       "      <td>76000000.0</td>\n",
       "      <td>368061265</td>\n",
       "      <td>Pierre CoffinChris Renaud</td>\n",
       "      <td>PG</td>\n",
       "      <td>98</td>\n",
       "      <td>2013-07-03 00:00:00</td>\n",
       "    </tr>\n",
       "    <tr>\n",
       "      <th>4</th>\n",
       "      <td>Man of Steel</td>\n",
       "      <td>225000000.0</td>\n",
       "      <td>291045518</td>\n",
       "      <td>Zack Snyder</td>\n",
       "      <td>PG-13</td>\n",
       "      <td>143</td>\n",
       "      <td>2013-06-14 00:00:00</td>\n",
       "    </tr>\n",
       "    <tr>\n",
       "      <th>5</th>\n",
       "      <td>Gravity</td>\n",
       "      <td>100000000.0</td>\n",
       "      <td>274092705</td>\n",
       "      <td>Alfonso Cuaron</td>\n",
       "      <td>PG-13</td>\n",
       "      <td>91</td>\n",
       "      <td>2013-10-04 00:00:00</td>\n",
       "    </tr>\n",
       "    <tr>\n",
       "      <th>6</th>\n",
       "      <td>Monsters University</td>\n",
       "      <td>NaN</td>\n",
       "      <td>268492764</td>\n",
       "      <td>Dan Scanlon</td>\n",
       "      <td>G</td>\n",
       "      <td>107</td>\n",
       "      <td>2013-06-21 00:00:00</td>\n",
       "    </tr>\n",
       "    <tr>\n",
       "      <th>7</th>\n",
       "      <td>The Hobbit: The Desolation of Smaug</td>\n",
       "      <td>NaN</td>\n",
       "      <td>258366855</td>\n",
       "      <td>Peter Jackson</td>\n",
       "      <td>PG-13</td>\n",
       "      <td>161</td>\n",
       "      <td>2013-12-13 00:00:00</td>\n",
       "    </tr>\n",
       "    <tr>\n",
       "      <th>8</th>\n",
       "      <td>Fast &amp; Furious 6</td>\n",
       "      <td>160000000.0</td>\n",
       "      <td>238679850</td>\n",
       "      <td>Justin Lin</td>\n",
       "      <td>PG-13</td>\n",
       "      <td>130</td>\n",
       "      <td>2013-05-24 00:00:00</td>\n",
       "    </tr>\n",
       "    <tr>\n",
       "      <th>9</th>\n",
       "      <td>Oz The Great and Powerful</td>\n",
       "      <td>215000000.0</td>\n",
       "      <td>234911825</td>\n",
       "      <td>Sam Raimi</td>\n",
       "      <td>PG</td>\n",
       "      <td>127</td>\n",
       "      <td>2013-03-08 00:00:00</td>\n",
       "    </tr>\n",
       "    <tr>\n",
       "      <th>10</th>\n",
       "      <td>Star Trek Into Darkness</td>\n",
       "      <td>190000000.0</td>\n",
       "      <td>228778661</td>\n",
       "      <td>J.J. Abrams</td>\n",
       "      <td>PG-13</td>\n",
       "      <td>123</td>\n",
       "      <td>2013-05-16 00:00:00</td>\n",
       "    </tr>\n",
       "    <tr>\n",
       "      <th>11</th>\n",
       "      <td>Thor: The Dark World</td>\n",
       "      <td>170000000.0</td>\n",
       "      <td>206362140</td>\n",
       "      <td>Alan Taylor</td>\n",
       "      <td>PG-13</td>\n",
       "      <td>120</td>\n",
       "      <td>2013-11-08 00:00:00</td>\n",
       "    </tr>\n",
       "    <tr>\n",
       "      <th>12</th>\n",
       "      <td>World War Z</td>\n",
       "      <td>190000000.0</td>\n",
       "      <td>202359711</td>\n",
       "      <td>Marc Forster</td>\n",
       "      <td>PG-13</td>\n",
       "      <td>116</td>\n",
       "      <td>2013-06-21 00:00:00</td>\n",
       "    </tr>\n",
       "    <tr>\n",
       "      <th>13</th>\n",
       "      <td>The Croods</td>\n",
       "      <td>135000000.0</td>\n",
       "      <td>187168425</td>\n",
       "      <td>Kirk De MiccoChris Sanders</td>\n",
       "      <td>PG</td>\n",
       "      <td>98</td>\n",
       "      <td>2013-03-22 00:00:00</td>\n",
       "    </tr>\n",
       "    <tr>\n",
       "      <th>14</th>\n",
       "      <td>The Heat</td>\n",
       "      <td>43000000.0</td>\n",
       "      <td>159582188</td>\n",
       "      <td>Paul Feig</td>\n",
       "      <td>R</td>\n",
       "      <td>117</td>\n",
       "      <td>2013-06-28 00:00:00</td>\n",
       "    </tr>\n",
       "    <tr>\n",
       "      <th>15</th>\n",
       "      <td>We're the Millers</td>\n",
       "      <td>37000000.0</td>\n",
       "      <td>150394119</td>\n",
       "      <td>Rawson Marshall Thurber</td>\n",
       "      <td>R</td>\n",
       "      <td>110</td>\n",
       "      <td>2013-08-07 00:00:00</td>\n",
       "    </tr>\n",
       "    <tr>\n",
       "      <th>16</th>\n",
       "      <td>American Hustle</td>\n",
       "      <td>40000000.0</td>\n",
       "      <td>150117807</td>\n",
       "      <td>David O. Russell</td>\n",
       "      <td>R</td>\n",
       "      <td>138</td>\n",
       "      <td>2013-12-13 00:00:00</td>\n",
       "    </tr>\n",
       "    <tr>\n",
       "      <th>17</th>\n",
       "      <td>The Great Gatsby</td>\n",
       "      <td>105000000.0</td>\n",
       "      <td>144840419</td>\n",
       "      <td>Baz Luhrmann</td>\n",
       "      <td>PG-13</td>\n",
       "      <td>143</td>\n",
       "      <td>2013-05-10 00:00:00</td>\n",
       "    </tr>\n",
       "    <tr>\n",
       "      <th>18</th>\n",
       "      <td>The Conjuring</td>\n",
       "      <td>20000000.0</td>\n",
       "      <td>137400141</td>\n",
       "      <td>James Wan</td>\n",
       "      <td>R</td>\n",
       "      <td>112</td>\n",
       "      <td>2013-07-19 00:00:00</td>\n",
       "    </tr>\n",
       "    <tr>\n",
       "      <th>19</th>\n",
       "      <td>Identity Thief</td>\n",
       "      <td>35000000.0</td>\n",
       "      <td>134506920</td>\n",
       "      <td>Seth Gordon</td>\n",
       "      <td>R</td>\n",
       "      <td>111</td>\n",
       "      <td>2013-02-08 00:00:00</td>\n",
       "    </tr>\n",
       "    <tr>\n",
       "      <th>20</th>\n",
       "      <td>Grown Ups 2</td>\n",
       "      <td>80000000.0</td>\n",
       "      <td>133668525</td>\n",
       "      <td>Dennis Dugan</td>\n",
       "      <td>PG-13</td>\n",
       "      <td>101</td>\n",
       "      <td>2013-07-12 00:00:00</td>\n",
       "    </tr>\n",
       "    <tr>\n",
       "      <th>21</th>\n",
       "      <td>The Wolverine</td>\n",
       "      <td>120000000.0</td>\n",
       "      <td>132556852</td>\n",
       "      <td>James Mangold</td>\n",
       "      <td>PG-13</td>\n",
       "      <td>126</td>\n",
       "      <td>2013-07-26 00:00:00</td>\n",
       "    </tr>\n",
       "    <tr>\n",
       "      <th>22</th>\n",
       "      <td>Anchorman 2: The Legend Continues</td>\n",
       "      <td>50000000.0</td>\n",
       "      <td>125168368</td>\n",
       "      <td>Adam McKay</td>\n",
       "      <td>PG-13</td>\n",
       "      <td>119</td>\n",
       "      <td>2013-12-18 00:00:00</td>\n",
       "    </tr>\n",
       "    <tr>\n",
       "      <th>23</th>\n",
       "      <td>Lone Survivor</td>\n",
       "      <td>40000000.0</td>\n",
       "      <td>125095601</td>\n",
       "      <td>Peter Berg</td>\n",
       "      <td>R</td>\n",
       "      <td>121</td>\n",
       "      <td>2013-12-25 00:00:00</td>\n",
       "    </tr>\n",
       "    <tr>\n",
       "      <th>24</th>\n",
       "      <td>G.I. Joe: Retaliation</td>\n",
       "      <td>130000000.0</td>\n",
       "      <td>122523060</td>\n",
       "      <td>Jon Chu</td>\n",
       "      <td>PG-13</td>\n",
       "      <td>99</td>\n",
       "      <td>2013-03-28 00:00:00</td>\n",
       "    </tr>\n",
       "    <tr>\n",
       "      <th>25</th>\n",
       "      <td>Cloudy with a Chance of Meatballs 2</td>\n",
       "      <td>78000000.0</td>\n",
       "      <td>119793567</td>\n",
       "      <td>NaN</td>\n",
       "      <td>PG</td>\n",
       "      <td>95</td>\n",
       "      <td>2013-09-27 00:00:00</td>\n",
       "    </tr>\n",
       "    <tr>\n",
       "      <th>26</th>\n",
       "      <td>Now You See Me</td>\n",
       "      <td>75000000.0</td>\n",
       "      <td>117723989</td>\n",
       "      <td>Louis Leterrier</td>\n",
       "      <td>PG-13</td>\n",
       "      <td>116</td>\n",
       "      <td>2013-05-31 00:00:00</td>\n",
       "    </tr>\n",
       "    <tr>\n",
       "      <th>27</th>\n",
       "      <td>The Wolf of Wall Street</td>\n",
       "      <td>100000000.0</td>\n",
       "      <td>116900694</td>\n",
       "      <td>Martin Scorsese</td>\n",
       "      <td>R</td>\n",
       "      <td>180</td>\n",
       "      <td>2013-12-25 00:00:00</td>\n",
       "    </tr>\n",
       "    <tr>\n",
       "      <th>28</th>\n",
       "      <td>Lee Daniels' The Butler</td>\n",
       "      <td>30000000.0</td>\n",
       "      <td>116632095</td>\n",
       "      <td>Lee Daniels</td>\n",
       "      <td>PG-13</td>\n",
       "      <td>132</td>\n",
       "      <td>2013-08-16 00:00:00</td>\n",
       "    </tr>\n",
       "    <tr>\n",
       "      <th>29</th>\n",
       "      <td>The Hangover Part III</td>\n",
       "      <td>103000000.0</td>\n",
       "      <td>112200072</td>\n",
       "      <td>Todd Phillips</td>\n",
       "      <td>R</td>\n",
       "      <td>100</td>\n",
       "      <td>2013-05-23 00:00:00</td>\n",
       "    </tr>\n",
       "    <tr>\n",
       "      <th>...</th>\n",
       "      <td>...</td>\n",
       "      <td>...</td>\n",
       "      <td>...</td>\n",
       "      <td>...</td>\n",
       "      <td>...</td>\n",
       "      <td>...</td>\n",
       "      <td>...</td>\n",
       "    </tr>\n",
       "    <tr>\n",
       "      <th>70</th>\n",
       "      <td>Gangster Squad</td>\n",
       "      <td>60000000.0</td>\n",
       "      <td>46000903</td>\n",
       "      <td>Ruben Fleischer</td>\n",
       "      <td>R</td>\n",
       "      <td>113</td>\n",
       "      <td>2013-01-11 00:00:00</td>\n",
       "    </tr>\n",
       "    <tr>\n",
       "      <th>71</th>\n",
       "      <td>Jurassic Park 3D</td>\n",
       "      <td>10000000.0</td>\n",
       "      <td>45385935</td>\n",
       "      <td>NaN</td>\n",
       "      <td>PG-13</td>\n",
       "      <td>127</td>\n",
       "      <td>2013-04-05 00:00:00</td>\n",
       "    </tr>\n",
       "    <tr>\n",
       "      <th>72</th>\n",
       "      <td>The Internship</td>\n",
       "      <td>58000000.0</td>\n",
       "      <td>44672764</td>\n",
       "      <td>Shawn Levy</td>\n",
       "      <td>PG-13</td>\n",
       "      <td>119</td>\n",
       "      <td>2013-06-07 00:00:00</td>\n",
       "    </tr>\n",
       "    <tr>\n",
       "      <th>73</th>\n",
       "      <td>Instructions Not Included</td>\n",
       "      <td>NaN</td>\n",
       "      <td>44467206</td>\n",
       "      <td>NaN</td>\n",
       "      <td>PG-13</td>\n",
       "      <td>115</td>\n",
       "      <td>2013-08-30 00:00:00</td>\n",
       "    </tr>\n",
       "    <tr>\n",
       "      <th>74</th>\n",
       "      <td>Snitch</td>\n",
       "      <td>NaN</td>\n",
       "      <td>42930462</td>\n",
       "      <td>Ric Roman Waugh</td>\n",
       "      <td>PG-13</td>\n",
       "      <td>112</td>\n",
       "      <td>2013-02-22 00:00:00</td>\n",
       "    </tr>\n",
       "    <tr>\n",
       "      <th>75</th>\n",
       "      <td>Riddick</td>\n",
       "      <td>38000000.0</td>\n",
       "      <td>42025135</td>\n",
       "      <td>David Twohy</td>\n",
       "      <td>R</td>\n",
       "      <td>119</td>\n",
       "      <td>2013-09-06 00:00:00</td>\n",
       "    </tr>\n",
       "    <tr>\n",
       "      <th>76</th>\n",
       "      <td>A Haunted House</td>\n",
       "      <td>2500000.0</td>\n",
       "      <td>40041683</td>\n",
       "      <td>Michael Tiddes</td>\n",
       "      <td>R</td>\n",
       "      <td>80</td>\n",
       "      <td>2013-01-11 00:00:00</td>\n",
       "    </tr>\n",
       "    <tr>\n",
       "      <th>77</th>\n",
       "      <td>47 Ronin</td>\n",
       "      <td>175000000.0</td>\n",
       "      <td>38362475</td>\n",
       "      <td>Carl Rinsch</td>\n",
       "      <td>PG-13</td>\n",
       "      <td>127</td>\n",
       "      <td>2013-12-25 00:00:00</td>\n",
       "    </tr>\n",
       "    <tr>\n",
       "      <th>78</th>\n",
       "      <td>August: Osage County</td>\n",
       "      <td>NaN</td>\n",
       "      <td>37738810</td>\n",
       "      <td>John Wells</td>\n",
       "      <td>R</td>\n",
       "      <td>130</td>\n",
       "      <td>2013-12-27 00:00:00</td>\n",
       "    </tr>\n",
       "    <tr>\n",
       "      <th>79</th>\n",
       "      <td>Philomena</td>\n",
       "      <td>12000000.0</td>\n",
       "      <td>37709979</td>\n",
       "      <td>Stephen Frears</td>\n",
       "      <td>PG-13</td>\n",
       "      <td>95</td>\n",
       "      <td>2013-11-22 00:00:00</td>\n",
       "    </tr>\n",
       "    <tr>\n",
       "      <th>80</th>\n",
       "      <td>The Family</td>\n",
       "      <td>30000000.0</td>\n",
       "      <td>36918811</td>\n",
       "      <td>Luc Besson</td>\n",
       "      <td>R</td>\n",
       "      <td>112</td>\n",
       "      <td>2013-09-13 00:00:00</td>\n",
       "    </tr>\n",
       "    <tr>\n",
       "      <th>81</th>\n",
       "      <td>Walking with Dinosaurs</td>\n",
       "      <td>80000000.0</td>\n",
       "      <td>36076121</td>\n",
       "      <td>Barry CookNeil Nightingale</td>\n",
       "      <td>PG</td>\n",
       "      <td>87</td>\n",
       "      <td>2013-12-20 00:00:00</td>\n",
       "    </tr>\n",
       "    <tr>\n",
       "      <th>82</th>\n",
       "      <td>Carrie</td>\n",
       "      <td>30000000.0</td>\n",
       "      <td>35266619</td>\n",
       "      <td>Kimberly Peirce</td>\n",
       "      <td>R</td>\n",
       "      <td>92</td>\n",
       "      <td>2013-10-18 00:00:00</td>\n",
       "    </tr>\n",
       "    <tr>\n",
       "      <th>83</th>\n",
       "      <td>Texas Chainsaw 3D</td>\n",
       "      <td>NaN</td>\n",
       "      <td>34341945</td>\n",
       "      <td>John Luessenhop</td>\n",
       "      <td>R</td>\n",
       "      <td>92</td>\n",
       "      <td>2013-01-04 00:00:00</td>\n",
       "    </tr>\n",
       "    <tr>\n",
       "      <th>84</th>\n",
       "      <td>R.I.P.D.</td>\n",
       "      <td>130000000.0</td>\n",
       "      <td>33618855</td>\n",
       "      <td>Robert Schwentke</td>\n",
       "      <td>PG-13</td>\n",
       "      <td>96</td>\n",
       "      <td>2013-07-19 00:00:00</td>\n",
       "    </tr>\n",
       "    <tr>\n",
       "      <th>85</th>\n",
       "      <td>Blue Jasmine</td>\n",
       "      <td>NaN</td>\n",
       "      <td>33405481</td>\n",
       "      <td>Woody Allen</td>\n",
       "      <td>PG-13</td>\n",
       "      <td>98</td>\n",
       "      <td>2013-07-26 00:00:00</td>\n",
       "    </tr>\n",
       "    <tr>\n",
       "      <th>86</th>\n",
       "      <td>Kevin Hart: Let Me Explain</td>\n",
       "      <td>NaN</td>\n",
       "      <td>32244051</td>\n",
       "      <td>NaN</td>\n",
       "      <td>R</td>\n",
       "      <td>75</td>\n",
       "      <td>2013-07-03 00:00:00</td>\n",
       "    </tr>\n",
       "    <tr>\n",
       "      <th>87</th>\n",
       "      <td>Side Effects</td>\n",
       "      <td>NaN</td>\n",
       "      <td>32172757</td>\n",
       "      <td>Steven Soderbergh</td>\n",
       "      <td>R</td>\n",
       "      <td>106</td>\n",
       "      <td>2013-02-08 00:00:00</td>\n",
       "    </tr>\n",
       "    <tr>\n",
       "      <th>88</th>\n",
       "      <td>Scary Movie 5</td>\n",
       "      <td>20000000.0</td>\n",
       "      <td>32015787</td>\n",
       "      <td>Malcolm D. Lee</td>\n",
       "      <td>PG-13</td>\n",
       "      <td>85</td>\n",
       "      <td>2013-04-12 00:00:00</td>\n",
       "    </tr>\n",
       "    <tr>\n",
       "      <th>89</th>\n",
       "      <td>The Mortal Instruments: City of Bones</td>\n",
       "      <td>60000000.0</td>\n",
       "      <td>31165421</td>\n",
       "      <td>Harald Zwart</td>\n",
       "      <td>PG-13</td>\n",
       "      <td>120</td>\n",
       "      <td>2013-08-21 00:00:00</td>\n",
       "    </tr>\n",
       "    <tr>\n",
       "      <th>90</th>\n",
       "      <td>Delivery Man</td>\n",
       "      <td>26000000.0</td>\n",
       "      <td>30664106</td>\n",
       "      <td>Ken Scott</td>\n",
       "      <td>PG-13</td>\n",
       "      <td>105</td>\n",
       "      <td>2013-11-22 00:00:00</td>\n",
       "    </tr>\n",
       "    <tr>\n",
       "      <th>91</th>\n",
       "      <td>Grudge Match</td>\n",
       "      <td>40000000.0</td>\n",
       "      <td>29807260</td>\n",
       "      <td>Peter Segal</td>\n",
       "      <td>PG-13</td>\n",
       "      <td>113</td>\n",
       "      <td>2013-12-25 00:00:00</td>\n",
       "    </tr>\n",
       "    <tr>\n",
       "      <th>92</th>\n",
       "      <td>One Direction: This is Us</td>\n",
       "      <td>10000000.0</td>\n",
       "      <td>28873374</td>\n",
       "      <td>Morgan Spurlock</td>\n",
       "      <td>PG</td>\n",
       "      <td>92</td>\n",
       "      <td>2013-08-30 00:00:00</td>\n",
       "    </tr>\n",
       "    <tr>\n",
       "      <th>93</th>\n",
       "      <td>Kick-Ass 2</td>\n",
       "      <td>28000000.0</td>\n",
       "      <td>28795985</td>\n",
       "      <td>Jeff Wadlow</td>\n",
       "      <td>R</td>\n",
       "      <td>103</td>\n",
       "      <td>2013-08-16 00:00:00</td>\n",
       "    </tr>\n",
       "    <tr>\n",
       "      <th>94</th>\n",
       "      <td>Dallas Buyers Club</td>\n",
       "      <td>5000000.0</td>\n",
       "      <td>27298285</td>\n",
       "      <td>Jean-Marc Vallee</td>\n",
       "      <td>R</td>\n",
       "      <td>117</td>\n",
       "      <td>2013-11-01 00:00:00</td>\n",
       "    </tr>\n",
       "    <tr>\n",
       "      <th>95</th>\n",
       "      <td>Rush</td>\n",
       "      <td>38000000.0</td>\n",
       "      <td>26947624</td>\n",
       "      <td>Ron Howard</td>\n",
       "      <td>R</td>\n",
       "      <td>123</td>\n",
       "      <td>2013-09-20 00:00:00</td>\n",
       "    </tr>\n",
       "    <tr>\n",
       "      <th>96</th>\n",
       "      <td>The Host</td>\n",
       "      <td>40000000.0</td>\n",
       "      <td>26627201</td>\n",
       "      <td>Andrew Niccol</td>\n",
       "      <td>PG-13</td>\n",
       "      <td>125</td>\n",
       "      <td>2013-03-29 00:00:00</td>\n",
       "    </tr>\n",
       "    <tr>\n",
       "      <th>97</th>\n",
       "      <td>The World's End</td>\n",
       "      <td>20000000.0</td>\n",
       "      <td>26004851</td>\n",
       "      <td>Edgar Wright</td>\n",
       "      <td>R</td>\n",
       "      <td>109</td>\n",
       "      <td>2013-08-23 00:00:00</td>\n",
       "    </tr>\n",
       "    <tr>\n",
       "      <th>98</th>\n",
       "      <td>21 and Over</td>\n",
       "      <td>13000000.0</td>\n",
       "      <td>25682380</td>\n",
       "      <td>Jon LucasScott Moore</td>\n",
       "      <td>R</td>\n",
       "      <td>93</td>\n",
       "      <td>2013-03-01 00:00:00</td>\n",
       "    </tr>\n",
       "    <tr>\n",
       "      <th>99</th>\n",
       "      <td>Her</td>\n",
       "      <td>23000000.0</td>\n",
       "      <td>25568251</td>\n",
       "      <td>Spike Jonze</td>\n",
       "      <td>R</td>\n",
       "      <td>120</td>\n",
       "      <td>2013-12-18 00:00:00</td>\n",
       "    </tr>\n",
       "  </tbody>\n",
       "</table>\n",
       "<p>100 rows × 7 columns</p>\n",
       "</div>"
      ],
      "text/plain": [
       "                                    Title       Budget  DomesticTotalGross  \\\n",
       "0         The Hunger Games: Catching Fire  130000000.0           424668047   \n",
       "1                              Iron Man 3  200000000.0           409013994   \n",
       "2                                  Frozen  150000000.0           400738009   \n",
       "3                         Despicable Me 2   76000000.0           368061265   \n",
       "4                            Man of Steel  225000000.0           291045518   \n",
       "5                                 Gravity  100000000.0           274092705   \n",
       "6                     Monsters University          NaN           268492764   \n",
       "7     The Hobbit: The Desolation of Smaug          NaN           258366855   \n",
       "8                        Fast & Furious 6  160000000.0           238679850   \n",
       "9               Oz The Great and Powerful  215000000.0           234911825   \n",
       "10                Star Trek Into Darkness  190000000.0           228778661   \n",
       "11                   Thor: The Dark World  170000000.0           206362140   \n",
       "12                            World War Z  190000000.0           202359711   \n",
       "13                             The Croods  135000000.0           187168425   \n",
       "14                               The Heat   43000000.0           159582188   \n",
       "15                      We're the Millers   37000000.0           150394119   \n",
       "16                        American Hustle   40000000.0           150117807   \n",
       "17                       The Great Gatsby  105000000.0           144840419   \n",
       "18                          The Conjuring   20000000.0           137400141   \n",
       "19                         Identity Thief   35000000.0           134506920   \n",
       "20                            Grown Ups 2   80000000.0           133668525   \n",
       "21                          The Wolverine  120000000.0           132556852   \n",
       "22      Anchorman 2: The Legend Continues   50000000.0           125168368   \n",
       "23                          Lone Survivor   40000000.0           125095601   \n",
       "24                  G.I. Joe: Retaliation  130000000.0           122523060   \n",
       "25    Cloudy with a Chance of Meatballs 2   78000000.0           119793567   \n",
       "26                         Now You See Me   75000000.0           117723989   \n",
       "27                The Wolf of Wall Street  100000000.0           116900694   \n",
       "28                Lee Daniels' The Butler   30000000.0           116632095   \n",
       "29                  The Hangover Part III  103000000.0           112200072   \n",
       "..                                    ...          ...                 ...   \n",
       "70                         Gangster Squad   60000000.0            46000903   \n",
       "71                       Jurassic Park 3D   10000000.0            45385935   \n",
       "72                         The Internship   58000000.0            44672764   \n",
       "73              Instructions Not Included          NaN            44467206   \n",
       "74                                 Snitch          NaN            42930462   \n",
       "75                                Riddick   38000000.0            42025135   \n",
       "76                        A Haunted House    2500000.0            40041683   \n",
       "77                               47 Ronin  175000000.0            38362475   \n",
       "78                   August: Osage County          NaN            37738810   \n",
       "79                              Philomena   12000000.0            37709979   \n",
       "80                             The Family   30000000.0            36918811   \n",
       "81                 Walking with Dinosaurs   80000000.0            36076121   \n",
       "82                                 Carrie   30000000.0            35266619   \n",
       "83                      Texas Chainsaw 3D          NaN            34341945   \n",
       "84                               R.I.P.D.  130000000.0            33618855   \n",
       "85                           Blue Jasmine          NaN            33405481   \n",
       "86             Kevin Hart: Let Me Explain          NaN            32244051   \n",
       "87                           Side Effects          NaN            32172757   \n",
       "88                          Scary Movie 5   20000000.0            32015787   \n",
       "89  The Mortal Instruments: City of Bones   60000000.0            31165421   \n",
       "90                           Delivery Man   26000000.0            30664106   \n",
       "91                           Grudge Match   40000000.0            29807260   \n",
       "92              One Direction: This is Us   10000000.0            28873374   \n",
       "93                             Kick-Ass 2   28000000.0            28795985   \n",
       "94                     Dallas Buyers Club    5000000.0            27298285   \n",
       "95                                   Rush   38000000.0            26947624   \n",
       "96                               The Host   40000000.0            26627201   \n",
       "97                        The World's End   20000000.0            26004851   \n",
       "98                            21 and Over   13000000.0            25682380   \n",
       "99                                    Her   23000000.0            25568251   \n",
       "\n",
       "                      Director Rating  Runtime          ReleaseDate  \n",
       "0             Francis Lawrence  PG-13      146  2013-11-22 00:00:00  \n",
       "1                  Shane Black  PG-13      129  2013-05-03 00:00:00  \n",
       "2       Chris BuckJennifer Lee     PG      108  2013-11-22 00:00:00  \n",
       "3    Pierre CoffinChris Renaud     PG       98  2013-07-03 00:00:00  \n",
       "4                  Zack Snyder  PG-13      143  2013-06-14 00:00:00  \n",
       "5               Alfonso Cuaron  PG-13       91  2013-10-04 00:00:00  \n",
       "6                  Dan Scanlon      G      107  2013-06-21 00:00:00  \n",
       "7                Peter Jackson  PG-13      161  2013-12-13 00:00:00  \n",
       "8                   Justin Lin  PG-13      130  2013-05-24 00:00:00  \n",
       "9                    Sam Raimi     PG      127  2013-03-08 00:00:00  \n",
       "10                 J.J. Abrams  PG-13      123  2013-05-16 00:00:00  \n",
       "11                 Alan Taylor  PG-13      120  2013-11-08 00:00:00  \n",
       "12                Marc Forster  PG-13      116  2013-06-21 00:00:00  \n",
       "13  Kirk De MiccoChris Sanders     PG       98  2013-03-22 00:00:00  \n",
       "14                   Paul Feig      R      117  2013-06-28 00:00:00  \n",
       "15     Rawson Marshall Thurber      R      110  2013-08-07 00:00:00  \n",
       "16            David O. Russell      R      138  2013-12-13 00:00:00  \n",
       "17                Baz Luhrmann  PG-13      143  2013-05-10 00:00:00  \n",
       "18                   James Wan      R      112  2013-07-19 00:00:00  \n",
       "19                 Seth Gordon      R      111  2013-02-08 00:00:00  \n",
       "20                Dennis Dugan  PG-13      101  2013-07-12 00:00:00  \n",
       "21               James Mangold  PG-13      126  2013-07-26 00:00:00  \n",
       "22                  Adam McKay  PG-13      119  2013-12-18 00:00:00  \n",
       "23                  Peter Berg      R      121  2013-12-25 00:00:00  \n",
       "24                     Jon Chu  PG-13       99  2013-03-28 00:00:00  \n",
       "25                         NaN     PG       95  2013-09-27 00:00:00  \n",
       "26             Louis Leterrier  PG-13      116  2013-05-31 00:00:00  \n",
       "27             Martin Scorsese      R      180  2013-12-25 00:00:00  \n",
       "28                 Lee Daniels  PG-13      132  2013-08-16 00:00:00  \n",
       "29               Todd Phillips      R      100  2013-05-23 00:00:00  \n",
       "..                         ...    ...      ...                  ...  \n",
       "70             Ruben Fleischer      R      113  2013-01-11 00:00:00  \n",
       "71                         NaN  PG-13      127  2013-04-05 00:00:00  \n",
       "72                  Shawn Levy  PG-13      119  2013-06-07 00:00:00  \n",
       "73                         NaN  PG-13      115  2013-08-30 00:00:00  \n",
       "74             Ric Roman Waugh  PG-13      112  2013-02-22 00:00:00  \n",
       "75                 David Twohy      R      119  2013-09-06 00:00:00  \n",
       "76              Michael Tiddes      R       80  2013-01-11 00:00:00  \n",
       "77                 Carl Rinsch  PG-13      127  2013-12-25 00:00:00  \n",
       "78                  John Wells      R      130  2013-12-27 00:00:00  \n",
       "79              Stephen Frears  PG-13       95  2013-11-22 00:00:00  \n",
       "80                  Luc Besson      R      112  2013-09-13 00:00:00  \n",
       "81  Barry CookNeil Nightingale     PG       87  2013-12-20 00:00:00  \n",
       "82             Kimberly Peirce      R       92  2013-10-18 00:00:00  \n",
       "83             John Luessenhop      R       92  2013-01-04 00:00:00  \n",
       "84            Robert Schwentke  PG-13       96  2013-07-19 00:00:00  \n",
       "85                 Woody Allen  PG-13       98  2013-07-26 00:00:00  \n",
       "86                         NaN      R       75  2013-07-03 00:00:00  \n",
       "87           Steven Soderbergh      R      106  2013-02-08 00:00:00  \n",
       "88              Malcolm D. Lee  PG-13       85  2013-04-12 00:00:00  \n",
       "89                Harald Zwart  PG-13      120  2013-08-21 00:00:00  \n",
       "90                   Ken Scott  PG-13      105  2013-11-22 00:00:00  \n",
       "91                 Peter Segal  PG-13      113  2013-12-25 00:00:00  \n",
       "92             Morgan Spurlock     PG       92  2013-08-30 00:00:00  \n",
       "93                 Jeff Wadlow      R      103  2013-08-16 00:00:00  \n",
       "94            Jean-Marc Vallee      R      117  2013-11-01 00:00:00  \n",
       "95                  Ron Howard      R      123  2013-09-20 00:00:00  \n",
       "96               Andrew Niccol  PG-13      125  2013-03-29 00:00:00  \n",
       "97                Edgar Wright      R      109  2013-08-23 00:00:00  \n",
       "98        Jon LucasScott Moore      R       93  2013-03-01 00:00:00  \n",
       "99                 Spike Jonze      R      120  2013-12-18 00:00:00  \n",
       "\n",
       "[100 rows x 7 columns]"
      ]
     },
     "execution_count": 282,
     "metadata": {},
     "output_type": "execute_result"
    }
   ],
   "source": [
    "import pandas as pd\n",
    "import numpy as np\n",
    "import matplotlib.pyplot as plt\n",
    "import seaborn as sns\n",
    "from sklearn.metrics import mean_squared_error, r2_score\n",
    "from sklearn.cross_validation import train_test_split\n",
    "from sklearn.linear_model import LinearRegression, Lasso, LassoCV\n",
    "\n",
    "movies = pd.read_csv('/home/kalgi/ds/metis/sf17_ds8/challenges/challenges_data/2013_movies.csv')\n",
    "movies"
   ]
  },
  {
   "cell_type": "code",
   "execution_count": 262,
   "metadata": {},
   "outputs": [
    {
     "data": {
      "text/plain": [
       "7561750670100682.0"
      ]
     },
     "execution_count": 262,
     "metadata": {},
     "output_type": "execute_result"
    },
    {
     "data": {
      "image/png": "[encoded data removed]",
      "text/plain": [
       "<matplotlib.figure.Figure at 0x7fba2e608c18>"
      ]
     },
     "metadata": {},
     "output_type": "display_data"
    }
   ],
   "source": [
    "movies['constant'] = 1\n",
    "X=movies.loc[:,['Title','Budget',\n",
    "       'Director', 'Rating', 'Runtime',\n",
    "        'ReleaseDate','constant']]\n",
    "y=movies['DomesticTotalGross']\n",
    "\n",
    "selected_columns_1 = ['constant']\n",
    "lr_model1 = LinearRegression()\n",
    "lr_model1.fit(X.loc[:,selected_columns_1],y)\n",
    "\n",
    "%matplotlib inline\n",
    "lr_model1.coef_, lr_model1.intercept_\n",
    "\n",
    "pred1 = lr_model1.predict(X.loc[:,selected_columns_1])\n",
    "\n",
    "plt.scatter(pred1,X['constant'],alpha=.3)\n",
    "plt.plot(vec1, lr_model1.intercept_ + lr_model1.coef_[0]*vec1)\n",
    "\n",
    "np.mean((pred1 - y)**2)"
   ]
  },
  {
   "cell_type": "code",
   "execution_count": 263,
   "metadata": {},
   "outputs": [
    {
     "data": {
      "text/plain": [
       "<matplotlib.text.Text at 0x7fba2e0ca9b0>"
      ]
     },
     "execution_count": 263,
     "metadata": {},
     "output_type": "execute_result"
    },
    {
     "data": {
      "image/png": "[encoded data removed]",
      "text/plain": [
       "<matplotlib.figure.Figure at 0x7fba2e143710>"
      ]
     },
     "metadata": {},
     "output_type": "display_data"
    }
   ],
   "source": [
    "error = y - pred1\n",
    "plt.hist(error)\n",
    "plt.title(\"Residual Histogram\")"
   ]
  },
  {
   "cell_type": "code",
   "execution_count": 264,
   "metadata": {},
   "outputs": [
    {
     "data": {
      "text/plain": [
       "<matplotlib.text.Text at 0x7fba2e009ba8>"
      ]
     },
     "execution_count": 264,
     "metadata": {},
     "output_type": "execute_result"
    },
    {
     "data": {
      "image/png": "[encoded data removed]",
      "text/plain": [
       "<matplotlib.figure.Figure at 0x7fba2e143550>"
      ]
     },
     "metadata": {},
     "output_type": "display_data"
    }
   ],
   "source": [
    "plt.scatter(y, y - pred1)\n",
    "plt.title(\"Residual Plot\")"
   ]
  },
  {
   "cell_type": "markdown",
   "metadata": {},
   "source": [
    "### Challenge2"
   ]
  },
  {
   "cell_type": "code",
   "execution_count": 265,
   "metadata": {},
   "outputs": [
    {
     "data": {
      "text/plain": [
       "5710838561682511.0"
      ]
     },
     "execution_count": 265,
     "metadata": {},
     "output_type": "execute_result"
    }
   ],
   "source": [
    "movies = movies.fillna(0)\n",
    "X=movies.loc[:,['Title','Budget',\n",
    "       'Director', 'Rating', 'Runtime',\n",
    "        'ReleaseDate','constant']]\n",
    "y=movies['DomesticTotalGross']\n",
    "\n",
    "selected_columns_1 = ['constant','Budget']\n",
    "lr_model1 = LinearRegression()\n",
    "lr_model1.fit(X.loc[:,selected_columns_1],y)\n",
    "\n",
    "%matplotlib inline\n",
    "lr_model1.coef_, lr_model1.intercept_\n",
    "\n",
    "pred1 = lr_model1.predict(X.loc[:,selected_columns_1])\n",
    "\n",
    "np.mean((pred1 - y)**2)"
   ]
  },
  {
   "cell_type": "code",
   "execution_count": 266,
   "metadata": {},
   "outputs": [
    {
     "data": {
      "text/plain": [
       "<matplotlib.text.Text at 0x7fba2dfad828>"
      ]
     },
     "execution_count": 266,
     "metadata": {},
     "output_type": "execute_result"
    },
    {
     "data": {
      "image/png": "[encoded data removed]",
      "text/plain": [
       "<matplotlib.figure.Figure at 0x7fba2dfc97b8>"
      ]
     },
     "metadata": {},
     "output_type": "display_data"
    }
   ],
   "source": [
    "error = y - pred1\n",
    "plt.hist(error)\n",
    "plt.title(\"Residual Histogram\")"
   ]
  },
  {
   "cell_type": "code",
   "execution_count": 267,
   "metadata": {
    "scrolled": true
   },
   "outputs": [
    {
     "data": {
      "text/plain": [
       "<matplotlib.text.Text at 0x7fba2e17e828>"
      ]
     },
     "execution_count": 267,
     "metadata": {},
     "output_type": "execute_result"
    },
    {
     "data": {
      "image/png": "[encoded data removed]",
      "text/plain": [
       "<matplotlib.figure.Figure at 0x7fba2df28320>"
      ]
     },
     "metadata": {},
     "output_type": "display_data"
    }
   ],
   "source": [
    "plt.plot(np.linspace(0,10**8.65,1000),np.linspace(0,0,1000))\n",
    "plt.scatter(y, y - pred1)\n",
    "plt.title(\"Residual Plot\")"
   ]
  },
  {
   "cell_type": "code",
   "execution_count": 268,
   "metadata": {},
   "outputs": [
    {
     "data": {
      "text/plain": [
       "<matplotlib.text.Text at 0x7fba2e5dac50>"
      ]
     },
     "execution_count": 268,
     "metadata": {},
     "output_type": "execute_result"
    },
    {
     "data": {
      "image/png": "[encoded data removed]",
      "text/plain": [
       "<matplotlib.figure.Figure at 0x7fba2e12f320>"
      ]
     },
     "metadata": {},
     "output_type": "display_data"
    }
   ],
   "source": [
    "plt.figure()\n",
    "plt.plot(y,y)\n",
    "plt.scatter(y,pred1)\n",
    "plt.title(\"Actual v/s Predicted\")"
   ]
  },
  {
   "cell_type": "code",
   "execution_count": 285,
   "metadata": {},
   "outputs": [
    {
     "data": {
      "text/plain": [
       "0.31182004607169611"
      ]
     },
     "execution_count": 285,
     "metadata": {},
     "output_type": "execute_result"
    }
   ],
   "source": [
    "r2 = r2_score(y, pred1)\n",
    "r2"
   ]
  },
  {
   "cell_type": "markdown",
   "metadata": {},
   "source": [
    "### Challenge 3"
   ]
  },
  {
   "cell_type": "code",
   "execution_count": 274,
   "metadata": {},
   "outputs": [
    {
     "data": {
      "text/plain": [
       "Index(['Title', 'Budget', 'DomesticTotalGross', 'Director', 'Runtime',\n",
       "       'ReleaseDate', 'constant', 'Rating_G', 'Rating_PG', 'Rating_PG-13',\n",
       "       'Rating_R'],\n",
       "      dtype='object')"
      ]
     },
     "execution_count": 274,
     "metadata": {},
     "output_type": "execute_result"
    }
   ],
   "source": [
    "movies.columns\n",
    "movies = movies.fillna(0)\n",
    "movies.dropna()\n",
    "movies.columns"
   ]
  },
  {
   "cell_type": "code",
   "execution_count": 276,
   "metadata": {},
   "outputs": [
    {
     "data": {
      "text/plain": [
       "5203845227767208.0"
      ]
     },
     "execution_count": 276,
     "metadata": {},
     "output_type": "execute_result"
    }
   ],
   "source": [
    "X=movies.loc[:,['Title','Budget',\n",
    "       'Director', 'Runtime',\n",
    "        'ReleaseDate','constant','Rating_G', 'Rating_PG', 'Rating_PG-13', 'Rating_R']]\n",
    "y=movies['DomesticTotalGross']\n",
    "\n",
    "selected_columns_1 = ['constant','Budget','Rating_G', 'Rating_PG', 'Rating_PG-13', 'Rating_R']\n",
    "lr_model1 = LinearRegression()\n",
    "lr_model1.fit(X.loc[:,selected_columns_1],y)\n",
    "\n",
    "%matplotlib inline\n",
    "lr_model1.coef_, lr_model1.intercept_\n",
    "\n",
    "pred1 = lr_model1.predict(X.loc[:,selected_columns_1])\n",
    "\n",
    "np.mean((pred1 - y)**2)"
   ]
  },
  {
   "cell_type": "code",
   "execution_count": 277,
   "metadata": {},
   "outputs": [
    {
     "data": {
      "text/plain": [
       "<matplotlib.text.Text at 0x7fba2ed13320>"
      ]
     },
     "execution_count": 277,
     "metadata": {},
     "output_type": "execute_result"
    },
    {
     "data": {
      "image/png": "[encoded data removed]",
      "text/plain": [
       "<matplotlib.figure.Figure at 0x7fba2e6ca390>"
      ]
     },
     "metadata": {},
     "output_type": "display_data"
    }
   ],
   "source": [
    "error = y - pred1\n",
    "plt.hist(error)\n",
    "plt.title(\"Residual Histogram\")"
   ]
  },
  {
   "cell_type": "code",
   "execution_count": 278,
   "metadata": {},
   "outputs": [
    {
     "data": {
      "text/plain": [
       "<matplotlib.text.Text at 0x7fba2def6c50>"
      ]
     },
     "execution_count": 278,
     "metadata": {},
     "output_type": "execute_result"
    },
    {
     "data": {
      "image/png": "[encoded data removed]",
      "text/plain": [
       "<matplotlib.figure.Figure at 0x7fba2ecf7358>"
      ]
     },
     "metadata": {},
     "output_type": "display_data"
    }
   ],
   "source": [
    "plt.plot(np.linspace(0,10**8.65,1000),np.linspace(0,0,1000))\n",
    "plt.scatter(y, y - pred1)\n",
    "plt.title(\"Residual Plot\")"
   ]
  },
  {
   "cell_type": "code",
   "execution_count": 279,
   "metadata": {},
   "outputs": [
    {
     "data": {
      "text/plain": [
       "<matplotlib.text.Text at 0x7fba2de0cbe0>"
      ]
     },
     "execution_count": 279,
     "metadata": {},
     "output_type": "execute_result"
    },
    {
     "data": {
      "image/png": "[encoded data removed]",
      "text/plain": [
       "<matplotlib.figure.Figure at 0x7fba2dee7e80>"
      ]
     },
     "metadata": {},
     "output_type": "display_data"
    }
   ],
   "source": [
    "plt.figure()\n",
    "plt.plot(y,y)\n",
    "plt.scatter(y,pred1)\n",
    "plt.title(\"Actual v/s Predicted\")"
   ]
  },
  {
   "cell_type": "code",
   "execution_count": 284,
   "metadata": {},
   "outputs": [
    {
     "data": {
      "text/plain": [
       "0.31182004607169611"
      ]
     },
     "execution_count": 284,
     "metadata": {},
     "output_type": "execute_result"
    }
   ],
   "source": [
    "r2 = r2_score(y, pred1)\n",
    "r2"
   ]
  },
  {
   "cell_type": "markdown",
   "metadata": {},
   "source": [
    "### Challenge 4"
   ]
  },
  {
   "cell_type": "code",
   "execution_count": 327,
   "metadata": {},
   "outputs": [
    {
     "data": {
      "text/plain": [
       "Index(['Title', 'Budget', 'DomesticTotalGross', 'Director', 'Rating',\n",
       "       'Runtime', 'ReleaseDate'],\n",
       "      dtype='object')"
      ]
     },
     "execution_count": 327,
     "metadata": {},
     "output_type": "execute_result"
    }
   ],
   "source": [
    "movies.columns"
   ]
  },
  {
   "cell_type": "code",
   "execution_count": 328,
   "metadata": {
    "collapsed": true
   },
   "outputs": [],
   "source": [
    "director = pd.get_dummies(data = movies, columns = ['Director','Rating'])"
   ]
  },
  {
   "cell_type": "code",
   "execution_count": 332,
   "metadata": {
    "collapsed": true
   },
   "outputs": [],
   "source": [
    "director1 = director.iloc[:,5:]\n",
    "selected_columns_1 = director1.columns.tolist()"
   ]
  },
  {
   "cell_type": "code",
   "execution_count": 335,
   "metadata": {},
   "outputs": [
    {
     "data": {
      "text/plain": [
       "14441884891837.578"
      ]
     },
     "execution_count": 335,
     "metadata": {},
     "output_type": "execute_result"
    }
   ],
   "source": [
    "X=director1.loc[:,selected_columns_1]\n",
    "y=director['DomesticTotalGross']\n",
    "\n",
    "lr_model1 = LinearRegression()\n",
    "lr_model1.fit(X.loc[:,selected_columns_1],y)\n",
    "\n",
    "%matplotlib inline\n",
    "lr_model1.coef_, lr_model1.intercept_\n",
    "\n",
    "pred1 = lr_model1.predict(X.loc[:,selected_columns_1])\n",
    "\n",
    "np.mean((pred1 - y)**2)"
   ]
  },
  {
   "cell_type": "code",
   "execution_count": 336,
   "metadata": {},
   "outputs": [
    {
     "data": {
      "text/plain": [
       "<matplotlib.text.Text at 0x7fba2de7fb38>"
      ]
     },
     "execution_count": 336,
     "metadata": {},
     "output_type": "execute_result"
    },
    {
     "data": {
      "image/png": "[encoded data removed]",
      "text/plain": [
       "<matplotlib.figure.Figure at 0x7fba2dd7bac8>"
      ]
     },
     "metadata": {},
     "output_type": "display_data"
    }
   ],
   "source": [
    "error = y - pred1\n",
    "plt.hist(error)\n",
    "plt.title(\"Residual Histogram\")"
   ]
  },
  {
   "cell_type": "code",
   "execution_count": 337,
   "metadata": {},
   "outputs": [
    {
     "data": {
      "text/plain": [
       "<matplotlib.text.Text at 0x7fba2dc68ba8>"
      ]
     },
     "execution_count": 337,
     "metadata": {},
     "output_type": "execute_result"
    },
    {
     "data": {
      "image/png": "[encoded data removed]",
      "text/plain": [
       "<matplotlib.figure.Figure at 0x7fba2e5db438>"
      ]
     },
     "metadata": {},
     "output_type": "display_data"
    }
   ],
   "source": [
    "plt.plot(np.linspace(0,10**8.65,1000),np.linspace(0,0,1000))\n",
    "plt.scatter(y, y - pred1)\n",
    "plt.title(\"Residual Plot\")"
   ]
  },
  {
   "cell_type": "code",
   "execution_count": 338,
   "metadata": {},
   "outputs": [
    {
     "data": {
      "text/plain": [
       "<matplotlib.text.Text at 0x7fba2db83b70>"
      ]
     },
     "execution_count": 338,
     "metadata": {},
     "output_type": "execute_result"
    },
    {
     "data": {
      "image/png": "[encoded data removed]",
      "text/plain": [
       "<matplotlib.figure.Figure at 0x7fba2dc3df98>"
      ]
     },
     "metadata": {},
     "output_type": "display_data"
    }
   ],
   "source": [
    "plt.figure()\n",
    "plt.plot(y,y)\n",
    "plt.scatter(y,pred1)\n",
    "plt.title(\"Actual v/s Predicted\")"
   ]
  },
  {
   "cell_type": "code",
   "execution_count": 339,
   "metadata": {},
   "outputs": [
    {
     "data": {
      "text/plain": [
       "0.99809014003213026"
      ]
     },
     "execution_count": 339,
     "metadata": {},
     "output_type": "execute_result"
    }
   ],
   "source": [
    "r2 = r2_score(y, pred1)\n",
    "r2"
   ]
  },
  {
   "cell_type": "markdown",
   "metadata": {},
   "source": [
    "### Challenge 5"
   ]
  },
  {
   "cell_type": "code",
   "execution_count": 343,
   "metadata": {
    "collapsed": true
   },
   "outputs": [],
   "source": [
    "director1 = director.iloc[:,5:]\n",
    "selected_columns_1 = director1.columns.tolist()\n",
    "X=director1.loc[:,selected_columns_1]\n",
    "y=director['DomesticTotalGross']"
   ]
  },
  {
   "cell_type": "code",
   "execution_count": 348,
   "metadata": {
    "collapsed": true
   },
   "outputs": [],
   "source": [
    "X_train, X_test, y_train, y_test = train_test_split(X, y, test_size=0.3,random_state=42)"
   ]
  },
  {
   "cell_type": "code",
   "execution_count": 356,
   "metadata": {},
   "outputs": [
    {
     "data": {
      "text/plain": [
       "LinearRegression(copy_X=True, fit_intercept=True, n_jobs=1, normalize=False)"
      ]
     },
     "execution_count": 356,
     "metadata": {},
     "output_type": "execute_result"
    }
   ],
   "source": [
    "lr_model1 = LinearRegression()\n",
    "lr_model1.fit(X_train.loc[:,selected_columns_1],y_train)"
   ]
  },
  {
   "cell_type": "code",
   "execution_count": 359,
   "metadata": {
    "collapsed": true
   },
   "outputs": [],
   "source": [
    "pred1 = lr_model1.predict(X_test.loc[:,selected_columns_1])"
   ]
  },
  {
   "cell_type": "code",
   "execution_count": 369,
   "metadata": {},
   "outputs": [
    {
     "data": {
      "text/plain": [
       "<matplotlib.text.Text at 0x7fba2d525da0>"
      ]
     },
     "execution_count": 369,
     "metadata": {},
     "output_type": "execute_result"
    },
    {
     "data": {
      "image/png": "[encoded data removed]",
      "text/plain": [
       "<matplotlib.figure.Figure at 0x7fba2d9f3c18>"
      ]
     },
     "metadata": {},
     "output_type": "display_data"
    }
   ],
   "source": [
    "plt.figure()\n",
    "plt.plot(y,y)\n",
    "plt.scatter(y_test,pred1)\n",
    "plt.title(\"Actual v/s Predicted\")"
   ]
  },
  {
   "cell_type": "code",
   "execution_count": 370,
   "metadata": {},
   "outputs": [
    {
     "data": {
      "text/plain": [
       "<matplotlib.text.Text at 0x7fba2d456400>"
      ]
     },
     "execution_count": 370,
     "metadata": {},
     "output_type": "execute_result"
    },
    {
     "data": {
      "image/png": "[encoded data removed]",
      "text/plain": [
       "<matplotlib.figure.Figure at 0x7fba2d9ed390>"
      ]
     },
     "metadata": {},
     "output_type": "display_data"
    }
   ],
   "source": [
    "error = y_test - pred1\n",
    "plt.hist(error)\n",
    "plt.title(\"Residual Histogram\")"
   ]
  }
 ],
 "metadata": {
  "kernelspec": {
   "display_name": "Python 3",
   "language": "python",
   "name": "python3"
  },
  "language_info": {
   "codemirror_mode": {
    "name": "ipython",
    "version": 3
   },
   "file_extension": ".py",
   "mimetype": "text/x-python",
   "name": "python",
   "nbconvert_exporter": "python",
   "pygments_lexer": "ipython3",
   "version": "3.6.1"
  }
 },
 "nbformat": 4,
 "nbformat_minor": 2
}
