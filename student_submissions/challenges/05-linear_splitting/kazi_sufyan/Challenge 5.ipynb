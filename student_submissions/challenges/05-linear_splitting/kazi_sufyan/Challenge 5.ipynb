{
 "cells": [
  {
   "cell_type": "code",
   "execution_count": 99,
   "metadata": {},
   "outputs": [],
   "source": [
    "import pandas as pd\n",
    "import numpy as np\n",
    "from sklearn.model_selection import train_test_split\n",
    "from sklearn.linear_model import LinearRegression\n",
    "import matplotlib.pyplot as plt\n",
    "from sklearn.metrics import r2_score, mean_absolute_error, mean_squared_error\n",
    "W=100000000\n",
    "df=pd.read_csv('2013_movies.csv')\n",
    "%matplotlib inline"
   ]
  },
  {
   "cell_type": "markdown",
   "metadata": {},
   "source": [
    "<h1>Challenge1</h1>"
   ]
  },
  {
   "cell_type": "code",
   "execution_count": 91,
   "metadata": {},
   "outputs": [
    {
     "data": {
      "text/plain": [
       "<function matplotlib.pyplot.show>"
      ]
     },
     "execution_count": 91,
     "metadata": {},
     "output_type": "execute_result"
    },
    {
     "data": {
      "image/png": "[encoded data removed]",
      "text/plain": [
       "<matplotlib.figure.Figure at 0x7f42c8a34198>"
      ]
     },
     "metadata": {},
     "output_type": "display_data"
    }
   ],
   "source": [
    "df1=pd.DataFrame()\n",
    "df1['DTG']=df['DomesticTotalGross']\n",
    "df1=pd.concat([df1, pd.get_dummies(df['Rating'])], axis=1)\n",
    "\n",
    "X_train, X_test, y_train, y_test = train_test_split(df1.iloc[:,1:], df1.DTG, test_size=0.1,random_state=42)\n",
    "lin_reg_est = LinearRegression()\n",
    "lin_reg_est.fit(X_train, y_train)\n",
    "y_pred=lin_reg_est.predict(X_test)\n",
    "\n",
    "plt.scatter(y_pred, y_test)\n",
    "plt.plot([0, W], [0, W])\n",
    "plt.show"
   ]
  },
  {
   "cell_type": "markdown",
   "metadata": {},
   "source": [
    "<h1>Challenge 2</h1>"
   ]
  },
  {
   "cell_type": "code",
   "execution_count": 92,
   "metadata": {},
   "outputs": [
    {
     "data": {
      "text/plain": [
       "<function matplotlib.pyplot.show>"
      ]
     },
     "execution_count": 92,
     "metadata": {},
     "output_type": "execute_result"
    },
    {
     "data": {
      "image/png": "[encoded data removed]",
      "text/plain": [
       "<matplotlib.figure.Figure at 0x7f42c86e2e48>"
      ]
     },
     "metadata": {},
     "output_type": "display_data"
    }
   ],
   "source": [
    "df1['Runtime']=df['Runtime']\n",
    "X_train, X_test, y_train, y_test = train_test_split(df1.iloc[:,1:], df1.DTG, test_size=0.1,random_state=42)\n",
    "lin_reg_est = LinearRegression()\n",
    "lin_reg_est.fit(X_train, y_train)\n",
    "y_pred=lin_reg_est.predict(X_test)\n",
    "\n",
    "plt.scatter(y_pred, y_test)\n",
    "plt.plot([0, W*2], [0, W*2])\n",
    "plt.show"
   ]
  },
  {
   "cell_type": "markdown",
   "metadata": {},
   "source": [
    "<h1>Challenge 3</h1>"
   ]
  },
  {
   "cell_type": "code",
   "execution_count": 93,
   "metadata": {},
   "outputs": [
    {
     "data": {
      "text/plain": [
       "<function matplotlib.pyplot.show>"
      ]
     },
     "execution_count": 93,
     "metadata": {},
     "output_type": "execute_result"
    },
    {
     "data": {
      "image/png": "[encoded data removed]",
      "text/plain": [
       "<matplotlib.figure.Figure at 0x7f42c86e2f28>"
      ]
     },
     "metadata": {},
     "output_type": "display_data"
    }
   ],
   "source": [
    "df1=pd.concat([df1, pd.get_dummies(df['Director'])], axis=1)\n",
    "\n",
    "X_train, X_test, y_train, y_test = train_test_split(df1.iloc[:,1:], df1.DTG, test_size=0.1,random_state=42)\n",
    "lin_reg_est = LinearRegression()\n",
    "lin_reg_est.fit(X_train, y_train)\n",
    "y_pred=lin_reg_est.predict(X_test)\n",
    "\n",
    "plt.scatter(y_pred, y_test)\n",
    "plt.plot([0, W], [0, W])\n",
    "plt.show"
   ]
  },
  {
   "cell_type": "markdown",
   "metadata": {},
   "source": [
    "<h1>Challenge 4</h1>"
   ]
  },
  {
   "cell_type": "code",
   "execution_count": 98,
   "metadata": {},
   "outputs": [
    {
     "data": {
      "text/plain": [
       "<function matplotlib.pyplot.show>"
      ]
     },
     "execution_count": 98,
     "metadata": {},
     "output_type": "execute_result"
    },
    {
     "data": {
      "image/png": "[encoded data removed]",
      "text/plain": [
       "<matplotlib.figure.Figure at 0x7f42c89cd160>"
      ]
     },
     "metadata": {},
     "output_type": "display_data"
    }
   ],
   "source": [
    "df1['Budget']=df['Budget']\n",
    "X_train, X_test, y_train, y_test = train_test_split(df1.dropna().iloc[:,1:], df1.dropna().DTG, test_size=0.1,random_state=42)\n",
    "lin_reg_est = LinearRegression()\n",
    "lin_reg_est.fit(X_train, y_train)\n",
    "y_pred=lin_reg_est.predict(X_test)\n",
    "\n",
    "plt.scatter(y_pred, y_test)\n",
    "plt.plot([0, W*2], [0, W*2])\n",
    "plt.show"
   ]
  },
  {
   "cell_type": "markdown",
   "metadata": {},
   "source": [
    "<h1>Challenge 5</h1>"
   ]
  },
  {
   "cell_type": "code",
   "execution_count": 102,
   "metadata": {},
   "outputs": [
    {
     "name": "stdout",
     "output_type": "stream",
     "text": [
      "R-Squared Score: 0.10833380683295646\n",
      "Mean Absolute Error: 61326919.489490576\n",
      "Root Mean Squared Error: 104521282.99327663\n"
     ]
    }
   ],
   "source": [
    "print(\"R-Squared Score: {}\".format(r2_score(y_test, y_pred)))\n",
    "print(\"Mean Absolute Error: {}\".format(mean_absolute_error(y_test, y_pred)))\n",
    "print(\"Root Mean Squared Error: {}\".format(np.sqrt(mean_squared_error(y_test, y_pred))))\n"
   ]
  },
  {
   "cell_type": "code",
   "execution_count": null,
   "metadata": {
    "collapsed": true
   },
   "outputs": [],
   "source": []
  }
 ],
 "metadata": {
  "kernelspec": {
   "display_name": "Python 3",
   "language": "python",
   "name": "python3"
  },
  "language_info": {
   "codemirror_mode": {
    "name": "ipython",
    "version": 3
   },
   "file_extension": ".py",
   "mimetype": "text/x-python",
   "name": "python",
   "nbconvert_exporter": "python",
   "pygments_lexer": "ipython3",
   "version": "3.6.1"
  }
 },
 "nbformat": 4,
 "nbformat_minor": 2
}
