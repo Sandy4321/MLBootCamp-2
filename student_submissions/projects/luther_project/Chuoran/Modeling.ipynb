{
 "cells": [
  {
   "cell_type": "code",
   "execution_count": 1,
   "metadata": {
    "collapsed": true
   },
   "outputs": [],
   "source": [
    "import pandas as pd\n",
    "import numpy as np\n",
    "import os\n",
    "from matplotlib import pyplot as plt\n",
    "from copy import deepcopy\n",
    "import seaborn as sns\n",
    "\n",
    "\n",
    "% matplotlib inline"
   ]
  },
  {
   "cell_type": "code",
   "execution_count": 2,
   "metadata": {
    "collapsed": true
   },
   "outputs": [],
   "source": [
    "df_raw = pd.read_csv('sm_flights.csv')\n",
    "df_raw.drop('Unnamed: 0',axis =1, inplace = True)"
   ]
  },
  {
   "cell_type": "code",
   "execution_count": 3,
   "metadata": {},
   "outputs": [
    {
     "name": "stdout",
     "output_type": "stream",
     "text": [
      "<class 'pandas.core.frame.DataFrame'>\n",
      "RangeIndex: 12188 entries, 0 to 12187\n",
      "Data columns (total 32 columns):\n",
      "Flight#              12188 non-null object\n",
      "Taxi(min)            12188 non-null float64\n",
      "Taxi_Arr(min)        12188 non-null float64\n",
      "Speed(mph)           12188 non-null float64\n",
      "Altitute(ft)         12188 non-null float64\n",
      "Act_Dist(mi)         12188 non-null float64\n",
      "Sch_Dist(mi)         12188 non-null float64\n",
      "Act_Dur              12188 non-null float64\n",
      "Sch_Dur              12188 non-null float64\n",
      "Dep_Hr               12188 non-null float64\n",
      "DOW                  12188 non-null int64\n",
      "ORI_rank             12188 non-null int64\n",
      "DES_rank             12188 non-null int64\n",
      "Delay_Dep            12188 non-null float64\n",
      "Delay_Arr            12188 non-null float64\n",
      "Airline              12188 non-null object\n",
      "AAL                  12188 non-null int64\n",
      "DAL                  12188 non-null int64\n",
      "UAL                  12188 non-null int64\n",
      "SWA                  12188 non-null int64\n",
      "JBU                  12188 non-null int64\n",
      "VRD                  12188 non-null int64\n",
      "Airline_Avg_Delay    12188 non-null float64\n",
      "Mon                  12188 non-null int64\n",
      "Tue                  12188 non-null int64\n",
      "Wed                  12188 non-null int64\n",
      "Thu                  12188 non-null int64\n",
      "Fri                  12188 non-null int64\n",
      "Sat                  12188 non-null int64\n",
      "DOW_avg_delay        12188 non-null int64\n",
      "TOD_temp             12188 non-null int64\n",
      "TOD_tree             12188 non-null int64\n",
      "dtypes: float64(12), int64(18), object(2)\n",
      "memory usage: 3.0+ MB\n"
     ]
    }
   ],
   "source": [
    "df_raw.info()"
   ]
  },
  {
   "cell_type": "code",
   "execution_count": 4,
   "metadata": {},
   "outputs": [
    {
     "data": {
      "text/html": [
       "<div>\n",
       "<style>\n",
       "    .dataframe thead tr:only-child th {\n",
       "        text-align: right;\n",
       "    }\n",
       "\n",
       "    .dataframe thead th {\n",
       "        text-align: left;\n",
       "    }\n",
       "\n",
       "    .dataframe tbody tr th {\n",
       "        vertical-align: top;\n",
       "    }\n",
       "</style>\n",
       "<table border=\"1\" class=\"dataframe\">\n",
       "  <thead>\n",
       "    <tr style=\"text-align: right;\">\n",
       "      <th></th>\n",
       "      <th>Flight#</th>\n",
       "      <th>Taxi(min)</th>\n",
       "      <th>Taxi_Arr(min)</th>\n",
       "      <th>Speed(mph)</th>\n",
       "      <th>Altitute(ft)</th>\n",
       "      <th>Act_Dist(mi)</th>\n",
       "      <th>Sch_Dist(mi)</th>\n",
       "      <th>Act_Dur</th>\n",
       "      <th>Sch_Dur</th>\n",
       "      <th>Dep_Hr</th>\n",
       "      <th>...</th>\n",
       "      <th>Airline_Avg_Delay</th>\n",
       "      <th>Mon</th>\n",
       "      <th>Tue</th>\n",
       "      <th>Wed</th>\n",
       "      <th>Thu</th>\n",
       "      <th>Fri</th>\n",
       "      <th>Sat</th>\n",
       "      <th>DOW_avg_delay</th>\n",
       "      <th>TOD_temp</th>\n",
       "      <th>TOD_tree</th>\n",
       "    </tr>\n",
       "  </thead>\n",
       "  <tbody>\n",
       "    <tr>\n",
       "      <th>0</th>\n",
       "      <td>N2437</td>\n",
       "      <td>18.761282</td>\n",
       "      <td>9.222338</td>\n",
       "      <td>587.0</td>\n",
       "      <td>45000.0</td>\n",
       "      <td>1565.0</td>\n",
       "      <td>1662.0</td>\n",
       "      <td>153.0</td>\n",
       "      <td>151.0</td>\n",
       "      <td>16.000000</td>\n",
       "      <td>...</td>\n",
       "      <td>0.0</td>\n",
       "      <td>0</td>\n",
       "      <td>0</td>\n",
       "      <td>1</td>\n",
       "      <td>0</td>\n",
       "      <td>0</td>\n",
       "      <td>0</td>\n",
       "      <td>1</td>\n",
       "      <td>16</td>\n",
       "      <td>0</td>\n",
       "    </tr>\n",
       "    <tr>\n",
       "      <th>1</th>\n",
       "      <td>UAL1450</td>\n",
       "      <td>17.000000</td>\n",
       "      <td>24.000000</td>\n",
       "      <td>517.0</td>\n",
       "      <td>37000.0</td>\n",
       "      <td>1833.0</td>\n",
       "      <td>1844.0</td>\n",
       "      <td>245.0</td>\n",
       "      <td>254.0</td>\n",
       "      <td>9.383333</td>\n",
       "      <td>...</td>\n",
       "      <td>2.0</td>\n",
       "      <td>0</td>\n",
       "      <td>0</td>\n",
       "      <td>0</td>\n",
       "      <td>0</td>\n",
       "      <td>1</td>\n",
       "      <td>0</td>\n",
       "      <td>4</td>\n",
       "      <td>9</td>\n",
       "      <td>0</td>\n",
       "    </tr>\n",
       "    <tr>\n",
       "      <th>2</th>\n",
       "      <td>UAL1450</td>\n",
       "      <td>25.000000</td>\n",
       "      <td>11.000000</td>\n",
       "      <td>519.0</td>\n",
       "      <td>37000.0</td>\n",
       "      <td>1846.0</td>\n",
       "      <td>1788.0</td>\n",
       "      <td>241.0</td>\n",
       "      <td>254.0</td>\n",
       "      <td>9.500000</td>\n",
       "      <td>...</td>\n",
       "      <td>2.0</td>\n",
       "      <td>0</td>\n",
       "      <td>0</td>\n",
       "      <td>0</td>\n",
       "      <td>1</td>\n",
       "      <td>0</td>\n",
       "      <td>0</td>\n",
       "      <td>2</td>\n",
       "      <td>9</td>\n",
       "      <td>0</td>\n",
       "    </tr>\n",
       "    <tr>\n",
       "      <th>3</th>\n",
       "      <td>UAL1450</td>\n",
       "      <td>15.000000</td>\n",
       "      <td>15.000000</td>\n",
       "      <td>521.0</td>\n",
       "      <td>35000.0</td>\n",
       "      <td>1900.0</td>\n",
       "      <td>1892.0</td>\n",
       "      <td>236.0</td>\n",
       "      <td>254.0</td>\n",
       "      <td>9.566667</td>\n",
       "      <td>...</td>\n",
       "      <td>2.0</td>\n",
       "      <td>0</td>\n",
       "      <td>0</td>\n",
       "      <td>1</td>\n",
       "      <td>0</td>\n",
       "      <td>0</td>\n",
       "      <td>0</td>\n",
       "      <td>1</td>\n",
       "      <td>9</td>\n",
       "      <td>0</td>\n",
       "    </tr>\n",
       "    <tr>\n",
       "      <th>4</th>\n",
       "      <td>UAL1450</td>\n",
       "      <td>16.000000</td>\n",
       "      <td>10.000000</td>\n",
       "      <td>520.0</td>\n",
       "      <td>35000.0</td>\n",
       "      <td>1865.0</td>\n",
       "      <td>1743.0</td>\n",
       "      <td>230.0</td>\n",
       "      <td>254.0</td>\n",
       "      <td>9.150000</td>\n",
       "      <td>...</td>\n",
       "      <td>2.0</td>\n",
       "      <td>0</td>\n",
       "      <td>1</td>\n",
       "      <td>0</td>\n",
       "      <td>0</td>\n",
       "      <td>0</td>\n",
       "      <td>0</td>\n",
       "      <td>6</td>\n",
       "      <td>9</td>\n",
       "      <td>0</td>\n",
       "    </tr>\n",
       "  </tbody>\n",
       "</table>\n",
       "<p>5 rows × 32 columns</p>\n",
       "</div>"
      ],
      "text/plain": [
       "   Flight#  Taxi(min)  Taxi_Arr(min)  Speed(mph)  Altitute(ft)  Act_Dist(mi)  \\\n",
       "0    N2437  18.761282       9.222338       587.0       45000.0        1565.0   \n",
       "1  UAL1450  17.000000      24.000000       517.0       37000.0        1833.0   \n",
       "2  UAL1450  25.000000      11.000000       519.0       37000.0        1846.0   \n",
       "3  UAL1450  15.000000      15.000000       521.0       35000.0        1900.0   \n",
       "4  UAL1450  16.000000      10.000000       520.0       35000.0        1865.0   \n",
       "\n",
       "   Sch_Dist(mi)  Act_Dur  Sch_Dur     Dep_Hr    ...     Airline_Avg_Delay  \\\n",
       "0        1662.0    153.0    151.0  16.000000    ...                   0.0   \n",
       "1        1844.0    245.0    254.0   9.383333    ...                   2.0   \n",
       "2        1788.0    241.0    254.0   9.500000    ...                   2.0   \n",
       "3        1892.0    236.0    254.0   9.566667    ...                   2.0   \n",
       "4        1743.0    230.0    254.0   9.150000    ...                   2.0   \n",
       "\n",
       "   Mon  Tue  Wed  Thu Fri  Sat  DOW_avg_delay  TOD_temp  TOD_tree  \n",
       "0    0    0    1    0   0    0              1        16         0  \n",
       "1    0    0    0    0   1    0              4         9         0  \n",
       "2    0    0    0    1   0    0              2         9         0  \n",
       "3    0    0    1    0   0    0              1         9         0  \n",
       "4    0    1    0    0   0    0              6         9         0  \n",
       "\n",
       "[5 rows x 32 columns]"
      ]
     },
     "execution_count": 4,
     "metadata": {},
     "output_type": "execute_result"
    }
   ],
   "source": [
    "df_raw.head()"
   ]
  },
  {
   "cell_type": "code",
   "execution_count": 5,
   "metadata": {},
   "outputs": [
    {
     "name": "stdout",
     "output_type": "stream",
     "text": [
      "<class 'pandas.core.frame.DataFrame'>\n",
      "RangeIndex: 12188 entries, 0 to 12187\n",
      "Data columns (total 32 columns):\n",
      "Flight#              12188 non-null object\n",
      "Taxi(min)            12188 non-null float64\n",
      "Taxi_Arr(min)        12188 non-null float64\n",
      "Speed(mph)           12188 non-null float64\n",
      "Altitute(ft)         12188 non-null float64\n",
      "Act_Dist(mi)         12188 non-null float64\n",
      "Sch_Dist(mi)         12188 non-null float64\n",
      "Act_Dur              12188 non-null float64\n",
      "Sch_Dur              12188 non-null float64\n",
      "Dep_Hr               12188 non-null float64\n",
      "DOW                  12188 non-null int64\n",
      "ORI_rank             12188 non-null int64\n",
      "DES_rank             12188 non-null int64\n",
      "Delay_Dep            12188 non-null float64\n",
      "Delay_Arr            12188 non-null float64\n",
      "Airline              12188 non-null object\n",
      "AAL                  12188 non-null int64\n",
      "DAL                  12188 non-null int64\n",
      "UAL                  12188 non-null int64\n",
      "SWA                  12188 non-null int64\n",
      "JBU                  12188 non-null int64\n",
      "VRD                  12188 non-null int64\n",
      "Airline_Avg_Delay    12188 non-null float64\n",
      "Mon                  12188 non-null int64\n",
      "Tue                  12188 non-null int64\n",
      "Wed                  12188 non-null int64\n",
      "Thu                  12188 non-null int64\n",
      "Fri                  12188 non-null int64\n",
      "Sat                  12188 non-null int64\n",
      "DOW_avg_delay        12188 non-null int64\n",
      "TOD_temp             12188 non-null int64\n",
      "TOD_tree             12188 non-null int64\n",
      "dtypes: float64(12), int64(18), object(2)\n",
      "memory usage: 3.0+ MB\n"
     ]
    }
   ],
   "source": [
    "df_raw.info()"
   ]
  },
  {
   "cell_type": "code",
   "execution_count": 6,
   "metadata": {},
   "outputs": [
    {
     "name": "stderr",
     "output_type": "stream",
     "text": [
      "/Users/Chuoran/anaconda/lib/python3.6/site-packages/sklearn/cross_validation.py:44: DeprecationWarning: This module was deprecated in version 0.18 in favor of the model_selection module into which all the refactored classes and functions are moved. Also note that the interface of the new CV iterators are different from that of this module. This module will be removed in 0.20.\n",
      "  \"This module will be removed in 0.20.\", DeprecationWarning)\n"
     ]
    }
   ],
   "source": [
    "from sklearn.metrics import mean_absolute_error, mean_squared_error\n",
    "from sklearn.cross_validation import train_test_split\n",
    "from sklearn.linear_model import LinearRegression, Lasso, LassoCV\n",
    "from sklearn.linear_model import Lasso, Ridge, LassoCV, RidgeCV"
   ]
  },
  {
   "cell_type": "code",
   "execution_count": 7,
   "metadata": {},
   "outputs": [
    {
     "data": {
      "text/plain": [
       "[(0, 'Flight#'),\n",
       " (1, 'Taxi(min)'),\n",
       " (2, 'Taxi_Arr(min)'),\n",
       " (3, 'Speed(mph)'),\n",
       " (4, 'Altitute(ft)'),\n",
       " (5, 'Act_Dist(mi)'),\n",
       " (6, 'Sch_Dist(mi)'),\n",
       " (7, 'Act_Dur'),\n",
       " (8, 'Sch_Dur'),\n",
       " (9, 'Dep_Hr'),\n",
       " (10, 'DOW'),\n",
       " (11, 'ORI_rank'),\n",
       " (12, 'DES_rank'),\n",
       " (13, 'Delay_Dep'),\n",
       " (14, 'Delay_Arr'),\n",
       " (15, 'Airline'),\n",
       " (16, 'AAL'),\n",
       " (17, 'DAL'),\n",
       " (18, 'UAL'),\n",
       " (19, 'SWA'),\n",
       " (20, 'JBU'),\n",
       " (21, 'VRD'),\n",
       " (22, 'Airline_Avg_Delay'),\n",
       " (23, 'Mon'),\n",
       " (24, 'Tue'),\n",
       " (25, 'Wed'),\n",
       " (26, 'Thu'),\n",
       " (27, 'Fri'),\n",
       " (28, 'Sat'),\n",
       " (29, 'DOW_avg_delay'),\n",
       " (30, 'TOD_temp'),\n",
       " (31, 'TOD_tree')]"
      ]
     },
     "execution_count": 7,
     "metadata": {},
     "output_type": "execute_result"
    }
   ],
   "source": [
    "list(zip(range(len(df_raw.columns)),df_raw.columns))"
   ]
  },
  {
   "cell_type": "code",
   "execution_count": 8,
   "metadata": {
    "collapsed": true
   },
   "outputs": [],
   "source": [
    "df_sch = (df_raw.loc[:,['Flight#','Sch_Dist(mi)','Sch_Dur','TOD_tree'\n",
    "                        ,'ORI_rank','DES_rank'\n",
    "                        ,'AAL','DAL','UAL','SWA','JBU','VRD','Airline_Avg_Delay'\n",
    "                        ,'Mon','Tue','Wed','Thu','Fri','Sat','DOW_avg_delay'\n",
    "                       ,'Delay_Dep','Delay_Arr']])"
   ]
  },
  {
   "cell_type": "code",
   "execution_count": 9,
   "metadata": {},
   "outputs": [
    {
     "data": {
      "text/html": [
       "<div>\n",
       "<style>\n",
       "    .dataframe thead tr:only-child th {\n",
       "        text-align: right;\n",
       "    }\n",
       "\n",
       "    .dataframe thead th {\n",
       "        text-align: left;\n",
       "    }\n",
       "\n",
       "    .dataframe tbody tr th {\n",
       "        vertical-align: top;\n",
       "    }\n",
       "</style>\n",
       "<table border=\"1\" class=\"dataframe\">\n",
       "  <thead>\n",
       "    <tr style=\"text-align: right;\">\n",
       "      <th></th>\n",
       "      <th>Flight#</th>\n",
       "      <th>Sch_Dist(mi)</th>\n",
       "      <th>Sch_Dur</th>\n",
       "      <th>TOD_tree</th>\n",
       "      <th>ORI_rank</th>\n",
       "      <th>DES_rank</th>\n",
       "      <th>AAL</th>\n",
       "      <th>DAL</th>\n",
       "      <th>UAL</th>\n",
       "      <th>SWA</th>\n",
       "      <th>...</th>\n",
       "      <th>Airline_Avg_Delay</th>\n",
       "      <th>Mon</th>\n",
       "      <th>Tue</th>\n",
       "      <th>Wed</th>\n",
       "      <th>Thu</th>\n",
       "      <th>Fri</th>\n",
       "      <th>Sat</th>\n",
       "      <th>DOW_avg_delay</th>\n",
       "      <th>Delay_Dep</th>\n",
       "      <th>Delay_Arr</th>\n",
       "    </tr>\n",
       "  </thead>\n",
       "  <tbody>\n",
       "    <tr>\n",
       "      <th>0</th>\n",
       "      <td>N2437</td>\n",
       "      <td>1662.0</td>\n",
       "      <td>151.0</td>\n",
       "      <td>0</td>\n",
       "      <td>5</td>\n",
       "      <td>18</td>\n",
       "      <td>0</td>\n",
       "      <td>0</td>\n",
       "      <td>0</td>\n",
       "      <td>0</td>\n",
       "      <td>...</td>\n",
       "      <td>0.0</td>\n",
       "      <td>0</td>\n",
       "      <td>0</td>\n",
       "      <td>1</td>\n",
       "      <td>0</td>\n",
       "      <td>0</td>\n",
       "      <td>0</td>\n",
       "      <td>1</td>\n",
       "      <td>2.0</td>\n",
       "      <td>4.0</td>\n",
       "    </tr>\n",
       "    <tr>\n",
       "      <th>1</th>\n",
       "      <td>UAL1450</td>\n",
       "      <td>1844.0</td>\n",
       "      <td>254.0</td>\n",
       "      <td>0</td>\n",
       "      <td>2</td>\n",
       "      <td>1</td>\n",
       "      <td>0</td>\n",
       "      <td>0</td>\n",
       "      <td>1</td>\n",
       "      <td>0</td>\n",
       "      <td>...</td>\n",
       "      <td>2.0</td>\n",
       "      <td>0</td>\n",
       "      <td>0</td>\n",
       "      <td>0</td>\n",
       "      <td>0</td>\n",
       "      <td>1</td>\n",
       "      <td>0</td>\n",
       "      <td>4</td>\n",
       "      <td>7.0</td>\n",
       "      <td>-2.0</td>\n",
       "    </tr>\n",
       "    <tr>\n",
       "      <th>2</th>\n",
       "      <td>UAL1450</td>\n",
       "      <td>1788.0</td>\n",
       "      <td>254.0</td>\n",
       "      <td>0</td>\n",
       "      <td>2</td>\n",
       "      <td>1</td>\n",
       "      <td>0</td>\n",
       "      <td>0</td>\n",
       "      <td>1</td>\n",
       "      <td>0</td>\n",
       "      <td>...</td>\n",
       "      <td>2.0</td>\n",
       "      <td>0</td>\n",
       "      <td>0</td>\n",
       "      <td>0</td>\n",
       "      <td>1</td>\n",
       "      <td>0</td>\n",
       "      <td>0</td>\n",
       "      <td>2</td>\n",
       "      <td>5.0</td>\n",
       "      <td>-8.0</td>\n",
       "    </tr>\n",
       "  </tbody>\n",
       "</table>\n",
       "<p>3 rows × 22 columns</p>\n",
       "</div>"
      ],
      "text/plain": [
       "   Flight#  Sch_Dist(mi)  Sch_Dur  TOD_tree  ORI_rank  DES_rank  AAL  DAL  \\\n",
       "0    N2437        1662.0    151.0         0         5        18    0    0   \n",
       "1  UAL1450        1844.0    254.0         0         2         1    0    0   \n",
       "2  UAL1450        1788.0    254.0         0         2         1    0    0   \n",
       "\n",
       "   UAL  SWA    ...      Airline_Avg_Delay  Mon  Tue  Wed  Thu  Fri  Sat  \\\n",
       "0    0    0    ...                    0.0    0    0    1    0    0    0   \n",
       "1    1    0    ...                    2.0    0    0    0    0    1    0   \n",
       "2    1    0    ...                    2.0    0    0    0    1    0    0   \n",
       "\n",
       "   DOW_avg_delay  Delay_Dep  Delay_Arr  \n",
       "0              1        2.0        4.0  \n",
       "1              4        7.0       -2.0  \n",
       "2              2        5.0       -8.0  \n",
       "\n",
       "[3 rows x 22 columns]"
      ]
     },
     "execution_count": 9,
     "metadata": {},
     "output_type": "execute_result"
    }
   ],
   "source": [
    "df_sch.head(3)"
   ]
  },
  {
   "cell_type": "code",
   "execution_count": 42,
   "metadata": {},
   "outputs": [
    {
     "name": "stdout",
     "output_type": "stream",
     "text": [
      "0    4.0\n",
      "1   -2.0\n",
      "2   -8.0\n",
      "Name: Delay_Arr, dtype: float64\n"
     ]
    },
    {
     "data": {
      "text/html": [
       "<div>\n",
       "<style>\n",
       "    .dataframe thead tr:only-child th {\n",
       "        text-align: right;\n",
       "    }\n",
       "\n",
       "    .dataframe thead th {\n",
       "        text-align: left;\n",
       "    }\n",
       "\n",
       "    .dataframe tbody tr th {\n",
       "        vertical-align: top;\n",
       "    }\n",
       "</style>\n",
       "<table border=\"1\" class=\"dataframe\">\n",
       "  <thead>\n",
       "    <tr style=\"text-align: right;\">\n",
       "      <th></th>\n",
       "      <th>Sch_Dist(mi)</th>\n",
       "      <th>Sch_Dur</th>\n",
       "      <th>TOD_tree</th>\n",
       "      <th>ORI_rank</th>\n",
       "      <th>DES_rank</th>\n",
       "      <th>AAL</th>\n",
       "      <th>DAL</th>\n",
       "      <th>UAL</th>\n",
       "      <th>SWA</th>\n",
       "      <th>JBU</th>\n",
       "      <th>VRD</th>\n",
       "      <th>Mon</th>\n",
       "      <th>Tue</th>\n",
       "      <th>Wed</th>\n",
       "      <th>Thu</th>\n",
       "      <th>Fri</th>\n",
       "      <th>Sat</th>\n",
       "    </tr>\n",
       "  </thead>\n",
       "  <tbody>\n",
       "    <tr>\n",
       "      <th>0</th>\n",
       "      <td>1662.0</td>\n",
       "      <td>151.0</td>\n",
       "      <td>0</td>\n",
       "      <td>5</td>\n",
       "      <td>18</td>\n",
       "      <td>0</td>\n",
       "      <td>0</td>\n",
       "      <td>0</td>\n",
       "      <td>0</td>\n",
       "      <td>0</td>\n",
       "      <td>0</td>\n",
       "      <td>0</td>\n",
       "      <td>0</td>\n",
       "      <td>1</td>\n",
       "      <td>0</td>\n",
       "      <td>0</td>\n",
       "      <td>0</td>\n",
       "    </tr>\n",
       "    <tr>\n",
       "      <th>1</th>\n",
       "      <td>1844.0</td>\n",
       "      <td>254.0</td>\n",
       "      <td>0</td>\n",
       "      <td>2</td>\n",
       "      <td>1</td>\n",
       "      <td>0</td>\n",
       "      <td>0</td>\n",
       "      <td>1</td>\n",
       "      <td>0</td>\n",
       "      <td>0</td>\n",
       "      <td>0</td>\n",
       "      <td>0</td>\n",
       "      <td>0</td>\n",
       "      <td>0</td>\n",
       "      <td>0</td>\n",
       "      <td>1</td>\n",
       "      <td>0</td>\n",
       "    </tr>\n",
       "    <tr>\n",
       "      <th>2</th>\n",
       "      <td>1788.0</td>\n",
       "      <td>254.0</td>\n",
       "      <td>0</td>\n",
       "      <td>2</td>\n",
       "      <td>1</td>\n",
       "      <td>0</td>\n",
       "      <td>0</td>\n",
       "      <td>1</td>\n",
       "      <td>0</td>\n",
       "      <td>0</td>\n",
       "      <td>0</td>\n",
       "      <td>0</td>\n",
       "      <td>0</td>\n",
       "      <td>0</td>\n",
       "      <td>1</td>\n",
       "      <td>0</td>\n",
       "      <td>0</td>\n",
       "    </tr>\n",
       "  </tbody>\n",
       "</table>\n",
       "</div>"
      ],
      "text/plain": [
       "   Sch_Dist(mi)  Sch_Dur  TOD_tree  ORI_rank  DES_rank  AAL  DAL  UAL  SWA  \\\n",
       "0        1662.0    151.0         0         5        18    0    0    0    0   \n",
       "1        1844.0    254.0         0         2         1    0    0    1    0   \n",
       "2        1788.0    254.0         0         2         1    0    0    1    0   \n",
       "\n",
       "   JBU  VRD  Mon  Tue  Wed  Thu  Fri  Sat  \n",
       "0    0    0    0    0    1    0    0    0  \n",
       "1    0    0    0    0    0    0    1    0  \n",
       "2    0    0    0    0    0    1    0    0  "
      ]
     },
     "execution_count": 42,
     "metadata": {},
     "output_type": "execute_result"
    }
   ],
   "source": [
    "X = (df_sch.loc[:,['Sch_Dist(mi)','Sch_Dur','TOD_tree'\n",
    "                        ,'ORI_rank','DES_rank'\n",
    "                        ,'AAL','DAL','UAL','SWA','JBU','VRD'\n",
    "                        ,'Mon','Tue','Wed','Thu','Fri','Sat'\n",
    "                       ]])\n",
    "Xtree = (df_sch.loc[:,['Sch_Dist(mi)','Sch_Dur','TOD_tree'\n",
    "                        ,'ORI_rank','DES_rank'\n",
    "                        ,'Airline_Avg_Delay'\n",
    "                        ,'DOW_avg_delay'\n",
    "                       ]])\n",
    "y = df_sch.iloc[:,21]\n",
    "print(y[:3])\n",
    "X.head(3)"
   ]
  },
  {
   "cell_type": "code",
   "execution_count": null,
   "metadata": {},
   "outputs": [],
   "source": [
    "X_train, X_test, Xtree_train, Xtree_test, y_train, y_test = train_test_split(X, Xtree, y, test_size=0.15,random_state=42)"
   ]
  },
  {
   "cell_type": "code",
   "execution_count": 44,
   "metadata": {},
   "outputs": [
    {
     "data": {
      "text/plain": [
       "((10359, 17), (10359, 7))"
      ]
     },
     "execution_count": 44,
     "metadata": {},
     "output_type": "execute_result"
    }
   ],
   "source": [
    "X_train.shape, Xtree_train.shape"
   ]
  },
  {
   "cell_type": "code",
   "execution_count": 2,
   "metadata": {},
   "outputs": [
    {
     "ename": "NameError",
     "evalue": "name 'LinearRegression' is not defined",
     "output_type": "error",
     "traceback": [
      "\u001b[0;31m---------------------------------------------------------------------------\u001b[0m",
      "\u001b[0;31mNameError\u001b[0m                                 Traceback (most recent call last)",
      "\u001b[0;32m<ipython-input-2-efbfe7883ff3>\u001b[0m in \u001b[0;36m<module>\u001b[0;34m()\u001b[0m\n\u001b[0;32m----> 1\u001b[0;31m \u001b[0mlr_model\u001b[0m \u001b[0;34m=\u001b[0m \u001b[0mLinearRegression\u001b[0m\u001b[0;34m(\u001b[0m\u001b[0;34m)\u001b[0m\u001b[0;34m\u001b[0m\u001b[0m\n\u001b[0m\u001b[1;32m      2\u001b[0m \u001b[0mlr_model\u001b[0m\u001b[0;34m.\u001b[0m\u001b[0mfit\u001b[0m\u001b[0;34m(\u001b[0m\u001b[0mX_train\u001b[0m\u001b[0;34m,\u001b[0m\u001b[0my_train\u001b[0m\u001b[0;34m)\u001b[0m\u001b[0;34m\u001b[0m\u001b[0m\n",
      "\u001b[0;31mNameError\u001b[0m: name 'LinearRegression' is not defined"
     ]
    }
   ],
   "source": [
    "lr_model = LinearRegression()\n",
    "lr_model.fit(X_train,y_train)"
   ]
  },
  {
   "cell_type": "code",
   "execution_count": 46,
   "metadata": {
    "scrolled": true
   },
   "outputs": [
    {
     "data": {
      "text/plain": [
       "[('Sch_Dist(mi)', 0.015696918664959748),\n",
       " ('Sch_Dur', -0.15500935530226925),\n",
       " ('TOD_tree', 5.8286708792820718e-16),\n",
       " ('ORI_rank', -0.13774585186282606),\n",
       " ('DES_rank', 0.10312780312740877),\n",
       " ('AAL', -0.88491870521859339),\n",
       " ('DAL', -4.5425056271674915),\n",
       " ('UAL', -3.3200499769477525),\n",
       " ('SWA', -0.084538400891287502),\n",
       " ('JBU', 1.9604909000474673),\n",
       " ('VRD', 2.0172884402843687),\n",
       " ('Mon', 1.9368871029838324),\n",
       " ('Tue', 3.1518547302151672),\n",
       " ('Wed', -0.15741338959947987),\n",
       " ('Thu', 0.54950889099184852),\n",
       " ('Fri', 1.1363379481446079),\n",
       " ('Sat', -5.3179183604219276)]"
      ]
     },
     "execution_count": 46,
     "metadata": {},
     "output_type": "execute_result"
    }
   ],
   "source": [
    "list(zip(X.columns,lr_model.coef_))"
   ]
  },
  {
   "cell_type": "code",
   "execution_count": 47,
   "metadata": {},
   "outputs": [
    {
     "name": "stdout",
     "output_type": "stream",
     "text": [
      "0.00613249331099\n"
     ]
    },
    {
     "data": {
      "text/plain": [
       "40.192749999743789"
      ]
     },
     "execution_count": 47,
     "metadata": {},
     "output_type": "execute_result"
    }
   ],
   "source": [
    "test_predict_lr_model = lr_model.predict(X_test)\n",
    "print(lr_model.score(X_test, y_test))\n",
    "np.sqrt(np.mean((test_predict_lr_model - y_test)**2))"
   ]
  },
  {
   "cell_type": "code",
   "execution_count": 48,
   "metadata": {},
   "outputs": [
    {
     "data": {
      "text/plain": [
       "Lasso(alpha=0.1, copy_X=True, fit_intercept=True, max_iter=1000,\n",
       "   normalize=False, positive=False, precompute=False, random_state=None,\n",
       "   selection='cyclic', tol=0.0001, warm_start=False)"
      ]
     },
     "execution_count": 48,
     "metadata": {},
     "output_type": "execute_result"
    }
   ],
   "source": [
    "ls_model = Lasso(alpha = 0.1)\n",
    "ls_model.fit(X_train,y_train)"
   ]
  },
  {
   "cell_type": "code",
   "execution_count": 16,
   "metadata": {
    "scrolled": true
   },
   "outputs": [
    {
     "data": {
      "text/plain": [
       "[('Sch_Dist(mi)', 0.015844616087733989),\n",
       " ('Sch_Dur', -0.15685000636599059),\n",
       " ('ORI_rank', -0.1323908531538088),\n",
       " ('DES_rank', 0.098623177248538543),\n",
       " ('AAL', -0.080151129310649813),\n",
       " ('DAL', -3.5728449274090592),\n",
       " ('UAL', -2.2866202747045135),\n",
       " ('SWA', 0.0),\n",
       " ('JBU', 0.13392917953271652),\n",
       " ('VRD', 0.0),\n",
       " ('Mon', 0.55462579630893094),\n",
       " ('Tue', 1.8701869900368113),\n",
       " ('Wed', -0.24137745541012601),\n",
       " ('Thu', -0.0),\n",
       " ('Fri', 0.0),\n",
       " ('Sat', -4.528658232448433)]"
      ]
     },
     "execution_count": 16,
     "metadata": {},
     "output_type": "execute_result"
    }
   ],
   "source": [
    "list(zip(X_train.columns,ls_model.coef_))"
   ]
  },
  {
   "cell_type": "code",
   "execution_count": 17,
   "metadata": {},
   "outputs": [
    {
     "data": {
      "text/plain": [
       "0.0066771016882969381"
      ]
     },
     "execution_count": 17,
     "metadata": {},
     "output_type": "execute_result"
    }
   ],
   "source": [
    "ls_model.score(X_test, y_test)"
   ]
  },
  {
   "cell_type": "markdown",
   "metadata": {},
   "source": [
    "# try lasso cv and find the best alpha!"
   ]
  },
  {
   "cell_type": "code",
   "execution_count": 18,
   "metadata": {
    "collapsed": true
   },
   "outputs": [],
   "source": [
    "from sklearn.pipeline import Pipeline\n",
    "from sklearn.preprocessing import StandardScaler"
   ]
  },
  {
   "cell_type": "code",
   "execution_count": 53,
   "metadata": {
    "collapsed": true
   },
   "outputs": [],
   "source": [
    "std = StandardScaler()\n",
    "std.fit(X_train)\n",
    "X_tr = std.transform(X_train)\n",
    "X_te = std.transform(X_test)"
   ]
  },
  {
   "cell_type": "code",
   "execution_count": 54,
   "metadata": {
    "collapsed": true
   },
   "outputs": [],
   "source": []
  },
  {
   "cell_type": "code",
   "execution_count": 56,
   "metadata": {},
   "outputs": [
    {
     "data": {
      "text/plain": [
       "LassoCV(alphas=array([  1.00000e-03,   1.08437e-03, ...,   9.22198e+03,   1.00000e+04]),\n",
       "    copy_X=True, cv=5, eps=0.001, fit_intercept=True, max_iter=1000,\n",
       "    n_alphas=100, n_jobs=1, normalize=False, positive=False,\n",
       "    precompute='auto', random_state=None, selection='cyclic', tol=0.0001,\n",
       "    verbose=False)"
      ]
     },
     "execution_count": 56,
     "metadata": {},
     "output_type": "execute_result"
    }
   ],
   "source": [
    "alphavec = 10**(np.linspace(-3,4,200))\n",
    "ls_model_std = LassoCV(alphas = alphavec, cv=5)\n",
    "ls_model_std.fit(X_tr,y_train)"
   ]
  },
  {
   "cell_type": "code",
   "execution_count": 57,
   "metadata": {},
   "outputs": [
    {
     "data": {
      "text/plain": [
       "0.0073454926293682332"
      ]
     },
     "execution_count": 57,
     "metadata": {},
     "output_type": "execute_result"
    }
   ],
   "source": [
    "ls_model_std.score(X_te, y_test)"
   ]
  },
  {
   "cell_type": "code",
   "execution_count": 58,
   "metadata": {},
   "outputs": [
    {
     "data": {
      "text/plain": [
       "[('Sch_Dist(mi)', 8.719952742567834),\n",
       " ('Sch_Dur', -10.908374043010797),\n",
       " ('TOD_tree', 0.0),\n",
       " ('ORI_rank', -0.82914679491068188),\n",
       " ('DES_rank', 0.62703452667491666),\n",
       " ('AAL', -0.27064646689801819),\n",
       " ('DAL', -1.7108175188042882),\n",
       " ('UAL', -1.1276392156354949),\n",
       " ('SWA', 0.010907119396574287),\n",
       " ('JBU', 0.36519776311300223),\n",
       " ('VRD', 0.36699019099076635),\n",
       " ('Mon', 0.46921193569731817),\n",
       " ('Tue', 0.95341146814201627),\n",
       " ('Wed', -0.17570482611859334),\n",
       " ('Thu', 0.0),\n",
       " ('Fri', 0.20643662440980143),\n",
       " ('Sat', -1.4078318380516615)]"
      ]
     },
     "execution_count": 58,
     "metadata": {},
     "output_type": "execute_result"
    }
   ],
   "source": [
    "list(zip(X.columns,ls_model_std.coef_))"
   ]
  },
  {
   "cell_type": "code",
   "execution_count": 22,
   "metadata": {
    "collapsed": true
   },
   "outputs": [],
   "source": [
    "from sklearn import tree"
   ]
  },
  {
   "cell_type": "code",
   "execution_count": 23,
   "metadata": {},
   "outputs": [
    {
     "data": {
      "text/plain": [
       "DecisionTreeRegressor(criterion='mse', max_depth=10, max_features=None,\n",
       "           max_leaf_nodes=None, min_impurity_split=1e-07,\n",
       "           min_samples_leaf=20, min_samples_split=10,\n",
       "           min_weight_fraction_leaf=0.0, presort=False, random_state=None,\n",
       "           splitter='best')"
      ]
     },
     "execution_count": 23,
     "metadata": {},
     "output_type": "execute_result"
    }
   ],
   "source": [
    "dtrmodel = tree.DecisionTreeRegressor(min_samples_split=10, max_depth=10, min_samples_leaf=20)\n",
    "dtrmodel.fit(Xtree_train,y_train)"
   ]
  },
  {
   "cell_type": "code",
   "execution_count": 24,
   "metadata": {},
   "outputs": [
    {
     "data": {
      "text/plain": [
       "<sklearn.tree._tree.Tree at 0x10dd30bf8>"
      ]
     },
     "execution_count": 24,
     "metadata": {},
     "output_type": "execute_result"
    }
   ],
   "source": [
    "dtrmodel.tree_"
   ]
  },
  {
   "cell_type": "code",
   "execution_count": 25,
   "metadata": {},
   "outputs": [
    {
     "data": {
      "text/plain": [
       "[(1, 141.5),\n",
       " (5, 0.5),\n",
       " (0, 981.0),\n",
       " (1, 60.5),\n",
       " (0, 397.0),\n",
       " (1, 53.5),\n",
       " (3, 7.5),\n",
       " (-2, -2.0),\n",
       " (-2, -2.0),\n",
       " (-2, -2.0),\n",
       " (-2, -2.0),\n",
       " (0, 292.5),\n",
       " (6, 1.5),\n",
       " (3, 16.5),\n",
       " (-2, -2.0),\n",
       " (-2, -2.0),\n",
       " (3, 5.5),\n",
       " (-2, -2.0),\n",
       " (0, 257.5),\n",
       " (1, 83.5),\n",
       " (-2, -2.0),\n",
       " (-2, -2.0),\n",
       " (1, 77.0),\n",
       " (-2, -2.0),\n",
       " (-2, -2.0),\n",
       " (1, 80.5),\n",
       " (0, 367.5),\n",
       " (-2, -2.0),\n",
       " (0, 527.5),\n",
       " (-2, -2.0),\n",
       " (0, 565.5),\n",
       " (-2, -2.0),\n",
       " (-2, -2.0),\n",
       " (0, 307.0),\n",
       " (-2, -2.0),\n",
       " (3, 5.5),\n",
       " (4, 4.5),\n",
       " (-2, -2.0),\n",
       " (0, 758.5),\n",
       " (-2, -2.0),\n",
       " (-2, -2.0),\n",
       " (0, 773.0),\n",
       " (0, 553.0),\n",
       " (-2, -2.0),\n",
       " (-2, -2.0),\n",
       " (-2, -2.0),\n",
       " (1, 114.0),\n",
       " (-2, -2.0),\n",
       " (-2, -2.0),\n",
       " (5, 3.5),\n",
       " (1, 138.5),\n",
       " (4, 8.5),\n",
       " (5, 2.5),\n",
       " (0, 398.5),\n",
       " (1, 78.0),\n",
       " (-2, -2.0),\n",
       " (4, 3.0),\n",
       " (-2, -2.0),\n",
       " (1, 91.0),\n",
       " (-2, -2.0),\n",
       " (-2, -2.0),\n",
       " (3, 6.5),\n",
       " (0, 634.5),\n",
       " (0, 553.0),\n",
       " (-2, -2.0),\n",
       " (-2, -2.0),\n",
       " (0, 773.0),\n",
       " (-2, -2.0),\n",
       " (-2, -2.0),\n",
       " (1, 135.0),\n",
       " (1, 125.5),\n",
       " (-2, -2.0),\n",
       " (-2, -2.0),\n",
       " (-2, -2.0),\n",
       " (0, 776.0),\n",
       " (1, 129.5),\n",
       " (1, 119.5),\n",
       " (3, 14.5),\n",
       " (-2, -2.0),\n",
       " (-2, -2.0),\n",
       " (1, 122.5),\n",
       " (-2, -2.0),\n",
       " (-2, -2.0),\n",
       " (1, 134.5),\n",
       " (6, 3.0),\n",
       " (-2, -2.0),\n",
       " (-2, -2.0),\n",
       " (-2, -2.0),\n",
       " (-2, -2.0),\n",
       " (4, 16.5),\n",
       " (0, 305.0),\n",
       " (3, 13.5),\n",
       " (-2, -2.0),\n",
       " (-2, -2.0),\n",
       " (0, 355.0),\n",
       " (-2, -2.0),\n",
       " (1, 135.5),\n",
       " (3, 5.5),\n",
       " (-2, -2.0),\n",
       " (-2, -2.0),\n",
       " (6, 3.0),\n",
       " (-2, -2.0),\n",
       " (-2, -2.0),\n",
       " (0, 764.5),\n",
       " (1, 121.5),\n",
       " (1, 107.5),\n",
       " (6, 4.5),\n",
       " (-2, -2.0),\n",
       " (-2, -2.0),\n",
       " (5, 1.5),\n",
       " (-2, -2.0),\n",
       " (-2, -2.0),\n",
       " (4, 18.5),\n",
       " (6, 3.0),\n",
       " (-2, -2.0),\n",
       " (-2, -2.0),\n",
       " (0, 755.5),\n",
       " (-2, -2.0),\n",
       " (-2, -2.0),\n",
       " (1, 128.0),\n",
       " (0, 790.5),\n",
       " (-2, -2.0),\n",
       " (-2, -2.0),\n",
       " (0, 823.5),\n",
       " (3, 0.5),\n",
       " (-2, -2.0),\n",
       " (-2, -2.0),\n",
       " (-2, -2.0),\n",
       " (0, 745.5),\n",
       " (-2, -2.0),\n",
       " (4, 12.5),\n",
       " (5, 2.5),\n",
       " (3, 8.5),\n",
       " (-2, -2.0),\n",
       " (-2, -2.0),\n",
       " (-2, -2.0),\n",
       " (-2, -2.0),\n",
       " (1, 109.5),\n",
       " (3, 15.0),\n",
       " (4, 14.5),\n",
       " (0, 362.0),\n",
       " (4, 6.5),\n",
       " (6, 3.0),\n",
       " (-2, -2.0),\n",
       " (-2, -2.0),\n",
       " (0, 332.0),\n",
       " (-2, -2.0),\n",
       " (-2, -2.0),\n",
       " (0, 551.5),\n",
       " (6, 1.5),\n",
       " (0, 406.0),\n",
       " (-2, -2.0),\n",
       " (-2, -2.0),\n",
       " (3, 6.5),\n",
       " (-2, -2.0),\n",
       " (-2, -2.0),\n",
       " (1, 89.5),\n",
       " (6, 3.0),\n",
       " (-2, -2.0),\n",
       " (-2, -2.0),\n",
       " (-2, -2.0),\n",
       " (-2, -2.0),\n",
       " (0, 559.0),\n",
       " (0, 305.5),\n",
       " (-2, -2.0),\n",
       " (-2, -2.0),\n",
       " (-2, -2.0),\n",
       " (5, 5.0),\n",
       " (-2, -2.0),\n",
       " (1, 127.5),\n",
       " (0, 677.5),\n",
       " (0, 651.5),\n",
       " (-2, -2.0),\n",
       " (-2, -2.0),\n",
       " (0, 724.0),\n",
       " (-2, -2.0),\n",
       " (-2, -2.0),\n",
       " (-2, -2.0),\n",
       " (3, 15.5),\n",
       " (5, 2.5),\n",
       " (1, 373.5),\n",
       " (0, 2648.5),\n",
       " (6, 3.0),\n",
       " (3, 13.5),\n",
       " (3, 6.5),\n",
       " (3, 5.5),\n",
       " (0, 2527.0),\n",
       " (-2, -2.0),\n",
       " (-2, -2.0),\n",
       " (1, 322.0),\n",
       " (-2, -2.0),\n",
       " (-2, -2.0),\n",
       " (1, 176.5),\n",
       " (0, 1111.5),\n",
       " (-2, -2.0),\n",
       " (-2, -2.0),\n",
       " (0, 1740.5),\n",
       " (-2, -2.0),\n",
       " (-2, -2.0),\n",
       " (4, 13.5),\n",
       " (4, 6.5),\n",
       " (4, 3.5),\n",
       " (-2, -2.0),\n",
       " (-2, -2.0),\n",
       " (1, 234.0),\n",
       " (-2, -2.0),\n",
       " (-2, -2.0),\n",
       " (1, 169.0),\n",
       " (-2, -2.0),\n",
       " (-2, -2.0),\n",
       " (1, 264.5),\n",
       " (4, 1.5),\n",
       " (3, 5.5),\n",
       " (5, 0.5),\n",
       " (-2, -2.0),\n",
       " (-2, -2.0),\n",
       " (0, 969.0),\n",
       " (-2, -2.0),\n",
       " (-2, -2.0),\n",
       " (1, 257.0),\n",
       " (4, 16.5),\n",
       " (-2, -2.0),\n",
       " (-2, -2.0),\n",
       " (0, 1763.5),\n",
       " (-2, -2.0),\n",
       " (-2, -2.0),\n",
       " (4, 6.5),\n",
       " (3, 1.5),\n",
       " (-2, -2.0),\n",
       " (1, 328.0),\n",
       " (-2, -2.0),\n",
       " (-2, -2.0),\n",
       " (0, 2171.5),\n",
       " (3, 4.0),\n",
       " (-2, -2.0),\n",
       " (-2, -2.0),\n",
       " (3, 10.5),\n",
       " (-2, -2.0),\n",
       " (-2, -2.0),\n",
       " (1, 348.0),\n",
       " (-2, -2.0),\n",
       " (-2, -2.0),\n",
       " (0, 2573.0),\n",
       " (-2, -2.0),\n",
       " (-2, -2.0),\n",
       " (4, 3.5),\n",
       " (1, 274.5),\n",
       " (1, 271.5),\n",
       " (3, 6.5),\n",
       " (3, 4.5),\n",
       " (1, 260.5),\n",
       " (1, 146.5),\n",
       " (-2, -2.0),\n",
       " (-2, -2.0),\n",
       " (6, 3.0),\n",
       " (-2, -2.0),\n",
       " (-2, -2.0),\n",
       " (1, 151.5),\n",
       " (-2, -2.0),\n",
       " (0, 1503.5),\n",
       " (-2, -2.0),\n",
       " (-2, -2.0),\n",
       " (1, 228.0),\n",
       " (3, 9.5),\n",
       " (1, 169.5),\n",
       " (-2, -2.0),\n",
       " (-2, -2.0),\n",
       " (1, 174.5),\n",
       " (-2, -2.0),\n",
       " (-2, -2.0),\n",
       " (1, 233.5),\n",
       " (-2, -2.0),\n",
       " (0, 1594.5),\n",
       " (-2, -2.0),\n",
       " (-2, -2.0),\n",
       " (-2, -2.0),\n",
       " (3, 9.5),\n",
       " (5, 3.5),\n",
       " (6, 1.5),\n",
       " (-2, -2.0),\n",
       " (0, 2513.5),\n",
       " (-2, -2.0),\n",
       " (-2, -2.0),\n",
       " (6, 3.0),\n",
       " (-2, -2.0),\n",
       " (-2, -2.0),\n",
       " (-2, -2.0),\n",
       " (4, 16.5),\n",
       " (4, 15.5),\n",
       " (6, 5.5),\n",
       " (0, 788.5),\n",
       " (-2, -2.0),\n",
       " (1, 215.5),\n",
       " (4, 14.5),\n",
       " (-2, -2.0),\n",
       " (-2, -2.0),\n",
       " (5, 3.5),\n",
       " (-2, -2.0),\n",
       " (-2, -2.0),\n",
       " (4, 4.5),\n",
       " (-2, -2.0),\n",
       " (0, 1357.5),\n",
       " (0, 1039.5),\n",
       " (-2, -2.0),\n",
       " (-2, -2.0),\n",
       " (4, 8.5),\n",
       " (-2, -2.0),\n",
       " (-2, -2.0),\n",
       " (5, 3.5),\n",
       " (0, 1665.5),\n",
       " (-2, -2.0),\n",
       " (-2, -2.0),\n",
       " (0, 1174.0),\n",
       " (-2, -2.0),\n",
       " (6, 4.5),\n",
       " (6, 1.5),\n",
       " (-2, -2.0),\n",
       " (-2, -2.0),\n",
       " (-2, -2.0),\n",
       " (0, 2588.0),\n",
       " (0, 2470.5),\n",
       " (0, 2188.5),\n",
       " (0, 1967.5),\n",
       " (0, 1501.5),\n",
       " (-2, -2.0),\n",
       " (-2, -2.0),\n",
       " (-2, -2.0),\n",
       " (-2, -2.0),\n",
       " (-2, -2.0),\n",
       " (-2, -2.0),\n",
       " (0, 2757.0),\n",
       " (1, 231.5),\n",
       " (0, 1177.5),\n",
       " (5, 1.5),\n",
       " (0, 833.5),\n",
       " (0, 801.0),\n",
       " (6, 1.5),\n",
       " (-2, -2.0),\n",
       " (-2, -2.0),\n",
       " (-2, -2.0),\n",
       " (3, 18.5),\n",
       " (1, 179.5),\n",
       " (0, 1047.5),\n",
       " (-2, -2.0),\n",
       " (-2, -2.0),\n",
       " (-2, -2.0),\n",
       " (4, 5.0),\n",
       " (-2, -2.0),\n",
       " (-2, -2.0),\n",
       " (1, 173.5),\n",
       " (1, 169.5),\n",
       " (1, 164.5),\n",
       " (0, 816.5),\n",
       " (-2, -2.0),\n",
       " (-2, -2.0),\n",
       " (-2, -2.0),\n",
       " (1, 170.5),\n",
       " (-2, -2.0),\n",
       " (-2, -2.0),\n",
       " (-2, -2.0),\n",
       " (1, 182.5),\n",
       " (-2, -2.0),\n",
       " (0, 1416.0),\n",
       " (1, 213.5),\n",
       " (5, 1.5),\n",
       " (-2, -2.0),\n",
       " (3, 17.5),\n",
       " (-2, -2.0),\n",
       " (-2, -2.0),\n",
       " (-2, -2.0),\n",
       " (5, 2.0),\n",
       " (-2, -2.0),\n",
       " (-2, -2.0),\n",
       " (0, 1472.5),\n",
       " (-2, -2.0),\n",
       " (6, 4.5),\n",
       " (4, 11.5),\n",
       " (0, 1661.5),\n",
       " (-2, -2.0),\n",
       " (6, 3.0),\n",
       " (0, 1807.5),\n",
       " (-2, -2.0),\n",
       " (-2, -2.0),\n",
       " (-2, -2.0),\n",
       " (-2, -2.0),\n",
       " (4, 5.5),\n",
       " (-2, -2.0),\n",
       " (-2, -2.0),\n",
       " (-2, -2.0)]"
      ]
     },
     "execution_count": 25,
     "metadata": {},
     "output_type": "execute_result"
    }
   ],
   "source": [
    "list(zip(dtrmodel.tree_.feature,dtrmodel.tree_.threshold))[:]"
   ]
  },
  {
   "cell_type": "code",
   "execution_count": 26,
   "metadata": {},
   "outputs": [
    {
     "data": {
      "text/plain": [
       "[(1, 178),\n",
       " (2, 49),\n",
       " (3, 46),\n",
       " (4, 11),\n",
       " (5, 10),\n",
       " (6, 9),\n",
       " (7, 8),\n",
       " (-1, -1),\n",
       " (-1, -1),\n",
       " (-1, -1),\n",
       " (-1, -1),\n",
       " (12, 25),\n",
       " (13, 16),\n",
       " (14, 15),\n",
       " (-1, -1),\n",
       " (-1, -1),\n",
       " (17, 18),\n",
       " (-1, -1),\n",
       " (19, 22),\n",
       " (20, 21),\n",
       " (-1, -1),\n",
       " (-1, -1),\n",
       " (23, 24),\n",
       " (-1, -1),\n",
       " (-1, -1),\n",
       " (26, 33),\n",
       " (27, 28),\n",
       " (-1, -1),\n",
       " (29, 30),\n",
       " (-1, -1),\n",
       " (31, 32),\n",
       " (-1, -1),\n",
       " (-1, -1),\n",
       " (34, 35),\n",
       " (-1, -1),\n",
       " (36, 41),\n",
       " (37, 38),\n",
       " (-1, -1),\n",
       " (39, 40),\n",
       " (-1, -1),\n",
       " (-1, -1),\n",
       " (42, 45),\n",
       " (43, 44),\n",
       " (-1, -1),\n",
       " (-1, -1),\n",
       " (-1, -1),\n",
       " (47, 48),\n",
       " (-1, -1),\n",
       " (-1, -1),\n",
       " (50, 137),\n",
       " (51, 128),\n",
       " (52, 89),\n",
       " (53, 74),\n",
       " (54, 61),\n",
       " (55, 56),\n",
       " (-1, -1),\n",
       " (57, 58),\n",
       " (-1, -1),\n",
       " (59, 60),\n",
       " (-1, -1),\n",
       " (-1, -1),\n",
       " (62, 69),\n",
       " (63, 66),\n",
       " (64, 65),\n",
       " (-1, -1),\n",
       " (-1, -1),\n",
       " (67, 68),\n",
       " (-1, -1),\n",
       " (-1, -1),\n",
       " (70, 73),\n",
       " (71, 72),\n",
       " (-1, -1),\n",
       " (-1, -1),\n",
       " (-1, -1),\n",
       " (75, 88),\n",
       " (76, 83),\n",
       " (77, 80),\n",
       " (78, 79),\n",
       " (-1, -1),\n",
       " (-1, -1),\n",
       " (81, 82),\n",
       " (-1, -1),\n",
       " (-1, -1),\n",
       " (84, 87),\n",
       " (85, 86),\n",
       " (-1, -1),\n",
       " (-1, -1),\n",
       " (-1, -1),\n",
       " (-1, -1),\n",
       " (90, 103),\n",
       " (91, 94),\n",
       " (92, 93),\n",
       " (-1, -1),\n",
       " (-1, -1),\n",
       " (95, 96),\n",
       " (-1, -1),\n",
       " (97, 100),\n",
       " (98, 99),\n",
       " (-1, -1),\n",
       " (-1, -1),\n",
       " (101, 102),\n",
       " (-1, -1),\n",
       " (-1, -1),\n",
       " (104, 119),\n",
       " (105, 112),\n",
       " (106, 109),\n",
       " (107, 108),\n",
       " (-1, -1),\n",
       " (-1, -1),\n",
       " (110, 111),\n",
       " (-1, -1),\n",
       " (-1, -1),\n",
       " (113, 116),\n",
       " (114, 115),\n",
       " (-1, -1),\n",
       " (-1, -1),\n",
       " (117, 118),\n",
       " (-1, -1),\n",
       " (-1, -1),\n",
       " (120, 123),\n",
       " (121, 122),\n",
       " (-1, -1),\n",
       " (-1, -1),\n",
       " (124, 127),\n",
       " (125, 126),\n",
       " (-1, -1),\n",
       " (-1, -1),\n",
       " (-1, -1),\n",
       " (129, 130),\n",
       " (-1, -1),\n",
       " (131, 136),\n",
       " (132, 135),\n",
       " (133, 134),\n",
       " (-1, -1),\n",
       " (-1, -1),\n",
       " (-1, -1),\n",
       " (-1, -1),\n",
       " (138, 167),\n",
       " (139, 162),\n",
       " (140, 161),\n",
       " (141, 148),\n",
       " (142, 145),\n",
       " (143, 144),\n",
       " (-1, -1),\n",
       " (-1, -1),\n",
       " (146, 147),\n",
       " (-1, -1),\n",
       " (-1, -1),\n",
       " (149, 156),\n",
       " (150, 153),\n",
       " (151, 152),\n",
       " (-1, -1),\n",
       " (-1, -1),\n",
       " (154, 155),\n",
       " (-1, -1),\n",
       " (-1, -1),\n",
       " (157, 160),\n",
       " (158, 159),\n",
       " (-1, -1),\n",
       " (-1, -1),\n",
       " (-1, -1),\n",
       " (-1, -1),\n",
       " (163, 166),\n",
       " (164, 165),\n",
       " (-1, -1),\n",
       " (-1, -1),\n",
       " (-1, -1),\n",
       " (168, 169),\n",
       " (-1, -1),\n",
       " (170, 177),\n",
       " (171, 174),\n",
       " (172, 173),\n",
       " (-1, -1),\n",
       " (-1, -1),\n",
       " (175, 176),\n",
       " (-1, -1),\n",
       " (-1, -1),\n",
       " (-1, -1),\n",
       " (179, 330),\n",
       " (180, 245),\n",
       " (181, 242),\n",
       " (182, 239),\n",
       " (183, 210),\n",
       " (184, 199),\n",
       " (185, 192),\n",
       " (186, 189),\n",
       " (187, 188),\n",
       " (-1, -1),\n",
       " (-1, -1),\n",
       " (190, 191),\n",
       " (-1, -1),\n",
       " (-1, -1),\n",
       " (193, 196),\n",
       " (194, 195),\n",
       " (-1, -1),\n",
       " (-1, -1),\n",
       " (197, 198),\n",
       " (-1, -1),\n",
       " (-1, -1),\n",
       " (200, 207),\n",
       " (201, 204),\n",
       " (202, 203),\n",
       " (-1, -1),\n",
       " (-1, -1),\n",
       " (205, 206),\n",
       " (-1, -1),\n",
       " (-1, -1),\n",
       " (208, 209),\n",
       " (-1, -1),\n",
       " (-1, -1),\n",
       " (211, 226),\n",
       " (212, 219),\n",
       " (213, 216),\n",
       " (214, 215),\n",
       " (-1, -1),\n",
       " (-1, -1),\n",
       " (217, 218),\n",
       " (-1, -1),\n",
       " (-1, -1),\n",
       " (220, 223),\n",
       " (221, 222),\n",
       " (-1, -1),\n",
       " (-1, -1),\n",
       " (224, 225),\n",
       " (-1, -1),\n",
       " (-1, -1),\n",
       " (227, 232),\n",
       " (228, 229),\n",
       " (-1, -1),\n",
       " (230, 231),\n",
       " (-1, -1),\n",
       " (-1, -1),\n",
       " (233, 236),\n",
       " (234, 235),\n",
       " (-1, -1),\n",
       " (-1, -1),\n",
       " (237, 238),\n",
       " (-1, -1),\n",
       " (-1, -1),\n",
       " (240, 241),\n",
       " (-1, -1),\n",
       " (-1, -1),\n",
       " (243, 244),\n",
       " (-1, -1),\n",
       " (-1, -1),\n",
       " (246, 287),\n",
       " (247, 276),\n",
       " (248, 275),\n",
       " (249, 262),\n",
       " (250, 257),\n",
       " (251, 254),\n",
       " (252, 253),\n",
       " (-1, -1),\n",
       " (-1, -1),\n",
       " (255, 256),\n",
       " (-1, -1),\n",
       " (-1, -1),\n",
       " (258, 259),\n",
       " (-1, -1),\n",
       " (260, 261),\n",
       " (-1, -1),\n",
       " (-1, -1),\n",
       " (263, 270),\n",
       " (264, 267),\n",
       " (265, 266),\n",
       " (-1, -1),\n",
       " (-1, -1),\n",
       " (268, 269),\n",
       " (-1, -1),\n",
       " (-1, -1),\n",
       " (271, 272),\n",
       " (-1, -1),\n",
       " (273, 274),\n",
       " (-1, -1),\n",
       " (-1, -1),\n",
       " (-1, -1),\n",
       " (277, 286),\n",
       " (278, 283),\n",
       " (279, 280),\n",
       " (-1, -1),\n",
       " (281, 282),\n",
       " (-1, -1),\n",
       " (-1, -1),\n",
       " (284, 285),\n",
       " (-1, -1),\n",
       " (-1, -1),\n",
       " (-1, -1),\n",
       " (288, 319),\n",
       " (289, 308),\n",
       " (290, 299),\n",
       " (291, 292),\n",
       " (-1, -1),\n",
       " (293, 296),\n",
       " (294, 295),\n",
       " (-1, -1),\n",
       " (-1, -1),\n",
       " (297, 298),\n",
       " (-1, -1),\n",
       " (-1, -1),\n",
       " (300, 301),\n",
       " (-1, -1),\n",
       " (302, 305),\n",
       " (303, 304),\n",
       " (-1, -1),\n",
       " (-1, -1),\n",
       " (306, 307),\n",
       " (-1, -1),\n",
       " (-1, -1),\n",
       " (309, 312),\n",
       " (310, 311),\n",
       " (-1, -1),\n",
       " (-1, -1),\n",
       " (313, 314),\n",
       " (-1, -1),\n",
       " (315, 318),\n",
       " (316, 317),\n",
       " (-1, -1),\n",
       " (-1, -1),\n",
       " (-1, -1),\n",
       " (320, 329),\n",
       " (321, 328),\n",
       " (322, 327),\n",
       " (323, 326),\n",
       " (324, 325),\n",
       " (-1, -1),\n",
       " (-1, -1),\n",
       " (-1, -1),\n",
       " (-1, -1),\n",
       " (-1, -1),\n",
       " (-1, -1),\n",
       " (331, 388),\n",
       " (332, 373),\n",
       " (333, 360),\n",
       " (334, 349),\n",
       " (335, 340),\n",
       " (336, 339),\n",
       " (337, 338),\n",
       " (-1, -1),\n",
       " (-1, -1),\n",
       " (-1, -1),\n",
       " (341, 346),\n",
       " (342, 345),\n",
       " (343, 344),\n",
       " (-1, -1),\n",
       " (-1, -1),\n",
       " (-1, -1),\n",
       " (347, 348),\n",
       " (-1, -1),\n",
       " (-1, -1),\n",
       " (350, 359),\n",
       " (351, 356),\n",
       " (352, 355),\n",
       " (353, 354),\n",
       " (-1, -1),\n",
       " (-1, -1),\n",
       " (-1, -1),\n",
       " (357, 358),\n",
       " (-1, -1),\n",
       " (-1, -1),\n",
       " (-1, -1),\n",
       " (361, 362),\n",
       " (-1, -1),\n",
       " (363, 370),\n",
       " (364, 369),\n",
       " (365, 366),\n",
       " (-1, -1),\n",
       " (367, 368),\n",
       " (-1, -1),\n",
       " (-1, -1),\n",
       " (-1, -1),\n",
       " (371, 372),\n",
       " (-1, -1),\n",
       " (-1, -1),\n",
       " (374, 375),\n",
       " (-1, -1),\n",
       " (376, 385),\n",
       " (377, 384),\n",
       " (378, 379),\n",
       " (-1, -1),\n",
       " (380, 383),\n",
       " (381, 382),\n",
       " (-1, -1),\n",
       " (-1, -1),\n",
       " (-1, -1),\n",
       " (-1, -1),\n",
       " (386, 387),\n",
       " (-1, -1),\n",
       " (-1, -1),\n",
       " (-1, -1)]"
      ]
     },
     "execution_count": 26,
     "metadata": {},
     "output_type": "execute_result"
    }
   ],
   "source": [
    "list(zip(dtrmodel.tree_.children_left,dtrmodel.tree_.children_right))"
   ]
  },
  {
   "cell_type": "code",
   "execution_count": 27,
   "metadata": {},
   "outputs": [
    {
     "data": {
      "text/plain": [
       "<matplotlib.figure.Figure at 0x1117b2da0>"
      ]
     },
     "execution_count": 27,
     "metadata": {},
     "output_type": "execute_result"
    },
    {
     "data": {
      "image/png": "[encoded data removed]",
      "text/plain": [
       "<matplotlib.figure.Figure at 0x11166d630>"
      ]
     },
     "metadata": {},
     "output_type": "display_data"
    },
    {
     "data": {
      "text/plain": [
       "<matplotlib.figure.Figure at 0x1117b2da0>"
      ]
     },
     "metadata": {},
     "output_type": "display_data"
    }
   ],
   "source": [
    "tree_pred_test = dtrmodel.predict(Xtree_test)\n",
    "plt.scatter(y_test, tree_pred_test,alpha = 0.2)\n",
    "plt.plot(np.linspace(0,800,10000),np.linspace(0,800,10000))\n",
    "plt.figure()"
   ]
  },
  {
   "cell_type": "code",
   "execution_count": 28,
   "metadata": {
    "collapsed": true
   },
   "outputs": [],
   "source": [
    "from sklearn.ensemble import RandomForestRegressor"
   ]
  },
  {
   "cell_type": "code",
   "execution_count": 29,
   "metadata": {},
   "outputs": [
    {
     "data": {
      "text/plain": [
       "RandomForestRegressor(bootstrap=True, criterion='mse', max_depth=None,\n",
       "           max_features='auto', max_leaf_nodes=None,\n",
       "           min_impurity_split=1e-07, min_samples_leaf=5,\n",
       "           min_samples_split=2, min_weight_fraction_leaf=0.0,\n",
       "           n_estimators=500, n_jobs=-1, oob_score=False, random_state=None,\n",
       "           verbose=0, warm_start=False)"
      ]
     },
     "execution_count": 29,
     "metadata": {},
     "output_type": "execute_result"
    }
   ],
   "source": [
    "rfmodel1 = RandomForestRegressor(n_estimators = 500, min_samples_leaf=5, n_jobs=-1)\n",
    "rfmodel1.fit(Xtree_train,y_train)"
   ]
  },
  {
   "cell_type": "code",
   "execution_count": 30,
   "metadata": {},
   "outputs": [
    {
     "data": {
      "text/plain": [
       "0.053265441132319458"
      ]
     },
     "execution_count": 30,
     "metadata": {},
     "output_type": "execute_result"
    }
   ],
   "source": [
    "rf1_test_pred = rfmodel1.predict(Xtree_test)\n",
    "rfmodel1.score(Xtree_test,y_test)"
   ]
  },
  {
   "cell_type": "code",
   "execution_count": 60,
   "metadata": {},
   "outputs": [
    {
     "name": "stdout",
     "output_type": "stream",
     "text": [
      "None\n",
      "[('Sch_Dist(mi)', 0.39910656938366285), ('Sch_Dur', 0.25205438950705028), ('TOD_tree', 0.0), ('ORI_rank', 0.091295124700596336), ('DES_rank', 0.099496940292398806), ('Airline_Avg_Delay', 0.064203060496105274), ('DOW_avg_delay', 0.093843915620186652)]\n"
     ]
    }
   ],
   "source": [
    "print(rfmodel1.max_depth)\n",
    "print(list(zip(Xtree.columns,rfmodel1.feature_importances_)))"
   ]
  },
  {
   "cell_type": "code",
   "execution_count": 32,
   "metadata": {},
   "outputs": [
    {
     "data": {
      "text/plain": [
       "[<matplotlib.lines.Line2D at 0x111988f60>]"
      ]
     },
     "execution_count": 32,
     "metadata": {},
     "output_type": "execute_result"
    },
    {
     "data": {
      "image/png": "[encoded data removed]",
      "text/plain": [
       "<matplotlib.figure.Figure at 0x111988f98>"
      ]
     },
     "metadata": {},
     "output_type": "display_data"
    }
   ],
   "source": [
    "plt.scatter(y_test, rf1_test_pred,alpha=.1)\n",
    "plt.plot(np.linspace(0,1000,1000),np.linspace(0,1000,1000))"
   ]
  },
  {
   "cell_type": "code",
   "execution_count": 33,
   "metadata": {},
   "outputs": [
    {
     "data": {
      "text/plain": [
       "0.04050757813257011"
      ]
     },
     "execution_count": 33,
     "metadata": {},
     "output_type": "execute_result"
    }
   ],
   "source": [
    "rfmodel2 = RandomForestRegressor(n_estimators = 500, min_samples_leaf = 50, n_jobs=-1)\n",
    "rfmodel2.fit(Xtree_train,y_train)\n",
    "rf2_test_pred = rfmodel2.predict(Xtree_test)\n",
    "rfmodel2.score(Xtree_test,y_test)"
   ]
  },
  {
   "cell_type": "code",
   "execution_count": 61,
   "metadata": {},
   "outputs": [
    {
     "name": "stdout",
     "output_type": "stream",
     "text": [
      "[('Sch_Dist(mi)', 0.25771910850010049), ('Sch_Dur', 0.29206339471924753), ('TOD_tree', 0.0), ('ORI_rank', 0.1263350029016784), ('DES_rank', 0.16360236229677005), ('Airline_Avg_Delay', 0.092972941997734732), ('DOW_avg_delay', 0.067307189584469074)]\n"
     ]
    }
   ],
   "source": [
    "print(list(zip(Xtree.columns,rfmodel2.feature_importances_)))"
   ]
  },
  {
   "cell_type": "code",
   "execution_count": 51,
   "metadata": {},
   "outputs": [
    {
     "data": {
      "text/plain": [
       "[<matplotlib.lines.Line2D at 0x118991550>]"
      ]
     },
     "execution_count": 51,
     "metadata": {},
     "output_type": "execute_result"
    },
    {
     "data": {
      "image/png": "[encoded data removed]",
      "text/plain": [
       "<matplotlib.figure.Figure at 0x118991588>"
      ]
     },
     "metadata": {},
     "output_type": "display_data"
    }
   ],
   "source": [
    "plt.scatter(y_test, rf2_test_pred,alpha=.1)\n",
    "plt.plot(np.linspace(0,800,1000),np.linspace(0,800,1000))"
   ]
  },
  {
   "cell_type": "code",
   "execution_count": null,
   "metadata": {
    "collapsed": true
   },
   "outputs": [],
   "source": []
  }
 ],
 "metadata": {
  "kernelspec": {
   "display_name": "Python 3",
   "language": "python",
   "name": "python3"
  },
  "language_info": {
   "codemirror_mode": {
    "name": "ipython",
    "version": 3
   },
   "file_extension": ".py",
   "mimetype": "text/x-python",
   "name": "python",
   "nbconvert_exporter": "python",
   "pygments_lexer": "ipython3",
   "version": "3.6.1"
  }
 },
 "nbformat": 4,
 "nbformat_minor": 2
}
