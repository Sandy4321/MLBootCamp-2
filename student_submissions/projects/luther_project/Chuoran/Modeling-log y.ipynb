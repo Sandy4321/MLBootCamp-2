{
 "cells": [
  {
   "cell_type": "code",
   "execution_count": 1,
   "metadata": {
    "collapsed": true
   },
   "outputs": [],
   "source": [
    "import pandas as pd\n",
    "import numpy as np\n",
    "import os\n",
    "from matplotlib import pyplot as plt\n",
    "from copy import deepcopy\n",
    "import seaborn as sns\n",
    "\n",
    "\n",
    "% matplotlib inline"
   ]
  },
  {
   "cell_type": "code",
   "execution_count": 2,
   "metadata": {
    "collapsed": true
   },
   "outputs": [],
   "source": [
    "df_raw = pd.read_csv('sm_flights.csv')\n",
    "df_raw.drop('Unnamed: 0',axis =1, inplace = True)"
   ]
  },
  {
   "cell_type": "code",
   "execution_count": 3,
   "metadata": {},
   "outputs": [
    {
     "name": "stdout",
     "output_type": "stream",
     "text": [
      "<class 'pandas.core.frame.DataFrame'>\n",
      "RangeIndex: 12188 entries, 0 to 12187\n",
      "Data columns (total 32 columns):\n",
      "Flight#              12188 non-null object\n",
      "Taxi(min)            12188 non-null float64\n",
      "Taxi_Arr(min)        12188 non-null float64\n",
      "Speed(mph)           12188 non-null float64\n",
      "Altitute(ft)         12188 non-null float64\n",
      "Act_Dist(mi)         12188 non-null float64\n",
      "Sch_Dist(mi)         12188 non-null float64\n",
      "Act_Dur              12188 non-null float64\n",
      "Sch_Dur              12188 non-null float64\n",
      "Dep_Hr               12188 non-null float64\n",
      "DOW                  12188 non-null int64\n",
      "ORI_rank             12188 non-null int64\n",
      "DES_rank             12188 non-null int64\n",
      "Delay_Dep            12188 non-null float64\n",
      "Delay_Arr            12188 non-null float64\n",
      "Airline              12188 non-null object\n",
      "AAL                  12188 non-null int64\n",
      "DAL                  12188 non-null int64\n",
      "UAL                  12188 non-null int64\n",
      "SWA                  12188 non-null int64\n",
      "JBU                  12188 non-null int64\n",
      "VRD                  12188 non-null int64\n",
      "Airline_Avg_Delay    12188 non-null float64\n",
      "Mon                  12188 non-null int64\n",
      "Tue                  12188 non-null int64\n",
      "Wed                  12188 non-null int64\n",
      "Thu                  12188 non-null int64\n",
      "Fri                  12188 non-null int64\n",
      "Sat                  12188 non-null int64\n",
      "DOW_avg_delay        12188 non-null int64\n",
      "TOD_temp             12188 non-null int64\n",
      "TOD_tree             12188 non-null int64\n",
      "dtypes: float64(12), int64(18), object(2)\n",
      "memory usage: 3.0+ MB\n"
     ]
    }
   ],
   "source": [
    "df_raw.info()"
   ]
  },
  {
   "cell_type": "code",
   "execution_count": 4,
   "metadata": {},
   "outputs": [
    {
     "data": {
      "text/html": [
       "<div>\n",
       "<style>\n",
       "    .dataframe thead tr:only-child th {\n",
       "        text-align: right;\n",
       "    }\n",
       "\n",
       "    .dataframe thead th {\n",
       "        text-align: left;\n",
       "    }\n",
       "\n",
       "    .dataframe tbody tr th {\n",
       "        vertical-align: top;\n",
       "    }\n",
       "</style>\n",
       "<table border=\"1\" class=\"dataframe\">\n",
       "  <thead>\n",
       "    <tr style=\"text-align: right;\">\n",
       "      <th></th>\n",
       "      <th>Flight#</th>\n",
       "      <th>Taxi(min)</th>\n",
       "      <th>Taxi_Arr(min)</th>\n",
       "      <th>Speed(mph)</th>\n",
       "      <th>Altitute(ft)</th>\n",
       "      <th>Act_Dist(mi)</th>\n",
       "      <th>Sch_Dist(mi)</th>\n",
       "      <th>Act_Dur</th>\n",
       "      <th>Sch_Dur</th>\n",
       "      <th>Dep_Hr</th>\n",
       "      <th>...</th>\n",
       "      <th>Airline_Avg_Delay</th>\n",
       "      <th>Mon</th>\n",
       "      <th>Tue</th>\n",
       "      <th>Wed</th>\n",
       "      <th>Thu</th>\n",
       "      <th>Fri</th>\n",
       "      <th>Sat</th>\n",
       "      <th>DOW_avg_delay</th>\n",
       "      <th>TOD_temp</th>\n",
       "      <th>TOD_tree</th>\n",
       "    </tr>\n",
       "  </thead>\n",
       "  <tbody>\n",
       "    <tr>\n",
       "      <th>0</th>\n",
       "      <td>N2437</td>\n",
       "      <td>18.761282</td>\n",
       "      <td>9.222338</td>\n",
       "      <td>587.0</td>\n",
       "      <td>45000.0</td>\n",
       "      <td>1565.0</td>\n",
       "      <td>1662.0</td>\n",
       "      <td>153.0</td>\n",
       "      <td>151.0</td>\n",
       "      <td>16.000000</td>\n",
       "      <td>...</td>\n",
       "      <td>0.0</td>\n",
       "      <td>0</td>\n",
       "      <td>0</td>\n",
       "      <td>1</td>\n",
       "      <td>0</td>\n",
       "      <td>0</td>\n",
       "      <td>0</td>\n",
       "      <td>1</td>\n",
       "      <td>16</td>\n",
       "      <td>0</td>\n",
       "    </tr>\n",
       "    <tr>\n",
       "      <th>1</th>\n",
       "      <td>UAL1450</td>\n",
       "      <td>17.000000</td>\n",
       "      <td>24.000000</td>\n",
       "      <td>517.0</td>\n",
       "      <td>37000.0</td>\n",
       "      <td>1833.0</td>\n",
       "      <td>1844.0</td>\n",
       "      <td>245.0</td>\n",
       "      <td>254.0</td>\n",
       "      <td>9.383333</td>\n",
       "      <td>...</td>\n",
       "      <td>2.0</td>\n",
       "      <td>0</td>\n",
       "      <td>0</td>\n",
       "      <td>0</td>\n",
       "      <td>0</td>\n",
       "      <td>1</td>\n",
       "      <td>0</td>\n",
       "      <td>4</td>\n",
       "      <td>9</td>\n",
       "      <td>0</td>\n",
       "    </tr>\n",
       "    <tr>\n",
       "      <th>2</th>\n",
       "      <td>UAL1450</td>\n",
       "      <td>25.000000</td>\n",
       "      <td>11.000000</td>\n",
       "      <td>519.0</td>\n",
       "      <td>37000.0</td>\n",
       "      <td>1846.0</td>\n",
       "      <td>1788.0</td>\n",
       "      <td>241.0</td>\n",
       "      <td>254.0</td>\n",
       "      <td>9.500000</td>\n",
       "      <td>...</td>\n",
       "      <td>2.0</td>\n",
       "      <td>0</td>\n",
       "      <td>0</td>\n",
       "      <td>0</td>\n",
       "      <td>1</td>\n",
       "      <td>0</td>\n",
       "      <td>0</td>\n",
       "      <td>2</td>\n",
       "      <td>9</td>\n",
       "      <td>0</td>\n",
       "    </tr>\n",
       "    <tr>\n",
       "      <th>3</th>\n",
       "      <td>UAL1450</td>\n",
       "      <td>15.000000</td>\n",
       "      <td>15.000000</td>\n",
       "      <td>521.0</td>\n",
       "      <td>35000.0</td>\n",
       "      <td>1900.0</td>\n",
       "      <td>1892.0</td>\n",
       "      <td>236.0</td>\n",
       "      <td>254.0</td>\n",
       "      <td>9.566667</td>\n",
       "      <td>...</td>\n",
       "      <td>2.0</td>\n",
       "      <td>0</td>\n",
       "      <td>0</td>\n",
       "      <td>1</td>\n",
       "      <td>0</td>\n",
       "      <td>0</td>\n",
       "      <td>0</td>\n",
       "      <td>1</td>\n",
       "      <td>9</td>\n",
       "      <td>0</td>\n",
       "    </tr>\n",
       "    <tr>\n",
       "      <th>4</th>\n",
       "      <td>UAL1450</td>\n",
       "      <td>16.000000</td>\n",
       "      <td>10.000000</td>\n",
       "      <td>520.0</td>\n",
       "      <td>35000.0</td>\n",
       "      <td>1865.0</td>\n",
       "      <td>1743.0</td>\n",
       "      <td>230.0</td>\n",
       "      <td>254.0</td>\n",
       "      <td>9.150000</td>\n",
       "      <td>...</td>\n",
       "      <td>2.0</td>\n",
       "      <td>0</td>\n",
       "      <td>1</td>\n",
       "      <td>0</td>\n",
       "      <td>0</td>\n",
       "      <td>0</td>\n",
       "      <td>0</td>\n",
       "      <td>6</td>\n",
       "      <td>9</td>\n",
       "      <td>0</td>\n",
       "    </tr>\n",
       "  </tbody>\n",
       "</table>\n",
       "<p>5 rows × 32 columns</p>\n",
       "</div>"
      ],
      "text/plain": [
       "   Flight#  Taxi(min)  Taxi_Arr(min)  Speed(mph)  Altitute(ft)  Act_Dist(mi)  \\\n",
       "0    N2437  18.761282       9.222338       587.0       45000.0        1565.0   \n",
       "1  UAL1450  17.000000      24.000000       517.0       37000.0        1833.0   \n",
       "2  UAL1450  25.000000      11.000000       519.0       37000.0        1846.0   \n",
       "3  UAL1450  15.000000      15.000000       521.0       35000.0        1900.0   \n",
       "4  UAL1450  16.000000      10.000000       520.0       35000.0        1865.0   \n",
       "\n",
       "   Sch_Dist(mi)  Act_Dur  Sch_Dur     Dep_Hr    ...     Airline_Avg_Delay  \\\n",
       "0        1662.0    153.0    151.0  16.000000    ...                   0.0   \n",
       "1        1844.0    245.0    254.0   9.383333    ...                   2.0   \n",
       "2        1788.0    241.0    254.0   9.500000    ...                   2.0   \n",
       "3        1892.0    236.0    254.0   9.566667    ...                   2.0   \n",
       "4        1743.0    230.0    254.0   9.150000    ...                   2.0   \n",
       "\n",
       "   Mon  Tue  Wed  Thu Fri  Sat  DOW_avg_delay  TOD_temp  TOD_tree  \n",
       "0    0    0    1    0   0    0              1        16         0  \n",
       "1    0    0    0    0   1    0              4         9         0  \n",
       "2    0    0    0    1   0    0              2         9         0  \n",
       "3    0    0    1    0   0    0              1         9         0  \n",
       "4    0    1    0    0   0    0              6         9         0  \n",
       "\n",
       "[5 rows x 32 columns]"
      ]
     },
     "execution_count": 4,
     "metadata": {},
     "output_type": "execute_result"
    }
   ],
   "source": [
    "df_raw.head()"
   ]
  },
  {
   "cell_type": "code",
   "execution_count": 5,
   "metadata": {},
   "outputs": [
    {
     "name": "stdout",
     "output_type": "stream",
     "text": [
      "<class 'pandas.core.frame.DataFrame'>\n",
      "RangeIndex: 12188 entries, 0 to 12187\n",
      "Data columns (total 32 columns):\n",
      "Flight#              12188 non-null object\n",
      "Taxi(min)            12188 non-null float64\n",
      "Taxi_Arr(min)        12188 non-null float64\n",
      "Speed(mph)           12188 non-null float64\n",
      "Altitute(ft)         12188 non-null float64\n",
      "Act_Dist(mi)         12188 non-null float64\n",
      "Sch_Dist(mi)         12188 non-null float64\n",
      "Act_Dur              12188 non-null float64\n",
      "Sch_Dur              12188 non-null float64\n",
      "Dep_Hr               12188 non-null float64\n",
      "DOW                  12188 non-null int64\n",
      "ORI_rank             12188 non-null int64\n",
      "DES_rank             12188 non-null int64\n",
      "Delay_Dep            12188 non-null float64\n",
      "Delay_Arr            12188 non-null float64\n",
      "Airline              12188 non-null object\n",
      "AAL                  12188 non-null int64\n",
      "DAL                  12188 non-null int64\n",
      "UAL                  12188 non-null int64\n",
      "SWA                  12188 non-null int64\n",
      "JBU                  12188 non-null int64\n",
      "VRD                  12188 non-null int64\n",
      "Airline_Avg_Delay    12188 non-null float64\n",
      "Mon                  12188 non-null int64\n",
      "Tue                  12188 non-null int64\n",
      "Wed                  12188 non-null int64\n",
      "Thu                  12188 non-null int64\n",
      "Fri                  12188 non-null int64\n",
      "Sat                  12188 non-null int64\n",
      "DOW_avg_delay        12188 non-null int64\n",
      "TOD_temp             12188 non-null int64\n",
      "TOD_tree             12188 non-null int64\n",
      "dtypes: float64(12), int64(18), object(2)\n",
      "memory usage: 3.0+ MB\n"
     ]
    }
   ],
   "source": [
    "df_raw.info()"
   ]
  },
  {
   "cell_type": "code",
   "execution_count": 6,
   "metadata": {},
   "outputs": [
    {
     "name": "stderr",
     "output_type": "stream",
     "text": [
      "/Users/Chuoran/anaconda/lib/python3.6/site-packages/sklearn/cross_validation.py:44: DeprecationWarning: This module was deprecated in version 0.18 in favor of the model_selection module into which all the refactored classes and functions are moved. Also note that the interface of the new CV iterators are different from that of this module. This module will be removed in 0.20.\n",
      "  \"This module will be removed in 0.20.\", DeprecationWarning)\n"
     ]
    }
   ],
   "source": [
    "from sklearn.metrics import mean_absolute_error, mean_squared_error\n",
    "from sklearn.cross_validation import train_test_split\n",
    "from sklearn.linear_model import LinearRegression, Lasso, LassoCV\n",
    "from sklearn.linear_model import Lasso, Ridge, LassoCV, RidgeCV"
   ]
  },
  {
   "cell_type": "code",
   "execution_count": 7,
   "metadata": {},
   "outputs": [
    {
     "data": {
      "text/plain": [
       "[(0, 'Flight#'),\n",
       " (1, 'Taxi(min)'),\n",
       " (2, 'Taxi_Arr(min)'),\n",
       " (3, 'Speed(mph)'),\n",
       " (4, 'Altitute(ft)'),\n",
       " (5, 'Act_Dist(mi)'),\n",
       " (6, 'Sch_Dist(mi)'),\n",
       " (7, 'Act_Dur'),\n",
       " (8, 'Sch_Dur'),\n",
       " (9, 'Dep_Hr'),\n",
       " (10, 'DOW'),\n",
       " (11, 'ORI_rank'),\n",
       " (12, 'DES_rank'),\n",
       " (13, 'Delay_Dep'),\n",
       " (14, 'Delay_Arr'),\n",
       " (15, 'Airline'),\n",
       " (16, 'AAL'),\n",
       " (17, 'DAL'),\n",
       " (18, 'UAL'),\n",
       " (19, 'SWA'),\n",
       " (20, 'JBU'),\n",
       " (21, 'VRD'),\n",
       " (22, 'Airline_Avg_Delay'),\n",
       " (23, 'Mon'),\n",
       " (24, 'Tue'),\n",
       " (25, 'Wed'),\n",
       " (26, 'Thu'),\n",
       " (27, 'Fri'),\n",
       " (28, 'Sat'),\n",
       " (29, 'DOW_avg_delay'),\n",
       " (30, 'TOD_temp'),\n",
       " (31, 'TOD_tree')]"
      ]
     },
     "execution_count": 7,
     "metadata": {},
     "output_type": "execute_result"
    }
   ],
   "source": [
    "list(zip(range(len(df_raw.columns)),df_raw.columns))"
   ]
  },
  {
   "cell_type": "code",
   "execution_count": 8,
   "metadata": {
    "collapsed": true
   },
   "outputs": [],
   "source": [
    "df_log = (df_raw.loc[:,['Flight#','Sch_Dist(mi)','Sch_Dur','TOD_tree'\n",
    "                        ,'ORI_rank','DES_rank'\n",
    "                        ,'AAL','DAL','UAL','SWA','JBU','VRD','Airline_Avg_Delay'\n",
    "                        ,'Mon','Tue','Wed','Thu','Fri','Sat','DOW_avg_delay'\n",
    "                       ,'Delay_Dep','Delay_Arr']])"
   ]
  },
  {
   "cell_type": "code",
   "execution_count": 50,
   "metadata": {
    "collapsed": true
   },
   "outputs": [],
   "source": [
    "df_log['Delay_Arr_Log'] = df_log['Delay_Arr'].apply(lambda y: 0 if y < 0 else np.log(1+ y) )"
   ]
  },
  {
   "cell_type": "code",
   "execution_count": 51,
   "metadata": {},
   "outputs": [
    {
     "data": {
      "text/html": [
       "<div>\n",
       "<style>\n",
       "    .dataframe thead tr:only-child th {\n",
       "        text-align: right;\n",
       "    }\n",
       "\n",
       "    .dataframe thead th {\n",
       "        text-align: left;\n",
       "    }\n",
       "\n",
       "    .dataframe tbody tr th {\n",
       "        vertical-align: top;\n",
       "    }\n",
       "</style>\n",
       "<table border=\"1\" class=\"dataframe\">\n",
       "  <thead>\n",
       "    <tr style=\"text-align: right;\">\n",
       "      <th></th>\n",
       "      <th>Flight#</th>\n",
       "      <th>Sch_Dist(mi)</th>\n",
       "      <th>Sch_Dur</th>\n",
       "      <th>TOD_tree</th>\n",
       "      <th>ORI_rank</th>\n",
       "      <th>DES_rank</th>\n",
       "      <th>AAL</th>\n",
       "      <th>DAL</th>\n",
       "      <th>UAL</th>\n",
       "      <th>SWA</th>\n",
       "      <th>...</th>\n",
       "      <th>Mon</th>\n",
       "      <th>Tue</th>\n",
       "      <th>Wed</th>\n",
       "      <th>Thu</th>\n",
       "      <th>Fri</th>\n",
       "      <th>Sat</th>\n",
       "      <th>DOW_avg_delay</th>\n",
       "      <th>Delay_Dep</th>\n",
       "      <th>Delay_Arr</th>\n",
       "      <th>Delay_Arr_Log</th>\n",
       "    </tr>\n",
       "  </thead>\n",
       "  <tbody>\n",
       "    <tr>\n",
       "      <th>0</th>\n",
       "      <td>N2437</td>\n",
       "      <td>1662.0</td>\n",
       "      <td>151.0</td>\n",
       "      <td>0</td>\n",
       "      <td>5</td>\n",
       "      <td>18</td>\n",
       "      <td>0</td>\n",
       "      <td>0</td>\n",
       "      <td>0</td>\n",
       "      <td>0</td>\n",
       "      <td>...</td>\n",
       "      <td>0</td>\n",
       "      <td>0</td>\n",
       "      <td>1</td>\n",
       "      <td>0</td>\n",
       "      <td>0</td>\n",
       "      <td>0</td>\n",
       "      <td>1</td>\n",
       "      <td>2.0</td>\n",
       "      <td>4.0</td>\n",
       "      <td>1.609438</td>\n",
       "    </tr>\n",
       "    <tr>\n",
       "      <th>1</th>\n",
       "      <td>UAL1450</td>\n",
       "      <td>1844.0</td>\n",
       "      <td>254.0</td>\n",
       "      <td>0</td>\n",
       "      <td>2</td>\n",
       "      <td>1</td>\n",
       "      <td>0</td>\n",
       "      <td>0</td>\n",
       "      <td>1</td>\n",
       "      <td>0</td>\n",
       "      <td>...</td>\n",
       "      <td>0</td>\n",
       "      <td>0</td>\n",
       "      <td>0</td>\n",
       "      <td>0</td>\n",
       "      <td>1</td>\n",
       "      <td>0</td>\n",
       "      <td>4</td>\n",
       "      <td>7.0</td>\n",
       "      <td>-2.0</td>\n",
       "      <td>0.000000</td>\n",
       "    </tr>\n",
       "    <tr>\n",
       "      <th>2</th>\n",
       "      <td>UAL1450</td>\n",
       "      <td>1788.0</td>\n",
       "      <td>254.0</td>\n",
       "      <td>0</td>\n",
       "      <td>2</td>\n",
       "      <td>1</td>\n",
       "      <td>0</td>\n",
       "      <td>0</td>\n",
       "      <td>1</td>\n",
       "      <td>0</td>\n",
       "      <td>...</td>\n",
       "      <td>0</td>\n",
       "      <td>0</td>\n",
       "      <td>0</td>\n",
       "      <td>1</td>\n",
       "      <td>0</td>\n",
       "      <td>0</td>\n",
       "      <td>2</td>\n",
       "      <td>5.0</td>\n",
       "      <td>-8.0</td>\n",
       "      <td>0.000000</td>\n",
       "    </tr>\n",
       "  </tbody>\n",
       "</table>\n",
       "<p>3 rows × 23 columns</p>\n",
       "</div>"
      ],
      "text/plain": [
       "   Flight#  Sch_Dist(mi)  Sch_Dur  TOD_tree  ORI_rank  DES_rank  AAL  DAL  \\\n",
       "0    N2437        1662.0    151.0         0         5        18    0    0   \n",
       "1  UAL1450        1844.0    254.0         0         2         1    0    0   \n",
       "2  UAL1450        1788.0    254.0         0         2         1    0    0   \n",
       "\n",
       "   UAL  SWA      ...        Mon  Tue  Wed  Thu  Fri  Sat  DOW_avg_delay  \\\n",
       "0    0    0      ...          0    0    1    0    0    0              1   \n",
       "1    1    0      ...          0    0    0    0    1    0              4   \n",
       "2    1    0      ...          0    0    0    1    0    0              2   \n",
       "\n",
       "   Delay_Dep  Delay_Arr  Delay_Arr_Log  \n",
       "0        2.0        4.0       1.609438  \n",
       "1        7.0       -2.0       0.000000  \n",
       "2        5.0       -8.0       0.000000  \n",
       "\n",
       "[3 rows x 23 columns]"
      ]
     },
     "execution_count": 51,
     "metadata": {},
     "output_type": "execute_result"
    }
   ],
   "source": [
    "df_log.head(3)"
   ]
  },
  {
   "cell_type": "code",
   "execution_count": 52,
   "metadata": {},
   "outputs": [
    {
     "name": "stdout",
     "output_type": "stream",
     "text": [
      "0    1.609438\n",
      "1    0.000000\n",
      "2    0.000000\n",
      "Name: Delay_Arr_Log, dtype: float64\n"
     ]
    },
    {
     "data": {
      "text/html": [
       "<div>\n",
       "<style>\n",
       "    .dataframe thead tr:only-child th {\n",
       "        text-align: right;\n",
       "    }\n",
       "\n",
       "    .dataframe thead th {\n",
       "        text-align: left;\n",
       "    }\n",
       "\n",
       "    .dataframe tbody tr th {\n",
       "        vertical-align: top;\n",
       "    }\n",
       "</style>\n",
       "<table border=\"1\" class=\"dataframe\">\n",
       "  <thead>\n",
       "    <tr style=\"text-align: right;\">\n",
       "      <th></th>\n",
       "      <th>Sch_Dist(mi)</th>\n",
       "      <th>Sch_Dur</th>\n",
       "      <th>ORI_rank</th>\n",
       "      <th>DES_rank</th>\n",
       "      <th>AAL</th>\n",
       "      <th>DAL</th>\n",
       "      <th>UAL</th>\n",
       "      <th>SWA</th>\n",
       "      <th>JBU</th>\n",
       "      <th>VRD</th>\n",
       "      <th>Mon</th>\n",
       "      <th>Tue</th>\n",
       "      <th>Wed</th>\n",
       "      <th>Thu</th>\n",
       "      <th>Fri</th>\n",
       "      <th>Sat</th>\n",
       "    </tr>\n",
       "  </thead>\n",
       "  <tbody>\n",
       "    <tr>\n",
       "      <th>0</th>\n",
       "      <td>1662.0</td>\n",
       "      <td>151.0</td>\n",
       "      <td>5</td>\n",
       "      <td>18</td>\n",
       "      <td>0</td>\n",
       "      <td>0</td>\n",
       "      <td>0</td>\n",
       "      <td>0</td>\n",
       "      <td>0</td>\n",
       "      <td>0</td>\n",
       "      <td>0</td>\n",
       "      <td>0</td>\n",
       "      <td>1</td>\n",
       "      <td>0</td>\n",
       "      <td>0</td>\n",
       "      <td>0</td>\n",
       "    </tr>\n",
       "    <tr>\n",
       "      <th>1</th>\n",
       "      <td>1844.0</td>\n",
       "      <td>254.0</td>\n",
       "      <td>2</td>\n",
       "      <td>1</td>\n",
       "      <td>0</td>\n",
       "      <td>0</td>\n",
       "      <td>1</td>\n",
       "      <td>0</td>\n",
       "      <td>0</td>\n",
       "      <td>0</td>\n",
       "      <td>0</td>\n",
       "      <td>0</td>\n",
       "      <td>0</td>\n",
       "      <td>0</td>\n",
       "      <td>1</td>\n",
       "      <td>0</td>\n",
       "    </tr>\n",
       "    <tr>\n",
       "      <th>2</th>\n",
       "      <td>1788.0</td>\n",
       "      <td>254.0</td>\n",
       "      <td>2</td>\n",
       "      <td>1</td>\n",
       "      <td>0</td>\n",
       "      <td>0</td>\n",
       "      <td>1</td>\n",
       "      <td>0</td>\n",
       "      <td>0</td>\n",
       "      <td>0</td>\n",
       "      <td>0</td>\n",
       "      <td>0</td>\n",
       "      <td>0</td>\n",
       "      <td>1</td>\n",
       "      <td>0</td>\n",
       "      <td>0</td>\n",
       "    </tr>\n",
       "  </tbody>\n",
       "</table>\n",
       "</div>"
      ],
      "text/plain": [
       "   Sch_Dist(mi)  Sch_Dur  ORI_rank  DES_rank  AAL  DAL  UAL  SWA  JBU  VRD  \\\n",
       "0        1662.0    151.0         5        18    0    0    0    0    0    0   \n",
       "1        1844.0    254.0         2         1    0    0    1    0    0    0   \n",
       "2        1788.0    254.0         2         1    0    0    1    0    0    0   \n",
       "\n",
       "   Mon  Tue  Wed  Thu  Fri  Sat  \n",
       "0    0    0    1    0    0    0  \n",
       "1    0    0    0    0    1    0  \n",
       "2    0    0    0    1    0    0  "
      ]
     },
     "execution_count": 52,
     "metadata": {},
     "output_type": "execute_result"
    }
   ],
   "source": [
    "X = (df_log.loc[:,['Sch_Dist(mi)','Sch_Dur'\n",
    "                        ,'ORI_rank','DES_rank'\n",
    "                        ,'AAL','DAL','UAL','SWA','JBU','VRD'\n",
    "                        ,'Mon','Tue','Wed','Thu','Fri','Sat'\n",
    "                       ]])\n",
    "Xtree = (df_log.loc[:,['Sch_Dist(mi)','Sch_Dur','TOD_tree'\n",
    "                        ,'ORI_rank','DES_rank'\n",
    "                        ,'Airline_Avg_Delay'\n",
    "                        ,'DOW_avg_delay'\n",
    "                       ]])\n",
    "y = df_log.iloc[:,22]\n",
    "print(y[:3])\n",
    "X.head(3)"
   ]
  },
  {
   "cell_type": "code",
   "execution_count": 53,
   "metadata": {
    "collapsed": true
   },
   "outputs": [],
   "source": [
    "X_train, X_test, Xtree_train, Xtree_test, y_train, y_test = train_test_split(X, Xtree, y, test_size=0.15,random_state=42)"
   ]
  },
  {
   "cell_type": "code",
   "execution_count": 54,
   "metadata": {},
   "outputs": [
    {
     "data": {
      "text/plain": [
       "LinearRegression(copy_X=True, fit_intercept=True, n_jobs=1, normalize=False)"
      ]
     },
     "execution_count": 54,
     "metadata": {},
     "output_type": "execute_result"
    }
   ],
   "source": [
    "lr_model = LinearRegression()\n",
    "lr_model.fit(X_train,y_train)"
   ]
  },
  {
   "cell_type": "code",
   "execution_count": 55,
   "metadata": {
    "scrolled": true
   },
   "outputs": [
    {
     "data": {
      "text/plain": [
       "[('Sch_Dist(mi)', 0.00070225421828006007),\n",
       " ('Sch_Dur', -0.0063085770528140466),\n",
       " ('ORI_rank', -0.0051997584597834653),\n",
       " ('DES_rank', 0.00805605127340768),\n",
       " ('AAL', -0.16230428142484141),\n",
       " ('DAL', -0.34889500977776206),\n",
       " ('UAL', -0.26848544189757523),\n",
       " ('SWA', -0.024898767120555054),\n",
       " ('JBU', -0.085808889714332981),\n",
       " ('VRD', 0.13345639029213574),\n",
       " ('Mon', 0.15507436954900897),\n",
       " ('Tue', 0.13544222904901704),\n",
       " ('Wed', 0.064431758695573244),\n",
       " ('Thu', 0.07822984568986982),\n",
       " ('Fri', 0.13746853919602045),\n",
       " ('Sat', -0.11852048002374746)]"
      ]
     },
     "execution_count": 55,
     "metadata": {},
     "output_type": "execute_result"
    }
   ],
   "source": [
    "list(zip(X.columns,lr_model.coef_))"
   ]
  },
  {
   "cell_type": "code",
   "execution_count": 56,
   "metadata": {},
   "outputs": [
    {
     "name": "stdout",
     "output_type": "stream",
     "text": [
      "0.0161406567367\n"
     ]
    },
    {
     "data": {
      "text/plain": [
       "1.4479921147726424"
      ]
     },
     "execution_count": 56,
     "metadata": {},
     "output_type": "execute_result"
    }
   ],
   "source": [
    "test_predict_lr_model = lr_model.predict(X_test)\n",
    "print(lr_model.score(X_test, y_test))\n",
    "np.sqrt(np.mean((test_predict_lr_model - y_test)**2))"
   ]
  },
  {
   "cell_type": "code",
   "execution_count": 57,
   "metadata": {},
   "outputs": [
    {
     "data": {
      "text/plain": [
       "Lasso(alpha=0.1, copy_X=True, fit_intercept=True, max_iter=1000,\n",
       "   normalize=False, positive=False, precompute=False, random_state=None,\n",
       "   selection='cyclic', tol=0.0001, warm_start=False)"
      ]
     },
     "execution_count": 57,
     "metadata": {},
     "output_type": "execute_result"
    }
   ],
   "source": [
    "ls_model = Lasso(alpha = 0.1)\n",
    "ls_model.fit(X_train,y_train)"
   ]
  },
  {
   "cell_type": "code",
   "execution_count": 58,
   "metadata": {},
   "outputs": [
    {
     "data": {
      "text/plain": [
       "[('Sch_Dist(mi)', 0.00073855746582182527),\n",
       " ('Sch_Dur', -0.0068836145013538973),\n",
       " ('ORI_rank', -0.0024797092719703291),\n",
       " ('DES_rank', 0.0044973287071778051),\n",
       " ('AAL', -0.0),\n",
       " ('DAL', -0.0),\n",
       " ('UAL', -0.0),\n",
       " ('SWA', 0.0),\n",
       " ('JBU', 0.0),\n",
       " ('VRD', 0.0),\n",
       " ('Mon', 0.0),\n",
       " ('Tue', 0.0),\n",
       " ('Wed', -0.0),\n",
       " ('Thu', -0.0),\n",
       " ('Fri', 0.0),\n",
       " ('Sat', -0.0)]"
      ]
     },
     "execution_count": 58,
     "metadata": {},
     "output_type": "execute_result"
    }
   ],
   "source": [
    "list(zip(X_train.columns,ls_model.coef_))"
   ]
  },
  {
   "cell_type": "code",
   "execution_count": 59,
   "metadata": {},
   "outputs": [
    {
     "data": {
      "text/plain": [
       "0.01290761056465628"
      ]
     },
     "execution_count": 59,
     "metadata": {},
     "output_type": "execute_result"
    }
   ],
   "source": [
    "ls_model.score(X_test, y_test)"
   ]
  },
  {
   "cell_type": "code",
   "execution_count": 60,
   "metadata": {
    "collapsed": true
   },
   "outputs": [],
   "source": [
    "from sklearn.pipeline import Pipeline\n",
    "from sklearn.preprocessing import StandardScaler"
   ]
  },
  {
   "cell_type": "code",
   "execution_count": 78,
   "metadata": {
    "collapsed": true
   },
   "outputs": [],
   "source": [
    "std = StandardScaler()\n",
    "std.fit(X_train)\n",
    "X_tr = std.transform(X_train)\n",
    "X_te = std.transform(X_test)"
   ]
  },
  {
   "cell_type": "code",
   "execution_count": 79,
   "metadata": {},
   "outputs": [
    {
     "data": {
      "text/plain": [
       "LassoCV(alphas=array([  1.00000e-03,   1.08437e-03, ...,   9.22198e+03,   1.00000e+04]),\n",
       "    copy_X=True, cv=5, eps=0.001, fit_intercept=True, max_iter=1000,\n",
       "    n_alphas=100, n_jobs=1, normalize=False, positive=False,\n",
       "    precompute='auto', random_state=None, selection='cyclic', tol=0.0001,\n",
       "    verbose=False)"
      ]
     },
     "execution_count": 79,
     "metadata": {},
     "output_type": "execute_result"
    }
   ],
   "source": [
    "alphavec = 10**(np.linspace(-3,4,200))\n",
    "ls_model_std = LassoCV(alphas = alphavec, cv=5)\n",
    "ls_model_std.fit(X_tr,y_train)"
   ]
  },
  {
   "cell_type": "code",
   "execution_count": 80,
   "metadata": {},
   "outputs": [
    {
     "data": {
      "text/plain": [
       "0.016479203442097745"
      ]
     },
     "execution_count": 80,
     "metadata": {},
     "output_type": "execute_result"
    }
   ],
   "source": [
    "ls_model_std.score(X_te, y_test)"
   ]
  },
  {
   "cell_type": "code",
   "execution_count": 82,
   "metadata": {},
   "outputs": [
    {
     "name": "stdout",
     "output_type": "stream",
     "text": [
      "0.001\n"
     ]
    },
    {
     "data": {
      "text/plain": [
       "[('Sch_Dist(mi)', 0.43520559066321923),\n",
       " ('Sch_Dur', -0.48226195084948503),\n",
       " ('ORI_rank', -0.030988647013893127),\n",
       " ('DES_rank', 0.04918478935465978),\n",
       " ('AAL', -0.067592069361090606),\n",
       " ('DAL', -0.13625116865527589),\n",
       " ('UAL', -0.098024793267161694),\n",
       " ('SWA', -0.0025184994295329183),\n",
       " ('JBU', -0.015397212900319071),\n",
       " ('VRD', 0.025245290848214211),\n",
       " ('Mon', 0.047221867213268348),\n",
       " ('Tue', 0.043237628840580029),\n",
       " ('Wed', 0.017159660176509418),\n",
       " ('Thu', 0.022694195858306922),\n",
       " ('Fri', 0.045466971644382299),\n",
       " ('Sat', -0.033352443378100068)]"
      ]
     },
     "execution_count": 82,
     "metadata": {},
     "output_type": "execute_result"
    }
   ],
   "source": [
    "print(ls_model_std.alpha_)\n",
    "list(zip(X_train.columns,ls_model_std.coef_))"
   ]
  },
  {
   "cell_type": "code",
   "execution_count": 64,
   "metadata": {
    "collapsed": true
   },
   "outputs": [],
   "source": [
    "from sklearn import tree"
   ]
  },
  {
   "cell_type": "code",
   "execution_count": 65,
   "metadata": {},
   "outputs": [
    {
     "data": {
      "text/plain": [
       "DecisionTreeRegressor(criterion='mse', max_depth=10, max_features=None,\n",
       "           max_leaf_nodes=None, min_impurity_split=1e-07,\n",
       "           min_samples_leaf=20, min_samples_split=10,\n",
       "           min_weight_fraction_leaf=0.0, presort=False, random_state=None,\n",
       "           splitter='best')"
      ]
     },
     "execution_count": 65,
     "metadata": {},
     "output_type": "execute_result"
    }
   ],
   "source": [
    "dtrmodel = tree.DecisionTreeRegressor(min_samples_split=10, max_depth=10, min_samples_leaf=20)\n",
    "dtrmodel.fit(Xtree_train,y_train)"
   ]
  },
  {
   "cell_type": "code",
   "execution_count": 66,
   "metadata": {},
   "outputs": [
    {
     "data": {
      "text/plain": [
       "<sklearn.tree._tree.Tree at 0x120b858b8>"
      ]
     },
     "execution_count": 66,
     "metadata": {},
     "output_type": "execute_result"
    }
   ],
   "source": [
    "dtrmodel.tree_"
   ]
  },
  {
   "cell_type": "code",
   "execution_count": 67,
   "metadata": {},
   "outputs": [
    {
     "data": {
      "text/plain": [
       "[(1, 87.5),\n",
       " (0, 350.5),\n",
       " (1, 53.0),\n",
       " (5, 1.5),\n",
       " (0, 245.0),\n",
       " (-2, -2.0),\n",
       " (-2, -2.0),\n",
       " (-2, -2.0),\n",
       " (0, 305.5),\n",
       " (3, 17.5),\n",
       " (0, 221.0),\n",
       " (6, 3.0),\n",
       " (-2, -2.0),\n",
       " (-2, -2.0),\n",
       " (0, 257.5),\n",
       " (5, 0.5),\n",
       " (-2, -2.0),\n",
       " (-2, -2.0),\n",
       " (0, 263.0),\n",
       " (-2, -2.0),\n",
       " (0, 279.0),\n",
       " (1, 79.5),\n",
       " (-2, -2.0),\n",
       " (-2, -2.0),\n",
       " (1, 79.5),\n",
       " (-2, -2.0),\n",
       " (-2, -2.0),\n",
       " (1, 83.5),\n",
       " (6, 3.0),\n",
       " (-2, -2.0),\n",
       " (-2, -2.0),\n",
       " (-2, -2.0),\n",
       " (0, 307.0),\n",
       " (-2, -2.0),\n",
       " (5, 0.5),\n",
       " (6, 3.0),\n",
       " (-2, -2.0),\n",
       " (-2, -2.0),\n",
       " (0, 332.0),\n",
       " (-2, -2.0),\n",
       " (-2, -2.0),\n",
       " (5, 0.5),\n",
       " (1, 35.5),\n",
       " (-2, -2.0),\n",
       " (0, 367.5),\n",
       " (-2, -2.0),\n",
       " (4, 9.5),\n",
       " (-2, -2.0),\n",
       " (4, 17.5),\n",
       " (3, 17.5),\n",
       " (-2, -2.0),\n",
       " (-2, -2.0),\n",
       " (-2, -2.0),\n",
       " (5, 4.5),\n",
       " (0, 400.5),\n",
       " (-2, -2.0),\n",
       " (0, 437.0),\n",
       " (-2, -2.0),\n",
       " (0, 553.0),\n",
       " (-2, -2.0),\n",
       " (-2, -2.0),\n",
       " (4, 6.5),\n",
       " (6, 1.5),\n",
       " (0, 375.5),\n",
       " (-2, -2.0),\n",
       " (-2, -2.0),\n",
       " (6, 5.5),\n",
       " (5, 5.5),\n",
       " (0, 381.5),\n",
       " (-2, -2.0),\n",
       " (-2, -2.0),\n",
       " (-2, -2.0),\n",
       " (-2, -2.0),\n",
       " (3, 5.5),\n",
       " (-2, -2.0),\n",
       " (0, 578.5),\n",
       " (-2, -2.0),\n",
       " (-2, -2.0),\n",
       " (3, 6.5),\n",
       " (3, 4.5),\n",
       " (4, 5.5),\n",
       " (1, 115.5),\n",
       " (-2, -2.0),\n",
       " (6, 3.0),\n",
       " (1, 140.5),\n",
       " (0, 840.0),\n",
       " (4, 3.5),\n",
       " (0, 761.5),\n",
       " (-2, -2.0),\n",
       " (-2, -2.0),\n",
       " (-2, -2.0),\n",
       " (-2, -2.0),\n",
       " (1, 150.5),\n",
       " (5, 2.5),\n",
       " (0, 894.5),\n",
       " (-2, -2.0),\n",
       " (-2, -2.0),\n",
       " (-2, -2.0),\n",
       " (1, 332.0),\n",
       " (1, 282.5),\n",
       " (-2, -2.0),\n",
       " (-2, -2.0),\n",
       " (0, 2513.5),\n",
       " (-2, -2.0),\n",
       " (-2, -2.0),\n",
       " (1, 262.5),\n",
       " (1, 133.0),\n",
       " (5, 1.5),\n",
       " (-2, -2.0),\n",
       " (-2, -2.0),\n",
       " (4, 0.5),\n",
       " (0, 2011.0),\n",
       " (-2, -2.0),\n",
       " (-2, -2.0),\n",
       " (1, 195.0),\n",
       " (-2, -2.0),\n",
       " (-2, -2.0),\n",
       " (4, 3.0),\n",
       " (1, 284.5),\n",
       " (0, 1796.5),\n",
       " (-2, -2.0),\n",
       " (-2, -2.0),\n",
       " (1, 373.0),\n",
       " (-2, -2.0),\n",
       " (-2, -2.0),\n",
       " (-2, -2.0),\n",
       " (1, 168.5),\n",
       " (0, 991.5),\n",
       " (0, 322.0),\n",
       " (-2, -2.0),\n",
       " (3, 1.5),\n",
       " (0, 823.5),\n",
       " (4, 12.0),\n",
       " (-2, -2.0),\n",
       " (-2, -2.0),\n",
       " (1, 154.5),\n",
       " (-2, -2.0),\n",
       " (-2, -2.0),\n",
       " (4, 14.0),\n",
       " (0, 355.0),\n",
       " (-2, -2.0),\n",
       " (-2, -2.0),\n",
       " (-2, -2.0),\n",
       " (3, 2.5),\n",
       " (0, 1071.5),\n",
       " (3, 1.5),\n",
       " (-2, -2.0),\n",
       " (1, 160.5),\n",
       " (-2, -2.0),\n",
       " (-2, -2.0),\n",
       " (-2, -2.0),\n",
       " (5, 0.5),\n",
       " (-2, -2.0),\n",
       " (4, 9.0),\n",
       " (-2, -2.0),\n",
       " (1, 160.5),\n",
       " (-2, -2.0),\n",
       " (-2, -2.0),\n",
       " (4, 6.5),\n",
       " (6, 4.5),\n",
       " (1, 276.5),\n",
       " (-2, -2.0),\n",
       " (6, 1.5),\n",
       " (-2, -2.0),\n",
       " (-2, -2.0),\n",
       " (-2, -2.0),\n",
       " (1, 264.5),\n",
       " (0, 1611.0),\n",
       " (3, 2.5),\n",
       " (1, 180.0),\n",
       " (-2, -2.0),\n",
       " (-2, -2.0),\n",
       " (0, 1503.5),\n",
       " (-2, -2.0),\n",
       " (-2, -2.0),\n",
       " (1, 233.0),\n",
       " (5, 1.5),\n",
       " (-2, -2.0),\n",
       " (-2, -2.0),\n",
       " (1, 257.0),\n",
       " (-2, -2.0),\n",
       " (-2, -2.0),\n",
       " (4, 11.0),\n",
       " (0, 2389.0),\n",
       " (-2, -2.0),\n",
       " (-2, -2.0),\n",
       " (1, 315.5),\n",
       " (4, 13.5),\n",
       " (-2, -2.0),\n",
       " (-2, -2.0),\n",
       " (6, 4.5),\n",
       " (-2, -2.0),\n",
       " (-2, -2.0),\n",
       " (5, 5.5),\n",
       " (0, 2772.5),\n",
       " (4, 2.5),\n",
       " (5, 4.0),\n",
       " (0, 408.5),\n",
       " (-2, -2.0),\n",
       " (6, 5.5),\n",
       " (1, 255.5),\n",
       " (-2, -2.0),\n",
       " (-2, -2.0),\n",
       " (0, 892.5),\n",
       " (-2, -2.0),\n",
       " (-2, -2.0),\n",
       " (-2, -2.0),\n",
       " (6, 1.5),\n",
       " (1, 319.5),\n",
       " (0, 1772.5),\n",
       " (5, 2.5),\n",
       " (-2, -2.0),\n",
       " (-2, -2.0),\n",
       " (-2, -2.0),\n",
       " (1, 334.0),\n",
       " (-2, -2.0),\n",
       " (-2, -2.0),\n",
       " (3, 5.5),\n",
       " (4, 4.5),\n",
       " (-2, -2.0),\n",
       " (1, 188.0),\n",
       " (-2, -2.0),\n",
       " (-2, -2.0),\n",
       " (5, 0.5),\n",
       " (0, 1038.0),\n",
       " (-2, -2.0),\n",
       " (-2, -2.0),\n",
       " (0, 2616.5),\n",
       " (-2, -2.0),\n",
       " (-2, -2.0),\n",
       " (0, 2800.0),\n",
       " (-2, -2.0),\n",
       " (-2, -2.0),\n",
       " (0, 1001.0),\n",
       " (0, 576.0),\n",
       " (-2, -2.0),\n",
       " (0, 655.5),\n",
       " (-2, -2.0),\n",
       " (-2, -2.0),\n",
       " (6, 3.0),\n",
       " (-2, -2.0),\n",
       " (-2, -2.0),\n",
       " (4, 0.5),\n",
       " (1, 169.5),\n",
       " (0, 1071.0),\n",
       " (5, 1.5),\n",
       " (0, 734.5),\n",
       " (0, 716.0),\n",
       " (0, 676.5),\n",
       " (0, 505.0),\n",
       " (-2, -2.0),\n",
       " (-2, -2.0),\n",
       " (-2, -2.0),\n",
       " (-2, -2.0),\n",
       " (3, 14.5),\n",
       " (1, 130.0),\n",
       " (-2, -2.0),\n",
       " (-2, -2.0),\n",
       " (1, 157.5),\n",
       " (1, 150.5),\n",
       " (-2, -2.0),\n",
       " (-2, -2.0),\n",
       " (1, 163.5),\n",
       " (-2, -2.0),\n",
       " (-2, -2.0),\n",
       " (1, 145.5),\n",
       " (1, 127.5),\n",
       " (-2, -2.0),\n",
       " (-2, -2.0),\n",
       " (-2, -2.0),\n",
       " (-2, -2.0),\n",
       " (1, 173.0),\n",
       " (-2, -2.0),\n",
       " (0, 1811.0),\n",
       " (1, 237.0),\n",
       " (-2, -2.0),\n",
       " (-2, -2.0),\n",
       " (-2, -2.0),\n",
       " (0, 2565.5),\n",
       " (1, 232.5),\n",
       " (1, 229.5),\n",
       " (3, 7.5),\n",
       " (5, 2.5),\n",
       " (1, 104.5),\n",
       " (-2, -2.0),\n",
       " (0, 703.0),\n",
       " (-2, -2.0),\n",
       " (-2, -2.0),\n",
       " (5, 5.5),\n",
       " (0, 1104.5),\n",
       " (-2, -2.0),\n",
       " (-2, -2.0),\n",
       " (-2, -2.0),\n",
       " (6, 0.5),\n",
       " (1, 183.5),\n",
       " (0, 994.5),\n",
       " (-2, -2.0),\n",
       " (-2, -2.0),\n",
       " (0, 1390.0),\n",
       " (-2, -2.0),\n",
       " (-2, -2.0),\n",
       " (1, 213.5),\n",
       " (0, 1168.5),\n",
       " (-2, -2.0),\n",
       " (-2, -2.0),\n",
       " (0, 1459.5),\n",
       " (-2, -2.0),\n",
       " (-2, -2.0),\n",
       " (5, 2.5),\n",
       " (-2, -2.0),\n",
       " (-2, -2.0),\n",
       " (0, 1481.5),\n",
       " (0, 1172.0),\n",
       " (-2, -2.0),\n",
       " (6, 1.5),\n",
       " (-2, -2.0),\n",
       " (5, 1.5),\n",
       " (-2, -2.0),\n",
       " (-2, -2.0),\n",
       " (5, 1.5),\n",
       " (0, 1666.5),\n",
       " (0, 1627.5),\n",
       " (0, 1582.0),\n",
       " (-2, -2.0),\n",
       " (-2, -2.0),\n",
       " (-2, -2.0),\n",
       " (0, 2464.5),\n",
       " (4, 10.5),\n",
       " (-2, -2.0),\n",
       " (-2, -2.0),\n",
       " (6, 3.0),\n",
       " (-2, -2.0),\n",
       " (-2, -2.0),\n",
       " (3, 12.5),\n",
       " (1, 339.5),\n",
       " (0, 2342.5),\n",
       " (-2, -2.0),\n",
       " (-2, -2.0),\n",
       " (-2, -2.0),\n",
       " (4, 8.5),\n",
       " (1, 259.0),\n",
       " (-2, -2.0),\n",
       " (-2, -2.0),\n",
       " (0, 2186.5),\n",
       " (-2, -2.0),\n",
       " (-2, -2.0),\n",
       " (1, 360.5),\n",
       " (0, 2614.0),\n",
       " (-2, -2.0),\n",
       " (-2, -2.0),\n",
       " (0, 2757.0),\n",
       " (-2, -2.0),\n",
       " (-2, -2.0)]"
      ]
     },
     "execution_count": 67,
     "metadata": {},
     "output_type": "execute_result"
    }
   ],
   "source": [
    "list(zip(dtrmodel.tree_.feature,dtrmodel.tree_.threshold))[:]"
   ]
  },
  {
   "cell_type": "code",
   "execution_count": 68,
   "metadata": {},
   "outputs": [
    {
     "data": {
      "text/plain": [
       "[(1, 78),\n",
       " (2, 41),\n",
       " (3, 8),\n",
       " (4, 7),\n",
       " (5, 6),\n",
       " (-1, -1),\n",
       " (-1, -1),\n",
       " (-1, -1),\n",
       " (9, 32),\n",
       " (10, 27),\n",
       " (11, 14),\n",
       " (12, 13),\n",
       " (-1, -1),\n",
       " (-1, -1),\n",
       " (15, 18),\n",
       " (16, 17),\n",
       " (-1, -1),\n",
       " (-1, -1),\n",
       " (19, 20),\n",
       " (-1, -1),\n",
       " (21, 24),\n",
       " (22, 23),\n",
       " (-1, -1),\n",
       " (-1, -1),\n",
       " (25, 26),\n",
       " (-1, -1),\n",
       " (-1, -1),\n",
       " (28, 31),\n",
       " (29, 30),\n",
       " (-1, -1),\n",
       " (-1, -1),\n",
       " (-1, -1),\n",
       " (33, 34),\n",
       " (-1, -1),\n",
       " (35, 38),\n",
       " (36, 37),\n",
       " (-1, -1),\n",
       " (-1, -1),\n",
       " (39, 40),\n",
       " (-1, -1),\n",
       " (-1, -1),\n",
       " (42, 53),\n",
       " (43, 44),\n",
       " (-1, -1),\n",
       " (45, 46),\n",
       " (-1, -1),\n",
       " (47, 48),\n",
       " (-1, -1),\n",
       " (49, 52),\n",
       " (50, 51),\n",
       " (-1, -1),\n",
       " (-1, -1),\n",
       " (-1, -1),\n",
       " (54, 61),\n",
       " (55, 56),\n",
       " (-1, -1),\n",
       " (57, 58),\n",
       " (-1, -1),\n",
       " (59, 60),\n",
       " (-1, -1),\n",
       " (-1, -1),\n",
       " (62, 73),\n",
       " (63, 66),\n",
       " (64, 65),\n",
       " (-1, -1),\n",
       " (-1, -1),\n",
       " (67, 72),\n",
       " (68, 71),\n",
       " (69, 70),\n",
       " (-1, -1),\n",
       " (-1, -1),\n",
       " (-1, -1),\n",
       " (-1, -1),\n",
       " (74, 75),\n",
       " (-1, -1),\n",
       " (76, 77),\n",
       " (-1, -1),\n",
       " (-1, -1),\n",
       " (79, 242),\n",
       " (80, 193),\n",
       " (81, 126),\n",
       " (82, 83),\n",
       " (-1, -1),\n",
       " (84, 105),\n",
       " (85, 92),\n",
       " (86, 91),\n",
       " (87, 90),\n",
       " (88, 89),\n",
       " (-1, -1),\n",
       " (-1, -1),\n",
       " (-1, -1),\n",
       " (-1, -1),\n",
       " (93, 98),\n",
       " (94, 97),\n",
       " (95, 96),\n",
       " (-1, -1),\n",
       " (-1, -1),\n",
       " (-1, -1),\n",
       " (99, 102),\n",
       " (100, 101),\n",
       " (-1, -1),\n",
       " (-1, -1),\n",
       " (103, 104),\n",
       " (-1, -1),\n",
       " (-1, -1),\n",
       " (106, 117),\n",
       " (107, 110),\n",
       " (108, 109),\n",
       " (-1, -1),\n",
       " (-1, -1),\n",
       " (111, 114),\n",
       " (112, 113),\n",
       " (-1, -1),\n",
       " (-1, -1),\n",
       " (115, 116),\n",
       " (-1, -1),\n",
       " (-1, -1),\n",
       " (118, 125),\n",
       " (119, 122),\n",
       " (120, 121),\n",
       " (-1, -1),\n",
       " (-1, -1),\n",
       " (123, 124),\n",
       " (-1, -1),\n",
       " (-1, -1),\n",
       " (-1, -1),\n",
       " (127, 158),\n",
       " (128, 143),\n",
       " (129, 130),\n",
       " (-1, -1),\n",
       " (131, 138),\n",
       " (132, 135),\n",
       " (133, 134),\n",
       " (-1, -1),\n",
       " (-1, -1),\n",
       " (136, 137),\n",
       " (-1, -1),\n",
       " (-1, -1),\n",
       " (139, 142),\n",
       " (140, 141),\n",
       " (-1, -1),\n",
       " (-1, -1),\n",
       " (-1, -1),\n",
       " (144, 151),\n",
       " (145, 150),\n",
       " (146, 147),\n",
       " (-1, -1),\n",
       " (148, 149),\n",
       " (-1, -1),\n",
       " (-1, -1),\n",
       " (-1, -1),\n",
       " (152, 153),\n",
       " (-1, -1),\n",
       " (154, 155),\n",
       " (-1, -1),\n",
       " (156, 157),\n",
       " (-1, -1),\n",
       " (-1, -1),\n",
       " (159, 166),\n",
       " (160, 165),\n",
       " (161, 162),\n",
       " (-1, -1),\n",
       " (163, 164),\n",
       " (-1, -1),\n",
       " (-1, -1),\n",
       " (-1, -1),\n",
       " (167, 182),\n",
       " (168, 175),\n",
       " (169, 172),\n",
       " (170, 171),\n",
       " (-1, -1),\n",
       " (-1, -1),\n",
       " (173, 174),\n",
       " (-1, -1),\n",
       " (-1, -1),\n",
       " (176, 179),\n",
       " (177, 178),\n",
       " (-1, -1),\n",
       " (-1, -1),\n",
       " (180, 181),\n",
       " (-1, -1),\n",
       " (-1, -1),\n",
       " (183, 186),\n",
       " (184, 185),\n",
       " (-1, -1),\n",
       " (-1, -1),\n",
       " (187, 190),\n",
       " (188, 189),\n",
       " (-1, -1),\n",
       " (-1, -1),\n",
       " (191, 192),\n",
       " (-1, -1),\n",
       " (-1, -1),\n",
       " (194, 233),\n",
       " (195, 230),\n",
       " (196, 207),\n",
       " (197, 206),\n",
       " (198, 199),\n",
       " (-1, -1),\n",
       " (200, 203),\n",
       " (201, 202),\n",
       " (-1, -1),\n",
       " (-1, -1),\n",
       " (204, 205),\n",
       " (-1, -1),\n",
       " (-1, -1),\n",
       " (-1, -1),\n",
       " (208, 217),\n",
       " (209, 214),\n",
       " (210, 213),\n",
       " (211, 212),\n",
       " (-1, -1),\n",
       " (-1, -1),\n",
       " (-1, -1),\n",
       " (215, 216),\n",
       " (-1, -1),\n",
       " (-1, -1),\n",
       " (218, 223),\n",
       " (219, 220),\n",
       " (-1, -1),\n",
       " (221, 222),\n",
       " (-1, -1),\n",
       " (-1, -1),\n",
       " (224, 227),\n",
       " (225, 226),\n",
       " (-1, -1),\n",
       " (-1, -1),\n",
       " (228, 229),\n",
       " (-1, -1),\n",
       " (-1, -1),\n",
       " (231, 232),\n",
       " (-1, -1),\n",
       " (-1, -1),\n",
       " (234, 239),\n",
       " (235, 236),\n",
       " (-1, -1),\n",
       " (237, 238),\n",
       " (-1, -1),\n",
       " (-1, -1),\n",
       " (240, 241),\n",
       " (-1, -1),\n",
       " (-1, -1),\n",
       " (243, 278),\n",
       " (244, 271),\n",
       " (245, 270),\n",
       " (246, 265),\n",
       " (247, 254),\n",
       " (248, 253),\n",
       " (249, 252),\n",
       " (250, 251),\n",
       " (-1, -1),\n",
       " (-1, -1),\n",
       " (-1, -1),\n",
       " (-1, -1),\n",
       " (255, 258),\n",
       " (256, 257),\n",
       " (-1, -1),\n",
       " (-1, -1),\n",
       " (259, 262),\n",
       " (260, 261),\n",
       " (-1, -1),\n",
       " (-1, -1),\n",
       " (263, 264),\n",
       " (-1, -1),\n",
       " (-1, -1),\n",
       " (266, 269),\n",
       " (267, 268),\n",
       " (-1, -1),\n",
       " (-1, -1),\n",
       " (-1, -1),\n",
       " (-1, -1),\n",
       " (272, 273),\n",
       " (-1, -1),\n",
       " (274, 277),\n",
       " (275, 276),\n",
       " (-1, -1),\n",
       " (-1, -1),\n",
       " (-1, -1),\n",
       " (279, 346),\n",
       " (280, 311),\n",
       " (281, 308),\n",
       " (282, 293),\n",
       " (283, 288),\n",
       " (284, 285),\n",
       " (-1, -1),\n",
       " (286, 287),\n",
       " (-1, -1),\n",
       " (-1, -1),\n",
       " (289, 292),\n",
       " (290, 291),\n",
       " (-1, -1),\n",
       " (-1, -1),\n",
       " (-1, -1),\n",
       " (294, 301),\n",
       " (295, 298),\n",
       " (296, 297),\n",
       " (-1, -1),\n",
       " (-1, -1),\n",
       " (299, 300),\n",
       " (-1, -1),\n",
       " (-1, -1),\n",
       " (302, 305),\n",
       " (303, 304),\n",
       " (-1, -1),\n",
       " (-1, -1),\n",
       " (306, 307),\n",
       " (-1, -1),\n",
       " (-1, -1),\n",
       " (309, 310),\n",
       " (-1, -1),\n",
       " (-1, -1),\n",
       " (312, 319),\n",
       " (313, 314),\n",
       " (-1, -1),\n",
       " (315, 316),\n",
       " (-1, -1),\n",
       " (317, 318),\n",
       " (-1, -1),\n",
       " (-1, -1),\n",
       " (320, 333),\n",
       " (321, 326),\n",
       " (322, 325),\n",
       " (323, 324),\n",
       " (-1, -1),\n",
       " (-1, -1),\n",
       " (-1, -1),\n",
       " (327, 330),\n",
       " (328, 329),\n",
       " (-1, -1),\n",
       " (-1, -1),\n",
       " (331, 332),\n",
       " (-1, -1),\n",
       " (-1, -1),\n",
       " (334, 339),\n",
       " (335, 338),\n",
       " (336, 337),\n",
       " (-1, -1),\n",
       " (-1, -1),\n",
       " (-1, -1),\n",
       " (340, 343),\n",
       " (341, 342),\n",
       " (-1, -1),\n",
       " (-1, -1),\n",
       " (344, 345),\n",
       " (-1, -1),\n",
       " (-1, -1),\n",
       " (347, 350),\n",
       " (348, 349),\n",
       " (-1, -1),\n",
       " (-1, -1),\n",
       " (351, 352),\n",
       " (-1, -1),\n",
       " (-1, -1)]"
      ]
     },
     "execution_count": 68,
     "metadata": {},
     "output_type": "execute_result"
    }
   ],
   "source": [
    "list(zip(dtrmodel.tree_.children_left,dtrmodel.tree_.children_right))"
   ]
  },
  {
   "cell_type": "code",
   "execution_count": 69,
   "metadata": {},
   "outputs": [
    {
     "data": {
      "text/plain": [
       "<matplotlib.figure.Figure at 0x11c634c88>"
      ]
     },
     "execution_count": 69,
     "metadata": {},
     "output_type": "execute_result"
    },
    {
     "data": {
      "image/png": "[encoded data removed]",
      "text/plain": [
       "<matplotlib.figure.Figure at 0x1272857f0>"
      ]
     },
     "metadata": {},
     "output_type": "display_data"
    },
    {
     "data": {
      "text/plain": [
       "<matplotlib.figure.Figure at 0x11c634c88>"
      ]
     },
     "metadata": {},
     "output_type": "display_data"
    }
   ],
   "source": [
    "tree_pred_test = dtrmodel.predict(Xtree_test)\n",
    "plt.scatter(y_test, tree_pred_test,alpha = 0.2)\n",
    "plt.plot(np.linspace(-5,8,10000),np.linspace(-5,8,10000))\n",
    "plt.figure()"
   ]
  },
  {
   "cell_type": "code",
   "execution_count": 70,
   "metadata": {
    "collapsed": true
   },
   "outputs": [],
   "source": [
    "from sklearn.ensemble import RandomForestRegressor"
   ]
  },
  {
   "cell_type": "code",
   "execution_count": 71,
   "metadata": {},
   "outputs": [
    {
     "data": {
      "text/plain": [
       "RandomForestRegressor(bootstrap=True, criterion='mse', max_depth=None,\n",
       "           max_features='auto', max_leaf_nodes=None,\n",
       "           min_impurity_split=1e-07, min_samples_leaf=5,\n",
       "           min_samples_split=2, min_weight_fraction_leaf=0.0,\n",
       "           n_estimators=500, n_jobs=-1, oob_score=False, random_state=None,\n",
       "           verbose=0, warm_start=False)"
      ]
     },
     "execution_count": 71,
     "metadata": {},
     "output_type": "execute_result"
    }
   ],
   "source": [
    "rfmodel1 = RandomForestRegressor(n_estimators = 500, min_samples_leaf=5, n_jobs=-1)\n",
    "rfmodel1.fit(Xtree_train,y_train)"
   ]
  },
  {
   "cell_type": "code",
   "execution_count": 72,
   "metadata": {},
   "outputs": [
    {
     "name": "stdout",
     "output_type": "stream",
     "text": [
      "0.461339551666\n"
     ]
    },
    {
     "data": {
      "text/plain": [
       "0.11709759452326296"
      ]
     },
     "execution_count": 72,
     "metadata": {},
     "output_type": "execute_result"
    }
   ],
   "source": [
    "rf1_test_pred = rfmodel1.predict(Xtree_test)\n",
    "\n",
    "print(rfmodel1.score(Xtree_train,y_train))\n",
    "rfmodel1.score(Xtree_test,y_test)"
   ]
  },
  {
   "cell_type": "code",
   "execution_count": 73,
   "metadata": {},
   "outputs": [
    {
     "name": "stdout",
     "output_type": "stream",
     "text": [
      "None\n",
      "[ 0.37797738  0.26082625  0.          0.08250543  0.10049618  0.07629896\n",
      "  0.10189581]\n"
     ]
    }
   ],
   "source": [
    "print(rfmodel1.max_depth)\n",
    "print(rfmodel1.feature_importances_)"
   ]
  },
  {
   "cell_type": "code",
   "execution_count": 83,
   "metadata": {},
   "outputs": [
    {
     "name": "stdout",
     "output_type": "stream",
     "text": [
      "[('Sch_Dist(mi)', 0.37797737777978746), ('Sch_Dur', 0.26082624513910624), ('TOD_tree', 0.0), ('ORI_rank', 0.082505426891243835), ('DES_rank', 0.10049617638186371), ('Airline_Avg_Delay', 0.076298962352095531), ('DOW_avg_delay', 0.10189581145590283)]\n"
     ]
    }
   ],
   "source": [
    "print(list(zip(Xtree.columns,rfmodel1.feature_importances_)))"
   ]
  },
  {
   "cell_type": "code",
   "execution_count": 74,
   "metadata": {},
   "outputs": [
    {
     "data": {
      "text/plain": [
       "[<matplotlib.lines.Line2D at 0x1204be7b8>]"
      ]
     },
     "execution_count": 74,
     "metadata": {},
     "output_type": "execute_result"
    },
    {
     "data": {
      "image/png": "[encoded data removed]",
      "text/plain": [
       "<matplotlib.figure.Figure at 0x1204be668>"
      ]
     },
     "metadata": {},
     "output_type": "display_data"
    }
   ],
   "source": [
    "plt.scatter(y_test, rf1_test_pred,alpha=.1)\n",
    "plt.plot(np.linspace(-5,8,1000),np.linspace(-5,8,1000))"
   ]
  },
  {
   "cell_type": "code",
   "execution_count": 75,
   "metadata": {},
   "outputs": [
    {
     "data": {
      "text/plain": [
       "RandomForestRegressor(bootstrap=True, criterion='mse', max_depth=None,\n",
       "           max_features='auto', max_leaf_nodes=None,\n",
       "           min_impurity_split=1e-07, min_samples_leaf=50,\n",
       "           min_samples_split=2, min_weight_fraction_leaf=0.0,\n",
       "           n_estimators=500, n_jobs=-1, oob_score=False, random_state=None,\n",
       "           verbose=0, warm_start=False)"
      ]
     },
     "execution_count": 75,
     "metadata": {},
     "output_type": "execute_result"
    }
   ],
   "source": [
    "rfmodel2 = RandomForestRegressor(n_estimators = 500, min_samples_leaf = 50, n_jobs=-1)\n",
    "rfmodel2.fit(Xtree_train,y_train)"
   ]
  },
  {
   "cell_type": "code",
   "execution_count": 76,
   "metadata": {},
   "outputs": [
    {
     "name": "stdout",
     "output_type": "stream",
     "text": [
      "0.142941224874\n"
     ]
    },
    {
     "data": {
      "text/plain": [
       "0.084622005710856096"
      ]
     },
     "execution_count": 76,
     "metadata": {},
     "output_type": "execute_result"
    }
   ],
   "source": [
    "rf2_test_pred = rfmodel2.predict(Xtree_test)\n",
    "print(rfmodel2.score(Xtree_train,y_train))\n",
    "rfmodel2.score(Xtree_test,y_test)"
   ]
  },
  {
   "cell_type": "code",
   "execution_count": 77,
   "metadata": {},
   "outputs": [
    {
     "data": {
      "text/plain": [
       "[<matplotlib.lines.Line2D at 0x1272d79b0>]"
      ]
     },
     "execution_count": 77,
     "metadata": {},
     "output_type": "execute_result"
    },
    {
     "data": {
      "image/png": "[encoded data removed]",
      "text/plain": [
       "<matplotlib.figure.Figure at 0x1272d70b8>"
      ]
     },
     "metadata": {},
     "output_type": "display_data"
    }
   ],
   "source": [
    "plt.scatter(y_test, rf2_test_pred,alpha=.1)\n",
    "plt.plot(np.linspace(-5,8,1000),np.linspace(-5,8,1000))"
   ]
  },
  {
   "cell_type": "code",
   "execution_count": null,
   "metadata": {
    "collapsed": true
   },
   "outputs": [],
   "source": []
  }
 ],
 "metadata": {
  "kernelspec": {
   "display_name": "Python 3",
   "language": "python",
   "name": "python3"
  },
  "language_info": {
   "codemirror_mode": {
    "name": "ipython",
    "version": 3
   },
   "file_extension": ".py",
   "mimetype": "text/x-python",
   "name": "python",
   "nbconvert_exporter": "python",
   "pygments_lexer": "ipython3",
   "version": "3.6.1"
  }
 },
 "nbformat": 4,
 "nbformat_minor": 2
}
