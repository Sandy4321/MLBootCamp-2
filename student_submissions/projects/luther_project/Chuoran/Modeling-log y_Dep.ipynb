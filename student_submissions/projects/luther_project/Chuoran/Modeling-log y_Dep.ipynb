{
 "cells": [
  {
   "cell_type": "code",
   "execution_count": 1,
   "metadata": {
    "collapsed": true
   },
   "outputs": [],
   "source": [
    "import pandas as pd\n",
    "import numpy as np\n",
    "import os\n",
    "from matplotlib import pyplot as plt\n",
    "from copy import deepcopy\n",
    "import seaborn as sns\n",
    "\n",
    "\n",
    "% matplotlib inline"
   ]
  },
  {
   "cell_type": "code",
   "execution_count": 2,
   "metadata": {
    "collapsed": true
   },
   "outputs": [],
   "source": [
    "df_raw = pd.read_csv('sm_flights.csv')\n",
    "df_raw.drop('Unnamed: 0',axis =1, inplace = True)"
   ]
  },
  {
   "cell_type": "code",
   "execution_count": 3,
   "metadata": {},
   "outputs": [
    {
     "name": "stdout",
     "output_type": "stream",
     "text": [
      "<class 'pandas.core.frame.DataFrame'>\n",
      "RangeIndex: 12188 entries, 0 to 12187\n",
      "Data columns (total 32 columns):\n",
      "Flight#              12188 non-null object\n",
      "Taxi(min)            12188 non-null float64\n",
      "Taxi_Arr(min)        12188 non-null float64\n",
      "Speed(mph)           12188 non-null float64\n",
      "Altitute(ft)         12188 non-null float64\n",
      "Act_Dist(mi)         12188 non-null float64\n",
      "Sch_Dist(mi)         12188 non-null float64\n",
      "Act_Dur              12188 non-null float64\n",
      "Sch_Dur              12188 non-null float64\n",
      "Dep_Hr               12188 non-null float64\n",
      "DOW                  12188 non-null int64\n",
      "ORI_rank             12188 non-null int64\n",
      "DES_rank             12188 non-null int64\n",
      "Delay_Dep            12188 non-null float64\n",
      "Delay_Arr            12188 non-null float64\n",
      "Airline              12188 non-null object\n",
      "AAL                  12188 non-null int64\n",
      "DAL                  12188 non-null int64\n",
      "UAL                  12188 non-null int64\n",
      "SWA                  12188 non-null int64\n",
      "JBU                  12188 non-null int64\n",
      "VRD                  12188 non-null int64\n",
      "Airline_Avg_Delay    12188 non-null float64\n",
      "Mon                  12188 non-null int64\n",
      "Tue                  12188 non-null int64\n",
      "Wed                  12188 non-null int64\n",
      "Thu                  12188 non-null int64\n",
      "Fri                  12188 non-null int64\n",
      "Sat                  12188 non-null int64\n",
      "DOW_avg_delay        12188 non-null int64\n",
      "TOD_temp             12188 non-null int64\n",
      "TOD_tree             12188 non-null int64\n",
      "dtypes: float64(12), int64(18), object(2)\n",
      "memory usage: 3.0+ MB\n"
     ]
    }
   ],
   "source": [
    "df_raw.info()"
   ]
  },
  {
   "cell_type": "code",
   "execution_count": 4,
   "metadata": {},
   "outputs": [
    {
     "data": {
      "text/html": [
       "<div>\n",
       "<style>\n",
       "    .dataframe thead tr:only-child th {\n",
       "        text-align: right;\n",
       "    }\n",
       "\n",
       "    .dataframe thead th {\n",
       "        text-align: left;\n",
       "    }\n",
       "\n",
       "    .dataframe tbody tr th {\n",
       "        vertical-align: top;\n",
       "    }\n",
       "</style>\n",
       "<table border=\"1\" class=\"dataframe\">\n",
       "  <thead>\n",
       "    <tr style=\"text-align: right;\">\n",
       "      <th></th>\n",
       "      <th>Flight#</th>\n",
       "      <th>Taxi(min)</th>\n",
       "      <th>Taxi_Arr(min)</th>\n",
       "      <th>Speed(mph)</th>\n",
       "      <th>Altitute(ft)</th>\n",
       "      <th>Act_Dist(mi)</th>\n",
       "      <th>Sch_Dist(mi)</th>\n",
       "      <th>Act_Dur</th>\n",
       "      <th>Sch_Dur</th>\n",
       "      <th>Dep_Hr</th>\n",
       "      <th>...</th>\n",
       "      <th>Airline_Avg_Delay</th>\n",
       "      <th>Mon</th>\n",
       "      <th>Tue</th>\n",
       "      <th>Wed</th>\n",
       "      <th>Thu</th>\n",
       "      <th>Fri</th>\n",
       "      <th>Sat</th>\n",
       "      <th>DOW_avg_delay</th>\n",
       "      <th>TOD_temp</th>\n",
       "      <th>TOD_tree</th>\n",
       "    </tr>\n",
       "  </thead>\n",
       "  <tbody>\n",
       "    <tr>\n",
       "      <th>0</th>\n",
       "      <td>N2437</td>\n",
       "      <td>18.761282</td>\n",
       "      <td>9.222338</td>\n",
       "      <td>587.0</td>\n",
       "      <td>45000.0</td>\n",
       "      <td>1565.0</td>\n",
       "      <td>1662.0</td>\n",
       "      <td>153.0</td>\n",
       "      <td>151.0</td>\n",
       "      <td>16.000000</td>\n",
       "      <td>...</td>\n",
       "      <td>0.0</td>\n",
       "      <td>0</td>\n",
       "      <td>0</td>\n",
       "      <td>1</td>\n",
       "      <td>0</td>\n",
       "      <td>0</td>\n",
       "      <td>0</td>\n",
       "      <td>1</td>\n",
       "      <td>16</td>\n",
       "      <td>0</td>\n",
       "    </tr>\n",
       "    <tr>\n",
       "      <th>1</th>\n",
       "      <td>UAL1450</td>\n",
       "      <td>17.000000</td>\n",
       "      <td>24.000000</td>\n",
       "      <td>517.0</td>\n",
       "      <td>37000.0</td>\n",
       "      <td>1833.0</td>\n",
       "      <td>1844.0</td>\n",
       "      <td>245.0</td>\n",
       "      <td>254.0</td>\n",
       "      <td>9.383333</td>\n",
       "      <td>...</td>\n",
       "      <td>2.0</td>\n",
       "      <td>0</td>\n",
       "      <td>0</td>\n",
       "      <td>0</td>\n",
       "      <td>0</td>\n",
       "      <td>1</td>\n",
       "      <td>0</td>\n",
       "      <td>4</td>\n",
       "      <td>9</td>\n",
       "      <td>0</td>\n",
       "    </tr>\n",
       "    <tr>\n",
       "      <th>2</th>\n",
       "      <td>UAL1450</td>\n",
       "      <td>25.000000</td>\n",
       "      <td>11.000000</td>\n",
       "      <td>519.0</td>\n",
       "      <td>37000.0</td>\n",
       "      <td>1846.0</td>\n",
       "      <td>1788.0</td>\n",
       "      <td>241.0</td>\n",
       "      <td>254.0</td>\n",
       "      <td>9.500000</td>\n",
       "      <td>...</td>\n",
       "      <td>2.0</td>\n",
       "      <td>0</td>\n",
       "      <td>0</td>\n",
       "      <td>0</td>\n",
       "      <td>1</td>\n",
       "      <td>0</td>\n",
       "      <td>0</td>\n",
       "      <td>2</td>\n",
       "      <td>9</td>\n",
       "      <td>0</td>\n",
       "    </tr>\n",
       "    <tr>\n",
       "      <th>3</th>\n",
       "      <td>UAL1450</td>\n",
       "      <td>15.000000</td>\n",
       "      <td>15.000000</td>\n",
       "      <td>521.0</td>\n",
       "      <td>35000.0</td>\n",
       "      <td>1900.0</td>\n",
       "      <td>1892.0</td>\n",
       "      <td>236.0</td>\n",
       "      <td>254.0</td>\n",
       "      <td>9.566667</td>\n",
       "      <td>...</td>\n",
       "      <td>2.0</td>\n",
       "      <td>0</td>\n",
       "      <td>0</td>\n",
       "      <td>1</td>\n",
       "      <td>0</td>\n",
       "      <td>0</td>\n",
       "      <td>0</td>\n",
       "      <td>1</td>\n",
       "      <td>9</td>\n",
       "      <td>0</td>\n",
       "    </tr>\n",
       "    <tr>\n",
       "      <th>4</th>\n",
       "      <td>UAL1450</td>\n",
       "      <td>16.000000</td>\n",
       "      <td>10.000000</td>\n",
       "      <td>520.0</td>\n",
       "      <td>35000.0</td>\n",
       "      <td>1865.0</td>\n",
       "      <td>1743.0</td>\n",
       "      <td>230.0</td>\n",
       "      <td>254.0</td>\n",
       "      <td>9.150000</td>\n",
       "      <td>...</td>\n",
       "      <td>2.0</td>\n",
       "      <td>0</td>\n",
       "      <td>1</td>\n",
       "      <td>0</td>\n",
       "      <td>0</td>\n",
       "      <td>0</td>\n",
       "      <td>0</td>\n",
       "      <td>6</td>\n",
       "      <td>9</td>\n",
       "      <td>0</td>\n",
       "    </tr>\n",
       "  </tbody>\n",
       "</table>\n",
       "<p>5 rows × 32 columns</p>\n",
       "</div>"
      ],
      "text/plain": [
       "   Flight#  Taxi(min)  Taxi_Arr(min)  Speed(mph)  Altitute(ft)  Act_Dist(mi)  \\\n",
       "0    N2437  18.761282       9.222338       587.0       45000.0        1565.0   \n",
       "1  UAL1450  17.000000      24.000000       517.0       37000.0        1833.0   \n",
       "2  UAL1450  25.000000      11.000000       519.0       37000.0        1846.0   \n",
       "3  UAL1450  15.000000      15.000000       521.0       35000.0        1900.0   \n",
       "4  UAL1450  16.000000      10.000000       520.0       35000.0        1865.0   \n",
       "\n",
       "   Sch_Dist(mi)  Act_Dur  Sch_Dur     Dep_Hr    ...     Airline_Avg_Delay  \\\n",
       "0        1662.0    153.0    151.0  16.000000    ...                   0.0   \n",
       "1        1844.0    245.0    254.0   9.383333    ...                   2.0   \n",
       "2        1788.0    241.0    254.0   9.500000    ...                   2.0   \n",
       "3        1892.0    236.0    254.0   9.566667    ...                   2.0   \n",
       "4        1743.0    230.0    254.0   9.150000    ...                   2.0   \n",
       "\n",
       "   Mon  Tue  Wed  Thu Fri  Sat  DOW_avg_delay  TOD_temp  TOD_tree  \n",
       "0    0    0    1    0   0    0              1        16         0  \n",
       "1    0    0    0    0   1    0              4         9         0  \n",
       "2    0    0    0    1   0    0              2         9         0  \n",
       "3    0    0    1    0   0    0              1         9         0  \n",
       "4    0    1    0    0   0    0              6         9         0  \n",
       "\n",
       "[5 rows x 32 columns]"
      ]
     },
     "execution_count": 4,
     "metadata": {},
     "output_type": "execute_result"
    }
   ],
   "source": [
    "df_raw.head()"
   ]
  },
  {
   "cell_type": "code",
   "execution_count": 5,
   "metadata": {},
   "outputs": [
    {
     "name": "stdout",
     "output_type": "stream",
     "text": [
      "<class 'pandas.core.frame.DataFrame'>\n",
      "RangeIndex: 12188 entries, 0 to 12187\n",
      "Data columns (total 32 columns):\n",
      "Flight#              12188 non-null object\n",
      "Taxi(min)            12188 non-null float64\n",
      "Taxi_Arr(min)        12188 non-null float64\n",
      "Speed(mph)           12188 non-null float64\n",
      "Altitute(ft)         12188 non-null float64\n",
      "Act_Dist(mi)         12188 non-null float64\n",
      "Sch_Dist(mi)         12188 non-null float64\n",
      "Act_Dur              12188 non-null float64\n",
      "Sch_Dur              12188 non-null float64\n",
      "Dep_Hr               12188 non-null float64\n",
      "DOW                  12188 non-null int64\n",
      "ORI_rank             12188 non-null int64\n",
      "DES_rank             12188 non-null int64\n",
      "Delay_Dep            12188 non-null float64\n",
      "Delay_Arr            12188 non-null float64\n",
      "Airline              12188 non-null object\n",
      "AAL                  12188 non-null int64\n",
      "DAL                  12188 non-null int64\n",
      "UAL                  12188 non-null int64\n",
      "SWA                  12188 non-null int64\n",
      "JBU                  12188 non-null int64\n",
      "VRD                  12188 non-null int64\n",
      "Airline_Avg_Delay    12188 non-null float64\n",
      "Mon                  12188 non-null int64\n",
      "Tue                  12188 non-null int64\n",
      "Wed                  12188 non-null int64\n",
      "Thu                  12188 non-null int64\n",
      "Fri                  12188 non-null int64\n",
      "Sat                  12188 non-null int64\n",
      "DOW_avg_delay        12188 non-null int64\n",
      "TOD_temp             12188 non-null int64\n",
      "TOD_tree             12188 non-null int64\n",
      "dtypes: float64(12), int64(18), object(2)\n",
      "memory usage: 3.0+ MB\n"
     ]
    }
   ],
   "source": [
    "df_raw.info()"
   ]
  },
  {
   "cell_type": "code",
   "execution_count": 6,
   "metadata": {},
   "outputs": [
    {
     "name": "stderr",
     "output_type": "stream",
     "text": [
      "/Users/Chuoran/anaconda/lib/python3.6/site-packages/sklearn/cross_validation.py:44: DeprecationWarning: This module was deprecated in version 0.18 in favor of the model_selection module into which all the refactored classes and functions are moved. Also note that the interface of the new CV iterators are different from that of this module. This module will be removed in 0.20.\n",
      "  \"This module will be removed in 0.20.\", DeprecationWarning)\n"
     ]
    }
   ],
   "source": [
    "from sklearn.metrics import mean_absolute_error, mean_squared_error\n",
    "from sklearn.cross_validation import train_test_split\n",
    "from sklearn.linear_model import LinearRegression, Lasso, LassoCV\n",
    "from sklearn.linear_model import Lasso, Ridge, LassoCV, RidgeCV"
   ]
  },
  {
   "cell_type": "code",
   "execution_count": 7,
   "metadata": {},
   "outputs": [
    {
     "data": {
      "text/plain": [
       "[(0, 'Flight#'),\n",
       " (1, 'Taxi(min)'),\n",
       " (2, 'Taxi_Arr(min)'),\n",
       " (3, 'Speed(mph)'),\n",
       " (4, 'Altitute(ft)'),\n",
       " (5, 'Act_Dist(mi)'),\n",
       " (6, 'Sch_Dist(mi)'),\n",
       " (7, 'Act_Dur'),\n",
       " (8, 'Sch_Dur'),\n",
       " (9, 'Dep_Hr'),\n",
       " (10, 'DOW'),\n",
       " (11, 'ORI_rank'),\n",
       " (12, 'DES_rank'),\n",
       " (13, 'Delay_Dep'),\n",
       " (14, 'Delay_Arr'),\n",
       " (15, 'Airline'),\n",
       " (16, 'AAL'),\n",
       " (17, 'DAL'),\n",
       " (18, 'UAL'),\n",
       " (19, 'SWA'),\n",
       " (20, 'JBU'),\n",
       " (21, 'VRD'),\n",
       " (22, 'Airline_Avg_Delay'),\n",
       " (23, 'Mon'),\n",
       " (24, 'Tue'),\n",
       " (25, 'Wed'),\n",
       " (26, 'Thu'),\n",
       " (27, 'Fri'),\n",
       " (28, 'Sat'),\n",
       " (29, 'DOW_avg_delay'),\n",
       " (30, 'TOD_temp'),\n",
       " (31, 'TOD_tree')]"
      ]
     },
     "execution_count": 7,
     "metadata": {},
     "output_type": "execute_result"
    }
   ],
   "source": [
    "list(zip(range(len(df_raw.columns)),df_raw.columns))"
   ]
  },
  {
   "cell_type": "code",
   "execution_count": 8,
   "metadata": {
    "collapsed": true
   },
   "outputs": [],
   "source": [
    "df_log = (df_raw.loc[:,['Flight#','Sch_Dist(mi)','Sch_Dur','TOD_tree'\n",
    "                        ,'ORI_rank','DES_rank'\n",
    "                        ,'AAL','DAL','UAL','SWA','JBU','VRD','Airline_Avg_Delay'\n",
    "                        ,'Mon','Tue','Wed','Thu','Fri','Sat','DOW_avg_delay'\n",
    "                       ,'Delay_Dep','Delay_Arr']])"
   ]
  },
  {
   "cell_type": "code",
   "execution_count": 9,
   "metadata": {},
   "outputs": [],
   "source": [
    "df_log['Delay_Dep_Log'] = df_log['Delay_Dep'].apply(lambda y: 0 if y < 0 else np.log(1+ y) )"
   ]
  },
  {
   "cell_type": "code",
   "execution_count": 10,
   "metadata": {},
   "outputs": [
    {
     "data": {
      "text/html": [
       "<div>\n",
       "<style>\n",
       "    .dataframe thead tr:only-child th {\n",
       "        text-align: right;\n",
       "    }\n",
       "\n",
       "    .dataframe thead th {\n",
       "        text-align: left;\n",
       "    }\n",
       "\n",
       "    .dataframe tbody tr th {\n",
       "        vertical-align: top;\n",
       "    }\n",
       "</style>\n",
       "<table border=\"1\" class=\"dataframe\">\n",
       "  <thead>\n",
       "    <tr style=\"text-align: right;\">\n",
       "      <th></th>\n",
       "      <th>Flight#</th>\n",
       "      <th>Sch_Dist(mi)</th>\n",
       "      <th>Sch_Dur</th>\n",
       "      <th>TOD_tree</th>\n",
       "      <th>ORI_rank</th>\n",
       "      <th>DES_rank</th>\n",
       "      <th>AAL</th>\n",
       "      <th>DAL</th>\n",
       "      <th>UAL</th>\n",
       "      <th>SWA</th>\n",
       "      <th>...</th>\n",
       "      <th>Mon</th>\n",
       "      <th>Tue</th>\n",
       "      <th>Wed</th>\n",
       "      <th>Thu</th>\n",
       "      <th>Fri</th>\n",
       "      <th>Sat</th>\n",
       "      <th>DOW_avg_delay</th>\n",
       "      <th>Delay_Dep</th>\n",
       "      <th>Delay_Arr</th>\n",
       "      <th>Delay_Dep_Log</th>\n",
       "    </tr>\n",
       "  </thead>\n",
       "  <tbody>\n",
       "    <tr>\n",
       "      <th>0</th>\n",
       "      <td>N2437</td>\n",
       "      <td>1662.0</td>\n",
       "      <td>151.0</td>\n",
       "      <td>0</td>\n",
       "      <td>5</td>\n",
       "      <td>18</td>\n",
       "      <td>0</td>\n",
       "      <td>0</td>\n",
       "      <td>0</td>\n",
       "      <td>0</td>\n",
       "      <td>...</td>\n",
       "      <td>0</td>\n",
       "      <td>0</td>\n",
       "      <td>1</td>\n",
       "      <td>0</td>\n",
       "      <td>0</td>\n",
       "      <td>0</td>\n",
       "      <td>1</td>\n",
       "      <td>2.0</td>\n",
       "      <td>4.0</td>\n",
       "      <td>1.098612</td>\n",
       "    </tr>\n",
       "    <tr>\n",
       "      <th>1</th>\n",
       "      <td>UAL1450</td>\n",
       "      <td>1844.0</td>\n",
       "      <td>254.0</td>\n",
       "      <td>0</td>\n",
       "      <td>2</td>\n",
       "      <td>1</td>\n",
       "      <td>0</td>\n",
       "      <td>0</td>\n",
       "      <td>1</td>\n",
       "      <td>0</td>\n",
       "      <td>...</td>\n",
       "      <td>0</td>\n",
       "      <td>0</td>\n",
       "      <td>0</td>\n",
       "      <td>0</td>\n",
       "      <td>1</td>\n",
       "      <td>0</td>\n",
       "      <td>4</td>\n",
       "      <td>7.0</td>\n",
       "      <td>-2.0</td>\n",
       "      <td>2.079442</td>\n",
       "    </tr>\n",
       "    <tr>\n",
       "      <th>2</th>\n",
       "      <td>UAL1450</td>\n",
       "      <td>1788.0</td>\n",
       "      <td>254.0</td>\n",
       "      <td>0</td>\n",
       "      <td>2</td>\n",
       "      <td>1</td>\n",
       "      <td>0</td>\n",
       "      <td>0</td>\n",
       "      <td>1</td>\n",
       "      <td>0</td>\n",
       "      <td>...</td>\n",
       "      <td>0</td>\n",
       "      <td>0</td>\n",
       "      <td>0</td>\n",
       "      <td>1</td>\n",
       "      <td>0</td>\n",
       "      <td>0</td>\n",
       "      <td>2</td>\n",
       "      <td>5.0</td>\n",
       "      <td>-8.0</td>\n",
       "      <td>1.791759</td>\n",
       "    </tr>\n",
       "  </tbody>\n",
       "</table>\n",
       "<p>3 rows × 23 columns</p>\n",
       "</div>"
      ],
      "text/plain": [
       "   Flight#  Sch_Dist(mi)  Sch_Dur  TOD_tree  ORI_rank  DES_rank  AAL  DAL  \\\n",
       "0    N2437        1662.0    151.0         0         5        18    0    0   \n",
       "1  UAL1450        1844.0    254.0         0         2         1    0    0   \n",
       "2  UAL1450        1788.0    254.0         0         2         1    0    0   \n",
       "\n",
       "   UAL  SWA      ...        Mon  Tue  Wed  Thu  Fri  Sat  DOW_avg_delay  \\\n",
       "0    0    0      ...          0    0    1    0    0    0              1   \n",
       "1    1    0      ...          0    0    0    0    1    0              4   \n",
       "2    1    0      ...          0    0    0    1    0    0              2   \n",
       "\n",
       "   Delay_Dep  Delay_Arr  Delay_Dep_Log  \n",
       "0        2.0        4.0       1.098612  \n",
       "1        7.0       -2.0       2.079442  \n",
       "2        5.0       -8.0       1.791759  \n",
       "\n",
       "[3 rows x 23 columns]"
      ]
     },
     "execution_count": 10,
     "metadata": {},
     "output_type": "execute_result"
    }
   ],
   "source": [
    "df_log.head(3)"
   ]
  },
  {
   "cell_type": "code",
   "execution_count": 11,
   "metadata": {},
   "outputs": [
    {
     "name": "stdout",
     "output_type": "stream",
     "text": [
      "0    1.098612\n",
      "1    2.079442\n",
      "2    1.791759\n",
      "Name: Delay_Dep_Log, dtype: float64\n"
     ]
    },
    {
     "data": {
      "text/html": [
       "<div>\n",
       "<style>\n",
       "    .dataframe thead tr:only-child th {\n",
       "        text-align: right;\n",
       "    }\n",
       "\n",
       "    .dataframe thead th {\n",
       "        text-align: left;\n",
       "    }\n",
       "\n",
       "    .dataframe tbody tr th {\n",
       "        vertical-align: top;\n",
       "    }\n",
       "</style>\n",
       "<table border=\"1\" class=\"dataframe\">\n",
       "  <thead>\n",
       "    <tr style=\"text-align: right;\">\n",
       "      <th></th>\n",
       "      <th>Sch_Dist(mi)</th>\n",
       "      <th>Sch_Dur</th>\n",
       "      <th>ORI_rank</th>\n",
       "      <th>DES_rank</th>\n",
       "      <th>AAL</th>\n",
       "      <th>DAL</th>\n",
       "      <th>UAL</th>\n",
       "      <th>SWA</th>\n",
       "      <th>JBU</th>\n",
       "      <th>VRD</th>\n",
       "      <th>Mon</th>\n",
       "      <th>Tue</th>\n",
       "      <th>Wed</th>\n",
       "      <th>Thu</th>\n",
       "      <th>Fri</th>\n",
       "      <th>Sat</th>\n",
       "    </tr>\n",
       "  </thead>\n",
       "  <tbody>\n",
       "    <tr>\n",
       "      <th>0</th>\n",
       "      <td>1662.0</td>\n",
       "      <td>151.0</td>\n",
       "      <td>5</td>\n",
       "      <td>18</td>\n",
       "      <td>0</td>\n",
       "      <td>0</td>\n",
       "      <td>0</td>\n",
       "      <td>0</td>\n",
       "      <td>0</td>\n",
       "      <td>0</td>\n",
       "      <td>0</td>\n",
       "      <td>0</td>\n",
       "      <td>1</td>\n",
       "      <td>0</td>\n",
       "      <td>0</td>\n",
       "      <td>0</td>\n",
       "    </tr>\n",
       "    <tr>\n",
       "      <th>1</th>\n",
       "      <td>1844.0</td>\n",
       "      <td>254.0</td>\n",
       "      <td>2</td>\n",
       "      <td>1</td>\n",
       "      <td>0</td>\n",
       "      <td>0</td>\n",
       "      <td>1</td>\n",
       "      <td>0</td>\n",
       "      <td>0</td>\n",
       "      <td>0</td>\n",
       "      <td>0</td>\n",
       "      <td>0</td>\n",
       "      <td>0</td>\n",
       "      <td>0</td>\n",
       "      <td>1</td>\n",
       "      <td>0</td>\n",
       "    </tr>\n",
       "    <tr>\n",
       "      <th>2</th>\n",
       "      <td>1788.0</td>\n",
       "      <td>254.0</td>\n",
       "      <td>2</td>\n",
       "      <td>1</td>\n",
       "      <td>0</td>\n",
       "      <td>0</td>\n",
       "      <td>1</td>\n",
       "      <td>0</td>\n",
       "      <td>0</td>\n",
       "      <td>0</td>\n",
       "      <td>0</td>\n",
       "      <td>0</td>\n",
       "      <td>0</td>\n",
       "      <td>1</td>\n",
       "      <td>0</td>\n",
       "      <td>0</td>\n",
       "    </tr>\n",
       "  </tbody>\n",
       "</table>\n",
       "</div>"
      ],
      "text/plain": [
       "   Sch_Dist(mi)  Sch_Dur  ORI_rank  DES_rank  AAL  DAL  UAL  SWA  JBU  VRD  \\\n",
       "0        1662.0    151.0         5        18    0    0    0    0    0    0   \n",
       "1        1844.0    254.0         2         1    0    0    1    0    0    0   \n",
       "2        1788.0    254.0         2         1    0    0    1    0    0    0   \n",
       "\n",
       "   Mon  Tue  Wed  Thu  Fri  Sat  \n",
       "0    0    0    1    0    0    0  \n",
       "1    0    0    0    0    1    0  \n",
       "2    0    0    0    1    0    0  "
      ]
     },
     "execution_count": 11,
     "metadata": {},
     "output_type": "execute_result"
    }
   ],
   "source": [
    "X = (df_log.loc[:,['Sch_Dist(mi)','Sch_Dur'\n",
    "                        ,'ORI_rank','DES_rank'\n",
    "                        ,'AAL','DAL','UAL','SWA','JBU','VRD'\n",
    "                        ,'Mon','Tue','Wed','Thu','Fri','Sat'\n",
    "                       ]])\n",
    "Xtree = (df_log.loc[:,['Sch_Dist(mi)','Sch_Dur','TOD_tree'\n",
    "                        ,'ORI_rank','DES_rank'\n",
    "                        ,'Airline_Avg_Delay'\n",
    "                        ,'DOW_avg_delay'\n",
    "                       ]])\n",
    "y = df_log.loc[:,'Delay_Dep_Log']\n",
    "print(y[:3])\n",
    "X.head(3)"
   ]
  },
  {
   "cell_type": "code",
   "execution_count": 12,
   "metadata": {
    "collapsed": true
   },
   "outputs": [],
   "source": [
    "X_train, X_test, Xtree_train, Xtree_test, y_train, y_test = train_test_split(X, Xtree, y, test_size=0.15,random_state=42)"
   ]
  },
  {
   "cell_type": "code",
   "execution_count": 13,
   "metadata": {},
   "outputs": [
    {
     "data": {
      "text/plain": [
       "LinearRegression(copy_X=True, fit_intercept=True, n_jobs=1, normalize=False)"
      ]
     },
     "execution_count": 13,
     "metadata": {},
     "output_type": "execute_result"
    }
   ],
   "source": [
    "lr_model = LinearRegression()\n",
    "lr_model.fit(X_train,y_train)"
   ]
  },
  {
   "cell_type": "code",
   "execution_count": 14,
   "metadata": {
    "scrolled": true
   },
   "outputs": [
    {
     "data": {
      "text/plain": [
       "[('Sch_Dist(mi)', 6.5591988083173931e-05),\n",
       " ('Sch_Dur', -0.00055231914279192337),\n",
       " ('ORI_rank', -0.0026852666835941764),\n",
       " ('DES_rank', 0.0065476490283749803),\n",
       " ('AAL', -0.42969036694004592),\n",
       " ('DAL', -0.39701678671213159),\n",
       " ('UAL', -0.46047717528960019),\n",
       " ('SWA', -0.095170180267903692),\n",
       " ('JBU', 0.0099030950461151887),\n",
       " ('VRD', -0.3185194452797474),\n",
       " ('Mon', 0.092354393249983235),\n",
       " ('Tue', 0.12182493009812612),\n",
       " ('Wed', 0.0067427753403244972),\n",
       " ('Thu', 0.093332623445672086),\n",
       " ('Fri', 0.12622039877722155),\n",
       " ('Sat', -0.16562768527610827)]"
      ]
     },
     "execution_count": 14,
     "metadata": {},
     "output_type": "execute_result"
    }
   ],
   "source": [
    "list(zip(X.columns,lr_model.coef_))"
   ]
  },
  {
   "cell_type": "code",
   "execution_count": 15,
   "metadata": {},
   "outputs": [
    {
     "name": "stdout",
     "output_type": "stream",
     "text": [
      "0.0207978980863\n"
     ]
    },
    {
     "data": {
      "text/plain": [
       "1.4861681922281436"
      ]
     },
     "execution_count": 15,
     "metadata": {},
     "output_type": "execute_result"
    }
   ],
   "source": [
    "test_predict_lr_model = lr_model.predict(X_test)\n",
    "print(lr_model.score(X_test, y_test))\n",
    "np.sqrt(np.mean((test_predict_lr_model - y_test)**2))"
   ]
  },
  {
   "cell_type": "code",
   "execution_count": 16,
   "metadata": {},
   "outputs": [
    {
     "data": {
      "text/plain": [
       "Lasso(alpha=0.1, copy_X=True, fit_intercept=True, max_iter=1000,\n",
       "   normalize=False, positive=False, precompute=False, random_state=None,\n",
       "   selection='cyclic', tol=0.0001, warm_start=False)"
      ]
     },
     "execution_count": 16,
     "metadata": {},
     "output_type": "execute_result"
    }
   ],
   "source": [
    "ls_model = Lasso(alpha = 0.1)\n",
    "ls_model.fit(X_train,y_train)"
   ]
  },
  {
   "cell_type": "code",
   "execution_count": 17,
   "metadata": {},
   "outputs": [
    {
     "data": {
      "text/plain": [
       "[('Sch_Dist(mi)', 5.2594372441888634e-05),\n",
       " ('Sch_Dur', -0.00090654948798780119),\n",
       " ('ORI_rank', 0.0),\n",
       " ('DES_rank', 0.0043117663357321477),\n",
       " ('AAL', -0.0),\n",
       " ('DAL', -0.0),\n",
       " ('UAL', -0.0),\n",
       " ('SWA', 0.0),\n",
       " ('JBU', 0.0),\n",
       " ('VRD', -0.0),\n",
       " ('Mon', 0.0),\n",
       " ('Tue', 0.0),\n",
       " ('Wed', -0.0),\n",
       " ('Thu', 0.0),\n",
       " ('Fri', 0.0),\n",
       " ('Sat', -0.0)]"
      ]
     },
     "execution_count": 17,
     "metadata": {},
     "output_type": "execute_result"
    }
   ],
   "source": [
    "list(zip(X_train.columns,ls_model.coef_))"
   ]
  },
  {
   "cell_type": "code",
   "execution_count": 18,
   "metadata": {},
   "outputs": [
    {
     "data": {
      "text/plain": [
       "0.0026671145588402778"
      ]
     },
     "execution_count": 18,
     "metadata": {},
     "output_type": "execute_result"
    }
   ],
   "source": [
    "ls_model.score(X_test, y_test)"
   ]
  },
  {
   "cell_type": "code",
   "execution_count": 19,
   "metadata": {
    "collapsed": true
   },
   "outputs": [],
   "source": [
    "from sklearn.pipeline import Pipeline\n",
    "from sklearn.preprocessing import StandardScaler"
   ]
  },
  {
   "cell_type": "code",
   "execution_count": 20,
   "metadata": {
    "collapsed": true
   },
   "outputs": [],
   "source": [
    "std = StandardScaler()\n",
    "std.fit(X_train)\n",
    "X_tr = std.transform(X_train)\n",
    "X_te = std.transform(X_test)"
   ]
  },
  {
   "cell_type": "code",
   "execution_count": 21,
   "metadata": {},
   "outputs": [
    {
     "data": {
      "text/plain": [
       "LassoCV(alphas=array([  1.00000e-03,   1.08437e-03, ...,   9.22198e+03,   1.00000e+04]),\n",
       "    copy_X=True, cv=5, eps=0.001, fit_intercept=True, max_iter=1000,\n",
       "    n_alphas=100, n_jobs=1, normalize=False, positive=False,\n",
       "    precompute='auto', random_state=None, selection='cyclic', tol=0.0001,\n",
       "    verbose=False)"
      ]
     },
     "execution_count": 21,
     "metadata": {},
     "output_type": "execute_result"
    }
   ],
   "source": [
    "alphavec = 10**(np.linspace(-3,4,200))\n",
    "ls_model_std = LassoCV(alphas = alphavec, cv=5)\n",
    "ls_model_std.fit(X_tr,y_train)"
   ]
  },
  {
   "cell_type": "code",
   "execution_count": 22,
   "metadata": {},
   "outputs": [
    {
     "data": {
      "text/plain": [
       "0.020431621293778623"
      ]
     },
     "execution_count": 22,
     "metadata": {},
     "output_type": "execute_result"
    }
   ],
   "source": [
    "ls_model_std.score(X_te, y_test)"
   ]
  },
  {
   "cell_type": "code",
   "execution_count": 23,
   "metadata": {},
   "outputs": [
    {
     "name": "stdout",
     "output_type": "stream",
     "text": [
      "0.0039626886387\n"
     ]
    },
    {
     "data": {
      "text/plain": [
       "[('Sch_Dist(mi)', -0.0),\n",
       " ('Sch_Dur', -0.0010177806090875638),\n",
       " ('ORI_rank', -0.011866344142212505),\n",
       " ('DES_rank', 0.038893072437123762),\n",
       " ('AAL', -0.17457504317115549),\n",
       " ('DAL', -0.14581720257031261),\n",
       " ('UAL', -0.16076322732702802),\n",
       " ('SWA', -0.010855583651086716),\n",
       " ('JBU', 0.0028146262893954414),\n",
       " ('VRD', -0.048968009258850753),\n",
       " ('Mon', 0.016288282483657809),\n",
       " ('Tue', 0.028734466460198487),\n",
       " ('Wed', -0.0076336474935972424),\n",
       " ('Thu', 0.018761766247582017),\n",
       " ('Fri', 0.031354425648416076),\n",
       " ('Sat', -0.047205375901119666)]"
      ]
     },
     "execution_count": 23,
     "metadata": {},
     "output_type": "execute_result"
    }
   ],
   "source": [
    "print(ls_model_std.alpha_)\n",
    "list(zip(X_train.columns,ls_model_std.coef_))"
   ]
  },
  {
   "cell_type": "code",
   "execution_count": 24,
   "metadata": {
    "collapsed": true
   },
   "outputs": [],
   "source": [
    "from sklearn import tree"
   ]
  },
  {
   "cell_type": "code",
   "execution_count": 25,
   "metadata": {},
   "outputs": [
    {
     "data": {
      "text/plain": [
       "DecisionTreeRegressor(criterion='mse', max_depth=10, max_features=None,\n",
       "           max_leaf_nodes=None, min_impurity_split=1e-07,\n",
       "           min_samples_leaf=20, min_samples_split=10,\n",
       "           min_weight_fraction_leaf=0.0, presort=False, random_state=None,\n",
       "           splitter='best')"
      ]
     },
     "execution_count": 25,
     "metadata": {},
     "output_type": "execute_result"
    }
   ],
   "source": [
    "dtrmodel = tree.DecisionTreeRegressor(min_samples_split=10, max_depth=10, min_samples_leaf=20)\n",
    "dtrmodel.fit(Xtree_train,y_train)"
   ]
  },
  {
   "cell_type": "code",
   "execution_count": 26,
   "metadata": {},
   "outputs": [
    {
     "data": {
      "text/plain": [
       "<sklearn.tree._tree.Tree at 0x1139b9cc8>"
      ]
     },
     "execution_count": 26,
     "metadata": {},
     "output_type": "execute_result"
    }
   ],
   "source": [
    "dtrmodel.tree_"
   ]
  },
  {
   "cell_type": "code",
   "execution_count": 27,
   "metadata": {},
   "outputs": [
    {
     "data": {
      "text/plain": [
       "[(5, 0.5),\n",
       " (1, 89.5),\n",
       " (0, 475.0),\n",
       " (3, 18.5),\n",
       " (1, 60.5),\n",
       " (0, 409.0),\n",
       " (3, 5.0),\n",
       " (-2, -2.0),\n",
       " (-2, -2.0),\n",
       " (-2, -2.0),\n",
       " (4, 17.5),\n",
       " (0, 350.0),\n",
       " (0, 317.0),\n",
       " (4, 5.5),\n",
       " (1, 80.5),\n",
       " (-2, -2.0),\n",
       " (-2, -2.0),\n",
       " (-2, -2.0),\n",
       " (0, 328.5),\n",
       " (-2, -2.0),\n",
       " (-2, -2.0),\n",
       " (-2, -2.0),\n",
       " (-2, -2.0),\n",
       " (6, 3.0),\n",
       " (-2, -2.0),\n",
       " (-2, -2.0),\n",
       " (4, 15.0),\n",
       " (-2, -2.0),\n",
       " (0, 530.0),\n",
       " (-2, -2.0),\n",
       " (-2, -2.0),\n",
       " (3, 18.5),\n",
       " (4, 13.5),\n",
       " (1, 143.5),\n",
       " (4, 11.5),\n",
       " (4, 6.5),\n",
       " (0, 941.5),\n",
       " (4, 5.5),\n",
       " (0, 403.5),\n",
       " (-2, -2.0),\n",
       " (-2, -2.0),\n",
       " (-2, -2.0),\n",
       " (-2, -2.0),\n",
       " (3, 4.5),\n",
       " (4, 9.5),\n",
       " (-2, -2.0),\n",
       " (6, 3.0),\n",
       " (-2, -2.0),\n",
       " (-2, -2.0),\n",
       " (4, 7.5),\n",
       " (-2, -2.0),\n",
       " (0, 1026.0),\n",
       " (-2, -2.0),\n",
       " (-2, -2.0),\n",
       " (0, 746.5),\n",
       " (-2, -2.0),\n",
       " (-2, -2.0),\n",
       " (3, 5.5),\n",
       " (1, 269.0),\n",
       " (3, 1.5),\n",
       " (0, 1508.5),\n",
       " (4, 7.0),\n",
       " (-2, -2.0),\n",
       " (-2, -2.0),\n",
       " (-2, -2.0),\n",
       " (1, 151.5),\n",
       " (-2, -2.0),\n",
       " (0, 1148.0),\n",
       " (-2, -2.0),\n",
       " (-2, -2.0),\n",
       " (-2, -2.0),\n",
       " (0, 958.5),\n",
       " (4, 5.5),\n",
       " (6, 1.5),\n",
       " (-2, -2.0),\n",
       " (-2, -2.0),\n",
       " (-2, -2.0),\n",
       " (4, 6.5),\n",
       " (4, 5.5),\n",
       " (0, 1489.5),\n",
       " (-2, -2.0),\n",
       " (-2, -2.0),\n",
       " (-2, -2.0),\n",
       " (3, 9.5),\n",
       " (-2, -2.0),\n",
       " (0, 1091.5),\n",
       " (-2, -2.0),\n",
       " (-2, -2.0),\n",
       " (0, 1368.5),\n",
       " (4, 16.5),\n",
       " (0, 761.5),\n",
       " (0, 525.0),\n",
       " (-2, -2.0),\n",
       " (-2, -2.0),\n",
       " (0, 1223.0),\n",
       " (4, 14.5),\n",
       " (-2, -2.0),\n",
       " (1, 155.0),\n",
       " (-2, -2.0),\n",
       " (-2, -2.0),\n",
       " (-2, -2.0),\n",
       " (1, 129.0),\n",
       " (0, 567.5),\n",
       " (-2, -2.0),\n",
       " (-2, -2.0),\n",
       " (1, 170.5),\n",
       " (0, 1060.5),\n",
       " (-2, -2.0),\n",
       " (-2, -2.0),\n",
       " (-2, -2.0),\n",
       " (1, 228.5),\n",
       " (0, 1540.5),\n",
       " (-2, -2.0),\n",
       " (-2, -2.0),\n",
       " (-2, -2.0),\n",
       " (0, 609.5),\n",
       " (-2, -2.0),\n",
       " (1, 198.0),\n",
       " (0, 777.0),\n",
       " (-2, -2.0),\n",
       " (0, 828.0),\n",
       " (-2, -2.0),\n",
       " (-2, -2.0),\n",
       " (-2, -2.0),\n",
       " (1, 375.5),\n",
       " (5, 3.5),\n",
       " (3, 6.5),\n",
       " (0, 1611.0),\n",
       " (5, 1.5),\n",
       " (4, 17.5),\n",
       " (4, 15.5),\n",
       " (0, 459.5),\n",
       " (1, 92.5),\n",
       " (-2, -2.0),\n",
       " (-2, -2.0),\n",
       " (0, 1002.5),\n",
       " (-2, -2.0),\n",
       " (-2, -2.0),\n",
       " (6, 3.0),\n",
       " (-2, -2.0),\n",
       " (-2, -2.0),\n",
       " (6, 4.5),\n",
       " (1, 132.5),\n",
       " (-2, -2.0),\n",
       " (-2, -2.0),\n",
       " (-2, -2.0),\n",
       " (4, 2.5),\n",
       " (5, 2.5),\n",
       " (1, 145.5),\n",
       " (-2, -2.0),\n",
       " (1, 149.5),\n",
       " (-2, -2.0),\n",
       " (-2, -2.0),\n",
       " (6, 1.5),\n",
       " (-2, -2.0),\n",
       " (0, 948.5),\n",
       " (-2, -2.0),\n",
       " (-2, -2.0),\n",
       " (6, 1.5),\n",
       " (1, 207.5),\n",
       " (0, 825.5),\n",
       " (-2, -2.0),\n",
       " (-2, -2.0),\n",
       " (-2, -2.0),\n",
       " (4, 14.5),\n",
       " (3, 2.5),\n",
       " (-2, -2.0),\n",
       " (-2, -2.0),\n",
       " (3, 1.5),\n",
       " (-2, -2.0),\n",
       " (-2, -2.0),\n",
       " (4, 0.5),\n",
       " (1, 259.5),\n",
       " (-2, -2.0),\n",
       " (0, 2116.5),\n",
       " (-2, -2.0),\n",
       " (-2, -2.0),\n",
       " (0, 1864.5),\n",
       " (1, 274.5),\n",
       " (1, 239.5),\n",
       " (1, 222.5),\n",
       " (-2, -2.0),\n",
       " (-2, -2.0),\n",
       " (1, 251.5),\n",
       " (-2, -2.0),\n",
       " (-2, -2.0),\n",
       " (-2, -2.0),\n",
       " (3, 2.5),\n",
       " (4, 12.5),\n",
       " (0, 1906.5),\n",
       " (-2, -2.0),\n",
       " (-2, -2.0),\n",
       " (0, 2533.5),\n",
       " (-2, -2.0),\n",
       " (-2, -2.0),\n",
       " (4, 3.0),\n",
       " (0, 2531.5),\n",
       " (-2, -2.0),\n",
       " (-2, -2.0),\n",
       " (1, 338.0),\n",
       " (-2, -2.0),\n",
       " (-2, -2.0),\n",
       " (6, 0.5),\n",
       " (1, 119.5),\n",
       " (4, 8.5),\n",
       " (-2, -2.0),\n",
       " (-2, -2.0),\n",
       " (1, 146.5),\n",
       " (-2, -2.0),\n",
       " (5, 2.5),\n",
       " (4, 12.5),\n",
       " (0, 1571.5),\n",
       " (-2, -2.0),\n",
       " (-2, -2.0),\n",
       " (-2, -2.0),\n",
       " (3, 13.5),\n",
       " (4, 3.5),\n",
       " (-2, -2.0),\n",
       " (-2, -2.0),\n",
       " (-2, -2.0),\n",
       " (0, 354.5),\n",
       " (0, 305.0),\n",
       " (1, 82.5),\n",
       " (6, 4.5),\n",
       " (4, 6.0),\n",
       " (-2, -2.0),\n",
       " (-2, -2.0),\n",
       " (-2, -2.0),\n",
       " (0, 273.0),\n",
       " (-2, -2.0),\n",
       " (-2, -2.0),\n",
       " (-2, -2.0),\n",
       " (1, 107.5),\n",
       " (3, 15.5),\n",
       " (1, 88.5),\n",
       " (-2, -2.0),\n",
       " (0, 476.0),\n",
       " (-2, -2.0),\n",
       " (-2, -2.0),\n",
       " (1, 98.5),\n",
       " (-2, -2.0),\n",
       " (0, 526.5),\n",
       " (-2, -2.0),\n",
       " (-2, -2.0),\n",
       " (0, 518.0),\n",
       " (-2, -2.0),\n",
       " (3, 9.5),\n",
       " (0, 632.5),\n",
       " (-2, -2.0),\n",
       " (-2, -2.0),\n",
       " (1, 157.5),\n",
       " (-2, -2.0),\n",
       " (-2, -2.0),\n",
       " (1, 352.0),\n",
       " (4, 16.5),\n",
       " (3, 17.5),\n",
       " (4, 15.5),\n",
       " (4, 13.5),\n",
       " (0, 1836.0),\n",
       " (1, 169.5),\n",
       " (-2, -2.0),\n",
       " (-2, -2.0),\n",
       " (1, 324.0),\n",
       " (-2, -2.0),\n",
       " (-2, -2.0),\n",
       " (-2, -2.0),\n",
       " (0, 311.0),\n",
       " (-2, -2.0),\n",
       " (0, 1787.0),\n",
       " (3, 15.0),\n",
       " (-2, -2.0),\n",
       " (-2, -2.0),\n",
       " (5, 4.5),\n",
       " (-2, -2.0),\n",
       " (-2, -2.0),\n",
       " (-2, -2.0),\n",
       " (5, 5.5),\n",
       " (-2, -2.0),\n",
       " (0, 782.0),\n",
       " (-2, -2.0),\n",
       " (-2, -2.0),\n",
       " (0, 2490.5),\n",
       " (-2, -2.0),\n",
       " (-2, -2.0),\n",
       " (5, 3.5),\n",
       " (0, 2780.0),\n",
       " (1, 383.5),\n",
       " (-2, -2.0),\n",
       " (0, 2622.5),\n",
       " (-2, -2.0),\n",
       " (5, 1.5),\n",
       " (-2, -2.0),\n",
       " (-2, -2.0),\n",
       " (-2, -2.0),\n",
       " (0, 2583.0),\n",
       " (-2, -2.0),\n",
       " (-2, -2.0)]"
      ]
     },
     "execution_count": 27,
     "metadata": {},
     "output_type": "execute_result"
    }
   ],
   "source": [
    "list(zip(dtrmodel.tree_.feature,dtrmodel.tree_.threshold))[:]"
   ]
  },
  {
   "cell_type": "code",
   "execution_count": 28,
   "metadata": {},
   "outputs": [
    {
     "data": {
      "text/plain": [
       "[(1, 124),\n",
       " (2, 31),\n",
       " (3, 26),\n",
       " (4, 23),\n",
       " (5, 10),\n",
       " (6, 9),\n",
       " (7, 8),\n",
       " (-1, -1),\n",
       " (-1, -1),\n",
       " (-1, -1),\n",
       " (11, 22),\n",
       " (12, 21),\n",
       " (13, 18),\n",
       " (14, 17),\n",
       " (15, 16),\n",
       " (-1, -1),\n",
       " (-1, -1),\n",
       " (-1, -1),\n",
       " (19, 20),\n",
       " (-1, -1),\n",
       " (-1, -1),\n",
       " (-1, -1),\n",
       " (-1, -1),\n",
       " (24, 25),\n",
       " (-1, -1),\n",
       " (-1, -1),\n",
       " (27, 28),\n",
       " (-1, -1),\n",
       " (29, 30),\n",
       " (-1, -1),\n",
       " (-1, -1),\n",
       " (32, 115),\n",
       " (33, 88),\n",
       " (34, 57),\n",
       " (35, 54),\n",
       " (36, 43),\n",
       " (37, 42),\n",
       " (38, 41),\n",
       " (39, 40),\n",
       " (-1, -1),\n",
       " (-1, -1),\n",
       " (-1, -1),\n",
       " (-1, -1),\n",
       " (44, 49),\n",
       " (45, 46),\n",
       " (-1, -1),\n",
       " (47, 48),\n",
       " (-1, -1),\n",
       " (-1, -1),\n",
       " (50, 51),\n",
       " (-1, -1),\n",
       " (52, 53),\n",
       " (-1, -1),\n",
       " (-1, -1),\n",
       " (55, 56),\n",
       " (-1, -1),\n",
       " (-1, -1),\n",
       " (58, 71),\n",
       " (59, 70),\n",
       " (60, 65),\n",
       " (61, 64),\n",
       " (62, 63),\n",
       " (-1, -1),\n",
       " (-1, -1),\n",
       " (-1, -1),\n",
       " (66, 67),\n",
       " (-1, -1),\n",
       " (68, 69),\n",
       " (-1, -1),\n",
       " (-1, -1),\n",
       " (-1, -1),\n",
       " (72, 77),\n",
       " (73, 76),\n",
       " (74, 75),\n",
       " (-1, -1),\n",
       " (-1, -1),\n",
       " (-1, -1),\n",
       " (78, 83),\n",
       " (79, 82),\n",
       " (80, 81),\n",
       " (-1, -1),\n",
       " (-1, -1),\n",
       " (-1, -1),\n",
       " (84, 85),\n",
       " (-1, -1),\n",
       " (86, 87),\n",
       " (-1, -1),\n",
       " (-1, -1),\n",
       " (89, 110),\n",
       " (90, 101),\n",
       " (91, 94),\n",
       " (92, 93),\n",
       " (-1, -1),\n",
       " (-1, -1),\n",
       " (95, 100),\n",
       " (96, 97),\n",
       " (-1, -1),\n",
       " (98, 99),\n",
       " (-1, -1),\n",
       " (-1, -1),\n",
       " (-1, -1),\n",
       " (102, 105),\n",
       " (103, 104),\n",
       " (-1, -1),\n",
       " (-1, -1),\n",
       " (106, 109),\n",
       " (107, 108),\n",
       " (-1, -1),\n",
       " (-1, -1),\n",
       " (-1, -1),\n",
       " (111, 114),\n",
       " (112, 113),\n",
       " (-1, -1),\n",
       " (-1, -1),\n",
       " (-1, -1),\n",
       " (116, 117),\n",
       " (-1, -1),\n",
       " (118, 123),\n",
       " (119, 120),\n",
       " (-1, -1),\n",
       " (121, 122),\n",
       " (-1, -1),\n",
       " (-1, -1),\n",
       " (-1, -1),\n",
       " (125, 284),\n",
       " (126, 253),\n",
       " (127, 202),\n",
       " (128, 171),\n",
       " (129, 146),\n",
       " (130, 141),\n",
       " (131, 138),\n",
       " (132, 135),\n",
       " (133, 134),\n",
       " (-1, -1),\n",
       " (-1, -1),\n",
       " (136, 137),\n",
       " (-1, -1),\n",
       " (-1, -1),\n",
       " (139, 140),\n",
       " (-1, -1),\n",
       " (-1, -1),\n",
       " (142, 145),\n",
       " (143, 144),\n",
       " (-1, -1),\n",
       " (-1, -1),\n",
       " (-1, -1),\n",
       " (147, 158),\n",
       " (148, 153),\n",
       " (149, 150),\n",
       " (-1, -1),\n",
       " (151, 152),\n",
       " (-1, -1),\n",
       " (-1, -1),\n",
       " (154, 155),\n",
       " (-1, -1),\n",
       " (156, 157),\n",
       " (-1, -1),\n",
       " (-1, -1),\n",
       " (159, 164),\n",
       " (160, 163),\n",
       " (161, 162),\n",
       " (-1, -1),\n",
       " (-1, -1),\n",
       " (-1, -1),\n",
       " (165, 168),\n",
       " (166, 167),\n",
       " (-1, -1),\n",
       " (-1, -1),\n",
       " (169, 170),\n",
       " (-1, -1),\n",
       " (-1, -1),\n",
       " (172, 177),\n",
       " (173, 174),\n",
       " (-1, -1),\n",
       " (175, 176),\n",
       " (-1, -1),\n",
       " (-1, -1),\n",
       " (178, 187),\n",
       " (179, 186),\n",
       " (180, 183),\n",
       " (181, 182),\n",
       " (-1, -1),\n",
       " (-1, -1),\n",
       " (184, 185),\n",
       " (-1, -1),\n",
       " (-1, -1),\n",
       " (-1, -1),\n",
       " (188, 195),\n",
       " (189, 192),\n",
       " (190, 191),\n",
       " (-1, -1),\n",
       " (-1, -1),\n",
       " (193, 194),\n",
       " (-1, -1),\n",
       " (-1, -1),\n",
       " (196, 199),\n",
       " (197, 198),\n",
       " (-1, -1),\n",
       " (-1, -1),\n",
       " (200, 201),\n",
       " (-1, -1),\n",
       " (-1, -1),\n",
       " (203, 220),\n",
       " (204, 207),\n",
       " (205, 206),\n",
       " (-1, -1),\n",
       " (-1, -1),\n",
       " (208, 209),\n",
       " (-1, -1),\n",
       " (210, 215),\n",
       " (211, 214),\n",
       " (212, 213),\n",
       " (-1, -1),\n",
       " (-1, -1),\n",
       " (-1, -1),\n",
       " (216, 219),\n",
       " (217, 218),\n",
       " (-1, -1),\n",
       " (-1, -1),\n",
       " (-1, -1),\n",
       " (221, 232),\n",
       " (222, 231),\n",
       " (223, 228),\n",
       " (224, 227),\n",
       " (225, 226),\n",
       " (-1, -1),\n",
       " (-1, -1),\n",
       " (-1, -1),\n",
       " (229, 230),\n",
       " (-1, -1),\n",
       " (-1, -1),\n",
       " (-1, -1),\n",
       " (233, 244),\n",
       " (234, 239),\n",
       " (235, 236),\n",
       " (-1, -1),\n",
       " (237, 238),\n",
       " (-1, -1),\n",
       " (-1, -1),\n",
       " (240, 241),\n",
       " (-1, -1),\n",
       " (242, 243),\n",
       " (-1, -1),\n",
       " (-1, -1),\n",
       " (245, 246),\n",
       " (-1, -1),\n",
       " (247, 250),\n",
       " (248, 249),\n",
       " (-1, -1),\n",
       " (-1, -1),\n",
       " (251, 252),\n",
       " (-1, -1),\n",
       " (-1, -1),\n",
       " (254, 281),\n",
       " (255, 276),\n",
       " (256, 275),\n",
       " (257, 266),\n",
       " (258, 265),\n",
       " (259, 262),\n",
       " (260, 261),\n",
       " (-1, -1),\n",
       " (-1, -1),\n",
       " (263, 264),\n",
       " (-1, -1),\n",
       " (-1, -1),\n",
       " (-1, -1),\n",
       " (267, 268),\n",
       " (-1, -1),\n",
       " (269, 272),\n",
       " (270, 271),\n",
       " (-1, -1),\n",
       " (-1, -1),\n",
       " (273, 274),\n",
       " (-1, -1),\n",
       " (-1, -1),\n",
       " (-1, -1),\n",
       " (277, 278),\n",
       " (-1, -1),\n",
       " (279, 280),\n",
       " (-1, -1),\n",
       " (-1, -1),\n",
       " (282, 283),\n",
       " (-1, -1),\n",
       " (-1, -1),\n",
       " (285, 294),\n",
       " (286, 293),\n",
       " (287, 288),\n",
       " (-1, -1),\n",
       " (289, 290),\n",
       " (-1, -1),\n",
       " (291, 292),\n",
       " (-1, -1),\n",
       " (-1, -1),\n",
       " (-1, -1),\n",
       " (295, 296),\n",
       " (-1, -1),\n",
       " (-1, -1)]"
      ]
     },
     "execution_count": 28,
     "metadata": {},
     "output_type": "execute_result"
    }
   ],
   "source": [
    "list(zip(dtrmodel.tree_.children_left,dtrmodel.tree_.children_right))"
   ]
  },
  {
   "cell_type": "code",
   "execution_count": 29,
   "metadata": {},
   "outputs": [
    {
     "data": {
      "text/plain": [
       "<matplotlib.figure.Figure at 0x1186419b0>"
      ]
     },
     "execution_count": 29,
     "metadata": {},
     "output_type": "execute_result"
    },
    {
     "data": {
      "image/png": "[encoded data removed]",
      "text/plain": [
       "<matplotlib.figure.Figure at 0x1139e48d0>"
      ]
     },
     "metadata": {},
     "output_type": "display_data"
    },
    {
     "data": {
      "text/plain": [
       "<matplotlib.figure.Figure at 0x1186419b0>"
      ]
     },
     "metadata": {},
     "output_type": "display_data"
    }
   ],
   "source": [
    "tree_pred_test = dtrmodel.predict(Xtree_test)\n",
    "plt.scatter(y_test, tree_pred_test,alpha = 0.2)\n",
    "plt.plot(np.linspace(-5,8,10000),np.linspace(-5,8,10000))\n",
    "plt.figure()"
   ]
  },
  {
   "cell_type": "code",
   "execution_count": 30,
   "metadata": {
    "collapsed": true
   },
   "outputs": [],
   "source": [
    "from sklearn.ensemble import RandomForestRegressor"
   ]
  },
  {
   "cell_type": "code",
   "execution_count": 31,
   "metadata": {},
   "outputs": [
    {
     "data": {
      "text/plain": [
       "RandomForestRegressor(bootstrap=True, criterion='mse', max_depth=None,\n",
       "           max_features='auto', max_leaf_nodes=None,\n",
       "           min_impurity_split=1e-07, min_samples_leaf=5,\n",
       "           min_samples_split=2, min_weight_fraction_leaf=0.0,\n",
       "           n_estimators=500, n_jobs=-1, oob_score=False, random_state=None,\n",
       "           verbose=0, warm_start=False)"
      ]
     },
     "execution_count": 31,
     "metadata": {},
     "output_type": "execute_result"
    }
   ],
   "source": [
    "rfmodel1 = RandomForestRegressor(n_estimators = 500, min_samples_leaf=5, n_jobs=-1)\n",
    "rfmodel1.fit(Xtree_train,y_train)"
   ]
  },
  {
   "cell_type": "code",
   "execution_count": 32,
   "metadata": {},
   "outputs": [
    {
     "name": "stdout",
     "output_type": "stream",
     "text": [
      "0.46903349971\n"
     ]
    },
    {
     "data": {
      "text/plain": [
       "0.10360937593430453"
      ]
     },
     "execution_count": 32,
     "metadata": {},
     "output_type": "execute_result"
    }
   ],
   "source": [
    "rf1_test_pred = rfmodel1.predict(Xtree_test)\n",
    "\n",
    "print(rfmodel1.score(Xtree_train,y_train))\n",
    "rfmodel1.score(Xtree_test,y_test)"
   ]
  },
  {
   "cell_type": "code",
   "execution_count": 33,
   "metadata": {},
   "outputs": [
    {
     "name": "stdout",
     "output_type": "stream",
     "text": [
      "None\n",
      "[ 0.35840612  0.26245667  0.          0.09351121  0.1140837   0.0710826\n",
      "  0.1004597 ]\n"
     ]
    }
   ],
   "source": [
    "print(rfmodel1.max_depth)\n",
    "print(rfmodel1.feature_importances_)"
   ]
  },
  {
   "cell_type": "code",
   "execution_count": 34,
   "metadata": {},
   "outputs": [
    {
     "data": {
      "text/plain": [
       "[<matplotlib.lines.Line2D at 0x118868390>]"
      ]
     },
     "execution_count": 34,
     "metadata": {},
     "output_type": "execute_result"
    },
    {
     "data": {
      "image/png": "[encoded data removed]",
      "text/plain": [
       "<matplotlib.figure.Figure at 0x118868a20>"
      ]
     },
     "metadata": {},
     "output_type": "display_data"
    }
   ],
   "source": [
    "plt.scatter(y_test, rf1_test_pred,alpha=.1)\n",
    "plt.plot(np.linspace(-5,8,1000),np.linspace(-5,8,1000))"
   ]
  },
  {
   "cell_type": "code",
   "execution_count": 35,
   "metadata": {},
   "outputs": [
    {
     "data": {
      "text/plain": [
       "RandomForestRegressor(bootstrap=True, criterion='mse', max_depth=None,\n",
       "           max_features='auto', max_leaf_nodes=None,\n",
       "           min_impurity_split=1e-07, min_samples_leaf=50,\n",
       "           min_samples_split=2, min_weight_fraction_leaf=0.0,\n",
       "           n_estimators=500, n_jobs=-1, oob_score=False, random_state=None,\n",
       "           verbose=0, warm_start=False)"
      ]
     },
     "execution_count": 35,
     "metadata": {},
     "output_type": "execute_result"
    }
   ],
   "source": [
    "rfmodel2 = RandomForestRegressor(n_estimators = 500, min_samples_leaf = 50, n_jobs=-1)\n",
    "rfmodel2.fit(Xtree_train,y_train)"
   ]
  },
  {
   "cell_type": "code",
   "execution_count": 36,
   "metadata": {},
   "outputs": [
    {
     "name": "stdout",
     "output_type": "stream",
     "text": [
      "0.146726990761\n"
     ]
    },
    {
     "data": {
      "text/plain": [
       "0.080988617285036146"
      ]
     },
     "execution_count": 36,
     "metadata": {},
     "output_type": "execute_result"
    }
   ],
   "source": [
    "rf2_test_pred = rfmodel2.predict(Xtree_test)\n",
    "print(rfmodel2.score(Xtree_train,y_train))\n",
    "rfmodel2.score(Xtree_test,y_test)"
   ]
  },
  {
   "cell_type": "code",
   "execution_count": 37,
   "metadata": {},
   "outputs": [
    {
     "data": {
      "text/plain": [
       "[<matplotlib.lines.Line2D at 0x1189c5be0>]"
      ]
     },
     "execution_count": 37,
     "metadata": {},
     "output_type": "execute_result"
    },
    {
     "data": {
      "image/png": "[encoded data removed]",
      "text/plain": [
       "<matplotlib.figure.Figure at 0x1189c59b0>"
      ]
     },
     "metadata": {},
     "output_type": "display_data"
    }
   ],
   "source": [
    "plt.scatter(y_test, rf2_test_pred,alpha=.1)\n",
    "plt.plot(np.linspace(-5,8,1000),np.linspace(-5,8,1000))"
   ]
  },
  {
   "cell_type": "code",
   "execution_count": null,
   "metadata": {
    "collapsed": true
   },
   "outputs": [],
   "source": []
  }
 ],
 "metadata": {
  "kernelspec": {
   "display_name": "Python 3",
   "language": "python",
   "name": "python3"
  },
  "language_info": {
   "codemirror_mode": {
    "name": "ipython",
    "version": 3
   },
   "file_extension": ".py",
   "mimetype": "text/x-python",
   "name": "python",
   "nbconvert_exporter": "python",
   "pygments_lexer": "ipython3",
   "version": "3.6.1"
  }
 },
 "nbformat": 4,
 "nbformat_minor": 2
}
