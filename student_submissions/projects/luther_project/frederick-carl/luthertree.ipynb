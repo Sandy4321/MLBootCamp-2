{
 "cells": [
  {
   "cell_type": "markdown",
   "metadata": {},
   "source": [
    "## CART (Classification and Regression Trees)\n",
    "## Random Forest\n",
    "\n",
    "Here we will analyzes again the Ames Housing Data, this time using first a single decision tree\n",
    "and later a Random Forest"
   ]
  },
  {
   "cell_type": "code",
   "execution_count": 1,
   "metadata": {},
   "outputs": [
    {
     "name": "stderr",
     "output_type": "stream",
     "text": [
      "/anaconda/lib/python3.6/site-packages/sklearn/cross_validation.py:44: DeprecationWarning: This module was deprecated in version 0.18 in favor of the model_selection module into which all the refactored classes and functions are moved. Also note that the interface of the new CV iterators are different from that of this module. This module will be removed in 0.20.\n",
      "  \"This module will be removed in 0.20.\", DeprecationWarning)\n"
     ]
    }
   ],
   "source": [
    "import pandas as pd\n",
    "import numpy as np\n",
    "import matplotlib.pyplot as plt\n",
    "\n",
    "# To Plot matplotlib figures inline on the notebook\n",
    "%matplotlib inline\n",
    "\n",
    "from sklearn.cross_validation import train_test_split\n",
    "\n",
    "#This is for displaying the tree (we shouldn't need these now)\n",
    "#!pip install pydotplus\n",
    "#!pip install GraphViz\n",
    "#import pydotplus as pydot\n",
    "#from IPython.display import Image\n",
    "from sklearn.externals.six import StringIO\n",
    "#import graphviz"
   ]
  },
  {
   "cell_type": "code",
   "execution_count": 2,
   "metadata": {
    "collapsed": true
   },
   "outputs": [],
   "source": [
    "#datafile = \"../02-regression_scrape/data/Ames_Housing_Data.tsv\"\n",
    "#datafile = \"../data/Ames_Housing_Data.tsv\"\n",
    "datafile = \"movies.csv\""
   ]
  },
  {
   "cell_type": "code",
   "execution_count": 88,
   "metadata": {
    "collapsed": true
   },
   "outputs": [],
   "source": [
    "df = pd.read_csv(datafile)"
   ]
  },
  {
   "cell_type": "code",
   "execution_count": 89,
   "metadata": {},
   "outputs": [
    {
     "name": "stdout",
     "output_type": "stream",
     "text": [
      "<class 'pandas.core.frame.DataFrame'>\n",
      "RangeIndex: 1100 entries, 0 to 1099\n",
      "Data columns (total 13 columns):\n",
      "Unnamed: 0         1100 non-null int64\n",
      "Title              1099 non-null object\n",
      "Rating             1100 non-null object\n",
      "Genre              1100 non-null object\n",
      "Director           992 non-null object\n",
      "Producer           915 non-null object\n",
      "Foreign Gross      1085 non-null float64\n",
      "Opening Weekend    1100 non-null int64\n",
      "Widest Release     1100 non-null int64\n",
      "Budget             908 non-null float64\n",
      "Release Date       1100 non-null object\n",
      "Domestic Gross     1100 non-null int64\n",
      "Runtime            1100 non-null int64\n",
      "dtypes: float64(2), int64(5), object(6)\n",
      "memory usage: 111.8+ KB\n"
     ]
    },
    {
     "data": {
      "text/plain": [
       "737"
      ]
     },
     "execution_count": 89,
     "metadata": {},
     "output_type": "execute_result"
    }
   ],
   "source": [
    "## Get rid of Unnamed first column, generated when creating the csv from the scraped data, and drop null records\n",
    "df.info()\n",
    "df = df.loc[:,'Title':].dropna()\n",
    "df.head()\n",
    "len(df)"
   ]
  },
  {
   "cell_type": "code",
   "execution_count": 90,
   "metadata": {},
   "outputs": [],
   "source": [
    "# Preprocessing as we did last tiem\n",
    "\n",
    "# df = df.loc[df['Gr Liv Area']<=4000,:]\n",
    "# df= df.loc[:,['Lot Area','Overall Qual',\n",
    "#        'Overall Cond', 'Year Built', 'Year Remod/Add',\n",
    "#         'Gr Liv Area', \n",
    "#         'Full Bath', 'Bedroom AbvGr',\n",
    "#         'Fireplaces', 'Garage Cars','SalePrice']]\n",
    "# df = df.fillna(0)\n"
   ]
  },
  {
   "cell_type": "code",
   "execution_count": 91,
   "metadata": {},
   "outputs": [
    {
     "data": {
      "text/html": [
       "<div>\n",
       "<style>\n",
       "    .dataframe thead tr:only-child th {\n",
       "        text-align: right;\n",
       "    }\n",
       "\n",
       "    .dataframe thead th {\n",
       "        text-align: left;\n",
       "    }\n",
       "\n",
       "    .dataframe tbody tr th {\n",
       "        vertical-align: top;\n",
       "    }\n",
       "</style>\n",
       "<table border=\"1\" class=\"dataframe\">\n",
       "  <thead>\n",
       "    <tr style=\"text-align: right;\">\n",
       "      <th></th>\n",
       "      <th>Title</th>\n",
       "      <th>Rating</th>\n",
       "      <th>Genre</th>\n",
       "      <th>Director</th>\n",
       "      <th>Producer</th>\n",
       "      <th>Foreign Gross</th>\n",
       "      <th>Opening Weekend</th>\n",
       "      <th>Widest Release</th>\n",
       "      <th>Budget</th>\n",
       "      <th>Release Date</th>\n",
       "      <th>Domestic Gross</th>\n",
       "      <th>Runtime</th>\n",
       "    </tr>\n",
       "  </thead>\n",
       "  <tbody>\n",
       "    <tr>\n",
       "      <th>0</th>\n",
       "      <td>Pirates of the Caribbean: Dead Man's Chest</td>\n",
       "      <td>PG-13</td>\n",
       "      <td>Period Adventure</td>\n",
       "      <td>Gore Verbinski</td>\n",
       "      <td>Jerry Bruckheimer</td>\n",
       "      <td>642863913.0</td>\n",
       "      <td>135634554</td>\n",
       "      <td>4133</td>\n",
       "      <td>225000000.0</td>\n",
       "      <td>2006-07-07</td>\n",
       "      <td>423315812</td>\n",
       "      <td>151</td>\n",
       "    </tr>\n",
       "    <tr>\n",
       "      <th>2</th>\n",
       "      <td>Cars</td>\n",
       "      <td>G</td>\n",
       "      <td>Animation</td>\n",
       "      <td>John Lasseter</td>\n",
       "      <td>Darla K. Anderson</td>\n",
       "      <td>218133298.0</td>\n",
       "      <td>60119509</td>\n",
       "      <td>3988</td>\n",
       "      <td>120000000.0</td>\n",
       "      <td>2006-06-09</td>\n",
       "      <td>244082982</td>\n",
       "      <td>116</td>\n",
       "    </tr>\n",
       "    <tr>\n",
       "      <th>3</th>\n",
       "      <td>X-Men: The Last Stand</td>\n",
       "      <td>PG-13</td>\n",
       "      <td>Action / Adventure</td>\n",
       "      <td>Brett Ratner</td>\n",
       "      <td>Avi Arad</td>\n",
       "      <td>224997093.0</td>\n",
       "      <td>102750665</td>\n",
       "      <td>3714</td>\n",
       "      <td>210000000.0</td>\n",
       "      <td>2006-05-26</td>\n",
       "      <td>234362462</td>\n",
       "      <td>104</td>\n",
       "    </tr>\n",
       "    <tr>\n",
       "      <th>4</th>\n",
       "      <td>The Da Vinci Code</td>\n",
       "      <td>PG-13</td>\n",
       "      <td>Thriller</td>\n",
       "      <td>Ron Howard</td>\n",
       "      <td>Brian Grazer</td>\n",
       "      <td>540703713.0</td>\n",
       "      <td>77073388</td>\n",
       "      <td>3757</td>\n",
       "      <td>125000000.0</td>\n",
       "      <td>2006-05-19</td>\n",
       "      <td>217536138</td>\n",
       "      <td>149</td>\n",
       "    </tr>\n",
       "    <tr>\n",
       "      <th>5</th>\n",
       "      <td>Superman Returns</td>\n",
       "      <td>PG-13</td>\n",
       "      <td>Action / Adventure</td>\n",
       "      <td>Bryan Singer</td>\n",
       "      <td>Gilbert Adler</td>\n",
       "      <td>191000000.0</td>\n",
       "      <td>52535096</td>\n",
       "      <td>4065</td>\n",
       "      <td>270000000.0</td>\n",
       "      <td>2006-06-28</td>\n",
       "      <td>200081192</td>\n",
       "      <td>154</td>\n",
       "    </tr>\n",
       "  </tbody>\n",
       "</table>\n",
       "</div>"
      ],
      "text/plain": [
       "                                        Title Rating               Genre  \\\n",
       "0  Pirates of the Caribbean: Dead Man's Chest  PG-13    Period Adventure   \n",
       "2                                        Cars      G           Animation   \n",
       "3                       X-Men: The Last Stand  PG-13  Action / Adventure   \n",
       "4                           The Da Vinci Code  PG-13            Thriller   \n",
       "5                            Superman Returns  PG-13  Action / Adventure   \n",
       "\n",
       "         Director           Producer  Foreign Gross  Opening Weekend  \\\n",
       "0  Gore Verbinski  Jerry Bruckheimer    642863913.0        135634554   \n",
       "2   John Lasseter  Darla K. Anderson    218133298.0         60119509   \n",
       "3    Brett Ratner           Avi Arad    224997093.0        102750665   \n",
       "4      Ron Howard       Brian Grazer    540703713.0         77073388   \n",
       "5    Bryan Singer      Gilbert Adler    191000000.0         52535096   \n",
       "\n",
       "   Widest Release       Budget Release Date  Domestic Gross  Runtime  \n",
       "0            4133  225000000.0   2006-07-07       423315812      151  \n",
       "2            3988  120000000.0   2006-06-09       244082982      116  \n",
       "3            3714  210000000.0   2006-05-26       234362462      104  \n",
       "4            3757  125000000.0   2006-05-19       217536138      149  \n",
       "5            4065  270000000.0   2006-06-28       200081192      154  "
      ]
     },
     "execution_count": 91,
     "metadata": {},
     "output_type": "execute_result"
    }
   ],
   "source": [
    "df.head()"
   ]
  },
  {
   "cell_type": "code",
   "execution_count": 92,
   "metadata": {},
   "outputs": [
    {
     "data": {
      "text/plain": [
       "Index(['Title', 'Rating', 'Genre', 'Director', 'Producer', 'Foreign Gross',\n",
       "       'Opening Weekend', 'Widest Release', 'Budget', 'Release Date',\n",
       "       'Domestic Gross', 'Runtime'],\n",
       "      dtype='object')"
      ]
     },
     "execution_count": 92,
     "metadata": {},
     "output_type": "execute_result"
    }
   ],
   "source": [
    "df.columns"
   ]
  },
  {
   "cell_type": "code",
   "execution_count": 93,
   "metadata": {
    "collapsed": true
   },
   "outputs": [],
   "source": [
    "# feature_columns = ['Lot Area', 'Overall Qual', 'Overall Cond', 'Year Built',\n",
    "#        'Year Remod/Add', 'Gr Liv Area', 'Full Bath', 'Bedroom AbvGr',\n",
    "#        'Fireplaces', 'Garage Cars']\n",
    "\n",
    "# y = df.loc[:,\"SalePrice\"]\n",
    "# X = df.loc[:,feature_columns]\n",
    "feature_columns = ['Foreign Gross', \n",
    "                    'Opening Weekend', \n",
    "                    'Widest Release', \n",
    "                    'Domestic Gross', \n",
    "                    'Runtime']\n",
    "X=df.loc[:,feature_columns]\n",
    "\n",
    "y=df['Budget']"
   ]
  },
  {
   "cell_type": "code",
   "execution_count": 94,
   "metadata": {
    "collapsed": true
   },
   "outputs": [],
   "source": [
    "#Split the data 70-30 train/test\n",
    "\n",
    "X_train, X_test, y_train, y_test = train_test_split(X, y, test_size=0.3,random_state=42)"
   ]
  },
  {
   "cell_type": "code",
   "execution_count": 95,
   "metadata": {},
   "outputs": [
    {
     "data": {
      "text/plain": [
       "DecisionTreeRegressor(criterion='mse', max_depth=6, max_features=None,\n",
       "           max_leaf_nodes=None, min_impurity_split=1e-07,\n",
       "           min_samples_leaf=8, min_samples_split=10,\n",
       "           min_weight_fraction_leaf=0.0, presort=False, random_state=None,\n",
       "           splitter='best')"
      ]
     },
     "execution_count": 95,
     "metadata": {},
     "output_type": "execute_result"
    }
   ],
   "source": [
    "## To start, we will build a single tree\n",
    "from sklearn import tree\n",
    "\n",
    "# Set some parameters\n",
    "#dtrmodel = tree.DecisionTreeRegressor(min_samples_split=10, max_depth=4)\n",
    "dtrmodel = tree.DecisionTreeRegressor(min_samples_split=10, max_depth=6, min_samples_leaf=8)\n",
    "\n",
    "# Fit the model to some training data\n",
    "dtrmodel.fit(X_train,y_train)"
   ]
  },
  {
   "cell_type": "code",
   "execution_count": 96,
   "metadata": {},
   "outputs": [
    {
     "data": {
      "text/plain": [
       "<sklearn.tree._tree.Tree at 0x119b00370>"
      ]
     },
     "execution_count": 96,
     "metadata": {},
     "output_type": "execute_result"
    }
   ],
   "source": [
    "dtrmodel.tree_"
   ]
  },
  {
   "cell_type": "code",
   "execution_count": 97,
   "metadata": {
    "collapsed": true
   },
   "outputs": [],
   "source": [
    "# Export the structure of the tree to a file\n",
    "\n",
    "tree.export_graphviz(dtrmodel, out_file='tree.dot',feature_names = X_train.columns)"
   ]
  },
  {
   "cell_type": "code",
   "execution_count": 98,
   "metadata": {
    "scrolled": true
   },
   "outputs": [
    {
     "name": "stdout",
     "output_type": "stream",
     "text": [
      "digraph Tree {\r\n",
      "node [shape=box] ;\r\n",
      "0 [label=\"Widest Release <= 3441.5\\nmse = 3.60353378791e+15\\nsamples = 515\\nvalue = 72833427.1845\"] ;\r\n",
      "1 [label=\"Foreign Gross <= 113110280.0\\nmse = 1.0131283328e+15\\nsamples = 335\\nvalue = 41877358.209\"] ;\r\n",
      "0 -> 1 [labeldistance=2.5, labelangle=45, headlabel=\"True\"] ;\r\n",
      "2 [label=\"Foreign Gross <= 32283888.0\\nmse = 5.44968299264e+14\\nsamples = 278\\nvalue = 34961924.4604\"] ;\r\n",
      "1 -> 2 ;\r\n",
      "3 [label=\"Runtime <= 111.5\\nmse = 3.20236904472e+14\\nsamples = 111\\nvalue = 25353153.1532\"] ;\r\n",
      "2 -> 3 ;\r\n",
      "4 [label=\"Domestic Gross <= 72896312.0\\nmse = 1.57819680424e+14\\nsamples = 74\\nvalue = 20239189.1892\"] ;\r\n"
     ]
    }
   ],
   "source": [
    "# Look at the file (using ! for a command line access)\n",
    "\n",
    "!head tree.dot"
   ]
  },
  {
   "cell_type": "code",
   "execution_count": 99,
   "metadata": {
    "collapsed": true
   },
   "outputs": [],
   "source": [
    "# Now:\n",
    "# 1) Open a new browser tab and go to http://webgraphviz.com \n",
    "# 2) Open the tree.dot file as a text file\n",
    "# 3) Copy and Paste the text of the file into the webpage"
   ]
  },
  {
   "cell_type": "code",
   "execution_count": 100,
   "metadata": {},
   "outputs": [
    {
     "data": {
      "text/plain": [
       "[(2, 3441.5),\n",
       " (0, 113110280.0),\n",
       " (0, 32283888.0),\n",
       " (4, 111.5),\n",
       " (3, 72896312.0),\n",
       " (0, 16725420.0),\n",
       " (-2, -2.0),\n",
       " (-2, -2.0),\n",
       " (-2, -2.0),\n",
       " (2, 2468.0)]"
      ]
     },
     "execution_count": 100,
     "metadata": {},
     "output_type": "execute_result"
    }
   ],
   "source": [
    "# Poke around inside the structure of the tree object\n",
    "# Specifically, look at the \"feature\" and \"threshold\"\n",
    "# These are indexed by the \"node\" of the tree.  First element is the root.\n",
    "# Usually counts \"depth first\"\n",
    "\n",
    "list(zip(dtrmodel.tree_.feature,dtrmodel.tree_.threshold))[:10]\n",
    "\n"
   ]
  },
  {
   "cell_type": "code",
   "execution_count": 101,
   "metadata": {},
   "outputs": [
    {
     "data": {
      "text/plain": [
       "[(1, 38),\n",
       " (2, 27),\n",
       " (3, 14),\n",
       " (4, 9),\n",
       " (5, 8),\n",
       " (6, 7),\n",
       " (-1, -1),\n",
       " (-1, -1),\n",
       " (-1, -1),\n",
       " (10, 11)]"
      ]
     },
     "execution_count": 101,
     "metadata": {},
     "output_type": "execute_result"
    }
   ],
   "source": [
    "# Look at \"children_left\" and \"children_right\"\n",
    "\n",
    "list(zip(dtrmodel.tree_.children_left,dtrmodel.tree_.children_right))[:10]\n",
    "\n"
   ]
  },
  {
   "cell_type": "code",
   "execution_count": 102,
   "metadata": {},
   "outputs": [
    {
     "data": {
      "image/png": "[encoded data removed]",
      "text/plain": [
       "<matplotlib.figure.Figure at 0x11c0ea5f8>"
      ]
     },
     "metadata": {},
     "output_type": "display_data"
    }
   ],
   "source": [
    "# Now let's predict on the test set and plot pred vs actual\n",
    "\n",
    "tree_pred_test = dtrmodel.predict(X_test)\n",
    "plt.scatter(y_test, tree_pred_test,alpha=.1)\n",
    "plt.plot(np.linspace(0,300000000,1000),np.linspace(0,300000000,1000));\n"
   ]
  },
  {
   "cell_type": "markdown",
   "metadata": {},
   "source": [
    "## Comprehension question\n",
    "Why do we see these horizontal \"bands\" in the predicted vs actual plot?"
   ]
  },
  {
   "cell_type": "code",
   "execution_count": 103,
   "metadata": {},
   "outputs": [
    {
     "data": {
      "text/plain": [
       "41288722.626741916"
      ]
     },
     "execution_count": 103,
     "metadata": {},
     "output_type": "execute_result"
    }
   ],
   "source": [
    "# Root Mean Square Error (compared to 34427 for linear regression without OQ2, 29882 with OQ2)\n",
    "np.sqrt(np.mean((tree_pred_test - y_test)**2))"
   ]
  },
  {
   "cell_type": "code",
   "execution_count": 104,
   "metadata": {
    "collapsed": true
   },
   "outputs": [],
   "source": [
    "# Not bad for a single tree!  Let's try a Random Forest"
   ]
  },
  {
   "cell_type": "code",
   "execution_count": 105,
   "metadata": {
    "collapsed": true
   },
   "outputs": [],
   "source": [
    "from sklearn.ensemble import RandomForestRegressor"
   ]
  },
  {
   "cell_type": "code",
   "execution_count": 106,
   "metadata": {},
   "outputs": [
    {
     "data": {
      "text/plain": [
       "RandomForestRegressor(bootstrap=True, criterion='mse', max_depth=None,\n",
       "           max_features=4, max_leaf_nodes=None, min_impurity_split=1e-07,\n",
       "           min_samples_leaf=5, min_samples_split=2,\n",
       "           min_weight_fraction_leaf=0.0, n_estimators=500, n_jobs=-1,\n",
       "           oob_score=False, random_state=None, verbose=0, warm_start=False)"
      ]
     },
     "execution_count": 106,
     "metadata": {},
     "output_type": "execute_result"
    }
   ],
   "source": [
    "# Initialize the model, then fit it on the training data\n",
    "rfmodel1 = RandomForestRegressor(n_estimators = 500, min_samples_leaf=5, max_features=4, n_jobs=-1)\n",
    "rfmodel1.fit(X_train,y_train)"
   ]
  },
  {
   "cell_type": "code",
   "execution_count": 107,
   "metadata": {
    "collapsed": true
   },
   "outputs": [],
   "source": [
    "# Use the trained model to predict the results on the test set\n",
    "\n",
    "rf1_test_pred = rfmodel1.predict(X_test)"
   ]
  },
  {
   "cell_type": "code",
   "execution_count": 108,
   "metadata": {},
   "outputs": [
    {
     "data": {
      "text/plain": [
       "[<matplotlib.lines.Line2D at 0x11c55b0f0>]"
      ]
     },
     "execution_count": 108,
     "metadata": {},
     "output_type": "execute_result"
    },
    {
     "data": {
      "image/png": "[encoded data removed]",
      "text/plain": [
       "<matplotlib.figure.Figure at 0x11c55b128>"
      ]
     },
     "metadata": {},
     "output_type": "display_data"
    }
   ],
   "source": [
    "#Plot actual vs predicted\n",
    "plt.scatter(y_test, rf1_test_pred,alpha=.1)\n",
    "plt.plot(np.linspace(0,300000000,1000),np.linspace(0,300000000,1000))\n",
    "\n"
   ]
  },
  {
   "cell_type": "code",
   "execution_count": 109,
   "metadata": {},
   "outputs": [
    {
     "data": {
      "text/plain": [
       "36756198.442045175"
      ]
     },
     "execution_count": 109,
     "metadata": {},
     "output_type": "execute_result"
    }
   ],
   "source": [
    "# Root Mean Square Error (compared to 34427 for linear regression without OQ2, 29882 with OQ2)\n",
    "np.sqrt(np.mean((rf1_test_pred - y_test)**2))"
   ]
  },
  {
   "cell_type": "code",
   "execution_count": 110,
   "metadata": {
    "collapsed": true
   },
   "outputs": [],
   "source": [
    "## Even better!\n",
    "\n",
    "## now create your own Random Forest model (rfmodel2), choose some new parameters\n",
    "## e.g. max_features, min_leaf_size, min_sample_size"
   ]
  },
  {
   "cell_type": "code",
   "execution_count": 111,
   "metadata": {},
   "outputs": [
    {
     "data": {
      "text/plain": [
       "RandomForestRegressor(bootstrap=True, criterion='mse', max_depth=None,\n",
       "           max_features=4, max_leaf_nodes=None, min_impurity_split=300000,\n",
       "           min_samples_leaf=1, min_samples_split=2,\n",
       "           min_weight_fraction_leaf=0.0, n_estimators=1000, n_jobs=-1,\n",
       "           oob_score=False, random_state=None, verbose=0, warm_start=False)"
      ]
     },
     "execution_count": 111,
     "metadata": {},
     "output_type": "execute_result"
    }
   ],
   "source": [
    "rfmodel2=RandomForestRegressor(n_estimators = 1000, min_samples_leaf=1,  n_jobs=-1, max_features=4, min_impurity_split=300000) #Your parameters inside the parentheses\n",
    "rfmodel2.fit(X_train,y_train)"
   ]
  },
  {
   "cell_type": "code",
   "execution_count": 112,
   "metadata": {
    "collapsed": true
   },
   "outputs": [],
   "source": [
    "rf2_test_pred = rfmodel2.predict(X_test)"
   ]
  },
  {
   "cell_type": "code",
   "execution_count": 113,
   "metadata": {},
   "outputs": [
    {
     "data": {
      "text/plain": [
       "36993275.137460753"
      ]
     },
     "execution_count": 113,
     "metadata": {},
     "output_type": "execute_result"
    }
   ],
   "source": [
    "np.sqrt(np.mean((rf2_test_pred - y_test)**2))"
   ]
  },
  {
   "cell_type": "code",
   "execution_count": 130,
   "metadata": {},
   "outputs": [
    {
     "data": {
      "text/plain": [
       "0.6031680365926817"
      ]
     },
     "execution_count": 130,
     "metadata": {},
     "output_type": "execute_result"
    }
   ],
   "source": [
    "rfmodel2.score(X_test, y_test)"
   ]
  },
  {
   "cell_type": "code",
   "execution_count": 114,
   "metadata": {},
   "outputs": [
    {
     "data": {
      "text/plain": [
       "4"
      ]
     },
     "execution_count": 114,
     "metadata": {},
     "output_type": "execute_result"
    }
   ],
   "source": [
    "rfmodel2.max_features\n"
   ]
  },
  {
   "cell_type": "code",
   "execution_count": 115,
   "metadata": {},
   "outputs": [
    {
     "data": {
      "text/plain": [
       "RandomForestRegressor(bootstrap=True, criterion='mse', max_depth=None,\n",
       "           max_features='sqrt', max_leaf_nodes=None,\n",
       "           min_impurity_split=1e-07, min_samples_leaf=1,\n",
       "           min_samples_split=2, min_weight_fraction_leaf=0.0,\n",
       "           n_estimators=600, n_jobs=-1, oob_score=False, random_state=None,\n",
       "           verbose=0, warm_start=False)"
      ]
     },
     "execution_count": 115,
     "metadata": {},
     "output_type": "execute_result"
    }
   ],
   "source": [
    "rfmodel3=RandomForestRegressor(n_estimators = 600, min_samples_leaf=1,  n_jobs=-1, max_features='sqrt') #Your parameters inside the parentheses\n",
    "rfmodel3.fit(X_train,y_train)"
   ]
  },
  {
   "cell_type": "code",
   "execution_count": 116,
   "metadata": {
    "collapsed": true
   },
   "outputs": [],
   "source": [
    "rf3_test_pred = rfmodel3.predict(X_test)"
   ]
  },
  {
   "cell_type": "code",
   "execution_count": 117,
   "metadata": {},
   "outputs": [
    {
     "data": {
      "text/plain": [
       "36854170.673696332"
      ]
     },
     "execution_count": 117,
     "metadata": {},
     "output_type": "execute_result"
    }
   ],
   "source": [
    "np.sqrt(np.mean((rf3_test_pred - y_test)**2))"
   ]
  },
  {
   "cell_type": "code",
   "execution_count": 131,
   "metadata": {},
   "outputs": [
    {
     "data": {
      "text/plain": [
       "0.6061468110825049"
      ]
     },
     "execution_count": 131,
     "metadata": {},
     "output_type": "execute_result"
    }
   ],
   "source": [
    "rfmodel3.score(X_test, y_test)"
   ]
  },
  {
   "cell_type": "code",
   "execution_count": 118,
   "metadata": {
    "collapsed": true
   },
   "outputs": [],
   "source": [
    "from sklearn.ensemble import GradientBoostingRegressor"
   ]
  },
  {
   "cell_type": "code",
   "execution_count": 119,
   "metadata": {
    "collapsed": true
   },
   "outputs": [],
   "source": [
    "# for following, max_depth most important, then n_estimators and learning_rate are trade-off\n",
    "# then subsample for regularization\n",
    "gbmodel1 = GradientBoostingRegressor(n_estimators=500, learning_rate=.05, max_depth=4, subsample=.9)"
   ]
  },
  {
   "cell_type": "code",
   "execution_count": 120,
   "metadata": {},
   "outputs": [
    {
     "data": {
      "text/plain": [
       "GradientBoostingRegressor(alpha=0.9, criterion='friedman_mse', init=None,\n",
       "             learning_rate=0.05, loss='ls', max_depth=4, max_features=None,\n",
       "             max_leaf_nodes=None, min_impurity_split=1e-07,\n",
       "             min_samples_leaf=1, min_samples_split=2,\n",
       "             min_weight_fraction_leaf=0.0, n_estimators=500,\n",
       "             presort='auto', random_state=None, subsample=0.9, verbose=0,\n",
       "             warm_start=False)"
      ]
     },
     "execution_count": 120,
     "metadata": {},
     "output_type": "execute_result"
    }
   ],
   "source": [
    "gbmodel1.fit(X_train, y_train)"
   ]
  },
  {
   "cell_type": "code",
   "execution_count": 121,
   "metadata": {},
   "outputs": [
    {
     "data": {
      "text/plain": [
       "38276753.472556487"
      ]
     },
     "execution_count": 121,
     "metadata": {},
     "output_type": "execute_result"
    }
   ],
   "source": [
    "# try estimaotirs=2000, learning_rate=.01, max_depth=5\n",
    "# try other values to get better root mean square error\n",
    "y_pred_gb1 = gbmodel1.predict(X_test)\n",
    "np.sqrt(np.mean((y_pred_gb1 - y_test)**2))"
   ]
  },
  {
   "cell_type": "code",
   "execution_count": 129,
   "metadata": {},
   "outputs": [
    {
     "data": {
      "text/plain": [
       "0.57515425721594493"
      ]
     },
     "execution_count": 129,
     "metadata": {},
     "output_type": "execute_result"
    }
   ],
   "source": [
    "gbmodel1.score(X_test, y_test)"
   ]
  },
  {
   "cell_type": "code",
   "execution_count": 122,
   "metadata": {},
   "outputs": [
    {
     "data": {
      "text/plain": [
       "[('Foreign Gross', 0.22314233885478771),\n",
       " ('Opening Weekend', 0.20571370009456122),\n",
       " ('Widest Release', 0.23257685286545357),\n",
       " ('Domestic Gross', 0.23397331614711345),\n",
       " ('Runtime', 0.10459379203808465)]"
      ]
     },
     "execution_count": 122,
     "metadata": {},
     "output_type": "execute_result"
    }
   ],
   "source": [
    "list(zip(X_train.columns, gbmodel1.feature_importances_))"
   ]
  },
  {
   "cell_type": "code",
   "execution_count": 123,
   "metadata": {},
   "outputs": [],
   "source": [
    "# Let's add genres and ratings, the categorical predictors\n",
    "# Pick just the most frequent genres\n",
    "\n",
    "df['Genre'].unique()\n",
    "#df['Rating'].unique()\n",
    "\n",
    "mincount = 20 # keep movies for genres that have at least mincount titles\n",
    "\n",
    "gdf = df.groupby('Genre').count().sort_values('Title',ascending=False)['Title']\n",
    "#list(zip(gdf[gdf>mincount].index, gdf[gdf>mincount]))\n",
    "grows = df['Genre'].isin(gdf[gdf > mincount].index)\n",
    "df2 = df[grows]\n"
   ]
  },
  {
   "cell_type": "code",
   "execution_count": 124,
   "metadata": {},
   "outputs": [],
   "source": [
    "# Map the ratings and genres to integers so they can be processed numerically\n",
    "rdict = {'G':0, 'PG':1, 'PG-13':2, 'R':3}\n",
    "gdict = {'Animation':5, 'Action / Adventure':1, 'Thriller':7, 'Action':2, 'Drama':6,\n",
    "       'Comedy':4, 'Horror':8, 'Sci-Fi Action':0, 'Action Comedy':3}"
   ]
  },
  {
   "cell_type": "code",
   "execution_count": 125,
   "metadata": {},
   "outputs": [
    {
     "name": "stderr",
     "output_type": "stream",
     "text": [
      "/anaconda/lib/python3.6/site-packages/ipykernel_launcher.py:1: SettingWithCopyWarning: \n",
      "A value is trying to be set on a copy of a slice from a DataFrame.\n",
      "Try using .loc[row_indexer,col_indexer] = value instead\n",
      "\n",
      "See the caveats in the documentation: http://pandas.pydata.org/pandas-docs/stable/indexing.html#indexing-view-versus-copy\n",
      "  \"\"\"Entry point for launching an IPython kernel.\n",
      "/anaconda/lib/python3.6/site-packages/ipykernel_launcher.py:2: SettingWithCopyWarning: \n",
      "A value is trying to be set on a copy of a slice from a DataFrame.\n",
      "Try using .loc[row_indexer,col_indexer] = value instead\n",
      "\n",
      "See the caveats in the documentation: http://pandas.pydata.org/pandas-docs/stable/indexing.html#indexing-view-versus-copy\n",
      "  \n"
     ]
    }
   ],
   "source": [
    "df2['GenreInd'] = df2['Genre'].map(lambda x: gdict[x])\n",
    "df2['RatingInd'] = df2['Rating'].map(lambda x: rdict[x])"
   ]
  },
  {
   "cell_type": "code",
   "execution_count": 128,
   "metadata": {},
   "outputs": [],
   "source": [
    "#list(zip(df2['Rating'],df2['RatingInd']))"
   ]
  },
  {
   "cell_type": "code",
   "execution_count": 127,
   "metadata": {
    "collapsed": true
   },
   "outputs": [],
   "source": [
    "df2.columns\n",
    "Xd = df2.loc[:,['Foreign Gross', 'Opening Weekend', 'Widest Release',\n",
    "       'Domestic Gross', 'Runtime', 'GenreInd', 'RatingInd']]\n",
    "yd = df2['Budget']\n",
    "Xd_train, Xd_test, yd_train, yd_test = train_test_split(Xd, yd, test_size=0.3,random_state=42)"
   ]
  },
  {
   "cell_type": "code",
   "execution_count": 132,
   "metadata": {},
   "outputs": [
    {
     "data": {
      "text/plain": [
       "RandomForestRegressor(bootstrap=True, criterion='mse', max_depth=None,\n",
       "           max_features=4, max_leaf_nodes=None, min_impurity_split=300000,\n",
       "           min_samples_leaf=1, min_samples_split=2,\n",
       "           min_weight_fraction_leaf=0.0, n_estimators=1000, n_jobs=-1,\n",
       "           oob_score=False, random_state=None, verbose=0, warm_start=False)"
      ]
     },
     "execution_count": 132,
     "metadata": {},
     "output_type": "execute_result"
    }
   ],
   "source": [
    "# Let's try a RandomForest including the categorical predictors\n",
    "rfmodel4=RandomForestRegressor(n_estimators = 1000, min_samples_leaf=1,  n_jobs=-1, max_features=4, min_impurity_split=300000) #Your parameters inside the parentheses\n",
    "rfmodel4.fit(Xd_train,yd_train)"
   ]
  },
  {
   "cell_type": "code",
   "execution_count": 133,
   "metadata": {},
   "outputs": [
    {
     "data": {
      "text/plain": [
       "0.64671027537384684"
      ]
     },
     "execution_count": 133,
     "metadata": {},
     "output_type": "execute_result"
    }
   ],
   "source": [
    "rfmodel4.score(Xd_test, yd_test)"
   ]
  },
  {
   "cell_type": "code",
   "execution_count": 135,
   "metadata": {},
   "outputs": [
    {
     "data": {
      "text/plain": [
       "GradientBoostingRegressor(alpha=0.9, criterion='friedman_mse', init=None,\n",
       "             learning_rate=0.05, loss='ls', max_depth=4, max_features=None,\n",
       "             max_leaf_nodes=None, min_impurity_split=1e-07,\n",
       "             min_samples_leaf=1, min_samples_split=2,\n",
       "             min_weight_fraction_leaf=0.0, n_estimators=500,\n",
       "             presort='auto', random_state=None, subsample=0.9, verbose=0,\n",
       "             warm_start=False)"
      ]
     },
     "execution_count": 135,
     "metadata": {},
     "output_type": "execute_result"
    }
   ],
   "source": [
    "# Let's try a gradient boost model too\n",
    "gbmodel2 = GradientBoostingRegressor(n_estimators=500, learning_rate=.05, max_depth=4, subsample=.9)\n",
    "gbmodel2.fit(Xd_train, yd_train)"
   ]
  },
  {
   "cell_type": "code",
   "execution_count": 136,
   "metadata": {},
   "outputs": [
    {
     "data": {
      "text/plain": [
       "0.60424723851206963"
      ]
     },
     "execution_count": 136,
     "metadata": {},
     "output_type": "execute_result"
    }
   ],
   "source": [
    "gbmodel2.score(Xd_test, yd_test)"
   ]
  },
  {
   "cell_type": "code",
   "execution_count": null,
   "metadata": {
    "collapsed": true
   },
   "outputs": [],
   "source": []
  }
 ],
 "metadata": {
  "kernelspec": {
   "display_name": "Python 3",
   "language": "python",
   "name": "python3"
  },
  "language_info": {
   "codemirror_mode": {
    "name": "ipython",
    "version": 3
   },
   "file_extension": ".py",
   "mimetype": "text/x-python",
   "name": "python",
   "nbconvert_exporter": "python",
   "pygments_lexer": "ipython3",
   "version": "3.6.1"
  }
 },
 "nbformat": 4,
 "nbformat_minor": 1
}
