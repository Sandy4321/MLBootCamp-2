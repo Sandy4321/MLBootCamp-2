{
 "cells": [
  {
   "cell_type": "markdown",
   "metadata": {},
   "source": [
    "# Fantasy Basketball\n",
    "\n",
    "##### Projecting FG%, FT%, 3PM, Points, Rebounds, Assists, Steals, Blocks and Turnovers based on:\n",
    "* historical performance in these categories\n",
    "* team characteristics (pace, W/L, etc.)\n",
    "* minutes that the player will get (may depend on some subjective factors and who else may be playing on their team)\n",
    "* injuries (games played)"
   ]
  },
  {
   "cell_type": "markdown",
   "metadata": {},
   "source": [
    "##### Data that we will need to scrape:\n",
    "* player data for each season\n",
    "* team data for each season\n",
    "* coach data for each season"
   ]
  },
  {
   "cell_type": "markdown",
   "metadata": {},
   "source": [
    "### Player Data Scraping"
   ]
  },
  {
   "cell_type": "code",
   "execution_count": 1,
   "metadata": {},
   "outputs": [
    {
     "ename": "ImportError",
     "evalue": "No module named requests",
     "output_type": "error",
     "traceback": [
      "\u001b[0;31m---------------------------------------------------------------------------\u001b[0m",
      "\u001b[0;31mImportError\u001b[0m                               Traceback (most recent call last)",
      "\u001b[0;32m<ipython-input-1-84517858c805>\u001b[0m in \u001b[0;36m<module>\u001b[0;34m()\u001b[0m\n\u001b[0;32m----> 1\u001b[0;31m \u001b[0;32mimport\u001b[0m \u001b[0mrequests\u001b[0m\u001b[0;34m\u001b[0m\u001b[0m\n\u001b[0m\u001b[1;32m      2\u001b[0m \u001b[0;32mimport\u001b[0m \u001b[0mre\u001b[0m\u001b[0;34m\u001b[0m\u001b[0m\n\u001b[1;32m      3\u001b[0m \u001b[0;32mimport\u001b[0m \u001b[0mpandas\u001b[0m \u001b[0;32mas\u001b[0m \u001b[0mpd\u001b[0m\u001b[0;34m\u001b[0m\u001b[0m\n\u001b[1;32m      4\u001b[0m \u001b[0;32mimport\u001b[0m \u001b[0mstring\u001b[0m\u001b[0;34m\u001b[0m\u001b[0m\n\u001b[1;32m      5\u001b[0m \u001b[0;32mfrom\u001b[0m \u001b[0mbs4\u001b[0m \u001b[0;32mimport\u001b[0m \u001b[0mBeautifulSoup\u001b[0m\u001b[0;34m\u001b[0m\u001b[0m\n",
      "\u001b[0;31mImportError\u001b[0m: No module named requests"
     ]
    }
   ],
   "source": [
    "import requests\n",
    "import re\n",
    "import pandas as pd\n",
    "import string\n",
    "from bs4 import BeautifulSoup"
   ]
  },
  {
   "cell_type": "code",
   "execution_count": 2,
   "metadata": {
    "collapsed": true
   },
   "outputs": [],
   "source": [
    "base_url = 'https://www.basketball-reference.com'"
   ]
  },
  {
   "cell_type": "code",
   "execution_count": null,
   "metadata": {
    "collapsed": true
   },
   "outputs": [],
   "source": [
    "def parse_players(page_text):\n",
    "    soup = BeautifulSoup(page_text, \"lxml\")\n",
    "    rows = soup.find('table', id=\"players\").find_all('tr')\n",
    "    players_df = pd.DataFrame()\n",
    "    #first row appears to be headers\n",
    "    for row in rows[1:]:\n",
    "        row_df = pd.DataFrame() # temp new dataframe\n",
    "        th = row.find('th')\n",
    "        canonical = th['data-append-csv']\n",
    "        name = th.text\n",
    "        link = th.find('a')\n",
    "        row_df['link'] = [link['href']]\n",
    "        row_df['name'] = [name]\n",
    "        row_df['canonical'] = [canonical]\n",
    "        tds = row.find_all('td')\n",
    "        for td in tds:\n",
    "            header = td['data-stat']\n",
    "            value = td.text\n",
    "            row_df[header] = [value]\n",
    "        players_df = players_df.append(row_df)\n",
    "    return players_df"
   ]
  },
  {
   "cell_type": "code",
   "execution_count": null,
   "metadata": {
    "collapsed": true
   },
   "outputs": [],
   "source": [
    "def parse_player_seasons(page_text):\n",
    "    soup = BeautifulSoup(page_text, \"lxml\")\n",
    "    name = soup.find('div', itemtype=r\"https://schema.org/Person\").find(itemprop=\"name\").text\n",
    "    canonical = soup.find('link', rel=\"canonical\")['href'].split('/')[-1].replace(r'.html','')\n",
    "    per_game_regex = re.compile('per_game')\n",
    "    rows = soup.find_all('tr', id=per_game_regex)\n",
    "    # initialize the DF for per game stats\n",
    "    df = pd.DataFrame()\n",
    "    for row in rows:\n",
    "        row_df = pd.DataFrame() # temp new dataframe\n",
    "        row_df['canonical'] = [canonical]\n",
    "        row_df['name'] = [name]\n",
    "        th = row.find('th')\n",
    "        header = th['data-stat']\n",
    "        value = th.text\n",
    "        row_df[header] = [value]\n",
    "        tds = row.find_all('td')\n",
    "        for td in tds:\n",
    "            header = td['data-stat']\n",
    "            value = td.text\n",
    "            row_df[header] = [value]\n",
    "        df = df.append(row_df)\n",
    "    return df"
   ]
  },
  {
   "cell_type": "code",
   "execution_count": null,
   "metadata": {},
   "outputs": [],
   "source": [
    "players_df = pd.DataFrame()\n",
    "paths = ['/players/{}/'.format(char) for char in list(string.ascii_lowercase)]\n",
    "player_fails = []\n",
    "print('=== DOWNLOADING PLAYERS ===')\n",
    "for path in paths:\n",
    "    fullpath = base_url + path\n",
    "    response = requests.get(fullpath)\n",
    "    if response.status_code == 200:\n",
    "        new_df = parse_players(response.text)\n",
    "        players_df = players_df.append(new_df)\n",
    "        print('Players Downloaded Successfully: {}'.format(fullpath))\n",
    "    else:\n",
    "        print('Player Download Failed: {}'.format(fullpath))\n",
    "        player_fails.append(fullpath)\n",
    "players_df.reset_index(drop=True, inplace=True)\n",
    "players_df"
   ]
  },
  {
   "cell_type": "code",
   "execution_count": null,
   "metadata": {},
   "outputs": [],
   "source": [
    "player_seasons_df = pd.DataFrame()\n",
    "player_links = players_df['link'].tolist()\n",
    "player_season_fails = []\n",
    "print('=== DOWNLOADING PLAYER SEASONS ===')\n",
    "for player_link in player_links:\n",
    "    fullpath = base_url + player_link\n",
    "    response = requests.get(fullpath)\n",
    "    if response.status_code == 200:\n",
    "        new_df = parse_player_seasons(response.text)\n",
    "        player_seasons_df = player_seasons_df.append(new_df)\n",
    "        print('Player Season Downloaded Successfully: {}'.format(fullpath))\n",
    "    else:\n",
    "        print('Player Season Download Failed: {}'.format(fullpath))\n",
    "        player_season_fails.append(fullpath)\n",
    "player_seasons_df.reset_index(drop=True, inplace=True)\n",
    "player_seasons_df"
   ]
  },
  {
   "cell_type": "code",
   "execution_count": null,
   "metadata": {
    "collapsed": true
   },
   "outputs": [],
   "source": [
    "# write everything to file\n",
    "players_df.to_csv('player_list.csv')\n",
    "player_seasons_df.to_csv('player_seasons_list.csv')"
   ]
  }
 ],
 "metadata": {
  "kernelspec": {
   "display_name": "Python [default]",
   "language": "python",
   "name": "python3"
  },
  "language_info": {
   "codemirror_mode": {
    "name": "ipython",
    "version": 3
   },
   "file_extension": ".py",
   "mimetype": "text/x-python",
   "name": "python",
   "nbconvert_exporter": "python",
   "pygments_lexer": "ipython3",
   "version": "3.5.4"
  }
 },
 "nbformat": 4,
 "nbformat_minor": 2
}
