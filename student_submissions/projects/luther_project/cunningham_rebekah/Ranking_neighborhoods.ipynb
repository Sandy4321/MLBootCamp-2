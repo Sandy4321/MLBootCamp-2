{
 "cells": [
  {
   "cell_type": "code",
   "execution_count": 137,
   "metadata": {
    "collapsed": true
   },
   "outputs": [],
   "source": [
    "import pickle\n",
    "import pandas as pd\n",
    "import numpy as np\n",
    "import geopandas as gp"
   ]
  },
  {
   "cell_type": "code",
   "execution_count": 111,
   "metadata": {
    "collapsed": true
   },
   "outputs": [],
   "source": [
    "df = pd.read_pickle('smallerdf')"
   ]
  },
  {
   "cell_type": "code",
   "execution_count": 112,
   "metadata": {
    "collapsed": true
   },
   "outputs": [],
   "source": [
    "df_gpby = df.groupby(\"neighborhood\", as_index=False)['Rent'].mean()"
   ]
  },
  {
   "cell_type": "code",
   "execution_count": 113,
   "metadata": {
    "collapsed": true
   },
   "outputs": [],
   "source": [
    "df_gpby = df_gpby.sort_values('Rent')"
   ]
  },
  {
   "cell_type": "code",
   "execution_count": 114,
   "metadata": {
    "collapsed": true
   },
   "outputs": [],
   "source": [
    "df_gpby.reset_index(inplace=True)"
   ]
  },
  {
   "cell_type": "code",
   "execution_count": 115,
   "metadata": {
    "collapsed": true
   },
   "outputs": [],
   "source": [
    "del df_gpby['index']"
   ]
  },
  {
   "cell_type": "code",
   "execution_count": 116,
   "metadata": {
    "collapsed": true
   },
   "outputs": [],
   "source": [
    "df_gpby.reset_index(inplace=True)"
   ]
  },
  {
   "cell_type": "code",
   "execution_count": 117,
   "metadata": {
    "collapsed": true
   },
   "outputs": [],
   "source": [
    "df_gpby.columns = ['Rank', 'neighborhood', 'Rent']"
   ]
  },
  {
   "cell_type": "code",
   "execution_count": 199,
   "metadata": {},
   "outputs": [
    {
     "data": {
      "text/html": [
       "<div>\n",
       "<style>\n",
       "    .dataframe thead tr:only-child th {\n",
       "        text-align: right;\n",
       "    }\n",
       "\n",
       "    .dataframe thead th {\n",
       "        text-align: left;\n",
       "    }\n",
       "\n",
       "    .dataframe tbody tr th {\n",
       "        vertical-align: top;\n",
       "    }\n",
       "</style>\n",
       "<table border=\"1\" class=\"dataframe\">\n",
       "  <thead>\n",
       "    <tr style=\"text-align: right;\">\n",
       "      <th></th>\n",
       "      <th>Address</th>\n",
       "      <th>Bath</th>\n",
       "      <th>Beds</th>\n",
       "      <th>Features</th>\n",
       "      <th>Kitchen</th>\n",
       "      <th>LivingSpace</th>\n",
       "      <th>Outdoor</th>\n",
       "      <th>Parking</th>\n",
       "      <th>Pets</th>\n",
       "      <th>Rent</th>\n",
       "      <th>...</th>\n",
       "      <th>Rooftop</th>\n",
       "      <th>Grill</th>\n",
       "      <th>Picnic Area</th>\n",
       "      <th>Waterfront</th>\n",
       "      <th>Deck</th>\n",
       "      <th>Fenced Lot</th>\n",
       "      <th>Garden</th>\n",
       "      <th>Lawn</th>\n",
       "      <th>Yard</th>\n",
       "      <th>Porch</th>\n",
       "    </tr>\n",
       "  </thead>\n",
       "  <tbody>\n",
       "  </tbody>\n",
       "</table>\n",
       "<p>0 rows × 43 columns</p>\n",
       "</div>"
      ],
      "text/plain": [
       "Empty DataFrame\n",
       "Columns: [Address, Bath, Beds, Features, Kitchen, LivingSpace, Outdoor, Parking, Pets, Rent, Sqft, Zip, uFeatures, neighborhood, Rank, Pets Allowed, High Speed Internet Access, Ceiling Fan, Tub/Shower, Double Vanities, Alarm, Washer/Dryer, Air Conditioning, Storage Units, Smoke Free, Fireplace, Heating, Cable Ready, Gated, Balcony, Patio, Sundeck, Courtyard, Rooftop, Grill, Picnic Area, Waterfront, Deck, Fenced Lot, Garden, Lawn, Yard, Porch]\n",
       "Index: []\n",
       "\n",
       "[0 rows x 43 columns]"
      ]
     },
     "execution_count": 199,
     "metadata": {},
     "output_type": "execute_result"
    }
   ],
   "source": []
  },
  {
   "cell_type": "code",
   "execution_count": null,
   "metadata": {
    "collapsed": true
   },
   "outputs": [],
   "source": []
  },
  {
   "cell_type": "code",
   "execution_count": 119,
   "metadata": {
    "collapsed": true
   },
   "outputs": [],
   "source": [
    "df['Rank'] = [int(df_gpby[df_gpby.neighborhood == d].Rank) for d in df.neighborhood]"
   ]
  },
  {
   "cell_type": "code",
   "execution_count": 120,
   "metadata": {
    "scrolled": true
   },
   "outputs": [
    {
     "data": {
      "text/html": [
       "<div>\n",
       "<style>\n",
       "    .dataframe thead tr:only-child th {\n",
       "        text-align: right;\n",
       "    }\n",
       "\n",
       "    .dataframe thead th {\n",
       "        text-align: left;\n",
       "    }\n",
       "\n",
       "    .dataframe tbody tr th {\n",
       "        vertical-align: top;\n",
       "    }\n",
       "</style>\n",
       "<table border=\"1\" class=\"dataframe\">\n",
       "  <thead>\n",
       "    <tr style=\"text-align: right;\">\n",
       "      <th></th>\n",
       "      <th>Address</th>\n",
       "      <th>Bath</th>\n",
       "      <th>Beds</th>\n",
       "      <th>Features</th>\n",
       "      <th>Kitchen</th>\n",
       "      <th>LivingSpace</th>\n",
       "      <th>Outdoor</th>\n",
       "      <th>Parking</th>\n",
       "      <th>Pets</th>\n",
       "      <th>Rent</th>\n",
       "      <th>Sqft</th>\n",
       "      <th>Zip</th>\n",
       "      <th>uFeatures</th>\n",
       "      <th>neighborhood</th>\n",
       "      <th>Rank</th>\n",
       "    </tr>\n",
       "  </thead>\n",
       "  <tbody>\n",
       "    <tr>\n",
       "      <th>0</th>\n",
       "      <td>1222 Harrison StSan FranciscoCA94103</td>\n",
       "      <td>1.0</td>\n",
       "      <td>0</td>\n",
       "      <td>High Speed Internet Access,Wi-Fi,Washer/Dryer,...</td>\n",
       "      <td>Green Rooftops</td>\n",
       "      <td>Hardwood Floors,Carpet,Vinyl Flooring,Dining R...</td>\n",
       "      <td>Rooftop Lounge,Courtyard,Grill,Picnic Area</td>\n",
       "      <td>0</td>\n",
       "      <td>No Pets Allowed,,Dogs Allowed:,Fairfield welco...</td>\n",
       "      <td>3495</td>\n",
       "      <td>445</td>\n",
       "      <td>94103</td>\n",
       "      <td>Bike Storage,Central Courtyard with Ping Pong,...</td>\n",
       "      <td>South of Market</td>\n",
       "      <td>56</td>\n",
       "    </tr>\n",
       "    <tr>\n",
       "      <th>1</th>\n",
       "      <td>1222 Harrison StSan FranciscoCA94103</td>\n",
       "      <td>1.0</td>\n",
       "      <td>0</td>\n",
       "      <td>High Speed Internet Access,Wi-Fi,Washer/Dryer,...</td>\n",
       "      <td>Green Rooftops</td>\n",
       "      <td>Hardwood Floors,Carpet,Vinyl Flooring,Dining R...</td>\n",
       "      <td>Rooftop Lounge,Courtyard,Grill,Picnic Area</td>\n",
       "      <td>0</td>\n",
       "      <td>No Pets Allowed,,Dogs Allowed:,Fairfield welco...</td>\n",
       "      <td>3495</td>\n",
       "      <td>445</td>\n",
       "      <td>94103</td>\n",
       "      <td>Bike Storage,Central Courtyard with Ping Pong,...</td>\n",
       "      <td>South of Market</td>\n",
       "      <td>56</td>\n",
       "    </tr>\n",
       "    <tr>\n",
       "      <th>2</th>\n",
       "      <td>1222 Harrison StSan FranciscoCA94103</td>\n",
       "      <td>1.0</td>\n",
       "      <td>1</td>\n",
       "      <td>High Speed Internet Access,Wi-Fi,Washer/Dryer,...</td>\n",
       "      <td>Green Rooftops</td>\n",
       "      <td>Hardwood Floors,Carpet,Vinyl Flooring,Dining R...</td>\n",
       "      <td>Rooftop Lounge,Courtyard,Grill,Picnic Area</td>\n",
       "      <td>0</td>\n",
       "      <td>No Pets Allowed,,Dogs Allowed:,Fairfield welco...</td>\n",
       "      <td>4136</td>\n",
       "      <td>680</td>\n",
       "      <td>94103</td>\n",
       "      <td>Bike Storage,Central Courtyard with Ping Pong,...</td>\n",
       "      <td>South of Market</td>\n",
       "      <td>56</td>\n",
       "    </tr>\n",
       "    <tr>\n",
       "      <th>3</th>\n",
       "      <td>1222 Harrison StSan FranciscoCA94103</td>\n",
       "      <td>2.0</td>\n",
       "      <td>2</td>\n",
       "      <td>High Speed Internet Access,Wi-Fi,Washer/Dryer,...</td>\n",
       "      <td>Green Rooftops</td>\n",
       "      <td>Hardwood Floors,Carpet,Vinyl Flooring,Dining R...</td>\n",
       "      <td>Rooftop Lounge,Courtyard,Grill,Picnic Area</td>\n",
       "      <td>0</td>\n",
       "      <td>No Pets Allowed,,Dogs Allowed:,Fairfield welco...</td>\n",
       "      <td>5342</td>\n",
       "      <td>982</td>\n",
       "      <td>94103</td>\n",
       "      <td>Bike Storage,Central Courtyard with Ping Pong,...</td>\n",
       "      <td>South of Market</td>\n",
       "      <td>56</td>\n",
       "    </tr>\n",
       "    <tr>\n",
       "      <th>4</th>\n",
       "      <td>340 Fremont StSan FranciscoCA94105</td>\n",
       "      <td>1.0</td>\n",
       "      <td>0</td>\n",
       "      <td>Washer/Dryer,Air Conditioning,Storage Units</td>\n",
       "      <td>Island Kitchen with Stainless Steel Appliances</td>\n",
       "      <td>Walk-In Closets</td>\n",
       "      <td>Sundeck</td>\n",
       "      <td>Parking,Covered,Parking Available</td>\n",
       "      <td>Dogs and Cats Allowed:,0,$500 Deposit,$75 Mont...</td>\n",
       "      <td>3140</td>\n",
       "      <td>498</td>\n",
       "      <td>94105</td>\n",
       "      <td>Smoke Free Living</td>\n",
       "      <td>Rincon Hill</td>\n",
       "      <td>104</td>\n",
       "    </tr>\n",
       "  </tbody>\n",
       "</table>\n",
       "</div>"
      ],
      "text/plain": [
       "                                Address  Bath  Beds  \\\n",
       "0  1222 Harrison StSan FranciscoCA94103   1.0     0   \n",
       "1  1222 Harrison StSan FranciscoCA94103   1.0     0   \n",
       "2  1222 Harrison StSan FranciscoCA94103   1.0     1   \n",
       "3  1222 Harrison StSan FranciscoCA94103   2.0     2   \n",
       "4    340 Fremont StSan FranciscoCA94105   1.0     0   \n",
       "\n",
       "                                            Features  \\\n",
       "0  High Speed Internet Access,Wi-Fi,Washer/Dryer,...   \n",
       "1  High Speed Internet Access,Wi-Fi,Washer/Dryer,...   \n",
       "2  High Speed Internet Access,Wi-Fi,Washer/Dryer,...   \n",
       "3  High Speed Internet Access,Wi-Fi,Washer/Dryer,...   \n",
       "4        Washer/Dryer,Air Conditioning,Storage Units   \n",
       "\n",
       "                                          Kitchen  \\\n",
       "0                                  Green Rooftops   \n",
       "1                                  Green Rooftops   \n",
       "2                                  Green Rooftops   \n",
       "3                                  Green Rooftops   \n",
       "4  Island Kitchen with Stainless Steel Appliances   \n",
       "\n",
       "                                         LivingSpace  \\\n",
       "0  Hardwood Floors,Carpet,Vinyl Flooring,Dining R...   \n",
       "1  Hardwood Floors,Carpet,Vinyl Flooring,Dining R...   \n",
       "2  Hardwood Floors,Carpet,Vinyl Flooring,Dining R...   \n",
       "3  Hardwood Floors,Carpet,Vinyl Flooring,Dining R...   \n",
       "4                                    Walk-In Closets   \n",
       "\n",
       "                                      Outdoor  \\\n",
       "0  Rooftop Lounge,Courtyard,Grill,Picnic Area   \n",
       "1  Rooftop Lounge,Courtyard,Grill,Picnic Area   \n",
       "2  Rooftop Lounge,Courtyard,Grill,Picnic Area   \n",
       "3  Rooftop Lounge,Courtyard,Grill,Picnic Area   \n",
       "4                                     Sundeck   \n",
       "\n",
       "                             Parking  \\\n",
       "0                                  0   \n",
       "1                                  0   \n",
       "2                                  0   \n",
       "3                                  0   \n",
       "4  Parking,Covered,Parking Available   \n",
       "\n",
       "                                                Pets  Rent  Sqft    Zip  \\\n",
       "0  No Pets Allowed,,Dogs Allowed:,Fairfield welco...  3495   445  94103   \n",
       "1  No Pets Allowed,,Dogs Allowed:,Fairfield welco...  3495   445  94103   \n",
       "2  No Pets Allowed,,Dogs Allowed:,Fairfield welco...  4136   680  94103   \n",
       "3  No Pets Allowed,,Dogs Allowed:,Fairfield welco...  5342   982  94103   \n",
       "4  Dogs and Cats Allowed:,0,$500 Deposit,$75 Mont...  3140   498  94105   \n",
       "\n",
       "                                           uFeatures     neighborhood  Rank  \n",
       "0  Bike Storage,Central Courtyard with Ping Pong,...  South of Market    56  \n",
       "1  Bike Storage,Central Courtyard with Ping Pong,...  South of Market    56  \n",
       "2  Bike Storage,Central Courtyard with Ping Pong,...  South of Market    56  \n",
       "3  Bike Storage,Central Courtyard with Ping Pong,...  South of Market    56  \n",
       "4                                  Smoke Free Living      Rincon Hill   104  "
      ]
     },
     "execution_count": 120,
     "metadata": {},
     "output_type": "execute_result"
    }
   ],
   "source": [
    "df.head()"
   ]
  },
  {
   "cell_type": "code",
   "execution_count": 121,
   "metadata": {},
   "outputs": [
    {
     "data": {
      "text/plain": [
       "2757"
      ]
     },
     "execution_count": 121,
     "metadata": {},
     "output_type": "execute_result"
    }
   ],
   "source": [
    "pets = []\n",
    "\n",
    "for p in df.Pets:\n",
    "    if isinstance(p, str):\n",
    "        if 'Dogs and Cats Allowed' in p:\n",
    "            pets.append(1)\n",
    "        elif \"Cats and Dogs Allowed\" in p:\n",
    "            pets.append(1)\n",
    "        elif \"Cats Allowed\" in p:\n",
    "            pets.append(1)\n",
    "        elif \"Dogs Allowed\" in p:\n",
    "            pets.append(1)\n",
    "        elif \"Pets Negotiable\" in p:\n",
    "            pets.append(1)\n",
    "        else:\n",
    "            pets.append(0)\n",
    "    else:\n",
    "        pets.append(0)\n",
    "len(pets)"
   ]
  },
  {
   "cell_type": "code",
   "execution_count": 122,
   "metadata": {
    "collapsed": true
   },
   "outputs": [],
   "source": [
    "df['Pets Allowed'] = pets"
   ]
  },
  {
   "cell_type": "code",
   "execution_count": 123,
   "metadata": {
    "collapsed": true
   },
   "outputs": [],
   "source": [
    "parking = []\n",
    "value = 0\n",
    "for p in df.Parking:\n",
    "    if p:\n",
    "        if \"Garage\" in p:\n",
    "            value = 1\n",
    "        elif \"Surface\" in p:\n",
    "            value = 1\n",
    "        elif \"Street\" in p:\n",
    "            value = 0\n",
    "        elif \"Covered\" in p:\n",
    "            value = 1\n",
    "        parking.append(value)\n",
    "    else:\n",
    "        parking.append(value)"
   ]
  },
  {
   "cell_type": "code",
   "execution_count": 124,
   "metadata": {
    "collapsed": true
   },
   "outputs": [],
   "source": [
    "df['Parking'] = parking"
   ]
  },
  {
   "cell_type": "code",
   "execution_count": 125,
   "metadata": {
    "collapsed": true
   },
   "outputs": [],
   "source": [
    "amenities = [\"High Speed Internet Access\",\"Ceiling Fan\", \"Tub/Shower\", \"Double Vanities\",\"Alarm\",\"Washer/Dryer\", \"Air Conditioning\", \"Storage Units\", \"Smoke Free\", \"Fireplace\", \"Heating\", \"Cable Ready\"]\n",
    "\n",
    "def get_vals(amen):\n",
    "    temp = []\n",
    "    for f in df.Features: \n",
    "        if f:\n",
    "            if amen in f:\n",
    "                temp.append(1)\n",
    "            else:\n",
    "                temp.append(0)\n",
    "        else:\n",
    "            temp.append(0)\n",
    "    return temp"
   ]
  },
  {
   "cell_type": "code",
   "execution_count": 191,
   "metadata": {},
   "outputs": [
    {
     "data": {
      "text/html": [
       "<div>\n",
       "<style>\n",
       "    .dataframe thead tr:only-child th {\n",
       "        text-align: right;\n",
       "    }\n",
       "\n",
       "    .dataframe thead th {\n",
       "        text-align: left;\n",
       "    }\n",
       "\n",
       "    .dataframe tbody tr th {\n",
       "        vertical-align: top;\n",
       "    }\n",
       "</style>\n",
       "<table border=\"1\" class=\"dataframe\">\n",
       "  <thead>\n",
       "    <tr style=\"text-align: right;\">\n",
       "      <th></th>\n",
       "      <th>Address</th>\n",
       "      <th>Bath</th>\n",
       "      <th>Beds</th>\n",
       "      <th>Features</th>\n",
       "      <th>Kitchen</th>\n",
       "      <th>LivingSpace</th>\n",
       "      <th>Outdoor</th>\n",
       "      <th>Parking</th>\n",
       "      <th>Pets</th>\n",
       "      <th>Rent</th>\n",
       "      <th>...</th>\n",
       "      <th>Rooftop</th>\n",
       "      <th>Grill</th>\n",
       "      <th>Picnic Area</th>\n",
       "      <th>Waterfront</th>\n",
       "      <th>Deck</th>\n",
       "      <th>Fenced Lot</th>\n",
       "      <th>Garden</th>\n",
       "      <th>Lawn</th>\n",
       "      <th>Yard</th>\n",
       "      <th>Porch</th>\n",
       "    </tr>\n",
       "  </thead>\n",
       "  <tbody>\n",
       "    <tr>\n",
       "      <th>5275</th>\n",
       "      <td>91 Saint Germain AveSan FranciscoCA94114</td>\n",
       "      <td>3.0</td>\n",
       "      <td>4</td>\n",
       "      <td>None</td>\n",
       "      <td>None</td>\n",
       "      <td>None</td>\n",
       "      <td>None</td>\n",
       "      <td>1</td>\n",
       "      <td>None</td>\n",
       "      <td>9500</td>\n",
       "      <td>...</td>\n",
       "      <td>0</td>\n",
       "      <td>0</td>\n",
       "      <td>0</td>\n",
       "      <td>0</td>\n",
       "      <td>0</td>\n",
       "      <td>0</td>\n",
       "      <td>0</td>\n",
       "      <td>0</td>\n",
       "      <td>0</td>\n",
       "      <td>0</td>\n",
       "    </tr>\n",
       "  </tbody>\n",
       "</table>\n",
       "<p>1 rows × 43 columns</p>\n",
       "</div>"
      ],
      "text/plain": [
       "                                       Address  Bath  Beds Features Kitchen  \\\n",
       "5275  91 Saint Germain AveSan FranciscoCA94114   3.0     4     None    None   \n",
       "\n",
       "     LivingSpace Outdoor  Parking  Pets  Rent  ...    Rooftop  Grill  \\\n",
       "5275        None    None        1  None  9500  ...          0      0   \n",
       "\n",
       "     Picnic Area Waterfront  Deck  Fenced Lot  Garden  Lawn  Yard  Porch  \n",
       "5275           0          0     0           0       0     0     0      0  \n",
       "\n",
       "[1 rows x 43 columns]"
      ]
     },
     "execution_count": 191,
     "metadata": {},
     "output_type": "execute_result"
    }
   ],
   "source": [
    "for a in amenities:\n",
    "    df[a] = get_vals(a)\n",
    "df[df.neighborhood == 'Clarendon Heights']"
   ]
  },
  {
   "cell_type": "code",
   "execution_count": 127,
   "metadata": {
    "collapsed": true
   },
   "outputs": [],
   "source": [
    "outdoor = [\"Gated\", \"Balcony\",\"Patio\", \"Sundeck\", \"Courtyard\", \"Rooftop\", \"Grill\", \"Picnic Area\",\"Waterfront\", \"Deck\", \"Fenced Lot\", \"Garden\", \"Lawn\", \"Yard\", \"Porch\"  ]\n",
    "\n",
    "def get_vals(amen):\n",
    "    temp = []\n",
    "    for f in df.Outdoor: \n",
    "        if f:\n",
    "            if amen in f:\n",
    "                temp.append(1)\n",
    "            else:\n",
    "                temp.append(0)\n",
    "        else:\n",
    "            temp.append(0)\n",
    "    return temp\n",
    "\n",
    "for i in outdoor:\n",
    "    df[i] = get_vals(i) \n"
   ]
  },
  {
   "cell_type": "code",
   "execution_count": 128,
   "metadata": {},
   "outputs": [
    {
     "data": {
      "text/plain": [
       "(2757, 43)"
      ]
     },
     "execution_count": 128,
     "metadata": {},
     "output_type": "execute_result"
    }
   ],
   "source": [
    "df.shape"
   ]
  },
  {
   "cell_type": "code",
   "execution_count": 130,
   "metadata": {
    "collapsed": true
   },
   "outputs": [],
   "source": [
    "df.to_pickle('RankedNbhds')"
   ]
  },
  {
   "cell_type": "code",
   "execution_count": 456,
   "metadata": {},
   "outputs": [],
   "source": [
    "%matplotlib inline"
   ]
  },
  {
   "cell_type": "code",
   "execution_count": 141,
   "metadata": {},
   "outputs": [
    {
     "data": {
      "text/html": [
       "<div>\n",
       "<style>\n",
       "    .dataframe thead tr:only-child th {\n",
       "        text-align: right;\n",
       "    }\n",
       "\n",
       "    .dataframe thead th {\n",
       "        text-align: left;\n",
       "    }\n",
       "\n",
       "    .dataframe tbody tr th {\n",
       "        vertical-align: top;\n",
       "    }\n",
       "</style>\n",
       "<table border=\"1\" class=\"dataframe\">\n",
       "  <thead>\n",
       "    <tr style=\"text-align: right;\">\n",
       "      <th></th>\n",
       "      <th>link</th>\n",
       "      <th>name</th>\n",
       "      <th>geometry</th>\n",
       "    </tr>\n",
       "  </thead>\n",
       "  <tbody>\n",
       "    <tr>\n",
       "      <th>0</th>\n",
       "      <td>http://en.wikipedia.org/wiki/Sea_Cliff,_San_Fr...</td>\n",
       "      <td>Seacliff</td>\n",
       "      <td>POLYGON ((-122.4934552679999 37.78351817100008...</td>\n",
       "    </tr>\n",
       "    <tr>\n",
       "      <th>1</th>\n",
       "      <td></td>\n",
       "      <td>Lake Street</td>\n",
       "      <td>POLYGON ((-122.4871507149999 37.78378542700005...</td>\n",
       "    </tr>\n",
       "    <tr>\n",
       "      <th>2</th>\n",
       "      <td>http://www.nps.gov/prsf/index.htm</td>\n",
       "      <td>Presidio National Park</td>\n",
       "      <td>POLYGON ((-122.4775801709999 37.81099311300005...</td>\n",
       "    </tr>\n",
       "    <tr>\n",
       "      <th>3</th>\n",
       "      <td></td>\n",
       "      <td>Presidio Terrace</td>\n",
       "      <td>POLYGON ((-122.4724105299999 37.78734653900005...</td>\n",
       "    </tr>\n",
       "    <tr>\n",
       "      <th>4</th>\n",
       "      <td>http://www.sfgate.com/neighborhoods/sf/innerri...</td>\n",
       "      <td>Inner Richmond</td>\n",
       "      <td>POLYGON ((-122.4726257899999 37.78631480600006...</td>\n",
       "    </tr>\n",
       "  </tbody>\n",
       "</table>\n",
       "</div>"
      ],
      "text/plain": [
       "                                                link                    name  \\\n",
       "0  http://en.wikipedia.org/wiki/Sea_Cliff,_San_Fr...                Seacliff   \n",
       "1                                                                Lake Street   \n",
       "2                  http://www.nps.gov/prsf/index.htm  Presidio National Park   \n",
       "3                                                           Presidio Terrace   \n",
       "4  http://www.sfgate.com/neighborhoods/sf/innerri...          Inner Richmond   \n",
       "\n",
       "                                            geometry  \n",
       "0  POLYGON ((-122.4934552679999 37.78351817100008...  \n",
       "1  POLYGON ((-122.4871507149999 37.78378542700005...  \n",
       "2  POLYGON ((-122.4775801709999 37.81099311300005...  \n",
       "3  POLYGON ((-122.4724105299999 37.78734653900005...  \n",
       "4  POLYGON ((-122.4726257899999 37.78631480600006...  "
      ]
     },
     "execution_count": 141,
     "metadata": {},
     "output_type": "execute_result"
    }
   ],
   "source": [
    "\n",
    "sf = gp.read_file('SF/geo_export_ba54c133-9f1c-4d00-9fe0-827d0bef3148.shp')\n",
    "sf.head()"
   ]
  },
  {
   "cell_type": "code",
   "execution_count": 144,
   "metadata": {},
   "outputs": [],
   "source": [
    "sf.columns = ['neighborhood', 'geometry']"
   ]
  },
  {
   "cell_type": "code",
   "execution_count": 170,
   "metadata": {},
   "outputs": [],
   "source": [
    "new_thing = pd.merge(df_gpby, sf, left_on=\"neighborhood\", right_on=\"neighborhood\", how='right')"
   ]
  },
  {
   "cell_type": "code",
   "execution_count": 202,
   "metadata": {},
   "outputs": [
    {
     "data": {
      "text/plain": [
       "0                          Seacliff\n",
       "1                       Lake Street\n",
       "2            Presidio National Park\n",
       "3                  Presidio Terrace\n",
       "4                    Inner Richmond\n",
       "5                     Sutro Heights\n",
       "6          Lincoln Park / Ft. Miley\n",
       "7                    Outer Richmond\n",
       "8                  Golden Gate Park\n",
       "9                  Presidio Heights\n",
       "10     Laurel Heights / Jordan Park\n",
       "11                    Lone Mountain\n",
       "12                       Anza Vista\n",
       "13                       Cow Hollow\n",
       "14                     Union Street\n",
       "15                           Marina\n",
       "16                   Telegraph Hill\n",
       "17          Downtown / Union Square\n",
       "18                       Tenderloin\n",
       "19                     Civic Center\n",
       "20                     Hayes Valley\n",
       "21                     Alamo Square\n",
       "22                        Panhandle\n",
       "23                   Haight Ashbury\n",
       "24                     Lower Haight\n",
       "25                        Mint Hill\n",
       "26                  Duboce Triangle\n",
       "27                      Cole Valley\n",
       "28                      Rincon Hill\n",
       "29                      South Beach\n",
       "                   ...             \n",
       "87                          Portola\n",
       "88                 University Mound\n",
       "89                   St. Marys Park\n",
       "90                  Mission Terrace\n",
       "91                        Excelsior\n",
       "92                        Sunnyside\n",
       "93                        Glen Park\n",
       "94         Aquatic Park / Ft. Mason\n",
       "95                 Fishermans Wharf\n",
       "96                   Cathedral Hill\n",
       "97                        Japantown\n",
       "98                  Pacific Heights\n",
       "99            Lower Pacific Heights\n",
       "100                Western Addition\n",
       "101                       Chinatown\n",
       "102                        Nob Hill\n",
       "103                  Lower Nob Hill\n",
       "104                      Polk Gulch\n",
       "105                     North Beach\n",
       "106                    Russian Hill\n",
       "107              Financial District\n",
       "108                    Inner Sunset\n",
       "109               Parnassus Heights\n",
       "110                   Forest Knolls\n",
       "111                     Buena Vista\n",
       "112                  Corona Heights\n",
       "113                 Ashbury Heights\n",
       "114                   Eureka Valley\n",
       "115                St. Francis Wood\n",
       "116                 Sherwood Forest\n",
       "Name: neighborhood, Length: 117, dtype: object"
      ]
     },
     "execution_count": 202,
     "metadata": {},
     "output_type": "execute_result"
    }
   ],
   "source": [
    "sf.neighborhood"
   ]
  },
  {
   "cell_type": "code",
   "execution_count": 172,
   "metadata": {},
   "outputs": [
    {
     "data": {
      "text/plain": [
       "(117, 4)"
      ]
     },
     "execution_count": 172,
     "metadata": {},
     "output_type": "execute_result"
    }
   ],
   "source": [
    "new_thing.shape"
   ]
  },
  {
   "cell_type": "code",
   "execution_count": 173,
   "metadata": {},
   "outputs": [
    {
     "data": {
      "text/html": [
       "<div>\n",
       "<style>\n",
       "    .dataframe thead tr:only-child th {\n",
       "        text-align: right;\n",
       "    }\n",
       "\n",
       "    .dataframe thead th {\n",
       "        text-align: left;\n",
       "    }\n",
       "\n",
       "    .dataframe tbody tr th {\n",
       "        vertical-align: top;\n",
       "    }\n",
       "</style>\n",
       "<table border=\"1\" class=\"dataframe\">\n",
       "  <thead>\n",
       "    <tr style=\"text-align: right;\">\n",
       "      <th></th>\n",
       "      <th>Rank</th>\n",
       "      <th>neighborhood</th>\n",
       "      <th>Rent</th>\n",
       "      <th>geometry</th>\n",
       "    </tr>\n",
       "  </thead>\n",
       "  <tbody>\n",
       "    <tr>\n",
       "      <th>0</th>\n",
       "      <td>0.0</td>\n",
       "      <td>Forest Hill</td>\n",
       "      <td>2150.00</td>\n",
       "      <td>POLYGON ((-122.4680732909999 37.74338394500006...</td>\n",
       "    </tr>\n",
       "    <tr>\n",
       "      <th>1</th>\n",
       "      <td>1.0</td>\n",
       "      <td>Chinatown</td>\n",
       "      <td>2185.00</td>\n",
       "      <td>POLYGON ((-122.4095410479999 37.79385192800004...</td>\n",
       "    </tr>\n",
       "    <tr>\n",
       "      <th>2</th>\n",
       "      <td>3.0</td>\n",
       "      <td>Sutro Heights</td>\n",
       "      <td>2200.00</td>\n",
       "      <td>POLYGON ((-122.5031047159999 37.78129638200005...</td>\n",
       "    </tr>\n",
       "    <tr>\n",
       "      <th>3</th>\n",
       "      <td>6.0</td>\n",
       "      <td>Tenderloin</td>\n",
       "      <td>2598.75</td>\n",
       "      <td>POLYGON ((-122.4098740169999 37.78714914200009...</td>\n",
       "    </tr>\n",
       "    <tr>\n",
       "      <th>4</th>\n",
       "      <td>12.0</td>\n",
       "      <td>Parnassus Heights</td>\n",
       "      <td>2750.00</td>\n",
       "      <td>POLYGON ((-122.4529470339999 37.76637407300007...</td>\n",
       "    </tr>\n",
       "  </tbody>\n",
       "</table>\n",
       "</div>"
      ],
      "text/plain": [
       "   Rank       neighborhood     Rent  \\\n",
       "0   0.0        Forest Hill  2150.00   \n",
       "1   1.0          Chinatown  2185.00   \n",
       "2   3.0      Sutro Heights  2200.00   \n",
       "3   6.0         Tenderloin  2598.75   \n",
       "4  12.0  Parnassus Heights  2750.00   \n",
       "\n",
       "                                            geometry  \n",
       "0  POLYGON ((-122.4680732909999 37.74338394500006...  \n",
       "1  POLYGON ((-122.4095410479999 37.79385192800004...  \n",
       "2  POLYGON ((-122.5031047159999 37.78129638200005...  \n",
       "3  POLYGON ((-122.4098740169999 37.78714914200009...  \n",
       "4  POLYGON ((-122.4529470339999 37.76637407300007...  "
      ]
     },
     "execution_count": 173,
     "metadata": {},
     "output_type": "execute_result"
    }
   ],
   "source": [
    "new_thing.head()"
   ]
  },
  {
   "cell_type": "code",
   "execution_count": 174,
   "metadata": {},
   "outputs": [],
   "source": [
    "new_thing = gp.GeoDataFrame(new_thing, geometry='geometry')"
   ]
  },
  {
   "cell_type": "code",
   "execution_count": 210,
   "metadata": {},
   "outputs": [
    {
     "data": {
      "text/html": [
       "<div>\n",
       "<style>\n",
       "    .dataframe thead tr:only-child th {\n",
       "        text-align: right;\n",
       "    }\n",
       "\n",
       "    .dataframe thead th {\n",
       "        text-align: left;\n",
       "    }\n",
       "\n",
       "    .dataframe tbody tr th {\n",
       "        vertical-align: top;\n",
       "    }\n",
       "</style>\n",
       "<table border=\"1\" class=\"dataframe\">\n",
       "  <thead>\n",
       "    <tr style=\"text-align: right;\">\n",
       "      <th></th>\n",
       "      <th>Rank</th>\n",
       "      <th>neighborhood</th>\n",
       "      <th>Rent</th>\n",
       "      <th>geometry</th>\n",
       "    </tr>\n",
       "  </thead>\n",
       "  <tbody>\n",
       "    <tr>\n",
       "      <th>55</th>\n",
       "      <td>87.0</td>\n",
       "      <td>Mission</td>\n",
       "      <td>4425.428571</td>\n",
       "      <td>POLYGON ((-122.4223648179999 37.76986769700005...</td>\n",
       "    </tr>\n",
       "  </tbody>\n",
       "</table>\n",
       "</div>"
      ],
      "text/plain": [
       "    Rank neighborhood         Rent  \\\n",
       "55  87.0      Mission  4425.428571   \n",
       "\n",
       "                                             geometry  \n",
       "55  POLYGON ((-122.4223648179999 37.76986769700005...  "
      ]
     },
     "execution_count": 210,
     "metadata": {},
     "output_type": "execute_result"
    }
   ],
   "source": [
    "new_thing[new_thing.neighborhood == 'Mission']"
   ]
  },
  {
   "cell_type": "code",
   "execution_count": 431,
   "metadata": {},
   "outputs": [
    {
     "name": "stderr",
     "output_type": "stream",
     "text": [
      "/Users/bekcunning/anaconda/lib/python3.6/site-packages/matplotlib/colors.py:496: RuntimeWarning: invalid value encountered in less\n",
      "  cbook._putmask(xa, xa < 0.0, -1)\n"
     ]
    },
    {
     "data": {
      "image/png": "[encoded data removed]",
      "text/plain": [
       "<matplotlib.figure.Figure at 0x11c35d0b8>"
      ]
     },
     "metadata": {},
     "output_type": "display_data"
    }
   ],
   "source": [
    "fig, ax = plt.subplots(1, figsize=(10,8))\n",
    "_ = ax.axis('off')\n",
    "new_thing = new_thing[new_thing.neighborhood != 'Treasure Island']\n",
    "new_thing = new_thing[new_thing.neighborhood != 'Yerba Buena Island']\n",
    "\n",
    "base = new_thing.plot(ax=ax, cmap = 'gist_heat', column='Rank')\n",
    "base.plot()\n",
    "\n",
    "ax.set_title('SF Neighborhoods Rank');"
   ]
  },
  {
   "cell_type": "code",
   "execution_count": 407,
   "metadata": {},
   "outputs": [
    {
     "name": "stderr",
     "output_type": "stream",
     "text": [
      "/Users/bekcunning/anaconda/lib/python3.6/site-packages/matplotlib/colors.py:496: RuntimeWarning: invalid value encountered in less\n",
      "  cbook._putmask(xa, xa < 0.0, -1)\n"
     ]
    },
    {
     "data": {
      "text/plain": [
       "<matplotlib.axes._subplots.AxesSubplot at 0x11c012048>"
      ]
     },
     "execution_count": 407,
     "metadata": {},
     "output_type": "execute_result"
    },
    {
     "data": {
      "image/png": "[encoded data removed]",
      "text/plain": [
       "<matplotlib.figure.Figure at 0x11c0d59e8>"
      ]
     },
     "metadata": {},
     "output_type": "display_data"
    },
    {
     "data": {
      "image/png": "[encoded data removed]",
      "text/plain": [
       "<matplotlib.figure.Figure at 0x11c0127f0>"
      ]
     },
     "metadata": {},
     "output_type": "display_data"
    }
   ],
   "source": [
    "import matplotlib.pyplot as plt\n",
    "fig, ax = plt.subplots(1)\n",
    "_ = ax.axis(\"off\")\n",
    "plt.title('SF Neighborhoods Rank')\n",
    "new_thing[new_thing.neighborhood != 'Clarendon Heights'].plot(column='Rank', figsize = (8, 8))"
   ]
  },
  {
   "cell_type": "code",
   "execution_count": 317,
   "metadata": {},
   "outputs": [
    {
     "data": {
      "text/html": [
       "<div>\n",
       "<style>\n",
       "    .dataframe thead tr:only-child th {\n",
       "        text-align: right;\n",
       "    }\n",
       "\n",
       "    .dataframe thead th {\n",
       "        text-align: left;\n",
       "    }\n",
       "\n",
       "    .dataframe tbody tr th {\n",
       "        vertical-align: top;\n",
       "    }\n",
       "</style>\n",
       "<table border=\"1\" class=\"dataframe\">\n",
       "  <thead>\n",
       "    <tr style=\"text-align: right;\">\n",
       "      <th></th>\n",
       "      <th>neighborhood</th>\n",
       "      <th>geometry</th>\n",
       "    </tr>\n",
       "  </thead>\n",
       "  <tbody>\n",
       "    <tr>\n",
       "      <th>0</th>\n",
       "      <td>Larkspur</td>\n",
       "      <td>POLYGON ((-122.5243029121294 37.95572865743023...</td>\n",
       "    </tr>\n",
       "    <tr>\n",
       "      <th>1</th>\n",
       "      <td>Mill Valley</td>\n",
       "      <td>POLYGON ((-122.5600658839977 37.92963285094756...</td>\n",
       "    </tr>\n",
       "    <tr>\n",
       "      <th>2</th>\n",
       "      <td>Corte Madera</td>\n",
       "      <td>POLYGON ((-122.5040388375632 37.94204254609092...</td>\n",
       "    </tr>\n",
       "    <tr>\n",
       "      <th>3</th>\n",
       "      <td>Belvedere</td>\n",
       "      <td>POLYGON ((-122.4760641078376 37.88599926119488...</td>\n",
       "    </tr>\n",
       "    <tr>\n",
       "      <th>4</th>\n",
       "      <td>San Anselmo</td>\n",
       "      <td>(POLYGON ((-122.5835276637802 37.9993797449077...</td>\n",
       "    </tr>\n",
       "  </tbody>\n",
       "</table>\n",
       "</div>"
      ],
      "text/plain": [
       "   neighborhood                                           geometry\n",
       "0      Larkspur  POLYGON ((-122.5243029121294 37.95572865743023...\n",
       "1   Mill Valley  POLYGON ((-122.5600658839977 37.92963285094756...\n",
       "2  Corte Madera  POLYGON ((-122.5040388375632 37.94204254609092...\n",
       "3     Belvedere  POLYGON ((-122.4760641078376 37.88599926119488...\n",
       "4   San Anselmo  (POLYGON ((-122.5835276637802 37.9993797449077..."
      ]
     },
     "execution_count": 317,
     "metadata": {},
     "output_type": "execute_result"
    }
   ],
   "source": [
    "marin = gp.read_file('City/City.shp')\n",
    "marin.head()\n",
    "marin = marin[['Name', 'geometry']]\n",
    "marin.columns = ['neighborhood', 'geometry']\n",
    "\n",
    "marin.head()"
   ]
  },
  {
   "cell_type": "code",
   "execution_count": 319,
   "metadata": {
    "collapsed": true
   },
   "outputs": [],
   "source": [
    "all_hoods = sf.append(marin)"
   ]
  },
  {
   "cell_type": "code",
   "execution_count": 457,
   "metadata": {},
   "outputs": [],
   "source": [
    "oak = gp.read_file('CEDA_Nhhods02/CEDA_Neighborhoods2002.shp')\n",
    "oak.columns = ['neighborhood', 'geometry']"
   ]
  },
  {
   "cell_type": "code",
   "execution_count": 386,
   "metadata": {
    "collapsed": true
   },
   "outputs": [],
   "source": [
    "oak_merge = pd.merge(df_gpby, oak, left_on=\"neighborhood\", right_on=\"neighborhood\", how='right')"
   ]
  },
  {
   "cell_type": "code",
   "execution_count": 380,
   "metadata": {},
   "outputs": [],
   "source": [
    "oak = oak.to_crs(sf.crs)"
   ]
  },
  {
   "cell_type": "code",
   "execution_count": 388,
   "metadata": {},
   "outputs": [],
   "source": [
    "oak_merge = oak_merge[oak_merge.Rent.notnull()]"
   ]
  },
  {
   "cell_type": "code",
   "execution_count": 390,
   "metadata": {},
   "outputs": [],
   "source": [
    "oak_merge = gp.GeoDataFrame(oak_merge, geometry='geometry')"
   ]
  },
  {
   "cell_type": "code",
   "execution_count": null,
   "metadata": {},
   "outputs": [],
   "source": []
  },
  {
   "cell_type": "code",
   "execution_count": null,
   "metadata": {},
   "outputs": [],
   "source": []
  },
  {
   "cell_type": "code",
   "execution_count": 322,
   "metadata": {
    "collapsed": true
   },
   "outputs": [],
   "source": [
    "all_hoods = sf.append(oak)"
   ]
  },
  {
   "cell_type": "code",
   "execution_count": 323,
   "metadata": {
    "collapsed": true
   },
   "outputs": [],
   "source": [
    "all_hoods_df = pd.merge(df_gpby, all_hoods, left_on=\"neighborhood\", right_on=\"neighborhood\", how='right')"
   ]
  },
  {
   "cell_type": "code",
   "execution_count": null,
   "metadata": {},
   "outputs": [],
   "source": []
  },
  {
   "cell_type": "code",
   "execution_count": 283,
   "metadata": {
    "collapsed": true
   },
   "outputs": [],
   "source": [
    "#all_hoods = all_hoods.append(the_rest)"
   ]
  },
  {
   "cell_type": "code",
   "execution_count": 325,
   "metadata": {},
   "outputs": [],
   "source": [
    "all_hoods_df = pd.merge(df_gpby, all_hoods, left_on=\"neighborhood\", right_on=\"neighborhood\", how='left')"
   ]
  },
  {
   "cell_type": "code",
   "execution_count": 326,
   "metadata": {},
   "outputs": [
    {
     "data": {
      "text/plain": [
       "(130, 4)"
      ]
     },
     "execution_count": 326,
     "metadata": {},
     "output_type": "execute_result"
    }
   ],
   "source": [
    "all_hoods_df.shape"
   ]
  },
  {
   "cell_type": "code",
   "execution_count": 327,
   "metadata": {},
   "outputs": [
    {
     "data": {
      "text/plain": [
       "False    130\n",
       "Name: Rank, dtype: int64"
      ]
     },
     "execution_count": 327,
     "metadata": {},
     "output_type": "execute_result"
    }
   ],
   "source": [
    "all_hoods_df.Rank.isnull().value_counts()"
   ]
  },
  {
   "cell_type": "code",
   "execution_count": 329,
   "metadata": {},
   "outputs": [],
   "source": [
    "all_hoods_df.drop_duplicates('neighborhood', inplace=True)"
   ]
  },
  {
   "cell_type": "code",
   "execution_count": 330,
   "metadata": {},
   "outputs": [],
   "source": [
    "all_hoods_df = all_hoods_df[all_hoods_df.geometry.notnull()]"
   ]
  },
  {
   "cell_type": "code",
   "execution_count": 331,
   "metadata": {},
   "outputs": [],
   "source": [
    "all_hoods_df = gp.GeoDataFrame(all_hoods_df, geometry='geometry')"
   ]
  },
  {
   "cell_type": "code",
   "execution_count": 316,
   "metadata": {},
   "outputs": [
    {
     "data": {
      "text/html": [
       "<div>\n",
       "<style>\n",
       "    .dataframe thead tr:only-child th {\n",
       "        text-align: right;\n",
       "    }\n",
       "\n",
       "    .dataframe thead th {\n",
       "        text-align: left;\n",
       "    }\n",
       "\n",
       "    .dataframe tbody tr th {\n",
       "        vertical-align: top;\n",
       "    }\n",
       "</style>\n",
       "<table border=\"1\" class=\"dataframe\">\n",
       "  <thead>\n",
       "    <tr style=\"text-align: right;\">\n",
       "      <th></th>\n",
       "      <th>Rank</th>\n",
       "      <th>neighborhood</th>\n",
       "      <th>Rent</th>\n",
       "      <th>geometry</th>\n",
       "    </tr>\n",
       "  </thead>\n",
       "  <tbody>\n",
       "    <tr>\n",
       "      <th>0</th>\n",
       "      <td>0</td>\n",
       "      <td>Forest Hill</td>\n",
       "      <td>2150.00</td>\n",
       "      <td>POLYGON ((-122.4680732909999 37.74338394500006...</td>\n",
       "    </tr>\n",
       "    <tr>\n",
       "      <th>1</th>\n",
       "      <td>1</td>\n",
       "      <td>Chinatown</td>\n",
       "      <td>2185.00</td>\n",
       "      <td>POLYGON ((-122.4095410479999 37.79385192800004...</td>\n",
       "    </tr>\n",
       "    <tr>\n",
       "      <th>4</th>\n",
       "      <td>3</td>\n",
       "      <td>Sutro Heights</td>\n",
       "      <td>2200.00</td>\n",
       "      <td>POLYGON ((-122.5031047159999 37.78129638200005...</td>\n",
       "    </tr>\n",
       "    <tr>\n",
       "      <th>6</th>\n",
       "      <td>5</td>\n",
       "      <td>Fairfax</td>\n",
       "      <td>2575.00</td>\n",
       "      <td>POLYGON ((6071225.400917395 2108490.153050147,...</td>\n",
       "    </tr>\n",
       "    <tr>\n",
       "      <th>7</th>\n",
       "      <td>6</td>\n",
       "      <td>Tenderloin</td>\n",
       "      <td>2598.75</td>\n",
       "      <td>POLYGON ((-122.4098740169999 37.78714914200009...</td>\n",
       "    </tr>\n",
       "  </tbody>\n",
       "</table>\n",
       "</div>"
      ],
      "text/plain": [
       "   Rank   neighborhood     Rent  \\\n",
       "0     0    Forest Hill  2150.00   \n",
       "1     1      Chinatown  2185.00   \n",
       "4     3  Sutro Heights  2200.00   \n",
       "6     5        Fairfax  2575.00   \n",
       "7     6     Tenderloin  2598.75   \n",
       "\n",
       "                                            geometry  \n",
       "0  POLYGON ((-122.4680732909999 37.74338394500006...  \n",
       "1  POLYGON ((-122.4095410479999 37.79385192800004...  \n",
       "4  POLYGON ((-122.5031047159999 37.78129638200005...  \n",
       "6  POLYGON ((6071225.400917395 2108490.153050147,...  \n",
       "7  POLYGON ((-122.4098740169999 37.78714914200009...  "
      ]
     },
     "execution_count": 316,
     "metadata": {},
     "output_type": "execute_result"
    }
   ],
   "source": [
    "all_hoods_df.head()"
   ]
  },
  {
   "cell_type": "code",
   "execution_count": 440,
   "metadata": {
    "collapsed": true
   },
   "outputs": [],
   "source": [
    "cities = gp.read_file('cb_2016_06_cousub_500k/cb_2016_06_cousub_500k.shp')"
   ]
  },
  {
   "cell_type": "code",
   "execution_count": 441,
   "metadata": {},
   "outputs": [],
   "source": [
    "cities = cities[cities.NAME != 'San Francisco']"
   ]
  },
  {
   "cell_type": "code",
   "execution_count": 442,
   "metadata": {},
   "outputs": [
    {
     "data": {
      "text/plain": [
       "{'init': 'epsg:4269'}"
      ]
     },
     "execution_count": 442,
     "metadata": {},
     "output_type": "execute_result"
    }
   ],
   "source": [
    "cities.crs"
   ]
  },
  {
   "cell_type": "code",
   "execution_count": 443,
   "metadata": {},
   "outputs": [
    {
     "data": {
      "text/plain": [
       "{'init': 'epsg:4326'}"
      ]
     },
     "execution_count": 443,
     "metadata": {},
     "output_type": "execute_result"
    }
   ],
   "source": [
    "sf.crs"
   ]
  },
  {
   "cell_type": "code",
   "execution_count": 444,
   "metadata": {},
   "outputs": [],
   "source": [
    "cities = cities.to_crs(sf.crs)"
   ]
  },
  {
   "cell_type": "code",
   "execution_count": 445,
   "metadata": {},
   "outputs": [
    {
     "data": {
      "text/html": [
       "<div>\n",
       "<style>\n",
       "    .dataframe thead tr:only-child th {\n",
       "        text-align: right;\n",
       "    }\n",
       "\n",
       "    .dataframe thead th {\n",
       "        text-align: left;\n",
       "    }\n",
       "\n",
       "    .dataframe tbody tr th {\n",
       "        vertical-align: top;\n",
       "    }\n",
       "</style>\n",
       "<table border=\"1\" class=\"dataframe\">\n",
       "  <thead>\n",
       "    <tr style=\"text-align: right;\">\n",
       "      <th></th>\n",
       "      <th>STATEFP</th>\n",
       "      <th>COUNTYFP</th>\n",
       "      <th>COUSUBFP</th>\n",
       "      <th>COUSUBNS</th>\n",
       "      <th>AFFGEOID</th>\n",
       "      <th>GEOID</th>\n",
       "      <th>NAME</th>\n",
       "      <th>LSAD</th>\n",
       "      <th>ALAND</th>\n",
       "      <th>AWATER</th>\n",
       "      <th>geometry</th>\n",
       "    </tr>\n",
       "  </thead>\n",
       "  <tbody>\n",
       "    <tr>\n",
       "      <th>0</th>\n",
       "      <td>06</td>\n",
       "      <td>037</td>\n",
       "      <td>92360</td>\n",
       "      <td>01935241</td>\n",
       "      <td>0600000US0603792360</td>\n",
       "      <td>0603792360</td>\n",
       "      <td>Palos Verdes</td>\n",
       "      <td>22</td>\n",
       "      <td>411491141</td>\n",
       "      <td>1204381663</td>\n",
       "      <td>(POLYGON ((-118.428407 33.774715, -118.4270481...</td>\n",
       "    </tr>\n",
       "    <tr>\n",
       "      <th>1</th>\n",
       "      <td>06</td>\n",
       "      <td>087</td>\n",
       "      <td>92900</td>\n",
       "      <td>01935295</td>\n",
       "      <td>0600000US0608792900</td>\n",
       "      <td>0608792900</td>\n",
       "      <td>Santa Cruz</td>\n",
       "      <td>22</td>\n",
       "      <td>262518300</td>\n",
       "      <td>201920667</td>\n",
       "      <td>POLYGON ((-122.10232 37.033359, -122.100376 37...</td>\n",
       "    </tr>\n",
       "    <tr>\n",
       "      <th>2</th>\n",
       "      <td>06</td>\n",
       "      <td>097</td>\n",
       "      <td>90510</td>\n",
       "      <td>01935055</td>\n",
       "      <td>0600000US0609790510</td>\n",
       "      <td>0609790510</td>\n",
       "      <td>Cloverdale-Geyserville</td>\n",
       "      <td>22</td>\n",
       "      <td>781028161</td>\n",
       "      <td>15578143</td>\n",
       "      <td>POLYGON ((-123.271867 38.799168, -123.270082 3...</td>\n",
       "    </tr>\n",
       "    <tr>\n",
       "      <th>3</th>\n",
       "      <td>06</td>\n",
       "      <td>085</td>\n",
       "      <td>93175</td>\n",
       "      <td>02583195</td>\n",
       "      <td>0600000US0608593175</td>\n",
       "      <td>0608593175</td>\n",
       "      <td>South Santa Clara Valley</td>\n",
       "      <td>22</td>\n",
       "      <td>303490589</td>\n",
       "      <td>1549654</td>\n",
       "      <td>POLYGON ((-121.70535 37.12808, -121.70213 37.1...</td>\n",
       "    </tr>\n",
       "    <tr>\n",
       "      <th>4</th>\n",
       "      <td>06</td>\n",
       "      <td>021</td>\n",
       "      <td>92280</td>\n",
       "      <td>01935233</td>\n",
       "      <td>0600000US0602192280</td>\n",
       "      <td>0602192280</td>\n",
       "      <td>Orland</td>\n",
       "      <td>22</td>\n",
       "      <td>1573088336</td>\n",
       "      <td>17733264</td>\n",
       "      <td>POLYGON ((-122.93795 39.749883, -122.937427 39...</td>\n",
       "    </tr>\n",
       "  </tbody>\n",
       "</table>\n",
       "</div>"
      ],
      "text/plain": [
       "  STATEFP COUNTYFP COUSUBFP  COUSUBNS             AFFGEOID       GEOID  \\\n",
       "0      06      037    92360  01935241  0600000US0603792360  0603792360   \n",
       "1      06      087    92900  01935295  0600000US0608792900  0608792900   \n",
       "2      06      097    90510  01935055  0600000US0609790510  0609790510   \n",
       "3      06      085    93175  02583195  0600000US0608593175  0608593175   \n",
       "4      06      021    92280  01935233  0600000US0602192280  0602192280   \n",
       "\n",
       "                       NAME LSAD       ALAND      AWATER  \\\n",
       "0              Palos Verdes   22   411491141  1204381663   \n",
       "1                Santa Cruz   22   262518300   201920667   \n",
       "2    Cloverdale-Geyserville   22   781028161    15578143   \n",
       "3  South Santa Clara Valley   22   303490589     1549654   \n",
       "4                    Orland   22  1573088336    17733264   \n",
       "\n",
       "                                            geometry  \n",
       "0  (POLYGON ((-118.428407 33.774715, -118.4270481...  \n",
       "1  POLYGON ((-122.10232 37.033359, -122.100376 37...  \n",
       "2  POLYGON ((-123.271867 38.799168, -123.270082 3...  \n",
       "3  POLYGON ((-121.70535 37.12808, -121.70213 37.1...  \n",
       "4  POLYGON ((-122.93795 39.749883, -122.937427 39...  "
      ]
     },
     "execution_count": 445,
     "metadata": {},
     "output_type": "execute_result"
    }
   ],
   "source": [
    "cities.head()"
   ]
  },
  {
   "cell_type": "code",
   "execution_count": 446,
   "metadata": {
    "collapsed": true
   },
   "outputs": [],
   "source": [
    "cities = cities[['NAME', 'geometry']]"
   ]
  },
  {
   "cell_type": "code",
   "execution_count": 447,
   "metadata": {
    "collapsed": true
   },
   "outputs": [],
   "source": [
    "cities.columns = ['neighborhood', 'geometry']"
   ]
  },
  {
   "cell_type": "code",
   "execution_count": 450,
   "metadata": {},
   "outputs": [],
   "source": [
    "all_cities_ = pd.merge(df_gpby[['Rank', 'Rent', 'neighborhood']], cities, left_on=\"neighborhood\", right_on=\"neighborhood\", how='left')\n",
    "all_cities_ = all_cities_[all_cities_.geometry.notnull()]\n"
   ]
  },
  {
   "cell_type": "code",
   "execution_count": 451,
   "metadata": {
    "collapsed": true
   },
   "outputs": [],
   "source": [
    "all_cities_ = gp.GeoDataFrame(all_cities_, geometry='geometry')"
   ]
  },
  {
   "cell_type": "code",
   "execution_count": null,
   "metadata": {},
   "outputs": [],
   "source": []
  },
  {
   "cell_type": "code",
   "execution_count": 362,
   "metadata": {
    "collapsed": true
   },
   "outputs": [],
   "source": [
    "all_hoods_df = pd.merge(df_gpby[['Rank', 'Rent', 'neighborhood']], cities, left_on=\"neighborhood\", right_on=\"neighborhood\", how='right')"
   ]
  },
  {
   "cell_type": "code",
   "execution_count": 363,
   "metadata": {},
   "outputs": [
    {
     "data": {
      "text/plain": [
       "(513, 4)"
      ]
     },
     "execution_count": 363,
     "metadata": {},
     "output_type": "execute_result"
    }
   ],
   "source": [
    "all_hoods_df.shape"
   ]
  },
  {
   "cell_type": "code",
   "execution_count": 366,
   "metadata": {},
   "outputs": [],
   "source": [
    "all_hoods_geo = all_hoods_df[all_hoods_df.Rent.notnull()]"
   ]
  },
  {
   "cell_type": "code",
   "execution_count": 367,
   "metadata": {},
   "outputs": [
    {
     "data": {
      "text/plain": [
       "(91, 4)"
      ]
     },
     "execution_count": 367,
     "metadata": {},
     "output_type": "execute_result"
    }
   ],
   "source": [
    "all_hoods_geo.shape"
   ]
  },
  {
   "cell_type": "code",
   "execution_count": 368,
   "metadata": {
    "collapsed": true
   },
   "outputs": [],
   "source": [
    "all_hoods_geo = gp.GeoDataFrame(all_hoods_geo, geometry='geometry')"
   ]
  },
  {
   "cell_type": "code",
   "execution_count": 392,
   "metadata": {},
   "outputs": [
    {
     "data": {
      "text/html": [
       "<div>\n",
       "<style>\n",
       "    .dataframe thead tr:only-child th {\n",
       "        text-align: right;\n",
       "    }\n",
       "\n",
       "    .dataframe thead th {\n",
       "        text-align: left;\n",
       "    }\n",
       "\n",
       "    .dataframe tbody tr th {\n",
       "        vertical-align: top;\n",
       "    }\n",
       "</style>\n",
       "<table border=\"1\" class=\"dataframe\">\n",
       "  <thead>\n",
       "    <tr style=\"text-align: right;\">\n",
       "      <th></th>\n",
       "      <th>neighborhood</th>\n",
       "      <th>geometry</th>\n",
       "    </tr>\n",
       "  </thead>\n",
       "  <tbody>\n",
       "    <tr>\n",
       "      <th>0</th>\n",
       "      <td>Larkspur</td>\n",
       "      <td>POLYGON ((-122.5243029121294 37.95572865743023...</td>\n",
       "    </tr>\n",
       "    <tr>\n",
       "      <th>1</th>\n",
       "      <td>Mill Valley</td>\n",
       "      <td>POLYGON ((-122.5600658839977 37.92963285094756...</td>\n",
       "    </tr>\n",
       "    <tr>\n",
       "      <th>2</th>\n",
       "      <td>Corte Madera</td>\n",
       "      <td>POLYGON ((-122.5040388375632 37.94204254609092...</td>\n",
       "    </tr>\n",
       "    <tr>\n",
       "      <th>3</th>\n",
       "      <td>Belvedere</td>\n",
       "      <td>POLYGON ((-122.4760641078376 37.88599926119488...</td>\n",
       "    </tr>\n",
       "    <tr>\n",
       "      <th>4</th>\n",
       "      <td>San Anselmo</td>\n",
       "      <td>(POLYGON ((-122.5835276637802 37.9993797449077...</td>\n",
       "    </tr>\n",
       "  </tbody>\n",
       "</table>\n",
       "</div>"
      ],
      "text/plain": [
       "   neighborhood                                           geometry\n",
       "0      Larkspur  POLYGON ((-122.5243029121294 37.95572865743023...\n",
       "1   Mill Valley  POLYGON ((-122.5600658839977 37.92963285094756...\n",
       "2  Corte Madera  POLYGON ((-122.5040388375632 37.94204254609092...\n",
       "3     Belvedere  POLYGON ((-122.4760641078376 37.88599926119488...\n",
       "4   San Anselmo  (POLYGON ((-122.5835276637802 37.9993797449077..."
      ]
     },
     "execution_count": 392,
     "metadata": {},
     "output_type": "execute_result"
    }
   ],
   "source": [
    "marin.head()"
   ]
  },
  {
   "cell_type": "code",
   "execution_count": 393,
   "metadata": {
    "collapsed": true
   },
   "outputs": [],
   "source": [
    "marin_hoods = pd.merge(df_gpby, marin, left_on=\"neighborhood\", right_on=\"neighborhood\", how='right')"
   ]
  },
  {
   "cell_type": "code",
   "execution_count": 435,
   "metadata": {},
   "outputs": [],
   "source": [
    "marin_hoods = gp.GeoDataFrame(marin_hoods, geometry='geometry')\n",
    "marin_hoods = marin_hoods[marin_hoods.Rank.notnull()]"
   ]
  },
  {
   "cell_type": "code",
   "execution_count": null,
   "metadata": {
    "collapsed": true
   },
   "outputs": [],
   "source": []
  }
 ],
 "metadata": {
  "kernelspec": {
   "display_name": "Python 3",
   "language": "python",
   "name": "python3"
  },
  "language_info": {
   "codemirror_mode": {
    "name": "ipython",
    "version": 3
   },
   "file_extension": ".py",
   "mimetype": "text/x-python",
   "name": "python",
   "nbconvert_exporter": "python",
   "pygments_lexer": "ipython3",
   "version": "3.6.1"
  }
 },
 "nbformat": 4,
 "nbformat_minor": 2
}
