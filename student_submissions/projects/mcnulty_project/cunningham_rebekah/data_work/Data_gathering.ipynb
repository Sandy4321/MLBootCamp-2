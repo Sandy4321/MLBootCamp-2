{
 "cells": [
  {
   "cell_type": "code",
   "execution_count": null,
   "metadata": {
    "collapsed": true
   },
   "outputs": [],
   "source": [
    "import pandas as pd\n",
    "from sklearn.linear_model import LogisticRegression\n",
    "from sklearn.cross_validation import cross_val_score\n",
    "from sklearn.naive_bayes import GaussianNB\n",
    "from sklearn.svm import SVC\n",
    "from sklearn.tree import DecisionTreeClassifier\n",
    "from sklearn.ensemble import RandomForestClassifier\n",
    "from sklearn.cross_validation import train_test_split\n",
    "from sklearn import tree"
   ]
  },
  {
   "cell_type": "code",
   "execution_count": null,
   "metadata": {
    "collapsed": true
   },
   "outputs": [],
   "source": [
    "data_all = pd.DataFrame.from_csv('36361-0001-Data.tsv', sep='\\t')\n"
   ]
  },
  {
   "cell_type": "code",
   "execution_count": null,
   "metadata": {
    "collapsed": true
   },
   "outputs": [],
   "source": [
    "pd.Series(data_all.columns).to_csv('outfile.csv')"
   ]
  },
  {
   "cell_type": "code",
   "execution_count": null,
   "metadata": {},
   "outputs": [],
   "source": [
    "sum((data == 994).any(0))"
   ]
  },
  {
   "cell_type": "code",
   "execution_count": null,
   "metadata": {},
   "outputs": [],
   "source": [
    "data_all['HER30USE'].value_counts()"
   ]
  },
  {
   "cell_type": "code",
   "execution_count": null,
   "metadata": {
    "collapsed": true
   },
   "outputs": [],
   "source": [
    "\n",
    "cols = ['CIGEVER', 'SNFEVER', 'CHEWEVER', 'PIPEVER', 'ALCEVER', 'MJEVER', 'COCEVER', 'CRKEVER', 'HEREVER', 'INHEVER', 'ANLEVER', 'TRNEVER', 'STMEVER', 'SEDEVER', 'BLNTEVER', 'TXEVER', 'TXYREVER', 'ACTDEVER','CIGTRY', 'ALCTRY', 'CHEWTRY', 'SLTTRY', 'CIGARTRY', 'MJAGE', 'CRKAGE', 'COCAGE', 'HERAGE', 'LSDAGE', 'PCPAGE', 'ECSAGE', 'INHAGE', 'ANALAGE', 'OXYCAGE','TRANAGE','STIMAGE', 'METHAGE','SEDAGE', 'PSYAGE2', 'NRCH17_2', 'IRHHSIZ2', 'IRKI17_2', 'IRHH65_2', 'IRFAMSZ2', 'IRKIDFA2', 'IRFAMSOC', 'IRFAMSSI', 'IRFAMWAG', 'IRFSTAMP', 'IRFAMPMT', 'IRFAMSVC', 'IRWELMOS', 'IRPINC3', 'IRFAMIN3','AGE2', 'NOMARR2', 'SERVICE', 'MILSTAT', 'ACTDEVER', 'ACTD2001', 'ACTD9001', 'ACTD7590', 'ACTDVIET', 'ACTDPRIV', 'COMBATPY', 'HEALTH', 'IRSEX', 'IREDUC2', 'PDEN10', 'COUTYP2', 'EMPSTAT4', 'WRKOCUP2','WRKBZCA2','EMPSTATY','COLLENR', 'LFTSCHA2', 'HSDIPLMA', 'HSGED','LFSCHWH2' ]\n",
    "cols_y = ['DEPNDALC', 'DEPNDANL', 'DEPNDCOC', 'DEPNDHAL', 'DEPNDHER', 'DEPNDINH', 'DEPNDMRJ', 'DEPNDSED', 'DEPNDSTM', 'DEPNDTRN', 'DEPNDILL', 'DEPNDIEM', 'DEPNDXMJ', 'DEPNDPSY', 'DPILLALC', 'DPILANAL' ]\n"
   ]
  },
  {
   "cell_type": "code",
   "execution_count": null,
   "metadata": {
    "collapsed": true
   },
   "outputs": [],
   "source": [
    "X = data_all[cols]\n",
    "y = data_all['DEPNDILL']"
   ]
  },
  {
   "cell_type": "code",
   "execution_count": null,
   "metadata": {},
   "outputs": [],
   "source": [
    "data_all[cols].head()"
   ]
  },
  {
   "cell_type": "code",
   "execution_count": null,
   "metadata": {},
   "outputs": [],
   "source": [
    "lr = LogisticRegression(class_weight=\"balanced\")\n",
    "gnb = GaussianNB()\n",
    "svc = SVC(class_weight=\"balanced\")\n",
    "dtc = DecisionTreeClassifier(class_weight=\"balanced\")\n",
    "rfc = RandomForestClassifier(class_weight=\"balanced\")\n",
    "print('Accuracy for each classifier:')\n",
    "#print('Logistic', cross_val_score(lr, X, y).mean())\n",
    "#print('GaussianNB', cross_val_score(gnb, X, y).mean())\n",
    "#print('SVC', cross_val_score(svc, X, y).mean())\n",
    "print('DecisionTreeClassifier', cross_val_score(dtc, X, y).mean())\n",
    "print('RandomForestClassifier', cross_val_score(rfc, X, y).mean())"
   ]
  },
  {
   "cell_type": "code",
   "execution_count": null,
   "metadata": {
    "collapsed": true
   },
   "outputs": [],
   "source": [
    "X_train, X_test, y_train, y_test = train_test_split(X,y, test_size=0.30, random_state=4444)"
   ]
  },
  {
   "cell_type": "code",
   "execution_count": null,
   "metadata": {},
   "outputs": [],
   "source": [
    "lr.fit(X_train, y_train)\n",
    "gnb.fit(X_train, y_train)\n",
    "svc.fit(X_train, y_train)\n",
    "dtc.fit(X_train, y_train)\n",
    "rfc.fit(X_train, y_train)"
   ]
  },
  {
   "cell_type": "code",
   "execution_count": null,
   "metadata": {
    "collapsed": true
   },
   "outputs": [],
   "source": [
    "lr_pred = lr.predict(X_test)\n",
    "gnb_pred = gnb.predict(X_test)\n",
    "svc_pred = svc.predict(X_test)\n",
    "dtc_pred = dtc.predict(X_test)\n",
    "rfc_pred = rfc.predict(X_test)"
   ]
  },
  {
   "cell_type": "code",
   "execution_count": null,
   "metadata": {},
   "outputs": [],
   "source": [
    "print(\"lr\", sum(lr_pred))\n",
    "print(\"gnb\", sum(gnb_pred))\n",
    "print(\"svc\", sum(svc_pred))\n",
    "print(\"dtc\", sum(dtc_pred))\n",
    "print(\"rfc\", sum(rfc_pred))\n",
    "print(\"Actual\", sum(y_test))"
   ]
  },
  {
   "cell_type": "code",
   "execution_count": null,
   "metadata": {
    "collapsed": true
   },
   "outputs": [],
   "source": []
  },
  {
   "cell_type": "code",
   "execution_count": null,
   "metadata": {
    "collapsed": true
   },
   "outputs": [],
   "source": [
    "tree.export_graphviz(dtc, out_file='tree.dot')    "
   ]
  },
  {
   "cell_type": "code",
   "execution_count": null,
   "metadata": {
    "collapsed": true
   },
   "outputs": [],
   "source": [
    "X_rev = data_all[data_all['MJAGE'] < 800]\n",
    "y_rev = data_all[data_all['MJAGE'] < 800].DEPNDILL\n"
   ]
  },
  {
   "cell_type": "code",
   "execution_count": null,
   "metadata": {},
   "outputs": [],
   "source": [
    "y_rev.value_counts()"
   ]
  },
  {
   "cell_type": "code",
   "execution_count": null,
   "metadata": {},
   "outputs": [],
   "source": [
    "plt.scatter(X_rev['PSYAGE2'], y_rev, c=y.map({0: 'w', 1: 'b'}))"
   ]
  },
  {
   "cell_type": "code",
   "execution_count": null,
   "metadata": {},
   "outputs": [],
   "source": [
    "from sklearn.ensemble import GradientBoostingClassifier\n",
    "\n",
    "gb_grid_params = {'learning_rate': [0.1, 0.05, 0.02, 0.01],\n",
    "              'max_depth': [4, 6, 8],\n",
    "              'min_samples_leaf': [20, 50,100,150],\n",
    "              #'max_features': [1.0, 0.3, 0.1] \n",
    "              }\n",
    "btc = GradientBoostingClassifier(n_estimators = 600)\n",
    "\n",
    "clf = grid_search.GridSearchCV(btc,\n",
    "                               gb_grid_params,\n",
    "                               cv=2,\n",
    "                               scoring='roc_auc',\n",
    "                               verbose = 3, \n",
    "                               n_jobs=10);\n",
    "clf.fit(X, y)"
   ]
  },
  {
   "cell_type": "code",
   "execution_count": null,
   "metadata": {},
   "outputs": [],
   "source": [
    "y_pred_gbc = clf.predict(X_test)\n",
    "sum(y_pred_gbc)"
   ]
  },
  {
   "cell_type": "code",
   "execution_count": null,
   "metadata": {
    "scrolled": true
   },
   "outputs": [],
   "source": [
    "sorted(list(zip(dtc.feature_importances_, X.columns)), reverse=True)"
   ]
  },
  {
   "cell_type": "code",
   "execution_count": null,
   "metadata": {},
   "outputs": [],
   "source": [
    "from sklearn import metrics, cross_validation\n",
    "predicted = cross_validation.cross_val_predict(LogisticRegression(), X, y, cv=10)\n",
    "print(metrics.accuracy_score(y, predicted))"
   ]
  },
  {
   "cell_type": "code",
   "execution_count": null,
   "metadata": {},
   "outputs": [],
   "source": [
    "sum(predicted)"
   ]
  },
  {
   "cell_type": "code",
   "execution_count": null,
   "metadata": {},
   "outputs": [],
   "source": [
    "from sklearn import grid_search\n",
    "from sklearn import tree\n",
    "from sklearn.cross_validation import StratifiedKFold\n",
    "import numpy as np\n",
    "parameter_grid = {'max_depth': [1, 2, 3, 4, 5],\n",
    "                  'max_features': [1, 2, 3, 4]}\n",
    "cross_validation = StratifiedKFold(y, n_folds=10)\n",
    "\n",
    "#print(parameters)\n",
    "clf = grid_search.GridSearchCV(tree.DecisionTreeClassifier(), param_grid = parameter_grid, n_jobs=4, cv = cross_validation)\n",
    "clf.fit(X, y)\n",
    "tree_model = clf.best_estimator_\n",
    "print (clf.best_score_, clf.best_params_) \n"
   ]
  },
  {
   "cell_type": "code",
   "execution_count": null,
   "metadata": {},
   "outputs": [],
   "source": []
  },
  {
   "cell_type": "code",
   "execution_count": null,
   "metadata": {
    "scrolled": true
   },
   "outputs": [],
   "source": [
    "#data_coke = data_all[data_all['CO']]\n",
    "plotting_data = data_all[data_all['CRKAGE']<70]\n",
    "plotting_data = plotting_data[plotting_data['HER30USE']<80]\n",
    "plotting_data.plot(y='HERAGE', kind='hist')"
   ]
  },
  {
   "cell_type": "code",
   "execution_count": null,
   "metadata": {
    "collapsed": true
   },
   "outputs": [],
   "source": [
    "#sns.pairplot(data_all[cols])"
   ]
  },
  {
   "cell_type": "code",
   "execution_count": null,
   "metadata": {
    "collapsed": true
   },
   "outputs": [],
   "source": [
    "data = pd.DataFrame.from_csv('36361-0001-Data.tsv', sep='\\t')\n"
   ]
  },
  {
   "cell_type": "code",
   "execution_count": null,
   "metadata": {
    "collapsed": true
   },
   "outputs": [],
   "source": [
    "#Replace never used values with 0\n",
    "data.replace(9991, 0, inplace=True)\n",
    "data.replace(991, 0, inplace=True)\n",
    "data.replace(91, 0, inplace=True)"
   ]
  },
  {
   "cell_type": "code",
   "execution_count": null,
   "metadata": {
    "collapsed": true
   },
   "outputs": [],
   "source": [
    "#Replace never used Legit skips with 0\n",
    "data.replace(9999, 0, inplace=True)\n",
    "data.replace(999, 0, inplace=True)\n",
    "data.replace(99, 0, inplace=True)"
   ]
  },
  {
   "cell_type": "code",
   "execution_count": null,
   "metadata": {
    "collapsed": true
   },
   "outputs": [],
   "source": [
    "#Replace Never used values with 0\n",
    "data.replace(9981, 0, inplace=True)\n",
    "data.replace(981, 0, inplace=True)\n",
    "data.replace(81, 0, inplace=True)"
   ]
  },
  {
   "cell_type": "code",
   "execution_count": null,
   "metadata": {
    "collapsed": true
   },
   "outputs": [],
   "source": [
    "#Replace legit skip with 0\n",
    "data.replace(89, 0, inplace=True)\n",
    "data.replace(989, 0, inplace=True)\n",
    "data.replace(9989, 0, inplace=True)"
   ]
  },
  {
   "cell_type": "code",
   "execution_count": null,
   "metadata": {
    "collapsed": true
   },
   "outputs": [],
   "source": [
    "#Replace none in last 30 days\n",
    "data.replace(93, 0, inplace=True)\n",
    "data.replace(993, 0, inplace=True)\n",
    "data.replace(9993, 0, inplace=True)"
   ]
  },
  {
   "cell_type": "code",
   "execution_count": null,
   "metadata": {
    "collapsed": true
   },
   "outputs": [],
   "source": [
    "#Replace legit not answer\n",
    "data.replace(98, 0, inplace=True)\n",
    "data.replace(998, 0, inplace=True)\n",
    "data.replace(9998, 0, inplace=True)"
   ]
  },
  {
   "cell_type": "code",
   "execution_count": null,
   "metadata": {
    "collapsed": true
   },
   "outputs": [],
   "source": [
    "len(data[data.CIGTRY == 994])\n",
    "data[data.CIGYFU == 9994]\n",
    "cigtry_avg = round(data.query('CIGTRY > 0 and CIGTRY < 90').CIGTRY.mean())"
   ]
  },
  {
   "cell_type": "code",
   "execution_count": null,
   "metadata": {
    "collapsed": true
   },
   "outputs": [],
   "source": [
    "#Replace \"don't remember\" and \"refused\" with average age of first cig try\n",
    "data.CIGTRY.replace(994, cigtry_avg, inplace=True)\n",
    "data.CIGTRY.replace(997, cigtry_avg, inplace=True)"
   ]
  },
  {
   "cell_type": "code",
   "execution_count": null,
   "metadata": {
    "collapsed": true
   },
   "outputs": [],
   "source": [
    "#Replace \"Don't remember year and month of first cig use\n",
    "data.CIGYFU.replace(9994, 0, inplace=True)\n",
    "data.CIGMFU.replace(94, 0, inplace=True)"
   ]
  },
  {
   "cell_type": "code",
   "execution_count": null,
   "metadata": {
    "collapsed": true
   },
   "outputs": [],
   "source": [
    "alctry_avg = round(data.query('ALCTRY > 0 and ALCTRY < 90').ALCTRY.mean())"
   ]
  },
  {
   "cell_type": "code",
   "execution_count": null,
   "metadata": {
    "collapsed": true
   },
   "outputs": [],
   "source": [
    "data.ALCTRY.replace(997, alctry_avg, inplace=True)"
   ]
  },
  {
   "cell_type": "code",
   "execution_count": null,
   "metadata": {
    "collapsed": true
   },
   "outputs": [],
   "source": [
    "herage_avg = round(data.query('HERAGE > 0 and HERAGE < 80').HERAGE.mean())\n",
    "data.HERAGE.replace(997, herage_avg, inplace=True)\n",
    "data.HERAGE.replace(994, herage_avg, inplace=True)\n",
    "data.HERAGE.replace(985, herage_avg, inplace=True)"
   ]
  },
  {
   "cell_type": "code",
   "execution_count": null,
   "metadata": {
    "collapsed": true
   },
   "outputs": [],
   "source": [
    "cocage_avg = round(data.query('COCAGE > 0 and COCAGE < 80').COCAGE.mean())\n",
    "data.COCAGE.replace(997, cocage_avg, inplace=True)\n",
    "data.COCAGE.replace(994, cocage_avg, inplace=True)\n",
    "data.COCAGE.replace(985, cocage_avg, inplace=True)"
   ]
  },
  {
   "cell_type": "code",
   "execution_count": null,
   "metadata": {
    "collapsed": true
   },
   "outputs": [],
   "source": [
    "mjage_avg = round(data.query('MJAGE > 0 and MJAGE < 80').MJAGE.mean())\n",
    "data.MJAGE.replace(997, mjage_avg, inplace=True)\n",
    "data.MJAGE.replace(994, mjage_avg, inplace=True)\n",
    "data.MJAGE.replace(985, mjage_avg, inplace=True)"
   ]
  },
  {
   "cell_type": "code",
   "execution_count": null,
   "metadata": {
    "collapsed": true
   },
   "outputs": [],
   "source": [
    "stimage_avg = round(data.query('STIMAGE > 0 and STIMAGE < 80').STIMAGE.mean())\n",
    "data.STIMAGE.replace(997, stimage_avg, inplace=True)\n",
    "data.STIMAGE.replace(994, stimage_avg, inplace=True)\n",
    "data.STIMAGE.replace(985, stimage_avg, inplace=True)"
   ]
  },
  {
   "cell_type": "code",
   "execution_count": null,
   "metadata": {
    "collapsed": true
   },
   "outputs": [],
   "source": [
    "ages = ['CIGAGE','CIGTRY', 'ALCTRY','CHEWTRY', 'SLTTRY', 'CIGARTRY', 'MJAGE', 'CRKAGE', 'COCAGE', 'HERAGE', 'LSDAGE', 'PCPAGE', 'ECSAGE', 'INHAGE', 'ANALAGE', 'OXYCAGE','TRANAGE','STIMAGE', 'METHAGE','SEDAGE', 'PSYAGE2']\n",
    "\n",
    "\n"
   ]
  },
  {
   "cell_type": "code",
   "execution_count": null,
   "metadata": {
    "collapsed": true
   },
   "outputs": [],
   "source": [
    "for a in ages:\n",
    "    q = a+'>0 and '+a+'< 80'\n",
    "    avg = round(data.query(q)[a].mean())\n",
    "    data[a].replace(997, avg, inplace=True)\n",
    "    data[a].replace(994, avg, inplace=True)\n",
    "    data[a].replace(985, avg, inplace=True)\n",
    "    data[a].replace(94, avg, inplace=True)\n",
    "    data[a].replace(97, avg, inplace=True)\n"
   ]
  },
  {
   "cell_type": "code",
   "execution_count": null,
   "metadata": {
    "collapsed": true
   },
   "outputs": [],
   "source": [
    "for a in ages:\n",
    "    q = a+'>0 and '+a+'< 80'\n",
    "    avg = round(data.query(q)[a].mean())\n",
    "    data[a].replace(97, avg, inplace=True)\n"
   ]
  },
  {
   "cell_type": "code",
   "execution_count": null,
   "metadata": {
    "collapsed": true
   },
   "outputs": [],
   "source": [
    "cols_of_interest = \n",
    "    ['CIGAGE','CIGTRY', 'ALCTRY','CHEWTRY', 'SLTTRY', 'CIGARTRY', 'MJAGE', 'CRKAGE', 'COCAGE', 'HERAGE', \n",
    "     'LSDAGE', 'PCPAGE', 'ECSAGE', 'INHAGE', 'ANALAGE', 'OXYCAGE','TRANAGE','STIMAGE', 'METHAGE','SEDAGE', \n",
    "     'PSYAGE2', 'CG30EST', 'SN30EST', 'CHEWEVER', 'CI30EST', 'PIPEVER', 'COCEVER', 'COCUS30A', 'AL30EST', \n",
    "     'MR30EST', 'CRKUS30A']\n",
    "    \n",
    "    \n",
    "    \n",
    "    "
   ]
  },
  {
   "cell_type": "code",
   "execution_count": null,
   "metadata": {
    "collapsed": true
   },
   "outputs": [],
   "source": [
    "q = 'SNUFTRY >0 and SNUFTRY < 80'\n",
    "avg = round(data.query(q)['SNUFTRY'].mean())\n",
    "data['SNUFTRY'].replace(94, avg, inplace=True)\n",
    "data['SNUFTRY'].replace(97, avg, inplace=True)\n",
    "data['SNUFTRY'].replace(994, avg, inplace=True)\n",
    "data['SNUFTRY'].replace(997, avg, inplace=True)\n",
    "data['SNUFTRY'].replace(985, avg, inplace=True)\n"
   ]
  },
  {
   "cell_type": "code",
   "execution_count": null,
   "metadata": {
    "collapsed": true
   },
   "outputs": [],
   "source": [
    "q = 'CG30EST >0 and CG30EST < 80'\n",
    "avg = round(data.query(q)['CG30EST'].mean())\n",
    "data['CG30EST'].replace(94, avg, inplace=True)\n",
    "data['CG30EST'].replace(97, avg, inplace=True)"
   ]
  },
  {
   "cell_type": "code",
   "execution_count": null,
   "metadata": {
    "collapsed": true
   },
   "outputs": [],
   "source": [
    "def replace_things(things, col):\n",
    "    q = a+'>0 and '+a+'< 80'\n",
    "    avg = round(data.query(q)[a].mean())\n",
    "    for n in things:\n",
    "        data[col].replace(n, avg, inplace=True)\n"
   ]
  },
  {
   "cell_type": "code",
   "execution_count": null,
   "metadata": {
    "collapsed": true
   },
   "outputs": [],
   "source": [
    "replace_things([94, 97],'SN30EST')\n",
    "replace_things([97],'CHEWEVER')\n",
    "data['CHEWEVER'].replace(94, 0, inplace=True)\n",
    "data['CI30EST'].replace(94, 1, inplace=True)\n",
    "data['CI30EST'].replace(97, 1, inplace=True)\n",
    "data['PIPEVER'].replace(97, 1, inplace=True)\n",
    "data['PIPEVER'].replace(94, 2, inplace=True)\n",
    "replace_things([97, 94, 85],'AL30EST')\n",
    "data['MJEVER'].replace(97, 2, inplace=True)\n",
    "data['MJEVER'].replace(94, 2, inplace=True)\n",
    "replace_things([94, 97],'MR30EST')\n",
    "data.COCEVER.replace(97, 1, inplace=True)\n",
    "data.COCEVER.replace(94, 2, inplace=True)\n",
    "replace_things([97], 'COCUS30A')\n",
    "data.CRKEVER.replace(97, 1, inplace=True)\n",
    "data.CRKEVER.replace(0, 2, inplace=True)\n",
    "replace_things([94, 97], 'CRKUS30A')\n",
    "data.HEREVER.replace(97, 1, inplace=True)\n",
    "data.HEREVER.replace(94, 2, inplace=True)\n",
    "replace_things([97], 'HER30USE')\n",
    "data.HER30USE.replace(85, 1, inplace=True)\n",
    "data.LSD.replace(0, 2, inplace=True)\n",
    "data.LSD.replace(97, 1, inplace=True)\n",
    "data.LSD.replace(94, 2, inplace=True)\n",
    "data.PCP.replace(97, 1, inplace=True)\n",
    "data.PCP.replace(0, 2, inplace=True)\n",
    "data.PCP.replace(94, 2, inplace=True)\n",
    "data.PCP.replace(85, 2, inplace=True)\n",
    "data.PEYOTE.replace(97, 1, inplace=True)\n",
    "data.PEYOTE.replace(0, 2, inplace=True)\n",
    "data.PEYOTE.replace(94, 2, inplace=True)\n",
    "data.PEYOTE.replace(85, 2, inplace=True)\n",
    "data.MESC.replace(97, 1, inplace=True)\n",
    "data.MESC.replace(0, 2, inplace=True)\n",
    "data.MESC.replace(94, 2, inplace=True)\n",
    "data.MESC.replace(85, 2, inplace=True)\n",
    "data.PSILCY.replace(97, 1, inplace=True)\n",
    "data.PSILCY.replace(0, 2, inplace=True)\n",
    "data.PSILCY.replace(94, 2, inplace=True)\n",
    "data.PSILCY.replace(85, 2, inplace=True)\n",
    "data.ECSTASY.replace(97, 1, inplace=True)\n",
    "data.ECSTASY.replace(0, 2, inplace=True)\n",
    "data.ECSTASY.replace(94, 2, inplace=True)\n",
    "data.ECSTASY.replace(85, 2, inplace=True)\n",
    "data.HALNOLST.replace(97, 1, inplace=True)\n",
    "data.HALNOLST.replace(0, 2, inplace=True)\n",
    "data.HALNOLST.replace(94, 2, inplace=True)\n",
    "data.HALNOLST.replace(85, 2, inplace=True)\n",
    "replace_things([97, 994, 985, 997], 'HALLAGE')\n",
    "data.HAL30USE.replace(85, 0, inplace=True)\n",
    "data.HAL30USE.replace(94, 0, inplace=True)\n",
    "replace_things([97], 'HAL30USE')\n",
    "data.OXYCONTN.replace(6, 0, inplace=True)\n",
    "data.OXYCONTN.replace(97, 1, inplace=True)\n",
    "data.OXYCONTN.replace(94, 0, inplace=True)\n",
    "data.CODEINE.replace(97, 1, inplace=True)\n",
    "data.CODEINE.replace(94, 0, inplace=True)\n",
    "data.HYDROCOD.replace(97, 1, inplace=True)\n",
    "data.HYDROCOD.replace(94, 0, inplace=True)\n",
    "data.METHDON.replace(97, 0, inplace=True)\n",
    "data.METHDON.replace(94, 0, inplace=True)\n",
    "data.MORPHINE.replace(97, 1, inplace=True)\n",
    "data.MORPHINE.replace(94, 0, inplace=True)\n",
    "data.KLONOPIN.replace(97, 1, inplace=True)\n",
    "data.KLONOPIN.replace(94, 0, inplace=True)\n",
    "data.XNAXATVN.replace(97, 1, inplace=True)\n",
    "data.XNAXATVN.replace(94, 0, inplace=True)\n",
    "data.VALMDIAZ.replace(97, 1, inplace=True)\n",
    "data.VALMDIAZ.replace(94, 0, inplace=True)\n",
    "data.METHDES.replace(97, 1, inplace=True)\n",
    "data.METHDES.replace(94, 0, inplace=True)\n",
    "data.DIETPILS.replace(97, 1, inplace=True)\n",
    "data.DIETPILS.replace(94, 0, inplace=True)\n",
    "data.RITMPHEN.replace(97, 1, inplace=True)\n",
    "data.RITMPHEN.replace(94, 0, inplace=True)\n",
    "data.STMEVER.replace(97, 1, inplace=True)"
   ]
  },
  {
   "cell_type": "code",
   "execution_count": null,
   "metadata": {
    "collapsed": true
   },
   "outputs": [],
   "source": [
    "data.STMEVER.replace(97, 1, inplace=True)\n",
    "#data.RITMPHEN.replace(94, 0, inplace=True)"
   ]
  },
  {
   "cell_type": "code",
   "execution_count": null,
   "metadata": {},
   "outputs": [],
   "source": [
    "data.STIMAGE.value_counts()"
   ]
  },
  {
   "cell_type": "code",
   "execution_count": null,
   "metadata": {},
   "outputs": [],
   "source": [
    "data.COCUS30A.value_counts()"
   ]
  },
  {
   "cell_type": "code",
   "execution_count": null,
   "metadata": {
    "collapsed": true
   },
   "outputs": [],
   "source": [
    "###--------SQL STUFF------------###\n",
    "#from sqlalchemy import create_engine\n",
    "#import pandas as pd\n",
    "#cnx = create_engine('postgresql://postgres@13.58.136.88:5432/postgres')\n",
    "#pd.read_sql_query('''SELECT LSDAGE FROM drug_data''',cnx)"
   ]
  },
  {
   "cell_type": "code",
   "execution_count": null,
   "metadata": {
    "collapsed": true
   },
   "outputs": [],
   "source": [
    "#data.CIGEVER"
   ]
  },
  {
   "cell_type": "code",
   "execution_count": null,
   "metadata": {
    "collapsed": true
   },
   "outputs": [],
   "source": [
    "import matplotlib.pyplot as plt\n",
    "import seaborn as sns\n",
    "%matplotlib inline\n",
    "#data-to-plot = data['CIGTRY', ]\n",
    "#sns.pairplot(data[:, 1:10])"
   ]
  },
  {
   "cell_type": "code",
   "execution_count": null,
   "metadata": {
    "collapsed": true
   },
   "outputs": [],
   "source": []
  },
  {
   "cell_type": "code",
   "execution_count": null,
   "metadata": {
    "collapsed": true
   },
   "outputs": [],
   "source": [
    "#cols = ['CIGTRY', 'MJREC', 'MJYRTOT', 'MRDAYPYR', 'MRDAYPMO', 'MJDAY30A', 'COCREC', 'COCYRTOT', 'CCDAYPYR', 'CCDAYPMO', 'CRAKREC', 'CRKYRTOT', 'CRDAYPYR', ]"
   ]
  },
  {
   "cell_type": "code",
   "execution_count": null,
   "metadata": {
    "collapsed": true
   },
   "outputs": [],
   "source": [
    "#sns.pairplot(data[cols])"
   ]
  },
  {
   "cell_type": "code",
   "execution_count": null,
   "metadata": {
    "collapsed": true
   },
   "outputs": [],
   "source": []
  }
 ],
 "metadata": {
  "kernelspec": {
   "display_name": "Python 3",
   "language": "python",
   "name": "python3"
  },
  "language_info": {
   "codemirror_mode": {
    "name": "ipython",
    "version": 3
   },
   "file_extension": ".py",
   "mimetype": "text/x-python",
   "name": "python",
   "nbconvert_exporter": "python",
   "pygments_lexer": "ipython3",
   "version": "3.6.1"
  }
 },
 "nbformat": 4,
 "nbformat_minor": 2
}
